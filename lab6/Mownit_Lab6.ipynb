{
 "cells": [
  {
   "cell_type": "markdown",
   "metadata": {},
   "source": [
    "# Zastosowanie wielomianów orgtogonalnych w medycynie obliczeniowej\n"
   ]
  },
  {
   "cell_type": "markdown",
   "metadata": {},
   "source": [
    " Użycie wielomianów ortogonalnych do analizy EKG "
   ]
  },
  {
   "cell_type": "markdown",
   "metadata": {},
   "source": [
    "Instalacja wymaganych pakietów"
   ]
  },
  {
   "cell_type": "code",
   "execution_count": 6,
   "metadata": {},
   "outputs": [],
   "source": [
    "using Pkg"
   ]
  },
  {
   "cell_type": "code",
   "execution_count": 7,
   "metadata": {},
   "outputs": [],
   "source": [
    "# Pkg.add(\"Polynomials\")\n",
    "#Pkg.add(\"SpecialPolynomials\")\n",
    "# Pkg.add(\"Plots\")\n",
    "#Pkg.add(\"CSV\")\n",
    "#Pkg.add(\"DataFrames\")"
   ]
  },
  {
   "cell_type": "code",
   "execution_count": 8,
   "metadata": {},
   "outputs": [],
   "source": [
    "using Polynomials\n",
    "using SpecialPolynomials\n",
    "using Plots\n",
    "using LinearAlgebra\n",
    "using CSV\n",
    "using DataFrames"
   ]
  },
  {
   "cell_type": "markdown",
   "metadata": {},
   "source": [
    "## Teoria"
   ]
  },
  {
   "cell_type": "markdown",
   "metadata": {},
   "source": [
    "**Wielomiany ortogonalne** to rodzina wielomianów, w których iloczyn skalarny dwóch róznych wielomianów jest równa 0.\n",
    "\n",
    "Jeżeli dodatkowo iloczyn skalarny wielomianu \"przez siebie\" jest równy 1, to nazywamy je **wielomianami ortonormalnymi**\n",
    "\n",
    "Iloczyn skalarny wielomianów można zdefiniować jako:\n",
    "\n",
    "$<P_m,P_n>=\\int_a^b P_n(x)P_m(x)W(x)dx = 0$\n",
    "\n",
    "Funkcja *W* jest nazywana *funkcją wagową*."
   ]
  },
  {
   "cell_type": "markdown",
   "metadata": {},
   "source": [
    "### Przykładowe rodziny wielomianów ortogonalnych"
   ]
  },
  {
   "cell_type": "markdown",
   "metadata": {},
   "source": [
    "| Nazwa                | Przedział       | Funkcja wagowa           | Zastosowanie                                           | Parzystość                                                     |\n",
    "|----------------------|-----------------|--------------------------|--------------------------------------------------------|----------------------------------------------------------------|\n",
    "| Czebyszewa (1 rzędu) | [-1,1]          | $\\frac{1}{\\sqrt{1-x^2}}$ | Zera wielomianu jako węzły interpolacji wielomianowej  | Dla parzystego k - parzyste, dla nieparzystego k - nieparzyste |\n",
    "| Legendre             | [-1,1]          | 1                        | Zera wielomianu jako węzły kwadratur Gaussa-Legendre'a | jw                                                             |\n",
    "| Hermite              | [$-\\infty$,$\\infty$] | $\\exp(-x^2)$             | Zera wielomianu jako węzły kwadratur Gaussa-Hermite'a  | jw                                                             |\n",
    "| Laguerre             | [0,$\\infty$]      | $\\exp(-x)$               | Zera wielomianu jako węzły kwadratur Gaussa-Laguerra'a | brak                                                           |\n"
   ]
  },
  {
   "cell_type": "markdown",
   "metadata": {},
   "source": [
    "### Wielomiany Hermite'a"
   ]
  },
  {
   "cell_type": "markdown",
   "metadata": {},
   "source": [
    "Zdefiniowane są rekurencyjnie jako:\n",
    "\n",
    "$H_0(x) = 1$\n",
    "\n",
    "$H_1(x) = 2x$\n",
    "\n",
    "$H_{n+1}(x) = 2xH_n(x)-2nH_{n-1}$"
   ]
  },
  {
   "cell_type": "markdown",
   "metadata": {},
   "source": [
    "Wykres przykładowego wielomianu (tutaj 3 stopnia)"
   ]
  },
  {
   "cell_type": "code",
   "execution_count": 9,
   "metadata": {},
   "outputs": [
    {
     "data": {
      "image/svg+xml": [
       "<?xml version=\"1.0\" encoding=\"utf-8\"?>\n",
       "<svg xmlns=\"http://www.w3.org/2000/svg\" xmlns:xlink=\"http://www.w3.org/1999/xlink\" width=\"600\" height=\"400\" viewBox=\"0 0 2400 1600\">\n",
       "<defs>\n",
       "  <clipPath id=\"clip120\">\n",
       "    <rect x=\"0\" y=\"0\" width=\"2400\" height=\"1600\"/>\n",
       "  </clipPath>\n",
       "</defs>\n",
       "<path clip-path=\"url(#clip120)\" d=\"\n",
       "M0 1600 L2400 1600 L2400 0 L0 0  Z\n",
       "  \" fill=\"#ffffff\" fill-rule=\"evenodd\" fill-opacity=\"1\"/>\n",
       "<defs>\n",
       "  <clipPath id=\"clip121\">\n",
       "    <rect x=\"480\" y=\"0\" width=\"1681\" height=\"1600\"/>\n",
       "  </clipPath>\n",
       "</defs>\n",
       "<path clip-path=\"url(#clip120)\" d=\"\n",
       "M178.867 1486.45 L2352.76 1486.45 L2352.76 47.2441 L178.867 47.2441  Z\n",
       "  \" fill=\"#ffffff\" fill-rule=\"evenodd\" fill-opacity=\"1\"/>\n",
       "<defs>\n",
       "  <clipPath id=\"clip122\">\n",
       "    <rect x=\"178\" y=\"47\" width=\"2175\" height=\"1440\"/>\n",
       "  </clipPath>\n",
       "</defs>\n",
       "<polyline clip-path=\"url(#clip122)\" style=\"stroke:#000000; stroke-linecap:butt; stroke-linejoin:round; stroke-width:2; stroke-opacity:0.1; fill:none\" points=\"\n",
       "  240.392,1486.45 240.392,47.2441 \n",
       "  \"/>\n",
       "<polyline clip-path=\"url(#clip122)\" style=\"stroke:#000000; stroke-linecap:butt; stroke-linejoin:round; stroke-width:2; stroke-opacity:0.1; fill:none\" points=\"\n",
       "  753.102,1486.45 753.102,47.2441 \n",
       "  \"/>\n",
       "<polyline clip-path=\"url(#clip122)\" style=\"stroke:#000000; stroke-linecap:butt; stroke-linejoin:round; stroke-width:2; stroke-opacity:0.1; fill:none\" points=\"\n",
       "  1265.81,1486.45 1265.81,47.2441 \n",
       "  \"/>\n",
       "<polyline clip-path=\"url(#clip122)\" style=\"stroke:#000000; stroke-linecap:butt; stroke-linejoin:round; stroke-width:2; stroke-opacity:0.1; fill:none\" points=\"\n",
       "  1778.52,1486.45 1778.52,47.2441 \n",
       "  \"/>\n",
       "<polyline clip-path=\"url(#clip122)\" style=\"stroke:#000000; stroke-linecap:butt; stroke-linejoin:round; stroke-width:2; stroke-opacity:0.1; fill:none\" points=\"\n",
       "  2291.23,1486.45 2291.23,47.2441 \n",
       "  \"/>\n",
       "<polyline clip-path=\"url(#clip120)\" style=\"stroke:#000000; stroke-linecap:butt; stroke-linejoin:round; stroke-width:4; stroke-opacity:1; fill:none\" points=\"\n",
       "  178.867,1486.45 2352.76,1486.45 \n",
       "  \"/>\n",
       "<polyline clip-path=\"url(#clip120)\" style=\"stroke:#000000; stroke-linecap:butt; stroke-linejoin:round; stroke-width:4; stroke-opacity:1; fill:none\" points=\"\n",
       "  240.392,1486.45 240.392,1467.55 \n",
       "  \"/>\n",
       "<polyline clip-path=\"url(#clip120)\" style=\"stroke:#000000; stroke-linecap:butt; stroke-linejoin:round; stroke-width:4; stroke-opacity:1; fill:none\" points=\"\n",
       "  753.102,1486.45 753.102,1467.55 \n",
       "  \"/>\n",
       "<polyline clip-path=\"url(#clip120)\" style=\"stroke:#000000; stroke-linecap:butt; stroke-linejoin:round; stroke-width:4; stroke-opacity:1; fill:none\" points=\"\n",
       "  1265.81,1486.45 1265.81,1467.55 \n",
       "  \"/>\n",
       "<polyline clip-path=\"url(#clip120)\" style=\"stroke:#000000; stroke-linecap:butt; stroke-linejoin:round; stroke-width:4; stroke-opacity:1; fill:none\" points=\"\n",
       "  1778.52,1486.45 1778.52,1467.55 \n",
       "  \"/>\n",
       "<polyline clip-path=\"url(#clip120)\" style=\"stroke:#000000; stroke-linecap:butt; stroke-linejoin:round; stroke-width:4; stroke-opacity:1; fill:none\" points=\"\n",
       "  2291.23,1486.45 2291.23,1467.55 \n",
       "  \"/>\n",
       "<path clip-path=\"url(#clip120)\" d=\"M210.334 1532.02 L240.01 1532.02 L240.01 1535.95 L210.334 1535.95 L210.334 1532.02 Z\" fill=\"#000000\" fill-rule=\"evenodd\" fill-opacity=\"1\" /><path clip-path=\"url(#clip120)\" d=\"M254.13 1544.91 L270.45 1544.91 L270.45 1548.85 L248.505 1548.85 L248.505 1544.91 Q251.167 1542.16 255.751 1537.53 Q260.357 1532.88 261.538 1531.53 Q263.783 1529.01 264.663 1527.27 Q265.565 1525.51 265.565 1523.82 Q265.565 1521.07 263.621 1519.33 Q261.7 1517.6 258.598 1517.6 Q256.399 1517.6 253.945 1518.36 Q251.514 1519.13 248.737 1520.68 L248.737 1515.95 Q251.561 1514.82 254.014 1514.24 Q256.468 1513.66 258.505 1513.66 Q263.875 1513.66 267.07 1516.35 Q270.264 1519.03 270.264 1523.52 Q270.264 1525.65 269.454 1527.57 Q268.667 1529.47 266.561 1532.07 Q265.982 1532.74 262.88 1535.95 Q259.778 1539.15 254.13 1544.91 Z\" fill=\"#000000\" fill-rule=\"evenodd\" fill-opacity=\"1\" /><path clip-path=\"url(#clip120)\" d=\"M722.859 1532.02 L752.534 1532.02 L752.534 1535.95 L722.859 1535.95 L722.859 1532.02 Z\" fill=\"#000000\" fill-rule=\"evenodd\" fill-opacity=\"1\" /><path clip-path=\"url(#clip120)\" d=\"M763.437 1544.91 L771.076 1544.91 L771.076 1518.55 L762.766 1520.21 L762.766 1515.95 L771.03 1514.29 L775.706 1514.29 L775.706 1544.91 L783.344 1544.91 L783.344 1548.85 L763.437 1548.85 L763.437 1544.91 Z\" fill=\"#000000\" fill-rule=\"evenodd\" fill-opacity=\"1\" /><path clip-path=\"url(#clip120)\" d=\"M1265.81 1517.37 Q1262.2 1517.37 1260.37 1520.93 Q1258.57 1524.47 1258.57 1531.6 Q1258.57 1538.71 1260.37 1542.27 Q1262.2 1545.82 1265.81 1545.82 Q1269.45 1545.82 1271.25 1542.27 Q1273.08 1538.71 1273.08 1531.6 Q1273.08 1524.47 1271.25 1520.93 Q1269.45 1517.37 1265.81 1517.37 M1265.81 1513.66 Q1271.62 1513.66 1274.68 1518.27 Q1277.76 1522.85 1277.76 1531.6 Q1277.76 1540.33 1274.68 1544.94 Q1271.62 1549.52 1265.81 1549.52 Q1260 1549.52 1256.92 1544.94 Q1253.87 1540.33 1253.87 1531.6 Q1253.87 1522.85 1256.92 1518.27 Q1260 1513.66 1265.81 1513.66 Z\" fill=\"#000000\" fill-rule=\"evenodd\" fill-opacity=\"1\" /><path clip-path=\"url(#clip120)\" d=\"M1768.9 1544.91 L1776.54 1544.91 L1776.54 1518.55 L1768.23 1520.21 L1768.23 1515.95 L1776.5 1514.29 L1781.17 1514.29 L1781.17 1544.91 L1788.81 1544.91 L1788.81 1548.85 L1768.9 1548.85 L1768.9 1544.91 Z\" fill=\"#000000\" fill-rule=\"evenodd\" fill-opacity=\"1\" /><path clip-path=\"url(#clip120)\" d=\"M2285.88 1544.91 L2302.2 1544.91 L2302.2 1548.85 L2280.26 1548.85 L2280.26 1544.91 Q2282.92 1542.16 2287.5 1537.53 Q2292.11 1532.88 2293.29 1531.53 Q2295.54 1529.01 2296.42 1527.27 Q2297.32 1525.51 2297.32 1523.82 Q2297.32 1521.07 2295.37 1519.33 Q2293.45 1517.6 2290.35 1517.6 Q2288.15 1517.6 2285.7 1518.36 Q2283.27 1519.13 2280.49 1520.68 L2280.49 1515.95 Q2283.31 1514.82 2285.77 1514.24 Q2288.22 1513.66 2290.26 1513.66 Q2295.63 1513.66 2298.82 1516.35 Q2302.02 1519.03 2302.02 1523.52 Q2302.02 1525.65 2301.21 1527.57 Q2300.42 1529.47 2298.31 1532.07 Q2297.74 1532.74 2294.63 1535.95 Q2291.53 1539.15 2285.88 1544.91 Z\" fill=\"#000000\" fill-rule=\"evenodd\" fill-opacity=\"1\" /><polyline clip-path=\"url(#clip122)\" style=\"stroke:#000000; stroke-linecap:butt; stroke-linejoin:round; stroke-width:2; stroke-opacity:0.1; fill:none\" points=\"\n",
       "  178.867,1445.72 2352.76,1445.72 \n",
       "  \"/>\n",
       "<polyline clip-path=\"url(#clip122)\" style=\"stroke:#000000; stroke-linecap:butt; stroke-linejoin:round; stroke-width:2; stroke-opacity:0.1; fill:none\" points=\"\n",
       "  178.867,1106.28 2352.76,1106.28 \n",
       "  \"/>\n",
       "<polyline clip-path=\"url(#clip122)\" style=\"stroke:#000000; stroke-linecap:butt; stroke-linejoin:round; stroke-width:2; stroke-opacity:0.1; fill:none\" points=\"\n",
       "  178.867,766.846 2352.76,766.846 \n",
       "  \"/>\n",
       "<polyline clip-path=\"url(#clip122)\" style=\"stroke:#000000; stroke-linecap:butt; stroke-linejoin:round; stroke-width:2; stroke-opacity:0.1; fill:none\" points=\"\n",
       "  178.867,427.411 2352.76,427.411 \n",
       "  \"/>\n",
       "<polyline clip-path=\"url(#clip122)\" style=\"stroke:#000000; stroke-linecap:butt; stroke-linejoin:round; stroke-width:2; stroke-opacity:0.1; fill:none\" points=\"\n",
       "  178.867,87.9763 2352.76,87.9763 \n",
       "  \"/>\n",
       "<polyline clip-path=\"url(#clip120)\" style=\"stroke:#000000; stroke-linecap:butt; stroke-linejoin:round; stroke-width:4; stroke-opacity:1; fill:none\" points=\"\n",
       "  178.867,1486.45 178.867,47.2441 \n",
       "  \"/>\n",
       "<polyline clip-path=\"url(#clip120)\" style=\"stroke:#000000; stroke-linecap:butt; stroke-linejoin:round; stroke-width:4; stroke-opacity:1; fill:none\" points=\"\n",
       "  178.867,1445.72 197.764,1445.72 \n",
       "  \"/>\n",
       "<polyline clip-path=\"url(#clip120)\" style=\"stroke:#000000; stroke-linecap:butt; stroke-linejoin:round; stroke-width:4; stroke-opacity:1; fill:none\" points=\"\n",
       "  178.867,1106.28 197.764,1106.28 \n",
       "  \"/>\n",
       "<polyline clip-path=\"url(#clip120)\" style=\"stroke:#000000; stroke-linecap:butt; stroke-linejoin:round; stroke-width:4; stroke-opacity:1; fill:none\" points=\"\n",
       "  178.867,766.846 197.764,766.846 \n",
       "  \"/>\n",
       "<polyline clip-path=\"url(#clip120)\" style=\"stroke:#000000; stroke-linecap:butt; stroke-linejoin:round; stroke-width:4; stroke-opacity:1; fill:none\" points=\"\n",
       "  178.867,427.411 197.764,427.411 \n",
       "  \"/>\n",
       "<polyline clip-path=\"url(#clip120)\" style=\"stroke:#000000; stroke-linecap:butt; stroke-linejoin:round; stroke-width:4; stroke-opacity:1; fill:none\" points=\"\n",
       "  178.867,87.9763 197.764,87.9763 \n",
       "  \"/>\n",
       "<path clip-path=\"url(#clip120)\" d=\"M50.9921 1446.17 L80.6679 1446.17 L80.6679 1450.1 L50.9921 1450.1 L50.9921 1446.17 Z\" fill=\"#000000\" fill-rule=\"evenodd\" fill-opacity=\"1\" /><path clip-path=\"url(#clip120)\" d=\"M103.608 1432.51 L91.8021 1450.96 L103.608 1450.96 L103.608 1432.51 M102.381 1428.44 L108.26 1428.44 L108.26 1450.96 L113.191 1450.96 L113.191 1454.85 L108.26 1454.85 L108.26 1463 L103.608 1463 L103.608 1454.85 L88.0058 1454.85 L88.0058 1450.33 L102.381 1428.44 Z\" fill=\"#000000\" fill-rule=\"evenodd\" fill-opacity=\"1\" /><path clip-path=\"url(#clip120)\" d=\"M130.922 1431.51 Q127.311 1431.51 125.482 1435.08 Q123.677 1438.62 123.677 1445.75 Q123.677 1452.86 125.482 1456.42 Q127.311 1459.96 130.922 1459.96 Q134.556 1459.96 136.362 1456.42 Q138.191 1452.86 138.191 1445.75 Q138.191 1438.62 136.362 1435.08 Q134.556 1431.51 130.922 1431.51 M130.922 1427.81 Q136.732 1427.81 139.788 1432.42 Q142.867 1437 142.867 1445.75 Q142.867 1454.48 139.788 1459.08 Q136.732 1463.67 130.922 1463.67 Q125.112 1463.67 122.033 1459.08 Q118.978 1454.48 118.978 1445.75 Q118.978 1437 122.033 1432.42 Q125.112 1427.81 130.922 1427.81 Z\" fill=\"#000000\" fill-rule=\"evenodd\" fill-opacity=\"1\" /><path clip-path=\"url(#clip120)\" d=\"M50.9921 1106.73 L80.6679 1106.73 L80.6679 1110.67 L50.9921 1110.67 L50.9921 1106.73 Z\" fill=\"#000000\" fill-rule=\"evenodd\" fill-opacity=\"1\" /><path clip-path=\"url(#clip120)\" d=\"M94.7882 1119.63 L111.108 1119.63 L111.108 1123.56 L89.1632 1123.56 L89.1632 1119.63 Q91.8252 1116.87 96.4085 1112.24 Q101.015 1107.59 102.196 1106.25 Q104.441 1103.72 105.321 1101.99 Q106.223 1100.23 106.223 1098.54 Q106.223 1095.78 104.279 1094.05 Q102.358 1092.31 99.2558 1092.31 Q97.0567 1092.31 94.603 1093.07 Q92.1725 1093.84 89.3947 1095.39 L89.3947 1090.67 Q92.2188 1089.53 94.6724 1088.95 Q97.1261 1088.38 99.1632 1088.38 Q104.534 1088.38 107.728 1091.06 Q110.922 1093.75 110.922 1098.24 Q110.922 1100.37 110.112 1102.29 Q109.325 1104.19 107.219 1106.78 Q106.64 1107.45 103.538 1110.67 Q100.436 1113.86 94.7882 1119.63 Z\" fill=\"#000000\" fill-rule=\"evenodd\" fill-opacity=\"1\" /><path clip-path=\"url(#clip120)\" d=\"M130.922 1092.08 Q127.311 1092.08 125.482 1095.64 Q123.677 1099.19 123.677 1106.32 Q123.677 1113.42 125.482 1116.99 Q127.311 1120.53 130.922 1120.53 Q134.556 1120.53 136.362 1116.99 Q138.191 1113.42 138.191 1106.32 Q138.191 1099.19 136.362 1095.64 Q134.556 1092.08 130.922 1092.08 M130.922 1088.38 Q136.732 1088.38 139.788 1092.98 Q142.867 1097.57 142.867 1106.32 Q142.867 1115.04 139.788 1119.65 Q136.732 1124.23 130.922 1124.23 Q125.112 1124.23 122.033 1119.65 Q118.978 1115.04 118.978 1106.32 Q118.978 1097.57 122.033 1092.98 Q125.112 1088.38 130.922 1088.38 Z\" fill=\"#000000\" fill-rule=\"evenodd\" fill-opacity=\"1\" /><path clip-path=\"url(#clip120)\" d=\"M130.922 752.645 Q127.311 752.645 125.482 756.209 Q123.677 759.751 123.677 766.881 Q123.677 773.987 125.482 777.552 Q127.311 781.094 130.922 781.094 Q134.556 781.094 136.362 777.552 Q138.191 773.987 138.191 766.881 Q138.191 759.751 136.362 756.209 Q134.556 752.645 130.922 752.645 M130.922 748.941 Q136.732 748.941 139.788 753.547 Q142.867 758.131 142.867 766.881 Q142.867 775.608 139.788 780.214 Q136.732 784.797 130.922 784.797 Q125.112 784.797 122.033 780.214 Q118.978 775.608 118.978 766.881 Q118.978 758.131 122.033 753.547 Q125.112 748.941 130.922 748.941 Z\" fill=\"#000000\" fill-rule=\"evenodd\" fill-opacity=\"1\" /><path clip-path=\"url(#clip120)\" d=\"M94.7882 440.756 L111.108 440.756 L111.108 444.691 L89.1632 444.691 L89.1632 440.756 Q91.8252 438.001 96.4085 433.372 Q101.015 428.719 102.196 427.376 Q104.441 424.853 105.321 423.117 Q106.223 421.358 106.223 419.668 Q106.223 416.914 104.279 415.177 Q102.358 413.441 99.2558 413.441 Q97.0567 413.441 94.603 414.205 Q92.1725 414.969 89.3947 416.52 L89.3947 411.798 Q92.2188 410.664 94.6724 410.085 Q97.1261 409.506 99.1632 409.506 Q104.534 409.506 107.728 412.191 Q110.922 414.876 110.922 419.367 Q110.922 421.497 110.112 423.418 Q109.325 425.316 107.219 427.909 Q106.64 428.58 103.538 431.798 Q100.436 434.992 94.7882 440.756 Z\" fill=\"#000000\" fill-rule=\"evenodd\" fill-opacity=\"1\" /><path clip-path=\"url(#clip120)\" d=\"M130.922 413.21 Q127.311 413.21 125.482 416.775 Q123.677 420.316 123.677 427.446 Q123.677 434.552 125.482 438.117 Q127.311 441.659 130.922 441.659 Q134.556 441.659 136.362 438.117 Q138.191 434.552 138.191 427.446 Q138.191 420.316 136.362 416.775 Q134.556 413.21 130.922 413.21 M130.922 409.506 Q136.732 409.506 139.788 414.113 Q142.867 418.696 142.867 427.446 Q142.867 436.173 139.788 440.779 Q136.732 445.362 130.922 445.362 Q125.112 445.362 122.033 440.779 Q118.978 436.173 118.978 427.446 Q118.978 418.696 122.033 414.113 Q125.112 409.506 130.922 409.506 Z\" fill=\"#000000\" fill-rule=\"evenodd\" fill-opacity=\"1\" /><path clip-path=\"url(#clip120)\" d=\"M103.608 74.7703 L91.8021 93.2193 L103.608 93.2193 L103.608 74.7703 M102.381 70.6963 L108.26 70.6963 L108.26 93.2193 L113.191 93.2193 L113.191 97.1082 L108.26 97.1082 L108.26 105.256 L103.608 105.256 L103.608 97.1082 L88.0058 97.1082 L88.0058 92.5943 L102.381 70.6963 Z\" fill=\"#000000\" fill-rule=\"evenodd\" fill-opacity=\"1\" /><path clip-path=\"url(#clip120)\" d=\"M130.922 73.775 Q127.311 73.775 125.482 77.3398 Q123.677 80.8814 123.677 88.011 Q123.677 95.1174 125.482 98.6822 Q127.311 102.224 130.922 102.224 Q134.556 102.224 136.362 98.6822 Q138.191 95.1174 138.191 88.011 Q138.191 80.8814 136.362 77.3398 Q134.556 73.775 130.922 73.775 M130.922 70.0713 Q136.732 70.0713 139.788 74.6777 Q142.867 79.261 142.867 88.011 Q142.867 96.7378 139.788 101.344 Q136.732 105.928 130.922 105.928 Q125.112 105.928 122.033 101.344 Q118.978 96.7378 118.978 88.011 Q118.978 79.261 122.033 74.6777 Q125.112 70.0713 130.922 70.0713 Z\" fill=\"#000000\" fill-rule=\"evenodd\" fill-opacity=\"1\" /><polyline clip-path=\"url(#clip122)\" style=\"stroke:#009af9; stroke-linecap:butt; stroke-linejoin:round; stroke-width:4; stroke-opacity:1; fill:none\" points=\"\n",
       "  240.392,1445.72 260.9,1389.99 281.409,1336.81 301.917,1286.14 322.425,1237.91 342.934,1192.09 363.442,1148.61 383.951,1107.43 404.459,1068.49 424.967,1031.73 \n",
       "  445.476,997.119 465.984,964.589 486.492,934.093 507.001,905.579 527.509,878.993 548.018,854.284 568.526,831.401 589.034,810.289 609.543,790.899 630.051,773.176 \n",
       "  650.56,757.07 671.068,742.528 691.576,729.498 712.085,717.928 732.593,707.766 753.102,698.959 773.61,691.456 794.118,685.203 814.627,680.151 835.135,676.245 \n",
       "  855.643,673.434 876.152,671.665 896.66,670.887 917.169,671.048 937.677,672.095 958.185,673.977 978.694,676.64 999.202,680.033 1019.71,684.104 1040.22,688.801 \n",
       "  1060.73,694.071 1081.24,699.863 1101.74,706.124 1122.25,712.801 1142.76,719.844 1163.27,727.2 1183.78,734.816 1204.29,742.641 1224.79,750.623 1245.3,758.708 \n",
       "  1265.81,766.846 1286.32,774.984 1306.83,783.069 1327.34,791.051 1347.84,798.876 1368.35,806.492 1388.86,813.848 1409.37,820.891 1429.88,827.568 1450.39,833.829 \n",
       "  1470.9,839.621 1491.4,844.891 1511.91,849.588 1532.42,853.659 1552.93,857.052 1573.44,859.715 1593.95,861.597 1614.45,862.644 1634.96,862.804 1655.47,862.027 \n",
       "  1675.98,860.258 1696.49,857.447 1717,853.541 1737.5,848.488 1758.01,842.236 1778.52,834.733 1799.03,825.926 1819.54,815.764 1840.05,804.194 1860.55,791.164 \n",
       "  1881.06,776.622 1901.57,760.516 1922.08,742.793 1942.59,723.403 1963.1,702.291 1983.6,679.408 2004.11,654.699 2024.62,628.113 2045.13,599.599 2065.64,569.103 \n",
       "  2086.15,536.573 2106.66,501.959 2127.16,465.206 2147.67,426.264 2168.18,385.08 2188.69,341.602 2209.2,295.778 2229.71,247.555 2250.21,196.882 2270.72,143.707 \n",
       "  2291.23,87.9763 \n",
       "  \"/>\n",
       "<path clip-path=\"url(#clip120)\" d=\"\n",
       "M1884.65 198.898 L2280.29 198.898 L2280.29 95.2176 L1884.65 95.2176  Z\n",
       "  \" fill=\"#ffffff\" fill-rule=\"evenodd\" fill-opacity=\"1\"/>\n",
       "<polyline clip-path=\"url(#clip120)\" style=\"stroke:#000000; stroke-linecap:butt; stroke-linejoin:round; stroke-width:4; stroke-opacity:1; fill:none\" points=\"\n",
       "  1884.65,198.898 2280.29,198.898 2280.29,95.2176 1884.65,95.2176 1884.65,198.898 \n",
       "  \"/>\n",
       "<polyline clip-path=\"url(#clip120)\" style=\"stroke:#009af9; stroke-linecap:butt; stroke-linejoin:round; stroke-width:4; stroke-opacity:1; fill:none\" points=\"\n",
       "  1908.65,147.058 2052.65,147.058 \n",
       "  \"/>\n",
       "<path clip-path=\"url(#clip120)\" d=\"M2077.32 160.402 L2084.96 160.402 L2084.96 134.037 L2076.65 135.703 L2076.65 131.444 L2084.91 129.778 L2089.59 129.778 L2089.59 160.402 L2097.22 160.402 L2097.22 164.338 L2077.32 164.338 L2077.32 160.402 Z\" fill=\"#000000\" fill-rule=\"evenodd\" fill-opacity=\"1\" /><path clip-path=\"url(#clip120)\" d=\"M2106.67 144.94 L2111.55 144.94 L2111.55 150.819 L2106.67 150.819 L2106.67 144.94 Z\" fill=\"#000000\" fill-rule=\"evenodd\" fill-opacity=\"1\" /><path clip-path=\"url(#clip120)\" d=\"M2121.32 129.778 L2126 129.778 L2126 143.944 L2142.99 143.944 L2142.99 129.778 L2147.66 129.778 L2147.66 164.338 L2142.99 164.338 L2142.99 147.879 L2126 147.879 L2126 164.338 L2121.32 164.338 L2121.32 129.778 Z\" fill=\"#000000\" fill-rule=\"evenodd\" fill-opacity=\"1\" /><path clip-path=\"url(#clip120)\" d=\"M2164.45 153.875 Q2166.58 154.291 2167.73 155.564 Q2168.91 156.814 2168.91 158.713 Q2168.91 161.583 2166.71 163.134 Q2164.52 164.685 2160.42 164.685 Q2159.1 164.685 2157.64 164.43 Q2156.21 164.199 2154.59 163.736 L2154.59 160.935 Q2155.79 161.56 2157.15 161.861 Q2158.54 162.162 2160.09 162.162 Q2162.62 162.162 2164.01 161.259 Q2165.4 160.333 2165.4 158.713 Q2165.4 157 2164.1 156.12 Q2162.83 155.24 2160.33 155.24 L2158.33 155.24 L2158.33 152.74 L2160.51 152.74 Q2162.69 152.74 2163.8 152.023 Q2164.93 151.282 2164.93 149.893 Q2164.93 148.551 2163.77 147.856 Q2162.62 147.139 2160.42 147.139 Q2159.49 147.139 2158.31 147.347 Q2157.13 147.555 2155.26 148.088 L2155.26 145.426 Q2156.95 145.032 2158.43 144.824 Q2159.91 144.615 2161.18 144.615 Q2164.52 144.615 2166.46 145.981 Q2168.43 147.347 2168.43 149.639 Q2168.43 151.236 2167.39 152.347 Q2166.34 153.458 2164.45 153.875 Z\" fill=\"#000000\" fill-rule=\"evenodd\" fill-opacity=\"1\" /><path clip-path=\"url(#clip120)\" d=\"M2186.02 128.366 Q2182.92 133.69 2181.41 138.898 Q2179.91 144.106 2179.91 149.453 Q2179.91 154.801 2181.41 160.055 Q2182.94 165.287 2186.02 170.588 L2182.32 170.588 Q2178.84 165.148 2177.11 159.893 Q2175.4 154.639 2175.4 149.453 Q2175.4 144.291 2177.11 139.06 Q2178.82 133.828 2182.32 128.366 L2186.02 128.366 Z\" fill=\"#000000\" fill-rule=\"evenodd\" fill-opacity=\"1\" /><path clip-path=\"url(#clip120)\" d=\"M2215.83 138.412 L2206.46 151.027 L2216.32 164.338 L2211.3 164.338 L2203.75 154.152 L2196.21 164.338 L2191.18 164.338 L2201.25 150.773 L2192.04 138.412 L2197.06 138.412 L2203.94 147.648 L2210.81 138.412 L2215.83 138.412 Z\" fill=\"#000000\" fill-rule=\"evenodd\" fill-opacity=\"1\" /><path clip-path=\"url(#clip120)\" d=\"M2221.67 128.366 L2225.37 128.366 Q2228.84 133.828 2230.56 139.06 Q2232.29 144.291 2232.29 149.453 Q2232.29 154.639 2230.56 159.893 Q2228.84 165.148 2225.37 170.588 L2221.67 170.588 Q2224.75 165.287 2226.25 160.055 Q2227.78 154.801 2227.78 149.453 Q2227.78 144.106 2226.25 138.898 Q2224.75 133.69 2221.67 128.366 Z\" fill=\"#000000\" fill-rule=\"evenodd\" fill-opacity=\"1\" /></svg>\n"
      ]
     },
     "execution_count": 9,
     "metadata": {},
     "output_type": "execute_result"
    }
   ],
   "source": [
    "h3 = Hermite([0, 0, 0, 1])\n",
    "plot(h3, -2, 2)"
   ]
  },
  {
   "cell_type": "markdown",
   "metadata": {},
   "source": [
    "Żeby nie podawać wektora ze współczynnikami kolejnych stopni, można zrobić inaczej"
   ]
  },
  {
   "cell_type": "code",
   "execution_count": 10,
   "metadata": {},
   "outputs": [
    {
     "data": {
      "image/svg+xml": [
       "<?xml version=\"1.0\" encoding=\"utf-8\"?>\n",
       "<svg xmlns=\"http://www.w3.org/2000/svg\" xmlns:xlink=\"http://www.w3.org/1999/xlink\" width=\"600\" height=\"400\" viewBox=\"0 0 2400 1600\">\n",
       "<defs>\n",
       "  <clipPath id=\"clip160\">\n",
       "    <rect x=\"0\" y=\"0\" width=\"2400\" height=\"1600\"/>\n",
       "  </clipPath>\n",
       "</defs>\n",
       "<path clip-path=\"url(#clip160)\" d=\"\n",
       "M0 1600 L2400 1600 L2400 0 L0 0  Z\n",
       "  \" fill=\"#ffffff\" fill-rule=\"evenodd\" fill-opacity=\"1\"/>\n",
       "<defs>\n",
       "  <clipPath id=\"clip161\">\n",
       "    <rect x=\"480\" y=\"0\" width=\"1681\" height=\"1600\"/>\n",
       "  </clipPath>\n",
       "</defs>\n",
       "<path clip-path=\"url(#clip160)\" d=\"\n",
       "M178.867 1486.45 L2352.76 1486.45 L2352.76 47.2441 L178.867 47.2441  Z\n",
       "  \" fill=\"#ffffff\" fill-rule=\"evenodd\" fill-opacity=\"1\"/>\n",
       "<defs>\n",
       "  <clipPath id=\"clip162\">\n",
       "    <rect x=\"178\" y=\"47\" width=\"2175\" height=\"1440\"/>\n",
       "  </clipPath>\n",
       "</defs>\n",
       "<polyline clip-path=\"url(#clip162)\" style=\"stroke:#000000; stroke-linecap:butt; stroke-linejoin:round; stroke-width:2; stroke-opacity:0.1; fill:none\" points=\"\n",
       "  240.392,1486.45 240.392,47.2441 \n",
       "  \"/>\n",
       "<polyline clip-path=\"url(#clip162)\" style=\"stroke:#000000; stroke-linecap:butt; stroke-linejoin:round; stroke-width:2; stroke-opacity:0.1; fill:none\" points=\"\n",
       "  753.102,1486.45 753.102,47.2441 \n",
       "  \"/>\n",
       "<polyline clip-path=\"url(#clip162)\" style=\"stroke:#000000; stroke-linecap:butt; stroke-linejoin:round; stroke-width:2; stroke-opacity:0.1; fill:none\" points=\"\n",
       "  1265.81,1486.45 1265.81,47.2441 \n",
       "  \"/>\n",
       "<polyline clip-path=\"url(#clip162)\" style=\"stroke:#000000; stroke-linecap:butt; stroke-linejoin:round; stroke-width:2; stroke-opacity:0.1; fill:none\" points=\"\n",
       "  1778.52,1486.45 1778.52,47.2441 \n",
       "  \"/>\n",
       "<polyline clip-path=\"url(#clip162)\" style=\"stroke:#000000; stroke-linecap:butt; stroke-linejoin:round; stroke-width:2; stroke-opacity:0.1; fill:none\" points=\"\n",
       "  2291.23,1486.45 2291.23,47.2441 \n",
       "  \"/>\n",
       "<polyline clip-path=\"url(#clip160)\" style=\"stroke:#000000; stroke-linecap:butt; stroke-linejoin:round; stroke-width:4; stroke-opacity:1; fill:none\" points=\"\n",
       "  178.867,1486.45 2352.76,1486.45 \n",
       "  \"/>\n",
       "<polyline clip-path=\"url(#clip160)\" style=\"stroke:#000000; stroke-linecap:butt; stroke-linejoin:round; stroke-width:4; stroke-opacity:1; fill:none\" points=\"\n",
       "  240.392,1486.45 240.392,1467.55 \n",
       "  \"/>\n",
       "<polyline clip-path=\"url(#clip160)\" style=\"stroke:#000000; stroke-linecap:butt; stroke-linejoin:round; stroke-width:4; stroke-opacity:1; fill:none\" points=\"\n",
       "  753.102,1486.45 753.102,1467.55 \n",
       "  \"/>\n",
       "<polyline clip-path=\"url(#clip160)\" style=\"stroke:#000000; stroke-linecap:butt; stroke-linejoin:round; stroke-width:4; stroke-opacity:1; fill:none\" points=\"\n",
       "  1265.81,1486.45 1265.81,1467.55 \n",
       "  \"/>\n",
       "<polyline clip-path=\"url(#clip160)\" style=\"stroke:#000000; stroke-linecap:butt; stroke-linejoin:round; stroke-width:4; stroke-opacity:1; fill:none\" points=\"\n",
       "  1778.52,1486.45 1778.52,1467.55 \n",
       "  \"/>\n",
       "<polyline clip-path=\"url(#clip160)\" style=\"stroke:#000000; stroke-linecap:butt; stroke-linejoin:round; stroke-width:4; stroke-opacity:1; fill:none\" points=\"\n",
       "  2291.23,1486.45 2291.23,1467.55 \n",
       "  \"/>\n",
       "<path clip-path=\"url(#clip160)\" d=\"M210.334 1532.02 L240.01 1532.02 L240.01 1535.95 L210.334 1535.95 L210.334 1532.02 Z\" fill=\"#000000\" fill-rule=\"evenodd\" fill-opacity=\"1\" /><path clip-path=\"url(#clip160)\" d=\"M254.13 1544.91 L270.45 1544.91 L270.45 1548.85 L248.505 1548.85 L248.505 1544.91 Q251.167 1542.16 255.751 1537.53 Q260.357 1532.88 261.538 1531.53 Q263.783 1529.01 264.663 1527.27 Q265.565 1525.51 265.565 1523.82 Q265.565 1521.07 263.621 1519.33 Q261.7 1517.6 258.598 1517.6 Q256.399 1517.6 253.945 1518.36 Q251.514 1519.13 248.737 1520.68 L248.737 1515.95 Q251.561 1514.82 254.014 1514.24 Q256.468 1513.66 258.505 1513.66 Q263.875 1513.66 267.07 1516.35 Q270.264 1519.03 270.264 1523.52 Q270.264 1525.65 269.454 1527.57 Q268.667 1529.47 266.561 1532.07 Q265.982 1532.74 262.88 1535.95 Q259.778 1539.15 254.13 1544.91 Z\" fill=\"#000000\" fill-rule=\"evenodd\" fill-opacity=\"1\" /><path clip-path=\"url(#clip160)\" d=\"M722.859 1532.02 L752.534 1532.02 L752.534 1535.95 L722.859 1535.95 L722.859 1532.02 Z\" fill=\"#000000\" fill-rule=\"evenodd\" fill-opacity=\"1\" /><path clip-path=\"url(#clip160)\" d=\"M763.437 1544.91 L771.076 1544.91 L771.076 1518.55 L762.766 1520.21 L762.766 1515.95 L771.03 1514.29 L775.706 1514.29 L775.706 1544.91 L783.344 1544.91 L783.344 1548.85 L763.437 1548.85 L763.437 1544.91 Z\" fill=\"#000000\" fill-rule=\"evenodd\" fill-opacity=\"1\" /><path clip-path=\"url(#clip160)\" d=\"M1265.81 1517.37 Q1262.2 1517.37 1260.37 1520.93 Q1258.57 1524.47 1258.57 1531.6 Q1258.57 1538.71 1260.37 1542.27 Q1262.2 1545.82 1265.81 1545.82 Q1269.45 1545.82 1271.25 1542.27 Q1273.08 1538.71 1273.08 1531.6 Q1273.08 1524.47 1271.25 1520.93 Q1269.45 1517.37 1265.81 1517.37 M1265.81 1513.66 Q1271.62 1513.66 1274.68 1518.27 Q1277.76 1522.85 1277.76 1531.6 Q1277.76 1540.33 1274.68 1544.94 Q1271.62 1549.52 1265.81 1549.52 Q1260 1549.52 1256.92 1544.94 Q1253.87 1540.33 1253.87 1531.6 Q1253.87 1522.85 1256.92 1518.27 Q1260 1513.66 1265.81 1513.66 Z\" fill=\"#000000\" fill-rule=\"evenodd\" fill-opacity=\"1\" /><path clip-path=\"url(#clip160)\" d=\"M1768.9 1544.91 L1776.54 1544.91 L1776.54 1518.55 L1768.23 1520.21 L1768.23 1515.95 L1776.5 1514.29 L1781.17 1514.29 L1781.17 1544.91 L1788.81 1544.91 L1788.81 1548.85 L1768.9 1548.85 L1768.9 1544.91 Z\" fill=\"#000000\" fill-rule=\"evenodd\" fill-opacity=\"1\" /><path clip-path=\"url(#clip160)\" d=\"M2285.88 1544.91 L2302.2 1544.91 L2302.2 1548.85 L2280.26 1548.85 L2280.26 1544.91 Q2282.92 1542.16 2287.5 1537.53 Q2292.11 1532.88 2293.29 1531.53 Q2295.54 1529.01 2296.42 1527.27 Q2297.32 1525.51 2297.32 1523.82 Q2297.32 1521.07 2295.37 1519.33 Q2293.45 1517.6 2290.35 1517.6 Q2288.15 1517.6 2285.7 1518.36 Q2283.27 1519.13 2280.49 1520.68 L2280.49 1515.95 Q2283.31 1514.82 2285.77 1514.24 Q2288.22 1513.66 2290.26 1513.66 Q2295.63 1513.66 2298.82 1516.35 Q2302.02 1519.03 2302.02 1523.52 Q2302.02 1525.65 2301.21 1527.57 Q2300.42 1529.47 2298.31 1532.07 Q2297.74 1532.74 2294.63 1535.95 Q2291.53 1539.15 2285.88 1544.91 Z\" fill=\"#000000\" fill-rule=\"evenodd\" fill-opacity=\"1\" /><polyline clip-path=\"url(#clip162)\" style=\"stroke:#000000; stroke-linecap:butt; stroke-linejoin:round; stroke-width:2; stroke-opacity:0.1; fill:none\" points=\"\n",
       "  178.867,1445.72 2352.76,1445.72 \n",
       "  \"/>\n",
       "<polyline clip-path=\"url(#clip162)\" style=\"stroke:#000000; stroke-linecap:butt; stroke-linejoin:round; stroke-width:2; stroke-opacity:0.1; fill:none\" points=\"\n",
       "  178.867,1106.28 2352.76,1106.28 \n",
       "  \"/>\n",
       "<polyline clip-path=\"url(#clip162)\" style=\"stroke:#000000; stroke-linecap:butt; stroke-linejoin:round; stroke-width:2; stroke-opacity:0.1; fill:none\" points=\"\n",
       "  178.867,766.846 2352.76,766.846 \n",
       "  \"/>\n",
       "<polyline clip-path=\"url(#clip162)\" style=\"stroke:#000000; stroke-linecap:butt; stroke-linejoin:round; stroke-width:2; stroke-opacity:0.1; fill:none\" points=\"\n",
       "  178.867,427.411 2352.76,427.411 \n",
       "  \"/>\n",
       "<polyline clip-path=\"url(#clip162)\" style=\"stroke:#000000; stroke-linecap:butt; stroke-linejoin:round; stroke-width:2; stroke-opacity:0.1; fill:none\" points=\"\n",
       "  178.867,87.9763 2352.76,87.9763 \n",
       "  \"/>\n",
       "<polyline clip-path=\"url(#clip160)\" style=\"stroke:#000000; stroke-linecap:butt; stroke-linejoin:round; stroke-width:4; stroke-opacity:1; fill:none\" points=\"\n",
       "  178.867,1486.45 178.867,47.2441 \n",
       "  \"/>\n",
       "<polyline clip-path=\"url(#clip160)\" style=\"stroke:#000000; stroke-linecap:butt; stroke-linejoin:round; stroke-width:4; stroke-opacity:1; fill:none\" points=\"\n",
       "  178.867,1445.72 197.764,1445.72 \n",
       "  \"/>\n",
       "<polyline clip-path=\"url(#clip160)\" style=\"stroke:#000000; stroke-linecap:butt; stroke-linejoin:round; stroke-width:4; stroke-opacity:1; fill:none\" points=\"\n",
       "  178.867,1106.28 197.764,1106.28 \n",
       "  \"/>\n",
       "<polyline clip-path=\"url(#clip160)\" style=\"stroke:#000000; stroke-linecap:butt; stroke-linejoin:round; stroke-width:4; stroke-opacity:1; fill:none\" points=\"\n",
       "  178.867,766.846 197.764,766.846 \n",
       "  \"/>\n",
       "<polyline clip-path=\"url(#clip160)\" style=\"stroke:#000000; stroke-linecap:butt; stroke-linejoin:round; stroke-width:4; stroke-opacity:1; fill:none\" points=\"\n",
       "  178.867,427.411 197.764,427.411 \n",
       "  \"/>\n",
       "<polyline clip-path=\"url(#clip160)\" style=\"stroke:#000000; stroke-linecap:butt; stroke-linejoin:round; stroke-width:4; stroke-opacity:1; fill:none\" points=\"\n",
       "  178.867,87.9763 197.764,87.9763 \n",
       "  \"/>\n",
       "<path clip-path=\"url(#clip160)\" d=\"M50.9921 1446.17 L80.6679 1446.17 L80.6679 1450.1 L50.9921 1450.1 L50.9921 1446.17 Z\" fill=\"#000000\" fill-rule=\"evenodd\" fill-opacity=\"1\" /><path clip-path=\"url(#clip160)\" d=\"M103.608 1432.51 L91.8021 1450.96 L103.608 1450.96 L103.608 1432.51 M102.381 1428.44 L108.26 1428.44 L108.26 1450.96 L113.191 1450.96 L113.191 1454.85 L108.26 1454.85 L108.26 1463 L103.608 1463 L103.608 1454.85 L88.0058 1454.85 L88.0058 1450.33 L102.381 1428.44 Z\" fill=\"#000000\" fill-rule=\"evenodd\" fill-opacity=\"1\" /><path clip-path=\"url(#clip160)\" d=\"M130.922 1431.51 Q127.311 1431.51 125.482 1435.08 Q123.677 1438.62 123.677 1445.75 Q123.677 1452.86 125.482 1456.42 Q127.311 1459.96 130.922 1459.96 Q134.556 1459.96 136.362 1456.42 Q138.191 1452.86 138.191 1445.75 Q138.191 1438.62 136.362 1435.08 Q134.556 1431.51 130.922 1431.51 M130.922 1427.81 Q136.732 1427.81 139.788 1432.42 Q142.867 1437 142.867 1445.75 Q142.867 1454.48 139.788 1459.08 Q136.732 1463.67 130.922 1463.67 Q125.112 1463.67 122.033 1459.08 Q118.978 1454.48 118.978 1445.75 Q118.978 1437 122.033 1432.42 Q125.112 1427.81 130.922 1427.81 Z\" fill=\"#000000\" fill-rule=\"evenodd\" fill-opacity=\"1\" /><path clip-path=\"url(#clip160)\" d=\"M50.9921 1106.73 L80.6679 1106.73 L80.6679 1110.67 L50.9921 1110.67 L50.9921 1106.73 Z\" fill=\"#000000\" fill-rule=\"evenodd\" fill-opacity=\"1\" /><path clip-path=\"url(#clip160)\" d=\"M94.7882 1119.63 L111.108 1119.63 L111.108 1123.56 L89.1632 1123.56 L89.1632 1119.63 Q91.8252 1116.87 96.4085 1112.24 Q101.015 1107.59 102.196 1106.25 Q104.441 1103.72 105.321 1101.99 Q106.223 1100.23 106.223 1098.54 Q106.223 1095.78 104.279 1094.05 Q102.358 1092.31 99.2558 1092.31 Q97.0567 1092.31 94.603 1093.07 Q92.1725 1093.84 89.3947 1095.39 L89.3947 1090.67 Q92.2188 1089.53 94.6724 1088.95 Q97.1261 1088.38 99.1632 1088.38 Q104.534 1088.38 107.728 1091.06 Q110.922 1093.75 110.922 1098.24 Q110.922 1100.37 110.112 1102.29 Q109.325 1104.19 107.219 1106.78 Q106.64 1107.45 103.538 1110.67 Q100.436 1113.86 94.7882 1119.63 Z\" fill=\"#000000\" fill-rule=\"evenodd\" fill-opacity=\"1\" /><path clip-path=\"url(#clip160)\" d=\"M130.922 1092.08 Q127.311 1092.08 125.482 1095.64 Q123.677 1099.19 123.677 1106.32 Q123.677 1113.42 125.482 1116.99 Q127.311 1120.53 130.922 1120.53 Q134.556 1120.53 136.362 1116.99 Q138.191 1113.42 138.191 1106.32 Q138.191 1099.19 136.362 1095.64 Q134.556 1092.08 130.922 1092.08 M130.922 1088.38 Q136.732 1088.38 139.788 1092.98 Q142.867 1097.57 142.867 1106.32 Q142.867 1115.04 139.788 1119.65 Q136.732 1124.23 130.922 1124.23 Q125.112 1124.23 122.033 1119.65 Q118.978 1115.04 118.978 1106.32 Q118.978 1097.57 122.033 1092.98 Q125.112 1088.38 130.922 1088.38 Z\" fill=\"#000000\" fill-rule=\"evenodd\" fill-opacity=\"1\" /><path clip-path=\"url(#clip160)\" d=\"M130.922 752.645 Q127.311 752.645 125.482 756.209 Q123.677 759.751 123.677 766.881 Q123.677 773.987 125.482 777.552 Q127.311 781.094 130.922 781.094 Q134.556 781.094 136.362 777.552 Q138.191 773.987 138.191 766.881 Q138.191 759.751 136.362 756.209 Q134.556 752.645 130.922 752.645 M130.922 748.941 Q136.732 748.941 139.788 753.547 Q142.867 758.131 142.867 766.881 Q142.867 775.608 139.788 780.214 Q136.732 784.797 130.922 784.797 Q125.112 784.797 122.033 780.214 Q118.978 775.608 118.978 766.881 Q118.978 758.131 122.033 753.547 Q125.112 748.941 130.922 748.941 Z\" fill=\"#000000\" fill-rule=\"evenodd\" fill-opacity=\"1\" /><path clip-path=\"url(#clip160)\" d=\"M94.7882 440.756 L111.108 440.756 L111.108 444.691 L89.1632 444.691 L89.1632 440.756 Q91.8252 438.001 96.4085 433.372 Q101.015 428.719 102.196 427.376 Q104.441 424.853 105.321 423.117 Q106.223 421.358 106.223 419.668 Q106.223 416.914 104.279 415.177 Q102.358 413.441 99.2558 413.441 Q97.0567 413.441 94.603 414.205 Q92.1725 414.969 89.3947 416.52 L89.3947 411.798 Q92.2188 410.664 94.6724 410.085 Q97.1261 409.506 99.1632 409.506 Q104.534 409.506 107.728 412.191 Q110.922 414.876 110.922 419.367 Q110.922 421.497 110.112 423.418 Q109.325 425.316 107.219 427.909 Q106.64 428.58 103.538 431.798 Q100.436 434.992 94.7882 440.756 Z\" fill=\"#000000\" fill-rule=\"evenodd\" fill-opacity=\"1\" /><path clip-path=\"url(#clip160)\" d=\"M130.922 413.21 Q127.311 413.21 125.482 416.775 Q123.677 420.316 123.677 427.446 Q123.677 434.552 125.482 438.117 Q127.311 441.659 130.922 441.659 Q134.556 441.659 136.362 438.117 Q138.191 434.552 138.191 427.446 Q138.191 420.316 136.362 416.775 Q134.556 413.21 130.922 413.21 M130.922 409.506 Q136.732 409.506 139.788 414.113 Q142.867 418.696 142.867 427.446 Q142.867 436.173 139.788 440.779 Q136.732 445.362 130.922 445.362 Q125.112 445.362 122.033 440.779 Q118.978 436.173 118.978 427.446 Q118.978 418.696 122.033 414.113 Q125.112 409.506 130.922 409.506 Z\" fill=\"#000000\" fill-rule=\"evenodd\" fill-opacity=\"1\" /><path clip-path=\"url(#clip160)\" d=\"M103.608 74.7703 L91.8021 93.2193 L103.608 93.2193 L103.608 74.7703 M102.381 70.6963 L108.26 70.6963 L108.26 93.2193 L113.191 93.2193 L113.191 97.1082 L108.26 97.1082 L108.26 105.256 L103.608 105.256 L103.608 97.1082 L88.0058 97.1082 L88.0058 92.5943 L102.381 70.6963 Z\" fill=\"#000000\" fill-rule=\"evenodd\" fill-opacity=\"1\" /><path clip-path=\"url(#clip160)\" d=\"M130.922 73.775 Q127.311 73.775 125.482 77.3398 Q123.677 80.8814 123.677 88.011 Q123.677 95.1174 125.482 98.6822 Q127.311 102.224 130.922 102.224 Q134.556 102.224 136.362 98.6822 Q138.191 95.1174 138.191 88.011 Q138.191 80.8814 136.362 77.3398 Q134.556 73.775 130.922 73.775 M130.922 70.0713 Q136.732 70.0713 139.788 74.6777 Q142.867 79.261 142.867 88.011 Q142.867 96.7378 139.788 101.344 Q136.732 105.928 130.922 105.928 Q125.112 105.928 122.033 101.344 Q118.978 96.7378 118.978 88.011 Q118.978 79.261 122.033 74.6777 Q125.112 70.0713 130.922 70.0713 Z\" fill=\"#000000\" fill-rule=\"evenodd\" fill-opacity=\"1\" /><polyline clip-path=\"url(#clip162)\" style=\"stroke:#009af9; stroke-linecap:butt; stroke-linejoin:round; stroke-width:4; stroke-opacity:1; fill:none\" points=\"\n",
       "  240.392,1445.72 260.9,1389.99 281.409,1336.81 301.917,1286.14 322.425,1237.91 342.934,1192.09 363.442,1148.61 383.951,1107.43 404.459,1068.49 424.967,1031.73 \n",
       "  445.476,997.119 465.984,964.589 486.492,934.093 507.001,905.579 527.509,878.993 548.018,854.284 568.526,831.401 589.034,810.289 609.543,790.899 630.051,773.176 \n",
       "  650.56,757.07 671.068,742.528 691.576,729.498 712.085,717.928 732.593,707.766 753.102,698.959 773.61,691.456 794.118,685.203 814.627,680.151 835.135,676.245 \n",
       "  855.643,673.434 876.152,671.665 896.66,670.887 917.169,671.048 937.677,672.095 958.185,673.977 978.694,676.64 999.202,680.033 1019.71,684.104 1040.22,688.801 \n",
       "  1060.73,694.071 1081.24,699.863 1101.74,706.124 1122.25,712.801 1142.76,719.844 1163.27,727.2 1183.78,734.816 1204.29,742.641 1224.79,750.623 1245.3,758.708 \n",
       "  1265.81,766.846 1286.32,774.984 1306.83,783.069 1327.34,791.051 1347.84,798.876 1368.35,806.492 1388.86,813.848 1409.37,820.891 1429.88,827.568 1450.39,833.829 \n",
       "  1470.9,839.621 1491.4,844.891 1511.91,849.588 1532.42,853.659 1552.93,857.052 1573.44,859.715 1593.95,861.597 1614.45,862.644 1634.96,862.804 1655.47,862.027 \n",
       "  1675.98,860.258 1696.49,857.447 1717,853.541 1737.5,848.488 1758.01,842.236 1778.52,834.733 1799.03,825.926 1819.54,815.764 1840.05,804.194 1860.55,791.164 \n",
       "  1881.06,776.622 1901.57,760.516 1922.08,742.793 1942.59,723.403 1963.1,702.291 1983.6,679.408 2004.11,654.699 2024.62,628.113 2045.13,599.599 2065.64,569.103 \n",
       "  2086.15,536.573 2106.66,501.959 2127.16,465.206 2147.67,426.264 2168.18,385.08 2188.69,341.602 2209.2,295.778 2229.71,247.555 2250.21,196.882 2270.72,143.707 \n",
       "  2291.23,87.9763 \n",
       "  \"/>\n",
       "<path clip-path=\"url(#clip160)\" d=\"\n",
       "M1839.41 198.898 L2280.29 198.898 L2280.29 95.2176 L1839.41 95.2176  Z\n",
       "  \" fill=\"#ffffff\" fill-rule=\"evenodd\" fill-opacity=\"1\"/>\n",
       "<polyline clip-path=\"url(#clip160)\" style=\"stroke:#000000; stroke-linecap:butt; stroke-linejoin:round; stroke-width:4; stroke-opacity:1; fill:none\" points=\"\n",
       "  1839.41,198.898 2280.29,198.898 2280.29,95.2176 1839.41,95.2176 1839.41,198.898 \n",
       "  \"/>\n",
       "<polyline clip-path=\"url(#clip160)\" style=\"stroke:#009af9; stroke-linecap:butt; stroke-linejoin:round; stroke-width:4; stroke-opacity:1; fill:none\" points=\"\n",
       "  1863.41,147.058 2007.41,147.058 \n",
       "  \"/>\n",
       "<path clip-path=\"url(#clip160)\" d=\"M2032.09 160.402 L2039.72 160.402 L2039.72 134.037 L2031.41 135.703 L2031.41 131.444 L2039.68 129.778 L2044.35 129.778 L2044.35 160.402 L2051.99 160.402 L2051.99 164.338 L2032.09 164.338 L2032.09 160.402 Z\" fill=\"#000000\" fill-rule=\"evenodd\" fill-opacity=\"1\" /><path clip-path=\"url(#clip160)\" d=\"M2061.44 158.458 L2066.32 158.458 L2066.32 164.338 L2061.44 164.338 L2061.44 158.458 Z\" fill=\"#000000\" fill-rule=\"evenodd\" fill-opacity=\"1\" /><path clip-path=\"url(#clip160)\" d=\"M2086.51 132.856 Q2082.9 132.856 2081.07 136.421 Q2079.26 139.963 2079.26 147.092 Q2079.26 154.199 2081.07 157.764 Q2082.9 161.305 2086.51 161.305 Q2090.14 161.305 2091.95 157.764 Q2093.78 154.199 2093.78 147.092 Q2093.78 139.963 2091.95 136.421 Q2090.14 132.856 2086.51 132.856 M2086.51 129.153 Q2092.32 129.153 2095.37 133.759 Q2098.45 138.342 2098.45 147.092 Q2098.45 155.819 2095.37 160.426 Q2092.32 165.009 2086.51 165.009 Q2080.7 165.009 2077.62 160.426 Q2074.56 155.819 2074.56 147.092 Q2074.56 138.342 2077.62 133.759 Q2080.7 129.153 2086.51 129.153 Z\" fill=\"#000000\" fill-rule=\"evenodd\" fill-opacity=\"1\" /><path clip-path=\"url(#clip160)\" d=\"M2106.67 144.94 L2111.55 144.94 L2111.55 150.819 L2106.67 150.819 L2106.67 144.94 Z\" fill=\"#000000\" fill-rule=\"evenodd\" fill-opacity=\"1\" /><path clip-path=\"url(#clip160)\" d=\"M2121.32 129.778 L2126 129.778 L2126 143.944 L2142.99 143.944 L2142.99 129.778 L2147.66 129.778 L2147.66 164.338 L2142.99 164.338 L2142.99 147.879 L2126 147.879 L2126 164.338 L2121.32 164.338 L2121.32 129.778 Z\" fill=\"#000000\" fill-rule=\"evenodd\" fill-opacity=\"1\" /><path clip-path=\"url(#clip160)\" d=\"M2164.45 153.875 Q2166.58 154.291 2167.73 155.564 Q2168.91 156.814 2168.91 158.713 Q2168.91 161.583 2166.71 163.134 Q2164.52 164.685 2160.42 164.685 Q2159.1 164.685 2157.64 164.43 Q2156.21 164.199 2154.59 163.736 L2154.59 160.935 Q2155.79 161.56 2157.15 161.861 Q2158.54 162.162 2160.09 162.162 Q2162.62 162.162 2164.01 161.259 Q2165.4 160.333 2165.4 158.713 Q2165.4 157 2164.1 156.12 Q2162.83 155.24 2160.33 155.24 L2158.33 155.24 L2158.33 152.74 L2160.51 152.74 Q2162.69 152.74 2163.8 152.023 Q2164.93 151.282 2164.93 149.893 Q2164.93 148.551 2163.77 147.856 Q2162.62 147.139 2160.42 147.139 Q2159.49 147.139 2158.31 147.347 Q2157.13 147.555 2155.26 148.088 L2155.26 145.426 Q2156.95 145.032 2158.43 144.824 Q2159.91 144.615 2161.18 144.615 Q2164.52 144.615 2166.46 145.981 Q2168.43 147.347 2168.43 149.639 Q2168.43 151.236 2167.39 152.347 Q2166.34 153.458 2164.45 153.875 Z\" fill=\"#000000\" fill-rule=\"evenodd\" fill-opacity=\"1\" /><path clip-path=\"url(#clip160)\" d=\"M2186.02 128.366 Q2182.92 133.69 2181.41 138.898 Q2179.91 144.106 2179.91 149.453 Q2179.91 154.801 2181.41 160.055 Q2182.94 165.287 2186.02 170.588 L2182.32 170.588 Q2178.84 165.148 2177.11 159.893 Q2175.4 154.639 2175.4 149.453 Q2175.4 144.291 2177.11 139.06 Q2178.82 133.828 2182.32 128.366 L2186.02 128.366 Z\" fill=\"#000000\" fill-rule=\"evenodd\" fill-opacity=\"1\" /><path clip-path=\"url(#clip160)\" d=\"M2215.83 138.412 L2206.46 151.027 L2216.32 164.338 L2211.3 164.338 L2203.75 154.152 L2196.21 164.338 L2191.18 164.338 L2201.25 150.773 L2192.04 138.412 L2197.06 138.412 L2203.94 147.648 L2210.81 138.412 L2215.83 138.412 Z\" fill=\"#000000\" fill-rule=\"evenodd\" fill-opacity=\"1\" /><path clip-path=\"url(#clip160)\" d=\"M2221.67 128.366 L2225.37 128.366 Q2228.84 133.828 2230.56 139.06 Q2232.29 144.291 2232.29 149.453 Q2232.29 154.639 2230.56 159.893 Q2228.84 165.148 2225.37 170.588 L2221.67 170.588 Q2224.75 165.287 2226.25 160.055 Q2227.78 154.801 2227.78 149.453 Q2227.78 144.106 2226.25 138.898 Q2224.75 133.69 2221.67 128.366 Z\" fill=\"#000000\" fill-rule=\"evenodd\" fill-opacity=\"1\" /></svg>\n"
      ]
     },
     "execution_count": 10,
     "metadata": {},
     "output_type": "execute_result"
    }
   ],
   "source": [
    "h4 = basis(Hermite, 3)\n",
    "plot(h4, -2, 2)"
   ]
  },
  {
   "cell_type": "markdown",
   "metadata": {},
   "source": [
    "### Przykład aproksymacji"
   ]
  },
  {
   "cell_type": "markdown",
   "metadata": {},
   "source": [
    "Spróbujemy dokonać aproksymacji zaszumionej funkcji `cos` wykorzystując rodzinę wielomianów ortogonalnych Hermite'a."
   ]
  },
  {
   "cell_type": "code",
   "execution_count": 11,
   "metadata": {
    "scrolled": true
   },
   "outputs": [],
   "source": [
    "# Definicja węzłów\n",
    "xx = -5:.1:5\n",
    "yy = cos.(xx/3 .+.2).^2 .+ rand(length(xx))/5;"
   ]
  },
  {
   "cell_type": "code",
   "execution_count": 12,
   "metadata": {
    "scrolled": false
   },
   "outputs": [
    {
     "data": {
      "image/svg+xml": [
       "<?xml version=\"1.0\" encoding=\"utf-8\"?>\n",
       "<svg xmlns=\"http://www.w3.org/2000/svg\" xmlns:xlink=\"http://www.w3.org/1999/xlink\" width=\"600\" height=\"400\" viewBox=\"0 0 2400 1600\">\n",
       "<defs>\n",
       "  <clipPath id=\"clip200\">\n",
       "    <rect x=\"0\" y=\"0\" width=\"2400\" height=\"1600\"/>\n",
       "  </clipPath>\n",
       "</defs>\n",
       "<path clip-path=\"url(#clip200)\" d=\"\n",
       "M0 1600 L2400 1600 L2400 0 L0 0  Z\n",
       "  \" fill=\"#ffffff\" fill-rule=\"evenodd\" fill-opacity=\"1\"/>\n",
       "<defs>\n",
       "  <clipPath id=\"clip201\">\n",
       "    <rect x=\"480\" y=\"0\" width=\"1681\" height=\"1600\"/>\n",
       "  </clipPath>\n",
       "</defs>\n",
       "<path clip-path=\"url(#clip200)\" d=\"\n",
       "M186.274 1486.45 L2352.76 1486.45 L2352.76 47.2441 L186.274 47.2441  Z\n",
       "  \" fill=\"#ffffff\" fill-rule=\"evenodd\" fill-opacity=\"1\"/>\n",
       "<defs>\n",
       "  <clipPath id=\"clip202\">\n",
       "    <rect x=\"186\" y=\"47\" width=\"2167\" height=\"1440\"/>\n",
       "  </clipPath>\n",
       "</defs>\n",
       "<polyline clip-path=\"url(#clip202)\" style=\"stroke:#000000; stroke-linecap:butt; stroke-linejoin:round; stroke-width:2; stroke-opacity:0.1; fill:none\" points=\"\n",
       "  451.975,1486.45 451.975,47.2441 \n",
       "  \"/>\n",
       "<polyline clip-path=\"url(#clip202)\" style=\"stroke:#000000; stroke-linecap:butt; stroke-linejoin:round; stroke-width:2; stroke-opacity:0.1; fill:none\" points=\"\n",
       "  860.745,1486.45 860.745,47.2441 \n",
       "  \"/>\n",
       "<polyline clip-path=\"url(#clip202)\" style=\"stroke:#000000; stroke-linecap:butt; stroke-linejoin:round; stroke-width:2; stroke-opacity:0.1; fill:none\" points=\"\n",
       "  1269.51,1486.45 1269.51,47.2441 \n",
       "  \"/>\n",
       "<polyline clip-path=\"url(#clip202)\" style=\"stroke:#000000; stroke-linecap:butt; stroke-linejoin:round; stroke-width:2; stroke-opacity:0.1; fill:none\" points=\"\n",
       "  1678.29,1486.45 1678.29,47.2441 \n",
       "  \"/>\n",
       "<polyline clip-path=\"url(#clip202)\" style=\"stroke:#000000; stroke-linecap:butt; stroke-linejoin:round; stroke-width:2; stroke-opacity:0.1; fill:none\" points=\"\n",
       "  2087.06,1486.45 2087.06,47.2441 \n",
       "  \"/>\n",
       "<polyline clip-path=\"url(#clip200)\" style=\"stroke:#000000; stroke-linecap:butt; stroke-linejoin:round; stroke-width:4; stroke-opacity:1; fill:none\" points=\"\n",
       "  186.274,1486.45 2352.76,1486.45 \n",
       "  \"/>\n",
       "<polyline clip-path=\"url(#clip200)\" style=\"stroke:#000000; stroke-linecap:butt; stroke-linejoin:round; stroke-width:4; stroke-opacity:1; fill:none\" points=\"\n",
       "  451.975,1486.45 451.975,1467.55 \n",
       "  \"/>\n",
       "<polyline clip-path=\"url(#clip200)\" style=\"stroke:#000000; stroke-linecap:butt; stroke-linejoin:round; stroke-width:4; stroke-opacity:1; fill:none\" points=\"\n",
       "  860.745,1486.45 860.745,1467.55 \n",
       "  \"/>\n",
       "<polyline clip-path=\"url(#clip200)\" style=\"stroke:#000000; stroke-linecap:butt; stroke-linejoin:round; stroke-width:4; stroke-opacity:1; fill:none\" points=\"\n",
       "  1269.51,1486.45 1269.51,1467.55 \n",
       "  \"/>\n",
       "<polyline clip-path=\"url(#clip200)\" style=\"stroke:#000000; stroke-linecap:butt; stroke-linejoin:round; stroke-width:4; stroke-opacity:1; fill:none\" points=\"\n",
       "  1678.29,1486.45 1678.29,1467.55 \n",
       "  \"/>\n",
       "<polyline clip-path=\"url(#clip200)\" style=\"stroke:#000000; stroke-linecap:butt; stroke-linejoin:round; stroke-width:4; stroke-opacity:1; fill:none\" points=\"\n",
       "  2087.06,1486.45 2087.06,1467.55 \n",
       "  \"/>\n",
       "<path clip-path=\"url(#clip200)\" d=\"M420.875 1532.02 L450.551 1532.02 L450.551 1535.95 L420.875 1535.95 L420.875 1532.02 Z\" fill=\"#000000\" fill-rule=\"evenodd\" fill-opacity=\"1\" /><path clip-path=\"url(#clip200)\" d=\"M473.491 1518.36 L461.685 1536.81 L473.491 1536.81 L473.491 1518.36 M472.264 1514.29 L478.143 1514.29 L478.143 1536.81 L483.074 1536.81 L483.074 1540.7 L478.143 1540.7 L478.143 1548.85 L473.491 1548.85 L473.491 1540.7 L457.889 1540.7 L457.889 1536.19 L472.264 1514.29 Z\" fill=\"#000000\" fill-rule=\"evenodd\" fill-opacity=\"1\" /><path clip-path=\"url(#clip200)\" d=\"M830.687 1532.02 L860.363 1532.02 L860.363 1535.95 L830.687 1535.95 L830.687 1532.02 Z\" fill=\"#000000\" fill-rule=\"evenodd\" fill-opacity=\"1\" /><path clip-path=\"url(#clip200)\" d=\"M874.483 1544.91 L890.802 1544.91 L890.802 1548.85 L868.858 1548.85 L868.858 1544.91 Q871.52 1542.16 876.103 1537.53 Q880.71 1532.88 881.891 1531.53 Q884.136 1529.01 885.015 1527.27 Q885.918 1525.51 885.918 1523.82 Q885.918 1521.07 883.974 1519.33 Q882.053 1517.6 878.951 1517.6 Q876.752 1517.6 874.298 1518.36 Q871.867 1519.13 869.09 1520.68 L869.09 1515.95 Q871.914 1514.82 874.367 1514.24 Q876.821 1513.66 878.858 1513.66 Q884.228 1513.66 887.423 1516.35 Q890.617 1519.03 890.617 1523.52 Q890.617 1525.65 889.807 1527.57 Q889.02 1529.47 886.914 1532.07 Q886.335 1532.74 883.233 1535.95 Q880.131 1539.15 874.483 1544.91 Z\" fill=\"#000000\" fill-rule=\"evenodd\" fill-opacity=\"1\" /><path clip-path=\"url(#clip200)\" d=\"M1269.51 1517.37 Q1265.9 1517.37 1264.08 1520.93 Q1262.27 1524.47 1262.27 1531.6 Q1262.27 1538.71 1264.08 1542.27 Q1265.9 1545.82 1269.51 1545.82 Q1273.15 1545.82 1274.95 1542.27 Q1276.78 1538.71 1276.78 1531.6 Q1276.78 1524.47 1274.95 1520.93 Q1273.15 1517.37 1269.51 1517.37 M1269.51 1513.66 Q1275.33 1513.66 1278.38 1518.27 Q1281.46 1522.85 1281.46 1531.6 Q1281.46 1540.33 1278.38 1544.94 Q1275.33 1549.52 1269.51 1549.52 Q1263.7 1549.52 1260.63 1544.94 Q1257.57 1540.33 1257.57 1531.6 Q1257.57 1522.85 1260.63 1518.27 Q1263.7 1513.66 1269.51 1513.66 Z\" fill=\"#000000\" fill-rule=\"evenodd\" fill-opacity=\"1\" /><path clip-path=\"url(#clip200)\" d=\"M1672.94 1544.91 L1689.26 1544.91 L1689.26 1548.85 L1667.31 1548.85 L1667.31 1544.91 Q1669.97 1542.16 1674.56 1537.53 Q1679.16 1532.88 1680.35 1531.53 Q1682.59 1529.01 1683.47 1527.27 Q1684.37 1525.51 1684.37 1523.82 Q1684.37 1521.07 1682.43 1519.33 Q1680.51 1517.6 1677.41 1517.6 Q1675.21 1517.6 1672.75 1518.36 Q1670.32 1519.13 1667.54 1520.68 L1667.54 1515.95 Q1670.37 1514.82 1672.82 1514.24 Q1675.28 1513.66 1677.31 1513.66 Q1682.68 1513.66 1685.88 1516.35 Q1689.07 1519.03 1689.07 1523.52 Q1689.07 1525.65 1688.26 1527.57 Q1687.47 1529.47 1685.37 1532.07 Q1684.79 1532.74 1681.69 1535.95 Q1678.59 1539.15 1672.94 1544.91 Z\" fill=\"#000000\" fill-rule=\"evenodd\" fill-opacity=\"1\" /><path clip-path=\"url(#clip200)\" d=\"M2090.06 1518.36 L2078.26 1536.81 L2090.06 1536.81 L2090.06 1518.36 M2088.84 1514.29 L2094.72 1514.29 L2094.72 1536.81 L2099.65 1536.81 L2099.65 1540.7 L2094.72 1540.7 L2094.72 1548.85 L2090.06 1548.85 L2090.06 1540.7 L2074.46 1540.7 L2074.46 1536.19 L2088.84 1514.29 Z\" fill=\"#000000\" fill-rule=\"evenodd\" fill-opacity=\"1\" /><polyline clip-path=\"url(#clip202)\" style=\"stroke:#000000; stroke-linecap:butt; stroke-linejoin:round; stroke-width:2; stroke-opacity:0.1; fill:none\" points=\"\n",
       "  186.274,1480.57 2352.76,1480.57 \n",
       "  \"/>\n",
       "<polyline clip-path=\"url(#clip202)\" style=\"stroke:#000000; stroke-linecap:butt; stroke-linejoin:round; stroke-width:2; stroke-opacity:0.1; fill:none\" points=\"\n",
       "  186.274,1188.02 2352.76,1188.02 \n",
       "  \"/>\n",
       "<polyline clip-path=\"url(#clip202)\" style=\"stroke:#000000; stroke-linecap:butt; stroke-linejoin:round; stroke-width:2; stroke-opacity:0.1; fill:none\" points=\"\n",
       "  186.274,895.462 2352.76,895.462 \n",
       "  \"/>\n",
       "<polyline clip-path=\"url(#clip202)\" style=\"stroke:#000000; stroke-linecap:butt; stroke-linejoin:round; stroke-width:2; stroke-opacity:0.1; fill:none\" points=\"\n",
       "  186.274,602.908 2352.76,602.908 \n",
       "  \"/>\n",
       "<polyline clip-path=\"url(#clip202)\" style=\"stroke:#000000; stroke-linecap:butt; stroke-linejoin:round; stroke-width:2; stroke-opacity:0.1; fill:none\" points=\"\n",
       "  186.274,310.355 2352.76,310.355 \n",
       "  \"/>\n",
       "<polyline clip-path=\"url(#clip200)\" style=\"stroke:#000000; stroke-linecap:butt; stroke-linejoin:round; stroke-width:4; stroke-opacity:1; fill:none\" points=\"\n",
       "  186.274,1486.45 186.274,47.2441 \n",
       "  \"/>\n",
       "<polyline clip-path=\"url(#clip200)\" style=\"stroke:#000000; stroke-linecap:butt; stroke-linejoin:round; stroke-width:4; stroke-opacity:1; fill:none\" points=\"\n",
       "  186.274,1480.57 205.172,1480.57 \n",
       "  \"/>\n",
       "<polyline clip-path=\"url(#clip200)\" style=\"stroke:#000000; stroke-linecap:butt; stroke-linejoin:round; stroke-width:4; stroke-opacity:1; fill:none\" points=\"\n",
       "  186.274,1188.02 205.172,1188.02 \n",
       "  \"/>\n",
       "<polyline clip-path=\"url(#clip200)\" style=\"stroke:#000000; stroke-linecap:butt; stroke-linejoin:round; stroke-width:4; stroke-opacity:1; fill:none\" points=\"\n",
       "  186.274,895.462 205.172,895.462 \n",
       "  \"/>\n",
       "<polyline clip-path=\"url(#clip200)\" style=\"stroke:#000000; stroke-linecap:butt; stroke-linejoin:round; stroke-width:4; stroke-opacity:1; fill:none\" points=\"\n",
       "  186.274,602.908 205.172,602.908 \n",
       "  \"/>\n",
       "<polyline clip-path=\"url(#clip200)\" style=\"stroke:#000000; stroke-linecap:butt; stroke-linejoin:round; stroke-width:4; stroke-opacity:1; fill:none\" points=\"\n",
       "  186.274,310.355 205.172,310.355 \n",
       "  \"/>\n",
       "<path clip-path=\"url(#clip200)\" d=\"M62.9365 1466.37 Q59.3254 1466.37 57.4967 1469.93 Q55.6912 1473.47 55.6912 1480.6 Q55.6912 1487.71 57.4967 1491.28 Q59.3254 1494.82 62.9365 1494.82 Q66.5707 1494.82 68.3763 1491.28 Q70.205 1487.71 70.205 1480.6 Q70.205 1473.47 68.3763 1469.93 Q66.5707 1466.37 62.9365 1466.37 M62.9365 1462.66 Q68.7467 1462.66 71.8022 1467.27 Q74.8809 1471.85 74.8809 1480.6 Q74.8809 1489.33 71.8022 1493.94 Q68.7467 1498.52 62.9365 1498.52 Q57.1264 1498.52 54.0477 1493.94 Q50.9921 1489.33 50.9921 1480.6 Q50.9921 1471.85 54.0477 1467.27 Q57.1264 1462.66 62.9365 1462.66 Z\" fill=\"#000000\" fill-rule=\"evenodd\" fill-opacity=\"1\" /><path clip-path=\"url(#clip200)\" d=\"M83.0984 1491.97 L87.9827 1491.97 L87.9827 1497.85 L83.0984 1497.85 L83.0984 1491.97 Z\" fill=\"#000000\" fill-rule=\"evenodd\" fill-opacity=\"1\" /><path clip-path=\"url(#clip200)\" d=\"M108.168 1466.37 Q104.557 1466.37 102.728 1469.93 Q100.922 1473.47 100.922 1480.6 Q100.922 1487.71 102.728 1491.28 Q104.557 1494.82 108.168 1494.82 Q111.802 1494.82 113.608 1491.28 Q115.436 1487.71 115.436 1480.6 Q115.436 1473.47 113.608 1469.93 Q111.802 1466.37 108.168 1466.37 M108.168 1462.66 Q113.978 1462.66 117.033 1467.27 Q120.112 1471.85 120.112 1480.6 Q120.112 1489.33 117.033 1493.94 Q113.978 1498.52 108.168 1498.52 Q102.358 1498.52 99.2789 1493.94 Q96.2234 1489.33 96.2234 1480.6 Q96.2234 1471.85 99.2789 1467.27 Q102.358 1462.66 108.168 1462.66 Z\" fill=\"#000000\" fill-rule=\"evenodd\" fill-opacity=\"1\" /><path clip-path=\"url(#clip200)\" d=\"M138.33 1466.37 Q134.719 1466.37 132.89 1469.93 Q131.084 1473.47 131.084 1480.6 Q131.084 1487.71 132.89 1491.28 Q134.719 1494.82 138.33 1494.82 Q141.964 1494.82 143.769 1491.28 Q145.598 1487.71 145.598 1480.6 Q145.598 1473.47 143.769 1469.93 Q141.964 1466.37 138.33 1466.37 M138.33 1462.66 Q144.14 1462.66 147.195 1467.27 Q150.274 1471.85 150.274 1480.6 Q150.274 1489.33 147.195 1493.94 Q144.14 1498.52 138.33 1498.52 Q132.519 1498.52 129.441 1493.94 Q126.385 1489.33 126.385 1480.6 Q126.385 1471.85 129.441 1467.27 Q132.519 1462.66 138.33 1462.66 Z\" fill=\"#000000\" fill-rule=\"evenodd\" fill-opacity=\"1\" /><path clip-path=\"url(#clip200)\" d=\"M63.9319 1173.81 Q60.3208 1173.81 58.4921 1177.38 Q56.6865 1180.92 56.6865 1188.05 Q56.6865 1195.16 58.4921 1198.72 Q60.3208 1202.26 63.9319 1202.26 Q67.5661 1202.26 69.3717 1198.72 Q71.2004 1195.16 71.2004 1188.05 Q71.2004 1180.92 69.3717 1177.38 Q67.5661 1173.81 63.9319 1173.81 M63.9319 1170.11 Q69.742 1170.11 72.7976 1174.72 Q75.8763 1179.3 75.8763 1188.05 Q75.8763 1196.78 72.7976 1201.38 Q69.742 1205.97 63.9319 1205.97 Q58.1217 1205.97 55.043 1201.38 Q51.9875 1196.78 51.9875 1188.05 Q51.9875 1179.3 55.043 1174.72 Q58.1217 1170.11 63.9319 1170.11 Z\" fill=\"#000000\" fill-rule=\"evenodd\" fill-opacity=\"1\" /><path clip-path=\"url(#clip200)\" d=\"M84.0938 1199.42 L88.978 1199.42 L88.978 1205.3 L84.0938 1205.3 L84.0938 1199.42 Z\" fill=\"#000000\" fill-rule=\"evenodd\" fill-opacity=\"1\" /><path clip-path=\"url(#clip200)\" d=\"M103.191 1201.36 L119.51 1201.36 L119.51 1205.3 L97.566 1205.3 L97.566 1201.36 Q100.228 1198.61 104.811 1193.98 Q109.418 1189.32 110.598 1187.98 Q112.844 1185.46 113.723 1183.72 Q114.626 1181.96 114.626 1180.27 Q114.626 1177.52 112.682 1175.78 Q110.76 1174.05 107.658 1174.05 Q105.459 1174.05 103.006 1174.81 Q100.575 1175.57 97.7974 1177.12 L97.7974 1172.4 Q100.621 1171.27 103.075 1170.69 Q105.529 1170.11 107.566 1170.11 Q112.936 1170.11 116.131 1172.8 Q119.325 1175.48 119.325 1179.97 Q119.325 1182.1 118.515 1184.02 Q117.728 1185.92 115.621 1188.51 Q115.043 1189.18 111.941 1192.4 Q108.839 1195.6 103.191 1201.36 Z\" fill=\"#000000\" fill-rule=\"evenodd\" fill-opacity=\"1\" /><path clip-path=\"url(#clip200)\" d=\"M129.371 1170.74 L147.728 1170.74 L147.728 1174.67 L133.654 1174.67 L133.654 1183.14 Q134.672 1182.8 135.691 1182.63 Q136.709 1182.45 137.728 1182.45 Q143.515 1182.45 146.894 1185.62 Q150.274 1188.79 150.274 1194.21 Q150.274 1199.79 146.802 1202.89 Q143.33 1205.97 137.01 1205.97 Q134.834 1205.97 132.566 1205.6 Q130.32 1205.23 127.913 1204.49 L127.913 1199.79 Q129.996 1200.92 132.219 1201.48 Q134.441 1202.03 136.918 1202.03 Q140.922 1202.03 143.26 1199.93 Q145.598 1197.82 145.598 1194.21 Q145.598 1190.6 143.26 1188.49 Q140.922 1186.38 136.918 1186.38 Q135.043 1186.38 133.168 1186.8 Q131.316 1187.22 129.371 1188.1 L129.371 1170.74 Z\" fill=\"#000000\" fill-rule=\"evenodd\" fill-opacity=\"1\" /><path clip-path=\"url(#clip200)\" d=\"M62.9365 881.261 Q59.3254 881.261 57.4967 884.826 Q55.6912 888.367 55.6912 895.497 Q55.6912 902.603 57.4967 906.168 Q59.3254 909.71 62.9365 909.71 Q66.5707 909.71 68.3763 906.168 Q70.205 902.603 70.205 895.497 Q70.205 888.367 68.3763 884.826 Q66.5707 881.261 62.9365 881.261 M62.9365 877.557 Q68.7467 877.557 71.8022 882.164 Q74.8809 886.747 74.8809 895.497 Q74.8809 904.224 71.8022 908.83 Q68.7467 913.413 62.9365 913.413 Q57.1264 913.413 54.0477 908.83 Q50.9921 904.224 50.9921 895.497 Q50.9921 886.747 54.0477 882.164 Q57.1264 877.557 62.9365 877.557 Z\" fill=\"#000000\" fill-rule=\"evenodd\" fill-opacity=\"1\" /><path clip-path=\"url(#clip200)\" d=\"M83.0984 906.863 L87.9827 906.863 L87.9827 912.742 L83.0984 912.742 L83.0984 906.863 Z\" fill=\"#000000\" fill-rule=\"evenodd\" fill-opacity=\"1\" /><path clip-path=\"url(#clip200)\" d=\"M98.2141 878.182 L116.57 878.182 L116.57 882.117 L102.496 882.117 L102.496 890.589 Q103.515 890.242 104.534 890.08 Q105.552 889.895 106.571 889.895 Q112.358 889.895 115.737 893.066 Q119.117 896.238 119.117 901.654 Q119.117 907.233 115.645 910.335 Q112.172 913.413 105.853 913.413 Q103.677 913.413 101.409 913.043 Q99.1632 912.673 96.7558 911.932 L96.7558 907.233 Q98.8391 908.367 101.061 908.923 Q103.284 909.478 105.76 909.478 Q109.765 909.478 112.103 907.372 Q114.441 905.265 114.441 901.654 Q114.441 898.043 112.103 895.937 Q109.765 893.83 105.76 893.83 Q103.885 893.83 102.01 894.247 Q100.159 894.664 98.2141 895.543 L98.2141 878.182 Z\" fill=\"#000000\" fill-rule=\"evenodd\" fill-opacity=\"1\" /><path clip-path=\"url(#clip200)\" d=\"M138.33 881.261 Q134.719 881.261 132.89 884.826 Q131.084 888.367 131.084 895.497 Q131.084 902.603 132.89 906.168 Q134.719 909.71 138.33 909.71 Q141.964 909.71 143.769 906.168 Q145.598 902.603 145.598 895.497 Q145.598 888.367 143.769 884.826 Q141.964 881.261 138.33 881.261 M138.33 877.557 Q144.14 877.557 147.195 882.164 Q150.274 886.747 150.274 895.497 Q150.274 904.224 147.195 908.83 Q144.14 913.413 138.33 913.413 Q132.519 913.413 129.441 908.83 Q126.385 904.224 126.385 895.497 Q126.385 886.747 129.441 882.164 Q132.519 877.557 138.33 877.557 Z\" fill=\"#000000\" fill-rule=\"evenodd\" fill-opacity=\"1\" /><path clip-path=\"url(#clip200)\" d=\"M63.9319 588.707 Q60.3208 588.707 58.4921 592.272 Q56.6865 595.813 56.6865 602.943 Q56.6865 610.049 58.4921 613.614 Q60.3208 617.156 63.9319 617.156 Q67.5661 617.156 69.3717 613.614 Q71.2004 610.049 71.2004 602.943 Q71.2004 595.813 69.3717 592.272 Q67.5661 588.707 63.9319 588.707 M63.9319 585.003 Q69.742 585.003 72.7976 589.61 Q75.8763 594.193 75.8763 602.943 Q75.8763 611.67 72.7976 616.276 Q69.742 620.86 63.9319 620.86 Q58.1217 620.86 55.043 616.276 Q51.9875 611.67 51.9875 602.943 Q51.9875 594.193 55.043 589.61 Q58.1217 585.003 63.9319 585.003 Z\" fill=\"#000000\" fill-rule=\"evenodd\" fill-opacity=\"1\" /><path clip-path=\"url(#clip200)\" d=\"M84.0938 614.309 L88.978 614.309 L88.978 620.188 L84.0938 620.188 L84.0938 614.309 Z\" fill=\"#000000\" fill-rule=\"evenodd\" fill-opacity=\"1\" /><path clip-path=\"url(#clip200)\" d=\"M97.9826 585.628 L120.205 585.628 L120.205 587.619 L107.658 620.188 L102.774 620.188 L114.58 589.563 L97.9826 589.563 L97.9826 585.628 Z\" fill=\"#000000\" fill-rule=\"evenodd\" fill-opacity=\"1\" /><path clip-path=\"url(#clip200)\" d=\"M129.371 585.628 L147.728 585.628 L147.728 589.563 L133.654 589.563 L133.654 598.036 Q134.672 597.688 135.691 597.526 Q136.709 597.341 137.728 597.341 Q143.515 597.341 146.894 600.512 Q150.274 603.684 150.274 609.1 Q150.274 614.679 146.802 617.781 Q143.33 620.86 137.01 620.86 Q134.834 620.86 132.566 620.489 Q130.32 620.119 127.913 619.378 L127.913 614.679 Q129.996 615.813 132.219 616.369 Q134.441 616.924 136.918 616.924 Q140.922 616.924 143.26 614.818 Q145.598 612.712 145.598 609.1 Q145.598 605.489 143.26 603.383 Q140.922 601.276 136.918 601.276 Q135.043 601.276 133.168 601.693 Q131.316 602.11 129.371 602.989 L129.371 585.628 Z\" fill=\"#000000\" fill-rule=\"evenodd\" fill-opacity=\"1\" /><path clip-path=\"url(#clip200)\" d=\"M53.7467 323.699 L61.3856 323.699 L61.3856 297.334 L53.0754 299 L53.0754 294.741 L61.3393 293.075 L66.0152 293.075 L66.0152 323.699 L73.654 323.699 L73.654 327.635 L53.7467 327.635 L53.7467 323.699 Z\" fill=\"#000000\" fill-rule=\"evenodd\" fill-opacity=\"1\" /><path clip-path=\"url(#clip200)\" d=\"M83.0984 321.755 L87.9827 321.755 L87.9827 327.635 L83.0984 327.635 L83.0984 321.755 Z\" fill=\"#000000\" fill-rule=\"evenodd\" fill-opacity=\"1\" /><path clip-path=\"url(#clip200)\" d=\"M108.168 296.153 Q104.557 296.153 102.728 299.718 Q100.922 303.26 100.922 310.389 Q100.922 317.496 102.728 321.06 Q104.557 324.602 108.168 324.602 Q111.802 324.602 113.608 321.06 Q115.436 317.496 115.436 310.389 Q115.436 303.26 113.608 299.718 Q111.802 296.153 108.168 296.153 M108.168 292.45 Q113.978 292.45 117.033 297.056 Q120.112 301.639 120.112 310.389 Q120.112 319.116 117.033 323.722 Q113.978 328.306 108.168 328.306 Q102.358 328.306 99.2789 323.722 Q96.2234 319.116 96.2234 310.389 Q96.2234 301.639 99.2789 297.056 Q102.358 292.45 108.168 292.45 Z\" fill=\"#000000\" fill-rule=\"evenodd\" fill-opacity=\"1\" /><path clip-path=\"url(#clip200)\" d=\"M138.33 296.153 Q134.719 296.153 132.89 299.718 Q131.084 303.26 131.084 310.389 Q131.084 317.496 132.89 321.06 Q134.719 324.602 138.33 324.602 Q141.964 324.602 143.769 321.06 Q145.598 317.496 145.598 310.389 Q145.598 303.26 143.769 299.718 Q141.964 296.153 138.33 296.153 M138.33 292.45 Q144.14 292.45 147.195 297.056 Q150.274 301.639 150.274 310.389 Q150.274 319.116 147.195 323.722 Q144.14 328.306 138.33 328.306 Q132.519 328.306 129.441 323.722 Q126.385 319.116 126.385 310.389 Q126.385 301.639 129.441 297.056 Q132.519 292.45 138.33 292.45 Z\" fill=\"#000000\" fill-rule=\"evenodd\" fill-opacity=\"1\" /><polyline clip-path=\"url(#clip202)\" style=\"stroke:#009af9; stroke-linecap:butt; stroke-linejoin:round; stroke-width:4; stroke-opacity:1; fill:none\" points=\"\n",
       "  247.59,1331.73 268.028,1387.87 288.467,1425.17 308.905,1261.52 329.344,1218.22 349.782,1226.57 370.221,1287.72 390.659,1181.55 411.098,1159.32 431.536,1257.23 \n",
       "  451.975,1065 472.413,1203.13 492.852,982.347 513.29,978.705 533.729,1101.78 554.167,965.817 574.606,909.224 595.044,951.131 615.483,986.886 635.921,786.762 \n",
       "  656.36,793.14 676.798,731.002 697.237,609.39 717.675,680.096 738.114,588.157 758.552,645.965 778.991,536.002 799.429,619.503 819.868,549.689 840.306,577.939 \n",
       "  860.745,497.533 881.183,292.612 901.622,440.487 922.06,427.896 942.499,325.545 962.937,356.091 983.376,262.978 1003.81,317.477 1024.25,193.826 1044.69,335.957 \n",
       "  1065.13,192.428 1085.57,235.263 1106.01,226.178 1126.45,140.999 1146.88,87.9763 1167.32,259.536 1187.76,216.489 1208.2,100.12 1228.64,317.77 1249.08,175.211 \n",
       "  1269.51,123.254 1289.95,147.697 1310.39,319.087 1330.83,228.46 1351.27,246.105 1371.71,456.624 1392.15,442.476 1412.58,288.449 1433.02,533.556 1453.46,474.233 \n",
       "  1473.9,403.441 1494.34,494.163 1514.78,467.191 1535.22,585.741 1555.65,529.758 1576.09,692.274 1596.53,775.901 1616.97,682.316 1637.41,765.466 1657.85,794.96 \n",
       "  1678.29,916.336 1698.72,883.971 1719.16,857.247 1739.6,1069.77 1760.04,1131.75 1780.48,1121.3 1800.92,1191.24 1821.35,1110.87 1841.79,1166.98 1862.23,1203.97 \n",
       "  1882.67,1201.46 1903.11,1154.96 1923.55,1368.83 1943.99,1248.24 1964.42,1232.6 1984.86,1265.87 2005.3,1283.35 2025.74,1365.78 2046.18,1253.93 2066.62,1272.34 \n",
       "  2087.06,1440.33 2107.49,1277.74 2127.93,1445.72 2148.37,1320.22 2168.81,1328.93 2189.25,1302.4 2209.69,1307.9 2230.12,1312.89 2250.56,1216.18 2271,1300.4 \n",
       "  2291.44,1330.18 \n",
       "  \"/>\n",
       "<circle clip-path=\"url(#clip202)\" cx=\"247.59\" cy=\"1331.73\" r=\"14\" fill=\"#009af9\" fill-rule=\"evenodd\" fill-opacity=\"1\" stroke=\"#000000\" stroke-opacity=\"1\" stroke-width=\"3.2\"/>\n",
       "<circle clip-path=\"url(#clip202)\" cx=\"268.028\" cy=\"1387.87\" r=\"14\" fill=\"#009af9\" fill-rule=\"evenodd\" fill-opacity=\"1\" stroke=\"#000000\" stroke-opacity=\"1\" stroke-width=\"3.2\"/>\n",
       "<circle clip-path=\"url(#clip202)\" cx=\"288.467\" cy=\"1425.17\" r=\"14\" fill=\"#009af9\" fill-rule=\"evenodd\" fill-opacity=\"1\" stroke=\"#000000\" stroke-opacity=\"1\" stroke-width=\"3.2\"/>\n",
       "<circle clip-path=\"url(#clip202)\" cx=\"308.905\" cy=\"1261.52\" r=\"14\" fill=\"#009af9\" fill-rule=\"evenodd\" fill-opacity=\"1\" stroke=\"#000000\" stroke-opacity=\"1\" stroke-width=\"3.2\"/>\n",
       "<circle clip-path=\"url(#clip202)\" cx=\"329.344\" cy=\"1218.22\" r=\"14\" fill=\"#009af9\" fill-rule=\"evenodd\" fill-opacity=\"1\" stroke=\"#000000\" stroke-opacity=\"1\" stroke-width=\"3.2\"/>\n",
       "<circle clip-path=\"url(#clip202)\" cx=\"349.782\" cy=\"1226.57\" r=\"14\" fill=\"#009af9\" fill-rule=\"evenodd\" fill-opacity=\"1\" stroke=\"#000000\" stroke-opacity=\"1\" stroke-width=\"3.2\"/>\n",
       "<circle clip-path=\"url(#clip202)\" cx=\"370.221\" cy=\"1287.72\" r=\"14\" fill=\"#009af9\" fill-rule=\"evenodd\" fill-opacity=\"1\" stroke=\"#000000\" stroke-opacity=\"1\" stroke-width=\"3.2\"/>\n",
       "<circle clip-path=\"url(#clip202)\" cx=\"390.659\" cy=\"1181.55\" r=\"14\" fill=\"#009af9\" fill-rule=\"evenodd\" fill-opacity=\"1\" stroke=\"#000000\" stroke-opacity=\"1\" stroke-width=\"3.2\"/>\n",
       "<circle clip-path=\"url(#clip202)\" cx=\"411.098\" cy=\"1159.32\" r=\"14\" fill=\"#009af9\" fill-rule=\"evenodd\" fill-opacity=\"1\" stroke=\"#000000\" stroke-opacity=\"1\" stroke-width=\"3.2\"/>\n",
       "<circle clip-path=\"url(#clip202)\" cx=\"431.536\" cy=\"1257.23\" r=\"14\" fill=\"#009af9\" fill-rule=\"evenodd\" fill-opacity=\"1\" stroke=\"#000000\" stroke-opacity=\"1\" stroke-width=\"3.2\"/>\n",
       "<circle clip-path=\"url(#clip202)\" cx=\"451.975\" cy=\"1065\" r=\"14\" fill=\"#009af9\" fill-rule=\"evenodd\" fill-opacity=\"1\" stroke=\"#000000\" stroke-opacity=\"1\" stroke-width=\"3.2\"/>\n",
       "<circle clip-path=\"url(#clip202)\" cx=\"472.413\" cy=\"1203.13\" r=\"14\" fill=\"#009af9\" fill-rule=\"evenodd\" fill-opacity=\"1\" stroke=\"#000000\" stroke-opacity=\"1\" stroke-width=\"3.2\"/>\n",
       "<circle clip-path=\"url(#clip202)\" cx=\"492.852\" cy=\"982.347\" r=\"14\" fill=\"#009af9\" fill-rule=\"evenodd\" fill-opacity=\"1\" stroke=\"#000000\" stroke-opacity=\"1\" stroke-width=\"3.2\"/>\n",
       "<circle clip-path=\"url(#clip202)\" cx=\"513.29\" cy=\"978.705\" r=\"14\" fill=\"#009af9\" fill-rule=\"evenodd\" fill-opacity=\"1\" stroke=\"#000000\" stroke-opacity=\"1\" stroke-width=\"3.2\"/>\n",
       "<circle clip-path=\"url(#clip202)\" cx=\"533.729\" cy=\"1101.78\" r=\"14\" fill=\"#009af9\" fill-rule=\"evenodd\" fill-opacity=\"1\" stroke=\"#000000\" stroke-opacity=\"1\" stroke-width=\"3.2\"/>\n",
       "<circle clip-path=\"url(#clip202)\" cx=\"554.167\" cy=\"965.817\" r=\"14\" fill=\"#009af9\" fill-rule=\"evenodd\" fill-opacity=\"1\" stroke=\"#000000\" stroke-opacity=\"1\" stroke-width=\"3.2\"/>\n",
       "<circle clip-path=\"url(#clip202)\" cx=\"574.606\" cy=\"909.224\" r=\"14\" fill=\"#009af9\" fill-rule=\"evenodd\" fill-opacity=\"1\" stroke=\"#000000\" stroke-opacity=\"1\" stroke-width=\"3.2\"/>\n",
       "<circle clip-path=\"url(#clip202)\" cx=\"595.044\" cy=\"951.131\" r=\"14\" fill=\"#009af9\" fill-rule=\"evenodd\" fill-opacity=\"1\" stroke=\"#000000\" stroke-opacity=\"1\" stroke-width=\"3.2\"/>\n",
       "<circle clip-path=\"url(#clip202)\" cx=\"615.483\" cy=\"986.886\" r=\"14\" fill=\"#009af9\" fill-rule=\"evenodd\" fill-opacity=\"1\" stroke=\"#000000\" stroke-opacity=\"1\" stroke-width=\"3.2\"/>\n",
       "<circle clip-path=\"url(#clip202)\" cx=\"635.921\" cy=\"786.762\" r=\"14\" fill=\"#009af9\" fill-rule=\"evenodd\" fill-opacity=\"1\" stroke=\"#000000\" stroke-opacity=\"1\" stroke-width=\"3.2\"/>\n",
       "<circle clip-path=\"url(#clip202)\" cx=\"656.36\" cy=\"793.14\" r=\"14\" fill=\"#009af9\" fill-rule=\"evenodd\" fill-opacity=\"1\" stroke=\"#000000\" stroke-opacity=\"1\" stroke-width=\"3.2\"/>\n",
       "<circle clip-path=\"url(#clip202)\" cx=\"676.798\" cy=\"731.002\" r=\"14\" fill=\"#009af9\" fill-rule=\"evenodd\" fill-opacity=\"1\" stroke=\"#000000\" stroke-opacity=\"1\" stroke-width=\"3.2\"/>\n",
       "<circle clip-path=\"url(#clip202)\" cx=\"697.237\" cy=\"609.39\" r=\"14\" fill=\"#009af9\" fill-rule=\"evenodd\" fill-opacity=\"1\" stroke=\"#000000\" stroke-opacity=\"1\" stroke-width=\"3.2\"/>\n",
       "<circle clip-path=\"url(#clip202)\" cx=\"717.675\" cy=\"680.096\" r=\"14\" fill=\"#009af9\" fill-rule=\"evenodd\" fill-opacity=\"1\" stroke=\"#000000\" stroke-opacity=\"1\" stroke-width=\"3.2\"/>\n",
       "<circle clip-path=\"url(#clip202)\" cx=\"738.114\" cy=\"588.157\" r=\"14\" fill=\"#009af9\" fill-rule=\"evenodd\" fill-opacity=\"1\" stroke=\"#000000\" stroke-opacity=\"1\" stroke-width=\"3.2\"/>\n",
       "<circle clip-path=\"url(#clip202)\" cx=\"758.552\" cy=\"645.965\" r=\"14\" fill=\"#009af9\" fill-rule=\"evenodd\" fill-opacity=\"1\" stroke=\"#000000\" stroke-opacity=\"1\" stroke-width=\"3.2\"/>\n",
       "<circle clip-path=\"url(#clip202)\" cx=\"778.991\" cy=\"536.002\" r=\"14\" fill=\"#009af9\" fill-rule=\"evenodd\" fill-opacity=\"1\" stroke=\"#000000\" stroke-opacity=\"1\" stroke-width=\"3.2\"/>\n",
       "<circle clip-path=\"url(#clip202)\" cx=\"799.429\" cy=\"619.503\" r=\"14\" fill=\"#009af9\" fill-rule=\"evenodd\" fill-opacity=\"1\" stroke=\"#000000\" stroke-opacity=\"1\" stroke-width=\"3.2\"/>\n",
       "<circle clip-path=\"url(#clip202)\" cx=\"819.868\" cy=\"549.689\" r=\"14\" fill=\"#009af9\" fill-rule=\"evenodd\" fill-opacity=\"1\" stroke=\"#000000\" stroke-opacity=\"1\" stroke-width=\"3.2\"/>\n",
       "<circle clip-path=\"url(#clip202)\" cx=\"840.306\" cy=\"577.939\" r=\"14\" fill=\"#009af9\" fill-rule=\"evenodd\" fill-opacity=\"1\" stroke=\"#000000\" stroke-opacity=\"1\" stroke-width=\"3.2\"/>\n",
       "<circle clip-path=\"url(#clip202)\" cx=\"860.745\" cy=\"497.533\" r=\"14\" fill=\"#009af9\" fill-rule=\"evenodd\" fill-opacity=\"1\" stroke=\"#000000\" stroke-opacity=\"1\" stroke-width=\"3.2\"/>\n",
       "<circle clip-path=\"url(#clip202)\" cx=\"881.183\" cy=\"292.612\" r=\"14\" fill=\"#009af9\" fill-rule=\"evenodd\" fill-opacity=\"1\" stroke=\"#000000\" stroke-opacity=\"1\" stroke-width=\"3.2\"/>\n",
       "<circle clip-path=\"url(#clip202)\" cx=\"901.622\" cy=\"440.487\" r=\"14\" fill=\"#009af9\" fill-rule=\"evenodd\" fill-opacity=\"1\" stroke=\"#000000\" stroke-opacity=\"1\" stroke-width=\"3.2\"/>\n",
       "<circle clip-path=\"url(#clip202)\" cx=\"922.06\" cy=\"427.896\" r=\"14\" fill=\"#009af9\" fill-rule=\"evenodd\" fill-opacity=\"1\" stroke=\"#000000\" stroke-opacity=\"1\" stroke-width=\"3.2\"/>\n",
       "<circle clip-path=\"url(#clip202)\" cx=\"942.499\" cy=\"325.545\" r=\"14\" fill=\"#009af9\" fill-rule=\"evenodd\" fill-opacity=\"1\" stroke=\"#000000\" stroke-opacity=\"1\" stroke-width=\"3.2\"/>\n",
       "<circle clip-path=\"url(#clip202)\" cx=\"962.937\" cy=\"356.091\" r=\"14\" fill=\"#009af9\" fill-rule=\"evenodd\" fill-opacity=\"1\" stroke=\"#000000\" stroke-opacity=\"1\" stroke-width=\"3.2\"/>\n",
       "<circle clip-path=\"url(#clip202)\" cx=\"983.376\" cy=\"262.978\" r=\"14\" fill=\"#009af9\" fill-rule=\"evenodd\" fill-opacity=\"1\" stroke=\"#000000\" stroke-opacity=\"1\" stroke-width=\"3.2\"/>\n",
       "<circle clip-path=\"url(#clip202)\" cx=\"1003.81\" cy=\"317.477\" r=\"14\" fill=\"#009af9\" fill-rule=\"evenodd\" fill-opacity=\"1\" stroke=\"#000000\" stroke-opacity=\"1\" stroke-width=\"3.2\"/>\n",
       "<circle clip-path=\"url(#clip202)\" cx=\"1024.25\" cy=\"193.826\" r=\"14\" fill=\"#009af9\" fill-rule=\"evenodd\" fill-opacity=\"1\" stroke=\"#000000\" stroke-opacity=\"1\" stroke-width=\"3.2\"/>\n",
       "<circle clip-path=\"url(#clip202)\" cx=\"1044.69\" cy=\"335.957\" r=\"14\" fill=\"#009af9\" fill-rule=\"evenodd\" fill-opacity=\"1\" stroke=\"#000000\" stroke-opacity=\"1\" stroke-width=\"3.2\"/>\n",
       "<circle clip-path=\"url(#clip202)\" cx=\"1065.13\" cy=\"192.428\" r=\"14\" fill=\"#009af9\" fill-rule=\"evenodd\" fill-opacity=\"1\" stroke=\"#000000\" stroke-opacity=\"1\" stroke-width=\"3.2\"/>\n",
       "<circle clip-path=\"url(#clip202)\" cx=\"1085.57\" cy=\"235.263\" r=\"14\" fill=\"#009af9\" fill-rule=\"evenodd\" fill-opacity=\"1\" stroke=\"#000000\" stroke-opacity=\"1\" stroke-width=\"3.2\"/>\n",
       "<circle clip-path=\"url(#clip202)\" cx=\"1106.01\" cy=\"226.178\" r=\"14\" fill=\"#009af9\" fill-rule=\"evenodd\" fill-opacity=\"1\" stroke=\"#000000\" stroke-opacity=\"1\" stroke-width=\"3.2\"/>\n",
       "<circle clip-path=\"url(#clip202)\" cx=\"1126.45\" cy=\"140.999\" r=\"14\" fill=\"#009af9\" fill-rule=\"evenodd\" fill-opacity=\"1\" stroke=\"#000000\" stroke-opacity=\"1\" stroke-width=\"3.2\"/>\n",
       "<circle clip-path=\"url(#clip202)\" cx=\"1146.88\" cy=\"87.9763\" r=\"14\" fill=\"#009af9\" fill-rule=\"evenodd\" fill-opacity=\"1\" stroke=\"#000000\" stroke-opacity=\"1\" stroke-width=\"3.2\"/>\n",
       "<circle clip-path=\"url(#clip202)\" cx=\"1167.32\" cy=\"259.536\" r=\"14\" fill=\"#009af9\" fill-rule=\"evenodd\" fill-opacity=\"1\" stroke=\"#000000\" stroke-opacity=\"1\" stroke-width=\"3.2\"/>\n",
       "<circle clip-path=\"url(#clip202)\" cx=\"1187.76\" cy=\"216.489\" r=\"14\" fill=\"#009af9\" fill-rule=\"evenodd\" fill-opacity=\"1\" stroke=\"#000000\" stroke-opacity=\"1\" stroke-width=\"3.2\"/>\n",
       "<circle clip-path=\"url(#clip202)\" cx=\"1208.2\" cy=\"100.12\" r=\"14\" fill=\"#009af9\" fill-rule=\"evenodd\" fill-opacity=\"1\" stroke=\"#000000\" stroke-opacity=\"1\" stroke-width=\"3.2\"/>\n",
       "<circle clip-path=\"url(#clip202)\" cx=\"1228.64\" cy=\"317.77\" r=\"14\" fill=\"#009af9\" fill-rule=\"evenodd\" fill-opacity=\"1\" stroke=\"#000000\" stroke-opacity=\"1\" stroke-width=\"3.2\"/>\n",
       "<circle clip-path=\"url(#clip202)\" cx=\"1249.08\" cy=\"175.211\" r=\"14\" fill=\"#009af9\" fill-rule=\"evenodd\" fill-opacity=\"1\" stroke=\"#000000\" stroke-opacity=\"1\" stroke-width=\"3.2\"/>\n",
       "<circle clip-path=\"url(#clip202)\" cx=\"1269.51\" cy=\"123.254\" r=\"14\" fill=\"#009af9\" fill-rule=\"evenodd\" fill-opacity=\"1\" stroke=\"#000000\" stroke-opacity=\"1\" stroke-width=\"3.2\"/>\n",
       "<circle clip-path=\"url(#clip202)\" cx=\"1289.95\" cy=\"147.697\" r=\"14\" fill=\"#009af9\" fill-rule=\"evenodd\" fill-opacity=\"1\" stroke=\"#000000\" stroke-opacity=\"1\" stroke-width=\"3.2\"/>\n",
       "<circle clip-path=\"url(#clip202)\" cx=\"1310.39\" cy=\"319.087\" r=\"14\" fill=\"#009af9\" fill-rule=\"evenodd\" fill-opacity=\"1\" stroke=\"#000000\" stroke-opacity=\"1\" stroke-width=\"3.2\"/>\n",
       "<circle clip-path=\"url(#clip202)\" cx=\"1330.83\" cy=\"228.46\" r=\"14\" fill=\"#009af9\" fill-rule=\"evenodd\" fill-opacity=\"1\" stroke=\"#000000\" stroke-opacity=\"1\" stroke-width=\"3.2\"/>\n",
       "<circle clip-path=\"url(#clip202)\" cx=\"1351.27\" cy=\"246.105\" r=\"14\" fill=\"#009af9\" fill-rule=\"evenodd\" fill-opacity=\"1\" stroke=\"#000000\" stroke-opacity=\"1\" stroke-width=\"3.2\"/>\n",
       "<circle clip-path=\"url(#clip202)\" cx=\"1371.71\" cy=\"456.624\" r=\"14\" fill=\"#009af9\" fill-rule=\"evenodd\" fill-opacity=\"1\" stroke=\"#000000\" stroke-opacity=\"1\" stroke-width=\"3.2\"/>\n",
       "<circle clip-path=\"url(#clip202)\" cx=\"1392.15\" cy=\"442.476\" r=\"14\" fill=\"#009af9\" fill-rule=\"evenodd\" fill-opacity=\"1\" stroke=\"#000000\" stroke-opacity=\"1\" stroke-width=\"3.2\"/>\n",
       "<circle clip-path=\"url(#clip202)\" cx=\"1412.58\" cy=\"288.449\" r=\"14\" fill=\"#009af9\" fill-rule=\"evenodd\" fill-opacity=\"1\" stroke=\"#000000\" stroke-opacity=\"1\" stroke-width=\"3.2\"/>\n",
       "<circle clip-path=\"url(#clip202)\" cx=\"1433.02\" cy=\"533.556\" r=\"14\" fill=\"#009af9\" fill-rule=\"evenodd\" fill-opacity=\"1\" stroke=\"#000000\" stroke-opacity=\"1\" stroke-width=\"3.2\"/>\n",
       "<circle clip-path=\"url(#clip202)\" cx=\"1453.46\" cy=\"474.233\" r=\"14\" fill=\"#009af9\" fill-rule=\"evenodd\" fill-opacity=\"1\" stroke=\"#000000\" stroke-opacity=\"1\" stroke-width=\"3.2\"/>\n",
       "<circle clip-path=\"url(#clip202)\" cx=\"1473.9\" cy=\"403.441\" r=\"14\" fill=\"#009af9\" fill-rule=\"evenodd\" fill-opacity=\"1\" stroke=\"#000000\" stroke-opacity=\"1\" stroke-width=\"3.2\"/>\n",
       "<circle clip-path=\"url(#clip202)\" cx=\"1494.34\" cy=\"494.163\" r=\"14\" fill=\"#009af9\" fill-rule=\"evenodd\" fill-opacity=\"1\" stroke=\"#000000\" stroke-opacity=\"1\" stroke-width=\"3.2\"/>\n",
       "<circle clip-path=\"url(#clip202)\" cx=\"1514.78\" cy=\"467.191\" r=\"14\" fill=\"#009af9\" fill-rule=\"evenodd\" fill-opacity=\"1\" stroke=\"#000000\" stroke-opacity=\"1\" stroke-width=\"3.2\"/>\n",
       "<circle clip-path=\"url(#clip202)\" cx=\"1535.22\" cy=\"585.741\" r=\"14\" fill=\"#009af9\" fill-rule=\"evenodd\" fill-opacity=\"1\" stroke=\"#000000\" stroke-opacity=\"1\" stroke-width=\"3.2\"/>\n",
       "<circle clip-path=\"url(#clip202)\" cx=\"1555.65\" cy=\"529.758\" r=\"14\" fill=\"#009af9\" fill-rule=\"evenodd\" fill-opacity=\"1\" stroke=\"#000000\" stroke-opacity=\"1\" stroke-width=\"3.2\"/>\n",
       "<circle clip-path=\"url(#clip202)\" cx=\"1576.09\" cy=\"692.274\" r=\"14\" fill=\"#009af9\" fill-rule=\"evenodd\" fill-opacity=\"1\" stroke=\"#000000\" stroke-opacity=\"1\" stroke-width=\"3.2\"/>\n",
       "<circle clip-path=\"url(#clip202)\" cx=\"1596.53\" cy=\"775.901\" r=\"14\" fill=\"#009af9\" fill-rule=\"evenodd\" fill-opacity=\"1\" stroke=\"#000000\" stroke-opacity=\"1\" stroke-width=\"3.2\"/>\n",
       "<circle clip-path=\"url(#clip202)\" cx=\"1616.97\" cy=\"682.316\" r=\"14\" fill=\"#009af9\" fill-rule=\"evenodd\" fill-opacity=\"1\" stroke=\"#000000\" stroke-opacity=\"1\" stroke-width=\"3.2\"/>\n",
       "<circle clip-path=\"url(#clip202)\" cx=\"1637.41\" cy=\"765.466\" r=\"14\" fill=\"#009af9\" fill-rule=\"evenodd\" fill-opacity=\"1\" stroke=\"#000000\" stroke-opacity=\"1\" stroke-width=\"3.2\"/>\n",
       "<circle clip-path=\"url(#clip202)\" cx=\"1657.85\" cy=\"794.96\" r=\"14\" fill=\"#009af9\" fill-rule=\"evenodd\" fill-opacity=\"1\" stroke=\"#000000\" stroke-opacity=\"1\" stroke-width=\"3.2\"/>\n",
       "<circle clip-path=\"url(#clip202)\" cx=\"1678.29\" cy=\"916.336\" r=\"14\" fill=\"#009af9\" fill-rule=\"evenodd\" fill-opacity=\"1\" stroke=\"#000000\" stroke-opacity=\"1\" stroke-width=\"3.2\"/>\n",
       "<circle clip-path=\"url(#clip202)\" cx=\"1698.72\" cy=\"883.971\" r=\"14\" fill=\"#009af9\" fill-rule=\"evenodd\" fill-opacity=\"1\" stroke=\"#000000\" stroke-opacity=\"1\" stroke-width=\"3.2\"/>\n",
       "<circle clip-path=\"url(#clip202)\" cx=\"1719.16\" cy=\"857.247\" r=\"14\" fill=\"#009af9\" fill-rule=\"evenodd\" fill-opacity=\"1\" stroke=\"#000000\" stroke-opacity=\"1\" stroke-width=\"3.2\"/>\n",
       "<circle clip-path=\"url(#clip202)\" cx=\"1739.6\" cy=\"1069.77\" r=\"14\" fill=\"#009af9\" fill-rule=\"evenodd\" fill-opacity=\"1\" stroke=\"#000000\" stroke-opacity=\"1\" stroke-width=\"3.2\"/>\n",
       "<circle clip-path=\"url(#clip202)\" cx=\"1760.04\" cy=\"1131.75\" r=\"14\" fill=\"#009af9\" fill-rule=\"evenodd\" fill-opacity=\"1\" stroke=\"#000000\" stroke-opacity=\"1\" stroke-width=\"3.2\"/>\n",
       "<circle clip-path=\"url(#clip202)\" cx=\"1780.48\" cy=\"1121.3\" r=\"14\" fill=\"#009af9\" fill-rule=\"evenodd\" fill-opacity=\"1\" stroke=\"#000000\" stroke-opacity=\"1\" stroke-width=\"3.2\"/>\n",
       "<circle clip-path=\"url(#clip202)\" cx=\"1800.92\" cy=\"1191.24\" r=\"14\" fill=\"#009af9\" fill-rule=\"evenodd\" fill-opacity=\"1\" stroke=\"#000000\" stroke-opacity=\"1\" stroke-width=\"3.2\"/>\n",
       "<circle clip-path=\"url(#clip202)\" cx=\"1821.35\" cy=\"1110.87\" r=\"14\" fill=\"#009af9\" fill-rule=\"evenodd\" fill-opacity=\"1\" stroke=\"#000000\" stroke-opacity=\"1\" stroke-width=\"3.2\"/>\n",
       "<circle clip-path=\"url(#clip202)\" cx=\"1841.79\" cy=\"1166.98\" r=\"14\" fill=\"#009af9\" fill-rule=\"evenodd\" fill-opacity=\"1\" stroke=\"#000000\" stroke-opacity=\"1\" stroke-width=\"3.2\"/>\n",
       "<circle clip-path=\"url(#clip202)\" cx=\"1862.23\" cy=\"1203.97\" r=\"14\" fill=\"#009af9\" fill-rule=\"evenodd\" fill-opacity=\"1\" stroke=\"#000000\" stroke-opacity=\"1\" stroke-width=\"3.2\"/>\n",
       "<circle clip-path=\"url(#clip202)\" cx=\"1882.67\" cy=\"1201.46\" r=\"14\" fill=\"#009af9\" fill-rule=\"evenodd\" fill-opacity=\"1\" stroke=\"#000000\" stroke-opacity=\"1\" stroke-width=\"3.2\"/>\n",
       "<circle clip-path=\"url(#clip202)\" cx=\"1903.11\" cy=\"1154.96\" r=\"14\" fill=\"#009af9\" fill-rule=\"evenodd\" fill-opacity=\"1\" stroke=\"#000000\" stroke-opacity=\"1\" stroke-width=\"3.2\"/>\n",
       "<circle clip-path=\"url(#clip202)\" cx=\"1923.55\" cy=\"1368.83\" r=\"14\" fill=\"#009af9\" fill-rule=\"evenodd\" fill-opacity=\"1\" stroke=\"#000000\" stroke-opacity=\"1\" stroke-width=\"3.2\"/>\n",
       "<circle clip-path=\"url(#clip202)\" cx=\"1943.99\" cy=\"1248.24\" r=\"14\" fill=\"#009af9\" fill-rule=\"evenodd\" fill-opacity=\"1\" stroke=\"#000000\" stroke-opacity=\"1\" stroke-width=\"3.2\"/>\n",
       "<circle clip-path=\"url(#clip202)\" cx=\"1964.42\" cy=\"1232.6\" r=\"14\" fill=\"#009af9\" fill-rule=\"evenodd\" fill-opacity=\"1\" stroke=\"#000000\" stroke-opacity=\"1\" stroke-width=\"3.2\"/>\n",
       "<circle clip-path=\"url(#clip202)\" cx=\"1984.86\" cy=\"1265.87\" r=\"14\" fill=\"#009af9\" fill-rule=\"evenodd\" fill-opacity=\"1\" stroke=\"#000000\" stroke-opacity=\"1\" stroke-width=\"3.2\"/>\n",
       "<circle clip-path=\"url(#clip202)\" cx=\"2005.3\" cy=\"1283.35\" r=\"14\" fill=\"#009af9\" fill-rule=\"evenodd\" fill-opacity=\"1\" stroke=\"#000000\" stroke-opacity=\"1\" stroke-width=\"3.2\"/>\n",
       "<circle clip-path=\"url(#clip202)\" cx=\"2025.74\" cy=\"1365.78\" r=\"14\" fill=\"#009af9\" fill-rule=\"evenodd\" fill-opacity=\"1\" stroke=\"#000000\" stroke-opacity=\"1\" stroke-width=\"3.2\"/>\n",
       "<circle clip-path=\"url(#clip202)\" cx=\"2046.18\" cy=\"1253.93\" r=\"14\" fill=\"#009af9\" fill-rule=\"evenodd\" fill-opacity=\"1\" stroke=\"#000000\" stroke-opacity=\"1\" stroke-width=\"3.2\"/>\n",
       "<circle clip-path=\"url(#clip202)\" cx=\"2066.62\" cy=\"1272.34\" r=\"14\" fill=\"#009af9\" fill-rule=\"evenodd\" fill-opacity=\"1\" stroke=\"#000000\" stroke-opacity=\"1\" stroke-width=\"3.2\"/>\n",
       "<circle clip-path=\"url(#clip202)\" cx=\"2087.06\" cy=\"1440.33\" r=\"14\" fill=\"#009af9\" fill-rule=\"evenodd\" fill-opacity=\"1\" stroke=\"#000000\" stroke-opacity=\"1\" stroke-width=\"3.2\"/>\n",
       "<circle clip-path=\"url(#clip202)\" cx=\"2107.49\" cy=\"1277.74\" r=\"14\" fill=\"#009af9\" fill-rule=\"evenodd\" fill-opacity=\"1\" stroke=\"#000000\" stroke-opacity=\"1\" stroke-width=\"3.2\"/>\n",
       "<circle clip-path=\"url(#clip202)\" cx=\"2127.93\" cy=\"1445.72\" r=\"14\" fill=\"#009af9\" fill-rule=\"evenodd\" fill-opacity=\"1\" stroke=\"#000000\" stroke-opacity=\"1\" stroke-width=\"3.2\"/>\n",
       "<circle clip-path=\"url(#clip202)\" cx=\"2148.37\" cy=\"1320.22\" r=\"14\" fill=\"#009af9\" fill-rule=\"evenodd\" fill-opacity=\"1\" stroke=\"#000000\" stroke-opacity=\"1\" stroke-width=\"3.2\"/>\n",
       "<circle clip-path=\"url(#clip202)\" cx=\"2168.81\" cy=\"1328.93\" r=\"14\" fill=\"#009af9\" fill-rule=\"evenodd\" fill-opacity=\"1\" stroke=\"#000000\" stroke-opacity=\"1\" stroke-width=\"3.2\"/>\n",
       "<circle clip-path=\"url(#clip202)\" cx=\"2189.25\" cy=\"1302.4\" r=\"14\" fill=\"#009af9\" fill-rule=\"evenodd\" fill-opacity=\"1\" stroke=\"#000000\" stroke-opacity=\"1\" stroke-width=\"3.2\"/>\n",
       "<circle clip-path=\"url(#clip202)\" cx=\"2209.69\" cy=\"1307.9\" r=\"14\" fill=\"#009af9\" fill-rule=\"evenodd\" fill-opacity=\"1\" stroke=\"#000000\" stroke-opacity=\"1\" stroke-width=\"3.2\"/>\n",
       "<circle clip-path=\"url(#clip202)\" cx=\"2230.12\" cy=\"1312.89\" r=\"14\" fill=\"#009af9\" fill-rule=\"evenodd\" fill-opacity=\"1\" stroke=\"#000000\" stroke-opacity=\"1\" stroke-width=\"3.2\"/>\n",
       "<circle clip-path=\"url(#clip202)\" cx=\"2250.56\" cy=\"1216.18\" r=\"14\" fill=\"#009af9\" fill-rule=\"evenodd\" fill-opacity=\"1\" stroke=\"#000000\" stroke-opacity=\"1\" stroke-width=\"3.2\"/>\n",
       "<circle clip-path=\"url(#clip202)\" cx=\"2271\" cy=\"1300.4\" r=\"14\" fill=\"#009af9\" fill-rule=\"evenodd\" fill-opacity=\"1\" stroke=\"#000000\" stroke-opacity=\"1\" stroke-width=\"3.2\"/>\n",
       "<circle clip-path=\"url(#clip202)\" cx=\"2291.44\" cy=\"1330.18\" r=\"14\" fill=\"#009af9\" fill-rule=\"evenodd\" fill-opacity=\"1\" stroke=\"#000000\" stroke-opacity=\"1\" stroke-width=\"3.2\"/>\n",
       "<path clip-path=\"url(#clip200)\" d=\"\n",
       "M1988.11 198.898 L2280.54 198.898 L2280.54 95.2176 L1988.11 95.2176  Z\n",
       "  \" fill=\"#ffffff\" fill-rule=\"evenodd\" fill-opacity=\"1\"/>\n",
       "<polyline clip-path=\"url(#clip200)\" style=\"stroke:#000000; stroke-linecap:butt; stroke-linejoin:round; stroke-width:4; stroke-opacity:1; fill:none\" points=\"\n",
       "  1988.11,198.898 2280.54,198.898 2280.54,95.2176 1988.11,95.2176 1988.11,198.898 \n",
       "  \"/>\n",
       "<polyline clip-path=\"url(#clip200)\" style=\"stroke:#009af9; stroke-linecap:butt; stroke-linejoin:round; stroke-width:4; stroke-opacity:1; fill:none\" points=\"\n",
       "  2012.11,147.058 2156.11,147.058 \n",
       "  \"/>\n",
       "<circle clip-path=\"url(#clip200)\" cx=\"2084.11\" cy=\"147.058\" r=\"23\" fill=\"#009af9\" fill-rule=\"evenodd\" fill-opacity=\"1\" stroke=\"#000000\" stroke-opacity=\"1\" stroke-width=\"5.12\"/>\n",
       "<path clip-path=\"url(#clip200)\" d=\"M2193.95 166.745 Q2192.15 171.375 2190.43 172.787 Q2188.72 174.199 2185.85 174.199 L2182.45 174.199 L2182.45 170.634 L2184.95 170.634 Q2186.71 170.634 2187.68 169.8 Q2188.65 168.967 2189.83 165.865 L2190.6 163.921 L2180.11 138.412 L2184.62 138.412 L2192.73 158.689 L2200.83 138.412 L2205.34 138.412 L2193.95 166.745 Z\" fill=\"#000000\" fill-rule=\"evenodd\" fill-opacity=\"1\" /><path clip-path=\"url(#clip200)\" d=\"M2212.63 160.402 L2220.27 160.402 L2220.27 134.037 L2211.96 135.703 L2211.96 131.444 L2220.23 129.778 L2224.9 129.778 L2224.9 160.402 L2232.54 160.402 L2232.54 164.338 L2212.63 164.338 L2212.63 160.402 Z\" fill=\"#000000\" fill-rule=\"evenodd\" fill-opacity=\"1\" /></svg>\n"
      ]
     },
     "execution_count": 12,
     "metadata": {},
     "output_type": "execute_result"
    }
   ],
   "source": [
    "plot(xx, yy, markershape=:circle)"
   ]
  },
  {
   "cell_type": "markdown",
   "metadata": {},
   "source": [
    "Obliczony wektor wartości normalizujemy do 1, żeby łatwiej policzyć współczynniki aproksymacji (niżej objaśnienie dlaczego łatwiej). "
   ]
  },
  {
   "cell_type": "code",
   "execution_count": 13,
   "metadata": {},
   "outputs": [
    {
     "data": {
      "text/plain": [
       "4-element Vector{Int64}:\n",
       " 2\n",
       " 2\n",
       " 2\n",
       " 2"
      ]
     },
     "execution_count": 13,
     "metadata": {},
     "output_type": "execute_result"
    }
   ],
   "source": [
    "#przykład prostego wektora, który znormalizujemy\n",
    "vec=[2,2,2,2]"
   ]
  },
  {
   "cell_type": "code",
   "execution_count": 14,
   "metadata": {},
   "outputs": [
    {
     "data": {
      "text/plain": [
       "16"
      ]
     },
     "execution_count": 14,
     "metadata": {},
     "output_type": "execute_result"
    }
   ],
   "source": [
    "# iloczyn skalarny = długość^2\n",
    "dot(vec,vec)"
   ]
  },
  {
   "cell_type": "code",
   "execution_count": 15,
   "metadata": {},
   "outputs": [
    {
     "data": {
      "text/plain": [
       "4-element Vector{Float64}:\n",
       " 0.5\n",
       " 0.5\n",
       " 0.5\n",
       " 0.5"
      ]
     },
     "execution_count": 15,
     "metadata": {},
     "output_type": "execute_result"
    }
   ],
   "source": [
    "# normalizacja - długość wektora =1\n",
    "normalize(vec)"
   ]
  },
  {
   "cell_type": "code",
   "execution_count": 16,
   "metadata": {},
   "outputs": [
    {
     "data": {
      "text/plain": [
       "1.0"
      ]
     },
     "execution_count": 16,
     "metadata": {},
     "output_type": "execute_result"
    }
   ],
   "source": [
    "# sprawdzamy długość^2\n",
    "dot(normalize(vec), normalize(vec))"
   ]
  },
  {
   "cell_type": "markdown",
   "metadata": {},
   "source": [
    "* 0bliczamy funkcję bazową uwzględniającą czynnik wagowy.\n",
    "$<P_m,P_n>=\\int_{-\\infty}^{\\infty} H_n(x)H_m(x)\\exp(-x^2)dx \n",
    "= \\int_{-\\infty}^{\\infty}\\underbrace{H_n(x)\\exp(-\\frac{x^2}{2})}_{\\text{funkcja bazowa}_n}\\underbrace{H_m(x)\\exp(-\\frac{x^2}{2})}_{\\text{funkcja bazowa}_m}$\n",
    "\n",
    "* Wyliczamy jej wartości dla podanych punktów x\n",
    "* Otrzymany wektor wartości normalizujemy\n"
   ]
  },
  {
   "cell_type": "code",
   "execution_count": 17,
   "metadata": {},
   "outputs": [
    {
     "data": {
      "text/plain": [
       "base_fun (generic function with 2 methods)"
      ]
     },
     "execution_count": 17,
     "metadata": {},
     "output_type": "execute_result"
    }
   ],
   "source": [
    "# obliczamy funkcję bazową\n",
    "# argument 'norm'  na potrzeby wykresów\n",
    "function base_fun(k, x, norm=true)\n",
    "    H_k = basis(Hermite, k).(x)\n",
    "    app = H_k .* exp.(-(x.^2)/2)\n",
    "    # normalize to have norm 1\n",
    "    if norm\n",
    "        return normalize(app)\n",
    "    end\n",
    "    return app\n",
    "end"
   ]
  },
  {
   "cell_type": "code",
   "execution_count": 18,
   "metadata": {
    "scrolled": true
   },
   "outputs": [],
   "source": [
    "y_2_unnorm = base_fun(2, xx, false);\n",
    "y_2_norm = base_fun(2, xx);"
   ]
  },
  {
   "cell_type": "code",
   "execution_count": 19,
   "metadata": {},
   "outputs": [
    {
     "data": {
      "image/svg+xml": [
       "<?xml version=\"1.0\" encoding=\"utf-8\"?>\n",
       "<svg xmlns=\"http://www.w3.org/2000/svg\" xmlns:xlink=\"http://www.w3.org/1999/xlink\" width=\"600\" height=\"400\" viewBox=\"0 0 2400 1600\">\n",
       "<defs>\n",
       "  <clipPath id=\"clip240\">\n",
       "    <rect x=\"0\" y=\"0\" width=\"2400\" height=\"1600\"/>\n",
       "  </clipPath>\n",
       "</defs>\n",
       "<path clip-path=\"url(#clip240)\" d=\"\n",
       "M0 1600 L2400 1600 L2400 0 L0 0  Z\n",
       "  \" fill=\"#ffffff\" fill-rule=\"evenodd\" fill-opacity=\"1\"/>\n",
       "<defs>\n",
       "  <clipPath id=\"clip241\">\n",
       "    <rect x=\"480\" y=\"0\" width=\"1681\" height=\"1600\"/>\n",
       "  </clipPath>\n",
       "</defs>\n",
       "<path clip-path=\"url(#clip240)\" d=\"\n",
       "M147.108 1486.45 L2352.76 1486.45 L2352.76 47.2441 L147.108 47.2441  Z\n",
       "  \" fill=\"#ffffff\" fill-rule=\"evenodd\" fill-opacity=\"1\"/>\n",
       "<defs>\n",
       "  <clipPath id=\"clip242\">\n",
       "    <rect x=\"147\" y=\"47\" width=\"2207\" height=\"1440\"/>\n",
       "  </clipPath>\n",
       "</defs>\n",
       "<polyline clip-path=\"url(#clip242)\" style=\"stroke:#000000; stroke-linecap:butt; stroke-linejoin:round; stroke-width:2; stroke-opacity:0.1; fill:none\" points=\"\n",
       "  417.612,1486.45 417.612,47.2441 \n",
       "  \"/>\n",
       "<polyline clip-path=\"url(#clip242)\" style=\"stroke:#000000; stroke-linecap:butt; stroke-linejoin:round; stroke-width:2; stroke-opacity:0.1; fill:none\" points=\"\n",
       "  833.772,1486.45 833.772,47.2441 \n",
       "  \"/>\n",
       "<polyline clip-path=\"url(#clip242)\" style=\"stroke:#000000; stroke-linecap:butt; stroke-linejoin:round; stroke-width:2; stroke-opacity:0.1; fill:none\" points=\"\n",
       "  1249.93,1486.45 1249.93,47.2441 \n",
       "  \"/>\n",
       "<polyline clip-path=\"url(#clip242)\" style=\"stroke:#000000; stroke-linecap:butt; stroke-linejoin:round; stroke-width:2; stroke-opacity:0.1; fill:none\" points=\"\n",
       "  1666.09,1486.45 1666.09,47.2441 \n",
       "  \"/>\n",
       "<polyline clip-path=\"url(#clip242)\" style=\"stroke:#000000; stroke-linecap:butt; stroke-linejoin:round; stroke-width:2; stroke-opacity:0.1; fill:none\" points=\"\n",
       "  2082.25,1486.45 2082.25,47.2441 \n",
       "  \"/>\n",
       "<polyline clip-path=\"url(#clip240)\" style=\"stroke:#000000; stroke-linecap:butt; stroke-linejoin:round; stroke-width:4; stroke-opacity:1; fill:none\" points=\"\n",
       "  147.108,1486.45 2352.76,1486.45 \n",
       "  \"/>\n",
       "<polyline clip-path=\"url(#clip240)\" style=\"stroke:#000000; stroke-linecap:butt; stroke-linejoin:round; stroke-width:4; stroke-opacity:1; fill:none\" points=\"\n",
       "  417.612,1486.45 417.612,1467.55 \n",
       "  \"/>\n",
       "<polyline clip-path=\"url(#clip240)\" style=\"stroke:#000000; stroke-linecap:butt; stroke-linejoin:round; stroke-width:4; stroke-opacity:1; fill:none\" points=\"\n",
       "  833.772,1486.45 833.772,1467.55 \n",
       "  \"/>\n",
       "<polyline clip-path=\"url(#clip240)\" style=\"stroke:#000000; stroke-linecap:butt; stroke-linejoin:round; stroke-width:4; stroke-opacity:1; fill:none\" points=\"\n",
       "  1249.93,1486.45 1249.93,1467.55 \n",
       "  \"/>\n",
       "<polyline clip-path=\"url(#clip240)\" style=\"stroke:#000000; stroke-linecap:butt; stroke-linejoin:round; stroke-width:4; stroke-opacity:1; fill:none\" points=\"\n",
       "  1666.09,1486.45 1666.09,1467.55 \n",
       "  \"/>\n",
       "<polyline clip-path=\"url(#clip240)\" style=\"stroke:#000000; stroke-linecap:butt; stroke-linejoin:round; stroke-width:4; stroke-opacity:1; fill:none\" points=\"\n",
       "  2082.25,1486.45 2082.25,1467.55 \n",
       "  \"/>\n",
       "<path clip-path=\"url(#clip240)\" d=\"M386.512 1532.02 L416.188 1532.02 L416.188 1535.95 L386.512 1535.95 L386.512 1532.02 Z\" fill=\"#000000\" fill-rule=\"evenodd\" fill-opacity=\"1\" /><path clip-path=\"url(#clip240)\" d=\"M439.128 1518.36 L427.322 1536.81 L439.128 1536.81 L439.128 1518.36 M437.901 1514.29 L443.78 1514.29 L443.78 1536.81 L448.711 1536.81 L448.711 1540.7 L443.78 1540.7 L443.78 1548.85 L439.128 1548.85 L439.128 1540.7 L423.526 1540.7 L423.526 1536.19 L437.901 1514.29 Z\" fill=\"#000000\" fill-rule=\"evenodd\" fill-opacity=\"1\" /><path clip-path=\"url(#clip240)\" d=\"M803.714 1532.02 L833.39 1532.02 L833.39 1535.95 L803.714 1535.95 L803.714 1532.02 Z\" fill=\"#000000\" fill-rule=\"evenodd\" fill-opacity=\"1\" /><path clip-path=\"url(#clip240)\" d=\"M847.51 1544.91 L863.829 1544.91 L863.829 1548.85 L841.885 1548.85 L841.885 1544.91 Q844.547 1542.16 849.13 1537.53 Q853.737 1532.88 854.917 1531.53 Q857.163 1529.01 858.042 1527.27 Q858.945 1525.51 858.945 1523.82 Q858.945 1521.07 857.001 1519.33 Q855.079 1517.6 851.978 1517.6 Q849.779 1517.6 847.325 1518.36 Q844.894 1519.13 842.117 1520.68 L842.117 1515.95 Q844.941 1514.82 847.394 1514.24 Q849.848 1513.66 851.885 1513.66 Q857.255 1513.66 860.45 1516.35 Q863.644 1519.03 863.644 1523.52 Q863.644 1525.65 862.834 1527.57 Q862.047 1529.47 859.94 1532.07 Q859.362 1532.74 856.26 1535.95 Q853.158 1539.15 847.51 1544.91 Z\" fill=\"#000000\" fill-rule=\"evenodd\" fill-opacity=\"1\" /><path clip-path=\"url(#clip240)\" d=\"M1249.93 1517.37 Q1246.32 1517.37 1244.49 1520.93 Q1242.69 1524.47 1242.69 1531.6 Q1242.69 1538.71 1244.49 1542.27 Q1246.32 1545.82 1249.93 1545.82 Q1253.57 1545.82 1255.37 1542.27 Q1257.2 1538.71 1257.2 1531.6 Q1257.2 1524.47 1255.37 1520.93 Q1253.57 1517.37 1249.93 1517.37 M1249.93 1513.66 Q1255.74 1513.66 1258.8 1518.27 Q1261.88 1522.85 1261.88 1531.6 Q1261.88 1540.33 1258.8 1544.94 Q1255.74 1549.52 1249.93 1549.52 Q1244.12 1549.52 1241.04 1544.94 Q1237.99 1540.33 1237.99 1531.6 Q1237.99 1522.85 1241.04 1518.27 Q1244.12 1513.66 1249.93 1513.66 Z\" fill=\"#000000\" fill-rule=\"evenodd\" fill-opacity=\"1\" /><path clip-path=\"url(#clip240)\" d=\"M1660.74 1544.91 L1677.06 1544.91 L1677.06 1548.85 L1655.12 1548.85 L1655.12 1544.91 Q1657.78 1542.16 1662.36 1537.53 Q1666.97 1532.88 1668.15 1531.53 Q1670.4 1529.01 1671.28 1527.27 Q1672.18 1525.51 1672.18 1523.82 Q1672.18 1521.07 1670.24 1519.33 Q1668.31 1517.6 1665.21 1517.6 Q1663.01 1517.6 1660.56 1518.36 Q1658.13 1519.13 1655.35 1520.68 L1655.35 1515.95 Q1658.18 1514.82 1660.63 1514.24 Q1663.08 1513.66 1665.12 1513.66 Q1670.49 1513.66 1673.68 1516.35 Q1676.88 1519.03 1676.88 1523.52 Q1676.88 1525.65 1676.07 1527.57 Q1675.28 1529.47 1673.18 1532.07 Q1672.6 1532.74 1669.49 1535.95 Q1666.39 1539.15 1660.74 1544.91 Z\" fill=\"#000000\" fill-rule=\"evenodd\" fill-opacity=\"1\" /><path clip-path=\"url(#clip240)\" d=\"M2085.26 1518.36 L2073.46 1536.81 L2085.26 1536.81 L2085.26 1518.36 M2084.03 1514.29 L2089.91 1514.29 L2089.91 1536.81 L2094.84 1536.81 L2094.84 1540.7 L2089.91 1540.7 L2089.91 1548.85 L2085.26 1548.85 L2085.26 1540.7 L2069.66 1540.7 L2069.66 1536.19 L2084.03 1514.29 Z\" fill=\"#000000\" fill-rule=\"evenodd\" fill-opacity=\"1\" /><polyline clip-path=\"url(#clip242)\" style=\"stroke:#000000; stroke-linecap:butt; stroke-linejoin:round; stroke-width:2; stroke-opacity:0.1; fill:none\" points=\"\n",
       "  147.108,1445.72 2352.76,1445.72 \n",
       "  \"/>\n",
       "<polyline clip-path=\"url(#clip242)\" style=\"stroke:#000000; stroke-linecap:butt; stroke-linejoin:round; stroke-width:2; stroke-opacity:0.1; fill:none\" points=\"\n",
       "  147.108,1144 2352.76,1144 \n",
       "  \"/>\n",
       "<polyline clip-path=\"url(#clip242)\" style=\"stroke:#000000; stroke-linecap:butt; stroke-linejoin:round; stroke-width:2; stroke-opacity:0.1; fill:none\" points=\"\n",
       "  147.108,842.276 2352.76,842.276 \n",
       "  \"/>\n",
       "<polyline clip-path=\"url(#clip242)\" style=\"stroke:#000000; stroke-linecap:butt; stroke-linejoin:round; stroke-width:2; stroke-opacity:0.1; fill:none\" points=\"\n",
       "  147.108,540.556 2352.76,540.556 \n",
       "  \"/>\n",
       "<polyline clip-path=\"url(#clip242)\" style=\"stroke:#000000; stroke-linecap:butt; stroke-linejoin:round; stroke-width:2; stroke-opacity:0.1; fill:none\" points=\"\n",
       "  147.108,238.836 2352.76,238.836 \n",
       "  \"/>\n",
       "<polyline clip-path=\"url(#clip240)\" style=\"stroke:#000000; stroke-linecap:butt; stroke-linejoin:round; stroke-width:4; stroke-opacity:1; fill:none\" points=\"\n",
       "  147.108,1486.45 147.108,47.2441 \n",
       "  \"/>\n",
       "<polyline clip-path=\"url(#clip240)\" style=\"stroke:#000000; stroke-linecap:butt; stroke-linejoin:round; stroke-width:4; stroke-opacity:1; fill:none\" points=\"\n",
       "  147.108,1445.72 166.005,1445.72 \n",
       "  \"/>\n",
       "<polyline clip-path=\"url(#clip240)\" style=\"stroke:#000000; stroke-linecap:butt; stroke-linejoin:round; stroke-width:4; stroke-opacity:1; fill:none\" points=\"\n",
       "  147.108,1144 166.005,1144 \n",
       "  \"/>\n",
       "<polyline clip-path=\"url(#clip240)\" style=\"stroke:#000000; stroke-linecap:butt; stroke-linejoin:round; stroke-width:4; stroke-opacity:1; fill:none\" points=\"\n",
       "  147.108,842.276 166.005,842.276 \n",
       "  \"/>\n",
       "<polyline clip-path=\"url(#clip240)\" style=\"stroke:#000000; stroke-linecap:butt; stroke-linejoin:round; stroke-width:4; stroke-opacity:1; fill:none\" points=\"\n",
       "  147.108,540.556 166.005,540.556 \n",
       "  \"/>\n",
       "<polyline clip-path=\"url(#clip240)\" style=\"stroke:#000000; stroke-linecap:butt; stroke-linejoin:round; stroke-width:4; stroke-opacity:1; fill:none\" points=\"\n",
       "  147.108,238.836 166.005,238.836 \n",
       "  \"/>\n",
       "<path clip-path=\"url(#clip240)\" d=\"M50.9921 1446.17 L80.6679 1446.17 L80.6679 1450.1 L50.9921 1450.1 L50.9921 1446.17 Z\" fill=\"#000000\" fill-rule=\"evenodd\" fill-opacity=\"1\" /><path clip-path=\"url(#clip240)\" d=\"M94.7882 1459.06 L111.108 1459.06 L111.108 1463 L89.1632 1463 L89.1632 1459.06 Q91.8252 1456.31 96.4085 1451.68 Q101.015 1447.02 102.196 1445.68 Q104.441 1443.16 105.321 1441.42 Q106.223 1439.66 106.223 1437.97 Q106.223 1435.22 104.279 1433.48 Q102.358 1431.75 99.2558 1431.75 Q97.0567 1431.75 94.603 1432.51 Q92.1725 1433.27 89.3947 1434.82 L89.3947 1430.1 Q92.2188 1428.97 94.6724 1428.39 Q97.1261 1427.81 99.1632 1427.81 Q104.534 1427.81 107.728 1430.5 Q110.922 1433.18 110.922 1437.67 Q110.922 1439.8 110.112 1441.72 Q109.325 1443.62 107.219 1446.21 Q106.64 1446.88 103.538 1450.1 Q100.436 1453.3 94.7882 1459.06 Z\" fill=\"#000000\" fill-rule=\"evenodd\" fill-opacity=\"1\" /><path clip-path=\"url(#clip240)\" d=\"M99.1632 1129.79 Q95.5521 1129.79 93.7234 1133.36 Q91.9178 1136.9 91.9178 1144.03 Q91.9178 1151.14 93.7234 1154.7 Q95.5521 1158.24 99.1632 1158.24 Q102.797 1158.24 104.603 1154.7 Q106.432 1151.14 106.432 1144.03 Q106.432 1136.9 104.603 1133.36 Q102.797 1129.79 99.1632 1129.79 M99.1632 1126.09 Q104.973 1126.09 108.029 1130.7 Q111.108 1135.28 111.108 1144.03 Q111.108 1152.76 108.029 1157.36 Q104.973 1161.95 99.1632 1161.95 Q93.353 1161.95 90.2743 1157.36 Q87.2188 1152.76 87.2188 1144.03 Q87.2188 1135.28 90.2743 1130.7 Q93.353 1126.09 99.1632 1126.09 Z\" fill=\"#000000\" fill-rule=\"evenodd\" fill-opacity=\"1\" /><path clip-path=\"url(#clip240)\" d=\"M94.7882 855.621 L111.108 855.621 L111.108 859.556 L89.1632 859.556 L89.1632 855.621 Q91.8252 852.866 96.4085 848.237 Q101.015 843.584 102.196 842.241 Q104.441 839.718 105.321 837.982 Q106.223 836.223 106.223 834.533 Q106.223 831.778 104.279 830.042 Q102.358 828.306 99.2558 828.306 Q97.0567 828.306 94.603 829.07 Q92.1725 829.834 89.3947 831.385 L89.3947 826.663 Q92.2188 825.528 94.6724 824.95 Q97.1261 824.371 99.1632 824.371 Q104.534 824.371 107.728 827.056 Q110.922 829.741 110.922 834.232 Q110.922 836.362 110.112 838.283 Q109.325 840.181 107.219 842.774 Q106.64 843.445 103.538 846.663 Q100.436 849.857 94.7882 855.621 Z\" fill=\"#000000\" fill-rule=\"evenodd\" fill-opacity=\"1\" /><path clip-path=\"url(#clip240)\" d=\"M101.524 527.35 L89.7188 545.799 L101.524 545.799 L101.524 527.35 M100.297 523.276 L106.177 523.276 L106.177 545.799 L111.108 545.799 L111.108 549.688 L106.177 549.688 L106.177 557.836 L101.524 557.836 L101.524 549.688 L85.9225 549.688 L85.9225 545.174 L100.297 523.276 Z\" fill=\"#000000\" fill-rule=\"evenodd\" fill-opacity=\"1\" /><path clip-path=\"url(#clip240)\" d=\"M99.5798 236.973 Q96.4317 236.973 94.5799 239.126 Q92.7512 241.278 92.7512 245.028 Q92.7512 248.755 94.5799 250.931 Q96.4317 253.084 99.5798 253.084 Q102.728 253.084 104.557 250.931 Q106.408 248.755 106.408 245.028 Q106.408 241.278 104.557 239.126 Q102.728 236.973 99.5798 236.973 M108.862 222.32 L108.862 226.579 Q107.103 225.746 105.297 225.306 Q103.515 224.866 101.756 224.866 Q97.1261 224.866 94.6724 227.991 Q92.2419 231.116 91.8947 237.436 Q93.2604 235.422 95.3206 234.357 Q97.3808 233.269 99.8576 233.269 Q105.066 233.269 108.075 236.44 Q111.108 239.589 111.108 245.028 Q111.108 250.352 107.959 253.57 Q104.811 256.788 99.5798 256.788 Q93.5845 256.788 90.4132 252.204 Q87.2419 247.598 87.2419 238.871 Q87.2419 230.677 91.1308 225.815 Q95.0197 220.931 101.571 220.931 Q103.33 220.931 105.112 221.278 Q106.918 221.626 108.862 222.32 Z\" fill=\"#000000\" fill-rule=\"evenodd\" fill-opacity=\"1\" /><polyline clip-path=\"url(#clip242)\" style=\"stroke:#009af9; stroke-linecap:butt; stroke-linejoin:round; stroke-width:4; stroke-opacity:1; fill:none\" points=\"\n",
       "  937.812,87.9763 944.054,141.743 950.296,194.423 956.539,246.017 962.781,296.525 969.024,345.947 975.266,394.282 981.508,441.532 987.751,487.695 993.993,532.772 \n",
       "  1000.24,576.762 1006.48,619.667 1012.72,661.485 1018.96,702.218 1025.21,741.864 1031.45,780.423 1037.69,817.897 1043.93,854.284 1050.17,889.586 1056.42,923.801 \n",
       "  1062.66,956.93 1068.9,988.972 1075.14,1019.93 1081.39,1049.8 1087.63,1078.58 1093.87,1106.28 1100.11,1132.89 1106.36,1158.42 1112.6,1182.86 1118.84,1206.21 \n",
       "  1125.08,1228.48 1131.33,1249.66 1137.57,1269.75 1143.81,1288.76 1150.05,1306.68 1156.3,1323.52 1162.54,1339.27 1168.78,1353.93 1175.02,1367.51 1181.27,1380 \n",
       "  1187.51,1391.41 1193.75,1401.72 1199.99,1410.96 1206.23,1419.1 1212.48,1426.16 1218.72,1432.14 1224.96,1437.03 1231.2,1440.83 1237.45,1443.54 1243.69,1445.17 \n",
       "  1249.93,1445.72 1256.17,1445.17 1262.42,1443.54 1268.66,1440.83 1274.9,1437.03 1281.14,1432.14 1287.39,1426.16 1293.63,1419.1 1299.87,1410.96 1306.11,1401.72 \n",
       "  1312.36,1391.41 1318.6,1380 1324.84,1367.51 1331.08,1353.93 1337.33,1339.27 1343.57,1323.52 1349.81,1306.68 1356.05,1288.76 1362.29,1269.75 1368.54,1249.66 \n",
       "  1374.78,1228.48 1381.02,1206.21 1387.26,1182.86 1393.51,1158.42 1399.75,1132.89 1405.99,1106.28 1412.23,1078.58 1418.48,1049.8 1424.72,1019.93 1430.96,988.972 \n",
       "  1437.2,956.93 1443.45,923.801 1449.69,889.586 1455.93,854.284 1462.17,817.897 1468.42,780.423 1474.66,741.864 1480.9,702.218 1487.14,661.485 1493.39,619.667 \n",
       "  1499.63,576.762 1505.87,532.772 1512.11,487.695 1518.35,441.532 1524.6,394.282 1530.84,345.947 1537.08,296.525 1543.32,246.017 1549.57,194.423 1555.81,141.743 \n",
       "  1562.05,87.9763 \n",
       "  \"/>\n",
       "<polyline clip-path=\"url(#clip242)\" style=\"stroke:#e26f46; stroke-linecap:butt; stroke-linejoin:round; stroke-width:4; stroke-opacity:1; fill:none\" points=\"\n",
       "  209.532,1143.94 230.34,1143.91 251.148,1143.86 271.956,1143.79 292.764,1143.68 313.572,1143.52 334.38,1143.28 355.188,1142.95 375.996,1142.47 396.804,1141.79 \n",
       "  417.612,1140.86 438.42,1139.58 459.228,1137.84 480.036,1135.52 500.844,1132.46 521.652,1128.49 542.46,1123.38 563.268,1116.92 584.076,1108.87 604.884,1098.98 \n",
       "  625.692,1087.02 646.5,1072.78 667.308,1056.11 688.116,1036.97 708.924,1015.38 729.732,991.544 750.54,965.819 771.348,938.757 792.156,911.116 812.964,883.865 \n",
       "  833.772,858.162 854.58,835.327 875.388,816.785 896.196,803.998 917.004,798.372 937.812,801.156 958.62,813.338 979.428,835.534 1000.24,867.894 1021.04,910.034 \n",
       "  1041.85,960.993 1062.66,1019.23 1083.47,1082.65 1104.28,1148.72 1125.08,1214.56 1145.89,1277.13 1166.7,1333.39 1187.51,1380.52 1208.32,1416.08 1229.12,1438.21 \n",
       "  1249.93,1445.72 1270.74,1438.21 1291.55,1416.08 1312.36,1380.52 1333.16,1333.39 1353.97,1277.13 1374.78,1214.56 1395.59,1148.72 1416.4,1082.65 1437.2,1019.23 \n",
       "  1458.01,960.993 1478.82,910.034 1499.63,867.894 1520.44,835.534 1541.24,813.338 1562.05,801.156 1582.86,798.372 1603.67,803.998 1624.48,816.785 1645.28,835.327 \n",
       "  1666.09,858.162 1686.9,883.865 1707.71,911.116 1728.52,938.757 1749.32,965.819 1770.13,991.544 1790.94,1015.38 1811.75,1036.97 1832.56,1056.11 1853.36,1072.78 \n",
       "  1874.17,1087.02 1894.98,1098.98 1915.79,1108.87 1936.6,1116.92 1957.4,1123.38 1978.21,1128.49 1999.02,1132.46 2019.83,1135.52 2040.64,1137.84 2061.44,1139.58 \n",
       "  2082.25,1140.86 2103.06,1141.79 2123.87,1142.47 2144.68,1142.95 2165.48,1143.28 2186.29,1143.52 2207.1,1143.68 2227.91,1143.79 2248.72,1143.86 2269.52,1143.91 \n",
       "  2290.33,1143.94 \n",
       "  \"/>\n",
       "<polyline clip-path=\"url(#clip242)\" style=\"stroke:#3da44d; stroke-linecap:butt; stroke-linejoin:round; stroke-width:4; stroke-opacity:1; fill:none\" points=\"\n",
       "  209.532,1143.99 230.34,1143.99 251.148,1143.98 271.956,1143.98 292.764,1143.97 313.572,1143.96 334.38,1143.94 355.188,1143.91 375.996,1143.87 396.804,1143.81 \n",
       "  417.612,1143.73 438.42,1143.62 459.228,1143.48 480.036,1143.28 500.844,1143.03 521.652,1142.69 542.46,1142.26 563.268,1141.72 584.076,1141.05 604.884,1140.22 \n",
       "  625.692,1139.21 646.5,1138.01 667.308,1136.62 688.116,1135.01 708.924,1133.19 729.732,1131.19 750.54,1129.03 771.348,1126.76 792.156,1124.44 812.964,1122.15 \n",
       "  833.772,1119.99 854.58,1118.07 875.388,1116.52 896.196,1115.44 917.004,1114.97 937.812,1115.2 958.62,1116.23 979.428,1118.09 1000.24,1120.81 1021.04,1124.35 \n",
       "  1041.85,1128.63 1062.66,1133.52 1083.47,1138.84 1104.28,1144.39 1125.08,1149.92 1145.89,1155.18 1166.7,1159.9 1187.51,1163.86 1208.32,1166.85 1229.12,1168.7 \n",
       "  1249.93,1169.33 1270.74,1168.7 1291.55,1166.85 1312.36,1163.86 1333.16,1159.9 1353.97,1155.18 1374.78,1149.92 1395.59,1144.39 1416.4,1138.84 1437.2,1133.52 \n",
       "  1458.01,1128.63 1478.82,1124.35 1499.63,1120.81 1520.44,1118.09 1541.24,1116.23 1562.05,1115.2 1582.86,1114.97 1603.67,1115.44 1624.48,1116.52 1645.28,1118.07 \n",
       "  1666.09,1119.99 1686.9,1122.15 1707.71,1124.44 1728.52,1126.76 1749.32,1129.03 1770.13,1131.19 1790.94,1133.19 1811.75,1135.01 1832.56,1136.62 1853.36,1138.01 \n",
       "  1874.17,1139.21 1894.98,1140.22 1915.79,1141.05 1936.6,1141.72 1957.4,1142.26 1978.21,1142.69 1999.02,1143.03 2019.83,1143.28 2040.64,1143.48 2061.44,1143.62 \n",
       "  2082.25,1143.73 2103.06,1143.81 2123.87,1143.87 2144.68,1143.91 2165.48,1143.94 2186.29,1143.96 2207.1,1143.97 2227.91,1143.98 2248.72,1143.98 2269.52,1143.99 \n",
       "  2290.33,1143.99 \n",
       "  \"/>\n",
       "<path clip-path=\"url(#clip240)\" d=\"\n",
       "M1712.27 302.578 L2279.23 302.578 L2279.23 95.2176 L1712.27 95.2176  Z\n",
       "  \" fill=\"#ffffff\" fill-rule=\"evenodd\" fill-opacity=\"1\"/>\n",
       "<polyline clip-path=\"url(#clip240)\" style=\"stroke:#000000; stroke-linecap:butt; stroke-linejoin:round; stroke-width:4; stroke-opacity:1; fill:none\" points=\"\n",
       "  1712.27,302.578 2279.23,302.578 2279.23,95.2176 1712.27,95.2176 1712.27,302.578 \n",
       "  \"/>\n",
       "<polyline clip-path=\"url(#clip240)\" style=\"stroke:#009af9; stroke-linecap:butt; stroke-linejoin:round; stroke-width:4; stroke-opacity:1; fill:none\" points=\"\n",
       "  1736.27,147.058 1880.27,147.058 \n",
       "  \"/>\n",
       "<path clip-path=\"url(#clip240)\" d=\"M1904.94 160.402 L1912.58 160.402 L1912.58 134.037 L1904.27 135.703 L1904.27 131.444 L1912.53 129.778 L1917.21 129.778 L1917.21 160.402 L1924.85 160.402 L1924.85 164.338 L1904.94 164.338 L1904.94 160.402 Z\" fill=\"#000000\" fill-rule=\"evenodd\" fill-opacity=\"1\" /><path clip-path=\"url(#clip240)\" d=\"M1934.29 144.94 L1939.18 144.94 L1939.18 150.819 L1934.29 150.819 L1934.29 144.94 Z\" fill=\"#000000\" fill-rule=\"evenodd\" fill-opacity=\"1\" /><path clip-path=\"url(#clip240)\" d=\"M1948.94 129.778 L1953.62 129.778 L1953.62 143.944 L1970.61 143.944 L1970.61 129.778 L1975.29 129.778 L1975.29 164.338 L1970.61 164.338 L1970.61 147.879 L1953.62 147.879 L1953.62 164.338 L1948.94 164.338 L1948.94 129.778 Z\" fill=\"#000000\" fill-rule=\"evenodd\" fill-opacity=\"1\" /><path clip-path=\"url(#clip240)\" d=\"M1986.14 161.699 L1995.96 161.699 L1995.96 164.338 L1982.12 164.338 L1982.12 161.791 Q1982.9 161.074 1984.36 159.777 Q1992.32 152.717 1992.32 150.541 Q1992.32 149.014 1991.12 148.088 Q1989.92 147.139 1987.95 147.139 Q1986.74 147.139 1985.33 147.555 Q1983.92 147.949 1982.25 148.759 L1982.25 145.912 Q1984.04 145.264 1985.56 144.94 Q1987.12 144.615 1988.43 144.615 Q1991.79 144.615 1993.81 146.143 Q1995.82 147.671 1995.82 150.171 Q1995.82 153.389 1988.16 159.963 Q1986.86 161.074 1986.14 161.699 Z\" fill=\"#000000\" fill-rule=\"evenodd\" fill-opacity=\"1\" /><path clip-path=\"url(#clip240)\" d=\"M2013.64 128.366 Q2010.54 133.69 2009.04 138.898 Q2007.53 144.106 2007.53 149.453 Q2007.53 154.801 2009.04 160.055 Q2010.56 165.287 2013.64 170.588 L2009.94 170.588 Q2006.47 165.148 2004.73 159.893 Q2003.02 154.639 2003.02 149.453 Q2003.02 144.291 2004.73 139.06 Q2006.44 133.828 2009.94 128.366 L2013.64 128.366 Z\" fill=\"#000000\" fill-rule=\"evenodd\" fill-opacity=\"1\" /><path clip-path=\"url(#clip240)\" d=\"M2043.46 138.412 L2034.08 151.027 L2043.94 164.338 L2038.92 164.338 L2031.37 154.152 L2023.83 164.338 L2018.8 164.338 L2028.87 150.773 L2019.66 138.412 L2024.68 138.412 L2031.56 147.648 L2038.43 138.412 L2043.46 138.412 Z\" fill=\"#000000\" fill-rule=\"evenodd\" fill-opacity=\"1\" /><path clip-path=\"url(#clip240)\" d=\"M2049.29 128.366 L2052.99 128.366 Q2056.47 133.828 2058.18 139.06 Q2059.92 144.291 2059.92 149.453 Q2059.92 154.639 2058.18 159.893 Q2056.47 165.148 2052.99 170.588 L2049.29 170.588 Q2052.37 165.287 2053.87 160.055 Q2055.4 154.801 2055.4 149.453 Q2055.4 144.106 2053.87 138.898 Q2052.37 133.69 2049.29 128.366 Z\" fill=\"#000000\" fill-rule=\"evenodd\" fill-opacity=\"1\" /><polyline clip-path=\"url(#clip240)\" style=\"stroke:#e26f46; stroke-linecap:butt; stroke-linejoin:round; stroke-width:4; stroke-opacity:1; fill:none\" points=\"\n",
       "  1736.27,198.898 1880.27,198.898 \n",
       "  \"/>\n",
       "<path clip-path=\"url(#clip240)\" d=\"M1904.27 181.618 L1924.13 181.618 L1924.13 185.553 L1908.94 185.553 L1908.94 195.738 L1922.65 195.738 L1922.65 199.673 L1908.94 199.673 L1908.94 216.178 L1904.27 216.178 L1904.27 181.618 Z\" fill=\"#000000\" fill-rule=\"evenodd\" fill-opacity=\"1\" /><path clip-path=\"url(#clip240)\" d=\"M1935.98 212.242 L1952.3 212.242 L1952.3 216.178 L1930.36 216.178 L1930.36 212.242 Q1933.02 209.488 1937.6 204.858 Q1942.21 200.205 1943.39 198.863 Q1945.63 196.34 1946.51 194.604 Q1947.42 192.844 1947.42 191.155 Q1947.42 188.4 1945.47 186.664 Q1943.55 184.928 1940.45 184.928 Q1938.25 184.928 1935.8 185.692 Q1933.37 186.455 1930.59 188.006 L1930.59 183.284 Q1933.41 182.15 1935.87 181.571 Q1938.32 180.993 1940.36 180.993 Q1945.73 180.993 1948.92 183.678 Q1952.12 186.363 1952.12 190.854 Q1952.12 192.983 1951.31 194.905 Q1950.52 196.803 1948.41 199.395 Q1947.83 200.067 1944.73 203.284 Q1941.63 206.479 1935.98 212.242 Z\" fill=\"#000000\" fill-rule=\"evenodd\" fill-opacity=\"1\" /><polyline clip-path=\"url(#clip240)\" style=\"stroke:#3da44d; stroke-linecap:butt; stroke-linejoin:round; stroke-width:4; stroke-opacity:1; fill:none\" points=\"\n",
       "  1736.27,250.738 1880.27,250.738 \n",
       "  \"/>\n",
       "<path clip-path=\"url(#clip240)\" d=\"M1904.27 233.458 L1924.13 233.458 L1924.13 237.393 L1908.94 237.393 L1908.94 247.578 L1922.65 247.578 L1922.65 251.513 L1908.94 251.513 L1908.94 268.018 L1904.27 268.018 L1904.27 233.458 Z\" fill=\"#000000\" fill-rule=\"evenodd\" fill-opacity=\"1\" /><path clip-path=\"url(#clip240)\" d=\"M1935.98 264.082 L1952.3 264.082 L1952.3 268.018 L1930.36 268.018 L1930.36 264.082 Q1933.02 261.328 1937.6 256.698 Q1942.21 252.045 1943.39 250.703 Q1945.63 248.18 1946.51 246.444 Q1947.42 244.684 1947.42 242.995 Q1947.42 240.24 1945.47 238.504 Q1943.55 236.768 1940.45 236.768 Q1938.25 236.768 1935.8 237.532 Q1933.37 238.295 1930.59 239.846 L1930.59 235.124 Q1933.41 233.99 1935.87 233.411 Q1938.32 232.833 1940.36 232.833 Q1945.73 232.833 1948.92 235.518 Q1952.12 238.203 1952.12 242.694 Q1952.12 244.823 1951.31 246.745 Q1950.52 248.643 1948.41 251.235 Q1947.83 251.907 1944.73 255.124 Q1941.63 258.319 1935.98 264.082 Z\" fill=\"#000000\" fill-rule=\"evenodd\" fill-opacity=\"1\" /><path clip-path=\"url(#clip240)\" d=\"M1998.13 252.369 L1998.13 268.018 L1993.87 268.018 L1993.87 252.508 Q1993.87 248.828 1992.44 246.999 Q1991 245.17 1988.13 245.17 Q1984.68 245.17 1982.69 247.37 Q1980.7 249.569 1980.7 253.365 L1980.7 268.018 L1976.42 268.018 L1976.42 242.092 L1980.7 242.092 L1980.7 246.12 Q1982.23 243.782 1984.29 242.624 Q1986.37 241.467 1989.08 241.467 Q1993.55 241.467 1995.84 244.245 Q1998.13 246.999 1998.13 252.369 Z\" fill=\"#000000\" fill-rule=\"evenodd\" fill-opacity=\"1\" /><path clip-path=\"url(#clip240)\" d=\"M2016.68 245.078 Q2013.25 245.078 2011.26 247.763 Q2009.27 250.425 2009.27 255.078 Q2009.27 259.731 2011.24 262.416 Q2013.23 265.078 2016.68 265.078 Q2020.08 265.078 2022.07 262.393 Q2024.06 259.707 2024.06 255.078 Q2024.06 250.471 2022.07 247.786 Q2020.08 245.078 2016.68 245.078 M2016.68 241.467 Q2022.23 241.467 2025.4 245.078 Q2028.57 248.689 2028.57 255.078 Q2028.57 261.444 2025.4 265.078 Q2022.23 268.689 2016.68 268.689 Q2011.1 268.689 2007.93 265.078 Q2004.78 261.444 2004.78 255.078 Q2004.78 248.689 2007.93 245.078 Q2011.1 241.467 2016.68 241.467 Z\" fill=\"#000000\" fill-rule=\"evenodd\" fill-opacity=\"1\" /><path clip-path=\"url(#clip240)\" d=\"M2050.66 246.073 Q2049.94 245.657 2049.08 245.471 Q2048.25 245.263 2047.23 245.263 Q2043.62 245.263 2041.68 247.624 Q2039.75 249.962 2039.75 254.36 L2039.75 268.018 L2035.47 268.018 L2035.47 242.092 L2039.75 242.092 L2039.75 246.12 Q2041.1 243.758 2043.25 242.624 Q2045.4 241.467 2048.48 241.467 Q2048.92 241.467 2049.45 241.536 Q2049.99 241.583 2050.63 241.698 L2050.66 246.073 Z\" fill=\"#000000\" fill-rule=\"evenodd\" fill-opacity=\"1\" /><path clip-path=\"url(#clip240)\" d=\"M2074.48 247.069 Q2076.07 244.198 2078.3 242.833 Q2080.52 241.467 2083.53 241.467 Q2087.58 241.467 2089.78 244.314 Q2091.98 247.138 2091.98 252.369 L2091.98 268.018 L2087.69 268.018 L2087.69 252.508 Q2087.69 248.782 2086.37 246.976 Q2085.05 245.17 2082.35 245.17 Q2079.04 245.17 2077.11 247.37 Q2075.19 249.569 2075.19 253.365 L2075.19 268.018 L2070.91 268.018 L2070.91 252.508 Q2070.91 248.758 2069.59 246.976 Q2068.27 245.17 2065.52 245.17 Q2062.25 245.17 2060.33 247.393 Q2058.41 249.592 2058.41 253.365 L2058.41 268.018 L2054.13 268.018 L2054.13 242.092 L2058.41 242.092 L2058.41 246.12 Q2059.87 243.735 2061.91 242.601 Q2063.94 241.467 2066.74 241.467 Q2069.57 241.467 2071.54 242.902 Q2073.53 244.337 2074.48 247.069 Z\" fill=\"#000000\" fill-rule=\"evenodd\" fill-opacity=\"1\" /><path clip-path=\"url(#clip240)\" d=\"M2112.25 254.985 Q2107.09 254.985 2105.1 256.166 Q2103.11 257.346 2103.11 260.194 Q2103.11 262.462 2104.59 263.805 Q2106.1 265.124 2108.67 265.124 Q2112.21 265.124 2114.34 262.624 Q2116.49 260.101 2116.49 255.934 L2116.49 254.985 L2112.25 254.985 M2120.75 253.226 L2120.75 268.018 L2116.49 268.018 L2116.49 264.082 Q2115.03 266.443 2112.86 267.578 Q2110.68 268.689 2107.53 268.689 Q2103.55 268.689 2101.19 266.467 Q2098.85 264.221 2098.85 260.471 Q2098.85 256.096 2101.77 253.874 Q2104.71 251.652 2110.52 251.652 L2116.49 251.652 L2116.49 251.235 Q2116.49 248.295 2114.55 246.698 Q2112.62 245.078 2109.13 245.078 Q2106.91 245.078 2104.8 245.61 Q2102.69 246.143 2100.75 247.207 L2100.75 243.272 Q2103.09 242.37 2105.29 241.93 Q2107.48 241.467 2109.57 241.467 Q2115.19 241.467 2117.97 244.383 Q2120.75 247.3 2120.75 253.226 Z\" fill=\"#000000\" fill-rule=\"evenodd\" fill-opacity=\"1\" /><path clip-path=\"url(#clip240)\" d=\"M2129.52 231.999 L2133.78 231.999 L2133.78 268.018 L2129.52 268.018 L2129.52 231.999 Z\" fill=\"#000000\" fill-rule=\"evenodd\" fill-opacity=\"1\" /><path clip-path=\"url(#clip240)\" d=\"M2142.69 242.092 L2146.95 242.092 L2146.95 268.018 L2142.69 268.018 L2142.69 242.092 M2142.69 231.999 L2146.95 231.999 L2146.95 237.393 L2142.69 237.393 L2142.69 231.999 Z\" fill=\"#000000\" fill-rule=\"evenodd\" fill-opacity=\"1\" /><path clip-path=\"url(#clip240)\" d=\"M2154.01 242.092 L2174.24 242.092 L2174.24 245.981 L2158.23 264.615 L2174.24 264.615 L2174.24 268.018 L2153.43 268.018 L2153.43 264.129 L2169.45 245.495 L2154.01 245.495 L2154.01 242.092 Z\" fill=\"#000000\" fill-rule=\"evenodd\" fill-opacity=\"1\" /><path clip-path=\"url(#clip240)\" d=\"M2202.92 253.99 L2202.92 256.073 L2183.34 256.073 Q2183.62 260.471 2185.98 262.786 Q2188.36 265.078 2192.6 265.078 Q2195.05 265.078 2197.35 264.476 Q2199.66 263.874 2201.93 262.67 L2201.93 266.698 Q2199.64 267.67 2197.23 268.18 Q2194.82 268.689 2192.35 268.689 Q2186.14 268.689 2182.51 265.078 Q2178.9 261.467 2178.9 255.309 Q2178.9 248.944 2182.32 245.217 Q2185.77 241.467 2191.6 241.467 Q2196.84 241.467 2199.87 244.846 Q2202.92 248.203 2202.92 253.99 M2198.67 252.74 Q2198.62 249.245 2196.7 247.161 Q2194.8 245.078 2191.65 245.078 Q2188.09 245.078 2185.93 247.092 Q2183.8 249.106 2183.48 252.763 L2198.67 252.74 Z\" fill=\"#000000\" fill-rule=\"evenodd\" fill-opacity=\"1\" /><path clip-path=\"url(#clip240)\" d=\"M2226.98 246.027 L2226.98 231.999 L2231.23 231.999 L2231.23 268.018 L2226.98 268.018 L2226.98 264.129 Q2225.63 266.443 2223.57 267.578 Q2221.54 268.689 2218.66 268.689 Q2213.97 268.689 2211 264.939 Q2208.06 261.189 2208.06 255.078 Q2208.06 248.967 2211 245.217 Q2213.97 241.467 2218.66 241.467 Q2221.54 241.467 2223.57 242.601 Q2225.63 243.712 2226.98 246.027 M2212.46 255.078 Q2212.46 259.777 2214.38 262.462 Q2216.33 265.124 2219.71 265.124 Q2223.09 265.124 2225.03 262.462 Q2226.98 259.777 2226.98 255.078 Q2226.98 250.379 2225.03 247.717 Q2223.09 245.032 2219.71 245.032 Q2216.33 245.032 2214.38 247.717 Q2212.46 250.379 2212.46 255.078 Z\" fill=\"#000000\" fill-rule=\"evenodd\" fill-opacity=\"1\" /></svg>\n"
      ]
     },
     "execution_count": 19,
     "metadata": {},
     "output_type": "execute_result"
    }
   ],
   "source": [
    "plot(Hermite([0, 0, 1]), -1.5, 1.5)\n",
    "plot!(xx, y_2_unnorm, label=\"F2\")\n",
    "plot!(xx, y_2_norm, label=\"F2 normalized\")"
   ]
  },
  {
   "cell_type": "markdown",
   "metadata": {},
   "source": [
    "Obliczamy wektory wartosci dla punktów w xx dla kilku kolejnych funkcji bazowych"
   ]
  },
  {
   "cell_type": "code",
   "execution_count": 20,
   "metadata": {},
   "outputs": [],
   "source": [
    "f0 = base_fun(0, xx, true);\n",
    "f1 = base_fun(1, xx, true);\n",
    "f2 = base_fun(2, xx, true);\n",
    "f3 = base_fun(3, xx, true);"
   ]
  },
  {
   "cell_type": "markdown",
   "metadata": {},
   "source": [
    "Sprawdźmy czy baza jest ortonormalna (uwaga: zamiast liczyć całkę, sprawdzamy po prostu iloczyn skalarny wektorów wartości)"
   ]
  },
  {
   "cell_type": "code",
   "execution_count": 21,
   "metadata": {},
   "outputs": [],
   "source": [
    "dot_base = Array{Float64, 2}(undef, 4, 4); \n",
    "\n",
    "for (i, f_i) in enumerate([f0, f1, f2, f3]) \n",
    "    for (j, f_j) in enumerate([f0, f1, f2, f3])\n",
    "        dot_base[i,j] = dot(f_i, f_j)\n",
    "    end\n",
    "end"
   ]
  },
  {
   "cell_type": "code",
   "execution_count": 22,
   "metadata": {},
   "outputs": [
    {
     "data": {
      "text/plain": [
       "4×4 Matrix{Float64}:\n",
       "  1.0           1.17804e-17  -3.25356e-11   1.85612e-18\n",
       "  1.17804e-17   1.0           8.46587e-18  -9.61163e-10\n",
       " -3.25356e-11   8.46587e-18   1.0          -7.22228e-18\n",
       "  1.85612e-18  -9.61163e-10  -7.22228e-18   1.0"
      ]
     },
     "execution_count": 22,
     "metadata": {},
     "output_type": "execute_result"
    }
   ],
   "source": [
    "dot_base"
   ]
  },
  {
   "cell_type": "markdown",
   "metadata": {},
   "source": [
    "OK, baza jest ortonormalna"
   ]
  },
  {
   "cell_type": "markdown",
   "metadata": {},
   "source": [
    "Obliczamy kolejne współczynniki aproksymacji. Dzięki ortonormalnej bazie, poszczególne współczynniki są iloczynami skalarnymi wektora wartości funkcji aproksymowanej oraz  wektora bazowego (analogia: rzut  wektora wartości funkcji aproksymowanej w kierunku wektora bazowego).\n",
    "\n",
    "Wektor bazowy jest znormalizowany $|\\vec{j}|=1$, co upraszcza obliczenia."
   ]
  },
  {
   "cell_type": "markdown",
   "metadata": {},
   "source": [
    "Analogia w 2D\n",
    "\n",
    "$\\text{rzut }\\vec{a} \\text{ w kierunku }  \\vec{j} =|\\vec{a}|\\cdot cos(\\angle(\\vec{a},\\vec{j}))=|\\vec{a}|\\cdot|\\vec{j}|\\cdot cos(\\angle(\\vec{a},\\vec{j}))=dot(\\vec{a},\\vec{j})$"
   ]
  },
  {
   "cell_type": "code",
   "execution_count": 23,
   "metadata": {},
   "outputs": [
    {
     "data": {
      "image/svg+xml": [
       "<?xml version=\"1.0\" encoding=\"utf-8\"?>\n",
       "<svg xmlns=\"http://www.w3.org/2000/svg\" xmlns:xlink=\"http://www.w3.org/1999/xlink\" width=\"600\" height=\"400\" viewBox=\"0 0 2400 1600\">\n",
       "<defs>\n",
       "  <clipPath id=\"clip280\">\n",
       "    <rect x=\"0\" y=\"0\" width=\"2400\" height=\"1600\"/>\n",
       "  </clipPath>\n",
       "</defs>\n",
       "<path clip-path=\"url(#clip280)\" d=\"\n",
       "M0 1600 L2400 1600 L2400 0 L0 0  Z\n",
       "  \" fill=\"#ffffff\" fill-rule=\"evenodd\" fill-opacity=\"1\"/>\n",
       "<defs>\n",
       "  <clipPath id=\"clip281\">\n",
       "    <rect x=\"480\" y=\"0\" width=\"1681\" height=\"1600\"/>\n",
       "  </clipPath>\n",
       "</defs>\n",
       "<path clip-path=\"url(#clip280)\" d=\"\n",
       "M112.177 1486.45 L2352.76 1486.45 L2352.76 47.2441 L112.177 47.2441  Z\n",
       "  \" fill=\"#ffffff\" fill-rule=\"evenodd\" fill-opacity=\"1\"/>\n",
       "<defs>\n",
       "  <clipPath id=\"clip282\">\n",
       "    <rect x=\"112\" y=\"47\" width=\"2242\" height=\"1440\"/>\n",
       "  </clipPath>\n",
       "</defs>\n",
       "<polyline clip-path=\"url(#clip282)\" style=\"stroke:#000000; stroke-linecap:butt; stroke-linejoin:round; stroke-width:2; stroke-opacity:0.1; fill:none\" points=\"\n",
       "  175.59,1486.45 175.59,47.2441 \n",
       "  \"/>\n",
       "<polyline clip-path=\"url(#clip282)\" style=\"stroke:#000000; stroke-linecap:butt; stroke-linejoin:round; stroke-width:2; stroke-opacity:0.1; fill:none\" points=\"\n",
       "  880.174,1486.45 880.174,47.2441 \n",
       "  \"/>\n",
       "<polyline clip-path=\"url(#clip282)\" style=\"stroke:#000000; stroke-linecap:butt; stroke-linejoin:round; stroke-width:2; stroke-opacity:0.1; fill:none\" points=\"\n",
       "  1584.76,1486.45 1584.76,47.2441 \n",
       "  \"/>\n",
       "<polyline clip-path=\"url(#clip282)\" style=\"stroke:#000000; stroke-linecap:butt; stroke-linejoin:round; stroke-width:2; stroke-opacity:0.1; fill:none\" points=\"\n",
       "  2289.34,1486.45 2289.34,47.2441 \n",
       "  \"/>\n",
       "<polyline clip-path=\"url(#clip280)\" style=\"stroke:#000000; stroke-linecap:butt; stroke-linejoin:round; stroke-width:4; stroke-opacity:1; fill:none\" points=\"\n",
       "  112.177,1486.45 2352.76,1486.45 \n",
       "  \"/>\n",
       "<polyline clip-path=\"url(#clip280)\" style=\"stroke:#000000; stroke-linecap:butt; stroke-linejoin:round; stroke-width:4; stroke-opacity:1; fill:none\" points=\"\n",
       "  175.59,1486.45 175.59,1467.55 \n",
       "  \"/>\n",
       "<polyline clip-path=\"url(#clip280)\" style=\"stroke:#000000; stroke-linecap:butt; stroke-linejoin:round; stroke-width:4; stroke-opacity:1; fill:none\" points=\"\n",
       "  880.174,1486.45 880.174,1467.55 \n",
       "  \"/>\n",
       "<polyline clip-path=\"url(#clip280)\" style=\"stroke:#000000; stroke-linecap:butt; stroke-linejoin:round; stroke-width:4; stroke-opacity:1; fill:none\" points=\"\n",
       "  1584.76,1486.45 1584.76,1467.55 \n",
       "  \"/>\n",
       "<polyline clip-path=\"url(#clip280)\" style=\"stroke:#000000; stroke-linecap:butt; stroke-linejoin:round; stroke-width:4; stroke-opacity:1; fill:none\" points=\"\n",
       "  2289.34,1486.45 2289.34,1467.55 \n",
       "  \"/>\n",
       "<path clip-path=\"url(#clip280)\" d=\"M175.59 1517.37 Q171.979 1517.37 170.15 1520.93 Q168.344 1524.47 168.344 1531.6 Q168.344 1538.71 170.15 1542.27 Q171.979 1545.82 175.59 1545.82 Q179.224 1545.82 181.03 1542.27 Q182.858 1538.71 182.858 1531.6 Q182.858 1524.47 181.03 1520.93 Q179.224 1517.37 175.59 1517.37 M175.59 1513.66 Q181.4 1513.66 184.455 1518.27 Q187.534 1522.85 187.534 1531.6 Q187.534 1540.33 184.455 1544.94 Q181.4 1549.52 175.59 1549.52 Q169.78 1549.52 166.701 1544.94 Q163.645 1540.33 163.645 1531.6 Q163.645 1522.85 166.701 1518.27 Q169.78 1513.66 175.59 1513.66 Z\" fill=\"#000000\" fill-rule=\"evenodd\" fill-opacity=\"1\" /><path clip-path=\"url(#clip280)\" d=\"M870.556 1544.91 L878.195 1544.91 L878.195 1518.55 L869.885 1520.21 L869.885 1515.95 L878.149 1514.29 L882.825 1514.29 L882.825 1544.91 L890.464 1544.91 L890.464 1548.85 L870.556 1548.85 L870.556 1544.91 Z\" fill=\"#000000\" fill-rule=\"evenodd\" fill-opacity=\"1\" /><path clip-path=\"url(#clip280)\" d=\"M1579.41 1544.91 L1595.73 1544.91 L1595.73 1548.85 L1573.79 1548.85 L1573.79 1544.91 Q1576.45 1542.16 1581.03 1537.53 Q1585.64 1532.88 1586.82 1531.53 Q1589.06 1529.01 1589.94 1527.27 Q1590.85 1525.51 1590.85 1523.82 Q1590.85 1521.07 1588.9 1519.33 Q1586.98 1517.6 1583.88 1517.6 Q1581.68 1517.6 1579.23 1518.36 Q1576.8 1519.13 1574.02 1520.68 L1574.02 1515.95 Q1576.84 1514.82 1579.3 1514.24 Q1581.75 1513.66 1583.79 1513.66 Q1589.16 1513.66 1592.35 1516.35 Q1595.55 1519.03 1595.55 1523.52 Q1595.55 1525.65 1594.74 1527.57 Q1593.95 1529.47 1591.84 1532.07 Q1591.26 1532.74 1588.16 1535.95 Q1585.06 1539.15 1579.41 1544.91 Z\" fill=\"#000000\" fill-rule=\"evenodd\" fill-opacity=\"1\" /><path clip-path=\"url(#clip280)\" d=\"M2293.59 1530.21 Q2296.95 1530.93 2298.82 1533.2 Q2300.72 1535.47 2300.72 1538.8 Q2300.72 1543.92 2297.2 1546.72 Q2293.68 1549.52 2287.2 1549.52 Q2285.03 1549.52 2282.71 1549.08 Q2280.42 1548.66 2277.97 1547.81 L2277.97 1543.29 Q2279.91 1544.43 2282.23 1545.01 Q2284.54 1545.58 2287.06 1545.58 Q2291.46 1545.58 2293.75 1543.85 Q2296.07 1542.11 2296.07 1538.8 Q2296.07 1535.75 2293.92 1534.03 Q2291.79 1532.3 2287.97 1532.3 L2283.94 1532.3 L2283.94 1528.45 L2288.15 1528.45 Q2291.6 1528.45 2293.43 1527.09 Q2295.26 1525.7 2295.26 1523.11 Q2295.26 1520.45 2293.36 1519.03 Q2291.48 1517.6 2287.97 1517.6 Q2286.04 1517.6 2283.85 1518.01 Q2281.65 1518.43 2279.01 1519.31 L2279.01 1515.14 Q2281.67 1514.4 2283.98 1514.03 Q2286.32 1513.66 2288.38 1513.66 Q2293.71 1513.66 2296.81 1516.09 Q2299.91 1518.5 2299.91 1522.62 Q2299.91 1525.49 2298.27 1527.48 Q2296.62 1529.45 2293.59 1530.21 Z\" fill=\"#000000\" fill-rule=\"evenodd\" fill-opacity=\"1\" /><polyline clip-path=\"url(#clip282)\" style=\"stroke:#000000; stroke-linecap:butt; stroke-linejoin:round; stroke-width:2; stroke-opacity:0.1; fill:none\" points=\"\n",
       "  112.177,1445.72 2352.76,1445.72 \n",
       "  \"/>\n",
       "<polyline clip-path=\"url(#clip282)\" style=\"stroke:#000000; stroke-linecap:butt; stroke-linejoin:round; stroke-width:2; stroke-opacity:0.1; fill:none\" points=\"\n",
       "  112.177,1106.28 2352.76,1106.28 \n",
       "  \"/>\n",
       "<polyline clip-path=\"url(#clip282)\" style=\"stroke:#000000; stroke-linecap:butt; stroke-linejoin:round; stroke-width:2; stroke-opacity:0.1; fill:none\" points=\"\n",
       "  112.177,766.846 2352.76,766.846 \n",
       "  \"/>\n",
       "<polyline clip-path=\"url(#clip282)\" style=\"stroke:#000000; stroke-linecap:butt; stroke-linejoin:round; stroke-width:2; stroke-opacity:0.1; fill:none\" points=\"\n",
       "  112.177,427.411 2352.76,427.411 \n",
       "  \"/>\n",
       "<polyline clip-path=\"url(#clip282)\" style=\"stroke:#000000; stroke-linecap:butt; stroke-linejoin:round; stroke-width:2; stroke-opacity:0.1; fill:none\" points=\"\n",
       "  112.177,87.9763 2352.76,87.9763 \n",
       "  \"/>\n",
       "<polyline clip-path=\"url(#clip280)\" style=\"stroke:#000000; stroke-linecap:butt; stroke-linejoin:round; stroke-width:4; stroke-opacity:1; fill:none\" points=\"\n",
       "  112.177,1486.45 112.177,47.2441 \n",
       "  \"/>\n",
       "<polyline clip-path=\"url(#clip280)\" style=\"stroke:#000000; stroke-linecap:butt; stroke-linejoin:round; stroke-width:4; stroke-opacity:1; fill:none\" points=\"\n",
       "  112.177,1445.72 131.075,1445.72 \n",
       "  \"/>\n",
       "<polyline clip-path=\"url(#clip280)\" style=\"stroke:#000000; stroke-linecap:butt; stroke-linejoin:round; stroke-width:4; stroke-opacity:1; fill:none\" points=\"\n",
       "  112.177,1106.28 131.075,1106.28 \n",
       "  \"/>\n",
       "<polyline clip-path=\"url(#clip280)\" style=\"stroke:#000000; stroke-linecap:butt; stroke-linejoin:round; stroke-width:4; stroke-opacity:1; fill:none\" points=\"\n",
       "  112.177,766.846 131.075,766.846 \n",
       "  \"/>\n",
       "<polyline clip-path=\"url(#clip280)\" style=\"stroke:#000000; stroke-linecap:butt; stroke-linejoin:round; stroke-width:4; stroke-opacity:1; fill:none\" points=\"\n",
       "  112.177,427.411 131.075,427.411 \n",
       "  \"/>\n",
       "<polyline clip-path=\"url(#clip280)\" style=\"stroke:#000000; stroke-linecap:butt; stroke-linejoin:round; stroke-width:4; stroke-opacity:1; fill:none\" points=\"\n",
       "  112.177,87.9763 131.075,87.9763 \n",
       "  \"/>\n",
       "<path clip-path=\"url(#clip280)\" d=\"M64.2328 1431.51 Q60.6217 1431.51 58.793 1435.08 Q56.9875 1438.62 56.9875 1445.75 Q56.9875 1452.86 58.793 1456.42 Q60.6217 1459.96 64.2328 1459.96 Q67.867 1459.96 69.6726 1456.42 Q71.5013 1452.86 71.5013 1445.75 Q71.5013 1438.62 69.6726 1435.08 Q67.867 1431.51 64.2328 1431.51 M64.2328 1427.81 Q70.0429 1427.81 73.0985 1432.42 Q76.1772 1437 76.1772 1445.75 Q76.1772 1454.48 73.0985 1459.08 Q70.0429 1463.67 64.2328 1463.67 Q58.4226 1463.67 55.344 1459.08 Q52.2884 1454.48 52.2884 1445.75 Q52.2884 1437 55.344 1432.42 Q58.4226 1427.81 64.2328 1427.81 Z\" fill=\"#000000\" fill-rule=\"evenodd\" fill-opacity=\"1\" /><path clip-path=\"url(#clip280)\" d=\"M56.2699 1119.63 L63.9087 1119.63 L63.9087 1093.26 L55.5986 1094.93 L55.5986 1090.67 L63.8624 1089 L68.5383 1089 L68.5383 1119.63 L76.1772 1119.63 L76.1772 1123.56 L56.2699 1123.56 L56.2699 1119.63 Z\" fill=\"#000000\" fill-rule=\"evenodd\" fill-opacity=\"1\" /><path clip-path=\"url(#clip280)\" d=\"M59.8578 780.191 L76.1772 780.191 L76.1772 784.126 L54.2328 784.126 L54.2328 780.191 Q56.8949 777.436 61.4782 772.807 Q66.0846 768.154 67.2652 766.811 Q69.5105 764.288 70.3902 762.552 Q71.2929 760.793 71.2929 759.103 Q71.2929 756.348 69.3485 754.612 Q67.4272 752.876 64.3254 752.876 Q62.1263 752.876 59.6726 753.64 Q57.2421 754.404 54.4643 755.955 L54.4643 751.233 Q57.2884 750.098 59.7421 749.52 Q62.1958 748.941 64.2328 748.941 Q69.6031 748.941 72.7976 751.626 Q75.992 754.311 75.992 758.802 Q75.992 760.932 75.1818 762.853 Q74.3948 764.751 72.2883 767.344 Q71.7096 768.015 68.6078 771.233 Q65.5059 774.427 59.8578 780.191 Z\" fill=\"#000000\" fill-rule=\"evenodd\" fill-opacity=\"1\" /><path clip-path=\"url(#clip280)\" d=\"M69.0476 426.057 Q72.404 426.775 74.279 429.043 Q76.1772 431.312 76.1772 434.645 Q76.1772 439.761 72.6587 442.562 Q69.1402 445.362 62.6587 445.362 Q60.4828 445.362 58.168 444.923 Q55.8764 444.506 53.4227 443.649 L53.4227 439.136 Q55.3671 440.27 57.6819 440.849 Q59.9967 441.427 62.5198 441.427 Q66.918 441.427 69.2096 439.691 Q71.5244 437.955 71.5244 434.645 Q71.5244 431.589 69.3717 429.876 Q67.242 428.14 63.4226 428.14 L59.3949 428.14 L59.3949 424.298 L63.6078 424.298 Q67.0569 424.298 68.8855 422.932 Q70.7142 421.543 70.7142 418.951 Q70.7142 416.289 68.8161 414.876 Q66.9411 413.441 63.4226 413.441 Q61.5013 413.441 59.3023 413.858 Q57.1032 414.275 54.4643 415.154 L54.4643 410.988 Q57.1264 410.247 59.4412 409.877 Q61.7791 409.506 63.8393 409.506 Q69.1633 409.506 72.2652 411.937 Q75.367 414.344 75.367 418.464 Q75.367 421.335 73.7235 423.326 Q72.08 425.293 69.0476 426.057 Z\" fill=\"#000000\" fill-rule=\"evenodd\" fill-opacity=\"1\" /><path clip-path=\"url(#clip280)\" d=\"M66.5939 74.7703 L54.7884 93.2193 L66.5939 93.2193 L66.5939 74.7703 M65.367 70.6963 L71.2466 70.6963 L71.2466 93.2193 L76.1772 93.2193 L76.1772 97.1082 L71.2466 97.1082 L71.2466 105.256 L66.5939 105.256 L66.5939 97.1082 L50.9921 97.1082 L50.9921 92.5943 L65.367 70.6963 Z\" fill=\"#000000\" fill-rule=\"evenodd\" fill-opacity=\"1\" /><polyline clip-path=\"url(#clip282)\" style=\"stroke:#009af9; stroke-linecap:butt; stroke-linejoin:round; stroke-width:4; stroke-opacity:1; fill:none\" points=\"\n",
       "  175.59,1445.72 1584.76,427.411 \n",
       "  \"/>\n",
       "<polyline clip-path=\"url(#clip282)\" style=\"stroke:#009af9; stroke-linecap:butt; stroke-linejoin:round; stroke-width:4; stroke-opacity:1; fill:none\" points=\"\n",
       "  1545.04,433.907 1584.76,427.411 1566.12,463.086 \n",
       "  \"/>\n",
       "<polyline clip-path=\"url(#clip282)\" style=\"stroke:#009af9; stroke-linecap:butt; stroke-linejoin:round; stroke-width:4; stroke-opacity:1; fill:none\" points=\"\n",
       "  1584.76,427.411 175.59,1445.72 \n",
       "  \"/>\n",
       "<polyline clip-path=\"url(#clip282)\" style=\"stroke:#e26f46; stroke-linecap:butt; stroke-linejoin:round; stroke-width:4; stroke-opacity:1; fill:none\" points=\"\n",
       "  175.59,1445.72 1584.76,1445.72 \n",
       "  \"/>\n",
       "<polyline clip-path=\"url(#clip282)\" style=\"stroke:#e26f46; stroke-linecap:butt; stroke-linejoin:round; stroke-width:4; stroke-opacity:1; fill:none\" points=\"\n",
       "  1548.76,1427.72 1584.76,1445.72 1548.76,1463.72 \n",
       "  \"/>\n",
       "<polyline clip-path=\"url(#clip282)\" style=\"stroke:#e26f46; stroke-linecap:butt; stroke-linejoin:round; stroke-width:4; stroke-opacity:1; fill:none\" points=\"\n",
       "  1584.76,1445.72 175.59,1445.72 \n",
       "  \"/>\n",
       "<polyline clip-path=\"url(#clip282)\" style=\"stroke:#3da44d; stroke-linecap:butt; stroke-linejoin:round; stroke-width:4; stroke-opacity:1; fill:none\" points=\"\n",
       "  175.59,1438.93 880.174,1438.93 \n",
       "  \"/>\n",
       "<polyline clip-path=\"url(#clip282)\" style=\"stroke:#3da44d; stroke-linecap:butt; stroke-linejoin:round; stroke-width:4; stroke-opacity:1; fill:none\" points=\"\n",
       "  844.174,1420.93 880.174,1438.93 844.174,1456.93 \n",
       "  \"/>\n",
       "<polyline clip-path=\"url(#clip282)\" style=\"stroke:#3da44d; stroke-linecap:butt; stroke-linejoin:round; stroke-width:4; stroke-opacity:1; fill:none\" points=\"\n",
       "  880.174,1438.93 175.59,1438.93 \n",
       "  \"/>\n",
       "<path clip-path=\"url(#clip280)\" d=\"\n",
       "M1838.72 302.578 L2278.07 302.578 L2278.07 95.2176 L1838.72 95.2176  Z\n",
       "  \" fill=\"#ffffff\" fill-rule=\"evenodd\" fill-opacity=\"1\"/>\n",
       "<polyline clip-path=\"url(#clip280)\" style=\"stroke:#000000; stroke-linecap:butt; stroke-linejoin:round; stroke-width:4; stroke-opacity:1; fill:none\" points=\"\n",
       "  1838.72,302.578 2278.07,302.578 2278.07,95.2176 1838.72,95.2176 1838.72,302.578 \n",
       "  \"/>\n",
       "<polyline clip-path=\"url(#clip280)\" style=\"stroke:#009af9; stroke-linecap:butt; stroke-linejoin:round; stroke-width:4; stroke-opacity:1; fill:none\" points=\"\n",
       "  1862.72,147.058 2006.72,147.058 \n",
       "  \"/>\n",
       "<path clip-path=\"url(#clip280)\" d=\"M2044.12 151.305 Q2038.96 151.305 2036.97 152.486 Q2034.98 153.666 2034.98 156.514 Q2034.98 158.782 2036.46 160.125 Q2037.96 161.444 2040.53 161.444 Q2044.08 161.444 2046.21 158.944 Q2048.36 156.421 2048.36 152.254 L2048.36 151.305 L2044.12 151.305 M2052.62 149.546 L2052.62 164.338 L2048.36 164.338 L2048.36 160.402 Q2046.9 162.763 2044.72 163.898 Q2042.55 165.009 2039.4 165.009 Q2035.42 165.009 2033.06 162.787 Q2030.72 160.541 2030.72 156.791 Q2030.72 152.416 2033.64 150.194 Q2036.58 147.972 2042.39 147.972 L2048.36 147.972 L2048.36 147.555 Q2048.36 144.615 2046.41 143.018 Q2044.49 141.398 2041 141.398 Q2038.77 141.398 2036.67 141.93 Q2034.56 142.463 2032.62 143.527 L2032.62 139.592 Q2034.96 138.69 2037.15 138.25 Q2039.35 137.787 2041.44 137.787 Q2047.06 137.787 2049.84 140.703 Q2052.62 143.62 2052.62 149.546 Z\" fill=\"#000000\" fill-rule=\"evenodd\" fill-opacity=\"1\" /><polyline clip-path=\"url(#clip280)\" style=\"stroke:#e26f46; stroke-linecap:butt; stroke-linejoin:round; stroke-width:4; stroke-opacity:1; fill:none\" points=\"\n",
       "  1862.72,198.898 2006.72,198.898 \n",
       "  \"/>\n",
       "<path clip-path=\"url(#clip280)\" d=\"M2045.9 194.233 Q2045.19 193.817 2044.33 193.631 Q2043.5 193.423 2042.48 193.423 Q2038.87 193.423 2036.92 195.784 Q2035 198.122 2035 202.52 L2035 216.178 L2030.72 216.178 L2030.72 190.252 L2035 190.252 L2035 194.28 Q2036.34 191.918 2038.5 190.784 Q2040.65 189.627 2043.73 189.627 Q2044.17 189.627 2044.7 189.696 Q2045.23 189.743 2045.88 189.858 L2045.9 194.233 Z\" fill=\"#000000\" fill-rule=\"evenodd\" fill-opacity=\"1\" /><path clip-path=\"url(#clip280)\" d=\"M2048.52 190.252 L2068.75 190.252 L2068.75 194.141 L2052.73 212.775 L2068.75 212.775 L2068.75 216.178 L2047.94 216.178 L2047.94 212.289 L2063.96 193.655 L2048.52 193.655 L2048.52 190.252 Z\" fill=\"#000000\" fill-rule=\"evenodd\" fill-opacity=\"1\" /><path clip-path=\"url(#clip280)\" d=\"M2074.82 205.946 L2074.82 190.252 L2079.08 190.252 L2079.08 205.784 Q2079.08 209.465 2080.51 211.316 Q2081.95 213.145 2084.82 213.145 Q2088.27 213.145 2090.26 210.946 Q2092.27 208.747 2092.27 204.951 L2092.27 190.252 L2096.53 190.252 L2096.53 216.178 L2092.27 216.178 L2092.27 212.196 Q2090.72 214.557 2088.66 215.715 Q2086.62 216.849 2083.91 216.849 Q2079.45 216.849 2077.13 214.071 Q2074.82 211.293 2074.82 205.946 M2085.53 189.627 L2085.53 189.627 Z\" fill=\"#000000\" fill-rule=\"evenodd\" fill-opacity=\"1\" /><path clip-path=\"url(#clip280)\" d=\"M2109.52 182.891 L2109.52 190.252 L2118.29 190.252 L2118.29 193.562 L2109.52 193.562 L2109.52 207.636 Q2109.52 210.807 2110.37 211.71 Q2111.25 212.613 2113.91 212.613 L2118.29 212.613 L2118.29 216.178 L2113.91 216.178 Q2108.98 216.178 2107.11 214.349 Q2105.23 212.497 2105.23 207.636 L2105.23 193.562 L2102.11 193.562 L2102.11 190.252 L2105.23 190.252 L2105.23 182.891 L2109.52 182.891 Z\" fill=\"#000000\" fill-rule=\"evenodd\" fill-opacity=\"1\" /><path clip-path=\"url(#clip280)\" d=\"M2150.74 203.145 Q2145.58 203.145 2143.59 204.326 Q2141.6 205.506 2141.6 208.354 Q2141.6 210.622 2143.08 211.965 Q2144.58 213.284 2147.15 213.284 Q2150.7 213.284 2152.82 210.784 Q2154.98 208.261 2154.98 204.094 L2154.98 203.145 L2150.74 203.145 M2159.24 201.386 L2159.24 216.178 L2154.98 216.178 L2154.98 212.242 Q2153.52 214.603 2151.34 215.738 Q2149.17 216.849 2146.02 216.849 Q2142.04 216.849 2139.68 214.627 Q2137.34 212.381 2137.34 208.631 Q2137.34 204.256 2140.26 202.034 Q2143.2 199.812 2149.01 199.812 L2154.98 199.812 L2154.98 199.395 Q2154.98 196.455 2153.03 194.858 Q2151.11 193.238 2147.62 193.238 Q2145.39 193.238 2143.29 193.77 Q2141.18 194.303 2139.24 195.367 L2139.24 191.432 Q2141.58 190.53 2143.77 190.09 Q2145.97 189.627 2148.06 189.627 Q2153.68 189.627 2156.46 192.543 Q2159.24 195.46 2159.24 201.386 Z\" fill=\"#000000\" fill-rule=\"evenodd\" fill-opacity=\"1\" /><polyline clip-path=\"url(#clip280)\" style=\"stroke:#3da44d; stroke-linecap:butt; stroke-linejoin:round; stroke-width:4; stroke-opacity:1; fill:none\" points=\"\n",
       "  1862.72,250.738 2006.72,250.738 \n",
       "  \"/>\n",
       "<path clip-path=\"url(#clip280)\" d=\"M2049.49 255.078 Q2049.49 250.379 2047.55 247.717 Q2045.63 245.032 2042.25 245.032 Q2038.87 245.032 2036.92 247.717 Q2035 250.379 2035 255.078 Q2035 259.777 2036.92 262.462 Q2038.87 265.124 2042.25 265.124 Q2045.63 265.124 2047.55 262.462 Q2049.49 259.777 2049.49 255.078 M2035 246.027 Q2036.34 243.712 2038.38 242.601 Q2040.44 241.467 2043.29 241.467 Q2048.01 241.467 2050.95 245.217 Q2053.91 248.967 2053.91 255.078 Q2053.91 261.189 2050.95 264.939 Q2048.01 268.689 2043.29 268.689 Q2040.44 268.689 2038.38 267.578 Q2036.34 266.443 2035 264.129 L2035 268.018 L2030.72 268.018 L2030.72 231.999 L2035 231.999 L2035 246.027 Z\" fill=\"#000000\" fill-rule=\"evenodd\" fill-opacity=\"1\" /><path clip-path=\"url(#clip280)\" d=\"M2072.76 254.985 Q2067.59 254.985 2065.6 256.166 Q2063.61 257.346 2063.61 260.194 Q2063.61 262.462 2065.09 263.805 Q2066.6 265.124 2069.17 265.124 Q2072.71 265.124 2074.84 262.624 Q2076.99 260.101 2076.99 255.934 L2076.99 254.985 L2072.76 254.985 M2081.25 253.226 L2081.25 268.018 L2076.99 268.018 L2076.99 264.082 Q2075.53 266.443 2073.36 267.578 Q2071.18 268.689 2068.03 268.689 Q2064.05 268.689 2061.69 266.467 Q2059.35 264.221 2059.35 260.471 Q2059.35 256.096 2062.27 253.874 Q2065.21 251.652 2071.02 251.652 L2076.99 251.652 L2076.99 251.235 Q2076.99 248.295 2075.05 246.698 Q2073.13 245.078 2069.63 245.078 Q2067.41 245.078 2065.3 245.61 Q2063.2 246.143 2061.25 247.207 L2061.25 243.272 Q2063.59 242.37 2065.79 241.93 Q2067.99 241.467 2070.07 241.467 Q2075.7 241.467 2078.47 244.383 Q2081.25 247.3 2081.25 253.226 Z\" fill=\"#000000\" fill-rule=\"evenodd\" fill-opacity=\"1\" /><path clip-path=\"url(#clip280)\" d=\"M2088.17 242.092 L2108.4 242.092 L2108.4 245.981 L2092.39 264.615 L2108.4 264.615 L2108.4 268.018 L2087.59 268.018 L2087.59 264.129 L2103.61 245.495 L2088.17 245.495 L2088.17 242.092 Z\" fill=\"#000000\" fill-rule=\"evenodd\" fill-opacity=\"1\" /><path clip-path=\"url(#clip280)\" d=\"M2124.95 245.078 Q2121.53 245.078 2119.54 247.763 Q2117.55 250.425 2117.55 255.078 Q2117.55 259.731 2119.51 262.416 Q2121.51 265.078 2124.95 265.078 Q2128.36 265.078 2130.35 262.393 Q2132.34 259.707 2132.34 255.078 Q2132.34 250.471 2130.35 247.786 Q2128.36 245.078 2124.95 245.078 M2124.95 241.467 Q2130.51 241.467 2133.68 245.078 Q2136.85 248.689 2136.85 255.078 Q2136.85 261.444 2133.68 265.078 Q2130.51 268.689 2124.95 268.689 Q2119.38 268.689 2116.2 265.078 Q2113.06 261.444 2113.06 255.078 Q2113.06 248.689 2116.2 245.078 Q2119.38 241.467 2124.95 241.467 Z\" fill=\"#000000\" fill-rule=\"evenodd\" fill-opacity=\"1\" /><path clip-path=\"url(#clip280)\" d=\"M2141.44 242.092 L2145.7 242.092 L2151.02 262.323 L2156.32 242.092 L2161.34 242.092 L2166.67 262.323 L2171.97 242.092 L2176.23 242.092 L2169.45 268.018 L2164.42 268.018 L2158.84 246.768 L2153.24 268.018 L2148.22 268.018 L2141.44 242.092 Z\" fill=\"#000000\" fill-rule=\"evenodd\" fill-opacity=\"1\" /><path clip-path=\"url(#clip280)\" d=\"M2193.47 270.425 Q2191.67 275.055 2189.95 276.467 Q2188.24 277.879 2185.37 277.879 L2181.97 277.879 L2181.97 274.314 L2184.47 274.314 Q2186.23 274.314 2187.2 273.48 Q2188.17 272.647 2189.35 269.545 L2190.12 267.601 L2179.63 242.092 L2184.14 242.092 L2192.25 262.369 L2200.35 242.092 L2204.86 242.092 L2193.47 270.425 Z\" fill=\"#000000\" fill-rule=\"evenodd\" fill-opacity=\"1\" /><path clip-path=\"url(#clip280)\" d=\"M2225.81 242.092 L2230.07 242.092 L2230.07 268.481 Q2230.07 273.434 2228.17 275.656 Q2226.3 277.879 2222.11 277.879 L2220.49 277.879 L2220.49 274.268 L2221.62 274.268 Q2224.05 274.268 2224.93 273.133 Q2225.81 272.022 2225.81 268.481 L2225.81 242.092 M2225.81 231.999 L2230.07 231.999 L2230.07 237.393 L2225.81 237.393 L2225.81 231.999 Z\" fill=\"#000000\" fill-rule=\"evenodd\" fill-opacity=\"1\" /></svg>\n"
      ]
     },
     "execution_count": 23,
     "metadata": {},
     "output_type": "execute_result"
    }
   ],
   "source": [
    "plot([0,2],[0,3],xrange=[0,3], yrange=[0,4],arrow=true, label=\"a\")\n",
    "plot!([0,2],[0,0],xrange=[0,3], yrange=[0,4],arrow=true, label=\"rzut a\")\n",
    "plot!([0,1],[0.02,0.02],xrange=[0,3], yrange=[0,4],arrow=true, label=\"bazowy j\")"
   ]
  },
  {
   "cell_type": "code",
   "execution_count": 24,
   "metadata": {},
   "outputs": [
    {
     "data": {
      "text/plain": [
       "(5.824126362139831, -0.7905764638581785, 2.632577857890548, -0.7126787525490579)"
      ]
     },
     "execution_count": 24,
     "metadata": {},
     "output_type": "execute_result"
    }
   ],
   "source": [
    "c0 = dot(yy, f0)\n",
    "c1 = dot(yy, f1)\n",
    "c2 = dot(yy, f2)\n",
    "c3 = dot(yy, f3)\n",
    "c0, c1, c2, c3"
   ]
  },
  {
   "cell_type": "markdown",
   "metadata": {},
   "source": [
    "Liczymy wartości aproksymowane kolejnymi stopniami"
   ]
  },
  {
   "cell_type": "code",
   "execution_count": 25,
   "metadata": {},
   "outputs": [],
   "source": [
    "y_app_0 = c0*f0;\n",
    "y_app_1 = c1*f1;\n",
    "y_app_2 = c2*f2;\n",
    "y_app_3 = c3*f3;"
   ]
  },
  {
   "cell_type": "code",
   "execution_count": 26,
   "metadata": {},
   "outputs": [],
   "source": [
    "y_app_01 = y_app_0 + y_app_1;\n",
    "y_app_012 = y_app_01 + y_app_2;\n",
    "y_app_0123 = y_app_012 + y_app_3;"
   ]
  },
  {
   "cell_type": "code",
   "execution_count": 27,
   "metadata": {},
   "outputs": [
    {
     "data": {
      "image/svg+xml": [
       "<?xml version=\"1.0\" encoding=\"utf-8\"?>\n",
       "<svg xmlns=\"http://www.w3.org/2000/svg\" xmlns:xlink=\"http://www.w3.org/1999/xlink\" width=\"600\" height=\"400\" viewBox=\"0 0 2400 1600\">\n",
       "<defs>\n",
       "  <clipPath id=\"clip320\">\n",
       "    <rect x=\"0\" y=\"0\" width=\"2400\" height=\"1600\"/>\n",
       "  </clipPath>\n",
       "</defs>\n",
       "<path clip-path=\"url(#clip320)\" d=\"\n",
       "M0 1600 L2400 1600 L2400 0 L0 0  Z\n",
       "  \" fill=\"#ffffff\" fill-rule=\"evenodd\" fill-opacity=\"1\"/>\n",
       "<defs>\n",
       "  <clipPath id=\"clip321\">\n",
       "    <rect x=\"480\" y=\"0\" width=\"1681\" height=\"1600\"/>\n",
       "  </clipPath>\n",
       "</defs>\n",
       "<path clip-path=\"url(#clip320)\" d=\"\n",
       "M186.274 1486.45 L2352.76 1486.45 L2352.76 47.2441 L186.274 47.2441  Z\n",
       "  \" fill=\"#ffffff\" fill-rule=\"evenodd\" fill-opacity=\"1\"/>\n",
       "<defs>\n",
       "  <clipPath id=\"clip322\">\n",
       "    <rect x=\"186\" y=\"47\" width=\"2167\" height=\"1440\"/>\n",
       "  </clipPath>\n",
       "</defs>\n",
       "<polyline clip-path=\"url(#clip322)\" style=\"stroke:#000000; stroke-linecap:butt; stroke-linejoin:round; stroke-width:2; stroke-opacity:0.1; fill:none\" points=\"\n",
       "  451.975,1486.45 451.975,47.2441 \n",
       "  \"/>\n",
       "<polyline clip-path=\"url(#clip322)\" style=\"stroke:#000000; stroke-linecap:butt; stroke-linejoin:round; stroke-width:2; stroke-opacity:0.1; fill:none\" points=\"\n",
       "  860.745,1486.45 860.745,47.2441 \n",
       "  \"/>\n",
       "<polyline clip-path=\"url(#clip322)\" style=\"stroke:#000000; stroke-linecap:butt; stroke-linejoin:round; stroke-width:2; stroke-opacity:0.1; fill:none\" points=\"\n",
       "  1269.51,1486.45 1269.51,47.2441 \n",
       "  \"/>\n",
       "<polyline clip-path=\"url(#clip322)\" style=\"stroke:#000000; stroke-linecap:butt; stroke-linejoin:round; stroke-width:2; stroke-opacity:0.1; fill:none\" points=\"\n",
       "  1678.29,1486.45 1678.29,47.2441 \n",
       "  \"/>\n",
       "<polyline clip-path=\"url(#clip322)\" style=\"stroke:#000000; stroke-linecap:butt; stroke-linejoin:round; stroke-width:2; stroke-opacity:0.1; fill:none\" points=\"\n",
       "  2087.06,1486.45 2087.06,47.2441 \n",
       "  \"/>\n",
       "<polyline clip-path=\"url(#clip320)\" style=\"stroke:#000000; stroke-linecap:butt; stroke-linejoin:round; stroke-width:4; stroke-opacity:1; fill:none\" points=\"\n",
       "  186.274,1486.45 2352.76,1486.45 \n",
       "  \"/>\n",
       "<polyline clip-path=\"url(#clip320)\" style=\"stroke:#000000; stroke-linecap:butt; stroke-linejoin:round; stroke-width:4; stroke-opacity:1; fill:none\" points=\"\n",
       "  451.975,1486.45 451.975,1467.55 \n",
       "  \"/>\n",
       "<polyline clip-path=\"url(#clip320)\" style=\"stroke:#000000; stroke-linecap:butt; stroke-linejoin:round; stroke-width:4; stroke-opacity:1; fill:none\" points=\"\n",
       "  860.745,1486.45 860.745,1467.55 \n",
       "  \"/>\n",
       "<polyline clip-path=\"url(#clip320)\" style=\"stroke:#000000; stroke-linecap:butt; stroke-linejoin:round; stroke-width:4; stroke-opacity:1; fill:none\" points=\"\n",
       "  1269.51,1486.45 1269.51,1467.55 \n",
       "  \"/>\n",
       "<polyline clip-path=\"url(#clip320)\" style=\"stroke:#000000; stroke-linecap:butt; stroke-linejoin:round; stroke-width:4; stroke-opacity:1; fill:none\" points=\"\n",
       "  1678.29,1486.45 1678.29,1467.55 \n",
       "  \"/>\n",
       "<polyline clip-path=\"url(#clip320)\" style=\"stroke:#000000; stroke-linecap:butt; stroke-linejoin:round; stroke-width:4; stroke-opacity:1; fill:none\" points=\"\n",
       "  2087.06,1486.45 2087.06,1467.55 \n",
       "  \"/>\n",
       "<path clip-path=\"url(#clip320)\" d=\"M420.875 1532.02 L450.551 1532.02 L450.551 1535.95 L420.875 1535.95 L420.875 1532.02 Z\" fill=\"#000000\" fill-rule=\"evenodd\" fill-opacity=\"1\" /><path clip-path=\"url(#clip320)\" d=\"M473.491 1518.36 L461.685 1536.81 L473.491 1536.81 L473.491 1518.36 M472.264 1514.29 L478.143 1514.29 L478.143 1536.81 L483.074 1536.81 L483.074 1540.7 L478.143 1540.7 L478.143 1548.85 L473.491 1548.85 L473.491 1540.7 L457.889 1540.7 L457.889 1536.19 L472.264 1514.29 Z\" fill=\"#000000\" fill-rule=\"evenodd\" fill-opacity=\"1\" /><path clip-path=\"url(#clip320)\" d=\"M830.687 1532.02 L860.363 1532.02 L860.363 1535.95 L830.687 1535.95 L830.687 1532.02 Z\" fill=\"#000000\" fill-rule=\"evenodd\" fill-opacity=\"1\" /><path clip-path=\"url(#clip320)\" d=\"M874.483 1544.91 L890.802 1544.91 L890.802 1548.85 L868.858 1548.85 L868.858 1544.91 Q871.52 1542.16 876.103 1537.53 Q880.71 1532.88 881.891 1531.53 Q884.136 1529.01 885.015 1527.27 Q885.918 1525.51 885.918 1523.82 Q885.918 1521.07 883.974 1519.33 Q882.053 1517.6 878.951 1517.6 Q876.752 1517.6 874.298 1518.36 Q871.867 1519.13 869.09 1520.68 L869.09 1515.95 Q871.914 1514.82 874.367 1514.24 Q876.821 1513.66 878.858 1513.66 Q884.228 1513.66 887.423 1516.35 Q890.617 1519.03 890.617 1523.52 Q890.617 1525.65 889.807 1527.57 Q889.02 1529.47 886.914 1532.07 Q886.335 1532.74 883.233 1535.95 Q880.131 1539.15 874.483 1544.91 Z\" fill=\"#000000\" fill-rule=\"evenodd\" fill-opacity=\"1\" /><path clip-path=\"url(#clip320)\" d=\"M1269.51 1517.37 Q1265.9 1517.37 1264.08 1520.93 Q1262.27 1524.47 1262.27 1531.6 Q1262.27 1538.71 1264.08 1542.27 Q1265.9 1545.82 1269.51 1545.82 Q1273.15 1545.82 1274.95 1542.27 Q1276.78 1538.71 1276.78 1531.6 Q1276.78 1524.47 1274.95 1520.93 Q1273.15 1517.37 1269.51 1517.37 M1269.51 1513.66 Q1275.33 1513.66 1278.38 1518.27 Q1281.46 1522.85 1281.46 1531.6 Q1281.46 1540.33 1278.38 1544.94 Q1275.33 1549.52 1269.51 1549.52 Q1263.7 1549.52 1260.63 1544.94 Q1257.57 1540.33 1257.57 1531.6 Q1257.57 1522.85 1260.63 1518.27 Q1263.7 1513.66 1269.51 1513.66 Z\" fill=\"#000000\" fill-rule=\"evenodd\" fill-opacity=\"1\" /><path clip-path=\"url(#clip320)\" d=\"M1672.94 1544.91 L1689.26 1544.91 L1689.26 1548.85 L1667.31 1548.85 L1667.31 1544.91 Q1669.97 1542.16 1674.56 1537.53 Q1679.16 1532.88 1680.35 1531.53 Q1682.59 1529.01 1683.47 1527.27 Q1684.37 1525.51 1684.37 1523.82 Q1684.37 1521.07 1682.43 1519.33 Q1680.51 1517.6 1677.41 1517.6 Q1675.21 1517.6 1672.75 1518.36 Q1670.32 1519.13 1667.54 1520.68 L1667.54 1515.95 Q1670.37 1514.82 1672.82 1514.24 Q1675.28 1513.66 1677.31 1513.66 Q1682.68 1513.66 1685.88 1516.35 Q1689.07 1519.03 1689.07 1523.52 Q1689.07 1525.65 1688.26 1527.57 Q1687.47 1529.47 1685.37 1532.07 Q1684.79 1532.74 1681.69 1535.95 Q1678.59 1539.15 1672.94 1544.91 Z\" fill=\"#000000\" fill-rule=\"evenodd\" fill-opacity=\"1\" /><path clip-path=\"url(#clip320)\" d=\"M2090.06 1518.36 L2078.26 1536.81 L2090.06 1536.81 L2090.06 1518.36 M2088.84 1514.29 L2094.72 1514.29 L2094.72 1536.81 L2099.65 1536.81 L2099.65 1540.7 L2094.72 1540.7 L2094.72 1548.85 L2090.06 1548.85 L2090.06 1540.7 L2074.46 1540.7 L2074.46 1536.19 L2088.84 1514.29 Z\" fill=\"#000000\" fill-rule=\"evenodd\" fill-opacity=\"1\" /><polyline clip-path=\"url(#clip322)\" style=\"stroke:#000000; stroke-linecap:butt; stroke-linejoin:round; stroke-width:2; stroke-opacity:0.1; fill:none\" points=\"\n",
       "  186.274,1445.71 2352.76,1445.71 \n",
       "  \"/>\n",
       "<polyline clip-path=\"url(#clip322)\" style=\"stroke:#000000; stroke-linecap:butt; stroke-linejoin:round; stroke-width:2; stroke-opacity:0.1; fill:none\" points=\"\n",
       "  186.274,1204.65 2352.76,1204.65 \n",
       "  \"/>\n",
       "<polyline clip-path=\"url(#clip322)\" style=\"stroke:#000000; stroke-linecap:butt; stroke-linejoin:round; stroke-width:2; stroke-opacity:0.1; fill:none\" points=\"\n",
       "  186.274,963.58 2352.76,963.58 \n",
       "  \"/>\n",
       "<polyline clip-path=\"url(#clip322)\" style=\"stroke:#000000; stroke-linecap:butt; stroke-linejoin:round; stroke-width:2; stroke-opacity:0.1; fill:none\" points=\"\n",
       "  186.274,722.514 2352.76,722.514 \n",
       "  \"/>\n",
       "<polyline clip-path=\"url(#clip322)\" style=\"stroke:#000000; stroke-linecap:butt; stroke-linejoin:round; stroke-width:2; stroke-opacity:0.1; fill:none\" points=\"\n",
       "  186.274,481.448 2352.76,481.448 \n",
       "  \"/>\n",
       "<polyline clip-path=\"url(#clip322)\" style=\"stroke:#000000; stroke-linecap:butt; stroke-linejoin:round; stroke-width:2; stroke-opacity:0.1; fill:none\" points=\"\n",
       "  186.274,240.382 2352.76,240.382 \n",
       "  \"/>\n",
       "<polyline clip-path=\"url(#clip320)\" style=\"stroke:#000000; stroke-linecap:butt; stroke-linejoin:round; stroke-width:4; stroke-opacity:1; fill:none\" points=\"\n",
       "  186.274,1486.45 186.274,47.2441 \n",
       "  \"/>\n",
       "<polyline clip-path=\"url(#clip320)\" style=\"stroke:#000000; stroke-linecap:butt; stroke-linejoin:round; stroke-width:4; stroke-opacity:1; fill:none\" points=\"\n",
       "  186.274,1445.71 205.172,1445.71 \n",
       "  \"/>\n",
       "<polyline clip-path=\"url(#clip320)\" style=\"stroke:#000000; stroke-linecap:butt; stroke-linejoin:round; stroke-width:4; stroke-opacity:1; fill:none\" points=\"\n",
       "  186.274,1204.65 205.172,1204.65 \n",
       "  \"/>\n",
       "<polyline clip-path=\"url(#clip320)\" style=\"stroke:#000000; stroke-linecap:butt; stroke-linejoin:round; stroke-width:4; stroke-opacity:1; fill:none\" points=\"\n",
       "  186.274,963.58 205.172,963.58 \n",
       "  \"/>\n",
       "<polyline clip-path=\"url(#clip320)\" style=\"stroke:#000000; stroke-linecap:butt; stroke-linejoin:round; stroke-width:4; stroke-opacity:1; fill:none\" points=\"\n",
       "  186.274,722.514 205.172,722.514 \n",
       "  \"/>\n",
       "<polyline clip-path=\"url(#clip320)\" style=\"stroke:#000000; stroke-linecap:butt; stroke-linejoin:round; stroke-width:4; stroke-opacity:1; fill:none\" points=\"\n",
       "  186.274,481.448 205.172,481.448 \n",
       "  \"/>\n",
       "<polyline clip-path=\"url(#clip320)\" style=\"stroke:#000000; stroke-linecap:butt; stroke-linejoin:round; stroke-width:4; stroke-opacity:1; fill:none\" points=\"\n",
       "  186.274,240.382 205.172,240.382 \n",
       "  \"/>\n",
       "<path clip-path=\"url(#clip320)\" d=\"M62.9365 1431.51 Q59.3254 1431.51 57.4967 1435.07 Q55.6912 1438.62 55.6912 1445.75 Q55.6912 1452.85 57.4967 1456.42 Q59.3254 1459.96 62.9365 1459.96 Q66.5707 1459.96 68.3763 1456.42 Q70.205 1452.85 70.205 1445.75 Q70.205 1438.62 68.3763 1435.07 Q66.5707 1431.51 62.9365 1431.51 M62.9365 1427.81 Q68.7467 1427.81 71.8022 1432.41 Q74.8809 1437 74.8809 1445.75 Q74.8809 1454.47 71.8022 1459.08 Q68.7467 1463.66 62.9365 1463.66 Q57.1264 1463.66 54.0477 1459.08 Q50.9921 1454.47 50.9921 1445.75 Q50.9921 1437 54.0477 1432.41 Q57.1264 1427.81 62.9365 1427.81 Z\" fill=\"#000000\" fill-rule=\"evenodd\" fill-opacity=\"1\" /><path clip-path=\"url(#clip320)\" d=\"M83.0984 1457.11 L87.9827 1457.11 L87.9827 1462.99 L83.0984 1462.99 L83.0984 1457.11 Z\" fill=\"#000000\" fill-rule=\"evenodd\" fill-opacity=\"1\" /><path clip-path=\"url(#clip320)\" d=\"M108.168 1431.51 Q104.557 1431.51 102.728 1435.07 Q100.922 1438.62 100.922 1445.75 Q100.922 1452.85 102.728 1456.42 Q104.557 1459.96 108.168 1459.96 Q111.802 1459.96 113.608 1456.42 Q115.436 1452.85 115.436 1445.75 Q115.436 1438.62 113.608 1435.07 Q111.802 1431.51 108.168 1431.51 M108.168 1427.81 Q113.978 1427.81 117.033 1432.41 Q120.112 1437 120.112 1445.75 Q120.112 1454.47 117.033 1459.08 Q113.978 1463.66 108.168 1463.66 Q102.358 1463.66 99.2789 1459.08 Q96.2234 1454.47 96.2234 1445.75 Q96.2234 1437 99.2789 1432.41 Q102.358 1427.81 108.168 1427.81 Z\" fill=\"#000000\" fill-rule=\"evenodd\" fill-opacity=\"1\" /><path clip-path=\"url(#clip320)\" d=\"M138.33 1431.51 Q134.719 1431.51 132.89 1435.07 Q131.084 1438.62 131.084 1445.75 Q131.084 1452.85 132.89 1456.42 Q134.719 1459.96 138.33 1459.96 Q141.964 1459.96 143.769 1456.42 Q145.598 1452.85 145.598 1445.75 Q145.598 1438.62 143.769 1435.07 Q141.964 1431.51 138.33 1431.51 M138.33 1427.81 Q144.14 1427.81 147.195 1432.41 Q150.274 1437 150.274 1445.75 Q150.274 1454.47 147.195 1459.08 Q144.14 1463.66 138.33 1463.66 Q132.519 1463.66 129.441 1459.08 Q126.385 1454.47 126.385 1445.75 Q126.385 1437 129.441 1432.41 Q132.519 1427.81 138.33 1427.81 Z\" fill=\"#000000\" fill-rule=\"evenodd\" fill-opacity=\"1\" /><path clip-path=\"url(#clip320)\" d=\"M63.9319 1190.44 Q60.3208 1190.44 58.4921 1194.01 Q56.6865 1197.55 56.6865 1204.68 Q56.6865 1211.79 58.4921 1215.35 Q60.3208 1218.89 63.9319 1218.89 Q67.5661 1218.89 69.3717 1215.35 Q71.2004 1211.79 71.2004 1204.68 Q71.2004 1197.55 69.3717 1194.01 Q67.5661 1190.44 63.9319 1190.44 M63.9319 1186.74 Q69.742 1186.74 72.7976 1191.35 Q75.8763 1195.93 75.8763 1204.68 Q75.8763 1213.41 72.7976 1218.01 Q69.742 1222.6 63.9319 1222.6 Q58.1217 1222.6 55.043 1218.01 Q51.9875 1213.41 51.9875 1204.68 Q51.9875 1195.93 55.043 1191.35 Q58.1217 1186.74 63.9319 1186.74 Z\" fill=\"#000000\" fill-rule=\"evenodd\" fill-opacity=\"1\" /><path clip-path=\"url(#clip320)\" d=\"M84.0938 1216.05 L88.978 1216.05 L88.978 1221.93 L84.0938 1221.93 L84.0938 1216.05 Z\" fill=\"#000000\" fill-rule=\"evenodd\" fill-opacity=\"1\" /><path clip-path=\"url(#clip320)\" d=\"M103.191 1217.99 L119.51 1217.99 L119.51 1221.93 L97.566 1221.93 L97.566 1217.99 Q100.228 1215.24 104.811 1210.61 Q109.418 1205.95 110.598 1204.61 Q112.844 1202.09 113.723 1200.35 Q114.626 1198.59 114.626 1196.9 Q114.626 1194.15 112.682 1192.41 Q110.76 1190.68 107.658 1190.68 Q105.459 1190.68 103.006 1191.44 Q100.575 1192.2 97.7974 1193.75 L97.7974 1189.03 Q100.621 1187.9 103.075 1187.32 Q105.529 1186.74 107.566 1186.74 Q112.936 1186.74 116.131 1189.43 Q119.325 1192.11 119.325 1196.6 Q119.325 1198.73 118.515 1200.65 Q117.728 1202.55 115.621 1205.14 Q115.043 1205.81 111.941 1209.03 Q108.839 1212.23 103.191 1217.99 Z\" fill=\"#000000\" fill-rule=\"evenodd\" fill-opacity=\"1\" /><path clip-path=\"url(#clip320)\" d=\"M129.371 1187.37 L147.728 1187.37 L147.728 1191.3 L133.654 1191.3 L133.654 1199.77 Q134.672 1199.43 135.691 1199.26 Q136.709 1199.08 137.728 1199.08 Q143.515 1199.08 146.894 1202.25 Q150.274 1205.42 150.274 1210.84 Q150.274 1216.42 146.802 1219.52 Q143.33 1222.6 137.01 1222.6 Q134.834 1222.6 132.566 1222.23 Q130.32 1221.86 127.913 1221.12 L127.913 1216.42 Q129.996 1217.55 132.219 1218.11 Q134.441 1218.66 136.918 1218.66 Q140.922 1218.66 143.26 1216.56 Q145.598 1214.45 145.598 1210.84 Q145.598 1207.23 143.26 1205.12 Q140.922 1203.01 136.918 1203.01 Q135.043 1203.01 133.168 1203.43 Q131.316 1203.85 129.371 1204.73 L129.371 1187.37 Z\" fill=\"#000000\" fill-rule=\"evenodd\" fill-opacity=\"1\" /><path clip-path=\"url(#clip320)\" d=\"M62.9365 949.378 Q59.3254 949.378 57.4967 952.943 Q55.6912 956.485 55.6912 963.614 Q55.6912 970.721 57.4967 974.286 Q59.3254 977.827 62.9365 977.827 Q66.5707 977.827 68.3763 974.286 Q70.205 970.721 70.205 963.614 Q70.205 956.485 68.3763 952.943 Q66.5707 949.378 62.9365 949.378 M62.9365 945.675 Q68.7467 945.675 71.8022 950.281 Q74.8809 954.864 74.8809 963.614 Q74.8809 972.341 71.8022 976.948 Q68.7467 981.531 62.9365 981.531 Q57.1264 981.531 54.0477 976.948 Q50.9921 972.341 50.9921 963.614 Q50.9921 954.864 54.0477 950.281 Q57.1264 945.675 62.9365 945.675 Z\" fill=\"#000000\" fill-rule=\"evenodd\" fill-opacity=\"1\" /><path clip-path=\"url(#clip320)\" d=\"M83.0984 974.98 L87.9827 974.98 L87.9827 980.86 L83.0984 980.86 L83.0984 974.98 Z\" fill=\"#000000\" fill-rule=\"evenodd\" fill-opacity=\"1\" /><path clip-path=\"url(#clip320)\" d=\"M98.2141 946.3 L116.57 946.3 L116.57 950.235 L102.496 950.235 L102.496 958.707 Q103.515 958.36 104.534 958.198 Q105.552 958.013 106.571 958.013 Q112.358 958.013 115.737 961.184 Q119.117 964.355 119.117 969.772 Q119.117 975.35 115.645 978.452 Q112.172 981.531 105.853 981.531 Q103.677 981.531 101.409 981.161 Q99.1632 980.79 96.7558 980.049 L96.7558 975.35 Q98.8391 976.485 101.061 977.04 Q103.284 977.596 105.76 977.596 Q109.765 977.596 112.103 975.489 Q114.441 973.383 114.441 969.772 Q114.441 966.161 112.103 964.054 Q109.765 961.948 105.76 961.948 Q103.885 961.948 102.01 962.364 Q100.159 962.781 98.2141 963.661 L98.2141 946.3 Z\" fill=\"#000000\" fill-rule=\"evenodd\" fill-opacity=\"1\" /><path clip-path=\"url(#clip320)\" d=\"M138.33 949.378 Q134.719 949.378 132.89 952.943 Q131.084 956.485 131.084 963.614 Q131.084 970.721 132.89 974.286 Q134.719 977.827 138.33 977.827 Q141.964 977.827 143.769 974.286 Q145.598 970.721 145.598 963.614 Q145.598 956.485 143.769 952.943 Q141.964 949.378 138.33 949.378 M138.33 945.675 Q144.14 945.675 147.195 950.281 Q150.274 954.864 150.274 963.614 Q150.274 972.341 147.195 976.948 Q144.14 981.531 138.33 981.531 Q132.519 981.531 129.441 976.948 Q126.385 972.341 126.385 963.614 Q126.385 954.864 129.441 950.281 Q132.519 945.675 138.33 945.675 Z\" fill=\"#000000\" fill-rule=\"evenodd\" fill-opacity=\"1\" /><path clip-path=\"url(#clip320)\" d=\"M63.9319 708.313 Q60.3208 708.313 58.4921 711.877 Q56.6865 715.419 56.6865 722.549 Q56.6865 729.655 58.4921 733.22 Q60.3208 736.761 63.9319 736.761 Q67.5661 736.761 69.3717 733.22 Q71.2004 729.655 71.2004 722.549 Q71.2004 715.419 69.3717 711.877 Q67.5661 708.313 63.9319 708.313 M63.9319 704.609 Q69.742 704.609 72.7976 709.215 Q75.8763 713.799 75.8763 722.549 Q75.8763 731.275 72.7976 735.882 Q69.742 740.465 63.9319 740.465 Q58.1217 740.465 55.043 735.882 Q51.9875 731.275 51.9875 722.549 Q51.9875 713.799 55.043 709.215 Q58.1217 704.609 63.9319 704.609 Z\" fill=\"#000000\" fill-rule=\"evenodd\" fill-opacity=\"1\" /><path clip-path=\"url(#clip320)\" d=\"M84.0938 733.914 L88.978 733.914 L88.978 739.794 L84.0938 739.794 L84.0938 733.914 Z\" fill=\"#000000\" fill-rule=\"evenodd\" fill-opacity=\"1\" /><path clip-path=\"url(#clip320)\" d=\"M97.9826 705.234 L120.205 705.234 L120.205 707.225 L107.658 739.794 L102.774 739.794 L114.58 709.169 L97.9826 709.169 L97.9826 705.234 Z\" fill=\"#000000\" fill-rule=\"evenodd\" fill-opacity=\"1\" /><path clip-path=\"url(#clip320)\" d=\"M129.371 705.234 L147.728 705.234 L147.728 709.169 L133.654 709.169 L133.654 717.641 Q134.672 717.294 135.691 717.132 Q136.709 716.947 137.728 716.947 Q143.515 716.947 146.894 720.118 Q150.274 723.289 150.274 728.706 Q150.274 734.285 146.802 737.386 Q143.33 740.465 137.01 740.465 Q134.834 740.465 132.566 740.095 Q130.32 739.724 127.913 738.984 L127.913 734.285 Q129.996 735.419 132.219 735.974 Q134.441 736.53 136.918 736.53 Q140.922 736.53 143.26 734.423 Q145.598 732.317 145.598 728.706 Q145.598 725.095 143.26 722.988 Q140.922 720.882 136.918 720.882 Q135.043 720.882 133.168 721.299 Q131.316 721.715 129.371 722.595 L129.371 705.234 Z\" fill=\"#000000\" fill-rule=\"evenodd\" fill-opacity=\"1\" /><path clip-path=\"url(#clip320)\" d=\"M53.7467 494.793 L61.3856 494.793 L61.3856 468.427 L53.0754 470.094 L53.0754 465.835 L61.3393 464.168 L66.0152 464.168 L66.0152 494.793 L73.654 494.793 L73.654 498.728 L53.7467 498.728 L53.7467 494.793 Z\" fill=\"#000000\" fill-rule=\"evenodd\" fill-opacity=\"1\" /><path clip-path=\"url(#clip320)\" d=\"M83.0984 492.848 L87.9827 492.848 L87.9827 498.728 L83.0984 498.728 L83.0984 492.848 Z\" fill=\"#000000\" fill-rule=\"evenodd\" fill-opacity=\"1\" /><path clip-path=\"url(#clip320)\" d=\"M108.168 467.247 Q104.557 467.247 102.728 470.812 Q100.922 474.353 100.922 481.483 Q100.922 488.589 102.728 492.154 Q104.557 495.696 108.168 495.696 Q111.802 495.696 113.608 492.154 Q115.436 488.589 115.436 481.483 Q115.436 474.353 113.608 470.812 Q111.802 467.247 108.168 467.247 M108.168 463.543 Q113.978 463.543 117.033 468.149 Q120.112 472.733 120.112 481.483 Q120.112 490.21 117.033 494.816 Q113.978 499.399 108.168 499.399 Q102.358 499.399 99.2789 494.816 Q96.2234 490.21 96.2234 481.483 Q96.2234 472.733 99.2789 468.149 Q102.358 463.543 108.168 463.543 Z\" fill=\"#000000\" fill-rule=\"evenodd\" fill-opacity=\"1\" /><path clip-path=\"url(#clip320)\" d=\"M138.33 467.247 Q134.719 467.247 132.89 470.812 Q131.084 474.353 131.084 481.483 Q131.084 488.589 132.89 492.154 Q134.719 495.696 138.33 495.696 Q141.964 495.696 143.769 492.154 Q145.598 488.589 145.598 481.483 Q145.598 474.353 143.769 470.812 Q141.964 467.247 138.33 467.247 M138.33 463.543 Q144.14 463.543 147.195 468.149 Q150.274 472.733 150.274 481.483 Q150.274 490.21 147.195 494.816 Q144.14 499.399 138.33 499.399 Q132.519 499.399 129.441 494.816 Q126.385 490.21 126.385 481.483 Q126.385 472.733 129.441 468.149 Q132.519 463.543 138.33 463.543 Z\" fill=\"#000000\" fill-rule=\"evenodd\" fill-opacity=\"1\" /><path clip-path=\"url(#clip320)\" d=\"M54.7421 253.727 L62.381 253.727 L62.381 227.361 L54.0708 229.028 L54.0708 224.769 L62.3347 223.102 L67.0106 223.102 L67.0106 253.727 L74.6494 253.727 L74.6494 257.662 L54.7421 257.662 L54.7421 253.727 Z\" fill=\"#000000\" fill-rule=\"evenodd\" fill-opacity=\"1\" /><path clip-path=\"url(#clip320)\" d=\"M84.0938 251.783 L88.978 251.783 L88.978 257.662 L84.0938 257.662 L84.0938 251.783 Z\" fill=\"#000000\" fill-rule=\"evenodd\" fill-opacity=\"1\" /><path clip-path=\"url(#clip320)\" d=\"M103.191 253.727 L119.51 253.727 L119.51 257.662 L97.566 257.662 L97.566 253.727 Q100.228 250.972 104.811 246.343 Q109.418 241.69 110.598 240.348 Q112.844 237.824 113.723 236.088 Q114.626 234.329 114.626 232.639 Q114.626 229.885 112.682 228.148 Q110.76 226.412 107.658 226.412 Q105.459 226.412 103.006 227.176 Q100.575 227.94 97.7974 229.491 L97.7974 224.769 Q100.621 223.635 103.075 223.056 Q105.529 222.477 107.566 222.477 Q112.936 222.477 116.131 225.162 Q119.325 227.848 119.325 232.338 Q119.325 234.468 118.515 236.389 Q117.728 238.287 115.621 240.88 Q115.043 241.551 111.941 244.769 Q108.839 247.963 103.191 253.727 Z\" fill=\"#000000\" fill-rule=\"evenodd\" fill-opacity=\"1\" /><path clip-path=\"url(#clip320)\" d=\"M129.371 223.102 L147.728 223.102 L147.728 227.037 L133.654 227.037 L133.654 235.51 Q134.672 235.162 135.691 235 Q136.709 234.815 137.728 234.815 Q143.515 234.815 146.894 237.986 Q150.274 241.158 150.274 246.574 Q150.274 252.153 146.802 255.255 Q143.33 258.334 137.01 258.334 Q134.834 258.334 132.566 257.963 Q130.32 257.593 127.913 256.852 L127.913 252.153 Q129.996 253.287 132.219 253.843 Q134.441 254.398 136.918 254.398 Q140.922 254.398 143.26 252.292 Q145.598 250.185 145.598 246.574 Q145.598 242.963 143.26 240.857 Q140.922 238.75 136.918 238.75 Q135.043 238.75 133.168 239.167 Q131.316 239.584 129.371 240.463 L129.371 223.102 Z\" fill=\"#000000\" fill-rule=\"evenodd\" fill-opacity=\"1\" /><polyline clip-path=\"url(#clip322)\" style=\"stroke:#009af9; stroke-linecap:butt; stroke-linejoin:round; stroke-width:4; stroke-opacity:1; fill:none\" points=\"\n",
       "  247.59,1323.07 268.028,1369.33 288.467,1400.06 308.905,1265.22 329.344,1229.53 349.782,1236.41 370.221,1286.8 390.659,1199.32 411.098,1181 431.536,1261.68 \n",
       "  451.975,1103.28 472.413,1217.1 492.852,1035.17 513.29,1032.17 533.729,1133.58 554.167,1021.55 574.606,974.919 595.044,1009.45 615.483,1038.91 635.921,874.01 \n",
       "  656.36,879.266 676.798,828.064 697.237,727.855 717.675,786.117 738.114,710.358 758.552,757.993 778.991,667.383 799.429,736.188 819.868,678.661 840.306,701.939 \n",
       "  860.745,635.684 881.183,466.828 901.622,588.678 922.06,578.303 942.499,493.965 962.937,519.135 983.376,442.41 1003.81,487.317 1024.25,385.428 1044.69,502.544 \n",
       "  1065.13,384.276 1085.57,419.572 1106.01,412.086 1126.45,341.898 1146.88,298.207 1167.32,439.573 1187.76,404.102 1208.2,308.214 1228.64,487.558 1249.08,370.089 \n",
       "  1269.51,327.276 1289.95,347.418 1310.39,488.643 1330.83,413.967 1351.27,428.506 1371.71,601.975 1392.15,590.317 1412.58,463.398 1433.02,665.367 1453.46,616.485 \n",
       "  1473.9,558.152 1494.34,632.907 1514.78,610.682 1535.22,708.368 1555.65,662.238 1576.09,796.152 1596.53,865.06 1616.97,787.946 1637.41,856.462 1657.85,880.765 \n",
       "  1678.29,980.78 1698.72,954.111 1719.16,932.09 1739.6,1107.21 1760.04,1158.28 1780.48,1149.67 1800.92,1207.3 1821.35,1141.08 1841.79,1187.31 1862.23,1217.79 \n",
       "  1882.67,1215.73 1903.11,1177.41 1923.55,1353.64 1943.99,1254.27 1964.42,1241.38 1984.86,1268.79 2005.3,1283.2 2025.74,1351.13 2046.18,1258.96 2066.62,1274.13 \n",
       "  2087.06,1412.56 2107.49,1278.57 2127.93,1416.99 2148.37,1313.58 2168.81,1320.76 2189.25,1298.9 2209.69,1303.43 2230.12,1307.55 2250.56,1227.86 2271,1297.25 \n",
       "  2291.44,1321.79 \n",
       "  \"/>\n",
       "<circle clip-path=\"url(#clip322)\" cx=\"247.59\" cy=\"1323.07\" r=\"14\" fill=\"#009af9\" fill-rule=\"evenodd\" fill-opacity=\"1\" stroke=\"#000000\" stroke-opacity=\"1\" stroke-width=\"3.2\"/>\n",
       "<circle clip-path=\"url(#clip322)\" cx=\"268.028\" cy=\"1369.33\" r=\"14\" fill=\"#009af9\" fill-rule=\"evenodd\" fill-opacity=\"1\" stroke=\"#000000\" stroke-opacity=\"1\" stroke-width=\"3.2\"/>\n",
       "<circle clip-path=\"url(#clip322)\" cx=\"288.467\" cy=\"1400.06\" r=\"14\" fill=\"#009af9\" fill-rule=\"evenodd\" fill-opacity=\"1\" stroke=\"#000000\" stroke-opacity=\"1\" stroke-width=\"3.2\"/>\n",
       "<circle clip-path=\"url(#clip322)\" cx=\"308.905\" cy=\"1265.22\" r=\"14\" fill=\"#009af9\" fill-rule=\"evenodd\" fill-opacity=\"1\" stroke=\"#000000\" stroke-opacity=\"1\" stroke-width=\"3.2\"/>\n",
       "<circle clip-path=\"url(#clip322)\" cx=\"329.344\" cy=\"1229.53\" r=\"14\" fill=\"#009af9\" fill-rule=\"evenodd\" fill-opacity=\"1\" stroke=\"#000000\" stroke-opacity=\"1\" stroke-width=\"3.2\"/>\n",
       "<circle clip-path=\"url(#clip322)\" cx=\"349.782\" cy=\"1236.41\" r=\"14\" fill=\"#009af9\" fill-rule=\"evenodd\" fill-opacity=\"1\" stroke=\"#000000\" stroke-opacity=\"1\" stroke-width=\"3.2\"/>\n",
       "<circle clip-path=\"url(#clip322)\" cx=\"370.221\" cy=\"1286.8\" r=\"14\" fill=\"#009af9\" fill-rule=\"evenodd\" fill-opacity=\"1\" stroke=\"#000000\" stroke-opacity=\"1\" stroke-width=\"3.2\"/>\n",
       "<circle clip-path=\"url(#clip322)\" cx=\"390.659\" cy=\"1199.32\" r=\"14\" fill=\"#009af9\" fill-rule=\"evenodd\" fill-opacity=\"1\" stroke=\"#000000\" stroke-opacity=\"1\" stroke-width=\"3.2\"/>\n",
       "<circle clip-path=\"url(#clip322)\" cx=\"411.098\" cy=\"1181\" r=\"14\" fill=\"#009af9\" fill-rule=\"evenodd\" fill-opacity=\"1\" stroke=\"#000000\" stroke-opacity=\"1\" stroke-width=\"3.2\"/>\n",
       "<circle clip-path=\"url(#clip322)\" cx=\"431.536\" cy=\"1261.68\" r=\"14\" fill=\"#009af9\" fill-rule=\"evenodd\" fill-opacity=\"1\" stroke=\"#000000\" stroke-opacity=\"1\" stroke-width=\"3.2\"/>\n",
       "<circle clip-path=\"url(#clip322)\" cx=\"451.975\" cy=\"1103.28\" r=\"14\" fill=\"#009af9\" fill-rule=\"evenodd\" fill-opacity=\"1\" stroke=\"#000000\" stroke-opacity=\"1\" stroke-width=\"3.2\"/>\n",
       "<circle clip-path=\"url(#clip322)\" cx=\"472.413\" cy=\"1217.1\" r=\"14\" fill=\"#009af9\" fill-rule=\"evenodd\" fill-opacity=\"1\" stroke=\"#000000\" stroke-opacity=\"1\" stroke-width=\"3.2\"/>\n",
       "<circle clip-path=\"url(#clip322)\" cx=\"492.852\" cy=\"1035.17\" r=\"14\" fill=\"#009af9\" fill-rule=\"evenodd\" fill-opacity=\"1\" stroke=\"#000000\" stroke-opacity=\"1\" stroke-width=\"3.2\"/>\n",
       "<circle clip-path=\"url(#clip322)\" cx=\"513.29\" cy=\"1032.17\" r=\"14\" fill=\"#009af9\" fill-rule=\"evenodd\" fill-opacity=\"1\" stroke=\"#000000\" stroke-opacity=\"1\" stroke-width=\"3.2\"/>\n",
       "<circle clip-path=\"url(#clip322)\" cx=\"533.729\" cy=\"1133.58\" r=\"14\" fill=\"#009af9\" fill-rule=\"evenodd\" fill-opacity=\"1\" stroke=\"#000000\" stroke-opacity=\"1\" stroke-width=\"3.2\"/>\n",
       "<circle clip-path=\"url(#clip322)\" cx=\"554.167\" cy=\"1021.55\" r=\"14\" fill=\"#009af9\" fill-rule=\"evenodd\" fill-opacity=\"1\" stroke=\"#000000\" stroke-opacity=\"1\" stroke-width=\"3.2\"/>\n",
       "<circle clip-path=\"url(#clip322)\" cx=\"574.606\" cy=\"974.919\" r=\"14\" fill=\"#009af9\" fill-rule=\"evenodd\" fill-opacity=\"1\" stroke=\"#000000\" stroke-opacity=\"1\" stroke-width=\"3.2\"/>\n",
       "<circle clip-path=\"url(#clip322)\" cx=\"595.044\" cy=\"1009.45\" r=\"14\" fill=\"#009af9\" fill-rule=\"evenodd\" fill-opacity=\"1\" stroke=\"#000000\" stroke-opacity=\"1\" stroke-width=\"3.2\"/>\n",
       "<circle clip-path=\"url(#clip322)\" cx=\"615.483\" cy=\"1038.91\" r=\"14\" fill=\"#009af9\" fill-rule=\"evenodd\" fill-opacity=\"1\" stroke=\"#000000\" stroke-opacity=\"1\" stroke-width=\"3.2\"/>\n",
       "<circle clip-path=\"url(#clip322)\" cx=\"635.921\" cy=\"874.01\" r=\"14\" fill=\"#009af9\" fill-rule=\"evenodd\" fill-opacity=\"1\" stroke=\"#000000\" stroke-opacity=\"1\" stroke-width=\"3.2\"/>\n",
       "<circle clip-path=\"url(#clip322)\" cx=\"656.36\" cy=\"879.266\" r=\"14\" fill=\"#009af9\" fill-rule=\"evenodd\" fill-opacity=\"1\" stroke=\"#000000\" stroke-opacity=\"1\" stroke-width=\"3.2\"/>\n",
       "<circle clip-path=\"url(#clip322)\" cx=\"676.798\" cy=\"828.064\" r=\"14\" fill=\"#009af9\" fill-rule=\"evenodd\" fill-opacity=\"1\" stroke=\"#000000\" stroke-opacity=\"1\" stroke-width=\"3.2\"/>\n",
       "<circle clip-path=\"url(#clip322)\" cx=\"697.237\" cy=\"727.855\" r=\"14\" fill=\"#009af9\" fill-rule=\"evenodd\" fill-opacity=\"1\" stroke=\"#000000\" stroke-opacity=\"1\" stroke-width=\"3.2\"/>\n",
       "<circle clip-path=\"url(#clip322)\" cx=\"717.675\" cy=\"786.117\" r=\"14\" fill=\"#009af9\" fill-rule=\"evenodd\" fill-opacity=\"1\" stroke=\"#000000\" stroke-opacity=\"1\" stroke-width=\"3.2\"/>\n",
       "<circle clip-path=\"url(#clip322)\" cx=\"738.114\" cy=\"710.358\" r=\"14\" fill=\"#009af9\" fill-rule=\"evenodd\" fill-opacity=\"1\" stroke=\"#000000\" stroke-opacity=\"1\" stroke-width=\"3.2\"/>\n",
       "<circle clip-path=\"url(#clip322)\" cx=\"758.552\" cy=\"757.993\" r=\"14\" fill=\"#009af9\" fill-rule=\"evenodd\" fill-opacity=\"1\" stroke=\"#000000\" stroke-opacity=\"1\" stroke-width=\"3.2\"/>\n",
       "<circle clip-path=\"url(#clip322)\" cx=\"778.991\" cy=\"667.383\" r=\"14\" fill=\"#009af9\" fill-rule=\"evenodd\" fill-opacity=\"1\" stroke=\"#000000\" stroke-opacity=\"1\" stroke-width=\"3.2\"/>\n",
       "<circle clip-path=\"url(#clip322)\" cx=\"799.429\" cy=\"736.188\" r=\"14\" fill=\"#009af9\" fill-rule=\"evenodd\" fill-opacity=\"1\" stroke=\"#000000\" stroke-opacity=\"1\" stroke-width=\"3.2\"/>\n",
       "<circle clip-path=\"url(#clip322)\" cx=\"819.868\" cy=\"678.661\" r=\"14\" fill=\"#009af9\" fill-rule=\"evenodd\" fill-opacity=\"1\" stroke=\"#000000\" stroke-opacity=\"1\" stroke-width=\"3.2\"/>\n",
       "<circle clip-path=\"url(#clip322)\" cx=\"840.306\" cy=\"701.939\" r=\"14\" fill=\"#009af9\" fill-rule=\"evenodd\" fill-opacity=\"1\" stroke=\"#000000\" stroke-opacity=\"1\" stroke-width=\"3.2\"/>\n",
       "<circle clip-path=\"url(#clip322)\" cx=\"860.745\" cy=\"635.684\" r=\"14\" fill=\"#009af9\" fill-rule=\"evenodd\" fill-opacity=\"1\" stroke=\"#000000\" stroke-opacity=\"1\" stroke-width=\"3.2\"/>\n",
       "<circle clip-path=\"url(#clip322)\" cx=\"881.183\" cy=\"466.828\" r=\"14\" fill=\"#009af9\" fill-rule=\"evenodd\" fill-opacity=\"1\" stroke=\"#000000\" stroke-opacity=\"1\" stroke-width=\"3.2\"/>\n",
       "<circle clip-path=\"url(#clip322)\" cx=\"901.622\" cy=\"588.678\" r=\"14\" fill=\"#009af9\" fill-rule=\"evenodd\" fill-opacity=\"1\" stroke=\"#000000\" stroke-opacity=\"1\" stroke-width=\"3.2\"/>\n",
       "<circle clip-path=\"url(#clip322)\" cx=\"922.06\" cy=\"578.303\" r=\"14\" fill=\"#009af9\" fill-rule=\"evenodd\" fill-opacity=\"1\" stroke=\"#000000\" stroke-opacity=\"1\" stroke-width=\"3.2\"/>\n",
       "<circle clip-path=\"url(#clip322)\" cx=\"942.499\" cy=\"493.965\" r=\"14\" fill=\"#009af9\" fill-rule=\"evenodd\" fill-opacity=\"1\" stroke=\"#000000\" stroke-opacity=\"1\" stroke-width=\"3.2\"/>\n",
       "<circle clip-path=\"url(#clip322)\" cx=\"962.937\" cy=\"519.135\" r=\"14\" fill=\"#009af9\" fill-rule=\"evenodd\" fill-opacity=\"1\" stroke=\"#000000\" stroke-opacity=\"1\" stroke-width=\"3.2\"/>\n",
       "<circle clip-path=\"url(#clip322)\" cx=\"983.376\" cy=\"442.41\" r=\"14\" fill=\"#009af9\" fill-rule=\"evenodd\" fill-opacity=\"1\" stroke=\"#000000\" stroke-opacity=\"1\" stroke-width=\"3.2\"/>\n",
       "<circle clip-path=\"url(#clip322)\" cx=\"1003.81\" cy=\"487.317\" r=\"14\" fill=\"#009af9\" fill-rule=\"evenodd\" fill-opacity=\"1\" stroke=\"#000000\" stroke-opacity=\"1\" stroke-width=\"3.2\"/>\n",
       "<circle clip-path=\"url(#clip322)\" cx=\"1024.25\" cy=\"385.428\" r=\"14\" fill=\"#009af9\" fill-rule=\"evenodd\" fill-opacity=\"1\" stroke=\"#000000\" stroke-opacity=\"1\" stroke-width=\"3.2\"/>\n",
       "<circle clip-path=\"url(#clip322)\" cx=\"1044.69\" cy=\"502.544\" r=\"14\" fill=\"#009af9\" fill-rule=\"evenodd\" fill-opacity=\"1\" stroke=\"#000000\" stroke-opacity=\"1\" stroke-width=\"3.2\"/>\n",
       "<circle clip-path=\"url(#clip322)\" cx=\"1065.13\" cy=\"384.276\" r=\"14\" fill=\"#009af9\" fill-rule=\"evenodd\" fill-opacity=\"1\" stroke=\"#000000\" stroke-opacity=\"1\" stroke-width=\"3.2\"/>\n",
       "<circle clip-path=\"url(#clip322)\" cx=\"1085.57\" cy=\"419.572\" r=\"14\" fill=\"#009af9\" fill-rule=\"evenodd\" fill-opacity=\"1\" stroke=\"#000000\" stroke-opacity=\"1\" stroke-width=\"3.2\"/>\n",
       "<circle clip-path=\"url(#clip322)\" cx=\"1106.01\" cy=\"412.086\" r=\"14\" fill=\"#009af9\" fill-rule=\"evenodd\" fill-opacity=\"1\" stroke=\"#000000\" stroke-opacity=\"1\" stroke-width=\"3.2\"/>\n",
       "<circle clip-path=\"url(#clip322)\" cx=\"1126.45\" cy=\"341.898\" r=\"14\" fill=\"#009af9\" fill-rule=\"evenodd\" fill-opacity=\"1\" stroke=\"#000000\" stroke-opacity=\"1\" stroke-width=\"3.2\"/>\n",
       "<circle clip-path=\"url(#clip322)\" cx=\"1146.88\" cy=\"298.207\" r=\"14\" fill=\"#009af9\" fill-rule=\"evenodd\" fill-opacity=\"1\" stroke=\"#000000\" stroke-opacity=\"1\" stroke-width=\"3.2\"/>\n",
       "<circle clip-path=\"url(#clip322)\" cx=\"1167.32\" cy=\"439.573\" r=\"14\" fill=\"#009af9\" fill-rule=\"evenodd\" fill-opacity=\"1\" stroke=\"#000000\" stroke-opacity=\"1\" stroke-width=\"3.2\"/>\n",
       "<circle clip-path=\"url(#clip322)\" cx=\"1187.76\" cy=\"404.102\" r=\"14\" fill=\"#009af9\" fill-rule=\"evenodd\" fill-opacity=\"1\" stroke=\"#000000\" stroke-opacity=\"1\" stroke-width=\"3.2\"/>\n",
       "<circle clip-path=\"url(#clip322)\" cx=\"1208.2\" cy=\"308.214\" r=\"14\" fill=\"#009af9\" fill-rule=\"evenodd\" fill-opacity=\"1\" stroke=\"#000000\" stroke-opacity=\"1\" stroke-width=\"3.2\"/>\n",
       "<circle clip-path=\"url(#clip322)\" cx=\"1228.64\" cy=\"487.558\" r=\"14\" fill=\"#009af9\" fill-rule=\"evenodd\" fill-opacity=\"1\" stroke=\"#000000\" stroke-opacity=\"1\" stroke-width=\"3.2\"/>\n",
       "<circle clip-path=\"url(#clip322)\" cx=\"1249.08\" cy=\"370.089\" r=\"14\" fill=\"#009af9\" fill-rule=\"evenodd\" fill-opacity=\"1\" stroke=\"#000000\" stroke-opacity=\"1\" stroke-width=\"3.2\"/>\n",
       "<circle clip-path=\"url(#clip322)\" cx=\"1269.51\" cy=\"327.276\" r=\"14\" fill=\"#009af9\" fill-rule=\"evenodd\" fill-opacity=\"1\" stroke=\"#000000\" stroke-opacity=\"1\" stroke-width=\"3.2\"/>\n",
       "<circle clip-path=\"url(#clip322)\" cx=\"1289.95\" cy=\"347.418\" r=\"14\" fill=\"#009af9\" fill-rule=\"evenodd\" fill-opacity=\"1\" stroke=\"#000000\" stroke-opacity=\"1\" stroke-width=\"3.2\"/>\n",
       "<circle clip-path=\"url(#clip322)\" cx=\"1310.39\" cy=\"488.643\" r=\"14\" fill=\"#009af9\" fill-rule=\"evenodd\" fill-opacity=\"1\" stroke=\"#000000\" stroke-opacity=\"1\" stroke-width=\"3.2\"/>\n",
       "<circle clip-path=\"url(#clip322)\" cx=\"1330.83\" cy=\"413.967\" r=\"14\" fill=\"#009af9\" fill-rule=\"evenodd\" fill-opacity=\"1\" stroke=\"#000000\" stroke-opacity=\"1\" stroke-width=\"3.2\"/>\n",
       "<circle clip-path=\"url(#clip322)\" cx=\"1351.27\" cy=\"428.506\" r=\"14\" fill=\"#009af9\" fill-rule=\"evenodd\" fill-opacity=\"1\" stroke=\"#000000\" stroke-opacity=\"1\" stroke-width=\"3.2\"/>\n",
       "<circle clip-path=\"url(#clip322)\" cx=\"1371.71\" cy=\"601.975\" r=\"14\" fill=\"#009af9\" fill-rule=\"evenodd\" fill-opacity=\"1\" stroke=\"#000000\" stroke-opacity=\"1\" stroke-width=\"3.2\"/>\n",
       "<circle clip-path=\"url(#clip322)\" cx=\"1392.15\" cy=\"590.317\" r=\"14\" fill=\"#009af9\" fill-rule=\"evenodd\" fill-opacity=\"1\" stroke=\"#000000\" stroke-opacity=\"1\" stroke-width=\"3.2\"/>\n",
       "<circle clip-path=\"url(#clip322)\" cx=\"1412.58\" cy=\"463.398\" r=\"14\" fill=\"#009af9\" fill-rule=\"evenodd\" fill-opacity=\"1\" stroke=\"#000000\" stroke-opacity=\"1\" stroke-width=\"3.2\"/>\n",
       "<circle clip-path=\"url(#clip322)\" cx=\"1433.02\" cy=\"665.367\" r=\"14\" fill=\"#009af9\" fill-rule=\"evenodd\" fill-opacity=\"1\" stroke=\"#000000\" stroke-opacity=\"1\" stroke-width=\"3.2\"/>\n",
       "<circle clip-path=\"url(#clip322)\" cx=\"1453.46\" cy=\"616.485\" r=\"14\" fill=\"#009af9\" fill-rule=\"evenodd\" fill-opacity=\"1\" stroke=\"#000000\" stroke-opacity=\"1\" stroke-width=\"3.2\"/>\n",
       "<circle clip-path=\"url(#clip322)\" cx=\"1473.9\" cy=\"558.152\" r=\"14\" fill=\"#009af9\" fill-rule=\"evenodd\" fill-opacity=\"1\" stroke=\"#000000\" stroke-opacity=\"1\" stroke-width=\"3.2\"/>\n",
       "<circle clip-path=\"url(#clip322)\" cx=\"1494.34\" cy=\"632.907\" r=\"14\" fill=\"#009af9\" fill-rule=\"evenodd\" fill-opacity=\"1\" stroke=\"#000000\" stroke-opacity=\"1\" stroke-width=\"3.2\"/>\n",
       "<circle clip-path=\"url(#clip322)\" cx=\"1514.78\" cy=\"610.682\" r=\"14\" fill=\"#009af9\" fill-rule=\"evenodd\" fill-opacity=\"1\" stroke=\"#000000\" stroke-opacity=\"1\" stroke-width=\"3.2\"/>\n",
       "<circle clip-path=\"url(#clip322)\" cx=\"1535.22\" cy=\"708.368\" r=\"14\" fill=\"#009af9\" fill-rule=\"evenodd\" fill-opacity=\"1\" stroke=\"#000000\" stroke-opacity=\"1\" stroke-width=\"3.2\"/>\n",
       "<circle clip-path=\"url(#clip322)\" cx=\"1555.65\" cy=\"662.238\" r=\"14\" fill=\"#009af9\" fill-rule=\"evenodd\" fill-opacity=\"1\" stroke=\"#000000\" stroke-opacity=\"1\" stroke-width=\"3.2\"/>\n",
       "<circle clip-path=\"url(#clip322)\" cx=\"1576.09\" cy=\"796.152\" r=\"14\" fill=\"#009af9\" fill-rule=\"evenodd\" fill-opacity=\"1\" stroke=\"#000000\" stroke-opacity=\"1\" stroke-width=\"3.2\"/>\n",
       "<circle clip-path=\"url(#clip322)\" cx=\"1596.53\" cy=\"865.06\" r=\"14\" fill=\"#009af9\" fill-rule=\"evenodd\" fill-opacity=\"1\" stroke=\"#000000\" stroke-opacity=\"1\" stroke-width=\"3.2\"/>\n",
       "<circle clip-path=\"url(#clip322)\" cx=\"1616.97\" cy=\"787.946\" r=\"14\" fill=\"#009af9\" fill-rule=\"evenodd\" fill-opacity=\"1\" stroke=\"#000000\" stroke-opacity=\"1\" stroke-width=\"3.2\"/>\n",
       "<circle clip-path=\"url(#clip322)\" cx=\"1637.41\" cy=\"856.462\" r=\"14\" fill=\"#009af9\" fill-rule=\"evenodd\" fill-opacity=\"1\" stroke=\"#000000\" stroke-opacity=\"1\" stroke-width=\"3.2\"/>\n",
       "<circle clip-path=\"url(#clip322)\" cx=\"1657.85\" cy=\"880.765\" r=\"14\" fill=\"#009af9\" fill-rule=\"evenodd\" fill-opacity=\"1\" stroke=\"#000000\" stroke-opacity=\"1\" stroke-width=\"3.2\"/>\n",
       "<circle clip-path=\"url(#clip322)\" cx=\"1678.29\" cy=\"980.78\" r=\"14\" fill=\"#009af9\" fill-rule=\"evenodd\" fill-opacity=\"1\" stroke=\"#000000\" stroke-opacity=\"1\" stroke-width=\"3.2\"/>\n",
       "<circle clip-path=\"url(#clip322)\" cx=\"1698.72\" cy=\"954.111\" r=\"14\" fill=\"#009af9\" fill-rule=\"evenodd\" fill-opacity=\"1\" stroke=\"#000000\" stroke-opacity=\"1\" stroke-width=\"3.2\"/>\n",
       "<circle clip-path=\"url(#clip322)\" cx=\"1719.16\" cy=\"932.09\" r=\"14\" fill=\"#009af9\" fill-rule=\"evenodd\" fill-opacity=\"1\" stroke=\"#000000\" stroke-opacity=\"1\" stroke-width=\"3.2\"/>\n",
       "<circle clip-path=\"url(#clip322)\" cx=\"1739.6\" cy=\"1107.21\" r=\"14\" fill=\"#009af9\" fill-rule=\"evenodd\" fill-opacity=\"1\" stroke=\"#000000\" stroke-opacity=\"1\" stroke-width=\"3.2\"/>\n",
       "<circle clip-path=\"url(#clip322)\" cx=\"1760.04\" cy=\"1158.28\" r=\"14\" fill=\"#009af9\" fill-rule=\"evenodd\" fill-opacity=\"1\" stroke=\"#000000\" stroke-opacity=\"1\" stroke-width=\"3.2\"/>\n",
       "<circle clip-path=\"url(#clip322)\" cx=\"1780.48\" cy=\"1149.67\" r=\"14\" fill=\"#009af9\" fill-rule=\"evenodd\" fill-opacity=\"1\" stroke=\"#000000\" stroke-opacity=\"1\" stroke-width=\"3.2\"/>\n",
       "<circle clip-path=\"url(#clip322)\" cx=\"1800.92\" cy=\"1207.3\" r=\"14\" fill=\"#009af9\" fill-rule=\"evenodd\" fill-opacity=\"1\" stroke=\"#000000\" stroke-opacity=\"1\" stroke-width=\"3.2\"/>\n",
       "<circle clip-path=\"url(#clip322)\" cx=\"1821.35\" cy=\"1141.08\" r=\"14\" fill=\"#009af9\" fill-rule=\"evenodd\" fill-opacity=\"1\" stroke=\"#000000\" stroke-opacity=\"1\" stroke-width=\"3.2\"/>\n",
       "<circle clip-path=\"url(#clip322)\" cx=\"1841.79\" cy=\"1187.31\" r=\"14\" fill=\"#009af9\" fill-rule=\"evenodd\" fill-opacity=\"1\" stroke=\"#000000\" stroke-opacity=\"1\" stroke-width=\"3.2\"/>\n",
       "<circle clip-path=\"url(#clip322)\" cx=\"1862.23\" cy=\"1217.79\" r=\"14\" fill=\"#009af9\" fill-rule=\"evenodd\" fill-opacity=\"1\" stroke=\"#000000\" stroke-opacity=\"1\" stroke-width=\"3.2\"/>\n",
       "<circle clip-path=\"url(#clip322)\" cx=\"1882.67\" cy=\"1215.73\" r=\"14\" fill=\"#009af9\" fill-rule=\"evenodd\" fill-opacity=\"1\" stroke=\"#000000\" stroke-opacity=\"1\" stroke-width=\"3.2\"/>\n",
       "<circle clip-path=\"url(#clip322)\" cx=\"1903.11\" cy=\"1177.41\" r=\"14\" fill=\"#009af9\" fill-rule=\"evenodd\" fill-opacity=\"1\" stroke=\"#000000\" stroke-opacity=\"1\" stroke-width=\"3.2\"/>\n",
       "<circle clip-path=\"url(#clip322)\" cx=\"1923.55\" cy=\"1353.64\" r=\"14\" fill=\"#009af9\" fill-rule=\"evenodd\" fill-opacity=\"1\" stroke=\"#000000\" stroke-opacity=\"1\" stroke-width=\"3.2\"/>\n",
       "<circle clip-path=\"url(#clip322)\" cx=\"1943.99\" cy=\"1254.27\" r=\"14\" fill=\"#009af9\" fill-rule=\"evenodd\" fill-opacity=\"1\" stroke=\"#000000\" stroke-opacity=\"1\" stroke-width=\"3.2\"/>\n",
       "<circle clip-path=\"url(#clip322)\" cx=\"1964.42\" cy=\"1241.38\" r=\"14\" fill=\"#009af9\" fill-rule=\"evenodd\" fill-opacity=\"1\" stroke=\"#000000\" stroke-opacity=\"1\" stroke-width=\"3.2\"/>\n",
       "<circle clip-path=\"url(#clip322)\" cx=\"1984.86\" cy=\"1268.79\" r=\"14\" fill=\"#009af9\" fill-rule=\"evenodd\" fill-opacity=\"1\" stroke=\"#000000\" stroke-opacity=\"1\" stroke-width=\"3.2\"/>\n",
       "<circle clip-path=\"url(#clip322)\" cx=\"2005.3\" cy=\"1283.2\" r=\"14\" fill=\"#009af9\" fill-rule=\"evenodd\" fill-opacity=\"1\" stroke=\"#000000\" stroke-opacity=\"1\" stroke-width=\"3.2\"/>\n",
       "<circle clip-path=\"url(#clip322)\" cx=\"2025.74\" cy=\"1351.13\" r=\"14\" fill=\"#009af9\" fill-rule=\"evenodd\" fill-opacity=\"1\" stroke=\"#000000\" stroke-opacity=\"1\" stroke-width=\"3.2\"/>\n",
       "<circle clip-path=\"url(#clip322)\" cx=\"2046.18\" cy=\"1258.96\" r=\"14\" fill=\"#009af9\" fill-rule=\"evenodd\" fill-opacity=\"1\" stroke=\"#000000\" stroke-opacity=\"1\" stroke-width=\"3.2\"/>\n",
       "<circle clip-path=\"url(#clip322)\" cx=\"2066.62\" cy=\"1274.13\" r=\"14\" fill=\"#009af9\" fill-rule=\"evenodd\" fill-opacity=\"1\" stroke=\"#000000\" stroke-opacity=\"1\" stroke-width=\"3.2\"/>\n",
       "<circle clip-path=\"url(#clip322)\" cx=\"2087.06\" cy=\"1412.56\" r=\"14\" fill=\"#009af9\" fill-rule=\"evenodd\" fill-opacity=\"1\" stroke=\"#000000\" stroke-opacity=\"1\" stroke-width=\"3.2\"/>\n",
       "<circle clip-path=\"url(#clip322)\" cx=\"2107.49\" cy=\"1278.57\" r=\"14\" fill=\"#009af9\" fill-rule=\"evenodd\" fill-opacity=\"1\" stroke=\"#000000\" stroke-opacity=\"1\" stroke-width=\"3.2\"/>\n",
       "<circle clip-path=\"url(#clip322)\" cx=\"2127.93\" cy=\"1416.99\" r=\"14\" fill=\"#009af9\" fill-rule=\"evenodd\" fill-opacity=\"1\" stroke=\"#000000\" stroke-opacity=\"1\" stroke-width=\"3.2\"/>\n",
       "<circle clip-path=\"url(#clip322)\" cx=\"2148.37\" cy=\"1313.58\" r=\"14\" fill=\"#009af9\" fill-rule=\"evenodd\" fill-opacity=\"1\" stroke=\"#000000\" stroke-opacity=\"1\" stroke-width=\"3.2\"/>\n",
       "<circle clip-path=\"url(#clip322)\" cx=\"2168.81\" cy=\"1320.76\" r=\"14\" fill=\"#009af9\" fill-rule=\"evenodd\" fill-opacity=\"1\" stroke=\"#000000\" stroke-opacity=\"1\" stroke-width=\"3.2\"/>\n",
       "<circle clip-path=\"url(#clip322)\" cx=\"2189.25\" cy=\"1298.9\" r=\"14\" fill=\"#009af9\" fill-rule=\"evenodd\" fill-opacity=\"1\" stroke=\"#000000\" stroke-opacity=\"1\" stroke-width=\"3.2\"/>\n",
       "<circle clip-path=\"url(#clip322)\" cx=\"2209.69\" cy=\"1303.43\" r=\"14\" fill=\"#009af9\" fill-rule=\"evenodd\" fill-opacity=\"1\" stroke=\"#000000\" stroke-opacity=\"1\" stroke-width=\"3.2\"/>\n",
       "<circle clip-path=\"url(#clip322)\" cx=\"2230.12\" cy=\"1307.55\" r=\"14\" fill=\"#009af9\" fill-rule=\"evenodd\" fill-opacity=\"1\" stroke=\"#000000\" stroke-opacity=\"1\" stroke-width=\"3.2\"/>\n",
       "<circle clip-path=\"url(#clip322)\" cx=\"2250.56\" cy=\"1227.86\" r=\"14\" fill=\"#009af9\" fill-rule=\"evenodd\" fill-opacity=\"1\" stroke=\"#000000\" stroke-opacity=\"1\" stroke-width=\"3.2\"/>\n",
       "<circle clip-path=\"url(#clip322)\" cx=\"2271\" cy=\"1297.25\" r=\"14\" fill=\"#009af9\" fill-rule=\"evenodd\" fill-opacity=\"1\" stroke=\"#000000\" stroke-opacity=\"1\" stroke-width=\"3.2\"/>\n",
       "<circle clip-path=\"url(#clip322)\" cx=\"2291.44\" cy=\"1321.79\" r=\"14\" fill=\"#009af9\" fill-rule=\"evenodd\" fill-opacity=\"1\" stroke=\"#000000\" stroke-opacity=\"1\" stroke-width=\"3.2\"/>\n",
       "<polyline clip-path=\"url(#clip322)\" style=\"stroke:#e26f46; stroke-linecap:butt; stroke-linejoin:round; stroke-width:4; stroke-opacity:1; fill:none\" points=\"\n",
       "  247.59,1445.71 268.028,1445.7 288.467,1445.7 308.905,1445.69 329.344,1445.68 349.782,1445.66 370.221,1445.63 390.659,1445.58 411.098,1445.51 431.536,1445.41 \n",
       "  451.975,1445.26 472.413,1445.05 492.852,1444.74 513.29,1444.29 533.729,1443.67 554.167,1442.79 574.606,1441.59 595.044,1439.95 615.483,1437.74 635.921,1434.79 \n",
       "  656.36,1430.89 676.798,1425.81 697.237,1419.24 717.675,1410.87 738.114,1400.29 758.552,1387.1 778.991,1370.83 799.429,1350.99 819.868,1327.09 840.306,1298.64 \n",
       "  860.745,1265.18 881.183,1226.31 901.622,1181.72 922.06,1131.24 942.499,1074.82 962.937,1012.64 983.376,945.066 1003.81,872.704 1024.25,796.409 1044.69,717.276 \n",
       "  1065.13,636.631 1085.57,555.999 1106.01,477.066 1126.45,401.624 1146.88,331.504 1167.32,268.506 1187.76,214.322 1208.2,170.46 1228.64,138.177 1249.08,118.416 \n",
       "  1269.51,111.763 1289.95,118.416 1310.39,138.177 1330.83,170.46 1351.27,214.322 1371.71,268.506 1392.15,331.504 1412.58,401.624 1433.02,477.066 1453.46,555.999 \n",
       "  1473.9,636.631 1494.34,717.276 1514.78,796.409 1535.22,872.704 1555.65,945.066 1576.09,1012.64 1596.53,1074.82 1616.97,1131.24 1637.41,1181.72 1657.85,1226.31 \n",
       "  1678.29,1265.18 1698.72,1298.64 1719.16,1327.09 1739.6,1350.99 1760.04,1370.83 1780.48,1387.1 1800.92,1400.29 1821.35,1410.87 1841.79,1419.24 1862.23,1425.81 \n",
       "  1882.67,1430.89 1903.11,1434.79 1923.55,1437.74 1943.99,1439.95 1964.42,1441.59 1984.86,1442.79 2005.3,1443.67 2025.74,1444.29 2046.18,1444.74 2066.62,1445.05 \n",
       "  2087.06,1445.26 2107.49,1445.41 2127.93,1445.51 2148.37,1445.58 2168.81,1445.63 2189.25,1445.66 2209.69,1445.68 2230.12,1445.69 2250.56,1445.7 2271,1445.7 \n",
       "  2291.44,1445.71 \n",
       "  \"/>\n",
       "<polyline clip-path=\"url(#clip322)\" style=\"stroke:#3da44d; stroke-linecap:butt; stroke-linejoin:round; stroke-width:4; stroke-opacity:1; fill:none\" points=\"\n",
       "  247.59,1445.7 268.028,1445.7 288.467,1445.69 308.905,1445.67 329.344,1445.65 349.782,1445.61 370.221,1445.56 390.659,1445.48 411.098,1445.36 431.536,1445.18 \n",
       "  451.975,1444.92 472.413,1444.55 492.852,1444.02 513.29,1443.28 533.729,1442.25 554.167,1440.83 574.606,1438.9 595.044,1436.3 615.483,1432.84 635.921,1428.29 \n",
       "  656.36,1422.36 676.798,1414.73 697.237,1405.02 717.675,1392.81 738.114,1377.63 758.552,1358.97 778.991,1336.33 799.429,1309.17 819.868,1277 840.306,1239.35 \n",
       "  860.745,1195.87 881.183,1146.29 901.622,1090.51 922.06,1028.61 942.499,960.907 962.937,887.939 983.376,810.515 1003.81,729.706 1024.25,646.835 1044.69,563.457 \n",
       "  1065.13,481.314 1085.57,402.282 1106.01,328.307 1126.45,261.322 1146.88,203.169 1167.32,155.514 1187.76,119.767 1208.2,97.0182 1228.64,87.9763 1249.08,92.9365 \n",
       "  1269.51,111.763 1289.95,143.896 1310.39,188.378 1330.83,243.902 1351.27,308.877 1371.71,381.499 1392.15,459.839 1412.58,541.926 1433.02,625.825 1453.46,709.715 \n",
       "  1473.9,791.948 1494.34,871.096 1514.78,945.983 1535.22,1015.7 1555.65,1079.62 1576.09,1137.34 1596.53,1188.74 1616.97,1233.86 1637.41,1272.94 1657.85,1306.33 \n",
       "  1678.29,1334.49 1698.72,1357.93 1719.16,1377.19 1739.6,1392.81 1760.04,1405.33 1780.48,1415.23 1800.92,1422.96 1821.35,1428.93 1841.79,1433.47 1862.23,1436.89 \n",
       "  1882.67,1439.43 1903.11,1441.29 1923.55,1442.64 1943.99,1443.6 1964.42,1444.28 1984.86,1444.75 2005.3,1445.08 2025.74,1445.3 2046.18,1445.45 2066.62,1445.54 \n",
       "  2087.06,1445.61 2107.49,1445.65 2127.93,1445.67 2148.37,1445.69 2168.81,1445.7 2189.25,1445.7 2209.69,1445.71 2230.12,1445.71 2250.56,1445.71 2271,1445.71 \n",
       "  2291.44,1445.71 \n",
       "  \"/>\n",
       "<polyline clip-path=\"url(#clip322)\" style=\"stroke:#c271d2; stroke-linecap:butt; stroke-linejoin:round; stroke-width:4; stroke-opacity:1; fill:none\" points=\"\n",
       "  247.59,1445.62 268.028,1445.57 288.467,1445.49 308.905,1445.38 329.344,1445.2 349.782,1444.94 370.221,1444.55 390.659,1443.99 411.098,1443.2 431.536,1442.07 \n",
       "  451.975,1440.49 472.413,1438.3 492.852,1435.32 513.29,1431.31 533.729,1425.95 554.167,1418.92 574.606,1409.77 595.044,1398.05 615.483,1383.21 635.921,1364.68 \n",
       "  656.36,1341.84 676.798,1314.09 697.237,1280.83 717.675,1241.56 738.114,1195.88 758.552,1143.55 778.991,1084.55 799.429,1019.15 819.868,947.919 840.306,871.766 \n",
       "  860.745,791.96 881.183,710.11 901.622,628.128 922.06,548.163 942.499,472.508 962.937,403.475 983.376,343.266 1003.81,293.82 1024.25,256.677 1044.69,232.848 \n",
       "  1065.13,222.714 1085.57,225.972 1106.01,241.619 1126.45,267.997 1146.88,302.884 1167.32,343.643 1187.76,387.4 1208.2,431.248 1228.64,472.459 1249.08,508.683 \n",
       "  1269.51,538.121 1289.95,559.643 1310.39,572.86 1330.83,578.132 1351.27,576.51 1371.71,569.629 1392.15,559.554 1412.58,548.6 1433.02,539.137 1453.46,533.405 \n",
       "  1473.9,533.349 1494.34,540.487 1514.78,555.825 1535.22,579.817 1555.65,612.367 1576.09,652.881 1596.53,700.342 1616.97,753.417 1637.41,810.564 1657.85,870.157 \n",
       "  1678.29,930.584 1698.72,990.342 1719.16,1048.11 1739.6,1102.79 1760.04,1153.55 1780.48,1199.8 1800.92,1241.22 1821.35,1277.69 1841.79,1309.29 1862.23,1336.25 \n",
       "  1882.67,1358.91 1903.11,1377.68 1923.55,1393 1943.99,1405.35 1964.42,1415.15 1984.86,1422.84 2005.3,1428.78 2025.74,1433.32 2046.18,1436.75 2066.62,1439.3 \n",
       "  2087.06,1441.17 2107.49,1442.54 2127.93,1443.51 2148.37,1444.21 2168.81,1444.69 2189.25,1445.03 2209.69,1445.26 2230.12,1445.42 2250.56,1445.52 2271,1445.59 \n",
       "  2291.44,1445.63 \n",
       "  \"/>\n",
       "<polyline clip-path=\"url(#clip322)\" style=\"stroke:#ac8d18; stroke-linecap:butt; stroke-linejoin:round; stroke-width:4; stroke-opacity:1; fill:none\" points=\"\n",
       "  247.59,1445.54 268.028,1445.45 288.467,1445.3 308.905,1445.09 329.344,1444.77 349.782,1444.3 370.221,1443.63 390.659,1442.66 411.098,1441.31 431.536,1439.42 \n",
       "  451.975,1436.82 472.413,1433.29 492.852,1428.54 513.29,1422.25 533.729,1414.03 554.167,1403.4 574.606,1389.86 595.044,1372.83 615.483,1351.71 635.921,1325.87 \n",
       "  656.36,1294.73 676.798,1257.73 697.237,1214.45 717.675,1164.6 738.114,1108.12 758.552,1045.2 778.991,976.376 799.429,902.49 819.868,824.765 840.306,744.778 \n",
       "  860.745,664.418 881.183,585.828 901.622,511.302 922.06,443.166 942.499,383.628 962.937,334.635 983.376,297.709 1003.81,273.822 1024.25,263.283 1044.69,265.681 \n",
       "  1065.13,279.875 1085.57,304.041 1106.01,335.784 1126.45,372.298 1146.88,410.569 1167.32,447.603 1187.76,480.66 1208.2,507.468 1228.64,526.406 1249.08,536.627 \n",
       "  1269.51,538.121 1289.95,531.699 1310.39,518.913 1330.83,501.912 1351.27,483.25 1371.71,465.669 1392.15,451.869 1412.58,444.299 1433.02,444.973 1453.46,455.337 \n",
       "  1473.9,476.189 1494.34,507.654 1514.78,549.22 1535.22,599.815 1555.65,657.924 1576.09,721.721 1596.53,789.222 1616.97,858.414 1637.41,927.389 1657.85,994.438 \n",
       "  1678.29,1058.13 1698.72,1117.33 1719.16,1171.26 1739.6,1219.45 1760.04,1261.72 1780.48,1298.14 1800.92,1328.98 1821.35,1354.65 1841.79,1375.67 1862.23,1392.6 \n",
       "  1882.67,1406.02 1903.11,1416.48 1923.55,1424.51 1943.99,1430.56 1964.42,1435.06 1984.86,1438.35 2005.3,1440.71 2025.74,1442.38 2046.18,1443.53 2066.62,1444.32 \n",
       "  2087.06,1444.84 2107.49,1445.18 2127.93,1445.4 2148.37,1445.54 2168.81,1445.62 2189.25,1445.67 2209.69,1445.69 2230.12,1445.71 2250.56,1445.71 2271,1445.72 \n",
       "  2291.44,1445.72 \n",
       "  \"/>\n",
       "<path clip-path=\"url(#clip320)\" d=\"\n",
       "M1950.66 406.258 L2280.54 406.258 L2280.54 95.2176 L1950.66 95.2176  Z\n",
       "  \" fill=\"#ffffff\" fill-rule=\"evenodd\" fill-opacity=\"1\"/>\n",
       "<polyline clip-path=\"url(#clip320)\" style=\"stroke:#000000; stroke-linecap:butt; stroke-linejoin:round; stroke-width:4; stroke-opacity:1; fill:none\" points=\"\n",
       "  1950.66,406.258 2280.54,406.258 2280.54,95.2176 1950.66,95.2176 1950.66,406.258 \n",
       "  \"/>\n",
       "<polyline clip-path=\"url(#clip320)\" style=\"stroke:#009af9; stroke-linecap:butt; stroke-linejoin:round; stroke-width:4; stroke-opacity:1; fill:none\" points=\"\n",
       "  1974.66,147.058 2118.66,147.058 \n",
       "  \"/>\n",
       "<circle clip-path=\"url(#clip320)\" cx=\"2046.66\" cy=\"147.058\" r=\"23\" fill=\"#009af9\" fill-rule=\"evenodd\" fill-opacity=\"1\" stroke=\"#000000\" stroke-opacity=\"1\" stroke-width=\"5.12\"/>\n",
       "<path clip-path=\"url(#clip320)\" d=\"M2159.16 128.319 L2159.16 131.861 L2155.09 131.861 Q2152.79 131.861 2151.89 132.787 Q2151.01 133.713 2151.01 136.12 L2151.01 138.412 L2158.03 138.412 L2158.03 141.722 L2151.01 141.722 L2151.01 164.338 L2146.73 164.338 L2146.73 141.722 L2142.66 141.722 L2142.66 138.412 L2146.73 138.412 L2146.73 136.606 Q2146.73 132.278 2148.74 130.31 Q2150.76 128.319 2155.13 128.319 L2159.16 128.319 Z\" fill=\"#000000\" fill-rule=\"evenodd\" fill-opacity=\"1\" /><path clip-path=\"url(#clip320)\" d=\"M2162.29 154.106 L2162.29 138.412 L2166.54 138.412 L2166.54 153.944 Q2166.54 157.625 2167.98 159.476 Q2169.42 161.305 2172.29 161.305 Q2175.73 161.305 2177.73 159.106 Q2179.74 156.907 2179.74 153.111 L2179.74 138.412 L2184 138.412 L2184 164.338 L2179.74 164.338 L2179.74 160.356 Q2178.19 162.717 2176.13 163.875 Q2174.09 165.009 2171.38 165.009 Q2166.92 165.009 2164.6 162.231 Q2162.29 159.453 2162.29 154.106 M2173 137.787 L2173 137.787 Z\" fill=\"#000000\" fill-rule=\"evenodd\" fill-opacity=\"1\" /><path clip-path=\"url(#clip320)\" d=\"M2214.32 148.689 L2214.32 164.338 L2210.06 164.338 L2210.06 148.828 Q2210.06 145.148 2208.63 143.319 Q2207.19 141.49 2204.32 141.49 Q2200.87 141.49 2198.88 143.69 Q2196.89 145.889 2196.89 149.685 L2196.89 164.338 L2192.61 164.338 L2192.61 138.412 L2196.89 138.412 L2196.89 142.44 Q2198.42 140.102 2200.48 138.944 Q2202.56 137.787 2205.27 137.787 Q2209.74 137.787 2212.03 140.565 Q2214.32 143.319 2214.32 148.689 Z\" fill=\"#000000\" fill-rule=\"evenodd\" fill-opacity=\"1\" /><polyline clip-path=\"url(#clip320)\" style=\"stroke:#e26f46; stroke-linecap:butt; stroke-linejoin:round; stroke-width:4; stroke-opacity:1; fill:none\" points=\"\n",
       "  1974.66,198.898 2118.66,198.898 \n",
       "  \"/>\n",
       "<path clip-path=\"url(#clip320)\" d=\"M2142.66 180.159 L2146.94 180.159 L2146.94 201.432 L2159.65 190.252 L2165.09 190.252 L2151.34 202.381 L2165.67 216.178 L2160.11 216.178 L2146.94 203.516 L2146.94 216.178 L2142.66 216.178 L2142.66 180.159 Z\" fill=\"#000000\" fill-rule=\"evenodd\" fill-opacity=\"1\" /><path clip-path=\"url(#clip320)\" d=\"M2170.83 194.65 L2200.5 194.65 L2200.5 198.539 L2170.83 198.539 L2170.83 194.65 M2170.83 204.094 L2200.5 204.094 L2200.5 208.029 L2170.83 208.029 L2170.83 204.094 Z\" fill=\"#000000\" fill-rule=\"evenodd\" fill-opacity=\"1\" /><path clip-path=\"url(#clip320)\" d=\"M2220.6 184.696 Q2216.98 184.696 2215.16 188.261 Q2213.35 191.803 2213.35 198.932 Q2213.35 206.039 2215.16 209.604 Q2216.98 213.145 2220.6 213.145 Q2224.23 213.145 2226.04 209.604 Q2227.86 206.039 2227.86 198.932 Q2227.86 191.803 2226.04 188.261 Q2224.23 184.696 2220.6 184.696 M2220.6 180.993 Q2226.41 180.993 2229.46 185.599 Q2232.54 190.182 2232.54 198.932 Q2232.54 207.659 2229.46 212.266 Q2226.41 216.849 2220.6 216.849 Q2214.79 216.849 2211.71 212.266 Q2208.65 207.659 2208.65 198.932 Q2208.65 190.182 2211.71 185.599 Q2214.79 180.993 2220.6 180.993 Z\" fill=\"#000000\" fill-rule=\"evenodd\" fill-opacity=\"1\" /><polyline clip-path=\"url(#clip320)\" style=\"stroke:#3da44d; stroke-linecap:butt; stroke-linejoin:round; stroke-width:4; stroke-opacity:1; fill:none\" points=\"\n",
       "  1974.66,250.738 2118.66,250.738 \n",
       "  \"/>\n",
       "<path clip-path=\"url(#clip320)\" d=\"M2142.66 231.999 L2146.94 231.999 L2146.94 253.272 L2159.65 242.092 L2165.09 242.092 L2151.34 254.221 L2165.67 268.018 L2160.11 268.018 L2146.94 255.356 L2146.94 268.018 L2142.66 268.018 L2142.66 231.999 Z\" fill=\"#000000\" fill-rule=\"evenodd\" fill-opacity=\"1\" /><path clip-path=\"url(#clip320)\" d=\"M2170.83 246.49 L2200.5 246.49 L2200.5 250.379 L2170.83 250.379 L2170.83 246.49 M2170.83 255.934 L2200.5 255.934 L2200.5 259.869 L2170.83 259.869 L2170.83 255.934 Z\" fill=\"#000000\" fill-rule=\"evenodd\" fill-opacity=\"1\" /><path clip-path=\"url(#clip320)\" d=\"M2211.41 264.082 L2219.04 264.082 L2219.04 237.717 L2210.73 239.383 L2210.73 235.124 L2219 233.458 L2223.67 233.458 L2223.67 264.082 L2231.31 264.082 L2231.31 268.018 L2211.41 268.018 L2211.41 264.082 Z\" fill=\"#000000\" fill-rule=\"evenodd\" fill-opacity=\"1\" /><polyline clip-path=\"url(#clip320)\" style=\"stroke:#c271d2; stroke-linecap:butt; stroke-linejoin:round; stroke-width:4; stroke-opacity:1; fill:none\" points=\"\n",
       "  1974.66,302.578 2118.66,302.578 \n",
       "  \"/>\n",
       "<path clip-path=\"url(#clip320)\" d=\"M2142.66 283.839 L2146.94 283.839 L2146.94 305.112 L2159.65 293.932 L2165.09 293.932 L2151.34 306.061 L2165.67 319.858 L2160.11 319.858 L2146.94 307.196 L2146.94 319.858 L2142.66 319.858 L2142.66 283.839 Z\" fill=\"#000000\" fill-rule=\"evenodd\" fill-opacity=\"1\" /><path clip-path=\"url(#clip320)\" d=\"M2170.83 298.33 L2200.5 298.33 L2200.5 302.219 L2170.83 302.219 L2170.83 298.33 M2170.83 307.774 L2200.5 307.774 L2200.5 311.709 L2170.83 311.709 L2170.83 307.774 Z\" fill=\"#000000\" fill-rule=\"evenodd\" fill-opacity=\"1\" /><path clip-path=\"url(#clip320)\" d=\"M2214.62 315.922 L2230.94 315.922 L2230.94 319.858 L2209 319.858 L2209 315.922 Q2211.66 313.168 2216.24 308.538 Q2220.85 303.885 2222.03 302.543 Q2224.28 300.02 2225.16 298.284 Q2226.06 296.524 2226.06 294.835 Q2226.06 292.08 2224.11 290.344 Q2222.19 288.608 2219.09 288.608 Q2216.89 288.608 2214.44 289.372 Q2212.01 290.135 2209.23 291.686 L2209.23 286.964 Q2212.05 285.83 2214.51 285.251 Q2216.96 284.673 2219 284.673 Q2224.37 284.673 2227.56 287.358 Q2230.76 290.043 2230.76 294.534 Q2230.76 296.663 2229.95 298.585 Q2229.16 300.483 2227.05 303.075 Q2226.48 303.747 2223.37 306.964 Q2220.27 310.159 2214.62 315.922 Z\" fill=\"#000000\" fill-rule=\"evenodd\" fill-opacity=\"1\" /><polyline clip-path=\"url(#clip320)\" style=\"stroke:#ac8d18; stroke-linecap:butt; stroke-linejoin:round; stroke-width:4; stroke-opacity:1; fill:none\" points=\"\n",
       "  1974.66,354.418 2118.66,354.418 \n",
       "  \"/>\n",
       "<path clip-path=\"url(#clip320)\" d=\"M2142.66 335.679 L2146.94 335.679 L2146.94 356.952 L2159.65 345.772 L2165.09 345.772 L2151.34 357.901 L2165.67 371.698 L2160.11 371.698 L2146.94 359.036 L2146.94 371.698 L2142.66 371.698 L2142.66 335.679 Z\" fill=\"#000000\" fill-rule=\"evenodd\" fill-opacity=\"1\" /><path clip-path=\"url(#clip320)\" d=\"M2170.83 350.17 L2200.5 350.17 L2200.5 354.059 L2170.83 354.059 L2170.83 350.17 M2170.83 359.614 L2200.5 359.614 L2200.5 363.549 L2170.83 363.549 L2170.83 359.614 Z\" fill=\"#000000\" fill-rule=\"evenodd\" fill-opacity=\"1\" /><path clip-path=\"url(#clip320)\" d=\"M2224.76 353.063 Q2228.12 353.781 2229.99 356.049 Q2231.89 358.318 2231.89 361.651 Q2231.89 366.767 2228.37 369.568 Q2224.85 372.369 2218.37 372.369 Q2216.2 372.369 2213.88 371.929 Q2211.59 371.512 2209.14 370.656 L2209.14 366.142 Q2211.08 367.276 2213.4 367.855 Q2215.71 368.434 2218.23 368.434 Q2222.63 368.434 2224.92 366.698 Q2227.24 364.961 2227.24 361.651 Q2227.24 358.596 2225.09 356.883 Q2222.96 355.147 2219.14 355.147 L2215.11 355.147 L2215.11 351.304 L2219.32 351.304 Q2222.77 351.304 2224.6 349.938 Q2226.43 348.55 2226.43 345.957 Q2226.43 343.295 2224.53 341.883 Q2222.66 340.448 2219.14 340.448 Q2217.22 340.448 2215.02 340.864 Q2212.82 341.281 2210.18 342.161 L2210.18 337.994 Q2212.84 337.253 2215.16 336.883 Q2217.49 336.513 2219.55 336.513 Q2224.88 336.513 2227.98 338.943 Q2231.08 341.35 2231.08 345.471 Q2231.08 348.341 2229.44 350.332 Q2227.79 352.3 2224.76 353.063 Z\" fill=\"#000000\" fill-rule=\"evenodd\" fill-opacity=\"1\" /></svg>\n"
      ]
     },
     "execution_count": 27,
     "metadata": {},
     "output_type": "execute_result"
    }
   ],
   "source": [
    "plot(xx, yy, markershape=:circle, label=\"fun\")\n",
    "plot!(xx, y_app_0, label=\"k=0\")\n",
    "plot!(xx, y_app_01, label=\"k=1\")\n",
    "plot!(xx, y_app_012, label=\"k=2\")\n",
    "plot!(xx, y_app_0123, label=\"k=3\")"
   ]
  },
  {
   "cell_type": "markdown",
   "metadata": {},
   "source": [
    "Liczymy błędy aproksymacji kolejnymi stopniami"
   ]
  },
  {
   "cell_type": "code",
   "execution_count": 28,
   "metadata": {},
   "outputs": [],
   "source": [
    "using Statistics"
   ]
  },
  {
   "cell_type": "code",
   "execution_count": 29,
   "metadata": {},
   "outputs": [
    {
     "data": {
      "text/plain": [
       "mse (generic function with 1 method)"
      ]
     },
     "execution_count": 29,
     "metadata": {},
     "output_type": "execute_result"
    }
   ],
   "source": [
    "mse(y1, y2) = mean((y1-y2).^2)"
   ]
  },
  {
   "cell_type": "code",
   "execution_count": 30,
   "metadata": {},
   "outputs": [
    {
     "data": {
      "text/plain": [
       "0.12377114804818574"
      ]
     },
     "execution_count": 30,
     "metadata": {},
     "output_type": "execute_result"
    }
   ],
   "source": [
    "mse(yy, y_app_0)"
   ]
  },
  {
   "cell_type": "code",
   "execution_count": 31,
   "metadata": {},
   "outputs": [
    {
     "data": {
      "text/plain": [
       "0.11758291888772533"
      ]
     },
     "execution_count": 31,
     "metadata": {},
     "output_type": "execute_result"
    }
   ],
   "source": [
    "mse(yy, y_app_01)"
   ]
  },
  {
   "cell_type": "code",
   "execution_count": 32,
   "metadata": {},
   "outputs": [
    {
     "data": {
      "text/plain": [
       "0.048964441869375964"
      ]
     },
     "execution_count": 32,
     "metadata": {},
     "output_type": "execute_result"
    }
   ],
   "source": [
    "mse(yy, y_app_012)"
   ]
  },
  {
   "cell_type": "code",
   "execution_count": 33,
   "metadata": {},
   "outputs": [
    {
     "data": {
      "text/plain": [
       "0.04393562003355449"
      ]
     },
     "execution_count": 33,
     "metadata": {},
     "output_type": "execute_result"
    }
   ],
   "source": [
    "mse(yy, y_app_0123)"
   ]
  },
  {
   "cell_type": "markdown",
   "metadata": {},
   "source": [
    "### EKG"
   ]
  },
  {
   "cell_type": "markdown",
   "metadata": {},
   "source": [
    "Dane pochodzą z bazy https://www.physionet.org/content/mitdb/1.0.0/ .\n",
    "\n",
    "W sygnale można wyróżnić wiele struktur, z których najbardziej charakterystyczną jest zespół QRS."
   ]
  },
  {
   "cell_type": "code",
   "execution_count": 34,
   "metadata": {
    "scrolled": true
   },
   "outputs": [],
   "source": [
    "ekg_data = CSV.read(\"ecg_data.csv\", DataFrame);"
   ]
  },
  {
   "cell_type": "code",
   "execution_count": 35,
   "metadata": {},
   "outputs": [
    {
     "data": {
      "text/html": [
       "<div class=\"data-frame\"><p>5 rows × 3 columns</p><table class=\"data-frame\"><thead><tr><th></th><th>time</th><th>signalN</th><th>signalV</th></tr><tr><th></th><th title=\"Float64\">Float64</th><th title=\"Float64\">Float64</th><th title=\"Float64\">Float64</th></tr></thead><tbody><tr><th>1</th><td>-0.1</td><td>0.0183886</td><td>-0.0990972</td></tr><tr><th>2</th><td>-0.0972222</td><td>0.0145191</td><td>-0.0920442</td></tr><tr><th>3</th><td>-0.0944444</td><td>0.012849</td><td>-0.0831644</td></tr><tr><th>4</th><td>-0.0916667</td><td>0.0124946</td><td>-0.0722728</td></tr><tr><th>5</th><td>-0.0888889</td><td>0.0124117</td><td>-0.0593656</td></tr></tbody></table></div>"
      ],
      "text/latex": [
       "\\begin{tabular}{r|ccc}\n",
       "\t& time & signalN & signalV\\\\\n",
       "\t\\hline\n",
       "\t& Float64 & Float64 & Float64\\\\\n",
       "\t\\hline\n",
       "\t1 & -0.1 & 0.0183886 & -0.0990972 \\\\\n",
       "\t2 & -0.0972222 & 0.0145191 & -0.0920442 \\\\\n",
       "\t3 & -0.0944444 & 0.012849 & -0.0831644 \\\\\n",
       "\t4 & -0.0916667 & 0.0124946 & -0.0722728 \\\\\n",
       "\t5 & -0.0888889 & 0.0124117 & -0.0593656 \\\\\n",
       "\\end{tabular}\n"
      ],
      "text/plain": [
       "\u001b[1m5×3 DataFrame\u001b[0m\n",
       "\u001b[1m Row \u001b[0m│\u001b[1m time       \u001b[0m\u001b[1m signalN   \u001b[0m\u001b[1m signalV    \u001b[0m\n",
       "\u001b[1m     \u001b[0m│\u001b[90m Float64    \u001b[0m\u001b[90m Float64   \u001b[0m\u001b[90m Float64    \u001b[0m\n",
       "─────┼───────────────────────────────────\n",
       "   1 │ -0.1        0.0183886  -0.0990972\n",
       "   2 │ -0.0972222  0.0145191  -0.0920442\n",
       "   3 │ -0.0944444  0.012849   -0.0831644\n",
       "   4 │ -0.0916667  0.0124946  -0.0722728\n",
       "   5 │ -0.0888889  0.0124117  -0.0593656"
      ]
     },
     "execution_count": 35,
     "metadata": {},
     "output_type": "execute_result"
    }
   ],
   "source": [
    "first(ekg_data, 5)"
   ]
  },
  {
   "cell_type": "code",
   "execution_count": 36,
   "metadata": {},
   "outputs": [
    {
     "data": {
      "image/svg+xml": [
       "<?xml version=\"1.0\" encoding=\"utf-8\"?>\n",
       "<svg xmlns=\"http://www.w3.org/2000/svg\" xmlns:xlink=\"http://www.w3.org/1999/xlink\" width=\"600\" height=\"400\" viewBox=\"0 0 2400 1600\">\n",
       "<defs>\n",
       "  <clipPath id=\"clip360\">\n",
       "    <rect x=\"0\" y=\"0\" width=\"2400\" height=\"1600\"/>\n",
       "  </clipPath>\n",
       "</defs>\n",
       "<path clip-path=\"url(#clip360)\" d=\"\n",
       "M0 1600 L2400 1600 L2400 0 L0 0  Z\n",
       "  \" fill=\"#ffffff\" fill-rule=\"evenodd\" fill-opacity=\"1\"/>\n",
       "<defs>\n",
       "  <clipPath id=\"clip361\">\n",
       "    <rect x=\"480\" y=\"0\" width=\"1681\" height=\"1600\"/>\n",
       "  </clipPath>\n",
       "</defs>\n",
       "<path clip-path=\"url(#clip360)\" d=\"\n",
       "M210.746 1423.18 L2352.76 1423.18 L2352.76 47.2441 L210.746 47.2441  Z\n",
       "  \" fill=\"#ffffff\" fill-rule=\"evenodd\" fill-opacity=\"1\"/>\n",
       "<defs>\n",
       "  <clipPath id=\"clip362\">\n",
       "    <rect x=\"210\" y=\"47\" width=\"2143\" height=\"1377\"/>\n",
       "  </clipPath>\n",
       "</defs>\n",
       "<polyline clip-path=\"url(#clip362)\" style=\"stroke:#000000; stroke-linecap:butt; stroke-linejoin:round; stroke-width:2; stroke-opacity:0.1; fill:none\" points=\"\n",
       "  271.369,1423.18 271.369,47.2441 \n",
       "  \"/>\n",
       "<polyline clip-path=\"url(#clip362)\" style=\"stroke:#000000; stroke-linecap:butt; stroke-linejoin:round; stroke-width:2; stroke-opacity:0.1; fill:none\" points=\"\n",
       "  776.56,1423.18 776.56,47.2441 \n",
       "  \"/>\n",
       "<polyline clip-path=\"url(#clip362)\" style=\"stroke:#000000; stroke-linecap:butt; stroke-linejoin:round; stroke-width:2; stroke-opacity:0.1; fill:none\" points=\"\n",
       "  1281.75,1423.18 1281.75,47.2441 \n",
       "  \"/>\n",
       "<polyline clip-path=\"url(#clip362)\" style=\"stroke:#000000; stroke-linecap:butt; stroke-linejoin:round; stroke-width:2; stroke-opacity:0.1; fill:none\" points=\"\n",
       "  1786.94,1423.18 1786.94,47.2441 \n",
       "  \"/>\n",
       "<polyline clip-path=\"url(#clip362)\" style=\"stroke:#000000; stroke-linecap:butt; stroke-linejoin:round; stroke-width:2; stroke-opacity:0.1; fill:none\" points=\"\n",
       "  2292.13,1423.18 2292.13,47.2441 \n",
       "  \"/>\n",
       "<polyline clip-path=\"url(#clip360)\" style=\"stroke:#000000; stroke-linecap:butt; stroke-linejoin:round; stroke-width:4; stroke-opacity:1; fill:none\" points=\"\n",
       "  210.746,1423.18 2352.76,1423.18 \n",
       "  \"/>\n",
       "<polyline clip-path=\"url(#clip360)\" style=\"stroke:#000000; stroke-linecap:butt; stroke-linejoin:round; stroke-width:4; stroke-opacity:1; fill:none\" points=\"\n",
       "  271.369,1423.18 271.369,1404.28 \n",
       "  \"/>\n",
       "<polyline clip-path=\"url(#clip360)\" style=\"stroke:#000000; stroke-linecap:butt; stroke-linejoin:round; stroke-width:4; stroke-opacity:1; fill:none\" points=\"\n",
       "  776.56,1423.18 776.56,1404.28 \n",
       "  \"/>\n",
       "<polyline clip-path=\"url(#clip360)\" style=\"stroke:#000000; stroke-linecap:butt; stroke-linejoin:round; stroke-width:4; stroke-opacity:1; fill:none\" points=\"\n",
       "  1281.75,1423.18 1281.75,1404.28 \n",
       "  \"/>\n",
       "<polyline clip-path=\"url(#clip360)\" style=\"stroke:#000000; stroke-linecap:butt; stroke-linejoin:round; stroke-width:4; stroke-opacity:1; fill:none\" points=\"\n",
       "  1786.94,1423.18 1786.94,1404.28 \n",
       "  \"/>\n",
       "<polyline clip-path=\"url(#clip360)\" style=\"stroke:#000000; stroke-linecap:butt; stroke-linejoin:round; stroke-width:4; stroke-opacity:1; fill:none\" points=\"\n",
       "  2292.13,1423.18 2292.13,1404.28 \n",
       "  \"/>\n",
       "<path clip-path=\"url(#clip360)\" d=\"M202.816 1468.75 L232.492 1468.75 L232.492 1472.69 L202.816 1472.69 L202.816 1468.75 Z\" fill=\"#000000\" fill-rule=\"evenodd\" fill-opacity=\"1\" /><path clip-path=\"url(#clip360)\" d=\"M252.584 1454.1 Q248.973 1454.1 247.144 1457.66 Q245.339 1461.2 245.339 1468.33 Q245.339 1475.44 247.144 1479.01 Q248.973 1482.55 252.584 1482.55 Q256.218 1482.55 258.024 1479.01 Q259.853 1475.44 259.853 1468.33 Q259.853 1461.2 258.024 1457.66 Q256.218 1454.1 252.584 1454.1 M252.584 1450.39 Q258.394 1450.39 261.45 1455 Q264.529 1459.58 264.529 1468.33 Q264.529 1477.06 261.45 1481.67 Q258.394 1486.25 252.584 1486.25 Q246.774 1486.25 243.695 1481.67 Q240.64 1477.06 240.64 1468.33 Q240.64 1459.58 243.695 1455 Q246.774 1450.39 252.584 1450.39 Z\" fill=\"#000000\" fill-rule=\"evenodd\" fill-opacity=\"1\" /><path clip-path=\"url(#clip360)\" d=\"M272.746 1479.7 L277.63 1479.7 L277.63 1485.58 L272.746 1485.58 L272.746 1479.7 Z\" fill=\"#000000\" fill-rule=\"evenodd\" fill-opacity=\"1\" /><path clip-path=\"url(#clip360)\" d=\"M288.626 1481.64 L296.265 1481.64 L296.265 1455.28 L287.954 1456.95 L287.954 1452.69 L296.218 1451.02 L300.894 1451.02 L300.894 1481.64 L308.533 1481.64 L308.533 1485.58 L288.626 1485.58 L288.626 1481.64 Z\" fill=\"#000000\" fill-rule=\"evenodd\" fill-opacity=\"1\" /><path clip-path=\"url(#clip360)\" d=\"M327.977 1454.1 Q324.366 1454.1 322.538 1457.66 Q320.732 1461.2 320.732 1468.33 Q320.732 1475.44 322.538 1479.01 Q324.366 1482.55 327.977 1482.55 Q331.612 1482.55 333.417 1479.01 Q335.246 1475.44 335.246 1468.33 Q335.246 1461.2 333.417 1457.66 Q331.612 1454.1 327.977 1454.1 M327.977 1450.39 Q333.788 1450.39 336.843 1455 Q339.922 1459.58 339.922 1468.33 Q339.922 1477.06 336.843 1481.67 Q333.788 1486.25 327.977 1486.25 Q322.167 1486.25 319.089 1481.67 Q316.033 1477.06 316.033 1468.33 Q316.033 1459.58 319.089 1455 Q322.167 1450.39 327.977 1450.39 Z\" fill=\"#000000\" fill-rule=\"evenodd\" fill-opacity=\"1\" /><path clip-path=\"url(#clip360)\" d=\"M708.505 1468.75 L738.18 1468.75 L738.18 1472.69 L708.505 1472.69 L708.505 1468.75 Z\" fill=\"#000000\" fill-rule=\"evenodd\" fill-opacity=\"1\" /><path clip-path=\"url(#clip360)\" d=\"M758.273 1454.1 Q754.662 1454.1 752.833 1457.66 Q751.028 1461.2 751.028 1468.33 Q751.028 1475.44 752.833 1479.01 Q754.662 1482.55 758.273 1482.55 Q761.907 1482.55 763.713 1479.01 Q765.541 1475.44 765.541 1468.33 Q765.541 1461.2 763.713 1457.66 Q761.907 1454.1 758.273 1454.1 M758.273 1450.39 Q764.083 1450.39 767.139 1455 Q770.217 1459.58 770.217 1468.33 Q770.217 1477.06 767.139 1481.67 Q764.083 1486.25 758.273 1486.25 Q752.463 1486.25 749.384 1481.67 Q746.329 1477.06 746.329 1468.33 Q746.329 1459.58 749.384 1455 Q752.463 1450.39 758.273 1450.39 Z\" fill=\"#000000\" fill-rule=\"evenodd\" fill-opacity=\"1\" /><path clip-path=\"url(#clip360)\" d=\"M778.435 1479.7 L783.319 1479.7 L783.319 1485.58 L778.435 1485.58 L778.435 1479.7 Z\" fill=\"#000000\" fill-rule=\"evenodd\" fill-opacity=\"1\" /><path clip-path=\"url(#clip360)\" d=\"M803.504 1454.1 Q799.893 1454.1 798.064 1457.66 Q796.259 1461.2 796.259 1468.33 Q796.259 1475.44 798.064 1479.01 Q799.893 1482.55 803.504 1482.55 Q807.138 1482.55 808.944 1479.01 Q810.773 1475.44 810.773 1468.33 Q810.773 1461.2 808.944 1457.66 Q807.138 1454.1 803.504 1454.1 M803.504 1450.39 Q809.314 1450.39 812.37 1455 Q815.449 1459.58 815.449 1468.33 Q815.449 1477.06 812.37 1481.67 Q809.314 1486.25 803.504 1486.25 Q797.694 1486.25 794.615 1481.67 Q791.56 1477.06 791.56 1468.33 Q791.56 1459.58 794.615 1455 Q797.694 1450.39 803.504 1450.39 Z\" fill=\"#000000\" fill-rule=\"evenodd\" fill-opacity=\"1\" /><path clip-path=\"url(#clip360)\" d=\"M823.712 1451.02 L842.069 1451.02 L842.069 1454.96 L827.995 1454.96 L827.995 1463.43 Q829.013 1463.08 830.032 1462.92 Q831.05 1462.73 832.069 1462.73 Q837.856 1462.73 841.235 1465.9 Q844.615 1469.08 844.615 1474.49 Q844.615 1480.07 841.143 1483.17 Q837.671 1486.25 831.351 1486.25 Q829.175 1486.25 826.907 1485.88 Q824.661 1485.51 822.254 1484.77 L822.254 1480.07 Q824.337 1481.2 826.56 1481.76 Q828.782 1482.32 831.259 1482.32 Q835.263 1482.32 837.601 1480.21 Q839.939 1478.1 839.939 1474.49 Q839.939 1470.88 837.601 1468.77 Q835.263 1466.67 831.259 1466.67 Q829.384 1466.67 827.509 1467.08 Q825.657 1467.5 823.712 1468.38 L823.712 1451.02 Z\" fill=\"#000000\" fill-rule=\"evenodd\" fill-opacity=\"1\" /><path clip-path=\"url(#clip360)\" d=\"M1244.05 1454.1 Q1240.44 1454.1 1238.61 1457.66 Q1236.81 1461.2 1236.81 1468.33 Q1236.81 1475.44 1238.61 1479.01 Q1240.44 1482.55 1244.05 1482.55 Q1247.69 1482.55 1249.49 1479.01 Q1251.32 1475.44 1251.32 1468.33 Q1251.32 1461.2 1249.49 1457.66 Q1247.69 1454.1 1244.05 1454.1 M1244.05 1450.39 Q1249.86 1450.39 1252.92 1455 Q1256 1459.58 1256 1468.33 Q1256 1477.06 1252.92 1481.67 Q1249.86 1486.25 1244.05 1486.25 Q1238.24 1486.25 1235.17 1481.67 Q1232.11 1477.06 1232.11 1468.33 Q1232.11 1459.58 1235.17 1455 Q1238.24 1450.39 1244.05 1450.39 Z\" fill=\"#000000\" fill-rule=\"evenodd\" fill-opacity=\"1\" /><path clip-path=\"url(#clip360)\" d=\"M1264.22 1479.7 L1269.1 1479.7 L1269.1 1485.58 L1264.22 1485.58 L1264.22 1479.7 Z\" fill=\"#000000\" fill-rule=\"evenodd\" fill-opacity=\"1\" /><path clip-path=\"url(#clip360)\" d=\"M1289.29 1454.1 Q1285.67 1454.1 1283.85 1457.66 Q1282.04 1461.2 1282.04 1468.33 Q1282.04 1475.44 1283.85 1479.01 Q1285.67 1482.55 1289.29 1482.55 Q1292.92 1482.55 1294.73 1479.01 Q1296.55 1475.44 1296.55 1468.33 Q1296.55 1461.2 1294.73 1457.66 Q1292.92 1454.1 1289.29 1454.1 M1289.29 1450.39 Q1295.1 1450.39 1298.15 1455 Q1301.23 1459.58 1301.23 1468.33 Q1301.23 1477.06 1298.15 1481.67 Q1295.1 1486.25 1289.29 1486.25 Q1283.48 1486.25 1280.4 1481.67 Q1277.34 1477.06 1277.34 1468.33 Q1277.34 1459.58 1280.4 1455 Q1283.48 1450.39 1289.29 1450.39 Z\" fill=\"#000000\" fill-rule=\"evenodd\" fill-opacity=\"1\" /><path clip-path=\"url(#clip360)\" d=\"M1319.45 1454.1 Q1315.84 1454.1 1314.01 1457.66 Q1312.2 1461.2 1312.2 1468.33 Q1312.2 1475.44 1314.01 1479.01 Q1315.84 1482.55 1319.45 1482.55 Q1323.08 1482.55 1324.89 1479.01 Q1326.72 1475.44 1326.72 1468.33 Q1326.72 1461.2 1324.89 1457.66 Q1323.08 1454.1 1319.45 1454.1 M1319.45 1450.39 Q1325.26 1450.39 1328.31 1455 Q1331.39 1459.58 1331.39 1468.33 Q1331.39 1477.06 1328.31 1481.67 Q1325.26 1486.25 1319.45 1486.25 Q1313.64 1486.25 1310.56 1481.67 Q1307.5 1477.06 1307.5 1468.33 Q1307.5 1459.58 1310.56 1455 Q1313.64 1450.39 1319.45 1450.39 Z\" fill=\"#000000\" fill-rule=\"evenodd\" fill-opacity=\"1\" /><path clip-path=\"url(#clip360)\" d=\"M1749.74 1454.1 Q1746.13 1454.1 1744.3 1457.66 Q1742.5 1461.2 1742.5 1468.33 Q1742.5 1475.44 1744.3 1479.01 Q1746.13 1482.55 1749.74 1482.55 Q1753.38 1482.55 1755.18 1479.01 Q1757.01 1475.44 1757.01 1468.33 Q1757.01 1461.2 1755.18 1457.66 Q1753.38 1454.1 1749.74 1454.1 M1749.74 1450.39 Q1755.55 1450.39 1758.61 1455 Q1761.69 1459.58 1761.69 1468.33 Q1761.69 1477.06 1758.61 1481.67 Q1755.55 1486.25 1749.74 1486.25 Q1743.93 1486.25 1740.85 1481.67 Q1737.8 1477.06 1737.8 1468.33 Q1737.8 1459.58 1740.85 1455 Q1743.93 1450.39 1749.74 1450.39 Z\" fill=\"#000000\" fill-rule=\"evenodd\" fill-opacity=\"1\" /><path clip-path=\"url(#clip360)\" d=\"M1769.91 1479.7 L1774.79 1479.7 L1774.79 1485.58 L1769.91 1485.58 L1769.91 1479.7 Z\" fill=\"#000000\" fill-rule=\"evenodd\" fill-opacity=\"1\" /><path clip-path=\"url(#clip360)\" d=\"M1794.97 1454.1 Q1791.36 1454.1 1789.53 1457.66 Q1787.73 1461.2 1787.73 1468.33 Q1787.73 1475.44 1789.53 1479.01 Q1791.36 1482.55 1794.97 1482.55 Q1798.61 1482.55 1800.41 1479.01 Q1802.24 1475.44 1802.24 1468.33 Q1802.24 1461.2 1800.41 1457.66 Q1798.61 1454.1 1794.97 1454.1 M1794.97 1450.39 Q1800.78 1450.39 1803.84 1455 Q1806.92 1459.58 1806.92 1468.33 Q1806.92 1477.06 1803.84 1481.67 Q1800.78 1486.25 1794.97 1486.25 Q1789.16 1486.25 1786.09 1481.67 Q1783.03 1477.06 1783.03 1468.33 Q1783.03 1459.58 1786.09 1455 Q1789.16 1450.39 1794.97 1450.39 Z\" fill=\"#000000\" fill-rule=\"evenodd\" fill-opacity=\"1\" /><path clip-path=\"url(#clip360)\" d=\"M1815.18 1451.02 L1833.54 1451.02 L1833.54 1454.96 L1819.46 1454.96 L1819.46 1463.43 Q1820.48 1463.08 1821.5 1462.92 Q1822.52 1462.73 1823.54 1462.73 Q1829.33 1462.73 1832.71 1465.9 Q1836.09 1469.08 1836.09 1474.49 Q1836.09 1480.07 1832.61 1483.17 Q1829.14 1486.25 1822.82 1486.25 Q1820.65 1486.25 1818.38 1485.88 Q1816.13 1485.51 1813.72 1484.77 L1813.72 1480.07 Q1815.81 1481.2 1818.03 1481.76 Q1820.25 1482.32 1822.73 1482.32 Q1826.73 1482.32 1829.07 1480.21 Q1831.41 1478.1 1831.41 1474.49 Q1831.41 1470.88 1829.07 1468.77 Q1826.73 1466.67 1822.73 1466.67 Q1820.85 1466.67 1818.98 1467.08 Q1817.13 1467.5 1815.18 1468.38 L1815.18 1451.02 Z\" fill=\"#000000\" fill-rule=\"evenodd\" fill-opacity=\"1\" /><path clip-path=\"url(#clip360)\" d=\"M2254.44 1454.1 Q2250.83 1454.1 2249 1457.66 Q2247.19 1461.2 2247.19 1468.33 Q2247.19 1475.44 2249 1479.01 Q2250.83 1482.55 2254.44 1482.55 Q2258.07 1482.55 2259.88 1479.01 Q2261.7 1475.44 2261.7 1468.33 Q2261.7 1461.2 2259.88 1457.66 Q2258.07 1454.1 2254.44 1454.1 M2254.44 1450.39 Q2260.25 1450.39 2263.3 1455 Q2266.38 1459.58 2266.38 1468.33 Q2266.38 1477.06 2263.3 1481.67 Q2260.25 1486.25 2254.44 1486.25 Q2248.63 1486.25 2245.55 1481.67 Q2242.49 1477.06 2242.49 1468.33 Q2242.49 1459.58 2245.55 1455 Q2248.63 1450.39 2254.44 1450.39 Z\" fill=\"#000000\" fill-rule=\"evenodd\" fill-opacity=\"1\" /><path clip-path=\"url(#clip360)\" d=\"M2274.6 1479.7 L2279.48 1479.7 L2279.48 1485.58 L2274.6 1485.58 L2274.6 1479.7 Z\" fill=\"#000000\" fill-rule=\"evenodd\" fill-opacity=\"1\" /><path clip-path=\"url(#clip360)\" d=\"M2290.48 1481.64 L2298.12 1481.64 L2298.12 1455.28 L2289.81 1456.95 L2289.81 1452.69 L2298.07 1451.02 L2302.75 1451.02 L2302.75 1481.64 L2310.39 1481.64 L2310.39 1485.58 L2290.48 1485.58 L2290.48 1481.64 Z\" fill=\"#000000\" fill-rule=\"evenodd\" fill-opacity=\"1\" /><path clip-path=\"url(#clip360)\" d=\"M2329.83 1454.1 Q2326.22 1454.1 2324.39 1457.66 Q2322.58 1461.2 2322.58 1468.33 Q2322.58 1475.44 2324.39 1479.01 Q2326.22 1482.55 2329.83 1482.55 Q2333.46 1482.55 2335.27 1479.01 Q2337.1 1475.44 2337.1 1468.33 Q2337.1 1461.2 2335.27 1457.66 Q2333.46 1454.1 2329.83 1454.1 M2329.83 1450.39 Q2335.64 1450.39 2338.7 1455 Q2341.77 1459.58 2341.77 1468.33 Q2341.77 1477.06 2338.7 1481.67 Q2335.64 1486.25 2329.83 1486.25 Q2324.02 1486.25 2320.94 1481.67 Q2317.89 1477.06 2317.89 1468.33 Q2317.89 1459.58 2320.94 1455 Q2324.02 1450.39 2329.83 1450.39 Z\" fill=\"#000000\" fill-rule=\"evenodd\" fill-opacity=\"1\" /><path clip-path=\"url(#clip360)\" d=\"M1241.36 1533.76 L1241.36 1539.24 Q1238.88 1537.87 1236.36 1537.2 Q1233.88 1536.5 1231.33 1536.5 Q1225.64 1536.5 1222.49 1540.13 Q1219.34 1543.73 1219.34 1550.25 Q1219.34 1556.78 1222.49 1560.4 Q1225.64 1564 1231.33 1564 Q1233.88 1564 1236.36 1563.33 Q1238.88 1562.63 1241.36 1561.26 L1241.36 1566.68 Q1238.91 1567.82 1236.27 1568.39 Q1233.66 1568.97 1230.7 1568.97 Q1222.65 1568.97 1217.9 1563.91 Q1213.16 1558.85 1213.16 1550.25 Q1213.16 1541.53 1217.93 1536.53 Q1222.74 1531.54 1231.08 1531.54 Q1233.79 1531.54 1236.36 1532.11 Q1238.94 1532.65 1241.36 1533.76 Z\" fill=\"#000000\" fill-rule=\"evenodd\" fill-opacity=\"1\" /><path clip-path=\"url(#clip360)\" d=\"M1249 1532.4 L1276.82 1532.4 L1276.82 1537.74 L1254.79 1563.37 L1276.82 1563.37 L1276.82 1568.04 L1248.2 1568.04 L1248.2 1562.7 L1270.23 1537.07 L1249 1537.07 L1249 1532.4 Z\" fill=\"#000000\" fill-rule=\"evenodd\" fill-opacity=\"1\" /><path clip-path=\"url(#clip360)\" d=\"M1301.96 1550.12 Q1294.86 1550.12 1292.13 1551.75 Q1289.39 1553.37 1289.39 1557.29 Q1289.39 1560.4 1291.43 1562.25 Q1293.5 1564.07 1297.03 1564.07 Q1301.9 1564.07 1304.83 1560.63 Q1307.79 1557.16 1307.79 1551.43 L1307.79 1550.12 L1301.96 1550.12 M1313.64 1547.71 L1313.64 1568.04 L1307.79 1568.04 L1307.79 1562.63 Q1305.78 1565.88 1302.79 1567.44 Q1299.8 1568.97 1295.47 1568.97 Q1289.99 1568.97 1286.75 1565.91 Q1283.53 1562.82 1283.53 1557.67 Q1283.53 1551.65 1287.54 1548.6 Q1291.59 1545.54 1299.57 1545.54 L1307.79 1545.54 L1307.79 1544.97 Q1307.79 1540.93 1305.11 1538.73 Q1302.47 1536.5 1297.67 1536.5 Q1294.61 1536.5 1291.71 1537.23 Q1288.82 1537.97 1286.14 1539.43 L1286.14 1534.02 Q1289.36 1532.78 1292.38 1532.17 Q1295.41 1531.54 1298.27 1531.54 Q1306 1531.54 1309.82 1535.55 Q1313.64 1539.56 1313.64 1547.71 Z\" fill=\"#000000\" fill-rule=\"evenodd\" fill-opacity=\"1\" /><path clip-path=\"url(#clip360)\" d=\"M1348.43 1533.45 L1348.43 1538.98 Q1345.95 1537.71 1343.28 1537.07 Q1340.6 1536.44 1337.74 1536.44 Q1333.38 1536.44 1331.18 1537.77 Q1329.02 1539.11 1329.02 1541.79 Q1329.02 1543.82 1330.58 1545 Q1332.14 1546.15 1336.85 1547.2 L1338.85 1547.64 Q1345.09 1548.98 1347.7 1551.43 Q1350.34 1553.85 1350.34 1558.21 Q1350.34 1563.17 1346.39 1566.07 Q1342.48 1568.97 1335.6 1568.97 Q1332.74 1568.97 1329.62 1568.39 Q1326.53 1567.85 1323.1 1566.74 L1323.1 1560.69 Q1326.34 1562.38 1329.49 1563.24 Q1332.64 1564.07 1335.73 1564.07 Q1339.87 1564.07 1342.1 1562.66 Q1344.33 1561.23 1344.33 1558.65 Q1344.33 1556.27 1342.7 1554.99 Q1341.11 1553.72 1335.67 1552.54 L1333.63 1552.07 Q1328.19 1550.92 1325.77 1548.56 Q1323.35 1546.18 1323.35 1542.04 Q1323.35 1537.01 1326.92 1534.27 Q1330.48 1531.54 1337.04 1531.54 Q1340.28 1531.54 1343.15 1532.01 Q1346.01 1532.49 1348.43 1533.45 Z\" fill=\"#000000\" fill-rule=\"evenodd\" fill-opacity=\"1\" /><polyline clip-path=\"url(#clip362)\" style=\"stroke:#000000; stroke-linecap:butt; stroke-linejoin:round; stroke-width:2; stroke-opacity:0.1; fill:none\" points=\"\n",
       "  210.746,1326.42 2352.76,1326.42 \n",
       "  \"/>\n",
       "<polyline clip-path=\"url(#clip362)\" style=\"stroke:#000000; stroke-linecap:butt; stroke-linejoin:round; stroke-width:2; stroke-opacity:0.1; fill:none\" points=\"\n",
       "  210.746,925.829 2352.76,925.829 \n",
       "  \"/>\n",
       "<polyline clip-path=\"url(#clip362)\" style=\"stroke:#000000; stroke-linecap:butt; stroke-linejoin:round; stroke-width:2; stroke-opacity:0.1; fill:none\" points=\"\n",
       "  210.746,525.236 2352.76,525.236 \n",
       "  \"/>\n",
       "<polyline clip-path=\"url(#clip362)\" style=\"stroke:#000000; stroke-linecap:butt; stroke-linejoin:round; stroke-width:2; stroke-opacity:0.1; fill:none\" points=\"\n",
       "  210.746,124.643 2352.76,124.643 \n",
       "  \"/>\n",
       "<polyline clip-path=\"url(#clip360)\" style=\"stroke:#000000; stroke-linecap:butt; stroke-linejoin:round; stroke-width:4; stroke-opacity:1; fill:none\" points=\"\n",
       "  210.746,1423.18 210.746,47.2441 \n",
       "  \"/>\n",
       "<polyline clip-path=\"url(#clip360)\" style=\"stroke:#000000; stroke-linecap:butt; stroke-linejoin:round; stroke-width:4; stroke-opacity:1; fill:none\" points=\"\n",
       "  210.746,1326.42 229.644,1326.42 \n",
       "  \"/>\n",
       "<polyline clip-path=\"url(#clip360)\" style=\"stroke:#000000; stroke-linecap:butt; stroke-linejoin:round; stroke-width:4; stroke-opacity:1; fill:none\" points=\"\n",
       "  210.746,925.829 229.644,925.829 \n",
       "  \"/>\n",
       "<polyline clip-path=\"url(#clip360)\" style=\"stroke:#000000; stroke-linecap:butt; stroke-linejoin:round; stroke-width:4; stroke-opacity:1; fill:none\" points=\"\n",
       "  210.746,525.236 229.644,525.236 \n",
       "  \"/>\n",
       "<polyline clip-path=\"url(#clip360)\" style=\"stroke:#000000; stroke-linecap:butt; stroke-linejoin:round; stroke-width:4; stroke-opacity:1; fill:none\" points=\"\n",
       "  210.746,124.643 229.644,124.643 \n",
       "  \"/>\n",
       "<path clip-path=\"url(#clip360)\" d=\"M114.631 1326.87 L144.306 1326.87 L144.306 1330.81 L114.631 1330.81 L114.631 1326.87 Z\" fill=\"#000000\" fill-rule=\"evenodd\" fill-opacity=\"1\" /><path clip-path=\"url(#clip360)\" d=\"M158.427 1339.77 L174.746 1339.77 L174.746 1343.7 L152.802 1343.7 L152.802 1339.77 Q155.464 1337.01 160.047 1332.38 Q164.653 1327.73 165.834 1326.39 Q168.079 1323.86 168.959 1322.13 Q169.862 1320.37 169.862 1318.68 Q169.862 1315.92 167.917 1314.19 Q165.996 1312.45 162.894 1312.45 Q160.695 1312.45 158.241 1313.22 Q155.811 1313.98 153.033 1315.53 L153.033 1310.81 Q155.857 1309.67 158.311 1309.1 Q160.765 1308.52 162.802 1308.52 Q168.172 1308.52 171.366 1311.2 Q174.561 1313.89 174.561 1318.38 Q174.561 1320.51 173.751 1322.43 Q172.964 1324.33 170.857 1326.92 Q170.278 1327.59 167.177 1330.81 Q164.075 1334 158.427 1339.77 Z\" fill=\"#000000\" fill-rule=\"evenodd\" fill-opacity=\"1\" /><path clip-path=\"url(#clip360)\" d=\"M114.26 926.28 L143.936 926.28 L143.936 930.215 L114.26 930.215 L114.26 926.28 Z\" fill=\"#000000\" fill-rule=\"evenodd\" fill-opacity=\"1\" /><path clip-path=\"url(#clip360)\" d=\"M154.839 939.173 L162.477 939.173 L162.477 912.808 L154.167 914.474 L154.167 910.215 L162.431 908.549 L167.107 908.549 L167.107 939.173 L174.746 939.173 L174.746 943.109 L154.839 943.109 L154.839 939.173 Z\" fill=\"#000000\" fill-rule=\"evenodd\" fill-opacity=\"1\" /><path clip-path=\"url(#clip360)\" d=\"M162.802 511.034 Q159.19 511.034 157.362 514.599 Q155.556 518.141 155.556 525.271 Q155.556 532.377 157.362 535.942 Q159.19 539.483 162.802 539.483 Q166.436 539.483 168.241 535.942 Q170.07 532.377 170.07 525.271 Q170.07 518.141 168.241 514.599 Q166.436 511.034 162.802 511.034 M162.802 507.331 Q168.612 507.331 171.667 511.937 Q174.746 516.521 174.746 525.271 Q174.746 533.997 171.667 538.604 Q168.612 543.187 162.802 543.187 Q156.991 543.187 153.913 538.604 Q150.857 533.997 150.857 525.271 Q150.857 516.521 153.913 511.937 Q156.991 507.331 162.802 507.331 Z\" fill=\"#000000\" fill-rule=\"evenodd\" fill-opacity=\"1\" /><path clip-path=\"url(#clip360)\" d=\"M154.839 137.988 L162.477 137.988 L162.477 111.622 L154.167 113.289 L154.167 109.03 L162.431 107.363 L167.107 107.363 L167.107 137.988 L174.746 137.988 L174.746 141.923 L154.839 141.923 L154.839 137.988 Z\" fill=\"#000000\" fill-rule=\"evenodd\" fill-opacity=\"1\" /><path clip-path=\"url(#clip360)\" d=\"M42.4881 838.114 L64.0042 838.114 L64.0042 843.97 L42.679 843.97 Q37.6183 843.97 35.1038 845.943 Q32.5894 847.917 32.5894 851.864 Q32.5894 856.606 35.6131 859.343 Q38.6368 862.081 43.8567 862.081 L64.0042 862.081 L64.0042 867.969 L28.3562 867.969 L28.3562 862.081 L33.8944 862.081 Q30.6797 859.98 29.0883 857.147 Q27.4968 854.283 27.4968 850.559 Q27.4968 844.416 31.3163 841.265 Q35.1038 838.114 42.4881 838.114 Z\" fill=\"#000000\" fill-rule=\"evenodd\" fill-opacity=\"1\" /><path clip-path=\"url(#clip360)\" d=\"M46.0847 810.232 Q46.0847 817.33 47.7079 820.067 Q49.3312 822.804 53.2461 822.804 Q56.3653 822.804 58.2114 820.767 Q60.0256 818.698 60.0256 815.165 Q60.0256 810.295 56.5881 807.367 Q53.1188 804.407 47.3897 804.407 L46.0847 804.407 L46.0847 810.232 M43.6657 798.551 L64.0042 798.551 L64.0042 804.407 L58.5933 804.407 Q61.8398 806.412 63.3994 809.404 Q64.9272 812.396 64.9272 816.725 Q64.9272 822.199 61.8716 825.446 Q58.7843 828.661 53.6281 828.661 Q47.6125 828.661 44.5569 824.65 Q41.5014 820.608 41.5014 812.619 L41.5014 804.407 L40.9285 804.407 Q36.8862 804.407 34.6901 807.081 Q32.4621 809.723 32.4621 814.529 Q32.4621 817.584 33.1941 820.481 Q33.9262 823.377 35.3903 826.051 L29.9795 826.051 Q28.7381 822.836 28.1334 819.812 Q27.4968 816.788 27.4968 813.924 Q27.4968 806.19 31.5072 802.37 Q35.5176 798.551 43.6657 798.551 Z\" fill=\"#000000\" fill-rule=\"evenodd\" fill-opacity=\"1\" /><path clip-path=\"url(#clip360)\" d=\"M58.657 780.822 L77.5631 780.822 L77.5631 786.711 L28.3562 786.711 L28.3562 780.822 L33.7671 780.822 Q30.5842 778.976 29.0564 776.175 Q27.4968 773.343 27.4968 769.428 Q27.4968 762.935 32.6531 758.892 Q37.8093 754.818 46.212 754.818 Q54.6147 754.818 59.771 758.892 Q64.9272 762.935 64.9272 769.428 Q64.9272 773.343 63.3994 776.175 Q61.8398 778.976 58.657 780.822 M46.212 760.898 Q39.7508 760.898 36.0905 763.571 Q32.3984 766.213 32.3984 770.86 Q32.3984 775.507 36.0905 778.18 Q39.7508 780.822 46.212 780.822 Q52.6732 780.822 56.3653 778.18 Q60.0256 775.507 60.0256 770.86 Q60.0256 766.213 56.3653 763.571 Q52.6732 760.898 46.212 760.898 Z\" fill=\"#000000\" fill-rule=\"evenodd\" fill-opacity=\"1\" /><path clip-path=\"url(#clip360)\" d=\"M28.3562 745.111 L28.3562 739.254 L64.0042 739.254 L64.0042 745.111 L28.3562 745.111 M14.479 745.111 L14.479 739.254 L21.895 739.254 L21.895 745.111 L14.479 745.111 Z\" fill=\"#000000\" fill-rule=\"evenodd\" fill-opacity=\"1\" /><path clip-path=\"url(#clip360)\" d=\"M44.7161 696.508 L47.5806 696.508 L47.5806 723.435 Q53.6281 723.053 56.8109 719.807 Q59.9619 716.529 59.9619 710.704 Q59.9619 707.33 59.1344 704.179 Q58.3069 700.996 56.6518 697.877 L62.1899 697.877 Q63.5267 701.028 64.227 704.338 Q64.9272 707.648 64.9272 711.054 Q64.9272 719.584 59.9619 724.581 Q54.9967 729.546 46.5303 729.546 Q37.7774 729.546 32.6531 724.836 Q27.4968 720.093 27.4968 712.073 Q27.4968 704.879 32.1438 700.71 Q36.7589 696.508 44.7161 696.508 M42.9973 702.365 Q38.1912 702.429 35.3266 705.07 Q32.4621 707.68 32.4621 712.009 Q32.4621 716.911 35.2312 719.871 Q38.0002 722.799 43.0292 723.244 L42.9973 702.365 M64.0042 707.171 L64.0042 703.383 Q65.9457 704.816 67.3462 705.516 Q68.7466 706.184 69.7333 706.184 Q71.1974 706.184 71.9295 705.325 Q72.6615 704.434 72.6615 702.715 Q72.6615 701.697 72.4069 700.71 Q72.1841 699.723 71.7067 698.736 L75.9399 698.736 Q76.2581 699.946 76.4173 701.028 Q76.5764 702.11 76.5764 703.065 Q76.5764 706.948 75.176 708.794 Q73.8073 710.609 70.8473 710.609 Q69.3195 710.609 67.6326 709.781 Q65.9775 708.922 64.0042 707.171 Z\" fill=\"#000000\" fill-rule=\"evenodd\" fill-opacity=\"1\" /><path clip-path=\"url(#clip360)\" d=\"M29.7248 661.242 L35.1993 661.242 Q33.8307 663.725 33.1623 666.24 Q32.4621 668.722 32.4621 671.268 Q32.4621 676.966 36.0905 680.117 Q39.6872 683.268 46.212 683.268 Q52.7369 683.268 56.3653 680.117 Q59.9619 676.966 59.9619 671.268 Q59.9619 668.722 59.2935 666.24 Q58.5933 663.725 57.2247 661.242 L62.6355 661.242 Q63.7814 663.693 64.3543 666.335 Q64.9272 668.945 64.9272 671.905 Q64.9272 679.958 59.8664 684.7 Q54.8057 689.443 46.212 689.443 Q37.491 689.443 32.4939 684.668 Q27.4968 679.862 27.4968 671.523 Q27.4968 668.818 28.0697 666.24 Q28.6108 663.661 29.7248 661.242 Z\" fill=\"#000000\" fill-rule=\"evenodd\" fill-opacity=\"1\" /><path clip-path=\"url(#clip360)\" d=\"M28.3562 651.057 L28.3562 645.201 L64.0042 645.201 L64.0042 651.057 L28.3562 651.057 M14.479 651.057 L14.479 645.201 L21.895 645.201 L21.895 651.057 L14.479 651.057 Z\" fill=\"#000000\" fill-rule=\"evenodd\" fill-opacity=\"1\" /><path clip-path=\"url(#clip360)\" d=\"M44.7161 602.455 L47.5806 602.455 L47.5806 629.382 Q53.6281 629 56.8109 625.754 Q59.9619 622.475 59.9619 616.651 Q59.9619 613.277 59.1344 610.126 Q58.3069 606.943 56.6518 603.824 L62.1899 603.824 Q63.5267 606.975 64.227 610.285 Q64.9272 613.595 64.9272 617.001 Q64.9272 625.531 59.9619 630.528 Q54.9967 635.493 46.5303 635.493 Q37.7774 635.493 32.6531 630.783 Q27.4968 626.04 27.4968 618.019 Q27.4968 610.826 32.1438 606.657 Q36.7589 602.455 44.7161 602.455 M42.9973 608.312 Q38.1912 608.375 35.3266 611.017 Q32.4621 613.627 32.4621 617.956 Q32.4621 622.857 35.2312 625.817 Q38.0002 628.746 43.0292 629.191 L42.9973 608.312 Z\" fill=\"#000000\" fill-rule=\"evenodd\" fill-opacity=\"1\" /><polyline clip-path=\"url(#clip362)\" style=\"stroke:#009af9; stroke-linecap:butt; stroke-linejoin:round; stroke-width:4; stroke-opacity:1; fill:none\" points=\"\n",
       "  271.369,517.869 299.435,519.42 327.501,520.089 355.567,520.231 383.634,520.264 411.7,520.602 439.766,521.578 467.832,523.373 495.898,525.953 523.964,529.025 \n",
       "  552.031,532.037 580.097,534.22 608.163,534.699 636.229,532.667 664.295,527.611 692.361,519.545 720.428,509.202 748.494,498.117 776.56,488.531 804.626,483.084 \n",
       "  832.692,484.314 860.758,494.021 888.825,512.622 916.891,538.65 944.957,568.548 973.023,596.894 1001.09,617.087 1029.16,622.425 1057.22,607.418 1085.29,569.072 \n",
       "  1113.35,507.875 1141.42,428.208 1169.49,338.048 1197.55,247.934 1225.62,169.357 1253.68,112.857 1281.75,86.1857 1309.82,92.9201 1337.88,131.811 1365.95,197.006 \n",
       "  1394.02,279.108 1422.08,366.845 1450.15,449.029 1478.21,516.381 1506.28,562.896 1534.35,586.496 1562.41,588.915 1590.48,574.897 1618.54,550.941 1646.61,523.89 \n",
       "  1674.68,499.661 1702.74,482.36 1730.81,473.886 1758.88,474.047 1786.94,481.052 1815.01,492.232 1843.07,504.768 1871.14,516.299 1899.21,525.275 1927.27,531.07 \n",
       "  1955.34,533.849 1983.41,534.308 2011.47,533.365 2039.54,531.897 2067.6,530.552 2095.67,529.689 2123.74,529.397 2151.8,529.577 2179.87,530.047 2207.93,530.623 \n",
       "  2236,531.174 2264.07,531.64 2292.13,532.014 \n",
       "  \"/>\n",
       "<polyline clip-path=\"url(#clip362)\" style=\"stroke:#e26f46; stroke-linecap:butt; stroke-linejoin:round; stroke-width:4; stroke-opacity:1; fill:none\" points=\"\n",
       "  271.369,564.933 299.435,562.108 327.501,558.551 355.567,554.188 383.634,549.017 411.7,543.173 439.766,536.984 467.832,530.995 495.898,525.938 523.964,522.625 \n",
       "  552.031,521.77 580.097,523.765 608.163,528.465 636.229,535.031 664.295,541.92 692.361,547.045 720.428,548.137 748.494,543.245 776.56,531.321 804.626,512.736 \n",
       "  832.692,489.629 860.758,465.938 888.825,447.074 916.891,439.238 944.957,448.475 973.023,479.62 1001.09,535.332 1029.16,615.407 1057.22,716.531 1085.29,832.534 \n",
       "  1113.35,955.126 1141.42,1075 1169.49,1183.09 1197.55,1271.78 1225.62,1335.88 1253.68,1373.13 1281.75,1384.24 1309.82,1372.54 1337.88,1343.2 1365.95,1302.28 \n",
       "  1394.02,1255.83 1422.08,1209.02 1450.15,1165.65 1478.21,1127.89 1506.28,1096.31 1534.35,1070.21 1562.41,1048.03 1590.48,1027.84 1618.54,1007.8 1646.61,986.47 \n",
       "  1674.68,963.063 1702.74,937.466 1730.81,910.185 1758.88,882.167 1786.94,854.574 1815.01,828.527 1843.07,804.885 1871.14,784.084 1899.21,766.047 1927.27,750.205 \n",
       "  1955.34,735.598 1983.41,721.056 2011.47,705.414 2039.54,687.728 2067.6,667.448 2095.67,644.518 2123.74,619.384 2151.8,592.907 2179.87,566.212 2207.93,540.487 \n",
       "  2236,516.783 2264.07,495.853 2292.13,478.049 \n",
       "  \"/>\n",
       "<path clip-path=\"url(#clip360)\" d=\"\n",
       "M1914.39 248.629 L2281.36 248.629 L2281.36 93.1086 L1914.39 93.1086  Z\n",
       "  \" fill=\"#ffffff\" fill-rule=\"evenodd\" fill-opacity=\"1\"/>\n",
       "<polyline clip-path=\"url(#clip360)\" style=\"stroke:#000000; stroke-linecap:butt; stroke-linejoin:round; stroke-width:4; stroke-opacity:1; fill:none\" points=\"\n",
       "  1914.39,248.629 2281.36,248.629 2281.36,93.1086 1914.39,93.1086 1914.39,248.629 \n",
       "  \"/>\n",
       "<polyline clip-path=\"url(#clip360)\" style=\"stroke:#009af9; stroke-linecap:butt; stroke-linejoin:round; stroke-width:4; stroke-opacity:1; fill:none\" points=\"\n",
       "  1938.39,144.949 2082.39,144.949 \n",
       "  \"/>\n",
       "<path clip-path=\"url(#clip360)\" d=\"M2106.39 127.669 L2135.62 127.669 L2135.62 131.604 L2123.36 131.604 L2123.36 162.229 L2118.66 162.229 L2118.66 131.604 L2106.39 131.604 L2106.39 127.669 Z\" fill=\"#000000\" fill-rule=\"evenodd\" fill-opacity=\"1\" /><path clip-path=\"url(#clip360)\" d=\"M2143.36 164.636 Q2141.55 169.266 2139.84 170.678 Q2138.12 172.09 2135.25 172.09 L2131.85 172.09 L2131.85 168.525 L2134.35 168.525 Q2136.11 168.525 2137.08 167.692 Q2138.06 166.858 2139.24 163.756 L2140 161.812 L2129.51 136.303 L2134.03 136.303 L2142.13 156.581 L2150.23 136.303 L2154.74 136.303 L2143.36 164.636 Z\" fill=\"#000000\" fill-rule=\"evenodd\" fill-opacity=\"1\" /><path clip-path=\"url(#clip360)\" d=\"M2164.74 158.34 L2164.74 172.09 L2160.46 172.09 L2160.46 136.303 L2164.74 136.303 L2164.74 140.238 Q2166.09 137.923 2168.12 136.812 Q2170.18 135.678 2173.03 135.678 Q2177.75 135.678 2180.69 139.428 Q2183.66 143.178 2183.66 149.289 Q2183.66 155.4 2180.69 159.15 Q2177.75 162.9 2173.03 162.9 Q2170.18 162.9 2168.12 161.789 Q2166.09 160.655 2164.74 158.34 M2179.24 149.289 Q2179.24 144.59 2177.29 141.928 Q2175.37 139.243 2171.99 139.243 Q2168.61 139.243 2166.67 141.928 Q2164.74 144.59 2164.74 149.289 Q2164.74 153.988 2166.67 156.673 Q2168.61 159.335 2171.99 159.335 Q2175.37 159.335 2177.29 156.673 Q2179.24 153.988 2179.24 149.289 Z\" fill=\"#000000\" fill-rule=\"evenodd\" fill-opacity=\"1\" /><path clip-path=\"url(#clip360)\" d=\"M2205.97 127.669 L2212.27 127.669 L2227.59 156.581 L2227.59 127.669 L2232.13 127.669 L2232.13 162.229 L2225.83 162.229 L2210.51 133.317 L2210.51 162.229 L2205.97 162.229 L2205.97 127.669 Z\" fill=\"#000000\" fill-rule=\"evenodd\" fill-opacity=\"1\" /><polyline clip-path=\"url(#clip360)\" style=\"stroke:#e26f46; stroke-linecap:butt; stroke-linejoin:round; stroke-width:4; stroke-opacity:1; fill:none\" points=\"\n",
       "  1938.39,196.789 2082.39,196.789 \n",
       "  \"/>\n",
       "<path clip-path=\"url(#clip360)\" d=\"M2106.39 179.509 L2135.62 179.509 L2135.62 183.444 L2123.36 183.444 L2123.36 214.069 L2118.66 214.069 L2118.66 183.444 L2106.39 183.444 L2106.39 179.509 Z\" fill=\"#000000\" fill-rule=\"evenodd\" fill-opacity=\"1\" /><path clip-path=\"url(#clip360)\" d=\"M2143.36 216.476 Q2141.55 221.106 2139.84 222.518 Q2138.12 223.93 2135.25 223.93 L2131.85 223.93 L2131.85 220.365 L2134.35 220.365 Q2136.11 220.365 2137.08 219.532 Q2138.06 218.698 2139.24 215.596 L2140 213.652 L2129.51 188.143 L2134.03 188.143 L2142.13 208.421 L2150.23 188.143 L2154.74 188.143 L2143.36 216.476 Z\" fill=\"#000000\" fill-rule=\"evenodd\" fill-opacity=\"1\" /><path clip-path=\"url(#clip360)\" d=\"M2164.74 210.18 L2164.74 223.93 L2160.46 223.93 L2160.46 188.143 L2164.74 188.143 L2164.74 192.078 Q2166.09 189.763 2168.12 188.652 Q2170.18 187.518 2173.03 187.518 Q2177.75 187.518 2180.69 191.268 Q2183.66 195.018 2183.66 201.129 Q2183.66 207.24 2180.69 210.99 Q2177.75 214.74 2173.03 214.74 Q2170.18 214.74 2168.12 213.629 Q2166.09 212.495 2164.74 210.18 M2179.24 201.129 Q2179.24 196.43 2177.29 193.768 Q2175.37 191.083 2171.99 191.083 Q2168.61 191.083 2166.67 193.768 Q2164.74 196.43 2164.74 201.129 Q2164.74 205.828 2166.67 208.513 Q2168.61 211.175 2171.99 211.175 Q2175.37 211.175 2177.29 208.513 Q2179.24 205.828 2179.24 201.129 Z\" fill=\"#000000\" fill-rule=\"evenodd\" fill-opacity=\"1\" /><path clip-path=\"url(#clip360)\" d=\"M2214.88 214.069 L2201.69 179.509 L2206.57 179.509 L2217.52 208.606 L2228.49 179.509 L2233.36 179.509 L2220.18 214.069 L2214.88 214.069 Z\" fill=\"#000000\" fill-rule=\"evenodd\" fill-opacity=\"1\" /></svg>\n"
      ]
     },
     "execution_count": 36,
     "metadata": {},
     "output_type": "execute_result"
    }
   ],
   "source": [
    "plot(ekg_data.time, ekg_data.signalN, label=\"Typ N\", xlabel = \"czas\", ylabel=\"napięcie\")\n",
    "plot!(ekg_data.time, ekg_data.signalV, label=\"Typ V\")"
   ]
  },
  {
   "cell_type": "markdown",
   "metadata": {},
   "source": [
    "(5.725113911598116, -0.9157906158817669, 2.711325477169205, -0.8018390195854078)"
   ]
  },
  {
   "cell_type": "markdown",
   "metadata": {},
   "source": [
    "Uwaga: Funkcje bazowe mają pewną \"szerokość\" i najlepiej aproksymują inne funkcje o podobnej szerokości. Można dodatkowo sparametryzować f. bazowe aby były węższe i lepiej pasowały do zespołów QRS. Na potrzeby laboratorium postąpimy inaczej - przeskalujemy oś X aproksymowanych sygnałów."
   ]
  },
  {
   "cell_type": "code",
   "execution_count": 37,
   "metadata": {},
   "outputs": [],
   "source": [
    "# Definicja węzłów\n",
    "xx_ekg = ekg_data.time*40\n",
    "yy_ekgV = ekg_data.signalV;"
   ]
  },
  {
   "cell_type": "markdown",
   "metadata": {},
   "source": [
    "## Zadania"
   ]
  },
  {
   "cell_type": "markdown",
   "metadata": {},
   "source": [
    "#### Zadanie 1 (1 pkt)"
   ]
  },
  {
   "cell_type": "markdown",
   "metadata": {},
   "source": [
    "Narysować 6 pierwszych wielomianów Hermita (na jednym wykresie albo siatce 2x3 lub 3x2)"
   ]
  },
  {
   "cell_type": "markdown",
   "metadata": {},
   "source": [
    "#### Zadanie 2  (1 pkt)"
   ]
  },
  {
   "cell_type": "markdown",
   "metadata": {},
   "source": [
    "Narysować 6 pierwszych funkcji aproksymujących"
   ]
  },
  {
   "cell_type": "markdown",
   "metadata": {},
   "source": [
    "#### Zadanie 3  (1 pkt)"
   ]
  },
  {
   "cell_type": "markdown",
   "metadata": {},
   "source": [
    "Pokazać, że same wielomiany nie są ortogonane, ale już z funkcją wagową $exp(-x^2)$ są. Uzyć metody z wektorami wartości, założyć pewien przedział."
   ]
  },
  {
   "cell_type": "markdown",
   "metadata": {},
   "source": [
    "#### Zadanie 4  (1 pkt)"
   ]
  },
  {
   "cell_type": "markdown",
   "metadata": {},
   "source": [
    "Dokonać aproksymacji zespołu QRS typu N oraz V za pomocą kilku kolejnych stopni. Przedstawić osobno wykresy dla N i V."
   ]
  },
  {
   "cell_type": "markdown",
   "metadata": {},
   "source": [
    "#### Zadanie 5  (1 pkt)"
   ]
  },
  {
   "cell_type": "markdown",
   "metadata": {},
   "source": [
    "Przedstawić wykres błędu aproksymacji w zależności od stopnia wielomianu dla stopni od 0 do 10. Jakiego stopnia należy użyć gdybyśmy mieli robić coś dalej z rezultatem aproksymacji?"
   ]
  }
 ],
 "metadata": {
  "kernelspec": {
   "display_name": "Julia 1.7.2",
   "language": "julia",
   "name": "julia-1.7"
  },
  "language_info": {
   "file_extension": ".jl",
   "mimetype": "application/julia",
   "name": "julia",
   "version": "1.7.2"
  }
 },
 "nbformat": 4,
 "nbformat_minor": 4
}
