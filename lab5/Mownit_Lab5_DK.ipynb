{
 "cells": [
  {
   "cell_type": "markdown",
   "metadata": {},
   "source": [
    "# MOwNiT \n",
    "## Laboratorium 5"
   ]
  },
  {
   "cell_type": "markdown",
   "metadata": {},
   "source": [
    "### Tablice wielowymiarowe i mnożenie macierzy w Julii"
   ]
  },
  {
   "cell_type": "code",
   "execution_count": 1,
   "metadata": {},
   "outputs": [
    {
     "data": {
      "text/plain": [
       "2×2 Array{Float64,2}:\n",
       " 1.0  4.0\n",
       " 0.0  1.0"
      ]
     },
     "execution_count": 1,
     "metadata": {},
     "output_type": "execute_result"
    }
   ],
   "source": [
    "# tablice wielowymiarowe w Julii\n",
    "Asmall = [[1.0 4.0]; [0.0 1.0]]\n",
    "Bsmall = Asmall\n",
    "# size(B,1)"
   ]
  },
  {
   "cell_type": "markdown",
   "metadata": {},
   "source": [
    "#### Wersja naiwna"
   ]
  },
  {
   "cell_type": "code",
   "execution_count": 2,
   "metadata": {},
   "outputs": [
    {
     "data": {
      "text/plain": [
       "naive_multiplication (generic function with 1 method)"
      ]
     },
     "execution_count": 2,
     "metadata": {},
     "output_type": "execute_result"
    }
   ],
   "source": [
    "# mnożenie macierzy - wersja naiwna\n",
    "function naive_multiplication(A,B)\n",
    "    C = zeros(Float64, size(A,1), size(B,2))\n",
    "    for i=1:size(A,1)\n",
    "        for j=1:size(B,2)\n",
    "            for k=1:size(A,2)\n",
    "                C[i,j] = C[i,j] + A[i,k]*B[k,j]\n",
    "            end\n",
    "        end\n",
    "    end\n",
    "    C\n",
    "end"
   ]
  },
  {
   "cell_type": "code",
   "execution_count": 3,
   "metadata": {},
   "outputs": [
    {
     "data": {
      "text/plain": [
       "2×2 Array{Float64,2}:\n",
       " 1.0  8.0\n",
       " 0.0  1.0"
      ]
     },
     "execution_count": 3,
     "metadata": {},
     "output_type": "execute_result"
    }
   ],
   "source": [
    "#kompilacja\n",
    "naive_multiplication(Asmall, Bsmall)"
   ]
  },
  {
   "cell_type": "code",
   "execution_count": 4,
   "metadata": {},
   "outputs": [
    {
     "data": {
      "text/plain": [
       "1.844e-6"
      ]
     },
     "execution_count": 4,
     "metadata": {},
     "output_type": "execute_result"
    }
   ],
   "source": [
    "#kompilacja\n",
    "@elapsed naive_multiplication(Asmall, Bsmall)"
   ]
  },
  {
   "cell_type": "markdown",
   "metadata": {},
   "source": [
    "#### Wersja ulepszona"
   ]
  },
  {
   "cell_type": "code",
   "execution_count": 5,
   "metadata": {},
   "outputs": [
    {
     "data": {
      "text/plain": [
       "2×2 Array{Int64,2}:\n",
       " 1  2\n",
       " 3  4"
      ]
     },
     "metadata": {},
     "output_type": "display_data"
    },
    {
     "data": {
      "text/plain": [
       "4-element Array{Int64,1}:\n",
       " 1\n",
       " 3\n",
       " 2\n",
       " 4"
      ]
     },
     "execution_count": 5,
     "metadata": {},
     "output_type": "execute_result"
    }
   ],
   "source": [
    "# Należy pamiętać o \"column-major\" dostępie do tablic - \n",
    "# pierwszy indeks zmienia się szybciej\n",
    "# tak jak Matlab, R, Fortran \n",
    "# inaczej niz C, Python\n",
    "A1 = [[1 2]; [3 4]]\n",
    "display(A1)\n",
    "vec(A1)"
   ]
  },
  {
   "cell_type": "code",
   "execution_count": 6,
   "metadata": {},
   "outputs": [
    {
     "data": {
      "text/plain": [
       "better_multiplication (generic function with 1 method)"
      ]
     },
     "execution_count": 6,
     "metadata": {},
     "output_type": "execute_result"
    }
   ],
   "source": [
    "# poprawiona funkcja korzytająca z powyższego oraz z faktu, że\n",
    "# można zmieniać kolejność operacji dodawania (a co za tym idzie kolejnosc petli).\n",
    "function better_multiplication(A, B)\n",
    "    C = zeros(Float64, size(A,1), size(B,2))\n",
    "    for j=1:size(B,2)\n",
    "        for k=1:size(A,2)\n",
    "            for i=1:size(A,1)\n",
    "                C[i,j] = C[i,j] + A[i,k]*B[k,j]\n",
    "            end\n",
    "        end\n",
    "    end\n",
    "    C\n",
    "end"
   ]
  },
  {
   "cell_type": "code",
   "execution_count": 7,
   "metadata": {
    "scrolled": true
   },
   "outputs": [
    {
     "data": {
      "text/plain": [
       "0.01313429"
      ]
     },
     "execution_count": 7,
     "metadata": {},
     "output_type": "execute_result"
    }
   ],
   "source": [
    "@elapsed better_multiplication(Asmall, Bsmall)"
   ]
  },
  {
   "cell_type": "markdown",
   "metadata": {},
   "source": [
    "#### Wersja BLASowa"
   ]
  },
  {
   "cell_type": "code",
   "execution_count": 8,
   "metadata": {},
   "outputs": [
    {
     "data": {
      "text/plain": [
       "2×2 Array{Float64,2}:\n",
       " 1.0  8.0\n",
       " 0.0  1.0"
      ]
     },
     "execution_count": 8,
     "metadata": {},
     "output_type": "execute_result"
    }
   ],
   "source": [
    "#kompilacja funkcji BLASowej do mnożenia macierzy\n",
    "#https://docs.julialang.org/en/stable/stdlib/linalg/#BLAS-Functions-1\n",
    "Asmall*Bsmall"
   ]
  },
  {
   "cell_type": "markdown",
   "metadata": {},
   "source": [
    "#### Porównanie wersji"
   ]
  },
  {
   "cell_type": "code",
   "execution_count": 9,
   "metadata": {},
   "outputs": [],
   "source": [
    "A = rand(1000, 1000);\n",
    "B = rand(1000, 1000);"
   ]
  },
  {
   "cell_type": "code",
   "execution_count": 10,
   "metadata": {
    "scrolled": true
   },
   "outputs": [
    {
     "data": {
      "text/plain": [
       "2.512443563"
      ]
     },
     "execution_count": 10,
     "metadata": {},
     "output_type": "execute_result"
    }
   ],
   "source": [
    "@elapsed naive_multiplication(A, B)"
   ]
  },
  {
   "cell_type": "code",
   "execution_count": 11,
   "metadata": {},
   "outputs": [
    {
     "data": {
      "text/plain": [
       "1.949072995"
      ]
     },
     "execution_count": 11,
     "metadata": {},
     "output_type": "execute_result"
    }
   ],
   "source": [
    "@elapsed better_multiplication(A, B)"
   ]
  },
  {
   "cell_type": "code",
   "execution_count": 12,
   "metadata": {},
   "outputs": [
    {
     "data": {
      "text/plain": [
       "0.025962248"
      ]
     },
     "execution_count": 12,
     "metadata": {},
     "output_type": "execute_result"
    }
   ],
   "source": [
    "@elapsed A*B"
   ]
  },
  {
   "cell_type": "markdown",
   "metadata": {},
   "source": [
    "### Wielomiany i aproksymacja średniokwadratowa"
   ]
  },
  {
   "cell_type": "code",
   "execution_count": 13,
   "metadata": {},
   "outputs": [],
   "source": [
    "# pakiet Polynomials jest mozliwy do instalacji pod Juliabox\n",
    "# https://github.com/JuliaMath/Polynomials.jl\n",
    "# using Pkg\n",
    "# Pkg.add(\"Polynomials\")"
   ]
  },
  {
   "cell_type": "code",
   "execution_count": 14,
   "metadata": {},
   "outputs": [
    {
     "data": {
      "text/plain": [
       "exp (generic function with 13 methods)"
      ]
     },
     "execution_count": 14,
     "metadata": {},
     "output_type": "execute_result"
    }
   ],
   "source": [
    "# Przykładowa funkcja, którą będziemy aproksymować\n",
    "myfun = exp"
   ]
  },
  {
   "cell_type": "code",
   "execution_count": 15,
   "metadata": {},
   "outputs": [
    {
     "data": {
      "text/html": [
       "&#45;1086.8658708490236 &#43; 2905.572199468458&#8729;x &#45; 1082.745723874463&#8729;x<sup>2</sup> &#43; 100.44658880845408&#8729;x<sup>3</sup>"
      ],
      "text/latex": [
       "$-1086.8658708490236 + 2905.572199468458\\cdot x - 1082.745723874463\\cdot x^{2} + 100.44658880845408\\cdot x^{3}$"
      ],
      "text/plain": [
       "Polynomial(-1086.8658708490236 + 2905.572199468458*x - 1082.745723874463*x^2 + 100.44658880845408*x^3)"
      ]
     },
     "execution_count": 15,
     "metadata": {},
     "output_type": "execute_result"
    }
   ],
   "source": [
    "# aproksymacja sredniokwadratowa wielomianem - tutaj przyklad dla wielomianu 3 stopnia\n",
    "using Polynomials\n",
    "# tworzę punkty do aproksymacji (tutaj jako przykład wyliczone wartości funkcji e^x)\n",
    "xs = 0:10\n",
    "ys = map(myfun, xs)\n",
    "\n",
    "# dopasowuje wielomian trzeciego stopnia do danych\n",
    "fit_poly_3 = fit(xs, ys, 3)"
   ]
  },
  {
   "cell_type": "code",
   "execution_count": 16,
   "metadata": {},
   "outputs": [
    {
     "data": {
      "text/plain": [
       "Polynomial{Float64,:x}"
      ]
     },
     "execution_count": 16,
     "metadata": {},
     "output_type": "execute_result"
    }
   ],
   "source": [
    "typeof(fit_poly_3)"
   ]
  },
  {
   "cell_type": "code",
   "execution_count": 17,
   "metadata": {},
   "outputs": [
    {
     "data": {
      "text/plain": [
       "836.4071935534255"
      ]
     },
     "execution_count": 17,
     "metadata": {},
     "output_type": "execute_result"
    }
   ],
   "source": [
    "# obliczanie wartosci wielomianu \n",
    "fit_poly_3(1)"
   ]
  },
  {
   "cell_type": "code",
   "execution_count": 18,
   "metadata": {},
   "outputs": [
    {
     "ename": "UndefVarError",
     "evalue": "\u001b[91mUndefVarError: Pkg not defined\u001b[39m",
     "output_type": "error",
     "traceback": [
      "\u001b[91mUndefVarError: Pkg not defined\u001b[39m",
      "",
      "Stacktrace:",
      " [1] top-level scope at In[18]:1"
     ]
    }
   ],
   "source": [
    "Pkg.add(\"Plots\")\n",
    "using Plots"
   ]
  },
  {
   "cell_type": "code",
   "execution_count": 19,
   "metadata": {},
   "outputs": [
    {
     "ename": "UndefVarError",
     "evalue": "\u001b[91mUndefVarError: plot not defined\u001b[39m",
     "output_type": "error",
     "traceback": [
      "\u001b[91mUndefVarError: plot not defined\u001b[39m",
      "",
      "Stacktrace:",
      " [1] top-level scope at In[19]:1"
     ]
    }
   ],
   "source": [
    "plot(fit_poly_3,  extrema(xs)..., label=\"aproksymacja wielomianem trzeciego stopnia\")\n",
    "# ! -dodanie do tego samego wykresu punktów wg ktorych aproksymowalismy\n",
    "scatter!(xs, ys, label =\"dane punkty\")"
   ]
  },
  {
   "cell_type": "markdown",
   "metadata": {},
   "source": [
    "### Wielomiany Czebyszewa w pakiecie Polynomials"
   ]
  },
  {
   "cell_type": "code",
   "execution_count": 20,
   "metadata": {},
   "outputs": [
    {
     "data": {
      "text/html": [
       "1⋅T_2(x)"
      ],
      "text/latex": [
       "$1⋅T_2(x)$"
      ],
      "text/plain": [
       "ChebyshevT(1⋅T_2(x))"
      ]
     },
     "execution_count": 20,
     "metadata": {},
     "output_type": "execute_result"
    }
   ],
   "source": [
    "# podajemy tablicę współczynników, gdzie wielomiany Czebyszewa są wielomianami bazowymi np dla T2(x)\n",
    "t2 = ChebyshevT([0, 0, 1])"
   ]
  },
  {
   "cell_type": "code",
   "execution_count": 21,
   "metadata": {},
   "outputs": [
    {
     "ename": "UndefVarError",
     "evalue": "\u001b[91mUndefVarError: plot not defined\u001b[39m",
     "output_type": "error",
     "traceback": [
      "\u001b[91mUndefVarError: plot not defined\u001b[39m",
      "",
      "Stacktrace:",
      " [1] top-level scope at In[21]:1"
     ]
    }
   ],
   "source": [
    "plot(t2)"
   ]
  },
  {
   "cell_type": "code",
   "execution_count": 22,
   "metadata": {},
   "outputs": [
    {
     "data": {
      "text/plain": [
       "2-element Array{Float64,1}:\n",
       " -0.7071067811865475\n",
       "  0.7071067811865476"
      ]
     },
     "execution_count": 22,
     "metadata": {},
     "output_type": "execute_result"
    }
   ],
   "source": [
    "#zera wielomianu Czebyszewa T2\n",
    "Polynomials.roots(t2)"
   ]
  },
  {
   "cell_type": "code",
   "execution_count": 23,
   "metadata": {},
   "outputs": [
    {
     "data": {
      "text/html": [
       "&#45;1 &#43; 2&#8729;x<sup>2</sup>"
      ],
      "text/latex": [
       "$-1 + 2\\cdot x^{2}$"
      ],
      "text/plain": [
       "Polynomial(-1 + 2*x^2)"
      ]
     },
     "execution_count": 23,
     "metadata": {},
     "output_type": "execute_result"
    }
   ],
   "source": [
    "# konwersja na wielomian\n",
    "convert(Polynomial, t2)"
   ]
  },
  {
   "cell_type": "code",
   "execution_count": 24,
   "metadata": {},
   "outputs": [
    {
     "data": {
      "text/html": [
       "3⋅T_0(x) + 2⋅T_1(x) + 1⋅T_2(x)"
      ],
      "text/latex": [
       "$3⋅T_0(x) + 2⋅T_1(x) + 1⋅T_2(x)$"
      ],
      "text/plain": [
       "ChebyshevT(3⋅T_0(x) + 2⋅T_1(x) + 1⋅T_2(x))"
      ]
     },
     "execution_count": 24,
     "metadata": {},
     "output_type": "execute_result"
    }
   ],
   "source": [
    "# można tworzyć kombinacje liniowe w bazie wielomianów Czebyszewa\n",
    "kombinacja_T = ChebyshevT([3,2,1])"
   ]
  },
  {
   "cell_type": "code",
   "execution_count": 25,
   "metadata": {},
   "outputs": [
    {
     "data": {
      "text/html": [
       "2 &#43; 2&#8729;x &#43; 2&#8729;x<sup>2</sup>"
      ],
      "text/latex": [
       "$2 + 2\\cdot x + 2\\cdot x^{2}$"
      ],
      "text/plain": [
       "Polynomial(2 + 2*x + 2*x^2)"
      ]
     },
     "execution_count": 25,
     "metadata": {},
     "output_type": "execute_result"
    }
   ],
   "source": [
    "convert(Polynomial, kombinacja_T)"
   ]
  },
  {
   "cell_type": "markdown",
   "metadata": {},
   "source": [
    "Skąd się wzieło polynomials logo :-)\n",
    "https://juliamath.github.io/Polynomials.jl/stable/reference/#Example:-The-Polynomials.jl-logo-1"
   ]
  },
  {
   "cell_type": "markdown",
   "metadata": {},
   "source": [
    "## Aproksymacja jednostajna Taylora i Pade"
   ]
  },
  {
   "cell_type": "code",
   "execution_count": 26,
   "metadata": {},
   "outputs": [],
   "source": [
    "# using Pkg;\n",
    "# Pkg.add(\"TaylorSeries\")"
   ]
  },
  {
   "cell_type": "code",
   "execution_count": 27,
   "metadata": {},
   "outputs": [],
   "source": [
    "using TaylorSeries"
   ]
  },
  {
   "cell_type": "code",
   "execution_count": 28,
   "metadata": {},
   "outputs": [
    {
     "data": {
      "text/plain": [
       " 1.0 t + 𝒪(t⁶)"
      ]
     },
     "execution_count": 28,
     "metadata": {},
     "output_type": "execute_result"
    }
   ],
   "source": [
    "# Definiujemy, ile pierwszych wyrazów szeregu Taylora nas interesuje\n",
    "t = Taylor1(Float64, 5)"
   ]
  },
  {
   "cell_type": "code",
   "execution_count": 29,
   "metadata": {},
   "outputs": [
    {
     "data": {
      "text/plain": [
       " 1.0 + 1.0 t + 0.5 t² + 0.16666666666666666 t³ + 0.041666666666666664 t⁴ + 0.008333333333333333 t⁵ + 𝒪(t⁶)"
      ]
     },
     "execution_count": 29,
     "metadata": {},
     "output_type": "execute_result"
    }
   ],
   "source": [
    "#Rozwinięcie Taylora \n",
    "myfun_taylor = myfun(t)"
   ]
  },
  {
   "cell_type": "code",
   "execution_count": 30,
   "metadata": {},
   "outputs": [
    {
     "data": {
      "text/plain": [
       "(:coeffs, :order)"
      ]
     },
     "execution_count": 30,
     "metadata": {},
     "output_type": "execute_result"
    }
   ],
   "source": [
    "# Julia hint - jak zapytać o pola typu danych\n",
    "fieldnames(typeof(myfun_taylor))"
   ]
  },
  {
   "cell_type": "code",
   "execution_count": 31,
   "metadata": {},
   "outputs": [
    {
     "data": {
      "text/plain": [
       "6-element Array{Float64,1}:\n",
       " 1.0\n",
       " 1.0\n",
       " 0.5\n",
       " 0.16666666666666666\n",
       " 0.041666666666666664\n",
       " 0.008333333333333333"
      ]
     },
     "execution_count": 31,
     "metadata": {},
     "output_type": "execute_result"
    }
   ],
   "source": [
    "# mogę wyciągnąć ze struktury typu  odpowiednie pole\n",
    "myfun_taylor.coeffs"
   ]
  },
  {
   "cell_type": "code",
   "execution_count": 32,
   "metadata": {},
   "outputs": [
    {
     "data": {
      "text/html": [
       "1.0 &#43; 1.0&#8729;x &#43; 0.5&#8729;x<sup>2</sup> &#43; 0.16666666666666666&#8729;x<sup>3</sup> &#43; 0.041666666666666664&#8729;x<sup>4</sup> &#43; 0.008333333333333333&#8729;x<sup>5</sup>"
      ],
      "text/latex": [
       "$1.0 + 1.0\\cdot x + 0.5\\cdot x^{2} + 0.16666666666666666\\cdot x^{3} + 0.041666666666666664\\cdot x^{4} + 0.008333333333333333\\cdot x^{5}$"
      ],
      "text/plain": [
       "Polynomial(1.0 + 1.0*x + 0.5*x^2 + 0.16666666666666666*x^3 + 0.041666666666666664*x^4 + 0.008333333333333333*x^5)"
      ]
     },
     "execution_count": 32,
     "metadata": {},
     "output_type": "execute_result"
    }
   ],
   "source": [
    "# Z przybliżenia Taylora tworzę wielomian zrozumiały dla pakietu Polynomials (typ Polynomial)\n",
    "myfun_t_pol = Polynomial(myfun_taylor.coeffs)"
   ]
  },
  {
   "cell_type": "code",
   "execution_count": 33,
   "metadata": {},
   "outputs": [
    {
     "data": {
      "text/plain": [
       "Polynomials.PolyCompat.PadeApproximation.Pade{Float64,Float64}(Polynomial(1.0 + 0.5000000000000001*x + 0.08333333333333333*x^2), Polynomial(1.0 - 0.5*x + 0.08333333333333333*x^2), :x)"
      ]
     },
     "execution_count": 33,
     "metadata": {},
     "output_type": "execute_result"
    }
   ],
   "source": [
    "# mogę zamienić przybliżenie Taylora na aproksymację Pade (np. dla n=2, m=2)\n",
    "myfun_pade = Polynomials.PolyCompat.PadeApproximation.Pade(myfun_t_pol, 2, 2)"
   ]
  },
  {
   "cell_type": "markdown",
   "metadata": {
    "collapsed": true
   },
   "source": [
    "### Zadania\n",
    " \n",
    "1. Uruchomić \n",
    "   - `naive_multiplication(A,B)`, \n",
    "   - `better_multiplication(A,B)` \n",
    "   - mnożenie BLAS w Julii (`A*B`) \n",
    "\n",
    "    dla coraz większych macierzy kwadratowych i zmierzyć czasy. Narysować wykres zależyności czasu od rozmiaru macierzy wraz z słupkami błędów. Wszystkie trzy metody powinny być na jednym wykresie. **(1pkt)**. Do analizy danych można użyć wybranego narzędzia (Julia, R)\n",
    " \n",
    " \n",
    "2. Napisać w języku C:\n",
    "   - naiwną metodę mnożenia macierzy kwadratowych (wersja 1) \n",
    "   - ulepszoną wersję za pomocą zamiany pętli metodę mnożenia macierzy(wersja 2), pamiętając, że w C macierz przechowywana jest wierszami (row major order tzn A11,A12, ..., A1m, A21, A22,...,A2m, ..Anm), inaczej niż w Julii ! \n",
    "   - skorzystać z  możliwości BLAS poziom 3 dostępnego w GSL  (przykład uzycia https://www.gnu.org/software/gsl/doc/html/blas.html#examples )\n",
    "    \n",
    "    Należy porównywać działanie tych trzech algorytmow bez włączonej opcji optymalizacji kompilatora. Przedstawić wyniki na jednym wykresie tak jak w p.1. (osobno niż p.1). **(1 pkt)**\n",
    "    \n",
    "    *(Dla chętnych)* sprawdzić, co się dzieje, jak włączymy optymalizację kompilatora i dodać do wykresu. \n",
    "Do analizy danych można użyć wybranego narzędzia (Julia, R)\n",
    "\n",
    "3.  Użyć aproksymacji odpowiednimi wielomianami, które najlepiej pasują do zależności czasowych każdego z algorytmów. Stopień wielomianu powinien zgadzać się z teoretyczną złożonoscią. Dodać wykresy uzyskanych wielomianów do wcześniejszych wykresów. **(1 pkt)** Do analizy danych można użyć wybranego narzędzia (Julia, R)\n",
    "\n",
    "4. Pokazać zniwelowanie efektu Rungego  poprzez użycie wsparcia dla wielomianów Czebyszewa w pakiecie Polynomials. Wymagany wykres. **(1 pkt)**\n",
    "\n",
    "5. Przybliżenie Pade jest często lepsze niż rozwinięcie w szereg Taylora przy aproksymowaniu funkcji, które posiadają osobliwości. Korzystając ze wsparcia dla aproksymacji Pade w pakiecie Polynomials pokazać dowolny przykład (wraz z wykresem), gdzie takie przybliżenie faktycznie jest lepsze. Można odtworzyć wykres z wykładu albo zainspirować się przykładowym artykułem https://www.hindawi.com/journals/ijcm/2014/587430/ **(1 pkt)**\n"
   ]
  },
  {
   "cell_type": "markdown",
   "metadata": {},
   "source": [
    "# ZAD1"
   ]
  },
  {
   "cell_type": "code",
   "execution_count": 62,
   "metadata": {},
   "outputs": [],
   "source": [
    "matrix_size = []\n",
    "operation_type = []\n",
    "operation_time = []\n",
    "\n",
    "for i in 1:10\n",
    "    for try_id in 1:10\n",
    "        push!(operation_type, \"naive_multiplication\")\n",
    "        \n",
    "        curr_matrix_size = 10 * i\n",
    "        push!(matrix_size, curr_matrix_size)\n",
    "        \n",
    "        A = rand(curr_matrix_size, curr_matrix_size)\n",
    "        B = rand(curr_matrix_size, curr_matrix_size)\n",
    "        push!(operation_time, @elapsed naive_multiplication(A,B))\n",
    "    end\n",
    "end\n",
    "\n",
    "for i in 1:10\n",
    "    for try_id in 1:10\n",
    "        push!(operation_type, \"better_multiplication\")\n",
    "        \n",
    "        curr_matrix_size = 10 * i\n",
    "        push!(matrix_size, curr_matrix_size)\n",
    "        \n",
    "        A = rand(curr_matrix_size, curr_matrix_size)\n",
    "        B = rand(curr_matrix_size, curr_matrix_size)\n",
    "        push!(operation_time, @elapsed better_multiplication(A,B))\n",
    "    end\n",
    "end\n",
    "\n",
    "for i in 1:10\n",
    "    for try_id in 1:10\n",
    "        push!(operation_type, \"BLAS_multiplication\")\n",
    "        \n",
    "        curr_matrix_size = 10 * i\n",
    "        push!(matrix_size, curr_matrix_size)\n",
    "        \n",
    "        A = rand(curr_matrix_size, curr_matrix_size)\n",
    "        B = rand(curr_matrix_size, curr_matrix_size)\n",
    "        push!(operation_time, @elapsed A*B)\n",
    "    end\n",
    "end"
   ]
  },
  {
   "cell_type": "code",
   "execution_count": 63,
   "metadata": {},
   "outputs": [
    {
     "data": {
      "text/html": [
       "<div class=\"data-frame\"><p>30 rows × 4 columns</p><table class=\"data-frame\"><thead><tr><th></th><th>Operation_type</th><th>Matrix_size</th><th>Operation_time_mean</th><th>Operation_time_std</th></tr><tr><th></th><th title=\"Any\">Any</th><th title=\"Any\">Any</th><th title=\"Float64\">Float64</th><th title=\"Float64\">Float64</th></tr></thead><tbody><tr><th>1</th><td>naive_multiplication</td><td>10</td><td>1.6742e-6</td><td>5.81671e-7</td></tr><tr><th>2</th><td>naive_multiplication</td><td>20</td><td>1.29697e-5</td><td>1.61569e-7</td></tr><tr><th>3</th><td>naive_multiplication</td><td>30</td><td>4.47084e-5</td><td>1.05394e-7</td></tr><tr><th>4</th><td>naive_multiplication</td><td>40</td><td>0.000117617</td><td>1.16366e-7</td></tr><tr><th>5</th><td>naive_multiplication</td><td>50</td><td>0.000247382</td><td>3.27398e-6</td></tr><tr><th>6</th><td>naive_multiplication</td><td>60</td><td>0.000450253</td><td>1.43323e-6</td></tr><tr><th>7</th><td>naive_multiplication</td><td>70</td><td>0.000734856</td><td>1.90058e-6</td></tr><tr><th>8</th><td>naive_multiplication</td><td>80</td><td>0.00112455</td><td>6.18478e-6</td></tr><tr><th>9</th><td>naive_multiplication</td><td>90</td><td>0.00163412</td><td>1.37157e-5</td></tr><tr><th>10</th><td>naive_multiplication</td><td>100</td><td>0.002279</td><td>5.07099e-6</td></tr><tr><th>11</th><td>better_multiplication</td><td>10</td><td>1.1571e-6</td><td>6.18783e-7</td></tr><tr><th>12</th><td>better_multiplication</td><td>20</td><td>8.1183e-6</td><td>1.44812e-7</td></tr><tr><th>13</th><td>better_multiplication</td><td>30</td><td>2.436e-5</td><td>1.73974e-7</td></tr><tr><th>14</th><td>better_multiplication</td><td>40</td><td>5.47175e-5</td><td>2.94298e-7</td></tr><tr><th>15</th><td>better_multiplication</td><td>50</td><td>0.000102343</td><td>1.04218e-6</td></tr><tr><th>16</th><td>better_multiplication</td><td>60</td><td>0.000346216</td><td>0.00013103</td></tr><tr><th>17</th><td>better_multiplication</td><td>70</td><td>0.000712914</td><td>4.4854e-6</td></tr><tr><th>18</th><td>better_multiplication</td><td>80</td><td>0.00106299</td><td>4.29614e-6</td></tr><tr><th>19</th><td>better_multiplication</td><td>90</td><td>0.00150642</td><td>2.94912e-6</td></tr><tr><th>20</th><td>better_multiplication</td><td>100</td><td>0.00206946</td><td>4.49657e-6</td></tr><tr><th>21</th><td>BLAS_multiplication</td><td>10</td><td>1.2594e-6</td><td>2.3714e-6</td></tr><tr><th>22</th><td>BLAS_multiplication</td><td>20</td><td>1.3927e-6</td><td>4.00864e-7</td></tr><tr><th>23</th><td>BLAS_multiplication</td><td>30</td><td>3.3102e-6</td><td>8.86677e-7</td></tr><tr><th>24</th><td>BLAS_multiplication</td><td>40</td><td>5.3853e-6</td><td>3.6606e-7</td></tr><tr><th>25</th><td>BLAS_multiplication</td><td>50</td><td>9.3759e-6</td><td>1.21195e-6</td></tr><tr><th>26</th><td>BLAS_multiplication</td><td>60</td><td>1.32339e-5</td><td>5.90582e-7</td></tr><tr><th>27</th><td>BLAS_multiplication</td><td>70</td><td>3.39854e-5</td><td>1.4348e-5</td></tr><tr><th>28</th><td>BLAS_multiplication</td><td>80</td><td>3.41918e-5</td><td>2.38286e-6</td></tr><tr><th>29</th><td>BLAS_multiplication</td><td>90</td><td>4.69914e-5</td><td>5.48371e-6</td></tr><tr><th>30</th><td>BLAS_multiplication</td><td>100</td><td>4.22089e-5</td><td>2.56645e-6</td></tr></tbody></table></div>"
      ],
      "text/latex": [
       "\\begin{tabular}{r|cccc}\n",
       "\t& Operation\\_type & Matrix\\_size & Operation\\_time\\_mean & Operation\\_time\\_std\\\\\n",
       "\t\\hline\n",
       "\t& Any & Any & Float64 & Float64\\\\\n",
       "\t\\hline\n",
       "\t1 & naive\\_multiplication & 10 & 1.6742e-6 & 5.81671e-7 \\\\\n",
       "\t2 & naive\\_multiplication & 20 & 1.29697e-5 & 1.61569e-7 \\\\\n",
       "\t3 & naive\\_multiplication & 30 & 4.47084e-5 & 1.05394e-7 \\\\\n",
       "\t4 & naive\\_multiplication & 40 & 0.000117617 & 1.16366e-7 \\\\\n",
       "\t5 & naive\\_multiplication & 50 & 0.000247382 & 3.27398e-6 \\\\\n",
       "\t6 & naive\\_multiplication & 60 & 0.000450253 & 1.43323e-6 \\\\\n",
       "\t7 & naive\\_multiplication & 70 & 0.000734856 & 1.90058e-6 \\\\\n",
       "\t8 & naive\\_multiplication & 80 & 0.00112455 & 6.18478e-6 \\\\\n",
       "\t9 & naive\\_multiplication & 90 & 0.00163412 & 1.37157e-5 \\\\\n",
       "\t10 & naive\\_multiplication & 100 & 0.002279 & 5.07099e-6 \\\\\n",
       "\t11 & better\\_multiplication & 10 & 1.1571e-6 & 6.18783e-7 \\\\\n",
       "\t12 & better\\_multiplication & 20 & 8.1183e-6 & 1.44812e-7 \\\\\n",
       "\t13 & better\\_multiplication & 30 & 2.436e-5 & 1.73974e-7 \\\\\n",
       "\t14 & better\\_multiplication & 40 & 5.47175e-5 & 2.94298e-7 \\\\\n",
       "\t15 & better\\_multiplication & 50 & 0.000102343 & 1.04218e-6 \\\\\n",
       "\t16 & better\\_multiplication & 60 & 0.000346216 & 0.00013103 \\\\\n",
       "\t17 & better\\_multiplication & 70 & 0.000712914 & 4.4854e-6 \\\\\n",
       "\t18 & better\\_multiplication & 80 & 0.00106299 & 4.29614e-6 \\\\\n",
       "\t19 & better\\_multiplication & 90 & 0.00150642 & 2.94912e-6 \\\\\n",
       "\t20 & better\\_multiplication & 100 & 0.00206946 & 4.49657e-6 \\\\\n",
       "\t21 & BLAS\\_multiplication & 10 & 1.2594e-6 & 2.3714e-6 \\\\\n",
       "\t22 & BLAS\\_multiplication & 20 & 1.3927e-6 & 4.00864e-7 \\\\\n",
       "\t23 & BLAS\\_multiplication & 30 & 3.3102e-6 & 8.86677e-7 \\\\\n",
       "\t24 & BLAS\\_multiplication & 40 & 5.3853e-6 & 3.6606e-7 \\\\\n",
       "\t25 & BLAS\\_multiplication & 50 & 9.3759e-6 & 1.21195e-6 \\\\\n",
       "\t26 & BLAS\\_multiplication & 60 & 1.32339e-5 & 5.90582e-7 \\\\\n",
       "\t27 & BLAS\\_multiplication & 70 & 3.39854e-5 & 1.4348e-5 \\\\\n",
       "\t28 & BLAS\\_multiplication & 80 & 3.41918e-5 & 2.38286e-6 \\\\\n",
       "\t29 & BLAS\\_multiplication & 90 & 4.69914e-5 & 5.48371e-6 \\\\\n",
       "\t30 & BLAS\\_multiplication & 100 & 4.22089e-5 & 2.56645e-6 \\\\\n",
       "\\end{tabular}\n"
      ],
      "text/plain": [
       "\u001b[1m30×4 DataFrame\u001b[0m\n",
       "\u001b[1m Row \u001b[0m│\u001b[1m Operation_type        \u001b[0m\u001b[1m Matrix_size \u001b[0m\u001b[1m Operation_time_mean \u001b[0m\u001b[1m Operation_time\u001b[0m ⋯\n",
       "\u001b[1m     \u001b[0m│\u001b[90m Any                   \u001b[0m\u001b[90m Any         \u001b[0m\u001b[90m Float64             \u001b[0m\u001b[90m Float64       \u001b[0m ⋯\n",
       "─────┼──────────────────────────────────────────────────────────────────────────\n",
       "   1 │ naive_multiplication   10                   1.6742e-6            5.8167 ⋯\n",
       "   2 │ naive_multiplication   20                   1.29697e-5           1.6156\n",
       "   3 │ naive_multiplication   30                   4.47084e-5           1.0539\n",
       "   4 │ naive_multiplication   40                   0.000117617          1.1636\n",
       "   5 │ naive_multiplication   50                   0.000247382          3.2739 ⋯\n",
       "   6 │ naive_multiplication   60                   0.000450253          1.4332\n",
       "   7 │ naive_multiplication   70                   0.000734856          1.9005\n",
       "   8 │ naive_multiplication   80                   0.00112455           6.1847\n",
       "   9 │ naive_multiplication   90                   0.00163412           1.3715 ⋯\n",
       "  10 │ naive_multiplication   100                  0.002279             5.0709\n",
       "  11 │ better_multiplication  10                   1.1571e-6            6.1878\n",
       "  ⋮  │           ⋮                 ⋮                ⋮                   ⋮      ⋱\n",
       "  21 │ BLAS_multiplication    10                   1.2594e-6            2.3714\n",
       "  22 │ BLAS_multiplication    20                   1.3927e-6            4.0086 ⋯\n",
       "  23 │ BLAS_multiplication    30                   3.3102e-6            8.8667\n",
       "  24 │ BLAS_multiplication    40                   5.3853e-6            3.6606\n",
       "  25 │ BLAS_multiplication    50                   9.3759e-6            1.2119\n",
       "  26 │ BLAS_multiplication    60                   1.32339e-5           5.9058 ⋯\n",
       "  27 │ BLAS_multiplication    70                   3.39854e-5           1.4348\n",
       "  28 │ BLAS_multiplication    80                   3.41918e-5           2.3828\n",
       "  29 │ BLAS_multiplication    90                   4.69914e-5           5.4837\n",
       "  30 │ BLAS_multiplication    100                  4.22089e-5           2.5664 ⋯\n",
       "\u001b[36m                                                     1 column and 9 rows omitted\u001b[0m"
      ]
     },
     "execution_count": 63,
     "metadata": {},
     "output_type": "execute_result"
    }
   ],
   "source": [
    "using DataFrames\n",
    "using Statistics\n",
    "\n",
    "input_data_frame = DataFrame(Matrix_size = matrix_size,\n",
    "    Operation_type = operation_type, Operation_time = operation_time)\n",
    "df_grouped=groupby(input_data_frame, [:Operation_type,:Matrix_size])\n",
    "df_combined = combine(df_grouped, \"Operation_time\" => mean, \"Operation_time\" => std)\n"
   ]
  },
  {
   "cell_type": "code",
   "execution_count": 69,
   "metadata": {},
   "outputs": [
    {
     "data": {
      "image/svg+xml": [
       "<?xml version=\"1.0\" encoding=\"utf-8\"?>\n",
       "<svg xmlns=\"http://www.w3.org/2000/svg\" xmlns:xlink=\"http://www.w3.org/1999/xlink\" width=\"600\" height=\"400\" viewBox=\"0 0 2400 1600\">\n",
       "<defs>\n",
       "  <clipPath id=\"clip830\">\n",
       "    <rect x=\"0\" y=\"0\" width=\"2400\" height=\"1600\"/>\n",
       "  </clipPath>\n",
       "</defs>\n",
       "<path clip-path=\"url(#clip830)\" d=\"\n",
       "M0 1600 L2400 1600 L2400 0 L0 0  Z\n",
       "  \" fill=\"#ffffff\" fill-rule=\"evenodd\" fill-opacity=\"1\"/>\n",
       "<defs>\n",
       "  <clipPath id=\"clip831\">\n",
       "    <rect x=\"480\" y=\"0\" width=\"1681\" height=\"1600\"/>\n",
       "  </clipPath>\n",
       "</defs>\n",
       "<path clip-path=\"url(#clip830)\" d=\"\n",
       "M292.158 1423.18 L2352.76 1423.18 L2352.76 47.2441 L292.158 47.2441  Z\n",
       "  \" fill=\"#ffffff\" fill-rule=\"evenodd\" fill-opacity=\"1\"/>\n",
       "<defs>\n",
       "  <clipPath id=\"clip832\">\n",
       "    <rect x=\"292\" y=\"47\" width=\"2062\" height=\"1377\"/>\n",
       "  </clipPath>\n",
       "</defs>\n",
       "<polyline clip-path=\"url(#clip832)\" style=\"stroke:#000000; stroke-width:2; stroke-opacity:0.1; fill:none\" points=\"\n",
       "  566.472,1423.18 566.472,47.2441 \n",
       "  \"/>\n",
       "<polyline clip-path=\"url(#clip832)\" style=\"stroke:#000000; stroke-width:2; stroke-opacity:0.1; fill:none\" points=\"\n",
       "  998.463,1423.18 998.463,47.2441 \n",
       "  \"/>\n",
       "<polyline clip-path=\"url(#clip832)\" style=\"stroke:#000000; stroke-width:2; stroke-opacity:0.1; fill:none\" points=\"\n",
       "  1430.45,1423.18 1430.45,47.2441 \n",
       "  \"/>\n",
       "<polyline clip-path=\"url(#clip832)\" style=\"stroke:#000000; stroke-width:2; stroke-opacity:0.1; fill:none\" points=\"\n",
       "  1862.45,1423.18 1862.45,47.2441 \n",
       "  \"/>\n",
       "<polyline clip-path=\"url(#clip832)\" style=\"stroke:#000000; stroke-width:2; stroke-opacity:0.1; fill:none\" points=\"\n",
       "  2294.44,1423.18 2294.44,47.2441 \n",
       "  \"/>\n",
       "<polyline clip-path=\"url(#clip830)\" style=\"stroke:#000000; stroke-width:4; stroke-opacity:1; fill:none\" points=\"\n",
       "  292.158,1423.18 2352.76,1423.18 \n",
       "  \"/>\n",
       "<polyline clip-path=\"url(#clip830)\" style=\"stroke:#000000; stroke-width:4; stroke-opacity:1; fill:none\" points=\"\n",
       "  566.472,1423.18 566.472,1406.67 \n",
       "  \"/>\n",
       "<polyline clip-path=\"url(#clip830)\" style=\"stroke:#000000; stroke-width:4; stroke-opacity:1; fill:none\" points=\"\n",
       "  998.463,1423.18 998.463,1406.67 \n",
       "  \"/>\n",
       "<polyline clip-path=\"url(#clip830)\" style=\"stroke:#000000; stroke-width:4; stroke-opacity:1; fill:none\" points=\"\n",
       "  1430.45,1423.18 1430.45,1406.67 \n",
       "  \"/>\n",
       "<polyline clip-path=\"url(#clip830)\" style=\"stroke:#000000; stroke-width:4; stroke-opacity:1; fill:none\" points=\"\n",
       "  1862.45,1423.18 1862.45,1406.67 \n",
       "  \"/>\n",
       "<polyline clip-path=\"url(#clip830)\" style=\"stroke:#000000; stroke-width:4; stroke-opacity:1; fill:none\" points=\"\n",
       "  2294.44,1423.18 2294.44,1406.67 \n",
       "  \"/>\n",
       "<path clip-path=\"url(#clip830)\" d=\"M 0 0 M547.618 1479.92 L563.937 1479.92 L563.937 1483.85 L541.993 1483.85 L541.993 1479.92 Q544.655 1477.16 549.238 1472.53 Q553.845 1467.88 555.025 1466.54 Q557.271 1464.01 558.15 1462.28 Q559.053 1460.52 559.053 1458.83 Q559.053 1456.07 557.109 1454.34 Q555.187 1452.6 552.086 1452.6 Q549.886 1452.6 547.433 1453.37 Q545.002 1454.13 542.224 1455.68 L542.224 1450.96 Q545.049 1449.82 547.502 1449.25 Q549.956 1448.67 551.993 1448.67 Q557.363 1448.67 560.558 1451.35 Q563.752 1454.04 563.752 1458.53 Q563.752 1460.66 562.942 1462.58 Q562.155 1464.48 560.048 1467.07 Q559.47 1467.74 556.368 1470.96 Q553.266 1474.15 547.618 1479.92 Z\" fill=\"#000000\" fill-rule=\"evenodd\" fill-opacity=\"1\" /><path clip-path=\"url(#clip830)\" d=\"M 0 0 M579.007 1452.37 Q575.396 1452.37 573.567 1455.94 Q571.761 1459.48 571.761 1466.61 Q571.761 1473.71 573.567 1477.28 Q575.396 1480.82 579.007 1480.82 Q582.641 1480.82 584.446 1477.28 Q586.275 1473.71 586.275 1466.61 Q586.275 1459.48 584.446 1455.94 Q582.641 1452.37 579.007 1452.37 M579.007 1448.67 Q584.817 1448.67 587.872 1453.27 Q590.951 1457.86 590.951 1466.61 Q590.951 1475.33 587.872 1479.94 Q584.817 1484.52 579.007 1484.52 Q573.197 1484.52 570.118 1479.94 Q567.062 1475.33 567.062 1466.61 Q567.062 1457.86 570.118 1453.27 Q573.197 1448.67 579.007 1448.67 Z\" fill=\"#000000\" fill-rule=\"evenodd\" fill-opacity=\"1\" /><path clip-path=\"url(#clip830)\" d=\"M 0 0 M987.966 1453.37 L976.16 1471.81 L987.966 1471.81 L987.966 1453.37 M986.739 1449.29 L992.618 1449.29 L992.618 1471.81 L997.549 1471.81 L997.549 1475.7 L992.618 1475.7 L992.618 1483.85 L987.966 1483.85 L987.966 1475.7 L972.364 1475.7 L972.364 1471.19 L986.739 1449.29 Z\" fill=\"#000000\" fill-rule=\"evenodd\" fill-opacity=\"1\" /><path clip-path=\"url(#clip830)\" d=\"M 0 0 M1012.62 1452.37 Q1009.01 1452.37 1007.18 1455.94 Q1005.37 1459.48 1005.37 1466.61 Q1005.37 1473.71 1007.18 1477.28 Q1009.01 1480.82 1012.62 1480.82 Q1016.25 1480.82 1018.06 1477.28 Q1019.89 1473.71 1019.89 1466.61 Q1019.89 1459.48 1018.06 1455.94 Q1016.25 1452.37 1012.62 1452.37 M1012.62 1448.67 Q1018.43 1448.67 1021.48 1453.27 Q1024.56 1457.86 1024.56 1466.61 Q1024.56 1475.33 1021.48 1479.94 Q1018.43 1484.52 1012.62 1484.52 Q1006.81 1484.52 1003.73 1479.94 Q1000.67 1475.33 1000.67 1466.61 Q1000.67 1457.86 1003.73 1453.27 Q1006.81 1448.67 1012.62 1448.67 Z\" fill=\"#000000\" fill-rule=\"evenodd\" fill-opacity=\"1\" /><path clip-path=\"url(#clip830)\" d=\"M 0 0 M1417.35 1464.71 Q1414.2 1464.71 1412.35 1466.86 Q1410.52 1469.01 1410.52 1472.76 Q1410.52 1476.49 1412.35 1478.67 Q1414.2 1480.82 1417.35 1480.82 Q1420.5 1480.82 1422.33 1478.67 Q1424.18 1476.49 1424.18 1472.76 Q1424.18 1469.01 1422.33 1466.86 Q1420.5 1464.71 1417.35 1464.71 M1426.64 1450.06 L1426.64 1454.31 Q1424.88 1453.48 1423.07 1453.04 Q1421.29 1452.6 1419.53 1452.6 Q1414.9 1452.6 1412.45 1455.73 Q1410.01 1458.85 1409.67 1465.17 Q1411.03 1463.16 1413.09 1462.09 Q1415.15 1461 1417.63 1461 Q1422.84 1461 1425.85 1464.18 Q1428.88 1467.32 1428.88 1472.76 Q1428.88 1478.09 1425.73 1481.31 Q1422.58 1484.52 1417.35 1484.52 Q1411.36 1484.52 1408.19 1479.94 Q1405.01 1475.33 1405.01 1466.61 Q1405.01 1458.41 1408.9 1453.55 Q1412.79 1448.67 1419.34 1448.67 Q1421.1 1448.67 1422.89 1449.01 Q1424.69 1449.36 1426.64 1450.06 Z\" fill=\"#000000\" fill-rule=\"evenodd\" fill-opacity=\"1\" /><path clip-path=\"url(#clip830)\" d=\"M 0 0 M1443.95 1452.37 Q1440.34 1452.37 1438.51 1455.94 Q1436.7 1459.48 1436.7 1466.61 Q1436.7 1473.71 1438.51 1477.28 Q1440.34 1480.82 1443.95 1480.82 Q1447.58 1480.82 1449.39 1477.28 Q1451.22 1473.71 1451.22 1466.61 Q1451.22 1459.48 1449.39 1455.94 Q1447.58 1452.37 1443.95 1452.37 M1443.95 1448.67 Q1449.76 1448.67 1452.82 1453.27 Q1455.89 1457.86 1455.89 1466.61 Q1455.89 1475.33 1452.82 1479.94 Q1449.76 1484.52 1443.95 1484.52 Q1438.14 1484.52 1435.06 1479.94 Q1432.01 1475.33 1432.01 1466.61 Q1432.01 1457.86 1435.06 1453.27 Q1438.14 1448.67 1443.95 1448.67 Z\" fill=\"#000000\" fill-rule=\"evenodd\" fill-opacity=\"1\" /><path clip-path=\"url(#clip830)\" d=\"M 0 0 M1848.94 1467.44 Q1845.61 1467.44 1843.68 1469.22 Q1841.79 1471 1841.79 1474.13 Q1841.79 1477.25 1843.68 1479.04 Q1845.61 1480.82 1848.94 1480.82 Q1852.27 1480.82 1854.19 1479.04 Q1856.11 1477.23 1856.11 1474.13 Q1856.11 1471 1854.19 1469.22 Q1852.3 1467.44 1848.94 1467.44 M1844.26 1465.45 Q1841.25 1464.71 1839.56 1462.65 Q1837.9 1460.59 1837.9 1457.63 Q1837.9 1453.48 1840.84 1451.07 Q1843.8 1448.67 1848.94 1448.67 Q1854.1 1448.67 1857.04 1451.07 Q1859.98 1453.48 1859.98 1457.63 Q1859.98 1460.59 1858.29 1462.65 Q1856.62 1464.71 1853.64 1465.45 Q1857.02 1466.24 1858.89 1468.53 Q1860.79 1470.82 1860.79 1474.13 Q1860.79 1479.15 1857.71 1481.84 Q1854.66 1484.52 1848.94 1484.52 Q1843.22 1484.52 1840.14 1481.84 Q1837.09 1479.15 1837.09 1474.13 Q1837.09 1470.82 1838.99 1468.53 Q1840.88 1466.24 1844.26 1465.45 M1842.55 1458.06 Q1842.55 1460.75 1844.22 1462.25 Q1845.91 1463.76 1848.94 1463.76 Q1851.95 1463.76 1853.64 1462.25 Q1855.35 1460.75 1855.35 1458.06 Q1855.35 1455.38 1853.64 1453.88 Q1851.95 1452.37 1848.94 1452.37 Q1845.91 1452.37 1844.22 1453.88 Q1842.55 1455.38 1842.55 1458.06 Z\" fill=\"#000000\" fill-rule=\"evenodd\" fill-opacity=\"1\" /><path clip-path=\"url(#clip830)\" d=\"M 0 0 M1875.86 1452.37 Q1872.25 1452.37 1870.42 1455.94 Q1868.61 1459.48 1868.61 1466.61 Q1868.61 1473.71 1870.42 1477.28 Q1872.25 1480.82 1875.86 1480.82 Q1879.49 1480.82 1881.3 1477.28 Q1883.13 1473.71 1883.13 1466.61 Q1883.13 1459.48 1881.3 1455.94 Q1879.49 1452.37 1875.86 1452.37 M1875.86 1448.67 Q1881.67 1448.67 1884.73 1453.27 Q1887.8 1457.86 1887.8 1466.61 Q1887.8 1475.33 1884.73 1479.94 Q1881.67 1484.52 1875.86 1484.52 Q1870.05 1484.52 1866.97 1479.94 Q1863.92 1475.33 1863.92 1466.61 Q1863.92 1457.86 1866.97 1453.27 Q1870.05 1448.67 1875.86 1448.67 Z\" fill=\"#000000\" fill-rule=\"evenodd\" fill-opacity=\"1\" /><path clip-path=\"url(#clip830)\" d=\"M 0 0 M2257.81 1479.92 L2265.44 1479.92 L2265.44 1453.55 L2257.13 1455.22 L2257.13 1450.96 L2265.4 1449.29 L2270.07 1449.29 L2270.07 1479.92 L2277.71 1479.92 L2277.71 1483.85 L2257.81 1483.85 L2257.81 1479.92 Z\" fill=\"#000000\" fill-rule=\"evenodd\" fill-opacity=\"1\" /><path clip-path=\"url(#clip830)\" d=\"M 0 0 M2292.78 1452.37 Q2289.17 1452.37 2287.34 1455.94 Q2285.54 1459.48 2285.54 1466.61 Q2285.54 1473.71 2287.34 1477.28 Q2289.17 1480.82 2292.78 1480.82 Q2296.42 1480.82 2298.22 1477.28 Q2300.05 1473.71 2300.05 1466.61 Q2300.05 1459.48 2298.22 1455.94 Q2296.42 1452.37 2292.78 1452.37 M2292.78 1448.67 Q2298.59 1448.67 2301.65 1453.27 Q2304.73 1457.86 2304.73 1466.61 Q2304.73 1475.33 2301.65 1479.94 Q2298.59 1484.52 2292.78 1484.52 Q2286.97 1484.52 2283.89 1479.94 Q2280.84 1475.33 2280.84 1466.61 Q2280.84 1457.86 2283.89 1453.27 Q2286.97 1448.67 2292.78 1448.67 Z\" fill=\"#000000\" fill-rule=\"evenodd\" fill-opacity=\"1\" /><path clip-path=\"url(#clip830)\" d=\"M 0 0 M2319.8 1452.37 Q2316.18 1452.37 2314.36 1455.94 Q2312.55 1459.48 2312.55 1466.61 Q2312.55 1473.71 2314.36 1477.28 Q2316.18 1480.82 2319.8 1480.82 Q2323.43 1480.82 2325.24 1477.28 Q2327.06 1473.71 2327.06 1466.61 Q2327.06 1459.48 2325.24 1455.94 Q2323.43 1452.37 2319.8 1452.37 M2319.8 1448.67 Q2325.61 1448.67 2328.66 1453.27 Q2331.74 1457.86 2331.74 1466.61 Q2331.74 1475.33 2328.66 1479.94 Q2325.61 1484.52 2319.8 1484.52 Q2313.99 1484.52 2310.91 1479.94 Q2307.85 1475.33 2307.85 1466.61 Q2307.85 1457.86 2310.91 1453.27 Q2313.99 1448.67 2319.8 1448.67 Z\" fill=\"#000000\" fill-rule=\"evenodd\" fill-opacity=\"1\" /><path clip-path=\"url(#clip830)\" d=\"M 0 0 M1168.31 1508.52 L1177.89 1508.52 L1190.02 1540.86 L1202.21 1508.52 L1211.79 1508.52 L1211.79 1556.04 L1205.52 1556.04 L1205.52 1514.32 L1193.26 1546.91 L1186.8 1546.91 L1174.55 1514.32 L1174.55 1556.04 L1168.31 1556.04 L1168.31 1508.52 Z\" fill=\"#000000\" fill-rule=\"evenodd\" fill-opacity=\"1\" /><path clip-path=\"url(#clip830)\" d=\"M 0 0 M1234.13 1538.12 Q1227.03 1538.12 1224.3 1539.75 Q1221.56 1541.37 1221.56 1545.29 Q1221.56 1548.4 1223.6 1550.25 Q1225.67 1552.07 1229.2 1552.07 Q1234.07 1552.07 1237 1548.63 Q1239.96 1545.16 1239.96 1539.43 L1239.96 1538.12 L1234.13 1538.12 M1245.81 1535.71 L1245.81 1556.04 L1239.96 1556.04 L1239.96 1550.63 Q1237.95 1553.88 1234.96 1555.44 Q1231.97 1556.97 1227.64 1556.97 Q1222.17 1556.97 1218.92 1553.91 Q1215.7 1550.82 1215.7 1545.67 Q1215.7 1539.65 1219.71 1536.6 Q1223.76 1533.54 1231.75 1533.54 L1239.96 1533.54 L1239.96 1532.97 Q1239.96 1528.93 1237.28 1526.73 Q1234.64 1524.5 1229.84 1524.5 Q1226.78 1524.5 1223.88 1525.23 Q1220.99 1525.97 1218.31 1527.43 L1218.31 1522.02 Q1221.53 1520.78 1224.55 1520.17 Q1227.58 1519.54 1230.44 1519.54 Q1238.17 1519.54 1241.99 1523.55 Q1245.81 1527.56 1245.81 1535.71 Z\" fill=\"#000000\" fill-rule=\"evenodd\" fill-opacity=\"1\" /><path clip-path=\"url(#clip830)\" d=\"M 0 0 M1257.75 1510.27 L1257.75 1520.4 L1269.81 1520.4 L1269.81 1524.95 L1257.75 1524.95 L1257.75 1544.3 Q1257.75 1548.66 1258.93 1549.9 Q1260.14 1551.14 1263.8 1551.14 L1269.81 1551.14 L1269.81 1556.04 L1263.8 1556.04 Q1257.02 1556.04 1254.44 1553.53 Q1251.86 1550.98 1251.86 1544.3 L1251.86 1524.95 L1247.56 1524.95 L1247.56 1520.4 L1251.86 1520.4 L1251.86 1510.27 L1257.75 1510.27 Z\" fill=\"#000000\" fill-rule=\"evenodd\" fill-opacity=\"1\" /><path clip-path=\"url(#clip830)\" d=\"M 0 0 M1296.61 1525.87 Q1295.63 1525.3 1294.45 1525.04 Q1293.3 1524.76 1291.9 1524.76 Q1286.94 1524.76 1284.26 1528 Q1281.62 1531.22 1281.62 1537.27 L1281.62 1556.04 L1275.73 1556.04 L1275.73 1520.4 L1281.62 1520.4 L1281.62 1525.93 Q1283.47 1522.69 1286.43 1521.13 Q1289.39 1519.54 1293.62 1519.54 Q1294.22 1519.54 1294.96 1519.63 Q1295.69 1519.7 1296.58 1519.85 L1296.61 1525.87 Z\" fill=\"#000000\" fill-rule=\"evenodd\" fill-opacity=\"1\" /><path clip-path=\"url(#clip830)\" d=\"M 0 0 M1302.75 1520.4 L1308.61 1520.4 L1308.61 1556.04 L1302.75 1556.04 L1302.75 1520.4 M1302.75 1506.52 L1308.61 1506.52 L1308.61 1513.93 L1302.75 1513.93 L1302.75 1506.52 Z\" fill=\"#000000\" fill-rule=\"evenodd\" fill-opacity=\"1\" /><path clip-path=\"url(#clip830)\" d=\"M 0 0 M1344.39 1520.4 L1331.5 1537.74 L1345.05 1556.04 L1338.15 1556.04 L1327.77 1542.04 L1317.4 1556.04 L1310.49 1556.04 L1324.33 1537.39 L1311.67 1520.4 L1318.57 1520.4 L1328.03 1533.1 L1337.48 1520.4 L1344.39 1520.4 Z\" fill=\"#000000\" fill-rule=\"evenodd\" fill-opacity=\"1\" /><path clip-path=\"url(#clip830)\" d=\"M 0 0 M1394.64 1521.45 L1394.64 1526.98 Q1392.16 1525.71 1389.49 1525.07 Q1386.81 1524.44 1383.95 1524.44 Q1379.59 1524.44 1377.39 1525.77 Q1375.23 1527.11 1375.23 1529.79 Q1375.23 1531.82 1376.79 1533 Q1378.35 1534.15 1383.06 1535.2 L1385.06 1535.64 Q1391.3 1536.98 1393.91 1539.43 Q1396.55 1541.85 1396.55 1546.21 Q1396.55 1551.17 1392.61 1554.07 Q1388.69 1556.97 1381.82 1556.97 Q1378.95 1556.97 1375.83 1556.39 Q1372.75 1555.85 1369.31 1554.74 L1369.31 1548.69 Q1372.55 1550.38 1375.71 1551.24 Q1378.86 1552.07 1381.94 1552.07 Q1386.08 1552.07 1388.31 1550.66 Q1390.54 1549.23 1390.54 1546.65 Q1390.54 1544.27 1388.91 1542.99 Q1387.32 1541.72 1381.88 1540.54 L1379.84 1540.07 Q1374.4 1538.92 1371.98 1536.56 Q1369.56 1534.18 1369.56 1530.04 Q1369.56 1525.01 1373.13 1522.27 Q1376.69 1519.54 1383.25 1519.54 Q1386.5 1519.54 1389.36 1520.01 Q1392.22 1520.49 1394.64 1521.45 Z\" fill=\"#000000\" fill-rule=\"evenodd\" fill-opacity=\"1\" /><path clip-path=\"url(#clip830)\" d=\"M 0 0 M1402.7 1520.4 L1408.55 1520.4 L1408.55 1556.04 L1402.7 1556.04 L1402.7 1520.4 M1402.7 1506.52 L1408.55 1506.52 L1408.55 1513.93 L1402.7 1513.93 L1402.7 1506.52 Z\" fill=\"#000000\" fill-rule=\"evenodd\" fill-opacity=\"1\" /><path clip-path=\"url(#clip830)\" d=\"M 0 0 M1412.15 1520.4 L1439.97 1520.4 L1439.97 1525.74 L1417.94 1551.37 L1439.97 1551.37 L1439.97 1556.04 L1411.35 1556.04 L1411.35 1550.7 L1433.38 1525.07 L1412.15 1525.07 L1412.15 1520.4 Z\" fill=\"#000000\" fill-rule=\"evenodd\" fill-opacity=\"1\" /><path clip-path=\"url(#clip830)\" d=\"M 0 0 M1476.6 1536.76 L1476.6 1539.62 L1449.68 1539.62 Q1450.06 1545.67 1453.3 1548.85 Q1456.58 1552 1462.41 1552 Q1465.78 1552 1468.93 1551.17 Q1472.11 1550.35 1475.23 1548.69 L1475.23 1554.23 Q1472.08 1555.57 1468.77 1556.27 Q1465.46 1556.97 1462.06 1556.97 Q1453.53 1556.97 1448.53 1552 Q1443.56 1547.04 1443.56 1538.57 Q1443.56 1529.82 1448.27 1524.69 Q1453.02 1519.54 1461.04 1519.54 Q1468.23 1519.54 1472.4 1524.18 Q1476.6 1528.8 1476.6 1536.76 M1470.75 1535.04 Q1470.68 1530.23 1468.04 1527.37 Q1465.43 1524.5 1461.1 1524.5 Q1456.2 1524.5 1453.24 1527.27 Q1450.31 1530.04 1449.87 1535.07 L1470.75 1535.04 Z\" fill=\"#000000\" fill-rule=\"evenodd\" fill-opacity=\"1\" /><polyline clip-path=\"url(#clip832)\" style=\"stroke:#000000; stroke-width:2; stroke-opacity:0.1; fill:none\" points=\"\n",
       "  292.158,1383.61 2352.76,1383.61 \n",
       "  \"/>\n",
       "<polyline clip-path=\"url(#clip832)\" style=\"stroke:#000000; stroke-width:2; stroke-opacity:0.1; fill:none\" points=\"\n",
       "  292.158,1099.59 2352.76,1099.59 \n",
       "  \"/>\n",
       "<polyline clip-path=\"url(#clip832)\" style=\"stroke:#000000; stroke-width:2; stroke-opacity:0.1; fill:none\" points=\"\n",
       "  292.158,815.576 2352.76,815.576 \n",
       "  \"/>\n",
       "<polyline clip-path=\"url(#clip832)\" style=\"stroke:#000000; stroke-width:2; stroke-opacity:0.1; fill:none\" points=\"\n",
       "  292.158,531.561 2352.76,531.561 \n",
       "  \"/>\n",
       "<polyline clip-path=\"url(#clip832)\" style=\"stroke:#000000; stroke-width:2; stroke-opacity:0.1; fill:none\" points=\"\n",
       "  292.158,247.546 2352.76,247.546 \n",
       "  \"/>\n",
       "<polyline clip-path=\"url(#clip830)\" style=\"stroke:#000000; stroke-width:4; stroke-opacity:1; fill:none\" points=\"\n",
       "  292.158,1423.18 292.158,47.2441 \n",
       "  \"/>\n",
       "<polyline clip-path=\"url(#clip830)\" style=\"stroke:#000000; stroke-width:4; stroke-opacity:1; fill:none\" points=\"\n",
       "  292.158,1383.61 316.885,1383.61 \n",
       "  \"/>\n",
       "<polyline clip-path=\"url(#clip830)\" style=\"stroke:#000000; stroke-width:4; stroke-opacity:1; fill:none\" points=\"\n",
       "  292.158,1099.59 316.885,1099.59 \n",
       "  \"/>\n",
       "<polyline clip-path=\"url(#clip830)\" style=\"stroke:#000000; stroke-width:4; stroke-opacity:1; fill:none\" points=\"\n",
       "  292.158,815.576 316.885,815.576 \n",
       "  \"/>\n",
       "<polyline clip-path=\"url(#clip830)\" style=\"stroke:#000000; stroke-width:4; stroke-opacity:1; fill:none\" points=\"\n",
       "  292.158,531.561 316.885,531.561 \n",
       "  \"/>\n",
       "<polyline clip-path=\"url(#clip830)\" style=\"stroke:#000000; stroke-width:4; stroke-opacity:1; fill:none\" points=\"\n",
       "  292.158,247.546 316.885,247.546 \n",
       "  \"/>\n",
       "<path clip-path=\"url(#clip830)\" d=\"M 0 0 M126.205 1369.41 Q122.593 1369.41 120.765 1372.97 Q118.959 1376.51 118.959 1383.64 Q118.959 1390.75 120.765 1394.31 Q122.593 1397.85 126.205 1397.85 Q129.839 1397.85 131.644 1394.31 Q133.473 1390.75 133.473 1383.64 Q133.473 1376.51 131.644 1372.97 Q129.839 1369.41 126.205 1369.41 M126.205 1365.7 Q132.015 1365.7 135.07 1370.31 Q138.149 1374.89 138.149 1383.64 Q138.149 1392.37 135.07 1396.97 Q132.015 1401.56 126.205 1401.56 Q120.394 1401.56 117.316 1396.97 Q114.26 1392.37 114.26 1383.64 Q114.26 1374.89 117.316 1370.31 Q120.394 1365.7 126.205 1365.7 Z\" fill=\"#000000\" fill-rule=\"evenodd\" fill-opacity=\"1\" /><path clip-path=\"url(#clip830)\" d=\"M 0 0 M143.218 1395.01 L148.103 1395.01 L148.103 1400.89 L143.218 1400.89 L143.218 1395.01 Z\" fill=\"#000000\" fill-rule=\"evenodd\" fill-opacity=\"1\" /><path clip-path=\"url(#clip830)\" d=\"M 0 0 M163.172 1369.41 Q159.561 1369.41 157.732 1372.97 Q155.927 1376.51 155.927 1383.64 Q155.927 1390.75 157.732 1394.31 Q159.561 1397.85 163.172 1397.85 Q166.806 1397.85 168.612 1394.31 Q170.44 1390.75 170.44 1383.64 Q170.44 1376.51 168.612 1372.97 Q166.806 1369.41 163.172 1369.41 M163.172 1365.7 Q168.982 1365.7 172.038 1370.31 Q175.116 1374.89 175.116 1383.64 Q175.116 1392.37 172.038 1396.97 Q168.982 1401.56 163.172 1401.56 Q157.362 1401.56 154.283 1396.97 Q151.228 1392.37 151.228 1383.64 Q151.228 1374.89 154.283 1370.31 Q157.362 1365.7 163.172 1365.7 Z\" fill=\"#000000\" fill-rule=\"evenodd\" fill-opacity=\"1\" /><path clip-path=\"url(#clip830)\" d=\"M 0 0 M190.186 1369.41 Q186.575 1369.41 184.746 1372.97 Q182.94 1376.51 182.94 1383.64 Q182.94 1390.75 184.746 1394.31 Q186.575 1397.85 190.186 1397.85 Q193.82 1397.85 195.625 1394.31 Q197.454 1390.75 197.454 1383.64 Q197.454 1376.51 195.625 1372.97 Q193.82 1369.41 190.186 1369.41 M190.186 1365.7 Q195.996 1365.7 199.051 1370.31 Q202.13 1374.89 202.13 1383.64 Q202.13 1392.37 199.051 1396.97 Q195.996 1401.56 190.186 1401.56 Q184.376 1401.56 181.297 1396.97 Q178.241 1392.37 178.241 1383.64 Q178.241 1374.89 181.297 1370.31 Q184.376 1365.7 190.186 1365.7 Z\" fill=\"#000000\" fill-rule=\"evenodd\" fill-opacity=\"1\" /><path clip-path=\"url(#clip830)\" d=\"M 0 0 M217.199 1369.41 Q213.588 1369.41 211.76 1372.97 Q209.954 1376.51 209.954 1383.64 Q209.954 1390.75 211.76 1394.31 Q213.588 1397.85 217.199 1397.85 Q220.834 1397.85 222.639 1394.31 Q224.468 1390.75 224.468 1383.64 Q224.468 1376.51 222.639 1372.97 Q220.834 1369.41 217.199 1369.41 M217.199 1365.7 Q223.01 1365.7 226.065 1370.31 Q229.144 1374.89 229.144 1383.64 Q229.144 1392.37 226.065 1396.97 Q223.01 1401.56 217.199 1401.56 Q211.389 1401.56 208.311 1396.97 Q205.255 1392.37 205.255 1383.64 Q205.255 1374.89 208.311 1370.31 Q211.389 1365.7 217.199 1365.7 Z\" fill=\"#000000\" fill-rule=\"evenodd\" fill-opacity=\"1\" /><path clip-path=\"url(#clip830)\" d=\"M 0 0 M244.213 1369.41 Q240.602 1369.41 238.773 1372.97 Q236.968 1376.51 236.968 1383.64 Q236.968 1390.75 238.773 1394.31 Q240.602 1397.85 244.213 1397.85 Q247.847 1397.85 249.653 1394.31 Q251.482 1390.75 251.482 1383.64 Q251.482 1376.51 249.653 1372.97 Q247.847 1369.41 244.213 1369.41 M244.213 1365.7 Q250.023 1365.7 253.079 1370.31 Q256.158 1374.89 256.158 1383.64 Q256.158 1392.37 253.079 1396.97 Q250.023 1401.56 244.213 1401.56 Q238.403 1401.56 235.324 1396.97 Q232.269 1392.37 232.269 1383.64 Q232.269 1374.89 235.324 1370.31 Q238.403 1365.7 244.213 1365.7 Z\" fill=\"#000000\" fill-rule=\"evenodd\" fill-opacity=\"1\" /><path clip-path=\"url(#clip830)\" d=\"M 0 0 M127.2 1085.39 Q123.589 1085.39 121.76 1088.95 Q119.955 1092.5 119.955 1099.63 Q119.955 1106.73 121.76 1110.3 Q123.589 1113.84 127.2 1113.84 Q130.834 1113.84 132.64 1110.3 Q134.468 1106.73 134.468 1099.63 Q134.468 1092.5 132.64 1088.95 Q130.834 1085.39 127.2 1085.39 M127.2 1081.69 Q133.01 1081.69 136.066 1086.29 Q139.144 1090.88 139.144 1099.63 Q139.144 1108.35 136.066 1112.96 Q133.01 1117.54 127.2 1117.54 Q121.39 1117.54 118.311 1112.96 Q115.256 1108.35 115.256 1099.63 Q115.256 1090.88 118.311 1086.29 Q121.39 1081.69 127.2 1081.69 Z\" fill=\"#000000\" fill-rule=\"evenodd\" fill-opacity=\"1\" /><path clip-path=\"url(#clip830)\" d=\"M 0 0 M144.214 1110.99 L149.098 1110.99 L149.098 1116.87 L144.214 1116.87 L144.214 1110.99 Z\" fill=\"#000000\" fill-rule=\"evenodd\" fill-opacity=\"1\" /><path clip-path=\"url(#clip830)\" d=\"M 0 0 M164.167 1085.39 Q160.556 1085.39 158.728 1088.95 Q156.922 1092.5 156.922 1099.63 Q156.922 1106.73 158.728 1110.3 Q160.556 1113.84 164.167 1113.84 Q167.802 1113.84 169.607 1110.3 Q171.436 1106.73 171.436 1099.63 Q171.436 1092.5 169.607 1088.95 Q167.802 1085.39 164.167 1085.39 M164.167 1081.69 Q169.977 1081.69 173.033 1086.29 Q176.112 1090.88 176.112 1099.63 Q176.112 1108.35 173.033 1112.96 Q169.977 1117.54 164.167 1117.54 Q158.357 1117.54 155.278 1112.96 Q152.223 1108.35 152.223 1099.63 Q152.223 1090.88 155.278 1086.29 Q158.357 1081.69 164.167 1081.69 Z\" fill=\"#000000\" fill-rule=\"evenodd\" fill-opacity=\"1\" /><path clip-path=\"url(#clip830)\" d=\"M 0 0 M191.181 1085.39 Q187.57 1085.39 185.741 1088.95 Q183.936 1092.5 183.936 1099.63 Q183.936 1106.73 185.741 1110.3 Q187.57 1113.84 191.181 1113.84 Q194.815 1113.84 196.621 1110.3 Q198.45 1106.73 198.45 1099.63 Q198.45 1092.5 196.621 1088.95 Q194.815 1085.39 191.181 1085.39 M191.181 1081.69 Q196.991 1081.69 200.047 1086.29 Q203.125 1090.88 203.125 1099.63 Q203.125 1108.35 200.047 1112.96 Q196.991 1117.54 191.181 1117.54 Q185.371 1117.54 182.292 1112.96 Q179.237 1108.35 179.237 1099.63 Q179.237 1090.88 182.292 1086.29 Q185.371 1081.69 191.181 1081.69 Z\" fill=\"#000000\" fill-rule=\"evenodd\" fill-opacity=\"1\" /><path clip-path=\"url(#clip830)\" d=\"M 0 0 M218.195 1085.39 Q214.584 1085.39 212.755 1088.95 Q210.949 1092.5 210.949 1099.63 Q210.949 1106.73 212.755 1110.3 Q214.584 1113.84 218.195 1113.84 Q221.829 1113.84 223.635 1110.3 Q225.463 1106.73 225.463 1099.63 Q225.463 1092.5 223.635 1088.95 Q221.829 1085.39 218.195 1085.39 M218.195 1081.69 Q224.005 1081.69 227.06 1086.29 Q230.139 1090.88 230.139 1099.63 Q230.139 1108.35 227.06 1112.96 Q224.005 1117.54 218.195 1117.54 Q212.385 1117.54 209.306 1112.96 Q206.25 1108.35 206.25 1099.63 Q206.25 1090.88 209.306 1086.29 Q212.385 1081.69 218.195 1081.69 Z\" fill=\"#000000\" fill-rule=\"evenodd\" fill-opacity=\"1\" /><path clip-path=\"url(#clip830)\" d=\"M 0 0 M235.255 1082.31 L253.611 1082.31 L253.611 1086.25 L239.537 1086.25 L239.537 1094.72 Q240.556 1094.37 241.574 1094.21 Q242.593 1094.02 243.611 1094.02 Q249.398 1094.02 252.778 1097.2 Q256.158 1100.37 256.158 1105.78 Q256.158 1111.36 252.685 1114.46 Q249.213 1117.54 242.894 1117.54 Q240.718 1117.54 238.449 1117.17 Q236.204 1116.8 233.797 1116.06 L233.797 1111.36 Q235.88 1112.5 238.102 1113.05 Q240.324 1113.61 242.801 1113.61 Q246.806 1113.61 249.144 1111.5 Q251.482 1109.39 251.482 1105.78 Q251.482 1102.17 249.144 1100.07 Q246.806 1097.96 242.801 1097.96 Q240.926 1097.96 239.051 1098.38 Q237.199 1098.79 235.255 1099.67 L235.255 1082.31 Z\" fill=\"#000000\" fill-rule=\"evenodd\" fill-opacity=\"1\" /><path clip-path=\"url(#clip830)\" d=\"M 0 0 M127.431 801.375 Q123.82 801.375 121.992 804.94 Q120.186 808.481 120.186 815.611 Q120.186 822.717 121.992 826.282 Q123.82 829.824 127.431 829.824 Q131.066 829.824 132.871 826.282 Q134.7 822.717 134.7 815.611 Q134.7 808.481 132.871 804.94 Q131.066 801.375 127.431 801.375 M127.431 797.671 Q133.242 797.671 136.297 802.278 Q139.376 806.861 139.376 815.611 Q139.376 824.338 136.297 828.944 Q133.242 833.527 127.431 833.527 Q121.621 833.527 118.543 828.944 Q115.487 824.338 115.487 815.611 Q115.487 806.861 118.543 802.278 Q121.621 797.671 127.431 797.671 Z\" fill=\"#000000\" fill-rule=\"evenodd\" fill-opacity=\"1\" /><path clip-path=\"url(#clip830)\" d=\"M 0 0 M144.445 826.977 L149.329 826.977 L149.329 832.856 L144.445 832.856 L144.445 826.977 Z\" fill=\"#000000\" fill-rule=\"evenodd\" fill-opacity=\"1\" /><path clip-path=\"url(#clip830)\" d=\"M 0 0 M164.399 801.375 Q160.788 801.375 158.959 804.94 Q157.153 808.481 157.153 815.611 Q157.153 822.717 158.959 826.282 Q160.788 829.824 164.399 829.824 Q168.033 829.824 169.839 826.282 Q171.667 822.717 171.667 815.611 Q171.667 808.481 169.839 804.94 Q168.033 801.375 164.399 801.375 M164.399 797.671 Q170.209 797.671 173.264 802.278 Q176.343 806.861 176.343 815.611 Q176.343 824.338 173.264 828.944 Q170.209 833.527 164.399 833.527 Q158.589 833.527 155.51 828.944 Q152.454 824.338 152.454 815.611 Q152.454 806.861 155.51 802.278 Q158.589 797.671 164.399 797.671 Z\" fill=\"#000000\" fill-rule=\"evenodd\" fill-opacity=\"1\" /><path clip-path=\"url(#clip830)\" d=\"M 0 0 M191.413 801.375 Q187.801 801.375 185.973 804.94 Q184.167 808.481 184.167 815.611 Q184.167 822.717 185.973 826.282 Q187.801 829.824 191.413 829.824 Q195.047 829.824 196.852 826.282 Q198.681 822.717 198.681 815.611 Q198.681 808.481 196.852 804.94 Q195.047 801.375 191.413 801.375 M191.413 797.671 Q197.223 797.671 200.278 802.278 Q203.357 806.861 203.357 815.611 Q203.357 824.338 200.278 828.944 Q197.223 833.527 191.413 833.527 Q185.602 833.527 182.524 828.944 Q179.468 824.338 179.468 815.611 Q179.468 806.861 182.524 802.278 Q185.602 797.671 191.413 797.671 Z\" fill=\"#000000\" fill-rule=\"evenodd\" fill-opacity=\"1\" /><path clip-path=\"url(#clip830)\" d=\"M 0 0 M209.237 828.921 L216.875 828.921 L216.875 802.555 L208.565 804.222 L208.565 799.963 L216.829 798.296 L221.505 798.296 L221.505 828.921 L229.144 828.921 L229.144 832.856 L209.237 832.856 L209.237 828.921 Z\" fill=\"#000000\" fill-rule=\"evenodd\" fill-opacity=\"1\" /><path clip-path=\"url(#clip830)\" d=\"M 0 0 M244.213 801.375 Q240.602 801.375 238.773 804.94 Q236.968 808.481 236.968 815.611 Q236.968 822.717 238.773 826.282 Q240.602 829.824 244.213 829.824 Q247.847 829.824 249.653 826.282 Q251.482 822.717 251.482 815.611 Q251.482 808.481 249.653 804.94 Q247.847 801.375 244.213 801.375 M244.213 797.671 Q250.023 797.671 253.079 802.278 Q256.158 806.861 256.158 815.611 Q256.158 824.338 253.079 828.944 Q250.023 833.527 244.213 833.527 Q238.403 833.527 235.324 828.944 Q232.269 824.338 232.269 815.611 Q232.269 806.861 235.324 802.278 Q238.403 797.671 244.213 797.671 Z\" fill=\"#000000\" fill-rule=\"evenodd\" fill-opacity=\"1\" /><path clip-path=\"url(#clip830)\" d=\"M 0 0 M128.427 517.36 Q124.816 517.36 122.987 520.924 Q121.181 524.466 121.181 531.596 Q121.181 538.702 122.987 542.267 Q124.816 545.809 128.427 545.809 Q132.061 545.809 133.867 542.267 Q135.695 538.702 135.695 531.596 Q135.695 524.466 133.867 520.924 Q132.061 517.36 128.427 517.36 M128.427 513.656 Q134.237 513.656 137.292 518.262 Q140.371 522.846 140.371 531.596 Q140.371 540.322 137.292 544.929 Q134.237 549.512 128.427 549.512 Q122.617 549.512 119.538 544.929 Q116.482 540.322 116.482 531.596 Q116.482 522.846 119.538 518.262 Q122.617 513.656 128.427 513.656 Z\" fill=\"#000000\" fill-rule=\"evenodd\" fill-opacity=\"1\" /><path clip-path=\"url(#clip830)\" d=\"M 0 0 M145.441 542.961 L150.325 542.961 L150.325 548.841 L145.441 548.841 L145.441 542.961 Z\" fill=\"#000000\" fill-rule=\"evenodd\" fill-opacity=\"1\" /><path clip-path=\"url(#clip830)\" d=\"M 0 0 M165.394 517.36 Q161.783 517.36 159.954 520.924 Q158.149 524.466 158.149 531.596 Q158.149 538.702 159.954 542.267 Q161.783 545.809 165.394 545.809 Q169.028 545.809 170.834 542.267 Q172.663 538.702 172.663 531.596 Q172.663 524.466 170.834 520.924 Q169.028 517.36 165.394 517.36 M165.394 513.656 Q171.204 513.656 174.26 518.262 Q177.339 522.846 177.339 531.596 Q177.339 540.322 174.26 544.929 Q171.204 549.512 165.394 549.512 Q159.584 549.512 156.505 544.929 Q153.45 540.322 153.45 531.596 Q153.45 522.846 156.505 518.262 Q159.584 513.656 165.394 513.656 Z\" fill=\"#000000\" fill-rule=\"evenodd\" fill-opacity=\"1\" /><path clip-path=\"url(#clip830)\" d=\"M 0 0 M192.408 517.36 Q188.797 517.36 186.968 520.924 Q185.163 524.466 185.163 531.596 Q185.163 538.702 186.968 542.267 Q188.797 545.809 192.408 545.809 Q196.042 545.809 197.848 542.267 Q199.676 538.702 199.676 531.596 Q199.676 524.466 197.848 520.924 Q196.042 517.36 192.408 517.36 M192.408 513.656 Q198.218 513.656 201.274 518.262 Q204.352 522.846 204.352 531.596 Q204.352 540.322 201.274 544.929 Q198.218 549.512 192.408 549.512 Q186.598 549.512 183.519 544.929 Q180.464 540.322 180.464 531.596 Q180.464 522.846 183.519 518.262 Q186.598 513.656 192.408 513.656 Z\" fill=\"#000000\" fill-rule=\"evenodd\" fill-opacity=\"1\" /><path clip-path=\"url(#clip830)\" d=\"M 0 0 M210.232 544.906 L217.871 544.906 L217.871 518.54 L209.561 520.207 L209.561 515.948 L217.824 514.281 L222.5 514.281 L222.5 544.906 L230.139 544.906 L230.139 548.841 L210.232 548.841 L210.232 544.906 Z\" fill=\"#000000\" fill-rule=\"evenodd\" fill-opacity=\"1\" /><path clip-path=\"url(#clip830)\" d=\"M 0 0 M235.255 514.281 L253.611 514.281 L253.611 518.216 L239.537 518.216 L239.537 526.688 Q240.556 526.341 241.574 526.179 Q242.593 525.994 243.611 525.994 Q249.398 525.994 252.778 529.165 Q256.158 532.336 256.158 537.753 Q256.158 543.332 252.685 546.434 Q249.213 549.512 242.894 549.512 Q240.718 549.512 238.449 549.142 Q236.204 548.772 233.797 548.031 L233.797 543.332 Q235.88 544.466 238.102 545.022 Q240.324 545.577 242.801 545.577 Q246.806 545.577 249.144 543.471 Q251.482 541.364 251.482 537.753 Q251.482 534.142 249.144 532.035 Q246.806 529.929 242.801 529.929 Q240.926 529.929 239.051 530.346 Q237.199 530.762 235.255 531.642 L235.255 514.281 Z\" fill=\"#000000\" fill-rule=\"evenodd\" fill-opacity=\"1\" /><path clip-path=\"url(#clip830)\" d=\"M 0 0 M127.802 233.344 Q124.191 233.344 122.362 236.909 Q120.556 240.451 120.556 247.58 Q120.556 254.687 122.362 258.252 Q124.191 261.793 127.802 261.793 Q131.436 261.793 133.242 258.252 Q135.07 254.687 135.07 247.58 Q135.07 240.451 133.242 236.909 Q131.436 233.344 127.802 233.344 M127.802 229.641 Q133.612 229.641 136.667 234.247 Q139.746 238.831 139.746 247.58 Q139.746 256.307 136.667 260.914 Q133.612 265.497 127.802 265.497 Q121.992 265.497 118.913 260.914 Q115.857 256.307 115.857 247.58 Q115.857 238.831 118.913 234.247 Q121.992 229.641 127.802 229.641 Z\" fill=\"#000000\" fill-rule=\"evenodd\" fill-opacity=\"1\" /><path clip-path=\"url(#clip830)\" d=\"M 0 0 M144.816 258.946 L149.7 258.946 L149.7 264.826 L144.816 264.826 L144.816 258.946 Z\" fill=\"#000000\" fill-rule=\"evenodd\" fill-opacity=\"1\" /><path clip-path=\"url(#clip830)\" d=\"M 0 0 M164.769 233.344 Q161.158 233.344 159.329 236.909 Q157.524 240.451 157.524 247.58 Q157.524 254.687 159.329 258.252 Q161.158 261.793 164.769 261.793 Q168.403 261.793 170.209 258.252 Q172.038 254.687 172.038 247.58 Q172.038 240.451 170.209 236.909 Q168.403 233.344 164.769 233.344 M164.769 229.641 Q170.579 229.641 173.635 234.247 Q176.714 238.831 176.714 247.58 Q176.714 256.307 173.635 260.914 Q170.579 265.497 164.769 265.497 Q158.959 265.497 155.88 260.914 Q152.825 256.307 152.825 247.58 Q152.825 238.831 155.88 234.247 Q158.959 229.641 164.769 229.641 Z\" fill=\"#000000\" fill-rule=\"evenodd\" fill-opacity=\"1\" /><path clip-path=\"url(#clip830)\" d=\"M 0 0 M191.783 233.344 Q188.172 233.344 186.343 236.909 Q184.538 240.451 184.538 247.58 Q184.538 254.687 186.343 258.252 Q188.172 261.793 191.783 261.793 Q195.417 261.793 197.223 258.252 Q199.051 254.687 199.051 247.58 Q199.051 240.451 197.223 236.909 Q195.417 233.344 191.783 233.344 M191.783 229.641 Q197.593 229.641 200.649 234.247 Q203.727 238.831 203.727 247.58 Q203.727 256.307 200.649 260.914 Q197.593 265.497 191.783 265.497 Q185.973 265.497 182.894 260.914 Q179.839 256.307 179.839 247.58 Q179.839 238.831 182.894 234.247 Q185.973 229.641 191.783 229.641 Z\" fill=\"#000000\" fill-rule=\"evenodd\" fill-opacity=\"1\" /><path clip-path=\"url(#clip830)\" d=\"M 0 0 M212.824 260.891 L229.144 260.891 L229.144 264.826 L207.199 264.826 L207.199 260.891 Q209.861 258.136 214.445 253.506 Q219.051 248.854 220.232 247.511 Q222.477 244.988 223.357 243.252 Q224.26 241.493 224.26 239.803 Q224.26 237.048 222.315 235.312 Q220.394 233.576 217.292 233.576 Q215.093 233.576 212.639 234.34 Q210.209 235.104 207.431 236.655 L207.431 231.932 Q210.255 230.798 212.709 230.219 Q215.162 229.641 217.199 229.641 Q222.57 229.641 225.764 232.326 Q228.959 235.011 228.959 239.502 Q228.959 241.631 228.148 243.553 Q227.361 245.451 225.255 248.043 Q224.676 248.715 221.574 251.932 Q218.473 255.127 212.824 260.891 Z\" fill=\"#000000\" fill-rule=\"evenodd\" fill-opacity=\"1\" /><path clip-path=\"url(#clip830)\" d=\"M 0 0 M244.213 233.344 Q240.602 233.344 238.773 236.909 Q236.968 240.451 236.968 247.58 Q236.968 254.687 238.773 258.252 Q240.602 261.793 244.213 261.793 Q247.847 261.793 249.653 258.252 Q251.482 254.687 251.482 247.58 Q251.482 240.451 249.653 236.909 Q247.847 233.344 244.213 233.344 M244.213 229.641 Q250.023 229.641 253.079 234.247 Q256.158 238.831 256.158 247.58 Q256.158 256.307 253.079 260.914 Q250.023 265.497 244.213 265.497 Q238.403 265.497 235.324 260.914 Q232.269 256.307 232.269 247.58 Q232.269 238.831 235.324 234.247 Q238.403 229.641 244.213 229.641 Z\" fill=\"#000000\" fill-rule=\"evenodd\" fill-opacity=\"1\" /><path clip-path=\"url(#clip830)\" d=\"M 0 0 M44.8447 932.517 Q44.8447 939.519 50.0645 943.657 Q55.2844 947.763 64.2919 947.763 Q73.2675 947.763 78.4874 943.657 Q83.7073 939.519 83.7073 932.517 Q83.7073 925.515 78.4874 921.441 Q73.2675 917.335 64.2919 917.335 Q55.2844 917.335 50.0645 921.441 Q44.8447 925.515 44.8447 932.517 M39.6248 932.517 Q39.6248 922.523 46.3406 916.539 Q53.0246 910.555 64.2919 910.555 Q75.5274 910.555 82.2432 916.539 Q88.9272 922.523 88.9272 932.517 Q88.9272 942.543 82.2432 948.559 Q75.5592 954.542 64.2919 954.542 Q53.0246 954.542 46.3406 948.559 Q39.6248 942.543 39.6248 932.517 Z\" fill=\"#000000\" fill-rule=\"evenodd\" fill-opacity=\"1\" /><path clip-path=\"url(#clip830)\" d=\"M 0 0 M82.657 898.747 L101.563 898.747 L101.563 904.635 L52.3562 904.635 L52.3562 898.747 L57.7671 898.747 Q54.5842 896.901 53.0564 894.1 Q51.4968 891.267 51.4968 887.352 Q51.4968 880.859 56.6531 876.817 Q61.8093 872.743 70.212 872.743 Q78.6147 872.743 83.771 876.817 Q88.9272 880.859 88.9272 887.352 Q88.9272 891.267 87.3994 894.1 Q85.8398 896.901 82.657 898.747 M70.212 878.822 Q63.7508 878.822 60.0905 881.496 Q56.3984 884.138 56.3984 888.785 Q56.3984 893.432 60.0905 896.105 Q63.7508 898.747 70.212 898.747 Q76.6732 898.747 80.3653 896.105 Q84.0256 893.432 84.0256 888.785 Q84.0256 884.138 80.3653 881.496 Q76.6732 878.822 70.212 878.822 Z\" fill=\"#000000\" fill-rule=\"evenodd\" fill-opacity=\"1\" /><path clip-path=\"url(#clip830)\" d=\"M 0 0 M68.7161 836.108 L71.5806 836.108 L71.5806 863.035 Q77.6281 862.653 80.8109 859.407 Q83.9619 856.129 83.9619 850.304 Q83.9619 846.93 83.1344 843.779 Q82.3069 840.596 80.6518 837.477 L86.1899 837.477 Q87.5267 840.628 88.227 843.938 Q88.9272 847.248 88.9272 850.654 Q88.9272 859.184 83.9619 864.181 Q78.9967 869.146 70.5303 869.146 Q61.7774 869.146 56.6531 864.436 Q51.4968 859.693 51.4968 851.673 Q51.4968 844.479 56.1438 840.31 Q60.7589 836.108 68.7161 836.108 M66.9973 841.965 Q62.1912 842.029 59.3266 844.67 Q56.4621 847.28 56.4621 851.609 Q56.4621 856.511 59.2312 859.471 Q62.0002 862.399 67.0292 862.844 L66.9973 841.965 Z\" fill=\"#000000\" fill-rule=\"evenodd\" fill-opacity=\"1\" /><path clip-path=\"url(#clip830)\" d=\"M 0 0 M57.8307 809.309 Q57.2578 810.295 57.0032 811.473 Q56.7167 812.619 56.7167 814.019 Q56.7167 818.985 59.9632 821.658 Q63.1779 824.3 69.2253 824.3 L88.0042 824.3 L88.0042 830.188 L52.3562 830.188 L52.3562 824.3 L57.8944 824.3 Q54.6479 822.454 53.0883 819.494 Q51.4968 816.534 51.4968 812.301 Q51.4968 811.696 51.5923 810.964 Q51.656 810.232 51.8151 809.341 L57.8307 809.309 Z\" fill=\"#000000\" fill-rule=\"evenodd\" fill-opacity=\"1\" /><path clip-path=\"url(#clip830)\" d=\"M 0 0 M70.0847 786.965 Q70.0847 794.063 71.7079 796.8 Q73.3312 799.537 77.2461 799.537 Q80.3653 799.537 82.2114 797.5 Q84.0256 795.432 84.0256 791.899 Q84.0256 787.029 80.5881 784.101 Q77.1188 781.141 71.3897 781.141 L70.0847 781.141 L70.0847 786.965 M67.6657 775.284 L88.0042 775.284 L88.0042 781.141 L82.5933 781.141 Q85.8398 783.146 87.3994 786.138 Q88.9272 789.13 88.9272 793.458 Q88.9272 798.933 85.8716 802.179 Q82.7843 805.394 77.6281 805.394 Q71.6125 805.394 68.5569 801.383 Q65.5014 797.341 65.5014 789.352 L65.5014 781.141 L64.9285 781.141 Q60.8862 781.141 58.6901 783.814 Q56.4621 786.456 56.4621 791.262 Q56.4621 794.318 57.1941 797.214 Q57.9262 800.11 59.3903 802.784 L53.9795 802.784 Q52.7381 799.569 52.1334 796.546 Q51.4968 793.522 51.4968 790.657 Q51.4968 782.923 55.5072 779.104 Q59.5176 775.284 67.6657 775.284 Z\" fill=\"#000000\" fill-rule=\"evenodd\" fill-opacity=\"1\" /><path clip-path=\"url(#clip830)\" d=\"M 0 0 M42.2347 763.348 L52.3562 763.348 L52.3562 751.285 L56.9077 751.285 L56.9077 763.348 L76.2594 763.348 Q80.6199 763.348 81.8613 762.171 Q83.1026 760.961 83.1026 757.301 L83.1026 751.285 L88.0042 751.285 L88.0042 757.301 Q88.0042 764.08 85.4897 766.659 Q82.9434 769.237 76.2594 769.237 L56.9077 769.237 L56.9077 773.534 L52.3562 773.534 L52.3562 769.237 L42.2347 769.237 L42.2347 763.348 Z\" fill=\"#000000\" fill-rule=\"evenodd\" fill-opacity=\"1\" /><path clip-path=\"url(#clip830)\" d=\"M 0 0 M52.3562 745.142 L52.3562 739.286 L88.0042 739.286 L88.0042 745.142 L52.3562 745.142 M38.479 745.142 L38.479 739.286 L45.895 739.286 L45.895 745.142 L38.479 745.142 Z\" fill=\"#000000\" fill-rule=\"evenodd\" fill-opacity=\"1\" /><path clip-path=\"url(#clip830)\" d=\"M 0 0 M56.4621 719.33 Q56.4621 724.04 60.1542 726.777 Q63.8145 729.515 70.212 729.515 Q76.6095 729.515 80.3017 726.809 Q83.9619 724.072 83.9619 719.33 Q83.9619 714.651 80.2698 711.913 Q76.5777 709.176 70.212 709.176 Q63.8781 709.176 60.186 711.913 Q56.4621 714.651 56.4621 719.33 M51.4968 719.33 Q51.4968 711.691 56.4621 707.33 Q61.4273 702.97 70.212 702.97 Q78.9649 702.97 83.9619 707.33 Q88.9272 711.691 88.9272 719.33 Q88.9272 727 83.9619 731.361 Q78.9649 735.689 70.212 735.689 Q61.4273 735.689 56.4621 731.361 Q51.4968 727 51.4968 719.33 Z\" fill=\"#000000\" fill-rule=\"evenodd\" fill-opacity=\"1\" /><path clip-path=\"url(#clip830)\" d=\"M 0 0 M66.4881 667.194 L88.0042 667.194 L88.0042 673.051 L66.679 673.051 Q61.6183 673.051 59.1038 675.024 Q56.5894 676.998 56.5894 680.944 Q56.5894 685.687 59.6131 688.424 Q62.6368 691.161 67.8567 691.161 L88.0042 691.161 L88.0042 697.05 L52.3562 697.05 L52.3562 691.161 L57.8944 691.161 Q54.6797 689.061 53.0883 686.228 Q51.4968 683.363 51.4968 679.639 Q51.4968 673.496 55.3163 670.345 Q59.1038 667.194 66.4881 667.194 Z\" fill=\"#000000\" fill-rule=\"evenodd\" fill-opacity=\"1\" /><path clip-path=\"url(#clip830)\" d=\"M 0 0 M42.2347 634.538 L52.3562 634.538 L52.3562 622.475 L56.9077 622.475 L56.9077 634.538 L76.2594 634.538 Q80.6199 634.538 81.8613 633.361 Q83.1026 632.151 83.1026 628.491 L83.1026 622.475 L88.0042 622.475 L88.0042 628.491 Q88.0042 635.27 85.4897 637.848 Q82.9434 640.427 76.2594 640.427 L56.9077 640.427 L56.9077 644.723 L52.3562 644.723 L52.3562 640.427 L42.2347 640.427 L42.2347 634.538 Z\" fill=\"#000000\" fill-rule=\"evenodd\" fill-opacity=\"1\" /><path clip-path=\"url(#clip830)\" d=\"M 0 0 M52.3562 616.332 L52.3562 610.476 L88.0042 610.476 L88.0042 616.332 L52.3562 616.332 M38.479 616.332 L38.479 610.476 L45.895 610.476 L45.895 616.332 L38.479 616.332 Z\" fill=\"#000000\" fill-rule=\"evenodd\" fill-opacity=\"1\" /><path clip-path=\"url(#clip830)\" d=\"M 0 0 M59.1993 576.579 Q55.2526 574.382 53.3747 571.327 Q51.4968 568.271 51.4968 564.134 Q51.4968 558.564 55.4117 555.54 Q59.2948 552.516 66.4881 552.516 L88.0042 552.516 L88.0042 558.404 L66.679 558.404 Q61.5546 558.404 59.072 560.219 Q56.5894 562.033 56.5894 565.757 Q56.5894 570.308 59.6131 572.95 Q62.6368 575.592 67.8567 575.592 L88.0042 575.592 L88.0042 581.48 L66.679 581.48 Q61.5228 581.48 59.072 583.294 Q56.5894 585.109 56.5894 588.896 Q56.5894 593.384 59.6449 596.026 Q62.6686 598.668 67.8567 598.668 L88.0042 598.668 L88.0042 604.556 L52.3562 604.556 L52.3562 598.668 L57.8944 598.668 Q54.616 596.662 53.0564 593.861 Q51.4968 591.061 51.4968 587.209 Q51.4968 583.326 53.4702 580.621 Q55.4436 577.884 59.1993 576.579 Z\" fill=\"#000000\" fill-rule=\"evenodd\" fill-opacity=\"1\" /><path clip-path=\"url(#clip830)\" d=\"M 0 0 M68.7161 515.882 L71.5806 515.882 L71.5806 542.808 Q77.6281 542.427 80.8109 539.18 Q83.9619 535.902 83.9619 530.077 Q83.9619 526.703 83.1344 523.552 Q82.3069 520.369 80.6518 517.25 L86.1899 517.25 Q87.5267 520.401 88.227 523.711 Q88.9272 527.022 88.9272 530.427 Q88.9272 538.957 83.9619 543.954 Q78.9967 548.92 70.5303 548.92 Q61.7774 548.92 56.6531 544.209 Q51.4968 539.466 51.4968 531.446 Q51.4968 524.252 56.1438 520.083 Q60.7589 515.882 68.7161 515.882 M66.9973 521.738 Q62.1912 521.802 59.3266 524.443 Q56.4621 527.053 56.4621 531.382 Q56.4621 536.284 59.2312 539.244 Q62.0002 542.172 67.0292 542.618 L66.9973 521.738 Z\" fill=\"#000000\" fill-rule=\"evenodd\" fill-opacity=\"1\" /><polyline clip-path=\"url(#clip832)\" style=\"stroke:#000000; stroke-width:4; stroke-opacity:1; fill:none\" points=\"\n",
       "  350.476,1384.24 350.476,1381.54 \n",
       "  \"/>\n",
       "<polyline clip-path=\"url(#clip832)\" style=\"stroke:#000000; stroke-width:4; stroke-opacity:1; fill:none\" points=\"\n",
       "  566.472,1383.04 566.472,1382.59 \n",
       "  \"/>\n",
       "<polyline clip-path=\"url(#clip832)\" style=\"stroke:#000000; stroke-width:4; stroke-opacity:1; fill:none\" points=\"\n",
       "  782.468,1382.23 782.468,1381.22 \n",
       "  \"/>\n",
       "<polyline clip-path=\"url(#clip832)\" style=\"stroke:#000000; stroke-width:4; stroke-opacity:1; fill:none\" points=\"\n",
       "  998.463,1380.76 998.463,1380.34 \n",
       "  \"/>\n",
       "<polyline clip-path=\"url(#clip832)\" style=\"stroke:#000000; stroke-width:4; stroke-opacity:1; fill:none\" points=\"\n",
       "  1214.46,1378.97 1214.46,1377.59 \n",
       "  \"/>\n",
       "<polyline clip-path=\"url(#clip832)\" style=\"stroke:#000000; stroke-width:4; stroke-opacity:1; fill:none\" points=\"\n",
       "  1430.45,1376.42 1430.45,1375.75 \n",
       "  \"/>\n",
       "<polyline clip-path=\"url(#clip832)\" style=\"stroke:#000000; stroke-width:4; stroke-opacity:1; fill:none\" points=\"\n",
       "  1646.45,1372.45 1646.45,1356.15 \n",
       "  \"/>\n",
       "<polyline clip-path=\"url(#clip832)\" style=\"stroke:#000000; stroke-width:4; stroke-opacity:1; fill:none\" points=\"\n",
       "  1862.45,1365.54 1862.45,1362.83 \n",
       "  \"/>\n",
       "<polyline clip-path=\"url(#clip832)\" style=\"stroke:#000000; stroke-width:4; stroke-opacity:1; fill:none\" points=\"\n",
       "  2078.44,1360.03 2078.44,1353.8 \n",
       "  \"/>\n",
       "<polyline clip-path=\"url(#clip832)\" style=\"stroke:#000000; stroke-width:4; stroke-opacity:1; fill:none\" points=\"\n",
       "  2294.44,1361.09 2294.44,1358.17 \n",
       "  \"/>\n",
       "<line clip-path=\"url(#clip832)\" x1=\"366.476\" y1=\"1384.24\" x2=\"334.476\" y2=\"1384.24\" style=\"stroke:#000000; stroke-width:3.2; stroke-opacity:1\"/>\n",
       "<line clip-path=\"url(#clip832)\" x1=\"366.476\" y1=\"1381.54\" x2=\"334.476\" y2=\"1381.54\" style=\"stroke:#000000; stroke-width:3.2; stroke-opacity:1\"/>\n",
       "<line clip-path=\"url(#clip832)\" x1=\"582.472\" y1=\"1383.04\" x2=\"550.472\" y2=\"1383.04\" style=\"stroke:#000000; stroke-width:3.2; stroke-opacity:1\"/>\n",
       "<line clip-path=\"url(#clip832)\" x1=\"582.472\" y1=\"1382.59\" x2=\"550.472\" y2=\"1382.59\" style=\"stroke:#000000; stroke-width:3.2; stroke-opacity:1\"/>\n",
       "<line clip-path=\"url(#clip832)\" x1=\"798.468\" y1=\"1382.23\" x2=\"766.468\" y2=\"1382.23\" style=\"stroke:#000000; stroke-width:3.2; stroke-opacity:1\"/>\n",
       "<line clip-path=\"url(#clip832)\" x1=\"798.468\" y1=\"1381.22\" x2=\"766.468\" y2=\"1381.22\" style=\"stroke:#000000; stroke-width:3.2; stroke-opacity:1\"/>\n",
       "<line clip-path=\"url(#clip832)\" x1=\"1014.46\" y1=\"1380.76\" x2=\"982.463\" y2=\"1380.76\" style=\"stroke:#000000; stroke-width:3.2; stroke-opacity:1\"/>\n",
       "<line clip-path=\"url(#clip832)\" x1=\"1014.46\" y1=\"1380.34\" x2=\"982.463\" y2=\"1380.34\" style=\"stroke:#000000; stroke-width:3.2; stroke-opacity:1\"/>\n",
       "<line clip-path=\"url(#clip832)\" x1=\"1230.46\" y1=\"1378.97\" x2=\"1198.46\" y2=\"1378.97\" style=\"stroke:#000000; stroke-width:3.2; stroke-opacity:1\"/>\n",
       "<line clip-path=\"url(#clip832)\" x1=\"1230.46\" y1=\"1377.59\" x2=\"1198.46\" y2=\"1377.59\" style=\"stroke:#000000; stroke-width:3.2; stroke-opacity:1\"/>\n",
       "<line clip-path=\"url(#clip832)\" x1=\"1446.45\" y1=\"1376.42\" x2=\"1414.45\" y2=\"1376.42\" style=\"stroke:#000000; stroke-width:3.2; stroke-opacity:1\"/>\n",
       "<line clip-path=\"url(#clip832)\" x1=\"1446.45\" y1=\"1375.75\" x2=\"1414.45\" y2=\"1375.75\" style=\"stroke:#000000; stroke-width:3.2; stroke-opacity:1\"/>\n",
       "<line clip-path=\"url(#clip832)\" x1=\"1662.45\" y1=\"1372.45\" x2=\"1630.45\" y2=\"1372.45\" style=\"stroke:#000000; stroke-width:3.2; stroke-opacity:1\"/>\n",
       "<line clip-path=\"url(#clip832)\" x1=\"1662.45\" y1=\"1356.15\" x2=\"1630.45\" y2=\"1356.15\" style=\"stroke:#000000; stroke-width:3.2; stroke-opacity:1\"/>\n",
       "<line clip-path=\"url(#clip832)\" x1=\"1878.45\" y1=\"1365.54\" x2=\"1846.45\" y2=\"1365.54\" style=\"stroke:#000000; stroke-width:3.2; stroke-opacity:1\"/>\n",
       "<line clip-path=\"url(#clip832)\" x1=\"1878.45\" y1=\"1362.83\" x2=\"1846.45\" y2=\"1362.83\" style=\"stroke:#000000; stroke-width:3.2; stroke-opacity:1\"/>\n",
       "<line clip-path=\"url(#clip832)\" x1=\"2094.44\" y1=\"1360.03\" x2=\"2062.44\" y2=\"1360.03\" style=\"stroke:#000000; stroke-width:3.2; stroke-opacity:1\"/>\n",
       "<line clip-path=\"url(#clip832)\" x1=\"2094.44\" y1=\"1353.8\" x2=\"2062.44\" y2=\"1353.8\" style=\"stroke:#000000; stroke-width:3.2; stroke-opacity:1\"/>\n",
       "<line clip-path=\"url(#clip832)\" x1=\"2310.44\" y1=\"1361.09\" x2=\"2278.44\" y2=\"1361.09\" style=\"stroke:#000000; stroke-width:3.2; stroke-opacity:1\"/>\n",
       "<line clip-path=\"url(#clip832)\" x1=\"2310.44\" y1=\"1358.17\" x2=\"2278.44\" y2=\"1358.17\" style=\"stroke:#000000; stroke-width:3.2; stroke-opacity:1\"/>\n",
       "<circle clip-path=\"url(#clip832)\" cx=\"350.476\" cy=\"1382.89\" r=\"14\" fill=\"#ff0000\" fill-rule=\"evenodd\" fill-opacity=\"1\" stroke=\"#000000\" stroke-opacity=\"1\" stroke-width=\"3.2\"/>\n",
       "<circle clip-path=\"url(#clip832)\" cx=\"566.472\" cy=\"1382.82\" r=\"14\" fill=\"#ff0000\" fill-rule=\"evenodd\" fill-opacity=\"1\" stroke=\"#000000\" stroke-opacity=\"1\" stroke-width=\"3.2\"/>\n",
       "<circle clip-path=\"url(#clip832)\" cx=\"782.468\" cy=\"1381.73\" r=\"14\" fill=\"#ff0000\" fill-rule=\"evenodd\" fill-opacity=\"1\" stroke=\"#000000\" stroke-opacity=\"1\" stroke-width=\"3.2\"/>\n",
       "<circle clip-path=\"url(#clip832)\" cx=\"998.463\" cy=\"1380.55\" r=\"14\" fill=\"#ff0000\" fill-rule=\"evenodd\" fill-opacity=\"1\" stroke=\"#000000\" stroke-opacity=\"1\" stroke-width=\"3.2\"/>\n",
       "<circle clip-path=\"url(#clip832)\" cx=\"1214.46\" cy=\"1378.28\" r=\"14\" fill=\"#ff0000\" fill-rule=\"evenodd\" fill-opacity=\"1\" stroke=\"#000000\" stroke-opacity=\"1\" stroke-width=\"3.2\"/>\n",
       "<circle clip-path=\"url(#clip832)\" cx=\"1430.45\" cy=\"1376.09\" r=\"14\" fill=\"#ff0000\" fill-rule=\"evenodd\" fill-opacity=\"1\" stroke=\"#000000\" stroke-opacity=\"1\" stroke-width=\"3.2\"/>\n",
       "<circle clip-path=\"url(#clip832)\" cx=\"1646.45\" cy=\"1364.3\" r=\"14\" fill=\"#ff0000\" fill-rule=\"evenodd\" fill-opacity=\"1\" stroke=\"#000000\" stroke-opacity=\"1\" stroke-width=\"3.2\"/>\n",
       "<circle clip-path=\"url(#clip832)\" cx=\"1862.45\" cy=\"1364.18\" r=\"14\" fill=\"#ff0000\" fill-rule=\"evenodd\" fill-opacity=\"1\" stroke=\"#000000\" stroke-opacity=\"1\" stroke-width=\"3.2\"/>\n",
       "<circle clip-path=\"url(#clip832)\" cx=\"2078.44\" cy=\"1356.91\" r=\"14\" fill=\"#ff0000\" fill-rule=\"evenodd\" fill-opacity=\"1\" stroke=\"#000000\" stroke-opacity=\"1\" stroke-width=\"3.2\"/>\n",
       "<circle clip-path=\"url(#clip832)\" cx=\"2294.44\" cy=\"1359.63\" r=\"14\" fill=\"#ff0000\" fill-rule=\"evenodd\" fill-opacity=\"1\" stroke=\"#000000\" stroke-opacity=\"1\" stroke-width=\"3.2\"/>\n",
       "<polyline clip-path=\"url(#clip832)\" style=\"stroke:#000000; stroke-width:4; stroke-opacity:1; fill:none\" points=\"\n",
       "  350.476,1383.3 350.476,1382.6 \n",
       "  \"/>\n",
       "<polyline clip-path=\"url(#clip832)\" style=\"stroke:#000000; stroke-width:4; stroke-opacity:1; fill:none\" points=\"\n",
       "  566.472,1379.08 566.472,1378.91 \n",
       "  \"/>\n",
       "<polyline clip-path=\"url(#clip832)\" style=\"stroke:#000000; stroke-width:4; stroke-opacity:1; fill:none\" points=\"\n",
       "  782.468,1369.87 782.468,1369.67 \n",
       "  \"/>\n",
       "<polyline clip-path=\"url(#clip832)\" style=\"stroke:#000000; stroke-width:4; stroke-opacity:1; fill:none\" points=\"\n",
       "  998.463,1352.69 998.463,1352.36 \n",
       "  \"/>\n",
       "<polyline clip-path=\"url(#clip832)\" style=\"stroke:#000000; stroke-width:4; stroke-opacity:1; fill:none\" points=\"\n",
       "  1214.46,1326.06 1214.46,1324.88 \n",
       "  \"/>\n",
       "<polyline clip-path=\"url(#clip832)\" style=\"stroke:#000000; stroke-width:4; stroke-opacity:1; fill:none\" points=\"\n",
       "  1430.45,1261.37 1430.45,1112.52 \n",
       "  \"/>\n",
       "<polyline clip-path=\"url(#clip832)\" style=\"stroke:#000000; stroke-width:4; stroke-opacity:1; fill:none\" points=\"\n",
       "  1646.45,981.197 1646.45,976.102 \n",
       "  \"/>\n",
       "<polyline clip-path=\"url(#clip832)\" style=\"stroke:#000000; stroke-width:4; stroke-opacity:1; fill:none\" points=\"\n",
       "  1862.45,782.236 1862.45,777.355 \n",
       "  \"/>\n",
       "<polyline clip-path=\"url(#clip832)\" style=\"stroke:#000000; stroke-width:4; stroke-opacity:1; fill:none\" points=\"\n",
       "  2078.44,529.59 2078.44,526.24 \n",
       "  \"/>\n",
       "<polyline clip-path=\"url(#clip832)\" style=\"stroke:#000000; stroke-width:4; stroke-opacity:1; fill:none\" points=\"\n",
       "  2294.44,210.643 2294.44,205.535 \n",
       "  \"/>\n",
       "<line clip-path=\"url(#clip832)\" x1=\"366.476\" y1=\"1383.3\" x2=\"334.476\" y2=\"1383.3\" style=\"stroke:#000000; stroke-width:3.2; stroke-opacity:1\"/>\n",
       "<line clip-path=\"url(#clip832)\" x1=\"366.476\" y1=\"1382.6\" x2=\"334.476\" y2=\"1382.6\" style=\"stroke:#000000; stroke-width:3.2; stroke-opacity:1\"/>\n",
       "<line clip-path=\"url(#clip832)\" x1=\"582.472\" y1=\"1379.08\" x2=\"550.472\" y2=\"1379.08\" style=\"stroke:#000000; stroke-width:3.2; stroke-opacity:1\"/>\n",
       "<line clip-path=\"url(#clip832)\" x1=\"582.472\" y1=\"1378.91\" x2=\"550.472\" y2=\"1378.91\" style=\"stroke:#000000; stroke-width:3.2; stroke-opacity:1\"/>\n",
       "<line clip-path=\"url(#clip832)\" x1=\"798.468\" y1=\"1369.87\" x2=\"766.468\" y2=\"1369.87\" style=\"stroke:#000000; stroke-width:3.2; stroke-opacity:1\"/>\n",
       "<line clip-path=\"url(#clip832)\" x1=\"798.468\" y1=\"1369.67\" x2=\"766.468\" y2=\"1369.67\" style=\"stroke:#000000; stroke-width:3.2; stroke-opacity:1\"/>\n",
       "<line clip-path=\"url(#clip832)\" x1=\"1014.46\" y1=\"1352.69\" x2=\"982.463\" y2=\"1352.69\" style=\"stroke:#000000; stroke-width:3.2; stroke-opacity:1\"/>\n",
       "<line clip-path=\"url(#clip832)\" x1=\"1014.46\" y1=\"1352.36\" x2=\"982.463\" y2=\"1352.36\" style=\"stroke:#000000; stroke-width:3.2; stroke-opacity:1\"/>\n",
       "<line clip-path=\"url(#clip832)\" x1=\"1230.46\" y1=\"1326.06\" x2=\"1198.46\" y2=\"1326.06\" style=\"stroke:#000000; stroke-width:3.2; stroke-opacity:1\"/>\n",
       "<line clip-path=\"url(#clip832)\" x1=\"1230.46\" y1=\"1324.88\" x2=\"1198.46\" y2=\"1324.88\" style=\"stroke:#000000; stroke-width:3.2; stroke-opacity:1\"/>\n",
       "<line clip-path=\"url(#clip832)\" x1=\"1446.45\" y1=\"1261.37\" x2=\"1414.45\" y2=\"1261.37\" style=\"stroke:#000000; stroke-width:3.2; stroke-opacity:1\"/>\n",
       "<line clip-path=\"url(#clip832)\" x1=\"1446.45\" y1=\"1112.52\" x2=\"1414.45\" y2=\"1112.52\" style=\"stroke:#000000; stroke-width:3.2; stroke-opacity:1\"/>\n",
       "<line clip-path=\"url(#clip832)\" x1=\"1662.45\" y1=\"981.197\" x2=\"1630.45\" y2=\"981.197\" style=\"stroke:#000000; stroke-width:3.2; stroke-opacity:1\"/>\n",
       "<line clip-path=\"url(#clip832)\" x1=\"1662.45\" y1=\"976.102\" x2=\"1630.45\" y2=\"976.102\" style=\"stroke:#000000; stroke-width:3.2; stroke-opacity:1\"/>\n",
       "<line clip-path=\"url(#clip832)\" x1=\"1878.45\" y1=\"782.236\" x2=\"1846.45\" y2=\"782.236\" style=\"stroke:#000000; stroke-width:3.2; stroke-opacity:1\"/>\n",
       "<line clip-path=\"url(#clip832)\" x1=\"1878.45\" y1=\"777.355\" x2=\"1846.45\" y2=\"777.355\" style=\"stroke:#000000; stroke-width:3.2; stroke-opacity:1\"/>\n",
       "<line clip-path=\"url(#clip832)\" x1=\"2094.44\" y1=\"529.59\" x2=\"2062.44\" y2=\"529.59\" style=\"stroke:#000000; stroke-width:3.2; stroke-opacity:1\"/>\n",
       "<line clip-path=\"url(#clip832)\" x1=\"2094.44\" y1=\"526.24\" x2=\"2062.44\" y2=\"526.24\" style=\"stroke:#000000; stroke-width:3.2; stroke-opacity:1\"/>\n",
       "<line clip-path=\"url(#clip832)\" x1=\"2310.44\" y1=\"210.643\" x2=\"2278.44\" y2=\"210.643\" style=\"stroke:#000000; stroke-width:3.2; stroke-opacity:1\"/>\n",
       "<line clip-path=\"url(#clip832)\" x1=\"2310.44\" y1=\"205.535\" x2=\"2278.44\" y2=\"205.535\" style=\"stroke:#000000; stroke-width:3.2; stroke-opacity:1\"/>\n",
       "<circle clip-path=\"url(#clip832)\" cx=\"350.476\" cy=\"1382.95\" r=\"14\" fill=\"#0000ff\" fill-rule=\"evenodd\" fill-opacity=\"1\" stroke=\"#000000\" stroke-opacity=\"1\" stroke-width=\"3.2\"/>\n",
       "<circle clip-path=\"url(#clip832)\" cx=\"566.472\" cy=\"1379\" r=\"14\" fill=\"#0000ff\" fill-rule=\"evenodd\" fill-opacity=\"1\" stroke=\"#000000\" stroke-opacity=\"1\" stroke-width=\"3.2\"/>\n",
       "<circle clip-path=\"url(#clip832)\" cx=\"782.468\" cy=\"1369.77\" r=\"14\" fill=\"#0000ff\" fill-rule=\"evenodd\" fill-opacity=\"1\" stroke=\"#000000\" stroke-opacity=\"1\" stroke-width=\"3.2\"/>\n",
       "<circle clip-path=\"url(#clip832)\" cx=\"998.463\" cy=\"1352.53\" r=\"14\" fill=\"#0000ff\" fill-rule=\"evenodd\" fill-opacity=\"1\" stroke=\"#000000\" stroke-opacity=\"1\" stroke-width=\"3.2\"/>\n",
       "<circle clip-path=\"url(#clip832)\" cx=\"1214.46\" cy=\"1325.47\" r=\"14\" fill=\"#0000ff\" fill-rule=\"evenodd\" fill-opacity=\"1\" stroke=\"#000000\" stroke-opacity=\"1\" stroke-width=\"3.2\"/>\n",
       "<circle clip-path=\"url(#clip832)\" cx=\"1430.45\" cy=\"1186.95\" r=\"14\" fill=\"#0000ff\" fill-rule=\"evenodd\" fill-opacity=\"1\" stroke=\"#000000\" stroke-opacity=\"1\" stroke-width=\"3.2\"/>\n",
       "<circle clip-path=\"url(#clip832)\" cx=\"1646.45\" cy=\"978.65\" r=\"14\" fill=\"#0000ff\" fill-rule=\"evenodd\" fill-opacity=\"1\" stroke=\"#000000\" stroke-opacity=\"1\" stroke-width=\"3.2\"/>\n",
       "<circle clip-path=\"url(#clip832)\" cx=\"1862.45\" cy=\"779.796\" r=\"14\" fill=\"#0000ff\" fill-rule=\"evenodd\" fill-opacity=\"1\" stroke=\"#000000\" stroke-opacity=\"1\" stroke-width=\"3.2\"/>\n",
       "<circle clip-path=\"url(#clip832)\" cx=\"2078.44\" cy=\"527.915\" r=\"14\" fill=\"#0000ff\" fill-rule=\"evenodd\" fill-opacity=\"1\" stroke=\"#000000\" stroke-opacity=\"1\" stroke-width=\"3.2\"/>\n",
       "<circle clip-path=\"url(#clip832)\" cx=\"2294.44\" cy=\"208.089\" r=\"14\" fill=\"#0000ff\" fill-rule=\"evenodd\" fill-opacity=\"1\" stroke=\"#000000\" stroke-opacity=\"1\" stroke-width=\"3.2\"/>\n",
       "<polyline clip-path=\"url(#clip832)\" style=\"stroke:#000000; stroke-width:4; stroke-opacity:1; fill:none\" points=\"\n",
       "  350.476,1382.99 350.476,1382.33 \n",
       "  \"/>\n",
       "<polyline clip-path=\"url(#clip832)\" style=\"stroke:#000000; stroke-width:4; stroke-opacity:1; fill:none\" points=\"\n",
       "  566.472,1376.33 566.472,1376.15 \n",
       "  \"/>\n",
       "<polyline clip-path=\"url(#clip832)\" style=\"stroke:#000000; stroke-width:4; stroke-opacity:1; fill:none\" points=\"\n",
       "  782.468,1358.27 782.468,1358.15 \n",
       "  \"/>\n",
       "<polyline clip-path=\"url(#clip832)\" style=\"stroke:#000000; stroke-width:4; stroke-opacity:1; fill:none\" points=\"\n",
       "  998.463,1316.86 998.463,1316.73 \n",
       "  \"/>\n",
       "<polyline clip-path=\"url(#clip832)\" style=\"stroke:#000000; stroke-width:4; stroke-opacity:1; fill:none\" points=\"\n",
       "  1214.46,1244.95 1214.46,1241.23 \n",
       "  \"/>\n",
       "<polyline clip-path=\"url(#clip832)\" style=\"stroke:#000000; stroke-width:4; stroke-opacity:1; fill:none\" points=\"\n",
       "  1430.45,1128.66 1430.45,1127.04 \n",
       "  \"/>\n",
       "<polyline clip-path=\"url(#clip832)\" style=\"stroke:#000000; stroke-width:4; stroke-opacity:1; fill:none\" points=\"\n",
       "  1646.45,967.266 1646.45,965.107 \n",
       "  \"/>\n",
       "<polyline clip-path=\"url(#clip832)\" style=\"stroke:#000000; stroke-width:4; stroke-opacity:1; fill:none\" points=\"\n",
       "  1862.45,748.341 1862.45,741.314 \n",
       "  \"/>\n",
       "<polyline clip-path=\"url(#clip832)\" style=\"stroke:#000000; stroke-width:4; stroke-opacity:1; fill:none\" points=\"\n",
       "  2078.44,463.169 2078.44,447.587 \n",
       "  \"/>\n",
       "<polyline clip-path=\"url(#clip832)\" style=\"stroke:#000000; stroke-width:4; stroke-opacity:1; fill:none\" points=\"\n",
       "  2294.44,91.9466 2294.44,86.1857 \n",
       "  \"/>\n",
       "<line clip-path=\"url(#clip832)\" x1=\"366.476\" y1=\"1382.99\" x2=\"334.476\" y2=\"1382.99\" style=\"stroke:#000000; stroke-width:3.2; stroke-opacity:1\"/>\n",
       "<line clip-path=\"url(#clip832)\" x1=\"366.476\" y1=\"1382.33\" x2=\"334.476\" y2=\"1382.33\" style=\"stroke:#000000; stroke-width:3.2; stroke-opacity:1\"/>\n",
       "<line clip-path=\"url(#clip832)\" x1=\"582.472\" y1=\"1376.33\" x2=\"550.472\" y2=\"1376.33\" style=\"stroke:#000000; stroke-width:3.2; stroke-opacity:1\"/>\n",
       "<line clip-path=\"url(#clip832)\" x1=\"582.472\" y1=\"1376.15\" x2=\"550.472\" y2=\"1376.15\" style=\"stroke:#000000; stroke-width:3.2; stroke-opacity:1\"/>\n",
       "<line clip-path=\"url(#clip832)\" x1=\"798.468\" y1=\"1358.27\" x2=\"766.468\" y2=\"1358.27\" style=\"stroke:#000000; stroke-width:3.2; stroke-opacity:1\"/>\n",
       "<line clip-path=\"url(#clip832)\" x1=\"798.468\" y1=\"1358.15\" x2=\"766.468\" y2=\"1358.15\" style=\"stroke:#000000; stroke-width:3.2; stroke-opacity:1\"/>\n",
       "<line clip-path=\"url(#clip832)\" x1=\"1014.46\" y1=\"1316.86\" x2=\"982.463\" y2=\"1316.86\" style=\"stroke:#000000; stroke-width:3.2; stroke-opacity:1\"/>\n",
       "<line clip-path=\"url(#clip832)\" x1=\"1014.46\" y1=\"1316.73\" x2=\"982.463\" y2=\"1316.73\" style=\"stroke:#000000; stroke-width:3.2; stroke-opacity:1\"/>\n",
       "<line clip-path=\"url(#clip832)\" x1=\"1230.46\" y1=\"1244.95\" x2=\"1198.46\" y2=\"1244.95\" style=\"stroke:#000000; stroke-width:3.2; stroke-opacity:1\"/>\n",
       "<line clip-path=\"url(#clip832)\" x1=\"1230.46\" y1=\"1241.23\" x2=\"1198.46\" y2=\"1241.23\" style=\"stroke:#000000; stroke-width:3.2; stroke-opacity:1\"/>\n",
       "<line clip-path=\"url(#clip832)\" x1=\"1446.45\" y1=\"1128.66\" x2=\"1414.45\" y2=\"1128.66\" style=\"stroke:#000000; stroke-width:3.2; stroke-opacity:1\"/>\n",
       "<line clip-path=\"url(#clip832)\" x1=\"1446.45\" y1=\"1127.04\" x2=\"1414.45\" y2=\"1127.04\" style=\"stroke:#000000; stroke-width:3.2; stroke-opacity:1\"/>\n",
       "<line clip-path=\"url(#clip832)\" x1=\"1662.45\" y1=\"967.266\" x2=\"1630.45\" y2=\"967.266\" style=\"stroke:#000000; stroke-width:3.2; stroke-opacity:1\"/>\n",
       "<line clip-path=\"url(#clip832)\" x1=\"1662.45\" y1=\"965.107\" x2=\"1630.45\" y2=\"965.107\" style=\"stroke:#000000; stroke-width:3.2; stroke-opacity:1\"/>\n",
       "<line clip-path=\"url(#clip832)\" x1=\"1878.45\" y1=\"748.341\" x2=\"1846.45\" y2=\"748.341\" style=\"stroke:#000000; stroke-width:3.2; stroke-opacity:1\"/>\n",
       "<line clip-path=\"url(#clip832)\" x1=\"1878.45\" y1=\"741.314\" x2=\"1846.45\" y2=\"741.314\" style=\"stroke:#000000; stroke-width:3.2; stroke-opacity:1\"/>\n",
       "<line clip-path=\"url(#clip832)\" x1=\"2094.44\" y1=\"463.169\" x2=\"2062.44\" y2=\"463.169\" style=\"stroke:#000000; stroke-width:3.2; stroke-opacity:1\"/>\n",
       "<line clip-path=\"url(#clip832)\" x1=\"2094.44\" y1=\"447.587\" x2=\"2062.44\" y2=\"447.587\" style=\"stroke:#000000; stroke-width:3.2; stroke-opacity:1\"/>\n",
       "<line clip-path=\"url(#clip832)\" x1=\"2310.44\" y1=\"91.9466\" x2=\"2278.44\" y2=\"91.9466\" style=\"stroke:#000000; stroke-width:3.2; stroke-opacity:1\"/>\n",
       "<line clip-path=\"url(#clip832)\" x1=\"2310.44\" y1=\"86.1857\" x2=\"2278.44\" y2=\"86.1857\" style=\"stroke:#000000; stroke-width:3.2; stroke-opacity:1\"/>\n",
       "<circle clip-path=\"url(#clip832)\" cx=\"350.476\" cy=\"1382.66\" r=\"14\" fill=\"#008000\" fill-rule=\"evenodd\" fill-opacity=\"1\" stroke=\"#000000\" stroke-opacity=\"1\" stroke-width=\"3.2\"/>\n",
       "<circle clip-path=\"url(#clip832)\" cx=\"566.472\" cy=\"1376.24\" r=\"14\" fill=\"#008000\" fill-rule=\"evenodd\" fill-opacity=\"1\" stroke=\"#000000\" stroke-opacity=\"1\" stroke-width=\"3.2\"/>\n",
       "<circle clip-path=\"url(#clip832)\" cx=\"782.468\" cy=\"1358.21\" r=\"14\" fill=\"#008000\" fill-rule=\"evenodd\" fill-opacity=\"1\" stroke=\"#000000\" stroke-opacity=\"1\" stroke-width=\"3.2\"/>\n",
       "<circle clip-path=\"url(#clip832)\" cx=\"998.463\" cy=\"1316.8\" r=\"14\" fill=\"#008000\" fill-rule=\"evenodd\" fill-opacity=\"1\" stroke=\"#000000\" stroke-opacity=\"1\" stroke-width=\"3.2\"/>\n",
       "<circle clip-path=\"url(#clip832)\" cx=\"1214.46\" cy=\"1243.09\" r=\"14\" fill=\"#008000\" fill-rule=\"evenodd\" fill-opacity=\"1\" stroke=\"#000000\" stroke-opacity=\"1\" stroke-width=\"3.2\"/>\n",
       "<circle clip-path=\"url(#clip832)\" cx=\"1430.45\" cy=\"1127.85\" r=\"14\" fill=\"#008000\" fill-rule=\"evenodd\" fill-opacity=\"1\" stroke=\"#000000\" stroke-opacity=\"1\" stroke-width=\"3.2\"/>\n",
       "<circle clip-path=\"url(#clip832)\" cx=\"1646.45\" cy=\"966.186\" r=\"14\" fill=\"#008000\" fill-rule=\"evenodd\" fill-opacity=\"1\" stroke=\"#000000\" stroke-opacity=\"1\" stroke-width=\"3.2\"/>\n",
       "<circle clip-path=\"url(#clip832)\" cx=\"1862.45\" cy=\"744.827\" r=\"14\" fill=\"#008000\" fill-rule=\"evenodd\" fill-opacity=\"1\" stroke=\"#000000\" stroke-opacity=\"1\" stroke-width=\"3.2\"/>\n",
       "<circle clip-path=\"url(#clip832)\" cx=\"2078.44\" cy=\"455.378\" r=\"14\" fill=\"#008000\" fill-rule=\"evenodd\" fill-opacity=\"1\" stroke=\"#000000\" stroke-opacity=\"1\" stroke-width=\"3.2\"/>\n",
       "<circle clip-path=\"url(#clip832)\" cx=\"2294.44\" cy=\"89.0661\" r=\"14\" fill=\"#008000\" fill-rule=\"evenodd\" fill-opacity=\"1\" stroke=\"#000000\" stroke-opacity=\"1\" stroke-width=\"3.2\"/>\n",
       "<path clip-path=\"url(#clip830)\" d=\"\n",
       "M1625.83 335.029 L2284.07 335.029 L2284.07 93.1086 L1625.83 93.1086  Z\n",
       "  \" fill=\"#ffffff\" fill-rule=\"evenodd\" fill-opacity=\"1\"/>\n",
       "<polyline clip-path=\"url(#clip830)\" style=\"stroke:#000000; stroke-width:4; stroke-opacity:1; fill:none\" points=\"\n",
       "  1625.83,335.029 2284.07,335.029 2284.07,93.1086 1625.83,93.1086 1625.83,335.029 \n",
       "  \"/>\n",
       "<circle clip-path=\"url(#clip830)\" cx=\"1717.42\" cy=\"153.589\" r=\"23\" fill=\"#ff0000\" fill-rule=\"evenodd\" fill-opacity=\"1\" stroke=\"#000000\" stroke-opacity=\"1\" stroke-width=\"5.12\"/>\n",
       "<path clip-path=\"url(#clip830)\" d=\"M 0 0 M1813.67 154.364 L1813.67 167.026 L1821.17 167.026 Q1824.95 167.026 1826.75 165.475 Q1828.58 163.901 1828.58 160.683 Q1828.58 157.443 1826.75 155.915 Q1824.95 154.364 1821.17 154.364 L1813.67 154.364 M1813.67 140.151 L1813.67 150.568 L1820.6 150.568 Q1824.02 150.568 1825.69 149.295 Q1827.38 147.998 1827.38 145.359 Q1827.38 142.744 1825.69 141.447 Q1824.02 140.151 1820.6 140.151 L1813.67 140.151 M1809 136.309 L1820.94 136.309 Q1826.29 136.309 1829.18 138.531 Q1832.08 140.753 1832.08 144.85 Q1832.08 148.022 1830.6 149.897 Q1829.11 151.771 1826.24 152.234 Q1829.69 152.975 1831.59 155.336 Q1833.51 157.674 1833.51 161.193 Q1833.51 165.822 1830.36 168.345 Q1827.22 170.869 1821.41 170.869 L1809 170.869 L1809 136.309 Z\" fill=\"#000000\" fill-rule=\"evenodd\" fill-opacity=\"1\" /><path clip-path=\"url(#clip830)\" d=\"M 0 0 M1838.16 136.309 L1842.84 136.309 L1842.84 166.933 L1859.67 166.933 L1859.67 170.869 L1838.16 170.869 L1838.16 136.309 Z\" fill=\"#000000\" fill-rule=\"evenodd\" fill-opacity=\"1\" /><path clip-path=\"url(#clip830)\" d=\"M 0 0 M1876.96 140.915 L1870.62 158.114 L1883.33 158.114 L1876.96 140.915 M1874.32 136.309 L1879.62 136.309 L1892.79 170.869 L1887.93 170.869 L1884.78 162.003 L1869.21 162.003 L1866.06 170.869 L1861.13 170.869 L1874.32 136.309 Z\" fill=\"#000000\" fill-rule=\"evenodd\" fill-opacity=\"1\" /><path clip-path=\"url(#clip830)\" d=\"M 0 0 M1918.16 137.443 L1918.16 142.003 Q1915.5 140.73 1913.14 140.105 Q1910.78 139.48 1908.58 139.48 Q1904.76 139.48 1902.68 140.961 Q1900.62 142.443 1900.62 145.174 Q1900.62 147.466 1901.98 148.647 Q1903.37 149.804 1907.22 150.522 L1910.04 151.1 Q1915.27 152.096 1917.75 154.619 Q1920.25 157.119 1920.25 161.332 Q1920.25 166.355 1916.87 168.947 Q1913.51 171.54 1907.01 171.54 Q1904.55 171.54 1901.78 170.984 Q1899.02 170.429 1896.06 169.341 L1896.06 164.526 Q1898.91 166.123 1901.64 166.933 Q1904.37 167.744 1907.01 167.744 Q1911.01 167.744 1913.19 166.17 Q1915.36 164.596 1915.36 161.679 Q1915.36 159.133 1913.79 157.697 Q1912.24 156.262 1908.67 155.545 L1905.83 154.989 Q1900.59 153.947 1898.26 151.725 Q1895.92 149.503 1895.92 145.545 Q1895.92 140.961 1899.14 138.322 Q1902.38 135.684 1908.05 135.684 Q1910.48 135.684 1913 136.123 Q1915.53 136.563 1918.16 137.443 Z\" fill=\"#000000\" fill-rule=\"evenodd\" fill-opacity=\"1\" /><path clip-path=\"url(#clip830)\" d=\"M 0 0 M1944.41 178.739 L1944.41 182.049 L1919.78 182.049 L1919.78 178.739 L1944.41 178.739 Z\" fill=\"#000000\" fill-rule=\"evenodd\" fill-opacity=\"1\" /><path clip-path=\"url(#clip830)\" d=\"M 0 0 M1969.07 149.92 Q1970.66 147.049 1972.89 145.684 Q1975.11 144.318 1978.12 144.318 Q1982.17 144.318 1984.37 147.165 Q1986.57 149.989 1986.57 155.221 L1986.57 170.869 L1982.28 170.869 L1982.28 155.359 Q1982.28 151.633 1980.96 149.827 Q1979.65 148.022 1976.94 148.022 Q1973.63 148.022 1971.71 150.221 Q1969.78 152.42 1969.78 156.216 L1969.78 170.869 L1965.5 170.869 L1965.5 155.359 Q1965.5 151.609 1964.18 149.827 Q1962.86 148.022 1960.11 148.022 Q1956.84 148.022 1954.92 150.244 Q1953 152.443 1953 156.216 L1953 170.869 L1948.72 170.869 L1948.72 144.943 L1953 144.943 L1953 148.971 Q1954.46 146.586 1956.5 145.452 Q1958.53 144.318 1961.34 144.318 Q1964.16 144.318 1966.13 145.753 Q1968.12 147.188 1969.07 149.92 Z\" fill=\"#000000\" fill-rule=\"evenodd\" fill-opacity=\"1\" /><path clip-path=\"url(#clip830)\" d=\"M 0 0 M1990.59 160.637 L1990.59 144.943 L1994.85 144.943 L1994.85 160.475 Q1994.85 164.156 1996.29 166.008 Q1997.72 167.836 2000.59 167.836 Q2004.04 167.836 2006.03 165.637 Q2008.05 163.438 2008.05 159.642 L2008.05 144.943 L2012.31 144.943 L2012.31 170.869 L2008.05 170.869 L2008.05 166.887 Q2006.5 169.248 2004.44 170.406 Q2002.4 171.54 1999.69 171.54 Q1995.22 171.54 1992.91 168.762 Q1990.59 165.984 1990.59 160.637 M2001.31 144.318 L2001.31 144.318 Z\" fill=\"#000000\" fill-rule=\"evenodd\" fill-opacity=\"1\" /><path clip-path=\"url(#clip830)\" d=\"M 0 0 M2016.77 134.85 L2021.03 134.85 L2021.03 170.869 L2016.77 170.869 L2016.77 134.85 Z\" fill=\"#000000\" fill-rule=\"evenodd\" fill-opacity=\"1\" /><path clip-path=\"url(#clip830)\" d=\"M 0 0 M2029.71 137.582 L2029.71 144.943 L2038.49 144.943 L2038.49 148.253 L2029.71 148.253 L2029.71 162.327 Q2029.71 165.498 2030.57 166.401 Q2031.45 167.304 2034.11 167.304 L2038.49 167.304 L2038.49 170.869 L2034.11 170.869 Q2029.18 170.869 2027.31 169.04 Q2025.43 167.188 2025.43 162.327 L2025.43 148.253 L2022.31 148.253 L2022.31 144.943 L2025.43 144.943 L2025.43 137.582 L2029.71 137.582 Z\" fill=\"#000000\" fill-rule=\"evenodd\" fill-opacity=\"1\" /><path clip-path=\"url(#clip830)\" d=\"M 0 0 M2042.96 144.943 L2047.21 144.943 L2047.21 170.869 L2042.96 170.869 L2042.96 144.943 M2042.96 134.85 L2047.21 134.85 L2047.21 140.244 L2042.96 140.244 L2042.96 134.85 Z\" fill=\"#000000\" fill-rule=\"evenodd\" fill-opacity=\"1\" /><path clip-path=\"url(#clip830)\" d=\"M 0 0 M2055.8 166.98 L2055.8 180.73 L2051.52 180.73 L2051.52 144.943 L2055.8 144.943 L2055.8 148.878 Q2057.14 146.563 2059.18 145.452 Q2061.24 144.318 2064.09 144.318 Q2068.81 144.318 2071.75 148.068 Q2074.71 151.818 2074.71 157.929 Q2074.71 164.04 2071.75 167.79 Q2068.81 171.54 2064.09 171.54 Q2061.24 171.54 2059.18 170.429 Q2057.14 169.295 2055.8 166.98 M2070.29 157.929 Q2070.29 153.23 2068.35 150.568 Q2066.43 147.883 2063.05 147.883 Q2059.67 147.883 2057.72 150.568 Q2055.8 153.23 2055.8 157.929 Q2055.8 162.628 2057.72 165.313 Q2059.67 167.975 2063.05 167.975 Q2066.43 167.975 2068.35 165.313 Q2070.29 162.628 2070.29 157.929 Z\" fill=\"#000000\" fill-rule=\"evenodd\" fill-opacity=\"1\" /><path clip-path=\"url(#clip830)\" d=\"M 0 0 M2079.18 134.85 L2083.44 134.85 L2083.44 170.869 L2079.18 170.869 L2079.18 134.85 Z\" fill=\"#000000\" fill-rule=\"evenodd\" fill-opacity=\"1\" /><path clip-path=\"url(#clip830)\" d=\"M 0 0 M2087.91 144.943 L2092.17 144.943 L2092.17 170.869 L2087.91 170.869 L2087.91 144.943 M2087.91 134.85 L2092.17 134.85 L2092.17 140.244 L2087.91 140.244 L2087.91 134.85 Z\" fill=\"#000000\" fill-rule=\"evenodd\" fill-opacity=\"1\" /><path clip-path=\"url(#clip830)\" d=\"M 0 0 M2115.29 145.938 L2115.29 149.92 Q2113.49 148.924 2111.66 148.438 Q2109.85 147.929 2108 147.929 Q2103.86 147.929 2101.57 150.568 Q2099.27 153.184 2099.27 157.929 Q2099.27 162.674 2101.57 165.313 Q2103.86 167.929 2108 167.929 Q2109.85 167.929 2111.66 167.443 Q2113.49 166.933 2115.29 165.938 L2115.29 169.873 Q2113.51 170.707 2111.59 171.123 Q2109.69 171.54 2107.54 171.54 Q2101.68 171.54 2098.23 167.859 Q2094.78 164.179 2094.78 157.929 Q2094.78 151.586 2098.26 147.952 Q2101.75 144.318 2107.82 144.318 Q2109.78 144.318 2111.66 144.735 Q2113.53 145.128 2115.29 145.938 Z\" fill=\"#000000\" fill-rule=\"evenodd\" fill-opacity=\"1\" /><path clip-path=\"url(#clip830)\" d=\"M 0 0 M2131.54 157.836 Q2126.38 157.836 2124.39 159.017 Q2122.4 160.197 2122.4 163.045 Q2122.4 165.313 2123.88 166.656 Q2125.39 167.975 2127.95 167.975 Q2131.5 167.975 2133.63 165.475 Q2135.78 162.952 2135.78 158.785 L2135.78 157.836 L2131.54 157.836 M2140.04 156.077 L2140.04 170.869 L2135.78 170.869 L2135.78 166.933 Q2134.32 169.295 2132.14 170.429 Q2129.97 171.54 2126.82 171.54 Q2122.84 171.54 2120.48 169.318 Q2118.14 167.072 2118.14 163.322 Q2118.14 158.947 2121.06 156.725 Q2124 154.503 2129.81 154.503 L2135.78 154.503 L2135.78 154.086 Q2135.78 151.147 2133.83 149.549 Q2131.91 147.929 2128.42 147.929 Q2126.2 147.929 2124.09 148.461 Q2121.98 148.994 2120.04 150.059 L2120.04 146.123 Q2122.38 145.221 2124.58 144.781 Q2126.77 144.318 2128.86 144.318 Q2134.48 144.318 2137.26 147.234 Q2140.04 150.151 2140.04 156.077 Z\" fill=\"#000000\" fill-rule=\"evenodd\" fill-opacity=\"1\" /><path clip-path=\"url(#clip830)\" d=\"M 0 0 M2148.72 137.582 L2148.72 144.943 L2157.49 144.943 L2157.49 148.253 L2148.72 148.253 L2148.72 162.327 Q2148.72 165.498 2149.57 166.401 Q2150.45 167.304 2153.12 167.304 L2157.49 167.304 L2157.49 170.869 L2153.12 170.869 Q2148.19 170.869 2146.31 169.04 Q2144.44 167.188 2144.44 162.327 L2144.44 148.253 L2141.31 148.253 L2141.31 144.943 L2144.44 144.943 L2144.44 137.582 L2148.72 137.582 Z\" fill=\"#000000\" fill-rule=\"evenodd\" fill-opacity=\"1\" /><path clip-path=\"url(#clip830)\" d=\"M 0 0 M2161.96 144.943 L2166.22 144.943 L2166.22 170.869 L2161.96 170.869 L2161.96 144.943 M2161.96 134.85 L2166.22 134.85 L2166.22 140.244 L2161.96 140.244 L2161.96 134.85 Z\" fill=\"#000000\" fill-rule=\"evenodd\" fill-opacity=\"1\" /><path clip-path=\"url(#clip830)\" d=\"M 0 0 M2180.73 147.929 Q2177.31 147.929 2175.32 150.614 Q2173.32 153.276 2173.32 157.929 Q2173.32 162.582 2175.29 165.267 Q2177.28 167.929 2180.73 167.929 Q2184.13 167.929 2186.13 165.244 Q2188.12 162.558 2188.12 157.929 Q2188.12 153.322 2186.13 150.637 Q2184.13 147.929 2180.73 147.929 M2180.73 144.318 Q2186.29 144.318 2189.46 147.929 Q2192.63 151.54 2192.63 157.929 Q2192.63 164.295 2189.46 167.929 Q2186.29 171.54 2180.73 171.54 Q2175.15 171.54 2171.98 167.929 Q2168.83 164.295 2168.83 157.929 Q2168.83 151.54 2171.98 147.929 Q2175.15 144.318 2180.73 144.318 Z\" fill=\"#000000\" fill-rule=\"evenodd\" fill-opacity=\"1\" /><path clip-path=\"url(#clip830)\" d=\"M 0 0 M2218.65 155.221 L2218.65 170.869 L2214.39 170.869 L2214.39 155.359 Q2214.39 151.679 2212.95 149.85 Q2211.52 148.022 2208.65 148.022 Q2205.2 148.022 2203.21 150.221 Q2201.22 152.42 2201.22 156.216 L2201.22 170.869 L2196.94 170.869 L2196.94 144.943 L2201.22 144.943 L2201.22 148.971 Q2202.75 146.633 2204.81 145.475 Q2206.89 144.318 2209.6 144.318 Q2214.07 144.318 2216.36 147.096 Q2218.65 149.85 2218.65 155.221 Z\" fill=\"#000000\" fill-rule=\"evenodd\" fill-opacity=\"1\" /><circle clip-path=\"url(#clip830)\" cx=\"1717.42\" cy=\"214.069\" r=\"23\" fill=\"#0000ff\" fill-rule=\"evenodd\" fill-opacity=\"1\" stroke=\"#000000\" stroke-opacity=\"1\" stroke-width=\"5.12\"/>\n",
       "<path clip-path=\"url(#clip830)\" d=\"M 0 0 M1827.77 218.409 Q1827.77 213.71 1825.83 211.048 Q1823.91 208.363 1820.53 208.363 Q1817.15 208.363 1815.2 211.048 Q1813.28 213.71 1813.28 218.409 Q1813.28 223.108 1815.2 225.793 Q1817.15 228.455 1820.53 228.455 Q1823.91 228.455 1825.83 225.793 Q1827.77 223.108 1827.77 218.409 M1813.28 209.358 Q1814.62 207.043 1816.66 205.932 Q1818.72 204.798 1821.57 204.798 Q1826.29 204.798 1829.23 208.548 Q1832.19 212.298 1832.19 218.409 Q1832.19 224.52 1829.23 228.27 Q1826.29 232.02 1821.57 232.02 Q1818.72 232.02 1816.66 230.909 Q1814.62 229.775 1813.28 227.46 L1813.28 231.349 L1809 231.349 L1809 195.33 L1813.28 195.33 L1813.28 209.358 Z\" fill=\"#000000\" fill-rule=\"evenodd\" fill-opacity=\"1\" /><path clip-path=\"url(#clip830)\" d=\"M 0 0 M1858.84 217.321 L1858.84 219.404 L1839.25 219.404 Q1839.53 223.802 1841.89 226.117 Q1844.28 228.409 1848.51 228.409 Q1850.97 228.409 1853.26 227.807 Q1855.57 227.205 1857.84 226.001 L1857.84 230.029 Q1855.55 231.001 1853.14 231.511 Q1850.73 232.02 1848.26 232.02 Q1842.05 232.02 1838.42 228.409 Q1834.81 224.798 1834.81 218.64 Q1834.81 212.275 1838.23 208.548 Q1841.68 204.798 1847.52 204.798 Q1852.75 204.798 1855.78 208.177 Q1858.84 211.534 1858.84 217.321 M1854.58 216.071 Q1854.53 212.576 1852.61 210.492 Q1850.71 208.409 1847.56 208.409 Q1844 208.409 1841.85 210.423 Q1839.72 212.437 1839.39 216.094 L1854.58 216.071 Z\" fill=\"#000000\" fill-rule=\"evenodd\" fill-opacity=\"1\" /><path clip-path=\"url(#clip830)\" d=\"M 0 0 M1867.52 198.062 L1867.52 205.423 L1876.29 205.423 L1876.29 208.733 L1867.52 208.733 L1867.52 222.807 Q1867.52 225.978 1868.37 226.881 Q1869.25 227.784 1871.91 227.784 L1876.29 227.784 L1876.29 231.349 L1871.91 231.349 Q1866.98 231.349 1865.11 229.52 Q1863.23 227.668 1863.23 222.807 L1863.23 208.733 L1860.11 208.733 L1860.11 205.423 L1863.23 205.423 L1863.23 198.062 L1867.52 198.062 Z\" fill=\"#000000\" fill-rule=\"evenodd\" fill-opacity=\"1\" /><path clip-path=\"url(#clip830)\" d=\"M 0 0 M1884.97 198.062 L1884.97 205.423 L1893.74 205.423 L1893.74 208.733 L1884.97 208.733 L1884.97 222.807 Q1884.97 225.978 1885.83 226.881 Q1886.71 227.784 1889.37 227.784 L1893.74 227.784 L1893.74 231.349 L1889.37 231.349 Q1884.44 231.349 1882.56 229.52 Q1880.69 227.668 1880.69 222.807 L1880.69 208.733 L1877.56 208.733 L1877.56 205.423 L1880.69 205.423 L1880.69 198.062 L1884.97 198.062 Z\" fill=\"#000000\" fill-rule=\"evenodd\" fill-opacity=\"1\" /><path clip-path=\"url(#clip830)\" d=\"M 0 0 M1920.39 217.321 L1920.39 219.404 L1900.8 219.404 Q1901.08 223.802 1903.44 226.117 Q1905.83 228.409 1910.06 228.409 Q1912.52 228.409 1914.81 227.807 Q1917.12 227.205 1919.39 226.001 L1919.39 230.029 Q1917.1 231.001 1914.69 231.511 Q1912.28 232.02 1909.81 232.02 Q1903.6 232.02 1899.97 228.409 Q1896.36 224.798 1896.36 218.64 Q1896.36 212.275 1899.78 208.548 Q1903.23 204.798 1909.07 204.798 Q1914.3 204.798 1917.33 208.177 Q1920.39 211.534 1920.39 217.321 M1916.13 216.071 Q1916.08 212.576 1914.16 210.492 Q1912.26 208.409 1909.11 208.409 Q1905.55 208.409 1903.4 210.423 Q1901.27 212.437 1900.94 216.094 L1916.13 216.071 Z\" fill=\"#000000\" fill-rule=\"evenodd\" fill-opacity=\"1\" /><path clip-path=\"url(#clip830)\" d=\"M 0 0 M1939.88 209.404 Q1939.16 208.988 1938.3 208.802 Q1937.47 208.594 1936.45 208.594 Q1932.84 208.594 1930.9 210.955 Q1928.97 213.293 1928.97 217.691 L1928.97 231.349 L1924.69 231.349 L1924.69 205.423 L1928.97 205.423 L1928.97 209.451 Q1930.32 207.089 1932.47 205.955 Q1934.62 204.798 1937.7 204.798 Q1938.14 204.798 1938.67 204.867 Q1939.21 204.914 1939.85 205.029 L1939.88 209.404 Z\" fill=\"#000000\" fill-rule=\"evenodd\" fill-opacity=\"1\" /><path clip-path=\"url(#clip830)\" d=\"M 0 0 M1964.04 239.219 L1964.04 242.529 L1939.41 242.529 L1939.41 239.219 L1964.04 239.219 Z\" fill=\"#000000\" fill-rule=\"evenodd\" fill-opacity=\"1\" /><path clip-path=\"url(#clip830)\" d=\"M 0 0 M1988.7 210.4 Q1990.29 207.529 1992.52 206.164 Q1994.74 204.798 1997.75 204.798 Q2001.8 204.798 2004 207.645 Q2006.2 210.469 2006.2 215.701 L2006.2 231.349 L2001.91 231.349 L2001.91 215.839 Q2001.91 212.113 2000.59 210.307 Q1999.27 208.502 1996.57 208.502 Q1993.26 208.502 1991.34 210.701 Q1989.41 212.9 1989.41 216.696 L1989.41 231.349 L1985.13 231.349 L1985.13 215.839 Q1985.13 212.089 1983.81 210.307 Q1982.49 208.502 1979.74 208.502 Q1976.47 208.502 1974.55 210.724 Q1972.63 212.923 1972.63 216.696 L1972.63 231.349 L1968.35 231.349 L1968.35 205.423 L1972.63 205.423 L1972.63 209.451 Q1974.09 207.066 1976.13 205.932 Q1978.16 204.798 1980.96 204.798 Q1983.79 204.798 1985.76 206.233 Q1987.75 207.668 1988.7 210.4 Z\" fill=\"#000000\" fill-rule=\"evenodd\" fill-opacity=\"1\" /><path clip-path=\"url(#clip830)\" d=\"M 0 0 M2010.22 221.117 L2010.22 205.423 L2014.48 205.423 L2014.48 220.955 Q2014.48 224.636 2015.92 226.488 Q2017.35 228.316 2020.22 228.316 Q2023.67 228.316 2025.66 226.117 Q2027.68 223.918 2027.68 220.122 L2027.68 205.423 L2031.94 205.423 L2031.94 231.349 L2027.68 231.349 L2027.68 227.367 Q2026.13 229.728 2024.07 230.886 Q2022.03 232.02 2019.32 232.02 Q2014.85 232.02 2012.54 229.242 Q2010.22 226.464 2010.22 221.117 M2020.94 204.798 L2020.94 204.798 Z\" fill=\"#000000\" fill-rule=\"evenodd\" fill-opacity=\"1\" /><path clip-path=\"url(#clip830)\" d=\"M 0 0 M2036.4 195.33 L2040.66 195.33 L2040.66 231.349 L2036.4 231.349 L2036.4 195.33 Z\" fill=\"#000000\" fill-rule=\"evenodd\" fill-opacity=\"1\" /><path clip-path=\"url(#clip830)\" d=\"M 0 0 M2049.34 198.062 L2049.34 205.423 L2058.12 205.423 L2058.12 208.733 L2049.34 208.733 L2049.34 222.807 Q2049.34 225.978 2050.2 226.881 Q2051.08 227.784 2053.74 227.784 L2058.12 227.784 L2058.12 231.349 L2053.74 231.349 Q2048.81 231.349 2046.94 229.52 Q2045.06 227.668 2045.06 222.807 L2045.06 208.733 L2041.94 208.733 L2041.94 205.423 L2045.06 205.423 L2045.06 198.062 L2049.34 198.062 Z\" fill=\"#000000\" fill-rule=\"evenodd\" fill-opacity=\"1\" /><path clip-path=\"url(#clip830)\" d=\"M 0 0 M2062.58 205.423 L2066.84 205.423 L2066.84 231.349 L2062.58 231.349 L2062.58 205.423 M2062.58 195.33 L2066.84 195.33 L2066.84 200.724 L2062.58 200.724 L2062.58 195.33 Z\" fill=\"#000000\" fill-rule=\"evenodd\" fill-opacity=\"1\" /><path clip-path=\"url(#clip830)\" d=\"M 0 0 M2075.43 227.46 L2075.43 241.21 L2071.15 241.21 L2071.15 205.423 L2075.43 205.423 L2075.43 209.358 Q2076.77 207.043 2078.81 205.932 Q2080.87 204.798 2083.72 204.798 Q2088.44 204.798 2091.38 208.548 Q2094.34 212.298 2094.34 218.409 Q2094.34 224.52 2091.38 228.27 Q2088.44 232.02 2083.72 232.02 Q2080.87 232.02 2078.81 230.909 Q2076.77 229.775 2075.43 227.46 M2089.92 218.409 Q2089.92 213.71 2087.98 211.048 Q2086.06 208.363 2082.68 208.363 Q2079.3 208.363 2077.35 211.048 Q2075.43 213.71 2075.43 218.409 Q2075.43 223.108 2077.35 225.793 Q2079.3 228.455 2082.68 228.455 Q2086.06 228.455 2087.98 225.793 Q2089.92 223.108 2089.92 218.409 Z\" fill=\"#000000\" fill-rule=\"evenodd\" fill-opacity=\"1\" /><path clip-path=\"url(#clip830)\" d=\"M 0 0 M2098.81 195.33 L2103.07 195.33 L2103.07 231.349 L2098.81 231.349 L2098.81 195.33 Z\" fill=\"#000000\" fill-rule=\"evenodd\" fill-opacity=\"1\" /><path clip-path=\"url(#clip830)\" d=\"M 0 0 M2107.54 205.423 L2111.8 205.423 L2111.8 231.349 L2107.54 231.349 L2107.54 205.423 M2107.54 195.33 L2111.8 195.33 L2111.8 200.724 L2107.54 200.724 L2107.54 195.33 Z\" fill=\"#000000\" fill-rule=\"evenodd\" fill-opacity=\"1\" /><path clip-path=\"url(#clip830)\" d=\"M 0 0 M2134.92 206.418 L2134.92 210.4 Q2133.12 209.404 2131.29 208.918 Q2129.48 208.409 2127.63 208.409 Q2123.49 208.409 2121.2 211.048 Q2118.9 213.664 2118.9 218.409 Q2118.9 223.154 2121.2 225.793 Q2123.49 228.409 2127.63 228.409 Q2129.48 228.409 2131.29 227.923 Q2133.12 227.413 2134.92 226.418 L2134.92 230.353 Q2133.14 231.187 2131.22 231.603 Q2129.32 232.02 2127.17 232.02 Q2121.31 232.02 2117.86 228.339 Q2114.41 224.659 2114.41 218.409 Q2114.41 212.066 2117.89 208.432 Q2121.38 204.798 2127.45 204.798 Q2129.41 204.798 2131.29 205.215 Q2133.16 205.608 2134.92 206.418 Z\" fill=\"#000000\" fill-rule=\"evenodd\" fill-opacity=\"1\" /><path clip-path=\"url(#clip830)\" d=\"M 0 0 M2151.17 218.316 Q2146.01 218.316 2144.02 219.497 Q2142.03 220.677 2142.03 223.525 Q2142.03 225.793 2143.51 227.136 Q2145.01 228.455 2147.58 228.455 Q2151.13 228.455 2153.26 225.955 Q2155.41 223.432 2155.41 219.265 L2155.41 218.316 L2151.17 218.316 M2159.67 216.557 L2159.67 231.349 L2155.41 231.349 L2155.41 227.413 Q2153.95 229.775 2151.77 230.909 Q2149.6 232.02 2146.45 232.02 Q2142.47 232.02 2140.11 229.798 Q2137.77 227.552 2137.77 223.802 Q2137.77 219.427 2140.69 217.205 Q2143.63 214.983 2149.44 214.983 L2155.41 214.983 L2155.41 214.566 Q2155.41 211.627 2153.46 210.029 Q2151.54 208.409 2148.05 208.409 Q2145.83 208.409 2143.72 208.941 Q2141.61 209.474 2139.67 210.539 L2139.67 206.603 Q2142.01 205.701 2144.2 205.261 Q2146.4 204.798 2148.49 204.798 Q2154.11 204.798 2156.89 207.714 Q2159.67 210.631 2159.67 216.557 Z\" fill=\"#000000\" fill-rule=\"evenodd\" fill-opacity=\"1\" /><path clip-path=\"url(#clip830)\" d=\"M 0 0 M2168.35 198.062 L2168.35 205.423 L2177.12 205.423 L2177.12 208.733 L2168.35 208.733 L2168.35 222.807 Q2168.35 225.978 2169.2 226.881 Q2170.08 227.784 2172.75 227.784 L2177.12 227.784 L2177.12 231.349 L2172.75 231.349 Q2167.82 231.349 2165.94 229.52 Q2164.07 227.668 2164.07 222.807 L2164.07 208.733 L2160.94 208.733 L2160.94 205.423 L2164.07 205.423 L2164.07 198.062 L2168.35 198.062 Z\" fill=\"#000000\" fill-rule=\"evenodd\" fill-opacity=\"1\" /><path clip-path=\"url(#clip830)\" d=\"M 0 0 M2181.59 205.423 L2185.85 205.423 L2185.85 231.349 L2181.59 231.349 L2181.59 205.423 M2181.59 195.33 L2185.85 195.33 L2185.85 200.724 L2181.59 200.724 L2181.59 195.33 Z\" fill=\"#000000\" fill-rule=\"evenodd\" fill-opacity=\"1\" /><path clip-path=\"url(#clip830)\" d=\"M 0 0 M2200.36 208.409 Q2196.94 208.409 2194.95 211.094 Q2192.95 213.756 2192.95 218.409 Q2192.95 223.062 2194.92 225.747 Q2196.91 228.409 2200.36 228.409 Q2203.76 228.409 2205.76 225.724 Q2207.75 223.038 2207.75 218.409 Q2207.75 213.802 2205.76 211.117 Q2203.76 208.409 2200.36 208.409 M2200.36 204.798 Q2205.92 204.798 2209.09 208.409 Q2212.26 212.02 2212.26 218.409 Q2212.26 224.775 2209.09 228.409 Q2205.92 232.02 2200.36 232.02 Q2194.78 232.02 2191.61 228.409 Q2188.46 224.775 2188.46 218.409 Q2188.46 212.02 2191.61 208.409 Q2194.78 204.798 2200.36 204.798 Z\" fill=\"#000000\" fill-rule=\"evenodd\" fill-opacity=\"1\" /><path clip-path=\"url(#clip830)\" d=\"M 0 0 M2238.28 215.701 L2238.28 231.349 L2234.02 231.349 L2234.02 215.839 Q2234.02 212.159 2232.58 210.33 Q2231.15 208.502 2228.28 208.502 Q2224.83 208.502 2222.84 210.701 Q2220.85 212.9 2220.85 216.696 L2220.85 231.349 L2216.57 231.349 L2216.57 205.423 L2220.85 205.423 L2220.85 209.451 Q2222.38 207.113 2224.44 205.955 Q2226.52 204.798 2229.23 204.798 Q2233.69 204.798 2235.99 207.576 Q2238.28 210.33 2238.28 215.701 Z\" fill=\"#000000\" fill-rule=\"evenodd\" fill-opacity=\"1\" /><circle clip-path=\"url(#clip830)\" cx=\"1717.42\" cy=\"274.549\" r=\"23\" fill=\"#008000\" fill-rule=\"evenodd\" fill-opacity=\"1\" stroke=\"#000000\" stroke-opacity=\"1\" stroke-width=\"5.12\"/>\n",
       "<path clip-path=\"url(#clip830)\" d=\"M 0 0 M1830.71 276.181 L1830.71 291.829 L1826.45 291.829 L1826.45 276.319 Q1826.45 272.639 1825.02 270.81 Q1823.58 268.982 1820.71 268.982 Q1817.26 268.982 1815.27 271.181 Q1813.28 273.38 1813.28 277.176 L1813.28 291.829 L1809 291.829 L1809 265.903 L1813.28 265.903 L1813.28 269.931 Q1814.81 267.593 1816.87 266.435 Q1818.95 265.278 1821.66 265.278 Q1826.13 265.278 1828.42 268.056 Q1830.71 270.81 1830.71 276.181 Z\" fill=\"#000000\" fill-rule=\"evenodd\" fill-opacity=\"1\" /><path clip-path=\"url(#clip830)\" d=\"M 0 0 M1846.96 278.796 Q1841.8 278.796 1839.81 279.977 Q1837.82 281.157 1837.82 284.005 Q1837.82 286.273 1839.3 287.616 Q1840.8 288.935 1843.37 288.935 Q1846.91 288.935 1849.04 286.435 Q1851.2 283.912 1851.2 279.745 L1851.2 278.796 L1846.96 278.796 M1855.46 277.037 L1855.46 291.829 L1851.2 291.829 L1851.2 287.893 Q1849.74 290.255 1847.56 291.389 Q1845.39 292.5 1842.24 292.5 Q1838.26 292.5 1835.9 290.278 Q1833.56 288.032 1833.56 284.282 Q1833.56 279.907 1836.47 277.685 Q1839.41 275.463 1845.22 275.463 L1851.2 275.463 L1851.2 275.046 Q1851.2 272.107 1849.25 270.509 Q1847.33 268.889 1843.84 268.889 Q1841.61 268.889 1839.51 269.421 Q1837.4 269.954 1835.46 271.019 L1835.46 267.083 Q1837.79 266.181 1839.99 265.741 Q1842.19 265.278 1844.28 265.278 Q1849.9 265.278 1852.68 268.194 Q1855.46 271.111 1855.46 277.037 Z\" fill=\"#000000\" fill-rule=\"evenodd\" fill-opacity=\"1\" /><path clip-path=\"url(#clip830)\" d=\"M 0 0 M1859.92 265.903 L1864.18 265.903 L1864.18 291.829 L1859.92 291.829 L1859.92 265.903 M1859.92 255.81 L1864.18 255.81 L1864.18 261.204 L1859.92 261.204 L1859.92 255.81 Z\" fill=\"#000000\" fill-rule=\"evenodd\" fill-opacity=\"1\" /><path clip-path=\"url(#clip830)\" d=\"M 0 0 M1865.6 265.903 L1870.11 265.903 L1878.21 287.662 L1886.31 265.903 L1890.83 265.903 L1881.1 291.829 L1875.32 291.829 L1865.6 265.903 Z\" fill=\"#000000\" fill-rule=\"evenodd\" fill-opacity=\"1\" /><path clip-path=\"url(#clip830)\" d=\"M 0 0 M1917.47 277.801 L1917.47 279.884 L1897.89 279.884 Q1898.16 284.282 1900.53 286.597 Q1902.91 288.889 1907.15 288.889 Q1909.6 288.889 1911.89 288.287 Q1914.21 287.685 1916.47 286.481 L1916.47 290.509 Q1914.18 291.481 1911.78 291.991 Q1909.37 292.5 1906.89 292.5 Q1900.69 292.5 1897.05 288.889 Q1893.44 285.278 1893.44 279.12 Q1893.44 272.755 1896.87 269.028 Q1900.32 265.278 1906.15 265.278 Q1911.38 265.278 1914.41 268.657 Q1917.47 272.014 1917.47 277.801 M1913.21 276.551 Q1913.16 273.056 1911.24 270.972 Q1909.34 268.889 1906.2 268.889 Q1902.63 268.889 1900.48 270.903 Q1898.35 272.917 1898.03 276.574 L1913.21 276.551 Z\" fill=\"#000000\" fill-rule=\"evenodd\" fill-opacity=\"1\" /><path clip-path=\"url(#clip830)\" d=\"M 0 0 M1941.64 299.699 L1941.64 303.009 L1917.01 303.009 L1917.01 299.699 L1941.64 299.699 Z\" fill=\"#000000\" fill-rule=\"evenodd\" fill-opacity=\"1\" /><path clip-path=\"url(#clip830)\" d=\"M 0 0 M1966.29 270.88 Q1967.89 268.009 1970.11 266.644 Q1972.33 265.278 1975.34 265.278 Q1979.39 265.278 1981.59 268.125 Q1983.79 270.949 1983.79 276.181 L1983.79 291.829 L1979.51 291.829 L1979.51 276.319 Q1979.51 272.593 1978.19 270.787 Q1976.87 268.982 1974.16 268.982 Q1970.85 268.982 1968.93 271.181 Q1967.01 273.38 1967.01 277.176 L1967.01 291.829 L1962.72 291.829 L1962.72 276.319 Q1962.72 272.569 1961.4 270.787 Q1960.09 268.982 1957.33 268.982 Q1954.07 268.982 1952.15 271.204 Q1950.22 273.403 1950.22 277.176 L1950.22 291.829 L1945.94 291.829 L1945.94 265.903 L1950.22 265.903 L1950.22 269.931 Q1951.68 267.546 1953.72 266.412 Q1955.76 265.278 1958.56 265.278 Q1961.38 265.278 1963.35 266.713 Q1965.34 268.148 1966.29 270.88 Z\" fill=\"#000000\" fill-rule=\"evenodd\" fill-opacity=\"1\" /><path clip-path=\"url(#clip830)\" d=\"M 0 0 M1987.82 281.597 L1987.82 265.903 L1992.08 265.903 L1992.08 281.435 Q1992.08 285.116 1993.51 286.968 Q1994.95 288.796 1997.82 288.796 Q2001.27 288.796 2003.26 286.597 Q2005.27 284.398 2005.27 280.602 L2005.27 265.903 L2009.53 265.903 L2009.53 291.829 L2005.27 291.829 L2005.27 287.847 Q2003.72 290.208 2001.66 291.366 Q1999.62 292.5 1996.91 292.5 Q1992.45 292.5 1990.13 289.722 Q1987.82 286.944 1987.82 281.597 M1998.53 265.278 L1998.53 265.278 Z\" fill=\"#000000\" fill-rule=\"evenodd\" fill-opacity=\"1\" /><path clip-path=\"url(#clip830)\" d=\"M 0 0 M2014 255.81 L2018.26 255.81 L2018.26 291.829 L2014 291.829 L2014 255.81 Z\" fill=\"#000000\" fill-rule=\"evenodd\" fill-opacity=\"1\" /><path clip-path=\"url(#clip830)\" d=\"M 0 0 M2026.94 258.542 L2026.94 265.903 L2035.71 265.903 L2035.71 269.213 L2026.94 269.213 L2026.94 283.287 Q2026.94 286.458 2027.79 287.361 Q2028.67 288.264 2031.33 288.264 L2035.71 288.264 L2035.71 291.829 L2031.33 291.829 Q2026.4 291.829 2024.53 290 Q2022.65 288.148 2022.65 283.287 L2022.65 269.213 L2019.53 269.213 L2019.53 265.903 L2022.65 265.903 L2022.65 258.542 L2026.94 258.542 Z\" fill=\"#000000\" fill-rule=\"evenodd\" fill-opacity=\"1\" /><path clip-path=\"url(#clip830)\" d=\"M 0 0 M2040.18 265.903 L2044.44 265.903 L2044.44 291.829 L2040.18 291.829 L2040.18 265.903 M2040.18 255.81 L2044.44 255.81 L2044.44 261.204 L2040.18 261.204 L2040.18 255.81 Z\" fill=\"#000000\" fill-rule=\"evenodd\" fill-opacity=\"1\" /><path clip-path=\"url(#clip830)\" d=\"M 0 0 M2053.02 287.94 L2053.02 301.69 L2048.74 301.69 L2048.74 265.903 L2053.02 265.903 L2053.02 269.838 Q2054.37 267.523 2056.4 266.412 Q2058.46 265.278 2061.31 265.278 Q2066.03 265.278 2068.97 269.028 Q2071.94 272.778 2071.94 278.889 Q2071.94 285 2068.97 288.75 Q2066.03 292.5 2061.31 292.5 Q2058.46 292.5 2056.4 291.389 Q2054.37 290.255 2053.02 287.94 M2067.52 278.889 Q2067.52 274.19 2065.57 271.528 Q2063.65 268.843 2060.27 268.843 Q2056.89 268.843 2054.95 271.528 Q2053.02 274.19 2053.02 278.889 Q2053.02 283.588 2054.95 286.273 Q2056.89 288.935 2060.27 288.935 Q2063.65 288.935 2065.57 286.273 Q2067.52 283.588 2067.52 278.889 Z\" fill=\"#000000\" fill-rule=\"evenodd\" fill-opacity=\"1\" /><path clip-path=\"url(#clip830)\" d=\"M 0 0 M2076.4 255.81 L2080.66 255.81 L2080.66 291.829 L2076.4 291.829 L2076.4 255.81 Z\" fill=\"#000000\" fill-rule=\"evenodd\" fill-opacity=\"1\" /><path clip-path=\"url(#clip830)\" d=\"M 0 0 M2085.13 265.903 L2089.39 265.903 L2089.39 291.829 L2085.13 291.829 L2085.13 265.903 M2085.13 255.81 L2089.39 255.81 L2089.39 261.204 L2085.13 261.204 L2085.13 255.81 Z\" fill=\"#000000\" fill-rule=\"evenodd\" fill-opacity=\"1\" /><path clip-path=\"url(#clip830)\" d=\"M 0 0 M2112.52 266.898 L2112.52 270.88 Q2110.71 269.884 2108.88 269.398 Q2107.08 268.889 2105.22 268.889 Q2101.08 268.889 2098.79 271.528 Q2096.5 274.144 2096.5 278.889 Q2096.5 283.634 2098.79 286.273 Q2101.08 288.889 2105.22 288.889 Q2107.08 288.889 2108.88 288.403 Q2110.71 287.893 2112.52 286.898 L2112.52 290.833 Q2110.73 291.667 2108.81 292.083 Q2106.91 292.5 2104.76 292.5 Q2098.9 292.5 2095.45 288.819 Q2092.01 285.139 2092.01 278.889 Q2092.01 272.546 2095.48 268.912 Q2098.97 265.278 2105.04 265.278 Q2107.01 265.278 2108.88 265.695 Q2110.76 266.088 2112.52 266.898 Z\" fill=\"#000000\" fill-rule=\"evenodd\" fill-opacity=\"1\" /><path clip-path=\"url(#clip830)\" d=\"M 0 0 M2128.76 278.796 Q2123.6 278.796 2121.61 279.977 Q2119.62 281.157 2119.62 284.005 Q2119.62 286.273 2121.1 287.616 Q2122.61 288.935 2125.18 288.935 Q2128.72 288.935 2130.85 286.435 Q2133 283.912 2133 279.745 L2133 278.796 L2128.76 278.796 M2137.26 277.037 L2137.26 291.829 L2133 291.829 L2133 287.893 Q2131.54 290.255 2129.37 291.389 Q2127.19 292.5 2124.04 292.5 Q2120.06 292.5 2117.7 290.278 Q2115.36 288.032 2115.36 284.282 Q2115.36 279.907 2118.28 277.685 Q2121.22 275.463 2127.03 275.463 L2133 275.463 L2133 275.046 Q2133 272.107 2131.06 270.509 Q2129.14 268.889 2125.64 268.889 Q2123.42 268.889 2121.31 269.421 Q2119.2 269.954 2117.26 271.019 L2117.26 267.083 Q2119.6 266.181 2121.8 265.741 Q2124 265.278 2126.08 265.278 Q2131.7 265.278 2134.48 268.194 Q2137.26 271.111 2137.26 277.037 Z\" fill=\"#000000\" fill-rule=\"evenodd\" fill-opacity=\"1\" /><path clip-path=\"url(#clip830)\" d=\"M 0 0 M2145.94 258.542 L2145.94 265.903 L2154.71 265.903 L2154.71 269.213 L2145.94 269.213 L2145.94 283.287 Q2145.94 286.458 2146.8 287.361 Q2147.68 288.264 2150.34 288.264 L2154.71 288.264 L2154.71 291.829 L2150.34 291.829 Q2145.41 291.829 2143.53 290 Q2141.66 288.148 2141.66 283.287 L2141.66 269.213 L2138.53 269.213 L2138.53 265.903 L2141.66 265.903 L2141.66 258.542 L2145.94 258.542 Z\" fill=\"#000000\" fill-rule=\"evenodd\" fill-opacity=\"1\" /><path clip-path=\"url(#clip830)\" d=\"M 0 0 M2159.18 265.903 L2163.44 265.903 L2163.44 291.829 L2159.18 291.829 L2159.18 265.903 M2159.18 255.81 L2163.44 255.81 L2163.44 261.204 L2159.18 261.204 L2159.18 255.81 Z\" fill=\"#000000\" fill-rule=\"evenodd\" fill-opacity=\"1\" /><path clip-path=\"url(#clip830)\" d=\"M 0 0 M2177.95 268.889 Q2174.53 268.889 2172.54 271.574 Q2170.55 274.236 2170.55 278.889 Q2170.55 283.542 2172.51 286.227 Q2174.51 288.889 2177.95 288.889 Q2181.36 288.889 2183.35 286.204 Q2185.34 283.518 2185.34 278.889 Q2185.34 274.282 2183.35 271.597 Q2181.36 268.889 2177.95 268.889 M2177.95 265.278 Q2183.51 265.278 2186.68 268.889 Q2189.85 272.5 2189.85 278.889 Q2189.85 285.255 2186.68 288.889 Q2183.51 292.5 2177.95 292.5 Q2172.38 292.5 2169.2 288.889 Q2166.06 285.255 2166.06 278.889 Q2166.06 272.5 2169.2 268.889 Q2172.38 265.278 2177.95 265.278 Z\" fill=\"#000000\" fill-rule=\"evenodd\" fill-opacity=\"1\" /><path clip-path=\"url(#clip830)\" d=\"M 0 0 M2215.87 276.181 L2215.87 291.829 L2211.61 291.829 L2211.61 276.319 Q2211.61 272.639 2210.18 270.81 Q2208.74 268.982 2205.87 268.982 Q2202.42 268.982 2200.43 271.181 Q2198.44 273.38 2198.44 277.176 L2198.44 291.829 L2194.16 291.829 L2194.16 265.903 L2198.44 265.903 L2198.44 269.931 Q2199.97 267.593 2202.03 266.435 Q2204.11 265.278 2206.82 265.278 Q2211.29 265.278 2213.58 268.056 Q2215.87 270.81 2215.87 276.181 Z\" fill=\"#000000\" fill-rule=\"evenodd\" fill-opacity=\"1\" /></svg>\n"
      ]
     },
     "execution_count": 69,
     "metadata": {},
     "output_type": "execute_result"
    }
   ],
   "source": [
    "using Plots\n",
    "scatter(df_combined.Matrix_size, df_combined.Operation_time_mean,\n",
    "    group=df_combined.Operation_type, yerr=df_combined.Operation_time_std,\n",
    "    colour = [:red :blue :green], xlabel=\"Matrix size\", ylabel=\"Operation time\")"
   ]
  },
  {
   "cell_type": "markdown",
   "metadata": {},
   "source": [
    "# ZAD2\n"
   ]
  },
  {
   "cell_type": "markdown",
   "metadata": {},
   "source": [
    "Code in C:"
   ]
  },
  {
   "cell_type": "code",
   "execution_count": 37,
   "metadata": {},
   "outputs": [
    {
     "ename": "LoadError",
     "evalue": "\u001b[91msyntax: extra token \"st_time\" after end of expression\u001b[39m",
     "output_type": "error",
     "traceback": [
      "\u001b[91msyntax: extra token \"st_time\" after end of expression\u001b[39m",
      ""
     ]
    }
   ],
   "source": [
    "#include <stdio.h>\n",
    "#include <stdlib.h>\n",
    "#include <sys/times.h>\n",
    "#include <unistd.h>\n",
    "#include <gsl/gsl_blas.h>\n",
    "\n",
    "\n",
    "clock_t st_time, en_time;\n",
    "struct tms st_cpu, en_cpu;\n",
    "char* report_file_name = \"c_data.csv\";\n",
    "\n",
    "\n",
    "void save_timer(int matrix_size, char *operation_type, FILE *f){\n",
    "    int clk_tics = sysconf(_SC_CLK_TCK);\n",
    "    double real_time = (double)(en_time - st_time) / clk_tics;\n",
    "    printf(\"%d,%s,%f\\n\",\n",
    "           matrix_size,\n",
    "           operation_type,\n",
    "           real_time);\n",
    "    fprintf(f,\"%d,%s,%f\\n\",\n",
    "           matrix_size,\n",
    "           operation_type,\n",
    "           real_time);\n",
    "}\n",
    "\n",
    "void start_timer(){\n",
    "    st_time = times(&st_cpu);\n",
    "}\n",
    "\n",
    "void stop_timer(){\n",
    "    en_time = times(&en_cpu);\n",
    "}\n",
    "\n",
    "\n",
    "void write_report_header(FILE *f){\n",
    "    fprintf(f, \"Matrix_size,Operation_type,Operation_time\\n\");\n",
    "    printf( \"Matrix_size,Operation_type,Operation_time\\n\");\n",
    "}\n",
    "\n",
    "void naive_multiply(double **A, double **B, double **C, int n){\n",
    "    for (int i = 0; i < n; ++i)\n",
    "        for (int j = 0; j < n; ++j)\n",
    "            for (int k = 0; k < n; ++k)\n",
    "                C[i][j] += A[i][k]*B[k][j];\n",
    "}\n",
    "\n",
    "void better_multiply(double **A, double **B, double **C, int n){\n",
    "    for (int i = 0; i < n; ++i)\n",
    "        for (int k = 0; k < n; ++k)\n",
    "            for (int j = 0; j < n; ++j)\n",
    "                C[i][j] += A[i][k]*B[k][j];\n",
    "}\n",
    "\n",
    "double **create_random_matrix(int n){\n",
    "    double **A = calloc(n, sizeof(double *));\n",
    "    for (int i = 0; i < n; ++i) {\n",
    "        A[i] = calloc(n, sizeof(double ));\n",
    "        for (int j = 0; j < n; ++j) {\n",
    "            A[i][j] = ((double)rand()/(double)(RAND_MAX)) * 5.0;\n",
    "        }\n",
    "    }\n",
    "    return A;\n",
    "}\n",
    "double **create_zeroed_matrix(int n){\n",
    "    double **A = calloc(n, sizeof(double *));\n",
    "    for (int i = 0; i < n; ++i) {\n",
    "        A[i] = calloc(n, sizeof(double ));\n",
    "        for (int j = 0; j < n; ++j) {\n",
    "            A[i][j] = 0.0;\n",
    "        }\n",
    "    }\n",
    "    return A;\n",
    "}\n",
    "void free_matrix(double **A, int n){\n",
    "    for (int i = 0; i < n; ++i) {\n",
    "        free(A[i]);\n",
    "    }\n",
    "    free(A);\n",
    "}\n",
    "\n",
    "int main(){\n",
    "    FILE* report_file = fopen(report_file_name, \"w\");\n",
    "    write_report_header(report_file);\n",
    "    int strt = 10;\n",
    "    int end = 1000;\n",
    "    int stp = 75;\n",
    "\n",
    "    for(int i = strt; i <= end; i+=stp){\n",
    "        for(int try_id = 1; try_id<= 10; try_id++){\n",
    "            int curr_matrix_size = i;\n",
    "            double **A, **B, **C;\n",
    "            A = create_random_matrix(curr_matrix_size);\n",
    "            B = create_random_matrix(curr_matrix_size);\n",
    "            C = create_zeroed_matrix(curr_matrix_size);\n",
    "\n",
    "            start_timer();\n",
    "            naive_multiply(A,B,C,curr_matrix_size);\n",
    "            stop_timer();\n",
    "            save_timer(curr_matrix_size, \"naive_multiplication\", report_file);\n",
    "        }\n",
    "    }\n",
    "    for(int i = strt; i <= end; i+=stp){\n",
    "        for(int try_id = 1; try_id<= 10; try_id++){\n",
    "            int curr_matrix_size = i;\n",
    "            double **A, **B, **C;\n",
    "            A = create_random_matrix(curr_matrix_size);\n",
    "            B = create_random_matrix(curr_matrix_size);\n",
    "            C = create_zeroed_matrix(curr_matrix_size);\n",
    "\n",
    "            start_timer();\n",
    "            better_multiply(A,B,C,curr_matrix_size);\n",
    "            stop_timer();\n",
    "            save_timer(curr_matrix_size, \"better_multiplication\", report_file);\n",
    "        }\n",
    "    }\n",
    "\n",
    "    for(int i = strt; i <= end; i+=stp){\n",
    "        for(int try_id = 1; try_id<= 10; try_id++){\n",
    "            int curr_matrix_size = i;\n",
    "            double *A = calloc(curr_matrix_size * curr_matrix_size, sizeof(double));\n",
    "            double *B = calloc(curr_matrix_size * curr_matrix_size, sizeof(double));\n",
    "            double *C = calloc(curr_matrix_size * curr_matrix_size, sizeof(double));\n",
    "            for (int k = 0; k < curr_matrix_size * curr_matrix_size; k++) {\n",
    "                A[k] = ((double)rand()/(double)(RAND_MAX)) * 5.0;\n",
    "                B[k] = ((double)rand()/(double)(RAND_MAX)) * 5.0;\n",
    "                C[k] = 0.0;\n",
    "            }\n",
    "            gsl_matrix_view A_GSL = gsl_matrix_view_array(A,i,i);\n",
    "            gsl_matrix_view B_GSL = gsl_matrix_view_array(B,i,i);\n",
    "            gsl_matrix_view C_GSL = gsl_matrix_view_array(C,i,i);\n",
    "            start_timer();\n",
    "            gsl_blas_dgemm (CblasNoTrans, CblasNoTrans,\n",
    "                            1.0, &A_GSL.matrix, &B_GSL.matrix,\n",
    "                            0.0, &C_GSL.matrix);\n",
    "            stop_timer();\n",
    "            save_timer(curr_matrix_size, \"BLAS_multiplication\", report_file);\n",
    "            free(A);\n",
    "            free(B);\n",
    "            free(C);\n",
    "        }\n",
    "    }\n",
    "}"
   ]
  },
  {
   "cell_type": "code",
   "execution_count": 65,
   "metadata": {},
   "outputs": [
    {
     "name": "stderr",
     "output_type": "stream",
     "text": [
      "\u001b[32m\u001b[1m  Resolving\u001b[22m\u001b[39m package versions...\n",
      "\u001b[32m\u001b[1m   Updating\u001b[22m\u001b[39m `~/.julia/environments/v1.4/Project.toml`\n",
      "\u001b[90m [no changes]\u001b[39m\n",
      "\u001b[32m\u001b[1m   Updating\u001b[22m\u001b[39m `~/.julia/environments/v1.4/Manifest.toml`\n",
      "\u001b[90m [no changes]\u001b[39m\n"
     ]
    }
   ],
   "source": [
    "import Pkg\n",
    "Pkg.add(\"CSV\")\n",
    "using CSV"
   ]
  },
  {
   "cell_type": "code",
   "execution_count": 66,
   "metadata": {},
   "outputs": [
    {
     "data": {
      "text/html": [
       "<div class=\"data-frame\"><p>42 rows × 4 columns</p><table class=\"data-frame\"><thead><tr><th></th><th>Operation_type</th><th>Matrix_size</th><th>Operation_time_mean</th><th>Operation_time_std</th></tr><tr><th></th><th title=\"String31\">String31</th><th title=\"Int64\">Int64</th><th title=\"Float64\">Float64</th><th title=\"Float64\">Float64</th></tr></thead><tbody><tr><th>1</th><td>naive_multiplication</td><td>10</td><td>0.0</td><td>0.0</td></tr><tr><th>2</th><td>naive_multiplication</td><td>85</td><td>0.004</td><td>0.00516398</td></tr><tr><th>3</th><td>naive_multiplication</td><td>160</td><td>0.016</td><td>0.00516398</td></tr><tr><th>4</th><td>naive_multiplication</td><td>235</td><td>0.055</td><td>0.00527046</td></tr><tr><th>5</th><td>naive_multiplication</td><td>310</td><td>0.122</td><td>0.00632456</td></tr><tr><th>6</th><td>naive_multiplication</td><td>385</td><td>0.24</td><td>0.00666667</td></tr><tr><th>7</th><td>naive_multiplication</td><td>460</td><td>0.405</td><td>0.0108012</td></tr><tr><th>8</th><td>naive_multiplication</td><td>535</td><td>0.642</td><td>0.0248551</td></tr><tr><th>9</th><td>naive_multiplication</td><td>610</td><td>0.945</td><td>0.0279881</td></tr><tr><th>10</th><td>naive_multiplication</td><td>685</td><td>1.364</td><td>0.0263312</td></tr><tr><th>11</th><td>naive_multiplication</td><td>760</td><td>1.857</td><td>0.0405654</td></tr><tr><th>12</th><td>naive_multiplication</td><td>835</td><td>2.459</td><td>0.0328126</td></tr><tr><th>13</th><td>naive_multiplication</td><td>910</td><td>3.178</td><td>0.0578888</td></tr><tr><th>14</th><td>naive_multiplication</td><td>985</td><td>4.101</td><td>0.0572422</td></tr><tr><th>15</th><td>better_multiplication</td><td>10</td><td>0.0</td><td>0.0</td></tr><tr><th>16</th><td>better_multiplication</td><td>85</td><td>0.001</td><td>0.00316228</td></tr><tr><th>17</th><td>better_multiplication</td><td>160</td><td>0.016</td><td>0.00516398</td></tr><tr><th>18</th><td>better_multiplication</td><td>235</td><td>0.05</td><td>0.00471405</td></tr><tr><th>19</th><td>better_multiplication</td><td>310</td><td>0.118</td><td>0.00632456</td></tr><tr><th>20</th><td>better_multiplication</td><td>385</td><td>0.222</td><td>0.00421637</td></tr><tr><th>21</th><td>better_multiplication</td><td>460</td><td>0.376</td><td>0.00966092</td></tr><tr><th>22</th><td>better_multiplication</td><td>535</td><td>0.596</td><td>0.0150555</td></tr><tr><th>23</th><td>better_multiplication</td><td>610</td><td>0.877</td><td>0.0211082</td></tr><tr><th>24</th><td>better_multiplication</td><td>685</td><td>1.242</td><td>0.0181353</td></tr><tr><th>25</th><td>better_multiplication</td><td>760</td><td>1.685</td><td>0.0117851</td></tr><tr><th>26</th><td>better_multiplication</td><td>835</td><td>2.243</td><td>0.0305687</td></tr><tr><th>27</th><td>better_multiplication</td><td>910</td><td>2.978</td><td>0.0616081</td></tr><tr><th>28</th><td>better_multiplication</td><td>985</td><td>3.697</td><td>0.034335</td></tr><tr><th>29</th><td>BLAS_multiplication</td><td>10</td><td>0.0</td><td>0.0</td></tr><tr><th>30</th><td>BLAS_multiplication</td><td>85</td><td>0.0</td><td>0.0</td></tr><tr><th>&vellip;</th><td>&vellip;</td><td>&vellip;</td><td>&vellip;</td><td>&vellip;</td></tr></tbody></table></div>"
      ],
      "text/latex": [
       "\\begin{tabular}{r|cccc}\n",
       "\t& Operation\\_type & Matrix\\_size & Operation\\_time\\_mean & Operation\\_time\\_std\\\\\n",
       "\t\\hline\n",
       "\t& String31 & Int64 & Float64 & Float64\\\\\n",
       "\t\\hline\n",
       "\t1 & naive\\_multiplication & 10 & 0.0 & 0.0 \\\\\n",
       "\t2 & naive\\_multiplication & 85 & 0.004 & 0.00516398 \\\\\n",
       "\t3 & naive\\_multiplication & 160 & 0.016 & 0.00516398 \\\\\n",
       "\t4 & naive\\_multiplication & 235 & 0.055 & 0.00527046 \\\\\n",
       "\t5 & naive\\_multiplication & 310 & 0.122 & 0.00632456 \\\\\n",
       "\t6 & naive\\_multiplication & 385 & 0.24 & 0.00666667 \\\\\n",
       "\t7 & naive\\_multiplication & 460 & 0.405 & 0.0108012 \\\\\n",
       "\t8 & naive\\_multiplication & 535 & 0.642 & 0.0248551 \\\\\n",
       "\t9 & naive\\_multiplication & 610 & 0.945 & 0.0279881 \\\\\n",
       "\t10 & naive\\_multiplication & 685 & 1.364 & 0.0263312 \\\\\n",
       "\t11 & naive\\_multiplication & 760 & 1.857 & 0.0405654 \\\\\n",
       "\t12 & naive\\_multiplication & 835 & 2.459 & 0.0328126 \\\\\n",
       "\t13 & naive\\_multiplication & 910 & 3.178 & 0.0578888 \\\\\n",
       "\t14 & naive\\_multiplication & 985 & 4.101 & 0.0572422 \\\\\n",
       "\t15 & better\\_multiplication & 10 & 0.0 & 0.0 \\\\\n",
       "\t16 & better\\_multiplication & 85 & 0.001 & 0.00316228 \\\\\n",
       "\t17 & better\\_multiplication & 160 & 0.016 & 0.00516398 \\\\\n",
       "\t18 & better\\_multiplication & 235 & 0.05 & 0.00471405 \\\\\n",
       "\t19 & better\\_multiplication & 310 & 0.118 & 0.00632456 \\\\\n",
       "\t20 & better\\_multiplication & 385 & 0.222 & 0.00421637 \\\\\n",
       "\t21 & better\\_multiplication & 460 & 0.376 & 0.00966092 \\\\\n",
       "\t22 & better\\_multiplication & 535 & 0.596 & 0.0150555 \\\\\n",
       "\t23 & better\\_multiplication & 610 & 0.877 & 0.0211082 \\\\\n",
       "\t24 & better\\_multiplication & 685 & 1.242 & 0.0181353 \\\\\n",
       "\t25 & better\\_multiplication & 760 & 1.685 & 0.0117851 \\\\\n",
       "\t26 & better\\_multiplication & 835 & 2.243 & 0.0305687 \\\\\n",
       "\t27 & better\\_multiplication & 910 & 2.978 & 0.0616081 \\\\\n",
       "\t28 & better\\_multiplication & 985 & 3.697 & 0.034335 \\\\\n",
       "\t29 & BLAS\\_multiplication & 10 & 0.0 & 0.0 \\\\\n",
       "\t30 & BLAS\\_multiplication & 85 & 0.0 & 0.0 \\\\\n",
       "\t$\\dots$ & $\\dots$ & $\\dots$ & $\\dots$ & $\\dots$ \\\\\n",
       "\\end{tabular}\n"
      ],
      "text/plain": [
       "\u001b[1m42×4 DataFrame\u001b[0m\n",
       "\u001b[1m Row \u001b[0m│\u001b[1m Operation_type       \u001b[0m\u001b[1m Matrix_size \u001b[0m\u001b[1m Operation_time_mean \u001b[0m\u001b[1m Operation_time_\u001b[0m ⋯\n",
       "\u001b[1m     \u001b[0m│\u001b[90m String31             \u001b[0m\u001b[90m Int64       \u001b[0m\u001b[90m Float64             \u001b[0m\u001b[90m Float64        \u001b[0m ⋯\n",
       "─────┼──────────────────────────────────────────────────────────────────────────\n",
       "   1 │ naive_multiplication           10                0.0           0.0      ⋯\n",
       "   2 │ naive_multiplication           85                0.004         0.005163\n",
       "   3 │ naive_multiplication          160                0.016         0.005163\n",
       "   4 │ naive_multiplication          235                0.055         0.005270\n",
       "   5 │ naive_multiplication          310                0.122         0.006324 ⋯\n",
       "   6 │ naive_multiplication          385                0.24          0.006666\n",
       "   7 │ naive_multiplication          460                0.405         0.010801\n",
       "   8 │ naive_multiplication          535                0.642         0.024855\n",
       "   9 │ naive_multiplication          610                0.945         0.027988 ⋯\n",
       "  10 │ naive_multiplication          685                1.364         0.026331\n",
       "  11 │ naive_multiplication          760                1.857         0.040565\n",
       "  ⋮  │          ⋮                 ⋮                ⋮                   ⋮       ⋱\n",
       "  33 │ BLAS_multiplication           310                0.012         0.004216\n",
       "  34 │ BLAS_multiplication           385                0.02          3.65712e ⋯\n",
       "  35 │ BLAS_multiplication           460                0.035         0.005270\n",
       "  36 │ BLAS_multiplication           535                0.054         0.005163\n",
       "  37 │ BLAS_multiplication           610                0.08          1.46285e\n",
       "  38 │ BLAS_multiplication           685                0.111         0.003162 ⋯\n",
       "  39 │ BLAS_multiplication           760                0.152         0.004216\n",
       "  40 │ BLAS_multiplication           835                0.199         0.003162\n",
       "  41 │ BLAS_multiplication           910                0.258         0.004216\n",
       "  42 │ BLAS_multiplication           985                0.326         0.005163 ⋯\n",
       "\u001b[36m                                                    1 column and 21 rows omitted\u001b[0m"
      ]
     },
     "execution_count": 66,
     "metadata": {},
     "output_type": "execute_result"
    }
   ],
   "source": [
    "C_input_data_frame = CSV.read(\"./CPart/c_data.csv\", delim=\",\",DataFrame)\n",
    "C_df_grouped=groupby(C_input_data_frame, [:Operation_type,:Matrix_size])\n",
    "C_df_combined = combine(C_df_grouped, \"Operation_time\" => mean, \"Operation_time\" => std)"
   ]
  },
  {
   "cell_type": "code",
   "execution_count": 68,
   "metadata": {},
   "outputs": [
    {
     "data": {
      "image/svg+xml": [
       "<?xml version=\"1.0\" encoding=\"utf-8\"?>\n",
       "<svg xmlns=\"http://www.w3.org/2000/svg\" xmlns:xlink=\"http://www.w3.org/1999/xlink\" width=\"600\" height=\"400\" viewBox=\"0 0 2400 1600\">\n",
       "<defs>\n",
       "  <clipPath id=\"clip790\">\n",
       "    <rect x=\"0\" y=\"0\" width=\"2400\" height=\"1600\"/>\n",
       "  </clipPath>\n",
       "</defs>\n",
       "<path clip-path=\"url(#clip790)\" d=\"\n",
       "M0 1600 L2400 1600 L2400 0 L0 0  Z\n",
       "  \" fill=\"#ffffff\" fill-rule=\"evenodd\" fill-opacity=\"1\"/>\n",
       "<defs>\n",
       "  <clipPath id=\"clip791\">\n",
       "    <rect x=\"480\" y=\"0\" width=\"1681\" height=\"1600\"/>\n",
       "  </clipPath>\n",
       "</defs>\n",
       "<path clip-path=\"url(#clip790)\" d=\"\n",
       "M175.445 1423.18 L2352.76 1423.18 L2352.76 47.2441 L175.445 47.2441  Z\n",
       "  \" fill=\"#ffffff\" fill-rule=\"evenodd\" fill-opacity=\"1\"/>\n",
       "<defs>\n",
       "  <clipPath id=\"clip792\">\n",
       "    <rect x=\"175\" y=\"47\" width=\"2178\" height=\"1377\"/>\n",
       "  </clipPath>\n",
       "</defs>\n",
       "<polyline clip-path=\"url(#clip792)\" style=\"stroke:#000000; stroke-width:2; stroke-opacity:0.1; fill:none\" points=\"\n",
       "  216,1423.18 216,47.2441 \n",
       "  \"/>\n",
       "<polyline clip-path=\"url(#clip792)\" style=\"stroke:#000000; stroke-width:2; stroke-opacity:0.1; fill:none\" points=\"\n",
       "  742.684,1423.18 742.684,47.2441 \n",
       "  \"/>\n",
       "<polyline clip-path=\"url(#clip792)\" style=\"stroke:#000000; stroke-width:2; stroke-opacity:0.1; fill:none\" points=\"\n",
       "  1269.37,1423.18 1269.37,47.2441 \n",
       "  \"/>\n",
       "<polyline clip-path=\"url(#clip792)\" style=\"stroke:#000000; stroke-width:2; stroke-opacity:0.1; fill:none\" points=\"\n",
       "  1796.05,1423.18 1796.05,47.2441 \n",
       "  \"/>\n",
       "<polyline clip-path=\"url(#clip792)\" style=\"stroke:#000000; stroke-width:2; stroke-opacity:0.1; fill:none\" points=\"\n",
       "  2322.73,1423.18 2322.73,47.2441 \n",
       "  \"/>\n",
       "<polyline clip-path=\"url(#clip790)\" style=\"stroke:#000000; stroke-width:4; stroke-opacity:1; fill:none\" points=\"\n",
       "  175.445,1423.18 2352.76,1423.18 \n",
       "  \"/>\n",
       "<polyline clip-path=\"url(#clip790)\" style=\"stroke:#000000; stroke-width:4; stroke-opacity:1; fill:none\" points=\"\n",
       "  216,1423.18 216,1406.67 \n",
       "  \"/>\n",
       "<polyline clip-path=\"url(#clip790)\" style=\"stroke:#000000; stroke-width:4; stroke-opacity:1; fill:none\" points=\"\n",
       "  742.684,1423.18 742.684,1406.67 \n",
       "  \"/>\n",
       "<polyline clip-path=\"url(#clip790)\" style=\"stroke:#000000; stroke-width:4; stroke-opacity:1; fill:none\" points=\"\n",
       "  1269.37,1423.18 1269.37,1406.67 \n",
       "  \"/>\n",
       "<polyline clip-path=\"url(#clip790)\" style=\"stroke:#000000; stroke-width:4; stroke-opacity:1; fill:none\" points=\"\n",
       "  1796.05,1423.18 1796.05,1406.67 \n",
       "  \"/>\n",
       "<polyline clip-path=\"url(#clip790)\" style=\"stroke:#000000; stroke-width:4; stroke-opacity:1; fill:none\" points=\"\n",
       "  2322.73,1423.18 2322.73,1406.67 \n",
       "  \"/>\n",
       "<path clip-path=\"url(#clip790)\" d=\"M 0 0 M216 1452.37 Q212.389 1452.37 210.56 1455.94 Q208.755 1459.48 208.755 1466.61 Q208.755 1473.71 210.56 1477.28 Q212.389 1480.82 216 1480.82 Q219.634 1480.82 221.44 1477.28 Q223.268 1473.71 223.268 1466.61 Q223.268 1459.48 221.44 1455.94 Q219.634 1452.37 216 1452.37 M216 1448.67 Q221.81 1448.67 224.866 1453.27 Q227.944 1457.86 227.944 1466.61 Q227.944 1475.33 224.866 1479.94 Q221.81 1484.52 216 1484.52 Q210.19 1484.52 207.111 1479.94 Q204.055 1475.33 204.055 1466.61 Q204.055 1457.86 207.111 1453.27 Q210.19 1448.67 216 1448.67 Z\" fill=\"#000000\" fill-rule=\"evenodd\" fill-opacity=\"1\" /><path clip-path=\"url(#clip790)\" d=\"M 0 0 M710.82 1479.92 L727.14 1479.92 L727.14 1483.85 L705.195 1483.85 L705.195 1479.92 Q707.857 1477.16 712.441 1472.53 Q717.047 1467.88 718.228 1466.54 Q720.473 1464.01 721.353 1462.28 Q722.255 1460.52 722.255 1458.83 Q722.255 1456.07 720.311 1454.34 Q718.39 1452.6 715.288 1452.6 Q713.089 1452.6 710.635 1453.37 Q708.205 1454.13 705.427 1455.68 L705.427 1450.96 Q708.251 1449.82 710.705 1449.25 Q713.158 1448.67 715.195 1448.67 Q720.566 1448.67 723.76 1451.35 Q726.955 1454.04 726.955 1458.53 Q726.955 1460.66 726.144 1462.58 Q725.357 1464.48 723.251 1467.07 Q722.672 1467.74 719.57 1470.96 Q716.468 1474.15 710.82 1479.92 Z\" fill=\"#000000\" fill-rule=\"evenodd\" fill-opacity=\"1\" /><path clip-path=\"url(#clip790)\" d=\"M 0 0 M732.255 1449.29 L750.612 1449.29 L750.612 1453.23 L736.538 1453.23 L736.538 1461.7 Q737.556 1461.35 738.575 1461.19 Q739.593 1461 740.612 1461 Q746.399 1461 749.778 1464.18 Q753.158 1467.35 753.158 1472.76 Q753.158 1478.34 749.686 1481.44 Q746.214 1484.52 739.894 1484.52 Q737.718 1484.52 735.45 1484.15 Q733.205 1483.78 730.797 1483.04 L730.797 1478.34 Q732.88 1479.48 735.103 1480.03 Q737.325 1480.59 739.802 1480.59 Q743.806 1480.59 746.144 1478.48 Q748.482 1476.38 748.482 1472.76 Q748.482 1469.15 746.144 1467.05 Q743.806 1464.94 739.802 1464.94 Q737.927 1464.94 736.052 1465.36 Q734.2 1465.77 732.255 1466.65 L732.255 1449.29 Z\" fill=\"#000000\" fill-rule=\"evenodd\" fill-opacity=\"1\" /><path clip-path=\"url(#clip790)\" d=\"M 0 0 M768.227 1452.37 Q764.616 1452.37 762.788 1455.94 Q760.982 1459.48 760.982 1466.61 Q760.982 1473.71 762.788 1477.28 Q764.616 1480.82 768.227 1480.82 Q771.862 1480.82 773.667 1477.28 Q775.496 1473.71 775.496 1466.61 Q775.496 1459.48 773.667 1455.94 Q771.862 1452.37 768.227 1452.37 M768.227 1448.67 Q774.038 1448.67 777.093 1453.27 Q780.172 1457.86 780.172 1466.61 Q780.172 1475.33 777.093 1479.94 Q774.038 1484.52 768.227 1484.52 Q762.417 1484.52 759.339 1479.94 Q756.283 1475.33 756.283 1466.61 Q756.283 1457.86 759.339 1453.27 Q762.417 1448.67 768.227 1448.67 Z\" fill=\"#000000\" fill-rule=\"evenodd\" fill-opacity=\"1\" /><path clip-path=\"url(#clip790)\" d=\"M 0 0 M1232.63 1449.29 L1250.99 1449.29 L1250.99 1453.23 L1236.91 1453.23 L1236.91 1461.7 Q1237.93 1461.35 1238.95 1461.19 Q1239.97 1461 1240.99 1461 Q1246.77 1461 1250.15 1464.18 Q1253.53 1467.35 1253.53 1472.76 Q1253.53 1478.34 1250.06 1481.44 Q1246.59 1484.52 1240.27 1484.52 Q1238.09 1484.52 1235.83 1484.15 Q1233.58 1483.78 1231.17 1483.04 L1231.17 1478.34 Q1233.26 1479.48 1235.48 1480.03 Q1237.7 1480.59 1240.18 1480.59 Q1244.18 1480.59 1246.52 1478.48 Q1248.86 1476.38 1248.86 1472.76 Q1248.86 1469.15 1246.52 1467.05 Q1244.18 1464.94 1240.18 1464.94 Q1238.3 1464.94 1236.43 1465.36 Q1234.58 1465.77 1232.63 1466.65 L1232.63 1449.29 Z\" fill=\"#000000\" fill-rule=\"evenodd\" fill-opacity=\"1\" /><path clip-path=\"url(#clip790)\" d=\"M 0 0 M1268.6 1452.37 Q1264.99 1452.37 1263.16 1455.94 Q1261.36 1459.48 1261.36 1466.61 Q1261.36 1473.71 1263.16 1477.28 Q1264.99 1480.82 1268.6 1480.82 Q1272.24 1480.82 1274.04 1477.28 Q1275.87 1473.71 1275.87 1466.61 Q1275.87 1459.48 1274.04 1455.94 Q1272.24 1452.37 1268.6 1452.37 M1268.6 1448.67 Q1274.41 1448.67 1277.47 1453.27 Q1280.55 1457.86 1280.55 1466.61 Q1280.55 1475.33 1277.47 1479.94 Q1274.41 1484.52 1268.6 1484.52 Q1262.79 1484.52 1259.71 1479.94 Q1256.66 1475.33 1256.66 1466.61 Q1256.66 1457.86 1259.71 1453.27 Q1262.79 1448.67 1268.6 1448.67 Z\" fill=\"#000000\" fill-rule=\"evenodd\" fill-opacity=\"1\" /><path clip-path=\"url(#clip790)\" d=\"M 0 0 M1295.62 1452.37 Q1292.01 1452.37 1290.18 1455.94 Q1288.37 1459.48 1288.37 1466.61 Q1288.37 1473.71 1290.18 1477.28 Q1292.01 1480.82 1295.62 1480.82 Q1299.25 1480.82 1301.06 1477.28 Q1302.89 1473.71 1302.89 1466.61 Q1302.89 1459.48 1301.06 1455.94 Q1299.25 1452.37 1295.62 1452.37 M1295.62 1448.67 Q1301.43 1448.67 1304.48 1453.27 Q1307.56 1457.86 1307.56 1466.61 Q1307.56 1475.33 1304.48 1479.94 Q1301.43 1484.52 1295.62 1484.52 Q1289.81 1484.52 1286.73 1479.94 Q1283.67 1475.33 1283.67 1466.61 Q1283.67 1457.86 1286.73 1453.27 Q1289.81 1448.67 1295.62 1448.67 Z\" fill=\"#000000\" fill-rule=\"evenodd\" fill-opacity=\"1\" /><path clip-path=\"url(#clip790)\" d=\"M 0 0 M1758.42 1449.29 L1780.65 1449.29 L1780.65 1451.28 L1768.1 1483.85 L1763.22 1483.85 L1775.02 1453.23 L1758.42 1453.23 L1758.42 1449.29 Z\" fill=\"#000000\" fill-rule=\"evenodd\" fill-opacity=\"1\" /><path clip-path=\"url(#clip790)\" d=\"M 0 0 M1785.76 1449.29 L1804.12 1449.29 L1804.12 1453.23 L1790.04 1453.23 L1790.04 1461.7 Q1791.06 1461.35 1792.08 1461.19 Q1793.1 1461 1794.12 1461 Q1799.91 1461 1803.28 1464.18 Q1806.66 1467.35 1806.66 1472.76 Q1806.66 1478.34 1803.19 1481.44 Q1799.72 1484.52 1793.4 1484.52 Q1791.22 1484.52 1788.96 1484.15 Q1786.71 1483.78 1784.3 1483.04 L1784.3 1478.34 Q1786.39 1479.48 1788.61 1480.03 Q1790.83 1480.59 1793.31 1480.59 Q1797.31 1480.59 1799.65 1478.48 Q1801.99 1476.38 1801.99 1472.76 Q1801.99 1469.15 1799.65 1467.05 Q1797.31 1464.94 1793.31 1464.94 Q1791.43 1464.94 1789.56 1465.36 Q1787.71 1465.77 1785.76 1466.65 L1785.76 1449.29 Z\" fill=\"#000000\" fill-rule=\"evenodd\" fill-opacity=\"1\" /><path clip-path=\"url(#clip790)\" d=\"M 0 0 M1821.73 1452.37 Q1818.12 1452.37 1816.29 1455.94 Q1814.49 1459.48 1814.49 1466.61 Q1814.49 1473.71 1816.29 1477.28 Q1818.12 1480.82 1821.73 1480.82 Q1825.37 1480.82 1827.17 1477.28 Q1829 1473.71 1829 1466.61 Q1829 1459.48 1827.17 1455.94 Q1825.37 1452.37 1821.73 1452.37 M1821.73 1448.67 Q1827.54 1448.67 1830.6 1453.27 Q1833.68 1457.86 1833.68 1466.61 Q1833.68 1475.33 1830.6 1479.94 Q1827.54 1484.52 1821.73 1484.52 Q1815.92 1484.52 1812.85 1479.94 Q1809.79 1475.33 1809.79 1466.61 Q1809.79 1457.86 1812.85 1453.27 Q1815.92 1448.67 1821.73 1448.67 Z\" fill=\"#000000\" fill-rule=\"evenodd\" fill-opacity=\"1\" /><path clip-path=\"url(#clip790)\" d=\"M 0 0 M2272.6 1479.92 L2280.24 1479.92 L2280.24 1453.55 L2271.93 1455.22 L2271.93 1450.96 L2280.19 1449.29 L2284.86 1449.29 L2284.86 1479.92 L2292.5 1479.92 L2292.5 1483.85 L2272.6 1483.85 L2272.6 1479.92 Z\" fill=\"#000000\" fill-rule=\"evenodd\" fill-opacity=\"1\" /><path clip-path=\"url(#clip790)\" d=\"M 0 0 M2307.57 1452.37 Q2303.96 1452.37 2302.13 1455.94 Q2300.33 1459.48 2300.33 1466.61 Q2300.33 1473.71 2302.13 1477.28 Q2303.96 1480.82 2307.57 1480.82 Q2311.21 1480.82 2313.01 1477.28 Q2314.84 1473.71 2314.84 1466.61 Q2314.84 1459.48 2313.01 1455.94 Q2311.21 1452.37 2307.57 1452.37 M2307.57 1448.67 Q2313.38 1448.67 2316.44 1453.27 Q2319.52 1457.86 2319.52 1466.61 Q2319.52 1475.33 2316.44 1479.94 Q2313.38 1484.52 2307.57 1484.52 Q2301.76 1484.52 2298.68 1479.94 Q2295.63 1475.33 2295.63 1466.61 Q2295.63 1457.86 2298.68 1453.27 Q2301.76 1448.67 2307.57 1448.67 Z\" fill=\"#000000\" fill-rule=\"evenodd\" fill-opacity=\"1\" /><path clip-path=\"url(#clip790)\" d=\"M 0 0 M2334.59 1452.37 Q2330.98 1452.37 2329.15 1455.94 Q2327.34 1459.48 2327.34 1466.61 Q2327.34 1473.71 2329.15 1477.28 Q2330.98 1480.82 2334.59 1480.82 Q2338.22 1480.82 2340.03 1477.28 Q2341.86 1473.71 2341.86 1466.61 Q2341.86 1459.48 2340.03 1455.94 Q2338.22 1452.37 2334.59 1452.37 M2334.59 1448.67 Q2340.4 1448.67 2343.45 1453.27 Q2346.53 1457.86 2346.53 1466.61 Q2346.53 1475.33 2343.45 1479.94 Q2340.4 1484.52 2334.59 1484.52 Q2328.78 1484.52 2325.7 1479.94 Q2322.64 1475.33 2322.64 1466.61 Q2322.64 1457.86 2325.7 1453.27 Q2328.78 1448.67 2334.59 1448.67 Z\" fill=\"#000000\" fill-rule=\"evenodd\" fill-opacity=\"1\" /><path clip-path=\"url(#clip790)\" d=\"M 0 0 M2361.6 1452.37 Q2357.99 1452.37 2356.16 1455.94 Q2354.36 1459.48 2354.36 1466.61 Q2354.36 1473.71 2356.16 1477.28 Q2357.99 1480.82 2361.6 1480.82 Q2365.23 1480.82 2367.04 1477.28 Q2368.87 1473.71 2368.87 1466.61 Q2368.87 1459.48 2367.04 1455.94 Q2365.23 1452.37 2361.6 1452.37 M2361.6 1448.67 Q2367.41 1448.67 2370.47 1453.27 Q2373.54 1457.86 2373.54 1466.61 Q2373.54 1475.33 2370.47 1479.94 Q2367.41 1484.52 2361.6 1484.52 Q2355.79 1484.52 2352.71 1479.94 Q2349.66 1475.33 2349.66 1466.61 Q2349.66 1457.86 2352.71 1453.27 Q2355.79 1448.67 2361.6 1448.67 Z\" fill=\"#000000\" fill-rule=\"evenodd\" fill-opacity=\"1\" /><path clip-path=\"url(#clip790)\" d=\"M 0 0 M1109.95 1508.52 L1119.54 1508.52 L1131.66 1540.86 L1143.85 1508.52 L1153.43 1508.52 L1153.43 1556.04 L1147.16 1556.04 L1147.16 1514.32 L1134.91 1546.91 L1128.45 1546.91 L1116.19 1514.32 L1116.19 1556.04 L1109.95 1556.04 L1109.95 1508.52 Z\" fill=\"#000000\" fill-rule=\"evenodd\" fill-opacity=\"1\" /><path clip-path=\"url(#clip790)\" d=\"M 0 0 M1175.78 1538.12 Q1168.68 1538.12 1165.94 1539.75 Q1163.2 1541.37 1163.2 1545.29 Q1163.2 1548.4 1165.24 1550.25 Q1167.31 1552.07 1170.84 1552.07 Q1175.71 1552.07 1178.64 1548.63 Q1181.6 1545.16 1181.6 1539.43 L1181.6 1538.12 L1175.78 1538.12 M1187.46 1535.71 L1187.46 1556.04 L1181.6 1556.04 L1181.6 1550.63 Q1179.6 1553.88 1176.6 1555.44 Q1173.61 1556.97 1169.28 1556.97 Q1163.81 1556.97 1160.56 1553.91 Q1157.35 1550.82 1157.35 1545.67 Q1157.35 1539.65 1161.36 1536.6 Q1165.4 1533.54 1173.39 1533.54 L1181.6 1533.54 L1181.6 1532.97 Q1181.6 1528.93 1178.93 1526.73 Q1176.29 1524.5 1171.48 1524.5 Q1168.42 1524.5 1165.53 1525.23 Q1162.63 1525.97 1159.96 1527.43 L1159.96 1522.02 Q1163.17 1520.78 1166.2 1520.17 Q1169.22 1519.54 1172.08 1519.54 Q1179.82 1519.54 1183.64 1523.55 Q1187.46 1527.56 1187.46 1535.71 Z\" fill=\"#000000\" fill-rule=\"evenodd\" fill-opacity=\"1\" /><path clip-path=\"url(#clip790)\" d=\"M 0 0 M1199.39 1510.27 L1199.39 1520.4 L1211.46 1520.4 L1211.46 1524.95 L1199.39 1524.95 L1199.39 1544.3 Q1199.39 1548.66 1200.57 1549.9 Q1201.78 1551.14 1205.44 1551.14 L1211.46 1551.14 L1211.46 1556.04 L1205.44 1556.04 Q1198.66 1556.04 1196.08 1553.53 Q1193.5 1550.98 1193.5 1544.3 L1193.5 1524.95 L1189.21 1524.95 L1189.21 1520.4 L1193.5 1520.4 L1193.5 1510.27 L1199.39 1510.27 Z\" fill=\"#000000\" fill-rule=\"evenodd\" fill-opacity=\"1\" /><path clip-path=\"url(#clip790)\" d=\"M 0 0 M1238.26 1525.87 Q1237.27 1525.3 1236.09 1525.04 Q1234.95 1524.76 1233.55 1524.76 Q1228.58 1524.76 1225.91 1528 Q1223.26 1531.22 1223.26 1537.27 L1223.26 1556.04 L1217.38 1556.04 L1217.38 1520.4 L1223.26 1520.4 L1223.26 1525.93 Q1225.11 1522.69 1228.07 1521.13 Q1231.03 1519.54 1235.26 1519.54 Q1235.87 1519.54 1236.6 1519.63 Q1237.33 1519.7 1238.22 1519.85 L1238.26 1525.87 Z\" fill=\"#000000\" fill-rule=\"evenodd\" fill-opacity=\"1\" /><path clip-path=\"url(#clip790)\" d=\"M 0 0 M1244.4 1520.4 L1250.26 1520.4 L1250.26 1556.04 L1244.4 1556.04 L1244.4 1520.4 M1244.4 1506.52 L1250.26 1506.52 L1250.26 1513.93 L1244.4 1513.93 L1244.4 1506.52 Z\" fill=\"#000000\" fill-rule=\"evenodd\" fill-opacity=\"1\" /><path clip-path=\"url(#clip790)\" d=\"M 0 0 M1286.03 1520.4 L1273.14 1537.74 L1286.7 1556.04 L1279.79 1556.04 L1269.42 1542.04 L1259.04 1556.04 L1252.13 1556.04 L1265.98 1537.39 L1253.31 1520.4 L1260.22 1520.4 L1269.67 1533.1 L1279.12 1520.4 L1286.03 1520.4 Z\" fill=\"#000000\" fill-rule=\"evenodd\" fill-opacity=\"1\" /><path clip-path=\"url(#clip790)\" d=\"M 0 0 M1336.29 1521.45 L1336.29 1526.98 Q1333.81 1525.71 1331.13 1525.07 Q1328.46 1524.44 1325.59 1524.44 Q1321.23 1524.44 1319.04 1525.77 Q1316.87 1527.11 1316.87 1529.79 Q1316.87 1531.82 1318.43 1533 Q1319.99 1534.15 1324.7 1535.2 L1326.71 1535.64 Q1332.95 1536.98 1335.56 1539.43 Q1338.2 1541.85 1338.2 1546.21 Q1338.2 1551.17 1334.25 1554.07 Q1330.34 1556.97 1323.46 1556.97 Q1320.6 1556.97 1317.48 1556.39 Q1314.39 1555.85 1310.95 1554.74 L1310.95 1548.69 Q1314.2 1550.38 1317.35 1551.24 Q1320.5 1552.07 1323.59 1552.07 Q1327.73 1552.07 1329.95 1550.66 Q1332.18 1549.23 1332.18 1546.65 Q1332.18 1544.27 1330.56 1542.99 Q1328.97 1541.72 1323.52 1540.54 L1321.49 1540.07 Q1316.04 1538.92 1313.63 1536.56 Q1311.21 1534.18 1311.21 1530.04 Q1311.21 1525.01 1314.77 1522.27 Q1318.34 1519.54 1324.89 1519.54 Q1328.14 1519.54 1331 1520.01 Q1333.87 1520.49 1336.29 1521.45 Z\" fill=\"#000000\" fill-rule=\"evenodd\" fill-opacity=\"1\" /><path clip-path=\"url(#clip790)\" d=\"M 0 0 M1344.34 1520.4 L1350.2 1520.4 L1350.2 1556.04 L1344.34 1556.04 L1344.34 1520.4 M1344.34 1506.52 L1350.2 1506.52 L1350.2 1513.93 L1344.34 1513.93 L1344.34 1506.52 Z\" fill=\"#000000\" fill-rule=\"evenodd\" fill-opacity=\"1\" /><path clip-path=\"url(#clip790)\" d=\"M 0 0 M1353.79 1520.4 L1381.61 1520.4 L1381.61 1525.74 L1359.59 1551.37 L1381.61 1551.37 L1381.61 1556.04 L1353 1556.04 L1353 1550.7 L1375.02 1525.07 L1353.79 1525.07 L1353.79 1520.4 Z\" fill=\"#000000\" fill-rule=\"evenodd\" fill-opacity=\"1\" /><path clip-path=\"url(#clip790)\" d=\"M 0 0 M1418.25 1536.76 L1418.25 1539.62 L1391.32 1539.62 Q1391.7 1545.67 1394.95 1548.85 Q1398.23 1552 1404.05 1552 Q1407.42 1552 1410.58 1551.17 Q1413.76 1550.35 1416.88 1548.69 L1416.88 1554.23 Q1413.73 1555.57 1410.42 1556.27 Q1407.11 1556.97 1403.7 1556.97 Q1395.17 1556.97 1390.17 1552 Q1385.21 1547.04 1385.21 1538.57 Q1385.21 1529.82 1389.92 1524.69 Q1394.66 1519.54 1402.68 1519.54 Q1409.88 1519.54 1414.04 1524.18 Q1418.25 1528.8 1418.25 1536.76 M1412.39 1535.04 Q1412.33 1530.23 1409.68 1527.37 Q1407.07 1524.5 1402.75 1524.5 Q1397.84 1524.5 1394.88 1527.27 Q1391.96 1530.04 1391.51 1535.07 L1412.39 1535.04 Z\" fill=\"#000000\" fill-rule=\"evenodd\" fill-opacity=\"1\" /><polyline clip-path=\"url(#clip792)\" style=\"stroke:#000000; stroke-width:2; stroke-opacity:0.1; fill:none\" points=\"\n",
       "  175.445,1383.56 2352.76,1383.56 \n",
       "  \"/>\n",
       "<polyline clip-path=\"url(#clip792)\" style=\"stroke:#000000; stroke-width:2; stroke-opacity:0.1; fill:none\" points=\"\n",
       "  175.445,1071.56 2352.76,1071.56 \n",
       "  \"/>\n",
       "<polyline clip-path=\"url(#clip792)\" style=\"stroke:#000000; stroke-width:2; stroke-opacity:0.1; fill:none\" points=\"\n",
       "  175.445,759.561 2352.76,759.561 \n",
       "  \"/>\n",
       "<polyline clip-path=\"url(#clip792)\" style=\"stroke:#000000; stroke-width:2; stroke-opacity:0.1; fill:none\" points=\"\n",
       "  175.445,447.559 2352.76,447.559 \n",
       "  \"/>\n",
       "<polyline clip-path=\"url(#clip792)\" style=\"stroke:#000000; stroke-width:2; stroke-opacity:0.1; fill:none\" points=\"\n",
       "  175.445,135.557 2352.76,135.557 \n",
       "  \"/>\n",
       "<polyline clip-path=\"url(#clip790)\" style=\"stroke:#000000; stroke-width:4; stroke-opacity:1; fill:none\" points=\"\n",
       "  175.445,1423.18 175.445,47.2441 \n",
       "  \"/>\n",
       "<polyline clip-path=\"url(#clip790)\" style=\"stroke:#000000; stroke-width:4; stroke-opacity:1; fill:none\" points=\"\n",
       "  175.445,1383.56 201.573,1383.56 \n",
       "  \"/>\n",
       "<polyline clip-path=\"url(#clip790)\" style=\"stroke:#000000; stroke-width:4; stroke-opacity:1; fill:none\" points=\"\n",
       "  175.445,1071.56 201.573,1071.56 \n",
       "  \"/>\n",
       "<polyline clip-path=\"url(#clip790)\" style=\"stroke:#000000; stroke-width:4; stroke-opacity:1; fill:none\" points=\"\n",
       "  175.445,759.561 201.573,759.561 \n",
       "  \"/>\n",
       "<polyline clip-path=\"url(#clip790)\" style=\"stroke:#000000; stroke-width:4; stroke-opacity:1; fill:none\" points=\"\n",
       "  175.445,447.559 201.573,447.559 \n",
       "  \"/>\n",
       "<polyline clip-path=\"url(#clip790)\" style=\"stroke:#000000; stroke-width:4; stroke-opacity:1; fill:none\" points=\"\n",
       "  175.445,135.557 201.573,135.557 \n",
       "  \"/>\n",
       "<path clip-path=\"url(#clip790)\" d=\"M 0 0 M127.501 1369.36 Q123.89 1369.36 122.061 1372.93 Q120.255 1376.47 120.255 1383.6 Q120.255 1390.7 122.061 1394.27 Q123.89 1397.81 127.501 1397.81 Q131.135 1397.81 132.941 1394.27 Q134.769 1390.7 134.769 1383.6 Q134.769 1376.47 132.941 1372.93 Q131.135 1369.36 127.501 1369.36 M127.501 1365.66 Q133.311 1365.66 136.367 1370.27 Q139.445 1374.85 139.445 1383.6 Q139.445 1392.33 136.367 1396.93 Q133.311 1401.51 127.501 1401.51 Q121.691 1401.51 118.612 1396.93 Q115.556 1392.33 115.556 1383.6 Q115.556 1374.85 118.612 1370.27 Q121.691 1365.66 127.501 1365.66 Z\" fill=\"#000000\" fill-rule=\"evenodd\" fill-opacity=\"1\" /><path clip-path=\"url(#clip790)\" d=\"M 0 0 M119.538 1084.91 L127.177 1084.91 L127.177 1058.54 L118.867 1060.21 L118.867 1055.95 L127.13 1054.28 L131.806 1054.28 L131.806 1084.91 L139.445 1084.91 L139.445 1088.84 L119.538 1088.84 L119.538 1084.91 Z\" fill=\"#000000\" fill-rule=\"evenodd\" fill-opacity=\"1\" /><path clip-path=\"url(#clip790)\" d=\"M 0 0 M123.126 772.905 L139.445 772.905 L139.445 776.841 L117.501 776.841 L117.501 772.905 Q120.163 770.151 124.746 765.521 Q129.353 760.868 130.533 759.526 Q132.779 757.003 133.658 755.267 Q134.561 753.507 134.561 751.818 Q134.561 749.063 132.617 747.327 Q130.695 745.591 127.593 745.591 Q125.394 745.591 122.941 746.355 Q120.51 747.118 117.732 748.669 L117.732 743.947 Q120.556 742.813 123.01 742.234 Q125.464 741.656 127.501 741.656 Q132.871 741.656 136.066 744.341 Q139.26 747.026 139.26 751.517 Q139.26 753.646 138.45 755.568 Q137.663 757.466 135.556 760.058 Q134.978 760.73 131.876 763.947 Q128.774 767.142 123.126 772.905 Z\" fill=\"#000000\" fill-rule=\"evenodd\" fill-opacity=\"1\" /><path clip-path=\"url(#clip790)\" d=\"M 0 0 M132.316 446.205 Q135.672 446.922 137.547 449.191 Q139.445 451.459 139.445 454.793 Q139.445 459.908 135.927 462.709 Q132.408 465.51 125.927 465.51 Q123.751 465.51 121.436 465.07 Q119.144 464.654 116.691 463.797 L116.691 459.283 Q118.635 460.418 120.95 460.996 Q123.265 461.575 125.788 461.575 Q130.186 461.575 132.478 459.839 Q134.792 458.103 134.792 454.793 Q134.792 451.737 132.64 450.024 Q130.51 448.288 126.691 448.288 L122.663 448.288 L122.663 444.446 L126.876 444.446 Q130.325 444.446 132.154 443.08 Q133.982 441.691 133.982 439.098 Q133.982 436.436 132.084 435.024 Q130.209 433.589 126.691 433.589 Q124.769 433.589 122.57 434.006 Q120.371 434.423 117.732 435.302 L117.732 431.135 Q120.394 430.395 122.709 430.024 Q125.047 429.654 127.107 429.654 Q132.431 429.654 135.533 432.085 Q138.635 434.492 138.635 438.612 Q138.635 441.483 136.992 443.473 Q135.348 445.441 132.316 446.205 Z\" fill=\"#000000\" fill-rule=\"evenodd\" fill-opacity=\"1\" /><path clip-path=\"url(#clip790)\" d=\"M 0 0 M129.862 122.352 L118.056 140.801 L129.862 140.801 L129.862 122.352 M128.635 118.277 L134.515 118.277 L134.515 140.801 L139.445 140.801 L139.445 144.689 L134.515 144.689 L134.515 152.837 L129.862 152.837 L129.862 144.689 L114.26 144.689 L114.26 140.176 L128.635 118.277 Z\" fill=\"#000000\" fill-rule=\"evenodd\" fill-opacity=\"1\" /><path clip-path=\"url(#clip790)\" d=\"M 0 0 M44.8447 932.517 Q44.8447 939.519 50.0645 943.657 Q55.2844 947.763 64.2919 947.763 Q73.2675 947.763 78.4874 943.657 Q83.7073 939.519 83.7073 932.517 Q83.7073 925.515 78.4874 921.441 Q73.2675 917.335 64.2919 917.335 Q55.2844 917.335 50.0645 921.441 Q44.8447 925.515 44.8447 932.517 M39.6248 932.517 Q39.6248 922.523 46.3406 916.539 Q53.0246 910.555 64.2919 910.555 Q75.5274 910.555 82.2432 916.539 Q88.9272 922.523 88.9272 932.517 Q88.9272 942.543 82.2432 948.559 Q75.5592 954.542 64.2919 954.542 Q53.0246 954.542 46.3406 948.559 Q39.6248 942.543 39.6248 932.517 Z\" fill=\"#000000\" fill-rule=\"evenodd\" fill-opacity=\"1\" /><path clip-path=\"url(#clip790)\" d=\"M 0 0 M82.657 898.747 L101.563 898.747 L101.563 904.635 L52.3562 904.635 L52.3562 898.747 L57.7671 898.747 Q54.5842 896.901 53.0564 894.1 Q51.4968 891.267 51.4968 887.352 Q51.4968 880.859 56.6531 876.817 Q61.8093 872.743 70.212 872.743 Q78.6147 872.743 83.771 876.817 Q88.9272 880.859 88.9272 887.352 Q88.9272 891.267 87.3994 894.1 Q85.8398 896.901 82.657 898.747 M70.212 878.822 Q63.7508 878.822 60.0905 881.496 Q56.3984 884.138 56.3984 888.785 Q56.3984 893.432 60.0905 896.105 Q63.7508 898.747 70.212 898.747 Q76.6732 898.747 80.3653 896.105 Q84.0256 893.432 84.0256 888.785 Q84.0256 884.138 80.3653 881.496 Q76.6732 878.822 70.212 878.822 Z\" fill=\"#000000\" fill-rule=\"evenodd\" fill-opacity=\"1\" /><path clip-path=\"url(#clip790)\" d=\"M 0 0 M68.7161 836.108 L71.5806 836.108 L71.5806 863.035 Q77.6281 862.653 80.8109 859.407 Q83.9619 856.129 83.9619 850.304 Q83.9619 846.93 83.1344 843.779 Q82.3069 840.596 80.6518 837.477 L86.1899 837.477 Q87.5267 840.628 88.227 843.938 Q88.9272 847.248 88.9272 850.654 Q88.9272 859.184 83.9619 864.181 Q78.9967 869.146 70.5303 869.146 Q61.7774 869.146 56.6531 864.436 Q51.4968 859.693 51.4968 851.673 Q51.4968 844.479 56.1438 840.31 Q60.7589 836.108 68.7161 836.108 M66.9973 841.965 Q62.1912 842.029 59.3266 844.67 Q56.4621 847.28 56.4621 851.609 Q56.4621 856.511 59.2312 859.471 Q62.0002 862.399 67.0292 862.844 L66.9973 841.965 Z\" fill=\"#000000\" fill-rule=\"evenodd\" fill-opacity=\"1\" /><path clip-path=\"url(#clip790)\" d=\"M 0 0 M57.8307 809.309 Q57.2578 810.295 57.0032 811.473 Q56.7167 812.619 56.7167 814.019 Q56.7167 818.985 59.9632 821.658 Q63.1779 824.3 69.2253 824.3 L88.0042 824.3 L88.0042 830.188 L52.3562 830.188 L52.3562 824.3 L57.8944 824.3 Q54.6479 822.454 53.0883 819.494 Q51.4968 816.534 51.4968 812.301 Q51.4968 811.696 51.5923 810.964 Q51.656 810.232 51.8151 809.341 L57.8307 809.309 Z\" fill=\"#000000\" fill-rule=\"evenodd\" fill-opacity=\"1\" /><path clip-path=\"url(#clip790)\" d=\"M 0 0 M70.0847 786.965 Q70.0847 794.063 71.7079 796.8 Q73.3312 799.537 77.2461 799.537 Q80.3653 799.537 82.2114 797.5 Q84.0256 795.432 84.0256 791.899 Q84.0256 787.029 80.5881 784.101 Q77.1188 781.141 71.3897 781.141 L70.0847 781.141 L70.0847 786.965 M67.6657 775.284 L88.0042 775.284 L88.0042 781.141 L82.5933 781.141 Q85.8398 783.146 87.3994 786.138 Q88.9272 789.13 88.9272 793.458 Q88.9272 798.933 85.8716 802.179 Q82.7843 805.394 77.6281 805.394 Q71.6125 805.394 68.5569 801.383 Q65.5014 797.341 65.5014 789.352 L65.5014 781.141 L64.9285 781.141 Q60.8862 781.141 58.6901 783.814 Q56.4621 786.456 56.4621 791.262 Q56.4621 794.318 57.1941 797.214 Q57.9262 800.11 59.3903 802.784 L53.9795 802.784 Q52.7381 799.569 52.1334 796.546 Q51.4968 793.522 51.4968 790.657 Q51.4968 782.923 55.5072 779.104 Q59.5176 775.284 67.6657 775.284 Z\" fill=\"#000000\" fill-rule=\"evenodd\" fill-opacity=\"1\" /><path clip-path=\"url(#clip790)\" d=\"M 0 0 M42.2347 763.348 L52.3562 763.348 L52.3562 751.285 L56.9077 751.285 L56.9077 763.348 L76.2594 763.348 Q80.6199 763.348 81.8613 762.171 Q83.1026 760.961 83.1026 757.301 L83.1026 751.285 L88.0042 751.285 L88.0042 757.301 Q88.0042 764.08 85.4897 766.659 Q82.9434 769.237 76.2594 769.237 L56.9077 769.237 L56.9077 773.534 L52.3562 773.534 L52.3562 769.237 L42.2347 769.237 L42.2347 763.348 Z\" fill=\"#000000\" fill-rule=\"evenodd\" fill-opacity=\"1\" /><path clip-path=\"url(#clip790)\" d=\"M 0 0 M52.3562 745.142 L52.3562 739.286 L88.0042 739.286 L88.0042 745.142 L52.3562 745.142 M38.479 745.142 L38.479 739.286 L45.895 739.286 L45.895 745.142 L38.479 745.142 Z\" fill=\"#000000\" fill-rule=\"evenodd\" fill-opacity=\"1\" /><path clip-path=\"url(#clip790)\" d=\"M 0 0 M56.4621 719.33 Q56.4621 724.04 60.1542 726.777 Q63.8145 729.515 70.212 729.515 Q76.6095 729.515 80.3017 726.809 Q83.9619 724.072 83.9619 719.33 Q83.9619 714.651 80.2698 711.913 Q76.5777 709.176 70.212 709.176 Q63.8781 709.176 60.186 711.913 Q56.4621 714.651 56.4621 719.33 M51.4968 719.33 Q51.4968 711.691 56.4621 707.33 Q61.4273 702.97 70.212 702.97 Q78.9649 702.97 83.9619 707.33 Q88.9272 711.691 88.9272 719.33 Q88.9272 727 83.9619 731.361 Q78.9649 735.689 70.212 735.689 Q61.4273 735.689 56.4621 731.361 Q51.4968 727 51.4968 719.33 Z\" fill=\"#000000\" fill-rule=\"evenodd\" fill-opacity=\"1\" /><path clip-path=\"url(#clip790)\" d=\"M 0 0 M66.4881 667.194 L88.0042 667.194 L88.0042 673.051 L66.679 673.051 Q61.6183 673.051 59.1038 675.024 Q56.5894 676.998 56.5894 680.944 Q56.5894 685.687 59.6131 688.424 Q62.6368 691.161 67.8567 691.161 L88.0042 691.161 L88.0042 697.05 L52.3562 697.05 L52.3562 691.161 L57.8944 691.161 Q54.6797 689.061 53.0883 686.228 Q51.4968 683.363 51.4968 679.639 Q51.4968 673.496 55.3163 670.345 Q59.1038 667.194 66.4881 667.194 Z\" fill=\"#000000\" fill-rule=\"evenodd\" fill-opacity=\"1\" /><path clip-path=\"url(#clip790)\" d=\"M 0 0 M42.2347 634.538 L52.3562 634.538 L52.3562 622.475 L56.9077 622.475 L56.9077 634.538 L76.2594 634.538 Q80.6199 634.538 81.8613 633.361 Q83.1026 632.151 83.1026 628.491 L83.1026 622.475 L88.0042 622.475 L88.0042 628.491 Q88.0042 635.27 85.4897 637.848 Q82.9434 640.427 76.2594 640.427 L56.9077 640.427 L56.9077 644.723 L52.3562 644.723 L52.3562 640.427 L42.2347 640.427 L42.2347 634.538 Z\" fill=\"#000000\" fill-rule=\"evenodd\" fill-opacity=\"1\" /><path clip-path=\"url(#clip790)\" d=\"M 0 0 M52.3562 616.332 L52.3562 610.476 L88.0042 610.476 L88.0042 616.332 L52.3562 616.332 M38.479 616.332 L38.479 610.476 L45.895 610.476 L45.895 616.332 L38.479 616.332 Z\" fill=\"#000000\" fill-rule=\"evenodd\" fill-opacity=\"1\" /><path clip-path=\"url(#clip790)\" d=\"M 0 0 M59.1993 576.579 Q55.2526 574.382 53.3747 571.327 Q51.4968 568.271 51.4968 564.134 Q51.4968 558.564 55.4117 555.54 Q59.2948 552.516 66.4881 552.516 L88.0042 552.516 L88.0042 558.404 L66.679 558.404 Q61.5546 558.404 59.072 560.219 Q56.5894 562.033 56.5894 565.757 Q56.5894 570.308 59.6131 572.95 Q62.6368 575.592 67.8567 575.592 L88.0042 575.592 L88.0042 581.48 L66.679 581.48 Q61.5228 581.48 59.072 583.294 Q56.5894 585.109 56.5894 588.896 Q56.5894 593.384 59.6449 596.026 Q62.6686 598.668 67.8567 598.668 L88.0042 598.668 L88.0042 604.556 L52.3562 604.556 L52.3562 598.668 L57.8944 598.668 Q54.616 596.662 53.0564 593.861 Q51.4968 591.061 51.4968 587.209 Q51.4968 583.326 53.4702 580.621 Q55.4436 577.884 59.1993 576.579 Z\" fill=\"#000000\" fill-rule=\"evenodd\" fill-opacity=\"1\" /><path clip-path=\"url(#clip790)\" d=\"M 0 0 M68.7161 515.882 L71.5806 515.882 L71.5806 542.808 Q77.6281 542.427 80.8109 539.18 Q83.9619 535.902 83.9619 530.077 Q83.9619 526.703 83.1344 523.552 Q82.3069 520.369 80.6518 517.25 L86.1899 517.25 Q87.5267 520.401 88.227 523.711 Q88.9272 527.022 88.9272 530.427 Q88.9272 538.957 83.9619 543.954 Q78.9967 548.92 70.5303 548.92 Q61.7774 548.92 56.6531 544.209 Q51.4968 539.466 51.4968 531.446 Q51.4968 524.252 56.1438 520.083 Q60.7589 515.882 68.7161 515.882 M66.9973 521.738 Q62.1912 521.802 59.3266 524.443 Q56.4621 527.053 56.4621 531.382 Q56.4621 536.284 59.2312 539.244 Q62.0002 542.172 67.0292 542.618 L66.9973 521.738 Z\" fill=\"#000000\" fill-rule=\"evenodd\" fill-opacity=\"1\" /><polyline clip-path=\"url(#clip792)\" style=\"stroke:#000000; stroke-width:4; stroke-opacity:1; fill:none\" points=\"\n",
       "  237.067,1383.56 237.067,1383.56 \n",
       "  \"/>\n",
       "<polyline clip-path=\"url(#clip792)\" style=\"stroke:#000000; stroke-width:4; stroke-opacity:1; fill:none\" points=\"\n",
       "  395.072,1383.56 395.072,1383.56 \n",
       "  \"/>\n",
       "<polyline clip-path=\"url(#clip792)\" style=\"stroke:#000000; stroke-width:4; stroke-opacity:1; fill:none\" points=\"\n",
       "  553.077,1384.24 553.077,1382.26 \n",
       "  \"/>\n",
       "<polyline clip-path=\"url(#clip792)\" style=\"stroke:#000000; stroke-width:4; stroke-opacity:1; fill:none\" points=\"\n",
       "  711.083,1383.93 711.083,1380.7 \n",
       "  \"/>\n",
       "<polyline clip-path=\"url(#clip792)\" style=\"stroke:#000000; stroke-width:4; stroke-opacity:1; fill:none\" points=\"\n",
       "  869.088,1381.14 869.088,1378.5 \n",
       "  \"/>\n",
       "<polyline clip-path=\"url(#clip792)\" style=\"stroke:#000000; stroke-width:4; stroke-opacity:1; fill:none\" points=\"\n",
       "  1027.09,1377.32 1027.09,1377.32 \n",
       "  \"/>\n",
       "<polyline clip-path=\"url(#clip792)\" style=\"stroke:#000000; stroke-width:4; stroke-opacity:1; fill:none\" points=\"\n",
       "  1185.1,1374.29 1185.1,1371 \n",
       "  \"/>\n",
       "<polyline clip-path=\"url(#clip792)\" style=\"stroke:#000000; stroke-width:4; stroke-opacity:1; fill:none\" points=\"\n",
       "  1343.1,1368.33 1343.1,1365.1 \n",
       "  \"/>\n",
       "<polyline clip-path=\"url(#clip792)\" style=\"stroke:#000000; stroke-width:4; stroke-opacity:1; fill:none\" points=\"\n",
       "  1501.11,1358.6 1501.11,1358.6 \n",
       "  \"/>\n",
       "<polyline clip-path=\"url(#clip792)\" style=\"stroke:#000000; stroke-width:4; stroke-opacity:1; fill:none\" points=\"\n",
       "  1659.11,1349.92 1659.11,1347.94 \n",
       "  \"/>\n",
       "<polyline clip-path=\"url(#clip792)\" style=\"stroke:#000000; stroke-width:4; stroke-opacity:1; fill:none\" points=\"\n",
       "  1817.12,1337.45 1817.12,1334.82 \n",
       "  \"/>\n",
       "<polyline clip-path=\"url(#clip792)\" style=\"stroke:#000000; stroke-width:4; stroke-opacity:1; fill:none\" points=\"\n",
       "  1975.12,1322.46 1975.12,1320.49 \n",
       "  \"/>\n",
       "<polyline clip-path=\"url(#clip792)\" style=\"stroke:#000000; stroke-width:4; stroke-opacity:1; fill:none\" points=\"\n",
       "  2133.13,1304.38 2133.13,1301.75 \n",
       "  \"/>\n",
       "<polyline clip-path=\"url(#clip792)\" style=\"stroke:#000000; stroke-width:4; stroke-opacity:1; fill:none\" points=\"\n",
       "  2291.13,1283.46 2291.13,1280.24 \n",
       "  \"/>\n",
       "<line clip-path=\"url(#clip792)\" x1=\"253.067\" y1=\"1383.56\" x2=\"221.067\" y2=\"1383.56\" style=\"stroke:#000000; stroke-width:3.2; stroke-opacity:1\"/>\n",
       "<line clip-path=\"url(#clip792)\" x1=\"253.067\" y1=\"1383.56\" x2=\"221.067\" y2=\"1383.56\" style=\"stroke:#000000; stroke-width:3.2; stroke-opacity:1\"/>\n",
       "<line clip-path=\"url(#clip792)\" x1=\"411.072\" y1=\"1383.56\" x2=\"379.072\" y2=\"1383.56\" style=\"stroke:#000000; stroke-width:3.2; stroke-opacity:1\"/>\n",
       "<line clip-path=\"url(#clip792)\" x1=\"411.072\" y1=\"1383.56\" x2=\"379.072\" y2=\"1383.56\" style=\"stroke:#000000; stroke-width:3.2; stroke-opacity:1\"/>\n",
       "<line clip-path=\"url(#clip792)\" x1=\"569.077\" y1=\"1384.24\" x2=\"537.077\" y2=\"1384.24\" style=\"stroke:#000000; stroke-width:3.2; stroke-opacity:1\"/>\n",
       "<line clip-path=\"url(#clip792)\" x1=\"569.077\" y1=\"1382.26\" x2=\"537.077\" y2=\"1382.26\" style=\"stroke:#000000; stroke-width:3.2; stroke-opacity:1\"/>\n",
       "<line clip-path=\"url(#clip792)\" x1=\"727.083\" y1=\"1383.93\" x2=\"695.083\" y2=\"1383.93\" style=\"stroke:#000000; stroke-width:3.2; stroke-opacity:1\"/>\n",
       "<line clip-path=\"url(#clip792)\" x1=\"727.083\" y1=\"1380.7\" x2=\"695.083\" y2=\"1380.7\" style=\"stroke:#000000; stroke-width:3.2; stroke-opacity:1\"/>\n",
       "<line clip-path=\"url(#clip792)\" x1=\"885.088\" y1=\"1381.14\" x2=\"853.088\" y2=\"1381.14\" style=\"stroke:#000000; stroke-width:3.2; stroke-opacity:1\"/>\n",
       "<line clip-path=\"url(#clip792)\" x1=\"885.088\" y1=\"1378.5\" x2=\"853.088\" y2=\"1378.5\" style=\"stroke:#000000; stroke-width:3.2; stroke-opacity:1\"/>\n",
       "<line clip-path=\"url(#clip792)\" x1=\"1043.09\" y1=\"1377.32\" x2=\"1011.09\" y2=\"1377.32\" style=\"stroke:#000000; stroke-width:3.2; stroke-opacity:1\"/>\n",
       "<line clip-path=\"url(#clip792)\" x1=\"1043.09\" y1=\"1377.32\" x2=\"1011.09\" y2=\"1377.32\" style=\"stroke:#000000; stroke-width:3.2; stroke-opacity:1\"/>\n",
       "<line clip-path=\"url(#clip792)\" x1=\"1201.1\" y1=\"1374.29\" x2=\"1169.1\" y2=\"1374.29\" style=\"stroke:#000000; stroke-width:3.2; stroke-opacity:1\"/>\n",
       "<line clip-path=\"url(#clip792)\" x1=\"1201.1\" y1=\"1371\" x2=\"1169.1\" y2=\"1371\" style=\"stroke:#000000; stroke-width:3.2; stroke-opacity:1\"/>\n",
       "<line clip-path=\"url(#clip792)\" x1=\"1359.1\" y1=\"1368.33\" x2=\"1327.1\" y2=\"1368.33\" style=\"stroke:#000000; stroke-width:3.2; stroke-opacity:1\"/>\n",
       "<line clip-path=\"url(#clip792)\" x1=\"1359.1\" y1=\"1365.1\" x2=\"1327.1\" y2=\"1365.1\" style=\"stroke:#000000; stroke-width:3.2; stroke-opacity:1\"/>\n",
       "<line clip-path=\"url(#clip792)\" x1=\"1517.11\" y1=\"1358.6\" x2=\"1485.11\" y2=\"1358.6\" style=\"stroke:#000000; stroke-width:3.2; stroke-opacity:1\"/>\n",
       "<line clip-path=\"url(#clip792)\" x1=\"1517.11\" y1=\"1358.6\" x2=\"1485.11\" y2=\"1358.6\" style=\"stroke:#000000; stroke-width:3.2; stroke-opacity:1\"/>\n",
       "<line clip-path=\"url(#clip792)\" x1=\"1675.11\" y1=\"1349.92\" x2=\"1643.11\" y2=\"1349.92\" style=\"stroke:#000000; stroke-width:3.2; stroke-opacity:1\"/>\n",
       "<line clip-path=\"url(#clip792)\" x1=\"1675.11\" y1=\"1347.94\" x2=\"1643.11\" y2=\"1347.94\" style=\"stroke:#000000; stroke-width:3.2; stroke-opacity:1\"/>\n",
       "<line clip-path=\"url(#clip792)\" x1=\"1833.12\" y1=\"1337.45\" x2=\"1801.12\" y2=\"1337.45\" style=\"stroke:#000000; stroke-width:3.2; stroke-opacity:1\"/>\n",
       "<line clip-path=\"url(#clip792)\" x1=\"1833.12\" y1=\"1334.82\" x2=\"1801.12\" y2=\"1334.82\" style=\"stroke:#000000; stroke-width:3.2; stroke-opacity:1\"/>\n",
       "<line clip-path=\"url(#clip792)\" x1=\"1991.12\" y1=\"1322.46\" x2=\"1959.12\" y2=\"1322.46\" style=\"stroke:#000000; stroke-width:3.2; stroke-opacity:1\"/>\n",
       "<line clip-path=\"url(#clip792)\" x1=\"1991.12\" y1=\"1320.49\" x2=\"1959.12\" y2=\"1320.49\" style=\"stroke:#000000; stroke-width:3.2; stroke-opacity:1\"/>\n",
       "<line clip-path=\"url(#clip792)\" x1=\"2149.13\" y1=\"1304.38\" x2=\"2117.13\" y2=\"1304.38\" style=\"stroke:#000000; stroke-width:3.2; stroke-opacity:1\"/>\n",
       "<line clip-path=\"url(#clip792)\" x1=\"2149.13\" y1=\"1301.75\" x2=\"2117.13\" y2=\"1301.75\" style=\"stroke:#000000; stroke-width:3.2; stroke-opacity:1\"/>\n",
       "<line clip-path=\"url(#clip792)\" x1=\"2307.13\" y1=\"1283.46\" x2=\"2275.13\" y2=\"1283.46\" style=\"stroke:#000000; stroke-width:3.2; stroke-opacity:1\"/>\n",
       "<line clip-path=\"url(#clip792)\" x1=\"2307.13\" y1=\"1280.24\" x2=\"2275.13\" y2=\"1280.24\" style=\"stroke:#000000; stroke-width:3.2; stroke-opacity:1\"/>\n",
       "<circle clip-path=\"url(#clip792)\" cx=\"237.067\" cy=\"1383.56\" r=\"14\" fill=\"#ff0000\" fill-rule=\"evenodd\" fill-opacity=\"1\" stroke=\"#000000\" stroke-opacity=\"1\" stroke-width=\"3.2\"/>\n",
       "<circle clip-path=\"url(#clip792)\" cx=\"395.072\" cy=\"1383.56\" r=\"14\" fill=\"#ff0000\" fill-rule=\"evenodd\" fill-opacity=\"1\" stroke=\"#000000\" stroke-opacity=\"1\" stroke-width=\"3.2\"/>\n",
       "<circle clip-path=\"url(#clip792)\" cx=\"553.077\" cy=\"1383.25\" r=\"14\" fill=\"#ff0000\" fill-rule=\"evenodd\" fill-opacity=\"1\" stroke=\"#000000\" stroke-opacity=\"1\" stroke-width=\"3.2\"/>\n",
       "<circle clip-path=\"url(#clip792)\" cx=\"711.083\" cy=\"1382.32\" r=\"14\" fill=\"#ff0000\" fill-rule=\"evenodd\" fill-opacity=\"1\" stroke=\"#000000\" stroke-opacity=\"1\" stroke-width=\"3.2\"/>\n",
       "<circle clip-path=\"url(#clip792)\" cx=\"869.088\" cy=\"1379.82\" r=\"14\" fill=\"#ff0000\" fill-rule=\"evenodd\" fill-opacity=\"1\" stroke=\"#000000\" stroke-opacity=\"1\" stroke-width=\"3.2\"/>\n",
       "<circle clip-path=\"url(#clip792)\" cx=\"1027.09\" cy=\"1377.32\" r=\"14\" fill=\"#ff0000\" fill-rule=\"evenodd\" fill-opacity=\"1\" stroke=\"#000000\" stroke-opacity=\"1\" stroke-width=\"3.2\"/>\n",
       "<circle clip-path=\"url(#clip792)\" cx=\"1185.1\" cy=\"1372.64\" r=\"14\" fill=\"#ff0000\" fill-rule=\"evenodd\" fill-opacity=\"1\" stroke=\"#000000\" stroke-opacity=\"1\" stroke-width=\"3.2\"/>\n",
       "<circle clip-path=\"url(#clip792)\" cx=\"1343.1\" cy=\"1366.72\" r=\"14\" fill=\"#ff0000\" fill-rule=\"evenodd\" fill-opacity=\"1\" stroke=\"#000000\" stroke-opacity=\"1\" stroke-width=\"3.2\"/>\n",
       "<circle clip-path=\"url(#clip792)\" cx=\"1501.11\" cy=\"1358.6\" r=\"14\" fill=\"#ff0000\" fill-rule=\"evenodd\" fill-opacity=\"1\" stroke=\"#000000\" stroke-opacity=\"1\" stroke-width=\"3.2\"/>\n",
       "<circle clip-path=\"url(#clip792)\" cx=\"1659.11\" cy=\"1348.93\" r=\"14\" fill=\"#ff0000\" fill-rule=\"evenodd\" fill-opacity=\"1\" stroke=\"#000000\" stroke-opacity=\"1\" stroke-width=\"3.2\"/>\n",
       "<circle clip-path=\"url(#clip792)\" cx=\"1817.12\" cy=\"1336.14\" r=\"14\" fill=\"#ff0000\" fill-rule=\"evenodd\" fill-opacity=\"1\" stroke=\"#000000\" stroke-opacity=\"1\" stroke-width=\"3.2\"/>\n",
       "<circle clip-path=\"url(#clip792)\" cx=\"1975.12\" cy=\"1321.48\" r=\"14\" fill=\"#ff0000\" fill-rule=\"evenodd\" fill-opacity=\"1\" stroke=\"#000000\" stroke-opacity=\"1\" stroke-width=\"3.2\"/>\n",
       "<circle clip-path=\"url(#clip792)\" cx=\"2133.13\" cy=\"1303.07\" r=\"14\" fill=\"#ff0000\" fill-rule=\"evenodd\" fill-opacity=\"1\" stroke=\"#000000\" stroke-opacity=\"1\" stroke-width=\"3.2\"/>\n",
       "<circle clip-path=\"url(#clip792)\" cx=\"2291.13\" cy=\"1281.85\" r=\"14\" fill=\"#ff0000\" fill-rule=\"evenodd\" fill-opacity=\"1\" stroke=\"#000000\" stroke-opacity=\"1\" stroke-width=\"3.2\"/>\n",
       "<polyline clip-path=\"url(#clip792)\" style=\"stroke:#000000; stroke-width:4; stroke-opacity:1; fill:none\" points=\"\n",
       "  237.067,1383.56 237.067,1383.56 \n",
       "  \"/>\n",
       "<polyline clip-path=\"url(#clip792)\" style=\"stroke:#000000; stroke-width:4; stroke-opacity:1; fill:none\" points=\"\n",
       "  395.072,1384.24 395.072,1382.26 \n",
       "  \"/>\n",
       "<polyline clip-path=\"url(#clip792)\" style=\"stroke:#000000; stroke-width:4; stroke-opacity:1; fill:none\" points=\"\n",
       "  553.077,1380.18 553.077,1376.96 \n",
       "  \"/>\n",
       "<polyline clip-path=\"url(#clip792)\" style=\"stroke:#000000; stroke-width:4; stroke-opacity:1; fill:none\" points=\"\n",
       "  711.083,1369.43 711.083,1366.49 \n",
       "  \"/>\n",
       "<polyline clip-path=\"url(#clip792)\" style=\"stroke:#000000; stroke-width:4; stroke-opacity:1; fill:none\" points=\"\n",
       "  869.088,1348.72 869.088,1344.77 \n",
       "  \"/>\n",
       "<polyline clip-path=\"url(#clip792)\" style=\"stroke:#000000; stroke-width:4; stroke-opacity:1; fill:none\" points=\"\n",
       "  1027.09,1315.61 1027.09,1312.98 \n",
       "  \"/>\n",
       "<polyline clip-path=\"url(#clip792)\" style=\"stroke:#000000; stroke-width:4; stroke-opacity:1; fill:none\" points=\"\n",
       "  1185.1,1269.27 1185.1,1263.24 \n",
       "  \"/>\n",
       "<polyline clip-path=\"url(#clip792)\" style=\"stroke:#000000; stroke-width:4; stroke-opacity:1; fill:none\" points=\"\n",
       "  1343.1,1202.31 1343.1,1192.91 \n",
       "  \"/>\n",
       "<polyline clip-path=\"url(#clip792)\" style=\"stroke:#000000; stroke-width:4; stroke-opacity:1; fill:none\" points=\"\n",
       "  1501.11,1116.52 1501.11,1103.35 \n",
       "  \"/>\n",
       "<polyline clip-path=\"url(#clip792)\" style=\"stroke:#000000; stroke-width:4; stroke-opacity:1; fill:none\" points=\"\n",
       "  1659.11,1001.72 1659.11,990.399 \n",
       "  \"/>\n",
       "<polyline clip-path=\"url(#clip792)\" style=\"stroke:#000000; stroke-width:4; stroke-opacity:1; fill:none\" points=\"\n",
       "  1817.12,861.518 1817.12,854.164 \n",
       "  \"/>\n",
       "<polyline clip-path=\"url(#clip792)\" style=\"stroke:#000000; stroke-width:4; stroke-opacity:1; fill:none\" points=\"\n",
       "  1975.12,693.282 1975.12,674.207 \n",
       "  \"/>\n",
       "<polyline clip-path=\"url(#clip792)\" style=\"stroke:#000000; stroke-width:4; stroke-opacity:1; fill:none\" points=\"\n",
       "  2133.13,473.645 2133.13,435.201 \n",
       "  \"/>\n",
       "<polyline clip-path=\"url(#clip792)\" style=\"stroke:#000000; stroke-width:4; stroke-opacity:1; fill:none\" points=\"\n",
       "  2291.13,240.806 2291.13,219.381 \n",
       "  \"/>\n",
       "<line clip-path=\"url(#clip792)\" x1=\"253.067\" y1=\"1383.56\" x2=\"221.067\" y2=\"1383.56\" style=\"stroke:#000000; stroke-width:3.2; stroke-opacity:1\"/>\n",
       "<line clip-path=\"url(#clip792)\" x1=\"253.067\" y1=\"1383.56\" x2=\"221.067\" y2=\"1383.56\" style=\"stroke:#000000; stroke-width:3.2; stroke-opacity:1\"/>\n",
       "<line clip-path=\"url(#clip792)\" x1=\"411.072\" y1=\"1384.24\" x2=\"379.072\" y2=\"1384.24\" style=\"stroke:#000000; stroke-width:3.2; stroke-opacity:1\"/>\n",
       "<line clip-path=\"url(#clip792)\" x1=\"411.072\" y1=\"1382.26\" x2=\"379.072\" y2=\"1382.26\" style=\"stroke:#000000; stroke-width:3.2; stroke-opacity:1\"/>\n",
       "<line clip-path=\"url(#clip792)\" x1=\"569.077\" y1=\"1380.18\" x2=\"537.077\" y2=\"1380.18\" style=\"stroke:#000000; stroke-width:3.2; stroke-opacity:1\"/>\n",
       "<line clip-path=\"url(#clip792)\" x1=\"569.077\" y1=\"1376.96\" x2=\"537.077\" y2=\"1376.96\" style=\"stroke:#000000; stroke-width:3.2; stroke-opacity:1\"/>\n",
       "<line clip-path=\"url(#clip792)\" x1=\"727.083\" y1=\"1369.43\" x2=\"695.083\" y2=\"1369.43\" style=\"stroke:#000000; stroke-width:3.2; stroke-opacity:1\"/>\n",
       "<line clip-path=\"url(#clip792)\" x1=\"727.083\" y1=\"1366.49\" x2=\"695.083\" y2=\"1366.49\" style=\"stroke:#000000; stroke-width:3.2; stroke-opacity:1\"/>\n",
       "<line clip-path=\"url(#clip792)\" x1=\"885.088\" y1=\"1348.72\" x2=\"853.088\" y2=\"1348.72\" style=\"stroke:#000000; stroke-width:3.2; stroke-opacity:1\"/>\n",
       "<line clip-path=\"url(#clip792)\" x1=\"885.088\" y1=\"1344.77\" x2=\"853.088\" y2=\"1344.77\" style=\"stroke:#000000; stroke-width:3.2; stroke-opacity:1\"/>\n",
       "<line clip-path=\"url(#clip792)\" x1=\"1043.09\" y1=\"1315.61\" x2=\"1011.09\" y2=\"1315.61\" style=\"stroke:#000000; stroke-width:3.2; stroke-opacity:1\"/>\n",
       "<line clip-path=\"url(#clip792)\" x1=\"1043.09\" y1=\"1312.98\" x2=\"1011.09\" y2=\"1312.98\" style=\"stroke:#000000; stroke-width:3.2; stroke-opacity:1\"/>\n",
       "<line clip-path=\"url(#clip792)\" x1=\"1201.1\" y1=\"1269.27\" x2=\"1169.1\" y2=\"1269.27\" style=\"stroke:#000000; stroke-width:3.2; stroke-opacity:1\"/>\n",
       "<line clip-path=\"url(#clip792)\" x1=\"1201.1\" y1=\"1263.24\" x2=\"1169.1\" y2=\"1263.24\" style=\"stroke:#000000; stroke-width:3.2; stroke-opacity:1\"/>\n",
       "<line clip-path=\"url(#clip792)\" x1=\"1359.1\" y1=\"1202.31\" x2=\"1327.1\" y2=\"1202.31\" style=\"stroke:#000000; stroke-width:3.2; stroke-opacity:1\"/>\n",
       "<line clip-path=\"url(#clip792)\" x1=\"1359.1\" y1=\"1192.91\" x2=\"1327.1\" y2=\"1192.91\" style=\"stroke:#000000; stroke-width:3.2; stroke-opacity:1\"/>\n",
       "<line clip-path=\"url(#clip792)\" x1=\"1517.11\" y1=\"1116.52\" x2=\"1485.11\" y2=\"1116.52\" style=\"stroke:#000000; stroke-width:3.2; stroke-opacity:1\"/>\n",
       "<line clip-path=\"url(#clip792)\" x1=\"1517.11\" y1=\"1103.35\" x2=\"1485.11\" y2=\"1103.35\" style=\"stroke:#000000; stroke-width:3.2; stroke-opacity:1\"/>\n",
       "<line clip-path=\"url(#clip792)\" x1=\"1675.11\" y1=\"1001.72\" x2=\"1643.11\" y2=\"1001.72\" style=\"stroke:#000000; stroke-width:3.2; stroke-opacity:1\"/>\n",
       "<line clip-path=\"url(#clip792)\" x1=\"1675.11\" y1=\"990.399\" x2=\"1643.11\" y2=\"990.399\" style=\"stroke:#000000; stroke-width:3.2; stroke-opacity:1\"/>\n",
       "<line clip-path=\"url(#clip792)\" x1=\"1833.12\" y1=\"861.518\" x2=\"1801.12\" y2=\"861.518\" style=\"stroke:#000000; stroke-width:3.2; stroke-opacity:1\"/>\n",
       "<line clip-path=\"url(#clip792)\" x1=\"1833.12\" y1=\"854.164\" x2=\"1801.12\" y2=\"854.164\" style=\"stroke:#000000; stroke-width:3.2; stroke-opacity:1\"/>\n",
       "<line clip-path=\"url(#clip792)\" x1=\"1991.12\" y1=\"693.282\" x2=\"1959.12\" y2=\"693.282\" style=\"stroke:#000000; stroke-width:3.2; stroke-opacity:1\"/>\n",
       "<line clip-path=\"url(#clip792)\" x1=\"1991.12\" y1=\"674.207\" x2=\"1959.12\" y2=\"674.207\" style=\"stroke:#000000; stroke-width:3.2; stroke-opacity:1\"/>\n",
       "<line clip-path=\"url(#clip792)\" x1=\"2149.13\" y1=\"473.645\" x2=\"2117.13\" y2=\"473.645\" style=\"stroke:#000000; stroke-width:3.2; stroke-opacity:1\"/>\n",
       "<line clip-path=\"url(#clip792)\" x1=\"2149.13\" y1=\"435.201\" x2=\"2117.13\" y2=\"435.201\" style=\"stroke:#000000; stroke-width:3.2; stroke-opacity:1\"/>\n",
       "<line clip-path=\"url(#clip792)\" x1=\"2307.13\" y1=\"240.806\" x2=\"2275.13\" y2=\"240.806\" style=\"stroke:#000000; stroke-width:3.2; stroke-opacity:1\"/>\n",
       "<line clip-path=\"url(#clip792)\" x1=\"2307.13\" y1=\"219.381\" x2=\"2275.13\" y2=\"219.381\" style=\"stroke:#000000; stroke-width:3.2; stroke-opacity:1\"/>\n",
       "<circle clip-path=\"url(#clip792)\" cx=\"237.067\" cy=\"1383.56\" r=\"14\" fill=\"#0000ff\" fill-rule=\"evenodd\" fill-opacity=\"1\" stroke=\"#000000\" stroke-opacity=\"1\" stroke-width=\"3.2\"/>\n",
       "<circle clip-path=\"url(#clip792)\" cx=\"395.072\" cy=\"1383.25\" r=\"14\" fill=\"#0000ff\" fill-rule=\"evenodd\" fill-opacity=\"1\" stroke=\"#000000\" stroke-opacity=\"1\" stroke-width=\"3.2\"/>\n",
       "<circle clip-path=\"url(#clip792)\" cx=\"553.077\" cy=\"1378.57\" r=\"14\" fill=\"#0000ff\" fill-rule=\"evenodd\" fill-opacity=\"1\" stroke=\"#000000\" stroke-opacity=\"1\" stroke-width=\"3.2\"/>\n",
       "<circle clip-path=\"url(#clip792)\" cx=\"711.083\" cy=\"1367.96\" r=\"14\" fill=\"#0000ff\" fill-rule=\"evenodd\" fill-opacity=\"1\" stroke=\"#000000\" stroke-opacity=\"1\" stroke-width=\"3.2\"/>\n",
       "<circle clip-path=\"url(#clip792)\" cx=\"869.088\" cy=\"1346.75\" r=\"14\" fill=\"#0000ff\" fill-rule=\"evenodd\" fill-opacity=\"1\" stroke=\"#000000\" stroke-opacity=\"1\" stroke-width=\"3.2\"/>\n",
       "<circle clip-path=\"url(#clip792)\" cx=\"1027.09\" cy=\"1314.3\" r=\"14\" fill=\"#0000ff\" fill-rule=\"evenodd\" fill-opacity=\"1\" stroke=\"#000000\" stroke-opacity=\"1\" stroke-width=\"3.2\"/>\n",
       "<circle clip-path=\"url(#clip792)\" cx=\"1185.1\" cy=\"1266.25\" r=\"14\" fill=\"#0000ff\" fill-rule=\"evenodd\" fill-opacity=\"1\" stroke=\"#000000\" stroke-opacity=\"1\" stroke-width=\"3.2\"/>\n",
       "<circle clip-path=\"url(#clip792)\" cx=\"1343.1\" cy=\"1197.61\" r=\"14\" fill=\"#0000ff\" fill-rule=\"evenodd\" fill-opacity=\"1\" stroke=\"#000000\" stroke-opacity=\"1\" stroke-width=\"3.2\"/>\n",
       "<circle clip-path=\"url(#clip792)\" cx=\"1501.11\" cy=\"1109.94\" r=\"14\" fill=\"#0000ff\" fill-rule=\"evenodd\" fill-opacity=\"1\" stroke=\"#000000\" stroke-opacity=\"1\" stroke-width=\"3.2\"/>\n",
       "<circle clip-path=\"url(#clip792)\" cx=\"1659.11\" cy=\"996.058\" r=\"14\" fill=\"#0000ff\" fill-rule=\"evenodd\" fill-opacity=\"1\" stroke=\"#000000\" stroke-opacity=\"1\" stroke-width=\"3.2\"/>\n",
       "<circle clip-path=\"url(#clip792)\" cx=\"1817.12\" cy=\"857.841\" r=\"14\" fill=\"#0000ff\" fill-rule=\"evenodd\" fill-opacity=\"1\" stroke=\"#000000\" stroke-opacity=\"1\" stroke-width=\"3.2\"/>\n",
       "<circle clip-path=\"url(#clip792)\" cx=\"1975.12\" cy=\"683.744\" r=\"14\" fill=\"#0000ff\" fill-rule=\"evenodd\" fill-opacity=\"1\" stroke=\"#000000\" stroke-opacity=\"1\" stroke-width=\"3.2\"/>\n",
       "<circle clip-path=\"url(#clip792)\" cx=\"2133.13\" cy=\"454.423\" r=\"14\" fill=\"#0000ff\" fill-rule=\"evenodd\" fill-opacity=\"1\" stroke=\"#000000\" stroke-opacity=\"1\" stroke-width=\"3.2\"/>\n",
       "<circle clip-path=\"url(#clip792)\" cx=\"2291.13\" cy=\"230.094\" r=\"14\" fill=\"#0000ff\" fill-rule=\"evenodd\" fill-opacity=\"1\" stroke=\"#000000\" stroke-opacity=\"1\" stroke-width=\"3.2\"/>\n",
       "<polyline clip-path=\"url(#clip792)\" style=\"stroke:#000000; stroke-width:4; stroke-opacity:1; fill:none\" points=\"\n",
       "  237.067,1383.56 237.067,1383.56 \n",
       "  \"/>\n",
       "<polyline clip-path=\"url(#clip792)\" style=\"stroke:#000000; stroke-width:4; stroke-opacity:1; fill:none\" points=\"\n",
       "  395.072,1383.93 395.072,1380.7 \n",
       "  \"/>\n",
       "<polyline clip-path=\"url(#clip792)\" style=\"stroke:#000000; stroke-width:4; stroke-opacity:1; fill:none\" points=\"\n",
       "  553.077,1380.18 553.077,1376.96 \n",
       "  \"/>\n",
       "<polyline clip-path=\"url(#clip792)\" style=\"stroke:#000000; stroke-width:4; stroke-opacity:1; fill:none\" points=\"\n",
       "  711.083,1368.05 711.083,1364.76 \n",
       "  \"/>\n",
       "<polyline clip-path=\"url(#clip792)\" style=\"stroke:#000000; stroke-width:4; stroke-opacity:1; fill:none\" points=\"\n",
       "  869.088,1347.47 869.088,1343.53 \n",
       "  \"/>\n",
       "<polyline clip-path=\"url(#clip792)\" style=\"stroke:#000000; stroke-width:4; stroke-opacity:1; fill:none\" points=\"\n",
       "  1027.09,1310.76 1027.09,1306.6 \n",
       "  \"/>\n",
       "<polyline clip-path=\"url(#clip792)\" style=\"stroke:#000000; stroke-width:4; stroke-opacity:1; fill:none\" points=\"\n",
       "  1185.1,1260.57 1185.1,1253.83 \n",
       "  \"/>\n",
       "<polyline clip-path=\"url(#clip792)\" style=\"stroke:#000000; stroke-width:4; stroke-opacity:1; fill:none\" points=\"\n",
       "  1343.1,1191.01 1343.1,1175.5 \n",
       "  \"/>\n",
       "<polyline clip-path=\"url(#clip792)\" style=\"stroke:#000000; stroke-width:4; stroke-opacity:1; fill:none\" points=\"\n",
       "  1501.11,1097.45 1501.11,1079.99 \n",
       "  \"/>\n",
       "<polyline clip-path=\"url(#clip792)\" style=\"stroke:#000000; stroke-width:4; stroke-opacity:1; fill:none\" points=\"\n",
       "  1659.11,966.209 1659.11,949.778 \n",
       "  \"/>\n",
       "<polyline clip-path=\"url(#clip792)\" style=\"stroke:#000000; stroke-width:4; stroke-opacity:1; fill:none\" points=\"\n",
       "  1817.12,816.833 1817.12,791.52 \n",
       "  \"/>\n",
       "<polyline clip-path=\"url(#clip792)\" style=\"stroke:#000000; stroke-width:4; stroke-opacity:1; fill:none\" points=\"\n",
       "  1975.12,626.589 1975.12,606.114 \n",
       "  \"/>\n",
       "<polyline clip-path=\"url(#clip792)\" style=\"stroke:#000000; stroke-width:4; stroke-opacity:1; fill:none\" points=\"\n",
       "  2133.13,410.084 2133.13,373.961 \n",
       "  \"/>\n",
       "<polyline clip-path=\"url(#clip792)\" style=\"stroke:#000000; stroke-width:4; stroke-opacity:1; fill:none\" points=\"\n",
       "  2291.13,121.905 2291.13,86.1857 \n",
       "  \"/>\n",
       "<line clip-path=\"url(#clip792)\" x1=\"253.067\" y1=\"1383.56\" x2=\"221.067\" y2=\"1383.56\" style=\"stroke:#000000; stroke-width:3.2; stroke-opacity:1\"/>\n",
       "<line clip-path=\"url(#clip792)\" x1=\"253.067\" y1=\"1383.56\" x2=\"221.067\" y2=\"1383.56\" style=\"stroke:#000000; stroke-width:3.2; stroke-opacity:1\"/>\n",
       "<line clip-path=\"url(#clip792)\" x1=\"411.072\" y1=\"1383.93\" x2=\"379.072\" y2=\"1383.93\" style=\"stroke:#000000; stroke-width:3.2; stroke-opacity:1\"/>\n",
       "<line clip-path=\"url(#clip792)\" x1=\"411.072\" y1=\"1380.7\" x2=\"379.072\" y2=\"1380.7\" style=\"stroke:#000000; stroke-width:3.2; stroke-opacity:1\"/>\n",
       "<line clip-path=\"url(#clip792)\" x1=\"569.077\" y1=\"1380.18\" x2=\"537.077\" y2=\"1380.18\" style=\"stroke:#000000; stroke-width:3.2; stroke-opacity:1\"/>\n",
       "<line clip-path=\"url(#clip792)\" x1=\"569.077\" y1=\"1376.96\" x2=\"537.077\" y2=\"1376.96\" style=\"stroke:#000000; stroke-width:3.2; stroke-opacity:1\"/>\n",
       "<line clip-path=\"url(#clip792)\" x1=\"727.083\" y1=\"1368.05\" x2=\"695.083\" y2=\"1368.05\" style=\"stroke:#000000; stroke-width:3.2; stroke-opacity:1\"/>\n",
       "<line clip-path=\"url(#clip792)\" x1=\"727.083\" y1=\"1364.76\" x2=\"695.083\" y2=\"1364.76\" style=\"stroke:#000000; stroke-width:3.2; stroke-opacity:1\"/>\n",
       "<line clip-path=\"url(#clip792)\" x1=\"885.088\" y1=\"1347.47\" x2=\"853.088\" y2=\"1347.47\" style=\"stroke:#000000; stroke-width:3.2; stroke-opacity:1\"/>\n",
       "<line clip-path=\"url(#clip792)\" x1=\"885.088\" y1=\"1343.53\" x2=\"853.088\" y2=\"1343.53\" style=\"stroke:#000000; stroke-width:3.2; stroke-opacity:1\"/>\n",
       "<line clip-path=\"url(#clip792)\" x1=\"1043.09\" y1=\"1310.76\" x2=\"1011.09\" y2=\"1310.76\" style=\"stroke:#000000; stroke-width:3.2; stroke-opacity:1\"/>\n",
       "<line clip-path=\"url(#clip792)\" x1=\"1043.09\" y1=\"1306.6\" x2=\"1011.09\" y2=\"1306.6\" style=\"stroke:#000000; stroke-width:3.2; stroke-opacity:1\"/>\n",
       "<line clip-path=\"url(#clip792)\" x1=\"1201.1\" y1=\"1260.57\" x2=\"1169.1\" y2=\"1260.57\" style=\"stroke:#000000; stroke-width:3.2; stroke-opacity:1\"/>\n",
       "<line clip-path=\"url(#clip792)\" x1=\"1201.1\" y1=\"1253.83\" x2=\"1169.1\" y2=\"1253.83\" style=\"stroke:#000000; stroke-width:3.2; stroke-opacity:1\"/>\n",
       "<line clip-path=\"url(#clip792)\" x1=\"1359.1\" y1=\"1191.01\" x2=\"1327.1\" y2=\"1191.01\" style=\"stroke:#000000; stroke-width:3.2; stroke-opacity:1\"/>\n",
       "<line clip-path=\"url(#clip792)\" x1=\"1359.1\" y1=\"1175.5\" x2=\"1327.1\" y2=\"1175.5\" style=\"stroke:#000000; stroke-width:3.2; stroke-opacity:1\"/>\n",
       "<line clip-path=\"url(#clip792)\" x1=\"1517.11\" y1=\"1097.45\" x2=\"1485.11\" y2=\"1097.45\" style=\"stroke:#000000; stroke-width:3.2; stroke-opacity:1\"/>\n",
       "<line clip-path=\"url(#clip792)\" x1=\"1517.11\" y1=\"1079.99\" x2=\"1485.11\" y2=\"1079.99\" style=\"stroke:#000000; stroke-width:3.2; stroke-opacity:1\"/>\n",
       "<line clip-path=\"url(#clip792)\" x1=\"1675.11\" y1=\"966.209\" x2=\"1643.11\" y2=\"966.209\" style=\"stroke:#000000; stroke-width:3.2; stroke-opacity:1\"/>\n",
       "<line clip-path=\"url(#clip792)\" x1=\"1675.11\" y1=\"949.778\" x2=\"1643.11\" y2=\"949.778\" style=\"stroke:#000000; stroke-width:3.2; stroke-opacity:1\"/>\n",
       "<line clip-path=\"url(#clip792)\" x1=\"1833.12\" y1=\"816.833\" x2=\"1801.12\" y2=\"816.833\" style=\"stroke:#000000; stroke-width:3.2; stroke-opacity:1\"/>\n",
       "<line clip-path=\"url(#clip792)\" x1=\"1833.12\" y1=\"791.52\" x2=\"1801.12\" y2=\"791.52\" style=\"stroke:#000000; stroke-width:3.2; stroke-opacity:1\"/>\n",
       "<line clip-path=\"url(#clip792)\" x1=\"1991.12\" y1=\"626.589\" x2=\"1959.12\" y2=\"626.589\" style=\"stroke:#000000; stroke-width:3.2; stroke-opacity:1\"/>\n",
       "<line clip-path=\"url(#clip792)\" x1=\"1991.12\" y1=\"606.114\" x2=\"1959.12\" y2=\"606.114\" style=\"stroke:#000000; stroke-width:3.2; stroke-opacity:1\"/>\n",
       "<line clip-path=\"url(#clip792)\" x1=\"2149.13\" y1=\"410.084\" x2=\"2117.13\" y2=\"410.084\" style=\"stroke:#000000; stroke-width:3.2; stroke-opacity:1\"/>\n",
       "<line clip-path=\"url(#clip792)\" x1=\"2149.13\" y1=\"373.961\" x2=\"2117.13\" y2=\"373.961\" style=\"stroke:#000000; stroke-width:3.2; stroke-opacity:1\"/>\n",
       "<line clip-path=\"url(#clip792)\" x1=\"2307.13\" y1=\"121.905\" x2=\"2275.13\" y2=\"121.905\" style=\"stroke:#000000; stroke-width:3.2; stroke-opacity:1\"/>\n",
       "<line clip-path=\"url(#clip792)\" x1=\"2307.13\" y1=\"86.1857\" x2=\"2275.13\" y2=\"86.1857\" style=\"stroke:#000000; stroke-width:3.2; stroke-opacity:1\"/>\n",
       "<circle clip-path=\"url(#clip792)\" cx=\"237.067\" cy=\"1383.56\" r=\"14\" fill=\"#008000\" fill-rule=\"evenodd\" fill-opacity=\"1\" stroke=\"#000000\" stroke-opacity=\"1\" stroke-width=\"3.2\"/>\n",
       "<circle clip-path=\"url(#clip792)\" cx=\"395.072\" cy=\"1382.32\" r=\"14\" fill=\"#008000\" fill-rule=\"evenodd\" fill-opacity=\"1\" stroke=\"#000000\" stroke-opacity=\"1\" stroke-width=\"3.2\"/>\n",
       "<circle clip-path=\"url(#clip792)\" cx=\"553.077\" cy=\"1378.57\" r=\"14\" fill=\"#008000\" fill-rule=\"evenodd\" fill-opacity=\"1\" stroke=\"#000000\" stroke-opacity=\"1\" stroke-width=\"3.2\"/>\n",
       "<circle clip-path=\"url(#clip792)\" cx=\"711.083\" cy=\"1366.4\" r=\"14\" fill=\"#008000\" fill-rule=\"evenodd\" fill-opacity=\"1\" stroke=\"#000000\" stroke-opacity=\"1\" stroke-width=\"3.2\"/>\n",
       "<circle clip-path=\"url(#clip792)\" cx=\"869.088\" cy=\"1345.5\" r=\"14\" fill=\"#008000\" fill-rule=\"evenodd\" fill-opacity=\"1\" stroke=\"#000000\" stroke-opacity=\"1\" stroke-width=\"3.2\"/>\n",
       "<circle clip-path=\"url(#clip792)\" cx=\"1027.09\" cy=\"1308.68\" r=\"14\" fill=\"#008000\" fill-rule=\"evenodd\" fill-opacity=\"1\" stroke=\"#000000\" stroke-opacity=\"1\" stroke-width=\"3.2\"/>\n",
       "<circle clip-path=\"url(#clip792)\" cx=\"1185.1\" cy=\"1257.2\" r=\"14\" fill=\"#008000\" fill-rule=\"evenodd\" fill-opacity=\"1\" stroke=\"#000000\" stroke-opacity=\"1\" stroke-width=\"3.2\"/>\n",
       "<circle clip-path=\"url(#clip792)\" cx=\"1343.1\" cy=\"1183.26\" r=\"14\" fill=\"#008000\" fill-rule=\"evenodd\" fill-opacity=\"1\" stroke=\"#000000\" stroke-opacity=\"1\" stroke-width=\"3.2\"/>\n",
       "<circle clip-path=\"url(#clip792)\" cx=\"1501.11\" cy=\"1088.72\" r=\"14\" fill=\"#008000\" fill-rule=\"evenodd\" fill-opacity=\"1\" stroke=\"#000000\" stroke-opacity=\"1\" stroke-width=\"3.2\"/>\n",
       "<circle clip-path=\"url(#clip792)\" cx=\"1659.11\" cy=\"957.994\" r=\"14\" fill=\"#008000\" fill-rule=\"evenodd\" fill-opacity=\"1\" stroke=\"#000000\" stroke-opacity=\"1\" stroke-width=\"3.2\"/>\n",
       "<circle clip-path=\"url(#clip792)\" cx=\"1817.12\" cy=\"804.177\" r=\"14\" fill=\"#008000\" fill-rule=\"evenodd\" fill-opacity=\"1\" stroke=\"#000000\" stroke-opacity=\"1\" stroke-width=\"3.2\"/>\n",
       "<circle clip-path=\"url(#clip792)\" cx=\"1975.12\" cy=\"616.352\" r=\"14\" fill=\"#008000\" fill-rule=\"evenodd\" fill-opacity=\"1\" stroke=\"#000000\" stroke-opacity=\"1\" stroke-width=\"3.2\"/>\n",
       "<circle clip-path=\"url(#clip792)\" cx=\"2133.13\" cy=\"392.023\" r=\"14\" fill=\"#008000\" fill-rule=\"evenodd\" fill-opacity=\"1\" stroke=\"#000000\" stroke-opacity=\"1\" stroke-width=\"3.2\"/>\n",
       "<circle clip-path=\"url(#clip792)\" cx=\"2291.13\" cy=\"104.045\" r=\"14\" fill=\"#008000\" fill-rule=\"evenodd\" fill-opacity=\"1\" stroke=\"#000000\" stroke-opacity=\"1\" stroke-width=\"3.2\"/>\n",
       "<path clip-path=\"url(#clip790)\" d=\"\n",
       "M1608.98 335.029 L2280.18 335.029 L2280.18 93.1086 L1608.98 93.1086  Z\n",
       "  \" fill=\"#ffffff\" fill-rule=\"evenodd\" fill-opacity=\"1\"/>\n",
       "<polyline clip-path=\"url(#clip790)\" style=\"stroke:#000000; stroke-width:4; stroke-opacity:1; fill:none\" points=\"\n",
       "  1608.98,335.029 2280.18,335.029 2280.18,93.1086 1608.98,93.1086 1608.98,335.029 \n",
       "  \"/>\n",
       "<circle clip-path=\"url(#clip790)\" cx=\"1705.74\" cy=\"153.589\" r=\"23\" fill=\"#ff0000\" fill-rule=\"evenodd\" fill-opacity=\"1\" stroke=\"#000000\" stroke-opacity=\"1\" stroke-width=\"5.12\"/>\n",
       "<path clip-path=\"url(#clip790)\" d=\"M 0 0 M1807.19 154.364 L1807.19 167.026 L1814.69 167.026 Q1818.46 167.026 1820.27 165.475 Q1822.1 163.901 1822.1 160.683 Q1822.1 157.443 1820.27 155.915 Q1818.46 154.364 1814.69 154.364 L1807.19 154.364 M1807.19 140.151 L1807.19 150.568 L1814.11 150.568 Q1817.54 150.568 1819.2 149.295 Q1820.89 147.998 1820.89 145.359 Q1820.89 142.744 1819.2 141.447 Q1817.54 140.151 1814.11 140.151 L1807.19 140.151 M1802.51 136.309 L1814.46 136.309 Q1819.81 136.309 1822.7 138.531 Q1825.59 140.753 1825.59 144.85 Q1825.59 148.022 1824.11 149.897 Q1822.63 151.771 1819.76 152.234 Q1823.21 152.975 1825.11 155.336 Q1827.03 157.674 1827.03 161.193 Q1827.03 165.822 1823.88 168.345 Q1820.73 170.869 1814.92 170.869 L1802.51 170.869 L1802.51 136.309 Z\" fill=\"#000000\" fill-rule=\"evenodd\" fill-opacity=\"1\" /><path clip-path=\"url(#clip790)\" d=\"M 0 0 M1831.68 136.309 L1836.36 136.309 L1836.36 166.933 L1853.19 166.933 L1853.19 170.869 L1831.68 170.869 L1831.68 136.309 Z\" fill=\"#000000\" fill-rule=\"evenodd\" fill-opacity=\"1\" /><path clip-path=\"url(#clip790)\" d=\"M 0 0 M1870.48 140.915 L1864.13 158.114 L1876.84 158.114 L1870.48 140.915 M1867.84 136.309 L1873.14 136.309 L1886.31 170.869 L1881.45 170.869 L1878.3 162.003 L1862.72 162.003 L1859.57 170.869 L1854.64 170.869 L1867.84 136.309 Z\" fill=\"#000000\" fill-rule=\"evenodd\" fill-opacity=\"1\" /><path clip-path=\"url(#clip790)\" d=\"M 0 0 M1911.68 137.443 L1911.68 142.003 Q1909.02 140.73 1906.66 140.105 Q1904.3 139.48 1902.1 139.48 Q1898.28 139.48 1896.19 140.961 Q1894.13 142.443 1894.13 145.174 Q1894.13 147.466 1895.5 148.647 Q1896.89 149.804 1900.73 150.522 L1903.56 151.1 Q1908.79 152.096 1911.26 154.619 Q1913.76 157.119 1913.76 161.332 Q1913.76 166.355 1910.38 168.947 Q1907.03 171.54 1900.52 171.54 Q1898.07 171.54 1895.29 170.984 Q1892.54 170.429 1889.57 169.341 L1889.57 164.526 Q1892.42 166.123 1895.15 166.933 Q1897.88 167.744 1900.52 167.744 Q1904.53 167.744 1906.7 166.17 Q1908.88 164.596 1908.88 161.679 Q1908.88 159.133 1907.31 157.697 Q1905.75 156.262 1902.19 155.545 L1899.34 154.989 Q1894.11 153.947 1891.77 151.725 Q1889.43 149.503 1889.43 145.545 Q1889.43 140.961 1892.65 138.322 Q1895.89 135.684 1901.56 135.684 Q1904 135.684 1906.52 136.123 Q1909.04 136.563 1911.68 137.443 Z\" fill=\"#000000\" fill-rule=\"evenodd\" fill-opacity=\"1\" /><path clip-path=\"url(#clip790)\" d=\"M 0 0 M1937.93 178.739 L1937.93 182.049 L1913.3 182.049 L1913.3 178.739 L1937.93 178.739 Z\" fill=\"#000000\" fill-rule=\"evenodd\" fill-opacity=\"1\" /><path clip-path=\"url(#clip790)\" d=\"M 0 0 M1962.58 149.92 Q1964.18 147.049 1966.4 145.684 Q1968.62 144.318 1971.63 144.318 Q1975.68 144.318 1977.88 147.165 Q1980.08 149.989 1980.08 155.221 L1980.08 170.869 L1975.8 170.869 L1975.8 155.359 Q1975.8 151.633 1974.48 149.827 Q1973.16 148.022 1970.45 148.022 Q1967.14 148.022 1965.22 150.221 Q1963.3 152.42 1963.3 156.216 L1963.3 170.869 L1959.02 170.869 L1959.02 155.359 Q1959.02 151.609 1957.7 149.827 Q1956.38 148.022 1953.62 148.022 Q1950.36 148.022 1948.44 150.244 Q1946.52 152.443 1946.52 156.216 L1946.52 170.869 L1942.24 170.869 L1942.24 144.943 L1946.52 144.943 L1946.52 148.971 Q1947.98 146.586 1950.01 145.452 Q1952.05 144.318 1954.85 144.318 Q1957.68 144.318 1959.64 145.753 Q1961.63 147.188 1962.58 149.92 Z\" fill=\"#000000\" fill-rule=\"evenodd\" fill-opacity=\"1\" /><path clip-path=\"url(#clip790)\" d=\"M 0 0 M1984.11 160.637 L1984.11 144.943 L1988.37 144.943 L1988.37 160.475 Q1988.37 164.156 1989.8 166.008 Q1991.24 167.836 1994.11 167.836 Q1997.56 167.836 1999.55 165.637 Q2001.56 163.438 2001.56 159.642 L2001.56 144.943 L2005.82 144.943 L2005.82 170.869 L2001.56 170.869 L2001.56 166.887 Q2000.01 169.248 1997.95 170.406 Q1995.92 171.54 1993.21 171.54 Q1988.74 171.54 1986.43 168.762 Q1984.11 165.984 1984.11 160.637 M1994.83 144.318 L1994.83 144.318 Z\" fill=\"#000000\" fill-rule=\"evenodd\" fill-opacity=\"1\" /><path clip-path=\"url(#clip790)\" d=\"M 0 0 M2010.29 134.85 L2014.55 134.85 L2014.55 170.869 L2010.29 170.869 L2010.29 134.85 Z\" fill=\"#000000\" fill-rule=\"evenodd\" fill-opacity=\"1\" /><path clip-path=\"url(#clip790)\" d=\"M 0 0 M2023.23 137.582 L2023.23 144.943 L2032 144.943 L2032 148.253 L2023.23 148.253 L2023.23 162.327 Q2023.23 165.498 2024.09 166.401 Q2024.97 167.304 2027.63 167.304 L2032 167.304 L2032 170.869 L2027.63 170.869 Q2022.7 170.869 2020.82 169.04 Q2018.95 167.188 2018.95 162.327 L2018.95 148.253 L2015.82 148.253 L2015.82 144.943 L2018.95 144.943 L2018.95 137.582 L2023.23 137.582 Z\" fill=\"#000000\" fill-rule=\"evenodd\" fill-opacity=\"1\" /><path clip-path=\"url(#clip790)\" d=\"M 0 0 M2036.47 144.943 L2040.73 144.943 L2040.73 170.869 L2036.47 170.869 L2036.47 144.943 M2036.47 134.85 L2040.73 134.85 L2040.73 140.244 L2036.47 140.244 L2036.47 134.85 Z\" fill=\"#000000\" fill-rule=\"evenodd\" fill-opacity=\"1\" /><path clip-path=\"url(#clip790)\" d=\"M 0 0 M2049.32 166.98 L2049.32 180.73 L2045.04 180.73 L2045.04 144.943 L2049.32 144.943 L2049.32 148.878 Q2050.66 146.563 2052.7 145.452 Q2054.76 144.318 2057.61 144.318 Q2062.33 144.318 2065.27 148.068 Q2068.23 151.818 2068.23 157.929 Q2068.23 164.04 2065.27 167.79 Q2062.33 171.54 2057.61 171.54 Q2054.76 171.54 2052.7 170.429 Q2050.66 169.295 2049.32 166.98 M2063.81 157.929 Q2063.81 153.23 2061.86 150.568 Q2059.94 147.883 2056.56 147.883 Q2053.18 147.883 2051.24 150.568 Q2049.32 153.23 2049.32 157.929 Q2049.32 162.628 2051.24 165.313 Q2053.18 167.975 2056.56 167.975 Q2059.94 167.975 2061.86 165.313 Q2063.81 162.628 2063.81 157.929 Z\" fill=\"#000000\" fill-rule=\"evenodd\" fill-opacity=\"1\" /><path clip-path=\"url(#clip790)\" d=\"M 0 0 M2072.7 134.85 L2076.96 134.85 L2076.96 170.869 L2072.7 170.869 L2072.7 134.85 Z\" fill=\"#000000\" fill-rule=\"evenodd\" fill-opacity=\"1\" /><path clip-path=\"url(#clip790)\" d=\"M 0 0 M2081.42 144.943 L2085.68 144.943 L2085.68 170.869 L2081.42 170.869 L2081.42 144.943 M2081.42 134.85 L2085.68 134.85 L2085.68 140.244 L2081.42 140.244 L2081.42 134.85 Z\" fill=\"#000000\" fill-rule=\"evenodd\" fill-opacity=\"1\" /><path clip-path=\"url(#clip790)\" d=\"M 0 0 M2108.81 145.938 L2108.81 149.92 Q2107 148.924 2105.17 148.438 Q2103.37 147.929 2101.52 147.929 Q2097.37 147.929 2095.08 150.568 Q2092.79 153.184 2092.79 157.929 Q2092.79 162.674 2095.08 165.313 Q2097.37 167.929 2101.52 167.929 Q2103.37 167.929 2105.17 167.443 Q2107 166.933 2108.81 165.938 L2108.81 169.873 Q2107.03 170.707 2105.11 171.123 Q2103.21 171.54 2101.05 171.54 Q2095.2 171.54 2091.75 167.859 Q2088.3 164.179 2088.3 157.929 Q2088.3 151.586 2091.77 147.952 Q2095.27 144.318 2101.33 144.318 Q2103.3 144.318 2105.17 144.735 Q2107.05 145.128 2108.81 145.938 Z\" fill=\"#000000\" fill-rule=\"evenodd\" fill-opacity=\"1\" /><path clip-path=\"url(#clip790)\" d=\"M 0 0 M2125.06 157.836 Q2119.9 157.836 2117.91 159.017 Q2115.92 160.197 2115.92 163.045 Q2115.92 165.313 2117.4 166.656 Q2118.9 167.975 2121.47 167.975 Q2125.01 167.975 2127.14 165.475 Q2129.29 162.952 2129.29 158.785 L2129.29 157.836 L2125.06 157.836 M2133.55 156.077 L2133.55 170.869 L2129.29 170.869 L2129.29 166.933 Q2127.84 169.295 2125.66 170.429 Q2123.48 171.54 2120.34 171.54 Q2116.36 171.54 2113.99 169.318 Q2111.66 167.072 2111.66 163.322 Q2111.66 158.947 2114.57 156.725 Q2117.51 154.503 2123.32 154.503 L2129.29 154.503 L2129.29 154.086 Q2129.29 151.147 2127.35 149.549 Q2125.43 147.929 2121.93 147.929 Q2119.71 147.929 2117.6 148.461 Q2115.5 148.994 2113.55 150.059 L2113.55 146.123 Q2115.89 145.221 2118.09 144.781 Q2120.29 144.318 2122.37 144.318 Q2128 144.318 2130.78 147.234 Q2133.55 150.151 2133.55 156.077 Z\" fill=\"#000000\" fill-rule=\"evenodd\" fill-opacity=\"1\" /><path clip-path=\"url(#clip790)\" d=\"M 0 0 M2142.23 137.582 L2142.23 144.943 L2151.01 144.943 L2151.01 148.253 L2142.23 148.253 L2142.23 162.327 Q2142.23 165.498 2143.09 166.401 Q2143.97 167.304 2146.63 167.304 L2151.01 167.304 L2151.01 170.869 L2146.63 170.869 Q2141.7 170.869 2139.83 169.04 Q2137.95 167.188 2137.95 162.327 L2137.95 148.253 L2134.83 148.253 L2134.83 144.943 L2137.95 144.943 L2137.95 137.582 L2142.23 137.582 Z\" fill=\"#000000\" fill-rule=\"evenodd\" fill-opacity=\"1\" /><path clip-path=\"url(#clip790)\" d=\"M 0 0 M2155.48 144.943 L2159.73 144.943 L2159.73 170.869 L2155.48 170.869 L2155.48 144.943 M2155.48 134.85 L2159.73 134.85 L2159.73 140.244 L2155.48 140.244 L2155.48 134.85 Z\" fill=\"#000000\" fill-rule=\"evenodd\" fill-opacity=\"1\" /><path clip-path=\"url(#clip790)\" d=\"M 0 0 M2174.25 147.929 Q2170.82 147.929 2168.83 150.614 Q2166.84 153.276 2166.84 157.929 Q2166.84 162.582 2168.81 165.267 Q2170.8 167.929 2174.25 167.929 Q2177.65 167.929 2179.64 165.244 Q2181.63 162.558 2181.63 157.929 Q2181.63 153.322 2179.64 150.637 Q2177.65 147.929 2174.25 147.929 M2174.25 144.318 Q2179.8 144.318 2182.98 147.929 Q2186.15 151.54 2186.15 157.929 Q2186.15 164.295 2182.98 167.929 Q2179.8 171.54 2174.25 171.54 Q2168.67 171.54 2165.5 167.929 Q2162.35 164.295 2162.35 157.929 Q2162.35 151.54 2165.5 147.929 Q2168.67 144.318 2174.25 144.318 Z\" fill=\"#000000\" fill-rule=\"evenodd\" fill-opacity=\"1\" /><path clip-path=\"url(#clip790)\" d=\"M 0 0 M2212.16 155.221 L2212.16 170.869 L2207.91 170.869 L2207.91 155.359 Q2207.91 151.679 2206.47 149.85 Q2205.04 148.022 2202.16 148.022 Q2198.72 148.022 2196.72 150.221 Q2194.73 152.42 2194.73 156.216 L2194.73 170.869 L2190.45 170.869 L2190.45 144.943 L2194.73 144.943 L2194.73 148.971 Q2196.26 146.633 2198.32 145.475 Q2200.41 144.318 2203.11 144.318 Q2207.58 144.318 2209.87 147.096 Q2212.16 149.85 2212.16 155.221 Z\" fill=\"#000000\" fill-rule=\"evenodd\" fill-opacity=\"1\" /><circle clip-path=\"url(#clip790)\" cx=\"1705.74\" cy=\"214.069\" r=\"23\" fill=\"#0000ff\" fill-rule=\"evenodd\" fill-opacity=\"1\" stroke=\"#000000\" stroke-opacity=\"1\" stroke-width=\"5.12\"/>\n",
       "<path clip-path=\"url(#clip790)\" d=\"M 0 0 M1821.29 218.409 Q1821.29 213.71 1819.34 211.048 Q1817.42 208.363 1814.04 208.363 Q1810.66 208.363 1808.72 211.048 Q1806.8 213.71 1806.8 218.409 Q1806.8 223.108 1808.72 225.793 Q1810.66 228.455 1814.04 228.455 Q1817.42 228.455 1819.34 225.793 Q1821.29 223.108 1821.29 218.409 M1806.8 209.358 Q1808.14 207.043 1810.18 205.932 Q1812.24 204.798 1815.08 204.798 Q1819.81 204.798 1822.75 208.548 Q1825.71 212.298 1825.71 218.409 Q1825.71 224.52 1822.75 228.27 Q1819.81 232.02 1815.08 232.02 Q1812.24 232.02 1810.18 230.909 Q1808.14 229.775 1806.8 227.46 L1806.8 231.349 L1802.51 231.349 L1802.51 195.33 L1806.8 195.33 L1806.8 209.358 Z\" fill=\"#000000\" fill-rule=\"evenodd\" fill-opacity=\"1\" /><path clip-path=\"url(#clip790)\" d=\"M 0 0 M1852.35 217.321 L1852.35 219.404 L1832.77 219.404 Q1833.05 223.802 1835.41 226.117 Q1837.79 228.409 1842.03 228.409 Q1844.48 228.409 1846.77 227.807 Q1849.09 227.205 1851.36 226.001 L1851.36 230.029 Q1849.06 231.001 1846.66 231.511 Q1844.25 232.02 1841.77 232.02 Q1835.57 232.02 1831.94 228.409 Q1828.32 224.798 1828.32 218.64 Q1828.32 212.275 1831.75 208.548 Q1835.2 204.798 1841.03 204.798 Q1846.26 204.798 1849.3 208.177 Q1852.35 211.534 1852.35 217.321 M1848.09 216.071 Q1848.05 212.576 1846.12 210.492 Q1844.23 208.409 1841.08 208.409 Q1837.51 208.409 1835.36 210.423 Q1833.23 212.437 1832.91 216.094 L1848.09 216.071 Z\" fill=\"#000000\" fill-rule=\"evenodd\" fill-opacity=\"1\" /><path clip-path=\"url(#clip790)\" d=\"M 0 0 M1861.03 198.062 L1861.03 205.423 L1869.81 205.423 L1869.81 208.733 L1861.03 208.733 L1861.03 222.807 Q1861.03 225.978 1861.89 226.881 Q1862.77 227.784 1865.43 227.784 L1869.81 227.784 L1869.81 231.349 L1865.43 231.349 Q1860.5 231.349 1858.62 229.52 Q1856.75 227.668 1856.75 222.807 L1856.75 208.733 L1853.62 208.733 L1853.62 205.423 L1856.75 205.423 L1856.75 198.062 L1861.03 198.062 Z\" fill=\"#000000\" fill-rule=\"evenodd\" fill-opacity=\"1\" /><path clip-path=\"url(#clip790)\" d=\"M 0 0 M1878.49 198.062 L1878.49 205.423 L1887.26 205.423 L1887.26 208.733 L1878.49 208.733 L1878.49 222.807 Q1878.49 225.978 1879.34 226.881 Q1880.22 227.784 1882.88 227.784 L1887.26 227.784 L1887.26 231.349 L1882.88 231.349 Q1877.95 231.349 1876.08 229.52 Q1874.2 227.668 1874.2 222.807 L1874.2 208.733 L1871.08 208.733 L1871.08 205.423 L1874.2 205.423 L1874.2 198.062 L1878.49 198.062 Z\" fill=\"#000000\" fill-rule=\"evenodd\" fill-opacity=\"1\" /><path clip-path=\"url(#clip790)\" d=\"M 0 0 M1913.9 217.321 L1913.9 219.404 L1894.32 219.404 Q1894.6 223.802 1896.96 226.117 Q1899.34 228.409 1903.58 228.409 Q1906.03 228.409 1908.32 227.807 Q1910.64 227.205 1912.91 226.001 L1912.91 230.029 Q1910.62 231.001 1908.21 231.511 Q1905.8 232.02 1903.32 232.02 Q1897.12 232.02 1893.49 228.409 Q1889.87 224.798 1889.87 218.64 Q1889.87 212.275 1893.3 208.548 Q1896.75 204.798 1902.58 204.798 Q1907.81 204.798 1910.85 208.177 Q1913.9 211.534 1913.9 217.321 M1909.64 216.071 Q1909.6 212.576 1907.68 210.492 Q1905.78 208.409 1902.63 208.409 Q1899.06 208.409 1896.91 210.423 Q1894.78 212.437 1894.46 216.094 L1909.64 216.071 Z\" fill=\"#000000\" fill-rule=\"evenodd\" fill-opacity=\"1\" /><path clip-path=\"url(#clip790)\" d=\"M 0 0 M1933.39 209.404 Q1932.68 208.988 1931.82 208.802 Q1930.99 208.594 1929.97 208.594 Q1926.36 208.594 1924.41 210.955 Q1922.49 213.293 1922.49 217.691 L1922.49 231.349 L1918.21 231.349 L1918.21 205.423 L1922.49 205.423 L1922.49 209.451 Q1923.83 207.089 1925.99 205.955 Q1928.14 204.798 1931.22 204.798 Q1931.66 204.798 1932.19 204.867 Q1932.72 204.914 1933.37 205.029 L1933.39 209.404 Z\" fill=\"#000000\" fill-rule=\"evenodd\" fill-opacity=\"1\" /><path clip-path=\"url(#clip790)\" d=\"M 0 0 M1957.56 239.219 L1957.56 242.529 L1932.93 242.529 L1932.93 239.219 L1957.56 239.219 Z\" fill=\"#000000\" fill-rule=\"evenodd\" fill-opacity=\"1\" /><path clip-path=\"url(#clip790)\" d=\"M 0 0 M1982.21 210.4 Q1983.81 207.529 1986.03 206.164 Q1988.25 204.798 1991.26 204.798 Q1995.31 204.798 1997.51 207.645 Q1999.71 210.469 1999.71 215.701 L1999.71 231.349 L1995.43 231.349 L1995.43 215.839 Q1995.43 212.113 1994.11 210.307 Q1992.79 208.502 1990.08 208.502 Q1986.77 208.502 1984.85 210.701 Q1982.93 212.9 1982.93 216.696 L1982.93 231.349 L1978.65 231.349 L1978.65 215.839 Q1978.65 212.089 1977.33 210.307 Q1976.01 208.502 1973.25 208.502 Q1969.99 208.502 1968.07 210.724 Q1966.15 212.923 1966.15 216.696 L1966.15 231.349 L1961.87 231.349 L1961.87 205.423 L1966.15 205.423 L1966.15 209.451 Q1967.61 207.066 1969.64 205.932 Q1971.68 204.798 1974.48 204.798 Q1977.3 204.798 1979.27 206.233 Q1981.26 207.668 1982.21 210.4 Z\" fill=\"#000000\" fill-rule=\"evenodd\" fill-opacity=\"1\" /><path clip-path=\"url(#clip790)\" d=\"M 0 0 M2003.74 221.117 L2003.74 205.423 L2008 205.423 L2008 220.955 Q2008 224.636 2009.43 226.488 Q2010.87 228.316 2013.74 228.316 Q2017.19 228.316 2019.18 226.117 Q2021.19 223.918 2021.19 220.122 L2021.19 205.423 L2025.45 205.423 L2025.45 231.349 L2021.19 231.349 L2021.19 227.367 Q2019.64 229.728 2017.58 230.886 Q2015.55 232.02 2012.84 232.02 Q2008.37 232.02 2006.05 229.242 Q2003.74 226.464 2003.74 221.117 M2014.46 204.798 L2014.46 204.798 Z\" fill=\"#000000\" fill-rule=\"evenodd\" fill-opacity=\"1\" /><path clip-path=\"url(#clip790)\" d=\"M 0 0 M2029.92 195.33 L2034.18 195.33 L2034.18 231.349 L2029.92 231.349 L2029.92 195.33 Z\" fill=\"#000000\" fill-rule=\"evenodd\" fill-opacity=\"1\" /><path clip-path=\"url(#clip790)\" d=\"M 0 0 M2042.86 198.062 L2042.86 205.423 L2051.63 205.423 L2051.63 208.733 L2042.86 208.733 L2042.86 222.807 Q2042.86 225.978 2043.72 226.881 Q2044.6 227.784 2047.26 227.784 L2051.63 227.784 L2051.63 231.349 L2047.26 231.349 Q2042.33 231.349 2040.45 229.52 Q2038.58 227.668 2038.58 222.807 L2038.58 208.733 L2035.45 208.733 L2035.45 205.423 L2038.58 205.423 L2038.58 198.062 L2042.86 198.062 Z\" fill=\"#000000\" fill-rule=\"evenodd\" fill-opacity=\"1\" /><path clip-path=\"url(#clip790)\" d=\"M 0 0 M2056.1 205.423 L2060.36 205.423 L2060.36 231.349 L2056.1 231.349 L2056.1 205.423 M2056.1 195.33 L2060.36 195.33 L2060.36 200.724 L2056.1 200.724 L2056.1 195.33 Z\" fill=\"#000000\" fill-rule=\"evenodd\" fill-opacity=\"1\" /><path clip-path=\"url(#clip790)\" d=\"M 0 0 M2068.95 227.46 L2068.95 241.21 L2064.67 241.21 L2064.67 205.423 L2068.95 205.423 L2068.95 209.358 Q2070.29 207.043 2072.33 205.932 Q2074.39 204.798 2077.23 204.798 Q2081.96 204.798 2084.9 208.548 Q2087.86 212.298 2087.86 218.409 Q2087.86 224.52 2084.9 228.27 Q2081.96 232.02 2077.23 232.02 Q2074.39 232.02 2072.33 230.909 Q2070.29 229.775 2068.95 227.46 M2083.44 218.409 Q2083.44 213.71 2081.49 211.048 Q2079.57 208.363 2076.19 208.363 Q2072.81 208.363 2070.87 211.048 Q2068.95 213.71 2068.95 218.409 Q2068.95 223.108 2070.87 225.793 Q2072.81 228.455 2076.19 228.455 Q2079.57 228.455 2081.49 225.793 Q2083.44 223.108 2083.44 218.409 Z\" fill=\"#000000\" fill-rule=\"evenodd\" fill-opacity=\"1\" /><path clip-path=\"url(#clip790)\" d=\"M 0 0 M2092.33 195.33 L2096.59 195.33 L2096.59 231.349 L2092.33 231.349 L2092.33 195.33 Z\" fill=\"#000000\" fill-rule=\"evenodd\" fill-opacity=\"1\" /><path clip-path=\"url(#clip790)\" d=\"M 0 0 M2101.05 205.423 L2105.31 205.423 L2105.31 231.349 L2101.05 231.349 L2101.05 205.423 M2101.05 195.33 L2105.31 195.33 L2105.31 200.724 L2101.05 200.724 L2101.05 195.33 Z\" fill=\"#000000\" fill-rule=\"evenodd\" fill-opacity=\"1\" /><path clip-path=\"url(#clip790)\" d=\"M 0 0 M2128.44 206.418 L2128.44 210.4 Q2126.63 209.404 2124.8 208.918 Q2123 208.409 2121.15 208.409 Q2117 208.409 2114.71 211.048 Q2112.42 213.664 2112.42 218.409 Q2112.42 223.154 2114.71 225.793 Q2117 228.409 2121.15 228.409 Q2123 228.409 2124.8 227.923 Q2126.63 227.413 2128.44 226.418 L2128.44 230.353 Q2126.66 231.187 2124.73 231.603 Q2122.84 232.02 2120.68 232.02 Q2114.83 232.02 2111.38 228.339 Q2107.93 224.659 2107.93 218.409 Q2107.93 212.066 2111.4 208.432 Q2114.9 204.798 2120.96 204.798 Q2122.93 204.798 2124.8 205.215 Q2126.68 205.608 2128.44 206.418 Z\" fill=\"#000000\" fill-rule=\"evenodd\" fill-opacity=\"1\" /><path clip-path=\"url(#clip790)\" d=\"M 0 0 M2144.69 218.316 Q2139.53 218.316 2137.54 219.497 Q2135.54 220.677 2135.54 223.525 Q2135.54 225.793 2137.03 227.136 Q2138.53 228.455 2141.1 228.455 Q2144.64 228.455 2146.77 225.955 Q2148.92 223.432 2148.92 219.265 L2148.92 218.316 L2144.69 218.316 M2153.18 216.557 L2153.18 231.349 L2148.92 231.349 L2148.92 227.413 Q2147.47 229.775 2145.29 230.909 Q2143.11 232.02 2139.97 232.02 Q2135.98 232.02 2133.62 229.798 Q2131.29 227.552 2131.29 223.802 Q2131.29 219.427 2134.2 217.205 Q2137.14 214.983 2142.95 214.983 L2148.92 214.983 L2148.92 214.566 Q2148.92 211.627 2146.98 210.029 Q2145.06 208.409 2141.56 208.409 Q2139.34 208.409 2137.23 208.941 Q2135.13 209.474 2133.18 210.539 L2133.18 206.603 Q2135.52 205.701 2137.72 205.261 Q2139.92 204.798 2142 204.798 Q2147.63 204.798 2150.41 207.714 Q2153.18 210.631 2153.18 216.557 Z\" fill=\"#000000\" fill-rule=\"evenodd\" fill-opacity=\"1\" /><path clip-path=\"url(#clip790)\" d=\"M 0 0 M2161.86 198.062 L2161.86 205.423 L2170.64 205.423 L2170.64 208.733 L2161.86 208.733 L2161.86 222.807 Q2161.86 225.978 2162.72 226.881 Q2163.6 227.784 2166.26 227.784 L2170.64 227.784 L2170.64 231.349 L2166.26 231.349 Q2161.33 231.349 2159.46 229.52 Q2157.58 227.668 2157.58 222.807 L2157.58 208.733 L2154.46 208.733 L2154.46 205.423 L2157.58 205.423 L2157.58 198.062 L2161.86 198.062 Z\" fill=\"#000000\" fill-rule=\"evenodd\" fill-opacity=\"1\" /><path clip-path=\"url(#clip790)\" d=\"M 0 0 M2175.1 205.423 L2179.36 205.423 L2179.36 231.349 L2175.1 231.349 L2175.1 205.423 M2175.1 195.33 L2179.36 195.33 L2179.36 200.724 L2175.1 200.724 L2175.1 195.33 Z\" fill=\"#000000\" fill-rule=\"evenodd\" fill-opacity=\"1\" /><path clip-path=\"url(#clip790)\" d=\"M 0 0 M2193.88 208.409 Q2190.45 208.409 2188.46 211.094 Q2186.47 213.756 2186.47 218.409 Q2186.47 223.062 2188.44 225.747 Q2190.43 228.409 2193.88 228.409 Q2197.28 228.409 2199.27 225.724 Q2201.26 223.038 2201.26 218.409 Q2201.26 213.802 2199.27 211.117 Q2197.28 208.409 2193.88 208.409 M2193.88 204.798 Q2199.43 204.798 2202.6 208.409 Q2205.78 212.02 2205.78 218.409 Q2205.78 224.775 2202.6 228.409 Q2199.43 232.02 2193.88 232.02 Q2188.3 232.02 2185.13 228.409 Q2181.98 224.775 2181.98 218.409 Q2181.98 212.02 2185.13 208.409 Q2188.3 204.798 2193.88 204.798 Z\" fill=\"#000000\" fill-rule=\"evenodd\" fill-opacity=\"1\" /><path clip-path=\"url(#clip790)\" d=\"M 0 0 M2231.79 215.701 L2231.79 231.349 L2227.53 231.349 L2227.53 215.839 Q2227.53 212.159 2226.1 210.33 Q2224.66 208.502 2221.79 208.502 Q2218.35 208.502 2216.35 210.701 Q2214.36 212.9 2214.36 216.696 L2214.36 231.349 L2210.08 231.349 L2210.08 205.423 L2214.36 205.423 L2214.36 209.451 Q2215.89 207.113 2217.95 205.955 Q2220.04 204.798 2222.74 204.798 Q2227.21 204.798 2229.5 207.576 Q2231.79 210.33 2231.79 215.701 Z\" fill=\"#000000\" fill-rule=\"evenodd\" fill-opacity=\"1\" /><circle clip-path=\"url(#clip790)\" cx=\"1705.74\" cy=\"274.549\" r=\"23\" fill=\"#008000\" fill-rule=\"evenodd\" fill-opacity=\"1\" stroke=\"#000000\" stroke-opacity=\"1\" stroke-width=\"5.12\"/>\n",
       "<path clip-path=\"url(#clip790)\" d=\"M 0 0 M1824.23 276.181 L1824.23 291.829 L1819.97 291.829 L1819.97 276.319 Q1819.97 272.639 1818.53 270.81 Q1817.1 268.982 1814.23 268.982 Q1810.78 268.982 1808.79 271.181 Q1806.8 273.38 1806.8 277.176 L1806.8 291.829 L1802.51 291.829 L1802.51 265.903 L1806.8 265.903 L1806.8 269.931 Q1808.32 267.593 1810.38 266.435 Q1812.47 265.278 1815.18 265.278 Q1819.64 265.278 1821.94 268.056 Q1824.23 270.81 1824.23 276.181 Z\" fill=\"#000000\" fill-rule=\"evenodd\" fill-opacity=\"1\" /><path clip-path=\"url(#clip790)\" d=\"M 0 0 M1840.48 278.796 Q1835.31 278.796 1833.32 279.977 Q1831.33 281.157 1831.33 284.005 Q1831.33 286.273 1832.81 287.616 Q1834.32 288.935 1836.89 288.935 Q1840.43 288.935 1842.56 286.435 Q1844.71 283.912 1844.71 279.745 L1844.71 278.796 L1840.48 278.796 M1848.97 277.037 L1848.97 291.829 L1844.71 291.829 L1844.71 287.893 Q1843.25 290.255 1841.08 291.389 Q1838.9 292.5 1835.75 292.5 Q1831.77 292.5 1829.41 290.278 Q1827.07 288.032 1827.07 284.282 Q1827.07 279.907 1829.99 277.685 Q1832.93 275.463 1838.74 275.463 L1844.71 275.463 L1844.71 275.046 Q1844.71 272.107 1842.77 270.509 Q1840.85 268.889 1837.35 268.889 Q1835.13 268.889 1833.02 269.421 Q1830.92 269.954 1828.97 271.019 L1828.97 267.083 Q1831.31 266.181 1833.51 265.741 Q1835.71 265.278 1837.79 265.278 Q1843.42 265.278 1846.19 268.194 Q1848.97 271.111 1848.97 277.037 Z\" fill=\"#000000\" fill-rule=\"evenodd\" fill-opacity=\"1\" /><path clip-path=\"url(#clip790)\" d=\"M 0 0 M1853.44 265.903 L1857.7 265.903 L1857.7 291.829 L1853.44 291.829 L1853.44 265.903 M1853.44 255.81 L1857.7 255.81 L1857.7 261.204 L1853.44 261.204 L1853.44 255.81 Z\" fill=\"#000000\" fill-rule=\"evenodd\" fill-opacity=\"1\" /><path clip-path=\"url(#clip790)\" d=\"M 0 0 M1859.11 265.903 L1863.62 265.903 L1871.73 287.662 L1879.83 265.903 L1884.34 265.903 L1874.62 291.829 L1868.83 291.829 L1859.11 265.903 Z\" fill=\"#000000\" fill-rule=\"evenodd\" fill-opacity=\"1\" /><path clip-path=\"url(#clip790)\" d=\"M 0 0 M1910.99 277.801 L1910.99 279.884 L1891.4 279.884 Q1891.68 284.282 1894.04 286.597 Q1896.43 288.889 1900.66 288.889 Q1903.12 288.889 1905.41 288.287 Q1907.72 287.685 1909.99 286.481 L1909.99 290.509 Q1907.7 291.481 1905.29 291.991 Q1902.88 292.5 1900.41 292.5 Q1894.2 292.5 1890.57 288.889 Q1886.96 285.278 1886.96 279.12 Q1886.96 272.755 1890.38 269.028 Q1893.83 265.278 1899.67 265.278 Q1904.9 265.278 1907.93 268.657 Q1910.99 272.014 1910.99 277.801 M1906.73 276.551 Q1906.68 273.056 1904.76 270.972 Q1902.86 268.889 1899.71 268.889 Q1896.15 268.889 1894 270.903 Q1891.87 272.917 1891.54 276.574 L1906.73 276.551 Z\" fill=\"#000000\" fill-rule=\"evenodd\" fill-opacity=\"1\" /><path clip-path=\"url(#clip790)\" d=\"M 0 0 M1935.15 299.699 L1935.15 303.009 L1910.52 303.009 L1910.52 299.699 L1935.15 299.699 Z\" fill=\"#000000\" fill-rule=\"evenodd\" fill-opacity=\"1\" /><path clip-path=\"url(#clip790)\" d=\"M 0 0 M1959.8 270.88 Q1961.4 268.009 1963.62 266.644 Q1965.85 265.278 1968.86 265.278 Q1972.91 265.278 1975.11 268.125 Q1977.3 270.949 1977.3 276.181 L1977.3 291.829 L1973.02 291.829 L1973.02 276.319 Q1973.02 272.593 1971.7 270.787 Q1970.38 268.982 1967.68 268.982 Q1964.37 268.982 1962.44 271.181 Q1960.52 273.38 1960.52 277.176 L1960.52 291.829 L1956.24 291.829 L1956.24 276.319 Q1956.24 272.569 1954.92 270.787 Q1953.6 268.982 1950.85 268.982 Q1947.58 268.982 1945.66 271.204 Q1943.74 273.403 1943.74 277.176 L1943.74 291.829 L1939.46 291.829 L1939.46 265.903 L1943.74 265.903 L1943.74 269.931 Q1945.2 267.546 1947.24 266.412 Q1949.27 265.278 1952.07 265.278 Q1954.9 265.278 1956.87 266.713 Q1958.86 268.148 1959.8 270.88 Z\" fill=\"#000000\" fill-rule=\"evenodd\" fill-opacity=\"1\" /><path clip-path=\"url(#clip790)\" d=\"M 0 0 M1981.33 281.597 L1981.33 265.903 L1985.59 265.903 L1985.59 281.435 Q1985.59 285.116 1987.03 286.968 Q1988.46 288.796 1991.33 288.796 Q1994.78 288.796 1996.77 286.597 Q1998.79 284.398 1998.79 280.602 L1998.79 265.903 L2003.05 265.903 L2003.05 291.829 L1998.79 291.829 L1998.79 287.847 Q1997.24 290.208 1995.18 291.366 Q1993.14 292.5 1990.43 292.5 Q1985.96 292.5 1983.65 289.722 Q1981.33 286.944 1981.33 281.597 M1992.05 265.278 L1992.05 265.278 Z\" fill=\"#000000\" fill-rule=\"evenodd\" fill-opacity=\"1\" /><path clip-path=\"url(#clip790)\" d=\"M 0 0 M2007.51 255.81 L2011.77 255.81 L2011.77 291.829 L2007.51 291.829 L2007.51 255.81 Z\" fill=\"#000000\" fill-rule=\"evenodd\" fill-opacity=\"1\" /><path clip-path=\"url(#clip790)\" d=\"M 0 0 M2020.45 258.542 L2020.45 265.903 L2029.23 265.903 L2029.23 269.213 L2020.45 269.213 L2020.45 283.287 Q2020.45 286.458 2021.31 287.361 Q2022.19 288.264 2024.85 288.264 L2029.23 288.264 L2029.23 291.829 L2024.85 291.829 Q2019.92 291.829 2018.05 290 Q2016.17 288.148 2016.17 283.287 L2016.17 269.213 L2013.05 269.213 L2013.05 265.903 L2016.17 265.903 L2016.17 258.542 L2020.45 258.542 Z\" fill=\"#000000\" fill-rule=\"evenodd\" fill-opacity=\"1\" /><path clip-path=\"url(#clip790)\" d=\"M 0 0 M2033.69 265.903 L2037.95 265.903 L2037.95 291.829 L2033.69 291.829 L2033.69 265.903 M2033.69 255.81 L2037.95 255.81 L2037.95 261.204 L2033.69 261.204 L2033.69 255.81 Z\" fill=\"#000000\" fill-rule=\"evenodd\" fill-opacity=\"1\" /><path clip-path=\"url(#clip790)\" d=\"M 0 0 M2046.54 287.94 L2046.54 301.69 L2042.26 301.69 L2042.26 265.903 L2046.54 265.903 L2046.54 269.838 Q2047.88 267.523 2049.92 266.412 Q2051.98 265.278 2054.83 265.278 Q2059.55 265.278 2062.49 269.028 Q2065.45 272.778 2065.45 278.889 Q2065.45 285 2062.49 288.75 Q2059.55 292.5 2054.83 292.5 Q2051.98 292.5 2049.92 291.389 Q2047.88 290.255 2046.54 287.94 M2061.03 278.889 Q2061.03 274.19 2059.09 271.528 Q2057.17 268.843 2053.79 268.843 Q2050.41 268.843 2048.46 271.528 Q2046.54 274.19 2046.54 278.889 Q2046.54 283.588 2048.46 286.273 Q2050.41 288.935 2053.79 288.935 Q2057.17 288.935 2059.09 286.273 Q2061.03 283.588 2061.03 278.889 Z\" fill=\"#000000\" fill-rule=\"evenodd\" fill-opacity=\"1\" /><path clip-path=\"url(#clip790)\" d=\"M 0 0 M2069.92 255.81 L2074.18 255.81 L2074.18 291.829 L2069.92 291.829 L2069.92 255.81 Z\" fill=\"#000000\" fill-rule=\"evenodd\" fill-opacity=\"1\" /><path clip-path=\"url(#clip790)\" d=\"M 0 0 M2078.65 265.903 L2082.91 265.903 L2082.91 291.829 L2078.65 291.829 L2078.65 265.903 M2078.65 255.81 L2082.91 255.81 L2082.91 261.204 L2078.65 261.204 L2078.65 255.81 Z\" fill=\"#000000\" fill-rule=\"evenodd\" fill-opacity=\"1\" /><path clip-path=\"url(#clip790)\" d=\"M 0 0 M2106.03 266.898 L2106.03 270.88 Q2104.23 269.884 2102.4 269.398 Q2100.59 268.889 2098.74 268.889 Q2094.6 268.889 2092.3 271.528 Q2090.01 274.144 2090.01 278.889 Q2090.01 283.634 2092.3 286.273 Q2094.6 288.889 2098.74 288.889 Q2100.59 288.889 2102.4 288.403 Q2104.23 287.893 2106.03 286.898 L2106.03 290.833 Q2104.25 291.667 2102.33 292.083 Q2100.43 292.5 2098.28 292.5 Q2092.42 292.5 2088.97 288.819 Q2085.52 285.139 2085.52 278.889 Q2085.52 272.546 2088.99 268.912 Q2092.49 265.278 2098.55 265.278 Q2100.52 265.278 2102.4 265.695 Q2104.27 266.088 2106.03 266.898 Z\" fill=\"#000000\" fill-rule=\"evenodd\" fill-opacity=\"1\" /><path clip-path=\"url(#clip790)\" d=\"M 0 0 M2122.28 278.796 Q2117.12 278.796 2115.13 279.977 Q2113.14 281.157 2113.14 284.005 Q2113.14 286.273 2114.62 287.616 Q2116.12 288.935 2118.69 288.935 Q2122.23 288.935 2124.36 286.435 Q2126.52 283.912 2126.52 279.745 L2126.52 278.796 L2122.28 278.796 M2130.78 277.037 L2130.78 291.829 L2126.52 291.829 L2126.52 287.893 Q2125.06 290.255 2122.88 291.389 Q2120.71 292.5 2117.56 292.5 Q2113.58 292.5 2111.22 290.278 Q2108.88 288.032 2108.88 284.282 Q2108.88 279.907 2111.79 277.685 Q2114.73 275.463 2120.54 275.463 L2126.52 275.463 L2126.52 275.046 Q2126.52 272.107 2124.57 270.509 Q2122.65 268.889 2119.16 268.889 Q2116.93 268.889 2114.83 269.421 Q2112.72 269.954 2110.78 271.019 L2110.78 267.083 Q2113.11 266.181 2115.31 265.741 Q2117.51 265.278 2119.6 265.278 Q2125.22 265.278 2128 268.194 Q2130.78 271.111 2130.78 277.037 Z\" fill=\"#000000\" fill-rule=\"evenodd\" fill-opacity=\"1\" /><path clip-path=\"url(#clip790)\" d=\"M 0 0 M2139.46 258.542 L2139.46 265.903 L2148.23 265.903 L2148.23 269.213 L2139.46 269.213 L2139.46 283.287 Q2139.46 286.458 2140.31 287.361 Q2141.19 288.264 2143.85 288.264 L2148.23 288.264 L2148.23 291.829 L2143.85 291.829 Q2138.92 291.829 2137.05 290 Q2135.17 288.148 2135.17 283.287 L2135.17 269.213 L2132.05 269.213 L2132.05 265.903 L2135.17 265.903 L2135.17 258.542 L2139.46 258.542 Z\" fill=\"#000000\" fill-rule=\"evenodd\" fill-opacity=\"1\" /><path clip-path=\"url(#clip790)\" d=\"M 0 0 M2152.7 265.903 L2156.96 265.903 L2156.96 291.829 L2152.7 291.829 L2152.7 265.903 M2152.7 255.81 L2156.96 255.81 L2156.96 261.204 L2152.7 261.204 L2152.7 255.81 Z\" fill=\"#000000\" fill-rule=\"evenodd\" fill-opacity=\"1\" /><path clip-path=\"url(#clip790)\" d=\"M 0 0 M2171.47 268.889 Q2168.04 268.889 2166.05 271.574 Q2164.06 274.236 2164.06 278.889 Q2164.06 283.542 2166.03 286.227 Q2168.02 288.889 2171.47 288.889 Q2174.87 288.889 2176.86 286.204 Q2178.85 283.518 2178.85 278.889 Q2178.85 274.282 2176.86 271.597 Q2174.87 268.889 2171.47 268.889 M2171.47 265.278 Q2177.03 265.278 2180.2 268.889 Q2183.37 272.5 2183.37 278.889 Q2183.37 285.255 2180.2 288.889 Q2177.03 292.5 2171.47 292.5 Q2165.89 292.5 2162.72 288.889 Q2159.57 285.255 2159.57 278.889 Q2159.57 272.5 2162.72 268.889 Q2165.89 265.278 2171.47 265.278 Z\" fill=\"#000000\" fill-rule=\"evenodd\" fill-opacity=\"1\" /><path clip-path=\"url(#clip790)\" d=\"M 0 0 M2209.39 276.181 L2209.39 291.829 L2205.13 291.829 L2205.13 276.319 Q2205.13 272.639 2203.69 270.81 Q2202.26 268.982 2199.39 268.982 Q2195.94 268.982 2193.95 271.181 Q2191.96 273.38 2191.96 277.176 L2191.96 291.829 L2187.67 291.829 L2187.67 265.903 L2191.96 265.903 L2191.96 269.931 Q2193.48 267.593 2195.54 266.435 Q2197.63 265.278 2200.34 265.278 Q2204.8 265.278 2207.1 268.056 Q2209.39 270.81 2209.39 276.181 Z\" fill=\"#000000\" fill-rule=\"evenodd\" fill-opacity=\"1\" /></svg>\n"
      ]
     },
     "execution_count": 68,
     "metadata": {},
     "output_type": "execute_result"
    }
   ],
   "source": [
    "scatter(C_df_combined.Matrix_size, C_df_combined.Operation_time_mean,\n",
    "    group=C_df_combined.Operation_type, yerr=C_df_combined.Operation_time_std,\n",
    "    colour = [:red :blue :green], xlabel=\"Matrix size\", ylabel=\"Operation time\")"
   ]
  },
  {
   "cell_type": "markdown",
   "metadata": {},
   "source": [
    "\n",
    "# ZAD3"
   ]
  },
  {
   "cell_type": "markdown",
   "metadata": {},
   "source": [
    "Julia multiplications:"
   ]
  },
  {
   "cell_type": "code",
   "execution_count": 102,
   "metadata": {},
   "outputs": [],
   "source": [
    "using Polynomials\n",
    "using Plots"
   ]
  },
  {
   "cell_type": "code",
   "execution_count": 108,
   "metadata": {},
   "outputs": [
    {
     "data": {
      "text/html": [
       "1.2904756666666716e-5 &#45; 1.2780619677544682e-6&#8729;x &#43; 3.4104481351981335e-8&#8729;x<sup>2</sup> &#45; 1.8109127816627798e-10&#8729;x<sup>3</sup>"
      ],
      "text/latex": [
       "$1.2904756666666716e-5 - 1.2780619677544682e-6\\cdot x + 3.4104481351981335e-8\\cdot x^{2} - 1.8109127816627798e-10\\cdot x^{3}$"
      ],
      "text/plain": [
       "Polynomial(1.2904756666666716e-5 - 1.2780619677544682e-6*x + 3.4104481351981335e-8*x^2 - 1.8109127816627798e-10*x^3)"
      ]
     },
     "execution_count": 108,
     "metadata": {},
     "output_type": "execute_result"
    }
   ],
   "source": [
    "x_julia = df_combined[df_combined[:,1] .== \"naive_multiplication\", 2]\n",
    "x_julia = Vector{Int64}(vec(x_julia))\n",
    "y_julia_naive = df_combined[df_combined[:,1] .== \"naive_multiplication\", 3]\n",
    "y_julia_naive = Vector{Float64}(vec(y_julia_naive))\n",
    "y_julia_better = df_combined[df_combined[:,1] .== \"better_multiplication\", 3]\n",
    "y_julia_better = Vector{Float64}(vec(y_julia_better))\n",
    "y_julia_BLAS = df_combined[df_combined[:,1] .== \"BLAS_multiplication\", 3]\n",
    "y_julia_BLAS = Vector{Float64}(vec(y_julia_BLAS))\n",
    "\n",
    "\n",
    "fit_poly_julia_naive = fit(x_julia, y_julia_naive, 3)\n",
    "fit_poly_julia_better = fit(x_julia, y_julia_better, 3)\n",
    "fit_poly_julia_BLAS = fit(x_julia, y_julia_BLAS, 3)"
   ]
  },
  {
   "cell_type": "code",
   "execution_count": 109,
   "metadata": {},
   "outputs": [
    {
     "data": {
      "image/svg+xml": [
       "<?xml version=\"1.0\" encoding=\"utf-8\"?>\n",
       "<svg xmlns=\"http://www.w3.org/2000/svg\" xmlns:xlink=\"http://www.w3.org/1999/xlink\" width=\"600\" height=\"400\" viewBox=\"0 0 2400 1600\">\n",
       "<defs>\n",
       "  <clipPath id=\"clip990\">\n",
       "    <rect x=\"0\" y=\"0\" width=\"2400\" height=\"1600\"/>\n",
       "  </clipPath>\n",
       "</defs>\n",
       "<path clip-path=\"url(#clip990)\" d=\"\n",
       "M0 1600 L2400 1600 L2400 0 L0 0  Z\n",
       "  \" fill=\"#ffffff\" fill-rule=\"evenodd\" fill-opacity=\"1\"/>\n",
       "<defs>\n",
       "  <clipPath id=\"clip991\">\n",
       "    <rect x=\"480\" y=\"0\" width=\"1681\" height=\"1600\"/>\n",
       "  </clipPath>\n",
       "</defs>\n",
       "<path clip-path=\"url(#clip990)\" d=\"\n",
       "M292.158 1423.18 L2352.76 1423.18 L2352.76 183.952 L292.158 183.952  Z\n",
       "  \" fill=\"#ffffff\" fill-rule=\"evenodd\" fill-opacity=\"1\"/>\n",
       "<defs>\n",
       "  <clipPath id=\"clip992\">\n",
       "    <rect x=\"292\" y=\"183\" width=\"2062\" height=\"1240\"/>\n",
       "  </clipPath>\n",
       "</defs>\n",
       "<polyline clip-path=\"url(#clip992)\" style=\"stroke:#000000; stroke-width:2; stroke-opacity:0.1; fill:none\" points=\"\n",
       "  566.472,1423.18 566.472,183.952 \n",
       "  \"/>\n",
       "<polyline clip-path=\"url(#clip992)\" style=\"stroke:#000000; stroke-width:2; stroke-opacity:0.1; fill:none\" points=\"\n",
       "  998.463,1423.18 998.463,183.952 \n",
       "  \"/>\n",
       "<polyline clip-path=\"url(#clip992)\" style=\"stroke:#000000; stroke-width:2; stroke-opacity:0.1; fill:none\" points=\"\n",
       "  1430.45,1423.18 1430.45,183.952 \n",
       "  \"/>\n",
       "<polyline clip-path=\"url(#clip992)\" style=\"stroke:#000000; stroke-width:2; stroke-opacity:0.1; fill:none\" points=\"\n",
       "  1862.45,1423.18 1862.45,183.952 \n",
       "  \"/>\n",
       "<polyline clip-path=\"url(#clip992)\" style=\"stroke:#000000; stroke-width:2; stroke-opacity:0.1; fill:none\" points=\"\n",
       "  2294.44,1423.18 2294.44,183.952 \n",
       "  \"/>\n",
       "<polyline clip-path=\"url(#clip990)\" style=\"stroke:#000000; stroke-width:4; stroke-opacity:1; fill:none\" points=\"\n",
       "  292.158,1423.18 2352.76,1423.18 \n",
       "  \"/>\n",
       "<polyline clip-path=\"url(#clip990)\" style=\"stroke:#000000; stroke-width:4; stroke-opacity:1; fill:none\" points=\"\n",
       "  566.472,1423.18 566.472,1408.31 \n",
       "  \"/>\n",
       "<polyline clip-path=\"url(#clip990)\" style=\"stroke:#000000; stroke-width:4; stroke-opacity:1; fill:none\" points=\"\n",
       "  998.463,1423.18 998.463,1408.31 \n",
       "  \"/>\n",
       "<polyline clip-path=\"url(#clip990)\" style=\"stroke:#000000; stroke-width:4; stroke-opacity:1; fill:none\" points=\"\n",
       "  1430.45,1423.18 1430.45,1408.31 \n",
       "  \"/>\n",
       "<polyline clip-path=\"url(#clip990)\" style=\"stroke:#000000; stroke-width:4; stroke-opacity:1; fill:none\" points=\"\n",
       "  1862.45,1423.18 1862.45,1408.31 \n",
       "  \"/>\n",
       "<polyline clip-path=\"url(#clip990)\" style=\"stroke:#000000; stroke-width:4; stroke-opacity:1; fill:none\" points=\"\n",
       "  2294.44,1423.18 2294.44,1408.31 \n",
       "  \"/>\n",
       "<path clip-path=\"url(#clip990)\" d=\"M 0 0 M547.618 1479.92 L563.937 1479.92 L563.937 1483.85 L541.993 1483.85 L541.993 1479.92 Q544.655 1477.16 549.238 1472.53 Q553.845 1467.88 555.025 1466.54 Q557.271 1464.01 558.15 1462.28 Q559.053 1460.52 559.053 1458.83 Q559.053 1456.07 557.109 1454.34 Q555.187 1452.6 552.086 1452.6 Q549.886 1452.6 547.433 1453.37 Q545.002 1454.13 542.224 1455.68 L542.224 1450.96 Q545.049 1449.82 547.502 1449.25 Q549.956 1448.67 551.993 1448.67 Q557.363 1448.67 560.558 1451.35 Q563.752 1454.04 563.752 1458.53 Q563.752 1460.66 562.942 1462.58 Q562.155 1464.48 560.048 1467.07 Q559.47 1467.74 556.368 1470.96 Q553.266 1474.15 547.618 1479.92 Z\" fill=\"#000000\" fill-rule=\"evenodd\" fill-opacity=\"1\" /><path clip-path=\"url(#clip990)\" d=\"M 0 0 M579.007 1452.37 Q575.396 1452.37 573.567 1455.94 Q571.761 1459.48 571.761 1466.61 Q571.761 1473.71 573.567 1477.28 Q575.396 1480.82 579.007 1480.82 Q582.641 1480.82 584.446 1477.28 Q586.275 1473.71 586.275 1466.61 Q586.275 1459.48 584.446 1455.94 Q582.641 1452.37 579.007 1452.37 M579.007 1448.67 Q584.817 1448.67 587.872 1453.27 Q590.951 1457.86 590.951 1466.61 Q590.951 1475.33 587.872 1479.94 Q584.817 1484.52 579.007 1484.52 Q573.197 1484.52 570.118 1479.94 Q567.062 1475.33 567.062 1466.61 Q567.062 1457.86 570.118 1453.27 Q573.197 1448.67 579.007 1448.67 Z\" fill=\"#000000\" fill-rule=\"evenodd\" fill-opacity=\"1\" /><path clip-path=\"url(#clip990)\" d=\"M 0 0 M987.966 1453.37 L976.16 1471.81 L987.966 1471.81 L987.966 1453.37 M986.739 1449.29 L992.618 1449.29 L992.618 1471.81 L997.549 1471.81 L997.549 1475.7 L992.618 1475.7 L992.618 1483.85 L987.966 1483.85 L987.966 1475.7 L972.364 1475.7 L972.364 1471.19 L986.739 1449.29 Z\" fill=\"#000000\" fill-rule=\"evenodd\" fill-opacity=\"1\" /><path clip-path=\"url(#clip990)\" d=\"M 0 0 M1012.62 1452.37 Q1009.01 1452.37 1007.18 1455.94 Q1005.37 1459.48 1005.37 1466.61 Q1005.37 1473.71 1007.18 1477.28 Q1009.01 1480.82 1012.62 1480.82 Q1016.25 1480.82 1018.06 1477.28 Q1019.89 1473.71 1019.89 1466.61 Q1019.89 1459.48 1018.06 1455.94 Q1016.25 1452.37 1012.62 1452.37 M1012.62 1448.67 Q1018.43 1448.67 1021.48 1453.27 Q1024.56 1457.86 1024.56 1466.61 Q1024.56 1475.33 1021.48 1479.94 Q1018.43 1484.52 1012.62 1484.52 Q1006.81 1484.52 1003.73 1479.94 Q1000.67 1475.33 1000.67 1466.61 Q1000.67 1457.86 1003.73 1453.27 Q1006.81 1448.67 1012.62 1448.67 Z\" fill=\"#000000\" fill-rule=\"evenodd\" fill-opacity=\"1\" /><path clip-path=\"url(#clip990)\" d=\"M 0 0 M1417.35 1464.71 Q1414.2 1464.71 1412.35 1466.86 Q1410.52 1469.01 1410.52 1472.76 Q1410.52 1476.49 1412.35 1478.67 Q1414.2 1480.82 1417.35 1480.82 Q1420.5 1480.82 1422.33 1478.67 Q1424.18 1476.49 1424.18 1472.76 Q1424.18 1469.01 1422.33 1466.86 Q1420.5 1464.71 1417.35 1464.71 M1426.64 1450.06 L1426.64 1454.31 Q1424.88 1453.48 1423.07 1453.04 Q1421.29 1452.6 1419.53 1452.6 Q1414.9 1452.6 1412.45 1455.73 Q1410.01 1458.85 1409.67 1465.17 Q1411.03 1463.16 1413.09 1462.09 Q1415.15 1461 1417.63 1461 Q1422.84 1461 1425.85 1464.18 Q1428.88 1467.32 1428.88 1472.76 Q1428.88 1478.09 1425.73 1481.31 Q1422.58 1484.52 1417.35 1484.52 Q1411.36 1484.52 1408.19 1479.94 Q1405.01 1475.33 1405.01 1466.61 Q1405.01 1458.41 1408.9 1453.55 Q1412.79 1448.67 1419.34 1448.67 Q1421.1 1448.67 1422.89 1449.01 Q1424.69 1449.36 1426.64 1450.06 Z\" fill=\"#000000\" fill-rule=\"evenodd\" fill-opacity=\"1\" /><path clip-path=\"url(#clip990)\" d=\"M 0 0 M1443.95 1452.37 Q1440.34 1452.37 1438.51 1455.94 Q1436.7 1459.48 1436.7 1466.61 Q1436.7 1473.71 1438.51 1477.28 Q1440.34 1480.82 1443.95 1480.82 Q1447.58 1480.82 1449.39 1477.28 Q1451.22 1473.71 1451.22 1466.61 Q1451.22 1459.48 1449.39 1455.94 Q1447.58 1452.37 1443.95 1452.37 M1443.95 1448.67 Q1449.76 1448.67 1452.82 1453.27 Q1455.89 1457.86 1455.89 1466.61 Q1455.89 1475.33 1452.82 1479.94 Q1449.76 1484.52 1443.95 1484.52 Q1438.14 1484.52 1435.06 1479.94 Q1432.01 1475.33 1432.01 1466.61 Q1432.01 1457.86 1435.06 1453.27 Q1438.14 1448.67 1443.95 1448.67 Z\" fill=\"#000000\" fill-rule=\"evenodd\" fill-opacity=\"1\" /><path clip-path=\"url(#clip990)\" d=\"M 0 0 M1848.94 1467.44 Q1845.61 1467.44 1843.68 1469.22 Q1841.79 1471 1841.79 1474.13 Q1841.79 1477.25 1843.68 1479.04 Q1845.61 1480.82 1848.94 1480.82 Q1852.27 1480.82 1854.19 1479.04 Q1856.11 1477.23 1856.11 1474.13 Q1856.11 1471 1854.19 1469.22 Q1852.3 1467.44 1848.94 1467.44 M1844.26 1465.45 Q1841.25 1464.71 1839.56 1462.65 Q1837.9 1460.59 1837.9 1457.63 Q1837.9 1453.48 1840.84 1451.07 Q1843.8 1448.67 1848.94 1448.67 Q1854.1 1448.67 1857.04 1451.07 Q1859.98 1453.48 1859.98 1457.63 Q1859.98 1460.59 1858.29 1462.65 Q1856.62 1464.71 1853.64 1465.45 Q1857.02 1466.24 1858.89 1468.53 Q1860.79 1470.82 1860.79 1474.13 Q1860.79 1479.15 1857.71 1481.84 Q1854.66 1484.52 1848.94 1484.52 Q1843.22 1484.52 1840.14 1481.84 Q1837.09 1479.15 1837.09 1474.13 Q1837.09 1470.82 1838.99 1468.53 Q1840.88 1466.24 1844.26 1465.45 M1842.55 1458.06 Q1842.55 1460.75 1844.22 1462.25 Q1845.91 1463.76 1848.94 1463.76 Q1851.95 1463.76 1853.64 1462.25 Q1855.35 1460.75 1855.35 1458.06 Q1855.35 1455.38 1853.64 1453.88 Q1851.95 1452.37 1848.94 1452.37 Q1845.91 1452.37 1844.22 1453.88 Q1842.55 1455.38 1842.55 1458.06 Z\" fill=\"#000000\" fill-rule=\"evenodd\" fill-opacity=\"1\" /><path clip-path=\"url(#clip990)\" d=\"M 0 0 M1875.86 1452.37 Q1872.25 1452.37 1870.42 1455.94 Q1868.61 1459.48 1868.61 1466.61 Q1868.61 1473.71 1870.42 1477.28 Q1872.25 1480.82 1875.86 1480.82 Q1879.49 1480.82 1881.3 1477.28 Q1883.13 1473.71 1883.13 1466.61 Q1883.13 1459.48 1881.3 1455.94 Q1879.49 1452.37 1875.86 1452.37 M1875.86 1448.67 Q1881.67 1448.67 1884.73 1453.27 Q1887.8 1457.86 1887.8 1466.61 Q1887.8 1475.33 1884.73 1479.94 Q1881.67 1484.52 1875.86 1484.52 Q1870.05 1484.52 1866.97 1479.94 Q1863.92 1475.33 1863.92 1466.61 Q1863.92 1457.86 1866.97 1453.27 Q1870.05 1448.67 1875.86 1448.67 Z\" fill=\"#000000\" fill-rule=\"evenodd\" fill-opacity=\"1\" /><path clip-path=\"url(#clip990)\" d=\"M 0 0 M2257.81 1479.92 L2265.44 1479.92 L2265.44 1453.55 L2257.13 1455.22 L2257.13 1450.96 L2265.4 1449.29 L2270.07 1449.29 L2270.07 1479.92 L2277.71 1479.92 L2277.71 1483.85 L2257.81 1483.85 L2257.81 1479.92 Z\" fill=\"#000000\" fill-rule=\"evenodd\" fill-opacity=\"1\" /><path clip-path=\"url(#clip990)\" d=\"M 0 0 M2292.78 1452.37 Q2289.17 1452.37 2287.34 1455.94 Q2285.54 1459.48 2285.54 1466.61 Q2285.54 1473.71 2287.34 1477.28 Q2289.17 1480.82 2292.78 1480.82 Q2296.42 1480.82 2298.22 1477.28 Q2300.05 1473.71 2300.05 1466.61 Q2300.05 1459.48 2298.22 1455.94 Q2296.42 1452.37 2292.78 1452.37 M2292.78 1448.67 Q2298.59 1448.67 2301.65 1453.27 Q2304.73 1457.86 2304.73 1466.61 Q2304.73 1475.33 2301.65 1479.94 Q2298.59 1484.52 2292.78 1484.52 Q2286.97 1484.52 2283.89 1479.94 Q2280.84 1475.33 2280.84 1466.61 Q2280.84 1457.86 2283.89 1453.27 Q2286.97 1448.67 2292.78 1448.67 Z\" fill=\"#000000\" fill-rule=\"evenodd\" fill-opacity=\"1\" /><path clip-path=\"url(#clip990)\" d=\"M 0 0 M2319.8 1452.37 Q2316.18 1452.37 2314.36 1455.94 Q2312.55 1459.48 2312.55 1466.61 Q2312.55 1473.71 2314.36 1477.28 Q2316.18 1480.82 2319.8 1480.82 Q2323.43 1480.82 2325.24 1477.28 Q2327.06 1473.71 2327.06 1466.61 Q2327.06 1459.48 2325.24 1455.94 Q2323.43 1452.37 2319.8 1452.37 M2319.8 1448.67 Q2325.61 1448.67 2328.66 1453.27 Q2331.74 1457.86 2331.74 1466.61 Q2331.74 1475.33 2328.66 1479.94 Q2325.61 1484.52 2319.8 1484.52 Q2313.99 1484.52 2310.91 1479.94 Q2307.85 1475.33 2307.85 1466.61 Q2307.85 1457.86 2310.91 1453.27 Q2313.99 1448.67 2319.8 1448.67 Z\" fill=\"#000000\" fill-rule=\"evenodd\" fill-opacity=\"1\" /><path clip-path=\"url(#clip990)\" d=\"M 0 0 M1168.31 1508.52 L1177.89 1508.52 L1190.02 1540.86 L1202.21 1508.52 L1211.79 1508.52 L1211.79 1556.04 L1205.52 1556.04 L1205.52 1514.32 L1193.26 1546.91 L1186.8 1546.91 L1174.55 1514.32 L1174.55 1556.04 L1168.31 1556.04 L1168.31 1508.52 Z\" fill=\"#000000\" fill-rule=\"evenodd\" fill-opacity=\"1\" /><path clip-path=\"url(#clip990)\" d=\"M 0 0 M1234.13 1538.12 Q1227.03 1538.12 1224.3 1539.75 Q1221.56 1541.37 1221.56 1545.29 Q1221.56 1548.4 1223.6 1550.25 Q1225.67 1552.07 1229.2 1552.07 Q1234.07 1552.07 1237 1548.63 Q1239.96 1545.16 1239.96 1539.43 L1239.96 1538.12 L1234.13 1538.12 M1245.81 1535.71 L1245.81 1556.04 L1239.96 1556.04 L1239.96 1550.63 Q1237.95 1553.88 1234.96 1555.44 Q1231.97 1556.97 1227.64 1556.97 Q1222.17 1556.97 1218.92 1553.91 Q1215.7 1550.82 1215.7 1545.67 Q1215.7 1539.65 1219.71 1536.6 Q1223.76 1533.54 1231.75 1533.54 L1239.96 1533.54 L1239.96 1532.97 Q1239.96 1528.93 1237.28 1526.73 Q1234.64 1524.5 1229.84 1524.5 Q1226.78 1524.5 1223.88 1525.23 Q1220.99 1525.97 1218.31 1527.43 L1218.31 1522.02 Q1221.53 1520.78 1224.55 1520.17 Q1227.58 1519.54 1230.44 1519.54 Q1238.17 1519.54 1241.99 1523.55 Q1245.81 1527.56 1245.81 1535.71 Z\" fill=\"#000000\" fill-rule=\"evenodd\" fill-opacity=\"1\" /><path clip-path=\"url(#clip990)\" d=\"M 0 0 M1257.75 1510.27 L1257.75 1520.4 L1269.81 1520.4 L1269.81 1524.95 L1257.75 1524.95 L1257.75 1544.3 Q1257.75 1548.66 1258.93 1549.9 Q1260.14 1551.14 1263.8 1551.14 L1269.81 1551.14 L1269.81 1556.04 L1263.8 1556.04 Q1257.02 1556.04 1254.44 1553.53 Q1251.86 1550.98 1251.86 1544.3 L1251.86 1524.95 L1247.56 1524.95 L1247.56 1520.4 L1251.86 1520.4 L1251.86 1510.27 L1257.75 1510.27 Z\" fill=\"#000000\" fill-rule=\"evenodd\" fill-opacity=\"1\" /><path clip-path=\"url(#clip990)\" d=\"M 0 0 M1296.61 1525.87 Q1295.63 1525.3 1294.45 1525.04 Q1293.3 1524.76 1291.9 1524.76 Q1286.94 1524.76 1284.26 1528 Q1281.62 1531.22 1281.62 1537.27 L1281.62 1556.04 L1275.73 1556.04 L1275.73 1520.4 L1281.62 1520.4 L1281.62 1525.93 Q1283.47 1522.69 1286.43 1521.13 Q1289.39 1519.54 1293.62 1519.54 Q1294.22 1519.54 1294.96 1519.63 Q1295.69 1519.7 1296.58 1519.85 L1296.61 1525.87 Z\" fill=\"#000000\" fill-rule=\"evenodd\" fill-opacity=\"1\" /><path clip-path=\"url(#clip990)\" d=\"M 0 0 M1302.75 1520.4 L1308.61 1520.4 L1308.61 1556.04 L1302.75 1556.04 L1302.75 1520.4 M1302.75 1506.52 L1308.61 1506.52 L1308.61 1513.93 L1302.75 1513.93 L1302.75 1506.52 Z\" fill=\"#000000\" fill-rule=\"evenodd\" fill-opacity=\"1\" /><path clip-path=\"url(#clip990)\" d=\"M 0 0 M1344.39 1520.4 L1331.5 1537.74 L1345.05 1556.04 L1338.15 1556.04 L1327.77 1542.04 L1317.4 1556.04 L1310.49 1556.04 L1324.33 1537.39 L1311.67 1520.4 L1318.57 1520.4 L1328.03 1533.1 L1337.48 1520.4 L1344.39 1520.4 Z\" fill=\"#000000\" fill-rule=\"evenodd\" fill-opacity=\"1\" /><path clip-path=\"url(#clip990)\" d=\"M 0 0 M1394.64 1521.45 L1394.64 1526.98 Q1392.16 1525.71 1389.49 1525.07 Q1386.81 1524.44 1383.95 1524.44 Q1379.59 1524.44 1377.39 1525.77 Q1375.23 1527.11 1375.23 1529.79 Q1375.23 1531.82 1376.79 1533 Q1378.35 1534.15 1383.06 1535.2 L1385.06 1535.64 Q1391.3 1536.98 1393.91 1539.43 Q1396.55 1541.85 1396.55 1546.21 Q1396.55 1551.17 1392.61 1554.07 Q1388.69 1556.97 1381.82 1556.97 Q1378.95 1556.97 1375.83 1556.39 Q1372.75 1555.85 1369.31 1554.74 L1369.31 1548.69 Q1372.55 1550.38 1375.71 1551.24 Q1378.86 1552.07 1381.94 1552.07 Q1386.08 1552.07 1388.31 1550.66 Q1390.54 1549.23 1390.54 1546.65 Q1390.54 1544.27 1388.91 1542.99 Q1387.32 1541.72 1381.88 1540.54 L1379.84 1540.07 Q1374.4 1538.92 1371.98 1536.56 Q1369.56 1534.18 1369.56 1530.04 Q1369.56 1525.01 1373.13 1522.27 Q1376.69 1519.54 1383.25 1519.54 Q1386.5 1519.54 1389.36 1520.01 Q1392.22 1520.49 1394.64 1521.45 Z\" fill=\"#000000\" fill-rule=\"evenodd\" fill-opacity=\"1\" /><path clip-path=\"url(#clip990)\" d=\"M 0 0 M1402.7 1520.4 L1408.55 1520.4 L1408.55 1556.04 L1402.7 1556.04 L1402.7 1520.4 M1402.7 1506.52 L1408.55 1506.52 L1408.55 1513.93 L1402.7 1513.93 L1402.7 1506.52 Z\" fill=\"#000000\" fill-rule=\"evenodd\" fill-opacity=\"1\" /><path clip-path=\"url(#clip990)\" d=\"M 0 0 M1412.15 1520.4 L1439.97 1520.4 L1439.97 1525.74 L1417.94 1551.37 L1439.97 1551.37 L1439.97 1556.04 L1411.35 1556.04 L1411.35 1550.7 L1433.38 1525.07 L1412.15 1525.07 L1412.15 1520.4 Z\" fill=\"#000000\" fill-rule=\"evenodd\" fill-opacity=\"1\" /><path clip-path=\"url(#clip990)\" d=\"M 0 0 M1476.6 1536.76 L1476.6 1539.62 L1449.68 1539.62 Q1450.06 1545.67 1453.3 1548.85 Q1456.58 1552 1462.41 1552 Q1465.78 1552 1468.93 1551.17 Q1472.11 1550.35 1475.23 1548.69 L1475.23 1554.23 Q1472.08 1555.57 1468.77 1556.27 Q1465.46 1556.97 1462.06 1556.97 Q1453.53 1556.97 1448.53 1552 Q1443.56 1547.04 1443.56 1538.57 Q1443.56 1529.82 1448.27 1524.69 Q1453.02 1519.54 1461.04 1519.54 Q1468.23 1519.54 1472.4 1524.18 Q1476.6 1528.8 1476.6 1536.76 M1470.75 1535.04 Q1470.68 1530.23 1468.04 1527.37 Q1465.43 1524.5 1461.1 1524.5 Q1456.2 1524.5 1453.24 1527.27 Q1450.31 1530.04 1449.87 1535.07 L1470.75 1535.04 Z\" fill=\"#000000\" fill-rule=\"evenodd\" fill-opacity=\"1\" /><polyline clip-path=\"url(#clip992)\" style=\"stroke:#000000; stroke-width:2; stroke-opacity:0.1; fill:none\" points=\"\n",
       "  292.158,1375.21 2352.76,1375.21 \n",
       "  \"/>\n",
       "<polyline clip-path=\"url(#clip992)\" style=\"stroke:#000000; stroke-width:2; stroke-opacity:0.1; fill:none\" points=\"\n",
       "  292.158,1122.11 2352.76,1122.11 \n",
       "  \"/>\n",
       "<polyline clip-path=\"url(#clip992)\" style=\"stroke:#000000; stroke-width:2; stroke-opacity:0.1; fill:none\" points=\"\n",
       "  292.158,869.014 2352.76,869.014 \n",
       "  \"/>\n",
       "<polyline clip-path=\"url(#clip992)\" style=\"stroke:#000000; stroke-width:2; stroke-opacity:0.1; fill:none\" points=\"\n",
       "  292.158,615.917 2352.76,615.917 \n",
       "  \"/>\n",
       "<polyline clip-path=\"url(#clip992)\" style=\"stroke:#000000; stroke-width:2; stroke-opacity:0.1; fill:none\" points=\"\n",
       "  292.158,362.819 2352.76,362.819 \n",
       "  \"/>\n",
       "<polyline clip-path=\"url(#clip990)\" style=\"stroke:#000000; stroke-width:4; stroke-opacity:1; fill:none\" points=\"\n",
       "  292.158,1423.18 292.158,183.952 \n",
       "  \"/>\n",
       "<polyline clip-path=\"url(#clip990)\" style=\"stroke:#000000; stroke-width:4; stroke-opacity:1; fill:none\" points=\"\n",
       "  292.158,1375.21 316.885,1375.21 \n",
       "  \"/>\n",
       "<polyline clip-path=\"url(#clip990)\" style=\"stroke:#000000; stroke-width:4; stroke-opacity:1; fill:none\" points=\"\n",
       "  292.158,1122.11 316.885,1122.11 \n",
       "  \"/>\n",
       "<polyline clip-path=\"url(#clip990)\" style=\"stroke:#000000; stroke-width:4; stroke-opacity:1; fill:none\" points=\"\n",
       "  292.158,869.014 316.885,869.014 \n",
       "  \"/>\n",
       "<polyline clip-path=\"url(#clip990)\" style=\"stroke:#000000; stroke-width:4; stroke-opacity:1; fill:none\" points=\"\n",
       "  292.158,615.917 316.885,615.917 \n",
       "  \"/>\n",
       "<polyline clip-path=\"url(#clip990)\" style=\"stroke:#000000; stroke-width:4; stroke-opacity:1; fill:none\" points=\"\n",
       "  292.158,362.819 316.885,362.819 \n",
       "  \"/>\n",
       "<path clip-path=\"url(#clip990)\" d=\"M 0 0 M126.205 1361.01 Q122.593 1361.01 120.765 1364.57 Q118.959 1368.11 118.959 1375.24 Q118.959 1382.35 120.765 1385.92 Q122.593 1389.46 126.205 1389.46 Q129.839 1389.46 131.644 1385.92 Q133.473 1382.35 133.473 1375.24 Q133.473 1368.11 131.644 1364.57 Q129.839 1361.01 126.205 1361.01 M126.205 1357.3 Q132.015 1357.3 135.07 1361.91 Q138.149 1366.49 138.149 1375.24 Q138.149 1383.97 135.07 1388.58 Q132.015 1393.16 126.205 1393.16 Q120.394 1393.16 117.316 1388.58 Q114.26 1383.97 114.26 1375.24 Q114.26 1366.49 117.316 1361.91 Q120.394 1357.3 126.205 1357.3 Z\" fill=\"#000000\" fill-rule=\"evenodd\" fill-opacity=\"1\" /><path clip-path=\"url(#clip990)\" d=\"M 0 0 M143.218 1386.61 L148.103 1386.61 L148.103 1392.49 L143.218 1392.49 L143.218 1386.61 Z\" fill=\"#000000\" fill-rule=\"evenodd\" fill-opacity=\"1\" /><path clip-path=\"url(#clip990)\" d=\"M 0 0 M163.172 1361.01 Q159.561 1361.01 157.732 1364.57 Q155.927 1368.11 155.927 1375.24 Q155.927 1382.35 157.732 1385.92 Q159.561 1389.46 163.172 1389.46 Q166.806 1389.46 168.612 1385.92 Q170.44 1382.35 170.44 1375.24 Q170.44 1368.11 168.612 1364.57 Q166.806 1361.01 163.172 1361.01 M163.172 1357.3 Q168.982 1357.3 172.038 1361.91 Q175.116 1366.49 175.116 1375.24 Q175.116 1383.97 172.038 1388.58 Q168.982 1393.16 163.172 1393.16 Q157.362 1393.16 154.283 1388.58 Q151.228 1383.97 151.228 1375.24 Q151.228 1366.49 154.283 1361.91 Q157.362 1357.3 163.172 1357.3 Z\" fill=\"#000000\" fill-rule=\"evenodd\" fill-opacity=\"1\" /><path clip-path=\"url(#clip990)\" d=\"M 0 0 M190.186 1361.01 Q186.575 1361.01 184.746 1364.57 Q182.94 1368.11 182.94 1375.24 Q182.94 1382.35 184.746 1385.92 Q186.575 1389.46 190.186 1389.46 Q193.82 1389.46 195.625 1385.92 Q197.454 1382.35 197.454 1375.24 Q197.454 1368.11 195.625 1364.57 Q193.82 1361.01 190.186 1361.01 M190.186 1357.3 Q195.996 1357.3 199.051 1361.91 Q202.13 1366.49 202.13 1375.24 Q202.13 1383.97 199.051 1388.58 Q195.996 1393.16 190.186 1393.16 Q184.376 1393.16 181.297 1388.58 Q178.241 1383.97 178.241 1375.24 Q178.241 1366.49 181.297 1361.91 Q184.376 1357.3 190.186 1357.3 Z\" fill=\"#000000\" fill-rule=\"evenodd\" fill-opacity=\"1\" /><path clip-path=\"url(#clip990)\" d=\"M 0 0 M217.199 1361.01 Q213.588 1361.01 211.76 1364.57 Q209.954 1368.11 209.954 1375.24 Q209.954 1382.35 211.76 1385.92 Q213.588 1389.46 217.199 1389.46 Q220.834 1389.46 222.639 1385.92 Q224.468 1382.35 224.468 1375.24 Q224.468 1368.11 222.639 1364.57 Q220.834 1361.01 217.199 1361.01 M217.199 1357.3 Q223.01 1357.3 226.065 1361.91 Q229.144 1366.49 229.144 1375.24 Q229.144 1383.97 226.065 1388.58 Q223.01 1393.16 217.199 1393.16 Q211.389 1393.16 208.311 1388.58 Q205.255 1383.97 205.255 1375.24 Q205.255 1366.49 208.311 1361.91 Q211.389 1357.3 217.199 1357.3 Z\" fill=\"#000000\" fill-rule=\"evenodd\" fill-opacity=\"1\" /><path clip-path=\"url(#clip990)\" d=\"M 0 0 M244.213 1361.01 Q240.602 1361.01 238.773 1364.57 Q236.968 1368.11 236.968 1375.24 Q236.968 1382.35 238.773 1385.92 Q240.602 1389.46 244.213 1389.46 Q247.847 1389.46 249.653 1385.92 Q251.482 1382.35 251.482 1375.24 Q251.482 1368.11 249.653 1364.57 Q247.847 1361.01 244.213 1361.01 M244.213 1357.3 Q250.023 1357.3 253.079 1361.91 Q256.158 1366.49 256.158 1375.24 Q256.158 1383.97 253.079 1388.58 Q250.023 1393.16 244.213 1393.16 Q238.403 1393.16 235.324 1388.58 Q232.269 1383.97 232.269 1375.24 Q232.269 1366.49 235.324 1361.91 Q238.403 1357.3 244.213 1357.3 Z\" fill=\"#000000\" fill-rule=\"evenodd\" fill-opacity=\"1\" /><path clip-path=\"url(#clip990)\" d=\"M 0 0 M127.2 1107.91 Q123.589 1107.91 121.76 1111.48 Q119.955 1115.02 119.955 1122.15 Q119.955 1129.25 121.76 1132.82 Q123.589 1136.36 127.2 1136.36 Q130.834 1136.36 132.64 1132.82 Q134.468 1129.25 134.468 1122.15 Q134.468 1115.02 132.64 1111.48 Q130.834 1107.91 127.2 1107.91 M127.2 1104.21 Q133.01 1104.21 136.066 1108.81 Q139.144 1113.4 139.144 1122.15 Q139.144 1130.87 136.066 1135.48 Q133.01 1140.06 127.2 1140.06 Q121.39 1140.06 118.311 1135.48 Q115.256 1130.87 115.256 1122.15 Q115.256 1113.4 118.311 1108.81 Q121.39 1104.21 127.2 1104.21 Z\" fill=\"#000000\" fill-rule=\"evenodd\" fill-opacity=\"1\" /><path clip-path=\"url(#clip990)\" d=\"M 0 0 M144.214 1133.51 L149.098 1133.51 L149.098 1139.39 L144.214 1139.39 L144.214 1133.51 Z\" fill=\"#000000\" fill-rule=\"evenodd\" fill-opacity=\"1\" /><path clip-path=\"url(#clip990)\" d=\"M 0 0 M164.167 1107.91 Q160.556 1107.91 158.728 1111.48 Q156.922 1115.02 156.922 1122.15 Q156.922 1129.25 158.728 1132.82 Q160.556 1136.36 164.167 1136.36 Q167.802 1136.36 169.607 1132.82 Q171.436 1129.25 171.436 1122.15 Q171.436 1115.02 169.607 1111.48 Q167.802 1107.91 164.167 1107.91 M164.167 1104.21 Q169.977 1104.21 173.033 1108.81 Q176.112 1113.4 176.112 1122.15 Q176.112 1130.87 173.033 1135.48 Q169.977 1140.06 164.167 1140.06 Q158.357 1140.06 155.278 1135.48 Q152.223 1130.87 152.223 1122.15 Q152.223 1113.4 155.278 1108.81 Q158.357 1104.21 164.167 1104.21 Z\" fill=\"#000000\" fill-rule=\"evenodd\" fill-opacity=\"1\" /><path clip-path=\"url(#clip990)\" d=\"M 0 0 M191.181 1107.91 Q187.57 1107.91 185.741 1111.48 Q183.936 1115.02 183.936 1122.15 Q183.936 1129.25 185.741 1132.82 Q187.57 1136.36 191.181 1136.36 Q194.815 1136.36 196.621 1132.82 Q198.45 1129.25 198.45 1122.15 Q198.45 1115.02 196.621 1111.48 Q194.815 1107.91 191.181 1107.91 M191.181 1104.21 Q196.991 1104.21 200.047 1108.81 Q203.125 1113.4 203.125 1122.15 Q203.125 1130.87 200.047 1135.48 Q196.991 1140.06 191.181 1140.06 Q185.371 1140.06 182.292 1135.48 Q179.237 1130.87 179.237 1122.15 Q179.237 1113.4 182.292 1108.81 Q185.371 1104.21 191.181 1104.21 Z\" fill=\"#000000\" fill-rule=\"evenodd\" fill-opacity=\"1\" /><path clip-path=\"url(#clip990)\" d=\"M 0 0 M218.195 1107.91 Q214.584 1107.91 212.755 1111.48 Q210.949 1115.02 210.949 1122.15 Q210.949 1129.25 212.755 1132.82 Q214.584 1136.36 218.195 1136.36 Q221.829 1136.36 223.635 1132.82 Q225.463 1129.25 225.463 1122.15 Q225.463 1115.02 223.635 1111.48 Q221.829 1107.91 218.195 1107.91 M218.195 1104.21 Q224.005 1104.21 227.06 1108.81 Q230.139 1113.4 230.139 1122.15 Q230.139 1130.87 227.06 1135.48 Q224.005 1140.06 218.195 1140.06 Q212.385 1140.06 209.306 1135.48 Q206.25 1130.87 206.25 1122.15 Q206.25 1113.4 209.306 1108.81 Q212.385 1104.21 218.195 1104.21 Z\" fill=\"#000000\" fill-rule=\"evenodd\" fill-opacity=\"1\" /><path clip-path=\"url(#clip990)\" d=\"M 0 0 M235.255 1104.83 L253.611 1104.83 L253.611 1108.77 L239.537 1108.77 L239.537 1117.24 Q240.556 1116.89 241.574 1116.73 Q242.593 1116.54 243.611 1116.54 Q249.398 1116.54 252.778 1119.72 Q256.158 1122.89 256.158 1128.3 Q256.158 1133.88 252.685 1136.98 Q249.213 1140.06 242.894 1140.06 Q240.718 1140.06 238.449 1139.69 Q236.204 1139.32 233.797 1138.58 L233.797 1133.88 Q235.88 1135.02 238.102 1135.57 Q240.324 1136.13 242.801 1136.13 Q246.806 1136.13 249.144 1134.02 Q251.482 1131.91 251.482 1128.3 Q251.482 1124.69 249.144 1122.59 Q246.806 1120.48 242.801 1120.48 Q240.926 1120.48 239.051 1120.9 Q237.199 1121.31 235.255 1122.19 L235.255 1104.83 Z\" fill=\"#000000\" fill-rule=\"evenodd\" fill-opacity=\"1\" /><path clip-path=\"url(#clip990)\" d=\"M 0 0 M127.431 854.813 Q123.82 854.813 121.992 858.378 Q120.186 861.919 120.186 869.049 Q120.186 876.155 121.992 879.72 Q123.82 883.262 127.431 883.262 Q131.066 883.262 132.871 879.72 Q134.7 876.155 134.7 869.049 Q134.7 861.919 132.871 858.378 Q131.066 854.813 127.431 854.813 M127.431 851.109 Q133.242 851.109 136.297 855.716 Q139.376 860.299 139.376 869.049 Q139.376 877.776 136.297 882.382 Q133.242 886.965 127.431 886.965 Q121.621 886.965 118.543 882.382 Q115.487 877.776 115.487 869.049 Q115.487 860.299 118.543 855.716 Q121.621 851.109 127.431 851.109 Z\" fill=\"#000000\" fill-rule=\"evenodd\" fill-opacity=\"1\" /><path clip-path=\"url(#clip990)\" d=\"M 0 0 M144.445 880.415 L149.329 880.415 L149.329 886.294 L144.445 886.294 L144.445 880.415 Z\" fill=\"#000000\" fill-rule=\"evenodd\" fill-opacity=\"1\" /><path clip-path=\"url(#clip990)\" d=\"M 0 0 M164.399 854.813 Q160.788 854.813 158.959 858.378 Q157.153 861.919 157.153 869.049 Q157.153 876.155 158.959 879.72 Q160.788 883.262 164.399 883.262 Q168.033 883.262 169.839 879.72 Q171.667 876.155 171.667 869.049 Q171.667 861.919 169.839 858.378 Q168.033 854.813 164.399 854.813 M164.399 851.109 Q170.209 851.109 173.264 855.716 Q176.343 860.299 176.343 869.049 Q176.343 877.776 173.264 882.382 Q170.209 886.965 164.399 886.965 Q158.589 886.965 155.51 882.382 Q152.454 877.776 152.454 869.049 Q152.454 860.299 155.51 855.716 Q158.589 851.109 164.399 851.109 Z\" fill=\"#000000\" fill-rule=\"evenodd\" fill-opacity=\"1\" /><path clip-path=\"url(#clip990)\" d=\"M 0 0 M191.413 854.813 Q187.801 854.813 185.973 858.378 Q184.167 861.919 184.167 869.049 Q184.167 876.155 185.973 879.72 Q187.801 883.262 191.413 883.262 Q195.047 883.262 196.852 879.72 Q198.681 876.155 198.681 869.049 Q198.681 861.919 196.852 858.378 Q195.047 854.813 191.413 854.813 M191.413 851.109 Q197.223 851.109 200.278 855.716 Q203.357 860.299 203.357 869.049 Q203.357 877.776 200.278 882.382 Q197.223 886.965 191.413 886.965 Q185.602 886.965 182.524 882.382 Q179.468 877.776 179.468 869.049 Q179.468 860.299 182.524 855.716 Q185.602 851.109 191.413 851.109 Z\" fill=\"#000000\" fill-rule=\"evenodd\" fill-opacity=\"1\" /><path clip-path=\"url(#clip990)\" d=\"M 0 0 M209.237 882.359 L216.875 882.359 L216.875 855.993 L208.565 857.66 L208.565 853.401 L216.829 851.734 L221.505 851.734 L221.505 882.359 L229.144 882.359 L229.144 886.294 L209.237 886.294 L209.237 882.359 Z\" fill=\"#000000\" fill-rule=\"evenodd\" fill-opacity=\"1\" /><path clip-path=\"url(#clip990)\" d=\"M 0 0 M244.213 854.813 Q240.602 854.813 238.773 858.378 Q236.968 861.919 236.968 869.049 Q236.968 876.155 238.773 879.72 Q240.602 883.262 244.213 883.262 Q247.847 883.262 249.653 879.72 Q251.482 876.155 251.482 869.049 Q251.482 861.919 249.653 858.378 Q247.847 854.813 244.213 854.813 M244.213 851.109 Q250.023 851.109 253.079 855.716 Q256.158 860.299 256.158 869.049 Q256.158 877.776 253.079 882.382 Q250.023 886.965 244.213 886.965 Q238.403 886.965 235.324 882.382 Q232.269 877.776 232.269 869.049 Q232.269 860.299 235.324 855.716 Q238.403 851.109 244.213 851.109 Z\" fill=\"#000000\" fill-rule=\"evenodd\" fill-opacity=\"1\" /><path clip-path=\"url(#clip990)\" d=\"M 0 0 M128.427 601.715 Q124.816 601.715 122.987 605.28 Q121.181 608.822 121.181 615.951 Q121.181 623.058 122.987 626.623 Q124.816 630.164 128.427 630.164 Q132.061 630.164 133.867 626.623 Q135.695 623.058 135.695 615.951 Q135.695 608.822 133.867 605.28 Q132.061 601.715 128.427 601.715 M128.427 598.012 Q134.237 598.012 137.292 602.618 Q140.371 607.201 140.371 615.951 Q140.371 624.678 137.292 629.285 Q134.237 633.868 128.427 633.868 Q122.617 633.868 119.538 629.285 Q116.482 624.678 116.482 615.951 Q116.482 607.201 119.538 602.618 Q122.617 598.012 128.427 598.012 Z\" fill=\"#000000\" fill-rule=\"evenodd\" fill-opacity=\"1\" /><path clip-path=\"url(#clip990)\" d=\"M 0 0 M145.441 627.317 L150.325 627.317 L150.325 633.197 L145.441 633.197 L145.441 627.317 Z\" fill=\"#000000\" fill-rule=\"evenodd\" fill-opacity=\"1\" /><path clip-path=\"url(#clip990)\" d=\"M 0 0 M165.394 601.715 Q161.783 601.715 159.954 605.28 Q158.149 608.822 158.149 615.951 Q158.149 623.058 159.954 626.623 Q161.783 630.164 165.394 630.164 Q169.028 630.164 170.834 626.623 Q172.663 623.058 172.663 615.951 Q172.663 608.822 170.834 605.28 Q169.028 601.715 165.394 601.715 M165.394 598.012 Q171.204 598.012 174.26 602.618 Q177.339 607.201 177.339 615.951 Q177.339 624.678 174.26 629.285 Q171.204 633.868 165.394 633.868 Q159.584 633.868 156.505 629.285 Q153.45 624.678 153.45 615.951 Q153.45 607.201 156.505 602.618 Q159.584 598.012 165.394 598.012 Z\" fill=\"#000000\" fill-rule=\"evenodd\" fill-opacity=\"1\" /><path clip-path=\"url(#clip990)\" d=\"M 0 0 M192.408 601.715 Q188.797 601.715 186.968 605.28 Q185.163 608.822 185.163 615.951 Q185.163 623.058 186.968 626.623 Q188.797 630.164 192.408 630.164 Q196.042 630.164 197.848 626.623 Q199.676 623.058 199.676 615.951 Q199.676 608.822 197.848 605.28 Q196.042 601.715 192.408 601.715 M192.408 598.012 Q198.218 598.012 201.274 602.618 Q204.352 607.201 204.352 615.951 Q204.352 624.678 201.274 629.285 Q198.218 633.868 192.408 633.868 Q186.598 633.868 183.519 629.285 Q180.464 624.678 180.464 615.951 Q180.464 607.201 183.519 602.618 Q186.598 598.012 192.408 598.012 Z\" fill=\"#000000\" fill-rule=\"evenodd\" fill-opacity=\"1\" /><path clip-path=\"url(#clip990)\" d=\"M 0 0 M210.232 629.261 L217.871 629.261 L217.871 602.896 L209.561 604.563 L209.561 600.303 L217.824 598.637 L222.5 598.637 L222.5 629.261 L230.139 629.261 L230.139 633.197 L210.232 633.197 L210.232 629.261 Z\" fill=\"#000000\" fill-rule=\"evenodd\" fill-opacity=\"1\" /><path clip-path=\"url(#clip990)\" d=\"M 0 0 M235.255 598.637 L253.611 598.637 L253.611 602.572 L239.537 602.572 L239.537 611.044 Q240.556 610.697 241.574 610.535 Q242.593 610.35 243.611 610.35 Q249.398 610.35 252.778 613.521 Q256.158 616.692 256.158 622.109 Q256.158 627.687 252.685 630.789 Q249.213 633.868 242.894 633.868 Q240.718 633.868 238.449 633.498 Q236.204 633.127 233.797 632.386 L233.797 627.687 Q235.88 628.822 238.102 629.377 Q240.324 629.933 242.801 629.933 Q246.806 629.933 249.144 627.826 Q251.482 625.72 251.482 622.109 Q251.482 618.498 249.144 616.391 Q246.806 614.285 242.801 614.285 Q240.926 614.285 239.051 614.701 Q237.199 615.118 235.255 615.998 L235.255 598.637 Z\" fill=\"#000000\" fill-rule=\"evenodd\" fill-opacity=\"1\" /><path clip-path=\"url(#clip990)\" d=\"M 0 0 M127.802 348.618 Q124.191 348.618 122.362 352.183 Q120.556 355.724 120.556 362.854 Q120.556 369.96 122.362 373.525 Q124.191 377.067 127.802 377.067 Q131.436 377.067 133.242 373.525 Q135.07 369.96 135.07 362.854 Q135.07 355.724 133.242 352.183 Q131.436 348.618 127.802 348.618 M127.802 344.914 Q133.612 344.914 136.667 349.521 Q139.746 354.104 139.746 362.854 Q139.746 371.581 136.667 376.187 Q133.612 380.77 127.802 380.77 Q121.992 380.77 118.913 376.187 Q115.857 371.581 115.857 362.854 Q115.857 354.104 118.913 349.521 Q121.992 344.914 127.802 344.914 Z\" fill=\"#000000\" fill-rule=\"evenodd\" fill-opacity=\"1\" /><path clip-path=\"url(#clip990)\" d=\"M 0 0 M144.816 374.22 L149.7 374.22 L149.7 380.099 L144.816 380.099 L144.816 374.22 Z\" fill=\"#000000\" fill-rule=\"evenodd\" fill-opacity=\"1\" /><path clip-path=\"url(#clip990)\" d=\"M 0 0 M164.769 348.618 Q161.158 348.618 159.329 352.183 Q157.524 355.724 157.524 362.854 Q157.524 369.96 159.329 373.525 Q161.158 377.067 164.769 377.067 Q168.403 377.067 170.209 373.525 Q172.038 369.96 172.038 362.854 Q172.038 355.724 170.209 352.183 Q168.403 348.618 164.769 348.618 M164.769 344.914 Q170.579 344.914 173.635 349.521 Q176.714 354.104 176.714 362.854 Q176.714 371.581 173.635 376.187 Q170.579 380.77 164.769 380.77 Q158.959 380.77 155.88 376.187 Q152.825 371.581 152.825 362.854 Q152.825 354.104 155.88 349.521 Q158.959 344.914 164.769 344.914 Z\" fill=\"#000000\" fill-rule=\"evenodd\" fill-opacity=\"1\" /><path clip-path=\"url(#clip990)\" d=\"M 0 0 M191.783 348.618 Q188.172 348.618 186.343 352.183 Q184.538 355.724 184.538 362.854 Q184.538 369.96 186.343 373.525 Q188.172 377.067 191.783 377.067 Q195.417 377.067 197.223 373.525 Q199.051 369.96 199.051 362.854 Q199.051 355.724 197.223 352.183 Q195.417 348.618 191.783 348.618 M191.783 344.914 Q197.593 344.914 200.649 349.521 Q203.727 354.104 203.727 362.854 Q203.727 371.581 200.649 376.187 Q197.593 380.77 191.783 380.77 Q185.973 380.77 182.894 376.187 Q179.839 371.581 179.839 362.854 Q179.839 354.104 182.894 349.521 Q185.973 344.914 191.783 344.914 Z\" fill=\"#000000\" fill-rule=\"evenodd\" fill-opacity=\"1\" /><path clip-path=\"url(#clip990)\" d=\"M 0 0 M212.824 376.164 L229.144 376.164 L229.144 380.099 L207.199 380.099 L207.199 376.164 Q209.861 373.409 214.445 368.78 Q219.051 364.127 220.232 362.784 Q222.477 360.261 223.357 358.525 Q224.26 356.766 224.26 355.076 Q224.26 352.321 222.315 350.585 Q220.394 348.849 217.292 348.849 Q215.093 348.849 212.639 349.613 Q210.209 350.377 207.431 351.928 L207.431 347.206 Q210.255 346.072 212.709 345.493 Q215.162 344.914 217.199 344.914 Q222.57 344.914 225.764 347.599 Q228.959 350.284 228.959 354.775 Q228.959 356.905 228.148 358.826 Q227.361 360.724 225.255 363.317 Q224.676 363.988 221.574 367.206 Q218.473 370.4 212.824 376.164 Z\" fill=\"#000000\" fill-rule=\"evenodd\" fill-opacity=\"1\" /><path clip-path=\"url(#clip990)\" d=\"M 0 0 M244.213 348.618 Q240.602 348.618 238.773 352.183 Q236.968 355.724 236.968 362.854 Q236.968 369.96 238.773 373.525 Q240.602 377.067 244.213 377.067 Q247.847 377.067 249.653 373.525 Q251.482 369.96 251.482 362.854 Q251.482 355.724 249.653 352.183 Q247.847 348.618 244.213 348.618 M244.213 344.914 Q250.023 344.914 253.079 349.521 Q256.158 354.104 256.158 362.854 Q256.158 371.581 253.079 376.187 Q250.023 380.77 244.213 380.77 Q238.403 380.77 235.324 376.187 Q232.269 371.581 232.269 362.854 Q232.269 354.104 235.324 349.521 Q238.403 344.914 244.213 344.914 Z\" fill=\"#000000\" fill-rule=\"evenodd\" fill-opacity=\"1\" /><path clip-path=\"url(#clip990)\" d=\"M 0 0 M44.8447 1000.87 Q44.8447 1007.87 50.0645 1012.01 Q55.2844 1016.12 64.2919 1016.12 Q73.2675 1016.12 78.4874 1012.01 Q83.7073 1007.87 83.7073 1000.87 Q83.7073 993.869 78.4874 989.795 Q73.2675 985.689 64.2919 985.689 Q55.2844 985.689 50.0645 989.795 Q44.8447 993.869 44.8447 1000.87 M39.6248 1000.87 Q39.6248 990.877 46.3406 984.893 Q53.0246 978.909 64.2919 978.909 Q75.5274 978.909 82.2432 984.893 Q88.9272 990.877 88.9272 1000.87 Q88.9272 1010.9 82.2432 1016.91 Q75.5592 1022.9 64.2919 1022.9 Q53.0246 1022.9 46.3406 1016.91 Q39.6248 1010.9 39.6248 1000.87 Z\" fill=\"#000000\" fill-rule=\"evenodd\" fill-opacity=\"1\" /><path clip-path=\"url(#clip990)\" d=\"M 0 0 M82.657 967.101 L101.563 967.101 L101.563 972.989 L52.3562 972.989 L52.3562 967.101 L57.7671 967.101 Q54.5842 965.255 53.0564 962.454 Q51.4968 959.621 51.4968 955.706 Q51.4968 949.213 56.6531 945.171 Q61.8093 941.097 70.212 941.097 Q78.6147 941.097 83.771 945.171 Q88.9272 949.213 88.9272 955.706 Q88.9272 959.621 87.3994 962.454 Q85.8398 965.255 82.657 967.101 M70.212 947.176 Q63.7508 947.176 60.0905 949.85 Q56.3984 952.492 56.3984 957.139 Q56.3984 961.786 60.0905 964.459 Q63.7508 967.101 70.212 967.101 Q76.6732 967.101 80.3653 964.459 Q84.0256 961.786 84.0256 957.139 Q84.0256 952.492 80.3653 949.85 Q76.6732 947.176 70.212 947.176 Z\" fill=\"#000000\" fill-rule=\"evenodd\" fill-opacity=\"1\" /><path clip-path=\"url(#clip990)\" d=\"M 0 0 M68.7161 904.462 L71.5806 904.462 L71.5806 931.389 Q77.6281 931.007 80.8109 927.761 Q83.9619 924.483 83.9619 918.658 Q83.9619 915.284 83.1344 912.133 Q82.3069 908.95 80.6518 905.831 L86.1899 905.831 Q87.5267 908.982 88.227 912.292 Q88.9272 915.602 88.9272 919.008 Q88.9272 927.538 83.9619 932.535 Q78.9967 937.5 70.5303 937.5 Q61.7774 937.5 56.6531 932.79 Q51.4968 928.047 51.4968 920.027 Q51.4968 912.833 56.1438 908.664 Q60.7589 904.462 68.7161 904.462 M66.9973 910.319 Q62.1912 910.383 59.3266 913.024 Q56.4621 915.634 56.4621 919.963 Q56.4621 924.865 59.2312 927.825 Q62.0002 930.753 67.0292 931.198 L66.9973 910.319 Z\" fill=\"#000000\" fill-rule=\"evenodd\" fill-opacity=\"1\" /><path clip-path=\"url(#clip990)\" d=\"M 0 0 M57.8307 877.663 Q57.2578 878.649 57.0032 879.827 Q56.7167 880.973 56.7167 882.373 Q56.7167 887.339 59.9632 890.012 Q63.1779 892.654 69.2253 892.654 L88.0042 892.654 L88.0042 898.542 L52.3562 898.542 L52.3562 892.654 L57.8944 892.654 Q54.6479 890.808 53.0883 887.848 Q51.4968 884.888 51.4968 880.655 Q51.4968 880.05 51.5923 879.318 Q51.656 878.586 51.8151 877.695 L57.8307 877.663 Z\" fill=\"#000000\" fill-rule=\"evenodd\" fill-opacity=\"1\" /><path clip-path=\"url(#clip990)\" d=\"M 0 0 M70.0847 855.319 Q70.0847 862.417 71.7079 865.154 Q73.3312 867.891 77.2461 867.891 Q80.3653 867.891 82.2114 865.854 Q84.0256 863.786 84.0256 860.253 Q84.0256 855.383 80.5881 852.455 Q77.1188 849.495 71.3897 849.495 L70.0847 849.495 L70.0847 855.319 M67.6657 843.638 L88.0042 843.638 L88.0042 849.495 L82.5933 849.495 Q85.8398 851.5 87.3994 854.492 Q88.9272 857.484 88.9272 861.812 Q88.9272 867.287 85.8716 870.533 Q82.7843 873.748 77.6281 873.748 Q71.6125 873.748 68.5569 869.738 Q65.5014 865.695 65.5014 857.706 L65.5014 849.495 L64.9285 849.495 Q60.8862 849.495 58.6901 852.168 Q56.4621 854.81 56.4621 859.616 Q56.4621 862.672 57.1941 865.568 Q57.9262 868.464 59.3903 871.138 L53.9795 871.138 Q52.7381 867.923 52.1334 864.9 Q51.4968 861.876 51.4968 859.011 Q51.4968 851.277 55.5072 847.458 Q59.5176 843.638 67.6657 843.638 Z\" fill=\"#000000\" fill-rule=\"evenodd\" fill-opacity=\"1\" /><path clip-path=\"url(#clip990)\" d=\"M 0 0 M42.2347 831.702 L52.3562 831.702 L52.3562 819.639 L56.9077 819.639 L56.9077 831.702 L76.2594 831.702 Q80.6199 831.702 81.8613 830.525 Q83.1026 829.315 83.1026 825.655 L83.1026 819.639 L88.0042 819.639 L88.0042 825.655 Q88.0042 832.434 85.4897 835.013 Q82.9434 837.591 76.2594 837.591 L56.9077 837.591 L56.9077 841.888 L52.3562 841.888 L52.3562 837.591 L42.2347 837.591 L42.2347 831.702 Z\" fill=\"#000000\" fill-rule=\"evenodd\" fill-opacity=\"1\" /><path clip-path=\"url(#clip990)\" d=\"M 0 0 M52.3562 813.496 L52.3562 807.64 L88.0042 807.64 L88.0042 813.496 L52.3562 813.496 M38.479 813.496 L38.479 807.64 L45.895 807.64 L45.895 813.496 L38.479 813.496 Z\" fill=\"#000000\" fill-rule=\"evenodd\" fill-opacity=\"1\" /><path clip-path=\"url(#clip990)\" d=\"M 0 0 M56.4621 787.684 Q56.4621 792.394 60.1542 795.131 Q63.8145 797.869 70.212 797.869 Q76.6095 797.869 80.3017 795.163 Q83.9619 792.426 83.9619 787.684 Q83.9619 783.005 80.2698 780.267 Q76.5777 777.53 70.212 777.53 Q63.8781 777.53 60.186 780.267 Q56.4621 783.005 56.4621 787.684 M51.4968 787.684 Q51.4968 780.045 56.4621 775.684 Q61.4273 771.324 70.212 771.324 Q78.9649 771.324 83.9619 775.684 Q88.9272 780.045 88.9272 787.684 Q88.9272 795.354 83.9619 799.715 Q78.9649 804.043 70.212 804.043 Q61.4273 804.043 56.4621 799.715 Q51.4968 795.354 51.4968 787.684 Z\" fill=\"#000000\" fill-rule=\"evenodd\" fill-opacity=\"1\" /><path clip-path=\"url(#clip990)\" d=\"M 0 0 M66.4881 735.548 L88.0042 735.548 L88.0042 741.405 L66.679 741.405 Q61.6183 741.405 59.1038 743.378 Q56.5894 745.352 56.5894 749.298 Q56.5894 754.041 59.6131 756.778 Q62.6368 759.515 67.8567 759.515 L88.0042 759.515 L88.0042 765.404 L52.3562 765.404 L52.3562 759.515 L57.8944 759.515 Q54.6797 757.415 53.0883 754.582 Q51.4968 751.717 51.4968 747.993 Q51.4968 741.85 55.3163 738.699 Q59.1038 735.548 66.4881 735.548 Z\" fill=\"#000000\" fill-rule=\"evenodd\" fill-opacity=\"1\" /><path clip-path=\"url(#clip990)\" d=\"M 0 0 M42.2347 702.892 L52.3562 702.892 L52.3562 690.829 L56.9077 690.829 L56.9077 702.892 L76.2594 702.892 Q80.6199 702.892 81.8613 701.715 Q83.1026 700.505 83.1026 696.845 L83.1026 690.829 L88.0042 690.829 L88.0042 696.845 Q88.0042 703.624 85.4897 706.203 Q82.9434 708.781 76.2594 708.781 L56.9077 708.781 L56.9077 713.077 L52.3562 713.077 L52.3562 708.781 L42.2347 708.781 L42.2347 702.892 Z\" fill=\"#000000\" fill-rule=\"evenodd\" fill-opacity=\"1\" /><path clip-path=\"url(#clip990)\" d=\"M 0 0 M52.3562 684.686 L52.3562 678.83 L88.0042 678.83 L88.0042 684.686 L52.3562 684.686 M38.479 684.686 L38.479 678.83 L45.895 678.83 L45.895 684.686 L38.479 684.686 Z\" fill=\"#000000\" fill-rule=\"evenodd\" fill-opacity=\"1\" /><path clip-path=\"url(#clip990)\" d=\"M 0 0 M59.1993 644.933 Q55.2526 642.736 53.3747 639.681 Q51.4968 636.625 51.4968 632.488 Q51.4968 626.918 55.4117 623.894 Q59.2948 620.87 66.4881 620.87 L88.0042 620.87 L88.0042 626.758 L66.679 626.758 Q61.5546 626.758 59.072 628.573 Q56.5894 630.387 56.5894 634.111 Q56.5894 638.662 59.6131 641.304 Q62.6368 643.946 67.8567 643.946 L88.0042 643.946 L88.0042 649.834 L66.679 649.834 Q61.5228 649.834 59.072 651.648 Q56.5894 653.463 56.5894 657.25 Q56.5894 661.738 59.6449 664.38 Q62.6686 667.022 67.8567 667.022 L88.0042 667.022 L88.0042 672.91 L52.3562 672.91 L52.3562 667.022 L57.8944 667.022 Q54.616 665.016 53.0564 662.215 Q51.4968 659.415 51.4968 655.563 Q51.4968 651.68 53.4702 648.975 Q55.4436 646.238 59.1993 644.933 Z\" fill=\"#000000\" fill-rule=\"evenodd\" fill-opacity=\"1\" /><path clip-path=\"url(#clip990)\" d=\"M 0 0 M68.7161 584.236 L71.5806 584.236 L71.5806 611.163 Q77.6281 610.781 80.8109 607.534 Q83.9619 604.256 83.9619 598.431 Q83.9619 595.057 83.1344 591.906 Q82.3069 588.723 80.6518 585.604 L86.1899 585.604 Q87.5267 588.755 88.227 592.065 Q88.9272 595.376 88.9272 598.781 Q88.9272 607.311 83.9619 612.308 Q78.9967 617.274 70.5303 617.274 Q61.7774 617.274 56.6531 612.563 Q51.4968 607.821 51.4968 599.8 Q51.4968 592.606 56.1438 588.437 Q60.7589 584.236 68.7161 584.236 M66.9973 590.092 Q62.1912 590.156 59.3266 592.797 Q56.4621 595.407 56.4621 599.736 Q56.4621 604.638 59.2312 607.598 Q62.0002 610.526 67.0292 610.972 L66.9973 590.092 Z\" fill=\"#000000\" fill-rule=\"evenodd\" fill-opacity=\"1\" /><path clip-path=\"url(#clip990)\" d=\"M 0 0 M668.317 12.096 L719.48 12.096 L719.48 18.9825 L698.01 18.9825 L698.01 72.576 L689.787 72.576 L689.787 18.9825 L668.317 18.9825 L668.317 12.096 Z\" fill=\"#000000\" fill-rule=\"evenodd\" fill-opacity=\"1\" /><path clip-path=\"url(#clip990)\" d=\"M 0 0 M724.746 27.2059 L732.199 27.2059 L732.199 72.576 L724.746 72.576 L724.746 27.2059 M724.746 9.54393 L732.199 9.54393 L732.199 18.9825 L724.746 18.9825 L724.746 9.54393 Z\" fill=\"#000000\" fill-rule=\"evenodd\" fill-opacity=\"1\" /><path clip-path=\"url(#clip990)\" d=\"M 0 0 M775.342 35.9153 Q778.137 30.8922 782.026 28.5022 Q785.914 26.1121 791.181 26.1121 Q798.27 26.1121 802.118 31.0947 Q805.966 36.0368 805.966 45.1919 L805.966 72.576 L798.472 72.576 L798.472 45.4349 Q798.472 38.913 796.163 35.7533 Q793.854 32.5936 789.115 32.5936 Q783.322 32.5936 779.96 36.4419 Q776.597 40.2903 776.597 46.9338 L776.597 72.576 L769.103 72.576 L769.103 45.4349 Q769.103 38.8725 766.794 35.7533 Q764.485 32.5936 759.665 32.5936 Q753.953 32.5936 750.591 36.4824 Q747.228 40.3308 747.228 46.9338 L747.228 72.576 L739.734 72.576 L739.734 27.2059 L747.228 27.2059 L747.228 34.2544 Q749.78 30.082 753.345 28.0971 Q756.91 26.1121 761.812 26.1121 Q766.754 26.1121 770.197 28.6237 Q773.681 31.1352 775.342 35.9153 Z\" fill=\"#000000\" fill-rule=\"evenodd\" fill-opacity=\"1\" /><path clip-path=\"url(#clip990)\" d=\"M 0 0 M852.592 48.0275 L852.592 51.6733 L818.322 51.6733 Q818.808 59.3701 822.94 63.421 Q827.112 67.4314 834.525 67.4314 Q838.819 67.4314 842.83 66.3781 Q846.881 65.3249 850.85 63.2184 L850.85 70.267 Q846.84 71.9684 842.627 72.8596 Q838.414 73.7508 834.08 73.7508 Q823.223 73.7508 816.863 67.4314 Q810.544 61.1119 810.544 50.3365 Q810.544 39.1965 816.539 32.6746 Q822.575 26.1121 832.783 26.1121 Q841.938 26.1121 847.245 32.0264 Q852.592 37.9003 852.592 48.0275 M845.139 45.84 Q845.058 39.7232 841.695 36.0774 Q838.374 32.4315 832.864 32.4315 Q826.626 32.4315 822.859 35.9558 Q819.132 39.4801 818.565 45.8805 L845.139 45.84 Z\" fill=\"#000000\" fill-rule=\"evenodd\" fill-opacity=\"1\" /><path clip-path=\"url(#clip990)\" d=\"M 0 0 M904.363 32.4315 Q898.368 32.4315 894.884 37.1306 Q891.4 41.7891 891.4 49.9314 Q891.4 58.0738 894.843 62.7728 Q898.327 67.4314 904.363 67.4314 Q910.318 67.4314 913.802 62.7323 Q917.285 58.0333 917.285 49.9314 Q917.285 41.8701 913.802 37.1711 Q910.318 32.4315 904.363 32.4315 M904.363 26.1121 Q914.085 26.1121 919.635 32.4315 Q925.185 38.7509 925.185 49.9314 Q925.185 61.0714 919.635 67.4314 Q914.085 73.7508 904.363 73.7508 Q894.6 73.7508 889.05 67.4314 Q883.541 61.0714 883.541 49.9314 Q883.541 38.7509 889.05 32.4315 Q894.6 26.1121 904.363 26.1121 Z\" fill=\"#000000\" fill-rule=\"evenodd\" fill-opacity=\"1\" /><path clip-path=\"url(#clip990)\" d=\"M 0 0 M955.971 9.54393 L955.971 15.7418 L948.842 15.7418 Q944.831 15.7418 943.252 17.3622 Q941.712 18.9825 941.712 23.1955 L941.712 27.2059 L953.986 27.2059 L953.986 32.9987 L941.712 32.9987 L941.712 72.576 L934.218 72.576 L934.218 32.9987 L927.088 32.9987 L927.088 27.2059 L934.218 27.2059 L934.218 24.0462 Q934.218 16.471 937.742 13.0277 Q941.267 9.54393 948.923 9.54393 L955.971 9.54393 Z\" fill=\"#000000\" fill-rule=\"evenodd\" fill-opacity=\"1\" /><path clip-path=\"url(#clip990)\" d=\"M 0 0 M1025.48 35.9153 Q1028.28 30.8922 1032.17 28.5022 Q1036.06 26.1121 1041.32 26.1121 Q1048.41 26.1121 1052.26 31.0947 Q1056.11 36.0368 1056.11 45.1919 L1056.11 72.576 L1048.62 72.576 L1048.62 45.4349 Q1048.62 38.913 1046.31 35.7533 Q1044 32.5936 1039.26 32.5936 Q1033.47 32.5936 1030.1 36.4419 Q1026.74 40.2903 1026.74 46.9338 L1026.74 72.576 L1019.25 72.576 L1019.25 45.4349 Q1019.25 38.8725 1016.94 35.7533 Q1014.63 32.5936 1009.81 32.5936 Q1004.1 32.5936 1000.73 36.4824 Q997.372 40.3308 997.372 46.9338 L997.372 72.576 L989.877 72.576 L989.877 27.2059 L997.372 27.2059 L997.372 34.2544 Q999.924 30.082 1003.49 28.0971 Q1007.05 26.1121 1011.95 26.1121 Q1016.9 26.1121 1020.34 28.6237 Q1023.82 31.1352 1025.48 35.9153 Z\" fill=\"#000000\" fill-rule=\"evenodd\" fill-opacity=\"1\" /><path clip-path=\"url(#clip990)\" d=\"M 0 0 M1063.16 54.671 L1063.16 27.2059 L1070.61 27.2059 L1070.61 54.3874 Q1070.61 60.8284 1073.12 64.0691 Q1075.64 67.2693 1080.66 67.2693 Q1086.69 67.2693 1090.18 63.421 Q1093.7 59.5726 1093.7 52.9291 L1093.7 27.2059 L1101.16 27.2059 L1101.16 72.576 L1093.7 72.576 L1093.7 65.6084 Q1090.99 69.7404 1087.38 71.7658 Q1083.82 73.7508 1079.08 73.7508 Q1071.26 73.7508 1067.21 68.8897 Q1063.16 64.0286 1063.16 54.671 M1081.91 26.1121 L1081.91 26.1121 Z\" fill=\"#000000\" fill-rule=\"evenodd\" fill-opacity=\"1\" /><path clip-path=\"url(#clip990)\" d=\"M 0 0 M1108.97 9.54393 L1116.43 9.54393 L1116.43 72.576 L1108.97 72.576 L1108.97 9.54393 Z\" fill=\"#000000\" fill-rule=\"evenodd\" fill-opacity=\"1\" /><path clip-path=\"url(#clip990)\" d=\"M 0 0 M1131.62 14.324 L1131.62 27.2059 L1146.97 27.2059 L1146.97 32.9987 L1131.62 32.9987 L1131.62 57.6282 Q1131.62 63.1779 1133.12 64.7578 Q1134.66 66.3376 1139.32 66.3376 L1146.97 66.3376 L1146.97 72.576 L1139.32 72.576 Q1130.69 72.576 1127.41 69.3758 Q1124.12 66.1351 1124.12 57.6282 L1124.12 32.9987 L1118.66 32.9987 L1118.66 27.2059 L1124.12 27.2059 L1124.12 14.324 L1131.62 14.324 Z\" fill=\"#000000\" fill-rule=\"evenodd\" fill-opacity=\"1\" /><path clip-path=\"url(#clip990)\" d=\"M 0 0 M1154.79 27.2059 L1162.24 27.2059 L1162.24 72.576 L1154.79 72.576 L1154.79 27.2059 M1154.79 9.54393 L1162.24 9.54393 L1162.24 18.9825 L1154.79 18.9825 L1154.79 9.54393 Z\" fill=\"#000000\" fill-rule=\"evenodd\" fill-opacity=\"1\" /><path clip-path=\"url(#clip990)\" d=\"M 0 0 M1177.27 65.7705 L1177.27 89.8329 L1169.78 89.8329 L1169.78 27.2059 L1177.27 27.2059 L1177.27 34.0924 Q1179.62 30.0415 1183.19 28.0971 Q1186.79 26.1121 1191.77 26.1121 Q1200.04 26.1121 1205.18 32.6746 Q1210.37 39.2371 1210.37 49.9314 Q1210.37 60.6258 1205.18 67.1883 Q1200.04 73.7508 1191.77 73.7508 Q1186.79 73.7508 1183.19 71.8063 Q1179.62 69.8214 1177.27 65.7705 M1202.63 49.9314 Q1202.63 41.7081 1199.23 37.0496 Q1195.87 32.3505 1189.95 32.3505 Q1184.04 32.3505 1180.63 37.0496 Q1177.27 41.7081 1177.27 49.9314 Q1177.27 58.1548 1180.63 62.8538 Q1184.04 67.5124 1189.95 67.5124 Q1195.87 67.5124 1199.23 62.8538 Q1202.63 58.1548 1202.63 49.9314 Z\" fill=\"#000000\" fill-rule=\"evenodd\" fill-opacity=\"1\" /><path clip-path=\"url(#clip990)\" d=\"M 0 0 M1218.19 9.54393 L1225.64 9.54393 L1225.64 72.576 L1218.19 72.576 L1218.19 9.54393 Z\" fill=\"#000000\" fill-rule=\"evenodd\" fill-opacity=\"1\" /><path clip-path=\"url(#clip990)\" d=\"M 0 0 M1252.34 76.7889 Q1249.18 84.8907 1246.18 87.3618 Q1243.18 89.8329 1238.16 89.8329 L1232.2 89.8329 L1232.2 83.5945 L1236.58 83.5945 Q1239.66 83.5945 1241.36 82.1361 Q1243.06 80.6778 1245.12 75.2496 L1246.46 71.8468 L1228.11 27.2059 L1236.01 27.2059 L1250.19 62.6918 L1264.37 27.2059 L1272.27 27.2059 L1252.34 76.7889 Z\" fill=\"#000000\" fill-rule=\"evenodd\" fill-opacity=\"1\" /><path clip-path=\"url(#clip990)\" d=\"M 0 0 M1280.08 27.2059 L1287.54 27.2059 L1287.54 72.576 L1280.08 72.576 L1280.08 27.2059 M1280.08 9.54393 L1287.54 9.54393 L1287.54 18.9825 L1280.08 18.9825 L1280.08 9.54393 Z\" fill=\"#000000\" fill-rule=\"evenodd\" fill-opacity=\"1\" /><path clip-path=\"url(#clip990)\" d=\"M 0 0 M1333.07 45.1919 L1333.07 72.576 L1325.62 72.576 L1325.62 45.4349 Q1325.62 38.994 1323.1 35.7938 Q1320.59 32.5936 1315.57 32.5936 Q1309.53 32.5936 1306.05 36.4419 Q1302.57 40.2903 1302.57 46.9338 L1302.57 72.576 L1295.07 72.576 L1295.07 27.2059 L1302.57 27.2059 L1302.57 34.2544 Q1305.24 30.163 1308.85 28.1376 Q1312.49 26.1121 1317.23 26.1121 Q1325.05 26.1121 1329.06 30.9732 Q1333.07 35.7938 1333.07 45.1919 Z\" fill=\"#000000\" fill-rule=\"evenodd\" fill-opacity=\"1\" /><path clip-path=\"url(#clip990)\" d=\"M 0 0 M1370.74 49.3643 Q1370.74 41.2625 1367.38 36.8065 Q1364.06 32.3505 1358.02 32.3505 Q1352.03 32.3505 1348.67 36.8065 Q1345.34 41.2625 1345.34 49.3643 Q1345.34 57.4256 1348.67 61.8816 Q1352.03 66.3376 1358.02 66.3376 Q1364.06 66.3376 1367.38 61.8816 Q1370.74 57.4256 1370.74 49.3643 M1378.2 66.9452 Q1378.2 78.5308 1373.05 84.1616 Q1367.91 89.8329 1357.29 89.8329 Q1353.37 89.8329 1349.88 89.2252 Q1346.4 88.6581 1343.12 87.4428 L1343.12 80.1917 Q1346.4 81.9741 1349.6 82.8248 Q1352.8 83.6755 1356.12 83.6755 Q1363.45 83.6755 1367.1 79.8271 Q1370.74 76.0193 1370.74 68.282 L1370.74 64.5957 Q1368.43 68.6061 1364.83 70.5911 Q1361.22 72.576 1356.2 72.576 Q1347.86 72.576 1342.75 66.2161 Q1337.65 59.8562 1337.65 49.3643 Q1337.65 38.832 1342.75 32.472 Q1347.86 26.1121 1356.2 26.1121 Q1361.22 26.1121 1364.83 28.0971 Q1368.43 30.082 1370.74 34.0924 L1370.74 27.2059 L1378.2 27.2059 L1378.2 66.9452 Z\" fill=\"#000000\" fill-rule=\"evenodd\" fill-opacity=\"1\" /><path clip-path=\"url(#clip990)\" d=\"M 0 0 M1447.71 35.9153 Q1450.51 30.8922 1454.39 28.5022 Q1458.28 26.1121 1463.55 26.1121 Q1470.64 26.1121 1474.49 31.0947 Q1478.34 36.0368 1478.34 45.1919 L1478.34 72.576 L1470.84 72.576 L1470.84 45.4349 Q1470.84 38.913 1468.53 35.7533 Q1466.22 32.5936 1461.48 32.5936 Q1455.69 32.5936 1452.33 36.4419 Q1448.97 40.2903 1448.97 46.9338 L1448.97 72.576 L1441.47 72.576 L1441.47 45.4349 Q1441.47 38.8725 1439.16 35.7533 Q1436.85 32.5936 1432.03 32.5936 Q1426.32 32.5936 1422.96 36.4824 Q1419.6 40.3308 1419.6 46.9338 L1419.6 72.576 L1412.1 72.576 L1412.1 27.2059 L1419.6 27.2059 L1419.6 34.2544 Q1422.15 30.082 1425.71 28.0971 Q1429.28 26.1121 1434.18 26.1121 Q1439.12 26.1121 1442.57 28.6237 Q1446.05 31.1352 1447.71 35.9153 Z\" fill=\"#000000\" fill-rule=\"evenodd\" fill-opacity=\"1\" /><path clip-path=\"url(#clip990)\" d=\"M 0 0 M1506.77 49.7694 Q1497.74 49.7694 1494.26 51.8354 Q1490.77 53.9013 1490.77 58.8839 Q1490.77 62.8538 1493.36 65.2034 Q1496 67.5124 1500.49 67.5124 Q1506.69 67.5124 1510.42 63.1374 Q1514.19 58.7219 1514.19 51.4303 L1514.19 49.7694 L1506.77 49.7694 M1521.64 46.6907 L1521.64 72.576 L1514.19 72.576 L1514.19 65.6895 Q1511.63 69.8214 1507.83 71.8063 Q1504.02 73.7508 1498.51 73.7508 Q1491.54 73.7508 1487.41 69.8619 Q1483.32 65.9325 1483.32 59.3701 Q1483.32 51.7138 1488.42 47.825 Q1493.57 43.9361 1503.73 43.9361 L1514.19 43.9361 L1514.19 43.2069 Q1514.19 38.0623 1510.78 35.2672 Q1507.42 32.4315 1501.3 32.4315 Q1497.42 32.4315 1493.73 33.3632 Q1490.04 34.295 1486.64 36.1584 L1486.64 29.2718 Q1490.73 27.692 1494.58 26.9223 Q1498.43 26.1121 1502.07 26.1121 Q1511.92 26.1121 1516.78 31.2163 Q1521.64 36.3204 1521.64 46.6907 Z\" fill=\"#000000\" fill-rule=\"evenodd\" fill-opacity=\"1\" /><path clip-path=\"url(#clip990)\" d=\"M 0 0 M1536.83 14.324 L1536.83 27.2059 L1552.18 27.2059 L1552.18 32.9987 L1536.83 32.9987 L1536.83 57.6282 Q1536.83 63.1779 1538.33 64.7578 Q1539.87 66.3376 1544.53 66.3376 L1552.18 66.3376 L1552.18 72.576 L1544.53 72.576 Q1535.9 72.576 1532.62 69.3758 Q1529.34 66.1351 1529.34 57.6282 L1529.34 32.9987 L1523.87 32.9987 L1523.87 27.2059 L1529.34 27.2059 L1529.34 14.324 L1536.83 14.324 Z\" fill=\"#000000\" fill-rule=\"evenodd\" fill-opacity=\"1\" /><path clip-path=\"url(#clip990)\" d=\"M 0 0 M1586.29 34.1734 Q1585.04 33.4443 1583.54 33.1202 Q1582.08 32.7556 1580.3 32.7556 Q1573.98 32.7556 1570.57 36.8875 Q1567.21 40.9789 1567.21 48.6757 L1567.21 72.576 L1559.72 72.576 L1559.72 27.2059 L1567.21 27.2059 L1567.21 34.2544 Q1569.56 30.1225 1573.33 28.1376 Q1577.1 26.1121 1582.48 26.1121 Q1583.25 26.1121 1584.19 26.2337 Q1585.12 26.3147 1586.25 26.5172 L1586.29 34.1734 Z\" fill=\"#000000\" fill-rule=\"evenodd\" fill-opacity=\"1\" /><path clip-path=\"url(#clip990)\" d=\"M 0 0 M1594.11 27.2059 L1601.56 27.2059 L1601.56 72.576 L1594.11 72.576 L1594.11 27.2059 M1594.11 9.54393 L1601.56 9.54393 L1601.56 18.9825 L1594.11 18.9825 L1594.11 9.54393 Z\" fill=\"#000000\" fill-rule=\"evenodd\" fill-opacity=\"1\" /><path clip-path=\"url(#clip990)\" d=\"M 0 0 M1642.03 28.9478 L1642.03 35.9153 Q1638.87 34.1734 1635.67 33.3227 Q1632.51 32.4315 1629.27 32.4315 Q1622.02 32.4315 1618.01 37.0496 Q1614 41.6271 1614 49.9314 Q1614 58.2358 1618.01 62.8538 Q1622.02 67.4314 1629.27 67.4314 Q1632.51 67.4314 1635.67 66.5807 Q1638.87 65.6895 1642.03 63.9476 L1642.03 70.8341 Q1638.91 72.2924 1635.55 73.0216 Q1632.23 73.7508 1628.46 73.7508 Q1618.21 73.7508 1612.18 67.3098 Q1606.14 60.8689 1606.14 49.9314 Q1606.14 38.832 1612.22 32.472 Q1618.33 26.1121 1628.95 26.1121 Q1632.39 26.1121 1635.67 26.8413 Q1638.95 27.5299 1642.03 28.9478 Z\" fill=\"#000000\" fill-rule=\"evenodd\" fill-opacity=\"1\" /><path clip-path=\"url(#clip990)\" d=\"M 0 0 M1688.66 48.0275 L1688.66 51.6733 L1654.39 51.6733 Q1654.87 59.3701 1659.01 63.421 Q1663.18 67.4314 1670.59 67.4314 Q1674.89 67.4314 1678.9 66.3781 Q1682.95 65.3249 1686.92 63.2184 L1686.92 70.267 Q1682.91 71.9684 1678.69 72.8596 Q1674.48 73.7508 1670.15 73.7508 Q1659.29 73.7508 1652.93 67.4314 Q1646.61 61.1119 1646.61 50.3365 Q1646.61 39.1965 1652.61 32.6746 Q1658.64 26.1121 1668.85 26.1121 Q1678 26.1121 1683.31 32.0264 Q1688.66 37.9003 1688.66 48.0275 M1681.2 45.84 Q1681.12 39.7232 1677.76 36.0774 Q1674.44 32.4315 1668.93 32.4315 Q1662.69 32.4315 1658.92 35.9558 Q1655.2 39.4801 1654.63 45.8805 L1681.2 45.84 Z\" fill=\"#000000\" fill-rule=\"evenodd\" fill-opacity=\"1\" /><path clip-path=\"url(#clip990)\" d=\"M 0 0 M1725.4 28.5427 L1725.4 35.5912 Q1722.24 33.9709 1718.84 33.1607 Q1715.43 32.3505 1711.79 32.3505 Q1706.24 32.3505 1703.44 34.0519 Q1700.69 35.7533 1700.69 39.156 Q1700.69 41.7486 1702.67 43.2475 Q1704.66 44.7058 1710.65 46.0426 L1713.21 46.6097 Q1721.15 48.3111 1724.47 51.4303 Q1727.83 54.509 1727.83 60.0587 Q1727.83 66.3781 1722.81 70.0644 Q1717.82 73.7508 1709.08 73.7508 Q1705.43 73.7508 1701.46 73.0216 Q1697.53 72.3329 1693.15 70.9151 L1693.15 63.2184 Q1697.29 65.3654 1701.3 66.4591 Q1705.31 67.5124 1709.24 67.5124 Q1714.5 67.5124 1717.34 65.73 Q1720.17 63.9071 1720.17 60.6258 Q1720.17 57.5877 1718.11 55.9673 Q1716.08 54.3469 1709.16 52.8481 L1706.56 52.2405 Q1699.64 50.7821 1696.56 47.7845 Q1693.48 44.7463 1693.48 39.4801 Q1693.48 33.0797 1698.02 29.5959 Q1702.55 26.1121 1710.9 26.1121 Q1715.03 26.1121 1718.68 26.7198 Q1722.32 27.3274 1725.4 28.5427 Z\" fill=\"#000000\" fill-rule=\"evenodd\" fill-opacity=\"1\" /><path clip-path=\"url(#clip990)\" d=\"M 0 0 M1762.02 27.2059 L1769.47 27.2059 L1769.47 72.576 L1762.02 72.576 L1762.02 27.2059 M1762.02 9.54393 L1769.47 9.54393 L1769.47 18.9825 L1762.02 18.9825 L1762.02 9.54393 Z\" fill=\"#000000\" fill-rule=\"evenodd\" fill-opacity=\"1\" /><path clip-path=\"url(#clip990)\" d=\"M 0 0 M1815.01 45.1919 L1815.01 72.576 L1807.55 72.576 L1807.55 45.4349 Q1807.55 38.994 1805.04 35.7938 Q1802.53 32.5936 1797.51 32.5936 Q1791.47 32.5936 1787.99 36.4419 Q1784.5 40.2903 1784.5 46.9338 L1784.5 72.576 L1777.01 72.576 L1777.01 27.2059 L1784.5 27.2059 L1784.5 34.2544 Q1787.18 30.163 1790.78 28.1376 Q1794.43 26.1121 1799.17 26.1121 Q1806.99 26.1121 1811 30.9732 Q1815.01 35.7938 1815.01 45.1919 Z\" fill=\"#000000\" fill-rule=\"evenodd\" fill-opacity=\"1\" /><path clip-path=\"url(#clip990)\" d=\"M 0 0 M1849.52 12.096 L1857.7 12.096 L1857.7 68.3631 Q1857.7 79.3005 1853.53 84.2426 Q1849.4 89.1847 1840.2 89.1847 L1837.08 89.1847 L1837.08 82.2982 L1839.64 82.2982 Q1845.06 82.2982 1847.29 79.26 Q1849.52 76.2218 1849.52 68.3631 L1849.52 12.096 Z\" fill=\"#000000\" fill-rule=\"evenodd\" fill-opacity=\"1\" /><path clip-path=\"url(#clip990)\" d=\"M 0 0 M1864.75 54.671 L1864.75 27.2059 L1872.2 27.2059 L1872.2 54.3874 Q1872.2 60.8284 1874.72 64.0691 Q1877.23 67.2693 1882.25 67.2693 Q1888.29 67.2693 1891.77 63.421 Q1895.3 59.5726 1895.3 52.9291 L1895.3 27.2059 L1902.75 27.2059 L1902.75 72.576 L1895.3 72.576 L1895.3 65.6084 Q1892.58 69.7404 1888.98 71.7658 Q1885.41 73.7508 1880.67 73.7508 Q1872.85 73.7508 1868.8 68.8897 Q1864.75 64.0286 1864.75 54.671 M1883.51 26.1121 L1883.51 26.1121 Z\" fill=\"#000000\" fill-rule=\"evenodd\" fill-opacity=\"1\" /><path clip-path=\"url(#clip990)\" d=\"M 0 0 M1910.57 9.54393 L1918.02 9.54393 L1918.02 72.576 L1910.57 72.576 L1910.57 9.54393 Z\" fill=\"#000000\" fill-rule=\"evenodd\" fill-opacity=\"1\" /><path clip-path=\"url(#clip990)\" d=\"M 0 0 M1925.84 27.2059 L1933.29 27.2059 L1933.29 72.576 L1925.84 72.576 L1925.84 27.2059 M1925.84 9.54393 L1933.29 9.54393 L1933.29 18.9825 L1925.84 18.9825 L1925.84 9.54393 Z\" fill=\"#000000\" fill-rule=\"evenodd\" fill-opacity=\"1\" /><path clip-path=\"url(#clip990)\" d=\"M 0 0 M1961.73 49.7694 Q1952.7 49.7694 1949.21 51.8354 Q1945.73 53.9013 1945.73 58.8839 Q1945.73 62.8538 1948.32 65.2034 Q1950.95 67.5124 1955.45 67.5124 Q1961.65 67.5124 1965.38 63.1374 Q1969.14 58.7219 1969.14 51.4303 L1969.14 49.7694 L1961.73 49.7694 M1976.6 46.6907 L1976.6 72.576 L1969.14 72.576 L1969.14 65.6895 Q1966.59 69.8214 1962.78 71.8063 Q1958.98 73.7508 1953.47 73.7508 Q1946.5 73.7508 1942.37 69.8619 Q1938.28 65.9325 1938.28 59.3701 Q1938.28 51.7138 1943.38 47.825 Q1948.52 43.9361 1958.69 43.9361 L1969.14 43.9361 L1969.14 43.2069 Q1969.14 38.0623 1965.74 35.2672 Q1962.38 32.4315 1956.26 32.4315 Q1952.37 32.4315 1948.69 33.3632 Q1945 34.295 1941.6 36.1584 L1941.6 29.2718 Q1945.69 27.692 1949.54 26.9223 Q1953.39 26.1121 1957.03 26.1121 Q1966.87 26.1121 1971.74 31.2163 Q1976.6 36.3204 1976.6 46.6907 Z\" fill=\"#000000\" fill-rule=\"evenodd\" fill-opacity=\"1\" /><path clip-path=\"url(#clip990)\" d=\"M 0 0 M815.223 117.926 L822.676 117.926 L831.993 153.331 L841.27 117.926 L850.061 117.926 L859.378 153.331 L868.654 117.926 L876.108 117.926 L864.239 163.296 L855.448 163.296 L845.686 126.109 L835.882 163.296 L827.092 163.296 L815.223 117.926 Z\" fill=\"#000000\" fill-rule=\"evenodd\" fill-opacity=\"1\" /><path clip-path=\"url(#clip990)\" d=\"M 0 0 M883.926 117.926 L891.38 117.926 L891.38 163.296 L883.926 163.296 L883.926 117.926 M883.926 100.264 L891.38 100.264 L891.38 109.703 L883.926 109.703 L883.926 100.264 Z\" fill=\"#000000\" fill-rule=\"evenodd\" fill-opacity=\"1\" /><path clip-path=\"url(#clip990)\" d=\"M 0 0 M906.571 105.044 L906.571 117.926 L921.924 117.926 L921.924 123.719 L906.571 123.719 L906.571 148.348 Q906.571 153.898 908.069 155.478 Q909.609 157.058 914.267 157.058 L921.924 157.058 L921.924 163.296 L914.267 163.296 Q905.639 163.296 902.358 160.096 Q899.076 156.855 899.076 148.348 L899.076 123.719 L893.608 123.719 L893.608 117.926 L899.076 117.926 L899.076 105.044 L906.571 105.044 Z\" fill=\"#000000\" fill-rule=\"evenodd\" fill-opacity=\"1\" /><path clip-path=\"url(#clip990)\" d=\"M 0 0 M967.456 135.912 L967.456 163.296 L960.002 163.296 L960.002 136.155 Q960.002 129.714 957.491 126.514 Q954.979 123.314 949.956 123.314 Q943.92 123.314 940.436 127.162 Q936.952 131.01 936.952 137.654 L936.952 163.296 L929.458 163.296 L929.458 100.264 L936.952 100.264 L936.952 124.974 Q939.626 120.883 943.231 118.858 Q946.877 116.832 951.617 116.832 Q959.435 116.832 963.445 121.693 Q967.456 126.514 967.456 135.912 Z\" fill=\"#000000\" fill-rule=\"evenodd\" fill-opacity=\"1\" /><path clip-path=\"url(#clip990)\" d=\"M 0 0 M1008.86 156.49 L1008.86 180.553 L1001.36 180.553 L1001.36 117.926 L1008.86 117.926 L1008.86 124.812 Q1011.21 120.762 1014.77 118.817 Q1018.38 116.832 1023.36 116.832 Q1031.62 116.832 1036.77 123.395 Q1041.95 129.957 1041.95 140.651 Q1041.95 151.346 1036.77 157.908 Q1031.62 164.471 1023.36 164.471 Q1018.38 164.471 1014.77 162.526 Q1011.21 160.541 1008.86 156.49 M1034.21 140.651 Q1034.21 132.428 1030.81 127.77 Q1027.45 123.071 1021.54 123.071 Q1015.62 123.071 1012.22 127.77 Q1008.86 132.428 1008.86 140.651 Q1008.86 148.875 1012.22 153.574 Q1015.62 158.232 1021.54 158.232 Q1027.45 158.232 1030.81 153.574 Q1034.21 148.875 1034.21 140.651 Z\" fill=\"#000000\" fill-rule=\"evenodd\" fill-opacity=\"1\" /><path clip-path=\"url(#clip990)\" d=\"M 0 0 M1067.35 123.152 Q1061.36 123.152 1057.87 127.851 Q1054.39 132.509 1054.39 140.651 Q1054.39 148.794 1057.83 153.493 Q1061.32 158.151 1067.35 158.151 Q1073.31 158.151 1076.79 153.452 Q1080.27 148.753 1080.27 140.651 Q1080.27 132.59 1076.79 127.891 Q1073.31 123.152 1067.35 123.152 M1067.35 116.832 Q1077.07 116.832 1082.62 123.152 Q1088.17 129.471 1088.17 140.651 Q1088.17 151.791 1082.62 158.151 Q1077.07 164.471 1067.35 164.471 Q1057.59 164.471 1052.04 158.151 Q1046.53 151.791 1046.53 140.651 Q1046.53 129.471 1052.04 123.152 Q1057.59 116.832 1067.35 116.832 Z\" fill=\"#000000\" fill-rule=\"evenodd\" fill-opacity=\"1\" /><path clip-path=\"url(#clip990)\" d=\"M 0 0 M1095.99 100.264 L1103.44 100.264 L1103.44 163.296 L1095.99 163.296 L1095.99 100.264 Z\" fill=\"#000000\" fill-rule=\"evenodd\" fill-opacity=\"1\" /><path clip-path=\"url(#clip990)\" d=\"M 0 0 M1130.14 167.509 Q1126.98 175.611 1123.98 178.082 Q1120.99 180.553 1115.96 180.553 L1110.01 180.553 L1110.01 174.314 L1114.38 174.314 Q1117.46 174.314 1119.16 172.856 Q1120.86 171.398 1122.93 165.97 L1124.27 162.567 L1105.92 117.926 L1113.81 117.926 L1127.99 153.412 L1142.17 117.926 L1150.07 117.926 L1130.14 167.509 Z\" fill=\"#000000\" fill-rule=\"evenodd\" fill-opacity=\"1\" /><path clip-path=\"url(#clip990)\" d=\"M 0 0 M1195.6 135.912 L1195.6 163.296 L1188.15 163.296 L1188.15 136.155 Q1188.15 129.714 1185.64 126.514 Q1183.13 123.314 1178.1 123.314 Q1172.07 123.314 1168.58 127.162 Q1165.1 131.01 1165.1 137.654 L1165.1 163.296 L1157.61 163.296 L1157.61 117.926 L1165.1 117.926 L1165.1 124.974 Q1167.77 120.883 1171.38 118.858 Q1175.02 116.832 1179.76 116.832 Q1187.58 116.832 1191.59 121.693 Q1195.6 126.514 1195.6 135.912 Z\" fill=\"#000000\" fill-rule=\"evenodd\" fill-opacity=\"1\" /><path clip-path=\"url(#clip990)\" d=\"M 0 0 M1221 123.152 Q1215.01 123.152 1211.52 127.851 Q1208.04 132.509 1208.04 140.651 Q1208.04 148.794 1211.48 153.493 Q1214.97 158.151 1221 158.151 Q1226.96 158.151 1230.44 153.452 Q1233.92 148.753 1233.92 140.651 Q1233.92 132.59 1230.44 127.891 Q1226.96 123.152 1221 123.152 M1221 116.832 Q1230.72 116.832 1236.27 123.152 Q1241.82 129.471 1241.82 140.651 Q1241.82 151.791 1236.27 158.151 Q1230.72 164.471 1221 164.471 Q1211.24 164.471 1205.69 158.151 Q1200.18 151.791 1200.18 140.651 Q1200.18 129.471 1205.69 123.152 Q1211.24 116.832 1221 116.832 Z\" fill=\"#000000\" fill-rule=\"evenodd\" fill-opacity=\"1\" /><path clip-path=\"url(#clip990)\" d=\"M 0 0 M1284.97 126.635 Q1287.76 121.612 1291.65 119.222 Q1295.54 116.832 1300.8 116.832 Q1307.89 116.832 1311.74 121.815 Q1315.59 126.757 1315.59 135.912 L1315.59 163.296 L1308.1 163.296 L1308.1 136.155 Q1308.1 129.633 1305.79 126.473 Q1303.48 123.314 1298.74 123.314 Q1292.95 123.314 1289.58 127.162 Q1286.22 131.01 1286.22 137.654 L1286.22 163.296 L1278.73 163.296 L1278.73 136.155 Q1278.73 129.592 1276.42 126.473 Q1274.11 123.314 1269.29 123.314 Q1263.58 123.314 1260.21 127.202 Q1256.85 131.051 1256.85 137.654 L1256.85 163.296 L1249.36 163.296 L1249.36 117.926 L1256.85 117.926 L1256.85 124.974 Q1259.4 120.802 1262.97 118.817 Q1266.53 116.832 1271.44 116.832 Q1276.38 116.832 1279.82 119.344 Q1283.3 121.855 1284.97 126.635 Z\" fill=\"#000000\" fill-rule=\"evenodd\" fill-opacity=\"1\" /><path clip-path=\"url(#clip990)\" d=\"M 0 0 M1323.41 117.926 L1330.86 117.926 L1330.86 163.296 L1323.41 163.296 L1323.41 117.926 M1323.41 100.264 L1330.86 100.264 L1330.86 109.703 L1323.41 109.703 L1323.41 100.264 Z\" fill=\"#000000\" fill-rule=\"evenodd\" fill-opacity=\"1\" /><path clip-path=\"url(#clip990)\" d=\"M 0 0 M1359.3 140.489 Q1350.27 140.489 1346.78 142.555 Q1343.3 144.621 1343.3 149.604 Q1343.3 153.574 1345.89 155.923 Q1348.52 158.232 1353.02 158.232 Q1359.22 158.232 1362.95 153.857 Q1366.71 149.442 1366.71 142.15 L1366.71 140.489 L1359.3 140.489 M1374.17 137.411 L1374.17 163.296 L1366.71 163.296 L1366.71 156.409 Q1364.16 160.541 1360.35 162.526 Q1356.55 164.471 1351.04 164.471 Q1344.07 164.471 1339.94 160.582 Q1335.84 156.653 1335.84 150.09 Q1335.84 142.434 1340.95 138.545 Q1346.09 134.656 1356.26 134.656 L1366.71 134.656 L1366.71 133.927 Q1366.71 128.782 1363.31 125.987 Q1359.95 123.152 1353.83 123.152 Q1349.94 123.152 1346.26 124.083 Q1342.57 125.015 1339.17 126.878 L1339.17 119.992 Q1343.26 118.412 1347.11 117.642 Q1350.95 116.832 1354.6 116.832 Q1364.44 116.832 1369.31 121.936 Q1374.17 127.04 1374.17 137.411 Z\" fill=\"#000000\" fill-rule=\"evenodd\" fill-opacity=\"1\" /><path clip-path=\"url(#clip990)\" d=\"M 0 0 M1381.98 100.264 L1389.44 100.264 L1389.44 163.296 L1381.98 163.296 L1381.98 100.264 Z\" fill=\"#000000\" fill-rule=\"evenodd\" fill-opacity=\"1\" /><path clip-path=\"url(#clip990)\" d=\"M 0 0 M1444.25 140.489 Q1435.21 140.489 1431.73 142.555 Q1428.25 144.621 1428.25 149.604 Q1428.25 153.574 1430.84 155.923 Q1433.47 158.232 1437.97 158.232 Q1444.17 158.232 1447.89 153.857 Q1451.66 149.442 1451.66 142.15 L1451.66 140.489 L1444.25 140.489 M1459.11 137.411 L1459.11 163.296 L1451.66 163.296 L1451.66 156.409 Q1449.11 160.541 1445.3 162.526 Q1441.49 164.471 1435.98 164.471 Q1429.02 164.471 1424.88 160.582 Q1420.79 156.653 1420.79 150.09 Q1420.79 142.434 1425.9 138.545 Q1431.04 134.656 1441.21 134.656 L1451.66 134.656 L1451.66 133.927 Q1451.66 128.782 1448.26 125.987 Q1444.9 123.152 1438.78 123.152 Q1434.89 123.152 1431.2 124.083 Q1427.52 125.015 1424.11 126.878 L1424.11 119.992 Q1428.21 118.412 1432.05 117.642 Q1435.9 116.832 1439.55 116.832 Q1449.39 116.832 1454.25 121.936 Q1459.11 127.04 1459.11 137.411 Z\" fill=\"#000000\" fill-rule=\"evenodd\" fill-opacity=\"1\" /><path clip-path=\"url(#clip990)\" d=\"M 0 0 M1474.14 156.49 L1474.14 180.553 L1466.65 180.553 L1466.65 117.926 L1474.14 117.926 L1474.14 124.812 Q1476.49 120.762 1480.06 118.817 Q1483.66 116.832 1488.65 116.832 Q1496.91 116.832 1502.05 123.395 Q1507.24 129.957 1507.24 140.651 Q1507.24 151.346 1502.05 157.908 Q1496.91 164.471 1488.65 164.471 Q1483.66 164.471 1480.06 162.526 Q1476.49 160.541 1474.14 156.49 M1499.5 140.651 Q1499.5 132.428 1496.1 127.77 Q1492.74 123.071 1486.82 123.071 Q1480.91 123.071 1477.51 127.77 Q1474.14 132.428 1474.14 140.651 Q1474.14 148.875 1477.51 153.574 Q1480.91 158.232 1486.82 158.232 Q1492.74 158.232 1496.1 153.574 Q1499.5 148.875 1499.5 140.651 Z\" fill=\"#000000\" fill-rule=\"evenodd\" fill-opacity=\"1\" /><path clip-path=\"url(#clip990)\" d=\"M 0 0 M1541.35 124.893 Q1540.09 124.164 1538.59 123.84 Q1537.13 123.476 1535.35 123.476 Q1529.03 123.476 1525.63 127.608 Q1522.27 131.699 1522.27 139.396 L1522.27 163.296 L1514.77 163.296 L1514.77 117.926 L1522.27 117.926 L1522.27 124.974 Q1524.62 120.843 1528.38 118.858 Q1532.15 116.832 1537.54 116.832 Q1538.31 116.832 1539.24 116.954 Q1540.17 117.035 1541.31 117.237 L1541.35 124.893 Z\" fill=\"#000000\" fill-rule=\"evenodd\" fill-opacity=\"1\" /><path clip-path=\"url(#clip990)\" d=\"M 0 0 M1564.92 123.152 Q1558.93 123.152 1555.44 127.851 Q1551.96 132.509 1551.96 140.651 Q1551.96 148.794 1555.4 153.493 Q1558.89 158.151 1564.92 158.151 Q1570.88 158.151 1574.36 153.452 Q1577.85 148.753 1577.85 140.651 Q1577.85 132.59 1574.36 127.891 Q1570.88 123.152 1564.92 123.152 M1564.92 116.832 Q1574.65 116.832 1580.2 123.152 Q1585.75 129.471 1585.75 140.651 Q1585.75 151.791 1580.2 158.151 Q1574.65 164.471 1564.92 164.471 Q1555.16 164.471 1549.61 158.151 Q1544.1 151.791 1544.1 140.651 Q1544.1 129.471 1549.61 123.152 Q1555.16 116.832 1564.92 116.832 Z\" fill=\"#000000\" fill-rule=\"evenodd\" fill-opacity=\"1\" /><path clip-path=\"url(#clip990)\" d=\"M 0 0 M1628.73 117.926 L1612.32 140.003 L1629.58 163.296 L1620.79 163.296 L1607.58 145.472 L1594.37 163.296 L1585.58 163.296 L1603.2 139.558 L1587.08 117.926 L1595.87 117.926 L1607.9 134.089 L1619.93 117.926 L1628.73 117.926 Z\" fill=\"#000000\" fill-rule=\"evenodd\" fill-opacity=\"1\" /><path clip-path=\"url(#clip990)\" d=\"M 0 0 M1637.39 117.926 L1644.85 117.926 L1644.85 163.296 L1637.39 163.296 L1637.39 117.926 M1637.39 100.264 L1644.85 100.264 L1644.85 109.703 L1637.39 109.703 L1637.39 100.264 Z\" fill=\"#000000\" fill-rule=\"evenodd\" fill-opacity=\"1\" /><path clip-path=\"url(#clip990)\" d=\"M 0 0 M1687.99 126.635 Q1690.79 121.612 1694.67 119.222 Q1698.56 116.832 1703.83 116.832 Q1710.92 116.832 1714.77 121.815 Q1718.61 126.757 1718.61 135.912 L1718.61 163.296 L1711.12 163.296 L1711.12 136.155 Q1711.12 129.633 1708.81 126.473 Q1706.5 123.314 1701.76 123.314 Q1695.97 123.314 1692.61 127.162 Q1689.25 131.01 1689.25 137.654 L1689.25 163.296 L1681.75 163.296 L1681.75 136.155 Q1681.75 129.592 1679.44 126.473 Q1677.13 123.314 1672.31 123.314 Q1666.6 123.314 1663.24 127.202 Q1659.88 131.051 1659.88 137.654 L1659.88 163.296 L1652.38 163.296 L1652.38 117.926 L1659.88 117.926 L1659.88 124.974 Q1662.43 120.802 1665.99 118.817 Q1669.56 116.832 1674.46 116.832 Q1679.4 116.832 1682.85 119.344 Q1686.33 121.855 1687.99 126.635 Z\" fill=\"#000000\" fill-rule=\"evenodd\" fill-opacity=\"1\" /><path clip-path=\"url(#clip990)\" d=\"M 0 0 M1747.05 140.489 Q1738.02 140.489 1734.53 142.555 Q1731.05 144.621 1731.05 149.604 Q1731.05 153.574 1733.64 155.923 Q1736.28 158.232 1740.77 158.232 Q1746.97 158.232 1750.7 153.857 Q1754.47 149.442 1754.47 142.15 L1754.47 140.489 L1747.05 140.489 M1761.92 137.411 L1761.92 163.296 L1754.47 163.296 L1754.47 156.409 Q1751.91 160.541 1748.11 162.526 Q1744.3 164.471 1738.79 164.471 Q1731.82 164.471 1727.69 160.582 Q1723.6 156.653 1723.6 150.09 Q1723.6 142.434 1728.7 138.545 Q1733.85 134.656 1744.01 134.656 L1754.47 134.656 L1754.47 133.927 Q1754.47 128.782 1751.06 125.987 Q1747.7 123.152 1741.58 123.152 Q1737.69 123.152 1734.01 124.083 Q1730.32 125.015 1726.92 126.878 L1726.92 119.992 Q1731.01 118.412 1734.86 117.642 Q1738.71 116.832 1742.35 116.832 Q1752.2 116.832 1757.06 121.936 Q1761.92 127.04 1761.92 137.411 Z\" fill=\"#000000\" fill-rule=\"evenodd\" fill-opacity=\"1\" /><path clip-path=\"url(#clip990)\" d=\"M 0 0 M1777.11 105.044 L1777.11 117.926 L1792.46 117.926 L1792.46 123.719 L1777.11 123.719 L1777.11 148.348 Q1777.11 153.898 1778.61 155.478 Q1780.15 157.058 1784.81 157.058 L1792.46 157.058 L1792.46 163.296 L1784.81 163.296 Q1776.18 163.296 1772.9 160.096 Q1769.62 156.855 1769.62 148.348 L1769.62 123.719 L1764.15 123.719 L1764.15 117.926 L1769.62 117.926 L1769.62 105.044 L1777.11 105.044 Z\" fill=\"#000000\" fill-rule=\"evenodd\" fill-opacity=\"1\" /><path clip-path=\"url(#clip990)\" d=\"M 0 0 M1800.28 117.926 L1807.73 117.926 L1807.73 163.296 L1800.28 163.296 L1800.28 117.926 M1800.28 100.264 L1807.73 100.264 L1807.73 109.703 L1800.28 109.703 L1800.28 100.264 Z\" fill=\"#000000\" fill-rule=\"evenodd\" fill-opacity=\"1\" /><path clip-path=\"url(#clip990)\" d=\"M 0 0 M1833.13 123.152 Q1827.14 123.152 1823.65 127.851 Q1820.17 132.509 1820.17 140.651 Q1820.17 148.794 1823.61 153.493 Q1827.1 158.151 1833.13 158.151 Q1839.09 158.151 1842.57 153.452 Q1846.06 148.753 1846.06 140.651 Q1846.06 132.59 1842.57 127.891 Q1839.09 123.152 1833.13 123.152 M1833.13 116.832 Q1842.86 116.832 1848.41 123.152 Q1853.96 129.471 1853.96 140.651 Q1853.96 151.791 1848.41 158.151 Q1842.86 164.471 1833.13 164.471 Q1823.37 164.471 1817.82 158.151 Q1812.31 151.791 1812.31 140.651 Q1812.31 129.471 1817.82 123.152 Q1823.37 116.832 1833.13 116.832 Z\" fill=\"#000000\" fill-rule=\"evenodd\" fill-opacity=\"1\" /><path clip-path=\"url(#clip990)\" d=\"M 0 0 M1899.49 135.912 L1899.49 163.296 L1892.03 163.296 L1892.03 136.155 Q1892.03 129.714 1889.52 126.514 Q1887.01 123.314 1881.99 123.314 Q1875.95 123.314 1872.47 127.162 Q1868.98 131.01 1868.98 137.654 L1868.98 163.296 L1861.49 163.296 L1861.49 117.926 L1868.98 117.926 L1868.98 124.974 Q1871.66 120.883 1875.26 118.858 Q1878.91 116.832 1883.65 116.832 Q1891.47 116.832 1895.48 121.693 Q1899.49 126.514 1899.49 135.912 Z\" fill=\"#000000\" fill-rule=\"evenodd\" fill-opacity=\"1\" /><path clip-path=\"url(#clip990)\" d=\"M 0 0 M1936.23 119.263 L1936.23 126.311 Q1933.07 124.691 1929.67 123.881 Q1926.26 123.071 1922.62 123.071 Q1917.07 123.071 1914.27 124.772 Q1911.52 126.473 1911.52 129.876 Q1911.52 132.469 1913.5 133.967 Q1915.49 135.426 1921.48 136.763 L1924.04 137.33 Q1931.98 139.031 1935.3 142.15 Q1938.66 145.229 1938.66 150.779 Q1938.66 157.098 1933.64 160.784 Q1928.65 164.471 1919.9 164.471 Q1916.26 164.471 1912.29 163.742 Q1908.36 163.053 1903.98 161.635 L1903.98 153.938 Q1908.12 156.085 1912.13 157.179 Q1916.14 158.232 1920.07 158.232 Q1925.33 158.232 1928.17 156.45 Q1931 154.627 1931 151.346 Q1931 148.308 1928.94 146.687 Q1926.91 145.067 1919.99 143.568 L1917.39 142.96 Q1910.47 141.502 1907.39 138.504 Q1904.31 135.466 1904.31 130.2 Q1904.31 123.8 1908.85 120.316 Q1913.38 116.832 1921.73 116.832 Q1925.86 116.832 1929.5 117.44 Q1933.15 118.047 1936.23 119.263 Z\" fill=\"#000000\" fill-rule=\"evenodd\" fill-opacity=\"1\" /><polyline clip-path=\"url(#clip992)\" style=\"stroke:#000000; stroke-width:4; stroke-opacity:1; fill:none\" points=\"\n",
       "  350.476,1375.77 350.476,1373.37 \n",
       "  \"/>\n",
       "<polyline clip-path=\"url(#clip992)\" style=\"stroke:#000000; stroke-width:4; stroke-opacity:1; fill:none\" points=\"\n",
       "  566.472,1374.71 566.472,1374.3 \n",
       "  \"/>\n",
       "<polyline clip-path=\"url(#clip992)\" style=\"stroke:#000000; stroke-width:4; stroke-opacity:1; fill:none\" points=\"\n",
       "  782.468,1373.98 782.468,1373.08 \n",
       "  \"/>\n",
       "<polyline clip-path=\"url(#clip992)\" style=\"stroke:#000000; stroke-width:4; stroke-opacity:1; fill:none\" points=\"\n",
       "  998.463,1372.67 998.463,1372.3 \n",
       "  \"/>\n",
       "<polyline clip-path=\"url(#clip992)\" style=\"stroke:#000000; stroke-width:4; stroke-opacity:1; fill:none\" points=\"\n",
       "  1214.46,1371.08 1214.46,1369.85 \n",
       "  \"/>\n",
       "<polyline clip-path=\"url(#clip992)\" style=\"stroke:#000000; stroke-width:4; stroke-opacity:1; fill:none\" points=\"\n",
       "  1430.45,1368.81 1430.45,1368.21 \n",
       "  \"/>\n",
       "<polyline clip-path=\"url(#clip992)\" style=\"stroke:#000000; stroke-width:4; stroke-opacity:1; fill:none\" points=\"\n",
       "  1646.45,1365.27 1646.45,1350.74 \n",
       "  \"/>\n",
       "<polyline clip-path=\"url(#clip992)\" style=\"stroke:#000000; stroke-width:4; stroke-opacity:1; fill:none\" points=\"\n",
       "  1862.45,1359.11 1862.45,1356.7 \n",
       "  \"/>\n",
       "<polyline clip-path=\"url(#clip992)\" style=\"stroke:#000000; stroke-width:4; stroke-opacity:1; fill:none\" points=\"\n",
       "  2078.44,1354.2 2078.44,1348.65 \n",
       "  \"/>\n",
       "<polyline clip-path=\"url(#clip992)\" style=\"stroke:#000000; stroke-width:4; stroke-opacity:1; fill:none\" points=\"\n",
       "  2294.44,1355.14 2294.44,1352.54 \n",
       "  \"/>\n",
       "<line clip-path=\"url(#clip992)\" x1=\"366.476\" y1=\"1375.77\" x2=\"334.476\" y2=\"1375.77\" style=\"stroke:#000000; stroke-width:3.2; stroke-opacity:1\"/>\n",
       "<line clip-path=\"url(#clip992)\" x1=\"366.476\" y1=\"1373.37\" x2=\"334.476\" y2=\"1373.37\" style=\"stroke:#000000; stroke-width:3.2; stroke-opacity:1\"/>\n",
       "<line clip-path=\"url(#clip992)\" x1=\"582.472\" y1=\"1374.71\" x2=\"550.472\" y2=\"1374.71\" style=\"stroke:#000000; stroke-width:3.2; stroke-opacity:1\"/>\n",
       "<line clip-path=\"url(#clip992)\" x1=\"582.472\" y1=\"1374.3\" x2=\"550.472\" y2=\"1374.3\" style=\"stroke:#000000; stroke-width:3.2; stroke-opacity:1\"/>\n",
       "<line clip-path=\"url(#clip992)\" x1=\"798.468\" y1=\"1373.98\" x2=\"766.468\" y2=\"1373.98\" style=\"stroke:#000000; stroke-width:3.2; stroke-opacity:1\"/>\n",
       "<line clip-path=\"url(#clip992)\" x1=\"798.468\" y1=\"1373.08\" x2=\"766.468\" y2=\"1373.08\" style=\"stroke:#000000; stroke-width:3.2; stroke-opacity:1\"/>\n",
       "<line clip-path=\"url(#clip992)\" x1=\"1014.46\" y1=\"1372.67\" x2=\"982.463\" y2=\"1372.67\" style=\"stroke:#000000; stroke-width:3.2; stroke-opacity:1\"/>\n",
       "<line clip-path=\"url(#clip992)\" x1=\"1014.46\" y1=\"1372.3\" x2=\"982.463\" y2=\"1372.3\" style=\"stroke:#000000; stroke-width:3.2; stroke-opacity:1\"/>\n",
       "<line clip-path=\"url(#clip992)\" x1=\"1230.46\" y1=\"1371.08\" x2=\"1198.46\" y2=\"1371.08\" style=\"stroke:#000000; stroke-width:3.2; stroke-opacity:1\"/>\n",
       "<line clip-path=\"url(#clip992)\" x1=\"1230.46\" y1=\"1369.85\" x2=\"1198.46\" y2=\"1369.85\" style=\"stroke:#000000; stroke-width:3.2; stroke-opacity:1\"/>\n",
       "<line clip-path=\"url(#clip992)\" x1=\"1446.45\" y1=\"1368.81\" x2=\"1414.45\" y2=\"1368.81\" style=\"stroke:#000000; stroke-width:3.2; stroke-opacity:1\"/>\n",
       "<line clip-path=\"url(#clip992)\" x1=\"1446.45\" y1=\"1368.21\" x2=\"1414.45\" y2=\"1368.21\" style=\"stroke:#000000; stroke-width:3.2; stroke-opacity:1\"/>\n",
       "<line clip-path=\"url(#clip992)\" x1=\"1662.45\" y1=\"1365.27\" x2=\"1630.45\" y2=\"1365.27\" style=\"stroke:#000000; stroke-width:3.2; stroke-opacity:1\"/>\n",
       "<line clip-path=\"url(#clip992)\" x1=\"1662.45\" y1=\"1350.74\" x2=\"1630.45\" y2=\"1350.74\" style=\"stroke:#000000; stroke-width:3.2; stroke-opacity:1\"/>\n",
       "<line clip-path=\"url(#clip992)\" x1=\"1878.45\" y1=\"1359.11\" x2=\"1846.45\" y2=\"1359.11\" style=\"stroke:#000000; stroke-width:3.2; stroke-opacity:1\"/>\n",
       "<line clip-path=\"url(#clip992)\" x1=\"1878.45\" y1=\"1356.7\" x2=\"1846.45\" y2=\"1356.7\" style=\"stroke:#000000; stroke-width:3.2; stroke-opacity:1\"/>\n",
       "<line clip-path=\"url(#clip992)\" x1=\"2094.44\" y1=\"1354.2\" x2=\"2062.44\" y2=\"1354.2\" style=\"stroke:#000000; stroke-width:3.2; stroke-opacity:1\"/>\n",
       "<line clip-path=\"url(#clip992)\" x1=\"2094.44\" y1=\"1348.65\" x2=\"2062.44\" y2=\"1348.65\" style=\"stroke:#000000; stroke-width:3.2; stroke-opacity:1\"/>\n",
       "<line clip-path=\"url(#clip992)\" x1=\"2310.44\" y1=\"1355.14\" x2=\"2278.44\" y2=\"1355.14\" style=\"stroke:#000000; stroke-width:3.2; stroke-opacity:1\"/>\n",
       "<line clip-path=\"url(#clip992)\" x1=\"2310.44\" y1=\"1352.54\" x2=\"2278.44\" y2=\"1352.54\" style=\"stroke:#000000; stroke-width:3.2; stroke-opacity:1\"/>\n",
       "<circle clip-path=\"url(#clip992)\" cx=\"350.476\" cy=\"1374.57\" r=\"14\" fill=\"#ff0000\" fill-rule=\"evenodd\" fill-opacity=\"1\" stroke=\"#000000\" stroke-opacity=\"1\" stroke-width=\"3.2\"/>\n",
       "<circle clip-path=\"url(#clip992)\" cx=\"566.472\" cy=\"1374.5\" r=\"14\" fill=\"#ff0000\" fill-rule=\"evenodd\" fill-opacity=\"1\" stroke=\"#000000\" stroke-opacity=\"1\" stroke-width=\"3.2\"/>\n",
       "<circle clip-path=\"url(#clip992)\" cx=\"782.468\" cy=\"1373.53\" r=\"14\" fill=\"#ff0000\" fill-rule=\"evenodd\" fill-opacity=\"1\" stroke=\"#000000\" stroke-opacity=\"1\" stroke-width=\"3.2\"/>\n",
       "<circle clip-path=\"url(#clip992)\" cx=\"998.463\" cy=\"1372.48\" r=\"14\" fill=\"#ff0000\" fill-rule=\"evenodd\" fill-opacity=\"1\" stroke=\"#000000\" stroke-opacity=\"1\" stroke-width=\"3.2\"/>\n",
       "<circle clip-path=\"url(#clip992)\" cx=\"1214.46\" cy=\"1370.46\" r=\"14\" fill=\"#ff0000\" fill-rule=\"evenodd\" fill-opacity=\"1\" stroke=\"#000000\" stroke-opacity=\"1\" stroke-width=\"3.2\"/>\n",
       "<circle clip-path=\"url(#clip992)\" cx=\"1430.45\" cy=\"1368.51\" r=\"14\" fill=\"#ff0000\" fill-rule=\"evenodd\" fill-opacity=\"1\" stroke=\"#000000\" stroke-opacity=\"1\" stroke-width=\"3.2\"/>\n",
       "<circle clip-path=\"url(#clip992)\" cx=\"1646.45\" cy=\"1358.01\" r=\"14\" fill=\"#ff0000\" fill-rule=\"evenodd\" fill-opacity=\"1\" stroke=\"#000000\" stroke-opacity=\"1\" stroke-width=\"3.2\"/>\n",
       "<circle clip-path=\"url(#clip992)\" cx=\"1862.45\" cy=\"1357.9\" r=\"14\" fill=\"#ff0000\" fill-rule=\"evenodd\" fill-opacity=\"1\" stroke=\"#000000\" stroke-opacity=\"1\" stroke-width=\"3.2\"/>\n",
       "<circle clip-path=\"url(#clip992)\" cx=\"2078.44\" cy=\"1351.42\" r=\"14\" fill=\"#ff0000\" fill-rule=\"evenodd\" fill-opacity=\"1\" stroke=\"#000000\" stroke-opacity=\"1\" stroke-width=\"3.2\"/>\n",
       "<circle clip-path=\"url(#clip992)\" cx=\"2294.44\" cy=\"1353.84\" r=\"14\" fill=\"#ff0000\" fill-rule=\"evenodd\" fill-opacity=\"1\" stroke=\"#000000\" stroke-opacity=\"1\" stroke-width=\"3.2\"/>\n",
       "<polyline clip-path=\"url(#clip992)\" style=\"stroke:#000000; stroke-width:4; stroke-opacity:1; fill:none\" points=\"\n",
       "  350.476,1374.94 350.476,1374.31 \n",
       "  \"/>\n",
       "<polyline clip-path=\"url(#clip992)\" style=\"stroke:#000000; stroke-width:4; stroke-opacity:1; fill:none\" points=\"\n",
       "  566.472,1371.17 566.472,1371.03 \n",
       "  \"/>\n",
       "<polyline clip-path=\"url(#clip992)\" style=\"stroke:#000000; stroke-width:4; stroke-opacity:1; fill:none\" points=\"\n",
       "  782.468,1362.97 782.468,1362.79 \n",
       "  \"/>\n",
       "<polyline clip-path=\"url(#clip992)\" style=\"stroke:#000000; stroke-width:4; stroke-opacity:1; fill:none\" points=\"\n",
       "  998.463,1347.66 998.463,1347.36 \n",
       "  \"/>\n",
       "<polyline clip-path=\"url(#clip992)\" style=\"stroke:#000000; stroke-width:4; stroke-opacity:1; fill:none\" points=\"\n",
       "  1214.46,1323.93 1214.46,1322.88 \n",
       "  \"/>\n",
       "<polyline clip-path=\"url(#clip992)\" style=\"stroke:#000000; stroke-width:4; stroke-opacity:1; fill:none\" points=\"\n",
       "  1430.45,1266.28 1430.45,1133.63 \n",
       "  \"/>\n",
       "<polyline clip-path=\"url(#clip992)\" style=\"stroke:#000000; stroke-width:4; stroke-opacity:1; fill:none\" points=\"\n",
       "  1646.45,1016.61 1646.45,1012.07 \n",
       "  \"/>\n",
       "<polyline clip-path=\"url(#clip992)\" style=\"stroke:#000000; stroke-width:4; stroke-opacity:1; fill:none\" points=\"\n",
       "  1862.45,839.303 1862.45,834.954 \n",
       "  \"/>\n",
       "<polyline clip-path=\"url(#clip992)\" style=\"stroke:#000000; stroke-width:4; stroke-opacity:1; fill:none\" points=\"\n",
       "  2078.44,614.16 2078.44,611.175 \n",
       "  \"/>\n",
       "<polyline clip-path=\"url(#clip992)\" style=\"stroke:#000000; stroke-width:4; stroke-opacity:1; fill:none\" points=\"\n",
       "  2294.44,329.934 2294.44,325.381 \n",
       "  \"/>\n",
       "<line clip-path=\"url(#clip992)\" x1=\"366.476\" y1=\"1374.94\" x2=\"334.476\" y2=\"1374.94\" style=\"stroke:#000000; stroke-width:3.2; stroke-opacity:1\"/>\n",
       "<line clip-path=\"url(#clip992)\" x1=\"366.476\" y1=\"1374.31\" x2=\"334.476\" y2=\"1374.31\" style=\"stroke:#000000; stroke-width:3.2; stroke-opacity:1\"/>\n",
       "<line clip-path=\"url(#clip992)\" x1=\"582.472\" y1=\"1371.17\" x2=\"550.472\" y2=\"1371.17\" style=\"stroke:#000000; stroke-width:3.2; stroke-opacity:1\"/>\n",
       "<line clip-path=\"url(#clip992)\" x1=\"582.472\" y1=\"1371.03\" x2=\"550.472\" y2=\"1371.03\" style=\"stroke:#000000; stroke-width:3.2; stroke-opacity:1\"/>\n",
       "<line clip-path=\"url(#clip992)\" x1=\"798.468\" y1=\"1362.97\" x2=\"766.468\" y2=\"1362.97\" style=\"stroke:#000000; stroke-width:3.2; stroke-opacity:1\"/>\n",
       "<line clip-path=\"url(#clip992)\" x1=\"798.468\" y1=\"1362.79\" x2=\"766.468\" y2=\"1362.79\" style=\"stroke:#000000; stroke-width:3.2; stroke-opacity:1\"/>\n",
       "<line clip-path=\"url(#clip992)\" x1=\"1014.46\" y1=\"1347.66\" x2=\"982.463\" y2=\"1347.66\" style=\"stroke:#000000; stroke-width:3.2; stroke-opacity:1\"/>\n",
       "<line clip-path=\"url(#clip992)\" x1=\"1014.46\" y1=\"1347.36\" x2=\"982.463\" y2=\"1347.36\" style=\"stroke:#000000; stroke-width:3.2; stroke-opacity:1\"/>\n",
       "<line clip-path=\"url(#clip992)\" x1=\"1230.46\" y1=\"1323.93\" x2=\"1198.46\" y2=\"1323.93\" style=\"stroke:#000000; stroke-width:3.2; stroke-opacity:1\"/>\n",
       "<line clip-path=\"url(#clip992)\" x1=\"1230.46\" y1=\"1322.88\" x2=\"1198.46\" y2=\"1322.88\" style=\"stroke:#000000; stroke-width:3.2; stroke-opacity:1\"/>\n",
       "<line clip-path=\"url(#clip992)\" x1=\"1446.45\" y1=\"1266.28\" x2=\"1414.45\" y2=\"1266.28\" style=\"stroke:#000000; stroke-width:3.2; stroke-opacity:1\"/>\n",
       "<line clip-path=\"url(#clip992)\" x1=\"1446.45\" y1=\"1133.63\" x2=\"1414.45\" y2=\"1133.63\" style=\"stroke:#000000; stroke-width:3.2; stroke-opacity:1\"/>\n",
       "<line clip-path=\"url(#clip992)\" x1=\"1662.45\" y1=\"1016.61\" x2=\"1630.45\" y2=\"1016.61\" style=\"stroke:#000000; stroke-width:3.2; stroke-opacity:1\"/>\n",
       "<line clip-path=\"url(#clip992)\" x1=\"1662.45\" y1=\"1012.07\" x2=\"1630.45\" y2=\"1012.07\" style=\"stroke:#000000; stroke-width:3.2; stroke-opacity:1\"/>\n",
       "<line clip-path=\"url(#clip992)\" x1=\"1878.45\" y1=\"839.303\" x2=\"1846.45\" y2=\"839.303\" style=\"stroke:#000000; stroke-width:3.2; stroke-opacity:1\"/>\n",
       "<line clip-path=\"url(#clip992)\" x1=\"1878.45\" y1=\"834.954\" x2=\"1846.45\" y2=\"834.954\" style=\"stroke:#000000; stroke-width:3.2; stroke-opacity:1\"/>\n",
       "<line clip-path=\"url(#clip992)\" x1=\"2094.44\" y1=\"614.16\" x2=\"2062.44\" y2=\"614.16\" style=\"stroke:#000000; stroke-width:3.2; stroke-opacity:1\"/>\n",
       "<line clip-path=\"url(#clip992)\" x1=\"2094.44\" y1=\"611.175\" x2=\"2062.44\" y2=\"611.175\" style=\"stroke:#000000; stroke-width:3.2; stroke-opacity:1\"/>\n",
       "<line clip-path=\"url(#clip992)\" x1=\"2310.44\" y1=\"329.934\" x2=\"2278.44\" y2=\"329.934\" style=\"stroke:#000000; stroke-width:3.2; stroke-opacity:1\"/>\n",
       "<line clip-path=\"url(#clip992)\" x1=\"2310.44\" y1=\"325.381\" x2=\"2278.44\" y2=\"325.381\" style=\"stroke:#000000; stroke-width:3.2; stroke-opacity:1\"/>\n",
       "<circle clip-path=\"url(#clip992)\" cx=\"350.476\" cy=\"1374.62\" r=\"14\" fill=\"#0000ff\" fill-rule=\"evenodd\" fill-opacity=\"1\" stroke=\"#000000\" stroke-opacity=\"1\" stroke-width=\"3.2\"/>\n",
       "<circle clip-path=\"url(#clip992)\" cx=\"566.472\" cy=\"1371.1\" r=\"14\" fill=\"#0000ff\" fill-rule=\"evenodd\" fill-opacity=\"1\" stroke=\"#000000\" stroke-opacity=\"1\" stroke-width=\"3.2\"/>\n",
       "<circle clip-path=\"url(#clip992)\" cx=\"782.468\" cy=\"1362.88\" r=\"14\" fill=\"#0000ff\" fill-rule=\"evenodd\" fill-opacity=\"1\" stroke=\"#000000\" stroke-opacity=\"1\" stroke-width=\"3.2\"/>\n",
       "<circle clip-path=\"url(#clip992)\" cx=\"998.463\" cy=\"1347.51\" r=\"14\" fill=\"#0000ff\" fill-rule=\"evenodd\" fill-opacity=\"1\" stroke=\"#000000\" stroke-opacity=\"1\" stroke-width=\"3.2\"/>\n",
       "<circle clip-path=\"url(#clip992)\" cx=\"1214.46\" cy=\"1323.4\" r=\"14\" fill=\"#0000ff\" fill-rule=\"evenodd\" fill-opacity=\"1\" stroke=\"#000000\" stroke-opacity=\"1\" stroke-width=\"3.2\"/>\n",
       "<circle clip-path=\"url(#clip992)\" cx=\"1430.45\" cy=\"1199.96\" r=\"14\" fill=\"#0000ff\" fill-rule=\"evenodd\" fill-opacity=\"1\" stroke=\"#000000\" stroke-opacity=\"1\" stroke-width=\"3.2\"/>\n",
       "<circle clip-path=\"url(#clip992)\" cx=\"1646.45\" cy=\"1014.34\" r=\"14\" fill=\"#0000ff\" fill-rule=\"evenodd\" fill-opacity=\"1\" stroke=\"#000000\" stroke-opacity=\"1\" stroke-width=\"3.2\"/>\n",
       "<circle clip-path=\"url(#clip992)\" cx=\"1862.45\" cy=\"837.129\" r=\"14\" fill=\"#0000ff\" fill-rule=\"evenodd\" fill-opacity=\"1\" stroke=\"#000000\" stroke-opacity=\"1\" stroke-width=\"3.2\"/>\n",
       "<circle clip-path=\"url(#clip992)\" cx=\"2078.44\" cy=\"612.667\" r=\"14\" fill=\"#0000ff\" fill-rule=\"evenodd\" fill-opacity=\"1\" stroke=\"#000000\" stroke-opacity=\"1\" stroke-width=\"3.2\"/>\n",
       "<circle clip-path=\"url(#clip992)\" cx=\"2294.44\" cy=\"327.657\" r=\"14\" fill=\"#0000ff\" fill-rule=\"evenodd\" fill-opacity=\"1\" stroke=\"#000000\" stroke-opacity=\"1\" stroke-width=\"3.2\"/>\n",
       "<polyline clip-path=\"url(#clip992)\" style=\"stroke:#000000; stroke-width:4; stroke-opacity:1; fill:none\" points=\"\n",
       "  350.476,1374.66 350.476,1374.07 \n",
       "  \"/>\n",
       "<polyline clip-path=\"url(#clip992)\" style=\"stroke:#000000; stroke-width:4; stroke-opacity:1; fill:none\" points=\"\n",
       "  566.472,1368.73 566.472,1368.56 \n",
       "  \"/>\n",
       "<polyline clip-path=\"url(#clip992)\" style=\"stroke:#000000; stroke-width:4; stroke-opacity:1; fill:none\" points=\"\n",
       "  782.468,1352.63 782.468,1352.52 \n",
       "  \"/>\n",
       "<polyline clip-path=\"url(#clip992)\" style=\"stroke:#000000; stroke-width:4; stroke-opacity:1; fill:none\" points=\"\n",
       "  998.463,1315.73 998.463,1315.61 \n",
       "  \"/>\n",
       "<polyline clip-path=\"url(#clip992)\" style=\"stroke:#000000; stroke-width:4; stroke-opacity:1; fill:none\" points=\"\n",
       "  1214.46,1251.64 1214.46,1248.33 \n",
       "  \"/>\n",
       "<polyline clip-path=\"url(#clip992)\" style=\"stroke:#000000; stroke-width:4; stroke-opacity:1; fill:none\" points=\"\n",
       "  1430.45,1148.02 1430.45,1146.57 \n",
       "  \"/>\n",
       "<polyline clip-path=\"url(#clip992)\" style=\"stroke:#000000; stroke-width:4; stroke-opacity:1; fill:none\" points=\"\n",
       "  1646.45,1004.19 1646.45,1002.27 \n",
       "  \"/>\n",
       "<polyline clip-path=\"url(#clip992)\" style=\"stroke:#000000; stroke-width:4; stroke-opacity:1; fill:none\" points=\"\n",
       "  1862.45,809.098 1862.45,802.836 \n",
       "  \"/>\n",
       "<polyline clip-path=\"url(#clip992)\" style=\"stroke:#000000; stroke-width:4; stroke-opacity:1; fill:none\" points=\"\n",
       "  2078.44,554.97 2078.44,541.084 \n",
       "  \"/>\n",
       "<polyline clip-path=\"url(#clip992)\" style=\"stroke:#000000; stroke-width:4; stroke-opacity:1; fill:none\" points=\"\n",
       "  2294.44,224.158 2294.44,219.025 \n",
       "  \"/>\n",
       "<line clip-path=\"url(#clip992)\" x1=\"366.476\" y1=\"1374.66\" x2=\"334.476\" y2=\"1374.66\" style=\"stroke:#000000; stroke-width:3.2; stroke-opacity:1\"/>\n",
       "<line clip-path=\"url(#clip992)\" x1=\"366.476\" y1=\"1374.07\" x2=\"334.476\" y2=\"1374.07\" style=\"stroke:#000000; stroke-width:3.2; stroke-opacity:1\"/>\n",
       "<line clip-path=\"url(#clip992)\" x1=\"582.472\" y1=\"1368.73\" x2=\"550.472\" y2=\"1368.73\" style=\"stroke:#000000; stroke-width:3.2; stroke-opacity:1\"/>\n",
       "<line clip-path=\"url(#clip992)\" x1=\"582.472\" y1=\"1368.56\" x2=\"550.472\" y2=\"1368.56\" style=\"stroke:#000000; stroke-width:3.2; stroke-opacity:1\"/>\n",
       "<line clip-path=\"url(#clip992)\" x1=\"798.468\" y1=\"1352.63\" x2=\"766.468\" y2=\"1352.63\" style=\"stroke:#000000; stroke-width:3.2; stroke-opacity:1\"/>\n",
       "<line clip-path=\"url(#clip992)\" x1=\"798.468\" y1=\"1352.52\" x2=\"766.468\" y2=\"1352.52\" style=\"stroke:#000000; stroke-width:3.2; stroke-opacity:1\"/>\n",
       "<line clip-path=\"url(#clip992)\" x1=\"1014.46\" y1=\"1315.73\" x2=\"982.463\" y2=\"1315.73\" style=\"stroke:#000000; stroke-width:3.2; stroke-opacity:1\"/>\n",
       "<line clip-path=\"url(#clip992)\" x1=\"1014.46\" y1=\"1315.61\" x2=\"982.463\" y2=\"1315.61\" style=\"stroke:#000000; stroke-width:3.2; stroke-opacity:1\"/>\n",
       "<line clip-path=\"url(#clip992)\" x1=\"1230.46\" y1=\"1251.64\" x2=\"1198.46\" y2=\"1251.64\" style=\"stroke:#000000; stroke-width:3.2; stroke-opacity:1\"/>\n",
       "<line clip-path=\"url(#clip992)\" x1=\"1230.46\" y1=\"1248.33\" x2=\"1198.46\" y2=\"1248.33\" style=\"stroke:#000000; stroke-width:3.2; stroke-opacity:1\"/>\n",
       "<line clip-path=\"url(#clip992)\" x1=\"1446.45\" y1=\"1148.02\" x2=\"1414.45\" y2=\"1148.02\" style=\"stroke:#000000; stroke-width:3.2; stroke-opacity:1\"/>\n",
       "<line clip-path=\"url(#clip992)\" x1=\"1446.45\" y1=\"1146.57\" x2=\"1414.45\" y2=\"1146.57\" style=\"stroke:#000000; stroke-width:3.2; stroke-opacity:1\"/>\n",
       "<line clip-path=\"url(#clip992)\" x1=\"1662.45\" y1=\"1004.19\" x2=\"1630.45\" y2=\"1004.19\" style=\"stroke:#000000; stroke-width:3.2; stroke-opacity:1\"/>\n",
       "<line clip-path=\"url(#clip992)\" x1=\"1662.45\" y1=\"1002.27\" x2=\"1630.45\" y2=\"1002.27\" style=\"stroke:#000000; stroke-width:3.2; stroke-opacity:1\"/>\n",
       "<line clip-path=\"url(#clip992)\" x1=\"1878.45\" y1=\"809.098\" x2=\"1846.45\" y2=\"809.098\" style=\"stroke:#000000; stroke-width:3.2; stroke-opacity:1\"/>\n",
       "<line clip-path=\"url(#clip992)\" x1=\"1878.45\" y1=\"802.836\" x2=\"1846.45\" y2=\"802.836\" style=\"stroke:#000000; stroke-width:3.2; stroke-opacity:1\"/>\n",
       "<line clip-path=\"url(#clip992)\" x1=\"2094.44\" y1=\"554.97\" x2=\"2062.44\" y2=\"554.97\" style=\"stroke:#000000; stroke-width:3.2; stroke-opacity:1\"/>\n",
       "<line clip-path=\"url(#clip992)\" x1=\"2094.44\" y1=\"541.084\" x2=\"2062.44\" y2=\"541.084\" style=\"stroke:#000000; stroke-width:3.2; stroke-opacity:1\"/>\n",
       "<line clip-path=\"url(#clip992)\" x1=\"2310.44\" y1=\"224.158\" x2=\"2278.44\" y2=\"224.158\" style=\"stroke:#000000; stroke-width:3.2; stroke-opacity:1\"/>\n",
       "<line clip-path=\"url(#clip992)\" x1=\"2310.44\" y1=\"219.025\" x2=\"2278.44\" y2=\"219.025\" style=\"stroke:#000000; stroke-width:3.2; stroke-opacity:1\"/>\n",
       "<circle clip-path=\"url(#clip992)\" cx=\"350.476\" cy=\"1374.36\" r=\"14\" fill=\"#008000\" fill-rule=\"evenodd\" fill-opacity=\"1\" stroke=\"#000000\" stroke-opacity=\"1\" stroke-width=\"3.2\"/>\n",
       "<circle clip-path=\"url(#clip992)\" cx=\"566.472\" cy=\"1368.64\" r=\"14\" fill=\"#008000\" fill-rule=\"evenodd\" fill-opacity=\"1\" stroke=\"#000000\" stroke-opacity=\"1\" stroke-width=\"3.2\"/>\n",
       "<circle clip-path=\"url(#clip992)\" cx=\"782.468\" cy=\"1352.58\" r=\"14\" fill=\"#008000\" fill-rule=\"evenodd\" fill-opacity=\"1\" stroke=\"#000000\" stroke-opacity=\"1\" stroke-width=\"3.2\"/>\n",
       "<circle clip-path=\"url(#clip992)\" cx=\"998.463\" cy=\"1315.67\" r=\"14\" fill=\"#008000\" fill-rule=\"evenodd\" fill-opacity=\"1\" stroke=\"#000000\" stroke-opacity=\"1\" stroke-width=\"3.2\"/>\n",
       "<circle clip-path=\"url(#clip992)\" cx=\"1214.46\" cy=\"1249.99\" r=\"14\" fill=\"#008000\" fill-rule=\"evenodd\" fill-opacity=\"1\" stroke=\"#000000\" stroke-opacity=\"1\" stroke-width=\"3.2\"/>\n",
       "<circle clip-path=\"url(#clip992)\" cx=\"1430.45\" cy=\"1147.29\" r=\"14\" fill=\"#008000\" fill-rule=\"evenodd\" fill-opacity=\"1\" stroke=\"#000000\" stroke-opacity=\"1\" stroke-width=\"3.2\"/>\n",
       "<circle clip-path=\"url(#clip992)\" cx=\"1646.45\" cy=\"1003.23\" r=\"14\" fill=\"#008000\" fill-rule=\"evenodd\" fill-opacity=\"1\" stroke=\"#000000\" stroke-opacity=\"1\" stroke-width=\"3.2\"/>\n",
       "<circle clip-path=\"url(#clip992)\" cx=\"1862.45\" cy=\"805.967\" r=\"14\" fill=\"#008000\" fill-rule=\"evenodd\" fill-opacity=\"1\" stroke=\"#000000\" stroke-opacity=\"1\" stroke-width=\"3.2\"/>\n",
       "<circle clip-path=\"url(#clip992)\" cx=\"2078.44\" cy=\"548.027\" r=\"14\" fill=\"#008000\" fill-rule=\"evenodd\" fill-opacity=\"1\" stroke=\"#000000\" stroke-opacity=\"1\" stroke-width=\"3.2\"/>\n",
       "<circle clip-path=\"url(#clip992)\" cx=\"2294.44\" cy=\"221.592\" r=\"14\" fill=\"#008000\" fill-rule=\"evenodd\" fill-opacity=\"1\" stroke=\"#000000\" stroke-opacity=\"1\" stroke-width=\"3.2\"/>\n",
       "<polyline clip-path=\"url(#clip992)\" style=\"stroke:#008000; stroke-width:4; stroke-opacity:1; fill:none\" points=\"\n",
       "  350.476,1374.23 369.916,1374.06 389.356,1373.86 408.795,1373.61 428.235,1373.32 447.674,1372.96 467.114,1372.55 486.554,1372.06 505.993,1371.51 525.433,1370.87 \n",
       "  544.872,1370.15 564.312,1369.33 583.752,1368.42 603.191,1367.41 622.631,1366.29 642.07,1365.05 661.51,1363.7 680.95,1362.21 700.389,1360.6 719.829,1358.85 \n",
       "  739.269,1356.95 758.708,1354.9 778.148,1352.7 797.587,1350.34 817.027,1347.81 836.467,1345.11 855.906,1342.22 875.346,1339.16 894.785,1335.9 914.225,1332.45 \n",
       "  933.665,1328.79 953.104,1324.93 972.544,1320.85 991.983,1316.55 1011.42,1312.03 1030.86,1307.28 1050.3,1302.28 1069.74,1297.05 1089.18,1291.57 1108.62,1285.83 \n",
       "  1128.06,1279.83 1147.5,1273.56 1166.94,1267.02 1186.38,1260.21 1205.82,1253.11 1225.26,1245.72 1244.7,1238.03 1264.14,1230.04 1283.58,1221.75 1303.02,1213.14 \n",
       "  1322.46,1204.21 1341.9,1194.96 1361.34,1185.38 1380.78,1175.46 1400.22,1165.2 1419.65,1154.59 1439.09,1143.62 1458.53,1132.3 1477.97,1120.61 1497.41,1108.54 \n",
       "  1516.85,1096.11 1536.29,1083.28 1555.73,1070.07 1575.17,1056.46 1594.61,1042.45 1614.05,1028.04 1633.49,1013.21 1652.93,997.966 1672.37,982.296 1691.81,966.195 \n",
       "  1711.25,949.659 1730.69,932.681 1750.13,915.255 1769.57,897.376 1789.01,879.037 1808.45,860.233 1827.89,840.958 1847.33,821.206 1866.77,800.972 1886.21,780.248 \n",
       "  1905.64,759.031 1925.08,737.313 1944.52,715.089 1963.96,692.353 1983.4,669.099 2002.84,645.322 2022.28,621.015 2041.72,596.173 2061.16,570.79 2080.6,544.859 \n",
       "  2100.04,518.376 2119.48,491.334 2138.92,463.728 2158.36,435.551 2177.8,406.798 2197.24,377.463 2216.68,347.54 2236.12,317.023 2255.56,285.907 2275,254.185 \n",
       "  2294.44,221.851 \n",
       "  \"/>\n",
       "<polyline clip-path=\"url(#clip992)\" style=\"stroke:#0000ff; stroke-width:4; stroke-opacity:1; fill:none\" points=\"\n",
       "  350.476,1360.35 369.916,1363.58 389.356,1366.64 408.795,1369.5 428.235,1372.16 447.674,1374.63 467.114,1376.91 486.554,1378.98 505.993,1380.84 525.433,1382.5 \n",
       "  544.872,1383.95 564.312,1385.19 583.752,1386.22 603.191,1387.02 622.631,1387.61 642.07,1387.97 661.51,1388.11 680.95,1388.02 700.389,1387.7 719.829,1387.14 \n",
       "  739.269,1386.35 758.708,1385.32 778.148,1384.05 797.587,1382.53 817.027,1380.77 836.467,1378.76 855.906,1376.49 875.346,1373.98 894.785,1371.2 914.225,1368.16 \n",
       "  933.665,1364.86 953.104,1361.3 972.544,1357.46 991.983,1353.36 1011.42,1348.98 1030.86,1344.33 1050.3,1339.4 1069.74,1334.18 1089.18,1328.68 1108.62,1322.9 \n",
       "  1128.06,1316.82 1147.5,1310.45 1166.94,1303.79 1186.38,1296.83 1205.82,1289.57 1225.26,1282.01 1244.7,1274.14 1264.14,1265.96 1283.58,1257.48 1303.02,1248.67 \n",
       "  1322.46,1239.56 1341.9,1230.12 1361.34,1220.36 1380.78,1210.28 1400.22,1199.87 1419.65,1189.13 1439.09,1178.06 1458.53,1166.65 1477.97,1154.91 1497.41,1142.82 \n",
       "  1516.85,1130.4 1536.29,1117.62 1555.73,1104.5 1575.17,1091.03 1594.61,1077.2 1614.05,1063.02 1633.49,1048.48 1652.93,1033.58 1672.37,1018.31 1691.81,1002.67 \n",
       "  1711.25,986.669 1730.69,970.292 1750.13,953.541 1769.57,936.411 1789.01,918.901 1808.45,901.009 1827.89,882.73 1847.33,864.063 1866.77,845.005 1886.21,825.553 \n",
       "  1905.64,805.705 1925.08,785.458 1944.52,764.809 1963.96,743.755 1983.4,722.295 2002.84,700.425 2022.28,678.142 2041.72,655.444 2061.16,632.328 2080.6,608.792 \n",
       "  2100.04,584.833 2119.48,560.448 2138.92,535.635 2158.36,510.39 2177.8,484.712 2197.24,458.597 2216.68,432.043 2236.12,405.047 2255.56,377.607 2275,349.72 \n",
       "  2294.44,321.383 \n",
       "  \"/>\n",
       "<polyline clip-path=\"url(#clip992)\" style=\"stroke:#ff0000; stroke-width:4; stroke-opacity:1; fill:none\" points=\"\n",
       "  350.476,1373.51 369.916,1373.8 389.356,1374.06 408.795,1374.3 428.235,1374.51 447.674,1374.71 467.114,1374.88 486.554,1375.03 505.993,1375.16 525.433,1375.27 \n",
       "  544.872,1375.37 564.312,1375.44 583.752,1375.49 603.191,1375.52 622.631,1375.54 642.07,1375.54 661.51,1375.52 680.95,1375.48 700.389,1375.43 719.829,1375.36 \n",
       "  739.269,1375.27 758.708,1375.17 778.148,1375.05 797.587,1374.92 817.027,1374.77 836.467,1374.61 855.906,1374.44 875.346,1374.26 894.785,1374.06 914.225,1373.85 \n",
       "  933.665,1373.62 953.104,1373.39 972.544,1373.14 991.983,1372.89 1011.42,1372.62 1030.86,1372.34 1050.3,1372.06 1069.74,1371.76 1089.18,1371.46 1108.62,1371.15 \n",
       "  1128.06,1370.83 1147.5,1370.5 1166.94,1370.17 1186.38,1369.83 1205.82,1369.48 1225.26,1369.13 1244.7,1368.77 1264.14,1368.41 1283.58,1368.04 1303.02,1367.66 \n",
       "  1322.46,1367.29 1341.9,1366.91 1361.34,1366.53 1380.78,1366.14 1400.22,1365.75 1419.65,1365.36 1439.09,1364.97 1458.53,1364.58 1477.97,1364.19 1497.41,1363.79 \n",
       "  1516.85,1363.4 1536.29,1363.01 1555.73,1362.62 1575.17,1362.23 1594.61,1361.84 1614.05,1361.45 1633.49,1361.07 1652.93,1360.69 1672.37,1360.31 1691.81,1359.94 \n",
       "  1711.25,1359.57 1730.69,1359.2 1750.13,1358.84 1769.57,1358.49 1789.01,1358.14 1808.45,1357.8 1827.89,1357.46 1847.33,1357.13 1866.77,1356.81 1886.21,1356.5 \n",
       "  1905.64,1356.19 1925.08,1355.89 1944.52,1355.6 1963.96,1355.32 1983.4,1355.06 2002.84,1354.8 2022.28,1354.55 2041.72,1354.31 2061.16,1354.08 2080.6,1353.87 \n",
       "  2100.04,1353.67 2119.48,1353.48 2138.92,1353.3 2158.36,1353.14 2177.8,1352.99 2197.24,1352.85 2216.68,1352.73 2236.12,1352.63 2255.56,1352.54 2275,1352.46 \n",
       "  2294.44,1352.4 \n",
       "  \"/>\n",
       "<path clip-path=\"url(#clip990)\" d=\"\n",
       "M1625.83 467.18 L2284.07 467.18 L2284.07 225.26 L1625.83 225.26  Z\n",
       "  \" fill=\"#ffffff\" fill-rule=\"evenodd\" fill-opacity=\"1\"/>\n",
       "<polyline clip-path=\"url(#clip990)\" style=\"stroke:#000000; stroke-width:4; stroke-opacity:1; fill:none\" points=\"\n",
       "  1625.83,467.18 2284.07,467.18 2284.07,225.26 1625.83,225.26 1625.83,467.18 \n",
       "  \"/>\n",
       "<circle clip-path=\"url(#clip990)\" cx=\"1717.42\" cy=\"285.74\" r=\"23\" fill=\"#ff0000\" fill-rule=\"evenodd\" fill-opacity=\"1\" stroke=\"#000000\" stroke-opacity=\"1\" stroke-width=\"5.12\"/>\n",
       "<path clip-path=\"url(#clip990)\" d=\"M 0 0 M1813.67 286.515 L1813.67 299.177 L1821.17 299.177 Q1824.95 299.177 1826.75 297.626 Q1828.58 296.052 1828.58 292.835 Q1828.58 289.594 1826.75 288.066 Q1824.95 286.515 1821.17 286.515 L1813.67 286.515 M1813.67 272.302 L1813.67 282.719 L1820.6 282.719 Q1824.02 282.719 1825.69 281.446 Q1827.38 280.149 1827.38 277.511 Q1827.38 274.895 1825.69 273.599 Q1824.02 272.302 1820.6 272.302 L1813.67 272.302 M1809 268.46 L1820.94 268.46 Q1826.29 268.46 1829.18 270.682 Q1832.08 272.904 1832.08 277.001 Q1832.08 280.173 1830.6 282.048 Q1829.11 283.923 1826.24 284.386 Q1829.69 285.126 1831.59 287.487 Q1833.51 289.825 1833.51 293.344 Q1833.51 297.973 1830.36 300.497 Q1827.22 303.02 1821.41 303.02 L1809 303.02 L1809 268.46 Z\" fill=\"#000000\" fill-rule=\"evenodd\" fill-opacity=\"1\" /><path clip-path=\"url(#clip990)\" d=\"M 0 0 M1838.16 268.46 L1842.84 268.46 L1842.84 299.085 L1859.67 299.085 L1859.67 303.02 L1838.16 303.02 L1838.16 268.46 Z\" fill=\"#000000\" fill-rule=\"evenodd\" fill-opacity=\"1\" /><path clip-path=\"url(#clip990)\" d=\"M 0 0 M1876.96 273.066 L1870.62 290.265 L1883.33 290.265 L1876.96 273.066 M1874.32 268.46 L1879.62 268.46 L1892.79 303.02 L1887.93 303.02 L1884.78 294.154 L1869.21 294.154 L1866.06 303.02 L1861.13 303.02 L1874.32 268.46 Z\" fill=\"#000000\" fill-rule=\"evenodd\" fill-opacity=\"1\" /><path clip-path=\"url(#clip990)\" d=\"M 0 0 M1918.16 269.594 L1918.16 274.154 Q1915.5 272.881 1913.14 272.256 Q1910.78 271.631 1908.58 271.631 Q1904.76 271.631 1902.68 273.112 Q1900.62 274.594 1900.62 277.325 Q1900.62 279.617 1901.98 280.798 Q1903.37 281.955 1907.22 282.673 L1910.04 283.251 Q1915.27 284.247 1917.75 286.77 Q1920.25 289.27 1920.25 293.483 Q1920.25 298.506 1916.87 301.098 Q1913.51 303.691 1907.01 303.691 Q1904.55 303.691 1901.78 303.135 Q1899.02 302.58 1896.06 301.492 L1896.06 296.677 Q1898.91 298.274 1901.64 299.085 Q1904.37 299.895 1907.01 299.895 Q1911.01 299.895 1913.19 298.321 Q1915.36 296.747 1915.36 293.83 Q1915.36 291.284 1913.79 289.848 Q1912.24 288.413 1908.67 287.696 L1905.83 287.14 Q1900.59 286.099 1898.26 283.876 Q1895.92 281.654 1895.92 277.696 Q1895.92 273.112 1899.14 270.474 Q1902.38 267.835 1908.05 267.835 Q1910.48 267.835 1913 268.275 Q1915.53 268.714 1918.16 269.594 Z\" fill=\"#000000\" fill-rule=\"evenodd\" fill-opacity=\"1\" /><path clip-path=\"url(#clip990)\" d=\"M 0 0 M1944.41 310.89 L1944.41 314.2 L1919.78 314.2 L1919.78 310.89 L1944.41 310.89 Z\" fill=\"#000000\" fill-rule=\"evenodd\" fill-opacity=\"1\" /><path clip-path=\"url(#clip990)\" d=\"M 0 0 M1969.07 282.071 Q1970.66 279.2 1972.89 277.835 Q1975.11 276.469 1978.12 276.469 Q1982.17 276.469 1984.37 279.316 Q1986.57 282.14 1986.57 287.372 L1986.57 303.02 L1982.28 303.02 L1982.28 287.511 Q1982.28 283.784 1980.96 281.978 Q1979.65 280.173 1976.94 280.173 Q1973.63 280.173 1971.71 282.372 Q1969.78 284.571 1969.78 288.367 L1969.78 303.02 L1965.5 303.02 L1965.5 287.511 Q1965.5 283.761 1964.18 281.978 Q1962.86 280.173 1960.11 280.173 Q1956.84 280.173 1954.92 282.395 Q1953 284.594 1953 288.367 L1953 303.02 L1948.72 303.02 L1948.72 277.094 L1953 277.094 L1953 281.122 Q1954.46 278.737 1956.5 277.603 Q1958.53 276.469 1961.34 276.469 Q1964.16 276.469 1966.13 277.904 Q1968.12 279.339 1969.07 282.071 Z\" fill=\"#000000\" fill-rule=\"evenodd\" fill-opacity=\"1\" /><path clip-path=\"url(#clip990)\" d=\"M 0 0 M1990.59 292.788 L1990.59 277.094 L1994.85 277.094 L1994.85 292.626 Q1994.85 296.307 1996.29 298.159 Q1997.72 299.987 2000.59 299.987 Q2004.04 299.987 2006.03 297.788 Q2008.05 295.589 2008.05 291.793 L2008.05 277.094 L2012.31 277.094 L2012.31 303.02 L2008.05 303.02 L2008.05 299.038 Q2006.5 301.399 2004.44 302.557 Q2002.4 303.691 1999.69 303.691 Q1995.22 303.691 1992.91 300.913 Q1990.59 298.135 1990.59 292.788 M2001.31 276.469 L2001.31 276.469 Z\" fill=\"#000000\" fill-rule=\"evenodd\" fill-opacity=\"1\" /><path clip-path=\"url(#clip990)\" d=\"M 0 0 M2016.77 267.001 L2021.03 267.001 L2021.03 303.02 L2016.77 303.02 L2016.77 267.001 Z\" fill=\"#000000\" fill-rule=\"evenodd\" fill-opacity=\"1\" /><path clip-path=\"url(#clip990)\" d=\"M 0 0 M2029.71 269.733 L2029.71 277.094 L2038.49 277.094 L2038.49 280.404 L2029.71 280.404 L2029.71 294.478 Q2029.71 297.649 2030.57 298.552 Q2031.45 299.455 2034.11 299.455 L2038.49 299.455 L2038.49 303.02 L2034.11 303.02 Q2029.18 303.02 2027.31 301.191 Q2025.43 299.339 2025.43 294.478 L2025.43 280.404 L2022.31 280.404 L2022.31 277.094 L2025.43 277.094 L2025.43 269.733 L2029.71 269.733 Z\" fill=\"#000000\" fill-rule=\"evenodd\" fill-opacity=\"1\" /><path clip-path=\"url(#clip990)\" d=\"M 0 0 M2042.96 277.094 L2047.21 277.094 L2047.21 303.02 L2042.96 303.02 L2042.96 277.094 M2042.96 267.001 L2047.21 267.001 L2047.21 272.395 L2042.96 272.395 L2042.96 267.001 Z\" fill=\"#000000\" fill-rule=\"evenodd\" fill-opacity=\"1\" /><path clip-path=\"url(#clip990)\" d=\"M 0 0 M2055.8 299.131 L2055.8 312.881 L2051.52 312.881 L2051.52 277.094 L2055.8 277.094 L2055.8 281.029 Q2057.14 278.714 2059.18 277.603 Q2061.24 276.469 2064.09 276.469 Q2068.81 276.469 2071.75 280.219 Q2074.71 283.969 2074.71 290.08 Q2074.71 296.191 2071.75 299.941 Q2068.81 303.691 2064.09 303.691 Q2061.24 303.691 2059.18 302.58 Q2057.14 301.446 2055.8 299.131 M2070.29 290.08 Q2070.29 285.381 2068.35 282.719 Q2066.43 280.034 2063.05 280.034 Q2059.67 280.034 2057.72 282.719 Q2055.8 285.381 2055.8 290.08 Q2055.8 294.779 2057.72 297.464 Q2059.67 300.126 2063.05 300.126 Q2066.43 300.126 2068.35 297.464 Q2070.29 294.779 2070.29 290.08 Z\" fill=\"#000000\" fill-rule=\"evenodd\" fill-opacity=\"1\" /><path clip-path=\"url(#clip990)\" d=\"M 0 0 M2079.18 267.001 L2083.44 267.001 L2083.44 303.02 L2079.18 303.02 L2079.18 267.001 Z\" fill=\"#000000\" fill-rule=\"evenodd\" fill-opacity=\"1\" /><path clip-path=\"url(#clip990)\" d=\"M 0 0 M2087.91 277.094 L2092.17 277.094 L2092.17 303.02 L2087.91 303.02 L2087.91 277.094 M2087.91 267.001 L2092.17 267.001 L2092.17 272.395 L2087.91 272.395 L2087.91 267.001 Z\" fill=\"#000000\" fill-rule=\"evenodd\" fill-opacity=\"1\" /><path clip-path=\"url(#clip990)\" d=\"M 0 0 M2115.29 278.089 L2115.29 282.071 Q2113.49 281.075 2111.66 280.589 Q2109.85 280.08 2108 280.08 Q2103.86 280.08 2101.57 282.719 Q2099.27 285.335 2099.27 290.08 Q2099.27 294.825 2101.57 297.464 Q2103.86 300.08 2108 300.08 Q2109.85 300.08 2111.66 299.594 Q2113.49 299.085 2115.29 298.089 L2115.29 302.024 Q2113.51 302.858 2111.59 303.274 Q2109.69 303.691 2107.54 303.691 Q2101.68 303.691 2098.23 300.01 Q2094.78 296.33 2094.78 290.08 Q2094.78 283.737 2098.26 280.103 Q2101.75 276.469 2107.82 276.469 Q2109.78 276.469 2111.66 276.886 Q2113.53 277.279 2115.29 278.089 Z\" fill=\"#000000\" fill-rule=\"evenodd\" fill-opacity=\"1\" /><path clip-path=\"url(#clip990)\" d=\"M 0 0 M2131.54 289.987 Q2126.38 289.987 2124.39 291.168 Q2122.4 292.348 2122.4 295.196 Q2122.4 297.464 2123.88 298.807 Q2125.39 300.126 2127.95 300.126 Q2131.5 300.126 2133.63 297.626 Q2135.78 295.103 2135.78 290.936 L2135.78 289.987 L2131.54 289.987 M2140.04 288.228 L2140.04 303.02 L2135.78 303.02 L2135.78 299.085 Q2134.32 301.446 2132.14 302.58 Q2129.97 303.691 2126.82 303.691 Q2122.84 303.691 2120.48 301.469 Q2118.14 299.223 2118.14 295.473 Q2118.14 291.098 2121.06 288.876 Q2124 286.654 2129.81 286.654 L2135.78 286.654 L2135.78 286.237 Q2135.78 283.298 2133.83 281.7 Q2131.91 280.08 2128.42 280.08 Q2126.2 280.08 2124.09 280.612 Q2121.98 281.145 2120.04 282.21 L2120.04 278.274 Q2122.38 277.372 2124.58 276.932 Q2126.77 276.469 2128.86 276.469 Q2134.48 276.469 2137.26 279.386 Q2140.04 282.302 2140.04 288.228 Z\" fill=\"#000000\" fill-rule=\"evenodd\" fill-opacity=\"1\" /><path clip-path=\"url(#clip990)\" d=\"M 0 0 M2148.72 269.733 L2148.72 277.094 L2157.49 277.094 L2157.49 280.404 L2148.72 280.404 L2148.72 294.478 Q2148.72 297.649 2149.57 298.552 Q2150.45 299.455 2153.12 299.455 L2157.49 299.455 L2157.49 303.02 L2153.12 303.02 Q2148.19 303.02 2146.31 301.191 Q2144.44 299.339 2144.44 294.478 L2144.44 280.404 L2141.31 280.404 L2141.31 277.094 L2144.44 277.094 L2144.44 269.733 L2148.72 269.733 Z\" fill=\"#000000\" fill-rule=\"evenodd\" fill-opacity=\"1\" /><path clip-path=\"url(#clip990)\" d=\"M 0 0 M2161.96 277.094 L2166.22 277.094 L2166.22 303.02 L2161.96 303.02 L2161.96 277.094 M2161.96 267.001 L2166.22 267.001 L2166.22 272.395 L2161.96 272.395 L2161.96 267.001 Z\" fill=\"#000000\" fill-rule=\"evenodd\" fill-opacity=\"1\" /><path clip-path=\"url(#clip990)\" d=\"M 0 0 M2180.73 280.08 Q2177.31 280.08 2175.32 282.765 Q2173.32 285.427 2173.32 290.08 Q2173.32 294.733 2175.29 297.418 Q2177.28 300.08 2180.73 300.08 Q2184.13 300.08 2186.13 297.395 Q2188.12 294.71 2188.12 290.08 Q2188.12 285.474 2186.13 282.788 Q2184.13 280.08 2180.73 280.08 M2180.73 276.469 Q2186.29 276.469 2189.46 280.08 Q2192.63 283.691 2192.63 290.08 Q2192.63 296.446 2189.46 300.08 Q2186.29 303.691 2180.73 303.691 Q2175.15 303.691 2171.98 300.08 Q2168.83 296.446 2168.83 290.08 Q2168.83 283.691 2171.98 280.08 Q2175.15 276.469 2180.73 276.469 Z\" fill=\"#000000\" fill-rule=\"evenodd\" fill-opacity=\"1\" /><path clip-path=\"url(#clip990)\" d=\"M 0 0 M2218.65 287.372 L2218.65 303.02 L2214.39 303.02 L2214.39 287.511 Q2214.39 283.83 2212.95 282.001 Q2211.52 280.173 2208.65 280.173 Q2205.2 280.173 2203.21 282.372 Q2201.22 284.571 2201.22 288.367 L2201.22 303.02 L2196.94 303.02 L2196.94 277.094 L2201.22 277.094 L2201.22 281.122 Q2202.75 278.784 2204.81 277.626 Q2206.89 276.469 2209.6 276.469 Q2214.07 276.469 2216.36 279.247 Q2218.65 282.001 2218.65 287.372 Z\" fill=\"#000000\" fill-rule=\"evenodd\" fill-opacity=\"1\" /><circle clip-path=\"url(#clip990)\" cx=\"1717.42\" cy=\"346.22\" r=\"23\" fill=\"#0000ff\" fill-rule=\"evenodd\" fill-opacity=\"1\" stroke=\"#000000\" stroke-opacity=\"1\" stroke-width=\"5.12\"/>\n",
       "<path clip-path=\"url(#clip990)\" d=\"M 0 0 M1827.77 350.56 Q1827.77 345.861 1825.83 343.199 Q1823.91 340.514 1820.53 340.514 Q1817.15 340.514 1815.2 343.199 Q1813.28 345.861 1813.28 350.56 Q1813.28 355.259 1815.2 357.944 Q1817.15 360.606 1820.53 360.606 Q1823.91 360.606 1825.83 357.944 Q1827.77 355.259 1827.77 350.56 M1813.28 341.509 Q1814.62 339.194 1816.66 338.083 Q1818.72 336.949 1821.57 336.949 Q1826.29 336.949 1829.23 340.699 Q1832.19 344.449 1832.19 350.56 Q1832.19 356.671 1829.23 360.421 Q1826.29 364.171 1821.57 364.171 Q1818.72 364.171 1816.66 363.06 Q1814.62 361.926 1813.28 359.611 L1813.28 363.5 L1809 363.5 L1809 327.481 L1813.28 327.481 L1813.28 341.509 Z\" fill=\"#000000\" fill-rule=\"evenodd\" fill-opacity=\"1\" /><path clip-path=\"url(#clip990)\" d=\"M 0 0 M1858.84 349.472 L1858.84 351.555 L1839.25 351.555 Q1839.53 355.953 1841.89 358.268 Q1844.28 360.56 1848.51 360.56 Q1850.97 360.56 1853.26 359.958 Q1855.57 359.356 1857.84 358.153 L1857.84 362.18 Q1855.55 363.152 1853.14 363.662 Q1850.73 364.171 1848.26 364.171 Q1842.05 364.171 1838.42 360.56 Q1834.81 356.949 1834.81 350.791 Q1834.81 344.426 1838.23 340.699 Q1841.68 336.949 1847.52 336.949 Q1852.75 336.949 1855.78 340.329 Q1858.84 343.685 1858.84 349.472 M1854.58 348.222 Q1854.53 344.727 1852.61 342.643 Q1850.71 340.56 1847.56 340.56 Q1844 340.56 1841.85 342.574 Q1839.72 344.588 1839.39 348.245 L1854.58 348.222 Z\" fill=\"#000000\" fill-rule=\"evenodd\" fill-opacity=\"1\" /><path clip-path=\"url(#clip990)\" d=\"M 0 0 M1867.52 330.213 L1867.52 337.574 L1876.29 337.574 L1876.29 340.884 L1867.52 340.884 L1867.52 354.958 Q1867.52 358.129 1868.37 359.032 Q1869.25 359.935 1871.91 359.935 L1876.29 359.935 L1876.29 363.5 L1871.91 363.5 Q1866.98 363.5 1865.11 361.671 Q1863.23 359.819 1863.23 354.958 L1863.23 340.884 L1860.11 340.884 L1860.11 337.574 L1863.23 337.574 L1863.23 330.213 L1867.52 330.213 Z\" fill=\"#000000\" fill-rule=\"evenodd\" fill-opacity=\"1\" /><path clip-path=\"url(#clip990)\" d=\"M 0 0 M1884.97 330.213 L1884.97 337.574 L1893.74 337.574 L1893.74 340.884 L1884.97 340.884 L1884.97 354.958 Q1884.97 358.129 1885.83 359.032 Q1886.71 359.935 1889.37 359.935 L1893.74 359.935 L1893.74 363.5 L1889.37 363.5 Q1884.44 363.5 1882.56 361.671 Q1880.69 359.819 1880.69 354.958 L1880.69 340.884 L1877.56 340.884 L1877.56 337.574 L1880.69 337.574 L1880.69 330.213 L1884.97 330.213 Z\" fill=\"#000000\" fill-rule=\"evenodd\" fill-opacity=\"1\" /><path clip-path=\"url(#clip990)\" d=\"M 0 0 M1920.39 349.472 L1920.39 351.555 L1900.8 351.555 Q1901.08 355.953 1903.44 358.268 Q1905.83 360.56 1910.06 360.56 Q1912.52 360.56 1914.81 359.958 Q1917.12 359.356 1919.39 358.153 L1919.39 362.18 Q1917.1 363.152 1914.69 363.662 Q1912.28 364.171 1909.81 364.171 Q1903.6 364.171 1899.97 360.56 Q1896.36 356.949 1896.36 350.791 Q1896.36 344.426 1899.78 340.699 Q1903.23 336.949 1909.07 336.949 Q1914.3 336.949 1917.33 340.329 Q1920.39 343.685 1920.39 349.472 M1916.13 348.222 Q1916.08 344.727 1914.16 342.643 Q1912.26 340.56 1909.11 340.56 Q1905.55 340.56 1903.4 342.574 Q1901.27 344.588 1900.94 348.245 L1916.13 348.222 Z\" fill=\"#000000\" fill-rule=\"evenodd\" fill-opacity=\"1\" /><path clip-path=\"url(#clip990)\" d=\"M 0 0 M1939.88 341.555 Q1939.16 341.139 1938.3 340.954 Q1937.47 340.745 1936.45 340.745 Q1932.84 340.745 1930.9 343.106 Q1928.97 345.444 1928.97 349.842 L1928.97 363.5 L1924.69 363.5 L1924.69 337.574 L1928.97 337.574 L1928.97 341.602 Q1930.32 339.241 1932.47 338.106 Q1934.62 336.949 1937.7 336.949 Q1938.14 336.949 1938.67 337.018 Q1939.21 337.065 1939.85 337.18 L1939.88 341.555 Z\" fill=\"#000000\" fill-rule=\"evenodd\" fill-opacity=\"1\" /><path clip-path=\"url(#clip990)\" d=\"M 0 0 M1964.04 371.37 L1964.04 374.68 L1939.41 374.68 L1939.41 371.37 L1964.04 371.37 Z\" fill=\"#000000\" fill-rule=\"evenodd\" fill-opacity=\"1\" /><path clip-path=\"url(#clip990)\" d=\"M 0 0 M1988.7 342.551 Q1990.29 339.68 1992.52 338.315 Q1994.74 336.949 1997.75 336.949 Q2001.8 336.949 2004 339.796 Q2006.2 342.62 2006.2 347.852 L2006.2 363.5 L2001.91 363.5 L2001.91 347.991 Q2001.91 344.264 2000.59 342.458 Q1999.27 340.653 1996.57 340.653 Q1993.26 340.653 1991.34 342.852 Q1989.41 345.051 1989.41 348.847 L1989.41 363.5 L1985.13 363.5 L1985.13 347.991 Q1985.13 344.241 1983.81 342.458 Q1982.49 340.653 1979.74 340.653 Q1976.47 340.653 1974.55 342.875 Q1972.63 345.074 1972.63 348.847 L1972.63 363.5 L1968.35 363.5 L1968.35 337.574 L1972.63 337.574 L1972.63 341.602 Q1974.09 339.217 1976.13 338.083 Q1978.16 336.949 1980.96 336.949 Q1983.79 336.949 1985.76 338.384 Q1987.75 339.819 1988.7 342.551 Z\" fill=\"#000000\" fill-rule=\"evenodd\" fill-opacity=\"1\" /><path clip-path=\"url(#clip990)\" d=\"M 0 0 M2010.22 353.268 L2010.22 337.574 L2014.48 337.574 L2014.48 353.106 Q2014.48 356.787 2015.92 358.639 Q2017.35 360.467 2020.22 360.467 Q2023.67 360.467 2025.66 358.268 Q2027.68 356.069 2027.68 352.273 L2027.68 337.574 L2031.94 337.574 L2031.94 363.5 L2027.68 363.5 L2027.68 359.518 Q2026.13 361.879 2024.07 363.037 Q2022.03 364.171 2019.32 364.171 Q2014.85 364.171 2012.54 361.393 Q2010.22 358.615 2010.22 353.268 M2020.94 336.949 L2020.94 336.949 Z\" fill=\"#000000\" fill-rule=\"evenodd\" fill-opacity=\"1\" /><path clip-path=\"url(#clip990)\" d=\"M 0 0 M2036.4 327.481 L2040.66 327.481 L2040.66 363.5 L2036.4 363.5 L2036.4 327.481 Z\" fill=\"#000000\" fill-rule=\"evenodd\" fill-opacity=\"1\" /><path clip-path=\"url(#clip990)\" d=\"M 0 0 M2049.34 330.213 L2049.34 337.574 L2058.12 337.574 L2058.12 340.884 L2049.34 340.884 L2049.34 354.958 Q2049.34 358.129 2050.2 359.032 Q2051.08 359.935 2053.74 359.935 L2058.12 359.935 L2058.12 363.5 L2053.74 363.5 Q2048.81 363.5 2046.94 361.671 Q2045.06 359.819 2045.06 354.958 L2045.06 340.884 L2041.94 340.884 L2041.94 337.574 L2045.06 337.574 L2045.06 330.213 L2049.34 330.213 Z\" fill=\"#000000\" fill-rule=\"evenodd\" fill-opacity=\"1\" /><path clip-path=\"url(#clip990)\" d=\"M 0 0 M2062.58 337.574 L2066.84 337.574 L2066.84 363.5 L2062.58 363.5 L2062.58 337.574 M2062.58 327.481 L2066.84 327.481 L2066.84 332.875 L2062.58 332.875 L2062.58 327.481 Z\" fill=\"#000000\" fill-rule=\"evenodd\" fill-opacity=\"1\" /><path clip-path=\"url(#clip990)\" d=\"M 0 0 M2075.43 359.611 L2075.43 373.361 L2071.15 373.361 L2071.15 337.574 L2075.43 337.574 L2075.43 341.509 Q2076.77 339.194 2078.81 338.083 Q2080.87 336.949 2083.72 336.949 Q2088.44 336.949 2091.38 340.699 Q2094.34 344.449 2094.34 350.56 Q2094.34 356.671 2091.38 360.421 Q2088.44 364.171 2083.72 364.171 Q2080.87 364.171 2078.81 363.06 Q2076.77 361.926 2075.43 359.611 M2089.92 350.56 Q2089.92 345.861 2087.98 343.199 Q2086.06 340.514 2082.68 340.514 Q2079.3 340.514 2077.35 343.199 Q2075.43 345.861 2075.43 350.56 Q2075.43 355.259 2077.35 357.944 Q2079.3 360.606 2082.68 360.606 Q2086.06 360.606 2087.98 357.944 Q2089.92 355.259 2089.92 350.56 Z\" fill=\"#000000\" fill-rule=\"evenodd\" fill-opacity=\"1\" /><path clip-path=\"url(#clip990)\" d=\"M 0 0 M2098.81 327.481 L2103.07 327.481 L2103.07 363.5 L2098.81 363.5 L2098.81 327.481 Z\" fill=\"#000000\" fill-rule=\"evenodd\" fill-opacity=\"1\" /><path clip-path=\"url(#clip990)\" d=\"M 0 0 M2107.54 337.574 L2111.8 337.574 L2111.8 363.5 L2107.54 363.5 L2107.54 337.574 M2107.54 327.481 L2111.8 327.481 L2111.8 332.875 L2107.54 332.875 L2107.54 327.481 Z\" fill=\"#000000\" fill-rule=\"evenodd\" fill-opacity=\"1\" /><path clip-path=\"url(#clip990)\" d=\"M 0 0 M2134.92 338.569 L2134.92 342.551 Q2133.12 341.555 2131.29 341.069 Q2129.48 340.56 2127.63 340.56 Q2123.49 340.56 2121.2 343.199 Q2118.9 345.815 2118.9 350.56 Q2118.9 355.305 2121.2 357.944 Q2123.49 360.56 2127.63 360.56 Q2129.48 360.56 2131.29 360.074 Q2133.12 359.565 2134.92 358.569 L2134.92 362.504 Q2133.14 363.338 2131.22 363.754 Q2129.32 364.171 2127.17 364.171 Q2121.31 364.171 2117.86 360.49 Q2114.41 356.81 2114.41 350.56 Q2114.41 344.217 2117.89 340.583 Q2121.38 336.949 2127.45 336.949 Q2129.41 336.949 2131.29 337.366 Q2133.16 337.759 2134.92 338.569 Z\" fill=\"#000000\" fill-rule=\"evenodd\" fill-opacity=\"1\" /><path clip-path=\"url(#clip990)\" d=\"M 0 0 M2151.17 350.467 Q2146.01 350.467 2144.02 351.648 Q2142.03 352.828 2142.03 355.676 Q2142.03 357.944 2143.51 359.287 Q2145.01 360.606 2147.58 360.606 Q2151.13 360.606 2153.26 358.106 Q2155.41 355.583 2155.41 351.416 L2155.41 350.467 L2151.17 350.467 M2159.67 348.708 L2159.67 363.5 L2155.41 363.5 L2155.41 359.565 Q2153.95 361.926 2151.77 363.06 Q2149.6 364.171 2146.45 364.171 Q2142.47 364.171 2140.11 361.949 Q2137.77 359.703 2137.77 355.953 Q2137.77 351.578 2140.69 349.356 Q2143.63 347.134 2149.44 347.134 L2155.41 347.134 L2155.41 346.717 Q2155.41 343.778 2153.46 342.18 Q2151.54 340.56 2148.05 340.56 Q2145.83 340.56 2143.72 341.092 Q2141.61 341.625 2139.67 342.69 L2139.67 338.754 Q2142.01 337.852 2144.2 337.412 Q2146.4 336.949 2148.49 336.949 Q2154.11 336.949 2156.89 339.866 Q2159.67 342.782 2159.67 348.708 Z\" fill=\"#000000\" fill-rule=\"evenodd\" fill-opacity=\"1\" /><path clip-path=\"url(#clip990)\" d=\"M 0 0 M2168.35 330.213 L2168.35 337.574 L2177.12 337.574 L2177.12 340.884 L2168.35 340.884 L2168.35 354.958 Q2168.35 358.129 2169.2 359.032 Q2170.08 359.935 2172.75 359.935 L2177.12 359.935 L2177.12 363.5 L2172.75 363.5 Q2167.82 363.5 2165.94 361.671 Q2164.07 359.819 2164.07 354.958 L2164.07 340.884 L2160.94 340.884 L2160.94 337.574 L2164.07 337.574 L2164.07 330.213 L2168.35 330.213 Z\" fill=\"#000000\" fill-rule=\"evenodd\" fill-opacity=\"1\" /><path clip-path=\"url(#clip990)\" d=\"M 0 0 M2181.59 337.574 L2185.85 337.574 L2185.85 363.5 L2181.59 363.5 L2181.59 337.574 M2181.59 327.481 L2185.85 327.481 L2185.85 332.875 L2181.59 332.875 L2181.59 327.481 Z\" fill=\"#000000\" fill-rule=\"evenodd\" fill-opacity=\"1\" /><path clip-path=\"url(#clip990)\" d=\"M 0 0 M2200.36 340.56 Q2196.94 340.56 2194.95 343.245 Q2192.95 345.907 2192.95 350.56 Q2192.95 355.213 2194.92 357.898 Q2196.91 360.56 2200.36 360.56 Q2203.76 360.56 2205.76 357.875 Q2207.75 355.19 2207.75 350.56 Q2207.75 345.954 2205.76 343.268 Q2203.76 340.56 2200.36 340.56 M2200.36 336.949 Q2205.92 336.949 2209.09 340.56 Q2212.26 344.171 2212.26 350.56 Q2212.26 356.926 2209.09 360.56 Q2205.92 364.171 2200.36 364.171 Q2194.78 364.171 2191.61 360.56 Q2188.46 356.926 2188.46 350.56 Q2188.46 344.171 2191.61 340.56 Q2194.78 336.949 2200.36 336.949 Z\" fill=\"#000000\" fill-rule=\"evenodd\" fill-opacity=\"1\" /><path clip-path=\"url(#clip990)\" d=\"M 0 0 M2238.28 347.852 L2238.28 363.5 L2234.02 363.5 L2234.02 347.991 Q2234.02 344.31 2232.58 342.481 Q2231.15 340.653 2228.28 340.653 Q2224.83 340.653 2222.84 342.852 Q2220.85 345.051 2220.85 348.847 L2220.85 363.5 L2216.57 363.5 L2216.57 337.574 L2220.85 337.574 L2220.85 341.602 Q2222.38 339.264 2224.44 338.106 Q2226.52 336.949 2229.23 336.949 Q2233.69 336.949 2235.99 339.727 Q2238.28 342.481 2238.28 347.852 Z\" fill=\"#000000\" fill-rule=\"evenodd\" fill-opacity=\"1\" /><circle clip-path=\"url(#clip990)\" cx=\"1717.42\" cy=\"406.7\" r=\"23\" fill=\"#008000\" fill-rule=\"evenodd\" fill-opacity=\"1\" stroke=\"#000000\" stroke-opacity=\"1\" stroke-width=\"5.12\"/>\n",
       "<path clip-path=\"url(#clip990)\" d=\"M 0 0 M1830.71 408.332 L1830.71 423.98 L1826.45 423.98 L1826.45 408.471 Q1826.45 404.79 1825.02 402.961 Q1823.58 401.133 1820.71 401.133 Q1817.26 401.133 1815.27 403.332 Q1813.28 405.531 1813.28 409.327 L1813.28 423.98 L1809 423.98 L1809 398.054 L1813.28 398.054 L1813.28 402.082 Q1814.81 399.744 1816.87 398.586 Q1818.95 397.429 1821.66 397.429 Q1826.13 397.429 1828.42 400.207 Q1830.71 402.961 1830.71 408.332 Z\" fill=\"#000000\" fill-rule=\"evenodd\" fill-opacity=\"1\" /><path clip-path=\"url(#clip990)\" d=\"M 0 0 M1846.96 410.947 Q1841.8 410.947 1839.81 412.128 Q1837.82 413.308 1837.82 416.156 Q1837.82 418.424 1839.3 419.767 Q1840.8 421.086 1843.37 421.086 Q1846.91 421.086 1849.04 418.586 Q1851.2 416.063 1851.2 411.896 L1851.2 410.947 L1846.96 410.947 M1855.46 409.188 L1855.46 423.98 L1851.2 423.98 L1851.2 420.045 Q1849.74 422.406 1847.56 423.54 Q1845.39 424.651 1842.24 424.651 Q1838.26 424.651 1835.9 422.429 Q1833.56 420.183 1833.56 416.433 Q1833.56 412.058 1836.47 409.836 Q1839.41 407.614 1845.22 407.614 L1851.2 407.614 L1851.2 407.197 Q1851.2 404.258 1849.25 402.66 Q1847.33 401.04 1843.84 401.04 Q1841.61 401.04 1839.51 401.572 Q1837.4 402.105 1835.46 403.17 L1835.46 399.234 Q1837.79 398.332 1839.99 397.892 Q1842.19 397.429 1844.28 397.429 Q1849.9 397.429 1852.68 400.346 Q1855.46 403.262 1855.46 409.188 Z\" fill=\"#000000\" fill-rule=\"evenodd\" fill-opacity=\"1\" /><path clip-path=\"url(#clip990)\" d=\"M 0 0 M1859.92 398.054 L1864.18 398.054 L1864.18 423.98 L1859.92 423.98 L1859.92 398.054 M1859.92 387.961 L1864.18 387.961 L1864.18 393.355 L1859.92 393.355 L1859.92 387.961 Z\" fill=\"#000000\" fill-rule=\"evenodd\" fill-opacity=\"1\" /><path clip-path=\"url(#clip990)\" d=\"M 0 0 M1865.6 398.054 L1870.11 398.054 L1878.21 419.813 L1886.31 398.054 L1890.83 398.054 L1881.1 423.98 L1875.32 423.98 L1865.6 398.054 Z\" fill=\"#000000\" fill-rule=\"evenodd\" fill-opacity=\"1\" /><path clip-path=\"url(#clip990)\" d=\"M 0 0 M1917.47 409.952 L1917.47 412.035 L1897.89 412.035 Q1898.16 416.433 1900.53 418.748 Q1902.91 421.04 1907.15 421.04 Q1909.6 421.04 1911.89 420.438 Q1914.21 419.836 1916.47 418.633 L1916.47 422.66 Q1914.18 423.632 1911.78 424.142 Q1909.37 424.651 1906.89 424.651 Q1900.69 424.651 1897.05 421.04 Q1893.44 417.429 1893.44 411.271 Q1893.44 404.906 1896.87 401.179 Q1900.32 397.429 1906.15 397.429 Q1911.38 397.429 1914.41 400.809 Q1917.47 404.165 1917.47 409.952 M1913.21 408.702 Q1913.16 405.207 1911.24 403.123 Q1909.34 401.04 1906.2 401.04 Q1902.63 401.04 1900.48 403.054 Q1898.35 405.068 1898.03 408.725 L1913.21 408.702 Z\" fill=\"#000000\" fill-rule=\"evenodd\" fill-opacity=\"1\" /><path clip-path=\"url(#clip990)\" d=\"M 0 0 M1941.64 431.85 L1941.64 435.16 L1917.01 435.16 L1917.01 431.85 L1941.64 431.85 Z\" fill=\"#000000\" fill-rule=\"evenodd\" fill-opacity=\"1\" /><path clip-path=\"url(#clip990)\" d=\"M 0 0 M1966.29 403.031 Q1967.89 400.16 1970.11 398.795 Q1972.33 397.429 1975.34 397.429 Q1979.39 397.429 1981.59 400.276 Q1983.79 403.1 1983.79 408.332 L1983.79 423.98 L1979.51 423.98 L1979.51 408.471 Q1979.51 404.744 1978.19 402.938 Q1976.87 401.133 1974.16 401.133 Q1970.85 401.133 1968.93 403.332 Q1967.01 405.531 1967.01 409.327 L1967.01 423.98 L1962.72 423.98 L1962.72 408.471 Q1962.72 404.721 1961.4 402.938 Q1960.09 401.133 1957.33 401.133 Q1954.07 401.133 1952.15 403.355 Q1950.22 405.554 1950.22 409.327 L1950.22 423.98 L1945.94 423.98 L1945.94 398.054 L1950.22 398.054 L1950.22 402.082 Q1951.68 399.697 1953.72 398.563 Q1955.76 397.429 1958.56 397.429 Q1961.38 397.429 1963.35 398.864 Q1965.34 400.299 1966.29 403.031 Z\" fill=\"#000000\" fill-rule=\"evenodd\" fill-opacity=\"1\" /><path clip-path=\"url(#clip990)\" d=\"M 0 0 M1987.82 413.748 L1987.82 398.054 L1992.08 398.054 L1992.08 413.586 Q1992.08 417.267 1993.51 419.119 Q1994.95 420.947 1997.82 420.947 Q2001.27 420.947 2003.26 418.748 Q2005.27 416.549 2005.27 412.753 L2005.27 398.054 L2009.53 398.054 L2009.53 423.98 L2005.27 423.98 L2005.27 419.998 Q2003.72 422.359 2001.66 423.517 Q1999.62 424.651 1996.91 424.651 Q1992.45 424.651 1990.13 421.873 Q1987.82 419.095 1987.82 413.748 M1998.53 397.429 L1998.53 397.429 Z\" fill=\"#000000\" fill-rule=\"evenodd\" fill-opacity=\"1\" /><path clip-path=\"url(#clip990)\" d=\"M 0 0 M2014 387.961 L2018.26 387.961 L2018.26 423.98 L2014 423.98 L2014 387.961 Z\" fill=\"#000000\" fill-rule=\"evenodd\" fill-opacity=\"1\" /><path clip-path=\"url(#clip990)\" d=\"M 0 0 M2026.94 390.693 L2026.94 398.054 L2035.71 398.054 L2035.71 401.364 L2026.94 401.364 L2026.94 415.438 Q2026.94 418.609 2027.79 419.512 Q2028.67 420.415 2031.33 420.415 L2035.71 420.415 L2035.71 423.98 L2031.33 423.98 Q2026.4 423.98 2024.53 422.151 Q2022.65 420.299 2022.65 415.438 L2022.65 401.364 L2019.53 401.364 L2019.53 398.054 L2022.65 398.054 L2022.65 390.693 L2026.94 390.693 Z\" fill=\"#000000\" fill-rule=\"evenodd\" fill-opacity=\"1\" /><path clip-path=\"url(#clip990)\" d=\"M 0 0 M2040.18 398.054 L2044.44 398.054 L2044.44 423.98 L2040.18 423.98 L2040.18 398.054 M2040.18 387.961 L2044.44 387.961 L2044.44 393.355 L2040.18 393.355 L2040.18 387.961 Z\" fill=\"#000000\" fill-rule=\"evenodd\" fill-opacity=\"1\" /><path clip-path=\"url(#clip990)\" d=\"M 0 0 M2053.02 420.091 L2053.02 433.841 L2048.74 433.841 L2048.74 398.054 L2053.02 398.054 L2053.02 401.989 Q2054.37 399.674 2056.4 398.563 Q2058.46 397.429 2061.31 397.429 Q2066.03 397.429 2068.97 401.179 Q2071.94 404.929 2071.94 411.04 Q2071.94 417.151 2068.97 420.901 Q2066.03 424.651 2061.31 424.651 Q2058.46 424.651 2056.4 423.54 Q2054.37 422.406 2053.02 420.091 M2067.52 411.04 Q2067.52 406.341 2065.57 403.679 Q2063.65 400.994 2060.27 400.994 Q2056.89 400.994 2054.95 403.679 Q2053.02 406.341 2053.02 411.04 Q2053.02 415.739 2054.95 418.424 Q2056.89 421.086 2060.27 421.086 Q2063.65 421.086 2065.57 418.424 Q2067.52 415.739 2067.52 411.04 Z\" fill=\"#000000\" fill-rule=\"evenodd\" fill-opacity=\"1\" /><path clip-path=\"url(#clip990)\" d=\"M 0 0 M2076.4 387.961 L2080.66 387.961 L2080.66 423.98 L2076.4 423.98 L2076.4 387.961 Z\" fill=\"#000000\" fill-rule=\"evenodd\" fill-opacity=\"1\" /><path clip-path=\"url(#clip990)\" d=\"M 0 0 M2085.13 398.054 L2089.39 398.054 L2089.39 423.98 L2085.13 423.98 L2085.13 398.054 M2085.13 387.961 L2089.39 387.961 L2089.39 393.355 L2085.13 393.355 L2085.13 387.961 Z\" fill=\"#000000\" fill-rule=\"evenodd\" fill-opacity=\"1\" /><path clip-path=\"url(#clip990)\" d=\"M 0 0 M2112.52 399.049 L2112.52 403.031 Q2110.71 402.035 2108.88 401.549 Q2107.08 401.04 2105.22 401.04 Q2101.08 401.04 2098.79 403.679 Q2096.5 406.295 2096.5 411.04 Q2096.5 415.785 2098.79 418.424 Q2101.08 421.04 2105.22 421.04 Q2107.08 421.04 2108.88 420.554 Q2110.71 420.045 2112.52 419.049 L2112.52 422.984 Q2110.73 423.818 2108.81 424.234 Q2106.91 424.651 2104.76 424.651 Q2098.9 424.651 2095.45 420.97 Q2092.01 417.29 2092.01 411.04 Q2092.01 404.697 2095.48 401.063 Q2098.97 397.429 2105.04 397.429 Q2107.01 397.429 2108.88 397.846 Q2110.76 398.239 2112.52 399.049 Z\" fill=\"#000000\" fill-rule=\"evenodd\" fill-opacity=\"1\" /><path clip-path=\"url(#clip990)\" d=\"M 0 0 M2128.76 410.947 Q2123.6 410.947 2121.61 412.128 Q2119.62 413.308 2119.62 416.156 Q2119.62 418.424 2121.1 419.767 Q2122.61 421.086 2125.18 421.086 Q2128.72 421.086 2130.85 418.586 Q2133 416.063 2133 411.896 L2133 410.947 L2128.76 410.947 M2137.26 409.188 L2137.26 423.98 L2133 423.98 L2133 420.045 Q2131.54 422.406 2129.37 423.54 Q2127.19 424.651 2124.04 424.651 Q2120.06 424.651 2117.7 422.429 Q2115.36 420.183 2115.36 416.433 Q2115.36 412.058 2118.28 409.836 Q2121.22 407.614 2127.03 407.614 L2133 407.614 L2133 407.197 Q2133 404.258 2131.06 402.66 Q2129.14 401.04 2125.64 401.04 Q2123.42 401.04 2121.31 401.572 Q2119.2 402.105 2117.26 403.17 L2117.26 399.234 Q2119.6 398.332 2121.8 397.892 Q2124 397.429 2126.08 397.429 Q2131.7 397.429 2134.48 400.346 Q2137.26 403.262 2137.26 409.188 Z\" fill=\"#000000\" fill-rule=\"evenodd\" fill-opacity=\"1\" /><path clip-path=\"url(#clip990)\" d=\"M 0 0 M2145.94 390.693 L2145.94 398.054 L2154.71 398.054 L2154.71 401.364 L2145.94 401.364 L2145.94 415.438 Q2145.94 418.609 2146.8 419.512 Q2147.68 420.415 2150.34 420.415 L2154.71 420.415 L2154.71 423.98 L2150.34 423.98 Q2145.41 423.98 2143.53 422.151 Q2141.66 420.299 2141.66 415.438 L2141.66 401.364 L2138.53 401.364 L2138.53 398.054 L2141.66 398.054 L2141.66 390.693 L2145.94 390.693 Z\" fill=\"#000000\" fill-rule=\"evenodd\" fill-opacity=\"1\" /><path clip-path=\"url(#clip990)\" d=\"M 0 0 M2159.18 398.054 L2163.44 398.054 L2163.44 423.98 L2159.18 423.98 L2159.18 398.054 M2159.18 387.961 L2163.44 387.961 L2163.44 393.355 L2159.18 393.355 L2159.18 387.961 Z\" fill=\"#000000\" fill-rule=\"evenodd\" fill-opacity=\"1\" /><path clip-path=\"url(#clip990)\" d=\"M 0 0 M2177.95 401.04 Q2174.53 401.04 2172.54 403.725 Q2170.55 406.387 2170.55 411.04 Q2170.55 415.693 2172.51 418.378 Q2174.51 421.04 2177.95 421.04 Q2181.36 421.04 2183.35 418.355 Q2185.34 415.67 2185.34 411.04 Q2185.34 406.434 2183.35 403.748 Q2181.36 401.04 2177.95 401.04 M2177.95 397.429 Q2183.51 397.429 2186.68 401.04 Q2189.85 404.651 2189.85 411.04 Q2189.85 417.406 2186.68 421.04 Q2183.51 424.651 2177.95 424.651 Q2172.38 424.651 2169.2 421.04 Q2166.06 417.406 2166.06 411.04 Q2166.06 404.651 2169.2 401.04 Q2172.38 397.429 2177.95 397.429 Z\" fill=\"#000000\" fill-rule=\"evenodd\" fill-opacity=\"1\" /><path clip-path=\"url(#clip990)\" d=\"M 0 0 M2215.87 408.332 L2215.87 423.98 L2211.61 423.98 L2211.61 408.471 Q2211.61 404.79 2210.18 402.961 Q2208.74 401.133 2205.87 401.133 Q2202.42 401.133 2200.43 403.332 Q2198.44 405.531 2198.44 409.327 L2198.44 423.98 L2194.16 423.98 L2194.16 398.054 L2198.44 398.054 L2198.44 402.082 Q2199.97 399.744 2202.03 398.586 Q2204.11 397.429 2206.82 397.429 Q2211.29 397.429 2213.58 400.207 Q2215.87 402.961 2215.87 408.332 Z\" fill=\"#000000\" fill-rule=\"evenodd\" fill-opacity=\"1\" /></svg>\n"
      ]
     },
     "execution_count": 109,
     "metadata": {},
     "output_type": "execute_result"
    }
   ],
   "source": [
    "scatter(df_combined.Matrix_size, df_combined.Operation_time_mean,\n",
    "    group=df_combined.Operation_type, yerr=df_combined.Operation_time_std,\n",
    "    colour = [:red :blue :green], xlabel=\"Matrix size\", ylabel=\"Operation time\",\n",
    "    title = \"Time of multiplying matrices in Julia\n",
    "    with polynomial aproximations\")\n",
    "\n",
    "plot!(fit_poly_julia_naive,  \n",
    "    extrema(x_julia)..., \n",
    "    label = \"\",\n",
    "    color = \"green\"\n",
    ")\n",
    "plot!(fit_poly_julia_better,  \n",
    "    extrema(x_julia)..., \n",
    "    label = \"\",\n",
    "    color = \"blue\"\n",
    ")\n",
    "plot!(fit_poly_julia_BLAS,  \n",
    "    extrema(x_julia)..., \n",
    "    label = \"\",\n",
    "    color = \"red\"\n",
    ")"
   ]
  },
  {
   "cell_type": "markdown",
   "metadata": {},
   "source": [
    "C multiplications:\n"
   ]
  },
  {
   "cell_type": "code",
   "execution_count": 111,
   "metadata": {},
   "outputs": [
    {
     "data": {
      "text/html": [
       "&#45;0.000294536028967341 &#45; 1.501444089683718e-7&#8729;x &#43; 1.594684182919552e-8&#8729;x<sup>2</sup> &#43; 3.2514181533789345e-10&#8729;x<sup>3</sup>"
      ],
      "text/latex": [
       "$-0.000294536028967341 - 1.501444089683718e-7\\cdot x + 1.594684182919552e-8\\cdot x^{2} + 3.2514181533789345e-10\\cdot x^{3}$"
      ],
      "text/plain": [
       "Polynomial(-0.000294536028967341 - 1.501444089683718e-7*x + 1.594684182919552e-8*x^2 + 3.2514181533789345e-10*x^3)"
      ]
     },
     "execution_count": 111,
     "metadata": {},
     "output_type": "execute_result"
    }
   ],
   "source": [
    "x_C = C_df_combined[C_df_combined[:,1] .== \"naive_multiplication\", 2]\n",
    "x_C = Vector{Int64}(vec(x_C))\n",
    "y_C_naive = C_df_combined[C_df_combined[:,1] .== \"naive_multiplication\", 3]\n",
    "y_C_naive = Vector{Float64}(vec(y_C_naive))\n",
    "y_C_better = C_df_combined[C_df_combined[:,1] .== \"better_multiplication\", 3]\n",
    "y_C_better = Vector{Float64}(vec(y_C_better))\n",
    "y_C_BLAS = C_df_combined[C_df_combined[:,1] .== \"BLAS_multiplication\", 3]\n",
    "y_C_BLAS = Vector{Float64}(vec(y_C_BLAS))\n",
    "\n",
    "\n",
    "\n",
    "fit_poly_C_naive = fit(x_C, y_C_naive, 3)\n",
    "fit_poly_C_better = fit(x_C, y_C_better, 3)\n",
    "fit_poly_C_BLAS = fit(x_C, y_C_BLAS, 3)"
   ]
  },
  {
   "cell_type": "code",
   "execution_count": 112,
   "metadata": {},
   "outputs": [
    {
     "data": {
      "image/svg+xml": [
       "<?xml version=\"1.0\" encoding=\"utf-8\"?>\n",
       "<svg xmlns=\"http://www.w3.org/2000/svg\" xmlns:xlink=\"http://www.w3.org/1999/xlink\" width=\"600\" height=\"400\" viewBox=\"0 0 2400 1600\">\n",
       "<defs>\n",
       "  <clipPath id=\"clip030\">\n",
       "    <rect x=\"0\" y=\"0\" width=\"2400\" height=\"1600\"/>\n",
       "  </clipPath>\n",
       "</defs>\n",
       "<path clip-path=\"url(#clip030)\" d=\"\n",
       "M0 1600 L2400 1600 L2400 0 L0 0  Z\n",
       "  \" fill=\"#ffffff\" fill-rule=\"evenodd\" fill-opacity=\"1\"/>\n",
       "<defs>\n",
       "  <clipPath id=\"clip031\">\n",
       "    <rect x=\"480\" y=\"0\" width=\"1681\" height=\"1600\"/>\n",
       "  </clipPath>\n",
       "</defs>\n",
       "<path clip-path=\"url(#clip030)\" d=\"\n",
       "M175.445 1423.18 L2352.76 1423.18 L2352.76 183.952 L175.445 183.952  Z\n",
       "  \" fill=\"#ffffff\" fill-rule=\"evenodd\" fill-opacity=\"1\"/>\n",
       "<defs>\n",
       "  <clipPath id=\"clip032\">\n",
       "    <rect x=\"175\" y=\"183\" width=\"2178\" height=\"1240\"/>\n",
       "  </clipPath>\n",
       "</defs>\n",
       "<polyline clip-path=\"url(#clip032)\" style=\"stroke:#000000; stroke-width:2; stroke-opacity:0.1; fill:none\" points=\"\n",
       "  216,1423.18 216,183.952 \n",
       "  \"/>\n",
       "<polyline clip-path=\"url(#clip032)\" style=\"stroke:#000000; stroke-width:2; stroke-opacity:0.1; fill:none\" points=\"\n",
       "  742.684,1423.18 742.684,183.952 \n",
       "  \"/>\n",
       "<polyline clip-path=\"url(#clip032)\" style=\"stroke:#000000; stroke-width:2; stroke-opacity:0.1; fill:none\" points=\"\n",
       "  1269.37,1423.18 1269.37,183.952 \n",
       "  \"/>\n",
       "<polyline clip-path=\"url(#clip032)\" style=\"stroke:#000000; stroke-width:2; stroke-opacity:0.1; fill:none\" points=\"\n",
       "  1796.05,1423.18 1796.05,183.952 \n",
       "  \"/>\n",
       "<polyline clip-path=\"url(#clip032)\" style=\"stroke:#000000; stroke-width:2; stroke-opacity:0.1; fill:none\" points=\"\n",
       "  2322.73,1423.18 2322.73,183.952 \n",
       "  \"/>\n",
       "<polyline clip-path=\"url(#clip030)\" style=\"stroke:#000000; stroke-width:4; stroke-opacity:1; fill:none\" points=\"\n",
       "  175.445,1423.18 2352.76,1423.18 \n",
       "  \"/>\n",
       "<polyline clip-path=\"url(#clip030)\" style=\"stroke:#000000; stroke-width:4; stroke-opacity:1; fill:none\" points=\"\n",
       "  216,1423.18 216,1408.31 \n",
       "  \"/>\n",
       "<polyline clip-path=\"url(#clip030)\" style=\"stroke:#000000; stroke-width:4; stroke-opacity:1; fill:none\" points=\"\n",
       "  742.684,1423.18 742.684,1408.31 \n",
       "  \"/>\n",
       "<polyline clip-path=\"url(#clip030)\" style=\"stroke:#000000; stroke-width:4; stroke-opacity:1; fill:none\" points=\"\n",
       "  1269.37,1423.18 1269.37,1408.31 \n",
       "  \"/>\n",
       "<polyline clip-path=\"url(#clip030)\" style=\"stroke:#000000; stroke-width:4; stroke-opacity:1; fill:none\" points=\"\n",
       "  1796.05,1423.18 1796.05,1408.31 \n",
       "  \"/>\n",
       "<polyline clip-path=\"url(#clip030)\" style=\"stroke:#000000; stroke-width:4; stroke-opacity:1; fill:none\" points=\"\n",
       "  2322.73,1423.18 2322.73,1408.31 \n",
       "  \"/>\n",
       "<path clip-path=\"url(#clip030)\" d=\"M 0 0 M216 1452.37 Q212.389 1452.37 210.56 1455.94 Q208.755 1459.48 208.755 1466.61 Q208.755 1473.71 210.56 1477.28 Q212.389 1480.82 216 1480.82 Q219.634 1480.82 221.44 1477.28 Q223.268 1473.71 223.268 1466.61 Q223.268 1459.48 221.44 1455.94 Q219.634 1452.37 216 1452.37 M216 1448.67 Q221.81 1448.67 224.866 1453.27 Q227.944 1457.86 227.944 1466.61 Q227.944 1475.33 224.866 1479.94 Q221.81 1484.52 216 1484.52 Q210.19 1484.52 207.111 1479.94 Q204.055 1475.33 204.055 1466.61 Q204.055 1457.86 207.111 1453.27 Q210.19 1448.67 216 1448.67 Z\" fill=\"#000000\" fill-rule=\"evenodd\" fill-opacity=\"1\" /><path clip-path=\"url(#clip030)\" d=\"M 0 0 M710.82 1479.92 L727.14 1479.92 L727.14 1483.85 L705.195 1483.85 L705.195 1479.92 Q707.857 1477.16 712.441 1472.53 Q717.047 1467.88 718.228 1466.54 Q720.473 1464.01 721.353 1462.28 Q722.255 1460.52 722.255 1458.83 Q722.255 1456.07 720.311 1454.34 Q718.39 1452.6 715.288 1452.6 Q713.089 1452.6 710.635 1453.37 Q708.205 1454.13 705.427 1455.68 L705.427 1450.96 Q708.251 1449.82 710.705 1449.25 Q713.158 1448.67 715.195 1448.67 Q720.566 1448.67 723.76 1451.35 Q726.955 1454.04 726.955 1458.53 Q726.955 1460.66 726.144 1462.58 Q725.357 1464.48 723.251 1467.07 Q722.672 1467.74 719.57 1470.96 Q716.468 1474.15 710.82 1479.92 Z\" fill=\"#000000\" fill-rule=\"evenodd\" fill-opacity=\"1\" /><path clip-path=\"url(#clip030)\" d=\"M 0 0 M732.255 1449.29 L750.612 1449.29 L750.612 1453.23 L736.538 1453.23 L736.538 1461.7 Q737.556 1461.35 738.575 1461.19 Q739.593 1461 740.612 1461 Q746.399 1461 749.778 1464.18 Q753.158 1467.35 753.158 1472.76 Q753.158 1478.34 749.686 1481.44 Q746.214 1484.52 739.894 1484.52 Q737.718 1484.52 735.45 1484.15 Q733.205 1483.78 730.797 1483.04 L730.797 1478.34 Q732.88 1479.48 735.103 1480.03 Q737.325 1480.59 739.802 1480.59 Q743.806 1480.59 746.144 1478.48 Q748.482 1476.38 748.482 1472.76 Q748.482 1469.15 746.144 1467.05 Q743.806 1464.94 739.802 1464.94 Q737.927 1464.94 736.052 1465.36 Q734.2 1465.77 732.255 1466.65 L732.255 1449.29 Z\" fill=\"#000000\" fill-rule=\"evenodd\" fill-opacity=\"1\" /><path clip-path=\"url(#clip030)\" d=\"M 0 0 M768.227 1452.37 Q764.616 1452.37 762.788 1455.94 Q760.982 1459.48 760.982 1466.61 Q760.982 1473.71 762.788 1477.28 Q764.616 1480.82 768.227 1480.82 Q771.862 1480.82 773.667 1477.28 Q775.496 1473.71 775.496 1466.61 Q775.496 1459.48 773.667 1455.94 Q771.862 1452.37 768.227 1452.37 M768.227 1448.67 Q774.038 1448.67 777.093 1453.27 Q780.172 1457.86 780.172 1466.61 Q780.172 1475.33 777.093 1479.94 Q774.038 1484.52 768.227 1484.52 Q762.417 1484.52 759.339 1479.94 Q756.283 1475.33 756.283 1466.61 Q756.283 1457.86 759.339 1453.27 Q762.417 1448.67 768.227 1448.67 Z\" fill=\"#000000\" fill-rule=\"evenodd\" fill-opacity=\"1\" /><path clip-path=\"url(#clip030)\" d=\"M 0 0 M1232.63 1449.29 L1250.99 1449.29 L1250.99 1453.23 L1236.91 1453.23 L1236.91 1461.7 Q1237.93 1461.35 1238.95 1461.19 Q1239.97 1461 1240.99 1461 Q1246.77 1461 1250.15 1464.18 Q1253.53 1467.35 1253.53 1472.76 Q1253.53 1478.34 1250.06 1481.44 Q1246.59 1484.52 1240.27 1484.52 Q1238.09 1484.52 1235.83 1484.15 Q1233.58 1483.78 1231.17 1483.04 L1231.17 1478.34 Q1233.26 1479.48 1235.48 1480.03 Q1237.7 1480.59 1240.18 1480.59 Q1244.18 1480.59 1246.52 1478.48 Q1248.86 1476.38 1248.86 1472.76 Q1248.86 1469.15 1246.52 1467.05 Q1244.18 1464.94 1240.18 1464.94 Q1238.3 1464.94 1236.43 1465.36 Q1234.58 1465.77 1232.63 1466.65 L1232.63 1449.29 Z\" fill=\"#000000\" fill-rule=\"evenodd\" fill-opacity=\"1\" /><path clip-path=\"url(#clip030)\" d=\"M 0 0 M1268.6 1452.37 Q1264.99 1452.37 1263.16 1455.94 Q1261.36 1459.48 1261.36 1466.61 Q1261.36 1473.71 1263.16 1477.28 Q1264.99 1480.82 1268.6 1480.82 Q1272.24 1480.82 1274.04 1477.28 Q1275.87 1473.71 1275.87 1466.61 Q1275.87 1459.48 1274.04 1455.94 Q1272.24 1452.37 1268.6 1452.37 M1268.6 1448.67 Q1274.41 1448.67 1277.47 1453.27 Q1280.55 1457.86 1280.55 1466.61 Q1280.55 1475.33 1277.47 1479.94 Q1274.41 1484.52 1268.6 1484.52 Q1262.79 1484.52 1259.71 1479.94 Q1256.66 1475.33 1256.66 1466.61 Q1256.66 1457.86 1259.71 1453.27 Q1262.79 1448.67 1268.6 1448.67 Z\" fill=\"#000000\" fill-rule=\"evenodd\" fill-opacity=\"1\" /><path clip-path=\"url(#clip030)\" d=\"M 0 0 M1295.62 1452.37 Q1292.01 1452.37 1290.18 1455.94 Q1288.37 1459.48 1288.37 1466.61 Q1288.37 1473.71 1290.18 1477.28 Q1292.01 1480.82 1295.62 1480.82 Q1299.25 1480.82 1301.06 1477.28 Q1302.89 1473.71 1302.89 1466.61 Q1302.89 1459.48 1301.06 1455.94 Q1299.25 1452.37 1295.62 1452.37 M1295.62 1448.67 Q1301.43 1448.67 1304.48 1453.27 Q1307.56 1457.86 1307.56 1466.61 Q1307.56 1475.33 1304.48 1479.94 Q1301.43 1484.52 1295.62 1484.52 Q1289.81 1484.52 1286.73 1479.94 Q1283.67 1475.33 1283.67 1466.61 Q1283.67 1457.86 1286.73 1453.27 Q1289.81 1448.67 1295.62 1448.67 Z\" fill=\"#000000\" fill-rule=\"evenodd\" fill-opacity=\"1\" /><path clip-path=\"url(#clip030)\" d=\"M 0 0 M1758.42 1449.29 L1780.65 1449.29 L1780.65 1451.28 L1768.1 1483.85 L1763.22 1483.85 L1775.02 1453.23 L1758.42 1453.23 L1758.42 1449.29 Z\" fill=\"#000000\" fill-rule=\"evenodd\" fill-opacity=\"1\" /><path clip-path=\"url(#clip030)\" d=\"M 0 0 M1785.76 1449.29 L1804.12 1449.29 L1804.12 1453.23 L1790.04 1453.23 L1790.04 1461.7 Q1791.06 1461.35 1792.08 1461.19 Q1793.1 1461 1794.12 1461 Q1799.91 1461 1803.28 1464.18 Q1806.66 1467.35 1806.66 1472.76 Q1806.66 1478.34 1803.19 1481.44 Q1799.72 1484.52 1793.4 1484.52 Q1791.22 1484.52 1788.96 1484.15 Q1786.71 1483.78 1784.3 1483.04 L1784.3 1478.34 Q1786.39 1479.48 1788.61 1480.03 Q1790.83 1480.59 1793.31 1480.59 Q1797.31 1480.59 1799.65 1478.48 Q1801.99 1476.38 1801.99 1472.76 Q1801.99 1469.15 1799.65 1467.05 Q1797.31 1464.94 1793.31 1464.94 Q1791.43 1464.94 1789.56 1465.36 Q1787.71 1465.77 1785.76 1466.65 L1785.76 1449.29 Z\" fill=\"#000000\" fill-rule=\"evenodd\" fill-opacity=\"1\" /><path clip-path=\"url(#clip030)\" d=\"M 0 0 M1821.73 1452.37 Q1818.12 1452.37 1816.29 1455.94 Q1814.49 1459.48 1814.49 1466.61 Q1814.49 1473.71 1816.29 1477.28 Q1818.12 1480.82 1821.73 1480.82 Q1825.37 1480.82 1827.17 1477.28 Q1829 1473.71 1829 1466.61 Q1829 1459.48 1827.17 1455.94 Q1825.37 1452.37 1821.73 1452.37 M1821.73 1448.67 Q1827.54 1448.67 1830.6 1453.27 Q1833.68 1457.86 1833.68 1466.61 Q1833.68 1475.33 1830.6 1479.94 Q1827.54 1484.52 1821.73 1484.52 Q1815.92 1484.52 1812.85 1479.94 Q1809.79 1475.33 1809.79 1466.61 Q1809.79 1457.86 1812.85 1453.27 Q1815.92 1448.67 1821.73 1448.67 Z\" fill=\"#000000\" fill-rule=\"evenodd\" fill-opacity=\"1\" /><path clip-path=\"url(#clip030)\" d=\"M 0 0 M2272.6 1479.92 L2280.24 1479.92 L2280.24 1453.55 L2271.93 1455.22 L2271.93 1450.96 L2280.19 1449.29 L2284.86 1449.29 L2284.86 1479.92 L2292.5 1479.92 L2292.5 1483.85 L2272.6 1483.85 L2272.6 1479.92 Z\" fill=\"#000000\" fill-rule=\"evenodd\" fill-opacity=\"1\" /><path clip-path=\"url(#clip030)\" d=\"M 0 0 M2307.57 1452.37 Q2303.96 1452.37 2302.13 1455.94 Q2300.33 1459.48 2300.33 1466.61 Q2300.33 1473.71 2302.13 1477.28 Q2303.96 1480.82 2307.57 1480.82 Q2311.21 1480.82 2313.01 1477.28 Q2314.84 1473.71 2314.84 1466.61 Q2314.84 1459.48 2313.01 1455.94 Q2311.21 1452.37 2307.57 1452.37 M2307.57 1448.67 Q2313.38 1448.67 2316.44 1453.27 Q2319.52 1457.86 2319.52 1466.61 Q2319.52 1475.33 2316.44 1479.94 Q2313.38 1484.52 2307.57 1484.52 Q2301.76 1484.52 2298.68 1479.94 Q2295.63 1475.33 2295.63 1466.61 Q2295.63 1457.86 2298.68 1453.27 Q2301.76 1448.67 2307.57 1448.67 Z\" fill=\"#000000\" fill-rule=\"evenodd\" fill-opacity=\"1\" /><path clip-path=\"url(#clip030)\" d=\"M 0 0 M2334.59 1452.37 Q2330.98 1452.37 2329.15 1455.94 Q2327.34 1459.48 2327.34 1466.61 Q2327.34 1473.71 2329.15 1477.28 Q2330.98 1480.82 2334.59 1480.82 Q2338.22 1480.82 2340.03 1477.28 Q2341.86 1473.71 2341.86 1466.61 Q2341.86 1459.48 2340.03 1455.94 Q2338.22 1452.37 2334.59 1452.37 M2334.59 1448.67 Q2340.4 1448.67 2343.45 1453.27 Q2346.53 1457.86 2346.53 1466.61 Q2346.53 1475.33 2343.45 1479.94 Q2340.4 1484.52 2334.59 1484.52 Q2328.78 1484.52 2325.7 1479.94 Q2322.64 1475.33 2322.64 1466.61 Q2322.64 1457.86 2325.7 1453.27 Q2328.78 1448.67 2334.59 1448.67 Z\" fill=\"#000000\" fill-rule=\"evenodd\" fill-opacity=\"1\" /><path clip-path=\"url(#clip030)\" d=\"M 0 0 M2361.6 1452.37 Q2357.99 1452.37 2356.16 1455.94 Q2354.36 1459.48 2354.36 1466.61 Q2354.36 1473.71 2356.16 1477.28 Q2357.99 1480.82 2361.6 1480.82 Q2365.23 1480.82 2367.04 1477.28 Q2368.87 1473.71 2368.87 1466.61 Q2368.87 1459.48 2367.04 1455.94 Q2365.23 1452.37 2361.6 1452.37 M2361.6 1448.67 Q2367.41 1448.67 2370.47 1453.27 Q2373.54 1457.86 2373.54 1466.61 Q2373.54 1475.33 2370.47 1479.94 Q2367.41 1484.52 2361.6 1484.52 Q2355.79 1484.52 2352.71 1479.94 Q2349.66 1475.33 2349.66 1466.61 Q2349.66 1457.86 2352.71 1453.27 Q2355.79 1448.67 2361.6 1448.67 Z\" fill=\"#000000\" fill-rule=\"evenodd\" fill-opacity=\"1\" /><path clip-path=\"url(#clip030)\" d=\"M 0 0 M1109.95 1508.52 L1119.54 1508.52 L1131.66 1540.86 L1143.85 1508.52 L1153.43 1508.52 L1153.43 1556.04 L1147.16 1556.04 L1147.16 1514.32 L1134.91 1546.91 L1128.45 1546.91 L1116.19 1514.32 L1116.19 1556.04 L1109.95 1556.04 L1109.95 1508.52 Z\" fill=\"#000000\" fill-rule=\"evenodd\" fill-opacity=\"1\" /><path clip-path=\"url(#clip030)\" d=\"M 0 0 M1175.78 1538.12 Q1168.68 1538.12 1165.94 1539.75 Q1163.2 1541.37 1163.2 1545.29 Q1163.2 1548.4 1165.24 1550.25 Q1167.31 1552.07 1170.84 1552.07 Q1175.71 1552.07 1178.64 1548.63 Q1181.6 1545.16 1181.6 1539.43 L1181.6 1538.12 L1175.78 1538.12 M1187.46 1535.71 L1187.46 1556.04 L1181.6 1556.04 L1181.6 1550.63 Q1179.6 1553.88 1176.6 1555.44 Q1173.61 1556.97 1169.28 1556.97 Q1163.81 1556.97 1160.56 1553.91 Q1157.35 1550.82 1157.35 1545.67 Q1157.35 1539.65 1161.36 1536.6 Q1165.4 1533.54 1173.39 1533.54 L1181.6 1533.54 L1181.6 1532.97 Q1181.6 1528.93 1178.93 1526.73 Q1176.29 1524.5 1171.48 1524.5 Q1168.42 1524.5 1165.53 1525.23 Q1162.63 1525.97 1159.96 1527.43 L1159.96 1522.02 Q1163.17 1520.78 1166.2 1520.17 Q1169.22 1519.54 1172.08 1519.54 Q1179.82 1519.54 1183.64 1523.55 Q1187.46 1527.56 1187.46 1535.71 Z\" fill=\"#000000\" fill-rule=\"evenodd\" fill-opacity=\"1\" /><path clip-path=\"url(#clip030)\" d=\"M 0 0 M1199.39 1510.27 L1199.39 1520.4 L1211.46 1520.4 L1211.46 1524.95 L1199.39 1524.95 L1199.39 1544.3 Q1199.39 1548.66 1200.57 1549.9 Q1201.78 1551.14 1205.44 1551.14 L1211.46 1551.14 L1211.46 1556.04 L1205.44 1556.04 Q1198.66 1556.04 1196.08 1553.53 Q1193.5 1550.98 1193.5 1544.3 L1193.5 1524.95 L1189.21 1524.95 L1189.21 1520.4 L1193.5 1520.4 L1193.5 1510.27 L1199.39 1510.27 Z\" fill=\"#000000\" fill-rule=\"evenodd\" fill-opacity=\"1\" /><path clip-path=\"url(#clip030)\" d=\"M 0 0 M1238.26 1525.87 Q1237.27 1525.3 1236.09 1525.04 Q1234.95 1524.76 1233.55 1524.76 Q1228.58 1524.76 1225.91 1528 Q1223.26 1531.22 1223.26 1537.27 L1223.26 1556.04 L1217.38 1556.04 L1217.38 1520.4 L1223.26 1520.4 L1223.26 1525.93 Q1225.11 1522.69 1228.07 1521.13 Q1231.03 1519.54 1235.26 1519.54 Q1235.87 1519.54 1236.6 1519.63 Q1237.33 1519.7 1238.22 1519.85 L1238.26 1525.87 Z\" fill=\"#000000\" fill-rule=\"evenodd\" fill-opacity=\"1\" /><path clip-path=\"url(#clip030)\" d=\"M 0 0 M1244.4 1520.4 L1250.26 1520.4 L1250.26 1556.04 L1244.4 1556.04 L1244.4 1520.4 M1244.4 1506.52 L1250.26 1506.52 L1250.26 1513.93 L1244.4 1513.93 L1244.4 1506.52 Z\" fill=\"#000000\" fill-rule=\"evenodd\" fill-opacity=\"1\" /><path clip-path=\"url(#clip030)\" d=\"M 0 0 M1286.03 1520.4 L1273.14 1537.74 L1286.7 1556.04 L1279.79 1556.04 L1269.42 1542.04 L1259.04 1556.04 L1252.13 1556.04 L1265.98 1537.39 L1253.31 1520.4 L1260.22 1520.4 L1269.67 1533.1 L1279.12 1520.4 L1286.03 1520.4 Z\" fill=\"#000000\" fill-rule=\"evenodd\" fill-opacity=\"1\" /><path clip-path=\"url(#clip030)\" d=\"M 0 0 M1336.29 1521.45 L1336.29 1526.98 Q1333.81 1525.71 1331.13 1525.07 Q1328.46 1524.44 1325.59 1524.44 Q1321.23 1524.44 1319.04 1525.77 Q1316.87 1527.11 1316.87 1529.79 Q1316.87 1531.82 1318.43 1533 Q1319.99 1534.15 1324.7 1535.2 L1326.71 1535.64 Q1332.95 1536.98 1335.56 1539.43 Q1338.2 1541.85 1338.2 1546.21 Q1338.2 1551.17 1334.25 1554.07 Q1330.34 1556.97 1323.46 1556.97 Q1320.6 1556.97 1317.48 1556.39 Q1314.39 1555.85 1310.95 1554.74 L1310.95 1548.69 Q1314.2 1550.38 1317.35 1551.24 Q1320.5 1552.07 1323.59 1552.07 Q1327.73 1552.07 1329.95 1550.66 Q1332.18 1549.23 1332.18 1546.65 Q1332.18 1544.27 1330.56 1542.99 Q1328.97 1541.72 1323.52 1540.54 L1321.49 1540.07 Q1316.04 1538.92 1313.63 1536.56 Q1311.21 1534.18 1311.21 1530.04 Q1311.21 1525.01 1314.77 1522.27 Q1318.34 1519.54 1324.89 1519.54 Q1328.14 1519.54 1331 1520.01 Q1333.87 1520.49 1336.29 1521.45 Z\" fill=\"#000000\" fill-rule=\"evenodd\" fill-opacity=\"1\" /><path clip-path=\"url(#clip030)\" d=\"M 0 0 M1344.34 1520.4 L1350.2 1520.4 L1350.2 1556.04 L1344.34 1556.04 L1344.34 1520.4 M1344.34 1506.52 L1350.2 1506.52 L1350.2 1513.93 L1344.34 1513.93 L1344.34 1506.52 Z\" fill=\"#000000\" fill-rule=\"evenodd\" fill-opacity=\"1\" /><path clip-path=\"url(#clip030)\" d=\"M 0 0 M1353.79 1520.4 L1381.61 1520.4 L1381.61 1525.74 L1359.59 1551.37 L1381.61 1551.37 L1381.61 1556.04 L1353 1556.04 L1353 1550.7 L1375.02 1525.07 L1353.79 1525.07 L1353.79 1520.4 Z\" fill=\"#000000\" fill-rule=\"evenodd\" fill-opacity=\"1\" /><path clip-path=\"url(#clip030)\" d=\"M 0 0 M1418.25 1536.76 L1418.25 1539.62 L1391.32 1539.62 Q1391.7 1545.67 1394.95 1548.85 Q1398.23 1552 1404.05 1552 Q1407.42 1552 1410.58 1551.17 Q1413.76 1550.35 1416.88 1548.69 L1416.88 1554.23 Q1413.73 1555.57 1410.42 1556.27 Q1407.11 1556.97 1403.7 1556.97 Q1395.17 1556.97 1390.17 1552 Q1385.21 1547.04 1385.21 1538.57 Q1385.21 1529.82 1389.92 1524.69 Q1394.66 1519.54 1402.68 1519.54 Q1409.88 1519.54 1414.04 1524.18 Q1418.25 1528.8 1418.25 1536.76 M1412.39 1535.04 Q1412.33 1530.23 1409.68 1527.37 Q1407.07 1524.5 1402.75 1524.5 Q1397.84 1524.5 1394.88 1527.27 Q1391.96 1530.04 1391.51 1535.07 L1412.39 1535.04 Z\" fill=\"#000000\" fill-rule=\"evenodd\" fill-opacity=\"1\" /><polyline clip-path=\"url(#clip032)\" style=\"stroke:#000000; stroke-width:2; stroke-opacity:0.1; fill:none\" points=\"\n",
       "  175.445,1387 2352.76,1387 \n",
       "  \"/>\n",
       "<polyline clip-path=\"url(#clip032)\" style=\"stroke:#000000; stroke-width:2; stroke-opacity:0.1; fill:none\" points=\"\n",
       "  175.445,1106.11 2352.76,1106.11 \n",
       "  \"/>\n",
       "<polyline clip-path=\"url(#clip032)\" style=\"stroke:#000000; stroke-width:2; stroke-opacity:0.1; fill:none\" points=\"\n",
       "  175.445,825.233 2352.76,825.233 \n",
       "  \"/>\n",
       "<polyline clip-path=\"url(#clip032)\" style=\"stroke:#000000; stroke-width:2; stroke-opacity:0.1; fill:none\" points=\"\n",
       "  175.445,544.353 2352.76,544.353 \n",
       "  \"/>\n",
       "<polyline clip-path=\"url(#clip032)\" style=\"stroke:#000000; stroke-width:2; stroke-opacity:0.1; fill:none\" points=\"\n",
       "  175.445,263.472 2352.76,263.472 \n",
       "  \"/>\n",
       "<polyline clip-path=\"url(#clip030)\" style=\"stroke:#000000; stroke-width:4; stroke-opacity:1; fill:none\" points=\"\n",
       "  175.445,1423.18 175.445,183.952 \n",
       "  \"/>\n",
       "<polyline clip-path=\"url(#clip030)\" style=\"stroke:#000000; stroke-width:4; stroke-opacity:1; fill:none\" points=\"\n",
       "  175.445,1387 201.573,1387 \n",
       "  \"/>\n",
       "<polyline clip-path=\"url(#clip030)\" style=\"stroke:#000000; stroke-width:4; stroke-opacity:1; fill:none\" points=\"\n",
       "  175.445,1106.11 201.573,1106.11 \n",
       "  \"/>\n",
       "<polyline clip-path=\"url(#clip030)\" style=\"stroke:#000000; stroke-width:4; stroke-opacity:1; fill:none\" points=\"\n",
       "  175.445,825.233 201.573,825.233 \n",
       "  \"/>\n",
       "<polyline clip-path=\"url(#clip030)\" style=\"stroke:#000000; stroke-width:4; stroke-opacity:1; fill:none\" points=\"\n",
       "  175.445,544.353 201.573,544.353 \n",
       "  \"/>\n",
       "<polyline clip-path=\"url(#clip030)\" style=\"stroke:#000000; stroke-width:4; stroke-opacity:1; fill:none\" points=\"\n",
       "  175.445,263.472 201.573,263.472 \n",
       "  \"/>\n",
       "<path clip-path=\"url(#clip030)\" d=\"M 0 0 M127.501 1372.79 Q123.89 1372.79 122.061 1376.36 Q120.255 1379.9 120.255 1387.03 Q120.255 1394.14 122.061 1397.7 Q123.89 1401.24 127.501 1401.24 Q131.135 1401.24 132.941 1397.7 Q134.769 1394.14 134.769 1387.03 Q134.769 1379.9 132.941 1376.36 Q131.135 1372.79 127.501 1372.79 M127.501 1369.09 Q133.311 1369.09 136.367 1373.7 Q139.445 1378.28 139.445 1387.03 Q139.445 1395.76 136.367 1400.36 Q133.311 1404.95 127.501 1404.95 Q121.691 1404.95 118.612 1400.36 Q115.556 1395.76 115.556 1387.03 Q115.556 1378.28 118.612 1373.7 Q121.691 1369.09 127.501 1369.09 Z\" fill=\"#000000\" fill-rule=\"evenodd\" fill-opacity=\"1\" /><path clip-path=\"url(#clip030)\" d=\"M 0 0 M119.538 1119.46 L127.177 1119.46 L127.177 1093.09 L118.867 1094.76 L118.867 1090.5 L127.13 1088.83 L131.806 1088.83 L131.806 1119.46 L139.445 1119.46 L139.445 1123.39 L119.538 1123.39 L119.538 1119.46 Z\" fill=\"#000000\" fill-rule=\"evenodd\" fill-opacity=\"1\" /><path clip-path=\"url(#clip030)\" d=\"M 0 0 M123.126 838.578 L139.445 838.578 L139.445 842.513 L117.501 842.513 L117.501 838.578 Q120.163 835.824 124.746 831.194 Q129.353 826.541 130.533 825.199 Q132.779 822.676 133.658 820.939 Q134.561 819.18 134.561 817.49 Q134.561 814.736 132.617 813 Q130.695 811.264 127.593 811.264 Q125.394 811.264 122.941 812.027 Q120.51 812.791 117.732 814.342 L117.732 809.62 Q120.556 808.486 123.01 807.907 Q125.464 807.328 127.501 807.328 Q132.871 807.328 136.066 810.014 Q139.26 812.699 139.26 817.189 Q139.26 819.319 138.45 821.24 Q137.663 823.139 135.556 825.731 Q134.978 826.402 131.876 829.62 Q128.774 832.814 123.126 838.578 Z\" fill=\"#000000\" fill-rule=\"evenodd\" fill-opacity=\"1\" /><path clip-path=\"url(#clip030)\" d=\"M 0 0 M132.316 542.998 Q135.672 543.716 137.547 545.985 Q139.445 548.253 139.445 551.586 Q139.445 556.702 135.927 559.503 Q132.408 562.304 125.927 562.304 Q123.751 562.304 121.436 561.864 Q119.144 561.447 116.691 560.591 L116.691 556.077 Q118.635 557.211 120.95 557.79 Q123.265 558.369 125.788 558.369 Q130.186 558.369 132.478 556.633 Q134.792 554.897 134.792 551.586 Q134.792 548.531 132.64 546.818 Q130.51 545.082 126.691 545.082 L122.663 545.082 L122.663 541.239 L126.876 541.239 Q130.325 541.239 132.154 539.873 Q133.982 538.485 133.982 535.892 Q133.982 533.23 132.084 531.818 Q130.209 530.383 126.691 530.383 Q124.769 530.383 122.57 530.799 Q120.371 531.216 117.732 532.096 L117.732 527.929 Q120.394 527.188 122.709 526.818 Q125.047 526.448 127.107 526.448 Q132.431 526.448 135.533 528.878 Q138.635 531.286 138.635 535.406 Q138.635 538.276 136.992 540.267 Q135.348 542.235 132.316 542.998 Z\" fill=\"#000000\" fill-rule=\"evenodd\" fill-opacity=\"1\" /><path clip-path=\"url(#clip030)\" d=\"M 0 0 M129.862 250.266 L118.056 268.715 L129.862 268.715 L129.862 250.266 M128.635 246.192 L134.515 246.192 L134.515 268.715 L139.445 268.715 L139.445 272.604 L134.515 272.604 L134.515 280.752 L129.862 280.752 L129.862 272.604 L114.26 272.604 L114.26 268.09 L128.635 246.192 Z\" fill=\"#000000\" fill-rule=\"evenodd\" fill-opacity=\"1\" /><path clip-path=\"url(#clip030)\" d=\"M 0 0 M44.8447 1000.87 Q44.8447 1007.87 50.0645 1012.01 Q55.2844 1016.12 64.2919 1016.12 Q73.2675 1016.12 78.4874 1012.01 Q83.7073 1007.87 83.7073 1000.87 Q83.7073 993.869 78.4874 989.795 Q73.2675 985.689 64.2919 985.689 Q55.2844 985.689 50.0645 989.795 Q44.8447 993.869 44.8447 1000.87 M39.6248 1000.87 Q39.6248 990.877 46.3406 984.893 Q53.0246 978.909 64.2919 978.909 Q75.5274 978.909 82.2432 984.893 Q88.9272 990.877 88.9272 1000.87 Q88.9272 1010.9 82.2432 1016.91 Q75.5592 1022.9 64.2919 1022.9 Q53.0246 1022.9 46.3406 1016.91 Q39.6248 1010.9 39.6248 1000.87 Z\" fill=\"#000000\" fill-rule=\"evenodd\" fill-opacity=\"1\" /><path clip-path=\"url(#clip030)\" d=\"M 0 0 M82.657 967.101 L101.563 967.101 L101.563 972.989 L52.3562 972.989 L52.3562 967.101 L57.7671 967.101 Q54.5842 965.255 53.0564 962.454 Q51.4968 959.621 51.4968 955.706 Q51.4968 949.213 56.6531 945.171 Q61.8093 941.097 70.212 941.097 Q78.6147 941.097 83.771 945.171 Q88.9272 949.213 88.9272 955.706 Q88.9272 959.621 87.3994 962.454 Q85.8398 965.255 82.657 967.101 M70.212 947.176 Q63.7508 947.176 60.0905 949.85 Q56.3984 952.492 56.3984 957.139 Q56.3984 961.786 60.0905 964.459 Q63.7508 967.101 70.212 967.101 Q76.6732 967.101 80.3653 964.459 Q84.0256 961.786 84.0256 957.139 Q84.0256 952.492 80.3653 949.85 Q76.6732 947.176 70.212 947.176 Z\" fill=\"#000000\" fill-rule=\"evenodd\" fill-opacity=\"1\" /><path clip-path=\"url(#clip030)\" d=\"M 0 0 M68.7161 904.462 L71.5806 904.462 L71.5806 931.389 Q77.6281 931.007 80.8109 927.761 Q83.9619 924.483 83.9619 918.658 Q83.9619 915.284 83.1344 912.133 Q82.3069 908.95 80.6518 905.831 L86.1899 905.831 Q87.5267 908.982 88.227 912.292 Q88.9272 915.602 88.9272 919.008 Q88.9272 927.538 83.9619 932.535 Q78.9967 937.5 70.5303 937.5 Q61.7774 937.5 56.6531 932.79 Q51.4968 928.047 51.4968 920.027 Q51.4968 912.833 56.1438 908.664 Q60.7589 904.462 68.7161 904.462 M66.9973 910.319 Q62.1912 910.383 59.3266 913.024 Q56.4621 915.634 56.4621 919.963 Q56.4621 924.865 59.2312 927.825 Q62.0002 930.753 67.0292 931.198 L66.9973 910.319 Z\" fill=\"#000000\" fill-rule=\"evenodd\" fill-opacity=\"1\" /><path clip-path=\"url(#clip030)\" d=\"M 0 0 M57.8307 877.663 Q57.2578 878.649 57.0032 879.827 Q56.7167 880.973 56.7167 882.373 Q56.7167 887.339 59.9632 890.012 Q63.1779 892.654 69.2253 892.654 L88.0042 892.654 L88.0042 898.542 L52.3562 898.542 L52.3562 892.654 L57.8944 892.654 Q54.6479 890.808 53.0883 887.848 Q51.4968 884.888 51.4968 880.655 Q51.4968 880.05 51.5923 879.318 Q51.656 878.586 51.8151 877.695 L57.8307 877.663 Z\" fill=\"#000000\" fill-rule=\"evenodd\" fill-opacity=\"1\" /><path clip-path=\"url(#clip030)\" d=\"M 0 0 M70.0847 855.319 Q70.0847 862.417 71.7079 865.154 Q73.3312 867.891 77.2461 867.891 Q80.3653 867.891 82.2114 865.854 Q84.0256 863.786 84.0256 860.253 Q84.0256 855.383 80.5881 852.455 Q77.1188 849.495 71.3897 849.495 L70.0847 849.495 L70.0847 855.319 M67.6657 843.638 L88.0042 843.638 L88.0042 849.495 L82.5933 849.495 Q85.8398 851.5 87.3994 854.492 Q88.9272 857.484 88.9272 861.812 Q88.9272 867.287 85.8716 870.533 Q82.7843 873.748 77.6281 873.748 Q71.6125 873.748 68.5569 869.738 Q65.5014 865.695 65.5014 857.706 L65.5014 849.495 L64.9285 849.495 Q60.8862 849.495 58.6901 852.168 Q56.4621 854.81 56.4621 859.616 Q56.4621 862.672 57.1941 865.568 Q57.9262 868.464 59.3903 871.138 L53.9795 871.138 Q52.7381 867.923 52.1334 864.9 Q51.4968 861.876 51.4968 859.011 Q51.4968 851.277 55.5072 847.458 Q59.5176 843.638 67.6657 843.638 Z\" fill=\"#000000\" fill-rule=\"evenodd\" fill-opacity=\"1\" /><path clip-path=\"url(#clip030)\" d=\"M 0 0 M42.2347 831.702 L52.3562 831.702 L52.3562 819.639 L56.9077 819.639 L56.9077 831.702 L76.2594 831.702 Q80.6199 831.702 81.8613 830.525 Q83.1026 829.315 83.1026 825.655 L83.1026 819.639 L88.0042 819.639 L88.0042 825.655 Q88.0042 832.434 85.4897 835.013 Q82.9434 837.591 76.2594 837.591 L56.9077 837.591 L56.9077 841.888 L52.3562 841.888 L52.3562 837.591 L42.2347 837.591 L42.2347 831.702 Z\" fill=\"#000000\" fill-rule=\"evenodd\" fill-opacity=\"1\" /><path clip-path=\"url(#clip030)\" d=\"M 0 0 M52.3562 813.496 L52.3562 807.64 L88.0042 807.64 L88.0042 813.496 L52.3562 813.496 M38.479 813.496 L38.479 807.64 L45.895 807.64 L45.895 813.496 L38.479 813.496 Z\" fill=\"#000000\" fill-rule=\"evenodd\" fill-opacity=\"1\" /><path clip-path=\"url(#clip030)\" d=\"M 0 0 M56.4621 787.684 Q56.4621 792.394 60.1542 795.131 Q63.8145 797.869 70.212 797.869 Q76.6095 797.869 80.3017 795.163 Q83.9619 792.426 83.9619 787.684 Q83.9619 783.005 80.2698 780.267 Q76.5777 777.53 70.212 777.53 Q63.8781 777.53 60.186 780.267 Q56.4621 783.005 56.4621 787.684 M51.4968 787.684 Q51.4968 780.045 56.4621 775.684 Q61.4273 771.324 70.212 771.324 Q78.9649 771.324 83.9619 775.684 Q88.9272 780.045 88.9272 787.684 Q88.9272 795.354 83.9619 799.715 Q78.9649 804.043 70.212 804.043 Q61.4273 804.043 56.4621 799.715 Q51.4968 795.354 51.4968 787.684 Z\" fill=\"#000000\" fill-rule=\"evenodd\" fill-opacity=\"1\" /><path clip-path=\"url(#clip030)\" d=\"M 0 0 M66.4881 735.548 L88.0042 735.548 L88.0042 741.405 L66.679 741.405 Q61.6183 741.405 59.1038 743.378 Q56.5894 745.352 56.5894 749.298 Q56.5894 754.041 59.6131 756.778 Q62.6368 759.515 67.8567 759.515 L88.0042 759.515 L88.0042 765.404 L52.3562 765.404 L52.3562 759.515 L57.8944 759.515 Q54.6797 757.415 53.0883 754.582 Q51.4968 751.717 51.4968 747.993 Q51.4968 741.85 55.3163 738.699 Q59.1038 735.548 66.4881 735.548 Z\" fill=\"#000000\" fill-rule=\"evenodd\" fill-opacity=\"1\" /><path clip-path=\"url(#clip030)\" d=\"M 0 0 M42.2347 702.892 L52.3562 702.892 L52.3562 690.829 L56.9077 690.829 L56.9077 702.892 L76.2594 702.892 Q80.6199 702.892 81.8613 701.715 Q83.1026 700.505 83.1026 696.845 L83.1026 690.829 L88.0042 690.829 L88.0042 696.845 Q88.0042 703.624 85.4897 706.203 Q82.9434 708.781 76.2594 708.781 L56.9077 708.781 L56.9077 713.077 L52.3562 713.077 L52.3562 708.781 L42.2347 708.781 L42.2347 702.892 Z\" fill=\"#000000\" fill-rule=\"evenodd\" fill-opacity=\"1\" /><path clip-path=\"url(#clip030)\" d=\"M 0 0 M52.3562 684.686 L52.3562 678.83 L88.0042 678.83 L88.0042 684.686 L52.3562 684.686 M38.479 684.686 L38.479 678.83 L45.895 678.83 L45.895 684.686 L38.479 684.686 Z\" fill=\"#000000\" fill-rule=\"evenodd\" fill-opacity=\"1\" /><path clip-path=\"url(#clip030)\" d=\"M 0 0 M59.1993 644.933 Q55.2526 642.736 53.3747 639.681 Q51.4968 636.625 51.4968 632.488 Q51.4968 626.918 55.4117 623.894 Q59.2948 620.87 66.4881 620.87 L88.0042 620.87 L88.0042 626.758 L66.679 626.758 Q61.5546 626.758 59.072 628.573 Q56.5894 630.387 56.5894 634.111 Q56.5894 638.662 59.6131 641.304 Q62.6368 643.946 67.8567 643.946 L88.0042 643.946 L88.0042 649.834 L66.679 649.834 Q61.5228 649.834 59.072 651.648 Q56.5894 653.463 56.5894 657.25 Q56.5894 661.738 59.6449 664.38 Q62.6686 667.022 67.8567 667.022 L88.0042 667.022 L88.0042 672.91 L52.3562 672.91 L52.3562 667.022 L57.8944 667.022 Q54.616 665.016 53.0564 662.215 Q51.4968 659.415 51.4968 655.563 Q51.4968 651.68 53.4702 648.975 Q55.4436 646.238 59.1993 644.933 Z\" fill=\"#000000\" fill-rule=\"evenodd\" fill-opacity=\"1\" /><path clip-path=\"url(#clip030)\" d=\"M 0 0 M68.7161 584.236 L71.5806 584.236 L71.5806 611.163 Q77.6281 610.781 80.8109 607.534 Q83.9619 604.256 83.9619 598.431 Q83.9619 595.057 83.1344 591.906 Q82.3069 588.723 80.6518 585.604 L86.1899 585.604 Q87.5267 588.755 88.227 592.065 Q88.9272 595.376 88.9272 598.781 Q88.9272 607.311 83.9619 612.308 Q78.9967 617.274 70.5303 617.274 Q61.7774 617.274 56.6531 612.563 Q51.4968 607.821 51.4968 599.8 Q51.4968 592.606 56.1438 588.437 Q60.7589 584.236 68.7161 584.236 M66.9973 590.092 Q62.1912 590.156 59.3266 592.797 Q56.4621 595.407 56.4621 599.736 Q56.4621 604.638 59.2312 607.598 Q62.0002 610.526 67.0292 610.972 L66.9973 590.092 Z\" fill=\"#000000\" fill-rule=\"evenodd\" fill-opacity=\"1\" /><path clip-path=\"url(#clip030)\" d=\"M 0 0 M650.854 12.096 L702.017 12.096 L702.017 18.9825 L680.548 18.9825 L680.548 72.576 L672.324 72.576 L672.324 18.9825 L650.854 18.9825 L650.854 12.096 Z\" fill=\"#000000\" fill-rule=\"evenodd\" fill-opacity=\"1\" /><path clip-path=\"url(#clip030)\" d=\"M 0 0 M707.284 27.2059 L714.737 27.2059 L714.737 72.576 L707.284 72.576 L707.284 27.2059 M707.284 9.54393 L714.737 9.54393 L714.737 18.9825 L707.284 18.9825 L707.284 9.54393 Z\" fill=\"#000000\" fill-rule=\"evenodd\" fill-opacity=\"1\" /><path clip-path=\"url(#clip030)\" d=\"M 0 0 M757.879 35.9153 Q760.674 30.8922 764.563 28.5022 Q768.452 26.1121 773.718 26.1121 Q780.807 26.1121 784.656 31.0947 Q788.504 36.0368 788.504 45.1919 L788.504 72.576 L781.01 72.576 L781.01 45.4349 Q781.01 38.913 778.701 35.7533 Q776.392 32.5936 771.652 32.5936 Q765.86 32.5936 762.497 36.4419 Q759.135 40.2903 759.135 46.9338 L759.135 72.576 L751.641 72.576 L751.641 45.4349 Q751.641 38.8725 749.332 35.7533 Q747.023 32.5936 742.202 32.5936 Q736.491 32.5936 733.128 36.4824 Q729.766 40.3308 729.766 46.9338 L729.766 72.576 L722.272 72.576 L722.272 27.2059 L729.766 27.2059 L729.766 34.2544 Q732.318 30.082 735.883 28.0971 Q739.448 26.1121 744.349 26.1121 Q749.291 26.1121 752.735 28.6237 Q756.218 31.1352 757.879 35.9153 Z\" fill=\"#000000\" fill-rule=\"evenodd\" fill-opacity=\"1\" /><path clip-path=\"url(#clip030)\" d=\"M 0 0 M835.13 48.0275 L835.13 51.6733 L800.859 51.6733 Q801.346 59.3701 805.477 63.421 Q809.65 67.4314 817.063 67.4314 Q821.357 67.4314 825.367 66.3781 Q829.418 65.3249 833.388 63.2184 L833.388 70.267 Q829.378 71.9684 825.165 72.8596 Q820.952 73.7508 816.617 73.7508 Q805.761 73.7508 799.401 67.4314 Q793.082 61.1119 793.082 50.3365 Q793.082 39.1965 799.077 32.6746 Q805.113 26.1121 815.321 26.1121 Q824.476 26.1121 829.783 32.0264 Q835.13 37.9003 835.13 48.0275 M827.676 45.84 Q827.595 39.7232 824.233 36.0774 Q820.911 32.4315 815.402 32.4315 Q809.164 32.4315 805.396 35.9558 Q801.67 39.4801 801.102 45.8805 L827.676 45.84 Z\" fill=\"#000000\" fill-rule=\"evenodd\" fill-opacity=\"1\" /><path clip-path=\"url(#clip030)\" d=\"M 0 0 M886.901 32.4315 Q880.905 32.4315 877.421 37.1306 Q873.938 41.7891 873.938 49.9314 Q873.938 58.0738 877.381 62.7728 Q880.865 67.4314 886.901 67.4314 Q892.855 67.4314 896.339 62.7323 Q899.823 58.0333 899.823 49.9314 Q899.823 41.8701 896.339 37.1711 Q892.855 32.4315 886.901 32.4315 M886.901 26.1121 Q896.623 26.1121 902.173 32.4315 Q907.722 38.7509 907.722 49.9314 Q907.722 61.0714 902.173 67.4314 Q896.623 73.7508 886.901 73.7508 Q877.138 73.7508 871.588 67.4314 Q866.079 61.0714 866.079 49.9314 Q866.079 38.7509 871.588 32.4315 Q877.138 26.1121 886.901 26.1121 Z\" fill=\"#000000\" fill-rule=\"evenodd\" fill-opacity=\"1\" /><path clip-path=\"url(#clip030)\" d=\"M 0 0 M938.509 9.54393 L938.509 15.7418 L931.38 15.7418 Q927.369 15.7418 925.789 17.3622 Q924.25 18.9825 924.25 23.1955 L924.25 27.2059 L936.524 27.2059 L936.524 32.9987 L924.25 32.9987 L924.25 72.576 L916.756 72.576 L916.756 32.9987 L909.626 32.9987 L909.626 27.2059 L916.756 27.2059 L916.756 24.0462 Q916.756 16.471 920.28 13.0277 Q923.804 9.54393 931.461 9.54393 L938.509 9.54393 Z\" fill=\"#000000\" fill-rule=\"evenodd\" fill-opacity=\"1\" /><path clip-path=\"url(#clip030)\" d=\"M 0 0 M1008.02 35.9153 Q1010.82 30.8922 1014.71 28.5022 Q1018.6 26.1121 1023.86 26.1121 Q1030.95 26.1121 1034.8 31.0947 Q1038.65 36.0368 1038.65 45.1919 L1038.65 72.576 L1031.15 72.576 L1031.15 45.4349 Q1031.15 38.913 1028.84 35.7533 Q1026.54 32.5936 1021.8 32.5936 Q1016 32.5936 1012.64 36.4419 Q1009.28 40.2903 1009.28 46.9338 L1009.28 72.576 L1001.78 72.576 L1001.78 45.4349 Q1001.78 38.8725 999.475 35.7533 Q997.166 32.5936 992.346 32.5936 Q986.634 32.5936 983.272 36.4824 Q979.909 40.3308 979.909 46.9338 L979.909 72.576 L972.415 72.576 L972.415 27.2059 L979.909 27.2059 L979.909 34.2544 Q982.461 30.082 986.026 28.0971 Q989.591 26.1121 994.493 26.1121 Q999.435 26.1121 1002.88 28.6237 Q1006.36 31.1352 1008.02 35.9153 Z\" fill=\"#000000\" fill-rule=\"evenodd\" fill-opacity=\"1\" /><path clip-path=\"url(#clip030)\" d=\"M 0 0 M1045.7 54.671 L1045.7 27.2059 L1053.15 27.2059 L1053.15 54.3874 Q1053.15 60.8284 1055.66 64.0691 Q1058.17 67.2693 1063.2 67.2693 Q1069.23 67.2693 1072.72 63.421 Q1076.24 59.5726 1076.24 52.9291 L1076.24 27.2059 L1083.69 27.2059 L1083.69 72.576 L1076.24 72.576 L1076.24 65.6084 Q1073.53 69.7404 1069.92 71.7658 Q1066.36 73.7508 1061.62 73.7508 Q1053.8 73.7508 1049.75 68.8897 Q1045.7 64.0286 1045.7 54.671 M1064.45 26.1121 L1064.45 26.1121 Z\" fill=\"#000000\" fill-rule=\"evenodd\" fill-opacity=\"1\" /><path clip-path=\"url(#clip030)\" d=\"M 0 0 M1091.51 9.54393 L1098.97 9.54393 L1098.97 72.576 L1091.51 72.576 L1091.51 9.54393 Z\" fill=\"#000000\" fill-rule=\"evenodd\" fill-opacity=\"1\" /><path clip-path=\"url(#clip030)\" d=\"M 0 0 M1114.16 14.324 L1114.16 27.2059 L1129.51 27.2059 L1129.51 32.9987 L1114.16 32.9987 L1114.16 57.6282 Q1114.16 63.1779 1115.66 64.7578 Q1117.19 66.3376 1121.85 66.3376 L1129.51 66.3376 L1129.51 72.576 L1121.85 72.576 Q1113.22 72.576 1109.94 69.3758 Q1106.66 66.1351 1106.66 57.6282 L1106.66 32.9987 L1101.19 32.9987 L1101.19 27.2059 L1106.66 27.2059 L1106.66 14.324 L1114.16 14.324 Z\" fill=\"#000000\" fill-rule=\"evenodd\" fill-opacity=\"1\" /><path clip-path=\"url(#clip030)\" d=\"M 0 0 M1137.33 27.2059 L1144.78 27.2059 L1144.78 72.576 L1137.33 72.576 L1137.33 27.2059 M1137.33 9.54393 L1144.78 9.54393 L1144.78 18.9825 L1137.33 18.9825 L1137.33 9.54393 Z\" fill=\"#000000\" fill-rule=\"evenodd\" fill-opacity=\"1\" /><path clip-path=\"url(#clip030)\" d=\"M 0 0 M1159.81 65.7705 L1159.81 89.8329 L1152.32 89.8329 L1152.32 27.2059 L1159.81 27.2059 L1159.81 34.0924 Q1162.16 30.0415 1165.72 28.0971 Q1169.33 26.1121 1174.31 26.1121 Q1182.58 26.1121 1187.72 32.6746 Q1192.91 39.2371 1192.91 49.9314 Q1192.91 60.6258 1187.72 67.1883 Q1182.58 73.7508 1174.31 73.7508 Q1169.33 73.7508 1165.72 71.8063 Q1162.16 69.8214 1159.81 65.7705 M1185.17 49.9314 Q1185.17 41.7081 1181.77 37.0496 Q1178.4 32.3505 1172.49 32.3505 Q1166.58 32.3505 1163.17 37.0496 Q1159.81 41.7081 1159.81 49.9314 Q1159.81 58.1548 1163.17 62.8538 Q1166.58 67.5124 1172.49 67.5124 Q1178.4 67.5124 1181.77 62.8538 Q1185.17 58.1548 1185.17 49.9314 Z\" fill=\"#000000\" fill-rule=\"evenodd\" fill-opacity=\"1\" /><path clip-path=\"url(#clip030)\" d=\"M 0 0 M1200.72 9.54393 L1208.18 9.54393 L1208.18 72.576 L1200.72 72.576 L1200.72 9.54393 Z\" fill=\"#000000\" fill-rule=\"evenodd\" fill-opacity=\"1\" /><path clip-path=\"url(#clip030)\" d=\"M 0 0 M1234.87 76.7889 Q1231.71 84.8907 1228.72 87.3618 Q1225.72 89.8329 1220.7 89.8329 L1214.74 89.8329 L1214.74 83.5945 L1219.12 83.5945 Q1222.19 83.5945 1223.9 82.1361 Q1225.6 80.6778 1227.66 75.2496 L1229 71.8468 L1210.65 27.2059 L1218.55 27.2059 L1232.73 62.6918 L1246.9 27.2059 L1254.8 27.2059 L1234.87 76.7889 Z\" fill=\"#000000\" fill-rule=\"evenodd\" fill-opacity=\"1\" /><path clip-path=\"url(#clip030)\" d=\"M 0 0 M1262.62 27.2059 L1270.08 27.2059 L1270.08 72.576 L1262.62 72.576 L1262.62 27.2059 M1262.62 9.54393 L1270.08 9.54393 L1270.08 18.9825 L1262.62 18.9825 L1262.62 9.54393 Z\" fill=\"#000000\" fill-rule=\"evenodd\" fill-opacity=\"1\" /><path clip-path=\"url(#clip030)\" d=\"M 0 0 M1315.61 45.1919 L1315.61 72.576 L1308.15 72.576 L1308.15 45.4349 Q1308.15 38.994 1305.64 35.7938 Q1303.13 32.5936 1298.11 32.5936 Q1292.07 32.5936 1288.59 36.4419 Q1285.1 40.2903 1285.1 46.9338 L1285.1 72.576 L1277.61 72.576 L1277.61 27.2059 L1285.1 27.2059 L1285.1 34.2544 Q1287.78 30.163 1291.38 28.1376 Q1295.03 26.1121 1299.77 26.1121 Q1307.59 26.1121 1311.6 30.9732 Q1315.61 35.7938 1315.61 45.1919 Z\" fill=\"#000000\" fill-rule=\"evenodd\" fill-opacity=\"1\" /><path clip-path=\"url(#clip030)\" d=\"M 0 0 M1353.28 49.3643 Q1353.28 41.2625 1349.92 36.8065 Q1346.6 32.3505 1340.56 32.3505 Q1334.57 32.3505 1331.2 36.8065 Q1327.88 41.2625 1327.88 49.3643 Q1327.88 57.4256 1331.2 61.8816 Q1334.57 66.3376 1340.56 66.3376 Q1346.6 66.3376 1349.92 61.8816 Q1353.28 57.4256 1353.28 49.3643 M1360.73 66.9452 Q1360.73 78.5308 1355.59 84.1616 Q1350.45 89.8329 1339.83 89.8329 Q1335.9 89.8329 1332.42 89.2252 Q1328.94 88.6581 1325.65 87.4428 L1325.65 80.1917 Q1328.94 81.9741 1332.14 82.8248 Q1335.34 83.6755 1338.66 83.6755 Q1345.99 83.6755 1349.64 79.8271 Q1353.28 76.0193 1353.28 68.282 L1353.28 64.5957 Q1350.97 68.6061 1347.37 70.5911 Q1343.76 72.576 1338.74 72.576 Q1330.39 72.576 1325.29 66.2161 Q1320.19 59.8562 1320.19 49.3643 Q1320.19 38.832 1325.29 32.472 Q1330.39 26.1121 1338.74 26.1121 Q1343.76 26.1121 1347.37 28.0971 Q1350.97 30.082 1353.28 34.0924 L1353.28 27.2059 L1360.73 27.2059 L1360.73 66.9452 Z\" fill=\"#000000\" fill-rule=\"evenodd\" fill-opacity=\"1\" /><path clip-path=\"url(#clip030)\" d=\"M 0 0 M1430.25 35.9153 Q1433.04 30.8922 1436.93 28.5022 Q1440.82 26.1121 1446.09 26.1121 Q1453.18 26.1121 1457.02 31.0947 Q1460.87 36.0368 1460.87 45.1919 L1460.87 72.576 L1453.38 72.576 L1453.38 45.4349 Q1453.38 38.913 1451.07 35.7533 Q1448.76 32.5936 1444.02 32.5936 Q1438.23 32.5936 1434.87 36.4419 Q1431.5 40.2903 1431.5 46.9338 L1431.5 72.576 L1424.01 72.576 L1424.01 45.4349 Q1424.01 38.8725 1421.7 35.7533 Q1419.39 32.5936 1414.57 32.5936 Q1408.86 32.5936 1405.5 36.4824 Q1402.14 40.3308 1402.14 46.9338 L1402.14 72.576 L1394.64 72.576 L1394.64 27.2059 L1402.14 27.2059 L1402.14 34.2544 Q1404.69 30.082 1408.25 28.0971 Q1411.82 26.1121 1416.72 26.1121 Q1421.66 26.1121 1425.1 28.6237 Q1428.59 31.1352 1430.25 35.9153 Z\" fill=\"#000000\" fill-rule=\"evenodd\" fill-opacity=\"1\" /><path clip-path=\"url(#clip030)\" d=\"M 0 0 M1489.31 49.7694 Q1480.28 49.7694 1476.79 51.8354 Q1473.31 53.9013 1473.31 58.8839 Q1473.31 62.8538 1475.9 65.2034 Q1478.54 67.5124 1483.03 67.5124 Q1489.23 67.5124 1492.96 63.1374 Q1496.72 58.7219 1496.72 51.4303 L1496.72 49.7694 L1489.31 49.7694 M1504.18 46.6907 L1504.18 72.576 L1496.72 72.576 L1496.72 65.6895 Q1494.17 69.8214 1490.36 71.8063 Q1486.56 73.7508 1481.05 73.7508 Q1474.08 73.7508 1469.95 69.8619 Q1465.86 65.9325 1465.86 59.3701 Q1465.86 51.7138 1470.96 47.825 Q1476.1 43.9361 1486.27 43.9361 L1496.72 43.9361 L1496.72 43.2069 Q1496.72 38.0623 1493.32 35.2672 Q1489.96 32.4315 1483.84 32.4315 Q1479.95 32.4315 1476.27 33.3632 Q1472.58 34.295 1469.18 36.1584 L1469.18 29.2718 Q1473.27 27.692 1477.12 26.9223 Q1480.97 26.1121 1484.61 26.1121 Q1494.46 26.1121 1499.32 31.2163 Q1504.18 36.3204 1504.18 46.6907 Z\" fill=\"#000000\" fill-rule=\"evenodd\" fill-opacity=\"1\" /><path clip-path=\"url(#clip030)\" d=\"M 0 0 M1519.37 14.324 L1519.37 27.2059 L1534.72 27.2059 L1534.72 32.9987 L1519.37 32.9987 L1519.37 57.6282 Q1519.37 63.1779 1520.87 64.7578 Q1522.41 66.3376 1527.07 66.3376 L1534.72 66.3376 L1534.72 72.576 L1527.07 72.576 Q1518.44 72.576 1515.16 69.3758 Q1511.87 66.1351 1511.87 57.6282 L1511.87 32.9987 L1506.41 32.9987 L1506.41 27.2059 L1511.87 27.2059 L1511.87 14.324 L1519.37 14.324 Z\" fill=\"#000000\" fill-rule=\"evenodd\" fill-opacity=\"1\" /><path clip-path=\"url(#clip030)\" d=\"M 0 0 M1568.83 34.1734 Q1567.57 33.4443 1566.08 33.1202 Q1564.62 32.7556 1562.83 32.7556 Q1556.52 32.7556 1553.11 36.8875 Q1549.75 40.9789 1549.75 48.6757 L1549.75 72.576 L1542.26 72.576 L1542.26 27.2059 L1549.75 27.2059 L1549.75 34.2544 Q1552.1 30.1225 1555.87 28.1376 Q1559.63 26.1121 1565.02 26.1121 Q1565.79 26.1121 1566.72 26.2337 Q1567.66 26.3147 1568.79 26.5172 L1568.83 34.1734 Z\" fill=\"#000000\" fill-rule=\"evenodd\" fill-opacity=\"1\" /><path clip-path=\"url(#clip030)\" d=\"M 0 0 M1576.65 27.2059 L1584.1 27.2059 L1584.1 72.576 L1576.65 72.576 L1576.65 27.2059 M1576.65 9.54393 L1584.1 9.54393 L1584.1 18.9825 L1576.65 18.9825 L1576.65 9.54393 Z\" fill=\"#000000\" fill-rule=\"evenodd\" fill-opacity=\"1\" /><path clip-path=\"url(#clip030)\" d=\"M 0 0 M1624.57 28.9478 L1624.57 35.9153 Q1621.41 34.1734 1618.21 33.3227 Q1615.05 32.4315 1611.81 32.4315 Q1604.56 32.4315 1600.55 37.0496 Q1596.54 41.6271 1596.54 49.9314 Q1596.54 58.2358 1600.55 62.8538 Q1604.56 67.4314 1611.81 67.4314 Q1615.05 67.4314 1618.21 66.5807 Q1621.41 65.6895 1624.57 63.9476 L1624.57 70.8341 Q1621.45 72.2924 1618.09 73.0216 Q1614.77 73.7508 1611 73.7508 Q1600.75 73.7508 1594.72 67.3098 Q1588.68 60.8689 1588.68 49.9314 Q1588.68 38.832 1594.76 32.472 Q1600.87 26.1121 1611.49 26.1121 Q1614.93 26.1121 1618.21 26.8413 Q1621.49 27.5299 1624.57 28.9478 Z\" fill=\"#000000\" fill-rule=\"evenodd\" fill-opacity=\"1\" /><path clip-path=\"url(#clip030)\" d=\"M 0 0 M1671.2 48.0275 L1671.2 51.6733 L1636.93 51.6733 Q1637.41 59.3701 1641.54 63.421 Q1645.72 67.4314 1653.13 67.4314 Q1657.42 67.4314 1661.43 66.3781 Q1665.48 65.3249 1669.45 63.2184 L1669.45 70.267 Q1665.44 71.9684 1661.23 72.8596 Q1657.02 73.7508 1652.68 73.7508 Q1641.83 73.7508 1635.47 67.4314 Q1629.15 61.1119 1629.15 50.3365 Q1629.15 39.1965 1635.14 32.6746 Q1641.18 26.1121 1651.39 26.1121 Q1660.54 26.1121 1665.85 32.0264 Q1671.2 37.9003 1671.2 48.0275 M1663.74 45.84 Q1663.66 39.7232 1660.3 36.0774 Q1656.98 32.4315 1651.47 32.4315 Q1645.23 32.4315 1641.46 35.9558 Q1637.74 39.4801 1637.17 45.8805 L1663.74 45.84 Z\" fill=\"#000000\" fill-rule=\"evenodd\" fill-opacity=\"1\" /><path clip-path=\"url(#clip030)\" d=\"M 0 0 M1707.94 28.5427 L1707.94 35.5912 Q1704.78 33.9709 1701.38 33.1607 Q1697.97 32.3505 1694.33 32.3505 Q1688.78 32.3505 1685.98 34.0519 Q1683.23 35.7533 1683.23 39.156 Q1683.23 41.7486 1685.21 43.2475 Q1687.2 44.7058 1693.19 46.0426 L1695.74 46.6097 Q1703.68 48.3111 1707.01 51.4303 Q1710.37 54.509 1710.37 60.0587 Q1710.37 66.3781 1705.35 70.0644 Q1700.36 73.7508 1691.61 73.7508 Q1687.97 73.7508 1684 73.0216 Q1680.07 72.3329 1675.69 70.9151 L1675.69 63.2184 Q1679.82 65.3654 1683.83 66.4591 Q1687.85 67.5124 1691.77 67.5124 Q1697.04 67.5124 1699.88 65.73 Q1702.71 63.9071 1702.71 60.6258 Q1702.71 57.5877 1700.65 55.9673 Q1698.62 54.3469 1691.69 52.8481 L1689.1 52.2405 Q1682.17 50.7821 1679.1 47.7845 Q1676.02 44.7463 1676.02 39.4801 Q1676.02 33.0797 1680.55 29.5959 Q1685.09 26.1121 1693.44 26.1121 Q1697.57 26.1121 1701.21 26.7198 Q1704.86 27.3274 1707.94 28.5427 Z\" fill=\"#000000\" fill-rule=\"evenodd\" fill-opacity=\"1\" /><path clip-path=\"url(#clip030)\" d=\"M 0 0 M1744.56 27.2059 L1752.01 27.2059 L1752.01 72.576 L1744.56 72.576 L1744.56 27.2059 M1744.56 9.54393 L1752.01 9.54393 L1752.01 18.9825 L1744.56 18.9825 L1744.56 9.54393 Z\" fill=\"#000000\" fill-rule=\"evenodd\" fill-opacity=\"1\" /><path clip-path=\"url(#clip030)\" d=\"M 0 0 M1797.54 45.1919 L1797.54 72.576 L1790.09 72.576 L1790.09 45.4349 Q1790.09 38.994 1787.58 35.7938 Q1785.07 32.5936 1780.04 32.5936 Q1774.01 32.5936 1770.52 36.4419 Q1767.04 40.2903 1767.04 46.9338 L1767.04 72.576 L1759.55 72.576 L1759.55 27.2059 L1767.04 27.2059 L1767.04 34.2544 Q1769.71 30.163 1773.32 28.1376 Q1776.97 26.1121 1781.7 26.1121 Q1789.52 26.1121 1793.53 30.9732 Q1797.54 35.7938 1797.54 45.1919 Z\" fill=\"#000000\" fill-rule=\"evenodd\" fill-opacity=\"1\" /><path clip-path=\"url(#clip030)\" d=\"M 0 0 M1877.35 16.7545 L1877.35 25.383 Q1873.21 21.5346 1868.52 19.6307 Q1863.86 17.7268 1858.59 17.7268 Q1848.22 17.7268 1842.71 24.0867 Q1837.2 30.4061 1837.2 42.3968 Q1837.2 54.3469 1842.71 60.7069 Q1848.22 67.0263 1858.59 67.0263 Q1863.86 67.0263 1868.52 65.1223 Q1873.21 63.2184 1877.35 59.3701 L1877.35 67.9175 Q1873.05 70.8341 1868.23 72.2924 Q1863.45 73.7508 1858.1 73.7508 Q1844.37 73.7508 1836.47 65.3654 Q1828.57 56.9395 1828.57 42.3968 Q1828.57 27.8135 1836.47 19.4281 Q1844.37 11.0023 1858.1 11.0023 Q1863.53 11.0023 1868.31 12.4606 Q1873.13 13.8784 1877.35 16.7545 Z\" fill=\"#000000\" fill-rule=\"evenodd\" fill-opacity=\"1\" /><path clip-path=\"url(#clip030)\" d=\"M 0 0 M756.867 117.926 L764.32 117.926 L773.637 153.331 L782.914 117.926 L791.704 117.926 L801.021 153.331 L810.298 117.926 L817.752 117.926 L805.883 163.296 L797.092 163.296 L787.329 126.109 L777.526 163.296 L768.736 163.296 L756.867 117.926 Z\" fill=\"#000000\" fill-rule=\"evenodd\" fill-opacity=\"1\" /><path clip-path=\"url(#clip030)\" d=\"M 0 0 M825.57 117.926 L833.024 117.926 L833.024 163.296 L825.57 163.296 L825.57 117.926 M825.57 100.264 L833.024 100.264 L833.024 109.703 L825.57 109.703 L825.57 100.264 Z\" fill=\"#000000\" fill-rule=\"evenodd\" fill-opacity=\"1\" /><path clip-path=\"url(#clip030)\" d=\"M 0 0 M848.214 105.044 L848.214 117.926 L863.567 117.926 L863.567 123.719 L848.214 123.719 L848.214 148.348 Q848.214 153.898 849.713 155.478 Q851.253 157.058 855.911 157.058 L863.567 157.058 L863.567 163.296 L855.911 163.296 Q847.283 163.296 844.002 160.096 Q840.72 156.855 840.72 148.348 L840.72 123.719 L835.252 123.719 L835.252 117.926 L840.72 117.926 L840.72 105.044 L848.214 105.044 Z\" fill=\"#000000\" fill-rule=\"evenodd\" fill-opacity=\"1\" /><path clip-path=\"url(#clip030)\" d=\"M 0 0 M909.1 135.912 L909.1 163.296 L901.646 163.296 L901.646 136.155 Q901.646 129.714 899.134 126.514 Q896.623 123.314 891.6 123.314 Q885.564 123.314 882.08 127.162 Q878.596 131.01 878.596 137.654 L878.596 163.296 L871.102 163.296 L871.102 100.264 L878.596 100.264 L878.596 124.974 Q881.27 120.883 884.875 118.858 Q888.521 116.832 893.261 116.832 Q901.079 116.832 905.089 121.693 Q909.1 126.514 909.1 135.912 Z\" fill=\"#000000\" fill-rule=\"evenodd\" fill-opacity=\"1\" /><path clip-path=\"url(#clip030)\" d=\"M 0 0 M950.5 156.49 L950.5 180.553 L943.006 180.553 L943.006 117.926 L950.5 117.926 L950.5 124.812 Q952.849 120.762 956.414 118.817 Q960.019 116.832 965.002 116.832 Q973.266 116.832 978.411 123.395 Q983.596 129.957 983.596 140.651 Q983.596 151.346 978.411 157.908 Q973.266 164.471 965.002 164.471 Q960.019 164.471 956.414 162.526 Q952.849 160.541 950.5 156.49 M975.858 140.651 Q975.858 132.428 972.456 127.77 Q969.093 123.071 963.179 123.071 Q957.265 123.071 953.862 127.77 Q950.5 132.428 950.5 140.651 Q950.5 148.875 953.862 153.574 Q957.265 158.232 963.179 158.232 Q969.093 158.232 972.456 153.574 Q975.858 148.875 975.858 140.651 Z\" fill=\"#000000\" fill-rule=\"evenodd\" fill-opacity=\"1\" /><path clip-path=\"url(#clip030)\" d=\"M 0 0 M1008.99 123.152 Q1003 123.152 999.516 127.851 Q996.032 132.509 996.032 140.651 Q996.032 148.794 999.475 153.493 Q1002.96 158.151 1008.99 158.151 Q1014.95 158.151 1018.43 153.452 Q1021.92 148.753 1021.92 140.651 Q1021.92 132.59 1018.43 127.891 Q1014.95 123.152 1008.99 123.152 M1008.99 116.832 Q1018.72 116.832 1024.27 123.152 Q1029.82 129.471 1029.82 140.651 Q1029.82 151.791 1024.27 158.151 Q1018.72 164.471 1008.99 164.471 Q999.232 164.471 993.682 158.151 Q988.173 151.791 988.173 140.651 Q988.173 129.471 993.682 123.152 Q999.232 116.832 1008.99 116.832 Z\" fill=\"#000000\" fill-rule=\"evenodd\" fill-opacity=\"1\" /><path clip-path=\"url(#clip030)\" d=\"M 0 0 M1037.63 100.264 L1045.09 100.264 L1045.09 163.296 L1037.63 163.296 L1037.63 100.264 Z\" fill=\"#000000\" fill-rule=\"evenodd\" fill-opacity=\"1\" /><path clip-path=\"url(#clip030)\" d=\"M 0 0 M1071.78 167.509 Q1068.62 175.611 1065.63 178.082 Q1062.63 180.553 1057.61 180.553 L1051.65 180.553 L1051.65 174.314 L1056.03 174.314 Q1059.1 174.314 1060.81 172.856 Q1062.51 171.398 1064.57 165.97 L1065.91 162.567 L1047.56 117.926 L1055.46 117.926 L1069.64 153.412 L1083.82 117.926 L1091.71 117.926 L1071.78 167.509 Z\" fill=\"#000000\" fill-rule=\"evenodd\" fill-opacity=\"1\" /><path clip-path=\"url(#clip030)\" d=\"M 0 0 M1137.25 135.912 L1137.25 163.296 L1129.79 163.296 L1129.79 136.155 Q1129.79 129.714 1127.28 126.514 Q1124.77 123.314 1119.75 123.314 Q1113.71 123.314 1110.23 127.162 Q1106.74 131.01 1106.74 137.654 L1106.74 163.296 L1099.25 163.296 L1099.25 117.926 L1106.74 117.926 L1106.74 124.974 Q1109.42 120.883 1113.02 118.858 Q1116.67 116.832 1121.41 116.832 Q1129.23 116.832 1133.24 121.693 Q1137.25 126.514 1137.25 135.912 Z\" fill=\"#000000\" fill-rule=\"evenodd\" fill-opacity=\"1\" /><path clip-path=\"url(#clip030)\" d=\"M 0 0 M1162.65 123.152 Q1156.65 123.152 1153.17 127.851 Q1149.68 132.509 1149.68 140.651 Q1149.68 148.794 1153.13 153.493 Q1156.61 158.151 1162.65 158.151 Q1168.6 158.151 1172.08 153.452 Q1175.57 148.753 1175.57 140.651 Q1175.57 132.59 1172.08 127.891 Q1168.6 123.152 1162.65 123.152 M1162.65 116.832 Q1172.37 116.832 1177.92 123.152 Q1183.47 129.471 1183.47 140.651 Q1183.47 151.791 1177.92 158.151 Q1172.37 164.471 1162.65 164.471 Q1152.88 164.471 1147.33 158.151 Q1141.82 151.791 1141.82 140.651 Q1141.82 129.471 1147.33 123.152 Q1152.88 116.832 1162.65 116.832 Z\" fill=\"#000000\" fill-rule=\"evenodd\" fill-opacity=\"1\" /><path clip-path=\"url(#clip030)\" d=\"M 0 0 M1226.61 126.635 Q1229.4 121.612 1233.29 119.222 Q1237.18 116.832 1242.45 116.832 Q1249.54 116.832 1253.39 121.815 Q1257.23 126.757 1257.23 135.912 L1257.23 163.296 L1249.74 163.296 L1249.74 136.155 Q1249.74 129.633 1247.43 126.473 Q1245.12 123.314 1240.38 123.314 Q1234.59 123.314 1231.23 127.162 Q1227.87 131.01 1227.87 137.654 L1227.87 163.296 L1220.37 163.296 L1220.37 136.155 Q1220.37 129.592 1218.06 126.473 Q1215.75 123.314 1210.93 123.314 Q1205.22 123.314 1201.86 127.202 Q1198.5 131.051 1198.5 137.654 L1198.5 163.296 L1191 163.296 L1191 117.926 L1198.5 117.926 L1198.5 124.974 Q1201.05 120.802 1204.61 118.817 Q1208.18 116.832 1213.08 116.832 Q1218.02 116.832 1221.46 119.344 Q1224.95 121.855 1226.61 126.635 Z\" fill=\"#000000\" fill-rule=\"evenodd\" fill-opacity=\"1\" /><path clip-path=\"url(#clip030)\" d=\"M 0 0 M1265.05 117.926 L1272.51 117.926 L1272.51 163.296 L1265.05 163.296 L1265.05 117.926 M1265.05 100.264 L1272.51 100.264 L1272.51 109.703 L1265.05 109.703 L1265.05 100.264 Z\" fill=\"#000000\" fill-rule=\"evenodd\" fill-opacity=\"1\" /><path clip-path=\"url(#clip030)\" d=\"M 0 0 M1300.94 140.489 Q1291.91 140.489 1288.43 142.555 Q1284.94 144.621 1284.94 149.604 Q1284.94 153.574 1287.54 155.923 Q1290.17 158.232 1294.66 158.232 Q1300.86 158.232 1304.59 153.857 Q1308.36 149.442 1308.36 142.15 L1308.36 140.489 L1300.94 140.489 M1315.81 137.411 L1315.81 163.296 L1308.36 163.296 L1308.36 156.409 Q1305.8 160.541 1302 162.526 Q1298.19 164.471 1292.68 164.471 Q1285.71 164.471 1281.58 160.582 Q1277.49 156.653 1277.49 150.09 Q1277.49 142.434 1282.59 138.545 Q1287.74 134.656 1297.91 134.656 L1308.36 134.656 L1308.36 133.927 Q1308.36 128.782 1304.95 125.987 Q1301.59 123.152 1295.47 123.152 Q1291.59 123.152 1287.9 124.083 Q1284.21 125.015 1280.81 126.878 L1280.81 119.992 Q1284.9 118.412 1288.75 117.642 Q1292.6 116.832 1296.24 116.832 Q1306.09 116.832 1310.95 121.936 Q1315.81 127.04 1315.81 137.411 Z\" fill=\"#000000\" fill-rule=\"evenodd\" fill-opacity=\"1\" /><path clip-path=\"url(#clip030)\" d=\"M 0 0 M1323.63 100.264 L1331.08 100.264 L1331.08 163.296 L1323.63 163.296 L1323.63 100.264 Z\" fill=\"#000000\" fill-rule=\"evenodd\" fill-opacity=\"1\" /><path clip-path=\"url(#clip030)\" d=\"M 0 0 M1385.89 140.489 Q1376.86 140.489 1373.37 142.555 Q1369.89 144.621 1369.89 149.604 Q1369.89 153.574 1372.48 155.923 Q1375.12 158.232 1379.61 158.232 Q1385.81 158.232 1389.54 153.857 Q1393.3 149.442 1393.3 142.15 L1393.3 140.489 L1385.89 140.489 M1400.76 137.411 L1400.76 163.296 L1393.3 163.296 L1393.3 156.409 Q1390.75 160.541 1386.94 162.526 Q1383.14 164.471 1377.63 164.471 Q1370.66 164.471 1366.53 160.582 Q1362.44 156.653 1362.44 150.09 Q1362.44 142.434 1367.54 138.545 Q1372.69 134.656 1382.85 134.656 L1393.3 134.656 L1393.3 133.927 Q1393.3 128.782 1389.9 125.987 Q1386.54 123.152 1380.42 123.152 Q1376.53 123.152 1372.85 124.083 Q1369.16 125.015 1365.76 126.878 L1365.76 119.992 Q1369.85 118.412 1373.7 117.642 Q1377.55 116.832 1381.19 116.832 Q1391.04 116.832 1395.9 121.936 Q1400.76 127.04 1400.76 137.411 Z\" fill=\"#000000\" fill-rule=\"evenodd\" fill-opacity=\"1\" /><path clip-path=\"url(#clip030)\" d=\"M 0 0 M1415.79 156.49 L1415.79 180.553 L1408.29 180.553 L1408.29 117.926 L1415.79 117.926 L1415.79 124.812 Q1418.14 120.762 1421.7 118.817 Q1425.31 116.832 1430.29 116.832 Q1438.55 116.832 1443.7 123.395 Q1448.88 129.957 1448.88 140.651 Q1448.88 151.346 1443.7 157.908 Q1438.55 164.471 1430.29 164.471 Q1425.31 164.471 1421.7 162.526 Q1418.14 160.541 1415.79 156.49 M1441.15 140.651 Q1441.15 132.428 1437.74 127.77 Q1434.38 123.071 1428.47 123.071 Q1422.55 123.071 1419.15 127.77 Q1415.79 132.428 1415.79 140.651 Q1415.79 148.875 1419.15 153.574 Q1422.55 158.232 1428.47 158.232 Q1434.38 158.232 1437.74 153.574 Q1441.15 148.875 1441.15 140.651 Z\" fill=\"#000000\" fill-rule=\"evenodd\" fill-opacity=\"1\" /><path clip-path=\"url(#clip030)\" d=\"M 0 0 M1482.99 124.893 Q1481.74 124.164 1480.24 123.84 Q1478.78 123.476 1477 123.476 Q1470.68 123.476 1467.27 127.608 Q1463.91 131.699 1463.91 139.396 L1463.91 163.296 L1456.42 163.296 L1456.42 117.926 L1463.91 117.926 L1463.91 124.974 Q1466.26 120.843 1470.03 118.858 Q1473.8 116.832 1479.18 116.832 Q1479.95 116.832 1480.88 116.954 Q1481.82 117.035 1482.95 117.237 L1482.99 124.893 Z\" fill=\"#000000\" fill-rule=\"evenodd\" fill-opacity=\"1\" /><path clip-path=\"url(#clip030)\" d=\"M 0 0 M1506.57 123.152 Q1500.57 123.152 1497.09 127.851 Q1493.6 132.509 1493.6 140.651 Q1493.6 148.794 1497.05 153.493 Q1500.53 158.151 1506.57 158.151 Q1512.52 158.151 1516.01 153.452 Q1519.49 148.753 1519.49 140.651 Q1519.49 132.59 1516.01 127.891 Q1512.52 123.152 1506.57 123.152 M1506.57 116.832 Q1516.29 116.832 1521.84 123.152 Q1527.39 129.471 1527.39 140.651 Q1527.39 151.791 1521.84 158.151 Q1516.29 164.471 1506.57 164.471 Q1496.8 164.471 1491.26 158.151 Q1485.75 151.791 1485.75 140.651 Q1485.75 129.471 1491.26 123.152 Q1496.8 116.832 1506.57 116.832 Z\" fill=\"#000000\" fill-rule=\"evenodd\" fill-opacity=\"1\" /><path clip-path=\"url(#clip030)\" d=\"M 0 0 M1570.37 117.926 L1553.96 140.003 L1571.22 163.296 L1562.43 163.296 L1549.22 145.472 L1536.02 163.296 L1527.23 163.296 L1544.85 139.558 L1528.73 117.926 L1537.52 117.926 L1549.55 134.089 L1561.58 117.926 L1570.37 117.926 Z\" fill=\"#000000\" fill-rule=\"evenodd\" fill-opacity=\"1\" /><path clip-path=\"url(#clip030)\" d=\"M 0 0 M1579.04 117.926 L1586.49 117.926 L1586.49 163.296 L1579.04 163.296 L1579.04 117.926 M1579.04 100.264 L1586.49 100.264 L1586.49 109.703 L1579.04 109.703 L1579.04 100.264 Z\" fill=\"#000000\" fill-rule=\"evenodd\" fill-opacity=\"1\" /><path clip-path=\"url(#clip030)\" d=\"M 0 0 M1629.63 126.635 Q1632.43 121.612 1636.32 119.222 Q1640.21 116.832 1645.47 116.832 Q1652.56 116.832 1656.41 121.815 Q1660.26 126.757 1660.26 135.912 L1660.26 163.296 L1652.76 163.296 L1652.76 136.155 Q1652.76 129.633 1650.46 126.473 Q1648.15 123.314 1643.41 123.314 Q1637.61 123.314 1634.25 127.162 Q1630.89 131.01 1630.89 137.654 L1630.89 163.296 L1623.4 163.296 L1623.4 136.155 Q1623.4 129.592 1621.09 126.473 Q1618.78 123.314 1613.96 123.314 Q1608.25 123.314 1604.88 127.202 Q1601.52 131.051 1601.52 137.654 L1601.52 163.296 L1594.03 163.296 L1594.03 117.926 L1601.52 117.926 L1601.52 124.974 Q1604.07 120.802 1607.64 118.817 Q1611.2 116.832 1616.1 116.832 Q1621.05 116.832 1624.49 119.344 Q1627.97 121.855 1629.63 126.635 Z\" fill=\"#000000\" fill-rule=\"evenodd\" fill-opacity=\"1\" /><path clip-path=\"url(#clip030)\" d=\"M 0 0 M1688.7 140.489 Q1679.66 140.489 1676.18 142.555 Q1672.7 144.621 1672.7 149.604 Q1672.7 153.574 1675.29 155.923 Q1677.92 158.232 1682.42 158.232 Q1688.62 158.232 1692.34 153.857 Q1696.11 149.442 1696.11 142.15 L1696.11 140.489 L1688.7 140.489 M1703.56 137.411 L1703.56 163.296 L1696.11 163.296 L1696.11 156.409 Q1693.56 160.541 1689.75 162.526 Q1685.94 164.471 1680.43 164.471 Q1673.46 164.471 1669.33 160.582 Q1665.24 156.653 1665.24 150.09 Q1665.24 142.434 1670.35 138.545 Q1675.49 134.656 1685.66 134.656 L1696.11 134.656 L1696.11 133.927 Q1696.11 128.782 1692.71 125.987 Q1689.34 123.152 1683.23 123.152 Q1679.34 123.152 1675.65 124.083 Q1671.97 125.015 1668.56 126.878 L1668.56 119.992 Q1672.65 118.412 1676.5 117.642 Q1680.35 116.832 1684 116.832 Q1693.84 116.832 1698.7 121.936 Q1703.56 127.04 1703.56 137.411 Z\" fill=\"#000000\" fill-rule=\"evenodd\" fill-opacity=\"1\" /><path clip-path=\"url(#clip030)\" d=\"M 0 0 M1718.75 105.044 L1718.75 117.926 L1734.11 117.926 L1734.11 123.719 L1718.75 123.719 L1718.75 148.348 Q1718.75 153.898 1720.25 155.478 Q1721.79 157.058 1726.45 157.058 L1734.11 157.058 L1734.11 163.296 L1726.45 163.296 Q1717.82 163.296 1714.54 160.096 Q1711.26 156.855 1711.26 148.348 L1711.26 123.719 L1705.79 123.719 L1705.79 117.926 L1711.26 117.926 L1711.26 105.044 L1718.75 105.044 Z\" fill=\"#000000\" fill-rule=\"evenodd\" fill-opacity=\"1\" /><path clip-path=\"url(#clip030)\" d=\"M 0 0 M1741.92 117.926 L1749.38 117.926 L1749.38 163.296 L1741.92 163.296 L1741.92 117.926 M1741.92 100.264 L1749.38 100.264 L1749.38 109.703 L1741.92 109.703 L1741.92 100.264 Z\" fill=\"#000000\" fill-rule=\"evenodd\" fill-opacity=\"1\" /><path clip-path=\"url(#clip030)\" d=\"M 0 0 M1774.78 123.152 Q1768.78 123.152 1765.3 127.851 Q1761.81 132.509 1761.81 140.651 Q1761.81 148.794 1765.26 153.493 Q1768.74 158.151 1774.78 158.151 Q1780.73 158.151 1784.22 153.452 Q1787.7 148.753 1787.7 140.651 Q1787.7 132.59 1784.22 127.891 Q1780.73 123.152 1774.78 123.152 M1774.78 116.832 Q1784.5 116.832 1790.05 123.152 Q1795.6 129.471 1795.6 140.651 Q1795.6 151.791 1790.05 158.151 Q1784.5 164.471 1774.78 164.471 Q1765.02 164.471 1759.47 158.151 Q1753.96 151.791 1753.96 140.651 Q1753.96 129.471 1759.47 123.152 Q1765.02 116.832 1774.78 116.832 Z\" fill=\"#000000\" fill-rule=\"evenodd\" fill-opacity=\"1\" /><path clip-path=\"url(#clip030)\" d=\"M 0 0 M1841.13 135.912 L1841.13 163.296 L1833.68 163.296 L1833.68 136.155 Q1833.68 129.714 1831.17 126.514 Q1828.65 123.314 1823.63 123.314 Q1817.6 123.314 1814.11 127.162 Q1810.63 131.01 1810.63 137.654 L1810.63 163.296 L1803.13 163.296 L1803.13 117.926 L1810.63 117.926 L1810.63 124.974 Q1813.3 120.883 1816.91 118.858 Q1820.55 116.832 1825.29 116.832 Q1833.11 116.832 1837.12 121.693 Q1841.13 126.514 1841.13 135.912 Z\" fill=\"#000000\" fill-rule=\"evenodd\" fill-opacity=\"1\" /><path clip-path=\"url(#clip030)\" d=\"M 0 0 M1877.87 119.263 L1877.87 126.311 Q1874.71 124.691 1871.31 123.881 Q1867.91 123.071 1864.26 123.071 Q1858.71 123.071 1855.92 124.772 Q1853.16 126.473 1853.16 129.876 Q1853.16 132.469 1855.15 133.967 Q1857.13 135.426 1863.13 136.763 L1865.68 137.33 Q1873.62 139.031 1876.94 142.15 Q1880.3 145.229 1880.3 150.779 Q1880.3 157.098 1875.28 160.784 Q1870.3 164.471 1861.55 164.471 Q1857.9 164.471 1853.93 163.742 Q1850 163.053 1845.63 161.635 L1845.63 153.938 Q1849.76 156.085 1853.77 157.179 Q1857.78 158.232 1861.71 158.232 Q1866.98 158.232 1869.81 156.45 Q1872.65 154.627 1872.65 151.346 Q1872.65 148.308 1870.58 146.687 Q1868.56 145.067 1861.63 143.568 L1859.04 142.96 Q1852.11 141.502 1849.03 138.504 Q1845.95 135.466 1845.95 130.2 Q1845.95 123.8 1850.49 120.316 Q1855.03 116.832 1863.37 116.832 Q1867.5 116.832 1871.15 117.44 Q1874.79 118.047 1877.87 119.263 Z\" fill=\"#000000\" fill-rule=\"evenodd\" fill-opacity=\"1\" /><polyline clip-path=\"url(#clip032)\" style=\"stroke:#000000; stroke-width:4; stroke-opacity:1; fill:none\" points=\"\n",
       "  237.067,1387 237.067,1387 \n",
       "  \"/>\n",
       "<polyline clip-path=\"url(#clip032)\" style=\"stroke:#000000; stroke-width:4; stroke-opacity:1; fill:none\" points=\"\n",
       "  395.072,1387 395.072,1387 \n",
       "  \"/>\n",
       "<polyline clip-path=\"url(#clip032)\" style=\"stroke:#000000; stroke-width:4; stroke-opacity:1; fill:none\" points=\"\n",
       "  553.077,1387.6 553.077,1385.83 \n",
       "  \"/>\n",
       "<polyline clip-path=\"url(#clip032)\" style=\"stroke:#000000; stroke-width:4; stroke-opacity:1; fill:none\" points=\"\n",
       "  711.083,1387.32 711.083,1384.42 \n",
       "  \"/>\n",
       "<polyline clip-path=\"url(#clip032)\" style=\"stroke:#000000; stroke-width:4; stroke-opacity:1; fill:none\" points=\"\n",
       "  869.088,1384.81 869.088,1382.44 \n",
       "  \"/>\n",
       "<polyline clip-path=\"url(#clip032)\" style=\"stroke:#000000; stroke-width:4; stroke-opacity:1; fill:none\" points=\"\n",
       "  1027.09,1381.38 1027.09,1381.38 \n",
       "  \"/>\n",
       "<polyline clip-path=\"url(#clip032)\" style=\"stroke:#000000; stroke-width:4; stroke-opacity:1; fill:none\" points=\"\n",
       "  1185.1,1378.64 1185.1,1375.68 \n",
       "  \"/>\n",
       "<polyline clip-path=\"url(#clip032)\" style=\"stroke:#000000; stroke-width:4; stroke-opacity:1; fill:none\" points=\"\n",
       "  1343.1,1373.28 1343.1,1370.38 \n",
       "  \"/>\n",
       "<polyline clip-path=\"url(#clip032)\" style=\"stroke:#000000; stroke-width:4; stroke-opacity:1; fill:none\" points=\"\n",
       "  1501.11,1364.52 1501.11,1364.52 \n",
       "  \"/>\n",
       "<polyline clip-path=\"url(#clip032)\" style=\"stroke:#000000; stroke-width:4; stroke-opacity:1; fill:none\" points=\"\n",
       "  1659.11,1356.71 1659.11,1354.93 \n",
       "  \"/>\n",
       "<polyline clip-path=\"url(#clip032)\" style=\"stroke:#000000; stroke-width:4; stroke-opacity:1; fill:none\" points=\"\n",
       "  1817.12,1345.49 1817.12,1343.12 \n",
       "  \"/>\n",
       "<polyline clip-path=\"url(#clip032)\" style=\"stroke:#000000; stroke-width:4; stroke-opacity:1; fill:none\" points=\"\n",
       "  1975.12,1331.99 1975.12,1330.21 \n",
       "  \"/>\n",
       "<polyline clip-path=\"url(#clip032)\" style=\"stroke:#000000; stroke-width:4; stroke-opacity:1; fill:none\" points=\"\n",
       "  2133.13,1315.71 2133.13,1313.34 \n",
       "  \"/>\n",
       "<polyline clip-path=\"url(#clip032)\" style=\"stroke:#000000; stroke-width:4; stroke-opacity:1; fill:none\" points=\"\n",
       "  2291.13,1296.88 2291.13,1293.98 \n",
       "  \"/>\n",
       "<line clip-path=\"url(#clip032)\" x1=\"253.067\" y1=\"1387\" x2=\"221.067\" y2=\"1387\" style=\"stroke:#000000; stroke-width:3.2; stroke-opacity:1\"/>\n",
       "<line clip-path=\"url(#clip032)\" x1=\"253.067\" y1=\"1387\" x2=\"221.067\" y2=\"1387\" style=\"stroke:#000000; stroke-width:3.2; stroke-opacity:1\"/>\n",
       "<line clip-path=\"url(#clip032)\" x1=\"411.072\" y1=\"1387\" x2=\"379.072\" y2=\"1387\" style=\"stroke:#000000; stroke-width:3.2; stroke-opacity:1\"/>\n",
       "<line clip-path=\"url(#clip032)\" x1=\"411.072\" y1=\"1387\" x2=\"379.072\" y2=\"1387\" style=\"stroke:#000000; stroke-width:3.2; stroke-opacity:1\"/>\n",
       "<line clip-path=\"url(#clip032)\" x1=\"569.077\" y1=\"1387.6\" x2=\"537.077\" y2=\"1387.6\" style=\"stroke:#000000; stroke-width:3.2; stroke-opacity:1\"/>\n",
       "<line clip-path=\"url(#clip032)\" x1=\"569.077\" y1=\"1385.83\" x2=\"537.077\" y2=\"1385.83\" style=\"stroke:#000000; stroke-width:3.2; stroke-opacity:1\"/>\n",
       "<line clip-path=\"url(#clip032)\" x1=\"727.083\" y1=\"1387.32\" x2=\"695.083\" y2=\"1387.32\" style=\"stroke:#000000; stroke-width:3.2; stroke-opacity:1\"/>\n",
       "<line clip-path=\"url(#clip032)\" x1=\"727.083\" y1=\"1384.42\" x2=\"695.083\" y2=\"1384.42\" style=\"stroke:#000000; stroke-width:3.2; stroke-opacity:1\"/>\n",
       "<line clip-path=\"url(#clip032)\" x1=\"885.088\" y1=\"1384.81\" x2=\"853.088\" y2=\"1384.81\" style=\"stroke:#000000; stroke-width:3.2; stroke-opacity:1\"/>\n",
       "<line clip-path=\"url(#clip032)\" x1=\"885.088\" y1=\"1382.44\" x2=\"853.088\" y2=\"1382.44\" style=\"stroke:#000000; stroke-width:3.2; stroke-opacity:1\"/>\n",
       "<line clip-path=\"url(#clip032)\" x1=\"1043.09\" y1=\"1381.38\" x2=\"1011.09\" y2=\"1381.38\" style=\"stroke:#000000; stroke-width:3.2; stroke-opacity:1\"/>\n",
       "<line clip-path=\"url(#clip032)\" x1=\"1043.09\" y1=\"1381.38\" x2=\"1011.09\" y2=\"1381.38\" style=\"stroke:#000000; stroke-width:3.2; stroke-opacity:1\"/>\n",
       "<line clip-path=\"url(#clip032)\" x1=\"1201.1\" y1=\"1378.64\" x2=\"1169.1\" y2=\"1378.64\" style=\"stroke:#000000; stroke-width:3.2; stroke-opacity:1\"/>\n",
       "<line clip-path=\"url(#clip032)\" x1=\"1201.1\" y1=\"1375.68\" x2=\"1169.1\" y2=\"1375.68\" style=\"stroke:#000000; stroke-width:3.2; stroke-opacity:1\"/>\n",
       "<line clip-path=\"url(#clip032)\" x1=\"1359.1\" y1=\"1373.28\" x2=\"1327.1\" y2=\"1373.28\" style=\"stroke:#000000; stroke-width:3.2; stroke-opacity:1\"/>\n",
       "<line clip-path=\"url(#clip032)\" x1=\"1359.1\" y1=\"1370.38\" x2=\"1327.1\" y2=\"1370.38\" style=\"stroke:#000000; stroke-width:3.2; stroke-opacity:1\"/>\n",
       "<line clip-path=\"url(#clip032)\" x1=\"1517.11\" y1=\"1364.52\" x2=\"1485.11\" y2=\"1364.52\" style=\"stroke:#000000; stroke-width:3.2; stroke-opacity:1\"/>\n",
       "<line clip-path=\"url(#clip032)\" x1=\"1517.11\" y1=\"1364.52\" x2=\"1485.11\" y2=\"1364.52\" style=\"stroke:#000000; stroke-width:3.2; stroke-opacity:1\"/>\n",
       "<line clip-path=\"url(#clip032)\" x1=\"1675.11\" y1=\"1356.71\" x2=\"1643.11\" y2=\"1356.71\" style=\"stroke:#000000; stroke-width:3.2; stroke-opacity:1\"/>\n",
       "<line clip-path=\"url(#clip032)\" x1=\"1675.11\" y1=\"1354.93\" x2=\"1643.11\" y2=\"1354.93\" style=\"stroke:#000000; stroke-width:3.2; stroke-opacity:1\"/>\n",
       "<line clip-path=\"url(#clip032)\" x1=\"1833.12\" y1=\"1345.49\" x2=\"1801.12\" y2=\"1345.49\" style=\"stroke:#000000; stroke-width:3.2; stroke-opacity:1\"/>\n",
       "<line clip-path=\"url(#clip032)\" x1=\"1833.12\" y1=\"1343.12\" x2=\"1801.12\" y2=\"1343.12\" style=\"stroke:#000000; stroke-width:3.2; stroke-opacity:1\"/>\n",
       "<line clip-path=\"url(#clip032)\" x1=\"1991.12\" y1=\"1331.99\" x2=\"1959.12\" y2=\"1331.99\" style=\"stroke:#000000; stroke-width:3.2; stroke-opacity:1\"/>\n",
       "<line clip-path=\"url(#clip032)\" x1=\"1991.12\" y1=\"1330.21\" x2=\"1959.12\" y2=\"1330.21\" style=\"stroke:#000000; stroke-width:3.2; stroke-opacity:1\"/>\n",
       "<line clip-path=\"url(#clip032)\" x1=\"2149.13\" y1=\"1315.71\" x2=\"2117.13\" y2=\"1315.71\" style=\"stroke:#000000; stroke-width:3.2; stroke-opacity:1\"/>\n",
       "<line clip-path=\"url(#clip032)\" x1=\"2149.13\" y1=\"1313.34\" x2=\"2117.13\" y2=\"1313.34\" style=\"stroke:#000000; stroke-width:3.2; stroke-opacity:1\"/>\n",
       "<line clip-path=\"url(#clip032)\" x1=\"2307.13\" y1=\"1296.88\" x2=\"2275.13\" y2=\"1296.88\" style=\"stroke:#000000; stroke-width:3.2; stroke-opacity:1\"/>\n",
       "<line clip-path=\"url(#clip032)\" x1=\"2307.13\" y1=\"1293.98\" x2=\"2275.13\" y2=\"1293.98\" style=\"stroke:#000000; stroke-width:3.2; stroke-opacity:1\"/>\n",
       "<circle clip-path=\"url(#clip032)\" cx=\"237.067\" cy=\"1387\" r=\"14\" fill=\"#ff0000\" fill-rule=\"evenodd\" fill-opacity=\"1\" stroke=\"#000000\" stroke-opacity=\"1\" stroke-width=\"3.2\"/>\n",
       "<circle clip-path=\"url(#clip032)\" cx=\"395.072\" cy=\"1387\" r=\"14\" fill=\"#ff0000\" fill-rule=\"evenodd\" fill-opacity=\"1\" stroke=\"#000000\" stroke-opacity=\"1\" stroke-width=\"3.2\"/>\n",
       "<circle clip-path=\"url(#clip032)\" cx=\"553.077\" cy=\"1386.71\" r=\"14\" fill=\"#ff0000\" fill-rule=\"evenodd\" fill-opacity=\"1\" stroke=\"#000000\" stroke-opacity=\"1\" stroke-width=\"3.2\"/>\n",
       "<circle clip-path=\"url(#clip032)\" cx=\"711.083\" cy=\"1385.87\" r=\"14\" fill=\"#ff0000\" fill-rule=\"evenodd\" fill-opacity=\"1\" stroke=\"#000000\" stroke-opacity=\"1\" stroke-width=\"3.2\"/>\n",
       "<circle clip-path=\"url(#clip032)\" cx=\"869.088\" cy=\"1383.62\" r=\"14\" fill=\"#ff0000\" fill-rule=\"evenodd\" fill-opacity=\"1\" stroke=\"#000000\" stroke-opacity=\"1\" stroke-width=\"3.2\"/>\n",
       "<circle clip-path=\"url(#clip032)\" cx=\"1027.09\" cy=\"1381.38\" r=\"14\" fill=\"#ff0000\" fill-rule=\"evenodd\" fill-opacity=\"1\" stroke=\"#000000\" stroke-opacity=\"1\" stroke-width=\"3.2\"/>\n",
       "<circle clip-path=\"url(#clip032)\" cx=\"1185.1\" cy=\"1377.16\" r=\"14\" fill=\"#ff0000\" fill-rule=\"evenodd\" fill-opacity=\"1\" stroke=\"#000000\" stroke-opacity=\"1\" stroke-width=\"3.2\"/>\n",
       "<circle clip-path=\"url(#clip032)\" cx=\"1343.1\" cy=\"1371.83\" r=\"14\" fill=\"#ff0000\" fill-rule=\"evenodd\" fill-opacity=\"1\" stroke=\"#000000\" stroke-opacity=\"1\" stroke-width=\"3.2\"/>\n",
       "<circle clip-path=\"url(#clip032)\" cx=\"1501.11\" cy=\"1364.52\" r=\"14\" fill=\"#ff0000\" fill-rule=\"evenodd\" fill-opacity=\"1\" stroke=\"#000000\" stroke-opacity=\"1\" stroke-width=\"3.2\"/>\n",
       "<circle clip-path=\"url(#clip032)\" cx=\"1659.11\" cy=\"1355.82\" r=\"14\" fill=\"#ff0000\" fill-rule=\"evenodd\" fill-opacity=\"1\" stroke=\"#000000\" stroke-opacity=\"1\" stroke-width=\"3.2\"/>\n",
       "<circle clip-path=\"url(#clip032)\" cx=\"1817.12\" cy=\"1344.3\" r=\"14\" fill=\"#ff0000\" fill-rule=\"evenodd\" fill-opacity=\"1\" stroke=\"#000000\" stroke-opacity=\"1\" stroke-width=\"3.2\"/>\n",
       "<circle clip-path=\"url(#clip032)\" cx=\"1975.12\" cy=\"1331.1\" r=\"14\" fill=\"#ff0000\" fill-rule=\"evenodd\" fill-opacity=\"1\" stroke=\"#000000\" stroke-opacity=\"1\" stroke-width=\"3.2\"/>\n",
       "<circle clip-path=\"url(#clip032)\" cx=\"2133.13\" cy=\"1314.53\" r=\"14\" fill=\"#ff0000\" fill-rule=\"evenodd\" fill-opacity=\"1\" stroke=\"#000000\" stroke-opacity=\"1\" stroke-width=\"3.2\"/>\n",
       "<circle clip-path=\"url(#clip032)\" cx=\"2291.13\" cy=\"1295.43\" r=\"14\" fill=\"#ff0000\" fill-rule=\"evenodd\" fill-opacity=\"1\" stroke=\"#000000\" stroke-opacity=\"1\" stroke-width=\"3.2\"/>\n",
       "<polyline clip-path=\"url(#clip032)\" style=\"stroke:#000000; stroke-width:4; stroke-opacity:1; fill:none\" points=\"\n",
       "  237.067,1387 237.067,1387 \n",
       "  \"/>\n",
       "<polyline clip-path=\"url(#clip032)\" style=\"stroke:#000000; stroke-width:4; stroke-opacity:1; fill:none\" points=\"\n",
       "  395.072,1387.6 395.072,1385.83 \n",
       "  \"/>\n",
       "<polyline clip-path=\"url(#clip032)\" style=\"stroke:#000000; stroke-width:4; stroke-opacity:1; fill:none\" points=\"\n",
       "  553.077,1383.95 553.077,1381.05 \n",
       "  \"/>\n",
       "<polyline clip-path=\"url(#clip032)\" style=\"stroke:#000000; stroke-width:4; stroke-opacity:1; fill:none\" points=\"\n",
       "  711.083,1374.28 711.083,1371.63 \n",
       "  \"/>\n",
       "<polyline clip-path=\"url(#clip032)\" style=\"stroke:#000000; stroke-width:4; stroke-opacity:1; fill:none\" points=\"\n",
       "  869.088,1355.63 869.088,1352.07 \n",
       "  \"/>\n",
       "<polyline clip-path=\"url(#clip032)\" style=\"stroke:#000000; stroke-width:4; stroke-opacity:1; fill:none\" points=\"\n",
       "  1027.09,1325.82 1027.09,1323.46 \n",
       "  \"/>\n",
       "<polyline clip-path=\"url(#clip032)\" style=\"stroke:#000000; stroke-width:4; stroke-opacity:1; fill:none\" points=\"\n",
       "  1185.1,1284.1 1185.1,1278.67 \n",
       "  \"/>\n",
       "<polyline clip-path=\"url(#clip032)\" style=\"stroke:#000000; stroke-width:4; stroke-opacity:1; fill:none\" points=\"\n",
       "  1343.1,1223.82 1343.1,1215.36 \n",
       "  \"/>\n",
       "<polyline clip-path=\"url(#clip032)\" style=\"stroke:#000000; stroke-width:4; stroke-opacity:1; fill:none\" points=\"\n",
       "  1501.11,1146.59 1501.11,1134.73 \n",
       "  \"/>\n",
       "<polyline clip-path=\"url(#clip032)\" style=\"stroke:#000000; stroke-width:4; stroke-opacity:1; fill:none\" points=\"\n",
       "  1659.11,1043.23 1659.11,1033.05 \n",
       "  \"/>\n",
       "<polyline clip-path=\"url(#clip032)\" style=\"stroke:#000000; stroke-width:4; stroke-opacity:1; fill:none\" points=\"\n",
       "  1817.12,917.021 1817.12,910.401 \n",
       "  \"/>\n",
       "<polyline clip-path=\"url(#clip032)\" style=\"stroke:#000000; stroke-width:4; stroke-opacity:1; fill:none\" points=\"\n",
       "  1975.12,765.566 1975.12,748.393 \n",
       "  \"/>\n",
       "<polyline clip-path=\"url(#clip032)\" style=\"stroke:#000000; stroke-width:4; stroke-opacity:1; fill:none\" points=\"\n",
       "  2133.13,567.837 2133.13,533.227 \n",
       "  \"/>\n",
       "<polyline clip-path=\"url(#clip032)\" style=\"stroke:#000000; stroke-width:4; stroke-opacity:1; fill:none\" points=\"\n",
       "  2291.13,358.223 2291.13,338.935 \n",
       "  \"/>\n",
       "<line clip-path=\"url(#clip032)\" x1=\"253.067\" y1=\"1387\" x2=\"221.067\" y2=\"1387\" style=\"stroke:#000000; stroke-width:3.2; stroke-opacity:1\"/>\n",
       "<line clip-path=\"url(#clip032)\" x1=\"253.067\" y1=\"1387\" x2=\"221.067\" y2=\"1387\" style=\"stroke:#000000; stroke-width:3.2; stroke-opacity:1\"/>\n",
       "<line clip-path=\"url(#clip032)\" x1=\"411.072\" y1=\"1387.6\" x2=\"379.072\" y2=\"1387.6\" style=\"stroke:#000000; stroke-width:3.2; stroke-opacity:1\"/>\n",
       "<line clip-path=\"url(#clip032)\" x1=\"411.072\" y1=\"1385.83\" x2=\"379.072\" y2=\"1385.83\" style=\"stroke:#000000; stroke-width:3.2; stroke-opacity:1\"/>\n",
       "<line clip-path=\"url(#clip032)\" x1=\"569.077\" y1=\"1383.95\" x2=\"537.077\" y2=\"1383.95\" style=\"stroke:#000000; stroke-width:3.2; stroke-opacity:1\"/>\n",
       "<line clip-path=\"url(#clip032)\" x1=\"569.077\" y1=\"1381.05\" x2=\"537.077\" y2=\"1381.05\" style=\"stroke:#000000; stroke-width:3.2; stroke-opacity:1\"/>\n",
       "<line clip-path=\"url(#clip032)\" x1=\"727.083\" y1=\"1374.28\" x2=\"695.083\" y2=\"1374.28\" style=\"stroke:#000000; stroke-width:3.2; stroke-opacity:1\"/>\n",
       "<line clip-path=\"url(#clip032)\" x1=\"727.083\" y1=\"1371.63\" x2=\"695.083\" y2=\"1371.63\" style=\"stroke:#000000; stroke-width:3.2; stroke-opacity:1\"/>\n",
       "<line clip-path=\"url(#clip032)\" x1=\"885.088\" y1=\"1355.63\" x2=\"853.088\" y2=\"1355.63\" style=\"stroke:#000000; stroke-width:3.2; stroke-opacity:1\"/>\n",
       "<line clip-path=\"url(#clip032)\" x1=\"885.088\" y1=\"1352.07\" x2=\"853.088\" y2=\"1352.07\" style=\"stroke:#000000; stroke-width:3.2; stroke-opacity:1\"/>\n",
       "<line clip-path=\"url(#clip032)\" x1=\"1043.09\" y1=\"1325.82\" x2=\"1011.09\" y2=\"1325.82\" style=\"stroke:#000000; stroke-width:3.2; stroke-opacity:1\"/>\n",
       "<line clip-path=\"url(#clip032)\" x1=\"1043.09\" y1=\"1323.46\" x2=\"1011.09\" y2=\"1323.46\" style=\"stroke:#000000; stroke-width:3.2; stroke-opacity:1\"/>\n",
       "<line clip-path=\"url(#clip032)\" x1=\"1201.1\" y1=\"1284.1\" x2=\"1169.1\" y2=\"1284.1\" style=\"stroke:#000000; stroke-width:3.2; stroke-opacity:1\"/>\n",
       "<line clip-path=\"url(#clip032)\" x1=\"1201.1\" y1=\"1278.67\" x2=\"1169.1\" y2=\"1278.67\" style=\"stroke:#000000; stroke-width:3.2; stroke-opacity:1\"/>\n",
       "<line clip-path=\"url(#clip032)\" x1=\"1359.1\" y1=\"1223.82\" x2=\"1327.1\" y2=\"1223.82\" style=\"stroke:#000000; stroke-width:3.2; stroke-opacity:1\"/>\n",
       "<line clip-path=\"url(#clip032)\" x1=\"1359.1\" y1=\"1215.36\" x2=\"1327.1\" y2=\"1215.36\" style=\"stroke:#000000; stroke-width:3.2; stroke-opacity:1\"/>\n",
       "<line clip-path=\"url(#clip032)\" x1=\"1517.11\" y1=\"1146.59\" x2=\"1485.11\" y2=\"1146.59\" style=\"stroke:#000000; stroke-width:3.2; stroke-opacity:1\"/>\n",
       "<line clip-path=\"url(#clip032)\" x1=\"1517.11\" y1=\"1134.73\" x2=\"1485.11\" y2=\"1134.73\" style=\"stroke:#000000; stroke-width:3.2; stroke-opacity:1\"/>\n",
       "<line clip-path=\"url(#clip032)\" x1=\"1675.11\" y1=\"1043.23\" x2=\"1643.11\" y2=\"1043.23\" style=\"stroke:#000000; stroke-width:3.2; stroke-opacity:1\"/>\n",
       "<line clip-path=\"url(#clip032)\" x1=\"1675.11\" y1=\"1033.05\" x2=\"1643.11\" y2=\"1033.05\" style=\"stroke:#000000; stroke-width:3.2; stroke-opacity:1\"/>\n",
       "<line clip-path=\"url(#clip032)\" x1=\"1833.12\" y1=\"917.021\" x2=\"1801.12\" y2=\"917.021\" style=\"stroke:#000000; stroke-width:3.2; stroke-opacity:1\"/>\n",
       "<line clip-path=\"url(#clip032)\" x1=\"1833.12\" y1=\"910.401\" x2=\"1801.12\" y2=\"910.401\" style=\"stroke:#000000; stroke-width:3.2; stroke-opacity:1\"/>\n",
       "<line clip-path=\"url(#clip032)\" x1=\"1991.12\" y1=\"765.566\" x2=\"1959.12\" y2=\"765.566\" style=\"stroke:#000000; stroke-width:3.2; stroke-opacity:1\"/>\n",
       "<line clip-path=\"url(#clip032)\" x1=\"1991.12\" y1=\"748.393\" x2=\"1959.12\" y2=\"748.393\" style=\"stroke:#000000; stroke-width:3.2; stroke-opacity:1\"/>\n",
       "<line clip-path=\"url(#clip032)\" x1=\"2149.13\" y1=\"567.837\" x2=\"2117.13\" y2=\"567.837\" style=\"stroke:#000000; stroke-width:3.2; stroke-opacity:1\"/>\n",
       "<line clip-path=\"url(#clip032)\" x1=\"2149.13\" y1=\"533.227\" x2=\"2117.13\" y2=\"533.227\" style=\"stroke:#000000; stroke-width:3.2; stroke-opacity:1\"/>\n",
       "<line clip-path=\"url(#clip032)\" x1=\"2307.13\" y1=\"358.223\" x2=\"2275.13\" y2=\"358.223\" style=\"stroke:#000000; stroke-width:3.2; stroke-opacity:1\"/>\n",
       "<line clip-path=\"url(#clip032)\" x1=\"2307.13\" y1=\"338.935\" x2=\"2275.13\" y2=\"338.935\" style=\"stroke:#000000; stroke-width:3.2; stroke-opacity:1\"/>\n",
       "<circle clip-path=\"url(#clip032)\" cx=\"237.067\" cy=\"1387\" r=\"14\" fill=\"#0000ff\" fill-rule=\"evenodd\" fill-opacity=\"1\" stroke=\"#000000\" stroke-opacity=\"1\" stroke-width=\"3.2\"/>\n",
       "<circle clip-path=\"url(#clip032)\" cx=\"395.072\" cy=\"1386.71\" r=\"14\" fill=\"#0000ff\" fill-rule=\"evenodd\" fill-opacity=\"1\" stroke=\"#000000\" stroke-opacity=\"1\" stroke-width=\"3.2\"/>\n",
       "<circle clip-path=\"url(#clip032)\" cx=\"553.077\" cy=\"1382.5\" r=\"14\" fill=\"#0000ff\" fill-rule=\"evenodd\" fill-opacity=\"1\" stroke=\"#000000\" stroke-opacity=\"1\" stroke-width=\"3.2\"/>\n",
       "<circle clip-path=\"url(#clip032)\" cx=\"711.083\" cy=\"1372.95\" r=\"14\" fill=\"#0000ff\" fill-rule=\"evenodd\" fill-opacity=\"1\" stroke=\"#000000\" stroke-opacity=\"1\" stroke-width=\"3.2\"/>\n",
       "<circle clip-path=\"url(#clip032)\" cx=\"869.088\" cy=\"1353.85\" r=\"14\" fill=\"#0000ff\" fill-rule=\"evenodd\" fill-opacity=\"1\" stroke=\"#000000\" stroke-opacity=\"1\" stroke-width=\"3.2\"/>\n",
       "<circle clip-path=\"url(#clip032)\" cx=\"1027.09\" cy=\"1324.64\" r=\"14\" fill=\"#0000ff\" fill-rule=\"evenodd\" fill-opacity=\"1\" stroke=\"#000000\" stroke-opacity=\"1\" stroke-width=\"3.2\"/>\n",
       "<circle clip-path=\"url(#clip032)\" cx=\"1185.1\" cy=\"1281.38\" r=\"14\" fill=\"#0000ff\" fill-rule=\"evenodd\" fill-opacity=\"1\" stroke=\"#000000\" stroke-opacity=\"1\" stroke-width=\"3.2\"/>\n",
       "<circle clip-path=\"url(#clip032)\" cx=\"1343.1\" cy=\"1219.59\" r=\"14\" fill=\"#0000ff\" fill-rule=\"evenodd\" fill-opacity=\"1\" stroke=\"#000000\" stroke-opacity=\"1\" stroke-width=\"3.2\"/>\n",
       "<circle clip-path=\"url(#clip032)\" cx=\"1501.11\" cy=\"1140.66\" r=\"14\" fill=\"#0000ff\" fill-rule=\"evenodd\" fill-opacity=\"1\" stroke=\"#000000\" stroke-opacity=\"1\" stroke-width=\"3.2\"/>\n",
       "<circle clip-path=\"url(#clip032)\" cx=\"1659.11\" cy=\"1038.14\" r=\"14\" fill=\"#0000ff\" fill-rule=\"evenodd\" fill-opacity=\"1\" stroke=\"#000000\" stroke-opacity=\"1\" stroke-width=\"3.2\"/>\n",
       "<circle clip-path=\"url(#clip032)\" cx=\"1817.12\" cy=\"913.711\" r=\"14\" fill=\"#0000ff\" fill-rule=\"evenodd\" fill-opacity=\"1\" stroke=\"#000000\" stroke-opacity=\"1\" stroke-width=\"3.2\"/>\n",
       "<circle clip-path=\"url(#clip032)\" cx=\"1975.12\" cy=\"756.979\" r=\"14\" fill=\"#0000ff\" fill-rule=\"evenodd\" fill-opacity=\"1\" stroke=\"#000000\" stroke-opacity=\"1\" stroke-width=\"3.2\"/>\n",
       "<circle clip-path=\"url(#clip032)\" cx=\"2133.13\" cy=\"550.532\" r=\"14\" fill=\"#0000ff\" fill-rule=\"evenodd\" fill-opacity=\"1\" stroke=\"#000000\" stroke-opacity=\"1\" stroke-width=\"3.2\"/>\n",
       "<circle clip-path=\"url(#clip032)\" cx=\"2291.13\" cy=\"348.579\" r=\"14\" fill=\"#0000ff\" fill-rule=\"evenodd\" fill-opacity=\"1\" stroke=\"#000000\" stroke-opacity=\"1\" stroke-width=\"3.2\"/>\n",
       "<polyline clip-path=\"url(#clip032)\" style=\"stroke:#000000; stroke-width:4; stroke-opacity:1; fill:none\" points=\"\n",
       "  237.067,1387 237.067,1387 \n",
       "  \"/>\n",
       "<polyline clip-path=\"url(#clip032)\" style=\"stroke:#000000; stroke-width:4; stroke-opacity:1; fill:none\" points=\"\n",
       "  395.072,1387.32 395.072,1384.42 \n",
       "  \"/>\n",
       "<polyline clip-path=\"url(#clip032)\" style=\"stroke:#000000; stroke-width:4; stroke-opacity:1; fill:none\" points=\"\n",
       "  553.077,1383.95 553.077,1381.05 \n",
       "  \"/>\n",
       "<polyline clip-path=\"url(#clip032)\" style=\"stroke:#000000; stroke-width:4; stroke-opacity:1; fill:none\" points=\"\n",
       "  711.083,1373.03 711.083,1370.07 \n",
       "  \"/>\n",
       "<polyline clip-path=\"url(#clip032)\" style=\"stroke:#000000; stroke-width:4; stroke-opacity:1; fill:none\" points=\"\n",
       "  869.088,1354.5 869.088,1350.95 \n",
       "  \"/>\n",
       "<polyline clip-path=\"url(#clip032)\" style=\"stroke:#000000; stroke-width:4; stroke-opacity:1; fill:none\" points=\"\n",
       "  1027.09,1321.46 1027.09,1317.71 \n",
       "  \"/>\n",
       "<polyline clip-path=\"url(#clip032)\" style=\"stroke:#000000; stroke-width:4; stroke-opacity:1; fill:none\" points=\"\n",
       "  1185.1,1276.27 1185.1,1270.2 \n",
       "  \"/>\n",
       "<polyline clip-path=\"url(#clip032)\" style=\"stroke:#000000; stroke-width:4; stroke-opacity:1; fill:none\" points=\"\n",
       "  1343.1,1213.65 1343.1,1199.69 \n",
       "  \"/>\n",
       "<polyline clip-path=\"url(#clip032)\" style=\"stroke:#000000; stroke-width:4; stroke-opacity:1; fill:none\" points=\"\n",
       "  1501.11,1129.42 1501.11,1113.7 \n",
       "  \"/>\n",
       "<polyline clip-path=\"url(#clip032)\" style=\"stroke:#000000; stroke-width:4; stroke-opacity:1; fill:none\" points=\"\n",
       "  1659.11,1011.27 1659.11,996.478 \n",
       "  \"/>\n",
       "<polyline clip-path=\"url(#clip032)\" style=\"stroke:#000000; stroke-width:4; stroke-opacity:1; fill:none\" points=\"\n",
       "  1817.12,876.793 1817.12,854.005 \n",
       "  \"/>\n",
       "<polyline clip-path=\"url(#clip032)\" style=\"stroke:#000000; stroke-width:4; stroke-opacity:1; fill:none\" points=\"\n",
       "  1975.12,705.526 1975.12,687.093 \n",
       "  \"/>\n",
       "<polyline clip-path=\"url(#clip032)\" style=\"stroke:#000000; stroke-width:4; stroke-opacity:1; fill:none\" points=\"\n",
       "  2133.13,510.616 2133.13,478.096 \n",
       "  \"/>\n",
       "<polyline clip-path=\"url(#clip032)\" style=\"stroke:#000000; stroke-width:4; stroke-opacity:1; fill:none\" points=\"\n",
       "  2291.13,251.181 2291.13,219.025 \n",
       "  \"/>\n",
       "<line clip-path=\"url(#clip032)\" x1=\"253.067\" y1=\"1387\" x2=\"221.067\" y2=\"1387\" style=\"stroke:#000000; stroke-width:3.2; stroke-opacity:1\"/>\n",
       "<line clip-path=\"url(#clip032)\" x1=\"253.067\" y1=\"1387\" x2=\"221.067\" y2=\"1387\" style=\"stroke:#000000; stroke-width:3.2; stroke-opacity:1\"/>\n",
       "<line clip-path=\"url(#clip032)\" x1=\"411.072\" y1=\"1387.32\" x2=\"379.072\" y2=\"1387.32\" style=\"stroke:#000000; stroke-width:3.2; stroke-opacity:1\"/>\n",
       "<line clip-path=\"url(#clip032)\" x1=\"411.072\" y1=\"1384.42\" x2=\"379.072\" y2=\"1384.42\" style=\"stroke:#000000; stroke-width:3.2; stroke-opacity:1\"/>\n",
       "<line clip-path=\"url(#clip032)\" x1=\"569.077\" y1=\"1383.95\" x2=\"537.077\" y2=\"1383.95\" style=\"stroke:#000000; stroke-width:3.2; stroke-opacity:1\"/>\n",
       "<line clip-path=\"url(#clip032)\" x1=\"569.077\" y1=\"1381.05\" x2=\"537.077\" y2=\"1381.05\" style=\"stroke:#000000; stroke-width:3.2; stroke-opacity:1\"/>\n",
       "<line clip-path=\"url(#clip032)\" x1=\"727.083\" y1=\"1373.03\" x2=\"695.083\" y2=\"1373.03\" style=\"stroke:#000000; stroke-width:3.2; stroke-opacity:1\"/>\n",
       "<line clip-path=\"url(#clip032)\" x1=\"727.083\" y1=\"1370.07\" x2=\"695.083\" y2=\"1370.07\" style=\"stroke:#000000; stroke-width:3.2; stroke-opacity:1\"/>\n",
       "<line clip-path=\"url(#clip032)\" x1=\"885.088\" y1=\"1354.5\" x2=\"853.088\" y2=\"1354.5\" style=\"stroke:#000000; stroke-width:3.2; stroke-opacity:1\"/>\n",
       "<line clip-path=\"url(#clip032)\" x1=\"885.088\" y1=\"1350.95\" x2=\"853.088\" y2=\"1350.95\" style=\"stroke:#000000; stroke-width:3.2; stroke-opacity:1\"/>\n",
       "<line clip-path=\"url(#clip032)\" x1=\"1043.09\" y1=\"1321.46\" x2=\"1011.09\" y2=\"1321.46\" style=\"stroke:#000000; stroke-width:3.2; stroke-opacity:1\"/>\n",
       "<line clip-path=\"url(#clip032)\" x1=\"1043.09\" y1=\"1317.71\" x2=\"1011.09\" y2=\"1317.71\" style=\"stroke:#000000; stroke-width:3.2; stroke-opacity:1\"/>\n",
       "<line clip-path=\"url(#clip032)\" x1=\"1201.1\" y1=\"1276.27\" x2=\"1169.1\" y2=\"1276.27\" style=\"stroke:#000000; stroke-width:3.2; stroke-opacity:1\"/>\n",
       "<line clip-path=\"url(#clip032)\" x1=\"1201.1\" y1=\"1270.2\" x2=\"1169.1\" y2=\"1270.2\" style=\"stroke:#000000; stroke-width:3.2; stroke-opacity:1\"/>\n",
       "<line clip-path=\"url(#clip032)\" x1=\"1359.1\" y1=\"1213.65\" x2=\"1327.1\" y2=\"1213.65\" style=\"stroke:#000000; stroke-width:3.2; stroke-opacity:1\"/>\n",
       "<line clip-path=\"url(#clip032)\" x1=\"1359.1\" y1=\"1199.69\" x2=\"1327.1\" y2=\"1199.69\" style=\"stroke:#000000; stroke-width:3.2; stroke-opacity:1\"/>\n",
       "<line clip-path=\"url(#clip032)\" x1=\"1517.11\" y1=\"1129.42\" x2=\"1485.11\" y2=\"1129.42\" style=\"stroke:#000000; stroke-width:3.2; stroke-opacity:1\"/>\n",
       "<line clip-path=\"url(#clip032)\" x1=\"1517.11\" y1=\"1113.7\" x2=\"1485.11\" y2=\"1113.7\" style=\"stroke:#000000; stroke-width:3.2; stroke-opacity:1\"/>\n",
       "<line clip-path=\"url(#clip032)\" x1=\"1675.11\" y1=\"1011.27\" x2=\"1643.11\" y2=\"1011.27\" style=\"stroke:#000000; stroke-width:3.2; stroke-opacity:1\"/>\n",
       "<line clip-path=\"url(#clip032)\" x1=\"1675.11\" y1=\"996.478\" x2=\"1643.11\" y2=\"996.478\" style=\"stroke:#000000; stroke-width:3.2; stroke-opacity:1\"/>\n",
       "<line clip-path=\"url(#clip032)\" x1=\"1833.12\" y1=\"876.793\" x2=\"1801.12\" y2=\"876.793\" style=\"stroke:#000000; stroke-width:3.2; stroke-opacity:1\"/>\n",
       "<line clip-path=\"url(#clip032)\" x1=\"1833.12\" y1=\"854.005\" x2=\"1801.12\" y2=\"854.005\" style=\"stroke:#000000; stroke-width:3.2; stroke-opacity:1\"/>\n",
       "<line clip-path=\"url(#clip032)\" x1=\"1991.12\" y1=\"705.526\" x2=\"1959.12\" y2=\"705.526\" style=\"stroke:#000000; stroke-width:3.2; stroke-opacity:1\"/>\n",
       "<line clip-path=\"url(#clip032)\" x1=\"1991.12\" y1=\"687.093\" x2=\"1959.12\" y2=\"687.093\" style=\"stroke:#000000; stroke-width:3.2; stroke-opacity:1\"/>\n",
       "<line clip-path=\"url(#clip032)\" x1=\"2149.13\" y1=\"510.616\" x2=\"2117.13\" y2=\"510.616\" style=\"stroke:#000000; stroke-width:3.2; stroke-opacity:1\"/>\n",
       "<line clip-path=\"url(#clip032)\" x1=\"2149.13\" y1=\"478.096\" x2=\"2117.13\" y2=\"478.096\" style=\"stroke:#000000; stroke-width:3.2; stroke-opacity:1\"/>\n",
       "<line clip-path=\"url(#clip032)\" x1=\"2307.13\" y1=\"251.181\" x2=\"2275.13\" y2=\"251.181\" style=\"stroke:#000000; stroke-width:3.2; stroke-opacity:1\"/>\n",
       "<line clip-path=\"url(#clip032)\" x1=\"2307.13\" y1=\"219.025\" x2=\"2275.13\" y2=\"219.025\" style=\"stroke:#000000; stroke-width:3.2; stroke-opacity:1\"/>\n",
       "<circle clip-path=\"url(#clip032)\" cx=\"237.067\" cy=\"1387\" r=\"14\" fill=\"#008000\" fill-rule=\"evenodd\" fill-opacity=\"1\" stroke=\"#000000\" stroke-opacity=\"1\" stroke-width=\"3.2\"/>\n",
       "<circle clip-path=\"url(#clip032)\" cx=\"395.072\" cy=\"1385.87\" r=\"14\" fill=\"#008000\" fill-rule=\"evenodd\" fill-opacity=\"1\" stroke=\"#000000\" stroke-opacity=\"1\" stroke-width=\"3.2\"/>\n",
       "<circle clip-path=\"url(#clip032)\" cx=\"553.077\" cy=\"1382.5\" r=\"14\" fill=\"#008000\" fill-rule=\"evenodd\" fill-opacity=\"1\" stroke=\"#000000\" stroke-opacity=\"1\" stroke-width=\"3.2\"/>\n",
       "<circle clip-path=\"url(#clip032)\" cx=\"711.083\" cy=\"1371.55\" r=\"14\" fill=\"#008000\" fill-rule=\"evenodd\" fill-opacity=\"1\" stroke=\"#000000\" stroke-opacity=\"1\" stroke-width=\"3.2\"/>\n",
       "<circle clip-path=\"url(#clip032)\" cx=\"869.088\" cy=\"1352.73\" r=\"14\" fill=\"#008000\" fill-rule=\"evenodd\" fill-opacity=\"1\" stroke=\"#000000\" stroke-opacity=\"1\" stroke-width=\"3.2\"/>\n",
       "<circle clip-path=\"url(#clip032)\" cx=\"1027.09\" cy=\"1319.58\" r=\"14\" fill=\"#008000\" fill-rule=\"evenodd\" fill-opacity=\"1\" stroke=\"#000000\" stroke-opacity=\"1\" stroke-width=\"3.2\"/>\n",
       "<circle clip-path=\"url(#clip032)\" cx=\"1185.1\" cy=\"1273.24\" r=\"14\" fill=\"#008000\" fill-rule=\"evenodd\" fill-opacity=\"1\" stroke=\"#000000\" stroke-opacity=\"1\" stroke-width=\"3.2\"/>\n",
       "<circle clip-path=\"url(#clip032)\" cx=\"1343.1\" cy=\"1206.67\" r=\"14\" fill=\"#008000\" fill-rule=\"evenodd\" fill-opacity=\"1\" stroke=\"#000000\" stroke-opacity=\"1\" stroke-width=\"3.2\"/>\n",
       "<circle clip-path=\"url(#clip032)\" cx=\"1501.11\" cy=\"1121.56\" r=\"14\" fill=\"#008000\" fill-rule=\"evenodd\" fill-opacity=\"1\" stroke=\"#000000\" stroke-opacity=\"1\" stroke-width=\"3.2\"/>\n",
       "<circle clip-path=\"url(#clip032)\" cx=\"1659.11\" cy=\"1003.87\" r=\"14\" fill=\"#008000\" fill-rule=\"evenodd\" fill-opacity=\"1\" stroke=\"#000000\" stroke-opacity=\"1\" stroke-width=\"3.2\"/>\n",
       "<circle clip-path=\"url(#clip032)\" cx=\"1817.12\" cy=\"865.399\" r=\"14\" fill=\"#008000\" fill-rule=\"evenodd\" fill-opacity=\"1\" stroke=\"#000000\" stroke-opacity=\"1\" stroke-width=\"3.2\"/>\n",
       "<circle clip-path=\"url(#clip032)\" cx=\"1975.12\" cy=\"696.309\" r=\"14\" fill=\"#008000\" fill-rule=\"evenodd\" fill-opacity=\"1\" stroke=\"#000000\" stroke-opacity=\"1\" stroke-width=\"3.2\"/>\n",
       "<circle clip-path=\"url(#clip032)\" cx=\"2133.13\" cy=\"494.356\" r=\"14\" fill=\"#008000\" fill-rule=\"evenodd\" fill-opacity=\"1\" stroke=\"#000000\" stroke-opacity=\"1\" stroke-width=\"3.2\"/>\n",
       "<circle clip-path=\"url(#clip032)\" cx=\"2291.13\" cy=\"235.103\" r=\"14\" fill=\"#008000\" fill-rule=\"evenodd\" fill-opacity=\"1\" stroke=\"#000000\" stroke-opacity=\"1\" stroke-width=\"3.2\"/>\n",
       "<polyline clip-path=\"url(#clip032)\" style=\"stroke:#008000; stroke-width:4; stroke-opacity:1; fill:none\" points=\"\n",
       "  237.067,1388.11 257.608,1387.84 278.149,1387.57 298.689,1387.31 319.23,1387.04 339.771,1386.75 360.311,1386.44 380.852,1386.11 401.393,1385.74 421.933,1385.32 \n",
       "  442.474,1384.86 463.015,1384.34 483.555,1383.75 504.096,1383.09 524.637,1382.36 545.177,1381.53 565.718,1380.62 586.259,1379.61 606.799,1378.48 627.34,1377.25 \n",
       "  647.881,1375.89 668.421,1374.4 688.962,1372.78 709.503,1371.01 730.043,1369.1 750.584,1367.03 771.125,1364.79 791.665,1362.38 812.206,1359.79 832.747,1357.02 \n",
       "  853.287,1354.05 873.828,1350.89 894.369,1347.51 914.909,1343.92 935.45,1340.11 955.991,1336.08 976.531,1331.8 997.072,1327.29 1017.61,1322.52 1038.15,1317.49 \n",
       "  1058.69,1312.2 1079.23,1306.64 1099.78,1300.8 1120.32,1294.68 1140.86,1288.26 1161.4,1281.54 1181.94,1274.52 1202.48,1267.18 1223.02,1259.51 1243.56,1251.52 \n",
       "  1264.1,1243.2 1284.64,1234.53 1305.18,1225.51 1325.72,1216.13 1346.26,1206.39 1366.8,1196.27 1387.34,1185.78 1407.89,1174.9 1428.43,1163.63 1448.97,1151.96 \n",
       "  1469.51,1139.88 1490.05,1127.39 1510.59,1114.48 1531.13,1101.13 1551.67,1087.35 1572.21,1073.13 1592.75,1058.46 1613.29,1043.33 1633.83,1027.73 1654.37,1011.66 \n",
       "  1674.91,995.119 1695.45,978.088 1716,960.563 1736.54,942.538 1757.08,924.006 1777.62,904.959 1798.16,885.391 1818.7,865.293 1839.24,844.66 1859.78,823.483 \n",
       "  1880.32,801.756 1900.86,779.472 1921.4,756.623 1941.94,733.203 1962.48,709.203 1983.02,684.618 2003.56,659.439 2024.11,633.66 2044.65,607.273 2065.19,580.272 \n",
       "  2085.73,552.649 2106.27,524.398 2126.81,495.51 2147.35,465.979 2167.89,435.797 2188.43,404.958 2208.97,373.455 2229.51,341.28 2250.05,308.425 2270.59,274.885 \n",
       "  2291.13,240.651 \n",
       "  \"/>\n",
       "<polyline clip-path=\"url(#clip032)\" style=\"stroke:#0000ff; stroke-width:4; stroke-opacity:1; fill:none\" points=\"\n",
       "  237.067,1387.38 257.608,1387.28 278.149,1387.17 298.689,1387.06 319.23,1386.93 339.771,1386.77 360.311,1386.58 380.852,1386.36 401.393,1386.09 421.933,1385.77 \n",
       "  442.474,1385.4 463.015,1384.97 483.555,1384.47 504.096,1383.89 524.637,1383.24 545.177,1382.5 565.718,1381.66 586.259,1380.73 606.799,1379.69 627.34,1378.54 \n",
       "  647.881,1377.27 668.421,1375.88 688.962,1374.36 709.503,1372.7 730.043,1370.9 750.584,1368.95 771.125,1366.85 791.665,1364.58 812.206,1362.15 832.747,1359.54 \n",
       "  853.287,1356.75 873.828,1353.78 894.369,1350.61 914.909,1347.25 935.45,1343.68 955.991,1339.9 976.531,1335.9 997.072,1331.68 1017.61,1327.22 1038.15,1322.54 \n",
       "  1058.69,1317.61 1079.23,1312.43 1099.78,1306.99 1120.32,1301.3 1140.86,1295.34 1161.4,1289.1 1181.94,1282.58 1202.48,1275.78 1223.02,1268.69 1243.56,1261.29 \n",
       "  1264.1,1253.6 1284.64,1245.59 1305.18,1237.26 1325.72,1228.61 1346.26,1219.64 1366.8,1210.32 1387.34,1200.66 1407.89,1190.66 1428.43,1180.3 1448.97,1169.58 \n",
       "  1469.51,1158.49 1490.05,1147.03 1510.59,1135.19 1531.13,1122.96 1551.67,1110.34 1572.21,1097.33 1592.75,1083.91 1613.29,1070.07 1633.83,1055.82 1654.37,1041.15 \n",
       "  1674.91,1026.05 1695.45,1010.51 1716,994.534 1736.54,978.106 1757.08,961.224 1777.62,943.881 1798.16,926.072 1818.7,907.789 1839.24,889.028 1859.78,869.78 \n",
       "  1880.32,850.041 1900.86,829.803 1921.4,809.062 1941.94,787.809 1962.48,766.041 1983.02,743.749 2003.56,720.927 2024.11,697.571 2044.65,673.672 2065.19,649.226 \n",
       "  2085.73,624.226 2106.27,598.665 2126.81,572.537 2147.35,545.837 2167.89,518.557 2188.43,490.693 2208.97,462.236 2229.51,433.182 2250.05,403.524 2270.59,373.255 \n",
       "  2291.13,342.37 \n",
       "  \"/>\n",
       "<polyline clip-path=\"url(#clip032)\" style=\"stroke:#ff0000; stroke-width:4; stroke-opacity:1; fill:none\" points=\"\n",
       "  237.067,1387.08 257.608,1387.08 278.149,1387.07 298.689,1387.07 319.23,1387.06 339.771,1387.05 360.311,1387.03 380.852,1387.01 401.393,1386.98 421.933,1386.95 \n",
       "  442.474,1386.92 463.015,1386.87 483.555,1386.82 504.096,1386.77 524.637,1386.7 545.177,1386.63 565.718,1386.54 586.259,1386.45 606.799,1386.35 627.34,1386.24 \n",
       "  647.881,1386.11 668.421,1385.98 688.962,1385.83 709.503,1385.67 730.043,1385.49 750.584,1385.31 771.125,1385.11 791.665,1384.89 812.206,1384.66 832.747,1384.41 \n",
       "  853.287,1384.15 873.828,1383.87 894.369,1383.58 914.909,1383.26 935.45,1382.93 955.991,1382.58 976.531,1382.21 997.072,1381.82 1017.61,1381.41 1038.15,1380.98 \n",
       "  1058.69,1380.53 1079.23,1380.06 1099.78,1379.57 1120.32,1379.05 1140.86,1378.51 1161.4,1377.94 1181.94,1377.35 1202.48,1376.74 1223.02,1376.1 1243.56,1375.44 \n",
       "  1264.1,1374.74 1284.64,1374.03 1305.18,1373.28 1325.72,1372.51 1346.26,1371.71 1366.8,1370.88 1387.34,1370.02 1407.89,1369.13 1428.43,1368.21 1448.97,1367.26 \n",
       "  1469.51,1366.28 1490.05,1365.27 1510.59,1364.22 1531.13,1363.14 1551.67,1362.03 1572.21,1360.88 1592.75,1359.7 1613.29,1358.49 1633.83,1357.24 1654.37,1355.95 \n",
       "  1674.91,1354.63 1695.45,1353.27 1716,1351.87 1736.54,1350.44 1757.08,1348.97 1777.62,1347.45 1798.16,1345.9 1818.7,1344.31 1839.24,1342.68 1859.78,1341 \n",
       "  1880.32,1339.29 1900.86,1337.53 1921.4,1335.73 1941.94,1333.89 1962.48,1332 1983.02,1330.07 2003.56,1328.1 2024.11,1326.08 2044.65,1324.01 2065.19,1321.9 \n",
       "  2085.73,1319.75 2106.27,1317.54 2126.81,1315.29 2147.35,1312.99 2167.89,1310.64 2188.43,1308.24 2208.97,1305.79 2229.51,1303.3 2250.05,1300.75 2270.59,1298.15 \n",
       "  2291.13,1295.5 \n",
       "  \"/>\n",
       "<path clip-path=\"url(#clip030)\" d=\"\n",
       "M1608.98 467.18 L2280.18 467.18 L2280.18 225.26 L1608.98 225.26  Z\n",
       "  \" fill=\"#ffffff\" fill-rule=\"evenodd\" fill-opacity=\"1\"/>\n",
       "<polyline clip-path=\"url(#clip030)\" style=\"stroke:#000000; stroke-width:4; stroke-opacity:1; fill:none\" points=\"\n",
       "  1608.98,467.18 2280.18,467.18 2280.18,225.26 1608.98,225.26 1608.98,467.18 \n",
       "  \"/>\n",
       "<circle clip-path=\"url(#clip030)\" cx=\"1705.74\" cy=\"285.74\" r=\"23\" fill=\"#ff0000\" fill-rule=\"evenodd\" fill-opacity=\"1\" stroke=\"#000000\" stroke-opacity=\"1\" stroke-width=\"5.12\"/>\n",
       "<path clip-path=\"url(#clip030)\" d=\"M 0 0 M1807.19 286.515 L1807.19 299.177 L1814.69 299.177 Q1818.46 299.177 1820.27 297.626 Q1822.1 296.052 1822.1 292.835 Q1822.1 289.594 1820.27 288.066 Q1818.46 286.515 1814.69 286.515 L1807.19 286.515 M1807.19 272.302 L1807.19 282.719 L1814.11 282.719 Q1817.54 282.719 1819.2 281.446 Q1820.89 280.149 1820.89 277.511 Q1820.89 274.895 1819.2 273.599 Q1817.54 272.302 1814.11 272.302 L1807.19 272.302 M1802.51 268.46 L1814.46 268.46 Q1819.81 268.46 1822.7 270.682 Q1825.59 272.904 1825.59 277.001 Q1825.59 280.173 1824.11 282.048 Q1822.63 283.923 1819.76 284.386 Q1823.21 285.126 1825.11 287.487 Q1827.03 289.825 1827.03 293.344 Q1827.03 297.973 1823.88 300.497 Q1820.73 303.02 1814.92 303.02 L1802.51 303.02 L1802.51 268.46 Z\" fill=\"#000000\" fill-rule=\"evenodd\" fill-opacity=\"1\" /><path clip-path=\"url(#clip030)\" d=\"M 0 0 M1831.68 268.46 L1836.36 268.46 L1836.36 299.085 L1853.19 299.085 L1853.19 303.02 L1831.68 303.02 L1831.68 268.46 Z\" fill=\"#000000\" fill-rule=\"evenodd\" fill-opacity=\"1\" /><path clip-path=\"url(#clip030)\" d=\"M 0 0 M1870.48 273.066 L1864.13 290.265 L1876.84 290.265 L1870.48 273.066 M1867.84 268.46 L1873.14 268.46 L1886.31 303.02 L1881.45 303.02 L1878.3 294.154 L1862.72 294.154 L1859.57 303.02 L1854.64 303.02 L1867.84 268.46 Z\" fill=\"#000000\" fill-rule=\"evenodd\" fill-opacity=\"1\" /><path clip-path=\"url(#clip030)\" d=\"M 0 0 M1911.68 269.594 L1911.68 274.154 Q1909.02 272.881 1906.66 272.256 Q1904.3 271.631 1902.1 271.631 Q1898.28 271.631 1896.19 273.112 Q1894.13 274.594 1894.13 277.325 Q1894.13 279.617 1895.5 280.798 Q1896.89 281.955 1900.73 282.673 L1903.56 283.251 Q1908.79 284.247 1911.26 286.77 Q1913.76 289.27 1913.76 293.483 Q1913.76 298.506 1910.38 301.098 Q1907.03 303.691 1900.52 303.691 Q1898.07 303.691 1895.29 303.135 Q1892.54 302.58 1889.57 301.492 L1889.57 296.677 Q1892.42 298.274 1895.15 299.085 Q1897.88 299.895 1900.52 299.895 Q1904.53 299.895 1906.7 298.321 Q1908.88 296.747 1908.88 293.83 Q1908.88 291.284 1907.31 289.848 Q1905.75 288.413 1902.19 287.696 L1899.34 287.14 Q1894.11 286.099 1891.77 283.876 Q1889.43 281.654 1889.43 277.696 Q1889.43 273.112 1892.65 270.474 Q1895.89 267.835 1901.56 267.835 Q1904 267.835 1906.52 268.275 Q1909.04 268.714 1911.68 269.594 Z\" fill=\"#000000\" fill-rule=\"evenodd\" fill-opacity=\"1\" /><path clip-path=\"url(#clip030)\" d=\"M 0 0 M1937.93 310.89 L1937.93 314.2 L1913.3 314.2 L1913.3 310.89 L1937.93 310.89 Z\" fill=\"#000000\" fill-rule=\"evenodd\" fill-opacity=\"1\" /><path clip-path=\"url(#clip030)\" d=\"M 0 0 M1962.58 282.071 Q1964.18 279.2 1966.4 277.835 Q1968.62 276.469 1971.63 276.469 Q1975.68 276.469 1977.88 279.316 Q1980.08 282.14 1980.08 287.372 L1980.08 303.02 L1975.8 303.02 L1975.8 287.511 Q1975.8 283.784 1974.48 281.978 Q1973.16 280.173 1970.45 280.173 Q1967.14 280.173 1965.22 282.372 Q1963.3 284.571 1963.3 288.367 L1963.3 303.02 L1959.02 303.02 L1959.02 287.511 Q1959.02 283.761 1957.7 281.978 Q1956.38 280.173 1953.62 280.173 Q1950.36 280.173 1948.44 282.395 Q1946.52 284.594 1946.52 288.367 L1946.52 303.02 L1942.24 303.02 L1942.24 277.094 L1946.52 277.094 L1946.52 281.122 Q1947.98 278.737 1950.01 277.603 Q1952.05 276.469 1954.85 276.469 Q1957.68 276.469 1959.64 277.904 Q1961.63 279.339 1962.58 282.071 Z\" fill=\"#000000\" fill-rule=\"evenodd\" fill-opacity=\"1\" /><path clip-path=\"url(#clip030)\" d=\"M 0 0 M1984.11 292.788 L1984.11 277.094 L1988.37 277.094 L1988.37 292.626 Q1988.37 296.307 1989.8 298.159 Q1991.24 299.987 1994.11 299.987 Q1997.56 299.987 1999.55 297.788 Q2001.56 295.589 2001.56 291.793 L2001.56 277.094 L2005.82 277.094 L2005.82 303.02 L2001.56 303.02 L2001.56 299.038 Q2000.01 301.399 1997.95 302.557 Q1995.92 303.691 1993.21 303.691 Q1988.74 303.691 1986.43 300.913 Q1984.11 298.135 1984.11 292.788 M1994.83 276.469 L1994.83 276.469 Z\" fill=\"#000000\" fill-rule=\"evenodd\" fill-opacity=\"1\" /><path clip-path=\"url(#clip030)\" d=\"M 0 0 M2010.29 267.001 L2014.55 267.001 L2014.55 303.02 L2010.29 303.02 L2010.29 267.001 Z\" fill=\"#000000\" fill-rule=\"evenodd\" fill-opacity=\"1\" /><path clip-path=\"url(#clip030)\" d=\"M 0 0 M2023.23 269.733 L2023.23 277.094 L2032 277.094 L2032 280.404 L2023.23 280.404 L2023.23 294.478 Q2023.23 297.649 2024.09 298.552 Q2024.97 299.455 2027.63 299.455 L2032 299.455 L2032 303.02 L2027.63 303.02 Q2022.7 303.02 2020.82 301.191 Q2018.95 299.339 2018.95 294.478 L2018.95 280.404 L2015.82 280.404 L2015.82 277.094 L2018.95 277.094 L2018.95 269.733 L2023.23 269.733 Z\" fill=\"#000000\" fill-rule=\"evenodd\" fill-opacity=\"1\" /><path clip-path=\"url(#clip030)\" d=\"M 0 0 M2036.47 277.094 L2040.73 277.094 L2040.73 303.02 L2036.47 303.02 L2036.47 277.094 M2036.47 267.001 L2040.73 267.001 L2040.73 272.395 L2036.47 272.395 L2036.47 267.001 Z\" fill=\"#000000\" fill-rule=\"evenodd\" fill-opacity=\"1\" /><path clip-path=\"url(#clip030)\" d=\"M 0 0 M2049.32 299.131 L2049.32 312.881 L2045.04 312.881 L2045.04 277.094 L2049.32 277.094 L2049.32 281.029 Q2050.66 278.714 2052.7 277.603 Q2054.76 276.469 2057.61 276.469 Q2062.33 276.469 2065.27 280.219 Q2068.23 283.969 2068.23 290.08 Q2068.23 296.191 2065.27 299.941 Q2062.33 303.691 2057.61 303.691 Q2054.76 303.691 2052.7 302.58 Q2050.66 301.446 2049.32 299.131 M2063.81 290.08 Q2063.81 285.381 2061.86 282.719 Q2059.94 280.034 2056.56 280.034 Q2053.18 280.034 2051.24 282.719 Q2049.32 285.381 2049.32 290.08 Q2049.32 294.779 2051.24 297.464 Q2053.18 300.126 2056.56 300.126 Q2059.94 300.126 2061.86 297.464 Q2063.81 294.779 2063.81 290.08 Z\" fill=\"#000000\" fill-rule=\"evenodd\" fill-opacity=\"1\" /><path clip-path=\"url(#clip030)\" d=\"M 0 0 M2072.7 267.001 L2076.96 267.001 L2076.96 303.02 L2072.7 303.02 L2072.7 267.001 Z\" fill=\"#000000\" fill-rule=\"evenodd\" fill-opacity=\"1\" /><path clip-path=\"url(#clip030)\" d=\"M 0 0 M2081.42 277.094 L2085.68 277.094 L2085.68 303.02 L2081.42 303.02 L2081.42 277.094 M2081.42 267.001 L2085.68 267.001 L2085.68 272.395 L2081.42 272.395 L2081.42 267.001 Z\" fill=\"#000000\" fill-rule=\"evenodd\" fill-opacity=\"1\" /><path clip-path=\"url(#clip030)\" d=\"M 0 0 M2108.81 278.089 L2108.81 282.071 Q2107 281.075 2105.17 280.589 Q2103.37 280.08 2101.52 280.08 Q2097.37 280.08 2095.08 282.719 Q2092.79 285.335 2092.79 290.08 Q2092.79 294.825 2095.08 297.464 Q2097.37 300.08 2101.52 300.08 Q2103.37 300.08 2105.17 299.594 Q2107 299.085 2108.81 298.089 L2108.81 302.024 Q2107.03 302.858 2105.11 303.274 Q2103.21 303.691 2101.05 303.691 Q2095.2 303.691 2091.75 300.01 Q2088.3 296.33 2088.3 290.08 Q2088.3 283.737 2091.77 280.103 Q2095.27 276.469 2101.33 276.469 Q2103.3 276.469 2105.17 276.886 Q2107.05 277.279 2108.81 278.089 Z\" fill=\"#000000\" fill-rule=\"evenodd\" fill-opacity=\"1\" /><path clip-path=\"url(#clip030)\" d=\"M 0 0 M2125.06 289.987 Q2119.9 289.987 2117.91 291.168 Q2115.92 292.348 2115.92 295.196 Q2115.92 297.464 2117.4 298.807 Q2118.9 300.126 2121.47 300.126 Q2125.01 300.126 2127.14 297.626 Q2129.29 295.103 2129.29 290.936 L2129.29 289.987 L2125.06 289.987 M2133.55 288.228 L2133.55 303.02 L2129.29 303.02 L2129.29 299.085 Q2127.84 301.446 2125.66 302.58 Q2123.48 303.691 2120.34 303.691 Q2116.36 303.691 2113.99 301.469 Q2111.66 299.223 2111.66 295.473 Q2111.66 291.098 2114.57 288.876 Q2117.51 286.654 2123.32 286.654 L2129.29 286.654 L2129.29 286.237 Q2129.29 283.298 2127.35 281.7 Q2125.43 280.08 2121.93 280.08 Q2119.71 280.08 2117.6 280.612 Q2115.5 281.145 2113.55 282.21 L2113.55 278.274 Q2115.89 277.372 2118.09 276.932 Q2120.29 276.469 2122.37 276.469 Q2128 276.469 2130.78 279.386 Q2133.55 282.302 2133.55 288.228 Z\" fill=\"#000000\" fill-rule=\"evenodd\" fill-opacity=\"1\" /><path clip-path=\"url(#clip030)\" d=\"M 0 0 M2142.23 269.733 L2142.23 277.094 L2151.01 277.094 L2151.01 280.404 L2142.23 280.404 L2142.23 294.478 Q2142.23 297.649 2143.09 298.552 Q2143.97 299.455 2146.63 299.455 L2151.01 299.455 L2151.01 303.02 L2146.63 303.02 Q2141.7 303.02 2139.83 301.191 Q2137.95 299.339 2137.95 294.478 L2137.95 280.404 L2134.83 280.404 L2134.83 277.094 L2137.95 277.094 L2137.95 269.733 L2142.23 269.733 Z\" fill=\"#000000\" fill-rule=\"evenodd\" fill-opacity=\"1\" /><path clip-path=\"url(#clip030)\" d=\"M 0 0 M2155.48 277.094 L2159.73 277.094 L2159.73 303.02 L2155.48 303.02 L2155.48 277.094 M2155.48 267.001 L2159.73 267.001 L2159.73 272.395 L2155.48 272.395 L2155.48 267.001 Z\" fill=\"#000000\" fill-rule=\"evenodd\" fill-opacity=\"1\" /><path clip-path=\"url(#clip030)\" d=\"M 0 0 M2174.25 280.08 Q2170.82 280.08 2168.83 282.765 Q2166.84 285.427 2166.84 290.08 Q2166.84 294.733 2168.81 297.418 Q2170.8 300.08 2174.25 300.08 Q2177.65 300.08 2179.64 297.395 Q2181.63 294.71 2181.63 290.08 Q2181.63 285.474 2179.64 282.788 Q2177.65 280.08 2174.25 280.08 M2174.25 276.469 Q2179.8 276.469 2182.98 280.08 Q2186.15 283.691 2186.15 290.08 Q2186.15 296.446 2182.98 300.08 Q2179.8 303.691 2174.25 303.691 Q2168.67 303.691 2165.5 300.08 Q2162.35 296.446 2162.35 290.08 Q2162.35 283.691 2165.5 280.08 Q2168.67 276.469 2174.25 276.469 Z\" fill=\"#000000\" fill-rule=\"evenodd\" fill-opacity=\"1\" /><path clip-path=\"url(#clip030)\" d=\"M 0 0 M2212.16 287.372 L2212.16 303.02 L2207.91 303.02 L2207.91 287.511 Q2207.91 283.83 2206.47 282.001 Q2205.04 280.173 2202.16 280.173 Q2198.72 280.173 2196.72 282.372 Q2194.73 284.571 2194.73 288.367 L2194.73 303.02 L2190.45 303.02 L2190.45 277.094 L2194.73 277.094 L2194.73 281.122 Q2196.26 278.784 2198.32 277.626 Q2200.41 276.469 2203.11 276.469 Q2207.58 276.469 2209.87 279.247 Q2212.16 282.001 2212.16 287.372 Z\" fill=\"#000000\" fill-rule=\"evenodd\" fill-opacity=\"1\" /><circle clip-path=\"url(#clip030)\" cx=\"1705.74\" cy=\"346.22\" r=\"23\" fill=\"#0000ff\" fill-rule=\"evenodd\" fill-opacity=\"1\" stroke=\"#000000\" stroke-opacity=\"1\" stroke-width=\"5.12\"/>\n",
       "<path clip-path=\"url(#clip030)\" d=\"M 0 0 M1821.29 350.56 Q1821.29 345.861 1819.34 343.199 Q1817.42 340.514 1814.04 340.514 Q1810.66 340.514 1808.72 343.199 Q1806.8 345.861 1806.8 350.56 Q1806.8 355.259 1808.72 357.944 Q1810.66 360.606 1814.04 360.606 Q1817.42 360.606 1819.34 357.944 Q1821.29 355.259 1821.29 350.56 M1806.8 341.509 Q1808.14 339.194 1810.18 338.083 Q1812.24 336.949 1815.08 336.949 Q1819.81 336.949 1822.75 340.699 Q1825.71 344.449 1825.71 350.56 Q1825.71 356.671 1822.75 360.421 Q1819.81 364.171 1815.08 364.171 Q1812.24 364.171 1810.18 363.06 Q1808.14 361.926 1806.8 359.611 L1806.8 363.5 L1802.51 363.5 L1802.51 327.481 L1806.8 327.481 L1806.8 341.509 Z\" fill=\"#000000\" fill-rule=\"evenodd\" fill-opacity=\"1\" /><path clip-path=\"url(#clip030)\" d=\"M 0 0 M1852.35 349.472 L1852.35 351.555 L1832.77 351.555 Q1833.05 355.953 1835.41 358.268 Q1837.79 360.56 1842.03 360.56 Q1844.48 360.56 1846.77 359.958 Q1849.09 359.356 1851.36 358.153 L1851.36 362.18 Q1849.06 363.152 1846.66 363.662 Q1844.25 364.171 1841.77 364.171 Q1835.57 364.171 1831.94 360.56 Q1828.32 356.949 1828.32 350.791 Q1828.32 344.426 1831.75 340.699 Q1835.2 336.949 1841.03 336.949 Q1846.26 336.949 1849.3 340.329 Q1852.35 343.685 1852.35 349.472 M1848.09 348.222 Q1848.05 344.727 1846.12 342.643 Q1844.23 340.56 1841.08 340.56 Q1837.51 340.56 1835.36 342.574 Q1833.23 344.588 1832.91 348.245 L1848.09 348.222 Z\" fill=\"#000000\" fill-rule=\"evenodd\" fill-opacity=\"1\" /><path clip-path=\"url(#clip030)\" d=\"M 0 0 M1861.03 330.213 L1861.03 337.574 L1869.81 337.574 L1869.81 340.884 L1861.03 340.884 L1861.03 354.958 Q1861.03 358.129 1861.89 359.032 Q1862.77 359.935 1865.43 359.935 L1869.81 359.935 L1869.81 363.5 L1865.43 363.5 Q1860.5 363.5 1858.62 361.671 Q1856.75 359.819 1856.75 354.958 L1856.75 340.884 L1853.62 340.884 L1853.62 337.574 L1856.75 337.574 L1856.75 330.213 L1861.03 330.213 Z\" fill=\"#000000\" fill-rule=\"evenodd\" fill-opacity=\"1\" /><path clip-path=\"url(#clip030)\" d=\"M 0 0 M1878.49 330.213 L1878.49 337.574 L1887.26 337.574 L1887.26 340.884 L1878.49 340.884 L1878.49 354.958 Q1878.49 358.129 1879.34 359.032 Q1880.22 359.935 1882.88 359.935 L1887.26 359.935 L1887.26 363.5 L1882.88 363.5 Q1877.95 363.5 1876.08 361.671 Q1874.2 359.819 1874.2 354.958 L1874.2 340.884 L1871.08 340.884 L1871.08 337.574 L1874.2 337.574 L1874.2 330.213 L1878.49 330.213 Z\" fill=\"#000000\" fill-rule=\"evenodd\" fill-opacity=\"1\" /><path clip-path=\"url(#clip030)\" d=\"M 0 0 M1913.9 349.472 L1913.9 351.555 L1894.32 351.555 Q1894.6 355.953 1896.96 358.268 Q1899.34 360.56 1903.58 360.56 Q1906.03 360.56 1908.32 359.958 Q1910.64 359.356 1912.91 358.153 L1912.91 362.18 Q1910.62 363.152 1908.21 363.662 Q1905.8 364.171 1903.32 364.171 Q1897.12 364.171 1893.49 360.56 Q1889.87 356.949 1889.87 350.791 Q1889.87 344.426 1893.3 340.699 Q1896.75 336.949 1902.58 336.949 Q1907.81 336.949 1910.85 340.329 Q1913.9 343.685 1913.9 349.472 M1909.64 348.222 Q1909.6 344.727 1907.68 342.643 Q1905.78 340.56 1902.63 340.56 Q1899.06 340.56 1896.91 342.574 Q1894.78 344.588 1894.46 348.245 L1909.64 348.222 Z\" fill=\"#000000\" fill-rule=\"evenodd\" fill-opacity=\"1\" /><path clip-path=\"url(#clip030)\" d=\"M 0 0 M1933.39 341.555 Q1932.68 341.139 1931.82 340.954 Q1930.99 340.745 1929.97 340.745 Q1926.36 340.745 1924.41 343.106 Q1922.49 345.444 1922.49 349.842 L1922.49 363.5 L1918.21 363.5 L1918.21 337.574 L1922.49 337.574 L1922.49 341.602 Q1923.83 339.241 1925.99 338.106 Q1928.14 336.949 1931.22 336.949 Q1931.66 336.949 1932.19 337.018 Q1932.72 337.065 1933.37 337.18 L1933.39 341.555 Z\" fill=\"#000000\" fill-rule=\"evenodd\" fill-opacity=\"1\" /><path clip-path=\"url(#clip030)\" d=\"M 0 0 M1957.56 371.37 L1957.56 374.68 L1932.93 374.68 L1932.93 371.37 L1957.56 371.37 Z\" fill=\"#000000\" fill-rule=\"evenodd\" fill-opacity=\"1\" /><path clip-path=\"url(#clip030)\" d=\"M 0 0 M1982.21 342.551 Q1983.81 339.68 1986.03 338.315 Q1988.25 336.949 1991.26 336.949 Q1995.31 336.949 1997.51 339.796 Q1999.71 342.62 1999.71 347.852 L1999.71 363.5 L1995.43 363.5 L1995.43 347.991 Q1995.43 344.264 1994.11 342.458 Q1992.79 340.653 1990.08 340.653 Q1986.77 340.653 1984.85 342.852 Q1982.93 345.051 1982.93 348.847 L1982.93 363.5 L1978.65 363.5 L1978.65 347.991 Q1978.65 344.241 1977.33 342.458 Q1976.01 340.653 1973.25 340.653 Q1969.99 340.653 1968.07 342.875 Q1966.15 345.074 1966.15 348.847 L1966.15 363.5 L1961.87 363.5 L1961.87 337.574 L1966.15 337.574 L1966.15 341.602 Q1967.61 339.217 1969.64 338.083 Q1971.68 336.949 1974.48 336.949 Q1977.3 336.949 1979.27 338.384 Q1981.26 339.819 1982.21 342.551 Z\" fill=\"#000000\" fill-rule=\"evenodd\" fill-opacity=\"1\" /><path clip-path=\"url(#clip030)\" d=\"M 0 0 M2003.74 353.268 L2003.74 337.574 L2008 337.574 L2008 353.106 Q2008 356.787 2009.43 358.639 Q2010.87 360.467 2013.74 360.467 Q2017.19 360.467 2019.18 358.268 Q2021.19 356.069 2021.19 352.273 L2021.19 337.574 L2025.45 337.574 L2025.45 363.5 L2021.19 363.5 L2021.19 359.518 Q2019.64 361.879 2017.58 363.037 Q2015.55 364.171 2012.84 364.171 Q2008.37 364.171 2006.05 361.393 Q2003.74 358.615 2003.74 353.268 M2014.46 336.949 L2014.46 336.949 Z\" fill=\"#000000\" fill-rule=\"evenodd\" fill-opacity=\"1\" /><path clip-path=\"url(#clip030)\" d=\"M 0 0 M2029.92 327.481 L2034.18 327.481 L2034.18 363.5 L2029.92 363.5 L2029.92 327.481 Z\" fill=\"#000000\" fill-rule=\"evenodd\" fill-opacity=\"1\" /><path clip-path=\"url(#clip030)\" d=\"M 0 0 M2042.86 330.213 L2042.86 337.574 L2051.63 337.574 L2051.63 340.884 L2042.86 340.884 L2042.86 354.958 Q2042.86 358.129 2043.72 359.032 Q2044.6 359.935 2047.26 359.935 L2051.63 359.935 L2051.63 363.5 L2047.26 363.5 Q2042.33 363.5 2040.45 361.671 Q2038.58 359.819 2038.58 354.958 L2038.58 340.884 L2035.45 340.884 L2035.45 337.574 L2038.58 337.574 L2038.58 330.213 L2042.86 330.213 Z\" fill=\"#000000\" fill-rule=\"evenodd\" fill-opacity=\"1\" /><path clip-path=\"url(#clip030)\" d=\"M 0 0 M2056.1 337.574 L2060.36 337.574 L2060.36 363.5 L2056.1 363.5 L2056.1 337.574 M2056.1 327.481 L2060.36 327.481 L2060.36 332.875 L2056.1 332.875 L2056.1 327.481 Z\" fill=\"#000000\" fill-rule=\"evenodd\" fill-opacity=\"1\" /><path clip-path=\"url(#clip030)\" d=\"M 0 0 M2068.95 359.611 L2068.95 373.361 L2064.67 373.361 L2064.67 337.574 L2068.95 337.574 L2068.95 341.509 Q2070.29 339.194 2072.33 338.083 Q2074.39 336.949 2077.23 336.949 Q2081.96 336.949 2084.9 340.699 Q2087.86 344.449 2087.86 350.56 Q2087.86 356.671 2084.9 360.421 Q2081.96 364.171 2077.23 364.171 Q2074.39 364.171 2072.33 363.06 Q2070.29 361.926 2068.95 359.611 M2083.44 350.56 Q2083.44 345.861 2081.49 343.199 Q2079.57 340.514 2076.19 340.514 Q2072.81 340.514 2070.87 343.199 Q2068.95 345.861 2068.95 350.56 Q2068.95 355.259 2070.87 357.944 Q2072.81 360.606 2076.19 360.606 Q2079.57 360.606 2081.49 357.944 Q2083.44 355.259 2083.44 350.56 Z\" fill=\"#000000\" fill-rule=\"evenodd\" fill-opacity=\"1\" /><path clip-path=\"url(#clip030)\" d=\"M 0 0 M2092.33 327.481 L2096.59 327.481 L2096.59 363.5 L2092.33 363.5 L2092.33 327.481 Z\" fill=\"#000000\" fill-rule=\"evenodd\" fill-opacity=\"1\" /><path clip-path=\"url(#clip030)\" d=\"M 0 0 M2101.05 337.574 L2105.31 337.574 L2105.31 363.5 L2101.05 363.5 L2101.05 337.574 M2101.05 327.481 L2105.31 327.481 L2105.31 332.875 L2101.05 332.875 L2101.05 327.481 Z\" fill=\"#000000\" fill-rule=\"evenodd\" fill-opacity=\"1\" /><path clip-path=\"url(#clip030)\" d=\"M 0 0 M2128.44 338.569 L2128.44 342.551 Q2126.63 341.555 2124.8 341.069 Q2123 340.56 2121.15 340.56 Q2117 340.56 2114.71 343.199 Q2112.42 345.815 2112.42 350.56 Q2112.42 355.305 2114.71 357.944 Q2117 360.56 2121.15 360.56 Q2123 360.56 2124.8 360.074 Q2126.63 359.565 2128.44 358.569 L2128.44 362.504 Q2126.66 363.338 2124.73 363.754 Q2122.84 364.171 2120.68 364.171 Q2114.83 364.171 2111.38 360.49 Q2107.93 356.81 2107.93 350.56 Q2107.93 344.217 2111.4 340.583 Q2114.9 336.949 2120.96 336.949 Q2122.93 336.949 2124.8 337.366 Q2126.68 337.759 2128.44 338.569 Z\" fill=\"#000000\" fill-rule=\"evenodd\" fill-opacity=\"1\" /><path clip-path=\"url(#clip030)\" d=\"M 0 0 M2144.69 350.467 Q2139.53 350.467 2137.54 351.648 Q2135.54 352.828 2135.54 355.676 Q2135.54 357.944 2137.03 359.287 Q2138.53 360.606 2141.1 360.606 Q2144.64 360.606 2146.77 358.106 Q2148.92 355.583 2148.92 351.416 L2148.92 350.467 L2144.69 350.467 M2153.18 348.708 L2153.18 363.5 L2148.92 363.5 L2148.92 359.565 Q2147.47 361.926 2145.29 363.06 Q2143.11 364.171 2139.97 364.171 Q2135.98 364.171 2133.62 361.949 Q2131.29 359.703 2131.29 355.953 Q2131.29 351.578 2134.2 349.356 Q2137.14 347.134 2142.95 347.134 L2148.92 347.134 L2148.92 346.717 Q2148.92 343.778 2146.98 342.18 Q2145.06 340.56 2141.56 340.56 Q2139.34 340.56 2137.23 341.092 Q2135.13 341.625 2133.18 342.69 L2133.18 338.754 Q2135.52 337.852 2137.72 337.412 Q2139.92 336.949 2142 336.949 Q2147.63 336.949 2150.41 339.866 Q2153.18 342.782 2153.18 348.708 Z\" fill=\"#000000\" fill-rule=\"evenodd\" fill-opacity=\"1\" /><path clip-path=\"url(#clip030)\" d=\"M 0 0 M2161.86 330.213 L2161.86 337.574 L2170.64 337.574 L2170.64 340.884 L2161.86 340.884 L2161.86 354.958 Q2161.86 358.129 2162.72 359.032 Q2163.6 359.935 2166.26 359.935 L2170.64 359.935 L2170.64 363.5 L2166.26 363.5 Q2161.33 363.5 2159.46 361.671 Q2157.58 359.819 2157.58 354.958 L2157.58 340.884 L2154.46 340.884 L2154.46 337.574 L2157.58 337.574 L2157.58 330.213 L2161.86 330.213 Z\" fill=\"#000000\" fill-rule=\"evenodd\" fill-opacity=\"1\" /><path clip-path=\"url(#clip030)\" d=\"M 0 0 M2175.1 337.574 L2179.36 337.574 L2179.36 363.5 L2175.1 363.5 L2175.1 337.574 M2175.1 327.481 L2179.36 327.481 L2179.36 332.875 L2175.1 332.875 L2175.1 327.481 Z\" fill=\"#000000\" fill-rule=\"evenodd\" fill-opacity=\"1\" /><path clip-path=\"url(#clip030)\" d=\"M 0 0 M2193.88 340.56 Q2190.45 340.56 2188.46 343.245 Q2186.47 345.907 2186.47 350.56 Q2186.47 355.213 2188.44 357.898 Q2190.43 360.56 2193.88 360.56 Q2197.28 360.56 2199.27 357.875 Q2201.26 355.19 2201.26 350.56 Q2201.26 345.954 2199.27 343.268 Q2197.28 340.56 2193.88 340.56 M2193.88 336.949 Q2199.43 336.949 2202.6 340.56 Q2205.78 344.171 2205.78 350.56 Q2205.78 356.926 2202.6 360.56 Q2199.43 364.171 2193.88 364.171 Q2188.3 364.171 2185.13 360.56 Q2181.98 356.926 2181.98 350.56 Q2181.98 344.171 2185.13 340.56 Q2188.3 336.949 2193.88 336.949 Z\" fill=\"#000000\" fill-rule=\"evenodd\" fill-opacity=\"1\" /><path clip-path=\"url(#clip030)\" d=\"M 0 0 M2231.79 347.852 L2231.79 363.5 L2227.53 363.5 L2227.53 347.991 Q2227.53 344.31 2226.1 342.481 Q2224.66 340.653 2221.79 340.653 Q2218.35 340.653 2216.35 342.852 Q2214.36 345.051 2214.36 348.847 L2214.36 363.5 L2210.08 363.5 L2210.08 337.574 L2214.36 337.574 L2214.36 341.602 Q2215.89 339.264 2217.95 338.106 Q2220.04 336.949 2222.74 336.949 Q2227.21 336.949 2229.5 339.727 Q2231.79 342.481 2231.79 347.852 Z\" fill=\"#000000\" fill-rule=\"evenodd\" fill-opacity=\"1\" /><circle clip-path=\"url(#clip030)\" cx=\"1705.74\" cy=\"406.7\" r=\"23\" fill=\"#008000\" fill-rule=\"evenodd\" fill-opacity=\"1\" stroke=\"#000000\" stroke-opacity=\"1\" stroke-width=\"5.12\"/>\n",
       "<path clip-path=\"url(#clip030)\" d=\"M 0 0 M1824.23 408.332 L1824.23 423.98 L1819.97 423.98 L1819.97 408.471 Q1819.97 404.79 1818.53 402.961 Q1817.1 401.133 1814.23 401.133 Q1810.78 401.133 1808.79 403.332 Q1806.8 405.531 1806.8 409.327 L1806.8 423.98 L1802.51 423.98 L1802.51 398.054 L1806.8 398.054 L1806.8 402.082 Q1808.32 399.744 1810.38 398.586 Q1812.47 397.429 1815.18 397.429 Q1819.64 397.429 1821.94 400.207 Q1824.23 402.961 1824.23 408.332 Z\" fill=\"#000000\" fill-rule=\"evenodd\" fill-opacity=\"1\" /><path clip-path=\"url(#clip030)\" d=\"M 0 0 M1840.48 410.947 Q1835.31 410.947 1833.32 412.128 Q1831.33 413.308 1831.33 416.156 Q1831.33 418.424 1832.81 419.767 Q1834.32 421.086 1836.89 421.086 Q1840.43 421.086 1842.56 418.586 Q1844.71 416.063 1844.71 411.896 L1844.71 410.947 L1840.48 410.947 M1848.97 409.188 L1848.97 423.98 L1844.71 423.98 L1844.71 420.045 Q1843.25 422.406 1841.08 423.54 Q1838.9 424.651 1835.75 424.651 Q1831.77 424.651 1829.41 422.429 Q1827.07 420.183 1827.07 416.433 Q1827.07 412.058 1829.99 409.836 Q1832.93 407.614 1838.74 407.614 L1844.71 407.614 L1844.71 407.197 Q1844.71 404.258 1842.77 402.66 Q1840.85 401.04 1837.35 401.04 Q1835.13 401.04 1833.02 401.572 Q1830.92 402.105 1828.97 403.17 L1828.97 399.234 Q1831.31 398.332 1833.51 397.892 Q1835.71 397.429 1837.79 397.429 Q1843.42 397.429 1846.19 400.346 Q1848.97 403.262 1848.97 409.188 Z\" fill=\"#000000\" fill-rule=\"evenodd\" fill-opacity=\"1\" /><path clip-path=\"url(#clip030)\" d=\"M 0 0 M1853.44 398.054 L1857.7 398.054 L1857.7 423.98 L1853.44 423.98 L1853.44 398.054 M1853.44 387.961 L1857.7 387.961 L1857.7 393.355 L1853.44 393.355 L1853.44 387.961 Z\" fill=\"#000000\" fill-rule=\"evenodd\" fill-opacity=\"1\" /><path clip-path=\"url(#clip030)\" d=\"M 0 0 M1859.11 398.054 L1863.62 398.054 L1871.73 419.813 L1879.83 398.054 L1884.34 398.054 L1874.62 423.98 L1868.83 423.98 L1859.11 398.054 Z\" fill=\"#000000\" fill-rule=\"evenodd\" fill-opacity=\"1\" /><path clip-path=\"url(#clip030)\" d=\"M 0 0 M1910.99 409.952 L1910.99 412.035 L1891.4 412.035 Q1891.68 416.433 1894.04 418.748 Q1896.43 421.04 1900.66 421.04 Q1903.12 421.04 1905.41 420.438 Q1907.72 419.836 1909.99 418.633 L1909.99 422.66 Q1907.7 423.632 1905.29 424.142 Q1902.88 424.651 1900.41 424.651 Q1894.2 424.651 1890.57 421.04 Q1886.96 417.429 1886.96 411.271 Q1886.96 404.906 1890.38 401.179 Q1893.83 397.429 1899.67 397.429 Q1904.9 397.429 1907.93 400.809 Q1910.99 404.165 1910.99 409.952 M1906.73 408.702 Q1906.68 405.207 1904.76 403.123 Q1902.86 401.04 1899.71 401.04 Q1896.15 401.04 1894 403.054 Q1891.87 405.068 1891.54 408.725 L1906.73 408.702 Z\" fill=\"#000000\" fill-rule=\"evenodd\" fill-opacity=\"1\" /><path clip-path=\"url(#clip030)\" d=\"M 0 0 M1935.15 431.85 L1935.15 435.16 L1910.52 435.16 L1910.52 431.85 L1935.15 431.85 Z\" fill=\"#000000\" fill-rule=\"evenodd\" fill-opacity=\"1\" /><path clip-path=\"url(#clip030)\" d=\"M 0 0 M1959.8 403.031 Q1961.4 400.16 1963.62 398.795 Q1965.85 397.429 1968.86 397.429 Q1972.91 397.429 1975.11 400.276 Q1977.3 403.1 1977.3 408.332 L1977.3 423.98 L1973.02 423.98 L1973.02 408.471 Q1973.02 404.744 1971.7 402.938 Q1970.38 401.133 1967.68 401.133 Q1964.37 401.133 1962.44 403.332 Q1960.52 405.531 1960.52 409.327 L1960.52 423.98 L1956.24 423.98 L1956.24 408.471 Q1956.24 404.721 1954.92 402.938 Q1953.6 401.133 1950.85 401.133 Q1947.58 401.133 1945.66 403.355 Q1943.74 405.554 1943.74 409.327 L1943.74 423.98 L1939.46 423.98 L1939.46 398.054 L1943.74 398.054 L1943.74 402.082 Q1945.2 399.697 1947.24 398.563 Q1949.27 397.429 1952.07 397.429 Q1954.9 397.429 1956.87 398.864 Q1958.86 400.299 1959.8 403.031 Z\" fill=\"#000000\" fill-rule=\"evenodd\" fill-opacity=\"1\" /><path clip-path=\"url(#clip030)\" d=\"M 0 0 M1981.33 413.748 L1981.33 398.054 L1985.59 398.054 L1985.59 413.586 Q1985.59 417.267 1987.03 419.119 Q1988.46 420.947 1991.33 420.947 Q1994.78 420.947 1996.77 418.748 Q1998.79 416.549 1998.79 412.753 L1998.79 398.054 L2003.05 398.054 L2003.05 423.98 L1998.79 423.98 L1998.79 419.998 Q1997.24 422.359 1995.18 423.517 Q1993.14 424.651 1990.43 424.651 Q1985.96 424.651 1983.65 421.873 Q1981.33 419.095 1981.33 413.748 M1992.05 397.429 L1992.05 397.429 Z\" fill=\"#000000\" fill-rule=\"evenodd\" fill-opacity=\"1\" /><path clip-path=\"url(#clip030)\" d=\"M 0 0 M2007.51 387.961 L2011.77 387.961 L2011.77 423.98 L2007.51 423.98 L2007.51 387.961 Z\" fill=\"#000000\" fill-rule=\"evenodd\" fill-opacity=\"1\" /><path clip-path=\"url(#clip030)\" d=\"M 0 0 M2020.45 390.693 L2020.45 398.054 L2029.23 398.054 L2029.23 401.364 L2020.45 401.364 L2020.45 415.438 Q2020.45 418.609 2021.31 419.512 Q2022.19 420.415 2024.85 420.415 L2029.23 420.415 L2029.23 423.98 L2024.85 423.98 Q2019.92 423.98 2018.05 422.151 Q2016.17 420.299 2016.17 415.438 L2016.17 401.364 L2013.05 401.364 L2013.05 398.054 L2016.17 398.054 L2016.17 390.693 L2020.45 390.693 Z\" fill=\"#000000\" fill-rule=\"evenodd\" fill-opacity=\"1\" /><path clip-path=\"url(#clip030)\" d=\"M 0 0 M2033.69 398.054 L2037.95 398.054 L2037.95 423.98 L2033.69 423.98 L2033.69 398.054 M2033.69 387.961 L2037.95 387.961 L2037.95 393.355 L2033.69 393.355 L2033.69 387.961 Z\" fill=\"#000000\" fill-rule=\"evenodd\" fill-opacity=\"1\" /><path clip-path=\"url(#clip030)\" d=\"M 0 0 M2046.54 420.091 L2046.54 433.841 L2042.26 433.841 L2042.26 398.054 L2046.54 398.054 L2046.54 401.989 Q2047.88 399.674 2049.92 398.563 Q2051.98 397.429 2054.83 397.429 Q2059.55 397.429 2062.49 401.179 Q2065.45 404.929 2065.45 411.04 Q2065.45 417.151 2062.49 420.901 Q2059.55 424.651 2054.83 424.651 Q2051.98 424.651 2049.92 423.54 Q2047.88 422.406 2046.54 420.091 M2061.03 411.04 Q2061.03 406.341 2059.09 403.679 Q2057.17 400.994 2053.79 400.994 Q2050.41 400.994 2048.46 403.679 Q2046.54 406.341 2046.54 411.04 Q2046.54 415.739 2048.46 418.424 Q2050.41 421.086 2053.79 421.086 Q2057.17 421.086 2059.09 418.424 Q2061.03 415.739 2061.03 411.04 Z\" fill=\"#000000\" fill-rule=\"evenodd\" fill-opacity=\"1\" /><path clip-path=\"url(#clip030)\" d=\"M 0 0 M2069.92 387.961 L2074.18 387.961 L2074.18 423.98 L2069.92 423.98 L2069.92 387.961 Z\" fill=\"#000000\" fill-rule=\"evenodd\" fill-opacity=\"1\" /><path clip-path=\"url(#clip030)\" d=\"M 0 0 M2078.65 398.054 L2082.91 398.054 L2082.91 423.98 L2078.65 423.98 L2078.65 398.054 M2078.65 387.961 L2082.91 387.961 L2082.91 393.355 L2078.65 393.355 L2078.65 387.961 Z\" fill=\"#000000\" fill-rule=\"evenodd\" fill-opacity=\"1\" /><path clip-path=\"url(#clip030)\" d=\"M 0 0 M2106.03 399.049 L2106.03 403.031 Q2104.23 402.035 2102.4 401.549 Q2100.59 401.04 2098.74 401.04 Q2094.6 401.04 2092.3 403.679 Q2090.01 406.295 2090.01 411.04 Q2090.01 415.785 2092.3 418.424 Q2094.6 421.04 2098.74 421.04 Q2100.59 421.04 2102.4 420.554 Q2104.23 420.045 2106.03 419.049 L2106.03 422.984 Q2104.25 423.818 2102.33 424.234 Q2100.43 424.651 2098.28 424.651 Q2092.42 424.651 2088.97 420.97 Q2085.52 417.29 2085.52 411.04 Q2085.52 404.697 2088.99 401.063 Q2092.49 397.429 2098.55 397.429 Q2100.52 397.429 2102.4 397.846 Q2104.27 398.239 2106.03 399.049 Z\" fill=\"#000000\" fill-rule=\"evenodd\" fill-opacity=\"1\" /><path clip-path=\"url(#clip030)\" d=\"M 0 0 M2122.28 410.947 Q2117.12 410.947 2115.13 412.128 Q2113.14 413.308 2113.14 416.156 Q2113.14 418.424 2114.62 419.767 Q2116.12 421.086 2118.69 421.086 Q2122.23 421.086 2124.36 418.586 Q2126.52 416.063 2126.52 411.896 L2126.52 410.947 L2122.28 410.947 M2130.78 409.188 L2130.78 423.98 L2126.52 423.98 L2126.52 420.045 Q2125.06 422.406 2122.88 423.54 Q2120.71 424.651 2117.56 424.651 Q2113.58 424.651 2111.22 422.429 Q2108.88 420.183 2108.88 416.433 Q2108.88 412.058 2111.79 409.836 Q2114.73 407.614 2120.54 407.614 L2126.52 407.614 L2126.52 407.197 Q2126.52 404.258 2124.57 402.66 Q2122.65 401.04 2119.16 401.04 Q2116.93 401.04 2114.83 401.572 Q2112.72 402.105 2110.78 403.17 L2110.78 399.234 Q2113.11 398.332 2115.31 397.892 Q2117.51 397.429 2119.6 397.429 Q2125.22 397.429 2128 400.346 Q2130.78 403.262 2130.78 409.188 Z\" fill=\"#000000\" fill-rule=\"evenodd\" fill-opacity=\"1\" /><path clip-path=\"url(#clip030)\" d=\"M 0 0 M2139.46 390.693 L2139.46 398.054 L2148.23 398.054 L2148.23 401.364 L2139.46 401.364 L2139.46 415.438 Q2139.46 418.609 2140.31 419.512 Q2141.19 420.415 2143.85 420.415 L2148.23 420.415 L2148.23 423.98 L2143.85 423.98 Q2138.92 423.98 2137.05 422.151 Q2135.17 420.299 2135.17 415.438 L2135.17 401.364 L2132.05 401.364 L2132.05 398.054 L2135.17 398.054 L2135.17 390.693 L2139.46 390.693 Z\" fill=\"#000000\" fill-rule=\"evenodd\" fill-opacity=\"1\" /><path clip-path=\"url(#clip030)\" d=\"M 0 0 M2152.7 398.054 L2156.96 398.054 L2156.96 423.98 L2152.7 423.98 L2152.7 398.054 M2152.7 387.961 L2156.96 387.961 L2156.96 393.355 L2152.7 393.355 L2152.7 387.961 Z\" fill=\"#000000\" fill-rule=\"evenodd\" fill-opacity=\"1\" /><path clip-path=\"url(#clip030)\" d=\"M 0 0 M2171.47 401.04 Q2168.04 401.04 2166.05 403.725 Q2164.06 406.387 2164.06 411.04 Q2164.06 415.693 2166.03 418.378 Q2168.02 421.04 2171.47 421.04 Q2174.87 421.04 2176.86 418.355 Q2178.85 415.67 2178.85 411.04 Q2178.85 406.434 2176.86 403.748 Q2174.87 401.04 2171.47 401.04 M2171.47 397.429 Q2177.03 397.429 2180.2 401.04 Q2183.37 404.651 2183.37 411.04 Q2183.37 417.406 2180.2 421.04 Q2177.03 424.651 2171.47 424.651 Q2165.89 424.651 2162.72 421.04 Q2159.57 417.406 2159.57 411.04 Q2159.57 404.651 2162.72 401.04 Q2165.89 397.429 2171.47 397.429 Z\" fill=\"#000000\" fill-rule=\"evenodd\" fill-opacity=\"1\" /><path clip-path=\"url(#clip030)\" d=\"M 0 0 M2209.39 408.332 L2209.39 423.98 L2205.13 423.98 L2205.13 408.471 Q2205.13 404.79 2203.69 402.961 Q2202.26 401.133 2199.39 401.133 Q2195.94 401.133 2193.95 403.332 Q2191.96 405.531 2191.96 409.327 L2191.96 423.98 L2187.67 423.98 L2187.67 398.054 L2191.96 398.054 L2191.96 402.082 Q2193.48 399.744 2195.54 398.586 Q2197.63 397.429 2200.34 397.429 Q2204.8 397.429 2207.1 400.207 Q2209.39 402.961 2209.39 408.332 Z\" fill=\"#000000\" fill-rule=\"evenodd\" fill-opacity=\"1\" /></svg>\n"
      ]
     },
     "execution_count": 112,
     "metadata": {},
     "output_type": "execute_result"
    }
   ],
   "source": [
    "scatter(C_df_combined.Matrix_size, C_df_combined.Operation_time_mean,\n",
    "    group=C_df_combined.Operation_type, yerr=C_df_combined.Operation_time_std,\n",
    "    colour = [:red :blue :green], xlabel=\"Matrix size\", ylabel=\"Operation time\",\n",
    "    title = \"Time of multiplying matrices in C\n",
    "    with polynomial aproximations\")\n",
    "\n",
    "plot!(fit_poly_C_naive,  \n",
    "    extrema(x_C)..., \n",
    "    label = \"\",\n",
    "    color = \"green\"\n",
    ")\n",
    "plot!(fit_poly_C_better,  \n",
    "    extrema(x_C)..., \n",
    "    label = \"\",\n",
    "    color = \"blue\"\n",
    ")\n",
    "plot!(fit_poly_C_BLAS,  \n",
    "    extrema(x_C)..., \n",
    "    label = \"\",\n",
    "    color = \"red\"\n",
    ")"
   ]
  },
  {
   "cell_type": "markdown",
   "metadata": {},
   "source": [
    "# ZAD4"
   ]
  },
  {
   "cell_type": "code",
   "execution_count": 175,
   "metadata": {},
   "outputs": [
    {
     "name": "stdout",
     "output_type": "stream",
     "text": [
      "10"
     ]
    }
   ],
   "source": [
    "xs = -10:1:10\n",
    "f(x) = 1/(2x^2 + 3)\n",
    "print(xs[21])"
   ]
  },
  {
   "cell_type": "code",
   "execution_count": 185,
   "metadata": {},
   "outputs": [
    {
     "data": {
      "image/svg+xml": [
       "<?xml version=\"1.0\" encoding=\"utf-8\"?>\n",
       "<svg xmlns=\"http://www.w3.org/2000/svg\" xmlns:xlink=\"http://www.w3.org/1999/xlink\" width=\"600\" height=\"400\" viewBox=\"0 0 2400 1600\">\n",
       "<defs>\n",
       "  <clipPath id=\"clip990\">\n",
       "    <rect x=\"0\" y=\"0\" width=\"2400\" height=\"1600\"/>\n",
       "  </clipPath>\n",
       "</defs>\n",
       "<path clip-path=\"url(#clip990)\" d=\"\n",
       "M0 1600 L2400 1600 L2400 0 L0 0  Z\n",
       "  \" fill=\"#ffffff\" fill-rule=\"evenodd\" fill-opacity=\"1\"/>\n",
       "<defs>\n",
       "  <clipPath id=\"clip991\">\n",
       "    <rect x=\"480\" y=\"0\" width=\"1681\" height=\"1600\"/>\n",
       "  </clipPath>\n",
       "</defs>\n",
       "<path clip-path=\"url(#clip990)\" d=\"\n",
       "M147.848 1486.45 L2352.76 1486.45 L2352.76 47.2441 L147.848 47.2441  Z\n",
       "  \" fill=\"#ffffff\" fill-rule=\"evenodd\" fill-opacity=\"1\"/>\n",
       "<defs>\n",
       "  <clipPath id=\"clip992\">\n",
       "    <rect x=\"147\" y=\"47\" width=\"2206\" height=\"1440\"/>\n",
       "  </clipPath>\n",
       "</defs>\n",
       "<polyline clip-path=\"url(#clip992)\" style=\"stroke:#000000; stroke-width:2; stroke-opacity:0.1; fill:none\" points=\"\n",
       "  210.251,1486.45 210.251,47.2441 \n",
       "  \"/>\n",
       "<polyline clip-path=\"url(#clip992)\" style=\"stroke:#000000; stroke-width:2; stroke-opacity:0.1; fill:none\" points=\"\n",
       "  730.277,1486.45 730.277,47.2441 \n",
       "  \"/>\n",
       "<polyline clip-path=\"url(#clip992)\" style=\"stroke:#000000; stroke-width:2; stroke-opacity:0.1; fill:none\" points=\"\n",
       "  1250.3,1486.45 1250.3,47.2441 \n",
       "  \"/>\n",
       "<polyline clip-path=\"url(#clip992)\" style=\"stroke:#000000; stroke-width:2; stroke-opacity:0.1; fill:none\" points=\"\n",
       "  1770.33,1486.45 1770.33,47.2441 \n",
       "  \"/>\n",
       "<polyline clip-path=\"url(#clip992)\" style=\"stroke:#000000; stroke-width:2; stroke-opacity:0.1; fill:none\" points=\"\n",
       "  2290.35,1486.45 2290.35,47.2441 \n",
       "  \"/>\n",
       "<polyline clip-path=\"url(#clip990)\" style=\"stroke:#000000; stroke-width:4; stroke-opacity:1; fill:none\" points=\"\n",
       "  147.848,1486.45 2352.76,1486.45 \n",
       "  \"/>\n",
       "<polyline clip-path=\"url(#clip990)\" style=\"stroke:#000000; stroke-width:4; stroke-opacity:1; fill:none\" points=\"\n",
       "  210.251,1486.45 210.251,1469.18 \n",
       "  \"/>\n",
       "<polyline clip-path=\"url(#clip990)\" style=\"stroke:#000000; stroke-width:4; stroke-opacity:1; fill:none\" points=\"\n",
       "  730.277,1486.45 730.277,1469.18 \n",
       "  \"/>\n",
       "<polyline clip-path=\"url(#clip990)\" style=\"stroke:#000000; stroke-width:4; stroke-opacity:1; fill:none\" points=\"\n",
       "  1250.3,1486.45 1250.3,1469.18 \n",
       "  \"/>\n",
       "<polyline clip-path=\"url(#clip990)\" style=\"stroke:#000000; stroke-width:4; stroke-opacity:1; fill:none\" points=\"\n",
       "  1770.33,1486.45 1770.33,1469.18 \n",
       "  \"/>\n",
       "<polyline clip-path=\"url(#clip990)\" style=\"stroke:#000000; stroke-width:4; stroke-opacity:1; fill:none\" points=\"\n",
       "  2290.35,1486.45 2290.35,1469.18 \n",
       "  \"/>\n",
       "<path clip-path=\"url(#clip990)\" d=\"M 0 0 M169.013 1530.29 L198.689 1530.29 L198.689 1534.23 L169.013 1534.23 L169.013 1530.29 Z\" fill=\"#000000\" fill-rule=\"evenodd\" fill-opacity=\"1\" /><path clip-path=\"url(#clip990)\" d=\"M 0 0 M204.568 1543.18 L212.207 1543.18 L212.207 1516.82 L203.897 1518.49 L203.897 1514.23 L212.161 1512.56 L216.837 1512.56 L216.837 1543.18 L224.476 1543.18 L224.476 1547.12 L204.568 1547.12 L204.568 1543.18 Z\" fill=\"#000000\" fill-rule=\"evenodd\" fill-opacity=\"1\" /><path clip-path=\"url(#clip990)\" d=\"M 0 0 M239.545 1515.64 Q235.934 1515.64 234.105 1519.2 Q232.3 1522.75 232.3 1529.87 Q232.3 1536.98 234.105 1540.55 Q235.934 1544.09 239.545 1544.09 Q243.179 1544.09 244.985 1540.55 Q246.814 1536.98 246.814 1529.87 Q246.814 1522.75 244.985 1519.2 Q243.179 1515.64 239.545 1515.64 M239.545 1511.93 Q245.355 1511.93 248.411 1516.54 Q251.49 1521.12 251.49 1529.87 Q251.49 1538.6 248.411 1543.21 Q245.355 1547.79 239.545 1547.79 Q233.735 1547.79 230.656 1543.21 Q227.601 1538.6 227.601 1529.87 Q227.601 1521.12 230.656 1516.54 Q233.735 1511.93 239.545 1511.93 Z\" fill=\"#000000\" fill-rule=\"evenodd\" fill-opacity=\"1\" /><path clip-path=\"url(#clip990)\" d=\"M 0 0 M702.43 1530.29 L732.105 1530.29 L732.105 1534.23 L702.43 1534.23 L702.43 1530.29 Z\" fill=\"#000000\" fill-rule=\"evenodd\" fill-opacity=\"1\" /><path clip-path=\"url(#clip990)\" d=\"M 0 0 M737.221 1512.56 L755.578 1512.56 L755.578 1516.5 L741.504 1516.5 L741.504 1524.97 Q742.522 1524.62 743.541 1524.46 Q744.559 1524.27 745.578 1524.27 Q751.365 1524.27 754.744 1527.44 Q758.124 1530.62 758.124 1536.03 Q758.124 1541.61 754.652 1544.71 Q751.179 1547.79 744.86 1547.79 Q742.684 1547.79 740.416 1547.42 Q738.17 1547.05 735.763 1546.31 L735.763 1541.61 Q737.846 1542.74 740.068 1543.3 Q742.291 1543.86 744.767 1543.86 Q748.772 1543.86 751.11 1541.75 Q753.448 1539.64 753.448 1536.03 Q753.448 1532.42 751.11 1530.31 Q748.772 1528.21 744.767 1528.21 Q742.892 1528.21 741.017 1528.62 Q739.166 1529.04 737.221 1529.92 L737.221 1512.56 Z\" fill=\"#000000\" fill-rule=\"evenodd\" fill-opacity=\"1\" /><path clip-path=\"url(#clip990)\" d=\"M 0 0 M1250.3 1515.64 Q1246.69 1515.64 1244.86 1519.2 Q1243.06 1522.75 1243.06 1529.87 Q1243.06 1536.98 1244.86 1540.55 Q1246.69 1544.09 1250.3 1544.09 Q1253.94 1544.09 1255.74 1540.55 Q1257.57 1536.98 1257.57 1529.87 Q1257.57 1522.75 1255.74 1519.2 Q1253.94 1515.64 1250.3 1515.64 M1250.3 1511.93 Q1256.11 1511.93 1259.17 1516.54 Q1262.25 1521.12 1262.25 1529.87 Q1262.25 1538.6 1259.17 1543.21 Q1256.11 1547.79 1250.3 1547.79 Q1244.49 1547.79 1241.41 1543.21 Q1238.36 1538.6 1238.36 1529.87 Q1238.36 1521.12 1241.41 1516.54 Q1244.49 1511.93 1250.3 1511.93 Z\" fill=\"#000000\" fill-rule=\"evenodd\" fill-opacity=\"1\" /><path clip-path=\"url(#clip990)\" d=\"M 0 0 M1760.61 1512.56 L1778.96 1512.56 L1778.96 1516.5 L1764.89 1516.5 L1764.89 1524.97 Q1765.91 1524.62 1766.92 1524.46 Q1767.94 1524.27 1768.96 1524.27 Q1774.75 1524.27 1778.13 1527.44 Q1781.51 1530.62 1781.51 1536.03 Q1781.51 1541.61 1778.04 1544.71 Q1774.56 1547.79 1768.24 1547.79 Q1766.07 1547.79 1763.8 1547.42 Q1761.55 1547.05 1759.15 1546.31 L1759.15 1541.61 Q1761.23 1542.74 1763.45 1543.3 Q1765.67 1543.86 1768.15 1543.86 Q1772.16 1543.86 1774.49 1541.75 Q1776.83 1539.64 1776.83 1536.03 Q1776.83 1532.42 1774.49 1530.31 Q1772.16 1528.21 1768.15 1528.21 Q1766.28 1528.21 1764.4 1528.62 Q1762.55 1529.04 1760.61 1529.92 L1760.61 1512.56 Z\" fill=\"#000000\" fill-rule=\"evenodd\" fill-opacity=\"1\" /><path clip-path=\"url(#clip990)\" d=\"M 0 0 M2267.23 1543.18 L2274.87 1543.18 L2274.87 1516.82 L2266.56 1518.49 L2266.56 1514.23 L2274.82 1512.56 L2279.5 1512.56 L2279.5 1543.18 L2287.14 1543.18 L2287.14 1547.12 L2267.23 1547.12 L2267.23 1543.18 Z\" fill=\"#000000\" fill-rule=\"evenodd\" fill-opacity=\"1\" /><path clip-path=\"url(#clip990)\" d=\"M 0 0 M2302.2 1515.64 Q2298.59 1515.64 2296.76 1519.2 Q2294.96 1522.75 2294.96 1529.87 Q2294.96 1536.98 2296.76 1540.55 Q2298.59 1544.09 2302.2 1544.09 Q2305.84 1544.09 2307.64 1540.55 Q2309.47 1536.98 2309.47 1529.87 Q2309.47 1522.75 2307.64 1519.2 Q2305.84 1515.64 2302.2 1515.64 M2302.2 1511.93 Q2308.01 1511.93 2311.07 1516.54 Q2314.15 1521.12 2314.15 1529.87 Q2314.15 1538.6 2311.07 1543.21 Q2308.01 1547.79 2302.2 1547.79 Q2296.39 1547.79 2293.32 1543.21 Q2290.26 1538.6 2290.26 1529.87 Q2290.26 1521.12 2293.32 1516.54 Q2296.39 1511.93 2302.2 1511.93 Z\" fill=\"#000000\" fill-rule=\"evenodd\" fill-opacity=\"1\" /><polyline clip-path=\"url(#clip992)\" style=\"stroke:#000000; stroke-width:2; stroke-opacity:0.1; fill:none\" points=\"\n",
       "  147.848,1466.08 2352.76,1466.08 \n",
       "  \"/>\n",
       "<polyline clip-path=\"url(#clip992)\" style=\"stroke:#000000; stroke-width:2; stroke-opacity:0.1; fill:none\" points=\"\n",
       "  147.848,1052.62 2352.76,1052.62 \n",
       "  \"/>\n",
       "<polyline clip-path=\"url(#clip992)\" style=\"stroke:#000000; stroke-width:2; stroke-opacity:0.1; fill:none\" points=\"\n",
       "  147.848,639.149 2352.76,639.149 \n",
       "  \"/>\n",
       "<polyline clip-path=\"url(#clip992)\" style=\"stroke:#000000; stroke-width:2; stroke-opacity:0.1; fill:none\" points=\"\n",
       "  147.848,225.682 2352.76,225.682 \n",
       "  \"/>\n",
       "<polyline clip-path=\"url(#clip990)\" style=\"stroke:#000000; stroke-width:4; stroke-opacity:1; fill:none\" points=\"\n",
       "  147.848,1486.45 147.848,47.2441 \n",
       "  \"/>\n",
       "<polyline clip-path=\"url(#clip990)\" style=\"stroke:#000000; stroke-width:4; stroke-opacity:1; fill:none\" points=\"\n",
       "  147.848,1466.08 174.307,1466.08 \n",
       "  \"/>\n",
       "<polyline clip-path=\"url(#clip990)\" style=\"stroke:#000000; stroke-width:4; stroke-opacity:1; fill:none\" points=\"\n",
       "  147.848,1052.62 174.307,1052.62 \n",
       "  \"/>\n",
       "<polyline clip-path=\"url(#clip990)\" style=\"stroke:#000000; stroke-width:4; stroke-opacity:1; fill:none\" points=\"\n",
       "  147.848,639.149 174.307,639.149 \n",
       "  \"/>\n",
       "<polyline clip-path=\"url(#clip990)\" style=\"stroke:#000000; stroke-width:4; stroke-opacity:1; fill:none\" points=\"\n",
       "  147.848,225.682 174.307,225.682 \n",
       "  \"/>\n",
       "<path clip-path=\"url(#clip990)\" d=\"M 0 0 M62.9365 1451.88 Q59.3254 1451.88 57.4967 1455.45 Q55.6912 1458.99 55.6912 1466.12 Q55.6912 1473.22 57.4967 1476.79 Q59.3254 1480.33 62.9365 1480.33 Q66.5707 1480.33 68.3763 1476.79 Q70.205 1473.22 70.205 1466.12 Q70.205 1458.99 68.3763 1455.45 Q66.5707 1451.88 62.9365 1451.88 M62.9365 1448.18 Q68.7467 1448.18 71.8022 1452.78 Q74.8809 1457.37 74.8809 1466.12 Q74.8809 1474.85 71.8022 1479.45 Q68.7467 1484.03 62.9365 1484.03 Q57.1264 1484.03 54.0477 1479.45 Q50.9921 1474.85 50.9921 1466.12 Q50.9921 1457.37 54.0477 1452.78 Q57.1264 1448.18 62.9365 1448.18 Z\" fill=\"#000000\" fill-rule=\"evenodd\" fill-opacity=\"1\" /><path clip-path=\"url(#clip990)\" d=\"M 0 0 M79.9503 1477.48 L84.8345 1477.48 L84.8345 1483.36 L79.9503 1483.36 L79.9503 1477.48 Z\" fill=\"#000000\" fill-rule=\"evenodd\" fill-opacity=\"1\" /><path clip-path=\"url(#clip990)\" d=\"M 0 0 M99.9039 1451.88 Q96.2928 1451.88 94.4641 1455.45 Q92.6586 1458.99 92.6586 1466.12 Q92.6586 1473.22 94.4641 1476.79 Q96.2928 1480.33 99.9039 1480.33 Q103.538 1480.33 105.344 1476.79 Q107.172 1473.22 107.172 1466.12 Q107.172 1458.99 105.344 1455.45 Q103.538 1451.88 99.9039 1451.88 M99.9039 1448.18 Q105.714 1448.18 108.77 1452.78 Q111.848 1457.37 111.848 1466.12 Q111.848 1474.85 108.77 1479.45 Q105.714 1484.03 99.9039 1484.03 Q94.0937 1484.03 91.0151 1479.45 Q87.9595 1474.85 87.9595 1466.12 Q87.9595 1457.37 91.0151 1452.78 Q94.0937 1448.18 99.9039 1448.18 Z\" fill=\"#000000\" fill-rule=\"evenodd\" fill-opacity=\"1\" /><path clip-path=\"url(#clip990)\" d=\"M 0 0 M64.1634 1038.42 Q60.5523 1038.42 58.7236 1041.98 Q56.918 1045.52 56.918 1052.65 Q56.918 1059.76 58.7236 1063.32 Q60.5523 1066.86 64.1634 1066.86 Q67.7976 1066.86 69.6031 1063.32 Q71.4318 1059.76 71.4318 1052.65 Q71.4318 1045.52 69.6031 1041.98 Q67.7976 1038.42 64.1634 1038.42 M64.1634 1034.71 Q69.9735 1034.71 73.029 1039.32 Q76.1077 1043.9 76.1077 1052.65 Q76.1077 1061.38 73.029 1065.98 Q69.9735 1070.57 64.1634 1070.57 Q58.3532 1070.57 55.2745 1065.98 Q52.219 1061.38 52.219 1052.65 Q52.219 1043.9 55.2745 1039.32 Q58.3532 1034.71 64.1634 1034.71 Z\" fill=\"#000000\" fill-rule=\"evenodd\" fill-opacity=\"1\" /><path clip-path=\"url(#clip990)\" d=\"M 0 0 M81.1771 1064.02 L86.0614 1064.02 L86.0614 1069.9 L81.1771 1069.9 L81.1771 1064.02 Z\" fill=\"#000000\" fill-rule=\"evenodd\" fill-opacity=\"1\" /><path clip-path=\"url(#clip990)\" d=\"M 0 0 M91.941 1065.96 L99.5798 1065.96 L99.5798 1039.6 L91.2697 1041.26 L91.2697 1037 L99.5335 1035.34 L104.209 1035.34 L104.209 1065.96 L111.848 1065.96 L111.848 1069.9 L91.941 1069.9 L91.941 1065.96 Z\" fill=\"#000000\" fill-rule=\"evenodd\" fill-opacity=\"1\" /><path clip-path=\"url(#clip990)\" d=\"M 0 0 M64.5337 624.948 Q60.9226 624.948 59.0939 628.513 Q57.2884 632.054 57.2884 639.184 Q57.2884 646.29 59.0939 649.855 Q60.9226 653.397 64.5337 653.397 Q68.168 653.397 69.9735 649.855 Q71.8022 646.29 71.8022 639.184 Q71.8022 632.054 69.9735 628.513 Q68.168 624.948 64.5337 624.948 M64.5337 621.244 Q70.3439 621.244 73.3994 625.851 Q76.4781 630.434 76.4781 639.184 Q76.4781 647.911 73.3994 652.517 Q70.3439 657.101 64.5337 657.101 Q58.7236 657.101 55.6449 652.517 Q52.5893 647.911 52.5893 639.184 Q52.5893 630.434 55.6449 625.851 Q58.7236 621.244 64.5337 621.244 Z\" fill=\"#000000\" fill-rule=\"evenodd\" fill-opacity=\"1\" /><path clip-path=\"url(#clip990)\" d=\"M 0 0 M81.5475 650.55 L86.4318 650.55 L86.4318 656.429 L81.5475 656.429 L81.5475 650.55 Z\" fill=\"#000000\" fill-rule=\"evenodd\" fill-opacity=\"1\" /><path clip-path=\"url(#clip990)\" d=\"M 0 0 M95.5289 652.494 L111.848 652.494 L111.848 656.429 L89.904 656.429 L89.904 652.494 Q92.566 649.739 97.1493 645.11 Q101.756 640.457 102.936 639.115 Q105.182 636.591 106.061 634.855 Q106.964 633.096 106.964 631.406 Q106.964 628.652 105.02 626.916 Q103.098 625.179 99.9965 625.179 Q97.7974 625.179 95.3437 625.943 Q92.9132 626.707 90.1354 628.258 L90.1354 623.536 Q92.9595 622.402 95.4132 621.823 Q97.8669 621.244 99.9039 621.244 Q105.274 621.244 108.469 623.929 Q111.663 626.615 111.663 631.105 Q111.663 633.235 110.853 635.156 Q110.066 637.054 107.959 639.647 Q107.381 640.318 104.279 643.536 Q101.177 646.73 95.5289 652.494 Z\" fill=\"#000000\" fill-rule=\"evenodd\" fill-opacity=\"1\" /><path clip-path=\"url(#clip990)\" d=\"M 0 0 M63.5847 211.481 Q59.9736 211.481 58.1449 215.046 Q56.3393 218.587 56.3393 225.717 Q56.3393 232.823 58.1449 236.388 Q59.9736 239.93 63.5847 239.93 Q67.2189 239.93 69.0244 236.388 Q70.8531 232.823 70.8531 225.717 Q70.8531 218.587 69.0244 215.046 Q67.2189 211.481 63.5847 211.481 M63.5847 207.777 Q69.3948 207.777 72.4503 212.384 Q75.529 216.967 75.529 225.717 Q75.529 234.444 72.4503 239.05 Q69.3948 243.633 63.5847 243.633 Q57.7745 243.633 54.6958 239.05 Q51.6403 234.444 51.6403 225.717 Q51.6403 216.967 54.6958 212.384 Q57.7745 207.777 63.5847 207.777 Z\" fill=\"#000000\" fill-rule=\"evenodd\" fill-opacity=\"1\" /><path clip-path=\"url(#clip990)\" d=\"M 0 0 M80.5984 237.083 L85.4827 237.083 L85.4827 242.962 L80.5984 242.962 L80.5984 237.083 Z\" fill=\"#000000\" fill-rule=\"evenodd\" fill-opacity=\"1\" /><path clip-path=\"url(#clip990)\" d=\"M 0 0 M104.719 224.328 Q108.075 225.046 109.95 227.314 Q111.848 229.583 111.848 232.916 Q111.848 238.032 108.33 240.833 Q104.811 243.633 98.3298 243.633 Q96.1539 243.633 93.8391 243.194 Q91.5475 242.777 89.0938 241.92 L89.0938 237.407 Q91.0382 238.541 93.353 239.12 Q95.6678 239.698 98.1909 239.698 Q102.589 239.698 104.881 237.962 Q107.196 236.226 107.196 232.916 Q107.196 229.86 105.043 228.147 Q102.913 226.411 99.0937 226.411 L95.066 226.411 L95.066 222.569 L99.2789 222.569 Q102.728 222.569 104.557 221.203 Q106.385 219.814 106.385 217.222 Q106.385 214.56 104.487 213.147 Q102.612 211.712 99.0937 211.712 Q97.1724 211.712 94.9734 212.129 Q92.7743 212.546 90.1354 213.425 L90.1354 209.259 Q92.7975 208.518 95.1123 208.148 Q97.4502 207.777 99.5104 207.777 Q104.834 207.777 107.936 210.208 Q111.038 212.615 111.038 216.735 Q111.038 219.606 109.395 221.597 Q107.751 223.564 104.719 224.328 Z\" fill=\"#000000\" fill-rule=\"evenodd\" fill-opacity=\"1\" /><polyline clip-path=\"url(#clip992)\" style=\"stroke:#009af9; stroke-width:4; stroke-opacity:1; fill:none\" points=\"\n",
       "  210.251,1445.72 230.565,1444.91 418.397,1434.51 531.275,1424.15 626.713,1410.88 730.385,1388.04 825.961,1352.16 877.195,1322.21 928.429,1279.46 958.109,1245.99 \n",
       "  987.789,1203.42 1017.47,1148.6 1047.15,1077.15 1060.34,1038.61 1073.52,995.056 1086.71,945.871 1099.9,890.418 1113.09,828.126 1126.28,758.59 1139.46,681.728 \n",
       "  1152.65,598.013 1175.78,439.29 1198.91,280.793 1210.48,210.594 1222.04,152.524 1227.82,129.488 1233.6,111.142 1239.39,97.9062 1245.17,90.0941 1251.47,87.9763 \n",
       "  1257.78,92.5903 1264.08,103.802 1270.39,121.292 1276.69,144.575 1282.99,173.036 1289.3,205.966 1295.6,242.605 1308.21,323.924 1320.82,411.171 1333.43,499.503 \n",
       "  1346.04,585.354 1358.72,666.86 1371.4,742.177 1384.09,810.759 1396.77,872.582 1409.46,927.945 1422.14,977.322 1434.82,1021.26 1447.51,1060.34 1475.55,1132.13 \n",
       "  1503.6,1187.89 1531.65,1231.63 1559.69,1266.32 1613.06,1314.8 1666.43,1348.01 1721.93,1372.38 1777.42,1390.04 1824.13,1401.36 1870.85,1410.36 1984.91,1425.85 \n",
       "  2092.14,1435.23 2263.92,1444.66 2290.35,1445.72 \n",
       "  \"/>\n",
       "<path clip-path=\"url(#clip990)\" d=\"\n",
       "M1717.49 216.178 L2279.26 216.178 L2279.26 95.2176 L1717.49 95.2176  Z\n",
       "  \" fill=\"#ffffff\" fill-rule=\"evenodd\" fill-opacity=\"1\"/>\n",
       "<polyline clip-path=\"url(#clip990)\" style=\"stroke:#000000; stroke-width:4; stroke-opacity:1; fill:none\" points=\"\n",
       "  1717.49,216.178 2279.26,216.178 2279.26,95.2176 1717.49,95.2176 1717.49,216.178 \n",
       "  \"/>\n",
       "<polyline clip-path=\"url(#clip990)\" style=\"stroke:#009af9; stroke-width:4; stroke-opacity:1; fill:none\" points=\"\n",
       "  1741.99,155.698 1888.98,155.698 \n",
       "  \"/>\n",
       "<path clip-path=\"url(#clip990)\" d=\"M 0 0 M1929.31 143.024 L1922.97 160.223 L1935.68 160.223 L1929.31 143.024 M1926.67 138.418 L1931.98 138.418 L1945.15 172.978 L1940.29 172.978 L1937.14 164.112 L1921.56 164.112 L1918.41 172.978 L1913.48 172.978 L1926.67 138.418 Z\" fill=\"#000000\" fill-rule=\"evenodd\" fill-opacity=\"1\" /><path clip-path=\"url(#clip990)\" d=\"M 0 0 M1967.44 148.047 L1967.44 152.029 Q1965.63 151.033 1963.8 150.547 Q1962 150.038 1960.15 150.038 Q1956 150.038 1953.71 152.677 Q1951.42 155.292 1951.42 160.038 Q1951.42 164.783 1953.71 167.422 Q1956 170.038 1960.15 170.038 Q1962 170.038 1963.8 169.552 Q1965.63 169.042 1967.44 168.047 L1967.44 171.982 Q1965.66 172.816 1963.73 173.232 Q1961.84 173.649 1959.68 173.649 Q1953.83 173.649 1950.38 169.968 Q1946.93 166.288 1946.93 160.038 Q1946.93 153.695 1950.4 150.061 Q1953.9 146.427 1959.96 146.427 Q1961.93 146.427 1963.8 146.843 Q1965.68 147.237 1967.44 148.047 Z\" fill=\"#000000\" fill-rule=\"evenodd\" fill-opacity=\"1\" /><path clip-path=\"url(#clip990)\" d=\"M 0 0 M1976.12 139.691 L1976.12 147.052 L1984.89 147.052 L1984.89 150.362 L1976.12 150.362 L1976.12 164.436 Q1976.12 167.607 1976.98 168.51 Q1977.85 169.413 1980.52 169.413 L1984.89 169.413 L1984.89 172.978 L1980.52 172.978 Q1975.59 172.978 1973.71 171.149 Q1971.84 169.297 1971.84 164.436 L1971.84 150.362 L1968.71 150.362 L1968.71 147.052 L1971.84 147.052 L1971.84 139.691 L1976.12 139.691 Z\" fill=\"#000000\" fill-rule=\"evenodd\" fill-opacity=\"1\" /><path clip-path=\"url(#clip990)\" d=\"M 0 0 M1988.92 162.746 L1988.92 147.052 L1993.18 147.052 L1993.18 162.584 Q1993.18 166.265 1994.61 168.116 Q1996.05 169.945 1998.92 169.945 Q2002.37 169.945 2004.36 167.746 Q2006.37 165.547 2006.37 161.751 L2006.37 147.052 L2010.63 147.052 L2010.63 172.978 L2006.37 172.978 L2006.37 168.996 Q2004.82 171.357 2002.76 172.515 Q2000.73 173.649 1998.02 173.649 Q1993.55 173.649 1991.23 170.871 Q1988.92 168.093 1988.92 162.746 M1999.64 146.427 L1999.64 146.427 Z\" fill=\"#000000\" fill-rule=\"evenodd\" fill-opacity=\"1\" /><path clip-path=\"url(#clip990)\" d=\"M 0 0 M2026.88 159.945 Q2021.72 159.945 2019.73 161.126 Q2017.74 162.306 2017.74 165.154 Q2017.74 167.422 2019.22 168.765 Q2020.73 170.084 2023.29 170.084 Q2026.84 170.084 2028.97 167.584 Q2031.12 165.061 2031.12 160.894 L2031.12 159.945 L2026.88 159.945 M2035.38 158.186 L2035.38 172.978 L2031.12 172.978 L2031.12 169.042 Q2029.66 171.403 2027.48 172.538 Q2025.31 173.649 2022.16 173.649 Q2018.18 173.649 2015.82 171.427 Q2013.48 169.181 2013.48 165.431 Q2013.48 161.056 2016.4 158.834 Q2019.34 156.612 2025.15 156.612 L2031.12 156.612 L2031.12 156.195 Q2031.12 153.255 2029.17 151.658 Q2027.25 150.038 2023.76 150.038 Q2021.54 150.038 2019.43 150.57 Q2017.32 151.103 2015.38 152.167 L2015.38 148.232 Q2017.72 147.33 2019.91 146.89 Q2022.11 146.427 2024.2 146.427 Q2029.82 146.427 2032.6 149.343 Q2035.38 152.26 2035.38 158.186 Z\" fill=\"#000000\" fill-rule=\"evenodd\" fill-opacity=\"1\" /><path clip-path=\"url(#clip990)\" d=\"M 0 0 M2039.85 136.959 L2044.1 136.959 L2044.1 172.978 L2039.85 172.978 L2039.85 136.959 Z\" fill=\"#000000\" fill-rule=\"evenodd\" fill-opacity=\"1\" /><path clip-path=\"url(#clip990)\" d=\"M 0 0 M2076.77 136.959 L2076.77 140.501 L2072.69 140.501 Q2070.4 140.501 2069.5 141.427 Q2068.62 142.353 2068.62 144.76 L2068.62 147.052 L2075.63 147.052 L2075.63 150.362 L2068.62 150.362 L2068.62 172.978 L2064.34 172.978 L2064.34 150.362 L2060.26 150.362 L2060.26 147.052 L2064.34 147.052 L2064.34 145.246 Q2064.34 140.918 2066.35 138.95 Q2068.36 136.959 2072.74 136.959 L2076.77 136.959 Z\" fill=\"#000000\" fill-rule=\"evenodd\" fill-opacity=\"1\" /><path clip-path=\"url(#clip990)\" d=\"M 0 0 M2080.79 162.746 L2080.79 147.052 L2085.05 147.052 L2085.05 162.584 Q2085.05 166.265 2086.49 168.116 Q2087.92 169.945 2090.79 169.945 Q2094.24 169.945 2096.23 167.746 Q2098.25 165.547 2098.25 161.751 L2098.25 147.052 L2102.51 147.052 L2102.51 172.978 L2098.25 172.978 L2098.25 168.996 Q2096.7 171.357 2094.64 172.515 Q2092.6 173.649 2089.89 173.649 Q2085.42 173.649 2083.11 170.871 Q2080.79 168.093 2080.79 162.746 M2091.51 146.427 L2091.51 146.427 Z\" fill=\"#000000\" fill-rule=\"evenodd\" fill-opacity=\"1\" /><path clip-path=\"url(#clip990)\" d=\"M 0 0 M2128.53 157.329 L2128.53 172.978 L2124.27 172.978 L2124.27 157.468 Q2124.27 153.788 2122.83 151.959 Q2121.4 150.13 2118.53 150.13 Q2115.08 150.13 2113.09 152.33 Q2111.1 154.529 2111.1 158.325 L2111.1 172.978 L2106.81 172.978 L2106.81 147.052 L2111.1 147.052 L2111.1 151.08 Q2112.62 148.742 2114.68 147.584 Q2116.77 146.427 2119.47 146.427 Q2123.94 146.427 2126.23 149.205 Q2128.53 151.959 2128.53 157.329 Z\" fill=\"#000000\" fill-rule=\"evenodd\" fill-opacity=\"1\" /><path clip-path=\"url(#clip990)\" d=\"M 0 0 M2151.65 148.047 L2151.65 152.029 Q2149.84 151.033 2148.02 150.547 Q2146.21 150.038 2144.36 150.038 Q2140.22 150.038 2137.92 152.677 Q2135.63 155.292 2135.63 160.038 Q2135.63 164.783 2137.92 167.422 Q2140.22 170.038 2144.36 170.038 Q2146.21 170.038 2148.02 169.552 Q2149.84 169.042 2151.65 168.047 L2151.65 171.982 Q2149.87 172.816 2147.95 173.232 Q2146.05 173.649 2143.9 173.649 Q2138.04 173.649 2134.59 169.968 Q2131.14 166.288 2131.14 160.038 Q2131.14 153.695 2134.61 150.061 Q2138.11 146.427 2144.17 146.427 Q2146.14 146.427 2148.02 146.843 Q2149.89 147.237 2151.65 148.047 Z\" fill=\"#000000\" fill-rule=\"evenodd\" fill-opacity=\"1\" /><path clip-path=\"url(#clip990)\" d=\"M 0 0 M2160.33 139.691 L2160.33 147.052 L2169.1 147.052 L2169.1 150.362 L2160.33 150.362 L2160.33 164.436 Q2160.33 167.607 2161.19 168.51 Q2162.07 169.413 2164.73 169.413 L2169.1 169.413 L2169.1 172.978 L2164.73 172.978 Q2159.8 172.978 2157.92 171.149 Q2156.05 169.297 2156.05 164.436 L2156.05 150.362 L2152.92 150.362 L2152.92 147.052 L2156.05 147.052 L2156.05 139.691 L2160.33 139.691 Z\" fill=\"#000000\" fill-rule=\"evenodd\" fill-opacity=\"1\" /><path clip-path=\"url(#clip990)\" d=\"M 0 0 M2173.57 147.052 L2177.83 147.052 L2177.83 172.978 L2173.57 172.978 L2173.57 147.052 M2173.57 136.959 L2177.83 136.959 L2177.83 142.353 L2173.57 142.353 L2173.57 136.959 Z\" fill=\"#000000\" fill-rule=\"evenodd\" fill-opacity=\"1\" /><path clip-path=\"url(#clip990)\" d=\"M 0 0 M2192.34 150.038 Q2188.92 150.038 2186.93 152.723 Q2184.94 155.385 2184.94 160.038 Q2184.94 164.691 2186.9 167.376 Q2188.9 170.038 2192.34 170.038 Q2195.75 170.038 2197.74 167.353 Q2199.73 164.667 2199.73 160.038 Q2199.73 155.431 2197.74 152.746 Q2195.75 150.038 2192.34 150.038 M2192.34 146.427 Q2197.9 146.427 2201.07 150.038 Q2204.24 153.649 2204.24 160.038 Q2204.24 166.404 2201.07 170.038 Q2197.9 173.649 2192.34 173.649 Q2186.77 173.649 2183.59 170.038 Q2180.45 166.404 2180.45 160.038 Q2180.45 153.649 2183.59 150.038 Q2186.77 146.427 2192.34 146.427 Z\" fill=\"#000000\" fill-rule=\"evenodd\" fill-opacity=\"1\" /><path clip-path=\"url(#clip990)\" d=\"M 0 0 M2230.26 157.329 L2230.26 172.978 L2226 172.978 L2226 157.468 Q2226 153.788 2224.57 151.959 Q2223.13 150.13 2220.26 150.13 Q2216.81 150.13 2214.82 152.33 Q2212.83 154.529 2212.83 158.325 L2212.83 172.978 L2208.55 172.978 L2208.55 147.052 L2212.83 147.052 L2212.83 151.08 Q2214.36 148.742 2216.42 147.584 Q2218.5 146.427 2221.21 146.427 Q2225.68 146.427 2227.97 149.205 Q2230.26 151.959 2230.26 157.329 Z\" fill=\"#000000\" fill-rule=\"evenodd\" fill-opacity=\"1\" /></svg>\n"
      ]
     },
     "execution_count": 185,
     "metadata": {},
     "output_type": "execute_result"
    }
   ],
   "source": [
    "plot(f, extrema(xs)..., label=\"Actual function\")"
   ]
  },
  {
   "cell_type": "code",
   "execution_count": 180,
   "metadata": {},
   "outputs": [
    {
     "name": "stdout",
     "output_type": "stream",
     "text": [
      "[0.0049261083743842365, 0.006060606060606061, 0.007633587786259542, 0.009900990099009901, 0.013333333333333334, 0.018867924528301886, 0.02857142857142857, 0.047619047619047616, 0.09090909090909091, 0.2, 0.3333333333333333, 0.2, 0.09090909090909091, 0.047619047619047616, 0.02857142857142857, 0.018867924528301886, 0.013333333333333334, 0.009900990099009901, 0.007633587786259542, 0.006060606060606061, 0.0049261083743842365]"
     ]
    },
    {
     "data": {
      "text/html": [
       "0.29076905799549607 &#45; 4.346369801912999e-14&#8729;x &#45; 0.07351319792734859&#8729;x<sup>2</sup> &#43; 2.209020919261048e-14&#8729;x<sup>3</sup> &#43; 0.007742501360698931&#8729;x<sup>4</sup> &#45; 3.094894882727131e-15&#8729;x<sup>5</sup> &#45; 0.0003943690407554867&#8729;x<sup>6</sup> &#43; 1.8804894900240764e-16&#8729;x<sup>7</sup> &#43; 1.06120461478057e-5&#8729;x<sup>8</sup> &#45; 5.597027319919753e-18&#8729;x<sup>9</sup> &#45; 1.5404585027320647e-7&#8729;x<sup>10</sup> &#43; 8.555533188213186e-20&#8729;x<sup>11</sup> &#43; 1.1368569049611625e-9&#8729;x<sup>12</sup> &#45; 6.448952179904314e-22&#8729;x<sup>13</sup> &#45; 3.3359354552791816e-12&#8729;x<sup>14</sup> &#43; 1.89766533467481e-24&#8729;x<sup>15</sup>"
      ],
      "text/latex": [
       "$0.29076905799549607 - 4.346369801912999e-14\\cdot x - 0.07351319792734859\\cdot x^{2} + 2.209020919261048e-14\\cdot x^{3} + 0.007742501360698931\\cdot x^{4} - 3.094894882727131e-15\\cdot x^{5} - 0.0003943690407554867\\cdot x^{6} + 1.8804894900240764e-16\\cdot x^{7} + 1.06120461478057e-5\\cdot x^{8} - 5.597027319919753e-18\\cdot x^{9} - 1.5404585027320647e-7\\cdot x^{10} + 8.555533188213186e-20\\cdot x^{11} + 1.1368569049611625e-9\\cdot x^{12} - 6.448952179904314e-22\\cdot x^{13} - 3.3359354552791816e-12\\cdot x^{14} + 1.89766533467481e-24\\cdot x^{15}$"
      ],
      "text/plain": [
       "Polynomial(0.29076905799549607 - 4.346369801912999e-14*x - 0.07351319792734859*x^2 + 2.209020919261048e-14*x^3 + 0.007742501360698931*x^4 - 3.094894882727131e-15*x^5 - 0.0003943690407554867*x^6 + 1.8804894900240764e-16*x^7 + 1.06120461478057e-5*x^8 - 5.597027319919753e-18*x^9 - 1.5404585027320647e-7*x^10 + 8.555533188213186e-20*x^11 + 1.1368569049611625e-9*x^12 - 6.448952179904314e-22*x^13 - 3.3359354552791816e-12*x^14 + 1.89766533467481e-24*x^15)"
      ]
     },
     "execution_count": 180,
     "metadata": {},
     "output_type": "execute_result"
    }
   ],
   "source": [
    "ys = map(x -> f(x), xs)\n",
    "print(ys)\n",
    "polynomial = fit(xs, ys, 15)"
   ]
  },
  {
   "cell_type": "code",
   "execution_count": 186,
   "metadata": {},
   "outputs": [
    {
     "data": {
      "image/svg+xml": [
       "<?xml version=\"1.0\" encoding=\"utf-8\"?>\n",
       "<svg xmlns=\"http://www.w3.org/2000/svg\" xmlns:xlink=\"http://www.w3.org/1999/xlink\" width=\"600\" height=\"400\" viewBox=\"0 0 2400 1600\">\n",
       "<defs>\n",
       "  <clipPath id=\"clip030\">\n",
       "    <rect x=\"0\" y=\"0\" width=\"2400\" height=\"1600\"/>\n",
       "  </clipPath>\n",
       "</defs>\n",
       "<path clip-path=\"url(#clip030)\" d=\"\n",
       "M0 1600 L2400 1600 L2400 0 L0 0  Z\n",
       "  \" fill=\"#ffffff\" fill-rule=\"evenodd\" fill-opacity=\"1\"/>\n",
       "<defs>\n",
       "  <clipPath id=\"clip031\">\n",
       "    <rect x=\"480\" y=\"0\" width=\"1681\" height=\"1600\"/>\n",
       "  </clipPath>\n",
       "</defs>\n",
       "<path clip-path=\"url(#clip030)\" d=\"\n",
       "M147.848 1486.45 L2352.76 1486.45 L2352.76 47.2441 L147.848 47.2441  Z\n",
       "  \" fill=\"#ffffff\" fill-rule=\"evenodd\" fill-opacity=\"1\"/>\n",
       "<defs>\n",
       "  <clipPath id=\"clip032\">\n",
       "    <rect x=\"147\" y=\"47\" width=\"2206\" height=\"1440\"/>\n",
       "  </clipPath>\n",
       "</defs>\n",
       "<polyline clip-path=\"url(#clip032)\" style=\"stroke:#000000; stroke-width:2; stroke-opacity:0.1; fill:none\" points=\"\n",
       "  210.251,1486.45 210.251,47.2441 \n",
       "  \"/>\n",
       "<polyline clip-path=\"url(#clip032)\" style=\"stroke:#000000; stroke-width:2; stroke-opacity:0.1; fill:none\" points=\"\n",
       "  730.277,1486.45 730.277,47.2441 \n",
       "  \"/>\n",
       "<polyline clip-path=\"url(#clip032)\" style=\"stroke:#000000; stroke-width:2; stroke-opacity:0.1; fill:none\" points=\"\n",
       "  1250.3,1486.45 1250.3,47.2441 \n",
       "  \"/>\n",
       "<polyline clip-path=\"url(#clip032)\" style=\"stroke:#000000; stroke-width:2; stroke-opacity:0.1; fill:none\" points=\"\n",
       "  1770.33,1486.45 1770.33,47.2441 \n",
       "  \"/>\n",
       "<polyline clip-path=\"url(#clip032)\" style=\"stroke:#000000; stroke-width:2; stroke-opacity:0.1; fill:none\" points=\"\n",
       "  2290.35,1486.45 2290.35,47.2441 \n",
       "  \"/>\n",
       "<polyline clip-path=\"url(#clip030)\" style=\"stroke:#000000; stroke-width:4; stroke-opacity:1; fill:none\" points=\"\n",
       "  147.848,1486.45 2352.76,1486.45 \n",
       "  \"/>\n",
       "<polyline clip-path=\"url(#clip030)\" style=\"stroke:#000000; stroke-width:4; stroke-opacity:1; fill:none\" points=\"\n",
       "  210.251,1486.45 210.251,1469.18 \n",
       "  \"/>\n",
       "<polyline clip-path=\"url(#clip030)\" style=\"stroke:#000000; stroke-width:4; stroke-opacity:1; fill:none\" points=\"\n",
       "  730.277,1486.45 730.277,1469.18 \n",
       "  \"/>\n",
       "<polyline clip-path=\"url(#clip030)\" style=\"stroke:#000000; stroke-width:4; stroke-opacity:1; fill:none\" points=\"\n",
       "  1250.3,1486.45 1250.3,1469.18 \n",
       "  \"/>\n",
       "<polyline clip-path=\"url(#clip030)\" style=\"stroke:#000000; stroke-width:4; stroke-opacity:1; fill:none\" points=\"\n",
       "  1770.33,1486.45 1770.33,1469.18 \n",
       "  \"/>\n",
       "<polyline clip-path=\"url(#clip030)\" style=\"stroke:#000000; stroke-width:4; stroke-opacity:1; fill:none\" points=\"\n",
       "  2290.35,1486.45 2290.35,1469.18 \n",
       "  \"/>\n",
       "<path clip-path=\"url(#clip030)\" d=\"M 0 0 M169.013 1530.29 L198.689 1530.29 L198.689 1534.23 L169.013 1534.23 L169.013 1530.29 Z\" fill=\"#000000\" fill-rule=\"evenodd\" fill-opacity=\"1\" /><path clip-path=\"url(#clip030)\" d=\"M 0 0 M204.568 1543.18 L212.207 1543.18 L212.207 1516.82 L203.897 1518.49 L203.897 1514.23 L212.161 1512.56 L216.837 1512.56 L216.837 1543.18 L224.476 1543.18 L224.476 1547.12 L204.568 1547.12 L204.568 1543.18 Z\" fill=\"#000000\" fill-rule=\"evenodd\" fill-opacity=\"1\" /><path clip-path=\"url(#clip030)\" d=\"M 0 0 M239.545 1515.64 Q235.934 1515.64 234.105 1519.2 Q232.3 1522.75 232.3 1529.87 Q232.3 1536.98 234.105 1540.55 Q235.934 1544.09 239.545 1544.09 Q243.179 1544.09 244.985 1540.55 Q246.814 1536.98 246.814 1529.87 Q246.814 1522.75 244.985 1519.2 Q243.179 1515.64 239.545 1515.64 M239.545 1511.93 Q245.355 1511.93 248.411 1516.54 Q251.49 1521.12 251.49 1529.87 Q251.49 1538.6 248.411 1543.21 Q245.355 1547.79 239.545 1547.79 Q233.735 1547.79 230.656 1543.21 Q227.601 1538.6 227.601 1529.87 Q227.601 1521.12 230.656 1516.54 Q233.735 1511.93 239.545 1511.93 Z\" fill=\"#000000\" fill-rule=\"evenodd\" fill-opacity=\"1\" /><path clip-path=\"url(#clip030)\" d=\"M 0 0 M702.43 1530.29 L732.105 1530.29 L732.105 1534.23 L702.43 1534.23 L702.43 1530.29 Z\" fill=\"#000000\" fill-rule=\"evenodd\" fill-opacity=\"1\" /><path clip-path=\"url(#clip030)\" d=\"M 0 0 M737.221 1512.56 L755.578 1512.56 L755.578 1516.5 L741.504 1516.5 L741.504 1524.97 Q742.522 1524.62 743.541 1524.46 Q744.559 1524.27 745.578 1524.27 Q751.365 1524.27 754.744 1527.44 Q758.124 1530.62 758.124 1536.03 Q758.124 1541.61 754.652 1544.71 Q751.179 1547.79 744.86 1547.79 Q742.684 1547.79 740.416 1547.42 Q738.17 1547.05 735.763 1546.31 L735.763 1541.61 Q737.846 1542.74 740.068 1543.3 Q742.291 1543.86 744.767 1543.86 Q748.772 1543.86 751.11 1541.75 Q753.448 1539.64 753.448 1536.03 Q753.448 1532.42 751.11 1530.31 Q748.772 1528.21 744.767 1528.21 Q742.892 1528.21 741.017 1528.62 Q739.166 1529.04 737.221 1529.92 L737.221 1512.56 Z\" fill=\"#000000\" fill-rule=\"evenodd\" fill-opacity=\"1\" /><path clip-path=\"url(#clip030)\" d=\"M 0 0 M1250.3 1515.64 Q1246.69 1515.64 1244.86 1519.2 Q1243.06 1522.75 1243.06 1529.87 Q1243.06 1536.98 1244.86 1540.55 Q1246.69 1544.09 1250.3 1544.09 Q1253.94 1544.09 1255.74 1540.55 Q1257.57 1536.98 1257.57 1529.87 Q1257.57 1522.75 1255.74 1519.2 Q1253.94 1515.64 1250.3 1515.64 M1250.3 1511.93 Q1256.11 1511.93 1259.17 1516.54 Q1262.25 1521.12 1262.25 1529.87 Q1262.25 1538.6 1259.17 1543.21 Q1256.11 1547.79 1250.3 1547.79 Q1244.49 1547.79 1241.41 1543.21 Q1238.36 1538.6 1238.36 1529.87 Q1238.36 1521.12 1241.41 1516.54 Q1244.49 1511.93 1250.3 1511.93 Z\" fill=\"#000000\" fill-rule=\"evenodd\" fill-opacity=\"1\" /><path clip-path=\"url(#clip030)\" d=\"M 0 0 M1760.61 1512.56 L1778.96 1512.56 L1778.96 1516.5 L1764.89 1516.5 L1764.89 1524.97 Q1765.91 1524.62 1766.92 1524.46 Q1767.94 1524.27 1768.96 1524.27 Q1774.75 1524.27 1778.13 1527.44 Q1781.51 1530.62 1781.51 1536.03 Q1781.51 1541.61 1778.04 1544.71 Q1774.56 1547.79 1768.24 1547.79 Q1766.07 1547.79 1763.8 1547.42 Q1761.55 1547.05 1759.15 1546.31 L1759.15 1541.61 Q1761.23 1542.74 1763.45 1543.3 Q1765.67 1543.86 1768.15 1543.86 Q1772.16 1543.86 1774.49 1541.75 Q1776.83 1539.64 1776.83 1536.03 Q1776.83 1532.42 1774.49 1530.31 Q1772.16 1528.21 1768.15 1528.21 Q1766.28 1528.21 1764.4 1528.62 Q1762.55 1529.04 1760.61 1529.92 L1760.61 1512.56 Z\" fill=\"#000000\" fill-rule=\"evenodd\" fill-opacity=\"1\" /><path clip-path=\"url(#clip030)\" d=\"M 0 0 M2267.23 1543.18 L2274.87 1543.18 L2274.87 1516.82 L2266.56 1518.49 L2266.56 1514.23 L2274.82 1512.56 L2279.5 1512.56 L2279.5 1543.18 L2287.14 1543.18 L2287.14 1547.12 L2267.23 1547.12 L2267.23 1543.18 Z\" fill=\"#000000\" fill-rule=\"evenodd\" fill-opacity=\"1\" /><path clip-path=\"url(#clip030)\" d=\"M 0 0 M2302.2 1515.64 Q2298.59 1515.64 2296.76 1519.2 Q2294.96 1522.75 2294.96 1529.87 Q2294.96 1536.98 2296.76 1540.55 Q2298.59 1544.09 2302.2 1544.09 Q2305.84 1544.09 2307.64 1540.55 Q2309.47 1536.98 2309.47 1529.87 Q2309.47 1522.75 2307.64 1519.2 Q2305.84 1515.64 2302.2 1515.64 M2302.2 1511.93 Q2308.01 1511.93 2311.07 1516.54 Q2314.15 1521.12 2314.15 1529.87 Q2314.15 1538.6 2311.07 1543.21 Q2308.01 1547.79 2302.2 1547.79 Q2296.39 1547.79 2293.32 1543.21 Q2290.26 1538.6 2290.26 1529.87 Q2290.26 1521.12 2293.32 1516.54 Q2296.39 1511.93 2302.2 1511.93 Z\" fill=\"#000000\" fill-rule=\"evenodd\" fill-opacity=\"1\" /><polyline clip-path=\"url(#clip032)\" style=\"stroke:#000000; stroke-width:2; stroke-opacity:0.1; fill:none\" points=\"\n",
       "  147.848,1349.22 2352.76,1349.22 \n",
       "  \"/>\n",
       "<polyline clip-path=\"url(#clip032)\" style=\"stroke:#000000; stroke-width:2; stroke-opacity:0.1; fill:none\" points=\"\n",
       "  147.848,970.849 2352.76,970.849 \n",
       "  \"/>\n",
       "<polyline clip-path=\"url(#clip032)\" style=\"stroke:#000000; stroke-width:2; stroke-opacity:0.1; fill:none\" points=\"\n",
       "  147.848,592.475 2352.76,592.475 \n",
       "  \"/>\n",
       "<polyline clip-path=\"url(#clip032)\" style=\"stroke:#000000; stroke-width:2; stroke-opacity:0.1; fill:none\" points=\"\n",
       "  147.848,214.101 2352.76,214.101 \n",
       "  \"/>\n",
       "<polyline clip-path=\"url(#clip030)\" style=\"stroke:#000000; stroke-width:4; stroke-opacity:1; fill:none\" points=\"\n",
       "  147.848,1486.45 147.848,47.2441 \n",
       "  \"/>\n",
       "<polyline clip-path=\"url(#clip030)\" style=\"stroke:#000000; stroke-width:4; stroke-opacity:1; fill:none\" points=\"\n",
       "  147.848,1349.22 174.307,1349.22 \n",
       "  \"/>\n",
       "<polyline clip-path=\"url(#clip030)\" style=\"stroke:#000000; stroke-width:4; stroke-opacity:1; fill:none\" points=\"\n",
       "  147.848,970.849 174.307,970.849 \n",
       "  \"/>\n",
       "<polyline clip-path=\"url(#clip030)\" style=\"stroke:#000000; stroke-width:4; stroke-opacity:1; fill:none\" points=\"\n",
       "  147.848,592.475 174.307,592.475 \n",
       "  \"/>\n",
       "<polyline clip-path=\"url(#clip030)\" style=\"stroke:#000000; stroke-width:4; stroke-opacity:1; fill:none\" points=\"\n",
       "  147.848,214.101 174.307,214.101 \n",
       "  \"/>\n",
       "<path clip-path=\"url(#clip030)\" d=\"M 0 0 M62.9365 1335.02 Q59.3254 1335.02 57.4967 1338.59 Q55.6912 1342.13 55.6912 1349.26 Q55.6912 1356.36 57.4967 1359.93 Q59.3254 1363.47 62.9365 1363.47 Q66.5707 1363.47 68.3763 1359.93 Q70.205 1356.36 70.205 1349.26 Q70.205 1342.13 68.3763 1338.59 Q66.5707 1335.02 62.9365 1335.02 M62.9365 1331.32 Q68.7467 1331.32 71.8022 1335.93 Q74.8809 1340.51 74.8809 1349.26 Q74.8809 1357.99 71.8022 1362.59 Q68.7467 1367.17 62.9365 1367.17 Q57.1264 1367.17 54.0477 1362.59 Q50.9921 1357.99 50.9921 1349.26 Q50.9921 1340.51 54.0477 1335.93 Q57.1264 1331.32 62.9365 1331.32 Z\" fill=\"#000000\" fill-rule=\"evenodd\" fill-opacity=\"1\" /><path clip-path=\"url(#clip030)\" d=\"M 0 0 M79.9503 1360.62 L84.8345 1360.62 L84.8345 1366.5 L79.9503 1366.5 L79.9503 1360.62 Z\" fill=\"#000000\" fill-rule=\"evenodd\" fill-opacity=\"1\" /><path clip-path=\"url(#clip030)\" d=\"M 0 0 M99.9039 1335.02 Q96.2928 1335.02 94.4641 1338.59 Q92.6586 1342.13 92.6586 1349.26 Q92.6586 1356.36 94.4641 1359.93 Q96.2928 1363.47 99.9039 1363.47 Q103.538 1363.47 105.344 1359.93 Q107.172 1356.36 107.172 1349.26 Q107.172 1342.13 105.344 1338.59 Q103.538 1335.02 99.9039 1335.02 M99.9039 1331.32 Q105.714 1331.32 108.77 1335.93 Q111.848 1340.51 111.848 1349.26 Q111.848 1357.99 108.77 1362.59 Q105.714 1367.17 99.9039 1367.17 Q94.0937 1367.17 91.0151 1362.59 Q87.9595 1357.99 87.9595 1349.26 Q87.9595 1340.51 91.0151 1335.93 Q94.0937 1331.32 99.9039 1331.32 Z\" fill=\"#000000\" fill-rule=\"evenodd\" fill-opacity=\"1\" /><path clip-path=\"url(#clip030)\" d=\"M 0 0 M64.1634 956.648 Q60.5523 956.648 58.7236 960.213 Q56.918 963.755 56.918 970.884 Q56.918 977.991 58.7236 981.555 Q60.5523 985.097 64.1634 985.097 Q67.7976 985.097 69.6031 981.555 Q71.4318 977.991 71.4318 970.884 Q71.4318 963.755 69.6031 960.213 Q67.7976 956.648 64.1634 956.648 M64.1634 952.944 Q69.9735 952.944 73.029 957.551 Q76.1077 962.134 76.1077 970.884 Q76.1077 979.611 73.029 984.217 Q69.9735 988.801 64.1634 988.801 Q58.3532 988.801 55.2745 984.217 Q52.219 979.611 52.219 970.884 Q52.219 962.134 55.2745 957.551 Q58.3532 952.944 64.1634 952.944 Z\" fill=\"#000000\" fill-rule=\"evenodd\" fill-opacity=\"1\" /><path clip-path=\"url(#clip030)\" d=\"M 0 0 M81.1771 982.25 L86.0614 982.25 L86.0614 988.129 L81.1771 988.129 L81.1771 982.25 Z\" fill=\"#000000\" fill-rule=\"evenodd\" fill-opacity=\"1\" /><path clip-path=\"url(#clip030)\" d=\"M 0 0 M91.941 984.194 L99.5798 984.194 L99.5798 957.829 L91.2697 959.495 L91.2697 955.236 L99.5335 953.569 L104.209 953.569 L104.209 984.194 L111.848 984.194 L111.848 988.129 L91.941 988.129 L91.941 984.194 Z\" fill=\"#000000\" fill-rule=\"evenodd\" fill-opacity=\"1\" /><path clip-path=\"url(#clip030)\" d=\"M 0 0 M64.5337 578.274 Q60.9226 578.274 59.0939 581.839 Q57.2884 585.38 57.2884 592.51 Q57.2884 599.616 59.0939 603.181 Q60.9226 606.723 64.5337 606.723 Q68.168 606.723 69.9735 603.181 Q71.8022 599.616 71.8022 592.51 Q71.8022 585.38 69.9735 581.839 Q68.168 578.274 64.5337 578.274 M64.5337 574.57 Q70.3439 574.57 73.3994 579.177 Q76.4781 583.76 76.4781 592.51 Q76.4781 601.237 73.3994 605.843 Q70.3439 610.426 64.5337 610.426 Q58.7236 610.426 55.6449 605.843 Q52.5893 601.237 52.5893 592.51 Q52.5893 583.76 55.6449 579.177 Q58.7236 574.57 64.5337 574.57 Z\" fill=\"#000000\" fill-rule=\"evenodd\" fill-opacity=\"1\" /><path clip-path=\"url(#clip030)\" d=\"M 0 0 M81.5475 603.876 L86.4318 603.876 L86.4318 609.755 L81.5475 609.755 L81.5475 603.876 Z\" fill=\"#000000\" fill-rule=\"evenodd\" fill-opacity=\"1\" /><path clip-path=\"url(#clip030)\" d=\"M 0 0 M95.5289 605.82 L111.848 605.82 L111.848 609.755 L89.904 609.755 L89.904 605.82 Q92.566 603.065 97.1493 598.436 Q101.756 593.783 102.936 592.44 Q105.182 589.917 106.061 588.181 Q106.964 586.422 106.964 584.732 Q106.964 581.978 105.02 580.241 Q103.098 578.505 99.9965 578.505 Q97.7974 578.505 95.3437 579.269 Q92.9132 580.033 90.1354 581.584 L90.1354 576.862 Q92.9595 575.728 95.4132 575.149 Q97.8669 574.57 99.9039 574.57 Q105.274 574.57 108.469 577.255 Q111.663 579.941 111.663 584.431 Q111.663 586.561 110.853 588.482 Q110.066 590.38 107.959 592.973 Q107.381 593.644 104.279 596.862 Q101.177 600.056 95.5289 605.82 Z\" fill=\"#000000\" fill-rule=\"evenodd\" fill-opacity=\"1\" /><path clip-path=\"url(#clip030)\" d=\"M 0 0 M63.5847 199.9 Q59.9736 199.9 58.1449 203.464 Q56.3393 207.006 56.3393 214.136 Q56.3393 221.242 58.1449 224.807 Q59.9736 228.349 63.5847 228.349 Q67.2189 228.349 69.0244 224.807 Q70.8531 221.242 70.8531 214.136 Q70.8531 207.006 69.0244 203.464 Q67.2189 199.9 63.5847 199.9 M63.5847 196.196 Q69.3948 196.196 72.4503 200.802 Q75.529 205.386 75.529 214.136 Q75.529 222.863 72.4503 227.469 Q69.3948 232.052 63.5847 232.052 Q57.7745 232.052 54.6958 227.469 Q51.6403 222.863 51.6403 214.136 Q51.6403 205.386 54.6958 200.802 Q57.7745 196.196 63.5847 196.196 Z\" fill=\"#000000\" fill-rule=\"evenodd\" fill-opacity=\"1\" /><path clip-path=\"url(#clip030)\" d=\"M 0 0 M80.5984 225.501 L85.4827 225.501 L85.4827 231.381 L80.5984 231.381 L80.5984 225.501 Z\" fill=\"#000000\" fill-rule=\"evenodd\" fill-opacity=\"1\" /><path clip-path=\"url(#clip030)\" d=\"M 0 0 M104.719 212.747 Q108.075 213.464 109.95 215.733 Q111.848 218.001 111.848 221.335 Q111.848 226.45 108.33 229.251 Q104.811 232.052 98.3298 232.052 Q96.1539 232.052 93.8391 231.612 Q91.5475 231.196 89.0938 230.339 L89.0938 225.825 Q91.0382 226.96 93.353 227.538 Q95.6678 228.117 98.1909 228.117 Q102.589 228.117 104.881 226.381 Q107.196 224.645 107.196 221.335 Q107.196 218.279 105.043 216.566 Q102.913 214.83 99.0937 214.83 L95.066 214.83 L95.066 210.988 L99.2789 210.988 Q102.728 210.988 104.557 209.622 Q106.385 208.233 106.385 205.64 Q106.385 202.978 104.487 201.566 Q102.612 200.131 99.0937 200.131 Q97.1724 200.131 94.9734 200.548 Q92.7743 200.965 90.1354 201.844 L90.1354 197.677 Q92.7975 196.937 95.1123 196.566 Q97.4502 196.196 99.5104 196.196 Q104.834 196.196 107.936 198.627 Q111.038 201.034 111.038 205.154 Q111.038 208.025 109.395 210.015 Q107.751 211.983 104.719 212.747 Z\" fill=\"#000000\" fill-rule=\"evenodd\" fill-opacity=\"1\" /><polyline clip-path=\"url(#clip032)\" style=\"stroke:#009af9; stroke-width:4; stroke-opacity:1; fill:none\" points=\"\n",
       "  210.251,1330.58 230.565,1329.85 418.397,1320.33 531.275,1310.84 626.713,1298.71 730.385,1277.8 825.961,1244.97 877.195,1217.56 928.429,1178.44 958.109,1147.81 \n",
       "  987.789,1108.86 1017.47,1058.69 1047.15,993.301 1060.34,958.028 1073.52,918.175 1086.71,873.164 1099.9,822.418 1113.09,765.413 1126.28,701.778 1139.46,631.441 \n",
       "  1152.65,554.83 1175.78,409.579 1198.91,264.535 1210.48,200.294 1222.04,147.152 1227.82,126.072 1233.6,109.283 1239.39,97.1701 1245.17,90.021 1251.47,88.0829 \n",
       "  1257.78,92.3054 1264.08,102.566 1270.39,118.571 1276.69,139.877 1282.99,165.923 1289.3,196.058 1295.6,229.587 1308.21,304.005 1320.82,383.847 1333.43,464.682 \n",
       "  1346.04,543.246 1358.72,617.834 1371.4,686.759 1384.09,749.52 1396.77,806.096 1409.46,856.76 1422.14,901.946 1434.82,942.159 1447.51,977.917 1475.55,1043.62 \n",
       "  1503.6,1094.64 1531.65,1134.67 1559.69,1166.42 1613.06,1210.78 1666.43,1241.17 1721.93,1263.47 1777.42,1279.64 1824.13,1289.99 1870.85,1298.23 1984.91,1312.41 \n",
       "  2092.14,1320.99 2263.92,1329.61 2290.35,1330.58 \n",
       "  \"/>\n",
       "<circle clip-path=\"url(#clip032)\" cx=\"210.251\" cy=\"1330.58\" r=\"14\" fill=\"#e26f46\" fill-rule=\"evenodd\" fill-opacity=\"1\" stroke=\"#000000\" stroke-opacity=\"1\" stroke-width=\"3.2\"/>\n",
       "<circle clip-path=\"url(#clip032)\" cx=\"314.256\" cy=\"1326.29\" r=\"14\" fill=\"#e26f46\" fill-rule=\"evenodd\" fill-opacity=\"1\" stroke=\"#000000\" stroke-opacity=\"1\" stroke-width=\"3.2\"/>\n",
       "<circle clip-path=\"url(#clip032)\" cx=\"418.261\" cy=\"1320.34\" r=\"14\" fill=\"#e26f46\" fill-rule=\"evenodd\" fill-opacity=\"1\" stroke=\"#000000\" stroke-opacity=\"1\" stroke-width=\"3.2\"/>\n",
       "<circle clip-path=\"url(#clip032)\" cx=\"522.267\" cy=\"1311.76\" r=\"14\" fill=\"#e26f46\" fill-rule=\"evenodd\" fill-opacity=\"1\" stroke=\"#000000\" stroke-opacity=\"1\" stroke-width=\"3.2\"/>\n",
       "<circle clip-path=\"url(#clip032)\" cx=\"626.272\" cy=\"1298.77\" r=\"14\" fill=\"#e26f46\" fill-rule=\"evenodd\" fill-opacity=\"1\" stroke=\"#000000\" stroke-opacity=\"1\" stroke-width=\"3.2\"/>\n",
       "<circle clip-path=\"url(#clip032)\" cx=\"730.277\" cy=\"1277.83\" r=\"14\" fill=\"#e26f46\" fill-rule=\"evenodd\" fill-opacity=\"1\" stroke=\"#000000\" stroke-opacity=\"1\" stroke-width=\"3.2\"/>\n",
       "<circle clip-path=\"url(#clip032)\" cx=\"834.282\" cy=\"1241.12\" r=\"14\" fill=\"#e26f46\" fill-rule=\"evenodd\" fill-opacity=\"1\" stroke=\"#000000\" stroke-opacity=\"1\" stroke-width=\"3.2\"/>\n",
       "<circle clip-path=\"url(#clip032)\" cx=\"938.287\" cy=\"1169.05\" r=\"14\" fill=\"#e26f46\" fill-rule=\"evenodd\" fill-opacity=\"1\" stroke=\"#000000\" stroke-opacity=\"1\" stroke-width=\"3.2\"/>\n",
       "<circle clip-path=\"url(#clip032)\" cx=\"1042.29\" cy=\"1005.25\" r=\"14\" fill=\"#e26f46\" fill-rule=\"evenodd\" fill-opacity=\"1\" stroke=\"#000000\" stroke-opacity=\"1\" stroke-width=\"3.2\"/>\n",
       "<circle clip-path=\"url(#clip032)\" cx=\"1146.3\" cy=\"592.475\" r=\"14\" fill=\"#e26f46\" fill-rule=\"evenodd\" fill-opacity=\"1\" stroke=\"#000000\" stroke-opacity=\"1\" stroke-width=\"3.2\"/>\n",
       "<circle clip-path=\"url(#clip032)\" cx=\"1250.3\" cy=\"87.9763\" r=\"14\" fill=\"#e26f46\" fill-rule=\"evenodd\" fill-opacity=\"1\" stroke=\"#000000\" stroke-opacity=\"1\" stroke-width=\"3.2\"/>\n",
       "<circle clip-path=\"url(#clip032)\" cx=\"1354.31\" cy=\"592.475\" r=\"14\" fill=\"#e26f46\" fill-rule=\"evenodd\" fill-opacity=\"1\" stroke=\"#000000\" stroke-opacity=\"1\" stroke-width=\"3.2\"/>\n",
       "<circle clip-path=\"url(#clip032)\" cx=\"1458.31\" cy=\"1005.25\" r=\"14\" fill=\"#e26f46\" fill-rule=\"evenodd\" fill-opacity=\"1\" stroke=\"#000000\" stroke-opacity=\"1\" stroke-width=\"3.2\"/>\n",
       "<circle clip-path=\"url(#clip032)\" cx=\"1562.32\" cy=\"1169.05\" r=\"14\" fill=\"#e26f46\" fill-rule=\"evenodd\" fill-opacity=\"1\" stroke=\"#000000\" stroke-opacity=\"1\" stroke-width=\"3.2\"/>\n",
       "<circle clip-path=\"url(#clip032)\" cx=\"1666.32\" cy=\"1241.12\" r=\"14\" fill=\"#e26f46\" fill-rule=\"evenodd\" fill-opacity=\"1\" stroke=\"#000000\" stroke-opacity=\"1\" stroke-width=\"3.2\"/>\n",
       "<circle clip-path=\"url(#clip032)\" cx=\"1770.33\" cy=\"1277.83\" r=\"14\" fill=\"#e26f46\" fill-rule=\"evenodd\" fill-opacity=\"1\" stroke=\"#000000\" stroke-opacity=\"1\" stroke-width=\"3.2\"/>\n",
       "<circle clip-path=\"url(#clip032)\" cx=\"1874.33\" cy=\"1298.77\" r=\"14\" fill=\"#e26f46\" fill-rule=\"evenodd\" fill-opacity=\"1\" stroke=\"#000000\" stroke-opacity=\"1\" stroke-width=\"3.2\"/>\n",
       "<circle clip-path=\"url(#clip032)\" cx=\"1978.34\" cy=\"1311.76\" r=\"14\" fill=\"#e26f46\" fill-rule=\"evenodd\" fill-opacity=\"1\" stroke=\"#000000\" stroke-opacity=\"1\" stroke-width=\"3.2\"/>\n",
       "<circle clip-path=\"url(#clip032)\" cx=\"2082.34\" cy=\"1320.34\" r=\"14\" fill=\"#e26f46\" fill-rule=\"evenodd\" fill-opacity=\"1\" stroke=\"#000000\" stroke-opacity=\"1\" stroke-width=\"3.2\"/>\n",
       "<circle clip-path=\"url(#clip032)\" cx=\"2186.35\" cy=\"1326.29\" r=\"14\" fill=\"#e26f46\" fill-rule=\"evenodd\" fill-opacity=\"1\" stroke=\"#000000\" stroke-opacity=\"1\" stroke-width=\"3.2\"/>\n",
       "<circle clip-path=\"url(#clip032)\" cx=\"2290.35\" cy=\"1330.58\" r=\"14\" fill=\"#e26f46\" fill-rule=\"evenodd\" fill-opacity=\"1\" stroke=\"#000000\" stroke-opacity=\"1\" stroke-width=\"3.2\"/>\n",
       "<polyline clip-path=\"url(#clip032)\" style=\"stroke:#3da44d; stroke-width:4; stroke-opacity:1; fill:none\" points=\"\n",
       "  210.251,1330.71 231.052,730.391 251.853,714.189 272.654,917.989 293.455,1149.79 314.256,1324.77 335.057,1420.27 355.858,1445.72 376.659,1423.54 397.46,1377.86 \n",
       "  418.261,1328.55 439.062,1288.96 459.864,1265.74 480.665,1259.95 501.466,1268.69 522.267,1286.82 543.068,1308.44 563.869,1328.16 584.67,1341.79 605.471,1346.84 \n",
       "  626.272,1342.55 647.073,1329.73 667.874,1310.43 688.675,1287.46 709.476,1263.91 730.277,1242.69 751.078,1226.19 771.879,1215.92 792.68,1212.44 813.481,1215.21 \n",
       "  834.282,1222.76 855.083,1232.75 875.884,1242.28 896.685,1248.12 917.486,1247.02 938.287,1236.03 959.088,1212.75 979.889,1175.55 1000.69,1123.75 1021.49,1057.67 \n",
       "  1042.29,978.719 1063.09,889.248 1083.89,792.487 1104.69,692.33 1125.5,593.111 1146.3,499.34 1167.1,415.433 1187.9,345.437 1208.7,292.789 1229.5,260.108 \n",
       "  1250.3,249.029 1271.1,260.108 1291.9,292.789 1312.71,345.437 1333.51,415.433 1354.31,499.34 1375.11,593.111 1395.91,692.33 1416.71,792.487 1437.51,889.248 \n",
       "  1458.31,978.719 1479.11,1057.67 1499.91,1123.75 1520.72,1175.55 1541.52,1212.75 1562.32,1236.03 1583.12,1247.02 1603.92,1248.12 1624.72,1242.28 1645.52,1232.75 \n",
       "  1666.32,1222.76 1687.12,1215.21 1707.92,1212.44 1728.73,1215.92 1749.53,1226.19 1770.33,1242.69 1791.13,1263.91 1811.93,1287.46 1832.73,1310.43 1853.53,1329.73 \n",
       "  1874.33,1342.55 1895.13,1346.84 1915.93,1341.79 1936.74,1328.16 1957.54,1308.44 1978.34,1286.82 1999.14,1268.69 2019.94,1259.95 2040.74,1265.74 2061.54,1288.96 \n",
       "  2082.34,1328.55 2103.14,1377.86 2123.94,1423.54 2144.75,1445.72 2165.55,1420.27 2186.35,1324.77 2207.15,1149.79 2227.95,917.989 2248.75,714.189 2269.55,730.391 \n",
       "  2290.35,1330.71 \n",
       "  \"/>\n",
       "<path clip-path=\"url(#clip030)\" d=\"\n",
       "M1631.68 337.138 L2279.26 337.138 L2279.26 95.2176 L1631.68 95.2176  Z\n",
       "  \" fill=\"#ffffff\" fill-rule=\"evenodd\" fill-opacity=\"1\"/>\n",
       "<polyline clip-path=\"url(#clip030)\" style=\"stroke:#000000; stroke-width:4; stroke-opacity:1; fill:none\" points=\"\n",
       "  1631.68,337.138 2279.26,337.138 2279.26,95.2176 1631.68,95.2176 1631.68,337.138 \n",
       "  \"/>\n",
       "<polyline clip-path=\"url(#clip030)\" style=\"stroke:#009af9; stroke-width:4; stroke-opacity:1; fill:none\" points=\"\n",
       "  1656.18,155.698 1803.17,155.698 \n",
       "  \"/>\n",
       "<path clip-path=\"url(#clip030)\" d=\"M 0 0 M1843.5 143.024 L1837.16 160.223 L1849.87 160.223 L1843.5 143.024 M1840.86 138.418 L1846.17 138.418 L1859.34 172.978 L1854.48 172.978 L1851.33 164.112 L1835.75 164.112 L1832.6 172.978 L1827.67 172.978 L1840.86 138.418 Z\" fill=\"#000000\" fill-rule=\"evenodd\" fill-opacity=\"1\" /><path clip-path=\"url(#clip030)\" d=\"M 0 0 M1881.63 148.047 L1881.63 152.029 Q1879.82 151.033 1877.99 150.547 Q1876.19 150.038 1874.34 150.038 Q1870.19 150.038 1867.9 152.677 Q1865.61 155.292 1865.61 160.038 Q1865.61 164.783 1867.9 167.422 Q1870.19 170.038 1874.34 170.038 Q1876.19 170.038 1877.99 169.552 Q1879.82 169.042 1881.63 168.047 L1881.63 171.982 Q1879.85 172.816 1877.92 173.232 Q1876.03 173.649 1873.87 173.649 Q1868.02 173.649 1864.57 169.968 Q1861.12 166.288 1861.12 160.038 Q1861.12 153.695 1864.59 150.061 Q1868.09 146.427 1874.15 146.427 Q1876.12 146.427 1877.99 146.843 Q1879.87 147.237 1881.63 148.047 Z\" fill=\"#000000\" fill-rule=\"evenodd\" fill-opacity=\"1\" /><path clip-path=\"url(#clip030)\" d=\"M 0 0 M1890.31 139.691 L1890.31 147.052 L1899.08 147.052 L1899.08 150.362 L1890.31 150.362 L1890.31 164.436 Q1890.31 167.607 1891.17 168.51 Q1892.05 169.413 1894.71 169.413 L1899.08 169.413 L1899.08 172.978 L1894.71 172.978 Q1889.78 172.978 1887.9 171.149 Q1886.03 169.297 1886.03 164.436 L1886.03 150.362 L1882.9 150.362 L1882.9 147.052 L1886.03 147.052 L1886.03 139.691 L1890.31 139.691 Z\" fill=\"#000000\" fill-rule=\"evenodd\" fill-opacity=\"1\" /><path clip-path=\"url(#clip030)\" d=\"M 0 0 M1903.11 162.746 L1903.11 147.052 L1907.37 147.052 L1907.37 162.584 Q1907.37 166.265 1908.8 168.116 Q1910.24 169.945 1913.11 169.945 Q1916.56 169.945 1918.55 167.746 Q1920.56 165.547 1920.56 161.751 L1920.56 147.052 L1924.82 147.052 L1924.82 172.978 L1920.56 172.978 L1920.56 168.996 Q1919.01 171.357 1916.95 172.515 Q1914.92 173.649 1912.21 173.649 Q1907.74 173.649 1905.42 170.871 Q1903.11 168.093 1903.11 162.746 M1913.83 146.427 L1913.83 146.427 Z\" fill=\"#000000\" fill-rule=\"evenodd\" fill-opacity=\"1\" /><path clip-path=\"url(#clip030)\" d=\"M 0 0 M1941.07 159.945 Q1935.91 159.945 1933.92 161.126 Q1931.93 162.306 1931.93 165.154 Q1931.93 167.422 1933.41 168.765 Q1934.92 170.084 1937.48 170.084 Q1941.03 170.084 1943.16 167.584 Q1945.31 165.061 1945.31 160.894 L1945.31 159.945 L1941.07 159.945 M1949.57 158.186 L1949.57 172.978 L1945.31 172.978 L1945.31 169.042 Q1943.85 171.403 1941.67 172.538 Q1939.5 173.649 1936.35 173.649 Q1932.37 173.649 1930.01 171.427 Q1927.67 169.181 1927.67 165.431 Q1927.67 161.056 1930.59 158.834 Q1933.53 156.612 1939.34 156.612 L1945.31 156.612 L1945.31 156.195 Q1945.31 153.255 1943.36 151.658 Q1941.44 150.038 1937.95 150.038 Q1935.73 150.038 1933.62 150.57 Q1931.51 151.103 1929.57 152.167 L1929.57 148.232 Q1931.91 147.33 1934.11 146.89 Q1936.3 146.427 1938.39 146.427 Q1944.01 146.427 1946.79 149.343 Q1949.57 152.26 1949.57 158.186 Z\" fill=\"#000000\" fill-rule=\"evenodd\" fill-opacity=\"1\" /><path clip-path=\"url(#clip030)\" d=\"M 0 0 M1954.04 136.959 L1958.29 136.959 L1958.29 172.978 L1954.04 172.978 L1954.04 136.959 Z\" fill=\"#000000\" fill-rule=\"evenodd\" fill-opacity=\"1\" /><path clip-path=\"url(#clip030)\" d=\"M 0 0 M1990.96 136.959 L1990.96 140.501 L1986.88 140.501 Q1984.59 140.501 1983.69 141.427 Q1982.81 142.353 1982.81 144.76 L1982.81 147.052 L1989.82 147.052 L1989.82 150.362 L1982.81 150.362 L1982.81 172.978 L1978.53 172.978 L1978.53 150.362 L1974.45 150.362 L1974.45 147.052 L1978.53 147.052 L1978.53 145.246 Q1978.53 140.918 1980.54 138.95 Q1982.55 136.959 1986.93 136.959 L1990.96 136.959 Z\" fill=\"#000000\" fill-rule=\"evenodd\" fill-opacity=\"1\" /><path clip-path=\"url(#clip030)\" d=\"M 0 0 M1994.98 162.746 L1994.98 147.052 L1999.24 147.052 L1999.24 162.584 Q1999.24 166.265 2000.68 168.116 Q2002.11 169.945 2004.98 169.945 Q2008.43 169.945 2010.42 167.746 Q2012.44 165.547 2012.44 161.751 L2012.44 147.052 L2016.7 147.052 L2016.7 172.978 L2012.44 172.978 L2012.44 168.996 Q2010.89 171.357 2008.83 172.515 Q2006.79 173.649 2004.08 173.649 Q1999.61 173.649 1997.3 170.871 Q1994.98 168.093 1994.98 162.746 M2005.7 146.427 L2005.7 146.427 Z\" fill=\"#000000\" fill-rule=\"evenodd\" fill-opacity=\"1\" /><path clip-path=\"url(#clip030)\" d=\"M 0 0 M2042.72 157.329 L2042.72 172.978 L2038.46 172.978 L2038.46 157.468 Q2038.46 153.788 2037.02 151.959 Q2035.59 150.13 2032.72 150.13 Q2029.27 150.13 2027.28 152.33 Q2025.29 154.529 2025.29 158.325 L2025.29 172.978 L2021 172.978 L2021 147.052 L2025.29 147.052 L2025.29 151.08 Q2026.81 148.742 2028.87 147.584 Q2030.96 146.427 2033.66 146.427 Q2038.13 146.427 2040.42 149.205 Q2042.72 151.959 2042.72 157.329 Z\" fill=\"#000000\" fill-rule=\"evenodd\" fill-opacity=\"1\" /><path clip-path=\"url(#clip030)\" d=\"M 0 0 M2065.84 148.047 L2065.84 152.029 Q2064.04 151.033 2062.21 150.547 Q2060.4 150.038 2058.55 150.038 Q2054.41 150.038 2052.11 152.677 Q2049.82 155.292 2049.82 160.038 Q2049.82 164.783 2052.11 167.422 Q2054.41 170.038 2058.55 170.038 Q2060.4 170.038 2062.21 169.552 Q2064.04 169.042 2065.84 168.047 L2065.84 171.982 Q2064.06 172.816 2062.14 173.232 Q2060.24 173.649 2058.09 173.649 Q2052.23 173.649 2048.78 169.968 Q2045.33 166.288 2045.33 160.038 Q2045.33 153.695 2048.8 150.061 Q2052.3 146.427 2058.36 146.427 Q2060.33 146.427 2062.21 146.843 Q2064.08 147.237 2065.84 148.047 Z\" fill=\"#000000\" fill-rule=\"evenodd\" fill-opacity=\"1\" /><path clip-path=\"url(#clip030)\" d=\"M 0 0 M2074.52 139.691 L2074.52 147.052 L2083.29 147.052 L2083.29 150.362 L2074.52 150.362 L2074.52 164.436 Q2074.52 167.607 2075.38 168.51 Q2076.26 169.413 2078.92 169.413 L2083.29 169.413 L2083.29 172.978 L2078.92 172.978 Q2073.99 172.978 2072.11 171.149 Q2070.24 169.297 2070.24 164.436 L2070.24 150.362 L2067.11 150.362 L2067.11 147.052 L2070.24 147.052 L2070.24 139.691 L2074.52 139.691 Z\" fill=\"#000000\" fill-rule=\"evenodd\" fill-opacity=\"1\" /><path clip-path=\"url(#clip030)\" d=\"M 0 0 M2087.76 147.052 L2092.02 147.052 L2092.02 172.978 L2087.76 172.978 L2087.76 147.052 M2087.76 136.959 L2092.02 136.959 L2092.02 142.353 L2087.76 142.353 L2087.76 136.959 Z\" fill=\"#000000\" fill-rule=\"evenodd\" fill-opacity=\"1\" /><path clip-path=\"url(#clip030)\" d=\"M 0 0 M2106.53 150.038 Q2103.11 150.038 2101.12 152.723 Q2099.13 155.385 2099.13 160.038 Q2099.13 164.691 2101.1 167.376 Q2103.09 170.038 2106.53 170.038 Q2109.94 170.038 2111.93 167.353 Q2113.92 164.667 2113.92 160.038 Q2113.92 155.431 2111.93 152.746 Q2109.94 150.038 2106.53 150.038 M2106.53 146.427 Q2112.09 146.427 2115.26 150.038 Q2118.43 153.649 2118.43 160.038 Q2118.43 166.404 2115.26 170.038 Q2112.09 173.649 2106.53 173.649 Q2100.96 173.649 2097.78 170.038 Q2094.64 166.404 2094.64 160.038 Q2094.64 153.649 2097.78 150.038 Q2100.96 146.427 2106.53 146.427 Z\" fill=\"#000000\" fill-rule=\"evenodd\" fill-opacity=\"1\" /><path clip-path=\"url(#clip030)\" d=\"M 0 0 M2144.45 157.329 L2144.45 172.978 L2140.19 172.978 L2140.19 157.468 Q2140.19 153.788 2138.76 151.959 Q2137.32 150.13 2134.45 150.13 Q2131 150.13 2129.01 152.33 Q2127.02 154.529 2127.02 158.325 L2127.02 172.978 L2122.74 172.978 L2122.74 147.052 L2127.02 147.052 L2127.02 151.08 Q2128.55 148.742 2130.61 147.584 Q2132.69 146.427 2135.4 146.427 Q2139.87 146.427 2142.16 149.205 Q2144.45 151.959 2144.45 157.329 Z\" fill=\"#000000\" fill-rule=\"evenodd\" fill-opacity=\"1\" /><circle clip-path=\"url(#clip030)\" cx=\"1729.67\" cy=\"216.178\" r=\"23\" fill=\"#e26f46\" fill-rule=\"evenodd\" fill-opacity=\"1\" stroke=\"#000000\" stroke-opacity=\"1\" stroke-width=\"5.12\"/>\n",
       "<path clip-path=\"url(#clip030)\" d=\"M 0 0 M1827.67 198.898 L1832.35 198.898 L1832.35 233.458 L1827.67 233.458 L1827.67 198.898 Z\" fill=\"#000000\" fill-rule=\"evenodd\" fill-opacity=\"1\" /><path clip-path=\"url(#clip030)\" d=\"M 0 0 M1858.36 217.809 L1858.36 233.458 L1854.11 233.458 L1854.11 217.948 Q1854.11 214.268 1852.67 212.439 Q1851.24 210.61 1848.36 210.61 Q1844.92 210.61 1842.93 212.81 Q1840.93 215.009 1840.93 218.805 L1840.93 233.458 L1836.65 233.458 L1836.65 207.532 L1840.93 207.532 L1840.93 211.56 Q1842.46 209.222 1844.52 208.064 Q1846.61 206.907 1849.31 206.907 Q1853.78 206.907 1856.07 209.685 Q1858.36 212.439 1858.36 217.809 Z\" fill=\"#000000\" fill-rule=\"evenodd\" fill-opacity=\"1\" /><path clip-path=\"url(#clip030)\" d=\"M 0 0 M1867.05 200.171 L1867.05 207.532 L1875.82 207.532 L1875.82 210.842 L1867.05 210.842 L1867.05 224.916 Q1867.05 228.087 1867.9 228.99 Q1868.78 229.893 1871.44 229.893 L1875.82 229.893 L1875.82 233.458 L1871.44 233.458 Q1866.51 233.458 1864.64 231.629 Q1862.76 229.777 1862.76 224.916 L1862.76 210.842 L1859.64 210.842 L1859.64 207.532 L1862.76 207.532 L1862.76 200.171 L1867.05 200.171 Z\" fill=\"#000000\" fill-rule=\"evenodd\" fill-opacity=\"1\" /><path clip-path=\"url(#clip030)\" d=\"M 0 0 M1902.46 219.43 L1902.46 221.513 L1882.88 221.513 Q1883.16 225.911 1885.52 228.226 Q1887.9 230.518 1892.14 230.518 Q1894.59 230.518 1896.88 229.916 Q1899.2 229.314 1901.47 228.11 L1901.47 232.138 Q1899.17 233.11 1896.77 233.62 Q1894.36 234.129 1891.88 234.129 Q1885.68 234.129 1882.05 230.518 Q1878.43 226.907 1878.43 220.749 Q1878.43 214.384 1881.86 210.657 Q1885.31 206.907 1891.14 206.907 Q1896.37 206.907 1899.41 210.286 Q1902.46 213.643 1902.46 219.43 M1898.2 218.18 Q1898.16 214.685 1896.24 212.601 Q1894.34 210.518 1891.19 210.518 Q1887.62 210.518 1885.47 212.532 Q1883.34 214.546 1883.02 218.203 L1898.2 218.18 Z\" fill=\"#000000\" fill-rule=\"evenodd\" fill-opacity=\"1\" /><path clip-path=\"url(#clip030)\" d=\"M 0 0 M1921.95 211.513 Q1921.23 211.097 1920.38 210.911 Q1919.55 210.703 1918.53 210.703 Q1914.92 210.703 1912.97 213.064 Q1911.05 215.402 1911.05 219.8 L1911.05 233.458 L1906.77 233.458 L1906.77 207.532 L1911.05 207.532 L1911.05 211.56 Q1912.39 209.198 1914.55 208.064 Q1916.7 206.907 1919.78 206.907 Q1920.22 206.907 1920.75 206.976 Q1921.28 207.023 1921.93 207.138 L1921.95 211.513 Z\" fill=\"#000000\" fill-rule=\"evenodd\" fill-opacity=\"1\" /><path clip-path=\"url(#clip030)\" d=\"M 0 0 M1930.54 229.569 L1930.54 243.319 L1926.26 243.319 L1926.26 207.532 L1930.54 207.532 L1930.54 211.467 Q1931.88 209.152 1933.92 208.041 Q1935.98 206.907 1938.83 206.907 Q1943.55 206.907 1946.49 210.657 Q1949.45 214.407 1949.45 220.518 Q1949.45 226.629 1946.49 230.379 Q1943.55 234.129 1938.83 234.129 Q1935.98 234.129 1933.92 233.018 Q1931.88 231.883 1930.54 229.569 M1945.03 220.518 Q1945.03 215.819 1943.09 213.157 Q1941.17 210.472 1937.79 210.472 Q1934.41 210.472 1932.46 213.157 Q1930.54 215.819 1930.54 220.518 Q1930.54 225.217 1932.46 227.902 Q1934.41 230.564 1937.79 230.564 Q1941.17 230.564 1943.09 227.902 Q1945.03 225.217 1945.03 220.518 Z\" fill=\"#000000\" fill-rule=\"evenodd\" fill-opacity=\"1\" /><path clip-path=\"url(#clip030)\" d=\"M 0 0 M1963.97 210.518 Q1960.54 210.518 1958.55 213.203 Q1956.56 215.865 1956.56 220.518 Q1956.56 225.171 1958.53 227.856 Q1960.52 230.518 1963.97 230.518 Q1967.37 230.518 1969.36 227.833 Q1971.35 225.147 1971.35 220.518 Q1971.35 215.911 1969.36 213.226 Q1967.37 210.518 1963.97 210.518 M1963.97 206.907 Q1969.52 206.907 1972.69 210.518 Q1975.86 214.129 1975.86 220.518 Q1975.86 226.884 1972.69 230.518 Q1969.52 234.129 1963.97 234.129 Q1958.39 234.129 1955.22 230.518 Q1952.07 226.884 1952.07 220.518 Q1952.07 214.129 1955.22 210.518 Q1958.39 206.907 1963.97 206.907 Z\" fill=\"#000000\" fill-rule=\"evenodd\" fill-opacity=\"1\" /><path clip-path=\"url(#clip030)\" d=\"M 0 0 M1980.33 197.439 L1984.59 197.439 L1984.59 233.458 L1980.33 233.458 L1980.33 197.439 Z\" fill=\"#000000\" fill-rule=\"evenodd\" fill-opacity=\"1\" /><path clip-path=\"url(#clip030)\" d=\"M 0 0 M2000.84 220.425 Q1995.68 220.425 1993.69 221.606 Q1991.7 222.786 1991.7 225.634 Q1991.7 227.902 1993.18 229.245 Q1994.68 230.564 1997.25 230.564 Q2000.79 230.564 2002.92 228.064 Q2005.08 225.541 2005.08 221.374 L2005.08 220.425 L2000.84 220.425 M2009.34 218.666 L2009.34 233.458 L2005.08 233.458 L2005.08 229.522 Q2003.62 231.883 2001.44 233.018 Q1999.27 234.129 1996.12 234.129 Q1992.14 234.129 1989.78 231.907 Q1987.44 229.661 1987.44 225.911 Q1987.44 221.536 1990.35 219.314 Q1993.29 217.092 1999.1 217.092 L2005.08 217.092 L2005.08 216.675 Q2005.08 213.735 2003.13 212.138 Q2001.21 210.518 1997.72 210.518 Q1995.49 210.518 1993.39 211.05 Q1991.28 211.583 1989.34 212.647 L1989.34 208.712 Q1991.67 207.81 1993.87 207.37 Q1996.07 206.907 1998.16 206.907 Q2003.78 206.907 2006.56 209.823 Q2009.34 212.74 2009.34 218.666 Z\" fill=\"#000000\" fill-rule=\"evenodd\" fill-opacity=\"1\" /><path clip-path=\"url(#clip030)\" d=\"M 0 0 M2018.02 200.171 L2018.02 207.532 L2026.79 207.532 L2026.79 210.842 L2018.02 210.842 L2018.02 224.916 Q2018.02 228.087 2018.87 228.99 Q2019.75 229.893 2022.41 229.893 L2026.79 229.893 L2026.79 233.458 L2022.41 233.458 Q2017.48 233.458 2015.61 231.629 Q2013.73 229.777 2013.73 224.916 L2013.73 210.842 L2010.61 210.842 L2010.61 207.532 L2013.73 207.532 L2013.73 200.171 L2018.02 200.171 Z\" fill=\"#000000\" fill-rule=\"evenodd\" fill-opacity=\"1\" /><path clip-path=\"url(#clip030)\" d=\"M 0 0 M2031.26 207.532 L2035.52 207.532 L2035.52 233.458 L2031.26 233.458 L2031.26 207.532 M2031.26 197.439 L2035.52 197.439 L2035.52 202.833 L2031.26 202.833 L2031.26 197.439 Z\" fill=\"#000000\" fill-rule=\"evenodd\" fill-opacity=\"1\" /><path clip-path=\"url(#clip030)\" d=\"M 0 0 M2050.03 210.518 Q2046.6 210.518 2044.61 213.203 Q2042.62 215.865 2042.62 220.518 Q2042.62 225.171 2044.59 227.856 Q2046.58 230.518 2050.03 230.518 Q2053.43 230.518 2055.42 227.833 Q2057.41 225.147 2057.41 220.518 Q2057.41 215.911 2055.42 213.226 Q2053.43 210.518 2050.03 210.518 M2050.03 206.907 Q2055.59 206.907 2058.76 210.518 Q2061.93 214.129 2061.93 220.518 Q2061.93 226.884 2058.76 230.518 Q2055.59 234.129 2050.03 234.129 Q2044.45 234.129 2041.28 230.518 Q2038.13 226.884 2038.13 220.518 Q2038.13 214.129 2041.28 210.518 Q2044.45 206.907 2050.03 206.907 Z\" fill=\"#000000\" fill-rule=\"evenodd\" fill-opacity=\"1\" /><path clip-path=\"url(#clip030)\" d=\"M 0 0 M2087.95 217.809 L2087.95 233.458 L2083.69 233.458 L2083.69 217.948 Q2083.69 214.268 2082.25 212.439 Q2080.82 210.61 2077.95 210.61 Q2074.5 210.61 2072.51 212.81 Q2070.52 215.009 2070.52 218.805 L2070.52 233.458 L2066.23 233.458 L2066.23 207.532 L2070.52 207.532 L2070.52 211.56 Q2072.04 209.222 2074.1 208.064 Q2076.19 206.907 2078.9 206.907 Q2083.36 206.907 2085.66 209.685 Q2087.95 212.439 2087.95 217.809 Z\" fill=\"#000000\" fill-rule=\"evenodd\" fill-opacity=\"1\" /><path clip-path=\"url(#clip030)\" d=\"M 0 0 M2129.03 217.809 L2129.03 233.458 L2124.78 233.458 L2124.78 217.948 Q2124.78 214.268 2123.34 212.439 Q2121.91 210.61 2119.03 210.61 Q2115.59 210.61 2113.59 212.81 Q2111.6 215.009 2111.6 218.805 L2111.6 233.458 L2107.32 233.458 L2107.32 207.532 L2111.6 207.532 L2111.6 211.56 Q2113.13 209.222 2115.19 208.064 Q2117.28 206.907 2119.98 206.907 Q2124.45 206.907 2126.74 209.685 Q2129.03 212.439 2129.03 217.809 Z\" fill=\"#000000\" fill-rule=\"evenodd\" fill-opacity=\"1\" /><path clip-path=\"url(#clip030)\" d=\"M 0 0 M2143.55 210.518 Q2140.12 210.518 2138.13 213.203 Q2136.14 215.865 2136.14 220.518 Q2136.14 225.171 2138.11 227.856 Q2140.1 230.518 2143.55 230.518 Q2146.95 230.518 2148.94 227.833 Q2150.93 225.147 2150.93 220.518 Q2150.93 215.911 2148.94 213.226 Q2146.95 210.518 2143.55 210.518 M2143.55 206.907 Q2149.1 206.907 2152.28 210.518 Q2155.45 214.129 2155.45 220.518 Q2155.45 226.884 2152.28 230.518 Q2149.1 234.129 2143.55 234.129 Q2137.97 234.129 2134.8 230.518 Q2131.65 226.884 2131.65 220.518 Q2131.65 214.129 2134.8 210.518 Q2137.97 206.907 2143.55 206.907 Z\" fill=\"#000000\" fill-rule=\"evenodd\" fill-opacity=\"1\" /><path clip-path=\"url(#clip030)\" d=\"M 0 0 M2176.97 211.467 L2176.97 197.439 L2181.23 197.439 L2181.23 233.458 L2176.97 233.458 L2176.97 229.569 Q2175.63 231.883 2173.57 233.018 Q2171.53 234.129 2168.66 234.129 Q2163.97 234.129 2161 230.379 Q2158.06 226.629 2158.06 220.518 Q2158.06 214.407 2161 210.657 Q2163.97 206.907 2168.66 206.907 Q2171.53 206.907 2173.57 208.041 Q2175.63 209.152 2176.97 211.467 M2162.46 220.518 Q2162.46 225.217 2164.38 227.902 Q2166.33 230.564 2169.71 230.564 Q2173.09 230.564 2175.03 227.902 Q2176.97 225.217 2176.97 220.518 Q2176.97 215.819 2175.03 213.157 Q2173.09 210.472 2169.71 210.472 Q2166.33 210.472 2164.38 213.157 Q2162.46 215.819 2162.46 220.518 Z\" fill=\"#000000\" fill-rule=\"evenodd\" fill-opacity=\"1\" /><path clip-path=\"url(#clip030)\" d=\"M 0 0 M2207.88 219.43 L2207.88 221.513 L2188.29 221.513 Q2188.57 225.911 2190.93 228.226 Q2193.32 230.518 2197.55 230.518 Q2200.01 230.518 2202.3 229.916 Q2204.61 229.314 2206.88 228.11 L2206.88 232.138 Q2204.59 233.11 2202.18 233.62 Q2199.78 234.129 2197.3 234.129 Q2191.09 234.129 2187.46 230.518 Q2183.85 226.907 2183.85 220.749 Q2183.85 214.384 2187.28 210.657 Q2190.72 206.907 2196.56 206.907 Q2201.79 206.907 2204.82 210.286 Q2207.88 213.643 2207.88 219.43 M2203.62 218.18 Q2203.57 214.685 2201.65 212.601 Q2199.75 210.518 2196.6 210.518 Q2193.04 210.518 2190.89 212.532 Q2188.76 214.546 2188.43 218.203 L2203.62 218.18 Z\" fill=\"#000000\" fill-rule=\"evenodd\" fill-opacity=\"1\" /><path clip-path=\"url(#clip030)\" d=\"M 0 0 M2228.87 208.296 L2228.87 212.323 Q2227.07 211.397 2225.12 210.935 Q2223.18 210.472 2221.09 210.472 Q2217.92 210.472 2216.33 211.444 Q2214.75 212.416 2214.75 214.36 Q2214.75 215.842 2215.89 216.698 Q2217.02 217.532 2220.45 218.296 L2221.9 218.62 Q2226.44 219.592 2228.34 221.374 Q2230.26 223.134 2230.26 226.305 Q2230.26 229.916 2227.39 232.022 Q2224.54 234.129 2219.54 234.129 Q2217.46 234.129 2215.19 233.712 Q2212.95 233.319 2210.45 232.508 L2210.45 228.11 Q2212.81 229.337 2215.1 229.962 Q2217.39 230.564 2219.64 230.564 Q2222.65 230.564 2224.27 229.546 Q2225.89 228.504 2225.89 226.629 Q2225.89 224.893 2224.71 223.967 Q2223.55 223.041 2219.59 222.184 L2218.11 221.837 Q2214.15 221.004 2212.39 219.291 Q2210.63 217.555 2210.63 214.546 Q2210.63 210.888 2213.22 208.898 Q2215.82 206.907 2220.59 206.907 Q2222.95 206.907 2225.03 207.254 Q2227.11 207.601 2228.87 208.296 Z\" fill=\"#000000\" fill-rule=\"evenodd\" fill-opacity=\"1\" /><polyline clip-path=\"url(#clip030)\" style=\"stroke:#3da44d; stroke-width:4; stroke-opacity:1; fill:none\" points=\"\n",
       "  1656.18,276.658 1803.17,276.658 \n",
       "  \"/>\n",
       "<path clip-path=\"url(#clip030)\" d=\"M 0 0 M1832.35 263.22 L1832.35 276.206 L1838.23 276.206 Q1841.49 276.206 1843.27 274.516 Q1845.05 272.827 1845.05 269.702 Q1845.05 266.6 1843.27 264.91 Q1841.49 263.22 1838.23 263.22 L1832.35 263.22 M1827.67 259.378 L1838.23 259.378 Q1844.04 259.378 1847 262.016 Q1849.99 264.632 1849.99 269.702 Q1849.99 274.817 1847 277.433 Q1844.04 280.049 1838.23 280.049 L1832.35 280.049 L1832.35 293.938 L1827.67 293.938 L1827.67 259.378 Z\" fill=\"#000000\" fill-rule=\"evenodd\" fill-opacity=\"1\" /><path clip-path=\"url(#clip030)\" d=\"M 0 0 M1862.81 270.998 Q1859.38 270.998 1857.39 273.683 Q1855.4 276.345 1855.4 280.998 Q1855.4 285.651 1857.37 288.336 Q1859.36 290.998 1862.81 290.998 Q1866.21 290.998 1868.2 288.313 Q1870.19 285.627 1870.19 280.998 Q1870.19 276.391 1868.2 273.706 Q1866.21 270.998 1862.81 270.998 M1862.81 267.387 Q1868.36 267.387 1871.54 270.998 Q1874.71 274.609 1874.71 280.998 Q1874.71 287.364 1871.54 290.998 Q1868.36 294.609 1862.81 294.609 Q1857.23 294.609 1854.06 290.998 Q1850.91 287.364 1850.91 280.998 Q1850.91 274.609 1854.06 270.998 Q1857.23 267.387 1862.81 267.387 Z\" fill=\"#000000\" fill-rule=\"evenodd\" fill-opacity=\"1\" /><path clip-path=\"url(#clip030)\" d=\"M 0 0 M1879.17 257.919 L1883.43 257.919 L1883.43 293.938 L1879.17 293.938 L1879.17 257.919 Z\" fill=\"#000000\" fill-rule=\"evenodd\" fill-opacity=\"1\" /><path clip-path=\"url(#clip030)\" d=\"M 0 0 M1898.69 296.345 Q1896.88 300.975 1895.17 302.387 Q1893.46 303.799 1890.59 303.799 L1887.18 303.799 L1887.18 300.234 L1889.68 300.234 Q1891.44 300.234 1892.42 299.4 Q1893.39 298.567 1894.57 295.465 L1895.33 293.521 L1884.85 268.012 L1889.36 268.012 L1897.46 288.289 L1905.56 268.012 L1910.08 268.012 L1898.69 296.345 Z\" fill=\"#000000\" fill-rule=\"evenodd\" fill-opacity=\"1\" /><path clip-path=\"url(#clip030)\" d=\"M 0 0 M1936.1 278.289 L1936.1 293.938 L1931.84 293.938 L1931.84 278.428 Q1931.84 274.748 1930.4 272.919 Q1928.97 271.09 1926.1 271.09 Q1922.65 271.09 1920.66 273.29 Q1918.67 275.489 1918.67 279.285 L1918.67 293.938 L1914.38 293.938 L1914.38 268.012 L1918.67 268.012 L1918.67 272.04 Q1920.19 269.702 1922.25 268.544 Q1924.34 267.387 1927.05 267.387 Q1931.51 267.387 1933.8 270.165 Q1936.1 272.919 1936.1 278.289 Z\" fill=\"#000000\" fill-rule=\"evenodd\" fill-opacity=\"1\" /><path clip-path=\"url(#clip030)\" d=\"M 0 0 M1950.61 270.998 Q1947.18 270.998 1945.19 273.683 Q1943.2 276.345 1943.2 280.998 Q1943.2 285.651 1945.17 288.336 Q1947.16 290.998 1950.61 290.998 Q1954.01 290.998 1956 288.313 Q1957.99 285.627 1957.99 280.998 Q1957.99 276.391 1956 273.706 Q1954.01 270.998 1950.61 270.998 M1950.61 267.387 Q1956.17 267.387 1959.34 270.998 Q1962.51 274.609 1962.51 280.998 Q1962.51 287.364 1959.34 290.998 Q1956.17 294.609 1950.61 294.609 Q1945.03 294.609 1941.86 290.998 Q1938.71 287.364 1938.71 280.998 Q1938.71 274.609 1941.86 270.998 Q1945.03 267.387 1950.61 267.387 Z\" fill=\"#000000\" fill-rule=\"evenodd\" fill-opacity=\"1\" /><path clip-path=\"url(#clip030)\" d=\"M 0 0 M1987.16 272.989 Q1988.76 270.118 1990.98 268.753 Q1993.2 267.387 1996.21 267.387 Q2000.26 267.387 2002.46 270.234 Q2004.66 273.058 2004.66 278.289 L2004.66 293.938 L2000.38 293.938 L2000.38 278.428 Q2000.38 274.702 1999.06 272.896 Q1997.74 271.09 1995.03 271.09 Q1991.72 271.09 1989.8 273.29 Q1987.88 275.489 1987.88 279.285 L1987.88 293.938 L1983.6 293.938 L1983.6 278.428 Q1983.6 274.678 1982.28 272.896 Q1980.96 271.09 1978.2 271.09 Q1974.94 271.09 1973.02 273.313 Q1971.1 275.512 1971.1 279.285 L1971.1 293.938 L1966.81 293.938 L1966.81 268.012 L1971.1 268.012 L1971.1 272.04 Q1972.55 269.655 1974.59 268.521 Q1976.63 267.387 1979.43 267.387 Q1982.25 267.387 1984.22 268.822 Q1986.21 270.257 1987.16 272.989 Z\" fill=\"#000000\" fill-rule=\"evenodd\" fill-opacity=\"1\" /><path clip-path=\"url(#clip030)\" d=\"M 0 0 M2009.13 268.012 L2013.39 268.012 L2013.39 293.938 L2009.13 293.938 L2009.13 268.012 M2009.13 257.919 L2013.39 257.919 L2013.39 263.313 L2009.13 263.313 L2009.13 257.919 Z\" fill=\"#000000\" fill-rule=\"evenodd\" fill-opacity=\"1\" /><path clip-path=\"url(#clip030)\" d=\"M 0 0 M2029.64 280.905 Q2024.48 280.905 2022.48 282.086 Q2020.49 283.266 2020.49 286.114 Q2020.49 288.382 2021.98 289.725 Q2023.48 291.044 2026.05 291.044 Q2029.59 291.044 2031.72 288.544 Q2033.87 286.021 2033.87 281.854 L2033.87 280.905 L2029.64 280.905 M2038.13 279.146 L2038.13 293.938 L2033.87 293.938 L2033.87 290.002 Q2032.41 292.363 2030.24 293.498 Q2028.06 294.609 2024.91 294.609 Q2020.93 294.609 2018.57 292.387 Q2016.23 290.141 2016.23 286.391 Q2016.23 282.016 2019.15 279.794 Q2022.09 277.572 2027.9 277.572 L2033.87 277.572 L2033.87 277.155 Q2033.87 274.215 2031.93 272.618 Q2030.01 270.998 2026.51 270.998 Q2024.29 270.998 2022.18 271.53 Q2020.08 272.063 2018.13 273.127 L2018.13 269.192 Q2020.47 268.29 2022.67 267.85 Q2024.87 267.387 2026.95 267.387 Q2032.58 267.387 2035.35 270.303 Q2038.13 273.22 2038.13 279.146 Z\" fill=\"#000000\" fill-rule=\"evenodd\" fill-opacity=\"1\" /><path clip-path=\"url(#clip030)\" d=\"M 0 0 M2042.6 257.919 L2046.86 257.919 L2046.86 293.938 L2042.6 293.938 L2042.6 257.919 Z\" fill=\"#000000\" fill-rule=\"evenodd\" fill-opacity=\"1\" /></svg>\n"
      ]
     },
     "execution_count": 186,
     "metadata": {},
     "output_type": "execute_result"
    }
   ],
   "source": [
    "scatter!(xs, ys, label = \"Interpolation nodes\")\n",
    "plot!(polynomial, extrema(xs)..., label = \"Polynomial\")"
   ]
  },
  {
   "cell_type": "code",
   "execution_count": 182,
   "metadata": {},
   "outputs": [
    {
     "data": {
      "text/html": [
       "0.29237240834415207 &#45; 6.34287386814578e-14&#8729;x &#45; 0.06775109312370861&#8729;x<sup>2</sup> &#43; 2.7991904853067282e-14&#8729;x<sup>3</sup> &#43; 0.0062564570452313195&#8729;x<sup>4</sup> &#45; 3.240592271574332e-15&#8729;x<sup>5</sup> &#45; 0.00027687832529966556&#8729;x<sup>6</sup> &#43; 1.6802106389412134e-16&#8729;x<sup>7</sup> &#43; 6.492746139012116e-6&#8729;x<sup>8</sup> &#45; 4.5583798550017066e-18&#8729;x<sup>9</sup> &#45; 8.277400496324007e-8&#8729;x<sup>10</sup> &#43; 6.630092836367711e-20&#8729;x<sup>11</sup> &#43; 5.4183595831834e-10&#8729;x<sup>12</sup> &#45; 4.8554679393645105e-22&#8729;x<sup>13</sup> &#45; 1.4257707300331435e-12&#8729;x<sup>14</sup> &#43; 1.3994513263587043e-24&#8729;x<sup>15</sup>"
      ],
      "text/latex": [
       "$0.29237240834415207 - 6.34287386814578e-14\\cdot x - 0.06775109312370861\\cdot x^{2} + 2.7991904853067282e-14\\cdot x^{3} + 0.0062564570452313195\\cdot x^{4} - 3.240592271574332e-15\\cdot x^{5} - 0.00027687832529966556\\cdot x^{6} + 1.6802106389412134e-16\\cdot x^{7} + 6.492746139012116e-6\\cdot x^{8} - 4.5583798550017066e-18\\cdot x^{9} - 8.277400496324007e-8\\cdot x^{10} + 6.630092836367711e-20\\cdot x^{11} + 5.4183595831834e-10\\cdot x^{12} - 4.8554679393645105e-22\\cdot x^{13} - 1.4257707300331435e-12\\cdot x^{14} + 1.3994513263587043e-24\\cdot x^{15}$"
      ],
      "text/plain": [
       "Polynomial(0.29237240834415207 - 6.34287386814578e-14*x - 0.06775109312370861*x^2 + 2.7991904853067282e-14*x^3 + 0.0062564570452313195*x^4 - 3.240592271574332e-15*x^5 - 0.00027687832529966556*x^6 + 1.6802106389412134e-16*x^7 + 6.492746139012116e-6*x^8 - 4.5583798550017066e-18*x^9 - 8.277400496324007e-8*x^10 + 6.630092836367711e-20*x^11 + 5.4183595831834e-10*x^12 - 4.8554679393645105e-22*x^13 - 1.4257707300331435e-12*x^14 + 1.3994513263587043e-24*x^15)"
      ]
     },
     "execution_count": 182,
     "metadata": {},
     "output_type": "execute_result"
    }
   ],
   "source": [
    "chebyshev_base = [0,0,0,0,0,0,0,0,0,0,0,0,0,0,0,0,0,0,0,0,0,1]\n",
    "chebyshev_polynomial = ChebyshevT(chebyshev_base)\n",
    "chebyshev_polynomial_roots = 10 * Polynomials.roots(chebyshev_polynomial)\n",
    "chebyshev_based_ys = map(x -> f(x), chebyshev_polynomial_roots)\n",
    "chebyshev_based_polynomial = fit(chebyshev_polynomial_roots, chebyshev_based_ys,15)"
   ]
  },
  {
   "cell_type": "code",
   "execution_count": 187,
   "metadata": {},
   "outputs": [
    {
     "data": {
      "image/svg+xml": [
       "<?xml version=\"1.0\" encoding=\"utf-8\"?>\n",
       "<svg xmlns=\"http://www.w3.org/2000/svg\" xmlns:xlink=\"http://www.w3.org/1999/xlink\" width=\"600\" height=\"400\" viewBox=\"0 0 2400 1600\">\n",
       "<defs>\n",
       "  <clipPath id=\"clip070\">\n",
       "    <rect x=\"0\" y=\"0\" width=\"2400\" height=\"1600\"/>\n",
       "  </clipPath>\n",
       "</defs>\n",
       "<path clip-path=\"url(#clip070)\" d=\"\n",
       "M0 1600 L2400 1600 L2400 0 L0 0  Z\n",
       "  \" fill=\"#ffffff\" fill-rule=\"evenodd\" fill-opacity=\"1\"/>\n",
       "<defs>\n",
       "  <clipPath id=\"clip071\">\n",
       "    <rect x=\"480\" y=\"0\" width=\"1681\" height=\"1600\"/>\n",
       "  </clipPath>\n",
       "</defs>\n",
       "<path clip-path=\"url(#clip070)\" d=\"\n",
       "M147.848 1486.45 L2352.76 1486.45 L2352.76 47.2441 L147.848 47.2441  Z\n",
       "  \" fill=\"#ffffff\" fill-rule=\"evenodd\" fill-opacity=\"1\"/>\n",
       "<defs>\n",
       "  <clipPath id=\"clip072\">\n",
       "    <rect x=\"147\" y=\"47\" width=\"2206\" height=\"1440\"/>\n",
       "  </clipPath>\n",
       "</defs>\n",
       "<polyline clip-path=\"url(#clip072)\" style=\"stroke:#000000; stroke-width:2; stroke-opacity:0.1; fill:none\" points=\"\n",
       "  210.251,1486.45 210.251,47.2441 \n",
       "  \"/>\n",
       "<polyline clip-path=\"url(#clip072)\" style=\"stroke:#000000; stroke-width:2; stroke-opacity:0.1; fill:none\" points=\"\n",
       "  730.277,1486.45 730.277,47.2441 \n",
       "  \"/>\n",
       "<polyline clip-path=\"url(#clip072)\" style=\"stroke:#000000; stroke-width:2; stroke-opacity:0.1; fill:none\" points=\"\n",
       "  1250.3,1486.45 1250.3,47.2441 \n",
       "  \"/>\n",
       "<polyline clip-path=\"url(#clip072)\" style=\"stroke:#000000; stroke-width:2; stroke-opacity:0.1; fill:none\" points=\"\n",
       "  1770.33,1486.45 1770.33,47.2441 \n",
       "  \"/>\n",
       "<polyline clip-path=\"url(#clip072)\" style=\"stroke:#000000; stroke-width:2; stroke-opacity:0.1; fill:none\" points=\"\n",
       "  2290.35,1486.45 2290.35,47.2441 \n",
       "  \"/>\n",
       "<polyline clip-path=\"url(#clip070)\" style=\"stroke:#000000; stroke-width:4; stroke-opacity:1; fill:none\" points=\"\n",
       "  147.848,1486.45 2352.76,1486.45 \n",
       "  \"/>\n",
       "<polyline clip-path=\"url(#clip070)\" style=\"stroke:#000000; stroke-width:4; stroke-opacity:1; fill:none\" points=\"\n",
       "  210.251,1486.45 210.251,1469.18 \n",
       "  \"/>\n",
       "<polyline clip-path=\"url(#clip070)\" style=\"stroke:#000000; stroke-width:4; stroke-opacity:1; fill:none\" points=\"\n",
       "  730.277,1486.45 730.277,1469.18 \n",
       "  \"/>\n",
       "<polyline clip-path=\"url(#clip070)\" style=\"stroke:#000000; stroke-width:4; stroke-opacity:1; fill:none\" points=\"\n",
       "  1250.3,1486.45 1250.3,1469.18 \n",
       "  \"/>\n",
       "<polyline clip-path=\"url(#clip070)\" style=\"stroke:#000000; stroke-width:4; stroke-opacity:1; fill:none\" points=\"\n",
       "  1770.33,1486.45 1770.33,1469.18 \n",
       "  \"/>\n",
       "<polyline clip-path=\"url(#clip070)\" style=\"stroke:#000000; stroke-width:4; stroke-opacity:1; fill:none\" points=\"\n",
       "  2290.35,1486.45 2290.35,1469.18 \n",
       "  \"/>\n",
       "<path clip-path=\"url(#clip070)\" d=\"M 0 0 M169.013 1530.29 L198.689 1530.29 L198.689 1534.23 L169.013 1534.23 L169.013 1530.29 Z\" fill=\"#000000\" fill-rule=\"evenodd\" fill-opacity=\"1\" /><path clip-path=\"url(#clip070)\" d=\"M 0 0 M204.568 1543.18 L212.207 1543.18 L212.207 1516.82 L203.897 1518.49 L203.897 1514.23 L212.161 1512.56 L216.837 1512.56 L216.837 1543.18 L224.476 1543.18 L224.476 1547.12 L204.568 1547.12 L204.568 1543.18 Z\" fill=\"#000000\" fill-rule=\"evenodd\" fill-opacity=\"1\" /><path clip-path=\"url(#clip070)\" d=\"M 0 0 M239.545 1515.64 Q235.934 1515.64 234.105 1519.2 Q232.3 1522.75 232.3 1529.87 Q232.3 1536.98 234.105 1540.55 Q235.934 1544.09 239.545 1544.09 Q243.179 1544.09 244.985 1540.55 Q246.814 1536.98 246.814 1529.87 Q246.814 1522.75 244.985 1519.2 Q243.179 1515.64 239.545 1515.64 M239.545 1511.93 Q245.355 1511.93 248.411 1516.54 Q251.49 1521.12 251.49 1529.87 Q251.49 1538.6 248.411 1543.21 Q245.355 1547.79 239.545 1547.79 Q233.735 1547.79 230.656 1543.21 Q227.601 1538.6 227.601 1529.87 Q227.601 1521.12 230.656 1516.54 Q233.735 1511.93 239.545 1511.93 Z\" fill=\"#000000\" fill-rule=\"evenodd\" fill-opacity=\"1\" /><path clip-path=\"url(#clip070)\" d=\"M 0 0 M702.43 1530.29 L732.105 1530.29 L732.105 1534.23 L702.43 1534.23 L702.43 1530.29 Z\" fill=\"#000000\" fill-rule=\"evenodd\" fill-opacity=\"1\" /><path clip-path=\"url(#clip070)\" d=\"M 0 0 M737.221 1512.56 L755.578 1512.56 L755.578 1516.5 L741.504 1516.5 L741.504 1524.97 Q742.522 1524.62 743.541 1524.46 Q744.559 1524.27 745.578 1524.27 Q751.365 1524.27 754.744 1527.44 Q758.124 1530.62 758.124 1536.03 Q758.124 1541.61 754.652 1544.71 Q751.179 1547.79 744.86 1547.79 Q742.684 1547.79 740.416 1547.42 Q738.17 1547.05 735.763 1546.31 L735.763 1541.61 Q737.846 1542.74 740.068 1543.3 Q742.291 1543.86 744.767 1543.86 Q748.772 1543.86 751.11 1541.75 Q753.448 1539.64 753.448 1536.03 Q753.448 1532.42 751.11 1530.31 Q748.772 1528.21 744.767 1528.21 Q742.892 1528.21 741.017 1528.62 Q739.166 1529.04 737.221 1529.92 L737.221 1512.56 Z\" fill=\"#000000\" fill-rule=\"evenodd\" fill-opacity=\"1\" /><path clip-path=\"url(#clip070)\" d=\"M 0 0 M1250.3 1515.64 Q1246.69 1515.64 1244.86 1519.2 Q1243.06 1522.75 1243.06 1529.87 Q1243.06 1536.98 1244.86 1540.55 Q1246.69 1544.09 1250.3 1544.09 Q1253.94 1544.09 1255.74 1540.55 Q1257.57 1536.98 1257.57 1529.87 Q1257.57 1522.75 1255.74 1519.2 Q1253.94 1515.64 1250.3 1515.64 M1250.3 1511.93 Q1256.11 1511.93 1259.17 1516.54 Q1262.25 1521.12 1262.25 1529.87 Q1262.25 1538.6 1259.17 1543.21 Q1256.11 1547.79 1250.3 1547.79 Q1244.49 1547.79 1241.41 1543.21 Q1238.36 1538.6 1238.36 1529.87 Q1238.36 1521.12 1241.41 1516.54 Q1244.49 1511.93 1250.3 1511.93 Z\" fill=\"#000000\" fill-rule=\"evenodd\" fill-opacity=\"1\" /><path clip-path=\"url(#clip070)\" d=\"M 0 0 M1760.61 1512.56 L1778.96 1512.56 L1778.96 1516.5 L1764.89 1516.5 L1764.89 1524.97 Q1765.91 1524.62 1766.92 1524.46 Q1767.94 1524.27 1768.96 1524.27 Q1774.75 1524.27 1778.13 1527.44 Q1781.51 1530.62 1781.51 1536.03 Q1781.51 1541.61 1778.04 1544.71 Q1774.56 1547.79 1768.24 1547.79 Q1766.07 1547.79 1763.8 1547.42 Q1761.55 1547.05 1759.15 1546.31 L1759.15 1541.61 Q1761.23 1542.74 1763.45 1543.3 Q1765.67 1543.86 1768.15 1543.86 Q1772.16 1543.86 1774.49 1541.75 Q1776.83 1539.64 1776.83 1536.03 Q1776.83 1532.42 1774.49 1530.31 Q1772.16 1528.21 1768.15 1528.21 Q1766.28 1528.21 1764.4 1528.62 Q1762.55 1529.04 1760.61 1529.92 L1760.61 1512.56 Z\" fill=\"#000000\" fill-rule=\"evenodd\" fill-opacity=\"1\" /><path clip-path=\"url(#clip070)\" d=\"M 0 0 M2267.23 1543.18 L2274.87 1543.18 L2274.87 1516.82 L2266.56 1518.49 L2266.56 1514.23 L2274.82 1512.56 L2279.5 1512.56 L2279.5 1543.18 L2287.14 1543.18 L2287.14 1547.12 L2267.23 1547.12 L2267.23 1543.18 Z\" fill=\"#000000\" fill-rule=\"evenodd\" fill-opacity=\"1\" /><path clip-path=\"url(#clip070)\" d=\"M 0 0 M2302.2 1515.64 Q2298.59 1515.64 2296.76 1519.2 Q2294.96 1522.75 2294.96 1529.87 Q2294.96 1536.98 2296.76 1540.55 Q2298.59 1544.09 2302.2 1544.09 Q2305.84 1544.09 2307.64 1540.55 Q2309.47 1536.98 2309.47 1529.87 Q2309.47 1522.75 2307.64 1519.2 Q2305.84 1515.64 2302.2 1515.64 M2302.2 1511.93 Q2308.01 1511.93 2311.07 1516.54 Q2314.15 1521.12 2314.15 1529.87 Q2314.15 1538.6 2311.07 1543.21 Q2308.01 1547.79 2302.2 1547.79 Q2296.39 1547.79 2293.32 1543.21 Q2290.26 1538.6 2290.26 1529.87 Q2290.26 1521.12 2293.32 1516.54 Q2296.39 1511.93 2302.2 1511.93 Z\" fill=\"#000000\" fill-rule=\"evenodd\" fill-opacity=\"1\" /><polyline clip-path=\"url(#clip072)\" style=\"stroke:#000000; stroke-width:2; stroke-opacity:0.1; fill:none\" points=\"\n",
       "  147.848,1349.22 2352.76,1349.22 \n",
       "  \"/>\n",
       "<polyline clip-path=\"url(#clip072)\" style=\"stroke:#000000; stroke-width:2; stroke-opacity:0.1; fill:none\" points=\"\n",
       "  147.848,970.849 2352.76,970.849 \n",
       "  \"/>\n",
       "<polyline clip-path=\"url(#clip072)\" style=\"stroke:#000000; stroke-width:2; stroke-opacity:0.1; fill:none\" points=\"\n",
       "  147.848,592.475 2352.76,592.475 \n",
       "  \"/>\n",
       "<polyline clip-path=\"url(#clip072)\" style=\"stroke:#000000; stroke-width:2; stroke-opacity:0.1; fill:none\" points=\"\n",
       "  147.848,214.101 2352.76,214.101 \n",
       "  \"/>\n",
       "<polyline clip-path=\"url(#clip070)\" style=\"stroke:#000000; stroke-width:4; stroke-opacity:1; fill:none\" points=\"\n",
       "  147.848,1486.45 147.848,47.2441 \n",
       "  \"/>\n",
       "<polyline clip-path=\"url(#clip070)\" style=\"stroke:#000000; stroke-width:4; stroke-opacity:1; fill:none\" points=\"\n",
       "  147.848,1349.22 174.307,1349.22 \n",
       "  \"/>\n",
       "<polyline clip-path=\"url(#clip070)\" style=\"stroke:#000000; stroke-width:4; stroke-opacity:1; fill:none\" points=\"\n",
       "  147.848,970.849 174.307,970.849 \n",
       "  \"/>\n",
       "<polyline clip-path=\"url(#clip070)\" style=\"stroke:#000000; stroke-width:4; stroke-opacity:1; fill:none\" points=\"\n",
       "  147.848,592.475 174.307,592.475 \n",
       "  \"/>\n",
       "<polyline clip-path=\"url(#clip070)\" style=\"stroke:#000000; stroke-width:4; stroke-opacity:1; fill:none\" points=\"\n",
       "  147.848,214.101 174.307,214.101 \n",
       "  \"/>\n",
       "<path clip-path=\"url(#clip070)\" d=\"M 0 0 M62.9365 1335.02 Q59.3254 1335.02 57.4967 1338.59 Q55.6912 1342.13 55.6912 1349.26 Q55.6912 1356.36 57.4967 1359.93 Q59.3254 1363.47 62.9365 1363.47 Q66.5707 1363.47 68.3763 1359.93 Q70.205 1356.36 70.205 1349.26 Q70.205 1342.13 68.3763 1338.59 Q66.5707 1335.02 62.9365 1335.02 M62.9365 1331.32 Q68.7467 1331.32 71.8022 1335.93 Q74.8809 1340.51 74.8809 1349.26 Q74.8809 1357.99 71.8022 1362.59 Q68.7467 1367.17 62.9365 1367.17 Q57.1264 1367.17 54.0477 1362.59 Q50.9921 1357.99 50.9921 1349.26 Q50.9921 1340.51 54.0477 1335.93 Q57.1264 1331.32 62.9365 1331.32 Z\" fill=\"#000000\" fill-rule=\"evenodd\" fill-opacity=\"1\" /><path clip-path=\"url(#clip070)\" d=\"M 0 0 M79.9503 1360.62 L84.8345 1360.62 L84.8345 1366.5 L79.9503 1366.5 L79.9503 1360.62 Z\" fill=\"#000000\" fill-rule=\"evenodd\" fill-opacity=\"1\" /><path clip-path=\"url(#clip070)\" d=\"M 0 0 M99.9039 1335.02 Q96.2928 1335.02 94.4641 1338.59 Q92.6586 1342.13 92.6586 1349.26 Q92.6586 1356.36 94.4641 1359.93 Q96.2928 1363.47 99.9039 1363.47 Q103.538 1363.47 105.344 1359.93 Q107.172 1356.36 107.172 1349.26 Q107.172 1342.13 105.344 1338.59 Q103.538 1335.02 99.9039 1335.02 M99.9039 1331.32 Q105.714 1331.32 108.77 1335.93 Q111.848 1340.51 111.848 1349.26 Q111.848 1357.99 108.77 1362.59 Q105.714 1367.17 99.9039 1367.17 Q94.0937 1367.17 91.0151 1362.59 Q87.9595 1357.99 87.9595 1349.26 Q87.9595 1340.51 91.0151 1335.93 Q94.0937 1331.32 99.9039 1331.32 Z\" fill=\"#000000\" fill-rule=\"evenodd\" fill-opacity=\"1\" /><path clip-path=\"url(#clip070)\" d=\"M 0 0 M64.1634 956.648 Q60.5523 956.648 58.7236 960.213 Q56.918 963.755 56.918 970.884 Q56.918 977.991 58.7236 981.555 Q60.5523 985.097 64.1634 985.097 Q67.7976 985.097 69.6031 981.555 Q71.4318 977.991 71.4318 970.884 Q71.4318 963.755 69.6031 960.213 Q67.7976 956.648 64.1634 956.648 M64.1634 952.944 Q69.9735 952.944 73.029 957.551 Q76.1077 962.134 76.1077 970.884 Q76.1077 979.611 73.029 984.217 Q69.9735 988.801 64.1634 988.801 Q58.3532 988.801 55.2745 984.217 Q52.219 979.611 52.219 970.884 Q52.219 962.134 55.2745 957.551 Q58.3532 952.944 64.1634 952.944 Z\" fill=\"#000000\" fill-rule=\"evenodd\" fill-opacity=\"1\" /><path clip-path=\"url(#clip070)\" d=\"M 0 0 M81.1771 982.25 L86.0614 982.25 L86.0614 988.129 L81.1771 988.129 L81.1771 982.25 Z\" fill=\"#000000\" fill-rule=\"evenodd\" fill-opacity=\"1\" /><path clip-path=\"url(#clip070)\" d=\"M 0 0 M91.941 984.194 L99.5798 984.194 L99.5798 957.829 L91.2697 959.495 L91.2697 955.236 L99.5335 953.569 L104.209 953.569 L104.209 984.194 L111.848 984.194 L111.848 988.129 L91.941 988.129 L91.941 984.194 Z\" fill=\"#000000\" fill-rule=\"evenodd\" fill-opacity=\"1\" /><path clip-path=\"url(#clip070)\" d=\"M 0 0 M64.5337 578.274 Q60.9226 578.274 59.0939 581.839 Q57.2884 585.38 57.2884 592.51 Q57.2884 599.616 59.0939 603.181 Q60.9226 606.723 64.5337 606.723 Q68.168 606.723 69.9735 603.181 Q71.8022 599.616 71.8022 592.51 Q71.8022 585.38 69.9735 581.839 Q68.168 578.274 64.5337 578.274 M64.5337 574.57 Q70.3439 574.57 73.3994 579.177 Q76.4781 583.76 76.4781 592.51 Q76.4781 601.237 73.3994 605.843 Q70.3439 610.426 64.5337 610.426 Q58.7236 610.426 55.6449 605.843 Q52.5893 601.237 52.5893 592.51 Q52.5893 583.76 55.6449 579.177 Q58.7236 574.57 64.5337 574.57 Z\" fill=\"#000000\" fill-rule=\"evenodd\" fill-opacity=\"1\" /><path clip-path=\"url(#clip070)\" d=\"M 0 0 M81.5475 603.876 L86.4318 603.876 L86.4318 609.755 L81.5475 609.755 L81.5475 603.876 Z\" fill=\"#000000\" fill-rule=\"evenodd\" fill-opacity=\"1\" /><path clip-path=\"url(#clip070)\" d=\"M 0 0 M95.5289 605.82 L111.848 605.82 L111.848 609.755 L89.904 609.755 L89.904 605.82 Q92.566 603.065 97.1493 598.436 Q101.756 593.783 102.936 592.44 Q105.182 589.917 106.061 588.181 Q106.964 586.422 106.964 584.732 Q106.964 581.978 105.02 580.241 Q103.098 578.505 99.9965 578.505 Q97.7974 578.505 95.3437 579.269 Q92.9132 580.033 90.1354 581.584 L90.1354 576.862 Q92.9595 575.728 95.4132 575.149 Q97.8669 574.57 99.9039 574.57 Q105.274 574.57 108.469 577.255 Q111.663 579.941 111.663 584.431 Q111.663 586.561 110.853 588.482 Q110.066 590.38 107.959 592.973 Q107.381 593.644 104.279 596.862 Q101.177 600.056 95.5289 605.82 Z\" fill=\"#000000\" fill-rule=\"evenodd\" fill-opacity=\"1\" /><path clip-path=\"url(#clip070)\" d=\"M 0 0 M63.5847 199.9 Q59.9736 199.9 58.1449 203.464 Q56.3393 207.006 56.3393 214.136 Q56.3393 221.242 58.1449 224.807 Q59.9736 228.349 63.5847 228.349 Q67.2189 228.349 69.0244 224.807 Q70.8531 221.242 70.8531 214.136 Q70.8531 207.006 69.0244 203.464 Q67.2189 199.9 63.5847 199.9 M63.5847 196.196 Q69.3948 196.196 72.4503 200.802 Q75.529 205.386 75.529 214.136 Q75.529 222.863 72.4503 227.469 Q69.3948 232.052 63.5847 232.052 Q57.7745 232.052 54.6958 227.469 Q51.6403 222.863 51.6403 214.136 Q51.6403 205.386 54.6958 200.802 Q57.7745 196.196 63.5847 196.196 Z\" fill=\"#000000\" fill-rule=\"evenodd\" fill-opacity=\"1\" /><path clip-path=\"url(#clip070)\" d=\"M 0 0 M80.5984 225.501 L85.4827 225.501 L85.4827 231.381 L80.5984 231.381 L80.5984 225.501 Z\" fill=\"#000000\" fill-rule=\"evenodd\" fill-opacity=\"1\" /><path clip-path=\"url(#clip070)\" d=\"M 0 0 M104.719 212.747 Q108.075 213.464 109.95 215.733 Q111.848 218.001 111.848 221.335 Q111.848 226.45 108.33 229.251 Q104.811 232.052 98.3298 232.052 Q96.1539 232.052 93.8391 231.612 Q91.5475 231.196 89.0938 230.339 L89.0938 225.825 Q91.0382 226.96 93.353 227.538 Q95.6678 228.117 98.1909 228.117 Q102.589 228.117 104.881 226.381 Q107.196 224.645 107.196 221.335 Q107.196 218.279 105.043 216.566 Q102.913 214.83 99.0937 214.83 L95.066 214.83 L95.066 210.988 L99.2789 210.988 Q102.728 210.988 104.557 209.622 Q106.385 208.233 106.385 205.64 Q106.385 202.978 104.487 201.566 Q102.612 200.131 99.0937 200.131 Q97.1724 200.131 94.9734 200.548 Q92.7743 200.965 90.1354 201.844 L90.1354 197.677 Q92.7975 196.937 95.1123 196.566 Q97.4502 196.196 99.5104 196.196 Q104.834 196.196 107.936 198.627 Q111.038 201.034 111.038 205.154 Q111.038 208.025 109.395 210.015 Q107.751 211.983 104.719 212.747 Z\" fill=\"#000000\" fill-rule=\"evenodd\" fill-opacity=\"1\" /><polyline clip-path=\"url(#clip072)\" style=\"stroke:#009af9; stroke-width:4; stroke-opacity:1; fill:none\" points=\"\n",
       "  210.251,1330.58 230.565,1329.85 418.397,1320.33 531.275,1310.84 626.713,1298.71 730.385,1277.8 825.961,1244.97 877.195,1217.56 928.429,1178.44 958.109,1147.81 \n",
       "  987.789,1108.86 1017.47,1058.69 1047.15,993.301 1060.34,958.028 1073.52,918.175 1086.71,873.164 1099.9,822.418 1113.09,765.413 1126.28,701.778 1139.46,631.441 \n",
       "  1152.65,554.83 1175.78,409.579 1198.91,264.535 1210.48,200.294 1222.04,147.152 1227.82,126.072 1233.6,109.283 1239.39,97.1701 1245.17,90.021 1251.47,88.0829 \n",
       "  1257.78,92.3054 1264.08,102.566 1270.39,118.571 1276.69,139.877 1282.99,165.923 1289.3,196.058 1295.6,229.587 1308.21,304.005 1320.82,383.847 1333.43,464.682 \n",
       "  1346.04,543.246 1358.72,617.834 1371.4,686.759 1384.09,749.52 1396.77,806.096 1409.46,856.76 1422.14,901.946 1434.82,942.159 1447.51,977.917 1475.55,1043.62 \n",
       "  1503.6,1094.64 1531.65,1134.67 1559.69,1166.42 1613.06,1210.78 1666.43,1241.17 1721.93,1263.47 1777.42,1279.64 1824.13,1289.99 1870.85,1298.23 1984.91,1312.41 \n",
       "  2092.14,1320.99 2263.92,1329.61 2290.35,1330.58 \n",
       "  \"/>\n",
       "<circle clip-path=\"url(#clip072)\" cx=\"210.251\" cy=\"1330.58\" r=\"14\" fill=\"#e26f46\" fill-rule=\"evenodd\" fill-opacity=\"1\" stroke=\"#000000\" stroke-opacity=\"1\" stroke-width=\"3.2\"/>\n",
       "<circle clip-path=\"url(#clip072)\" cx=\"314.256\" cy=\"1326.29\" r=\"14\" fill=\"#e26f46\" fill-rule=\"evenodd\" fill-opacity=\"1\" stroke=\"#000000\" stroke-opacity=\"1\" stroke-width=\"3.2\"/>\n",
       "<circle clip-path=\"url(#clip072)\" cx=\"418.261\" cy=\"1320.34\" r=\"14\" fill=\"#e26f46\" fill-rule=\"evenodd\" fill-opacity=\"1\" stroke=\"#000000\" stroke-opacity=\"1\" stroke-width=\"3.2\"/>\n",
       "<circle clip-path=\"url(#clip072)\" cx=\"522.267\" cy=\"1311.76\" r=\"14\" fill=\"#e26f46\" fill-rule=\"evenodd\" fill-opacity=\"1\" stroke=\"#000000\" stroke-opacity=\"1\" stroke-width=\"3.2\"/>\n",
       "<circle clip-path=\"url(#clip072)\" cx=\"626.272\" cy=\"1298.77\" r=\"14\" fill=\"#e26f46\" fill-rule=\"evenodd\" fill-opacity=\"1\" stroke=\"#000000\" stroke-opacity=\"1\" stroke-width=\"3.2\"/>\n",
       "<circle clip-path=\"url(#clip072)\" cx=\"730.277\" cy=\"1277.83\" r=\"14\" fill=\"#e26f46\" fill-rule=\"evenodd\" fill-opacity=\"1\" stroke=\"#000000\" stroke-opacity=\"1\" stroke-width=\"3.2\"/>\n",
       "<circle clip-path=\"url(#clip072)\" cx=\"834.282\" cy=\"1241.12\" r=\"14\" fill=\"#e26f46\" fill-rule=\"evenodd\" fill-opacity=\"1\" stroke=\"#000000\" stroke-opacity=\"1\" stroke-width=\"3.2\"/>\n",
       "<circle clip-path=\"url(#clip072)\" cx=\"938.287\" cy=\"1169.05\" r=\"14\" fill=\"#e26f46\" fill-rule=\"evenodd\" fill-opacity=\"1\" stroke=\"#000000\" stroke-opacity=\"1\" stroke-width=\"3.2\"/>\n",
       "<circle clip-path=\"url(#clip072)\" cx=\"1042.29\" cy=\"1005.25\" r=\"14\" fill=\"#e26f46\" fill-rule=\"evenodd\" fill-opacity=\"1\" stroke=\"#000000\" stroke-opacity=\"1\" stroke-width=\"3.2\"/>\n",
       "<circle clip-path=\"url(#clip072)\" cx=\"1146.3\" cy=\"592.475\" r=\"14\" fill=\"#e26f46\" fill-rule=\"evenodd\" fill-opacity=\"1\" stroke=\"#000000\" stroke-opacity=\"1\" stroke-width=\"3.2\"/>\n",
       "<circle clip-path=\"url(#clip072)\" cx=\"1250.3\" cy=\"87.9763\" r=\"14\" fill=\"#e26f46\" fill-rule=\"evenodd\" fill-opacity=\"1\" stroke=\"#000000\" stroke-opacity=\"1\" stroke-width=\"3.2\"/>\n",
       "<circle clip-path=\"url(#clip072)\" cx=\"1354.31\" cy=\"592.475\" r=\"14\" fill=\"#e26f46\" fill-rule=\"evenodd\" fill-opacity=\"1\" stroke=\"#000000\" stroke-opacity=\"1\" stroke-width=\"3.2\"/>\n",
       "<circle clip-path=\"url(#clip072)\" cx=\"1458.31\" cy=\"1005.25\" r=\"14\" fill=\"#e26f46\" fill-rule=\"evenodd\" fill-opacity=\"1\" stroke=\"#000000\" stroke-opacity=\"1\" stroke-width=\"3.2\"/>\n",
       "<circle clip-path=\"url(#clip072)\" cx=\"1562.32\" cy=\"1169.05\" r=\"14\" fill=\"#e26f46\" fill-rule=\"evenodd\" fill-opacity=\"1\" stroke=\"#000000\" stroke-opacity=\"1\" stroke-width=\"3.2\"/>\n",
       "<circle clip-path=\"url(#clip072)\" cx=\"1666.32\" cy=\"1241.12\" r=\"14\" fill=\"#e26f46\" fill-rule=\"evenodd\" fill-opacity=\"1\" stroke=\"#000000\" stroke-opacity=\"1\" stroke-width=\"3.2\"/>\n",
       "<circle clip-path=\"url(#clip072)\" cx=\"1770.33\" cy=\"1277.83\" r=\"14\" fill=\"#e26f46\" fill-rule=\"evenodd\" fill-opacity=\"1\" stroke=\"#000000\" stroke-opacity=\"1\" stroke-width=\"3.2\"/>\n",
       "<circle clip-path=\"url(#clip072)\" cx=\"1874.33\" cy=\"1298.77\" r=\"14\" fill=\"#e26f46\" fill-rule=\"evenodd\" fill-opacity=\"1\" stroke=\"#000000\" stroke-opacity=\"1\" stroke-width=\"3.2\"/>\n",
       "<circle clip-path=\"url(#clip072)\" cx=\"1978.34\" cy=\"1311.76\" r=\"14\" fill=\"#e26f46\" fill-rule=\"evenodd\" fill-opacity=\"1\" stroke=\"#000000\" stroke-opacity=\"1\" stroke-width=\"3.2\"/>\n",
       "<circle clip-path=\"url(#clip072)\" cx=\"2082.34\" cy=\"1320.34\" r=\"14\" fill=\"#e26f46\" fill-rule=\"evenodd\" fill-opacity=\"1\" stroke=\"#000000\" stroke-opacity=\"1\" stroke-width=\"3.2\"/>\n",
       "<circle clip-path=\"url(#clip072)\" cx=\"2186.35\" cy=\"1326.29\" r=\"14\" fill=\"#e26f46\" fill-rule=\"evenodd\" fill-opacity=\"1\" stroke=\"#000000\" stroke-opacity=\"1\" stroke-width=\"3.2\"/>\n",
       "<circle clip-path=\"url(#clip072)\" cx=\"2290.35\" cy=\"1330.58\" r=\"14\" fill=\"#e26f46\" fill-rule=\"evenodd\" fill-opacity=\"1\" stroke=\"#000000\" stroke-opacity=\"1\" stroke-width=\"3.2\"/>\n",
       "<polyline clip-path=\"url(#clip072)\" style=\"stroke:#3da44d; stroke-width:4; stroke-opacity:1; fill:none\" points=\"\n",
       "  210.251,1330.71 231.052,730.391 251.853,714.189 272.654,917.989 293.455,1149.79 314.256,1324.77 335.057,1420.27 355.858,1445.72 376.659,1423.54 397.46,1377.86 \n",
       "  418.261,1328.55 439.062,1288.96 459.864,1265.74 480.665,1259.95 501.466,1268.69 522.267,1286.82 543.068,1308.44 563.869,1328.16 584.67,1341.79 605.471,1346.84 \n",
       "  626.272,1342.55 647.073,1329.73 667.874,1310.43 688.675,1287.46 709.476,1263.91 730.277,1242.69 751.078,1226.19 771.879,1215.92 792.68,1212.44 813.481,1215.21 \n",
       "  834.282,1222.76 855.083,1232.75 875.884,1242.28 896.685,1248.12 917.486,1247.02 938.287,1236.03 959.088,1212.75 979.889,1175.55 1000.69,1123.75 1021.49,1057.67 \n",
       "  1042.29,978.719 1063.09,889.248 1083.89,792.487 1104.69,692.33 1125.5,593.111 1146.3,499.34 1167.1,415.433 1187.9,345.437 1208.7,292.789 1229.5,260.108 \n",
       "  1250.3,249.029 1271.1,260.108 1291.9,292.789 1312.71,345.437 1333.51,415.433 1354.31,499.34 1375.11,593.111 1395.91,692.33 1416.71,792.487 1437.51,889.248 \n",
       "  1458.31,978.719 1479.11,1057.67 1499.91,1123.75 1520.72,1175.55 1541.52,1212.75 1562.32,1236.03 1583.12,1247.02 1603.92,1248.12 1624.72,1242.28 1645.52,1232.75 \n",
       "  1666.32,1222.76 1687.12,1215.21 1707.92,1212.44 1728.73,1215.92 1749.53,1226.19 1770.33,1242.69 1791.13,1263.91 1811.93,1287.46 1832.73,1310.43 1853.53,1329.73 \n",
       "  1874.33,1342.55 1895.13,1346.84 1915.93,1341.79 1936.74,1328.16 1957.54,1308.44 1978.34,1286.82 1999.14,1268.69 2019.94,1259.95 2040.74,1265.74 2061.54,1288.96 \n",
       "  2082.34,1328.55 2103.14,1377.86 2123.94,1423.54 2144.75,1445.72 2165.55,1420.27 2186.35,1324.77 2207.15,1149.79 2227.95,917.989 2248.75,714.189 2269.55,730.391 \n",
       "  2290.35,1330.71 \n",
       "  \"/>\n",
       "<circle clip-path=\"url(#clip072)\" cx=\"213.16\" cy=\"1330.48\" r=\"14\" fill=\"#c271d2\" fill-rule=\"evenodd\" fill-opacity=\"1\" stroke=\"#000000\" stroke-opacity=\"1\" stroke-width=\"3.2\"/>\n",
       "<circle clip-path=\"url(#clip072)\" cx=\"236.328\" cy=\"1329.63\" r=\"14\" fill=\"#c271d2\" fill-rule=\"evenodd\" fill-opacity=\"1\" stroke=\"#000000\" stroke-opacity=\"1\" stroke-width=\"3.2\"/>\n",
       "<circle clip-path=\"url(#clip072)\" cx=\"282.146\" cy=\"1327.76\" r=\"14\" fill=\"#c271d2\" fill-rule=\"evenodd\" fill-opacity=\"1\" stroke=\"#000000\" stroke-opacity=\"1\" stroke-width=\"3.2\"/>\n",
       "<circle clip-path=\"url(#clip072)\" cx=\"349.592\" cy=\"1324.49\" r=\"14\" fill=\"#c271d2\" fill-rule=\"evenodd\" fill-opacity=\"1\" stroke=\"#000000\" stroke-opacity=\"1\" stroke-width=\"3.2\"/>\n",
       "<circle clip-path=\"url(#clip072)\" cx=\"437.158\" cy=\"1319.01\" r=\"14\" fill=\"#c271d2\" fill-rule=\"evenodd\" fill-opacity=\"1\" stroke=\"#000000\" stroke-opacity=\"1\" stroke-width=\"3.2\"/>\n",
       "<circle clip-path=\"url(#clip072)\" cx=\"542.888\" cy=\"1309.61\" r=\"14\" fill=\"#c271d2\" fill-rule=\"evenodd\" fill-opacity=\"1\" stroke=\"#000000\" stroke-opacity=\"1\" stroke-width=\"3.2\"/>\n",
       "<circle clip-path=\"url(#clip072)\" cx=\"664.421\" cy=\"1292.3\" r=\"14\" fill=\"#c271d2\" fill-rule=\"evenodd\" fill-opacity=\"1\" stroke=\"#000000\" stroke-opacity=\"1\" stroke-width=\"3.2\"/>\n",
       "<circle clip-path=\"url(#clip072)\" cx=\"799.041\" cy=\"1256.14\" r=\"14\" fill=\"#c271d2\" fill-rule=\"evenodd\" fill-opacity=\"1\" stroke=\"#000000\" stroke-opacity=\"1\" stroke-width=\"3.2\"/>\n",
       "<circle clip-path=\"url(#clip072)\" cx=\"943.742\" cy=\"1163.53\" r=\"14\" fill=\"#c271d2\" fill-rule=\"evenodd\" fill-opacity=\"1\" stroke=\"#000000\" stroke-opacity=\"1\" stroke-width=\"3.2\"/>\n",
       "<circle clip-path=\"url(#clip072)\" cx=\"1095.29\" cy=\"840.842\" r=\"14\" fill=\"#c271d2\" fill-rule=\"evenodd\" fill-opacity=\"1\" stroke=\"#000000\" stroke-opacity=\"1\" stroke-width=\"3.2\"/>\n",
       "<circle clip-path=\"url(#clip072)\" cx=\"1405.31\" cy=\"840.842\" r=\"14\" fill=\"#c271d2\" fill-rule=\"evenodd\" fill-opacity=\"1\" stroke=\"#000000\" stroke-opacity=\"1\" stroke-width=\"3.2\"/>\n",
       "<circle clip-path=\"url(#clip072)\" cx=\"1556.86\" cy=\"1163.53\" r=\"14\" fill=\"#c271d2\" fill-rule=\"evenodd\" fill-opacity=\"1\" stroke=\"#000000\" stroke-opacity=\"1\" stroke-width=\"3.2\"/>\n",
       "<circle clip-path=\"url(#clip072)\" cx=\"1701.56\" cy=\"1256.14\" r=\"14\" fill=\"#c271d2\" fill-rule=\"evenodd\" fill-opacity=\"1\" stroke=\"#000000\" stroke-opacity=\"1\" stroke-width=\"3.2\"/>\n",
       "<circle clip-path=\"url(#clip072)\" cx=\"1836.18\" cy=\"1292.3\" r=\"14\" fill=\"#c271d2\" fill-rule=\"evenodd\" fill-opacity=\"1\" stroke=\"#000000\" stroke-opacity=\"1\" stroke-width=\"3.2\"/>\n",
       "<circle clip-path=\"url(#clip072)\" cx=\"1957.72\" cy=\"1309.61\" r=\"14\" fill=\"#c271d2\" fill-rule=\"evenodd\" fill-opacity=\"1\" stroke=\"#000000\" stroke-opacity=\"1\" stroke-width=\"3.2\"/>\n",
       "<circle clip-path=\"url(#clip072)\" cx=\"2063.45\" cy=\"1319.01\" r=\"14\" fill=\"#c271d2\" fill-rule=\"evenodd\" fill-opacity=\"1\" stroke=\"#000000\" stroke-opacity=\"1\" stroke-width=\"3.2\"/>\n",
       "<circle clip-path=\"url(#clip072)\" cx=\"2151.01\" cy=\"1324.49\" r=\"14\" fill=\"#c271d2\" fill-rule=\"evenodd\" fill-opacity=\"1\" stroke=\"#000000\" stroke-opacity=\"1\" stroke-width=\"3.2\"/>\n",
       "<circle clip-path=\"url(#clip072)\" cx=\"2218.46\" cy=\"1327.76\" r=\"14\" fill=\"#c271d2\" fill-rule=\"evenodd\" fill-opacity=\"1\" stroke=\"#000000\" stroke-opacity=\"1\" stroke-width=\"3.2\"/>\n",
       "<circle clip-path=\"url(#clip072)\" cx=\"2264.28\" cy=\"1329.63\" r=\"14\" fill=\"#c271d2\" fill-rule=\"evenodd\" fill-opacity=\"1\" stroke=\"#000000\" stroke-opacity=\"1\" stroke-width=\"3.2\"/>\n",
       "<circle clip-path=\"url(#clip072)\" cx=\"2287.44\" cy=\"1330.48\" r=\"14\" fill=\"#c271d2\" fill-rule=\"evenodd\" fill-opacity=\"1\" stroke=\"#000000\" stroke-opacity=\"1\" stroke-width=\"3.2\"/>\n",
       "<circle clip-path=\"url(#clip072)\" cx=\"1250.3\" cy=\"87.9763\" r=\"14\" fill=\"#c271d2\" fill-rule=\"evenodd\" fill-opacity=\"1\" stroke=\"#000000\" stroke-opacity=\"1\" stroke-width=\"3.2\"/>\n",
       "<polyline clip-path=\"url(#clip072)\" style=\"stroke:#ff0000; stroke-width:4; stroke-opacity:1; fill:none\" points=\"\n",
       "  210.251,1360.73 231.052,1299.3 251.853,1315.85 272.654,1344.57 293.455,1359.24 314.256,1355.3 335.057,1338.21 355.858,1316.4 376.659,1297.4 397.46,1286.12 \n",
       "  418.261,1284.41 439.062,1291.55 459.864,1304.98 480.665,1321.2 501.466,1336.54 522.267,1347.85 543.068,1352.91 563.869,1350.6 584.67,1341 605.471,1325.18 \n",
       "  626.272,1305 647.073,1282.81 667.874,1261.12 688.675,1242.26 709.476,1228.16 730.277,1220.09 751.078,1218.59 771.879,1223.34 792.68,1233.27 813.481,1246.58 \n",
       "  834.282,1260.93 855.083,1273.59 875.884,1281.71 896.685,1282.51 917.486,1273.48 938.287,1252.61 959.088,1218.54 979.889,1170.67 1000.69,1109.22 1021.49,1035.26 \n",
       "  1042.29,950.679 1063.09,858.071 1083.89,760.638 1104.69,662.006 1125.5,566.046 1146.3,476.665 1167.1,397.602 1187.9,332.229 1208.7,283.377 1229.5,253.178 \n",
       "  1250.3,242.962 1271.1,253.178 1291.9,283.377 1312.71,332.229 1333.51,397.602 1354.31,476.665 1375.11,566.046 1395.91,662.006 1416.71,760.638 1437.51,858.071 \n",
       "  1458.31,950.679 1479.11,1035.26 1499.91,1109.22 1520.72,1170.67 1541.52,1218.54 1562.32,1252.61 1583.12,1273.48 1603.92,1282.51 1624.72,1281.71 1645.52,1273.59 \n",
       "  1666.32,1260.93 1687.12,1246.58 1707.92,1233.27 1728.73,1223.34 1749.53,1218.59 1770.33,1220.09 1791.13,1228.16 1811.93,1242.26 1832.73,1261.12 1853.53,1282.81 \n",
       "  1874.33,1305 1895.13,1325.18 1915.93,1341 1936.74,1350.6 1957.54,1352.91 1978.34,1347.85 1999.14,1336.54 2019.94,1321.2 2040.74,1304.98 2061.54,1291.55 \n",
       "  2082.34,1284.41 2103.14,1286.12 2123.94,1297.4 2144.75,1316.4 2165.55,1338.21 2186.35,1355.3 2207.15,1359.24 2227.95,1344.57 2248.75,1315.85 2269.55,1299.3 \n",
       "  2290.35,1360.73 \n",
       "  \"/>\n",
       "<path clip-path=\"url(#clip070)\" d=\"\n",
       "M1631.68 458.098 L2279.26 458.098 L2279.26 95.2176 L1631.68 95.2176  Z\n",
       "  \" fill=\"#ffffff\" fill-rule=\"evenodd\" fill-opacity=\"1\"/>\n",
       "<polyline clip-path=\"url(#clip070)\" style=\"stroke:#000000; stroke-width:4; stroke-opacity:1; fill:none\" points=\"\n",
       "  1631.68,458.098 2279.26,458.098 2279.26,95.2176 1631.68,95.2176 1631.68,458.098 \n",
       "  \"/>\n",
       "<polyline clip-path=\"url(#clip070)\" style=\"stroke:#009af9; stroke-width:4; stroke-opacity:1; fill:none\" points=\"\n",
       "  1656.18,155.698 1803.17,155.698 \n",
       "  \"/>\n",
       "<path clip-path=\"url(#clip070)\" d=\"M 0 0 M1843.5 143.024 L1837.16 160.223 L1849.87 160.223 L1843.5 143.024 M1840.86 138.418 L1846.17 138.418 L1859.34 172.978 L1854.48 172.978 L1851.33 164.112 L1835.75 164.112 L1832.6 172.978 L1827.67 172.978 L1840.86 138.418 Z\" fill=\"#000000\" fill-rule=\"evenodd\" fill-opacity=\"1\" /><path clip-path=\"url(#clip070)\" d=\"M 0 0 M1881.63 148.047 L1881.63 152.029 Q1879.82 151.033 1877.99 150.547 Q1876.19 150.038 1874.34 150.038 Q1870.19 150.038 1867.9 152.677 Q1865.61 155.292 1865.61 160.038 Q1865.61 164.783 1867.9 167.422 Q1870.19 170.038 1874.34 170.038 Q1876.19 170.038 1877.99 169.552 Q1879.82 169.042 1881.63 168.047 L1881.63 171.982 Q1879.85 172.816 1877.92 173.232 Q1876.03 173.649 1873.87 173.649 Q1868.02 173.649 1864.57 169.968 Q1861.12 166.288 1861.12 160.038 Q1861.12 153.695 1864.59 150.061 Q1868.09 146.427 1874.15 146.427 Q1876.12 146.427 1877.99 146.843 Q1879.87 147.237 1881.63 148.047 Z\" fill=\"#000000\" fill-rule=\"evenodd\" fill-opacity=\"1\" /><path clip-path=\"url(#clip070)\" d=\"M 0 0 M1890.31 139.691 L1890.31 147.052 L1899.08 147.052 L1899.08 150.362 L1890.31 150.362 L1890.31 164.436 Q1890.31 167.607 1891.17 168.51 Q1892.05 169.413 1894.71 169.413 L1899.08 169.413 L1899.08 172.978 L1894.71 172.978 Q1889.78 172.978 1887.9 171.149 Q1886.03 169.297 1886.03 164.436 L1886.03 150.362 L1882.9 150.362 L1882.9 147.052 L1886.03 147.052 L1886.03 139.691 L1890.31 139.691 Z\" fill=\"#000000\" fill-rule=\"evenodd\" fill-opacity=\"1\" /><path clip-path=\"url(#clip070)\" d=\"M 0 0 M1903.11 162.746 L1903.11 147.052 L1907.37 147.052 L1907.37 162.584 Q1907.37 166.265 1908.8 168.116 Q1910.24 169.945 1913.11 169.945 Q1916.56 169.945 1918.55 167.746 Q1920.56 165.547 1920.56 161.751 L1920.56 147.052 L1924.82 147.052 L1924.82 172.978 L1920.56 172.978 L1920.56 168.996 Q1919.01 171.357 1916.95 172.515 Q1914.92 173.649 1912.21 173.649 Q1907.74 173.649 1905.42 170.871 Q1903.11 168.093 1903.11 162.746 M1913.83 146.427 L1913.83 146.427 Z\" fill=\"#000000\" fill-rule=\"evenodd\" fill-opacity=\"1\" /><path clip-path=\"url(#clip070)\" d=\"M 0 0 M1941.07 159.945 Q1935.91 159.945 1933.92 161.126 Q1931.93 162.306 1931.93 165.154 Q1931.93 167.422 1933.41 168.765 Q1934.92 170.084 1937.48 170.084 Q1941.03 170.084 1943.16 167.584 Q1945.31 165.061 1945.31 160.894 L1945.31 159.945 L1941.07 159.945 M1949.57 158.186 L1949.57 172.978 L1945.31 172.978 L1945.31 169.042 Q1943.85 171.403 1941.67 172.538 Q1939.5 173.649 1936.35 173.649 Q1932.37 173.649 1930.01 171.427 Q1927.67 169.181 1927.67 165.431 Q1927.67 161.056 1930.59 158.834 Q1933.53 156.612 1939.34 156.612 L1945.31 156.612 L1945.31 156.195 Q1945.31 153.255 1943.36 151.658 Q1941.44 150.038 1937.95 150.038 Q1935.73 150.038 1933.62 150.57 Q1931.51 151.103 1929.57 152.167 L1929.57 148.232 Q1931.91 147.33 1934.11 146.89 Q1936.3 146.427 1938.39 146.427 Q1944.01 146.427 1946.79 149.343 Q1949.57 152.26 1949.57 158.186 Z\" fill=\"#000000\" fill-rule=\"evenodd\" fill-opacity=\"1\" /><path clip-path=\"url(#clip070)\" d=\"M 0 0 M1954.04 136.959 L1958.29 136.959 L1958.29 172.978 L1954.04 172.978 L1954.04 136.959 Z\" fill=\"#000000\" fill-rule=\"evenodd\" fill-opacity=\"1\" /><path clip-path=\"url(#clip070)\" d=\"M 0 0 M1990.96 136.959 L1990.96 140.501 L1986.88 140.501 Q1984.59 140.501 1983.69 141.427 Q1982.81 142.353 1982.81 144.76 L1982.81 147.052 L1989.82 147.052 L1989.82 150.362 L1982.81 150.362 L1982.81 172.978 L1978.53 172.978 L1978.53 150.362 L1974.45 150.362 L1974.45 147.052 L1978.53 147.052 L1978.53 145.246 Q1978.53 140.918 1980.54 138.95 Q1982.55 136.959 1986.93 136.959 L1990.96 136.959 Z\" fill=\"#000000\" fill-rule=\"evenodd\" fill-opacity=\"1\" /><path clip-path=\"url(#clip070)\" d=\"M 0 0 M1994.98 162.746 L1994.98 147.052 L1999.24 147.052 L1999.24 162.584 Q1999.24 166.265 2000.68 168.116 Q2002.11 169.945 2004.98 169.945 Q2008.43 169.945 2010.42 167.746 Q2012.44 165.547 2012.44 161.751 L2012.44 147.052 L2016.7 147.052 L2016.7 172.978 L2012.44 172.978 L2012.44 168.996 Q2010.89 171.357 2008.83 172.515 Q2006.79 173.649 2004.08 173.649 Q1999.61 173.649 1997.3 170.871 Q1994.98 168.093 1994.98 162.746 M2005.7 146.427 L2005.7 146.427 Z\" fill=\"#000000\" fill-rule=\"evenodd\" fill-opacity=\"1\" /><path clip-path=\"url(#clip070)\" d=\"M 0 0 M2042.72 157.329 L2042.72 172.978 L2038.46 172.978 L2038.46 157.468 Q2038.46 153.788 2037.02 151.959 Q2035.59 150.13 2032.72 150.13 Q2029.27 150.13 2027.28 152.33 Q2025.29 154.529 2025.29 158.325 L2025.29 172.978 L2021 172.978 L2021 147.052 L2025.29 147.052 L2025.29 151.08 Q2026.81 148.742 2028.87 147.584 Q2030.96 146.427 2033.66 146.427 Q2038.13 146.427 2040.42 149.205 Q2042.72 151.959 2042.72 157.329 Z\" fill=\"#000000\" fill-rule=\"evenodd\" fill-opacity=\"1\" /><path clip-path=\"url(#clip070)\" d=\"M 0 0 M2065.84 148.047 L2065.84 152.029 Q2064.04 151.033 2062.21 150.547 Q2060.4 150.038 2058.55 150.038 Q2054.41 150.038 2052.11 152.677 Q2049.82 155.292 2049.82 160.038 Q2049.82 164.783 2052.11 167.422 Q2054.41 170.038 2058.55 170.038 Q2060.4 170.038 2062.21 169.552 Q2064.04 169.042 2065.84 168.047 L2065.84 171.982 Q2064.06 172.816 2062.14 173.232 Q2060.24 173.649 2058.09 173.649 Q2052.23 173.649 2048.78 169.968 Q2045.33 166.288 2045.33 160.038 Q2045.33 153.695 2048.8 150.061 Q2052.3 146.427 2058.36 146.427 Q2060.33 146.427 2062.21 146.843 Q2064.08 147.237 2065.84 148.047 Z\" fill=\"#000000\" fill-rule=\"evenodd\" fill-opacity=\"1\" /><path clip-path=\"url(#clip070)\" d=\"M 0 0 M2074.52 139.691 L2074.52 147.052 L2083.29 147.052 L2083.29 150.362 L2074.52 150.362 L2074.52 164.436 Q2074.52 167.607 2075.38 168.51 Q2076.26 169.413 2078.92 169.413 L2083.29 169.413 L2083.29 172.978 L2078.92 172.978 Q2073.99 172.978 2072.11 171.149 Q2070.24 169.297 2070.24 164.436 L2070.24 150.362 L2067.11 150.362 L2067.11 147.052 L2070.24 147.052 L2070.24 139.691 L2074.52 139.691 Z\" fill=\"#000000\" fill-rule=\"evenodd\" fill-opacity=\"1\" /><path clip-path=\"url(#clip070)\" d=\"M 0 0 M2087.76 147.052 L2092.02 147.052 L2092.02 172.978 L2087.76 172.978 L2087.76 147.052 M2087.76 136.959 L2092.02 136.959 L2092.02 142.353 L2087.76 142.353 L2087.76 136.959 Z\" fill=\"#000000\" fill-rule=\"evenodd\" fill-opacity=\"1\" /><path clip-path=\"url(#clip070)\" d=\"M 0 0 M2106.53 150.038 Q2103.11 150.038 2101.12 152.723 Q2099.13 155.385 2099.13 160.038 Q2099.13 164.691 2101.1 167.376 Q2103.09 170.038 2106.53 170.038 Q2109.94 170.038 2111.93 167.353 Q2113.92 164.667 2113.92 160.038 Q2113.92 155.431 2111.93 152.746 Q2109.94 150.038 2106.53 150.038 M2106.53 146.427 Q2112.09 146.427 2115.26 150.038 Q2118.43 153.649 2118.43 160.038 Q2118.43 166.404 2115.26 170.038 Q2112.09 173.649 2106.53 173.649 Q2100.96 173.649 2097.78 170.038 Q2094.64 166.404 2094.64 160.038 Q2094.64 153.649 2097.78 150.038 Q2100.96 146.427 2106.53 146.427 Z\" fill=\"#000000\" fill-rule=\"evenodd\" fill-opacity=\"1\" /><path clip-path=\"url(#clip070)\" d=\"M 0 0 M2144.45 157.329 L2144.45 172.978 L2140.19 172.978 L2140.19 157.468 Q2140.19 153.788 2138.76 151.959 Q2137.32 150.13 2134.45 150.13 Q2131 150.13 2129.01 152.33 Q2127.02 154.529 2127.02 158.325 L2127.02 172.978 L2122.74 172.978 L2122.74 147.052 L2127.02 147.052 L2127.02 151.08 Q2128.55 148.742 2130.61 147.584 Q2132.69 146.427 2135.4 146.427 Q2139.87 146.427 2142.16 149.205 Q2144.45 151.959 2144.45 157.329 Z\" fill=\"#000000\" fill-rule=\"evenodd\" fill-opacity=\"1\" /><circle clip-path=\"url(#clip070)\" cx=\"1729.67\" cy=\"216.178\" r=\"23\" fill=\"#e26f46\" fill-rule=\"evenodd\" fill-opacity=\"1\" stroke=\"#000000\" stroke-opacity=\"1\" stroke-width=\"5.12\"/>\n",
       "<path clip-path=\"url(#clip070)\" d=\"M 0 0 M1827.67 198.898 L1832.35 198.898 L1832.35 233.458 L1827.67 233.458 L1827.67 198.898 Z\" fill=\"#000000\" fill-rule=\"evenodd\" fill-opacity=\"1\" /><path clip-path=\"url(#clip070)\" d=\"M 0 0 M1858.36 217.809 L1858.36 233.458 L1854.11 233.458 L1854.11 217.948 Q1854.11 214.268 1852.67 212.439 Q1851.24 210.61 1848.36 210.61 Q1844.92 210.61 1842.93 212.81 Q1840.93 215.009 1840.93 218.805 L1840.93 233.458 L1836.65 233.458 L1836.65 207.532 L1840.93 207.532 L1840.93 211.56 Q1842.46 209.222 1844.52 208.064 Q1846.61 206.907 1849.31 206.907 Q1853.78 206.907 1856.07 209.685 Q1858.36 212.439 1858.36 217.809 Z\" fill=\"#000000\" fill-rule=\"evenodd\" fill-opacity=\"1\" /><path clip-path=\"url(#clip070)\" d=\"M 0 0 M1867.05 200.171 L1867.05 207.532 L1875.82 207.532 L1875.82 210.842 L1867.05 210.842 L1867.05 224.916 Q1867.05 228.087 1867.9 228.99 Q1868.78 229.893 1871.44 229.893 L1875.82 229.893 L1875.82 233.458 L1871.44 233.458 Q1866.51 233.458 1864.64 231.629 Q1862.76 229.777 1862.76 224.916 L1862.76 210.842 L1859.64 210.842 L1859.64 207.532 L1862.76 207.532 L1862.76 200.171 L1867.05 200.171 Z\" fill=\"#000000\" fill-rule=\"evenodd\" fill-opacity=\"1\" /><path clip-path=\"url(#clip070)\" d=\"M 0 0 M1902.46 219.43 L1902.46 221.513 L1882.88 221.513 Q1883.16 225.911 1885.52 228.226 Q1887.9 230.518 1892.14 230.518 Q1894.59 230.518 1896.88 229.916 Q1899.2 229.314 1901.47 228.11 L1901.47 232.138 Q1899.17 233.11 1896.77 233.62 Q1894.36 234.129 1891.88 234.129 Q1885.68 234.129 1882.05 230.518 Q1878.43 226.907 1878.43 220.749 Q1878.43 214.384 1881.86 210.657 Q1885.31 206.907 1891.14 206.907 Q1896.37 206.907 1899.41 210.286 Q1902.46 213.643 1902.46 219.43 M1898.2 218.18 Q1898.16 214.685 1896.24 212.601 Q1894.34 210.518 1891.19 210.518 Q1887.62 210.518 1885.47 212.532 Q1883.34 214.546 1883.02 218.203 L1898.2 218.18 Z\" fill=\"#000000\" fill-rule=\"evenodd\" fill-opacity=\"1\" /><path clip-path=\"url(#clip070)\" d=\"M 0 0 M1921.95 211.513 Q1921.23 211.097 1920.38 210.911 Q1919.55 210.703 1918.53 210.703 Q1914.92 210.703 1912.97 213.064 Q1911.05 215.402 1911.05 219.8 L1911.05 233.458 L1906.77 233.458 L1906.77 207.532 L1911.05 207.532 L1911.05 211.56 Q1912.39 209.198 1914.55 208.064 Q1916.7 206.907 1919.78 206.907 Q1920.22 206.907 1920.75 206.976 Q1921.28 207.023 1921.93 207.138 L1921.95 211.513 Z\" fill=\"#000000\" fill-rule=\"evenodd\" fill-opacity=\"1\" /><path clip-path=\"url(#clip070)\" d=\"M 0 0 M1930.54 229.569 L1930.54 243.319 L1926.26 243.319 L1926.26 207.532 L1930.54 207.532 L1930.54 211.467 Q1931.88 209.152 1933.92 208.041 Q1935.98 206.907 1938.83 206.907 Q1943.55 206.907 1946.49 210.657 Q1949.45 214.407 1949.45 220.518 Q1949.45 226.629 1946.49 230.379 Q1943.55 234.129 1938.83 234.129 Q1935.98 234.129 1933.92 233.018 Q1931.88 231.883 1930.54 229.569 M1945.03 220.518 Q1945.03 215.819 1943.09 213.157 Q1941.17 210.472 1937.79 210.472 Q1934.41 210.472 1932.46 213.157 Q1930.54 215.819 1930.54 220.518 Q1930.54 225.217 1932.46 227.902 Q1934.41 230.564 1937.79 230.564 Q1941.17 230.564 1943.09 227.902 Q1945.03 225.217 1945.03 220.518 Z\" fill=\"#000000\" fill-rule=\"evenodd\" fill-opacity=\"1\" /><path clip-path=\"url(#clip070)\" d=\"M 0 0 M1963.97 210.518 Q1960.54 210.518 1958.55 213.203 Q1956.56 215.865 1956.56 220.518 Q1956.56 225.171 1958.53 227.856 Q1960.52 230.518 1963.97 230.518 Q1967.37 230.518 1969.36 227.833 Q1971.35 225.147 1971.35 220.518 Q1971.35 215.911 1969.36 213.226 Q1967.37 210.518 1963.97 210.518 M1963.97 206.907 Q1969.52 206.907 1972.69 210.518 Q1975.86 214.129 1975.86 220.518 Q1975.86 226.884 1972.69 230.518 Q1969.52 234.129 1963.97 234.129 Q1958.39 234.129 1955.22 230.518 Q1952.07 226.884 1952.07 220.518 Q1952.07 214.129 1955.22 210.518 Q1958.39 206.907 1963.97 206.907 Z\" fill=\"#000000\" fill-rule=\"evenodd\" fill-opacity=\"1\" /><path clip-path=\"url(#clip070)\" d=\"M 0 0 M1980.33 197.439 L1984.59 197.439 L1984.59 233.458 L1980.33 233.458 L1980.33 197.439 Z\" fill=\"#000000\" fill-rule=\"evenodd\" fill-opacity=\"1\" /><path clip-path=\"url(#clip070)\" d=\"M 0 0 M2000.84 220.425 Q1995.68 220.425 1993.69 221.606 Q1991.7 222.786 1991.7 225.634 Q1991.7 227.902 1993.18 229.245 Q1994.68 230.564 1997.25 230.564 Q2000.79 230.564 2002.92 228.064 Q2005.08 225.541 2005.08 221.374 L2005.08 220.425 L2000.84 220.425 M2009.34 218.666 L2009.34 233.458 L2005.08 233.458 L2005.08 229.522 Q2003.62 231.883 2001.44 233.018 Q1999.27 234.129 1996.12 234.129 Q1992.14 234.129 1989.78 231.907 Q1987.44 229.661 1987.44 225.911 Q1987.44 221.536 1990.35 219.314 Q1993.29 217.092 1999.1 217.092 L2005.08 217.092 L2005.08 216.675 Q2005.08 213.735 2003.13 212.138 Q2001.21 210.518 1997.72 210.518 Q1995.49 210.518 1993.39 211.05 Q1991.28 211.583 1989.34 212.647 L1989.34 208.712 Q1991.67 207.81 1993.87 207.37 Q1996.07 206.907 1998.16 206.907 Q2003.78 206.907 2006.56 209.823 Q2009.34 212.74 2009.34 218.666 Z\" fill=\"#000000\" fill-rule=\"evenodd\" fill-opacity=\"1\" /><path clip-path=\"url(#clip070)\" d=\"M 0 0 M2018.02 200.171 L2018.02 207.532 L2026.79 207.532 L2026.79 210.842 L2018.02 210.842 L2018.02 224.916 Q2018.02 228.087 2018.87 228.99 Q2019.75 229.893 2022.41 229.893 L2026.79 229.893 L2026.79 233.458 L2022.41 233.458 Q2017.48 233.458 2015.61 231.629 Q2013.73 229.777 2013.73 224.916 L2013.73 210.842 L2010.61 210.842 L2010.61 207.532 L2013.73 207.532 L2013.73 200.171 L2018.02 200.171 Z\" fill=\"#000000\" fill-rule=\"evenodd\" fill-opacity=\"1\" /><path clip-path=\"url(#clip070)\" d=\"M 0 0 M2031.26 207.532 L2035.52 207.532 L2035.52 233.458 L2031.26 233.458 L2031.26 207.532 M2031.26 197.439 L2035.52 197.439 L2035.52 202.833 L2031.26 202.833 L2031.26 197.439 Z\" fill=\"#000000\" fill-rule=\"evenodd\" fill-opacity=\"1\" /><path clip-path=\"url(#clip070)\" d=\"M 0 0 M2050.03 210.518 Q2046.6 210.518 2044.61 213.203 Q2042.62 215.865 2042.62 220.518 Q2042.62 225.171 2044.59 227.856 Q2046.58 230.518 2050.03 230.518 Q2053.43 230.518 2055.42 227.833 Q2057.41 225.147 2057.41 220.518 Q2057.41 215.911 2055.42 213.226 Q2053.43 210.518 2050.03 210.518 M2050.03 206.907 Q2055.59 206.907 2058.76 210.518 Q2061.93 214.129 2061.93 220.518 Q2061.93 226.884 2058.76 230.518 Q2055.59 234.129 2050.03 234.129 Q2044.45 234.129 2041.28 230.518 Q2038.13 226.884 2038.13 220.518 Q2038.13 214.129 2041.28 210.518 Q2044.45 206.907 2050.03 206.907 Z\" fill=\"#000000\" fill-rule=\"evenodd\" fill-opacity=\"1\" /><path clip-path=\"url(#clip070)\" d=\"M 0 0 M2087.95 217.809 L2087.95 233.458 L2083.69 233.458 L2083.69 217.948 Q2083.69 214.268 2082.25 212.439 Q2080.82 210.61 2077.95 210.61 Q2074.5 210.61 2072.51 212.81 Q2070.52 215.009 2070.52 218.805 L2070.52 233.458 L2066.23 233.458 L2066.23 207.532 L2070.52 207.532 L2070.52 211.56 Q2072.04 209.222 2074.1 208.064 Q2076.19 206.907 2078.9 206.907 Q2083.36 206.907 2085.66 209.685 Q2087.95 212.439 2087.95 217.809 Z\" fill=\"#000000\" fill-rule=\"evenodd\" fill-opacity=\"1\" /><path clip-path=\"url(#clip070)\" d=\"M 0 0 M2129.03 217.809 L2129.03 233.458 L2124.78 233.458 L2124.78 217.948 Q2124.78 214.268 2123.34 212.439 Q2121.91 210.61 2119.03 210.61 Q2115.59 210.61 2113.59 212.81 Q2111.6 215.009 2111.6 218.805 L2111.6 233.458 L2107.32 233.458 L2107.32 207.532 L2111.6 207.532 L2111.6 211.56 Q2113.13 209.222 2115.19 208.064 Q2117.28 206.907 2119.98 206.907 Q2124.45 206.907 2126.74 209.685 Q2129.03 212.439 2129.03 217.809 Z\" fill=\"#000000\" fill-rule=\"evenodd\" fill-opacity=\"1\" /><path clip-path=\"url(#clip070)\" d=\"M 0 0 M2143.55 210.518 Q2140.12 210.518 2138.13 213.203 Q2136.14 215.865 2136.14 220.518 Q2136.14 225.171 2138.11 227.856 Q2140.1 230.518 2143.55 230.518 Q2146.95 230.518 2148.94 227.833 Q2150.93 225.147 2150.93 220.518 Q2150.93 215.911 2148.94 213.226 Q2146.95 210.518 2143.55 210.518 M2143.55 206.907 Q2149.1 206.907 2152.28 210.518 Q2155.45 214.129 2155.45 220.518 Q2155.45 226.884 2152.28 230.518 Q2149.1 234.129 2143.55 234.129 Q2137.97 234.129 2134.8 230.518 Q2131.65 226.884 2131.65 220.518 Q2131.65 214.129 2134.8 210.518 Q2137.97 206.907 2143.55 206.907 Z\" fill=\"#000000\" fill-rule=\"evenodd\" fill-opacity=\"1\" /><path clip-path=\"url(#clip070)\" d=\"M 0 0 M2176.97 211.467 L2176.97 197.439 L2181.23 197.439 L2181.23 233.458 L2176.97 233.458 L2176.97 229.569 Q2175.63 231.883 2173.57 233.018 Q2171.53 234.129 2168.66 234.129 Q2163.97 234.129 2161 230.379 Q2158.06 226.629 2158.06 220.518 Q2158.06 214.407 2161 210.657 Q2163.97 206.907 2168.66 206.907 Q2171.53 206.907 2173.57 208.041 Q2175.63 209.152 2176.97 211.467 M2162.46 220.518 Q2162.46 225.217 2164.38 227.902 Q2166.33 230.564 2169.71 230.564 Q2173.09 230.564 2175.03 227.902 Q2176.97 225.217 2176.97 220.518 Q2176.97 215.819 2175.03 213.157 Q2173.09 210.472 2169.71 210.472 Q2166.33 210.472 2164.38 213.157 Q2162.46 215.819 2162.46 220.518 Z\" fill=\"#000000\" fill-rule=\"evenodd\" fill-opacity=\"1\" /><path clip-path=\"url(#clip070)\" d=\"M 0 0 M2207.88 219.43 L2207.88 221.513 L2188.29 221.513 Q2188.57 225.911 2190.93 228.226 Q2193.32 230.518 2197.55 230.518 Q2200.01 230.518 2202.3 229.916 Q2204.61 229.314 2206.88 228.11 L2206.88 232.138 Q2204.59 233.11 2202.18 233.62 Q2199.78 234.129 2197.3 234.129 Q2191.09 234.129 2187.46 230.518 Q2183.85 226.907 2183.85 220.749 Q2183.85 214.384 2187.28 210.657 Q2190.72 206.907 2196.56 206.907 Q2201.79 206.907 2204.82 210.286 Q2207.88 213.643 2207.88 219.43 M2203.62 218.18 Q2203.57 214.685 2201.65 212.601 Q2199.75 210.518 2196.6 210.518 Q2193.04 210.518 2190.89 212.532 Q2188.76 214.546 2188.43 218.203 L2203.62 218.18 Z\" fill=\"#000000\" fill-rule=\"evenodd\" fill-opacity=\"1\" /><path clip-path=\"url(#clip070)\" d=\"M 0 0 M2228.87 208.296 L2228.87 212.323 Q2227.07 211.397 2225.12 210.935 Q2223.18 210.472 2221.09 210.472 Q2217.92 210.472 2216.33 211.444 Q2214.75 212.416 2214.75 214.36 Q2214.75 215.842 2215.89 216.698 Q2217.02 217.532 2220.45 218.296 L2221.9 218.62 Q2226.44 219.592 2228.34 221.374 Q2230.26 223.134 2230.26 226.305 Q2230.26 229.916 2227.39 232.022 Q2224.54 234.129 2219.54 234.129 Q2217.46 234.129 2215.19 233.712 Q2212.95 233.319 2210.45 232.508 L2210.45 228.11 Q2212.81 229.337 2215.1 229.962 Q2217.39 230.564 2219.64 230.564 Q2222.65 230.564 2224.27 229.546 Q2225.89 228.504 2225.89 226.629 Q2225.89 224.893 2224.71 223.967 Q2223.55 223.041 2219.59 222.184 L2218.11 221.837 Q2214.15 221.004 2212.39 219.291 Q2210.63 217.555 2210.63 214.546 Q2210.63 210.888 2213.22 208.898 Q2215.82 206.907 2220.59 206.907 Q2222.95 206.907 2225.03 207.254 Q2227.11 207.601 2228.87 208.296 Z\" fill=\"#000000\" fill-rule=\"evenodd\" fill-opacity=\"1\" /><polyline clip-path=\"url(#clip070)\" style=\"stroke:#3da44d; stroke-width:4; stroke-opacity:1; fill:none\" points=\"\n",
       "  1656.18,276.658 1803.17,276.658 \n",
       "  \"/>\n",
       "<path clip-path=\"url(#clip070)\" d=\"M 0 0 M1832.35 263.22 L1832.35 276.206 L1838.23 276.206 Q1841.49 276.206 1843.27 274.516 Q1845.05 272.827 1845.05 269.702 Q1845.05 266.6 1843.27 264.91 Q1841.49 263.22 1838.23 263.22 L1832.35 263.22 M1827.67 259.378 L1838.23 259.378 Q1844.04 259.378 1847 262.016 Q1849.99 264.632 1849.99 269.702 Q1849.99 274.817 1847 277.433 Q1844.04 280.049 1838.23 280.049 L1832.35 280.049 L1832.35 293.938 L1827.67 293.938 L1827.67 259.378 Z\" fill=\"#000000\" fill-rule=\"evenodd\" fill-opacity=\"1\" /><path clip-path=\"url(#clip070)\" d=\"M 0 0 M1862.81 270.998 Q1859.38 270.998 1857.39 273.683 Q1855.4 276.345 1855.4 280.998 Q1855.4 285.651 1857.37 288.336 Q1859.36 290.998 1862.81 290.998 Q1866.21 290.998 1868.2 288.313 Q1870.19 285.627 1870.19 280.998 Q1870.19 276.391 1868.2 273.706 Q1866.21 270.998 1862.81 270.998 M1862.81 267.387 Q1868.36 267.387 1871.54 270.998 Q1874.71 274.609 1874.71 280.998 Q1874.71 287.364 1871.54 290.998 Q1868.36 294.609 1862.81 294.609 Q1857.23 294.609 1854.06 290.998 Q1850.91 287.364 1850.91 280.998 Q1850.91 274.609 1854.06 270.998 Q1857.23 267.387 1862.81 267.387 Z\" fill=\"#000000\" fill-rule=\"evenodd\" fill-opacity=\"1\" /><path clip-path=\"url(#clip070)\" d=\"M 0 0 M1879.17 257.919 L1883.43 257.919 L1883.43 293.938 L1879.17 293.938 L1879.17 257.919 Z\" fill=\"#000000\" fill-rule=\"evenodd\" fill-opacity=\"1\" /><path clip-path=\"url(#clip070)\" d=\"M 0 0 M1898.69 296.345 Q1896.88 300.975 1895.17 302.387 Q1893.46 303.799 1890.59 303.799 L1887.18 303.799 L1887.18 300.234 L1889.68 300.234 Q1891.44 300.234 1892.42 299.4 Q1893.39 298.567 1894.57 295.465 L1895.33 293.521 L1884.85 268.012 L1889.36 268.012 L1897.46 288.289 L1905.56 268.012 L1910.08 268.012 L1898.69 296.345 Z\" fill=\"#000000\" fill-rule=\"evenodd\" fill-opacity=\"1\" /><path clip-path=\"url(#clip070)\" d=\"M 0 0 M1936.1 278.289 L1936.1 293.938 L1931.84 293.938 L1931.84 278.428 Q1931.84 274.748 1930.4 272.919 Q1928.97 271.09 1926.1 271.09 Q1922.65 271.09 1920.66 273.29 Q1918.67 275.489 1918.67 279.285 L1918.67 293.938 L1914.38 293.938 L1914.38 268.012 L1918.67 268.012 L1918.67 272.04 Q1920.19 269.702 1922.25 268.544 Q1924.34 267.387 1927.05 267.387 Q1931.51 267.387 1933.8 270.165 Q1936.1 272.919 1936.1 278.289 Z\" fill=\"#000000\" fill-rule=\"evenodd\" fill-opacity=\"1\" /><path clip-path=\"url(#clip070)\" d=\"M 0 0 M1950.61 270.998 Q1947.18 270.998 1945.19 273.683 Q1943.2 276.345 1943.2 280.998 Q1943.2 285.651 1945.17 288.336 Q1947.16 290.998 1950.61 290.998 Q1954.01 290.998 1956 288.313 Q1957.99 285.627 1957.99 280.998 Q1957.99 276.391 1956 273.706 Q1954.01 270.998 1950.61 270.998 M1950.61 267.387 Q1956.17 267.387 1959.34 270.998 Q1962.51 274.609 1962.51 280.998 Q1962.51 287.364 1959.34 290.998 Q1956.17 294.609 1950.61 294.609 Q1945.03 294.609 1941.86 290.998 Q1938.71 287.364 1938.71 280.998 Q1938.71 274.609 1941.86 270.998 Q1945.03 267.387 1950.61 267.387 Z\" fill=\"#000000\" fill-rule=\"evenodd\" fill-opacity=\"1\" /><path clip-path=\"url(#clip070)\" d=\"M 0 0 M1987.16 272.989 Q1988.76 270.118 1990.98 268.753 Q1993.2 267.387 1996.21 267.387 Q2000.26 267.387 2002.46 270.234 Q2004.66 273.058 2004.66 278.289 L2004.66 293.938 L2000.38 293.938 L2000.38 278.428 Q2000.38 274.702 1999.06 272.896 Q1997.74 271.09 1995.03 271.09 Q1991.72 271.09 1989.8 273.29 Q1987.88 275.489 1987.88 279.285 L1987.88 293.938 L1983.6 293.938 L1983.6 278.428 Q1983.6 274.678 1982.28 272.896 Q1980.96 271.09 1978.2 271.09 Q1974.94 271.09 1973.02 273.313 Q1971.1 275.512 1971.1 279.285 L1971.1 293.938 L1966.81 293.938 L1966.81 268.012 L1971.1 268.012 L1971.1 272.04 Q1972.55 269.655 1974.59 268.521 Q1976.63 267.387 1979.43 267.387 Q1982.25 267.387 1984.22 268.822 Q1986.21 270.257 1987.16 272.989 Z\" fill=\"#000000\" fill-rule=\"evenodd\" fill-opacity=\"1\" /><path clip-path=\"url(#clip070)\" d=\"M 0 0 M2009.13 268.012 L2013.39 268.012 L2013.39 293.938 L2009.13 293.938 L2009.13 268.012 M2009.13 257.919 L2013.39 257.919 L2013.39 263.313 L2009.13 263.313 L2009.13 257.919 Z\" fill=\"#000000\" fill-rule=\"evenodd\" fill-opacity=\"1\" /><path clip-path=\"url(#clip070)\" d=\"M 0 0 M2029.64 280.905 Q2024.48 280.905 2022.48 282.086 Q2020.49 283.266 2020.49 286.114 Q2020.49 288.382 2021.98 289.725 Q2023.48 291.044 2026.05 291.044 Q2029.59 291.044 2031.72 288.544 Q2033.87 286.021 2033.87 281.854 L2033.87 280.905 L2029.64 280.905 M2038.13 279.146 L2038.13 293.938 L2033.87 293.938 L2033.87 290.002 Q2032.41 292.363 2030.24 293.498 Q2028.06 294.609 2024.91 294.609 Q2020.93 294.609 2018.57 292.387 Q2016.23 290.141 2016.23 286.391 Q2016.23 282.016 2019.15 279.794 Q2022.09 277.572 2027.9 277.572 L2033.87 277.572 L2033.87 277.155 Q2033.87 274.215 2031.93 272.618 Q2030.01 270.998 2026.51 270.998 Q2024.29 270.998 2022.18 271.53 Q2020.08 272.063 2018.13 273.127 L2018.13 269.192 Q2020.47 268.29 2022.67 267.85 Q2024.87 267.387 2026.95 267.387 Q2032.58 267.387 2035.35 270.303 Q2038.13 273.22 2038.13 279.146 Z\" fill=\"#000000\" fill-rule=\"evenodd\" fill-opacity=\"1\" /><path clip-path=\"url(#clip070)\" d=\"M 0 0 M2042.6 257.919 L2046.86 257.919 L2046.86 293.938 L2042.6 293.938 L2042.6 257.919 Z\" fill=\"#000000\" fill-rule=\"evenodd\" fill-opacity=\"1\" /><circle clip-path=\"url(#clip070)\" cx=\"1729.67\" cy=\"337.138\" r=\"23\" fill=\"#c271d2\" fill-rule=\"evenodd\" fill-opacity=\"1\" stroke=\"#000000\" stroke-opacity=\"1\" stroke-width=\"5.12\"/>\n",
       "<path clip-path=\"url(#clip070)\" d=\"M 0 0 M1855.54 322.52 L1855.54 327.45 Q1853.18 325.251 1850.49 324.163 Q1847.83 323.075 1844.82 323.075 Q1838.9 323.075 1835.75 326.709 Q1832.6 330.32 1832.6 337.172 Q1832.6 344.001 1835.75 347.635 Q1838.9 351.246 1844.82 351.246 Q1847.83 351.246 1850.49 350.158 Q1853.18 349.07 1855.54 346.871 L1855.54 351.756 Q1853.09 353.422 1850.33 354.256 Q1847.6 355.089 1844.55 355.089 Q1836.7 355.089 1832.18 350.297 Q1827.67 345.482 1827.67 337.172 Q1827.67 328.839 1832.18 324.047 Q1836.7 319.233 1844.55 319.233 Q1847.65 319.233 1850.38 320.066 Q1853.13 320.876 1855.54 322.52 Z\" fill=\"#000000\" fill-rule=\"evenodd\" fill-opacity=\"1\" /><path clip-path=\"url(#clip070)\" d=\"M 0 0 M1881.56 338.769 L1881.56 354.418 L1877.3 354.418 L1877.3 338.908 Q1877.3 335.228 1875.86 333.399 Q1874.43 331.57 1871.56 331.57 Q1868.11 331.57 1866.12 333.77 Q1864.13 335.969 1864.13 339.765 L1864.13 354.418 L1859.85 354.418 L1859.85 318.399 L1864.13 318.399 L1864.13 332.52 Q1865.66 330.182 1867.72 329.024 Q1869.8 327.867 1872.51 327.867 Q1876.98 327.867 1879.27 330.645 Q1881.56 333.399 1881.56 338.769 Z\" fill=\"#000000\" fill-rule=\"evenodd\" fill-opacity=\"1\" /><path clip-path=\"url(#clip070)\" d=\"M 0 0 M1908.2 340.39 L1908.2 342.473 L1888.62 342.473 Q1888.9 346.871 1891.26 349.186 Q1893.64 351.478 1897.88 351.478 Q1900.33 351.478 1902.62 350.876 Q1904.94 350.274 1907.21 349.07 L1907.21 353.098 Q1904.92 354.07 1902.51 354.58 Q1900.1 355.089 1897.62 355.089 Q1891.42 355.089 1887.79 351.478 Q1884.17 347.867 1884.17 341.709 Q1884.17 335.344 1887.6 331.617 Q1891.05 327.867 1896.88 327.867 Q1902.11 327.867 1905.15 331.246 Q1908.2 334.603 1908.2 340.39 M1903.94 339.14 Q1903.9 335.645 1901.98 333.561 Q1900.08 331.478 1896.93 331.478 Q1893.36 331.478 1891.21 333.492 Q1889.08 335.506 1888.76 339.163 L1903.94 339.14 Z\" fill=\"#000000\" fill-rule=\"evenodd\" fill-opacity=\"1\" /><path clip-path=\"url(#clip070)\" d=\"M 0 0 M1931.28 341.478 Q1931.28 336.779 1929.34 334.117 Q1927.42 331.432 1924.04 331.432 Q1920.66 331.432 1918.71 334.117 Q1916.79 336.779 1916.79 341.478 Q1916.79 346.177 1918.71 348.862 Q1920.66 351.524 1924.04 351.524 Q1927.42 351.524 1929.34 348.862 Q1931.28 346.177 1931.28 341.478 M1916.79 332.427 Q1918.13 330.112 1920.17 329.001 Q1922.23 327.867 1925.08 327.867 Q1929.8 327.867 1932.74 331.617 Q1935.7 335.367 1935.7 341.478 Q1935.7 347.589 1932.74 351.339 Q1929.8 355.089 1925.08 355.089 Q1922.23 355.089 1920.17 353.978 Q1918.13 352.843 1916.79 350.529 L1916.79 354.418 L1912.51 354.418 L1912.51 318.399 L1916.79 318.399 L1916.79 332.427 Z\" fill=\"#000000\" fill-rule=\"evenodd\" fill-opacity=\"1\" /><path clip-path=\"url(#clip070)\" d=\"M 0 0 M1950.96 356.825 Q1949.15 361.455 1947.44 362.867 Q1945.73 364.279 1942.86 364.279 L1939.45 364.279 L1939.45 360.714 L1941.95 360.714 Q1943.71 360.714 1944.68 359.88 Q1945.66 359.047 1946.84 355.945 L1947.6 354.001 L1937.11 328.492 L1941.63 328.492 L1949.73 348.769 L1957.83 328.492 L1962.35 328.492 L1950.96 356.825 Z\" fill=\"#000000\" fill-rule=\"evenodd\" fill-opacity=\"1\" /><path clip-path=\"url(#clip070)\" d=\"M 0 0 M1983.34 329.256 L1983.34 333.283 Q1981.54 332.357 1979.59 331.895 Q1977.65 331.432 1975.56 331.432 Q1972.39 331.432 1970.79 332.404 Q1969.22 333.376 1969.22 335.32 Q1969.22 336.802 1970.36 337.658 Q1971.49 338.492 1974.92 339.256 L1976.37 339.58 Q1980.91 340.552 1982.81 342.334 Q1984.73 344.094 1984.73 347.265 Q1984.73 350.876 1981.86 352.982 Q1979.01 355.089 1974.01 355.089 Q1971.93 355.089 1969.66 354.672 Q1967.42 354.279 1964.92 353.468 L1964.92 349.07 Q1967.28 350.297 1969.57 350.922 Q1971.86 351.524 1974.11 351.524 Q1977.11 351.524 1978.73 350.506 Q1980.35 349.464 1980.35 347.589 Q1980.35 345.853 1979.17 344.927 Q1978.02 344.001 1974.06 343.144 L1972.58 342.797 Q1968.62 341.964 1966.86 340.251 Q1965.1 338.515 1965.1 335.506 Q1965.1 331.848 1967.69 329.858 Q1970.29 327.867 1975.05 327.867 Q1977.42 327.867 1979.5 328.214 Q1981.58 328.561 1983.34 329.256 Z\" fill=\"#000000\" fill-rule=\"evenodd\" fill-opacity=\"1\" /><path clip-path=\"url(#clip070)\" d=\"M 0 0 M2010.75 338.769 L2010.75 354.418 L2006.49 354.418 L2006.49 338.908 Q2006.49 335.228 2005.05 333.399 Q2003.62 331.57 2000.75 331.57 Q1997.3 331.57 1995.31 333.77 Q1993.32 335.969 1993.32 339.765 L1993.32 354.418 L1989.04 354.418 L1989.04 318.399 L1993.32 318.399 L1993.32 332.52 Q1994.85 330.182 1996.91 329.024 Q1998.99 327.867 2001.7 327.867 Q2006.17 327.867 2008.46 330.645 Q2010.75 333.399 2010.75 338.769 Z\" fill=\"#000000\" fill-rule=\"evenodd\" fill-opacity=\"1\" /><path clip-path=\"url(#clip070)\" d=\"M 0 0 M2037.39 340.39 L2037.39 342.473 L2017.81 342.473 Q2018.09 346.871 2020.45 349.186 Q2022.83 351.478 2027.07 351.478 Q2029.52 351.478 2031.81 350.876 Q2034.13 350.274 2036.4 349.07 L2036.4 353.098 Q2034.1 354.07 2031.7 354.58 Q2029.29 355.089 2026.81 355.089 Q2020.61 355.089 2016.98 351.478 Q2013.36 347.867 2013.36 341.709 Q2013.36 335.344 2016.79 331.617 Q2020.24 327.867 2026.07 327.867 Q2031.3 327.867 2034.34 331.246 Q2037.39 334.603 2037.39 340.39 M2033.13 339.14 Q2033.09 335.645 2031.16 333.561 Q2029.27 331.478 2026.12 331.478 Q2022.55 331.478 2020.4 333.492 Q2018.27 335.506 2017.95 339.163 L2033.13 339.14 Z\" fill=\"#000000\" fill-rule=\"evenodd\" fill-opacity=\"1\" /><path clip-path=\"url(#clip070)\" d=\"M 0 0 M2038.8 328.492 L2043.32 328.492 L2051.42 350.251 L2059.52 328.492 L2064.04 328.492 L2054.31 354.418 L2048.53 354.418 L2038.8 328.492 Z\" fill=\"#000000\" fill-rule=\"evenodd\" fill-opacity=\"1\" /><path clip-path=\"url(#clip070)\" d=\"M 0 0 M2098.6 332.473 Q2097.88 332.057 2097.02 331.871 Q2096.19 331.663 2095.17 331.663 Q2091.56 331.663 2089.61 334.024 Q2087.69 336.362 2087.69 340.76 L2087.69 354.418 L2083.41 354.418 L2083.41 328.492 L2087.69 328.492 L2087.69 332.52 Q2089.03 330.158 2091.19 329.024 Q2093.34 327.867 2096.42 327.867 Q2096.86 327.867 2097.39 327.936 Q2097.92 327.983 2098.57 328.098 L2098.6 332.473 Z\" fill=\"#000000\" fill-rule=\"evenodd\" fill-opacity=\"1\" /><path clip-path=\"url(#clip070)\" d=\"M 0 0 M2112.07 331.478 Q2108.64 331.478 2106.65 334.163 Q2104.66 336.825 2104.66 341.478 Q2104.66 346.131 2106.63 348.816 Q2108.62 351.478 2112.07 351.478 Q2115.47 351.478 2117.46 348.793 Q2119.45 346.107 2119.45 341.478 Q2119.45 336.871 2117.46 334.186 Q2115.47 331.478 2112.07 331.478 M2112.07 327.867 Q2117.62 327.867 2120.79 331.478 Q2123.97 335.089 2123.97 341.478 Q2123.97 347.844 2120.79 351.478 Q2117.62 355.089 2112.07 355.089 Q2106.49 355.089 2103.32 351.478 Q2100.17 347.844 2100.17 341.478 Q2100.17 335.089 2103.32 331.478 Q2106.49 327.867 2112.07 327.867 Z\" fill=\"#000000\" fill-rule=\"evenodd\" fill-opacity=\"1\" /><path clip-path=\"url(#clip070)\" d=\"M 0 0 M2138.48 331.478 Q2135.05 331.478 2133.06 334.163 Q2131.07 336.825 2131.07 341.478 Q2131.07 346.131 2133.04 348.816 Q2135.03 351.478 2138.48 351.478 Q2141.88 351.478 2143.87 348.793 Q2145.86 346.107 2145.86 341.478 Q2145.86 336.871 2143.87 334.186 Q2141.88 331.478 2138.48 331.478 M2138.48 327.867 Q2144.03 327.867 2147.21 331.478 Q2150.38 335.089 2150.38 341.478 Q2150.38 347.844 2147.21 351.478 Q2144.03 355.089 2138.48 355.089 Q2132.9 355.089 2129.73 351.478 Q2126.58 347.844 2126.58 341.478 Q2126.58 335.089 2129.73 331.478 Q2132.9 327.867 2138.48 327.867 Z\" fill=\"#000000\" fill-rule=\"evenodd\" fill-opacity=\"1\" /><path clip-path=\"url(#clip070)\" d=\"M 0 0 M2159.06 321.131 L2159.06 328.492 L2167.83 328.492 L2167.83 331.802 L2159.06 331.802 L2159.06 345.876 Q2159.06 349.047 2159.91 349.95 Q2160.79 350.853 2163.46 350.853 L2167.83 350.853 L2167.83 354.418 L2163.46 354.418 Q2158.53 354.418 2156.65 352.589 Q2154.78 350.737 2154.78 345.876 L2154.78 331.802 L2151.65 331.802 L2151.65 328.492 L2154.78 328.492 L2154.78 321.131 L2159.06 321.131 Z\" fill=\"#000000\" fill-rule=\"evenodd\" fill-opacity=\"1\" /><path clip-path=\"url(#clip070)\" d=\"M 0 0 M2188.83 329.256 L2188.83 333.283 Q2187.02 332.357 2185.08 331.895 Q2183.13 331.432 2181.05 331.432 Q2177.88 331.432 2176.28 332.404 Q2174.71 333.376 2174.71 335.32 Q2174.71 336.802 2175.84 337.658 Q2176.97 338.492 2180.4 339.256 L2181.86 339.58 Q2186.4 340.552 2188.29 342.334 Q2190.21 344.094 2190.21 347.265 Q2190.21 350.876 2187.34 352.982 Q2184.5 355.089 2179.5 355.089 Q2177.41 355.089 2175.15 354.672 Q2172.9 354.279 2170.4 353.468 L2170.4 349.07 Q2172.76 350.297 2175.05 350.922 Q2177.34 351.524 2179.59 351.524 Q2182.6 351.524 2184.22 350.506 Q2185.84 349.464 2185.84 347.589 Q2185.84 345.853 2184.66 344.927 Q2183.5 344.001 2179.54 343.144 L2178.06 342.797 Q2174.1 341.964 2172.34 340.251 Q2170.59 338.515 2170.59 335.506 Q2170.59 331.848 2173.18 329.858 Q2175.77 327.867 2180.54 327.867 Q2182.9 327.867 2184.98 328.214 Q2187.07 328.561 2188.83 329.256 Z\" fill=\"#000000\" fill-rule=\"evenodd\" fill-opacity=\"1\" /><polyline clip-path=\"url(#clip070)\" style=\"stroke:#ff0000; stroke-width:4; stroke-opacity:1; fill:none\" points=\"\n",
       "  1656.18,397.618 1803.17,397.618 \n",
       "  \"/>\n",
       "<path clip-path=\"url(#clip070)\" d=\"M 0 0 M1855.54 383 L1855.54 387.93 Q1853.18 385.731 1850.49 384.643 Q1847.83 383.555 1844.82 383.555 Q1838.9 383.555 1835.75 387.189 Q1832.6 390.8 1832.6 397.652 Q1832.6 404.481 1835.75 408.115 Q1838.9 411.726 1844.82 411.726 Q1847.83 411.726 1850.49 410.638 Q1853.18 409.55 1855.54 407.351 L1855.54 412.236 Q1853.09 413.902 1850.33 414.736 Q1847.6 415.569 1844.55 415.569 Q1836.7 415.569 1832.18 410.777 Q1827.67 405.962 1827.67 397.652 Q1827.67 389.319 1832.18 384.527 Q1836.7 379.713 1844.55 379.713 Q1847.65 379.713 1850.38 380.546 Q1853.13 381.356 1855.54 383 Z\" fill=\"#000000\" fill-rule=\"evenodd\" fill-opacity=\"1\" /><path clip-path=\"url(#clip070)\" d=\"M 0 0 M1881.56 399.249 L1881.56 414.898 L1877.3 414.898 L1877.3 399.388 Q1877.3 395.708 1875.86 393.879 Q1874.43 392.05 1871.56 392.05 Q1868.11 392.05 1866.12 394.25 Q1864.13 396.449 1864.13 400.245 L1864.13 414.898 L1859.85 414.898 L1859.85 378.879 L1864.13 378.879 L1864.13 393 Q1865.66 390.662 1867.72 389.504 Q1869.8 388.347 1872.51 388.347 Q1876.98 388.347 1879.27 391.125 Q1881.56 393.879 1881.56 399.249 Z\" fill=\"#000000\" fill-rule=\"evenodd\" fill-opacity=\"1\" /><path clip-path=\"url(#clip070)\" d=\"M 0 0 M1908.2 400.87 L1908.2 402.953 L1888.62 402.953 Q1888.9 407.351 1891.26 409.666 Q1893.64 411.958 1897.88 411.958 Q1900.33 411.958 1902.62 411.356 Q1904.94 410.754 1907.21 409.55 L1907.21 413.578 Q1904.92 414.55 1902.51 415.06 Q1900.1 415.569 1897.62 415.569 Q1891.42 415.569 1887.79 411.958 Q1884.17 408.347 1884.17 402.189 Q1884.17 395.824 1887.6 392.097 Q1891.05 388.347 1896.88 388.347 Q1902.11 388.347 1905.15 391.726 Q1908.2 395.083 1908.2 400.87 M1903.94 399.62 Q1903.9 396.125 1901.98 394.041 Q1900.08 391.958 1896.93 391.958 Q1893.36 391.958 1891.21 393.972 Q1889.08 395.986 1888.76 399.643 L1903.94 399.62 Z\" fill=\"#000000\" fill-rule=\"evenodd\" fill-opacity=\"1\" /><path clip-path=\"url(#clip070)\" d=\"M 0 0 M1931.28 401.958 Q1931.28 397.259 1929.34 394.597 Q1927.42 391.912 1924.04 391.912 Q1920.66 391.912 1918.71 394.597 Q1916.79 397.259 1916.79 401.958 Q1916.79 406.657 1918.71 409.342 Q1920.66 412.004 1924.04 412.004 Q1927.42 412.004 1929.34 409.342 Q1931.28 406.657 1931.28 401.958 M1916.79 392.907 Q1918.13 390.592 1920.17 389.481 Q1922.23 388.347 1925.08 388.347 Q1929.8 388.347 1932.74 392.097 Q1935.7 395.847 1935.7 401.958 Q1935.7 408.069 1932.74 411.819 Q1929.8 415.569 1925.08 415.569 Q1922.23 415.569 1920.17 414.458 Q1918.13 413.323 1916.79 411.009 L1916.79 414.898 L1912.51 414.898 L1912.51 378.879 L1916.79 378.879 L1916.79 392.907 Z\" fill=\"#000000\" fill-rule=\"evenodd\" fill-opacity=\"1\" /><path clip-path=\"url(#clip070)\" d=\"M 0 0 M1950.96 417.305 Q1949.15 421.935 1947.44 423.347 Q1945.73 424.759 1942.86 424.759 L1939.45 424.759 L1939.45 421.194 L1941.95 421.194 Q1943.71 421.194 1944.68 420.36 Q1945.66 419.527 1946.84 416.425 L1947.6 414.481 L1937.11 388.972 L1941.63 388.972 L1949.73 409.249 L1957.83 388.972 L1962.35 388.972 L1950.96 417.305 Z\" fill=\"#000000\" fill-rule=\"evenodd\" fill-opacity=\"1\" /><path clip-path=\"url(#clip070)\" d=\"M 0 0 M1983.34 389.736 L1983.34 393.763 Q1981.54 392.837 1979.59 392.375 Q1977.65 391.912 1975.56 391.912 Q1972.39 391.912 1970.79 392.884 Q1969.22 393.856 1969.22 395.8 Q1969.22 397.282 1970.36 398.138 Q1971.49 398.972 1974.92 399.736 L1976.37 400.06 Q1980.91 401.032 1982.81 402.814 Q1984.73 404.574 1984.73 407.745 Q1984.73 411.356 1981.86 413.462 Q1979.01 415.569 1974.01 415.569 Q1971.93 415.569 1969.66 415.152 Q1967.42 414.759 1964.92 413.948 L1964.92 409.55 Q1967.28 410.777 1969.57 411.402 Q1971.86 412.004 1974.11 412.004 Q1977.11 412.004 1978.73 410.986 Q1980.35 409.944 1980.35 408.069 Q1980.35 406.333 1979.17 405.407 Q1978.02 404.481 1974.06 403.624 L1972.58 403.277 Q1968.62 402.444 1966.86 400.731 Q1965.1 398.995 1965.1 395.986 Q1965.1 392.328 1967.69 390.338 Q1970.29 388.347 1975.05 388.347 Q1977.42 388.347 1979.5 388.694 Q1981.58 389.041 1983.34 389.736 Z\" fill=\"#000000\" fill-rule=\"evenodd\" fill-opacity=\"1\" /><path clip-path=\"url(#clip070)\" d=\"M 0 0 M2010.75 399.249 L2010.75 414.898 L2006.49 414.898 L2006.49 399.388 Q2006.49 395.708 2005.05 393.879 Q2003.62 392.05 2000.75 392.05 Q1997.3 392.05 1995.31 394.25 Q1993.32 396.449 1993.32 400.245 L1993.32 414.898 L1989.04 414.898 L1989.04 378.879 L1993.32 378.879 L1993.32 393 Q1994.85 390.662 1996.91 389.504 Q1998.99 388.347 2001.7 388.347 Q2006.17 388.347 2008.46 391.125 Q2010.75 393.879 2010.75 399.249 Z\" fill=\"#000000\" fill-rule=\"evenodd\" fill-opacity=\"1\" /><path clip-path=\"url(#clip070)\" d=\"M 0 0 M2037.39 400.87 L2037.39 402.953 L2017.81 402.953 Q2018.09 407.351 2020.45 409.666 Q2022.83 411.958 2027.07 411.958 Q2029.52 411.958 2031.81 411.356 Q2034.13 410.754 2036.4 409.55 L2036.4 413.578 Q2034.1 414.55 2031.7 415.06 Q2029.29 415.569 2026.81 415.569 Q2020.61 415.569 2016.98 411.958 Q2013.36 408.347 2013.36 402.189 Q2013.36 395.824 2016.79 392.097 Q2020.24 388.347 2026.07 388.347 Q2031.3 388.347 2034.34 391.726 Q2037.39 395.083 2037.39 400.87 M2033.13 399.62 Q2033.09 396.125 2031.16 394.041 Q2029.27 391.958 2026.12 391.958 Q2022.55 391.958 2020.4 393.972 Q2018.27 395.986 2017.95 399.643 L2033.13 399.62 Z\" fill=\"#000000\" fill-rule=\"evenodd\" fill-opacity=\"1\" /><path clip-path=\"url(#clip070)\" d=\"M 0 0 M2038.8 388.972 L2043.32 388.972 L2051.42 410.731 L2059.52 388.972 L2064.04 388.972 L2054.31 414.898 L2048.53 414.898 L2038.8 388.972 Z\" fill=\"#000000\" fill-rule=\"evenodd\" fill-opacity=\"1\" /><path clip-path=\"url(#clip070)\" d=\"M 0 0 M2096.7 378.879 L2096.7 382.421 L2092.62 382.421 Q2090.33 382.421 2089.43 383.347 Q2088.55 384.273 2088.55 386.68 L2088.55 388.972 L2095.56 388.972 L2095.56 392.282 L2088.55 392.282 L2088.55 414.898 L2084.27 414.898 L2084.27 392.282 L2080.19 392.282 L2080.19 388.972 L2084.27 388.972 L2084.27 387.166 Q2084.27 382.838 2086.28 380.87 Q2088.29 378.879 2092.67 378.879 L2096.7 378.879 Z\" fill=\"#000000\" fill-rule=\"evenodd\" fill-opacity=\"1\" /><path clip-path=\"url(#clip070)\" d=\"M 0 0 M2101.16 388.972 L2105.42 388.972 L2105.42 414.898 L2101.16 414.898 L2101.16 388.972 M2101.16 378.879 L2105.42 378.879 L2105.42 384.273 L2101.16 384.273 L2101.16 378.879 Z\" fill=\"#000000\" fill-rule=\"evenodd\" fill-opacity=\"1\" /><path clip-path=\"url(#clip070)\" d=\"M 0 0 M2114.1 381.611 L2114.1 388.972 L2122.88 388.972 L2122.88 392.282 L2114.1 392.282 L2114.1 406.356 Q2114.1 409.527 2114.96 410.43 Q2115.84 411.333 2118.5 411.333 L2122.88 411.333 L2122.88 414.898 L2118.5 414.898 Q2113.57 414.898 2111.7 413.069 Q2109.82 411.217 2109.82 406.356 L2109.82 392.282 L2106.7 392.282 L2106.7 388.972 L2109.82 388.972 L2109.82 381.611 L2114.1 381.611 Z\" fill=\"#000000\" fill-rule=\"evenodd\" fill-opacity=\"1\" /></svg>\n"
      ]
     },
     "execution_count": 187,
     "metadata": {},
     "output_type": "execute_result"
    }
   ],
   "source": [
    "scatter!(chebyshev_polynomial_roots, chebyshev_based_ys, label = \"Chebyshev roots\")\n",
    "plot!(chebyshev_based_polynomial, extrema(xs)..., label = \"Chebyshev fit\", color=\"red\")"
   ]
  },
  {
   "cell_type": "markdown",
   "metadata": {},
   "source": [
    "# ZAD5"
   ]
  },
  {
   "cell_type": "code",
   "execution_count": 190,
   "metadata": {},
   "outputs": [
    {
     "data": {
      "text/html": [
       "1.0 &#45; 0.5&#8729;x &#43; 0.3333333333333333&#8729;x<sup>2</sup> &#45; 0.25&#8729;x<sup>3</sup> &#43; 0.2&#8729;x<sup>4</sup>"
      ],
      "text/latex": [
       "$1.0 - 0.5\\cdot x + 0.3333333333333333\\cdot x^{2} - 0.25\\cdot x^{3} + 0.2\\cdot x^{4}$"
      ],
      "text/plain": [
       "Polynomial(1.0 - 0.5*x + 0.3333333333333333*x^2 - 0.25*x^3 + 0.2*x^4)"
      ]
     },
     "execution_count": 190,
     "metadata": {},
     "output_type": "execute_result"
    }
   ],
   "source": [
    "f(x) = log(x+1)/x\n",
    "taylor_polynomial_base = f(t)\n",
    "taylor_polynomial = Polynomial(taylor_polynomial_base.coeffs)"
   ]
  },
  {
   "cell_type": "code",
   "execution_count": 193,
   "metadata": {},
   "outputs": [
    {
     "data": {
      "text/plain": [
       "pade_approx (generic function with 1 method)"
      ]
     },
     "execution_count": 193,
     "metadata": {},
     "output_type": "execute_result"
    }
   ],
   "source": [
    "pade_object = Polynomials.PolyCompat.PadeApproximation.Pade(taylor_polynomial, 2, 2)\n",
    "pade_approx(x) = pade_object.p(x) / pade_object.q(x)"
   ]
  },
  {
   "cell_type": "code",
   "execution_count": 202,
   "metadata": {},
   "outputs": [
    {
     "data": {
      "image/svg+xml": [
       "<?xml version=\"1.0\" encoding=\"utf-8\"?>\n",
       "<svg xmlns=\"http://www.w3.org/2000/svg\" xmlns:xlink=\"http://www.w3.org/1999/xlink\" width=\"600\" height=\"400\" viewBox=\"0 0 2400 1600\">\n",
       "<defs>\n",
       "  <clipPath id=\"clip430\">\n",
       "    <rect x=\"0\" y=\"0\" width=\"2400\" height=\"1600\"/>\n",
       "  </clipPath>\n",
       "</defs>\n",
       "<path clip-path=\"url(#clip430)\" d=\"\n",
       "M0 1600 L2400 1600 L2400 0 L0 0  Z\n",
       "  \" fill=\"#ffffff\" fill-rule=\"evenodd\" fill-opacity=\"1\"/>\n",
       "<defs>\n",
       "  <clipPath id=\"clip431\">\n",
       "    <rect x=\"480\" y=\"0\" width=\"1681\" height=\"1600\"/>\n",
       "  </clipPath>\n",
       "</defs>\n",
       "<path clip-path=\"url(#clip430)\" d=\"\n",
       "M110.881 1486.45 L2352.76 1486.45 L2352.76 47.2441 L110.881 47.2441  Z\n",
       "  \" fill=\"#ffffff\" fill-rule=\"evenodd\" fill-opacity=\"1\"/>\n",
       "<defs>\n",
       "  <clipPath id=\"clip432\">\n",
       "    <rect x=\"110\" y=\"47\" width=\"2243\" height=\"1440\"/>\n",
       "  </clipPath>\n",
       "</defs>\n",
       "<polyline clip-path=\"url(#clip432)\" style=\"stroke:#000000; stroke-width:2; stroke-opacity:0.1; fill:none\" points=\"\n",
       "  110.881,1486.45 110.881,47.2441 \n",
       "  \"/>\n",
       "<polyline clip-path=\"url(#clip432)\" style=\"stroke:#000000; stroke-width:2; stroke-opacity:0.1; fill:none\" points=\"\n",
       "  559.256,1486.45 559.256,47.2441 \n",
       "  \"/>\n",
       "<polyline clip-path=\"url(#clip432)\" style=\"stroke:#000000; stroke-width:2; stroke-opacity:0.1; fill:none\" points=\"\n",
       "  1007.63,1486.45 1007.63,47.2441 \n",
       "  \"/>\n",
       "<polyline clip-path=\"url(#clip432)\" style=\"stroke:#000000; stroke-width:2; stroke-opacity:0.1; fill:none\" points=\"\n",
       "  1456.01,1486.45 1456.01,47.2441 \n",
       "  \"/>\n",
       "<polyline clip-path=\"url(#clip432)\" style=\"stroke:#000000; stroke-width:2; stroke-opacity:0.1; fill:none\" points=\"\n",
       "  1904.38,1486.45 1904.38,47.2441 \n",
       "  \"/>\n",
       "<polyline clip-path=\"url(#clip432)\" style=\"stroke:#000000; stroke-width:2; stroke-opacity:0.1; fill:none\" points=\"\n",
       "  2352.76,1486.45 2352.76,47.2441 \n",
       "  \"/>\n",
       "<polyline clip-path=\"url(#clip430)\" style=\"stroke:#000000; stroke-width:4; stroke-opacity:1; fill:none\" points=\"\n",
       "  110.881,1486.45 2352.76,1486.45 \n",
       "  \"/>\n",
       "<polyline clip-path=\"url(#clip430)\" style=\"stroke:#000000; stroke-width:4; stroke-opacity:1; fill:none\" points=\"\n",
       "  110.881,1486.45 110.881,1469.18 \n",
       "  \"/>\n",
       "<polyline clip-path=\"url(#clip430)\" style=\"stroke:#000000; stroke-width:4; stroke-opacity:1; fill:none\" points=\"\n",
       "  559.256,1486.45 559.256,1469.18 \n",
       "  \"/>\n",
       "<polyline clip-path=\"url(#clip430)\" style=\"stroke:#000000; stroke-width:4; stroke-opacity:1; fill:none\" points=\"\n",
       "  1007.63,1486.45 1007.63,1469.18 \n",
       "  \"/>\n",
       "<polyline clip-path=\"url(#clip430)\" style=\"stroke:#000000; stroke-width:4; stroke-opacity:1; fill:none\" points=\"\n",
       "  1456.01,1486.45 1456.01,1469.18 \n",
       "  \"/>\n",
       "<polyline clip-path=\"url(#clip430)\" style=\"stroke:#000000; stroke-width:4; stroke-opacity:1; fill:none\" points=\"\n",
       "  1904.38,1486.45 1904.38,1469.18 \n",
       "  \"/>\n",
       "<polyline clip-path=\"url(#clip430)\" style=\"stroke:#000000; stroke-width:4; stroke-opacity:1; fill:none\" points=\"\n",
       "  2352.76,1486.45 2352.76,1469.18 \n",
       "  \"/>\n",
       "<path clip-path=\"url(#clip430)\" d=\"M 0 0 M110.881 1515.64 Q107.27 1515.64 105.441 1519.2 Q103.636 1522.75 103.636 1529.87 Q103.636 1536.98 105.441 1540.55 Q107.27 1544.09 110.881 1544.09 Q114.515 1544.09 116.321 1540.55 Q118.149 1536.98 118.149 1529.87 Q118.149 1522.75 116.321 1519.2 Q114.515 1515.64 110.881 1515.64 M110.881 1511.93 Q116.691 1511.93 119.747 1516.54 Q122.825 1521.12 122.825 1529.87 Q122.825 1538.6 119.747 1543.21 Q116.691 1547.79 110.881 1547.79 Q105.071 1547.79 101.992 1543.21 Q98.9365 1538.6 98.9365 1529.87 Q98.9365 1521.12 101.992 1516.54 Q105.071 1511.93 110.881 1511.93 Z\" fill=\"#000000\" fill-rule=\"evenodd\" fill-opacity=\"1\" /><path clip-path=\"url(#clip430)\" d=\"M 0 0 M549.638 1543.18 L557.277 1543.18 L557.277 1516.82 L548.967 1518.49 L548.967 1514.23 L557.23 1512.56 L561.906 1512.56 L561.906 1543.18 L569.545 1543.18 L569.545 1547.12 L549.638 1547.12 L549.638 1543.18 Z\" fill=\"#000000\" fill-rule=\"evenodd\" fill-opacity=\"1\" /><path clip-path=\"url(#clip430)\" d=\"M 0 0 M1002.28 1543.18 L1018.6 1543.18 L1018.6 1547.12 L996.659 1547.12 L996.659 1543.18 Q999.321 1540.43 1003.9 1535.8 Q1008.51 1531.15 1009.69 1529.81 Q1011.94 1527.28 1012.82 1525.55 Q1013.72 1523.79 1013.72 1522.1 Q1013.72 1519.34 1011.77 1517.61 Q1009.85 1515.87 1006.75 1515.87 Q1004.55 1515.87 1002.1 1516.63 Q999.668 1517.4 996.89 1518.95 L996.89 1514.23 Q999.714 1513.09 1002.17 1512.51 Q1004.62 1511.93 1006.66 1511.93 Q1012.03 1511.93 1015.22 1514.62 Q1018.42 1517.31 1018.42 1521.8 Q1018.42 1523.93 1017.61 1525.85 Q1016.82 1527.74 1014.71 1530.34 Q1014.14 1531.01 1011.03 1534.23 Q1007.93 1537.42 1002.28 1543.18 Z\" fill=\"#000000\" fill-rule=\"evenodd\" fill-opacity=\"1\" /><path clip-path=\"url(#clip430)\" d=\"M 0 0 M1460.25 1528.49 Q1463.61 1529.2 1465.49 1531.47 Q1467.38 1533.74 1467.38 1537.07 Q1467.38 1542.19 1463.86 1544.99 Q1460.35 1547.79 1453.86 1547.79 Q1451.69 1547.79 1449.37 1547.35 Q1447.08 1546.93 1444.63 1546.08 L1444.63 1541.56 Q1446.57 1542.7 1448.89 1543.28 Q1451.2 1543.86 1453.73 1543.86 Q1458.12 1543.86 1460.42 1542.12 Q1462.73 1540.38 1462.73 1537.07 Q1462.73 1534.02 1460.58 1532.31 Q1458.45 1530.57 1454.63 1530.57 L1450.6 1530.57 L1450.6 1526.73 L1454.81 1526.73 Q1458.26 1526.73 1460.09 1525.36 Q1461.92 1523.97 1461.92 1521.38 Q1461.92 1518.72 1460.02 1517.31 Q1458.15 1515.87 1454.63 1515.87 Q1452.71 1515.87 1450.51 1516.29 Q1448.31 1516.7 1445.67 1517.58 L1445.67 1513.42 Q1448.33 1512.68 1450.65 1512.31 Q1452.99 1511.93 1455.05 1511.93 Q1460.37 1511.93 1463.47 1514.37 Q1466.57 1516.77 1466.57 1520.89 Q1466.57 1523.76 1464.93 1525.75 Q1463.29 1527.72 1460.25 1528.49 Z\" fill=\"#000000\" fill-rule=\"evenodd\" fill-opacity=\"1\" /><path clip-path=\"url(#clip430)\" d=\"M 0 0 M1907.39 1516.63 L1895.58 1535.08 L1907.39 1535.08 L1907.39 1516.63 M1906.16 1512.56 L1912.04 1512.56 L1912.04 1535.08 L1916.97 1535.08 L1916.97 1538.97 L1912.04 1538.97 L1912.04 1547.12 L1907.39 1547.12 L1907.39 1538.97 L1891.79 1538.97 L1891.79 1534.46 L1906.16 1512.56 Z\" fill=\"#000000\" fill-rule=\"evenodd\" fill-opacity=\"1\" /><path clip-path=\"url(#clip430)\" d=\"M 0 0 M2343.03 1512.56 L2361.39 1512.56 L2361.39 1516.5 L2347.32 1516.5 L2347.32 1524.97 Q2348.33 1524.62 2349.35 1524.46 Q2350.37 1524.27 2351.39 1524.27 Q2357.18 1524.27 2360.56 1527.44 Q2363.94 1530.62 2363.94 1536.03 Q2363.94 1541.61 2360.46 1544.71 Q2356.99 1547.79 2350.67 1547.79 Q2348.5 1547.79 2346.23 1547.42 Q2343.98 1547.05 2341.58 1546.31 L2341.58 1541.61 Q2343.66 1542.74 2345.88 1543.3 Q2348.1 1543.86 2350.58 1543.86 Q2354.58 1543.86 2356.92 1541.75 Q2359.26 1539.64 2359.26 1536.03 Q2359.26 1532.42 2356.92 1530.31 Q2354.58 1528.21 2350.58 1528.21 Q2348.71 1528.21 2346.83 1528.62 Q2344.98 1529.04 2343.03 1529.92 L2343.03 1512.56 Z\" fill=\"#000000\" fill-rule=\"evenodd\" fill-opacity=\"1\" /><polyline clip-path=\"url(#clip432)\" style=\"stroke:#000000; stroke-width:2; stroke-opacity:0.1; fill:none\" points=\"\n",
       "  110.881,1486.45 2352.76,1486.45 \n",
       "  \"/>\n",
       "<polyline clip-path=\"url(#clip432)\" style=\"stroke:#000000; stroke-width:2; stroke-opacity:0.1; fill:none\" points=\"\n",
       "  110.881,1006.71 2352.76,1006.71 \n",
       "  \"/>\n",
       "<polyline clip-path=\"url(#clip432)\" style=\"stroke:#000000; stroke-width:2; stroke-opacity:0.1; fill:none\" points=\"\n",
       "  110.881,526.979 2352.76,526.979 \n",
       "  \"/>\n",
       "<polyline clip-path=\"url(#clip432)\" style=\"stroke:#000000; stroke-width:2; stroke-opacity:0.1; fill:none\" points=\"\n",
       "  110.881,47.2441 2352.76,47.2441 \n",
       "  \"/>\n",
       "<polyline clip-path=\"url(#clip430)\" style=\"stroke:#000000; stroke-width:4; stroke-opacity:1; fill:none\" points=\"\n",
       "  110.881,1486.45 110.881,47.2441 \n",
       "  \"/>\n",
       "<polyline clip-path=\"url(#clip430)\" style=\"stroke:#000000; stroke-width:4; stroke-opacity:1; fill:none\" points=\"\n",
       "  110.881,1486.45 137.783,1486.45 \n",
       "  \"/>\n",
       "<polyline clip-path=\"url(#clip430)\" style=\"stroke:#000000; stroke-width:4; stroke-opacity:1; fill:none\" points=\"\n",
       "  110.881,1006.71 137.783,1006.71 \n",
       "  \"/>\n",
       "<polyline clip-path=\"url(#clip430)\" style=\"stroke:#000000; stroke-width:4; stroke-opacity:1; fill:none\" points=\"\n",
       "  110.881,526.979 137.783,526.979 \n",
       "  \"/>\n",
       "<polyline clip-path=\"url(#clip430)\" style=\"stroke:#000000; stroke-width:4; stroke-opacity:1; fill:none\" points=\"\n",
       "  110.881,47.2441 137.783,47.2441 \n",
       "  \"/>\n",
       "<path clip-path=\"url(#clip430)\" d=\"M 0 0 M62.9365 1472.25 Q59.3254 1472.25 57.4967 1475.81 Q55.6912 1479.35 55.6912 1486.48 Q55.6912 1493.59 57.4967 1497.15 Q59.3254 1500.7 62.9365 1500.7 Q66.5707 1500.7 68.3763 1497.15 Q70.205 1493.59 70.205 1486.48 Q70.205 1479.35 68.3763 1475.81 Q66.5707 1472.25 62.9365 1472.25 M62.9365 1468.54 Q68.7467 1468.54 71.8022 1473.15 Q74.8809 1477.73 74.8809 1486.48 Q74.8809 1495.21 71.8022 1499.82 Q68.7467 1504.4 62.9365 1504.4 Q57.1264 1504.4 54.0477 1499.82 Q50.9921 1495.21 50.9921 1486.48 Q50.9921 1477.73 54.0477 1473.15 Q57.1264 1468.54 62.9365 1468.54 Z\" fill=\"#000000\" fill-rule=\"evenodd\" fill-opacity=\"1\" /><path clip-path=\"url(#clip430)\" d=\"M 0 0 M54.9736 1020.06 L62.6124 1020.06 L62.6124 993.693 L54.3023 995.359 L54.3023 991.1 L62.5661 989.433 L67.242 989.433 L67.242 1020.06 L74.8809 1020.06 L74.8809 1023.99 L54.9736 1023.99 L54.9736 1020.06 Z\" fill=\"#000000\" fill-rule=\"evenodd\" fill-opacity=\"1\" /><path clip-path=\"url(#clip430)\" d=\"M 0 0 M58.5615 540.324 L74.8809 540.324 L74.8809 544.259 L52.9366 544.259 L52.9366 540.324 Q55.5986 537.569 60.1819 532.939 Q64.7883 528.287 65.9689 526.944 Q68.2143 524.421 69.0939 522.685 Q69.9967 520.925 69.9967 519.236 Q69.9967 516.481 68.0522 514.745 Q66.1309 513.009 63.0291 513.009 Q60.83 513.009 58.3763 513.773 Q55.9458 514.537 53.168 516.088 L53.168 511.365 Q55.9921 510.231 58.4458 509.652 Q60.8995 509.074 62.9365 509.074 Q68.3068 509.074 71.5013 511.759 Q74.6957 514.444 74.6957 518.935 Q74.6957 521.064 73.8855 522.986 Q73.0985 524.884 70.992 527.476 Q70.4133 528.148 67.3115 531.365 Q64.2096 534.56 58.5615 540.324 Z\" fill=\"#000000\" fill-rule=\"evenodd\" fill-opacity=\"1\" /><path clip-path=\"url(#clip430)\" d=\"M 0 0 M67.7513 45.8899 Q71.1078 46.6075 72.9827 48.876 Q74.8809 51.1445 74.8809 54.4779 Q74.8809 59.5936 71.3624 62.3945 Q67.8439 65.1954 61.3624 65.1954 Q59.1865 65.1954 56.8717 64.7556 Q54.5801 64.3389 52.1264 63.4824 L52.1264 58.9686 Q54.0708 60.1028 56.3856 60.6815 Q58.7004 61.2602 61.2236 61.2602 Q65.6217 61.2602 67.9133 59.5241 Q70.2281 57.788 70.2281 54.4779 Q70.2281 51.4223 68.0754 49.7094 Q65.9457 47.9733 62.1263 47.9733 L58.0986 47.9733 L58.0986 44.1307 L62.3115 44.1307 Q65.7606 44.1307 67.5893 42.765 Q69.418 41.3761 69.418 38.7835 Q69.418 36.1215 67.5198 34.7094 Q65.6448 33.2743 62.1263 33.2743 Q60.205 33.2743 58.006 33.6909 Q55.8069 34.1076 53.168 34.9872 L53.168 30.8206 Q55.8301 30.0798 58.1449 29.7095 Q60.4828 29.3391 62.543 29.3391 Q67.867 29.3391 70.9689 31.7696 Q74.0707 34.177 74.0707 38.2974 Q74.0707 41.1677 72.4272 43.1585 Q70.7837 45.1261 67.7513 45.8899 Z\" fill=\"#000000\" fill-rule=\"evenodd\" fill-opacity=\"1\" /><polyline clip-path=\"url(#clip432)\" style=\"stroke:#009af9; stroke-width:4; stroke-opacity:1; fill:none\" points=\"\n",
       "  116.354,1009.62 121.828,1012.48 127.301,1015.29 132.775,1018.06 183.384,1041.77 233.994,1062.56 284.604,1080.98 335.214,1097.46 396.043,1115.14 456.872,1130.89 \n",
       "  508.301,1142.95 559.731,1154.02 671.466,1175.24 774.476,1192.04 884.913,1207.73 1012.86,1223.53 1126.57,1235.84 1226.29,1245.54 1335,1255.12 1444.36,1263.88 \n",
       "  1565.27,1272.67 1680.31,1280.3 1799.93,1287.56 1900.63,1293.22 2023.56,1299.62 2139.12,1305.2 2324.26,1313.36 2352.76,1314.53 \n",
       "  \"/>\n",
       "<polyline clip-path=\"url(#clip432)\" style=\"stroke:#e26f46; stroke-width:4; stroke-opacity:1; fill:none\" points=\"\n",
       "  110.881,1006.71 132.775,1018.06 335.214,1095.7 456.872,1117.68 559.731,1110.55 671.466,1056.6 774.476,939.908 884.913,709.132 1012.86,247.174 1126.57,-402.846 \n",
       "  1226.29,-1214.31 1335,-2420.18 1444.36,-4045.49 1504.81,-5152.05 1565.27,-6426.13 1622.79,-7808.64 1680.31,-9372 1740.12,-11205.6 1799.93,-13269 1850.28,-15197.5 \n",
       "  1900.63,-17313.4 1962.09,-20167.8 2023.56,-23341.4 2081.34,-26636.1 2139.12,-30253 2185.41,-33396.4 2231.69,-36770.4 2277.98,-40386 2324.26,-44254.6 2331.39,-44873.2 \n",
       "  2338.51,-45498 2345.63,-46129.2 2352.76,-46766.9 \n",
       "  \"/>\n",
       "<polyline clip-path=\"url(#clip432)\" style=\"stroke:#3da44d; stroke-width:4; stroke-opacity:1; fill:none\" points=\"\n",
       "  110.881,1006.71 116.354,1009.62 121.828,1012.48 127.301,1015.29 132.775,1018.06 183.384,1041.77 233.994,1062.56 284.604,1080.98 335.214,1097.45 396.043,1115.12 \n",
       "  456.872,1130.85 508.301,1142.89 559.731,1153.93 671.466,1175.06 774.476,1191.74 884.913,1207.27 1012.86,1222.84 1126.57,1234.91 1226.29,1244.38 1335,1253.69 \n",
       "  1444.36,1262.16 1565.27,1270.61 1680.31,1277.89 1799.93,1284.8 1900.63,1290.14 2023.56,1296.15 2139.12,1301.36 2324.26,1308.91 2352.76,1309.99 \n",
       "  \"/>\n",
       "<path clip-path=\"url(#clip430)\" d=\"\n",
       "M1637.1 337.138 L2278.03 337.138 L2278.03 95.2176 L1637.1 95.2176  Z\n",
       "  \" fill=\"#ffffff\" fill-rule=\"evenodd\" fill-opacity=\"1\"/>\n",
       "<polyline clip-path=\"url(#clip430)\" style=\"stroke:#000000; stroke-width:4; stroke-opacity:1; fill:none\" points=\"\n",
       "  1637.1,337.138 2278.03,337.138 2278.03,95.2176 1637.1,95.2176 1637.1,337.138 \n",
       "  \"/>\n",
       "<polyline clip-path=\"url(#clip430)\" style=\"stroke:#009af9; stroke-width:4; stroke-opacity:1; fill:none\" points=\"\n",
       "  1662.01,155.698 1811.47,155.698 \n",
       "  \"/>\n",
       "<path clip-path=\"url(#clip430)\" d=\"M 0 0 M1836.38 136.959 L1840.64 136.959 L1840.64 172.978 L1836.38 172.978 L1836.38 136.959 Z\" fill=\"#000000\" fill-rule=\"evenodd\" fill-opacity=\"1\" /><path clip-path=\"url(#clip430)\" d=\"M 0 0 M1855.15 150.038 Q1851.73 150.038 1849.74 152.723 Q1847.75 155.385 1847.75 160.038 Q1847.75 164.691 1849.71 167.376 Q1851.7 170.038 1855.15 170.038 Q1858.56 170.038 1860.55 167.353 Q1862.54 164.667 1862.54 160.038 Q1862.54 155.431 1860.55 152.746 Q1858.56 150.038 1855.15 150.038 M1855.15 146.427 Q1860.71 146.427 1863.88 150.038 Q1867.05 153.649 1867.05 160.038 Q1867.05 166.404 1863.88 170.038 Q1860.71 173.649 1855.15 173.649 Q1849.58 173.649 1846.4 170.038 Q1843.26 166.404 1843.26 160.038 Q1843.26 153.649 1846.4 150.038 Q1849.58 146.427 1855.15 146.427 Z\" fill=\"#000000\" fill-rule=\"evenodd\" fill-opacity=\"1\" /><path clip-path=\"url(#clip430)\" d=\"M 0 0 M1888.58 159.714 Q1888.58 155.084 1886.66 152.538 Q1884.76 149.992 1881.31 149.992 Q1877.89 149.992 1875.96 152.538 Q1874.07 155.084 1874.07 159.714 Q1874.07 164.32 1875.96 166.866 Q1877.89 169.413 1881.31 169.413 Q1884.76 169.413 1886.66 166.866 Q1888.58 164.32 1888.58 159.714 M1892.84 169.76 Q1892.84 176.38 1889.9 179.598 Q1886.96 182.839 1880.89 182.839 Q1878.65 182.839 1876.66 182.491 Q1874.67 182.167 1872.79 181.473 L1872.79 177.329 Q1874.67 178.348 1876.5 178.834 Q1878.32 179.32 1880.22 179.32 Q1884.41 179.32 1886.5 177.121 Q1888.58 174.945 1888.58 170.524 L1888.58 168.417 Q1887.26 170.709 1885.2 171.843 Q1883.14 172.978 1880.27 172.978 Q1875.5 172.978 1872.58 169.343 Q1869.67 165.709 1869.67 159.714 Q1869.67 153.695 1872.58 150.061 Q1875.5 146.427 1880.27 146.427 Q1883.14 146.427 1885.2 147.561 Q1887.26 148.695 1888.58 150.987 L1888.58 147.052 L1892.84 147.052 L1892.84 169.76 Z\" fill=\"#000000\" fill-rule=\"evenodd\" fill-opacity=\"1\" /><path clip-path=\"url(#clip430)\" d=\"M 0 0 M1907.54 137.006 Q1904.44 142.33 1902.93 147.538 Q1901.43 152.746 1901.43 158.093 Q1901.43 163.441 1902.93 168.695 Q1904.46 173.927 1907.54 179.228 L1903.83 179.228 Q1900.36 173.788 1898.63 168.533 Q1896.91 163.279 1896.91 158.093 Q1896.91 152.931 1898.63 147.7 Q1900.34 142.468 1903.83 137.006 L1907.54 137.006 Z\" fill=\"#000000\" fill-rule=\"evenodd\" fill-opacity=\"1\" /><path clip-path=\"url(#clip430)\" d=\"M 0 0 M1933.56 147.052 L1924.18 159.667 L1934.04 172.978 L1929.02 172.978 L1921.47 162.792 L1913.93 172.978 L1908.9 172.978 L1918.97 159.413 L1909.76 147.052 L1914.78 147.052 L1921.66 156.288 L1928.53 147.052 L1933.56 147.052 Z\" fill=\"#000000\" fill-rule=\"evenodd\" fill-opacity=\"1\" /><path clip-path=\"url(#clip430)\" d=\"M 0 0 M1955.85 143.255 L1955.85 156.149 L1968.74 156.149 L1968.74 160.084 L1955.85 160.084 L1955.85 172.978 L1951.96 172.978 L1951.96 160.084 L1939.07 160.084 L1939.07 156.149 L1951.96 156.149 L1951.96 143.255 L1955.85 143.255 Z\" fill=\"#000000\" fill-rule=\"evenodd\" fill-opacity=\"1\" /><path clip-path=\"url(#clip430)\" d=\"M 0 0 M1974.62 169.042 L1982.26 169.042 L1982.26 142.677 L1973.95 144.343 L1973.95 140.084 L1982.21 138.418 L1986.89 138.418 L1986.89 169.042 L1994.53 169.042 L1994.53 172.978 L1974.62 172.978 L1974.62 169.042 Z\" fill=\"#000000\" fill-rule=\"evenodd\" fill-opacity=\"1\" /><path clip-path=\"url(#clip430)\" d=\"M 0 0 M1998.32 137.006 L2002.03 137.006 Q2005.5 142.468 2007.21 147.7 Q2008.95 152.931 2008.95 158.093 Q2008.95 163.279 2007.21 168.533 Q2005.5 173.788 2002.03 179.228 L1998.32 179.228 Q2001.4 173.927 2002.91 168.695 Q2004.44 163.441 2004.44 158.093 Q2004.44 152.746 2002.91 147.538 Q2001.4 142.33 1998.32 137.006 Z\" fill=\"#000000\" fill-rule=\"evenodd\" fill-opacity=\"1\" /><path clip-path=\"url(#clip430)\" d=\"M 0 0 M2020.99 138.418 L2024.92 138.418 L2012.88 177.376 L2008.95 177.376 L2020.99 138.418 Z\" fill=\"#000000\" fill-rule=\"evenodd\" fill-opacity=\"1\" /><path clip-path=\"url(#clip430)\" d=\"M 0 0 M2050.94 147.052 L2041.56 159.667 L2051.43 172.978 L2046.4 172.978 L2038.86 162.792 L2031.31 172.978 L2026.29 172.978 L2036.36 159.413 L2027.14 147.052 L2032.17 147.052 L2039.04 156.288 L2045.92 147.052 L2050.94 147.052 Z\" fill=\"#000000\" fill-rule=\"evenodd\" fill-opacity=\"1\" /><polyline clip-path=\"url(#clip430)\" style=\"stroke:#e26f46; stroke-width:4; stroke-opacity:1; fill:none\" points=\"\n",
       "  1662.01,216.178 1811.47,216.178 \n",
       "  \"/>\n",
       "<path clip-path=\"url(#clip430)\" d=\"M 0 0 M1843.79 200.171 L1843.79 207.532 L1852.56 207.532 L1852.56 210.842 L1843.79 210.842 L1843.79 224.916 Q1843.79 228.087 1844.64 228.99 Q1845.52 229.893 1848.19 229.893 L1852.56 229.893 L1852.56 233.458 L1848.19 233.458 Q1843.26 233.458 1841.38 231.629 Q1839.51 229.777 1839.51 224.916 L1839.51 210.842 L1836.38 210.842 L1836.38 207.532 L1839.51 207.532 L1839.51 200.171 L1843.79 200.171 Z\" fill=\"#000000\" fill-rule=\"evenodd\" fill-opacity=\"1\" /><path clip-path=\"url(#clip430)\" d=\"M 0 0 M1868.81 220.425 Q1863.65 220.425 1861.66 221.606 Q1859.67 222.786 1859.67 225.634 Q1859.67 227.902 1861.15 229.245 Q1862.65 230.564 1865.22 230.564 Q1868.76 230.564 1870.89 228.064 Q1873.05 225.541 1873.05 221.374 L1873.05 220.425 L1868.81 220.425 M1877.31 218.666 L1877.31 233.458 L1873.05 233.458 L1873.05 229.522 Q1871.59 231.883 1869.41 233.018 Q1867.24 234.129 1864.09 234.129 Q1860.11 234.129 1857.75 231.907 Q1855.41 229.661 1855.41 225.911 Q1855.41 221.536 1858.33 219.314 Q1861.26 217.092 1867.07 217.092 L1873.05 217.092 L1873.05 216.675 Q1873.05 213.735 1871.1 212.138 Q1869.18 210.518 1865.69 210.518 Q1863.46 210.518 1861.36 211.05 Q1859.25 211.583 1857.31 212.647 L1857.31 208.712 Q1859.64 207.81 1861.84 207.37 Q1864.04 206.907 1866.13 206.907 Q1871.75 206.907 1874.53 209.823 Q1877.31 212.74 1877.31 218.666 Z\" fill=\"#000000\" fill-rule=\"evenodd\" fill-opacity=\"1\" /><path clip-path=\"url(#clip430)\" d=\"M 0 0 M1892.56 235.865 Q1890.76 240.495 1889.04 241.907 Q1887.33 243.319 1884.46 243.319 L1881.06 243.319 L1881.06 239.754 L1883.56 239.754 Q1885.32 239.754 1886.29 238.92 Q1887.26 238.087 1888.44 234.985 L1889.2 233.041 L1878.72 207.532 L1883.23 207.532 L1891.33 227.809 L1899.44 207.532 L1903.95 207.532 L1892.56 235.865 Z\" fill=\"#000000\" fill-rule=\"evenodd\" fill-opacity=\"1\" /><path clip-path=\"url(#clip430)\" d=\"M 0 0 M1908.42 197.439 L1912.68 197.439 L1912.68 233.458 L1908.42 233.458 L1908.42 197.439 Z\" fill=\"#000000\" fill-rule=\"evenodd\" fill-opacity=\"1\" /><path clip-path=\"url(#clip430)\" d=\"M 0 0 M1927.19 210.518 Q1923.76 210.518 1921.77 213.203 Q1919.78 215.865 1919.78 220.518 Q1919.78 225.171 1921.75 227.856 Q1923.74 230.518 1927.19 230.518 Q1930.59 230.518 1932.58 227.833 Q1934.57 225.147 1934.57 220.518 Q1934.57 215.911 1932.58 213.226 Q1930.59 210.518 1927.19 210.518 M1927.19 206.907 Q1932.75 206.907 1935.92 210.518 Q1939.09 214.129 1939.09 220.518 Q1939.09 226.884 1935.92 230.518 Q1932.75 234.129 1927.19 234.129 Q1921.61 234.129 1918.44 230.518 Q1915.29 226.884 1915.29 220.518 Q1915.29 214.129 1918.44 210.518 Q1921.61 206.907 1927.19 206.907 Z\" fill=\"#000000\" fill-rule=\"evenodd\" fill-opacity=\"1\" /><path clip-path=\"url(#clip430)\" d=\"M 0 0 M1958.58 211.513 Q1957.86 211.097 1957.01 210.911 Q1956.17 210.703 1955.15 210.703 Q1951.54 210.703 1949.6 213.064 Q1947.68 215.402 1947.68 219.8 L1947.68 233.458 L1943.39 233.458 L1943.39 207.532 L1947.68 207.532 L1947.68 211.56 Q1949.02 209.198 1951.17 208.064 Q1953.32 206.907 1956.4 206.907 Q1956.84 206.907 1957.38 206.976 Q1957.91 207.023 1958.56 207.138 L1958.58 211.513 Z\" fill=\"#000000\" fill-rule=\"evenodd\" fill-opacity=\"1\" /><path clip-path=\"url(#clip430)\" d=\"M 0 0 M1982.24 229.569 L1982.24 243.319 L1977.95 243.319 L1977.95 207.532 L1982.24 207.532 L1982.24 211.467 Q1983.58 209.152 1985.62 208.041 Q1987.68 206.907 1990.52 206.907 Q1995.25 206.907 1998.19 210.657 Q2001.15 214.407 2001.15 220.518 Q2001.15 226.629 1998.19 230.379 Q1995.25 234.129 1990.52 234.129 Q1987.68 234.129 1985.62 233.018 Q1983.58 231.883 1982.24 229.569 M1996.73 220.518 Q1996.73 215.819 1994.78 213.157 Q1992.86 210.472 1989.48 210.472 Q1986.1 210.472 1984.16 213.157 Q1982.24 215.819 1982.24 220.518 Q1982.24 225.217 1984.16 227.902 Q1986.1 230.564 1989.48 230.564 Q1992.86 230.564 1994.78 227.902 Q1996.73 225.217 1996.73 220.518 Z\" fill=\"#000000\" fill-rule=\"evenodd\" fill-opacity=\"1\" /><path clip-path=\"url(#clip430)\" d=\"M 0 0 M2015.66 210.518 Q2012.24 210.518 2010.25 213.203 Q2008.25 215.865 2008.25 220.518 Q2008.25 225.171 2010.22 227.856 Q2012.21 230.518 2015.66 230.518 Q2019.06 230.518 2021.06 227.833 Q2023.05 225.147 2023.05 220.518 Q2023.05 215.911 2021.06 213.226 Q2019.06 210.518 2015.66 210.518 M2015.66 206.907 Q2021.22 206.907 2024.39 210.518 Q2027.56 214.129 2027.56 220.518 Q2027.56 226.884 2024.39 230.518 Q2021.22 234.129 2015.66 234.129 Q2010.08 234.129 2006.91 230.518 Q2003.76 226.884 2003.76 220.518 Q2003.76 214.129 2006.91 210.518 Q2010.08 206.907 2015.66 206.907 Z\" fill=\"#000000\" fill-rule=\"evenodd\" fill-opacity=\"1\" /><path clip-path=\"url(#clip430)\" d=\"M 0 0 M2032.03 197.439 L2036.29 197.439 L2036.29 233.458 L2032.03 233.458 L2032.03 197.439 Z\" fill=\"#000000\" fill-rule=\"evenodd\" fill-opacity=\"1\" /><path clip-path=\"url(#clip430)\" d=\"M 0 0 M2051.54 235.865 Q2049.74 240.495 2048.02 241.907 Q2046.31 243.319 2043.44 243.319 L2040.04 243.319 L2040.04 239.754 L2042.54 239.754 Q2044.3 239.754 2045.27 238.92 Q2046.24 238.087 2047.42 234.985 L2048.19 233.041 L2037.7 207.532 L2042.21 207.532 L2050.31 227.809 L2058.42 207.532 L2062.93 207.532 L2051.54 235.865 Z\" fill=\"#000000\" fill-rule=\"evenodd\" fill-opacity=\"1\" /><path clip-path=\"url(#clip430)\" d=\"M 0 0 M2088.95 217.809 L2088.95 233.458 L2084.69 233.458 L2084.69 217.948 Q2084.69 214.268 2083.25 212.439 Q2081.82 210.61 2078.95 210.61 Q2075.5 210.61 2073.51 212.81 Q2071.52 215.009 2071.52 218.805 L2071.52 233.458 L2067.24 233.458 L2067.24 207.532 L2071.52 207.532 L2071.52 211.56 Q2073.05 209.222 2075.11 208.064 Q2077.19 206.907 2079.9 206.907 Q2084.37 206.907 2086.66 209.685 Q2088.95 212.439 2088.95 217.809 Z\" fill=\"#000000\" fill-rule=\"evenodd\" fill-opacity=\"1\" /><path clip-path=\"url(#clip430)\" d=\"M 0 0 M2103.46 210.518 Q2100.04 210.518 2098.05 213.203 Q2096.06 215.865 2096.06 220.518 Q2096.06 225.171 2098.02 227.856 Q2100.01 230.518 2103.46 230.518 Q2106.87 230.518 2108.86 227.833 Q2110.85 225.147 2110.85 220.518 Q2110.85 215.911 2108.86 213.226 Q2106.87 210.518 2103.46 210.518 M2103.46 206.907 Q2109.02 206.907 2112.19 210.518 Q2115.36 214.129 2115.36 220.518 Q2115.36 226.884 2112.19 230.518 Q2109.02 234.129 2103.46 234.129 Q2097.88 234.129 2094.71 230.518 Q2091.56 226.884 2091.56 220.518 Q2091.56 214.129 2094.71 210.518 Q2097.88 206.907 2103.46 206.907 Z\" fill=\"#000000\" fill-rule=\"evenodd\" fill-opacity=\"1\" /><path clip-path=\"url(#clip430)\" d=\"M 0 0 M2140.01 212.509 Q2141.61 209.638 2143.83 208.273 Q2146.05 206.907 2149.06 206.907 Q2153.12 206.907 2155.31 209.754 Q2157.51 212.578 2157.51 217.809 L2157.51 233.458 L2153.23 233.458 L2153.23 217.948 Q2153.23 214.222 2151.91 212.416 Q2150.59 210.61 2147.88 210.61 Q2144.57 210.61 2142.65 212.81 Q2140.73 215.009 2140.73 218.805 L2140.73 233.458 L2136.45 233.458 L2136.45 217.948 Q2136.45 214.198 2135.13 212.416 Q2133.81 210.61 2131.06 210.61 Q2127.79 210.61 2125.87 212.833 Q2123.95 215.032 2123.95 218.805 L2123.95 233.458 L2119.67 233.458 L2119.67 207.532 L2123.95 207.532 L2123.95 211.56 Q2125.41 209.175 2127.44 208.041 Q2129.48 206.907 2132.28 206.907 Q2135.11 206.907 2137.07 208.342 Q2139.06 209.777 2140.01 212.509 Z\" fill=\"#000000\" fill-rule=\"evenodd\" fill-opacity=\"1\" /><path clip-path=\"url(#clip430)\" d=\"M 0 0 M2161.98 207.532 L2166.24 207.532 L2166.24 233.458 L2161.98 233.458 L2161.98 207.532 M2161.98 197.439 L2166.24 197.439 L2166.24 202.833 L2161.98 202.833 L2161.98 197.439 Z\" fill=\"#000000\" fill-rule=\"evenodd\" fill-opacity=\"1\" /><path clip-path=\"url(#clip430)\" d=\"M 0 0 M2182.49 220.425 Q2177.33 220.425 2175.34 221.606 Q2173.35 222.786 2173.35 225.634 Q2173.35 227.902 2174.83 229.245 Q2176.33 230.564 2178.9 230.564 Q2182.44 230.564 2184.57 228.064 Q2186.73 225.541 2186.73 221.374 L2186.73 220.425 L2182.49 220.425 M2190.99 218.666 L2190.99 233.458 L2186.73 233.458 L2186.73 229.522 Q2185.27 231.883 2183.09 233.018 Q2180.92 234.129 2177.77 234.129 Q2173.79 234.129 2171.43 231.907 Q2169.09 229.661 2169.09 225.911 Q2169.09 221.536 2172 219.314 Q2174.94 217.092 2180.75 217.092 L2186.73 217.092 L2186.73 216.675 Q2186.73 213.735 2184.78 212.138 Q2182.86 210.518 2179.36 210.518 Q2177.14 210.518 2175.04 211.05 Q2172.93 211.583 2170.99 212.647 L2170.99 208.712 Q2173.32 207.81 2175.52 207.37 Q2177.72 206.907 2179.8 206.907 Q2185.43 206.907 2188.21 209.823 Q2190.99 212.74 2190.99 218.666 Z\" fill=\"#000000\" fill-rule=\"evenodd\" fill-opacity=\"1\" /><path clip-path=\"url(#clip430)\" d=\"M 0 0 M2195.45 197.439 L2199.71 197.439 L2199.71 233.458 L2195.45 233.458 L2195.45 197.439 Z\" fill=\"#000000\" fill-rule=\"evenodd\" fill-opacity=\"1\" /><polyline clip-path=\"url(#clip430)\" style=\"stroke:#3da44d; stroke-width:4; stroke-opacity:1; fill:none\" points=\"\n",
       "  1662.01,276.658 1811.47,276.658 \n",
       "  \"/>\n",
       "<path clip-path=\"url(#clip430)\" d=\"M 0 0 M1840.66 290.049 L1840.66 303.799 L1836.38 303.799 L1836.38 268.012 L1840.66 268.012 L1840.66 271.947 Q1842.01 269.632 1844.04 268.521 Q1846.1 267.387 1848.95 267.387 Q1853.67 267.387 1856.61 271.137 Q1859.58 274.887 1859.58 280.998 Q1859.58 287.109 1856.61 290.859 Q1853.67 294.609 1848.95 294.609 Q1846.1 294.609 1844.04 293.498 Q1842.01 292.363 1840.66 290.049 M1855.15 280.998 Q1855.15 276.299 1853.21 273.637 Q1851.29 270.952 1847.91 270.952 Q1844.53 270.952 1842.58 273.637 Q1840.66 276.299 1840.66 280.998 Q1840.66 285.697 1842.58 288.382 Q1844.53 291.044 1847.91 291.044 Q1851.29 291.044 1853.21 288.382 Q1855.15 285.697 1855.15 280.998 Z\" fill=\"#000000\" fill-rule=\"evenodd\" fill-opacity=\"1\" /><path clip-path=\"url(#clip430)\" d=\"M 0 0 M1875.82 280.905 Q1870.66 280.905 1868.67 282.086 Q1866.68 283.266 1866.68 286.114 Q1866.68 288.382 1868.16 289.725 Q1869.67 291.044 1872.24 291.044 Q1875.78 291.044 1877.91 288.544 Q1880.06 286.021 1880.06 281.854 L1880.06 280.905 L1875.82 280.905 M1884.32 279.146 L1884.32 293.938 L1880.06 293.938 L1880.06 290.002 Q1878.6 292.363 1876.43 293.498 Q1874.25 294.609 1871.1 294.609 Q1867.12 294.609 1864.76 292.387 Q1862.42 290.141 1862.42 286.391 Q1862.42 282.016 1865.34 279.794 Q1868.28 277.572 1874.09 277.572 L1880.06 277.572 L1880.06 277.155 Q1880.06 274.215 1878.12 272.618 Q1876.2 270.998 1872.7 270.998 Q1870.48 270.998 1868.37 271.53 Q1866.26 272.063 1864.32 273.127 L1864.32 269.192 Q1866.66 268.29 1868.86 267.85 Q1871.06 267.387 1873.14 267.387 Q1878.76 267.387 1881.54 270.303 Q1884.32 273.22 1884.32 279.146 Z\" fill=\"#000000\" fill-rule=\"evenodd\" fill-opacity=\"1\" /><path clip-path=\"url(#clip430)\" d=\"M 0 0 M1905.85 271.947 L1905.85 257.919 L1910.11 257.919 L1910.11 293.938 L1905.85 293.938 L1905.85 290.049 Q1904.51 292.363 1902.45 293.498 Q1900.41 294.609 1897.54 294.609 Q1892.84 294.609 1889.88 290.859 Q1886.94 287.109 1886.94 280.998 Q1886.94 274.887 1889.88 271.137 Q1892.84 267.387 1897.54 267.387 Q1900.41 267.387 1902.45 268.521 Q1904.51 269.632 1905.85 271.947 M1891.33 280.998 Q1891.33 285.697 1893.26 288.382 Q1895.2 291.044 1898.58 291.044 Q1901.96 291.044 1903.9 288.382 Q1905.85 285.697 1905.85 280.998 Q1905.85 276.299 1903.9 273.637 Q1901.96 270.952 1898.58 270.952 Q1895.2 270.952 1893.26 273.637 Q1891.33 276.299 1891.33 280.998 Z\" fill=\"#000000\" fill-rule=\"evenodd\" fill-opacity=\"1\" /><path clip-path=\"url(#clip430)\" d=\"M 0 0 M1936.75 279.91 L1936.75 281.993 L1917.17 281.993 Q1917.45 286.391 1919.81 288.706 Q1922.19 290.998 1926.43 290.998 Q1928.88 290.998 1931.17 290.396 Q1933.49 289.794 1935.76 288.59 L1935.76 292.618 Q1933.46 293.59 1931.06 294.1 Q1928.65 294.609 1926.17 294.609 Q1919.97 294.609 1916.33 290.998 Q1912.72 287.387 1912.72 281.229 Q1912.72 274.864 1916.15 271.137 Q1919.6 267.387 1925.43 267.387 Q1930.66 267.387 1933.69 270.766 Q1936.75 274.123 1936.75 279.91 M1932.49 278.66 Q1932.44 275.165 1930.52 273.081 Q1928.63 270.998 1925.48 270.998 Q1921.91 270.998 1919.76 273.012 Q1917.63 275.026 1917.31 278.683 L1932.49 278.66 Z\" fill=\"#000000\" fill-rule=\"evenodd\" fill-opacity=\"1\" /><path clip-path=\"url(#clip430)\" d=\"M 0 0 M1968.07 280.905 Q1962.91 280.905 1960.92 282.086 Q1958.93 283.266 1958.93 286.114 Q1958.93 288.382 1960.41 289.725 Q1961.91 291.044 1964.48 291.044 Q1968.02 291.044 1970.15 288.544 Q1972.31 286.021 1972.31 281.854 L1972.31 280.905 L1968.07 280.905 M1976.57 279.146 L1976.57 293.938 L1972.31 293.938 L1972.31 290.002 Q1970.85 292.363 1968.67 293.498 Q1966.5 294.609 1963.35 294.609 Q1959.37 294.609 1957.01 292.387 Q1954.67 290.141 1954.67 286.391 Q1954.67 282.016 1957.58 279.794 Q1960.52 277.572 1966.33 277.572 L1972.31 277.572 L1972.31 277.155 Q1972.31 274.215 1970.36 272.618 Q1968.44 270.998 1964.94 270.998 Q1962.72 270.998 1960.62 271.53 Q1958.51 272.063 1956.57 273.127 L1956.57 269.192 Q1958.9 268.29 1961.1 267.85 Q1963.3 267.387 1965.38 267.387 Q1971.01 267.387 1973.79 270.303 Q1976.57 273.22 1976.57 279.146 Z\" fill=\"#000000\" fill-rule=\"evenodd\" fill-opacity=\"1\" /><path clip-path=\"url(#clip430)\" d=\"M 0 0 M1985.15 290.049 L1985.15 303.799 L1980.87 303.799 L1980.87 268.012 L1985.15 268.012 L1985.15 271.947 Q1986.5 269.632 1988.53 268.521 Q1990.59 267.387 1993.44 267.387 Q1998.16 267.387 2001.1 271.137 Q2004.06 274.887 2004.06 280.998 Q2004.06 287.109 2001.1 290.859 Q1998.16 294.609 1993.44 294.609 Q1990.59 294.609 1988.53 293.498 Q1986.5 292.363 1985.15 290.049 M1999.64 280.998 Q1999.64 276.299 1997.7 273.637 Q1995.78 270.952 1992.4 270.952 Q1989.02 270.952 1987.07 273.637 Q1985.15 276.299 1985.15 280.998 Q1985.15 285.697 1987.07 288.382 Q1989.02 291.044 1992.4 291.044 Q1995.78 291.044 1997.7 288.382 Q1999.64 285.697 1999.64 280.998 Z\" fill=\"#000000\" fill-rule=\"evenodd\" fill-opacity=\"1\" /><path clip-path=\"url(#clip430)\" d=\"M 0 0 M2023.56 271.993 Q2022.84 271.577 2021.98 271.391 Q2021.15 271.183 2020.13 271.183 Q2016.52 271.183 2014.57 273.544 Q2012.65 275.882 2012.65 280.28 L2012.65 293.938 L2008.37 293.938 L2008.37 268.012 L2012.65 268.012 L2012.65 272.04 Q2014 269.678 2016.15 268.544 Q2018.3 267.387 2021.38 267.387 Q2021.82 267.387 2022.35 267.456 Q2022.88 267.503 2023.53 267.618 L2023.56 271.993 Z\" fill=\"#000000\" fill-rule=\"evenodd\" fill-opacity=\"1\" /><path clip-path=\"url(#clip430)\" d=\"M 0 0 M2037.03 270.998 Q2033.6 270.998 2031.61 273.683 Q2029.62 276.345 2029.62 280.998 Q2029.62 285.651 2031.59 288.336 Q2033.58 290.998 2037.03 290.998 Q2040.43 290.998 2042.42 288.313 Q2044.41 285.627 2044.41 280.998 Q2044.41 276.391 2042.42 273.706 Q2040.43 270.998 2037.03 270.998 M2037.03 267.387 Q2042.58 267.387 2045.75 270.998 Q2048.93 274.609 2048.93 280.998 Q2048.93 287.364 2045.75 290.998 Q2042.58 294.609 2037.03 294.609 Q2031.45 294.609 2028.28 290.998 Q2025.13 287.364 2025.13 280.998 Q2025.13 274.609 2028.28 270.998 Q2031.45 267.387 2037.03 267.387 Z\" fill=\"#000000\" fill-rule=\"evenodd\" fill-opacity=\"1\" /><path clip-path=\"url(#clip430)\" d=\"M 0 0 M2073.49 268.012 L2064.11 280.627 L2073.97 293.938 L2068.95 293.938 L2061.4 283.752 L2053.86 293.938 L2048.83 293.938 L2058.9 280.373 L2049.69 268.012 L2054.71 268.012 L2061.59 277.248 L2068.46 268.012 L2073.49 268.012 Z\" fill=\"#000000\" fill-rule=\"evenodd\" fill-opacity=\"1\" /><path clip-path=\"url(#clip430)\" d=\"M 0 0 M2078.44 268.012 L2082.7 268.012 L2082.7 293.938 L2078.44 293.938 L2078.44 268.012 M2078.44 257.919 L2082.7 257.919 L2082.7 263.313 L2078.44 263.313 L2078.44 257.919 Z\" fill=\"#000000\" fill-rule=\"evenodd\" fill-opacity=\"1\" /><path clip-path=\"url(#clip430)\" d=\"M 0 0 M2107.35 272.989 Q2108.95 270.118 2111.17 268.753 Q2113.39 267.387 2116.4 267.387 Q2120.45 267.387 2122.65 270.234 Q2124.85 273.058 2124.85 278.289 L2124.85 293.938 L2120.57 293.938 L2120.57 278.428 Q2120.57 274.702 2119.25 272.896 Q2117.93 271.09 2115.22 271.09 Q2111.91 271.09 2109.99 273.29 Q2108.07 275.489 2108.07 279.285 L2108.07 293.938 L2103.79 293.938 L2103.79 278.428 Q2103.79 274.678 2102.47 272.896 Q2101.15 271.09 2098.39 271.09 Q2095.13 271.09 2093.21 273.313 Q2091.29 275.512 2091.29 279.285 L2091.29 293.938 L2087 293.938 L2087 268.012 L2091.29 268.012 L2091.29 272.04 Q2092.75 269.655 2094.78 268.521 Q2096.82 267.387 2099.62 267.387 Q2102.44 267.387 2104.41 268.822 Q2106.4 270.257 2107.35 272.989 Z\" fill=\"#000000\" fill-rule=\"evenodd\" fill-opacity=\"1\" /><path clip-path=\"url(#clip430)\" d=\"M 0 0 M2141.1 280.905 Q2135.94 280.905 2133.95 282.086 Q2131.96 283.266 2131.96 286.114 Q2131.96 288.382 2133.44 289.725 Q2134.94 291.044 2137.51 291.044 Q2141.05 291.044 2143.18 288.544 Q2145.34 286.021 2145.34 281.854 L2145.34 280.905 L2141.1 280.905 M2149.6 279.146 L2149.6 293.938 L2145.34 293.938 L2145.34 290.002 Q2143.88 292.363 2141.7 293.498 Q2139.53 294.609 2136.38 294.609 Q2132.4 294.609 2130.04 292.387 Q2127.7 290.141 2127.7 286.391 Q2127.7 282.016 2130.62 279.794 Q2133.56 277.572 2139.37 277.572 L2145.34 277.572 L2145.34 277.155 Q2145.34 274.215 2143.39 272.618 Q2141.47 270.998 2137.98 270.998 Q2135.75 270.998 2133.65 271.53 Q2131.54 272.063 2129.6 273.127 L2129.6 269.192 Q2131.93 268.29 2134.13 267.85 Q2136.33 267.387 2138.42 267.387 Q2144.04 267.387 2146.82 270.303 Q2149.6 273.22 2149.6 279.146 Z\" fill=\"#000000\" fill-rule=\"evenodd\" fill-opacity=\"1\" /><path clip-path=\"url(#clip430)\" d=\"M 0 0 M2158.28 260.651 L2158.28 268.012 L2167.05 268.012 L2167.05 271.322 L2158.28 271.322 L2158.28 285.396 Q2158.28 288.567 2159.13 289.47 Q2160.01 290.373 2162.68 290.373 L2167.05 290.373 L2167.05 293.938 L2162.68 293.938 Q2157.74 293.938 2155.87 292.109 Q2153.99 290.257 2153.99 285.396 L2153.99 271.322 L2150.87 271.322 L2150.87 268.012 L2153.99 268.012 L2153.99 260.651 L2158.28 260.651 Z\" fill=\"#000000\" fill-rule=\"evenodd\" fill-opacity=\"1\" /><path clip-path=\"url(#clip430)\" d=\"M 0 0 M2171.52 268.012 L2175.78 268.012 L2175.78 293.938 L2171.52 293.938 L2171.52 268.012 M2171.52 257.919 L2175.78 257.919 L2175.78 263.313 L2171.52 263.313 L2171.52 257.919 Z\" fill=\"#000000\" fill-rule=\"evenodd\" fill-opacity=\"1\" /><path clip-path=\"url(#clip430)\" d=\"M 0 0 M2190.29 270.998 Q2186.86 270.998 2184.87 273.683 Q2182.88 276.345 2182.88 280.998 Q2182.88 285.651 2184.85 288.336 Q2186.84 290.998 2190.29 290.998 Q2193.69 290.998 2195.68 288.313 Q2197.68 285.627 2197.68 280.998 Q2197.68 276.391 2195.68 273.706 Q2193.69 270.998 2190.29 270.998 M2190.29 267.387 Q2195.85 267.387 2199.02 270.998 Q2202.19 274.609 2202.19 280.998 Q2202.19 287.364 2199.02 290.998 Q2195.85 294.609 2190.29 294.609 Q2184.71 294.609 2181.54 290.998 Q2178.39 287.364 2178.39 280.998 Q2178.39 274.609 2181.54 270.998 Q2184.71 267.387 2190.29 267.387 Z\" fill=\"#000000\" fill-rule=\"evenodd\" fill-opacity=\"1\" /><path clip-path=\"url(#clip430)\" d=\"M 0 0 M2228.21 278.289 L2228.21 293.938 L2223.95 293.938 L2223.95 278.428 Q2223.95 274.748 2222.51 272.919 Q2221.08 271.09 2218.21 271.09 Q2214.76 271.09 2212.77 273.29 Q2210.78 275.489 2210.78 279.285 L2210.78 293.938 L2206.49 293.938 L2206.49 268.012 L2210.78 268.012 L2210.78 272.04 Q2212.3 269.702 2214.36 268.544 Q2216.45 267.387 2219.16 267.387 Q2223.62 267.387 2225.92 270.165 Q2228.21 272.919 2228.21 278.289 Z\" fill=\"#000000\" fill-rule=\"evenodd\" fill-opacity=\"1\" /></svg>\n"
      ]
     },
     "execution_count": 202,
     "metadata": {},
     "output_type": "execute_result"
    }
   ],
   "source": [
    "plot(f,\n",
    "    ylims = (0,3),\n",
    "    xlims = (0,5),\n",
    "    label=\"log(x+1)/x\")\n",
    "plot!(taylor_polynomial,\n",
    "    ylims = (0,3),\n",
    "    xlims = (0,5),\n",
    "    label=\"taylor polynomial\")\n",
    "plot!(pade_approx,\n",
    "    ylims = (0,3),\n",
    "    xlims = (0,5),\n",
    "    label=\"pade aproximation\")\n",
    "\n"
   ]
  }
 ],
 "metadata": {
  "kernelspec": {
   "display_name": "Julia 1.4.1",
   "language": "julia",
   "name": "julia-1.4"
  },
  "language_info": {
   "file_extension": ".jl",
   "mimetype": "application/julia",
   "name": "julia",
   "version": "1.4.1"
  }
 },
 "nbformat": 4,
 "nbformat_minor": 2
}
