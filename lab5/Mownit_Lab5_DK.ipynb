{
 "cells": [
  {
   "cell_type": "markdown",
   "metadata": {},
   "source": [
    "# MOwNiT \n",
    "## Laboratorium 5"
   ]
  },
  {
   "cell_type": "markdown",
   "metadata": {},
   "source": [
    "### Tablice wielowymiarowe i mnożenie macierzy w Julii"
   ]
  },
  {
   "cell_type": "code",
   "execution_count": 2,
   "metadata": {},
   "outputs": [
    {
     "data": {
      "text/plain": [
       "2×2 Matrix{Float64}:\n",
       " 1.0  4.0\n",
       " 0.0  1.0"
      ]
     },
     "execution_count": 2,
     "metadata": {},
     "output_type": "execute_result"
    }
   ],
   "source": [
    "# tablice wielowymiarowe w Julii\n",
    "Asmall = [[1.0 4.0]; [0.0 1.0]]\n",
    "Bsmall = Asmall\n",
    "# size(B,1)"
   ]
  },
  {
   "cell_type": "markdown",
   "metadata": {},
   "source": [
    "#### Wersja naiwna"
   ]
  },
  {
   "cell_type": "code",
   "execution_count": 3,
   "metadata": {},
   "outputs": [
    {
     "data": {
      "text/plain": [
       "naive_multiplication (generic function with 1 method)"
      ]
     },
     "execution_count": 3,
     "metadata": {},
     "output_type": "execute_result"
    }
   ],
   "source": [
    "# mnożenie macierzy - wersja naiwna\n",
    "function naive_multiplication(A,B)\n",
    "    C = zeros(Float64, size(A,1), size(B,2))\n",
    "    for i=1:size(A,1)\n",
    "        for j=1:size(B,2)\n",
    "            for k=1:size(A,2)\n",
    "                C[i,j] = C[i,j] + A[i,k]*B[k,j]\n",
    "            end\n",
    "        end\n",
    "    end\n",
    "    C\n",
    "end"
   ]
  },
  {
   "cell_type": "code",
   "execution_count": 4,
   "metadata": {},
   "outputs": [
    {
     "data": {
      "text/plain": [
       "2×2 Matrix{Float64}:\n",
       " 1.0  8.0\n",
       " 0.0  1.0"
      ]
     },
     "execution_count": 4,
     "metadata": {},
     "output_type": "execute_result"
    }
   ],
   "source": [
    "#kompilacja\n",
    "naive_multiplication(Asmall, Bsmall)"
   ]
  },
  {
   "cell_type": "code",
   "execution_count": 5,
   "metadata": {},
   "outputs": [
    {
     "data": {
      "text/plain": [
       "7.2e-6"
      ]
     },
     "execution_count": 5,
     "metadata": {},
     "output_type": "execute_result"
    }
   ],
   "source": [
    "#kompilacja\n",
    "@elapsed naive_multiplication(Asmall, Bsmall)"
   ]
  },
  {
   "cell_type": "markdown",
   "metadata": {},
   "source": [
    "#### Wersja ulepszona"
   ]
  },
  {
   "cell_type": "code",
   "execution_count": 6,
   "metadata": {},
   "outputs": [
    {
     "data": {
      "text/plain": [
       "2×2 Matrix{Int64}:\n",
       " 1  2\n",
       " 3  4"
      ]
     },
     "metadata": {},
     "output_type": "display_data"
    },
    {
     "data": {
      "text/plain": [
       "4-element Vector{Int64}:\n",
       " 1\n",
       " 3\n",
       " 2\n",
       " 4"
      ]
     },
     "execution_count": 6,
     "metadata": {},
     "output_type": "execute_result"
    }
   ],
   "source": [
    "# Należy pamiętać o \"column-major\" dostępie do tablic - \n",
    "# pierwszy indeks zmienia się szybciej\n",
    "# tak jak Matlab, R, Fortran \n",
    "# inaczej niz C, Python\n",
    "A1 = [[1 2]; [3 4]]\n",
    "display(A1)\n",
    "vec(A1)"
   ]
  },
  {
   "cell_type": "code",
   "execution_count": 7,
   "metadata": {},
   "outputs": [
    {
     "data": {
      "text/plain": [
       "better_multiplication (generic function with 1 method)"
      ]
     },
     "execution_count": 7,
     "metadata": {},
     "output_type": "execute_result"
    }
   ],
   "source": [
    "# poprawiona funkcja korzytająca z powyższego oraz z faktu, że\n",
    "# można zmieniać kolejność operacji dodawania (a co za tym idzie kolejnosc petli).\n",
    "function better_multiplication(A, B)\n",
    "    C = zeros(Float64, size(A,1), size(B,2))\n",
    "    for j=1:size(B,2)\n",
    "        for k=1:size(A,2)\n",
    "            for i=1:size(A,1)\n",
    "                C[i,j] = C[i,j] + A[i,k]*B[k,j]\n",
    "            end\n",
    "        end\n",
    "    end\n",
    "    C\n",
    "end"
   ]
  },
  {
   "cell_type": "code",
   "execution_count": 8,
   "metadata": {
    "scrolled": true
   },
   "outputs": [
    {
     "data": {
      "text/plain": [
       "0.0419738"
      ]
     },
     "execution_count": 8,
     "metadata": {},
     "output_type": "execute_result"
    }
   ],
   "source": [
    "@elapsed better_multiplication(Asmall, Bsmall)"
   ]
  },
  {
   "cell_type": "markdown",
   "metadata": {},
   "source": [
    "#### Wersja BLASowa"
   ]
  },
  {
   "cell_type": "code",
   "execution_count": 9,
   "metadata": {},
   "outputs": [
    {
     "data": {
      "text/plain": [
       "2×2 Matrix{Float64}:\n",
       " 1.0  8.0\n",
       " 0.0  1.0"
      ]
     },
     "execution_count": 9,
     "metadata": {},
     "output_type": "execute_result"
    }
   ],
   "source": [
    "#kompilacja funkcji BLASowej do mnożenia macierzy\n",
    "#https://docs.julialang.org/en/stable/stdlib/linalg/#BLAS-Functions-1\n",
    "Asmall*Bsmall"
   ]
  },
  {
   "cell_type": "markdown",
   "metadata": {},
   "source": [
    "#### Porównanie wersji"
   ]
  },
  {
   "cell_type": "code",
   "execution_count": 10,
   "metadata": {},
   "outputs": [],
   "source": [
    "A = rand(1000, 1000);\n",
    "B = rand(1000, 1000);"
   ]
  },
  {
   "cell_type": "code",
   "execution_count": 11,
   "metadata": {
    "scrolled": true
   },
   "outputs": [
    {
     "data": {
      "text/plain": [
       "5.9350756"
      ]
     },
     "execution_count": 11,
     "metadata": {},
     "output_type": "execute_result"
    }
   ],
   "source": [
    "@elapsed naive_multiplication(A, B)"
   ]
  },
  {
   "cell_type": "code",
   "execution_count": 12,
   "metadata": {},
   "outputs": [
    {
     "data": {
      "text/plain": [
       "3.2674696"
      ]
     },
     "execution_count": 12,
     "metadata": {},
     "output_type": "execute_result"
    }
   ],
   "source": [
    "@elapsed better_multiplication(A, B)"
   ]
  },
  {
   "cell_type": "code",
   "execution_count": 13,
   "metadata": {},
   "outputs": [
    {
     "data": {
      "text/plain": [
       "0.056862"
      ]
     },
     "execution_count": 13,
     "metadata": {},
     "output_type": "execute_result"
    }
   ],
   "source": [
    "@elapsed A*B"
   ]
  },
  {
   "cell_type": "markdown",
   "metadata": {},
   "source": [
    "### Wielomiany i aproksymacja średniokwadratowa"
   ]
  },
  {
   "cell_type": "code",
   "execution_count": 38,
   "metadata": {},
   "outputs": [
    {
     "name": "stderr",
     "output_type": "stream",
     "text": [
      "\u001b[32m\u001b[1m    Updating\u001b[22m\u001b[39m registry at `C:\\Users\\danie\\.julia\\registries\\General.toml`\n",
      "\u001b[32m\u001b[1m   Resolving\u001b[22m\u001b[39m package versions...\n",
      "\u001b[32m\u001b[1m  No Changes\u001b[22m\u001b[39m to `C:\\Users\\danie\\.julia\\environments\\v1.7\\Project.toml`\n",
      "\u001b[32m\u001b[1m  No Changes\u001b[22m\u001b[39m to `C:\\Users\\danie\\.julia\\environments\\v1.7\\Manifest.toml`\n"
     ]
    }
   ],
   "source": [
    "# pakiet Polynomials jest mozliwy do instalacji pod Juliabox\n",
    "# https://github.com/JuliaMath/Polynomials.jl\n",
    "# using Pkg\n",
    "# Pkg.add(\"Polynomials\")"
   ]
  },
  {
   "cell_type": "code",
   "execution_count": 15,
   "metadata": {},
   "outputs": [
    {
     "data": {
      "text/plain": [
       "exp (generic function with 14 methods)"
      ]
     },
     "execution_count": 15,
     "metadata": {},
     "output_type": "execute_result"
    }
   ],
   "source": [
    "# Przykładowa funkcja, którą będziemy aproksymować\n",
    "myfun = exp"
   ]
  },
  {
   "cell_type": "code",
   "execution_count": 16,
   "metadata": {},
   "outputs": [
    {
     "data": {
      "text/html": [
       "&#45;1086.8658708490293 &#43; 2905.5721994684877&#8729;x &#45; 1082.7457238744707&#8729;x<sup>2</sup> &#43; 100.44658880845455&#8729;x<sup>3</sup>"
      ],
      "text/latex": [
       "$-1086.8658708490293 + 2905.5721994684877\\cdot x - 1082.7457238744707\\cdot x^{2} + 100.44658880845455\\cdot x^{3}$"
      ],
      "text/plain": [
       "Polynomial(-1086.8658708490293 + 2905.5721994684877*x - 1082.7457238744707*x^2 + 100.44658880845455*x^3)"
      ]
     },
     "execution_count": 16,
     "metadata": {},
     "output_type": "execute_result"
    }
   ],
   "source": [
    "# aproksymacja sredniokwadratowa wielomianem - tutaj przyklad dla wielomianu 3 stopnia\n",
    "using Polynomials\n",
    "# tworzę punkty do aproksymacji (tutaj jako przykład wyliczone wartości funkcji e^x)\n",
    "xs = 0:10\n",
    "ys = map(myfun, xs)\n",
    "\n",
    "# dopasowuje wielomian trzeciego stopnia do danych\n",
    "fit_poly_3 = fit(xs, ys, 3)"
   ]
  },
  {
   "cell_type": "code",
   "execution_count": 17,
   "metadata": {},
   "outputs": [
    {
     "data": {
      "text/plain": [
       "Polynomial{Float64, :x}"
      ]
     },
     "execution_count": 17,
     "metadata": {},
     "output_type": "execute_result"
    }
   ],
   "source": [
    "typeof(fit_poly_3)"
   ]
  },
  {
   "cell_type": "code",
   "execution_count": 18,
   "metadata": {},
   "outputs": [
    {
     "data": {
      "text/plain": [
       "836.4071935534421"
      ]
     },
     "execution_count": 18,
     "metadata": {},
     "output_type": "execute_result"
    }
   ],
   "source": [
    "# obliczanie wartosci wielomianu \n",
    "fit_poly_3(1)"
   ]
  },
  {
   "cell_type": "code",
   "execution_count": 19,
   "metadata": {},
   "outputs": [
    {
     "ename": "LoadError",
     "evalue": "UndefVarError: Pkg not defined",
     "output_type": "error",
     "traceback": [
      "UndefVarError: Pkg not defined",
      "",
      "Stacktrace:",
      " [1] top-level scope",
      "   @ In[19]:1",
      " [2] eval",
      "   @ .\\boot.jl:373 [inlined]",
      " [3] include_string(mapexpr::typeof(REPL.softscope), mod::Module, code::String, filename::String)",
      "   @ Base .\\loading.jl:1196"
     ]
    }
   ],
   "source": [
    "Pkg.add(\"Plots\")\n",
    "using Plots"
   ]
  },
  {
   "cell_type": "code",
   "execution_count": 20,
   "metadata": {},
   "outputs": [
    {
     "ename": "LoadError",
     "evalue": "UndefVarError: plot not defined",
     "output_type": "error",
     "traceback": [
      "UndefVarError: plot not defined",
      "",
      "Stacktrace:",
      " [1] top-level scope",
      "   @ In[20]:1",
      " [2] eval",
      "   @ .\\boot.jl:373 [inlined]",
      " [3] include_string(mapexpr::typeof(REPL.softscope), mod::Module, code::String, filename::String)",
      "   @ Base .\\loading.jl:1196"
     ]
    }
   ],
   "source": [
    "plot(fit_poly_3,  extrema(xs)..., label=\"aproksymacja wielomianem trzeciego stopnia\")\n",
    "# ! -dodanie do tego samego wykresu punktów wg ktorych aproksymowalismy\n",
    "scatter!(xs, ys, label =\"dane punkty\")"
   ]
  },
  {
   "cell_type": "markdown",
   "metadata": {},
   "source": [
    "### Wielomiany Czebyszewa w pakiecie Polynomials"
   ]
  },
  {
   "cell_type": "code",
   "execution_count": 21,
   "metadata": {},
   "outputs": [
    {
     "data": {
      "text/html": [
       "1⋅T_2(x)"
      ],
      "text/latex": [
       "$1⋅T_2(x)$"
      ],
      "text/plain": [
       "ChebyshevT(1⋅T_2(x))"
      ]
     },
     "execution_count": 21,
     "metadata": {},
     "output_type": "execute_result"
    }
   ],
   "source": [
    "# podajemy tablicę współczynników, gdzie wielomiany Czebyszewa są wielomianami bazowymi np dla T2(x)\n",
    "t2 = ChebyshevT([0, 0, 1])"
   ]
  },
  {
   "cell_type": "code",
   "execution_count": 22,
   "metadata": {},
   "outputs": [
    {
     "ename": "LoadError",
     "evalue": "UndefVarError: plot not defined",
     "output_type": "error",
     "traceback": [
      "UndefVarError: plot not defined",
      "",
      "Stacktrace:",
      " [1] top-level scope",
      "   @ In[22]:1",
      " [2] eval",
      "   @ .\\boot.jl:373 [inlined]",
      " [3] include_string(mapexpr::typeof(REPL.softscope), mod::Module, code::String, filename::String)",
      "   @ Base .\\loading.jl:1196"
     ]
    }
   ],
   "source": [
    "plot(t2)"
   ]
  },
  {
   "cell_type": "code",
   "execution_count": 23,
   "metadata": {},
   "outputs": [
    {
     "data": {
      "text/plain": [
       "2-element Vector{Float64}:\n",
       " -0.7071067811865475\n",
       "  0.7071067811865476"
      ]
     },
     "execution_count": 23,
     "metadata": {},
     "output_type": "execute_result"
    }
   ],
   "source": [
    "#zera wielomianu Czebyszewa T2\n",
    "Polynomials.roots(t2)"
   ]
  },
  {
   "cell_type": "code",
   "execution_count": 24,
   "metadata": {},
   "outputs": [
    {
     "data": {
      "text/html": [
       "&#45;1 &#43; 2&#8729;x<sup>2</sup>"
      ],
      "text/latex": [
       "$-1 + 2\\cdot x^{2}$"
      ],
      "text/plain": [
       "Polynomial(-1 + 2*x^2)"
      ]
     },
     "execution_count": 24,
     "metadata": {},
     "output_type": "execute_result"
    }
   ],
   "source": [
    "# konwersja na wielomian\n",
    "convert(Polynomial, t2)"
   ]
  },
  {
   "cell_type": "code",
   "execution_count": 25,
   "metadata": {},
   "outputs": [
    {
     "data": {
      "text/html": [
       "3⋅T_0(x) + 2⋅T_1(x) + 1⋅T_2(x)"
      ],
      "text/latex": [
       "$3⋅T_0(x) + 2⋅T_1(x) + 1⋅T_2(x)$"
      ],
      "text/plain": [
       "ChebyshevT(3⋅T_0(x) + 2⋅T_1(x) + 1⋅T_2(x))"
      ]
     },
     "execution_count": 25,
     "metadata": {},
     "output_type": "execute_result"
    }
   ],
   "source": [
    "# można tworzyć kombinacje liniowe w bazie wielomianów Czebyszewa\n",
    "kombinacja_T = ChebyshevT([3,2,1])"
   ]
  },
  {
   "cell_type": "code",
   "execution_count": 26,
   "metadata": {},
   "outputs": [
    {
     "data": {
      "text/html": [
       "2 &#43; 2&#8729;x &#43; 2&#8729;x<sup>2</sup>"
      ],
      "text/latex": [
       "$2 + 2\\cdot x + 2\\cdot x^{2}$"
      ],
      "text/plain": [
       "Polynomial(2 + 2*x + 2*x^2)"
      ]
     },
     "execution_count": 26,
     "metadata": {},
     "output_type": "execute_result"
    }
   ],
   "source": [
    "convert(Polynomial, kombinacja_T)"
   ]
  },
  {
   "cell_type": "markdown",
   "metadata": {},
   "source": [
    "Skąd się wzieło polynomials logo :-)\n",
    "https://juliamath.github.io/Polynomials.jl/stable/reference/#Example:-The-Polynomials.jl-logo-1"
   ]
  },
  {
   "cell_type": "markdown",
   "metadata": {},
   "source": [
    "## Aproksymacja jednostajna Taylora i Pade"
   ]
  },
  {
   "cell_type": "code",
   "execution_count": 27,
   "metadata": {},
   "outputs": [],
   "source": [
    "# using Pkg;\n",
    "# Pkg.add(\"TaylorSeries\")"
   ]
  },
  {
   "cell_type": "code",
   "execution_count": 28,
   "metadata": {},
   "outputs": [
    {
     "ename": "LoadError",
     "evalue": "ArgumentError: Package TaylorSeries not found in current path:\n- Run `import Pkg; Pkg.add(\"TaylorSeries\")` to install the TaylorSeries package.\n",
     "output_type": "error",
     "traceback": [
      "ArgumentError: Package TaylorSeries not found in current path:\n- Run `import Pkg; Pkg.add(\"TaylorSeries\")` to install the TaylorSeries package.\n",
      "",
      "Stacktrace:",
      " [1] require(into::Module, mod::Symbol)",
      "   @ Base .\\loading.jl:967",
      " [2] eval",
      "   @ .\\boot.jl:373 [inlined]",
      " [3] include_string(mapexpr::typeof(REPL.softscope), mod::Module, code::String, filename::String)",
      "   @ Base .\\loading.jl:1196"
     ]
    }
   ],
   "source": [
    "using TaylorSeries"
   ]
  },
  {
   "cell_type": "code",
   "execution_count": 29,
   "metadata": {},
   "outputs": [
    {
     "ename": "LoadError",
     "evalue": "UndefVarError: Taylor1 not defined",
     "output_type": "error",
     "traceback": [
      "UndefVarError: Taylor1 not defined",
      "",
      "Stacktrace:",
      " [1] top-level scope",
      "   @ In[29]:2",
      " [2] eval",
      "   @ .\\boot.jl:373 [inlined]",
      " [3] include_string(mapexpr::typeof(REPL.softscope), mod::Module, code::String, filename::String)",
      "   @ Base .\\loading.jl:1196"
     ]
    }
   ],
   "source": [
    "# Definiujemy, ile pierwszych wyrazów szeregu Taylora nas interesuje\n",
    "t = Taylor1(Float64, 5)"
   ]
  },
  {
   "cell_type": "code",
   "execution_count": 30,
   "metadata": {},
   "outputs": [
    {
     "ename": "LoadError",
     "evalue": "UndefVarError: t not defined",
     "output_type": "error",
     "traceback": [
      "UndefVarError: t not defined",
      "",
      "Stacktrace:",
      " [1] top-level scope",
      "   @ In[30]:2",
      " [2] eval",
      "   @ .\\boot.jl:373 [inlined]",
      " [3] include_string(mapexpr::typeof(REPL.softscope), mod::Module, code::String, filename::String)",
      "   @ Base .\\loading.jl:1196"
     ]
    }
   ],
   "source": [
    "#Rozwinięcie Taylora \n",
    "myfun_taylor = myfun(t)"
   ]
  },
  {
   "cell_type": "code",
   "execution_count": 31,
   "metadata": {},
   "outputs": [
    {
     "ename": "LoadError",
     "evalue": "UndefVarError: myfun_taylor not defined",
     "output_type": "error",
     "traceback": [
      "UndefVarError: myfun_taylor not defined",
      "",
      "Stacktrace:",
      " [1] top-level scope",
      "   @ In[31]:2",
      " [2] eval",
      "   @ .\\boot.jl:373 [inlined]",
      " [3] include_string(mapexpr::typeof(REPL.softscope), mod::Module, code::String, filename::String)",
      "   @ Base .\\loading.jl:1196"
     ]
    }
   ],
   "source": [
    "# Julia hint - jak zapytać o pola typu danych\n",
    "fieldnames(typeof(myfun_taylor))"
   ]
  },
  {
   "cell_type": "code",
   "execution_count": 32,
   "metadata": {},
   "outputs": [
    {
     "ename": "LoadError",
     "evalue": "UndefVarError: myfun_taylor not defined",
     "output_type": "error",
     "traceback": [
      "UndefVarError: myfun_taylor not defined",
      "",
      "Stacktrace:",
      " [1] top-level scope",
      "   @ In[32]:2",
      " [2] eval",
      "   @ .\\boot.jl:373 [inlined]",
      " [3] include_string(mapexpr::typeof(REPL.softscope), mod::Module, code::String, filename::String)",
      "   @ Base .\\loading.jl:1196"
     ]
    }
   ],
   "source": [
    "# mogę wyciągnąć ze struktury typu  odpowiednie pole\n",
    "myfun_taylor.coeffs"
   ]
  },
  {
   "cell_type": "code",
   "execution_count": 33,
   "metadata": {},
   "outputs": [
    {
     "ename": "LoadError",
     "evalue": "UndefVarError: myfun_taylor not defined",
     "output_type": "error",
     "traceback": [
      "UndefVarError: myfun_taylor not defined",
      "",
      "Stacktrace:",
      " [1] top-level scope",
      "   @ In[33]:2",
      " [2] eval",
      "   @ .\\boot.jl:373 [inlined]",
      " [3] include_string(mapexpr::typeof(REPL.softscope), mod::Module, code::String, filename::String)",
      "   @ Base .\\loading.jl:1196"
     ]
    }
   ],
   "source": [
    "# Z przybliżenia Taylora tworzę wielomian zrozumiały dla pakietu Polynomials (typ Polynomial)\n",
    "myfun_t_pol = Polynomial(myfun_taylor.coeffs)"
   ]
  },
  {
   "cell_type": "code",
   "execution_count": 34,
   "metadata": {},
   "outputs": [
    {
     "ename": "LoadError",
     "evalue": "UndefVarError: myfun_t_pol not defined",
     "output_type": "error",
     "traceback": [
      "UndefVarError: myfun_t_pol not defined",
      "",
      "Stacktrace:",
      " [1] top-level scope",
      "   @ In[34]:2",
      " [2] eval",
      "   @ .\\boot.jl:373 [inlined]",
      " [3] include_string(mapexpr::typeof(REPL.softscope), mod::Module, code::String, filename::String)",
      "   @ Base .\\loading.jl:1196"
     ]
    }
   ],
   "source": [
    "# mogę zamienić przybliżenie Taylora na aproksymację Pade (np. dla n=2, m=2)\n",
    "myfun_pade = Polynomials.PolyCompat.PadeApproximation.Pade(myfun_t_pol, 2, 2)"
   ]
  },
  {
   "cell_type": "markdown",
   "metadata": {
    "collapsed": true
   },
   "source": [
    "### Zadania\n",
    " \n",
    "1. Uruchomić \n",
    "   - `naive_multiplication(A,B)`, \n",
    "   - `better_multiplication(A,B)` \n",
    "   - mnożenie BLAS w Julii (`A*B`) \n",
    "\n",
    "    dla coraz większych macierzy kwadratowych i zmierzyć czasy. Narysować wykres zależyności czasu od rozmiaru macierzy wraz z słupkami błędów. Wszystkie trzy metody powinny być na jednym wykresie. **(1pkt)**. Do analizy danych można użyć wybranego narzędzia (Julia, R)\n",
    " \n",
    " \n",
    "2. Napisać w języku C:\n",
    "   - naiwną metodę mnożenia macierzy kwadratowych (wersja 1) \n",
    "   - ulepszoną wersję za pomocą zamiany pętli metodę mnożenia macierzy(wersja 2), pamiętając, że w C macierz przechowywana jest wierszami (row major order tzn A11,A12, ..., A1m, A21, A22,...,A2m, ..Anm), inaczej niż w Julii ! \n",
    "   - skorzystać z  możliwości BLAS poziom 3 dostępnego w GSL  (przykład uzycia https://www.gnu.org/software/gsl/doc/html/blas.html#examples )\n",
    "    \n",
    "    Należy porównywać działanie tych trzech algorytmow bez włączonej opcji optymalizacji kompilatora. Przedstawić wyniki na jednym wykresie tak jak w p.1. (osobno niż p.1). **(1 pkt)**\n",
    "    \n",
    "    *(Dla chętnych)* sprawdzić, co się dzieje, jak włączymy optymalizację kompilatora i dodać do wykresu. \n",
    "Do analizy danych można użyć wybranego narzędzia (Julia, R)\n",
    "\n",
    "3.  Użyć aproksymacji odpowiednimi wielomianami, które najlepiej pasują do zależności czasowych każdego z algorytmów. Stopień wielomianu powinien zgadzać się z teoretyczną złożonoscią. Dodać wykresy uzyskanych wielomianów do wcześniejszych wykresów. **(1 pkt)** Do analizy danych można użyć wybranego narzędzia (Julia, R)\n",
    "\n",
    "4. Pokazać zniwelowanie efektu Rungego  poprzez użycie wsparcia dla wielomianów Czebyszewa w pakiecie Polynomials. Wymagany wykres. **(1 pkt)**\n",
    "\n",
    "5. Przybliżenie Pade jest często lepsze niż rozwinięcie w szereg Taylora przy aproksymowaniu funkcji, które posiadają osobliwości. Korzystając ze wsparcia dla aproksymacji Pade w pakiecie Polynomials pokazać dowolny przykład (wraz z wykresem), gdzie takie przybliżenie faktycznie jest lepsze. Można odtworzyć wykres z wykładu albo zainspirować się przykładowym artykułem https://www.hindawi.com/journals/ijcm/2014/587430/ **(1 pkt)**\n"
   ]
  },
  {
   "cell_type": "markdown",
   "metadata": {},
   "source": [
    "# ZAD1"
   ]
  },
  {
   "cell_type": "code",
   "execution_count": 39,
   "metadata": {},
   "outputs": [],
   "source": [
    "matrix_size = []\n",
    "operation_type = []\n",
    "operation_time = []\n",
    "\n",
    "for i in 1:10\n",
    "    for try_id in 1:10\n",
    "        push!(operation_type, \"naive_multiplication\")\n",
    "        \n",
    "        curr_matrix_size = 10 * i\n",
    "        push!(matrix_size, curr_matrix_size)\n",
    "        \n",
    "        A = rand(curr_matrix_size, curr_matrix_size)\n",
    "        B = rand(curr_matrix_size, curr_matrix_size)\n",
    "        push!(operation_time, @elapsed naive_multiplication(A,B))\n",
    "    end\n",
    "end\n",
    "\n",
    "for i in 1:10\n",
    "    for try_id in 1:10\n",
    "        push!(operation_type, \"better_multiplication\")\n",
    "        \n",
    "        curr_matrix_size = 10 * i\n",
    "        push!(matrix_size, curr_matrix_size)\n",
    "        \n",
    "        A = rand(curr_matrix_size, curr_matrix_size)\n",
    "        B = rand(curr_matrix_size, curr_matrix_size)\n",
    "        push!(operation_time, @elapsed better_multiplication(A,B))\n",
    "    end\n",
    "end\n",
    "\n",
    "for i in 1:10\n",
    "    for try_id in 1:10\n",
    "        push!(operation_type, \"BLAS_multiplication\")\n",
    "        \n",
    "        curr_matrix_size = 10 * i\n",
    "        push!(matrix_size, curr_matrix_size)\n",
    "        \n",
    "        A = rand(curr_matrix_size, curr_matrix_size)\n",
    "        B = rand(curr_matrix_size, curr_matrix_size)\n",
    "        push!(operation_time, @elapsed A*B)\n",
    "    end\n",
    "end"
   ]
  },
  {
   "cell_type": "code",
   "execution_count": 41,
   "metadata": {},
   "outputs": [
    {
     "data": {
      "text/html": [
       "<div class=\"data-frame\"><p>30 rows × 4 columns</p><table class=\"data-frame\"><thead><tr><th></th><th>Operation_type</th><th>Matrix_size</th><th>Operation_time_mean</th><th>Operation_time_std</th></tr><tr><th></th><th title=\"Any\">Any</th><th title=\"Any\">Any</th><th title=\"Float64\">Float64</th><th title=\"Float64\">Float64</th></tr></thead><tbody><tr><th>1</th><td>naive_multiplication</td><td>10</td><td>4.32e-6</td><td>1.65382e-6</td></tr><tr><th>2</th><td>naive_multiplication</td><td>20</td><td>3.77e-5</td><td>2.48158e-5</td></tr><tr><th>3</th><td>naive_multiplication</td><td>30</td><td>8.823e-5</td><td>1.46804e-5</td></tr><tr><th>4</th><td>naive_multiplication</td><td>40</td><td>0.00029798</td><td>7.67792e-5</td></tr><tr><th>5</th><td>naive_multiplication</td><td>50</td><td>0.00071037</td><td>5.46387e-5</td></tr><tr><th>6</th><td>naive_multiplication</td><td>60</td><td>0.00122706</td><td>8.54525e-5</td></tr><tr><th>7</th><td>naive_multiplication</td><td>70</td><td>0.00199915</td><td>3.81913e-5</td></tr><tr><th>8</th><td>naive_multiplication</td><td>80</td><td>0.00284278</td><td>0.000446688</td></tr><tr><th>9</th><td>naive_multiplication</td><td>90</td><td>0.00394303</td><td>0.00037029</td></tr><tr><th>10</th><td>naive_multiplication</td><td>100</td><td>0.00628644</td><td>0.000917546</td></tr><tr><th>11</th><td>better_multiplication</td><td>10</td><td>4.61e-6</td><td>1.5103e-6</td></tr><tr><th>12</th><td>better_multiplication</td><td>20</td><td>2.932e-5</td><td>1.8738e-7</td></tr><tr><th>13</th><td>better_multiplication</td><td>30</td><td>0.00010349</td><td>1.49872e-5</td></tr><tr><th>14</th><td>better_multiplication</td><td>40</td><td>0.00026075</td><td>8.85955e-6</td></tr><tr><th>15</th><td>better_multiplication</td><td>50</td><td>0.00046559</td><td>3.61191e-5</td></tr><tr><th>16</th><td>better_multiplication</td><td>60</td><td>0.00077478</td><td>5.27569e-6</td></tr><tr><th>17</th><td>better_multiplication</td><td>70</td><td>0.00123734</td><td>3.23157e-5</td></tr><tr><th>18</th><td>better_multiplication</td><td>80</td><td>0.00212682</td><td>0.000296839</td></tr><tr><th>19</th><td>better_multiplication</td><td>90</td><td>0.00324277</td><td>0.000979388</td></tr><tr><th>20</th><td>better_multiplication</td><td>100</td><td>0.00370288</td><td>4.03514e-5</td></tr><tr><th>21</th><td>BLAS_multiplication</td><td>10</td><td>1.69e-6</td><td>2.92592e-6</td></tr><tr><th>22</th><td>BLAS_multiplication</td><td>20</td><td>2.03e-6</td><td>3.59166e-7</td></tr><tr><th>23</th><td>BLAS_multiplication</td><td>30</td><td>2.67e-5</td><td>4.29521e-5</td></tr><tr><th>24</th><td>BLAS_multiplication</td><td>40</td><td>1.006e-5</td><td>8.38109e-6</td></tr><tr><th>25</th><td>BLAS_multiplication</td><td>50</td><td>1.703e-5</td><td>2.44406e-6</td></tr><tr><th>26</th><td>BLAS_multiplication</td><td>60</td><td>2.852e-5</td><td>9.60333e-6</td></tr><tr><th>27</th><td>BLAS_multiplication</td><td>70</td><td>0.00015431</td><td>8.35928e-5</td></tr><tr><th>28</th><td>BLAS_multiplication</td><td>80</td><td>0.0002079</td><td>9.56786e-5</td></tr><tr><th>29</th><td>BLAS_multiplication</td><td>90</td><td>0.0003597</td><td>0.000335699</td></tr><tr><th>30</th><td>BLAS_multiplication</td><td>100</td><td>0.0002638</td><td>5.40591e-5</td></tr></tbody></table></div>"
      ],
      "text/latex": [
       "\\begin{tabular}{r|cccc}\n",
       "\t& Operation\\_type & Matrix\\_size & Operation\\_time\\_mean & Operation\\_time\\_std\\\\\n",
       "\t\\hline\n",
       "\t& Any & Any & Float64 & Float64\\\\\n",
       "\t\\hline\n",
       "\t1 & naive\\_multiplication & 10 & 4.32e-6 & 1.65382e-6 \\\\\n",
       "\t2 & naive\\_multiplication & 20 & 3.77e-5 & 2.48158e-5 \\\\\n",
       "\t3 & naive\\_multiplication & 30 & 8.823e-5 & 1.46804e-5 \\\\\n",
       "\t4 & naive\\_multiplication & 40 & 0.00029798 & 7.67792e-5 \\\\\n",
       "\t5 & naive\\_multiplication & 50 & 0.00071037 & 5.46387e-5 \\\\\n",
       "\t6 & naive\\_multiplication & 60 & 0.00122706 & 8.54525e-5 \\\\\n",
       "\t7 & naive\\_multiplication & 70 & 0.00199915 & 3.81913e-5 \\\\\n",
       "\t8 & naive\\_multiplication & 80 & 0.00284278 & 0.000446688 \\\\\n",
       "\t9 & naive\\_multiplication & 90 & 0.00394303 & 0.00037029 \\\\\n",
       "\t10 & naive\\_multiplication & 100 & 0.00628644 & 0.000917546 \\\\\n",
       "\t11 & better\\_multiplication & 10 & 4.61e-6 & 1.5103e-6 \\\\\n",
       "\t12 & better\\_multiplication & 20 & 2.932e-5 & 1.8738e-7 \\\\\n",
       "\t13 & better\\_multiplication & 30 & 0.00010349 & 1.49872e-5 \\\\\n",
       "\t14 & better\\_multiplication & 40 & 0.00026075 & 8.85955e-6 \\\\\n",
       "\t15 & better\\_multiplication & 50 & 0.00046559 & 3.61191e-5 \\\\\n",
       "\t16 & better\\_multiplication & 60 & 0.00077478 & 5.27569e-6 \\\\\n",
       "\t17 & better\\_multiplication & 70 & 0.00123734 & 3.23157e-5 \\\\\n",
       "\t18 & better\\_multiplication & 80 & 0.00212682 & 0.000296839 \\\\\n",
       "\t19 & better\\_multiplication & 90 & 0.00324277 & 0.000979388 \\\\\n",
       "\t20 & better\\_multiplication & 100 & 0.00370288 & 4.03514e-5 \\\\\n",
       "\t21 & BLAS\\_multiplication & 10 & 1.69e-6 & 2.92592e-6 \\\\\n",
       "\t22 & BLAS\\_multiplication & 20 & 2.03e-6 & 3.59166e-7 \\\\\n",
       "\t23 & BLAS\\_multiplication & 30 & 2.67e-5 & 4.29521e-5 \\\\\n",
       "\t24 & BLAS\\_multiplication & 40 & 1.006e-5 & 8.38109e-6 \\\\\n",
       "\t25 & BLAS\\_multiplication & 50 & 1.703e-5 & 2.44406e-6 \\\\\n",
       "\t26 & BLAS\\_multiplication & 60 & 2.852e-5 & 9.60333e-6 \\\\\n",
       "\t27 & BLAS\\_multiplication & 70 & 0.00015431 & 8.35928e-5 \\\\\n",
       "\t28 & BLAS\\_multiplication & 80 & 0.0002079 & 9.56786e-5 \\\\\n",
       "\t29 & BLAS\\_multiplication & 90 & 0.0003597 & 0.000335699 \\\\\n",
       "\t30 & BLAS\\_multiplication & 100 & 0.0002638 & 5.40591e-5 \\\\\n",
       "\\end{tabular}\n"
      ],
      "text/plain": [
       "\u001b[1m30×4 DataFrame\u001b[0m\n",
       "\u001b[1m Row \u001b[0m│\u001b[1m Operation_type        \u001b[0m\u001b[1m Matrix_size \u001b[0m\u001b[1m Operation_time_mean \u001b[0m\u001b[1m Operation_time\u001b[0m ⋯\n",
       "\u001b[1m     \u001b[0m│\u001b[90m Any                   \u001b[0m\u001b[90m Any         \u001b[0m\u001b[90m Float64             \u001b[0m\u001b[90m Float64       \u001b[0m ⋯\n",
       "─────┼──────────────────────────────────────────────────────────────────────────\n",
       "   1 │ naive_multiplication   10                    4.32e-6            1.65382 ⋯\n",
       "   2 │ naive_multiplication   20                    3.77e-5            2.48158\n",
       "   3 │ naive_multiplication   30                    8.823e-5           1.46804\n",
       "   4 │ naive_multiplication   40                    0.00029798         7.67792\n",
       "   5 │ naive_multiplication   50                    0.00071037         5.46387 ⋯\n",
       "   6 │ naive_multiplication   60                    0.00122706         8.54525\n",
       "   7 │ naive_multiplication   70                    0.00199915         3.81913\n",
       "   8 │ naive_multiplication   80                    0.00284278         0.00044\n",
       "   9 │ naive_multiplication   90                    0.00394303         0.00037 ⋯\n",
       "  10 │ naive_multiplication   100                   0.00628644         0.00091\n",
       "  11 │ better_multiplication  10                    4.61e-6            1.5103e\n",
       "  ⋮  │           ⋮                 ⋮                ⋮                   ⋮      ⋱\n",
       "  21 │ BLAS_multiplication    10                    1.69e-6            2.92592\n",
       "  22 │ BLAS_multiplication    20                    2.03e-6            3.59166 ⋯\n",
       "  23 │ BLAS_multiplication    30                    2.67e-5            4.29521\n",
       "  24 │ BLAS_multiplication    40                    1.006e-5           8.38109\n",
       "  25 │ BLAS_multiplication    50                    1.703e-5           2.44406\n",
       "  26 │ BLAS_multiplication    60                    2.852e-5           9.60333 ⋯\n",
       "  27 │ BLAS_multiplication    70                    0.00015431         8.35928\n",
       "  28 │ BLAS_multiplication    80                    0.0002079          9.56786\n",
       "  29 │ BLAS_multiplication    90                    0.0003597          0.00033\n",
       "  30 │ BLAS_multiplication    100                   0.0002638          5.40591 ⋯\n",
       "\u001b[36m                                                     1 column and 9 rows omitted\u001b[0m"
      ]
     },
     "execution_count": 41,
     "metadata": {},
     "output_type": "execute_result"
    }
   ],
   "source": [
    "using DataFrames\n",
    "using Statistics\n",
    "\n",
    "input_data_frame = DataFrame(Matrix_size = matrix_size,\n",
    "    Operation_type = operation_type, Operation_time = operation_time)\n",
    "df_grouped=groupby(input_data_frame, [:Operation_type,:Matrix_size])\n",
    "df_combined = combine(df_grouped, \"Operation_time\" => mean, \"Operation_time\" => std)\n"
   ]
  },
  {
   "cell_type": "code",
   "execution_count": 42,
   "metadata": {},
   "outputs": [
    {
     "data": {
      "image/svg+xml": [
       "<?xml version=\"1.0\" encoding=\"utf-8\"?>\n",
       "<svg xmlns=\"http://www.w3.org/2000/svg\" xmlns:xlink=\"http://www.w3.org/1999/xlink\" width=\"600\" height=\"400\" viewBox=\"0 0 2400 1600\">\n",
       "<defs>\n",
       "  <clipPath id=\"clip910\">\n",
       "    <rect x=\"0\" y=\"0\" width=\"2400\" height=\"1600\"/>\n",
       "  </clipPath>\n",
       "</defs>\n",
       "<path clip-path=\"url(#clip910)\" d=\"\n",
       "M0 1600 L2400 1600 L2400 0 L0 0  Z\n",
       "  \" fill=\"#ffffff\" fill-rule=\"evenodd\" fill-opacity=\"1\"/>\n",
       "<defs>\n",
       "  <clipPath id=\"clip911\">\n",
       "    <rect x=\"480\" y=\"0\" width=\"1681\" height=\"1600\"/>\n",
       "  </clipPath>\n",
       "</defs>\n",
       "<path clip-path=\"url(#clip910)\" d=\"\n",
       "M280.19 1423.18 L2352.76 1423.18 L2352.76 47.2441 L280.19 47.2441  Z\n",
       "  \" fill=\"#ffffff\" fill-rule=\"evenodd\" fill-opacity=\"1\"/>\n",
       "<defs>\n",
       "  <clipPath id=\"clip912\">\n",
       "    <rect x=\"280\" y=\"47\" width=\"2074\" height=\"1377\"/>\n",
       "  </clipPath>\n",
       "</defs>\n",
       "<polyline clip-path=\"url(#clip912)\" style=\"stroke:#000000; stroke-linecap:butt; stroke-linejoin:round; stroke-width:2; stroke-opacity:0.1; fill:none\" points=\"\n",
       "  556.098,1423.18 556.098,47.2441 \n",
       "  \"/>\n",
       "<polyline clip-path=\"url(#clip912)\" style=\"stroke:#000000; stroke-linecap:butt; stroke-linejoin:round; stroke-width:2; stroke-opacity:0.1; fill:none\" points=\"\n",
       "  990.598,1423.18 990.598,47.2441 \n",
       "  \"/>\n",
       "<polyline clip-path=\"url(#clip912)\" style=\"stroke:#000000; stroke-linecap:butt; stroke-linejoin:round; stroke-width:2; stroke-opacity:0.1; fill:none\" points=\"\n",
       "  1425.1,1423.18 1425.1,47.2441 \n",
       "  \"/>\n",
       "<polyline clip-path=\"url(#clip912)\" style=\"stroke:#000000; stroke-linecap:butt; stroke-linejoin:round; stroke-width:2; stroke-opacity:0.1; fill:none\" points=\"\n",
       "  1859.6,1423.18 1859.6,47.2441 \n",
       "  \"/>\n",
       "<polyline clip-path=\"url(#clip912)\" style=\"stroke:#000000; stroke-linecap:butt; stroke-linejoin:round; stroke-width:2; stroke-opacity:0.1; fill:none\" points=\"\n",
       "  2294.1,1423.18 2294.1,47.2441 \n",
       "  \"/>\n",
       "<polyline clip-path=\"url(#clip910)\" style=\"stroke:#000000; stroke-linecap:butt; stroke-linejoin:round; stroke-width:4; stroke-opacity:1; fill:none\" points=\"\n",
       "  280.19,1423.18 2352.76,1423.18 \n",
       "  \"/>\n",
       "<polyline clip-path=\"url(#clip910)\" style=\"stroke:#000000; stroke-linecap:butt; stroke-linejoin:round; stroke-width:4; stroke-opacity:1; fill:none\" points=\"\n",
       "  556.098,1423.18 556.098,1404.28 \n",
       "  \"/>\n",
       "<polyline clip-path=\"url(#clip910)\" style=\"stroke:#000000; stroke-linecap:butt; stroke-linejoin:round; stroke-width:4; stroke-opacity:1; fill:none\" points=\"\n",
       "  990.598,1423.18 990.598,1404.28 \n",
       "  \"/>\n",
       "<polyline clip-path=\"url(#clip910)\" style=\"stroke:#000000; stroke-linecap:butt; stroke-linejoin:round; stroke-width:4; stroke-opacity:1; fill:none\" points=\"\n",
       "  1425.1,1423.18 1425.1,1404.28 \n",
       "  \"/>\n",
       "<polyline clip-path=\"url(#clip910)\" style=\"stroke:#000000; stroke-linecap:butt; stroke-linejoin:round; stroke-width:4; stroke-opacity:1; fill:none\" points=\"\n",
       "  1859.6,1423.18 1859.6,1404.28 \n",
       "  \"/>\n",
       "<polyline clip-path=\"url(#clip910)\" style=\"stroke:#000000; stroke-linecap:butt; stroke-linejoin:round; stroke-width:4; stroke-opacity:1; fill:none\" points=\"\n",
       "  2294.1,1423.18 2294.1,1404.28 \n",
       "  \"/>\n",
       "<path clip-path=\"url(#clip910)\" d=\"M534.871 1481.64 L551.19 1481.64 L551.19 1485.58 L529.246 1485.58 L529.246 1481.64 Q531.908 1478.89 536.491 1474.26 Q541.098 1469.61 542.278 1468.27 Q544.524 1465.74 545.403 1464.01 Q546.306 1462.25 546.306 1460.56 Q546.306 1457.8 544.362 1456.07 Q542.44 1454.33 539.338 1454.33 Q537.139 1454.33 534.686 1455.09 Q532.255 1455.86 529.477 1457.41 L529.477 1452.69 Q532.301 1451.55 534.755 1450.97 Q537.209 1450.39 539.246 1450.39 Q544.616 1450.39 547.811 1453.08 Q551.005 1455.77 551.005 1460.26 Q551.005 1462.39 550.195 1464.31 Q549.408 1466.2 547.301 1468.8 Q546.723 1469.47 543.621 1472.69 Q540.519 1475.88 534.871 1481.64 Z\" fill=\"#000000\" fill-rule=\"evenodd\" fill-opacity=\"1\" /><path clip-path=\"url(#clip910)\" d=\"M571.005 1454.1 Q567.394 1454.1 565.565 1457.66 Q563.76 1461.2 563.76 1468.33 Q563.76 1475.44 565.565 1479.01 Q567.394 1482.55 571.005 1482.55 Q574.639 1482.55 576.445 1479.01 Q578.273 1475.44 578.273 1468.33 Q578.273 1461.2 576.445 1457.66 Q574.639 1454.1 571.005 1454.1 M571.005 1450.39 Q576.815 1450.39 579.871 1455 Q582.949 1459.58 582.949 1468.33 Q582.949 1477.06 579.871 1481.67 Q576.815 1486.25 571.005 1486.25 Q565.195 1486.25 562.116 1481.67 Q559.061 1477.06 559.061 1468.33 Q559.061 1459.58 562.116 1455 Q565.195 1450.39 571.005 1450.39 Z\" fill=\"#000000\" fill-rule=\"evenodd\" fill-opacity=\"1\" /><path clip-path=\"url(#clip910)\" d=\"M978.769 1455.09 L966.964 1473.54 L978.769 1473.54 L978.769 1455.09 M977.542 1451.02 L983.422 1451.02 L983.422 1473.54 L988.352 1473.54 L988.352 1477.43 L983.422 1477.43 L983.422 1485.58 L978.769 1485.58 L978.769 1477.43 L963.167 1477.43 L963.167 1472.92 L977.542 1451.02 Z\" fill=\"#000000\" fill-rule=\"evenodd\" fill-opacity=\"1\" /><path clip-path=\"url(#clip910)\" d=\"M1006.08 1454.1 Q1002.47 1454.1 1000.64 1457.66 Q998.839 1461.2 998.839 1468.33 Q998.839 1475.44 1000.64 1479.01 Q1002.47 1482.55 1006.08 1482.55 Q1009.72 1482.55 1011.52 1479.01 Q1013.35 1475.44 1013.35 1468.33 Q1013.35 1461.2 1011.52 1457.66 Q1009.72 1454.1 1006.08 1454.1 M1006.08 1450.39 Q1011.89 1450.39 1014.95 1455 Q1018.03 1459.58 1018.03 1468.33 Q1018.03 1477.06 1014.95 1481.67 Q1011.89 1486.25 1006.08 1486.25 Q1000.27 1486.25 997.195 1481.67 Q994.139 1477.06 994.139 1468.33 Q994.139 1459.58 997.195 1455 Q1000.27 1450.39 1006.08 1450.39 Z\" fill=\"#000000\" fill-rule=\"evenodd\" fill-opacity=\"1\" /><path clip-path=\"url(#clip910)\" d=\"M1410.5 1466.44 Q1407.36 1466.44 1405.5 1468.59 Q1403.67 1470.74 1403.67 1474.49 Q1403.67 1478.22 1405.5 1480.39 Q1407.36 1482.55 1410.5 1482.55 Q1413.65 1482.55 1415.48 1480.39 Q1417.33 1478.22 1417.33 1474.49 Q1417.33 1470.74 1415.48 1468.59 Q1413.65 1466.44 1410.5 1466.44 M1419.79 1451.78 L1419.79 1456.04 Q1418.03 1455.21 1416.22 1454.77 Q1414.44 1454.33 1412.68 1454.33 Q1408.05 1454.33 1405.6 1457.45 Q1403.17 1460.58 1402.82 1466.9 Q1404.18 1464.89 1406.24 1463.82 Q1408.3 1462.73 1410.78 1462.73 Q1415.99 1462.73 1419 1465.9 Q1422.03 1469.05 1422.03 1474.49 Q1422.03 1479.82 1418.88 1483.03 Q1415.73 1486.25 1410.5 1486.25 Q1404.51 1486.25 1401.34 1481.67 Q1398.17 1477.06 1398.17 1468.33 Q1398.17 1460.14 1402.05 1455.28 Q1405.94 1450.39 1412.49 1450.39 Q1414.25 1450.39 1416.04 1450.74 Q1417.84 1451.09 1419.79 1451.78 Z\" fill=\"#000000\" fill-rule=\"evenodd\" fill-opacity=\"1\" /><path clip-path=\"url(#clip910)\" d=\"M1440.09 1454.1 Q1436.48 1454.1 1434.65 1457.66 Q1432.84 1461.2 1432.84 1468.33 Q1432.84 1475.44 1434.65 1479.01 Q1436.48 1482.55 1440.09 1482.55 Q1443.72 1482.55 1445.53 1479.01 Q1447.35 1475.44 1447.35 1468.33 Q1447.35 1461.2 1445.53 1457.66 Q1443.72 1454.1 1440.09 1454.1 M1440.09 1450.39 Q1445.9 1450.39 1448.95 1455 Q1452.03 1459.58 1452.03 1468.33 Q1452.03 1477.06 1448.95 1481.67 Q1445.9 1486.25 1440.09 1486.25 Q1434.28 1486.25 1431.2 1481.67 Q1428.14 1477.06 1428.14 1468.33 Q1428.14 1459.58 1431.2 1455 Q1434.28 1450.39 1440.09 1450.39 Z\" fill=\"#000000\" fill-rule=\"evenodd\" fill-opacity=\"1\" /><path clip-path=\"url(#clip910)\" d=\"M1844.47 1469.17 Q1841.14 1469.17 1839.22 1470.95 Q1837.32 1472.73 1837.32 1475.86 Q1837.32 1478.98 1839.22 1480.77 Q1841.14 1482.55 1844.47 1482.55 Q1847.8 1482.55 1849.73 1480.77 Q1851.65 1478.96 1851.65 1475.86 Q1851.65 1472.73 1849.73 1470.95 Q1847.83 1469.17 1844.47 1469.17 M1839.8 1467.18 Q1836.79 1466.44 1835.1 1464.38 Q1833.43 1462.32 1833.43 1459.35 Q1833.43 1455.21 1836.37 1452.8 Q1839.33 1450.39 1844.47 1450.39 Q1849.63 1450.39 1852.57 1452.8 Q1855.51 1455.21 1855.51 1459.35 Q1855.51 1462.32 1853.82 1464.38 Q1852.16 1466.44 1849.17 1467.18 Q1852.55 1467.96 1854.42 1470.26 Q1856.32 1472.55 1856.32 1475.86 Q1856.32 1480.88 1853.24 1483.57 Q1850.19 1486.25 1844.47 1486.25 Q1838.75 1486.25 1835.67 1483.57 Q1832.62 1480.88 1832.62 1475.86 Q1832.62 1472.55 1834.52 1470.26 Q1836.42 1467.96 1839.8 1467.18 M1838.08 1459.79 Q1838.08 1462.48 1839.75 1463.98 Q1841.44 1465.49 1844.47 1465.49 Q1847.48 1465.49 1849.17 1463.98 Q1850.88 1462.48 1850.88 1459.79 Q1850.88 1457.11 1849.17 1455.6 Q1847.48 1454.1 1844.47 1454.1 Q1841.44 1454.1 1839.75 1455.6 Q1838.08 1457.11 1838.08 1459.79 Z\" fill=\"#000000\" fill-rule=\"evenodd\" fill-opacity=\"1\" /><path clip-path=\"url(#clip910)\" d=\"M1874.63 1454.1 Q1871.02 1454.1 1869.19 1457.66 Q1867.39 1461.2 1867.39 1468.33 Q1867.39 1475.44 1869.19 1479.01 Q1871.02 1482.55 1874.63 1482.55 Q1878.27 1482.55 1880.07 1479.01 Q1881.9 1475.44 1881.9 1468.33 Q1881.9 1461.2 1880.07 1457.66 Q1878.27 1454.1 1874.63 1454.1 M1874.63 1450.39 Q1880.44 1450.39 1883.5 1455 Q1886.58 1459.58 1886.58 1468.33 Q1886.58 1477.06 1883.5 1481.67 Q1880.44 1486.25 1874.63 1486.25 Q1868.82 1486.25 1865.74 1481.67 Q1862.69 1477.06 1862.69 1468.33 Q1862.69 1459.58 1865.74 1455 Q1868.82 1450.39 1874.63 1450.39 Z\" fill=\"#000000\" fill-rule=\"evenodd\" fill-opacity=\"1\" /><path clip-path=\"url(#clip910)\" d=\"M2253.71 1481.64 L2261.34 1481.64 L2261.34 1455.28 L2253.03 1456.95 L2253.03 1452.69 L2261.3 1451.02 L2265.97 1451.02 L2265.97 1481.64 L2273.61 1481.64 L2273.61 1485.58 L2253.71 1485.58 L2253.71 1481.64 Z\" fill=\"#000000\" fill-rule=\"evenodd\" fill-opacity=\"1\" /><path clip-path=\"url(#clip910)\" d=\"M2293.06 1454.1 Q2289.45 1454.1 2287.62 1457.66 Q2285.81 1461.2 2285.81 1468.33 Q2285.81 1475.44 2287.62 1479.01 Q2289.45 1482.55 2293.06 1482.55 Q2296.69 1482.55 2298.5 1479.01 Q2300.33 1475.44 2300.33 1468.33 Q2300.33 1461.2 2298.5 1457.66 Q2296.69 1454.1 2293.06 1454.1 M2293.06 1450.39 Q2298.87 1450.39 2301.92 1455 Q2305 1459.58 2305 1468.33 Q2305 1477.06 2301.92 1481.67 Q2298.87 1486.25 2293.06 1486.25 Q2287.25 1486.25 2284.17 1481.67 Q2281.11 1477.06 2281.11 1468.33 Q2281.11 1459.58 2284.17 1455 Q2287.25 1450.39 2293.06 1450.39 Z\" fill=\"#000000\" fill-rule=\"evenodd\" fill-opacity=\"1\" /><path clip-path=\"url(#clip910)\" d=\"M2323.22 1454.1 Q2319.61 1454.1 2317.78 1457.66 Q2315.97 1461.2 2315.97 1468.33 Q2315.97 1475.44 2317.78 1479.01 Q2319.61 1482.55 2323.22 1482.55 Q2326.85 1482.55 2328.66 1479.01 Q2330.49 1475.44 2330.49 1468.33 Q2330.49 1461.2 2328.66 1457.66 Q2326.85 1454.1 2323.22 1454.1 M2323.22 1450.39 Q2329.03 1450.39 2332.08 1455 Q2335.16 1459.58 2335.16 1468.33 Q2335.16 1477.06 2332.08 1481.67 Q2329.03 1486.25 2323.22 1486.25 Q2317.41 1486.25 2314.33 1481.67 Q2311.27 1477.06 2311.27 1468.33 Q2311.27 1459.58 2314.33 1455 Q2317.41 1450.39 2323.22 1450.39 Z\" fill=\"#000000\" fill-rule=\"evenodd\" fill-opacity=\"1\" /><path clip-path=\"url(#clip910)\" d=\"M1145.24 1520.52 L1154.82 1520.52 L1166.94 1552.86 L1179.13 1520.52 L1188.71 1520.52 L1188.71 1568.04 L1182.44 1568.04 L1182.44 1526.32 L1170.19 1558.91 L1163.73 1558.91 L1151.47 1526.32 L1151.47 1568.04 L1145.24 1568.04 L1145.24 1520.52 Z\" fill=\"#000000\" fill-rule=\"evenodd\" fill-opacity=\"1\" /><path clip-path=\"url(#clip910)\" d=\"M1217.42 1550.12 Q1210.32 1550.12 1207.59 1551.75 Q1204.85 1553.37 1204.85 1557.29 Q1204.85 1560.4 1206.89 1562.25 Q1208.96 1564.07 1212.49 1564.07 Q1217.36 1564.07 1220.29 1560.63 Q1223.25 1557.16 1223.25 1551.43 L1223.25 1550.12 L1217.42 1550.12 M1229.1 1547.71 L1229.1 1568.04 L1223.25 1568.04 L1223.25 1562.63 Q1221.24 1565.88 1218.25 1567.44 Q1215.26 1568.97 1210.93 1568.97 Q1205.46 1568.97 1202.21 1565.91 Q1198.99 1562.82 1198.99 1557.67 Q1198.99 1551.65 1203 1548.6 Q1207.05 1545.54 1215.04 1545.54 L1223.25 1545.54 L1223.25 1544.97 Q1223.25 1540.93 1220.57 1538.73 Q1217.93 1536.5 1213.13 1536.5 Q1210.07 1536.5 1207.17 1537.23 Q1204.28 1537.97 1201.6 1539.43 L1201.6 1534.02 Q1204.82 1532.78 1207.84 1532.17 Q1210.87 1531.54 1213.73 1531.54 Q1221.46 1531.54 1225.28 1535.55 Q1229.1 1539.56 1229.1 1547.71 Z\" fill=\"#000000\" fill-rule=\"evenodd\" fill-opacity=\"1\" /><path clip-path=\"url(#clip910)\" d=\"M1246.96 1522.27 L1246.96 1532.4 L1259.02 1532.4 L1259.02 1536.95 L1246.96 1536.95 L1246.96 1556.3 Q1246.96 1560.66 1248.14 1561.9 Q1249.35 1563.14 1253.01 1563.14 L1259.02 1563.14 L1259.02 1568.04 L1253.01 1568.04 Q1246.23 1568.04 1243.65 1565.53 Q1241.07 1562.98 1241.07 1556.3 L1241.07 1536.95 L1236.77 1536.95 L1236.77 1532.4 L1241.07 1532.4 L1241.07 1522.27 L1246.96 1522.27 Z\" fill=\"#000000\" fill-rule=\"evenodd\" fill-opacity=\"1\" /><path clip-path=\"url(#clip910)\" d=\"M1287.38 1537.87 Q1286.39 1537.3 1285.22 1537.04 Q1284.07 1536.76 1282.67 1536.76 Q1277.71 1536.76 1275.03 1540 Q1272.39 1543.22 1272.39 1549.27 L1272.39 1568.04 L1266.5 1568.04 L1266.5 1532.4 L1272.39 1532.4 L1272.39 1537.93 Q1274.24 1534.69 1277.2 1533.13 Q1280.16 1531.54 1284.39 1531.54 Q1284.99 1531.54 1285.73 1531.63 Q1286.46 1531.7 1287.35 1531.85 L1287.38 1537.87 Z\" fill=\"#000000\" fill-rule=\"evenodd\" fill-opacity=\"1\" /><path clip-path=\"url(#clip910)\" d=\"M1293.52 1532.4 L1299.38 1532.4 L1299.38 1568.04 L1293.52 1568.04 L1293.52 1532.4 M1293.52 1518.52 L1299.38 1518.52 L1299.38 1525.93 L1293.52 1525.93 L1293.52 1518.52 Z\" fill=\"#000000\" fill-rule=\"evenodd\" fill-opacity=\"1\" /><path clip-path=\"url(#clip910)\" d=\"M1341.27 1532.4 L1328.38 1549.74 L1341.94 1568.04 L1335.03 1568.04 L1324.65 1554.04 L1314.28 1568.04 L1307.37 1568.04 L1321.22 1549.39 L1308.55 1532.4 L1315.45 1532.4 L1324.91 1545.1 L1334.36 1532.4 L1341.27 1532.4 Z\" fill=\"#000000\" fill-rule=\"evenodd\" fill-opacity=\"1\" /><path clip-path=\"url(#clip910)\" d=\"M1393.66 1533.45 L1393.66 1538.98 Q1391.17 1537.71 1388.5 1537.07 Q1385.83 1536.44 1382.96 1536.44 Q1378.6 1536.44 1376.41 1537.77 Q1374.24 1539.11 1374.24 1541.79 Q1374.24 1543.82 1375.8 1545 Q1377.36 1546.15 1382.07 1547.2 L1384.08 1547.64 Q1390.32 1548.98 1392.93 1551.43 Q1395.57 1553.85 1395.57 1558.21 Q1395.57 1563.17 1391.62 1566.07 Q1387.71 1568.97 1380.83 1568.97 Q1377.97 1568.97 1374.85 1568.39 Q1371.76 1567.85 1368.32 1566.74 L1368.32 1560.69 Q1371.57 1562.38 1374.72 1563.24 Q1377.87 1564.07 1380.96 1564.07 Q1385.1 1564.07 1387.32 1562.66 Q1389.55 1561.23 1389.55 1558.65 Q1389.55 1556.27 1387.93 1554.99 Q1386.34 1553.72 1380.89 1552.54 L1378.86 1552.07 Q1373.41 1550.92 1371 1548.56 Q1368.58 1546.18 1368.58 1542.04 Q1368.58 1537.01 1372.14 1534.27 Q1375.71 1531.54 1382.26 1531.54 Q1385.51 1531.54 1388.37 1532.01 Q1391.24 1532.49 1393.66 1533.45 Z\" fill=\"#000000\" fill-rule=\"evenodd\" fill-opacity=\"1\" /><path clip-path=\"url(#clip910)\" d=\"M1404.89 1532.4 L1410.75 1532.4 L1410.75 1568.04 L1404.89 1568.04 L1404.89 1532.4 M1404.89 1518.52 L1410.75 1518.52 L1410.75 1525.93 L1404.89 1525.93 L1404.89 1518.52 Z\" fill=\"#000000\" fill-rule=\"evenodd\" fill-opacity=\"1\" /><path clip-path=\"url(#clip910)\" d=\"M1420.46 1532.4 L1448.27 1532.4 L1448.27 1537.74 L1426.25 1563.37 L1448.27 1563.37 L1448.27 1568.04 L1419.66 1568.04 L1419.66 1562.7 L1441.69 1537.07 L1420.46 1537.07 L1420.46 1532.4 Z\" fill=\"#000000\" fill-rule=\"evenodd\" fill-opacity=\"1\" /><path clip-path=\"url(#clip910)\" d=\"M1487.71 1548.76 L1487.71 1551.62 L1460.78 1551.62 Q1461.17 1557.67 1464.41 1560.85 Q1467.69 1564 1473.51 1564 Q1476.89 1564 1480.04 1563.17 Q1483.22 1562.35 1486.34 1560.69 L1486.34 1566.23 Q1483.19 1567.57 1479.88 1568.27 Q1476.57 1568.97 1473.16 1568.97 Q1464.63 1568.97 1459.64 1564 Q1454.67 1559.04 1454.67 1550.57 Q1454.67 1541.82 1459.38 1536.69 Q1464.13 1531.54 1472.15 1531.54 Q1479.34 1531.54 1483.51 1536.18 Q1487.71 1540.8 1487.71 1548.76 M1481.85 1547.04 Q1481.79 1542.23 1479.15 1539.37 Q1476.54 1536.5 1472.21 1536.5 Q1467.31 1536.5 1464.35 1539.27 Q1461.42 1542.04 1460.97 1547.07 L1481.85 1547.04 Z\" fill=\"#000000\" fill-rule=\"evenodd\" fill-opacity=\"1\" /><polyline clip-path=\"url(#clip912)\" style=\"stroke:#000000; stroke-linecap:butt; stroke-linejoin:round; stroke-width:2; stroke-opacity:0.1; fill:none\" points=\"\n",
       "  280.19,1381.32 2352.76,1381.32 \n",
       "  \"/>\n",
       "<polyline clip-path=\"url(#clip912)\" style=\"stroke:#000000; stroke-linecap:butt; stroke-linejoin:round; stroke-width:2; stroke-opacity:0.1; fill:none\" points=\"\n",
       "  280.19,1021.76 2352.76,1021.76 \n",
       "  \"/>\n",
       "<polyline clip-path=\"url(#clip912)\" style=\"stroke:#000000; stroke-linecap:butt; stroke-linejoin:round; stroke-width:2; stroke-opacity:0.1; fill:none\" points=\"\n",
       "  280.19,662.197 2352.76,662.197 \n",
       "  \"/>\n",
       "<polyline clip-path=\"url(#clip912)\" style=\"stroke:#000000; stroke-linecap:butt; stroke-linejoin:round; stroke-width:2; stroke-opacity:0.1; fill:none\" points=\"\n",
       "  280.19,302.638 2352.76,302.638 \n",
       "  \"/>\n",
       "<polyline clip-path=\"url(#clip910)\" style=\"stroke:#000000; stroke-linecap:butt; stroke-linejoin:round; stroke-width:4; stroke-opacity:1; fill:none\" points=\"\n",
       "  280.19,1423.18 280.19,47.2441 \n",
       "  \"/>\n",
       "<polyline clip-path=\"url(#clip910)\" style=\"stroke:#000000; stroke-linecap:butt; stroke-linejoin:round; stroke-width:4; stroke-opacity:1; fill:none\" points=\"\n",
       "  280.19,1381.32 299.088,1381.32 \n",
       "  \"/>\n",
       "<polyline clip-path=\"url(#clip910)\" style=\"stroke:#000000; stroke-linecap:butt; stroke-linejoin:round; stroke-width:4; stroke-opacity:1; fill:none\" points=\"\n",
       "  280.19,1021.76 299.088,1021.76 \n",
       "  \"/>\n",
       "<polyline clip-path=\"url(#clip910)\" style=\"stroke:#000000; stroke-linecap:butt; stroke-linejoin:round; stroke-width:4; stroke-opacity:1; fill:none\" points=\"\n",
       "  280.19,662.197 299.088,662.197 \n",
       "  \"/>\n",
       "<polyline clip-path=\"url(#clip910)\" style=\"stroke:#000000; stroke-linecap:butt; stroke-linejoin:round; stroke-width:4; stroke-opacity:1; fill:none\" points=\"\n",
       "  280.19,302.638 299.088,302.638 \n",
       "  \"/>\n",
       "<path clip-path=\"url(#clip910)\" d=\"M126.691 1367.12 Q123.08 1367.12 121.251 1370.68 Q119.445 1374.22 119.445 1381.35 Q119.445 1388.46 121.251 1392.02 Q123.08 1395.56 126.691 1395.56 Q130.325 1395.56 132.13 1392.02 Q133.959 1388.46 133.959 1381.35 Q133.959 1374.22 132.13 1370.68 Q130.325 1367.12 126.691 1367.12 M126.691 1363.41 Q132.501 1363.41 135.556 1368.02 Q138.635 1372.6 138.635 1381.35 Q138.635 1390.08 135.556 1394.68 Q132.501 1399.27 126.691 1399.27 Q120.88 1399.27 117.802 1394.68 Q114.746 1390.08 114.746 1381.35 Q114.746 1372.6 117.802 1368.02 Q120.88 1363.41 126.691 1363.41 Z\" fill=\"#000000\" fill-rule=\"evenodd\" fill-opacity=\"1\" /><path clip-path=\"url(#clip910)\" d=\"M146.853 1392.72 L151.737 1392.72 L151.737 1398.6 L146.853 1398.6 L146.853 1392.72 Z\" fill=\"#000000\" fill-rule=\"evenodd\" fill-opacity=\"1\" /><path clip-path=\"url(#clip910)\" d=\"M171.922 1367.12 Q168.311 1367.12 166.482 1370.68 Q164.677 1374.22 164.677 1381.35 Q164.677 1388.46 166.482 1392.02 Q168.311 1395.56 171.922 1395.56 Q175.556 1395.56 177.362 1392.02 Q179.19 1388.46 179.19 1381.35 Q179.19 1374.22 177.362 1370.68 Q175.556 1367.12 171.922 1367.12 M171.922 1363.41 Q177.732 1363.41 180.788 1368.02 Q183.866 1372.6 183.866 1381.35 Q183.866 1390.08 180.788 1394.68 Q177.732 1399.27 171.922 1399.27 Q166.112 1399.27 163.033 1394.68 Q159.978 1390.08 159.978 1381.35 Q159.978 1372.6 163.033 1368.02 Q166.112 1363.41 171.922 1363.41 Z\" fill=\"#000000\" fill-rule=\"evenodd\" fill-opacity=\"1\" /><path clip-path=\"url(#clip910)\" d=\"M202.084 1367.12 Q198.473 1367.12 196.644 1370.68 Q194.838 1374.22 194.838 1381.35 Q194.838 1388.46 196.644 1392.02 Q198.473 1395.56 202.084 1395.56 Q205.718 1395.56 207.524 1392.02 Q209.352 1388.46 209.352 1381.35 Q209.352 1374.22 207.524 1370.68 Q205.718 1367.12 202.084 1367.12 M202.084 1363.41 Q207.894 1363.41 210.949 1368.02 Q214.028 1372.6 214.028 1381.35 Q214.028 1390.08 210.949 1394.68 Q207.894 1399.27 202.084 1399.27 Q196.274 1399.27 193.195 1394.68 Q190.139 1390.08 190.139 1381.35 Q190.139 1372.6 193.195 1368.02 Q196.274 1363.41 202.084 1363.41 Z\" fill=\"#000000\" fill-rule=\"evenodd\" fill-opacity=\"1\" /><path clip-path=\"url(#clip910)\" d=\"M232.246 1367.12 Q228.635 1367.12 226.806 1370.68 Q225 1374.22 225 1381.35 Q225 1388.46 226.806 1392.02 Q228.635 1395.56 232.246 1395.56 Q235.88 1395.56 237.685 1392.02 Q239.514 1388.46 239.514 1381.35 Q239.514 1374.22 237.685 1370.68 Q235.88 1367.12 232.246 1367.12 M232.246 1363.41 Q238.056 1363.41 241.111 1368.02 Q244.19 1372.6 244.19 1381.35 Q244.19 1390.08 241.111 1394.68 Q238.056 1399.27 232.246 1399.27 Q226.435 1399.27 223.357 1394.68 Q220.301 1390.08 220.301 1381.35 Q220.301 1372.6 223.357 1368.02 Q226.435 1363.41 232.246 1363.41 Z\" fill=\"#000000\" fill-rule=\"evenodd\" fill-opacity=\"1\" /><path clip-path=\"url(#clip910)\" d=\"M128.288 1007.56 Q124.677 1007.56 122.848 1011.12 Q121.043 1014.66 121.043 1021.79 Q121.043 1028.9 122.848 1032.46 Q124.677 1036 128.288 1036 Q131.922 1036 133.728 1032.46 Q135.556 1028.9 135.556 1021.79 Q135.556 1014.66 133.728 1011.12 Q131.922 1007.56 128.288 1007.56 M128.288 1003.85 Q134.098 1003.85 137.154 1008.46 Q140.232 1013.04 140.232 1021.79 Q140.232 1030.52 137.154 1035.12 Q134.098 1039.71 128.288 1039.71 Q122.478 1039.71 119.399 1035.12 Q116.343 1030.52 116.343 1021.79 Q116.343 1013.04 119.399 1008.46 Q122.478 1003.85 128.288 1003.85 Z\" fill=\"#000000\" fill-rule=\"evenodd\" fill-opacity=\"1\" /><path clip-path=\"url(#clip910)\" d=\"M148.45 1033.16 L153.334 1033.16 L153.334 1039.04 L148.45 1039.04 L148.45 1033.16 Z\" fill=\"#000000\" fill-rule=\"evenodd\" fill-opacity=\"1\" /><path clip-path=\"url(#clip910)\" d=\"M173.519 1007.56 Q169.908 1007.56 168.079 1011.12 Q166.274 1014.66 166.274 1021.79 Q166.274 1028.9 168.079 1032.46 Q169.908 1036 173.519 1036 Q177.153 1036 178.959 1032.46 Q180.788 1028.9 180.788 1021.79 Q180.788 1014.66 178.959 1011.12 Q177.153 1007.56 173.519 1007.56 M173.519 1003.85 Q179.329 1003.85 182.385 1008.46 Q185.463 1013.04 185.463 1021.79 Q185.463 1030.52 182.385 1035.12 Q179.329 1039.71 173.519 1039.71 Q167.709 1039.71 164.63 1035.12 Q161.575 1030.52 161.575 1021.79 Q161.575 1013.04 164.63 1008.46 Q167.709 1003.85 173.519 1003.85 Z\" fill=\"#000000\" fill-rule=\"evenodd\" fill-opacity=\"1\" /><path clip-path=\"url(#clip910)\" d=\"M203.681 1007.56 Q200.07 1007.56 198.241 1011.12 Q196.436 1014.66 196.436 1021.79 Q196.436 1028.9 198.241 1032.46 Q200.07 1036 203.681 1036 Q207.315 1036 209.121 1032.46 Q210.949 1028.9 210.949 1021.79 Q210.949 1014.66 209.121 1011.12 Q207.315 1007.56 203.681 1007.56 M203.681 1003.85 Q209.491 1003.85 212.547 1008.46 Q215.625 1013.04 215.625 1021.79 Q215.625 1030.52 212.547 1035.12 Q209.491 1039.71 203.681 1039.71 Q197.871 1039.71 194.792 1035.12 Q191.737 1030.52 191.737 1021.79 Q191.737 1013.04 194.792 1008.46 Q197.871 1003.85 203.681 1003.85 Z\" fill=\"#000000\" fill-rule=\"evenodd\" fill-opacity=\"1\" /><path clip-path=\"url(#clip910)\" d=\"M227.871 1035.1 L244.19 1035.1 L244.19 1039.04 L222.246 1039.04 L222.246 1035.1 Q224.908 1032.35 229.491 1027.72 Q234.097 1023.06 235.278 1021.72 Q237.523 1019.2 238.403 1017.46 Q239.306 1015.7 239.306 1014.01 Q239.306 1011.26 237.361 1009.52 Q235.44 1007.79 232.338 1007.79 Q230.139 1007.79 227.685 1008.55 Q225.255 1009.31 222.477 1010.87 L222.477 1006.14 Q225.301 1005.01 227.755 1004.43 Q230.209 1003.85 232.246 1003.85 Q237.616 1003.85 240.81 1006.54 Q244.005 1009.22 244.005 1013.71 Q244.005 1015.84 243.195 1017.76 Q242.408 1019.66 240.301 1022.25 Q239.722 1022.93 236.621 1026.14 Q233.519 1029.34 227.871 1035.1 Z\" fill=\"#000000\" fill-rule=\"evenodd\" fill-opacity=\"1\" /><path clip-path=\"url(#clip910)\" d=\"M126.205 647.996 Q122.593 647.996 120.765 651.561 Q118.959 655.103 118.959 662.232 Q118.959 669.339 120.765 672.903 Q122.593 676.445 126.205 676.445 Q129.839 676.445 131.644 672.903 Q133.473 669.339 133.473 662.232 Q133.473 655.103 131.644 651.561 Q129.839 647.996 126.205 647.996 M126.205 644.292 Q132.015 644.292 135.07 648.899 Q138.149 653.482 138.149 662.232 Q138.149 670.959 135.07 675.565 Q132.015 680.149 126.205 680.149 Q120.394 680.149 117.316 675.565 Q114.26 670.959 114.26 662.232 Q114.26 653.482 117.316 648.899 Q120.394 644.292 126.205 644.292 Z\" fill=\"#000000\" fill-rule=\"evenodd\" fill-opacity=\"1\" /><path clip-path=\"url(#clip910)\" d=\"M146.366 673.598 L151.251 673.598 L151.251 679.477 L146.366 679.477 L146.366 673.598 Z\" fill=\"#000000\" fill-rule=\"evenodd\" fill-opacity=\"1\" /><path clip-path=\"url(#clip910)\" d=\"M171.436 647.996 Q167.825 647.996 165.996 651.561 Q164.19 655.103 164.19 662.232 Q164.19 669.339 165.996 672.903 Q167.825 676.445 171.436 676.445 Q175.07 676.445 176.876 672.903 Q178.704 669.339 178.704 662.232 Q178.704 655.103 176.876 651.561 Q175.07 647.996 171.436 647.996 M171.436 644.292 Q177.246 644.292 180.301 648.899 Q183.38 653.482 183.38 662.232 Q183.38 670.959 180.301 675.565 Q177.246 680.149 171.436 680.149 Q165.626 680.149 162.547 675.565 Q159.491 670.959 159.491 662.232 Q159.491 653.482 162.547 648.899 Q165.626 644.292 171.436 644.292 Z\" fill=\"#000000\" fill-rule=\"evenodd\" fill-opacity=\"1\" /><path clip-path=\"url(#clip910)\" d=\"M201.598 647.996 Q197.987 647.996 196.158 651.561 Q194.352 655.103 194.352 662.232 Q194.352 669.339 196.158 672.903 Q197.987 676.445 201.598 676.445 Q205.232 676.445 207.037 672.903 Q208.866 669.339 208.866 662.232 Q208.866 655.103 207.037 651.561 Q205.232 647.996 201.598 647.996 M201.598 644.292 Q207.408 644.292 210.463 648.899 Q213.542 653.482 213.542 662.232 Q213.542 670.959 210.463 675.565 Q207.408 680.149 201.598 680.149 Q195.787 680.149 192.709 675.565 Q189.653 670.959 189.653 662.232 Q189.653 653.482 192.709 648.899 Q195.787 644.292 201.598 644.292 Z\" fill=\"#000000\" fill-rule=\"evenodd\" fill-opacity=\"1\" /><path clip-path=\"url(#clip910)\" d=\"M234.607 648.992 L222.801 667.44 L234.607 667.44 L234.607 648.992 M233.38 644.917 L239.259 644.917 L239.259 667.44 L244.19 667.44 L244.19 671.329 L239.259 671.329 L239.259 679.477 L234.607 679.477 L234.607 671.329 L219.005 671.329 L219.005 666.815 L233.38 644.917 Z\" fill=\"#000000\" fill-rule=\"evenodd\" fill-opacity=\"1\" /><path clip-path=\"url(#clip910)\" d=\"M126.529 288.437 Q122.918 288.437 121.089 292.001 Q119.283 295.543 119.283 302.673 Q119.283 309.779 121.089 313.344 Q122.918 316.886 126.529 316.886 Q130.163 316.886 131.968 313.344 Q133.797 309.779 133.797 302.673 Q133.797 295.543 131.968 292.001 Q130.163 288.437 126.529 288.437 M126.529 284.733 Q132.339 284.733 135.394 289.339 Q138.473 293.923 138.473 302.673 Q138.473 311.399 135.394 316.006 Q132.339 320.589 126.529 320.589 Q120.718 320.589 117.64 316.006 Q114.584 311.399 114.584 302.673 Q114.584 293.923 117.64 289.339 Q120.718 284.733 126.529 284.733 Z\" fill=\"#000000\" fill-rule=\"evenodd\" fill-opacity=\"1\" /><path clip-path=\"url(#clip910)\" d=\"M146.691 314.038 L151.575 314.038 L151.575 319.918 L146.691 319.918 L146.691 314.038 Z\" fill=\"#000000\" fill-rule=\"evenodd\" fill-opacity=\"1\" /><path clip-path=\"url(#clip910)\" d=\"M171.76 288.437 Q168.149 288.437 166.32 292.001 Q164.515 295.543 164.515 302.673 Q164.515 309.779 166.32 313.344 Q168.149 316.886 171.76 316.886 Q175.394 316.886 177.2 313.344 Q179.028 309.779 179.028 302.673 Q179.028 295.543 177.2 292.001 Q175.394 288.437 171.76 288.437 M171.76 284.733 Q177.57 284.733 180.626 289.339 Q183.704 293.923 183.704 302.673 Q183.704 311.399 180.626 316.006 Q177.57 320.589 171.76 320.589 Q165.95 320.589 162.871 316.006 Q159.815 311.399 159.815 302.673 Q159.815 293.923 162.871 289.339 Q165.95 284.733 171.76 284.733 Z\" fill=\"#000000\" fill-rule=\"evenodd\" fill-opacity=\"1\" /><path clip-path=\"url(#clip910)\" d=\"M201.922 288.437 Q198.311 288.437 196.482 292.001 Q194.676 295.543 194.676 302.673 Q194.676 309.779 196.482 313.344 Q198.311 316.886 201.922 316.886 Q205.556 316.886 207.362 313.344 Q209.19 309.779 209.19 302.673 Q209.19 295.543 207.362 292.001 Q205.556 288.437 201.922 288.437 M201.922 284.733 Q207.732 284.733 210.787 289.339 Q213.866 293.923 213.866 302.673 Q213.866 311.399 210.787 316.006 Q207.732 320.589 201.922 320.589 Q196.112 320.589 193.033 316.006 Q189.977 311.399 189.977 302.673 Q189.977 293.923 193.033 289.339 Q196.112 284.733 201.922 284.733 Z\" fill=\"#000000\" fill-rule=\"evenodd\" fill-opacity=\"1\" /><path clip-path=\"url(#clip910)\" d=\"M232.662 300.775 Q229.514 300.775 227.662 302.927 Q225.834 305.08 225.834 308.83 Q225.834 312.557 227.662 314.733 Q229.514 316.886 232.662 316.886 Q235.81 316.886 237.639 314.733 Q239.491 312.557 239.491 308.83 Q239.491 305.08 237.639 302.927 Q235.81 300.775 232.662 300.775 M241.945 286.122 L241.945 290.381 Q240.185 289.548 238.38 289.108 Q236.597 288.668 234.838 288.668 Q230.209 288.668 227.755 291.793 Q225.324 294.918 224.977 301.237 Q226.343 299.224 228.403 298.159 Q230.463 297.071 232.94 297.071 Q238.148 297.071 241.158 300.242 Q244.19 303.39 244.19 308.83 Q244.19 314.154 241.042 317.372 Q237.894 320.589 232.662 320.589 Q226.667 320.589 223.496 316.006 Q220.324 311.399 220.324 302.673 Q220.324 294.478 224.213 289.617 Q228.102 284.733 234.653 284.733 Q236.412 284.733 238.195 285.08 Q240 285.427 241.945 286.122 Z\" fill=\"#000000\" fill-rule=\"evenodd\" fill-opacity=\"1\" /><path clip-path=\"url(#clip910)\" d=\"M20.8447 955.816 Q20.8447 962.818 26.0645 966.956 Q31.2844 971.061 40.2919 971.061 Q49.2675 971.061 54.4874 966.956 Q59.7073 962.818 59.7073 955.816 Q59.7073 948.813 54.4874 944.739 Q49.2675 940.633 40.2919 940.633 Q31.2844 940.633 26.0645 944.739 Q20.8447 948.813 20.8447 955.816 M15.6248 955.816 Q15.6248 945.821 22.3406 939.838 Q29.0246 933.854 40.2919 933.854 Q51.5274 933.854 58.2432 939.838 Q64.9272 945.821 64.9272 955.816 Q64.9272 965.842 58.2432 971.857 Q51.5592 977.841 40.2919 977.841 Q29.0246 977.841 22.3406 971.857 Q15.6248 965.842 15.6248 955.816 Z\" fill=\"#000000\" fill-rule=\"evenodd\" fill-opacity=\"1\" /><path clip-path=\"url(#clip910)\" d=\"M58.657 918.385 L77.5631 918.385 L77.5631 924.273 L28.3562 924.273 L28.3562 918.385 L33.7671 918.385 Q30.5842 916.539 29.0564 913.738 Q27.4968 910.905 27.4968 906.991 Q27.4968 900.498 32.6531 896.455 Q37.8093 892.381 46.212 892.381 Q54.6147 892.381 59.771 896.455 Q64.9272 900.498 64.9272 906.991 Q64.9272 910.905 63.3994 913.738 Q61.8398 916.539 58.657 918.385 M46.212 898.461 Q39.7508 898.461 36.0905 901.134 Q32.3984 903.776 32.3984 908.423 Q32.3984 913.07 36.0905 915.743 Q39.7508 918.385 46.212 918.385 Q52.6732 918.385 56.3653 915.743 Q60.0256 913.07 60.0256 908.423 Q60.0256 903.776 56.3653 901.134 Q52.6732 898.461 46.212 898.461 Z\" fill=\"#000000\" fill-rule=\"evenodd\" fill-opacity=\"1\" /><path clip-path=\"url(#clip910)\" d=\"M44.7161 852.182 L47.5806 852.182 L47.5806 879.109 Q53.6281 878.727 56.8109 875.48 Q59.9619 872.202 59.9619 866.377 Q59.9619 863.004 59.1344 859.853 Q58.3069 856.67 56.6518 853.55 L62.1899 853.55 Q63.5267 856.701 64.227 860.012 Q64.9272 863.322 64.9272 866.727 Q64.9272 875.258 59.9619 880.255 Q54.9967 885.22 46.5303 885.22 Q37.7774 885.22 32.6531 880.509 Q27.4968 875.767 27.4968 867.746 Q27.4968 860.553 32.1438 856.383 Q36.7589 852.182 44.7161 852.182 M42.9973 858.038 Q38.1912 858.102 35.3266 860.744 Q32.4621 863.354 32.4621 867.682 Q32.4621 872.584 35.2312 875.544 Q38.0002 878.472 43.0292 878.918 L42.9973 858.038 Z\" fill=\"#000000\" fill-rule=\"evenodd\" fill-opacity=\"1\" /><path clip-path=\"url(#clip910)\" d=\"M33.8307 821.913 Q33.2578 822.9 33.0032 824.077 Q32.7167 825.223 32.7167 826.624 Q32.7167 831.589 35.9632 834.262 Q39.1779 836.904 45.2253 836.904 L64.0042 836.904 L64.0042 842.792 L28.3562 842.792 L28.3562 836.904 L33.8944 836.904 Q30.6479 835.058 29.0883 832.098 Q27.4968 829.138 27.4968 824.905 Q27.4968 824.3 27.5923 823.568 Q27.656 822.836 27.8151 821.945 L33.8307 821.913 Z\" fill=\"#000000\" fill-rule=\"evenodd\" fill-opacity=\"1\" /><path clip-path=\"url(#clip910)\" d=\"M46.0847 799.569 Q46.0847 806.667 47.7079 809.404 Q49.3312 812.142 53.2461 812.142 Q56.3653 812.142 58.2114 810.105 Q60.0256 808.036 60.0256 804.503 Q60.0256 799.633 56.5881 796.705 Q53.1188 793.745 47.3897 793.745 L46.0847 793.745 L46.0847 799.569 M43.6657 787.888 L64.0042 787.888 L64.0042 793.745 L58.5933 793.745 Q61.8398 795.75 63.3994 798.742 Q64.9272 801.734 64.9272 806.062 Q64.9272 811.537 61.8716 814.783 Q58.7843 817.998 53.6281 817.998 Q47.6125 817.998 44.5569 813.988 Q41.5014 809.945 41.5014 801.956 L41.5014 793.745 L40.9285 793.745 Q36.8862 793.745 34.6901 796.418 Q32.4621 799.06 32.4621 803.866 Q32.4621 806.922 33.1941 809.818 Q33.9262 812.714 35.3903 815.388 L29.9795 815.388 Q28.7381 812.173 28.1334 809.15 Q27.4968 806.126 27.4968 803.261 Q27.4968 795.527 31.5072 791.708 Q35.5176 787.888 43.6657 787.888 Z\" fill=\"#000000\" fill-rule=\"evenodd\" fill-opacity=\"1\" /><path clip-path=\"url(#clip910)\" d=\"M18.2347 770.032 L28.3562 770.032 L28.3562 757.969 L32.9077 757.969 L32.9077 770.032 L52.2594 770.032 Q56.6199 770.032 57.8613 768.855 Q59.1026 767.645 59.1026 763.985 L59.1026 757.969 L64.0042 757.969 L64.0042 763.985 Q64.0042 770.764 61.4897 773.343 Q58.9434 775.921 52.2594 775.921 L32.9077 775.921 L32.9077 780.218 L28.3562 780.218 L28.3562 775.921 L18.2347 775.921 L18.2347 770.032 Z\" fill=\"#000000\" fill-rule=\"evenodd\" fill-opacity=\"1\" /><path clip-path=\"url(#clip910)\" d=\"M28.3562 750.267 L28.3562 744.41 L64.0042 744.41 L64.0042 750.267 L28.3562 750.267 M14.479 750.267 L14.479 744.41 L21.895 744.41 L21.895 750.267 L14.479 750.267 Z\" fill=\"#000000\" fill-rule=\"evenodd\" fill-opacity=\"1\" /><path clip-path=\"url(#clip910)\" d=\"M32.4621 718.343 Q32.4621 723.053 36.1542 725.791 Q39.8145 728.528 46.212 728.528 Q52.6095 728.528 56.3017 725.823 Q59.9619 723.085 59.9619 718.343 Q59.9619 713.664 56.2698 710.927 Q52.5777 708.19 46.212 708.19 Q39.8781 708.19 36.186 710.927 Q32.4621 713.664 32.4621 718.343 M27.4968 718.343 Q27.4968 710.704 32.4621 706.343 Q37.4273 701.983 46.212 701.983 Q54.9649 701.983 59.9619 706.343 Q64.9272 710.704 64.9272 718.343 Q64.9272 726.014 59.9619 730.374 Q54.9649 734.703 46.212 734.703 Q37.4273 734.703 32.4621 730.374 Q27.4968 726.014 27.4968 718.343 Z\" fill=\"#000000\" fill-rule=\"evenodd\" fill-opacity=\"1\" /><path clip-path=\"url(#clip910)\" d=\"M42.4881 662.643 L64.0042 662.643 L64.0042 668.499 L42.679 668.499 Q37.6183 668.499 35.1038 670.473 Q32.5894 672.446 32.5894 676.393 Q32.5894 681.135 35.6131 683.873 Q38.6368 686.61 43.8567 686.61 L64.0042 686.61 L64.0042 692.498 L28.3562 692.498 L28.3562 686.61 L33.8944 686.61 Q30.6797 684.509 29.0883 681.676 Q27.4968 678.812 27.4968 675.088 Q27.4968 668.945 31.3163 665.794 Q35.1038 662.643 42.4881 662.643 Z\" fill=\"#000000\" fill-rule=\"evenodd\" fill-opacity=\"1\" /><path clip-path=\"url(#clip910)\" d=\"M18.2347 624.449 L28.3562 624.449 L28.3562 612.386 L32.9077 612.386 L32.9077 624.449 L52.2594 624.449 Q56.6199 624.449 57.8613 623.271 Q59.1026 622.062 59.1026 618.401 L59.1026 612.386 L64.0042 612.386 L64.0042 618.401 Q64.0042 625.181 61.4897 627.759 Q58.9434 630.337 52.2594 630.337 L32.9077 630.337 L32.9077 634.634 L28.3562 634.634 L28.3562 630.337 L18.2347 630.337 L18.2347 624.449 Z\" fill=\"#000000\" fill-rule=\"evenodd\" fill-opacity=\"1\" /><path clip-path=\"url(#clip910)\" d=\"M28.3562 604.683 L28.3562 598.827 L64.0042 598.827 L64.0042 604.683 L28.3562 604.683 M14.479 604.683 L14.479 598.827 L21.895 598.827 L21.895 604.683 L14.479 604.683 Z\" fill=\"#000000\" fill-rule=\"evenodd\" fill-opacity=\"1\" /><path clip-path=\"url(#clip910)\" d=\"M35.1993 558.818 Q31.2526 556.622 29.3747 553.567 Q27.4968 550.511 27.4968 546.373 Q27.4968 540.803 31.4117 537.78 Q35.2948 534.756 42.4881 534.756 L64.0042 534.756 L64.0042 540.644 L42.679 540.644 Q37.5546 540.644 35.072 542.458 Q32.5894 544.273 32.5894 547.997 Q32.5894 552.548 35.6131 555.19 Q38.6368 557.832 43.8567 557.832 L64.0042 557.832 L64.0042 563.72 L42.679 563.72 Q37.5228 563.72 35.072 565.534 Q32.5894 567.348 32.5894 571.136 Q32.5894 575.624 35.6449 578.265 Q38.6686 580.907 43.8567 580.907 L64.0042 580.907 L64.0042 586.796 L28.3562 586.796 L28.3562 580.907 L33.8944 580.907 Q30.616 578.902 29.0564 576.101 Q27.4968 573.3 27.4968 569.449 Q27.4968 565.566 29.4702 562.86 Q31.4436 560.123 35.1993 558.818 Z\" fill=\"#000000\" fill-rule=\"evenodd\" fill-opacity=\"1\" /><path clip-path=\"url(#clip910)\" d=\"M44.7161 492.583 L47.5806 492.583 L47.5806 519.51 Q53.6281 519.128 56.8109 515.882 Q59.9619 512.603 59.9619 506.779 Q59.9619 503.405 59.1344 500.254 Q58.3069 497.071 56.6518 493.952 L62.1899 493.952 Q63.5267 497.103 64.227 500.413 Q64.9272 503.723 64.9272 507.129 Q64.9272 515.659 59.9619 520.656 Q54.9967 525.621 46.5303 525.621 Q37.7774 525.621 32.6531 520.91 Q27.4968 516.168 27.4968 508.147 Q27.4968 500.954 32.1438 496.784 Q36.7589 492.583 44.7161 492.583 M42.9973 498.44 Q38.1912 498.503 35.3266 501.145 Q32.4621 503.755 32.4621 508.084 Q32.4621 512.985 35.2312 515.945 Q38.0002 518.873 43.0292 519.319 L42.9973 498.44 Z\" fill=\"#000000\" fill-rule=\"evenodd\" fill-opacity=\"1\" /><polyline clip-path=\"url(#clip912)\" style=\"stroke:#000000; stroke-linecap:butt; stroke-linejoin:round; stroke-width:4; stroke-opacity:1; fill:none\" points=\"\n",
       "  338.848,1381.54 338.848,1380.49 \n",
       "  \"/>\n",
       "<polyline clip-path=\"url(#clip912)\" style=\"stroke:#000000; stroke-linecap:butt; stroke-linejoin:round; stroke-width:4; stroke-opacity:1; fill:none\" points=\"\n",
       "  556.098,1381.02 556.098,1380.89 \n",
       "  \"/>\n",
       "<polyline clip-path=\"url(#clip912)\" style=\"stroke:#000000; stroke-linecap:butt; stroke-linejoin:round; stroke-width:4; stroke-opacity:1; fill:none\" points=\"\n",
       "  773.348,1384.24 773.348,1368.79 \n",
       "  \"/>\n",
       "<polyline clip-path=\"url(#clip912)\" style=\"stroke:#000000; stroke-linecap:butt; stroke-linejoin:round; stroke-width:4; stroke-opacity:1; fill:none\" points=\"\n",
       "  990.598,1381.01 990.598,1378 \n",
       "  \"/>\n",
       "<polyline clip-path=\"url(#clip912)\" style=\"stroke:#000000; stroke-linecap:butt; stroke-linejoin:round; stroke-width:4; stroke-opacity:1; fill:none\" points=\"\n",
       "  1207.85,1378.69 1207.85,1377.82 \n",
       "  \"/>\n",
       "<polyline clip-path=\"url(#clip912)\" style=\"stroke:#000000; stroke-linecap:butt; stroke-linejoin:round; stroke-width:4; stroke-opacity:1; fill:none\" points=\"\n",
       "  1425.1,1377.92 1425.1,1374.46 \n",
       "  \"/>\n",
       "<polyline clip-path=\"url(#clip912)\" style=\"stroke:#000000; stroke-linecap:butt; stroke-linejoin:round; stroke-width:4; stroke-opacity:1; fill:none\" points=\"\n",
       "  1642.35,1368.6 1642.35,1338.55 \n",
       "  \"/>\n",
       "<polyline clip-path=\"url(#clip912)\" style=\"stroke:#000000; stroke-linecap:butt; stroke-linejoin:round; stroke-width:4; stroke-opacity:1; fill:none\" points=\"\n",
       "  1859.6,1361.14 1859.6,1326.74 \n",
       "  \"/>\n",
       "<polyline clip-path=\"url(#clip912)\" style=\"stroke:#000000; stroke-linecap:butt; stroke-linejoin:round; stroke-width:4; stroke-opacity:1; fill:none\" points=\"\n",
       "  2076.85,1377 2076.85,1256.3 \n",
       "  \"/>\n",
       "<polyline clip-path=\"url(#clip912)\" style=\"stroke:#000000; stroke-linecap:butt; stroke-linejoin:round; stroke-width:4; stroke-opacity:1; fill:none\" points=\"\n",
       "  2294.1,1343.61 2294.1,1324.17 \n",
       "  \"/>\n",
       "<line clip-path=\"url(#clip912)\" x1=\"354.848\" y1=\"1381.54\" x2=\"322.848\" y2=\"1381.54\" style=\"stroke:#000000; stroke-width:3.2; stroke-opacity:1\"/>\n",
       "<line clip-path=\"url(#clip912)\" x1=\"354.848\" y1=\"1380.49\" x2=\"322.848\" y2=\"1380.49\" style=\"stroke:#000000; stroke-width:3.2; stroke-opacity:1\"/>\n",
       "<line clip-path=\"url(#clip912)\" x1=\"572.098\" y1=\"1381.02\" x2=\"540.098\" y2=\"1381.02\" style=\"stroke:#000000; stroke-width:3.2; stroke-opacity:1\"/>\n",
       "<line clip-path=\"url(#clip912)\" x1=\"572.098\" y1=\"1380.89\" x2=\"540.098\" y2=\"1380.89\" style=\"stroke:#000000; stroke-width:3.2; stroke-opacity:1\"/>\n",
       "<line clip-path=\"url(#clip912)\" x1=\"789.348\" y1=\"1384.24\" x2=\"757.348\" y2=\"1384.24\" style=\"stroke:#000000; stroke-width:3.2; stroke-opacity:1\"/>\n",
       "<line clip-path=\"url(#clip912)\" x1=\"789.348\" y1=\"1368.79\" x2=\"757.348\" y2=\"1368.79\" style=\"stroke:#000000; stroke-width:3.2; stroke-opacity:1\"/>\n",
       "<line clip-path=\"url(#clip912)\" x1=\"1006.6\" y1=\"1381.01\" x2=\"974.598\" y2=\"1381.01\" style=\"stroke:#000000; stroke-width:3.2; stroke-opacity:1\"/>\n",
       "<line clip-path=\"url(#clip912)\" x1=\"1006.6\" y1=\"1378\" x2=\"974.598\" y2=\"1378\" style=\"stroke:#000000; stroke-width:3.2; stroke-opacity:1\"/>\n",
       "<line clip-path=\"url(#clip912)\" x1=\"1223.85\" y1=\"1378.69\" x2=\"1191.85\" y2=\"1378.69\" style=\"stroke:#000000; stroke-width:3.2; stroke-opacity:1\"/>\n",
       "<line clip-path=\"url(#clip912)\" x1=\"1223.85\" y1=\"1377.82\" x2=\"1191.85\" y2=\"1377.82\" style=\"stroke:#000000; stroke-width:3.2; stroke-opacity:1\"/>\n",
       "<line clip-path=\"url(#clip912)\" x1=\"1441.1\" y1=\"1377.92\" x2=\"1409.1\" y2=\"1377.92\" style=\"stroke:#000000; stroke-width:3.2; stroke-opacity:1\"/>\n",
       "<line clip-path=\"url(#clip912)\" x1=\"1441.1\" y1=\"1374.46\" x2=\"1409.1\" y2=\"1374.46\" style=\"stroke:#000000; stroke-width:3.2; stroke-opacity:1\"/>\n",
       "<line clip-path=\"url(#clip912)\" x1=\"1658.35\" y1=\"1368.6\" x2=\"1626.35\" y2=\"1368.6\" style=\"stroke:#000000; stroke-width:3.2; stroke-opacity:1\"/>\n",
       "<line clip-path=\"url(#clip912)\" x1=\"1658.35\" y1=\"1338.55\" x2=\"1626.35\" y2=\"1338.55\" style=\"stroke:#000000; stroke-width:3.2; stroke-opacity:1\"/>\n",
       "<line clip-path=\"url(#clip912)\" x1=\"1875.6\" y1=\"1361.14\" x2=\"1843.6\" y2=\"1361.14\" style=\"stroke:#000000; stroke-width:3.2; stroke-opacity:1\"/>\n",
       "<line clip-path=\"url(#clip912)\" x1=\"1875.6\" y1=\"1326.74\" x2=\"1843.6\" y2=\"1326.74\" style=\"stroke:#000000; stroke-width:3.2; stroke-opacity:1\"/>\n",
       "<line clip-path=\"url(#clip912)\" x1=\"2092.85\" y1=\"1377\" x2=\"2060.85\" y2=\"1377\" style=\"stroke:#000000; stroke-width:3.2; stroke-opacity:1\"/>\n",
       "<line clip-path=\"url(#clip912)\" x1=\"2092.85\" y1=\"1256.3\" x2=\"2060.85\" y2=\"1256.3\" style=\"stroke:#000000; stroke-width:3.2; stroke-opacity:1\"/>\n",
       "<line clip-path=\"url(#clip912)\" x1=\"2310.1\" y1=\"1343.61\" x2=\"2278.1\" y2=\"1343.61\" style=\"stroke:#000000; stroke-width:3.2; stroke-opacity:1\"/>\n",
       "<line clip-path=\"url(#clip912)\" x1=\"2310.1\" y1=\"1324.17\" x2=\"2278.1\" y2=\"1324.17\" style=\"stroke:#000000; stroke-width:3.2; stroke-opacity:1\"/>\n",
       "<circle clip-path=\"url(#clip912)\" cx=\"338.848\" cy=\"1381.01\" r=\"14\" fill=\"#ff0000\" fill-rule=\"evenodd\" fill-opacity=\"1\" stroke=\"#000000\" stroke-opacity=\"1\" stroke-width=\"3.2\"/>\n",
       "<circle clip-path=\"url(#clip912)\" cx=\"556.098\" cy=\"1380.95\" r=\"14\" fill=\"#ff0000\" fill-rule=\"evenodd\" fill-opacity=\"1\" stroke=\"#000000\" stroke-opacity=\"1\" stroke-width=\"3.2\"/>\n",
       "<circle clip-path=\"url(#clip912)\" cx=\"773.348\" cy=\"1376.52\" r=\"14\" fill=\"#ff0000\" fill-rule=\"evenodd\" fill-opacity=\"1\" stroke=\"#000000\" stroke-opacity=\"1\" stroke-width=\"3.2\"/>\n",
       "<circle clip-path=\"url(#clip912)\" cx=\"990.598\" cy=\"1379.51\" r=\"14\" fill=\"#ff0000\" fill-rule=\"evenodd\" fill-opacity=\"1\" stroke=\"#000000\" stroke-opacity=\"1\" stroke-width=\"3.2\"/>\n",
       "<circle clip-path=\"url(#clip912)\" cx=\"1207.85\" cy=\"1378.25\" r=\"14\" fill=\"#ff0000\" fill-rule=\"evenodd\" fill-opacity=\"1\" stroke=\"#000000\" stroke-opacity=\"1\" stroke-width=\"3.2\"/>\n",
       "<circle clip-path=\"url(#clip912)\" cx=\"1425.1\" cy=\"1376.19\" r=\"14\" fill=\"#ff0000\" fill-rule=\"evenodd\" fill-opacity=\"1\" stroke=\"#000000\" stroke-opacity=\"1\" stroke-width=\"3.2\"/>\n",
       "<circle clip-path=\"url(#clip912)\" cx=\"1642.35\" cy=\"1353.57\" r=\"14\" fill=\"#ff0000\" fill-rule=\"evenodd\" fill-opacity=\"1\" stroke=\"#000000\" stroke-opacity=\"1\" stroke-width=\"3.2\"/>\n",
       "<circle clip-path=\"url(#clip912)\" cx=\"1859.6\" cy=\"1343.94\" r=\"14\" fill=\"#ff0000\" fill-rule=\"evenodd\" fill-opacity=\"1\" stroke=\"#000000\" stroke-opacity=\"1\" stroke-width=\"3.2\"/>\n",
       "<circle clip-path=\"url(#clip912)\" cx=\"2076.85\" cy=\"1316.65\" r=\"14\" fill=\"#ff0000\" fill-rule=\"evenodd\" fill-opacity=\"1\" stroke=\"#000000\" stroke-opacity=\"1\" stroke-width=\"3.2\"/>\n",
       "<circle clip-path=\"url(#clip912)\" cx=\"2294.1\" cy=\"1333.89\" r=\"14\" fill=\"#ff0000\" fill-rule=\"evenodd\" fill-opacity=\"1\" stroke=\"#000000\" stroke-opacity=\"1\" stroke-width=\"3.2\"/>\n",
       "<polyline clip-path=\"url(#clip912)\" style=\"stroke:#000000; stroke-linecap:butt; stroke-linejoin:round; stroke-width:4; stroke-opacity:1; fill:none\" points=\"\n",
       "  338.848,1380.76 338.848,1380.22 \n",
       "  \"/>\n",
       "<polyline clip-path=\"url(#clip912)\" style=\"stroke:#000000; stroke-linecap:butt; stroke-linejoin:round; stroke-width:4; stroke-opacity:1; fill:none\" points=\"\n",
       "  556.098,1376.08 556.098,1376.01 \n",
       "  \"/>\n",
       "<polyline clip-path=\"url(#clip912)\" style=\"stroke:#000000; stroke-linecap:butt; stroke-linejoin:round; stroke-width:4; stroke-opacity:1; fill:none\" points=\"\n",
       "  773.348,1365.41 773.348,1360.02 \n",
       "  \"/>\n",
       "<polyline clip-path=\"url(#clip912)\" style=\"stroke:#000000; stroke-linecap:butt; stroke-linejoin:round; stroke-width:4; stroke-opacity:1; fill:none\" points=\"\n",
       "  990.598,1336.03 990.598,1332.85 \n",
       "  \"/>\n",
       "<polyline clip-path=\"url(#clip912)\" style=\"stroke:#000000; stroke-linecap:butt; stroke-linejoin:round; stroke-width:4; stroke-opacity:1; fill:none\" points=\"\n",
       "  1207.85,1304.11 1207.85,1291.12 \n",
       "  \"/>\n",
       "<polyline clip-path=\"url(#clip912)\" style=\"stroke:#000000; stroke-linecap:butt; stroke-linejoin:round; stroke-width:4; stroke-opacity:1; fill:none\" points=\"\n",
       "  1425.1,1242.98 1425.1,1241.08 \n",
       "  \"/>\n",
       "<polyline clip-path=\"url(#clip912)\" style=\"stroke:#000000; stroke-linecap:butt; stroke-linejoin:round; stroke-width:4; stroke-opacity:1; fill:none\" points=\"\n",
       "  1642.35,1164.68 1642.35,1153.06 \n",
       "  \"/>\n",
       "<polyline clip-path=\"url(#clip912)\" style=\"stroke:#000000; stroke-linecap:butt; stroke-linejoin:round; stroke-width:4; stroke-opacity:1; fill:none\" points=\"\n",
       "  1859.6,1052.32 1859.6,945.592 \n",
       "  \"/>\n",
       "<polyline clip-path=\"url(#clip912)\" style=\"stroke:#000000; stroke-linecap:butt; stroke-linejoin:round; stroke-width:4; stroke-opacity:1; fill:none\" points=\"\n",
       "  2076.85,974.406 2076.85,622.258 \n",
       "  \"/>\n",
       "<polyline clip-path=\"url(#clip912)\" style=\"stroke:#000000; stroke-linecap:butt; stroke-linejoin:round; stroke-width:4; stroke-opacity:1; fill:none\" points=\"\n",
       "  2294.1,722.868 2294.1,708.359 \n",
       "  \"/>\n",
       "<line clip-path=\"url(#clip912)\" x1=\"354.848\" y1=\"1380.76\" x2=\"322.848\" y2=\"1380.76\" style=\"stroke:#000000; stroke-width:3.2; stroke-opacity:1\"/>\n",
       "<line clip-path=\"url(#clip912)\" x1=\"354.848\" y1=\"1380.22\" x2=\"322.848\" y2=\"1380.22\" style=\"stroke:#000000; stroke-width:3.2; stroke-opacity:1\"/>\n",
       "<line clip-path=\"url(#clip912)\" x1=\"572.098\" y1=\"1376.08\" x2=\"540.098\" y2=\"1376.08\" style=\"stroke:#000000; stroke-width:3.2; stroke-opacity:1\"/>\n",
       "<line clip-path=\"url(#clip912)\" x1=\"572.098\" y1=\"1376.01\" x2=\"540.098\" y2=\"1376.01\" style=\"stroke:#000000; stroke-width:3.2; stroke-opacity:1\"/>\n",
       "<line clip-path=\"url(#clip912)\" x1=\"789.348\" y1=\"1365.41\" x2=\"757.348\" y2=\"1365.41\" style=\"stroke:#000000; stroke-width:3.2; stroke-opacity:1\"/>\n",
       "<line clip-path=\"url(#clip912)\" x1=\"789.348\" y1=\"1360.02\" x2=\"757.348\" y2=\"1360.02\" style=\"stroke:#000000; stroke-width:3.2; stroke-opacity:1\"/>\n",
       "<line clip-path=\"url(#clip912)\" x1=\"1006.6\" y1=\"1336.03\" x2=\"974.598\" y2=\"1336.03\" style=\"stroke:#000000; stroke-width:3.2; stroke-opacity:1\"/>\n",
       "<line clip-path=\"url(#clip912)\" x1=\"1006.6\" y1=\"1332.85\" x2=\"974.598\" y2=\"1332.85\" style=\"stroke:#000000; stroke-width:3.2; stroke-opacity:1\"/>\n",
       "<line clip-path=\"url(#clip912)\" x1=\"1223.85\" y1=\"1304.11\" x2=\"1191.85\" y2=\"1304.11\" style=\"stroke:#000000; stroke-width:3.2; stroke-opacity:1\"/>\n",
       "<line clip-path=\"url(#clip912)\" x1=\"1223.85\" y1=\"1291.12\" x2=\"1191.85\" y2=\"1291.12\" style=\"stroke:#000000; stroke-width:3.2; stroke-opacity:1\"/>\n",
       "<line clip-path=\"url(#clip912)\" x1=\"1441.1\" y1=\"1242.98\" x2=\"1409.1\" y2=\"1242.98\" style=\"stroke:#000000; stroke-width:3.2; stroke-opacity:1\"/>\n",
       "<line clip-path=\"url(#clip912)\" x1=\"1441.1\" y1=\"1241.08\" x2=\"1409.1\" y2=\"1241.08\" style=\"stroke:#000000; stroke-width:3.2; stroke-opacity:1\"/>\n",
       "<line clip-path=\"url(#clip912)\" x1=\"1658.35\" y1=\"1164.68\" x2=\"1626.35\" y2=\"1164.68\" style=\"stroke:#000000; stroke-width:3.2; stroke-opacity:1\"/>\n",
       "<line clip-path=\"url(#clip912)\" x1=\"1658.35\" y1=\"1153.06\" x2=\"1626.35\" y2=\"1153.06\" style=\"stroke:#000000; stroke-width:3.2; stroke-opacity:1\"/>\n",
       "<line clip-path=\"url(#clip912)\" x1=\"1875.6\" y1=\"1052.32\" x2=\"1843.6\" y2=\"1052.32\" style=\"stroke:#000000; stroke-width:3.2; stroke-opacity:1\"/>\n",
       "<line clip-path=\"url(#clip912)\" x1=\"1875.6\" y1=\"945.592\" x2=\"1843.6\" y2=\"945.592\" style=\"stroke:#000000; stroke-width:3.2; stroke-opacity:1\"/>\n",
       "<line clip-path=\"url(#clip912)\" x1=\"2092.85\" y1=\"974.406\" x2=\"2060.85\" y2=\"974.406\" style=\"stroke:#000000; stroke-width:3.2; stroke-opacity:1\"/>\n",
       "<line clip-path=\"url(#clip912)\" x1=\"2092.85\" y1=\"622.258\" x2=\"2060.85\" y2=\"622.258\" style=\"stroke:#000000; stroke-width:3.2; stroke-opacity:1\"/>\n",
       "<line clip-path=\"url(#clip912)\" x1=\"2310.1\" y1=\"722.868\" x2=\"2278.1\" y2=\"722.868\" style=\"stroke:#000000; stroke-width:3.2; stroke-opacity:1\"/>\n",
       "<line clip-path=\"url(#clip912)\" x1=\"2310.1\" y1=\"708.359\" x2=\"2278.1\" y2=\"708.359\" style=\"stroke:#000000; stroke-width:3.2; stroke-opacity:1\"/>\n",
       "<circle clip-path=\"url(#clip912)\" cx=\"338.848\" cy=\"1380.49\" r=\"14\" fill=\"#0000ff\" fill-rule=\"evenodd\" fill-opacity=\"1\" stroke=\"#000000\" stroke-opacity=\"1\" stroke-width=\"3.2\"/>\n",
       "<circle clip-path=\"url(#clip912)\" cx=\"556.098\" cy=\"1376.05\" r=\"14\" fill=\"#0000ff\" fill-rule=\"evenodd\" fill-opacity=\"1\" stroke=\"#000000\" stroke-opacity=\"1\" stroke-width=\"3.2\"/>\n",
       "<circle clip-path=\"url(#clip912)\" cx=\"773.348\" cy=\"1362.71\" r=\"14\" fill=\"#0000ff\" fill-rule=\"evenodd\" fill-opacity=\"1\" stroke=\"#000000\" stroke-opacity=\"1\" stroke-width=\"3.2\"/>\n",
       "<circle clip-path=\"url(#clip912)\" cx=\"990.598\" cy=\"1334.44\" r=\"14\" fill=\"#0000ff\" fill-rule=\"evenodd\" fill-opacity=\"1\" stroke=\"#000000\" stroke-opacity=\"1\" stroke-width=\"3.2\"/>\n",
       "<circle clip-path=\"url(#clip912)\" cx=\"1207.85\" cy=\"1297.61\" r=\"14\" fill=\"#0000ff\" fill-rule=\"evenodd\" fill-opacity=\"1\" stroke=\"#000000\" stroke-opacity=\"1\" stroke-width=\"3.2\"/>\n",
       "<circle clip-path=\"url(#clip912)\" cx=\"1425.1\" cy=\"1242.03\" r=\"14\" fill=\"#0000ff\" fill-rule=\"evenodd\" fill-opacity=\"1\" stroke=\"#000000\" stroke-opacity=\"1\" stroke-width=\"3.2\"/>\n",
       "<circle clip-path=\"url(#clip912)\" cx=\"1642.35\" cy=\"1158.87\" r=\"14\" fill=\"#0000ff\" fill-rule=\"evenodd\" fill-opacity=\"1\" stroke=\"#000000\" stroke-opacity=\"1\" stroke-width=\"3.2\"/>\n",
       "<circle clip-path=\"url(#clip912)\" cx=\"1859.6\" cy=\"998.957\" r=\"14\" fill=\"#0000ff\" fill-rule=\"evenodd\" fill-opacity=\"1\" stroke=\"#000000\" stroke-opacity=\"1\" stroke-width=\"3.2\"/>\n",
       "<circle clip-path=\"url(#clip912)\" cx=\"2076.85\" cy=\"798.332\" r=\"14\" fill=\"#0000ff\" fill-rule=\"evenodd\" fill-opacity=\"1\" stroke=\"#000000\" stroke-opacity=\"1\" stroke-width=\"3.2\"/>\n",
       "<circle clip-path=\"url(#clip912)\" cx=\"2294.1\" cy=\"715.614\" r=\"14\" fill=\"#0000ff\" fill-rule=\"evenodd\" fill-opacity=\"1\" stroke=\"#000000\" stroke-opacity=\"1\" stroke-width=\"3.2\"/>\n",
       "<polyline clip-path=\"url(#clip912)\" style=\"stroke:#000000; stroke-linecap:butt; stroke-linejoin:round; stroke-width:4; stroke-opacity:1; fill:none\" points=\"\n",
       "  338.848,1380.84 338.848,1380.24 \n",
       "  \"/>\n",
       "<polyline clip-path=\"url(#clip912)\" style=\"stroke:#000000; stroke-linecap:butt; stroke-linejoin:round; stroke-width:4; stroke-opacity:1; fill:none\" points=\"\n",
       "  556.098,1379 556.098,1370.08 \n",
       "  \"/>\n",
       "<polyline clip-path=\"url(#clip912)\" style=\"stroke:#000000; stroke-linecap:butt; stroke-linejoin:round; stroke-width:4; stroke-opacity:1; fill:none\" points=\"\n",
       "  773.348,1368.09 773.348,1362.82 \n",
       "  \"/>\n",
       "<polyline clip-path=\"url(#clip912)\" style=\"stroke:#000000; stroke-linecap:butt; stroke-linejoin:round; stroke-width:4; stroke-opacity:1; fill:none\" points=\"\n",
       "  990.598,1341.55 990.598,1313.94 \n",
       "  \"/>\n",
       "<polyline clip-path=\"url(#clip912)\" style=\"stroke:#000000; stroke-linecap:butt; stroke-linejoin:round; stroke-width:4; stroke-opacity:1; fill:none\" points=\"\n",
       "  1207.85,1263.43 1207.85,1243.78 \n",
       "  \"/>\n",
       "<polyline clip-path=\"url(#clip912)\" style=\"stroke:#000000; stroke-linecap:butt; stroke-linejoin:round; stroke-width:4; stroke-opacity:1; fill:none\" points=\"\n",
       "  1425.1,1176.08 1425.1,1145.35 \n",
       "  \"/>\n",
       "<polyline clip-path=\"url(#clip912)\" style=\"stroke:#000000; stroke-linecap:butt; stroke-linejoin:round; stroke-width:4; stroke-opacity:1; fill:none\" points=\"\n",
       "  1642.35,1028.78 1642.35,1015.04 \n",
       "  \"/>\n",
       "<polyline clip-path=\"url(#clip912)\" style=\"stroke:#000000; stroke-linecap:butt; stroke-linejoin:round; stroke-width:4; stroke-opacity:1; fill:none\" points=\"\n",
       "  1859.6,950.548 1859.6,789.937 \n",
       "  \"/>\n",
       "<polyline clip-path=\"url(#clip912)\" style=\"stroke:#000000; stroke-linecap:butt; stroke-linejoin:round; stroke-width:4; stroke-opacity:1; fill:none\" points=\"\n",
       "  2076.85,739.01 2076.85,605.869 \n",
       "  \"/>\n",
       "<polyline clip-path=\"url(#clip912)\" style=\"stroke:#000000; stroke-linecap:butt; stroke-linejoin:round; stroke-width:4; stroke-opacity:1; fill:none\" points=\"\n",
       "  2294.1,416.098 2294.1,86.1857 \n",
       "  \"/>\n",
       "<line clip-path=\"url(#clip912)\" x1=\"354.848\" y1=\"1380.84\" x2=\"322.848\" y2=\"1380.84\" style=\"stroke:#000000; stroke-width:3.2; stroke-opacity:1\"/>\n",
       "<line clip-path=\"url(#clip912)\" x1=\"354.848\" y1=\"1380.24\" x2=\"322.848\" y2=\"1380.24\" style=\"stroke:#000000; stroke-width:3.2; stroke-opacity:1\"/>\n",
       "<line clip-path=\"url(#clip912)\" x1=\"572.098\" y1=\"1379\" x2=\"540.098\" y2=\"1379\" style=\"stroke:#000000; stroke-width:3.2; stroke-opacity:1\"/>\n",
       "<line clip-path=\"url(#clip912)\" x1=\"572.098\" y1=\"1370.08\" x2=\"540.098\" y2=\"1370.08\" style=\"stroke:#000000; stroke-width:3.2; stroke-opacity:1\"/>\n",
       "<line clip-path=\"url(#clip912)\" x1=\"789.348\" y1=\"1368.09\" x2=\"757.348\" y2=\"1368.09\" style=\"stroke:#000000; stroke-width:3.2; stroke-opacity:1\"/>\n",
       "<line clip-path=\"url(#clip912)\" x1=\"789.348\" y1=\"1362.82\" x2=\"757.348\" y2=\"1362.82\" style=\"stroke:#000000; stroke-width:3.2; stroke-opacity:1\"/>\n",
       "<line clip-path=\"url(#clip912)\" x1=\"1006.6\" y1=\"1341.55\" x2=\"974.598\" y2=\"1341.55\" style=\"stroke:#000000; stroke-width:3.2; stroke-opacity:1\"/>\n",
       "<line clip-path=\"url(#clip912)\" x1=\"1006.6\" y1=\"1313.94\" x2=\"974.598\" y2=\"1313.94\" style=\"stroke:#000000; stroke-width:3.2; stroke-opacity:1\"/>\n",
       "<line clip-path=\"url(#clip912)\" x1=\"1223.85\" y1=\"1263.43\" x2=\"1191.85\" y2=\"1263.43\" style=\"stroke:#000000; stroke-width:3.2; stroke-opacity:1\"/>\n",
       "<line clip-path=\"url(#clip912)\" x1=\"1223.85\" y1=\"1243.78\" x2=\"1191.85\" y2=\"1243.78\" style=\"stroke:#000000; stroke-width:3.2; stroke-opacity:1\"/>\n",
       "<line clip-path=\"url(#clip912)\" x1=\"1441.1\" y1=\"1176.08\" x2=\"1409.1\" y2=\"1176.08\" style=\"stroke:#000000; stroke-width:3.2; stroke-opacity:1\"/>\n",
       "<line clip-path=\"url(#clip912)\" x1=\"1441.1\" y1=\"1145.35\" x2=\"1409.1\" y2=\"1145.35\" style=\"stroke:#000000; stroke-width:3.2; stroke-opacity:1\"/>\n",
       "<line clip-path=\"url(#clip912)\" x1=\"1658.35\" y1=\"1028.78\" x2=\"1626.35\" y2=\"1028.78\" style=\"stroke:#000000; stroke-width:3.2; stroke-opacity:1\"/>\n",
       "<line clip-path=\"url(#clip912)\" x1=\"1658.35\" y1=\"1015.04\" x2=\"1626.35\" y2=\"1015.04\" style=\"stroke:#000000; stroke-width:3.2; stroke-opacity:1\"/>\n",
       "<line clip-path=\"url(#clip912)\" x1=\"1875.6\" y1=\"950.548\" x2=\"1843.6\" y2=\"950.548\" style=\"stroke:#000000; stroke-width:3.2; stroke-opacity:1\"/>\n",
       "<line clip-path=\"url(#clip912)\" x1=\"1875.6\" y1=\"789.937\" x2=\"1843.6\" y2=\"789.937\" style=\"stroke:#000000; stroke-width:3.2; stroke-opacity:1\"/>\n",
       "<line clip-path=\"url(#clip912)\" x1=\"2092.85\" y1=\"739.01\" x2=\"2060.85\" y2=\"739.01\" style=\"stroke:#000000; stroke-width:3.2; stroke-opacity:1\"/>\n",
       "<line clip-path=\"url(#clip912)\" x1=\"2092.85\" y1=\"605.869\" x2=\"2060.85\" y2=\"605.869\" style=\"stroke:#000000; stroke-width:3.2; stroke-opacity:1\"/>\n",
       "<line clip-path=\"url(#clip912)\" x1=\"2310.1\" y1=\"416.098\" x2=\"2278.1\" y2=\"416.098\" style=\"stroke:#000000; stroke-width:3.2; stroke-opacity:1\"/>\n",
       "<line clip-path=\"url(#clip912)\" x1=\"2310.1\" y1=\"86.1857\" x2=\"2278.1\" y2=\"86.1857\" style=\"stroke:#000000; stroke-width:3.2; stroke-opacity:1\"/>\n",
       "<circle clip-path=\"url(#clip912)\" cx=\"338.848\" cy=\"1380.54\" r=\"14\" fill=\"#008000\" fill-rule=\"evenodd\" fill-opacity=\"1\" stroke=\"#000000\" stroke-opacity=\"1\" stroke-width=\"3.2\"/>\n",
       "<circle clip-path=\"url(#clip912)\" cx=\"556.098\" cy=\"1374.54\" r=\"14\" fill=\"#008000\" fill-rule=\"evenodd\" fill-opacity=\"1\" stroke=\"#000000\" stroke-opacity=\"1\" stroke-width=\"3.2\"/>\n",
       "<circle clip-path=\"url(#clip912)\" cx=\"773.348\" cy=\"1365.45\" r=\"14\" fill=\"#008000\" fill-rule=\"evenodd\" fill-opacity=\"1\" stroke=\"#000000\" stroke-opacity=\"1\" stroke-width=\"3.2\"/>\n",
       "<circle clip-path=\"url(#clip912)\" cx=\"990.598\" cy=\"1327.75\" r=\"14\" fill=\"#008000\" fill-rule=\"evenodd\" fill-opacity=\"1\" stroke=\"#000000\" stroke-opacity=\"1\" stroke-width=\"3.2\"/>\n",
       "<circle clip-path=\"url(#clip912)\" cx=\"1207.85\" cy=\"1253.61\" r=\"14\" fill=\"#008000\" fill-rule=\"evenodd\" fill-opacity=\"1\" stroke=\"#000000\" stroke-opacity=\"1\" stroke-width=\"3.2\"/>\n",
       "<circle clip-path=\"url(#clip912)\" cx=\"1425.1\" cy=\"1160.72\" r=\"14\" fill=\"#008000\" fill-rule=\"evenodd\" fill-opacity=\"1\" stroke=\"#000000\" stroke-opacity=\"1\" stroke-width=\"3.2\"/>\n",
       "<circle clip-path=\"url(#clip912)\" cx=\"1642.35\" cy=\"1021.91\" r=\"14\" fill=\"#008000\" fill-rule=\"evenodd\" fill-opacity=\"1\" stroke=\"#000000\" stroke-opacity=\"1\" stroke-width=\"3.2\"/>\n",
       "<circle clip-path=\"url(#clip912)\" cx=\"1859.6\" cy=\"870.242\" r=\"14\" fill=\"#008000\" fill-rule=\"evenodd\" fill-opacity=\"1\" stroke=\"#000000\" stroke-opacity=\"1\" stroke-width=\"3.2\"/>\n",
       "<circle clip-path=\"url(#clip912)\" cx=\"2076.85\" cy=\"672.44\" r=\"14\" fill=\"#008000\" fill-rule=\"evenodd\" fill-opacity=\"1\" stroke=\"#000000\" stroke-opacity=\"1\" stroke-width=\"3.2\"/>\n",
       "<circle clip-path=\"url(#clip912)\" cx=\"2294.1\" cy=\"251.142\" r=\"14\" fill=\"#008000\" fill-rule=\"evenodd\" fill-opacity=\"1\" stroke=\"#000000\" stroke-opacity=\"1\" stroke-width=\"3.2\"/>\n",
       "<path clip-path=\"url(#clip910)\" d=\"\n",
       "M1569.41 300.469 L2283.67 300.469 L2283.67 93.1086 L1569.41 93.1086  Z\n",
       "  \" fill=\"#ffffff\" fill-rule=\"evenodd\" fill-opacity=\"1\"/>\n",
       "<polyline clip-path=\"url(#clip910)\" style=\"stroke:#000000; stroke-linecap:butt; stroke-linejoin:round; stroke-width:4; stroke-opacity:1; fill:none\" points=\"\n",
       "  1569.41,300.469 2283.67,300.469 2283.67,93.1086 1569.41,93.1086 1569.41,300.469 \n",
       "  \"/>\n",
       "<circle clip-path=\"url(#clip910)\" cx=\"1661.52\" cy=\"144.949\" r=\"23\" fill=\"#ff0000\" fill-rule=\"evenodd\" fill-opacity=\"1\" stroke=\"#000000\" stroke-opacity=\"1\" stroke-width=\"5.12\"/>\n",
       "<path clip-path=\"url(#clip910)\" d=\"M1758.31 145.724 L1758.31 158.386 L1765.81 158.386 Q1769.58 158.386 1771.39 156.835 Q1773.22 155.261 1773.22 152.043 Q1773.22 148.803 1771.39 147.275 Q1769.58 145.724 1765.81 145.724 L1758.31 145.724 M1758.31 131.511 L1758.31 141.928 L1765.23 141.928 Q1768.66 141.928 1770.32 140.655 Q1772.01 139.358 1772.01 136.719 Q1772.01 134.104 1770.32 132.807 Q1768.66 131.511 1765.23 131.511 L1758.31 131.511 M1753.63 127.669 L1765.58 127.669 Q1770.93 127.669 1773.82 129.891 Q1776.71 132.113 1776.71 136.21 Q1776.71 139.382 1775.23 141.257 Q1773.75 143.131 1770.88 143.594 Q1774.33 144.335 1776.23 146.696 Q1778.15 149.034 1778.15 152.553 Q1778.15 157.182 1775 159.705 Q1771.85 162.229 1766.04 162.229 L1753.63 162.229 L1753.63 127.669 Z\" fill=\"#000000\" fill-rule=\"evenodd\" fill-opacity=\"1\" /><path clip-path=\"url(#clip910)\" d=\"M1786.16 127.669 L1790.83 127.669 L1790.83 158.293 L1807.66 158.293 L1807.66 162.229 L1786.16 162.229 L1786.16 127.669 Z\" fill=\"#000000\" fill-rule=\"evenodd\" fill-opacity=\"1\" /><path clip-path=\"url(#clip910)\" d=\"M1825.21 132.275 L1818.87 149.474 L1831.57 149.474 L1825.21 132.275 M1822.57 127.669 L1827.87 127.669 L1841.04 162.229 L1836.18 162.229 L1833.03 153.363 L1817.45 153.363 L1814.31 162.229 L1809.37 162.229 L1822.57 127.669 Z\" fill=\"#000000\" fill-rule=\"evenodd\" fill-opacity=\"1\" /><path clip-path=\"url(#clip910)\" d=\"M1866.81 128.803 L1866.81 133.363 Q1864.14 132.09 1861.78 131.465 Q1859.42 130.84 1857.22 130.84 Q1853.4 130.84 1851.32 132.321 Q1849.26 133.803 1849.26 136.534 Q1849.26 138.826 1850.62 140.007 Q1852.01 141.164 1855.86 141.882 L1858.68 142.46 Q1863.91 143.456 1866.39 145.979 Q1868.89 148.479 1868.89 152.692 Q1868.89 157.715 1865.51 160.307 Q1862.15 162.9 1855.65 162.9 Q1853.19 162.9 1850.42 162.344 Q1847.66 161.789 1844.7 160.701 L1844.7 155.886 Q1847.55 157.483 1850.28 158.293 Q1853.01 159.104 1855.65 159.104 Q1859.65 159.104 1861.83 157.53 Q1864 155.956 1864 153.039 Q1864 150.493 1862.43 149.057 Q1860.88 147.622 1857.31 146.905 L1854.47 146.349 Q1849.24 145.307 1846.9 143.085 Q1844.56 140.863 1844.56 136.905 Q1844.56 132.321 1847.78 129.682 Q1851.02 127.044 1856.69 127.044 Q1859.12 127.044 1861.64 127.483 Q1864.17 127.923 1866.81 128.803 Z\" fill=\"#000000\" fill-rule=\"evenodd\" fill-opacity=\"1\" /><path clip-path=\"url(#clip910)\" d=\"M1895.69 170.099 L1895.69 173.409 L1871.06 173.409 L1871.06 170.099 L1895.69 170.099 Z\" fill=\"#000000\" fill-rule=\"evenodd\" fill-opacity=\"1\" /><path clip-path=\"url(#clip910)\" d=\"M1919.88 141.28 Q1921.48 138.409 1923.7 137.044 Q1925.93 135.678 1928.93 135.678 Q1932.99 135.678 1935.18 138.525 Q1937.38 141.349 1937.38 146.581 L1937.38 162.229 L1933.1 162.229 L1933.1 146.719 Q1933.1 142.993 1931.78 141.187 Q1930.46 139.382 1927.75 139.382 Q1924.44 139.382 1922.52 141.581 Q1920.6 143.78 1920.6 147.576 L1920.6 162.229 L1916.32 162.229 L1916.32 146.719 Q1916.32 142.969 1915 141.187 Q1913.68 139.382 1910.93 139.382 Q1907.66 139.382 1905.74 141.604 Q1903.82 143.803 1903.82 147.576 L1903.82 162.229 L1899.54 162.229 L1899.54 136.303 L1903.82 136.303 L1903.82 140.331 Q1905.28 137.946 1907.31 136.812 Q1909.35 135.678 1912.15 135.678 Q1914.98 135.678 1916.94 137.113 Q1918.93 138.548 1919.88 141.28 Z\" fill=\"#000000\" fill-rule=\"evenodd\" fill-opacity=\"1\" /><path clip-path=\"url(#clip910)\" d=\"M1945.44 151.997 L1945.44 136.303 L1949.7 136.303 L1949.7 151.835 Q1949.7 155.516 1951.13 157.368 Q1952.57 159.196 1955.44 159.196 Q1958.89 159.196 1960.88 156.997 Q1962.89 154.798 1962.89 151.002 L1962.89 136.303 L1967.15 136.303 L1967.15 162.229 L1962.89 162.229 L1962.89 158.247 Q1961.34 160.608 1959.28 161.766 Q1957.24 162.9 1954.54 162.9 Q1950.07 162.9 1947.75 160.122 Q1945.44 157.344 1945.44 151.997 M1956.16 135.678 L1956.16 135.678 Z\" fill=\"#000000\" fill-rule=\"evenodd\" fill-opacity=\"1\" /><path clip-path=\"url(#clip910)\" d=\"M1975.92 126.21 L1980.18 126.21 L1980.18 162.229 L1975.92 162.229 L1975.92 126.21 Z\" fill=\"#000000\" fill-rule=\"evenodd\" fill-opacity=\"1\" /><path clip-path=\"url(#clip910)\" d=\"M1993.31 128.942 L1993.31 136.303 L2002.08 136.303 L2002.08 139.613 L1993.31 139.613 L1993.31 153.687 Q1993.31 156.858 1994.17 157.761 Q1995.05 158.664 1997.71 158.664 L2002.08 158.664 L2002.08 162.229 L1997.71 162.229 Q1992.78 162.229 1990.9 160.4 Q1989.03 158.548 1989.03 153.687 L1989.03 139.613 L1985.9 139.613 L1985.9 136.303 L1989.03 136.303 L1989.03 128.942 L1993.31 128.942 Z\" fill=\"#000000\" fill-rule=\"evenodd\" fill-opacity=\"1\" /><path clip-path=\"url(#clip910)\" d=\"M2007.68 136.303 L2011.94 136.303 L2011.94 162.229 L2007.68 162.229 L2007.68 136.303 M2007.68 126.21 L2011.94 126.21 L2011.94 131.604 L2007.68 131.604 L2007.68 126.21 Z\" fill=\"#000000\" fill-rule=\"evenodd\" fill-opacity=\"1\" /><path clip-path=\"url(#clip910)\" d=\"M2024.98 158.34 L2024.98 172.09 L2020.69 172.09 L2020.69 136.303 L2024.98 136.303 L2024.98 140.238 Q2026.32 137.923 2028.36 136.812 Q2030.42 135.678 2033.26 135.678 Q2037.98 135.678 2040.92 139.428 Q2043.89 143.178 2043.89 149.289 Q2043.89 155.4 2040.92 159.15 Q2037.98 162.9 2033.26 162.9 Q2030.42 162.9 2028.36 161.789 Q2026.32 160.655 2024.98 158.34 M2039.47 149.289 Q2039.47 144.59 2037.52 141.928 Q2035.6 139.243 2032.22 139.243 Q2028.84 139.243 2026.9 141.928 Q2024.98 144.59 2024.98 149.289 Q2024.98 153.988 2026.9 156.673 Q2028.84 159.335 2032.22 159.335 Q2035.6 159.335 2037.52 156.673 Q2039.47 153.988 2039.47 149.289 Z\" fill=\"#000000\" fill-rule=\"evenodd\" fill-opacity=\"1\" /><path clip-path=\"url(#clip910)\" d=\"M2050.95 126.21 L2055.21 126.21 L2055.21 162.229 L2050.95 162.229 L2050.95 126.21 Z\" fill=\"#000000\" fill-rule=\"evenodd\" fill-opacity=\"1\" /><path clip-path=\"url(#clip910)\" d=\"M2064.12 136.303 L2068.38 136.303 L2068.38 162.229 L2064.12 162.229 L2064.12 136.303 M2064.12 126.21 L2068.38 126.21 L2068.38 131.604 L2064.12 131.604 L2064.12 126.21 Z\" fill=\"#000000\" fill-rule=\"evenodd\" fill-opacity=\"1\" /><path clip-path=\"url(#clip910)\" d=\"M2095.95 137.298 L2095.95 141.28 Q2094.14 140.284 2092.31 139.798 Q2090.51 139.289 2088.66 139.289 Q2084.51 139.289 2082.22 141.928 Q2079.93 144.544 2079.93 149.289 Q2079.93 154.034 2082.22 156.673 Q2084.51 159.289 2088.66 159.289 Q2090.51 159.289 2092.31 158.803 Q2094.14 158.293 2095.95 157.298 L2095.95 161.233 Q2094.17 162.067 2092.24 162.483 Q2090.35 162.9 2088.19 162.9 Q2082.34 162.9 2078.89 159.219 Q2075.44 155.539 2075.44 149.289 Q2075.44 142.946 2078.91 139.312 Q2082.41 135.678 2088.47 135.678 Q2090.44 135.678 2092.31 136.095 Q2094.19 136.488 2095.95 137.298 Z\" fill=\"#000000\" fill-rule=\"evenodd\" fill-opacity=\"1\" /><path clip-path=\"url(#clip910)\" d=\"M2115.14 149.196 Q2109.98 149.196 2107.98 150.377 Q2105.99 151.557 2105.99 154.405 Q2105.99 156.673 2107.48 158.016 Q2108.98 159.335 2111.55 159.335 Q2115.09 159.335 2117.22 156.835 Q2119.37 154.312 2119.37 150.145 L2119.37 149.196 L2115.14 149.196 M2123.63 147.437 L2123.63 162.229 L2119.37 162.229 L2119.37 158.293 Q2117.91 160.655 2115.74 161.789 Q2113.56 162.9 2110.41 162.9 Q2106.43 162.9 2104.07 160.678 Q2101.73 158.432 2101.73 154.682 Q2101.73 150.307 2104.65 148.085 Q2107.59 145.863 2113.4 145.863 L2119.37 145.863 L2119.37 145.446 Q2119.37 142.507 2117.43 140.909 Q2115.51 139.289 2112.01 139.289 Q2109.79 139.289 2107.68 139.821 Q2105.58 140.354 2103.63 141.419 L2103.63 137.483 Q2105.97 136.581 2108.17 136.141 Q2110.37 135.678 2112.45 135.678 Q2118.08 135.678 2120.85 138.594 Q2123.63 141.511 2123.63 147.437 Z\" fill=\"#000000\" fill-rule=\"evenodd\" fill-opacity=\"1\" /><path clip-path=\"url(#clip910)\" d=\"M2136.62 128.942 L2136.62 136.303 L2145.39 136.303 L2145.39 139.613 L2136.62 139.613 L2136.62 153.687 Q2136.62 156.858 2137.48 157.761 Q2138.35 158.664 2141.02 158.664 L2145.39 158.664 L2145.39 162.229 L2141.02 162.229 Q2136.09 162.229 2134.21 160.4 Q2132.34 158.548 2132.34 153.687 L2132.34 139.613 L2129.21 139.613 L2129.21 136.303 L2132.34 136.303 L2132.34 128.942 L2136.62 128.942 Z\" fill=\"#000000\" fill-rule=\"evenodd\" fill-opacity=\"1\" /><path clip-path=\"url(#clip910)\" d=\"M2150.99 136.303 L2155.25 136.303 L2155.25 162.229 L2150.99 162.229 L2150.99 136.303 M2150.99 126.21 L2155.25 126.21 L2155.25 131.604 L2150.99 131.604 L2150.99 126.21 Z\" fill=\"#000000\" fill-rule=\"evenodd\" fill-opacity=\"1\" /><path clip-path=\"url(#clip910)\" d=\"M2174.21 139.289 Q2170.79 139.289 2168.79 141.974 Q2166.8 144.636 2166.8 149.289 Q2166.8 153.942 2168.77 156.627 Q2170.76 159.289 2174.21 159.289 Q2177.61 159.289 2179.6 156.604 Q2181.6 153.918 2181.6 149.289 Q2181.6 144.682 2179.6 141.997 Q2177.61 139.289 2174.21 139.289 M2174.21 135.678 Q2179.77 135.678 2182.94 139.289 Q2186.11 142.9 2186.11 149.289 Q2186.11 155.655 2182.94 159.289 Q2179.77 162.9 2174.21 162.9 Q2168.63 162.9 2165.46 159.289 Q2162.31 155.655 2162.31 149.289 Q2162.31 142.9 2165.46 139.289 Q2168.63 135.678 2174.21 135.678 Z\" fill=\"#000000\" fill-rule=\"evenodd\" fill-opacity=\"1\" /><path clip-path=\"url(#clip910)\" d=\"M2214.72 146.581 L2214.72 162.229 L2210.46 162.229 L2210.46 146.719 Q2210.46 143.039 2209.03 141.21 Q2207.59 139.382 2204.72 139.382 Q2201.27 139.382 2199.28 141.581 Q2197.29 143.78 2197.29 147.576 L2197.29 162.229 L2193.01 162.229 L2193.01 136.303 L2197.29 136.303 L2197.29 140.331 Q2198.82 137.993 2200.88 136.835 Q2202.96 135.678 2205.67 135.678 Q2210.14 135.678 2212.43 138.456 Q2214.72 141.21 2214.72 146.581 Z\" fill=\"#000000\" fill-rule=\"evenodd\" fill-opacity=\"1\" /><circle clip-path=\"url(#clip910)\" cx=\"1661.52\" cy=\"196.789\" r=\"23\" fill=\"#0000ff\" fill-rule=\"evenodd\" fill-opacity=\"1\" stroke=\"#000000\" stroke-opacity=\"1\" stroke-width=\"5.12\"/>\n",
       "<path clip-path=\"url(#clip910)\" d=\"M1772.41 201.129 Q1772.41 196.43 1770.46 193.768 Q1768.54 191.083 1765.16 191.083 Q1761.78 191.083 1759.84 193.768 Q1757.92 196.43 1757.92 201.129 Q1757.92 205.828 1759.84 208.513 Q1761.78 211.175 1765.16 211.175 Q1768.54 211.175 1770.46 208.513 Q1772.41 205.828 1772.41 201.129 M1757.92 192.078 Q1759.26 189.763 1761.3 188.652 Q1763.36 187.518 1766.2 187.518 Q1770.93 187.518 1773.87 191.268 Q1776.83 195.018 1776.83 201.129 Q1776.83 207.24 1773.87 210.99 Q1770.93 214.74 1766.2 214.74 Q1763.36 214.74 1761.3 213.629 Q1759.26 212.495 1757.92 210.18 L1757.92 214.069 L1753.63 214.069 L1753.63 178.05 L1757.92 178.05 L1757.92 192.078 Z\" fill=\"#000000\" fill-rule=\"evenodd\" fill-opacity=\"1\" /><path clip-path=\"url(#clip910)\" d=\"M1806.06 200.041 L1806.06 202.124 L1786.48 202.124 Q1786.76 206.522 1789.12 208.837 Q1791.5 211.129 1795.74 211.129 Q1798.19 211.129 1800.49 210.527 Q1802.8 209.925 1805.07 208.721 L1805.07 212.749 Q1802.78 213.721 1800.37 214.231 Q1797.96 214.74 1795.49 214.74 Q1789.28 214.74 1785.65 211.129 Q1782.04 207.518 1782.04 201.36 Q1782.04 194.995 1785.46 191.268 Q1788.91 187.518 1794.75 187.518 Q1799.98 187.518 1803.01 190.897 Q1806.06 194.254 1806.06 200.041 M1801.81 198.791 Q1801.76 195.296 1799.84 193.212 Q1797.94 191.129 1794.79 191.129 Q1791.23 191.129 1789.07 193.143 Q1786.94 195.157 1786.62 198.814 L1801.81 198.791 Z\" fill=\"#000000\" fill-rule=\"evenodd\" fill-opacity=\"1\" /><path clip-path=\"url(#clip910)\" d=\"M1817.27 180.782 L1817.27 188.143 L1826.04 188.143 L1826.04 191.453 L1817.27 191.453 L1817.27 205.527 Q1817.27 208.698 1818.12 209.601 Q1819 210.504 1821.67 210.504 L1826.04 210.504 L1826.04 214.069 L1821.67 214.069 Q1816.74 214.069 1814.86 212.24 Q1812.99 210.388 1812.99 205.527 L1812.99 191.453 L1809.86 191.453 L1809.86 188.143 L1812.99 188.143 L1812.99 180.782 L1817.27 180.782 Z\" fill=\"#000000\" fill-rule=\"evenodd\" fill-opacity=\"1\" /><path clip-path=\"url(#clip910)\" d=\"M1835.86 180.782 L1835.86 188.143 L1844.63 188.143 L1844.63 191.453 L1835.86 191.453 L1835.86 205.527 Q1835.86 208.698 1836.71 209.601 Q1837.59 210.504 1840.25 210.504 L1844.63 210.504 L1844.63 214.069 L1840.25 214.069 Q1835.32 214.069 1833.45 212.24 Q1831.57 210.388 1831.57 205.527 L1831.57 191.453 L1828.45 191.453 L1828.45 188.143 L1831.57 188.143 L1831.57 180.782 L1835.86 180.782 Z\" fill=\"#000000\" fill-rule=\"evenodd\" fill-opacity=\"1\" /><path clip-path=\"url(#clip910)\" d=\"M1872.41 200.041 L1872.41 202.124 L1852.82 202.124 Q1853.1 206.522 1855.46 208.837 Q1857.85 211.129 1862.08 211.129 Q1864.54 211.129 1866.83 210.527 Q1869.14 209.925 1871.41 208.721 L1871.41 212.749 Q1869.12 213.721 1866.71 214.231 Q1864.31 214.74 1861.83 214.74 Q1855.62 214.74 1851.99 211.129 Q1848.38 207.518 1848.38 201.36 Q1848.38 194.995 1851.81 191.268 Q1855.25 187.518 1861.09 187.518 Q1866.32 187.518 1869.35 190.897 Q1872.41 194.254 1872.41 200.041 M1868.15 198.791 Q1868.1 195.296 1866.18 193.212 Q1864.28 191.129 1861.13 191.129 Q1857.57 191.129 1855.42 193.143 Q1853.29 195.157 1852.96 198.814 L1868.15 198.791 Z\" fill=\"#000000\" fill-rule=\"evenodd\" fill-opacity=\"1\" /><path clip-path=\"url(#clip910)\" d=\"M1894.42 192.124 Q1893.7 191.708 1892.85 191.522 Q1892.01 191.314 1890.99 191.314 Q1887.38 191.314 1885.44 193.675 Q1883.52 196.013 1883.52 200.411 L1883.52 214.069 L1879.24 214.069 L1879.24 188.143 L1883.52 188.143 L1883.52 192.171 Q1884.86 189.809 1887.01 188.675 Q1889.17 187.518 1892.24 187.518 Q1892.68 187.518 1893.22 187.587 Q1893.75 187.634 1894.4 187.749 L1894.42 192.124 Z\" fill=\"#000000\" fill-rule=\"evenodd\" fill-opacity=\"1\" /><path clip-path=\"url(#clip910)\" d=\"M1918.59 221.939 L1918.59 225.249 L1893.96 225.249 L1893.96 221.939 L1918.59 221.939 Z\" fill=\"#000000\" fill-rule=\"evenodd\" fill-opacity=\"1\" /><path clip-path=\"url(#clip910)\" d=\"M1942.78 193.12 Q1944.37 190.249 1946.6 188.884 Q1948.82 187.518 1951.83 187.518 Q1955.88 187.518 1958.08 190.365 Q1960.28 193.189 1960.28 198.421 L1960.28 214.069 L1955.99 214.069 L1955.99 198.559 Q1955.99 194.833 1954.68 193.027 Q1953.36 191.222 1950.65 191.222 Q1947.34 191.222 1945.42 193.421 Q1943.49 195.62 1943.49 199.416 L1943.49 214.069 L1939.21 214.069 L1939.21 198.559 Q1939.21 194.809 1937.89 193.027 Q1936.57 191.222 1933.82 191.222 Q1930.55 191.222 1928.63 193.444 Q1926.71 195.643 1926.71 199.416 L1926.71 214.069 L1922.43 214.069 L1922.43 188.143 L1926.71 188.143 L1926.71 192.171 Q1928.17 189.786 1930.21 188.652 Q1932.24 187.518 1935.05 187.518 Q1937.87 187.518 1939.84 188.953 Q1941.83 190.388 1942.78 193.12 Z\" fill=\"#000000\" fill-rule=\"evenodd\" fill-opacity=\"1\" /><path clip-path=\"url(#clip910)\" d=\"M1968.33 203.837 L1968.33 188.143 L1972.59 188.143 L1972.59 203.675 Q1972.59 207.356 1974.03 209.208 Q1975.46 211.036 1978.33 211.036 Q1981.78 211.036 1983.77 208.837 Q1985.79 206.638 1985.79 202.842 L1985.79 188.143 L1990.05 188.143 L1990.05 214.069 L1985.79 214.069 L1985.79 210.087 Q1984.24 212.448 1982.17 213.606 Q1980.14 214.74 1977.43 214.74 Q1972.96 214.74 1970.65 211.962 Q1968.33 209.184 1968.33 203.837 M1979.05 187.518 L1979.05 187.518 Z\" fill=\"#000000\" fill-rule=\"evenodd\" fill-opacity=\"1\" /><path clip-path=\"url(#clip910)\" d=\"M1998.82 178.05 L2003.08 178.05 L2003.08 214.069 L1998.82 214.069 L1998.82 178.05 Z\" fill=\"#000000\" fill-rule=\"evenodd\" fill-opacity=\"1\" /><path clip-path=\"url(#clip910)\" d=\"M2016.2 180.782 L2016.2 188.143 L2024.98 188.143 L2024.98 191.453 L2016.2 191.453 L2016.2 205.527 Q2016.2 208.698 2017.06 209.601 Q2017.94 210.504 2020.6 210.504 L2024.98 210.504 L2024.98 214.069 L2020.6 214.069 Q2015.67 214.069 2013.8 212.24 Q2011.92 210.388 2011.92 205.527 L2011.92 191.453 L2008.8 191.453 L2008.8 188.143 L2011.92 188.143 L2011.92 180.782 L2016.2 180.782 Z\" fill=\"#000000\" fill-rule=\"evenodd\" fill-opacity=\"1\" /><path clip-path=\"url(#clip910)\" d=\"M2030.58 188.143 L2034.84 188.143 L2034.84 214.069 L2030.58 214.069 L2030.58 188.143 M2030.58 178.05 L2034.84 178.05 L2034.84 183.444 L2030.58 183.444 L2030.58 178.05 Z\" fill=\"#000000\" fill-rule=\"evenodd\" fill-opacity=\"1\" /><path clip-path=\"url(#clip910)\" d=\"M2047.87 210.18 L2047.87 223.93 L2043.59 223.93 L2043.59 188.143 L2047.87 188.143 L2047.87 192.078 Q2049.21 189.763 2051.25 188.652 Q2053.31 187.518 2056.16 187.518 Q2060.88 187.518 2063.82 191.268 Q2066.78 195.018 2066.78 201.129 Q2066.78 207.24 2063.82 210.99 Q2060.88 214.74 2056.16 214.74 Q2053.31 214.74 2051.25 213.629 Q2049.21 212.495 2047.87 210.18 M2062.36 201.129 Q2062.36 196.43 2060.42 193.768 Q2058.49 191.083 2055.11 191.083 Q2051.73 191.083 2049.79 193.768 Q2047.87 196.43 2047.87 201.129 Q2047.87 205.828 2049.79 208.513 Q2051.73 211.175 2055.11 211.175 Q2058.49 211.175 2060.42 208.513 Q2062.36 205.828 2062.36 201.129 Z\" fill=\"#000000\" fill-rule=\"evenodd\" fill-opacity=\"1\" /><path clip-path=\"url(#clip910)\" d=\"M2073.84 178.05 L2078.1 178.05 L2078.1 214.069 L2073.84 214.069 L2073.84 178.05 Z\" fill=\"#000000\" fill-rule=\"evenodd\" fill-opacity=\"1\" /><path clip-path=\"url(#clip910)\" d=\"M2087.01 188.143 L2091.27 188.143 L2091.27 214.069 L2087.01 214.069 L2087.01 188.143 M2087.01 178.05 L2091.27 178.05 L2091.27 183.444 L2087.01 183.444 L2087.01 178.05 Z\" fill=\"#000000\" fill-rule=\"evenodd\" fill-opacity=\"1\" /><path clip-path=\"url(#clip910)\" d=\"M2118.84 189.138 L2118.84 193.12 Q2117.04 192.124 2115.21 191.638 Q2113.4 191.129 2111.55 191.129 Q2107.41 191.129 2105.11 193.768 Q2102.82 196.384 2102.82 201.129 Q2102.82 205.874 2105.11 208.513 Q2107.41 211.129 2111.55 211.129 Q2113.4 211.129 2115.21 210.643 Q2117.04 210.133 2118.84 209.138 L2118.84 213.073 Q2117.06 213.907 2115.14 214.323 Q2113.24 214.74 2111.09 214.74 Q2105.23 214.74 2101.78 211.059 Q2098.33 207.379 2098.33 201.129 Q2098.33 194.786 2101.8 191.152 Q2105.3 187.518 2111.36 187.518 Q2113.33 187.518 2115.21 187.935 Q2117.08 188.328 2118.84 189.138 Z\" fill=\"#000000\" fill-rule=\"evenodd\" fill-opacity=\"1\" /><path clip-path=\"url(#clip910)\" d=\"M2138.03 201.036 Q2132.87 201.036 2130.88 202.217 Q2128.89 203.397 2128.89 206.245 Q2128.89 208.513 2130.37 209.856 Q2131.87 211.175 2134.44 211.175 Q2137.98 211.175 2140.11 208.675 Q2142.27 206.152 2142.27 201.985 L2142.27 201.036 L2138.03 201.036 M2146.53 199.277 L2146.53 214.069 L2142.27 214.069 L2142.27 210.133 Q2140.81 212.495 2138.63 213.629 Q2136.46 214.74 2133.31 214.74 Q2129.33 214.74 2126.97 212.518 Q2124.63 210.272 2124.63 206.522 Q2124.63 202.147 2127.54 199.925 Q2130.48 197.703 2136.29 197.703 L2142.27 197.703 L2142.27 197.286 Q2142.27 194.347 2140.32 192.749 Q2138.4 191.129 2134.91 191.129 Q2132.68 191.129 2130.58 191.661 Q2128.47 192.194 2126.53 193.259 L2126.53 189.323 Q2128.86 188.421 2131.06 187.981 Q2133.26 187.518 2135.35 187.518 Q2140.97 187.518 2143.75 190.434 Q2146.53 193.351 2146.53 199.277 Z\" fill=\"#000000\" fill-rule=\"evenodd\" fill-opacity=\"1\" /><path clip-path=\"url(#clip910)\" d=\"M2159.51 180.782 L2159.51 188.143 L2168.29 188.143 L2168.29 191.453 L2159.51 191.453 L2159.51 205.527 Q2159.51 208.698 2160.37 209.601 Q2161.25 210.504 2163.91 210.504 L2168.29 210.504 L2168.29 214.069 L2163.91 214.069 Q2158.98 214.069 2157.1 212.24 Q2155.23 210.388 2155.23 205.527 L2155.23 191.453 L2152.1 191.453 L2152.1 188.143 L2155.23 188.143 L2155.23 180.782 L2159.51 180.782 Z\" fill=\"#000000\" fill-rule=\"evenodd\" fill-opacity=\"1\" /><path clip-path=\"url(#clip910)\" d=\"M2173.89 188.143 L2178.15 188.143 L2178.15 214.069 L2173.89 214.069 L2173.89 188.143 M2173.89 178.05 L2178.15 178.05 L2178.15 183.444 L2173.89 183.444 L2173.89 178.05 Z\" fill=\"#000000\" fill-rule=\"evenodd\" fill-opacity=\"1\" /><path clip-path=\"url(#clip910)\" d=\"M2197.1 191.129 Q2193.68 191.129 2191.69 193.814 Q2189.7 196.476 2189.7 201.129 Q2189.7 205.782 2191.66 208.467 Q2193.66 211.129 2197.1 211.129 Q2200.51 211.129 2202.5 208.444 Q2204.49 205.758 2204.49 201.129 Q2204.49 196.522 2202.5 193.837 Q2200.51 191.129 2197.1 191.129 M2197.1 187.518 Q2202.66 187.518 2205.83 191.129 Q2209 194.74 2209 201.129 Q2209 207.495 2205.83 211.129 Q2202.66 214.74 2197.1 214.74 Q2191.53 214.74 2188.35 211.129 Q2185.21 207.495 2185.21 201.129 Q2185.21 194.74 2188.35 191.129 Q2191.53 187.518 2197.1 187.518 Z\" fill=\"#000000\" fill-rule=\"evenodd\" fill-opacity=\"1\" /><path clip-path=\"url(#clip910)\" d=\"M2237.61 198.421 L2237.61 214.069 L2233.35 214.069 L2233.35 198.559 Q2233.35 194.879 2231.92 193.05 Q2230.48 191.222 2227.61 191.222 Q2224.16 191.222 2222.17 193.421 Q2220.18 195.62 2220.18 199.416 L2220.18 214.069 L2215.9 214.069 L2215.9 188.143 L2220.18 188.143 L2220.18 192.171 Q2221.71 189.833 2223.77 188.675 Q2225.85 187.518 2228.56 187.518 Q2233.03 187.518 2235.32 190.296 Q2237.61 193.05 2237.61 198.421 Z\" fill=\"#000000\" fill-rule=\"evenodd\" fill-opacity=\"1\" /><circle clip-path=\"url(#clip910)\" cx=\"1661.52\" cy=\"248.629\" r=\"23\" fill=\"#008000\" fill-rule=\"evenodd\" fill-opacity=\"1\" stroke=\"#000000\" stroke-opacity=\"1\" stroke-width=\"5.12\"/>\n",
       "<path clip-path=\"url(#clip910)\" d=\"M1775.35 250.261 L1775.35 265.909 L1771.09 265.909 L1771.09 250.399 Q1771.09 246.719 1769.65 244.89 Q1768.22 243.062 1765.35 243.062 Q1761.9 243.062 1759.91 245.261 Q1757.92 247.46 1757.92 251.256 L1757.92 265.909 L1753.63 265.909 L1753.63 239.983 L1757.92 239.983 L1757.92 244.011 Q1759.44 241.673 1761.5 240.515 Q1763.59 239.358 1766.3 239.358 Q1770.76 239.358 1773.06 242.136 Q1775.35 244.89 1775.35 250.261 Z\" fill=\"#000000\" fill-rule=\"evenodd\" fill-opacity=\"1\" /><path clip-path=\"url(#clip910)\" d=\"M1795.62 252.876 Q1790.46 252.876 1788.47 254.057 Q1786.48 255.237 1786.48 258.085 Q1786.48 260.353 1787.96 261.696 Q1789.47 263.015 1792.04 263.015 Q1795.58 263.015 1797.71 260.515 Q1799.86 257.992 1799.86 253.825 L1799.86 252.876 L1795.62 252.876 M1804.12 251.117 L1804.12 265.909 L1799.86 265.909 L1799.86 261.973 Q1798.4 264.335 1796.23 265.469 Q1794.05 266.58 1790.9 266.58 Q1786.92 266.58 1784.56 264.358 Q1782.22 262.112 1782.22 258.362 Q1782.22 253.987 1785.14 251.765 Q1788.08 249.543 1793.89 249.543 L1799.86 249.543 L1799.86 249.126 Q1799.86 246.187 1797.92 244.589 Q1796 242.969 1792.5 242.969 Q1790.28 242.969 1788.17 243.501 Q1786.06 244.034 1784.12 245.099 L1784.12 241.163 Q1786.46 240.261 1788.66 239.821 Q1790.86 239.358 1792.94 239.358 Q1798.56 239.358 1801.34 242.274 Q1804.12 245.191 1804.12 251.117 Z\" fill=\"#000000\" fill-rule=\"evenodd\" fill-opacity=\"1\" /><path clip-path=\"url(#clip910)\" d=\"M1812.89 239.983 L1817.15 239.983 L1817.15 265.909 L1812.89 265.909 L1812.89 239.983 M1812.89 229.89 L1817.15 229.89 L1817.15 235.284 L1812.89 235.284 L1812.89 229.89 Z\" fill=\"#000000\" fill-rule=\"evenodd\" fill-opacity=\"1\" /><path clip-path=\"url(#clip910)\" d=\"M1823.01 239.983 L1827.52 239.983 L1835.62 261.742 L1843.73 239.983 L1848.24 239.983 L1838.52 265.909 L1832.73 265.909 L1823.01 239.983 Z\" fill=\"#000000\" fill-rule=\"evenodd\" fill-opacity=\"1\" /><path clip-path=\"url(#clip910)\" d=\"M1876.3 251.881 L1876.3 253.964 L1856.71 253.964 Q1856.99 258.362 1859.35 260.677 Q1861.74 262.969 1865.97 262.969 Q1868.43 262.969 1870.72 262.367 Q1873.03 261.765 1875.3 260.561 L1875.3 264.589 Q1873.01 265.561 1870.6 266.071 Q1868.19 266.58 1865.72 266.58 Q1859.51 266.58 1855.88 262.969 Q1852.27 259.358 1852.27 253.2 Q1852.27 246.835 1855.69 243.108 Q1859.14 239.358 1864.98 239.358 Q1870.21 239.358 1873.24 242.737 Q1876.3 246.094 1876.3 251.881 M1872.04 250.631 Q1871.99 247.136 1870.07 245.052 Q1868.17 242.969 1865.02 242.969 Q1861.46 242.969 1859.31 244.983 Q1857.18 246.997 1856.85 250.654 L1872.04 250.631 Z\" fill=\"#000000\" fill-rule=\"evenodd\" fill-opacity=\"1\" /><path clip-path=\"url(#clip910)\" d=\"M1902.99 273.779 L1902.99 277.089 L1878.36 277.089 L1878.36 273.779 L1902.99 273.779 Z\" fill=\"#000000\" fill-rule=\"evenodd\" fill-opacity=\"1\" /><path clip-path=\"url(#clip910)\" d=\"M1927.18 244.96 Q1928.77 242.089 1930.99 240.724 Q1933.22 239.358 1936.23 239.358 Q1940.28 239.358 1942.48 242.205 Q1944.68 245.029 1944.68 250.261 L1944.68 265.909 L1940.39 265.909 L1940.39 250.399 Q1940.39 246.673 1939.07 244.867 Q1937.75 243.062 1935.05 243.062 Q1931.74 243.062 1929.81 245.261 Q1927.89 247.46 1927.89 251.256 L1927.89 265.909 L1923.61 265.909 L1923.61 250.399 Q1923.61 246.649 1922.29 244.867 Q1920.97 243.062 1918.22 243.062 Q1914.95 243.062 1913.03 245.284 Q1911.11 247.483 1911.11 251.256 L1911.11 265.909 L1906.83 265.909 L1906.83 239.983 L1911.11 239.983 L1911.11 244.011 Q1912.57 241.626 1914.61 240.492 Q1916.64 239.358 1919.44 239.358 Q1922.27 239.358 1924.24 240.793 Q1926.23 242.228 1927.18 244.96 Z\" fill=\"#000000\" fill-rule=\"evenodd\" fill-opacity=\"1\" /><path clip-path=\"url(#clip910)\" d=\"M1952.73 255.677 L1952.73 239.983 L1956.99 239.983 L1956.99 255.515 Q1956.99 259.196 1958.43 261.048 Q1959.86 262.876 1962.73 262.876 Q1966.18 262.876 1968.17 260.677 Q1970.18 258.478 1970.18 254.682 L1970.18 239.983 L1974.44 239.983 L1974.44 265.909 L1970.18 265.909 L1970.18 261.927 Q1968.63 264.288 1966.57 265.446 Q1964.54 266.58 1961.83 266.58 Q1957.36 266.58 1955.05 263.802 Q1952.73 261.024 1952.73 255.677 M1963.45 239.358 L1963.45 239.358 Z\" fill=\"#000000\" fill-rule=\"evenodd\" fill-opacity=\"1\" /><path clip-path=\"url(#clip910)\" d=\"M1983.22 229.89 L1987.48 229.89 L1987.48 265.909 L1983.22 265.909 L1983.22 229.89 Z\" fill=\"#000000\" fill-rule=\"evenodd\" fill-opacity=\"1\" /><path clip-path=\"url(#clip910)\" d=\"M2000.6 232.622 L2000.6 239.983 L2009.37 239.983 L2009.37 243.293 L2000.6 243.293 L2000.6 257.367 Q2000.6 260.538 2001.46 261.441 Q2002.34 262.344 2005 262.344 L2009.37 262.344 L2009.37 265.909 L2005 265.909 Q2000.07 265.909 1998.19 264.08 Q1996.32 262.228 1996.32 257.367 L1996.32 243.293 L1993.19 243.293 L1993.19 239.983 L1996.32 239.983 L1996.32 232.622 L2000.6 232.622 Z\" fill=\"#000000\" fill-rule=\"evenodd\" fill-opacity=\"1\" /><path clip-path=\"url(#clip910)\" d=\"M2014.98 239.983 L2019.23 239.983 L2019.23 265.909 L2014.98 265.909 L2014.98 239.983 M2014.98 229.89 L2019.23 229.89 L2019.23 235.284 L2014.98 235.284 L2014.98 229.89 Z\" fill=\"#000000\" fill-rule=\"evenodd\" fill-opacity=\"1\" /><path clip-path=\"url(#clip910)\" d=\"M2032.27 262.02 L2032.27 275.77 L2027.98 275.77 L2027.98 239.983 L2032.27 239.983 L2032.27 243.918 Q2033.61 241.603 2035.65 240.492 Q2037.71 239.358 2040.55 239.358 Q2045.28 239.358 2048.22 243.108 Q2051.18 246.858 2051.18 252.969 Q2051.18 259.08 2048.22 262.83 Q2045.28 266.58 2040.55 266.58 Q2037.71 266.58 2035.65 265.469 Q2033.61 264.335 2032.27 262.02 M2046.76 252.969 Q2046.76 248.27 2044.81 245.608 Q2042.89 242.923 2039.51 242.923 Q2036.13 242.923 2034.19 245.608 Q2032.27 248.27 2032.27 252.969 Q2032.27 257.668 2034.19 260.353 Q2036.13 263.015 2039.51 263.015 Q2042.89 263.015 2044.81 260.353 Q2046.76 257.668 2046.76 252.969 Z\" fill=\"#000000\" fill-rule=\"evenodd\" fill-opacity=\"1\" /><path clip-path=\"url(#clip910)\" d=\"M2058.24 229.89 L2062.5 229.89 L2062.5 265.909 L2058.24 265.909 L2058.24 229.89 Z\" fill=\"#000000\" fill-rule=\"evenodd\" fill-opacity=\"1\" /><path clip-path=\"url(#clip910)\" d=\"M2071.41 239.983 L2075.67 239.983 L2075.67 265.909 L2071.41 265.909 L2071.41 239.983 M2071.41 229.89 L2075.67 229.89 L2075.67 235.284 L2071.41 235.284 L2071.41 229.89 Z\" fill=\"#000000\" fill-rule=\"evenodd\" fill-opacity=\"1\" /><path clip-path=\"url(#clip910)\" d=\"M2103.24 240.978 L2103.24 244.96 Q2101.43 243.964 2099.6 243.478 Q2097.8 242.969 2095.95 242.969 Q2091.8 242.969 2089.51 245.608 Q2087.22 248.224 2087.22 252.969 Q2087.22 257.714 2089.51 260.353 Q2091.8 262.969 2095.95 262.969 Q2097.8 262.969 2099.6 262.483 Q2101.43 261.973 2103.24 260.978 L2103.24 264.913 Q2101.46 265.747 2099.54 266.163 Q2097.64 266.58 2095.48 266.58 Q2089.63 266.58 2086.18 262.899 Q2082.73 259.219 2082.73 252.969 Q2082.73 246.626 2086.2 242.992 Q2089.7 239.358 2095.76 239.358 Q2097.73 239.358 2099.6 239.775 Q2101.48 240.168 2103.24 240.978 Z\" fill=\"#000000\" fill-rule=\"evenodd\" fill-opacity=\"1\" /><path clip-path=\"url(#clip910)\" d=\"M2122.43 252.876 Q2117.27 252.876 2115.28 254.057 Q2113.29 255.237 2113.29 258.085 Q2113.29 260.353 2114.77 261.696 Q2116.27 263.015 2118.84 263.015 Q2122.38 263.015 2124.51 260.515 Q2126.66 257.992 2126.66 253.825 L2126.66 252.876 L2122.43 252.876 M2130.92 251.117 L2130.92 265.909 L2126.66 265.909 L2126.66 261.973 Q2125.21 264.335 2123.03 265.469 Q2120.85 266.58 2117.71 266.58 Q2113.73 266.58 2111.36 264.358 Q2109.03 262.112 2109.03 258.362 Q2109.03 253.987 2111.94 251.765 Q2114.88 249.543 2120.69 249.543 L2126.66 249.543 L2126.66 249.126 Q2126.66 246.187 2124.72 244.589 Q2122.8 242.969 2119.3 242.969 Q2117.08 242.969 2114.98 243.501 Q2112.87 244.034 2110.92 245.099 L2110.92 241.163 Q2113.26 240.261 2115.46 239.821 Q2117.66 239.358 2119.74 239.358 Q2125.37 239.358 2128.15 242.274 Q2130.92 245.191 2130.92 251.117 Z\" fill=\"#000000\" fill-rule=\"evenodd\" fill-opacity=\"1\" /><path clip-path=\"url(#clip910)\" d=\"M2143.91 232.622 L2143.91 239.983 L2152.68 239.983 L2152.68 243.293 L2143.91 243.293 L2143.91 257.367 Q2143.91 260.538 2144.77 261.441 Q2145.65 262.344 2148.31 262.344 L2152.68 262.344 L2152.68 265.909 L2148.31 265.909 Q2143.38 265.909 2141.5 264.08 Q2139.63 262.228 2139.63 257.367 L2139.63 243.293 L2136.5 243.293 L2136.5 239.983 L2139.63 239.983 L2139.63 232.622 L2143.91 232.622 Z\" fill=\"#000000\" fill-rule=\"evenodd\" fill-opacity=\"1\" /><path clip-path=\"url(#clip910)\" d=\"M2158.29 239.983 L2162.54 239.983 L2162.54 265.909 L2158.29 265.909 L2158.29 239.983 M2158.29 229.89 L2162.54 229.89 L2162.54 235.284 L2158.29 235.284 L2158.29 229.89 Z\" fill=\"#000000\" fill-rule=\"evenodd\" fill-opacity=\"1\" /><path clip-path=\"url(#clip910)\" d=\"M2181.5 242.969 Q2178.08 242.969 2176.09 245.654 Q2174.1 248.316 2174.1 252.969 Q2174.1 257.622 2176.06 260.307 Q2178.05 262.969 2181.5 262.969 Q2184.91 262.969 2186.9 260.284 Q2188.89 257.598 2188.89 252.969 Q2188.89 248.362 2186.9 245.677 Q2184.91 242.969 2181.5 242.969 M2181.5 239.358 Q2187.06 239.358 2190.23 242.969 Q2193.4 246.58 2193.4 252.969 Q2193.4 259.335 2190.23 262.969 Q2187.06 266.58 2181.5 266.58 Q2175.92 266.58 2172.75 262.969 Q2169.6 259.335 2169.6 252.969 Q2169.6 246.58 2172.75 242.969 Q2175.92 239.358 2181.5 239.358 Z\" fill=\"#000000\" fill-rule=\"evenodd\" fill-opacity=\"1\" /><path clip-path=\"url(#clip910)\" d=\"M2222.01 250.261 L2222.01 265.909 L2217.75 265.909 L2217.75 250.399 Q2217.75 246.719 2216.32 244.89 Q2214.88 243.062 2212.01 243.062 Q2208.56 243.062 2206.57 245.261 Q2204.58 247.46 2204.58 251.256 L2204.58 265.909 L2200.3 265.909 L2200.3 239.983 L2204.58 239.983 L2204.58 244.011 Q2206.11 241.673 2208.17 240.515 Q2210.25 239.358 2212.96 239.358 Q2217.43 239.358 2219.72 242.136 Q2222.01 244.89 2222.01 250.261 Z\" fill=\"#000000\" fill-rule=\"evenodd\" fill-opacity=\"1\" /></svg>\n"
      ]
     },
     "execution_count": 42,
     "metadata": {},
     "output_type": "execute_result"
    }
   ],
   "source": [
    "using Plots\n",
    "scatter(df_combined.Matrix_size, df_combined.Operation_time_mean,\n",
    "    group=df_combined.Operation_type, yerr=df_combined.Operation_time_std,\n",
    "    colour = [:red :blue :green], xlabel=\"Matrix size\", ylabel=\"Operation time\")"
   ]
  }
 ],
 "metadata": {
  "kernelspec": {
   "display_name": "Julia 1.7.2",
   "language": "julia",
   "name": "julia-1.7"
  },
  "language_info": {
   "file_extension": ".jl",
   "mimetype": "application/julia",
   "name": "julia",
   "version": "1.7.2"
  }
 },
 "nbformat": 4,
 "nbformat_minor": 2
}
