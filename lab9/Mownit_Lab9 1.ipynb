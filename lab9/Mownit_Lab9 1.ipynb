{
 "cells": [
  {
   "cell_type": "markdown",
   "metadata": {},
   "source": [
    "# MOwNiT \n",
    "## Laboratorium\n",
    "## Wybrane zagadnienia algebry liniowej, faktoryzacja\n",
    "### Algebra liniowa w Julii\n",
    "https://docs.julialang.org/en/v1.7/stdlib/LinearAlgebra/index.html\n"
   ]
  },
  {
   "cell_type": "code",
   "execution_count": 1,
   "metadata": {},
   "outputs": [],
   "source": [
    "using(LinearAlgebra)"
   ]
  },
  {
   "cell_type": "code",
   "execution_count": 2,
   "metadata": {
    "scrolled": true
   },
   "outputs": [
    {
     "data": {
      "text/html": [
       "# 11 methods for generic function <b>factorize</b>:<ul><li> factorize(A::<b>StridedMatrix{T}</b>)<i> where T</i> in LinearAlgebra at <a href=\"file://C:/buildbot/worker/package_win64/build/usr/share/julia/stdlib/v1.7/LinearAlgebra/src/dense.jl\" target=\"_blank\">D:\\Program Files\\Julia-1.7.2\\share\\julia\\stdlib\\v1.7\\LinearAlgebra\\src\\dense.jl:1302</a></li> <li> factorize(A::<b>Adjoint</b>) in LinearAlgebra at <a href=\"file://C:/buildbot/worker/package_win64/build/usr/share/julia/stdlib/v1.7/LinearAlgebra/src/dense.jl\" target=\"_blank\">D:\\Program Files\\Julia-1.7.2\\share\\julia\\stdlib\\v1.7\\LinearAlgebra\\src\\dense.jl:1376</a></li> <li> factorize(A::<b>Transpose</b>) in LinearAlgebra at <a href=\"file://C:/buildbot/worker/package_win64/build/usr/share/julia/stdlib/v1.7/LinearAlgebra/src/dense.jl\" target=\"_blank\">D:\\Program Files\\Julia-1.7.2\\share\\julia\\stdlib\\v1.7\\LinearAlgebra\\src\\dense.jl:1377</a></li> <li> factorize(A::<b>LinearAlgebra.AbstractTriangular</b>) in LinearAlgebra at <a href=\"file://C:/buildbot/worker/package_win64/build/usr/share/julia/stdlib/v1.7/LinearAlgebra/src/triangular.jl\" target=\"_blank\">D:\\Program Files\\Julia-1.7.2\\share\\julia\\stdlib\\v1.7\\LinearAlgebra\\src\\triangular.jl:2569</a></li> <li> factorize(A::<b>Tridiagonal</b>) in LinearAlgebra at <a href=\"file://C:/buildbot/worker/package_win64/build/usr/share/julia/stdlib/v1.7/LinearAlgebra/src/lu.jl\" target=\"_blank\">D:\\Program Files\\Julia-1.7.2\\share\\julia\\stdlib\\v1.7\\LinearAlgebra\\src\\lu.jl:567</a></li> <li> factorize(D::<b>Diagonal</b>) in LinearAlgebra at <a href=\"file://C:/buildbot/worker/package_win64/build/usr/share/julia/stdlib/v1.7/LinearAlgebra/src/diagonal.jl\" target=\"_blank\">D:\\Program Files\\Julia-1.7.2\\share\\julia\\stdlib\\v1.7\\LinearAlgebra\\src\\diagonal.jl:137</a></li> <li> factorize(A::<b>Bidiagonal</b>) in LinearAlgebra at <a href=\"file://C:/buildbot/worker/package_win64/build/usr/share/julia/stdlib/v1.7/LinearAlgebra/src/bidiag.jl\" target=\"_blank\">D:\\Program Files\\Julia-1.7.2\\share\\julia\\stdlib\\v1.7\\LinearAlgebra\\src\\bidiag.jl:845</a></li> <li> factorize(S::<b>SymTridiagonal</b>) in LinearAlgebra at <a href=\"file://C:/buildbot/worker/package_win64/build/usr/share/julia/stdlib/v1.7/LinearAlgebra/src/ldlt.jl\" target=\"_blank\">D:\\Program Files\\Julia-1.7.2\\share\\julia\\stdlib\\v1.7\\LinearAlgebra\\src\\ldlt.jl:170</a></li> <li> factorize(A::<b>SparseArrays.AbstractSparseMatrixCSC</b>) in SparseArrays at <a href=\"file://C:/buildbot/worker/package_win64/build/usr/share/julia/stdlib/v1.7/SparseArrays/src/linalg.jl\" target=\"_blank\">D:\\Program Files\\Julia-1.7.2\\share\\julia\\stdlib\\v1.7\\SparseArrays\\src\\linalg.jl:1586</a></li> <li> factorize(A::<b>Union{Hermitian{ComplexF64, var\"#s859\"}, Hermitian{Float64, var\"#s859\"}, Symmetric{Float64, var\"#s859\"}} where var\"#s859\"<:SparseArrays.AbstractSparseMatrixCSC</b>) in SparseArrays at <a href=\"file://C:/buildbot/worker/package_win64/build/usr/share/julia/stdlib/v1.7/SparseArrays/src/linalg.jl\" target=\"_blank\">D:\\Program Files\\Julia-1.7.2\\share\\julia\\stdlib\\v1.7\\SparseArrays\\src\\linalg.jl:1616</a></li> <li> factorize(A::<b>Union{Hermitian{T, S}, Symmetric{T, S}} where {T, S}</b>) in LinearAlgebra at <a href=\"file://C:/buildbot/worker/package_win64/build/usr/share/julia/stdlib/v1.7/LinearAlgebra/src/symmetric.jl\" target=\"_blank\">D:\\Program Files\\Julia-1.7.2\\share\\julia\\stdlib\\v1.7\\LinearAlgebra\\src\\symmetric.jl:641</a></li> </ul>"
      ],
      "text/plain": [
       "# 11 methods for generic function \"factorize\":\n",
       "[1] factorize(A::StridedMatrix{T}) where T in LinearAlgebra at D:\\Program Files\\Julia-1.7.2\\share\\julia\\stdlib\\v1.7\\LinearAlgebra\\src\\dense.jl:1302\n",
       "[2] factorize(A::Adjoint) in LinearAlgebra at D:\\Program Files\\Julia-1.7.2\\share\\julia\\stdlib\\v1.7\\LinearAlgebra\\src\\dense.jl:1376\n",
       "[3] factorize(A::Transpose) in LinearAlgebra at D:\\Program Files\\Julia-1.7.2\\share\\julia\\stdlib\\v1.7\\LinearAlgebra\\src\\dense.jl:1377\n",
       "[4] factorize(A::LinearAlgebra.AbstractTriangular) in LinearAlgebra at D:\\Program Files\\Julia-1.7.2\\share\\julia\\stdlib\\v1.7\\LinearAlgebra\\src\\triangular.jl:2569\n",
       "[5] factorize(A::Tridiagonal) in LinearAlgebra at D:\\Program Files\\Julia-1.7.2\\share\\julia\\stdlib\\v1.7\\LinearAlgebra\\src\\lu.jl:567\n",
       "[6] factorize(D::Diagonal) in LinearAlgebra at D:\\Program Files\\Julia-1.7.2\\share\\julia\\stdlib\\v1.7\\LinearAlgebra\\src\\diagonal.jl:137\n",
       "[7] factorize(A::Bidiagonal) in LinearAlgebra at D:\\Program Files\\Julia-1.7.2\\share\\julia\\stdlib\\v1.7\\LinearAlgebra\\src\\bidiag.jl:845\n",
       "[8] factorize(S::SymTridiagonal) in LinearAlgebra at D:\\Program Files\\Julia-1.7.2\\share\\julia\\stdlib\\v1.7\\LinearAlgebra\\src\\ldlt.jl:170\n",
       "[9] factorize(A::SparseArrays.AbstractSparseMatrixCSC) in SparseArrays at D:\\Program Files\\Julia-1.7.2\\share\\julia\\stdlib\\v1.7\\SparseArrays\\src\\linalg.jl:1586\n",
       "[10] factorize(A::Union{Hermitian{ComplexF64, var\"#s859\"}, Hermitian{Float64, var\"#s859\"}, Symmetric{Float64, var\"#s859\"}} where var\"#s859\"<:SparseArrays.AbstractSparseMatrixCSC) in SparseArrays at D:\\Program Files\\Julia-1.7.2\\share\\julia\\stdlib\\v1.7\\SparseArrays\\src\\linalg.jl:1616\n",
       "[11] factorize(A::Union{Hermitian{T, S}, Symmetric{T, S}} where {T, S}) in LinearAlgebra at D:\\Program Files\\Julia-1.7.2\\share\\julia\\stdlib\\v1.7\\LinearAlgebra\\src\\symmetric.jl:641"
      ]
     },
     "execution_count": 2,
     "metadata": {},
     "output_type": "execute_result"
    }
   ],
   "source": [
    "methods(factorize)"
   ]
  },
  {
   "cell_type": "code",
   "execution_count": 3,
   "metadata": {},
   "outputs": [
    {
     "data": {
      "text/plain": [
       "1×3 Matrix{Int64}:\n",
       " 1  2  2"
      ]
     },
     "execution_count": 3,
     "metadata": {},
     "output_type": "execute_result"
    }
   ],
   "source": [
    "#wiersze vs kolumny\n",
    "x1=[1 2 2]"
   ]
  },
  {
   "cell_type": "code",
   "execution_count": 4,
   "metadata": {},
   "outputs": [
    {
     "data": {
      "text/plain": [
       "3-element Vector{Int64}:\n",
       " 1\n",
       " 2\n",
       " 3"
      ]
     },
     "execution_count": 4,
     "metadata": {},
     "output_type": "execute_result"
    }
   ],
   "source": [
    "y1=[1 ;2 ;3]"
   ]
  },
  {
   "cell_type": "code",
   "execution_count": 5,
   "metadata": {},
   "outputs": [
    {
     "data": {
      "text/plain": [
       "3×1 transpose(::Matrix{Int64}) with eltype Int64:\n",
       " 1\n",
       " 2\n",
       " 2"
      ]
     },
     "execution_count": 5,
     "metadata": {},
     "output_type": "execute_result"
    }
   ],
   "source": [
    "transpose(x1)"
   ]
  },
  {
   "cell_type": "code",
   "execution_count": 6,
   "metadata": {},
   "outputs": [
    {
     "data": {
      "text/plain": [
       "11"
      ]
     },
     "execution_count": 6,
     "metadata": {},
     "output_type": "execute_result"
    }
   ],
   "source": [
    "#iloczyn skalarny\n",
    "dot(x1,y1)"
   ]
  },
  {
   "cell_type": "markdown",
   "metadata": {},
   "source": [
    " Długość wektora liczymy jako pierwiastek z jego iloczynu skalarnego \n",
    "$$ \\lVert\\mathbf{v}\\rVert = \\sqrt{\\mathbf{v}\\cdot \\mathbf{v}}=\\sqrt{\\sum_{i=1}^nv_i^2}$$\n",
    "\n"
   ]
  },
  {
   "cell_type": "markdown",
   "metadata": {},
   "source": [
    "#### Przykładowe dane"
   ]
  },
  {
   "cell_type": "code",
   "execution_count": 7,
   "metadata": {},
   "outputs": [
    {
     "data": {
      "text/plain": [
       "3×3 Matrix{Float64}:\n",
       " 0.644764  0.200628  0.449901\n",
       " 0.735265  0.219369  0.415989\n",
       " 0.831014  0.764632  0.735036"
      ]
     },
     "execution_count": 7,
     "metadata": {},
     "output_type": "execute_result"
    }
   ],
   "source": [
    "#losujemy macierz 3x3\n",
    "A=rand(3,3)"
   ]
  },
  {
   "cell_type": "code",
   "execution_count": 8,
   "metadata": {},
   "outputs": [
    {
     "data": {
      "text/plain": [
       "3-element Vector{Float64}:\n",
       " 0.7827950272306561\n",
       " 0.7909741701019557\n",
       " 0.6791981759242411"
      ]
     },
     "execution_count": 8,
     "metadata": {},
     "output_type": "execute_result"
    }
   ],
   "source": [
    "#losujemy wektor x\n",
    "x=rand(3)"
   ]
  },
  {
   "cell_type": "code",
   "execution_count": 9,
   "metadata": {},
   "outputs": [
    {
     "data": {
      "text/plain": [
       "3-element Vector{Float64}:\n",
       " 0.9689811667963282\n",
       " 1.0316157355470958\n",
       " 1.7545531090068647"
      ]
     },
     "execution_count": 9,
     "metadata": {},
     "output_type": "execute_result"
    }
   ],
   "source": [
    "# wyliczamy b\n",
    "b=A*x"
   ]
  },
  {
   "cell_type": "markdown",
   "metadata": {},
   "source": [
    "### Sposoby rozwiązania Ax=b"
   ]
  },
  {
   "cell_type": "code",
   "execution_count": 10,
   "metadata": {},
   "outputs": [
    {
     "data": {
      "text/plain": [
       "3-element Vector{Float64}:\n",
       " 0.782795027230657\n",
       " 0.790974170101957\n",
       " 0.679198175924238"
      ]
     },
     "execution_count": 10,
     "metadata": {},
     "output_type": "execute_result"
    }
   ],
   "source": [
    "#mozemy policzyc odwrotność macierzy i wymnożyć\n",
    "# uwaga: nieefektywne!\n",
    "inv(A) * b"
   ]
  },
  {
   "cell_type": "code",
   "execution_count": 11,
   "metadata": {},
   "outputs": [
    {
     "data": {
      "text/plain": [
       "3-element Vector{Float64}:\n",
       " 0.782795027230657\n",
       " 0.7909741701019565\n",
       " 0.6791981759242393"
      ]
     },
     "execution_count": 11,
     "metadata": {},
     "output_type": "execute_result"
    }
   ],
   "source": [
    "#najlepiej używać zoptymalizowanego operatora \"\\\"\"\n",
    "x=A\\b"
   ]
  },
  {
   "cell_type": "markdown",
   "metadata": {},
   "source": [
    " operator \"\\\\\" wybiera odpowiednią faktoryzację:\n",
    "- https://docs.julialang.org/en/v1.2/stdlib/LinearAlgebra/#LinearAlgebra.factorize\n",
    "- https://docs.julialang.org/en/v1.2/stdlib/LinearAlgebra/#man-linalg-factorizations-1\n",
    " \n"
   ]
  },
  {
   "cell_type": "markdown",
   "metadata": {},
   "source": [
    "### Faktoryzacja LU"
   ]
  },
  {
   "cell_type": "code",
   "execution_count": 12,
   "metadata": {},
   "outputs": [
    {
     "data": {
      "text/plain": [
       "LU{Float64, Matrix{Float64}}\n",
       "L factor:\n",
       "3×3 Matrix{Float64}:\n",
       " 1.0       0.0       0.0\n",
       " 0.88478   1.0       0.0\n",
       " 0.775875  0.858845  1.0\n",
       "U factor:\n",
       "3×3 Matrix{Float64}:\n",
       " 0.831014   0.764632   0.735036\n",
       " 0.0       -0.457162  -0.234356\n",
       " 0.0        0.0        0.0808799"
      ]
     },
     "execution_count": 12,
     "metadata": {},
     "output_type": "execute_result"
    }
   ],
   "source": [
    "# W przypadku ogólnej macierzy kwadratowej jest to faktoryzacja LU z pivotem\n",
    "Af=factorize(A)"
   ]
  },
  {
   "cell_type": "code",
   "execution_count": 13,
   "metadata": {},
   "outputs": [
    {
     "data": {
      "text/plain": [
       "3×3 Matrix{Float64}:\n",
       " 1.0       0.0       0.0\n",
       " 0.88478   1.0       0.0\n",
       " 0.775875  0.858845  1.0"
      ]
     },
     "execution_count": 13,
     "metadata": {},
     "output_type": "execute_result"
    }
   ],
   "source": [
    "# Macierz L\n",
    "Af.L"
   ]
  },
  {
   "cell_type": "code",
   "execution_count": 14,
   "metadata": {},
   "outputs": [
    {
     "data": {
      "text/plain": [
       "3×3 Matrix{Float64}:\n",
       " 0.831014   0.764632   0.735036\n",
       " 0.0       -0.457162  -0.234356\n",
       " 0.0        0.0        0.0808799"
      ]
     },
     "execution_count": 14,
     "metadata": {},
     "output_type": "execute_result"
    }
   ],
   "source": [
    "#Macierz U\n",
    "Af.U"
   ]
  },
  {
   "cell_type": "code",
   "execution_count": 15,
   "metadata": {},
   "outputs": [
    {
     "data": {
      "text/plain": [
       "3-element Vector{Int64}:\n",
       " 3\n",
       " 2\n",
       " 1"
      ]
     },
     "execution_count": 15,
     "metadata": {},
     "output_type": "execute_result"
    }
   ],
   "source": [
    "# wektor permulatacji wierszy \n",
    "Af.p"
   ]
  },
  {
   "cell_type": "code",
   "execution_count": 16,
   "metadata": {},
   "outputs": [
    {
     "data": {
      "text/plain": [
       "LU{Float64, Matrix{Float64}}\n",
       "L factor:\n",
       "3×3 Matrix{Float64}:\n",
       " 1.0       0.0       0.0\n",
       " 0.88478   1.0       0.0\n",
       " 0.775875  0.858845  1.0\n",
       "U factor:\n",
       "3×3 Matrix{Float64}:\n",
       " 0.831014   0.764632   0.735036\n",
       " 0.0       -0.457162  -0.234356\n",
       " 0.0        0.0        0.0808799"
      ]
     },
     "execution_count": 16,
     "metadata": {},
     "output_type": "execute_result"
    }
   ],
   "source": [
    "# mozemy zamienic macierz A na postać zfaktoryzowaną\n",
    "A=factorize(A)"
   ]
  },
  {
   "cell_type": "code",
   "execution_count": 17,
   "metadata": {},
   "outputs": [
    {
     "data": {
      "text/plain": [
       "3-element Vector{Float64}:\n",
       " 0.782795027230657\n",
       " 0.7909741701019565\n",
       " 0.6791981759242393"
      ]
     },
     "execution_count": 17,
     "metadata": {},
     "output_type": "execute_result"
    }
   ],
   "source": [
    "# i działać na niej operatorem \\\n",
    "# operator ten będzie wykorzytywał raz utworzony wynik faktoryzacji\n",
    "A\\b"
   ]
  },
  {
   "cell_type": "code",
   "execution_count": 18,
   "metadata": {},
   "outputs": [
    {
     "data": {
      "text/plain": [
       "3-element Vector{Float64}:\n",
       "  0.7159906809616786\n",
       "  0.43416043903640616\n",
       " -0.02996851609964576"
      ]
     },
     "execution_count": 18,
     "metadata": {},
     "output_type": "execute_result"
    }
   ],
   "source": [
    "# dla różnych prawych stron równania z tą samą macierzą\n",
    "c=rand(3);\n",
    "A\\c"
   ]
  },
  {
   "cell_type": "markdown",
   "metadata": {},
   "source": [
    "### Faktoryzacja QR\n"
   ]
  },
  {
   "cell_type": "code",
   "execution_count": 19,
   "metadata": {},
   "outputs": [
    {
     "data": {
      "text/plain": [
       "10×5 Matrix{Float64}:\n",
       " 0.347431  0.699679   0.694646   0.905711   0.795641\n",
       " 0.211619  0.161433   0.332771   0.979226   0.698675\n",
       " 0.61366   0.0423113  0.803518   0.444937   0.0671171\n",
       " 0.713869  0.121632   0.681909   0.0786542  0.264404\n",
       " 0.107692  0.0721033  0.302309   0.234305   0.720247\n",
       " 0.447163  0.558369   0.669513   0.742156   0.184369\n",
       " 0.51909   0.214182   0.33384    0.395272   0.0778529\n",
       " 0.253811  0.240339   0.955367   0.277549   0.525526\n",
       " 0.403251  0.335296   0.0572594  0.695446   0.566889\n",
       " 0.097222  0.83228    0.224456   0.604388   0.728138"
      ]
     },
     "execution_count": 19,
     "metadata": {},
     "output_type": "execute_result"
    }
   ],
   "source": [
    "B=rand(10,5)"
   ]
  },
  {
   "cell_type": "code",
   "execution_count": 20,
   "metadata": {},
   "outputs": [
    {
     "data": {
      "text/plain": [
       "QRPivoted{Float64, Matrix{Float64}}\n",
       "Q factor:\n",
       "10×10 LinearAlgebra.QRPackedQ{Float64, Matrix{Float64}}:\n",
       " -0.472697    0.0601229   0.117306     …  -0.32668    -0.236732   -0.581318\n",
       " -0.511065   -0.264617   -0.000735856      0.200619   -0.436439    0.217969\n",
       " -0.232216    0.393838   -0.375202        -0.267401    0.288811    0.435146\n",
       " -0.0410502   0.495076    0.148616         0.0397859  -0.432789    0.0159398\n",
       " -0.122286    0.112176    0.601306        -0.542326    0.246617    0.0630631\n",
       " -0.387336    0.128315   -0.451719     …  -0.183533    0.179603   -0.0417154\n",
       " -0.206295    0.050418   -0.260725         0.134001   -0.14804    -0.098714\n",
       " -0.144855    0.603568    0.256604         0.578223    0.218657   -0.112468\n",
       " -0.362958   -0.329055    0.104632         0.302854    0.562326   -0.219076\n",
       " -0.315434   -0.148298    0.336134         0.0901446  -0.0612103   0.590633\n",
       "R factor:\n",
       "5×5 Matrix{Float64}:\n",
       " -1.91605  -1.30814  -1.44672   -1.11638    -0.951439\n",
       "  0.0       1.26891   0.151338   0.0780686   0.661706\n",
       "  0.0       0.0       0.875357   0.195959   -0.216128\n",
       "  0.0       0.0       0.0        0.683467   -0.0521965\n",
       "  0.0       0.0       0.0        0.0         0.613711\n",
       "permutation:\n",
       "5-element Vector{Int64}:\n",
       " 4\n",
       " 3\n",
       " 5\n",
       " 2\n",
       " 1"
      ]
     },
     "execution_count": 20,
     "metadata": {},
     "output_type": "execute_result"
    }
   ],
   "source": [
    "# W przypadku ogólnej macierzy prostokątnej wybierana jest faktoryzacja QR z pivotem\n",
    "factorize(B)"
   ]
  },
  {
   "cell_type": "markdown",
   "metadata": {},
   "source": [
    "- $Q$ to macierz  ortogonalna mxm, co oznacza, że  $Q^T*Q=Q*Q^T=I$ czyli $Q^{-1}=Q^T$ (odwracanie takich macierzy jest szybkie i nie generuje dodatkowych błędów !)\n",
    "- $R$ to macierz postaci $\\begin{pmatrix} Rfactor \\\\ 0 \\end{pmatrix} $ , gdzie $Rfactor$ jest macierzą trójkątną górną, a 0 to macierz zer o wymierze nx(m-n)"
   ]
  },
  {
   "cell_type": "markdown",
   "metadata": {},
   "source": [
    "### Zastosowanie faktoryzacji do metody najmniejszych kwadratów\n",
    "\n",
    "Jednym z zastosowań faktoryzacji QR jest użycie jej do metody najmniejszych kwadratów.\n",
    "\n",
    "Przykład:\n",
    "\n",
    "Obliczmy dopasowanie wielomianu $$f(x)=wsp_2*x^2+wsp_1*x+wsp_0$$ do punktów (1,1) (2,2) (3,4) (4, 4) (5,3) (6,0)\n",
    "\n",
    "- Budujemy układ równań wg wzoru $$wsp_2x_i^2+wsp_1x_i+wsp_0=y_i$$:\n",
    "$$wsp_2*1^2+wsp_1*1+wsp_0=1$$\n",
    "$$wsp_2*2^2+wsp_1*2+wsp_0=2$$\n",
    "$$wsp_2*3^2+wsp_1*3+wsp_0=4$$\n",
    "$$wsp_2*4^2+wsp_1*4+wsp_0=4$$\n",
    "$$wsp_2*5^2+wsp_1*5+wsp_0=3$$\n",
    "$$wsp_2*6^2+wsp_1*6+wsp_0=0$$\n",
    "\n",
    "- Układ ten  nie ma dokładnego rozwiązania. Możemy jednak znaleźć najlepsze przybliżenie, czyli takie $wsp_i$, które minimalizują odległość:\n",
    "\n",
    "$$\\sqrt{\\sum_{i=1}^{6}{(y_i-f(x_i))^2}}=\\lVert y-A*wsp\\rVert$$\n",
    "\n",
    "\n",
    "\n"
   ]
  },
  {
   "cell_type": "markdown",
   "metadata": {},
   "source": [
    "Jak użyć do tej mimalizacji faktoryzacji QR:\n",
    "\n",
    "#### 1. Tworzymy macierz A na postawie $(x_i,y_i)$"
   ]
  },
  {
   "cell_type": "code",
   "execution_count": 21,
   "metadata": {},
   "outputs": [
    {
     "data": {
      "text/plain": [
       "6×3 Matrix{Float64}:\n",
       " 0.0  0.0  0.0\n",
       " 0.0  0.0  0.0\n",
       " 0.0  0.0  0.0\n",
       " 0.0  0.0  0.0\n",
       " 0.0  0.0  0.0\n",
       " 0.0  0.0  0.0"
      ]
     },
     "execution_count": 21,
     "metadata": {},
     "output_type": "execute_result"
    }
   ],
   "source": [
    "A=zeros(6,3) "
   ]
  },
  {
   "cell_type": "markdown",
   "metadata": {},
   "source": [
    " punkty $(x_i,y_i)$\n"
   ]
  },
  {
   "cell_type": "code",
   "execution_count": 22,
   "metadata": {},
   "outputs": [
    {
     "data": {
      "text/plain": [
       "6-element Vector{Int64}:\n",
       " 1\n",
       " 2\n",
       " 4\n",
       " 4\n",
       " 3\n",
       " 0"
      ]
     },
     "execution_count": 22,
     "metadata": {},
     "output_type": "execute_result"
    }
   ],
   "source": [
    "x=[1; 2 ;3 ;4 ;5 ;6]\n",
    "y=[1; 2; 4; 4; 3; 0]"
   ]
  },
  {
   "cell_type": "code",
   "execution_count": 23,
   "metadata": {},
   "outputs": [
    {
     "data": {
      "text/plain": [
       "6-element Vector{Int64}:\n",
       "  1\n",
       "  4\n",
       "  9\n",
       " 16\n",
       " 25\n",
       " 36"
      ]
     },
     "execution_count": 23,
     "metadata": {},
     "output_type": "execute_result"
    }
   ],
   "source": [
    "A[:,1]=x.^2"
   ]
  },
  {
   "cell_type": "code",
   "execution_count": 24,
   "metadata": {},
   "outputs": [
    {
     "data": {
      "text/plain": [
       "6-element Vector{Int64}:\n",
       " 1\n",
       " 2\n",
       " 3\n",
       " 4\n",
       " 5\n",
       " 6"
      ]
     },
     "execution_count": 24,
     "metadata": {},
     "output_type": "execute_result"
    }
   ],
   "source": [
    "A[:,2]=x"
   ]
  },
  {
   "cell_type": "code",
   "execution_count": 25,
   "metadata": {},
   "outputs": [
    {
     "data": {
      "text/plain": [
       "6-element Vector{Float64}:\n",
       " 1.0\n",
       " 1.0\n",
       " 1.0\n",
       " 1.0\n",
       " 1.0\n",
       " 1.0"
      ]
     },
     "execution_count": 25,
     "metadata": {},
     "output_type": "execute_result"
    }
   ],
   "source": [
    "A[:,3]=ones(6)"
   ]
  },
  {
   "cell_type": "code",
   "execution_count": 26,
   "metadata": {},
   "outputs": [
    {
     "data": {
      "text/plain": [
       "6×3 Matrix{Float64}:\n",
       "  1.0  1.0  1.0\n",
       "  4.0  2.0  1.0\n",
       "  9.0  3.0  1.0\n",
       " 16.0  4.0  1.0\n",
       " 25.0  5.0  1.0\n",
       " 36.0  6.0  1.0"
      ]
     },
     "execution_count": 26,
     "metadata": {},
     "output_type": "execute_result"
    }
   ],
   "source": [
    "A"
   ]
  },
  {
   "cell_type": "markdown",
   "metadata": {},
   "source": [
    "#### 2. Dokonujemy faktoryzacji QR macierzy A "
   ]
  },
  {
   "cell_type": "code",
   "execution_count": 27,
   "metadata": {},
   "outputs": [
    {
     "data": {
      "text/plain": [
       "QRPivoted{Float64, Matrix{Float64}}\n",
       "Q factor:\n",
       "6×6 LinearAlgebra.QRPackedQ{Float64, Matrix{Float64}}:\n",
       " -0.0209657  -0.343313    0.838525   0.112335    -0.0400677  -0.405397\n",
       " -0.0838628  -0.521522    0.167705  -0.00636667   0.34634     0.756879\n",
       " -0.188691   -0.534625   -0.223607  -0.612934    -0.487947   -0.121617\n",
       " -0.335451   -0.382624   -0.33541    0.753648    -0.213523   -0.122449\n",
       " -0.524142   -0.0655178  -0.167705  -0.204705     0.705864   -0.390779\n",
       " -0.754765    0.416693    0.279508  -0.0419783   -0.310667    0.283364\n",
       "R factor:\n",
       "3×3 Matrix{Float64}:\n",
       " -47.697  -9.24587  -1.90788\n",
       "   0.0    -2.34816  -1.43091\n",
       "   0.0     0.0       0.559017\n",
       "permutation:\n",
       "3-element Vector{Int64}:\n",
       " 1\n",
       " 2\n",
       " 3"
      ]
     },
     "execution_count": 27,
     "metadata": {},
     "output_type": "execute_result"
    }
   ],
   "source": [
    " AF=factorize(A)"
   ]
  },
  {
   "cell_type": "code",
   "execution_count": 28,
   "metadata": {},
   "outputs": [
    {
     "data": {
      "text/plain": [
       "6×6 Matrix{Float64}:\n",
       "  1.0           0.0           1.66533e-16  …   2.77556e-17  -2.77556e-17\n",
       "  0.0           1.0           5.55112e-17      8.32667e-17  -9.71445e-17\n",
       "  1.66533e-16   5.55112e-17   1.0             -6.93889e-17  -2.77556e-17\n",
       " -2.08167e-17  -4.85723e-17  -7.97973e-17     -6.59195e-17  -3.1225e-17\n",
       "  2.77556e-17   8.32667e-17  -6.93889e-17      1.0          -2.77556e-17\n",
       " -2.77556e-17  -9.71445e-17  -2.77556e-17  …  -2.77556e-17   1.0"
      ]
     },
     "execution_count": 28,
     "metadata": {},
     "output_type": "execute_result"
    }
   ],
   "source": [
    "# można przetestować ortogonalność:\n",
    "Transpose(AF.Q)*AF.Q"
   ]
  },
  {
   "cell_type": "markdown",
   "metadata": {},
   "source": [
    "Mamy równanie:\n",
    "$$A*wsp=y$$\n",
    "Dla $A=QR$:\n",
    "$$QR*wsp =y$$\n",
    "Możemy obydwie strony wymnożyć z lewej przez $Q^T$:\n",
    "$$R*wsp =Q^T y$$\n",
    "$$\\begin{pmatrix} Rfactor \\\\ 0 \\end{pmatrix} wsp= Q^T y$$\n",
    "\n",
    "Poszukiwanym rozwiązaniem jest rozwiązanie równania będącego górną niezerową częścią:\n",
    "$$Rfactor * wsp= Q^T y[1:n]$$\n",
    "$$wsp=Rfactor \\setminus Q^T y[1:n]$$"
   ]
  },
  {
   "cell_type": "code",
   "execution_count": 29,
   "metadata": {},
   "outputs": [
    {
     "data": {
      "text/plain": [
       "3-element Vector{Float64}:\n",
       " -0.5714285714285724\n",
       "  3.94285714285715\n",
       " -2.8000000000000145"
      ]
     },
     "execution_count": 29,
     "metadata": {},
     "output_type": "execute_result"
    }
   ],
   "source": [
    "# implementacja powyższego (uwaga: w tym przykladzie nie jest potrzebna permutacja,\n",
    "# bo wektor permutacji wynosi[1 2 3])\n",
    "AF.R\\((Transpose(AF.Q)*y)[1:3])"
   ]
  },
  {
   "cell_type": "markdown",
   "metadata": {},
   "source": [
    "Więcej informacji:\n",
    "- http://www.math.uconn.edu/~leykekhman/courses/MATH3795/Lectures/Lecture_8_Linear_least_squares_orthogonal_matrices.pdf\n",
    "- http://www.seas.ucla.edu/~vandenbe/133A/lectures/qr.pdf"
   ]
  },
  {
   "cell_type": "markdown",
   "metadata": {},
   "source": [
    "W praktyce używamy tego algorytmu poprzez operator \"\\\\\", za którym jest on \"schowany\"."
   ]
  },
  {
   "cell_type": "code",
   "execution_count": 30,
   "metadata": {},
   "outputs": [
    {
     "data": {
      "text/plain": [
       "3-element Vector{Float64}:\n",
       " -0.5714285714285723\n",
       "  3.9428571428571493\n",
       " -2.8000000000000136"
      ]
     },
     "execution_count": 30,
     "metadata": {},
     "output_type": "execute_result"
    }
   ],
   "source": [
    "A \\ y"
   ]
  },
  {
   "cell_type": "code",
   "execution_count": 31,
   "metadata": {},
   "outputs": [
    {
     "data": {
      "text/html": [
       "&#45;2.8000000000000136 &#43; 3.9428571428571493&#8729;x &#45; 0.5714285714285723&#8729;x<sup>2</sup>"
      ],
      "text/latex": [
       "$-2.8000000000000136 + 3.9428571428571493\\cdot x - 0.5714285714285723\\cdot x^{2}$"
      ],
      "text/plain": [
       "Polynomial(-2.8000000000000136 + 3.9428571428571493*x - 0.5714285714285723*x^2)"
      ]
     },
     "execution_count": 31,
     "metadata": {},
     "output_type": "execute_result"
    }
   ],
   "source": [
    "#sprawdzamy czy dostaliśmy dobre wspólczynniki\n",
    "using Polynomials\n",
    "fit(x,y, 2)"
   ]
  },
  {
   "cell_type": "code",
   "execution_count": 32,
   "metadata": {},
   "outputs": [
    {
     "data": {
      "text/plain": [
       "Polynomials"
      ]
     },
     "execution_count": 32,
     "metadata": {},
     "output_type": "execute_result"
    }
   ],
   "source": [
    "@which fit"
   ]
  },
  {
   "cell_type": "markdown",
   "metadata": {},
   "source": [
    "### Zadania"
   ]
  },
  {
   "cell_type": "markdown",
   "metadata": {},
   "source": [
    "### Zadanie 1 (1pkt)\n",
    "Ustal losowe (referencyjne) x rozmiaru 1000 oraz losowe A rozmiaru 1000x1000, policz b=A*x.\n",
    "Nastepnie rozwiąż równanie Ax=b trzema metodami:\n",
    "- inv()\n",
    "- \\\n",
    "- factorize()\n",
    "\n",
    "Porównaj jakość wyniku (zmierzoną jako długość różnicy wektorów wyniku oraz referencyjnego x) oraz czas wykonania (@time). UWAGA: pierwsze wykonanie funkcji w Julii zawiera czas kompilacji tej funkcji, dlatego czas mierzymy  od drugiego wywołania !\n",
    "\n",
    "#### Zadanie 2 (1pkt)\n",
    "Policz współczynniki wielomianu aproksymującego dowolne dane z poprzednich laboratoriów tworząc wprost układ równań i rozwiązujac go (metoda z użyciem faktoryzacji QR zaprezentowana na tym laboratorium).\n",
    "Porównaj wyniki z tymi otrzymanymi poprzednio.\n",
    "\n",
    "#### Zadanie 3 (2 pkt)\n",
    "\n",
    "Znajdź i zaprezentuj działanie innego zastosowania wybranej faktoryzacji. Przykładowe (ale nie jedyne!) tematy:\n",
    "\n",
    "-    tworzenie pseudoinversji macierzy (http://buzzard.ups.edu/courses/2014spring/420projects/math420-UPS-spring-2014-macausland-pseudo-inverse-present.pdf).\n",
    "\n",
    "-   uzycie faktoryzacji QR do znajdowania wartości własnych (https://en.wikipedia.org/wiki/QR_algorithm)\n",
    "\n",
    "-  zastosowanie faktoryzacji SVD - np. zastosowania w uczeniu maszynowym \n",
    "\n"
   ]
  },
  {
   "cell_type": "markdown",
   "metadata": {},
   "source": [
    "# ZAD1(1pkt) "
   ]
  },
  {
   "cell_type": "markdown",
   "metadata": {},
   "source": [
    "Ustal losowe (referencyjne) x rozmiaru 1000 oraz losowe A rozmiaru 1000x1000, policz b=A*x. Nastepnie rozwiąż równanie Ax=b trzema metodami:\n",
    "\n",
    "inv()\n",
    "\\\n",
    "factorize()\n",
    "Porównaj jakość wyniku (zmierzoną jako długość różnicy wektorów wyniku oraz referencyjnego x) oraz czas wykonania (@time). UWAGA: pierwsze wykonanie funkcji w Julii zawiera czas kompilacji tej funkcji, dlatego czas mierzymy od drugiego wywołania !"
   ]
  },
  {
   "cell_type": "code",
   "execution_count": 33,
   "metadata": {},
   "outputs": [],
   "source": [
    "x = rand(1000);\n",
    "A = rand(1000,1000);\n",
    "b = A * x;"
   ]
  },
  {
   "cell_type": "code",
   "execution_count": 34,
   "metadata": {},
   "outputs": [
    {
     "data": {
      "text/plain": [
       "solve_operator (generic function with 1 method)"
      ]
     },
     "execution_count": 34,
     "metadata": {},
     "output_type": "execute_result"
    }
   ],
   "source": [
    "function solve_inv(A, b)\n",
    "    return inv(A) * b\n",
    "end\n",
    "\n",
    "function solve_operator(A, b)\n",
    "    return A \\ b\n",
    "end"
   ]
  },
  {
   "cell_type": "code",
   "execution_count": 35,
   "metadata": {},
   "outputs": [
    {
     "data": {
      "text/plain": [
       "1000-element Vector{Float64}:\n",
       " 0.8186213792150963\n",
       " 0.6716224170674311\n",
       " 0.10584830858517028\n",
       " 0.7320702933277615\n",
       " 0.8072152064698421\n",
       " 0.3548956482389747\n",
       " 0.9649633955218874\n",
       " 0.4424933498227721\n",
       " 0.8035396795832679\n",
       " 0.26289505694169235\n",
       " 0.25284605647726244\n",
       " 0.16933579879590213\n",
       " 0.01810944371315147\n",
       " ⋮\n",
       " 0.97830028288313\n",
       " 0.9587960287340532\n",
       " 0.9223041366113227\n",
       " 0.5169383242086297\n",
       " 0.5928439350246432\n",
       " 0.6064578810566773\n",
       " 0.4879921074649657\n",
       " 0.2422611908104582\n",
       " 0.6336516493041212\n",
       " 0.661810962438627\n",
       " 0.4410900509009028\n",
       " 0.017257559725778658"
      ]
     },
     "execution_count": 35,
     "metadata": {},
     "output_type": "execute_result"
    }
   ],
   "source": [
    "solve_inv(A,b)\n",
    "solve_operator(A,b)"
   ]
  },
  {
   "cell_type": "code",
   "execution_count": 36,
   "metadata": {},
   "outputs": [
    {
     "name": "stdout",
     "output_type": "stream",
     "text": [
      "  0.070379 seconds (6 allocations: 8.133 MiB)\n"
     ]
    },
    {
     "data": {
      "text/plain": [
       "1000-element Vector{Float64}:\n",
       " 0.8186213792155002\n",
       " 0.6716224170670273\n",
       " 0.10584830858584837\n",
       " 0.7320702933278014\n",
       " 0.8072152064698734\n",
       " 0.35489564823829056\n",
       " 0.964963395521103\n",
       " 0.4424933498227688\n",
       " 0.8035396795851106\n",
       " 0.26289505694222726\n",
       " 0.2528460564783046\n",
       " 0.16933579879660243\n",
       " 0.018109443713449025\n",
       " ⋮\n",
       " 0.9783002828831684\n",
       " 0.9587960287346178\n",
       " 0.9223041366111993\n",
       " 0.5169383242093488\n",
       " 0.5928439350259183\n",
       " 0.6064578810571106\n",
       " 0.48799210746526356\n",
       " 0.24226119081153286\n",
       " 0.6336516493028483\n",
       " 0.6618109624376451\n",
       " 0.441090050901078\n",
       " 0.01725755972522959"
      ]
     },
     "execution_count": 36,
     "metadata": {},
     "output_type": "execute_result"
    }
   ],
   "source": [
    "@time inv_res = solve_inv(A, b)"
   ]
  },
  {
   "cell_type": "code",
   "execution_count": 37,
   "metadata": {},
   "outputs": [
    {
     "name": "stdout",
     "output_type": "stream",
     "text": [
      "  0.024251 seconds (4 allocations: 7.645 MiB)\n"
     ]
    },
    {
     "data": {
      "text/plain": [
       "1000-element Vector{Float64}:\n",
       " 0.8186213792150963\n",
       " 0.6716224170674311\n",
       " 0.10584830858517028\n",
       " 0.7320702933277615\n",
       " 0.8072152064698421\n",
       " 0.3548956482389747\n",
       " 0.9649633955218874\n",
       " 0.4424933498227721\n",
       " 0.8035396795832679\n",
       " 0.26289505694169235\n",
       " 0.25284605647726244\n",
       " 0.16933579879590213\n",
       " 0.01810944371315147\n",
       " ⋮\n",
       " 0.97830028288313\n",
       " 0.9587960287340532\n",
       " 0.9223041366113227\n",
       " 0.5169383242086297\n",
       " 0.5928439350246432\n",
       " 0.6064578810566773\n",
       " 0.4879921074649657\n",
       " 0.2422611908104582\n",
       " 0.6336516493041212\n",
       " 0.661810962438627\n",
       " 0.4410900509009028\n",
       " 0.017257559725778658"
      ]
     },
     "execution_count": 37,
     "metadata": {},
     "output_type": "execute_result"
    }
   ],
   "source": [
    "@time operator_res = solve_operator(A,b)"
   ]
  },
  {
   "cell_type": "code",
   "execution_count": 38,
   "metadata": {},
   "outputs": [
    {
     "name": "stdout",
     "output_type": "stream",
     "text": [
      "  0.032333 seconds (4 allocations: 7.637 MiB)\n"
     ]
    },
    {
     "data": {
      "text/plain": [
       "LU{Float64, Matrix{Float64}}\n",
       "L factor:\n",
       "1000×1000 Matrix{Float64}:\n",
       " 1.0          0.0         0.0         …   0.0        0.0       0.0\n",
       " 0.00336504   1.0         0.0             0.0        0.0       0.0\n",
       " 0.866684    -0.824416    1.0             0.0        0.0       0.0\n",
       " 0.645611     0.160361    0.684064        0.0        0.0       0.0\n",
       " 0.197547     0.807324    0.247245        0.0        0.0       0.0\n",
       " 0.716797     0.18201     0.650779    …   0.0        0.0       0.0\n",
       " 0.738528     0.202128   -0.0376808       0.0        0.0       0.0\n",
       " 0.0896472    0.173607    0.687417        0.0        0.0       0.0\n",
       " 0.794197    -0.480492    0.67219         0.0        0.0       0.0\n",
       " 0.490141     0.319077    0.43186         0.0        0.0       0.0\n",
       " 0.0109004    0.0625027   0.733817    …   0.0        0.0       0.0\n",
       " 0.659455    -0.470858    0.828013        0.0        0.0       0.0\n",
       " 0.027066     0.179488    0.330555        0.0        0.0       0.0\n",
       " ⋮                                    ⋱                        \n",
       " 0.711692    -0.335488    0.861501        0.0        0.0       0.0\n",
       " 0.420604     0.529506    0.00399688      0.0        0.0       0.0\n",
       " 0.429131     0.583691   -0.0423727   …   0.0        0.0       0.0\n",
       " 0.52408     -0.373638    0.713808        0.0        0.0       0.0\n",
       " 0.558185     0.0188148   0.515699        0.0        0.0       0.0\n",
       " 0.559661    -0.104972    0.197823        0.0        0.0       0.0\n",
       " 0.0347466    0.969951    0.29179         0.0        0.0       0.0\n",
       " 0.0722103    0.761954    0.0987838   …   0.0        0.0       0.0\n",
       " 0.392908    -0.272291    0.0675239       0.0        0.0       0.0\n",
       " 0.994529    -0.422592    0.730671        1.0        0.0       0.0\n",
       " 0.383408     0.421774    0.269845       -0.106484   1.0       0.0\n",
       " 0.95021     -0.467278    0.502929        0.603672  -0.833061  1.0\n",
       "U factor:\n",
       "1000×1000 Matrix{Float64}:\n",
       " 0.998213  0.972511  0.0752871  …   0.197753    0.155751    0.247365\n",
       " 0.0       0.958921  0.371798       0.532502    0.291716    0.241861\n",
       " 0.0       0.0       1.21888        1.21988     1.05399     0.272393\n",
       " 0.0       0.0       0.0           -0.659214   -0.863168    0.457224\n",
       " 0.0       0.0       0.0            0.0237748  -0.440473    0.53408\n",
       " 0.0       0.0       0.0        …  -0.430732   -0.32291     0.414015\n",
       " 0.0       0.0       0.0            0.12397     0.692121   -0.642788\n",
       " 0.0       0.0       0.0            0.106955   -0.10147    -0.0689265\n",
       " 0.0       0.0       0.0           -0.0446616  -0.155759    0.198473\n",
       " 0.0       0.0       0.0           -0.542927    0.669026   -0.393987\n",
       " 0.0       0.0       0.0        …  -0.0625226  -0.739381    0.0240416\n",
       " 0.0       0.0       0.0           -0.32693    -0.636685    0.825788\n",
       " 0.0       0.0       0.0           -0.373008   -0.24868     0.769775\n",
       " ⋮                              ⋱                          \n",
       " 0.0       0.0       0.0           -0.0704486   7.15296    -4.75154\n",
       " 0.0       0.0       0.0            1.25312     8.9315     -4.2225\n",
       " 0.0       0.0       0.0        …   5.02832     0.0489037  -1.95475\n",
       " 0.0       0.0       0.0            4.74955     2.46341    -5.22866\n",
       " 0.0       0.0       0.0            3.18608    -6.13141    -4.82348\n",
       " 0.0       0.0       0.0           -0.513477   -4.58843    -1.35193\n",
       " 0.0       0.0       0.0            0.920074    5.23233     4.62896\n",
       " 0.0       0.0       0.0        …   8.25026     6.92194    -4.31715\n",
       " 0.0       0.0       0.0           -4.73317    -1.17018     4.24571\n",
       " 0.0       0.0       0.0           -6.47587    -4.50416     3.58256\n",
       " 0.0       0.0       0.0            0.0         5.83394     5.38002\n",
       " 0.0       0.0       0.0            0.0         0.0         8.54096"
      ]
     },
     "execution_count": 38,
     "metadata": {},
     "output_type": "execute_result"
    }
   ],
   "source": [
    "A_f = A\n",
    "@time A_f = factorize(A)"
   ]
  },
  {
   "cell_type": "code",
   "execution_count": 39,
   "metadata": {},
   "outputs": [
    {
     "name": "stdout",
     "output_type": "stream",
     "text": [
      "  0.061252 seconds (4 allocations: 7.645 MiB)\n"
     ]
    },
    {
     "data": {
      "text/plain": [
       "1000-element Vector{Float64}:\n",
       " 0.8186213792150963\n",
       " 0.6716224170674311\n",
       " 0.10584830858517028\n",
       " 0.7320702933277615\n",
       " 0.8072152064698421\n",
       " 0.3548956482389747\n",
       " 0.9649633955218874\n",
       " 0.4424933498227721\n",
       " 0.8035396795832679\n",
       " 0.26289505694169235\n",
       " 0.25284605647726244\n",
       " 0.16933579879590213\n",
       " 0.01810944371315147\n",
       " ⋮\n",
       " 0.97830028288313\n",
       " 0.9587960287340532\n",
       " 0.9223041366113227\n",
       " 0.5169383242086297\n",
       " 0.5928439350246432\n",
       " 0.6064578810566773\n",
       " 0.4879921074649657\n",
       " 0.2422611908104582\n",
       " 0.6336516493041212\n",
       " 0.661810962438627\n",
       " 0.4410900509009028\n",
       " 0.017257559725778658"
      ]
     },
     "execution_count": 39,
     "metadata": {},
     "output_type": "execute_result"
    }
   ],
   "source": [
    "@time factorization_operator_res = solve_operator(A,b)"
   ]
  },
  {
   "cell_type": "markdown",
   "metadata": {},
   "source": [
    "First method is definietly the slowest one. The fastest one is the last method. The reason for that is the fact, that it uses A_f - previously factorized A matrix"
   ]
  },
  {
   "cell_type": "markdown",
   "metadata": {},
   "source": [
    "Comparing results with real values:"
   ]
  },
  {
   "cell_type": "code",
   "execution_count": 40,
   "metadata": {},
   "outputs": [
    {
     "data": {
      "text/plain": [
       "5.274093630297066e-22"
      ]
     },
     "execution_count": 40,
     "metadata": {},
     "output_type": "execute_result"
    }
   ],
   "source": [
    "inv_diff = x - inv_res\n",
    "dot(inv_diff, inv_diff)"
   ]
  },
  {
   "cell_type": "code",
   "execution_count": 41,
   "metadata": {},
   "outputs": [
    {
     "data": {
      "text/plain": [
       "2.857747549354203e-22"
      ]
     },
     "execution_count": 41,
     "metadata": {},
     "output_type": "execute_result"
    }
   ],
   "source": [
    "operator_diff = x - operator_res\n",
    "dot(operator_diff, operator_diff)"
   ]
  },
  {
   "cell_type": "code",
   "execution_count": 42,
   "metadata": {},
   "outputs": [
    {
     "data": {
      "text/plain": [
       "2.857747549354203e-22"
      ]
     },
     "execution_count": 42,
     "metadata": {},
     "output_type": "execute_result"
    }
   ],
   "source": [
    "factorization_operator_diff = x - factorization_operator_res\n",
    "dot(factorization_operator_diff, factorization_operator_diff)"
   ]
  },
  {
   "cell_type": "markdown",
   "metadata": {},
   "source": [
    "# ZAD2(1pkt)"
   ]
  },
  {
   "cell_type": "markdown",
   "metadata": {},
   "source": [
    "Policz współczynniki wielomianu aproksymującego dowolne dane z poprzednich laboratoriów tworząc wprost układ równań i rozwiązujac go (metoda z użyciem faktoryzacji QR zaprezentowana na tym laboratorium). Porównaj wyniki z tymi otrzymanymi poprzednio."
   ]
  },
  {
   "cell_type": "code",
   "execution_count": 43,
   "metadata": {},
   "outputs": [],
   "source": [
    "using CSV\n",
    "using DataFrames\n",
    "using Plots"
   ]
  },
  {
   "cell_type": "code",
   "execution_count": 45,
   "metadata": {},
   "outputs": [],
   "source": [
    "df = CSV.read(\"mm_data_julia.csv\", delim=\",\",DataFrame);"
   ]
  },
  {
   "cell_type": "code",
   "execution_count": 46,
   "metadata": {},
   "outputs": [
    {
     "data": {
      "image/svg+xml": [
       "<?xml version=\"1.0\" encoding=\"utf-8\"?>\n",
       "<svg xmlns=\"http://www.w3.org/2000/svg\" xmlns:xlink=\"http://www.w3.org/1999/xlink\" width=\"600\" height=\"400\" viewBox=\"0 0 2400 1600\">\n",
       "<defs>\n",
       "  <clipPath id=\"clip420\">\n",
       "    <rect x=\"0\" y=\"0\" width=\"2400\" height=\"1600\"/>\n",
       "  </clipPath>\n",
       "</defs>\n",
       "<path clip-path=\"url(#clip420)\" d=\"\n",
       "M0 1600 L2400 1600 L2400 0 L0 0  Z\n",
       "  \" fill=\"#ffffff\" fill-rule=\"evenodd\" fill-opacity=\"1\"/>\n",
       "<defs>\n",
       "  <clipPath id=\"clip421\">\n",
       "    <rect x=\"480\" y=\"0\" width=\"1681\" height=\"1600\"/>\n",
       "  </clipPath>\n",
       "</defs>\n",
       "<path clip-path=\"url(#clip420)\" d=\"\n",
       "M156.112 1486.45 L2352.76 1486.45 L2352.76 47.2441 L156.112 47.2441  Z\n",
       "  \" fill=\"#ffffff\" fill-rule=\"evenodd\" fill-opacity=\"1\"/>\n",
       "<defs>\n",
       "  <clipPath id=\"clip422\">\n",
       "    <rect x=\"156\" y=\"47\" width=\"2198\" height=\"1440\"/>\n",
       "  </clipPath>\n",
       "</defs>\n",
       "<polyline clip-path=\"url(#clip422)\" style=\"stroke:#000000; stroke-linecap:butt; stroke-linejoin:round; stroke-width:2; stroke-opacity:0.1; fill:none\" points=\"\n",
       "  448.537,1486.45 448.537,47.2441 \n",
       "  \"/>\n",
       "<polyline clip-path=\"url(#clip422)\" style=\"stroke:#000000; stroke-linecap:butt; stroke-linejoin:round; stroke-width:2; stroke-opacity:0.1; fill:none\" points=\"\n",
       "  909.05,1486.45 909.05,47.2441 \n",
       "  \"/>\n",
       "<polyline clip-path=\"url(#clip422)\" style=\"stroke:#000000; stroke-linecap:butt; stroke-linejoin:round; stroke-width:2; stroke-opacity:0.1; fill:none\" points=\"\n",
       "  1369.56,1486.45 1369.56,47.2441 \n",
       "  \"/>\n",
       "<polyline clip-path=\"url(#clip422)\" style=\"stroke:#000000; stroke-linecap:butt; stroke-linejoin:round; stroke-width:2; stroke-opacity:0.1; fill:none\" points=\"\n",
       "  1830.07,1486.45 1830.07,47.2441 \n",
       "  \"/>\n",
       "<polyline clip-path=\"url(#clip422)\" style=\"stroke:#000000; stroke-linecap:butt; stroke-linejoin:round; stroke-width:2; stroke-opacity:0.1; fill:none\" points=\"\n",
       "  2290.59,1486.45 2290.59,47.2441 \n",
       "  \"/>\n",
       "<polyline clip-path=\"url(#clip420)\" style=\"stroke:#000000; stroke-linecap:butt; stroke-linejoin:round; stroke-width:4; stroke-opacity:1; fill:none\" points=\"\n",
       "  156.112,1486.45 2352.76,1486.45 \n",
       "  \"/>\n",
       "<polyline clip-path=\"url(#clip420)\" style=\"stroke:#000000; stroke-linecap:butt; stroke-linejoin:round; stroke-width:4; stroke-opacity:1; fill:none\" points=\"\n",
       "  448.537,1486.45 448.537,1467.55 \n",
       "  \"/>\n",
       "<polyline clip-path=\"url(#clip420)\" style=\"stroke:#000000; stroke-linecap:butt; stroke-linejoin:round; stroke-width:4; stroke-opacity:1; fill:none\" points=\"\n",
       "  909.05,1486.45 909.05,1467.55 \n",
       "  \"/>\n",
       "<polyline clip-path=\"url(#clip420)\" style=\"stroke:#000000; stroke-linecap:butt; stroke-linejoin:round; stroke-width:4; stroke-opacity:1; fill:none\" points=\"\n",
       "  1369.56,1486.45 1369.56,1467.55 \n",
       "  \"/>\n",
       "<polyline clip-path=\"url(#clip420)\" style=\"stroke:#000000; stroke-linecap:butt; stroke-linejoin:round; stroke-width:4; stroke-opacity:1; fill:none\" points=\"\n",
       "  1830.07,1486.45 1830.07,1467.55 \n",
       "  \"/>\n",
       "<polyline clip-path=\"url(#clip420)\" style=\"stroke:#000000; stroke-linecap:butt; stroke-linejoin:round; stroke-width:4; stroke-opacity:1; fill:none\" points=\"\n",
       "  2290.59,1486.45 2290.59,1467.55 \n",
       "  \"/>\n",
       "<path clip-path=\"url(#clip420)\" d=\"M412.23 1544.91 L428.549 1544.91 L428.549 1548.85 L406.605 1548.85 L406.605 1544.91 Q409.267 1542.16 413.85 1537.53 Q418.457 1532.88 419.637 1531.53 Q421.883 1529.01 422.762 1527.27 Q423.665 1525.51 423.665 1523.82 Q423.665 1521.07 421.72 1519.33 Q419.799 1517.6 416.697 1517.6 Q414.498 1517.6 412.045 1518.36 Q409.614 1519.13 406.836 1520.68 L406.836 1515.95 Q409.66 1514.82 412.114 1514.24 Q414.568 1513.66 416.605 1513.66 Q421.975 1513.66 425.17 1516.35 Q428.364 1519.03 428.364 1523.52 Q428.364 1525.65 427.554 1527.57 Q426.767 1529.47 424.66 1532.07 Q424.082 1532.74 420.98 1535.95 Q417.878 1539.15 412.23 1544.91 Z\" fill=\"#000000\" fill-rule=\"evenodd\" fill-opacity=\"1\" /><path clip-path=\"url(#clip420)\" d=\"M448.364 1517.37 Q444.753 1517.37 442.924 1520.93 Q441.119 1524.47 441.119 1531.6 Q441.119 1538.71 442.924 1542.27 Q444.753 1545.82 448.364 1545.82 Q451.998 1545.82 453.804 1542.27 Q455.632 1538.71 455.632 1531.6 Q455.632 1524.47 453.804 1520.93 Q451.998 1517.37 448.364 1517.37 M448.364 1513.66 Q454.174 1513.66 457.23 1518.27 Q460.308 1522.85 460.308 1531.6 Q460.308 1540.33 457.23 1544.94 Q454.174 1549.52 448.364 1549.52 Q442.554 1549.52 439.475 1544.94 Q436.419 1540.33 436.419 1531.6 Q436.419 1522.85 439.475 1518.27 Q442.554 1513.66 448.364 1513.66 Z\" fill=\"#000000\" fill-rule=\"evenodd\" fill-opacity=\"1\" /><path clip-path=\"url(#clip420)\" d=\"M478.526 1517.37 Q474.915 1517.37 473.086 1520.93 Q471.28 1524.47 471.28 1531.6 Q471.28 1538.71 473.086 1542.27 Q474.915 1545.82 478.526 1545.82 Q482.16 1545.82 483.966 1542.27 Q485.794 1538.71 485.794 1531.6 Q485.794 1524.47 483.966 1520.93 Q482.16 1517.37 478.526 1517.37 M478.526 1513.66 Q484.336 1513.66 487.391 1518.27 Q490.47 1522.85 490.47 1531.6 Q490.47 1540.33 487.391 1544.94 Q484.336 1549.52 478.526 1549.52 Q472.716 1549.52 469.637 1544.94 Q466.581 1540.33 466.581 1531.6 Q466.581 1522.85 469.637 1518.27 Q472.716 1513.66 478.526 1513.66 Z\" fill=\"#000000\" fill-rule=\"evenodd\" fill-opacity=\"1\" /><path clip-path=\"url(#clip420)\" d=\"M882.14 1518.36 L870.335 1536.81 L882.14 1536.81 L882.14 1518.36 M880.913 1514.29 L886.793 1514.29 L886.793 1536.81 L891.723 1536.81 L891.723 1540.7 L886.793 1540.7 L886.793 1548.85 L882.14 1548.85 L882.14 1540.7 L866.538 1540.7 L866.538 1536.19 L880.913 1514.29 Z\" fill=\"#000000\" fill-rule=\"evenodd\" fill-opacity=\"1\" /><path clip-path=\"url(#clip420)\" d=\"M909.455 1517.37 Q905.844 1517.37 904.015 1520.93 Q902.21 1524.47 902.21 1531.6 Q902.21 1538.71 904.015 1542.27 Q905.844 1545.82 909.455 1545.82 Q913.089 1545.82 914.895 1542.27 Q916.723 1538.71 916.723 1531.6 Q916.723 1524.47 914.895 1520.93 Q913.089 1517.37 909.455 1517.37 M909.455 1513.66 Q915.265 1513.66 918.321 1518.27 Q921.399 1522.85 921.399 1531.6 Q921.399 1540.33 918.321 1544.94 Q915.265 1549.52 909.455 1549.52 Q903.645 1549.52 900.566 1544.94 Q897.51 1540.33 897.51 1531.6 Q897.51 1522.85 900.566 1518.27 Q903.645 1513.66 909.455 1513.66 Z\" fill=\"#000000\" fill-rule=\"evenodd\" fill-opacity=\"1\" /><path clip-path=\"url(#clip420)\" d=\"M939.617 1517.37 Q936.006 1517.37 934.177 1520.93 Q932.371 1524.47 932.371 1531.6 Q932.371 1538.71 934.177 1542.27 Q936.006 1545.82 939.617 1545.82 Q943.251 1545.82 945.057 1542.27 Q946.885 1538.71 946.885 1531.6 Q946.885 1524.47 945.057 1520.93 Q943.251 1517.37 939.617 1517.37 M939.617 1513.66 Q945.427 1513.66 948.482 1518.27 Q951.561 1522.85 951.561 1531.6 Q951.561 1540.33 948.482 1544.94 Q945.427 1549.52 939.617 1549.52 Q933.807 1549.52 930.728 1544.94 Q927.672 1540.33 927.672 1531.6 Q927.672 1522.85 930.728 1518.27 Q933.807 1513.66 939.617 1513.66 Z\" fill=\"#000000\" fill-rule=\"evenodd\" fill-opacity=\"1\" /><path clip-path=\"url(#clip420)\" d=\"M1339.89 1529.7 Q1336.74 1529.7 1334.89 1531.86 Q1333.06 1534.01 1333.06 1537.76 Q1333.06 1541.49 1334.89 1543.66 Q1336.74 1545.82 1339.89 1545.82 Q1343.03 1545.82 1344.86 1543.66 Q1346.71 1541.49 1346.71 1537.76 Q1346.71 1534.01 1344.86 1531.86 Q1343.03 1529.7 1339.89 1529.7 M1349.17 1515.05 L1349.17 1519.31 Q1347.41 1518.48 1345.6 1518.04 Q1343.82 1517.6 1342.06 1517.6 Q1337.43 1517.6 1334.98 1520.72 Q1332.55 1523.85 1332.2 1530.17 Q1333.57 1528.15 1335.63 1527.09 Q1337.69 1526 1340.16 1526 Q1345.37 1526 1348.38 1529.17 Q1351.41 1532.32 1351.41 1537.76 Q1351.41 1543.08 1348.27 1546.3 Q1345.12 1549.52 1339.89 1549.52 Q1333.89 1549.52 1330.72 1544.94 Q1327.55 1540.33 1327.55 1531.6 Q1327.55 1523.41 1331.44 1518.55 Q1335.33 1513.66 1341.88 1513.66 Q1343.64 1513.66 1345.42 1514.01 Q1347.22 1514.36 1349.17 1515.05 Z\" fill=\"#000000\" fill-rule=\"evenodd\" fill-opacity=\"1\" /><path clip-path=\"url(#clip420)\" d=\"M1369.47 1517.37 Q1365.86 1517.37 1364.03 1520.93 Q1362.22 1524.47 1362.22 1531.6 Q1362.22 1538.71 1364.03 1542.27 Q1365.86 1545.82 1369.47 1545.82 Q1373.1 1545.82 1374.91 1542.27 Q1376.74 1538.71 1376.74 1531.6 Q1376.74 1524.47 1374.91 1520.93 Q1373.1 1517.37 1369.47 1517.37 M1369.47 1513.66 Q1375.28 1513.66 1378.34 1518.27 Q1381.41 1522.85 1381.41 1531.6 Q1381.41 1540.33 1378.34 1544.94 Q1375.28 1549.52 1369.47 1549.52 Q1363.66 1549.52 1360.58 1544.94 Q1357.53 1540.33 1357.53 1531.6 Q1357.53 1522.85 1360.58 1518.27 Q1363.66 1513.66 1369.47 1513.66 Z\" fill=\"#000000\" fill-rule=\"evenodd\" fill-opacity=\"1\" /><path clip-path=\"url(#clip420)\" d=\"M1399.63 1517.37 Q1396.02 1517.37 1394.19 1520.93 Q1392.39 1524.47 1392.39 1531.6 Q1392.39 1538.71 1394.19 1542.27 Q1396.02 1545.82 1399.63 1545.82 Q1403.27 1545.82 1405.07 1542.27 Q1406.9 1538.71 1406.9 1531.6 Q1406.9 1524.47 1405.07 1520.93 Q1403.27 1517.37 1399.63 1517.37 M1399.63 1513.66 Q1405.44 1513.66 1408.5 1518.27 Q1411.58 1522.85 1411.58 1531.6 Q1411.58 1540.33 1408.5 1544.94 Q1405.44 1549.52 1399.63 1549.52 Q1393.82 1549.52 1390.74 1544.94 Q1387.69 1540.33 1387.69 1531.6 Q1387.69 1522.85 1390.74 1518.27 Q1393.82 1513.66 1399.63 1513.66 Z\" fill=\"#000000\" fill-rule=\"evenodd\" fill-opacity=\"1\" /><path clip-path=\"url(#clip420)\" d=\"M1799.87 1532.44 Q1796.53 1532.44 1794.61 1534.22 Q1792.71 1536 1792.71 1539.13 Q1792.71 1542.25 1794.61 1544.03 Q1796.53 1545.82 1799.87 1545.82 Q1803.2 1545.82 1805.12 1544.03 Q1807.04 1542.23 1807.04 1539.13 Q1807.04 1536 1805.12 1534.22 Q1803.22 1532.44 1799.87 1532.44 M1795.19 1530.45 Q1792.18 1529.7 1790.49 1527.64 Q1788.82 1525.58 1788.82 1522.62 Q1788.82 1518.48 1791.76 1516.07 Q1794.73 1513.66 1799.87 1513.66 Q1805.03 1513.66 1807.97 1516.07 Q1810.91 1518.48 1810.91 1522.62 Q1810.91 1525.58 1809.22 1527.64 Q1807.55 1529.7 1804.57 1530.45 Q1807.94 1531.23 1809.82 1533.52 Q1811.72 1535.82 1811.72 1539.13 Q1811.72 1544.15 1808.64 1546.83 Q1805.58 1549.52 1799.87 1549.52 Q1794.15 1549.52 1791.07 1546.83 Q1788.01 1544.15 1788.01 1539.13 Q1788.01 1535.82 1789.91 1533.52 Q1791.81 1531.23 1795.19 1530.45 M1793.48 1523.06 Q1793.48 1525.75 1795.14 1527.25 Q1796.83 1528.76 1799.87 1528.76 Q1802.88 1528.76 1804.57 1527.25 Q1806.28 1525.75 1806.28 1523.06 Q1806.28 1520.38 1804.57 1518.87 Q1802.88 1517.37 1799.87 1517.37 Q1796.83 1517.37 1795.14 1518.87 Q1793.48 1520.38 1793.48 1523.06 Z\" fill=\"#000000\" fill-rule=\"evenodd\" fill-opacity=\"1\" /><path clip-path=\"url(#clip420)\" d=\"M1830.03 1517.37 Q1826.42 1517.37 1824.59 1520.93 Q1822.78 1524.47 1822.78 1531.6 Q1822.78 1538.71 1824.59 1542.27 Q1826.42 1545.82 1830.03 1545.82 Q1833.66 1545.82 1835.47 1542.27 Q1837.3 1538.71 1837.3 1531.6 Q1837.3 1524.47 1835.47 1520.93 Q1833.66 1517.37 1830.03 1517.37 M1830.03 1513.66 Q1835.84 1513.66 1838.89 1518.27 Q1841.97 1522.85 1841.97 1531.6 Q1841.97 1540.33 1838.89 1544.94 Q1835.84 1549.52 1830.03 1549.52 Q1824.22 1549.52 1821.14 1544.94 Q1818.08 1540.33 1818.08 1531.6 Q1818.08 1522.85 1821.14 1518.27 Q1824.22 1513.66 1830.03 1513.66 Z\" fill=\"#000000\" fill-rule=\"evenodd\" fill-opacity=\"1\" /><path clip-path=\"url(#clip420)\" d=\"M1860.19 1517.37 Q1856.58 1517.37 1854.75 1520.93 Q1852.94 1524.47 1852.94 1531.6 Q1852.94 1538.71 1854.75 1542.27 Q1856.58 1545.82 1860.19 1545.82 Q1863.82 1545.82 1865.63 1542.27 Q1867.46 1538.71 1867.46 1531.6 Q1867.46 1524.47 1865.63 1520.93 Q1863.82 1517.37 1860.19 1517.37 M1860.19 1513.66 Q1866 1513.66 1869.06 1518.27 Q1872.13 1522.85 1872.13 1531.6 Q1872.13 1540.33 1869.06 1544.94 Q1866 1549.52 1860.19 1549.52 Q1854.38 1549.52 1851.3 1544.94 Q1848.25 1540.33 1848.25 1531.6 Q1848.25 1522.85 1851.3 1518.27 Q1854.38 1513.66 1860.19 1513.66 Z\" fill=\"#000000\" fill-rule=\"evenodd\" fill-opacity=\"1\" /><path clip-path=\"url(#clip420)\" d=\"M2235.11 1544.91 L2242.75 1544.91 L2242.75 1518.55 L2234.44 1520.21 L2234.44 1515.95 L2242.71 1514.29 L2247.38 1514.29 L2247.38 1544.91 L2255.02 1544.91 L2255.02 1548.85 L2235.11 1548.85 L2235.11 1544.91 Z\" fill=\"#000000\" fill-rule=\"evenodd\" fill-opacity=\"1\" /><path clip-path=\"url(#clip420)\" d=\"M2274.46 1517.37 Q2270.85 1517.37 2269.02 1520.93 Q2267.22 1524.47 2267.22 1531.6 Q2267.22 1538.71 2269.02 1542.27 Q2270.85 1545.82 2274.46 1545.82 Q2278.1 1545.82 2279.9 1542.27 Q2281.73 1538.71 2281.73 1531.6 Q2281.73 1524.47 2279.9 1520.93 Q2278.1 1517.37 2274.46 1517.37 M2274.46 1513.66 Q2280.27 1513.66 2283.33 1518.27 Q2286.41 1522.85 2286.41 1531.6 Q2286.41 1540.33 2283.33 1544.94 Q2280.27 1549.52 2274.46 1549.52 Q2268.65 1549.52 2265.58 1544.94 Q2262.52 1540.33 2262.52 1531.6 Q2262.52 1522.85 2265.58 1518.27 Q2268.65 1513.66 2274.46 1513.66 Z\" fill=\"#000000\" fill-rule=\"evenodd\" fill-opacity=\"1\" /><path clip-path=\"url(#clip420)\" d=\"M2304.63 1517.37 Q2301.01 1517.37 2299.19 1520.93 Q2297.38 1524.47 2297.38 1531.6 Q2297.38 1538.71 2299.19 1542.27 Q2301.01 1545.82 2304.63 1545.82 Q2308.26 1545.82 2310.07 1542.27 Q2311.89 1538.71 2311.89 1531.6 Q2311.89 1524.47 2310.07 1520.93 Q2308.26 1517.37 2304.63 1517.37 M2304.63 1513.66 Q2310.44 1513.66 2313.49 1518.27 Q2316.57 1522.85 2316.57 1531.6 Q2316.57 1540.33 2313.49 1544.94 Q2310.44 1549.52 2304.63 1549.52 Q2298.82 1549.52 2295.74 1544.94 Q2292.68 1540.33 2292.68 1531.6 Q2292.68 1522.85 2295.74 1518.27 Q2298.82 1513.66 2304.63 1513.66 Z\" fill=\"#000000\" fill-rule=\"evenodd\" fill-opacity=\"1\" /><path clip-path=\"url(#clip420)\" d=\"M2334.79 1517.37 Q2331.18 1517.37 2329.35 1520.93 Q2327.54 1524.47 2327.54 1531.6 Q2327.54 1538.71 2329.35 1542.27 Q2331.18 1545.82 2334.79 1545.82 Q2338.42 1545.82 2340.23 1542.27 Q2342.06 1538.71 2342.06 1531.6 Q2342.06 1524.47 2340.23 1520.93 Q2338.42 1517.37 2334.79 1517.37 M2334.79 1513.66 Q2340.6 1513.66 2343.65 1518.27 Q2346.73 1522.85 2346.73 1531.6 Q2346.73 1540.33 2343.65 1544.94 Q2340.6 1549.52 2334.79 1549.52 Q2328.98 1549.52 2325.9 1544.94 Q2322.84 1540.33 2322.84 1531.6 Q2322.84 1522.85 2325.9 1518.27 Q2328.98 1513.66 2334.79 1513.66 Z\" fill=\"#000000\" fill-rule=\"evenodd\" fill-opacity=\"1\" /><polyline clip-path=\"url(#clip422)\" style=\"stroke:#000000; stroke-linecap:butt; stroke-linejoin:round; stroke-width:2; stroke-opacity:0.1; fill:none\" points=\"\n",
       "  156.112,1446.84 2352.76,1446.84 \n",
       "  \"/>\n",
       "<polyline clip-path=\"url(#clip422)\" style=\"stroke:#000000; stroke-linecap:butt; stroke-linejoin:round; stroke-width:2; stroke-opacity:0.1; fill:none\" points=\"\n",
       "  156.112,996.455 2352.76,996.455 \n",
       "  \"/>\n",
       "<polyline clip-path=\"url(#clip422)\" style=\"stroke:#000000; stroke-linecap:butt; stroke-linejoin:round; stroke-width:2; stroke-opacity:0.1; fill:none\" points=\"\n",
       "  156.112,546.066 2352.76,546.066 \n",
       "  \"/>\n",
       "<polyline clip-path=\"url(#clip422)\" style=\"stroke:#000000; stroke-linecap:butt; stroke-linejoin:round; stroke-width:2; stroke-opacity:0.1; fill:none\" points=\"\n",
       "  156.112,95.6762 2352.76,95.6762 \n",
       "  \"/>\n",
       "<polyline clip-path=\"url(#clip420)\" style=\"stroke:#000000; stroke-linecap:butt; stroke-linejoin:round; stroke-width:4; stroke-opacity:1; fill:none\" points=\"\n",
       "  156.112,1486.45 156.112,47.2441 \n",
       "  \"/>\n",
       "<polyline clip-path=\"url(#clip420)\" style=\"stroke:#000000; stroke-linecap:butt; stroke-linejoin:round; stroke-width:4; stroke-opacity:1; fill:none\" points=\"\n",
       "  156.112,1446.84 175.01,1446.84 \n",
       "  \"/>\n",
       "<polyline clip-path=\"url(#clip420)\" style=\"stroke:#000000; stroke-linecap:butt; stroke-linejoin:round; stroke-width:4; stroke-opacity:1; fill:none\" points=\"\n",
       "  156.112,996.455 175.01,996.455 \n",
       "  \"/>\n",
       "<polyline clip-path=\"url(#clip420)\" style=\"stroke:#000000; stroke-linecap:butt; stroke-linejoin:round; stroke-width:4; stroke-opacity:1; fill:none\" points=\"\n",
       "  156.112,546.066 175.01,546.066 \n",
       "  \"/>\n",
       "<polyline clip-path=\"url(#clip420)\" style=\"stroke:#000000; stroke-linecap:butt; stroke-linejoin:round; stroke-width:4; stroke-opacity:1; fill:none\" points=\"\n",
       "  156.112,95.6762 175.01,95.6762 \n",
       "  \"/>\n",
       "<path clip-path=\"url(#clip420)\" d=\"M62.9365 1432.64 Q59.3254 1432.64 57.4967 1436.21 Q55.6912 1439.75 55.6912 1446.88 Q55.6912 1453.99 57.4967 1457.55 Q59.3254 1461.09 62.9365 1461.09 Q66.5707 1461.09 68.3763 1457.55 Q70.205 1453.99 70.205 1446.88 Q70.205 1439.75 68.3763 1436.21 Q66.5707 1432.64 62.9365 1432.64 M62.9365 1428.94 Q68.7467 1428.94 71.8022 1433.55 Q74.8809 1438.13 74.8809 1446.88 Q74.8809 1455.61 71.8022 1460.21 Q68.7467 1464.8 62.9365 1464.8 Q57.1264 1464.8 54.0477 1460.21 Q50.9921 1455.61 50.9921 1446.88 Q50.9921 1438.13 54.0477 1433.55 Q57.1264 1428.94 62.9365 1428.94 Z\" fill=\"#000000\" fill-rule=\"evenodd\" fill-opacity=\"1\" /><path clip-path=\"url(#clip420)\" d=\"M83.0984 1458.25 L87.9827 1458.25 L87.9827 1464.12 L83.0984 1464.12 L83.0984 1458.25 Z\" fill=\"#000000\" fill-rule=\"evenodd\" fill-opacity=\"1\" /><path clip-path=\"url(#clip420)\" d=\"M108.168 1432.64 Q104.557 1432.64 102.728 1436.21 Q100.922 1439.75 100.922 1446.88 Q100.922 1453.99 102.728 1457.55 Q104.557 1461.09 108.168 1461.09 Q111.802 1461.09 113.608 1457.55 Q115.436 1453.99 115.436 1446.88 Q115.436 1439.75 113.608 1436.21 Q111.802 1432.64 108.168 1432.64 M108.168 1428.94 Q113.978 1428.94 117.033 1433.55 Q120.112 1438.13 120.112 1446.88 Q120.112 1455.61 117.033 1460.21 Q113.978 1464.8 108.168 1464.8 Q102.358 1464.8 99.2789 1460.21 Q96.2234 1455.61 96.2234 1446.88 Q96.2234 1438.13 99.2789 1433.55 Q102.358 1428.94 108.168 1428.94 Z\" fill=\"#000000\" fill-rule=\"evenodd\" fill-opacity=\"1\" /><path clip-path=\"url(#clip420)\" d=\"M63.9319 982.254 Q60.3208 982.254 58.4921 985.819 Q56.6865 989.36 56.6865 996.49 Q56.6865 1003.6 58.4921 1007.16 Q60.3208 1010.7 63.9319 1010.7 Q67.5661 1010.7 69.3717 1007.16 Q71.2004 1003.6 71.2004 996.49 Q71.2004 989.36 69.3717 985.819 Q67.5661 982.254 63.9319 982.254 M63.9319 978.55 Q69.742 978.55 72.7976 983.157 Q75.8763 987.74 75.8763 996.49 Q75.8763 1005.22 72.7976 1009.82 Q69.742 1014.41 63.9319 1014.41 Q58.1217 1014.41 55.043 1009.82 Q51.9875 1005.22 51.9875 996.49 Q51.9875 987.74 55.043 983.157 Q58.1217 978.55 63.9319 978.55 Z\" fill=\"#000000\" fill-rule=\"evenodd\" fill-opacity=\"1\" /><path clip-path=\"url(#clip420)\" d=\"M84.0938 1007.86 L88.978 1007.86 L88.978 1013.74 L84.0938 1013.74 L84.0938 1007.86 Z\" fill=\"#000000\" fill-rule=\"evenodd\" fill-opacity=\"1\" /><path clip-path=\"url(#clip420)\" d=\"M99.2095 979.175 L117.566 979.175 L117.566 983.11 L103.492 983.11 L103.492 991.583 Q104.51 991.235 105.529 991.073 Q106.547 990.888 107.566 990.888 Q113.353 990.888 116.733 994.059 Q120.112 997.231 120.112 1002.65 Q120.112 1008.23 116.64 1011.33 Q113.168 1014.41 106.848 1014.41 Q104.672 1014.41 102.404 1014.04 Q100.159 1013.67 97.7511 1012.92 L97.7511 1008.23 Q99.8345 1009.36 102.057 1009.92 Q104.279 1010.47 106.756 1010.47 Q110.76 1010.47 113.098 1008.36 Q115.436 1006.26 115.436 1002.65 Q115.436 999.036 113.098 996.93 Q110.76 994.823 106.756 994.823 Q104.881 994.823 103.006 995.24 Q101.154 995.657 99.2095 996.536 L99.2095 979.175 Z\" fill=\"#000000\" fill-rule=\"evenodd\" fill-opacity=\"1\" /><path clip-path=\"url(#clip420)\" d=\"M53.7467 559.411 L61.3856 559.411 L61.3856 533.045 L53.0754 534.712 L53.0754 530.452 L61.3393 528.786 L66.0152 528.786 L66.0152 559.411 L73.654 559.411 L73.654 563.346 L53.7467 563.346 L53.7467 559.411 Z\" fill=\"#000000\" fill-rule=\"evenodd\" fill-opacity=\"1\" /><path clip-path=\"url(#clip420)\" d=\"M83.0984 557.466 L87.9827 557.466 L87.9827 563.346 L83.0984 563.346 L83.0984 557.466 Z\" fill=\"#000000\" fill-rule=\"evenodd\" fill-opacity=\"1\" /><path clip-path=\"url(#clip420)\" d=\"M108.168 531.864 Q104.557 531.864 102.728 535.429 Q100.922 538.971 100.922 546.1 Q100.922 553.207 102.728 556.772 Q104.557 560.313 108.168 560.313 Q111.802 560.313 113.608 556.772 Q115.436 553.207 115.436 546.1 Q115.436 538.971 113.608 535.429 Q111.802 531.864 108.168 531.864 M108.168 528.161 Q113.978 528.161 117.033 532.767 Q120.112 537.35 120.112 546.1 Q120.112 554.827 117.033 559.434 Q113.978 564.017 108.168 564.017 Q102.358 564.017 99.2789 559.434 Q96.2234 554.827 96.2234 546.1 Q96.2234 537.35 99.2789 532.767 Q102.358 528.161 108.168 528.161 Z\" fill=\"#000000\" fill-rule=\"evenodd\" fill-opacity=\"1\" /><path clip-path=\"url(#clip420)\" d=\"M54.7421 109.021 L62.381 109.021 L62.381 82.6554 L54.0708 84.3221 L54.0708 80.0628 L62.3347 78.3962 L67.0106 78.3962 L67.0106 109.021 L74.6494 109.021 L74.6494 112.956 L54.7421 112.956 L54.7421 109.021 Z\" fill=\"#000000\" fill-rule=\"evenodd\" fill-opacity=\"1\" /><path clip-path=\"url(#clip420)\" d=\"M84.0938 107.077 L88.978 107.077 L88.978 112.956 L84.0938 112.956 L84.0938 107.077 Z\" fill=\"#000000\" fill-rule=\"evenodd\" fill-opacity=\"1\" /><path clip-path=\"url(#clip420)\" d=\"M99.2095 78.3962 L117.566 78.3962 L117.566 82.3313 L103.492 82.3313 L103.492 90.8035 Q104.51 90.4563 105.529 90.2943 Q106.547 90.1091 107.566 90.1091 Q113.353 90.1091 116.733 93.2804 Q120.112 96.4516 120.112 101.868 Q120.112 107.447 116.64 110.549 Q113.168 113.627 106.848 113.627 Q104.672 113.627 102.404 113.257 Q100.159 112.887 97.7511 112.146 L97.7511 107.447 Q99.8345 108.581 102.057 109.137 Q104.279 109.692 106.756 109.692 Q110.76 109.692 113.098 107.586 Q115.436 105.479 115.436 101.868 Q115.436 98.2572 113.098 96.1507 Q110.76 94.0442 106.756 94.0442 Q104.881 94.0442 103.006 94.4609 Q101.154 94.8776 99.2095 95.7572 L99.2095 78.3962 Z\" fill=\"#000000\" fill-rule=\"evenodd\" fill-opacity=\"1\" /><circle clip-path=\"url(#clip422)\" cx=\"218.281\" cy=\"1445.72\" r=\"14\" fill=\"#009af9\" fill-rule=\"evenodd\" fill-opacity=\"1\" stroke=\"#000000\" stroke-opacity=\"1\" stroke-width=\"3.2\"/>\n",
       "<circle clip-path=\"url(#clip422)\" cx=\"448.537\" cy=\"1438.35\" r=\"14\" fill=\"#009af9\" fill-rule=\"evenodd\" fill-opacity=\"1\" stroke=\"#000000\" stroke-opacity=\"1\" stroke-width=\"3.2\"/>\n",
       "<circle clip-path=\"url(#clip422)\" cx=\"678.794\" cy=\"1414.24\" r=\"14\" fill=\"#009af9\" fill-rule=\"evenodd\" fill-opacity=\"1\" stroke=\"#000000\" stroke-opacity=\"1\" stroke-width=\"3.2\"/>\n",
       "<circle clip-path=\"url(#clip422)\" cx=\"909.05\" cy=\"1368.81\" r=\"14\" fill=\"#009af9\" fill-rule=\"evenodd\" fill-opacity=\"1\" stroke=\"#000000\" stroke-opacity=\"1\" stroke-width=\"3.2\"/>\n",
       "<circle clip-path=\"url(#clip422)\" cx=\"1139.31\" cy=\"1278.87\" r=\"14\" fill=\"#009af9\" fill-rule=\"evenodd\" fill-opacity=\"1\" stroke=\"#000000\" stroke-opacity=\"1\" stroke-width=\"3.2\"/>\n",
       "<circle clip-path=\"url(#clip422)\" cx=\"1369.56\" cy=\"1166.36\" r=\"14\" fill=\"#009af9\" fill-rule=\"evenodd\" fill-opacity=\"1\" stroke=\"#000000\" stroke-opacity=\"1\" stroke-width=\"3.2\"/>\n",
       "<circle clip-path=\"url(#clip422)\" cx=\"1599.82\" cy=\"1044.26\" r=\"14\" fill=\"#009af9\" fill-rule=\"evenodd\" fill-opacity=\"1\" stroke=\"#000000\" stroke-opacity=\"1\" stroke-width=\"3.2\"/>\n",
       "<circle clip-path=\"url(#clip422)\" cx=\"1830.07\" cy=\"752.232\" r=\"14\" fill=\"#009af9\" fill-rule=\"evenodd\" fill-opacity=\"1\" stroke=\"#000000\" stroke-opacity=\"1\" stroke-width=\"3.2\"/>\n",
       "<circle clip-path=\"url(#clip422)\" cx=\"2060.33\" cy=\"611.773\" r=\"14\" fill=\"#009af9\" fill-rule=\"evenodd\" fill-opacity=\"1\" stroke=\"#000000\" stroke-opacity=\"1\" stroke-width=\"3.2\"/>\n",
       "<circle clip-path=\"url(#clip422)\" cx=\"2290.59\" cy=\"87.9763\" r=\"14\" fill=\"#009af9\" fill-rule=\"evenodd\" fill-opacity=\"1\" stroke=\"#000000\" stroke-opacity=\"1\" stroke-width=\"3.2\"/>\n",
       "</svg>\n"
      ]
     },
     "execution_count": 46,
     "metadata": {},
     "output_type": "execute_result"
    }
   ],
   "source": [
    "x_julia = df[df[:,2] .== \"n\", 1]\n",
    "# y_julia_n = df[df[:,2] .== \"n\", 3]\n",
    "y_julia_i = df[df[:,2] .== \"i\", 3]\n",
    "# y_julia_b = df[df[:,2] .== \"b\", 3];\n",
    "\n",
    "fit_poly_julia_i = fit(x_julia, y_julia_i, 3)\n",
    "scatter(x_julia,y_julia_i, label =\"\")"
   ]
  },
  {
   "cell_type": "code",
   "execution_count": 47,
   "metadata": {},
   "outputs": [
    {
     "data": {
      "text/html": [
       "&#45;0.05726801610333451 &#43; 0.0005695198150021444&#8729;x &#45; 1.3938817774300841e-6&#8729;x<sup>2</sup> &#43; 2.344394140637148e-9&#8729;x<sup>3</sup>"
      ],
      "text/latex": [
       "$-0.05726801610333451 + 0.0005695198150021444\\cdot x - 1.3938817774300841e-6\\cdot x^{2} + 2.344394140637148e-9\\cdot x^{3}$"
      ],
      "text/plain": [
       "Polynomial(-0.05726801610333451 + 0.0005695198150021444*x - 1.3938817774300841e-6*x^2 + 2.344394140637148e-9*x^3)"
      ]
     },
     "execution_count": 47,
     "metadata": {},
     "output_type": "execute_result"
    }
   ],
   "source": [
    "A_aprox = zeros(10, 4)\n",
    "A_aprox[:,1]=x_julia.^3;\n",
    "A_aprox[:,2]=x_julia.^2;\n",
    "A_aprox[:,3]=x_julia.^1;\n",
    "A_aprox[:,4]=ones(10);\n",
    "\n",
    "A_aprox_F = factorize(A_aprox);\n",
    "\n",
    "aprox_res_QR = A_aprox_F \\ y_julia_i\n",
    "\n",
    "poly_aprox = Polynomial( reverse(aprox_res_QR))\n",
    "\n",
    "fit_aprox = fit(x_julia, y_julia_i, 3)"
   ]
  },
  {
   "cell_type": "code",
   "execution_count": 50,
   "metadata": {},
   "outputs": [
    {
     "data": {
      "image/svg+xml": [
       "<?xml version=\"1.0\" encoding=\"utf-8\"?>\n",
       "<svg xmlns=\"http://www.w3.org/2000/svg\" xmlns:xlink=\"http://www.w3.org/1999/xlink\" width=\"600\" height=\"400\" viewBox=\"0 0 2400 1600\">\n",
       "<defs>\n",
       "  <clipPath id=\"clip540\">\n",
       "    <rect x=\"0\" y=\"0\" width=\"2400\" height=\"1600\"/>\n",
       "  </clipPath>\n",
       "</defs>\n",
       "<path clip-path=\"url(#clip540)\" d=\"\n",
       "M0 1600 L2400 1600 L2400 0 L0 0  Z\n",
       "  \" fill=\"#ffffff\" fill-rule=\"evenodd\" fill-opacity=\"1\"/>\n",
       "<defs>\n",
       "  <clipPath id=\"clip541\">\n",
       "    <rect x=\"480\" y=\"0\" width=\"1681\" height=\"1600\"/>\n",
       "  </clipPath>\n",
       "</defs>\n",
       "<path clip-path=\"url(#clip540)\" d=\"\n",
       "M156.112 1486.45 L2352.76 1486.45 L2352.76 123.472 L156.112 123.472  Z\n",
       "  \" fill=\"#ffffff\" fill-rule=\"evenodd\" fill-opacity=\"1\"/>\n",
       "<defs>\n",
       "  <clipPath id=\"clip542\">\n",
       "    <rect x=\"156\" y=\"123\" width=\"2198\" height=\"1364\"/>\n",
       "  </clipPath>\n",
       "</defs>\n",
       "<polyline clip-path=\"url(#clip542)\" style=\"stroke:#000000; stroke-linecap:butt; stroke-linejoin:round; stroke-width:2; stroke-opacity:0.1; fill:none\" points=\"\n",
       "  448.537,1486.45 448.537,123.472 \n",
       "  \"/>\n",
       "<polyline clip-path=\"url(#clip542)\" style=\"stroke:#000000; stroke-linecap:butt; stroke-linejoin:round; stroke-width:2; stroke-opacity:0.1; fill:none\" points=\"\n",
       "  909.05,1486.45 909.05,123.472 \n",
       "  \"/>\n",
       "<polyline clip-path=\"url(#clip542)\" style=\"stroke:#000000; stroke-linecap:butt; stroke-linejoin:round; stroke-width:2; stroke-opacity:0.1; fill:none\" points=\"\n",
       "  1369.56,1486.45 1369.56,123.472 \n",
       "  \"/>\n",
       "<polyline clip-path=\"url(#clip542)\" style=\"stroke:#000000; stroke-linecap:butt; stroke-linejoin:round; stroke-width:2; stroke-opacity:0.1; fill:none\" points=\"\n",
       "  1830.07,1486.45 1830.07,123.472 \n",
       "  \"/>\n",
       "<polyline clip-path=\"url(#clip542)\" style=\"stroke:#000000; stroke-linecap:butt; stroke-linejoin:round; stroke-width:2; stroke-opacity:0.1; fill:none\" points=\"\n",
       "  2290.59,1486.45 2290.59,123.472 \n",
       "  \"/>\n",
       "<polyline clip-path=\"url(#clip540)\" style=\"stroke:#000000; stroke-linecap:butt; stroke-linejoin:round; stroke-width:4; stroke-opacity:1; fill:none\" points=\"\n",
       "  156.112,1486.45 2352.76,1486.45 \n",
       "  \"/>\n",
       "<polyline clip-path=\"url(#clip540)\" style=\"stroke:#000000; stroke-linecap:butt; stroke-linejoin:round; stroke-width:4; stroke-opacity:1; fill:none\" points=\"\n",
       "  448.537,1486.45 448.537,1467.55 \n",
       "  \"/>\n",
       "<polyline clip-path=\"url(#clip540)\" style=\"stroke:#000000; stroke-linecap:butt; stroke-linejoin:round; stroke-width:4; stroke-opacity:1; fill:none\" points=\"\n",
       "  909.05,1486.45 909.05,1467.55 \n",
       "  \"/>\n",
       "<polyline clip-path=\"url(#clip540)\" style=\"stroke:#000000; stroke-linecap:butt; stroke-linejoin:round; stroke-width:4; stroke-opacity:1; fill:none\" points=\"\n",
       "  1369.56,1486.45 1369.56,1467.55 \n",
       "  \"/>\n",
       "<polyline clip-path=\"url(#clip540)\" style=\"stroke:#000000; stroke-linecap:butt; stroke-linejoin:round; stroke-width:4; stroke-opacity:1; fill:none\" points=\"\n",
       "  1830.07,1486.45 1830.07,1467.55 \n",
       "  \"/>\n",
       "<polyline clip-path=\"url(#clip540)\" style=\"stroke:#000000; stroke-linecap:butt; stroke-linejoin:round; stroke-width:4; stroke-opacity:1; fill:none\" points=\"\n",
       "  2290.59,1486.45 2290.59,1467.55 \n",
       "  \"/>\n",
       "<path clip-path=\"url(#clip540)\" d=\"M412.23 1544.91 L428.549 1544.91 L428.549 1548.85 L406.605 1548.85 L406.605 1544.91 Q409.267 1542.16 413.85 1537.53 Q418.457 1532.88 419.637 1531.53 Q421.883 1529.01 422.762 1527.27 Q423.665 1525.51 423.665 1523.82 Q423.665 1521.07 421.72 1519.33 Q419.799 1517.6 416.697 1517.6 Q414.498 1517.6 412.045 1518.36 Q409.614 1519.13 406.836 1520.68 L406.836 1515.95 Q409.66 1514.82 412.114 1514.24 Q414.568 1513.66 416.605 1513.66 Q421.975 1513.66 425.17 1516.35 Q428.364 1519.03 428.364 1523.52 Q428.364 1525.65 427.554 1527.57 Q426.767 1529.47 424.66 1532.07 Q424.082 1532.74 420.98 1535.95 Q417.878 1539.15 412.23 1544.91 Z\" fill=\"#000000\" fill-rule=\"evenodd\" fill-opacity=\"1\" /><path clip-path=\"url(#clip540)\" d=\"M448.364 1517.37 Q444.753 1517.37 442.924 1520.93 Q441.119 1524.47 441.119 1531.6 Q441.119 1538.71 442.924 1542.27 Q444.753 1545.82 448.364 1545.82 Q451.998 1545.82 453.804 1542.27 Q455.632 1538.71 455.632 1531.6 Q455.632 1524.47 453.804 1520.93 Q451.998 1517.37 448.364 1517.37 M448.364 1513.66 Q454.174 1513.66 457.23 1518.27 Q460.308 1522.85 460.308 1531.6 Q460.308 1540.33 457.23 1544.94 Q454.174 1549.52 448.364 1549.52 Q442.554 1549.52 439.475 1544.94 Q436.419 1540.33 436.419 1531.6 Q436.419 1522.85 439.475 1518.27 Q442.554 1513.66 448.364 1513.66 Z\" fill=\"#000000\" fill-rule=\"evenodd\" fill-opacity=\"1\" /><path clip-path=\"url(#clip540)\" d=\"M478.526 1517.37 Q474.915 1517.37 473.086 1520.93 Q471.28 1524.47 471.28 1531.6 Q471.28 1538.71 473.086 1542.27 Q474.915 1545.82 478.526 1545.82 Q482.16 1545.82 483.966 1542.27 Q485.794 1538.71 485.794 1531.6 Q485.794 1524.47 483.966 1520.93 Q482.16 1517.37 478.526 1517.37 M478.526 1513.66 Q484.336 1513.66 487.391 1518.27 Q490.47 1522.85 490.47 1531.6 Q490.47 1540.33 487.391 1544.94 Q484.336 1549.52 478.526 1549.52 Q472.716 1549.52 469.637 1544.94 Q466.581 1540.33 466.581 1531.6 Q466.581 1522.85 469.637 1518.27 Q472.716 1513.66 478.526 1513.66 Z\" fill=\"#000000\" fill-rule=\"evenodd\" fill-opacity=\"1\" /><path clip-path=\"url(#clip540)\" d=\"M882.14 1518.36 L870.335 1536.81 L882.14 1536.81 L882.14 1518.36 M880.913 1514.29 L886.793 1514.29 L886.793 1536.81 L891.723 1536.81 L891.723 1540.7 L886.793 1540.7 L886.793 1548.85 L882.14 1548.85 L882.14 1540.7 L866.538 1540.7 L866.538 1536.19 L880.913 1514.29 Z\" fill=\"#000000\" fill-rule=\"evenodd\" fill-opacity=\"1\" /><path clip-path=\"url(#clip540)\" d=\"M909.455 1517.37 Q905.844 1517.37 904.015 1520.93 Q902.21 1524.47 902.21 1531.6 Q902.21 1538.71 904.015 1542.27 Q905.844 1545.82 909.455 1545.82 Q913.089 1545.82 914.895 1542.27 Q916.723 1538.71 916.723 1531.6 Q916.723 1524.47 914.895 1520.93 Q913.089 1517.37 909.455 1517.37 M909.455 1513.66 Q915.265 1513.66 918.321 1518.27 Q921.399 1522.85 921.399 1531.6 Q921.399 1540.33 918.321 1544.94 Q915.265 1549.52 909.455 1549.52 Q903.645 1549.52 900.566 1544.94 Q897.51 1540.33 897.51 1531.6 Q897.51 1522.85 900.566 1518.27 Q903.645 1513.66 909.455 1513.66 Z\" fill=\"#000000\" fill-rule=\"evenodd\" fill-opacity=\"1\" /><path clip-path=\"url(#clip540)\" d=\"M939.617 1517.37 Q936.006 1517.37 934.177 1520.93 Q932.371 1524.47 932.371 1531.6 Q932.371 1538.71 934.177 1542.27 Q936.006 1545.82 939.617 1545.82 Q943.251 1545.82 945.057 1542.27 Q946.885 1538.71 946.885 1531.6 Q946.885 1524.47 945.057 1520.93 Q943.251 1517.37 939.617 1517.37 M939.617 1513.66 Q945.427 1513.66 948.482 1518.27 Q951.561 1522.85 951.561 1531.6 Q951.561 1540.33 948.482 1544.94 Q945.427 1549.52 939.617 1549.52 Q933.807 1549.52 930.728 1544.94 Q927.672 1540.33 927.672 1531.6 Q927.672 1522.85 930.728 1518.27 Q933.807 1513.66 939.617 1513.66 Z\" fill=\"#000000\" fill-rule=\"evenodd\" fill-opacity=\"1\" /><path clip-path=\"url(#clip540)\" d=\"M1339.89 1529.7 Q1336.74 1529.7 1334.89 1531.86 Q1333.06 1534.01 1333.06 1537.76 Q1333.06 1541.49 1334.89 1543.66 Q1336.74 1545.82 1339.89 1545.82 Q1343.03 1545.82 1344.86 1543.66 Q1346.71 1541.49 1346.71 1537.76 Q1346.71 1534.01 1344.86 1531.86 Q1343.03 1529.7 1339.89 1529.7 M1349.17 1515.05 L1349.17 1519.31 Q1347.41 1518.48 1345.6 1518.04 Q1343.82 1517.6 1342.06 1517.6 Q1337.43 1517.6 1334.98 1520.72 Q1332.55 1523.85 1332.2 1530.17 Q1333.57 1528.15 1335.63 1527.09 Q1337.69 1526 1340.16 1526 Q1345.37 1526 1348.38 1529.17 Q1351.41 1532.32 1351.41 1537.76 Q1351.41 1543.08 1348.27 1546.3 Q1345.12 1549.52 1339.89 1549.52 Q1333.89 1549.52 1330.72 1544.94 Q1327.55 1540.33 1327.55 1531.6 Q1327.55 1523.41 1331.44 1518.55 Q1335.33 1513.66 1341.88 1513.66 Q1343.64 1513.66 1345.42 1514.01 Q1347.22 1514.36 1349.17 1515.05 Z\" fill=\"#000000\" fill-rule=\"evenodd\" fill-opacity=\"1\" /><path clip-path=\"url(#clip540)\" d=\"M1369.47 1517.37 Q1365.86 1517.37 1364.03 1520.93 Q1362.22 1524.47 1362.22 1531.6 Q1362.22 1538.71 1364.03 1542.27 Q1365.86 1545.82 1369.47 1545.82 Q1373.1 1545.82 1374.91 1542.27 Q1376.74 1538.71 1376.74 1531.6 Q1376.74 1524.47 1374.91 1520.93 Q1373.1 1517.37 1369.47 1517.37 M1369.47 1513.66 Q1375.28 1513.66 1378.34 1518.27 Q1381.41 1522.85 1381.41 1531.6 Q1381.41 1540.33 1378.34 1544.94 Q1375.28 1549.52 1369.47 1549.52 Q1363.66 1549.52 1360.58 1544.94 Q1357.53 1540.33 1357.53 1531.6 Q1357.53 1522.85 1360.58 1518.27 Q1363.66 1513.66 1369.47 1513.66 Z\" fill=\"#000000\" fill-rule=\"evenodd\" fill-opacity=\"1\" /><path clip-path=\"url(#clip540)\" d=\"M1399.63 1517.37 Q1396.02 1517.37 1394.19 1520.93 Q1392.39 1524.47 1392.39 1531.6 Q1392.39 1538.71 1394.19 1542.27 Q1396.02 1545.82 1399.63 1545.82 Q1403.27 1545.82 1405.07 1542.27 Q1406.9 1538.71 1406.9 1531.6 Q1406.9 1524.47 1405.07 1520.93 Q1403.27 1517.37 1399.63 1517.37 M1399.63 1513.66 Q1405.44 1513.66 1408.5 1518.27 Q1411.58 1522.85 1411.58 1531.6 Q1411.58 1540.33 1408.5 1544.94 Q1405.44 1549.52 1399.63 1549.52 Q1393.82 1549.52 1390.74 1544.94 Q1387.69 1540.33 1387.69 1531.6 Q1387.69 1522.85 1390.74 1518.27 Q1393.82 1513.66 1399.63 1513.66 Z\" fill=\"#000000\" fill-rule=\"evenodd\" fill-opacity=\"1\" /><path clip-path=\"url(#clip540)\" d=\"M1799.87 1532.44 Q1796.53 1532.44 1794.61 1534.22 Q1792.71 1536 1792.71 1539.13 Q1792.71 1542.25 1794.61 1544.03 Q1796.53 1545.82 1799.87 1545.82 Q1803.2 1545.82 1805.12 1544.03 Q1807.04 1542.23 1807.04 1539.13 Q1807.04 1536 1805.12 1534.22 Q1803.22 1532.44 1799.87 1532.44 M1795.19 1530.45 Q1792.18 1529.7 1790.49 1527.64 Q1788.82 1525.58 1788.82 1522.62 Q1788.82 1518.48 1791.76 1516.07 Q1794.73 1513.66 1799.87 1513.66 Q1805.03 1513.66 1807.97 1516.07 Q1810.91 1518.48 1810.91 1522.62 Q1810.91 1525.58 1809.22 1527.64 Q1807.55 1529.7 1804.57 1530.45 Q1807.94 1531.23 1809.82 1533.52 Q1811.72 1535.82 1811.72 1539.13 Q1811.72 1544.15 1808.64 1546.83 Q1805.58 1549.52 1799.87 1549.52 Q1794.15 1549.52 1791.07 1546.83 Q1788.01 1544.15 1788.01 1539.13 Q1788.01 1535.82 1789.91 1533.52 Q1791.81 1531.23 1795.19 1530.45 M1793.48 1523.06 Q1793.48 1525.75 1795.14 1527.25 Q1796.83 1528.76 1799.87 1528.76 Q1802.88 1528.76 1804.57 1527.25 Q1806.28 1525.75 1806.28 1523.06 Q1806.28 1520.38 1804.57 1518.87 Q1802.88 1517.37 1799.87 1517.37 Q1796.83 1517.37 1795.14 1518.87 Q1793.48 1520.38 1793.48 1523.06 Z\" fill=\"#000000\" fill-rule=\"evenodd\" fill-opacity=\"1\" /><path clip-path=\"url(#clip540)\" d=\"M1830.03 1517.37 Q1826.42 1517.37 1824.59 1520.93 Q1822.78 1524.47 1822.78 1531.6 Q1822.78 1538.71 1824.59 1542.27 Q1826.42 1545.82 1830.03 1545.82 Q1833.66 1545.82 1835.47 1542.27 Q1837.3 1538.71 1837.3 1531.6 Q1837.3 1524.47 1835.47 1520.93 Q1833.66 1517.37 1830.03 1517.37 M1830.03 1513.66 Q1835.84 1513.66 1838.89 1518.27 Q1841.97 1522.85 1841.97 1531.6 Q1841.97 1540.33 1838.89 1544.94 Q1835.84 1549.52 1830.03 1549.52 Q1824.22 1549.52 1821.14 1544.94 Q1818.08 1540.33 1818.08 1531.6 Q1818.08 1522.85 1821.14 1518.27 Q1824.22 1513.66 1830.03 1513.66 Z\" fill=\"#000000\" fill-rule=\"evenodd\" fill-opacity=\"1\" /><path clip-path=\"url(#clip540)\" d=\"M1860.19 1517.37 Q1856.58 1517.37 1854.75 1520.93 Q1852.94 1524.47 1852.94 1531.6 Q1852.94 1538.71 1854.75 1542.27 Q1856.58 1545.82 1860.19 1545.82 Q1863.82 1545.82 1865.63 1542.27 Q1867.46 1538.71 1867.46 1531.6 Q1867.46 1524.47 1865.63 1520.93 Q1863.82 1517.37 1860.19 1517.37 M1860.19 1513.66 Q1866 1513.66 1869.06 1518.27 Q1872.13 1522.85 1872.13 1531.6 Q1872.13 1540.33 1869.06 1544.94 Q1866 1549.52 1860.19 1549.52 Q1854.38 1549.52 1851.3 1544.94 Q1848.25 1540.33 1848.25 1531.6 Q1848.25 1522.85 1851.3 1518.27 Q1854.38 1513.66 1860.19 1513.66 Z\" fill=\"#000000\" fill-rule=\"evenodd\" fill-opacity=\"1\" /><path clip-path=\"url(#clip540)\" d=\"M2235.11 1544.91 L2242.75 1544.91 L2242.75 1518.55 L2234.44 1520.21 L2234.44 1515.95 L2242.71 1514.29 L2247.38 1514.29 L2247.38 1544.91 L2255.02 1544.91 L2255.02 1548.85 L2235.11 1548.85 L2235.11 1544.91 Z\" fill=\"#000000\" fill-rule=\"evenodd\" fill-opacity=\"1\" /><path clip-path=\"url(#clip540)\" d=\"M2274.46 1517.37 Q2270.85 1517.37 2269.02 1520.93 Q2267.22 1524.47 2267.22 1531.6 Q2267.22 1538.71 2269.02 1542.27 Q2270.85 1545.82 2274.46 1545.82 Q2278.1 1545.82 2279.9 1542.27 Q2281.73 1538.71 2281.73 1531.6 Q2281.73 1524.47 2279.9 1520.93 Q2278.1 1517.37 2274.46 1517.37 M2274.46 1513.66 Q2280.27 1513.66 2283.33 1518.27 Q2286.41 1522.85 2286.41 1531.6 Q2286.41 1540.33 2283.33 1544.94 Q2280.27 1549.52 2274.46 1549.52 Q2268.65 1549.52 2265.58 1544.94 Q2262.52 1540.33 2262.52 1531.6 Q2262.52 1522.85 2265.58 1518.27 Q2268.65 1513.66 2274.46 1513.66 Z\" fill=\"#000000\" fill-rule=\"evenodd\" fill-opacity=\"1\" /><path clip-path=\"url(#clip540)\" d=\"M2304.63 1517.37 Q2301.01 1517.37 2299.19 1520.93 Q2297.38 1524.47 2297.38 1531.6 Q2297.38 1538.71 2299.19 1542.27 Q2301.01 1545.82 2304.63 1545.82 Q2308.26 1545.82 2310.07 1542.27 Q2311.89 1538.71 2311.89 1531.6 Q2311.89 1524.47 2310.07 1520.93 Q2308.26 1517.37 2304.63 1517.37 M2304.63 1513.66 Q2310.44 1513.66 2313.49 1518.27 Q2316.57 1522.85 2316.57 1531.6 Q2316.57 1540.33 2313.49 1544.94 Q2310.44 1549.52 2304.63 1549.52 Q2298.82 1549.52 2295.74 1544.94 Q2292.68 1540.33 2292.68 1531.6 Q2292.68 1522.85 2295.74 1518.27 Q2298.82 1513.66 2304.63 1513.66 Z\" fill=\"#000000\" fill-rule=\"evenodd\" fill-opacity=\"1\" /><path clip-path=\"url(#clip540)\" d=\"M2334.79 1517.37 Q2331.18 1517.37 2329.35 1520.93 Q2327.54 1524.47 2327.54 1531.6 Q2327.54 1538.71 2329.35 1542.27 Q2331.18 1545.82 2334.79 1545.82 Q2338.42 1545.82 2340.23 1542.27 Q2342.06 1538.71 2342.06 1531.6 Q2342.06 1524.47 2340.23 1520.93 Q2338.42 1517.37 2334.79 1517.37 M2334.79 1513.66 Q2340.6 1513.66 2343.65 1518.27 Q2346.73 1522.85 2346.73 1531.6 Q2346.73 1540.33 2343.65 1544.94 Q2340.6 1549.52 2334.79 1549.52 Q2328.98 1549.52 2325.9 1544.94 Q2322.84 1540.33 2322.84 1531.6 Q2322.84 1522.85 2325.9 1518.27 Q2328.98 1513.66 2334.79 1513.66 Z\" fill=\"#000000\" fill-rule=\"evenodd\" fill-opacity=\"1\" /><polyline clip-path=\"url(#clip542)\" style=\"stroke:#000000; stroke-linecap:butt; stroke-linejoin:round; stroke-width:2; stroke-opacity:0.1; fill:none\" points=\"\n",
       "  156.112,1437.8 2352.76,1437.8 \n",
       "  \"/>\n",
       "<polyline clip-path=\"url(#clip542)\" style=\"stroke:#000000; stroke-linecap:butt; stroke-linejoin:round; stroke-width:2; stroke-opacity:0.1; fill:none\" points=\"\n",
       "  156.112,1014.96 2352.76,1014.96 \n",
       "  \"/>\n",
       "<polyline clip-path=\"url(#clip542)\" style=\"stroke:#000000; stroke-linecap:butt; stroke-linejoin:round; stroke-width:2; stroke-opacity:0.1; fill:none\" points=\"\n",
       "  156.112,592.117 2352.76,592.117 \n",
       "  \"/>\n",
       "<polyline clip-path=\"url(#clip542)\" style=\"stroke:#000000; stroke-linecap:butt; stroke-linejoin:round; stroke-width:2; stroke-opacity:0.1; fill:none\" points=\"\n",
       "  156.112,169.276 2352.76,169.276 \n",
       "  \"/>\n",
       "<polyline clip-path=\"url(#clip540)\" style=\"stroke:#000000; stroke-linecap:butt; stroke-linejoin:round; stroke-width:4; stroke-opacity:1; fill:none\" points=\"\n",
       "  156.112,1486.45 156.112,123.472 \n",
       "  \"/>\n",
       "<polyline clip-path=\"url(#clip540)\" style=\"stroke:#000000; stroke-linecap:butt; stroke-linejoin:round; stroke-width:4; stroke-opacity:1; fill:none\" points=\"\n",
       "  156.112,1437.8 175.01,1437.8 \n",
       "  \"/>\n",
       "<polyline clip-path=\"url(#clip540)\" style=\"stroke:#000000; stroke-linecap:butt; stroke-linejoin:round; stroke-width:4; stroke-opacity:1; fill:none\" points=\"\n",
       "  156.112,1014.96 175.01,1014.96 \n",
       "  \"/>\n",
       "<polyline clip-path=\"url(#clip540)\" style=\"stroke:#000000; stroke-linecap:butt; stroke-linejoin:round; stroke-width:4; stroke-opacity:1; fill:none\" points=\"\n",
       "  156.112,592.117 175.01,592.117 \n",
       "  \"/>\n",
       "<polyline clip-path=\"url(#clip540)\" style=\"stroke:#000000; stroke-linecap:butt; stroke-linejoin:round; stroke-width:4; stroke-opacity:1; fill:none\" points=\"\n",
       "  156.112,169.276 175.01,169.276 \n",
       "  \"/>\n",
       "<path clip-path=\"url(#clip540)\" d=\"M62.9365 1423.6 Q59.3254 1423.6 57.4967 1427.16 Q55.6912 1430.71 55.6912 1437.84 Q55.6912 1444.94 57.4967 1448.51 Q59.3254 1452.05 62.9365 1452.05 Q66.5707 1452.05 68.3763 1448.51 Q70.205 1444.94 70.205 1437.84 Q70.205 1430.71 68.3763 1427.16 Q66.5707 1423.6 62.9365 1423.6 M62.9365 1419.9 Q68.7467 1419.9 71.8022 1424.5 Q74.8809 1429.09 74.8809 1437.84 Q74.8809 1446.56 71.8022 1451.17 Q68.7467 1455.75 62.9365 1455.75 Q57.1264 1455.75 54.0477 1451.17 Q50.9921 1446.56 50.9921 1437.84 Q50.9921 1429.09 54.0477 1424.5 Q57.1264 1419.9 62.9365 1419.9 Z\" fill=\"#000000\" fill-rule=\"evenodd\" fill-opacity=\"1\" /><path clip-path=\"url(#clip540)\" d=\"M83.0984 1449.2 L87.9827 1449.2 L87.9827 1455.08 L83.0984 1455.08 L83.0984 1449.2 Z\" fill=\"#000000\" fill-rule=\"evenodd\" fill-opacity=\"1\" /><path clip-path=\"url(#clip540)\" d=\"M108.168 1423.6 Q104.557 1423.6 102.728 1427.16 Q100.922 1430.71 100.922 1437.84 Q100.922 1444.94 102.728 1448.51 Q104.557 1452.05 108.168 1452.05 Q111.802 1452.05 113.608 1448.51 Q115.436 1444.94 115.436 1437.84 Q115.436 1430.71 113.608 1427.16 Q111.802 1423.6 108.168 1423.6 M108.168 1419.9 Q113.978 1419.9 117.033 1424.5 Q120.112 1429.09 120.112 1437.84 Q120.112 1446.56 117.033 1451.17 Q113.978 1455.75 108.168 1455.75 Q102.358 1455.75 99.2789 1451.17 Q96.2234 1446.56 96.2234 1437.84 Q96.2234 1429.09 99.2789 1424.5 Q102.358 1419.9 108.168 1419.9 Z\" fill=\"#000000\" fill-rule=\"evenodd\" fill-opacity=\"1\" /><path clip-path=\"url(#clip540)\" d=\"M63.9319 1000.76 Q60.3208 1000.76 58.4921 1004.32 Q56.6865 1007.86 56.6865 1014.99 Q56.6865 1022.1 58.4921 1025.66 Q60.3208 1029.21 63.9319 1029.21 Q67.5661 1029.21 69.3717 1025.66 Q71.2004 1022.1 71.2004 1014.99 Q71.2004 1007.86 69.3717 1004.32 Q67.5661 1000.76 63.9319 1000.76 M63.9319 997.054 Q69.742 997.054 72.7976 1001.66 Q75.8763 1006.24 75.8763 1014.99 Q75.8763 1023.72 72.7976 1028.33 Q69.742 1032.91 63.9319 1032.91 Q58.1217 1032.91 55.043 1028.33 Q51.9875 1023.72 51.9875 1014.99 Q51.9875 1006.24 55.043 1001.66 Q58.1217 997.054 63.9319 997.054 Z\" fill=\"#000000\" fill-rule=\"evenodd\" fill-opacity=\"1\" /><path clip-path=\"url(#clip540)\" d=\"M84.0938 1026.36 L88.978 1026.36 L88.978 1032.24 L84.0938 1032.24 L84.0938 1026.36 Z\" fill=\"#000000\" fill-rule=\"evenodd\" fill-opacity=\"1\" /><path clip-path=\"url(#clip540)\" d=\"M99.2095 997.679 L117.566 997.679 L117.566 1001.61 L103.492 1001.61 L103.492 1010.09 Q104.51 1009.74 105.529 1009.58 Q106.547 1009.39 107.566 1009.39 Q113.353 1009.39 116.733 1012.56 Q120.112 1015.73 120.112 1021.15 Q120.112 1026.73 116.64 1029.83 Q113.168 1032.91 106.848 1032.91 Q104.672 1032.91 102.404 1032.54 Q100.159 1032.17 97.7511 1031.43 L97.7511 1026.73 Q99.8345 1027.86 102.057 1028.42 Q104.279 1028.98 106.756 1028.98 Q110.76 1028.98 113.098 1026.87 Q115.436 1024.76 115.436 1021.15 Q115.436 1017.54 113.098 1015.43 Q110.76 1013.33 106.756 1013.33 Q104.881 1013.33 103.006 1013.74 Q101.154 1014.16 99.2095 1015.04 L99.2095 997.679 Z\" fill=\"#000000\" fill-rule=\"evenodd\" fill-opacity=\"1\" /><path clip-path=\"url(#clip540)\" d=\"M53.7467 605.462 L61.3856 605.462 L61.3856 579.097 L53.0754 580.763 L53.0754 576.504 L61.3393 574.837 L66.0152 574.837 L66.0152 605.462 L73.654 605.462 L73.654 609.397 L53.7467 609.397 L53.7467 605.462 Z\" fill=\"#000000\" fill-rule=\"evenodd\" fill-opacity=\"1\" /><path clip-path=\"url(#clip540)\" d=\"M83.0984 603.518 L87.9827 603.518 L87.9827 609.397 L83.0984 609.397 L83.0984 603.518 Z\" fill=\"#000000\" fill-rule=\"evenodd\" fill-opacity=\"1\" /><path clip-path=\"url(#clip540)\" d=\"M108.168 577.916 Q104.557 577.916 102.728 581.481 Q100.922 585.023 100.922 592.152 Q100.922 599.259 102.728 602.823 Q104.557 606.365 108.168 606.365 Q111.802 606.365 113.608 602.823 Q115.436 599.259 115.436 592.152 Q115.436 585.023 113.608 581.481 Q111.802 577.916 108.168 577.916 M108.168 574.212 Q113.978 574.212 117.033 578.819 Q120.112 583.402 120.112 592.152 Q120.112 600.879 117.033 605.485 Q113.978 610.069 108.168 610.069 Q102.358 610.069 99.2789 605.485 Q96.2234 600.879 96.2234 592.152 Q96.2234 583.402 99.2789 578.819 Q102.358 574.212 108.168 574.212 Z\" fill=\"#000000\" fill-rule=\"evenodd\" fill-opacity=\"1\" /><path clip-path=\"url(#clip540)\" d=\"M54.7421 182.621 L62.381 182.621 L62.381 156.255 L54.0708 157.922 L54.0708 153.663 L62.3347 151.996 L67.0106 151.996 L67.0106 182.621 L74.6494 182.621 L74.6494 186.556 L54.7421 186.556 L54.7421 182.621 Z\" fill=\"#000000\" fill-rule=\"evenodd\" fill-opacity=\"1\" /><path clip-path=\"url(#clip540)\" d=\"M84.0938 180.676 L88.978 180.676 L88.978 186.556 L84.0938 186.556 L84.0938 180.676 Z\" fill=\"#000000\" fill-rule=\"evenodd\" fill-opacity=\"1\" /><path clip-path=\"url(#clip540)\" d=\"M99.2095 151.996 L117.566 151.996 L117.566 155.931 L103.492 155.931 L103.492 164.403 Q104.51 164.056 105.529 163.894 Q106.547 163.709 107.566 163.709 Q113.353 163.709 116.733 166.88 Q120.112 170.051 120.112 175.468 Q120.112 181.047 116.64 184.148 Q113.168 187.227 106.848 187.227 Q104.672 187.227 102.404 186.857 Q100.159 186.486 97.7511 185.746 L97.7511 181.047 Q99.8345 182.181 102.057 182.736 Q104.279 183.292 106.756 183.292 Q110.76 183.292 113.098 181.186 Q115.436 179.079 115.436 175.468 Q115.436 171.857 113.098 169.75 Q110.76 167.644 106.756 167.644 Q104.881 167.644 103.006 168.061 Q101.154 168.477 99.2095 169.357 L99.2095 151.996 Z\" fill=\"#000000\" fill-rule=\"evenodd\" fill-opacity=\"1\" /><path clip-path=\"url(#clip540)\" d=\"M532.968 20.1573 L521.868 50.2555 L544.108 50.2555 L532.968 20.1573 M528.35 12.096 L537.627 12.096 L560.676 72.576 L552.169 72.576 L546.66 57.061 L519.397 57.061 L513.888 72.576 L505.26 72.576 L528.35 12.096 Z\" fill=\"#000000\" fill-rule=\"evenodd\" fill-opacity=\"1\" /><path clip-path=\"url(#clip540)\" d=\"M576.394 65.7705 L576.394 89.8329 L568.899 89.8329 L568.899 27.2059 L576.394 27.2059 L576.394 34.0924 Q578.743 30.0415 582.308 28.0971 Q585.913 26.1121 590.896 26.1121 Q599.16 26.1121 604.304 32.6746 Q609.49 39.2371 609.49 49.9314 Q609.49 60.6258 604.304 67.1883 Q599.16 73.7508 590.896 73.7508 Q585.913 73.7508 582.308 71.8063 Q578.743 69.8214 576.394 65.7705 M601.752 49.9314 Q601.752 41.7081 598.35 37.0496 Q594.987 32.3505 589.073 32.3505 Q583.159 32.3505 579.756 37.0496 Q576.394 41.7081 576.394 49.9314 Q576.394 58.1548 579.756 62.8538 Q583.159 67.5124 589.073 67.5124 Q594.987 67.5124 598.35 62.8538 Q601.752 58.1548 601.752 49.9314 Z\" fill=\"#000000\" fill-rule=\"evenodd\" fill-opacity=\"1\" /><path clip-path=\"url(#clip540)\" d=\"M629.055 65.7705 L629.055 89.8329 L621.561 89.8329 L621.561 27.2059 L629.055 27.2059 L629.055 34.0924 Q631.405 30.0415 634.97 28.0971 Q638.575 26.1121 643.558 26.1121 Q651.822 26.1121 656.966 32.6746 Q662.151 39.2371 662.151 49.9314 Q662.151 60.6258 656.966 67.1883 Q651.822 73.7508 643.558 73.7508 Q638.575 73.7508 634.97 71.8063 Q631.405 69.8214 629.055 65.7705 M654.414 49.9314 Q654.414 41.7081 651.011 37.0496 Q647.649 32.3505 641.735 32.3505 Q635.82 32.3505 632.418 37.0496 Q629.055 41.7081 629.055 49.9314 Q629.055 58.1548 632.418 62.8538 Q635.82 67.5124 641.735 67.5124 Q647.649 67.5124 651.011 62.8538 Q654.414 58.1548 654.414 49.9314 Z\" fill=\"#000000\" fill-rule=\"evenodd\" fill-opacity=\"1\" /><path clip-path=\"url(#clip540)\" d=\"M700.797 34.1734 Q699.541 33.4443 698.042 33.1202 Q696.584 32.7556 694.802 32.7556 Q688.482 32.7556 685.079 36.8875 Q681.717 40.9789 681.717 48.6757 L681.717 72.576 L674.223 72.576 L674.223 27.2059 L681.717 27.2059 L681.717 34.2544 Q684.067 30.1225 687.834 28.1376 Q691.601 26.1121 696.989 26.1121 Q697.759 26.1121 698.69 26.2337 Q699.622 26.3147 700.756 26.5172 L700.797 34.1734 Z\" fill=\"#000000\" fill-rule=\"evenodd\" fill-opacity=\"1\" /><path clip-path=\"url(#clip540)\" d=\"M724.373 32.4315 Q718.378 32.4315 714.894 37.1306 Q711.41 41.7891 711.41 49.9314 Q711.41 58.0738 714.854 62.7728 Q718.337 67.4314 724.373 67.4314 Q730.328 67.4314 733.812 62.7323 Q737.296 58.0333 737.296 49.9314 Q737.296 41.8701 733.812 37.1711 Q730.328 32.4315 724.373 32.4315 M724.373 26.1121 Q734.095 26.1121 739.645 32.4315 Q745.195 38.7509 745.195 49.9314 Q745.195 61.0714 739.645 67.4314 Q734.095 73.7508 724.373 73.7508 Q714.611 73.7508 709.061 67.4314 Q703.552 61.0714 703.552 49.9314 Q703.552 38.7509 709.061 32.4315 Q714.611 26.1121 724.373 26.1121 Z\" fill=\"#000000\" fill-rule=\"evenodd\" fill-opacity=\"1\" /><path clip-path=\"url(#clip540)\" d=\"M792.712 27.2059 L776.306 49.2833 L793.563 72.576 L784.772 72.576 L771.566 54.752 L758.36 72.576 L749.57 72.576 L767.191 48.8377 L751.069 27.2059 L759.859 27.2059 L771.89 43.369 L783.921 27.2059 L792.712 27.2059 Z\" fill=\"#000000\" fill-rule=\"evenodd\" fill-opacity=\"1\" /><path clip-path=\"url(#clip540)\" d=\"M804.095 27.2059 L811.549 27.2059 L811.549 72.576 L804.095 72.576 L804.095 27.2059 M804.095 9.54393 L811.549 9.54393 L811.549 18.9825 L804.095 18.9825 L804.095 9.54393 Z\" fill=\"#000000\" fill-rule=\"evenodd\" fill-opacity=\"1\" /><path clip-path=\"url(#clip540)\" d=\"M862.469 35.9153 Q865.264 30.8922 869.153 28.5022 Q873.041 26.1121 878.308 26.1121 Q885.397 26.1121 889.245 31.0947 Q893.093 36.0368 893.093 45.1919 L893.093 72.576 L885.599 72.576 L885.599 45.4349 Q885.599 38.913 883.29 35.7533 Q880.981 32.5936 876.242 32.5936 Q870.449 32.5936 867.087 36.4419 Q863.724 40.2903 863.724 46.9338 L863.724 72.576 L856.23 72.576 L856.23 45.4349 Q856.23 38.8725 853.921 35.7533 Q851.612 32.5936 846.792 32.5936 Q841.08 32.5936 837.717 36.4824 Q834.355 40.3308 834.355 46.9338 L834.355 72.576 L826.861 72.576 L826.861 27.2059 L834.355 27.2059 L834.355 34.2544 Q836.907 30.082 840.472 28.0971 Q844.037 26.1121 848.939 26.1121 Q853.881 26.1121 857.324 28.6237 Q860.808 31.1352 862.469 35.9153 Z\" fill=\"#000000\" fill-rule=\"evenodd\" fill-opacity=\"1\" /><path clip-path=\"url(#clip540)\" d=\"M928.579 49.7694 Q919.546 49.7694 916.062 51.8354 Q912.578 53.9013 912.578 58.8839 Q912.578 62.8538 915.171 65.2034 Q917.804 67.5124 922.3 67.5124 Q928.498 67.5124 932.225 63.1374 Q935.992 58.7219 935.992 51.4303 L935.992 49.7694 L928.579 49.7694 M943.446 46.6907 L943.446 72.576 L935.992 72.576 L935.992 65.6895 Q933.44 69.8214 929.633 71.8063 Q925.825 73.7508 920.315 73.7508 Q913.348 73.7508 909.216 69.8619 Q905.125 65.9325 905.125 59.3701 Q905.125 51.7138 910.229 47.825 Q915.373 43.9361 925.541 43.9361 L935.992 43.9361 L935.992 43.2069 Q935.992 38.0623 932.59 35.2672 Q929.227 32.4315 923.111 32.4315 Q919.222 32.4315 915.535 33.3632 Q911.849 34.295 908.446 36.1584 L908.446 29.2718 Q912.538 27.692 916.386 26.9223 Q920.234 26.1121 923.88 26.1121 Q933.724 26.1121 938.585 31.2163 Q943.446 36.3204 943.446 46.6907 Z\" fill=\"#000000\" fill-rule=\"evenodd\" fill-opacity=\"1\" /><path clip-path=\"url(#clip540)\" d=\"M966.172 14.324 L966.172 27.2059 L981.525 27.2059 L981.525 32.9987 L966.172 32.9987 L966.172 57.6282 Q966.172 63.1779 967.671 64.7578 Q969.21 66.3376 973.868 66.3376 L981.525 66.3376 L981.525 72.576 L973.868 72.576 Q965.24 72.576 961.959 69.3758 Q958.677 66.1351 958.677 57.6282 L958.677 32.9987 L953.209 32.9987 L953.209 27.2059 L958.677 27.2059 L958.677 14.324 L966.172 14.324 Z\" fill=\"#000000\" fill-rule=\"evenodd\" fill-opacity=\"1\" /><path clip-path=\"url(#clip540)\" d=\"M991.328 27.2059 L998.781 27.2059 L998.781 72.576 L991.328 72.576 L991.328 27.2059 M991.328 9.54393 L998.781 9.54393 L998.781 18.9825 L991.328 18.9825 L991.328 9.54393 Z\" fill=\"#000000\" fill-rule=\"evenodd\" fill-opacity=\"1\" /><path clip-path=\"url(#clip540)\" d=\"M1031.96 32.4315 Q1025.96 32.4315 1022.48 37.1306 Q1019 41.7891 1019 49.9314 Q1019 58.0738 1022.44 62.7728 Q1025.92 67.4314 1031.96 67.4314 Q1037.91 67.4314 1041.4 62.7323 Q1044.88 58.0333 1044.88 49.9314 Q1044.88 41.8701 1041.4 37.1711 Q1037.91 32.4315 1031.96 32.4315 M1031.96 26.1121 Q1041.68 26.1121 1047.23 32.4315 Q1052.78 38.7509 1052.78 49.9314 Q1052.78 61.0714 1047.23 67.4314 Q1041.68 73.7508 1031.96 73.7508 Q1022.2 73.7508 1016.65 67.4314 Q1011.14 61.0714 1011.14 49.9314 Q1011.14 38.7509 1016.65 32.4315 Q1022.2 26.1121 1031.96 26.1121 Z\" fill=\"#000000\" fill-rule=\"evenodd\" fill-opacity=\"1\" /><path clip-path=\"url(#clip540)\" d=\"M1102.85 45.1919 L1102.85 72.576 L1095.4 72.576 L1095.4 45.4349 Q1095.4 38.994 1092.88 35.7938 Q1090.37 32.5936 1085.35 32.5936 Q1079.31 32.5936 1075.83 36.4419 Q1072.35 40.2903 1072.35 46.9338 L1072.35 72.576 L1064.85 72.576 L1064.85 27.2059 L1072.35 27.2059 L1072.35 34.2544 Q1075.02 30.163 1078.62 28.1376 Q1082.27 26.1121 1087.01 26.1121 Q1094.83 26.1121 1098.84 30.9732 Q1102.85 35.7938 1102.85 45.1919 Z\" fill=\"#000000\" fill-rule=\"evenodd\" fill-opacity=\"1\" /><path clip-path=\"url(#clip540)\" d=\"M1179.41 35.9153 Q1182.21 30.8922 1186.1 28.5022 Q1189.98 26.1121 1195.25 26.1121 Q1202.34 26.1121 1206.19 31.0947 Q1210.04 36.0368 1210.04 45.1919 L1210.04 72.576 L1202.54 72.576 L1202.54 45.4349 Q1202.54 38.913 1200.23 35.7533 Q1197.92 32.5936 1193.18 32.5936 Q1187.39 32.5936 1184.03 36.4419 Q1180.67 40.2903 1180.67 46.9338 L1180.67 72.576 L1173.17 72.576 L1173.17 45.4349 Q1173.17 38.8725 1170.86 35.7533 Q1168.55 32.5936 1163.73 32.5936 Q1158.02 32.5936 1154.66 36.4824 Q1151.3 40.3308 1151.3 46.9338 L1151.3 72.576 L1143.8 72.576 L1143.8 27.2059 L1151.3 27.2059 L1151.3 34.2544 Q1153.85 30.082 1157.41 28.0971 Q1160.98 26.1121 1165.88 26.1121 Q1170.82 26.1121 1174.27 28.6237 Q1177.75 31.1352 1179.41 35.9153 Z\" fill=\"#000000\" fill-rule=\"evenodd\" fill-opacity=\"1\" /><path clip-path=\"url(#clip540)\" d=\"M1263.71 48.0275 L1263.71 51.6733 L1229.44 51.6733 Q1229.93 59.3701 1234.06 63.421 Q1238.23 67.4314 1245.64 67.4314 Q1249.94 67.4314 1253.95 66.3781 Q1258 65.3249 1261.97 63.2184 L1261.97 70.267 Q1257.96 71.9684 1253.75 72.8596 Q1249.53 73.7508 1245.2 73.7508 Q1234.34 73.7508 1227.98 67.4314 Q1221.66 61.1119 1221.66 50.3365 Q1221.66 39.1965 1227.66 32.6746 Q1233.69 26.1121 1243.9 26.1121 Q1253.06 26.1121 1258.36 32.0264 Q1263.71 37.9003 1263.71 48.0275 M1256.26 45.84 Q1256.18 39.7232 1252.81 36.0774 Q1249.49 32.4315 1243.98 32.4315 Q1237.74 32.4315 1233.98 35.9558 Q1230.25 39.4801 1229.68 45.8805 L1256.26 45.84 Z\" fill=\"#000000\" fill-rule=\"evenodd\" fill-opacity=\"1\" /><path clip-path=\"url(#clip540)\" d=\"M1283.32 14.324 L1283.32 27.2059 L1298.67 27.2059 L1298.67 32.9987 L1283.32 32.9987 L1283.32 57.6282 Q1283.32 63.1779 1284.82 64.7578 Q1286.36 66.3376 1291.01 66.3376 L1298.67 66.3376 L1298.67 72.576 L1291.01 72.576 Q1282.39 72.576 1279.1 69.3758 Q1275.82 66.1351 1275.82 57.6282 L1275.82 32.9987 L1270.35 32.9987 L1270.35 27.2059 L1275.82 27.2059 L1275.82 14.324 L1283.32 14.324 Z\" fill=\"#000000\" fill-rule=\"evenodd\" fill-opacity=\"1\" /><path clip-path=\"url(#clip540)\" d=\"M1346.19 45.1919 L1346.19 72.576 L1338.73 72.576 L1338.73 45.4349 Q1338.73 38.994 1336.22 35.7938 Q1333.71 32.5936 1328.69 32.5936 Q1322.65 32.5936 1319.17 36.4419 Q1315.68 40.2903 1315.68 46.9338 L1315.68 72.576 L1308.19 72.576 L1308.19 9.54393 L1315.68 9.54393 L1315.68 34.2544 Q1318.36 30.163 1321.96 28.1376 Q1325.61 26.1121 1330.35 26.1121 Q1338.17 26.1121 1342.18 30.9732 Q1346.19 35.7938 1346.19 45.1919 Z\" fill=\"#000000\" fill-rule=\"evenodd\" fill-opacity=\"1\" /><path clip-path=\"url(#clip540)\" d=\"M1378.63 32.4315 Q1372.64 32.4315 1369.16 37.1306 Q1365.67 41.7891 1365.67 49.9314 Q1365.67 58.0738 1369.12 62.7728 Q1372.6 67.4314 1378.63 67.4314 Q1384.59 67.4314 1388.07 62.7323 Q1391.56 58.0333 1391.56 49.9314 Q1391.56 41.8701 1388.07 37.1711 Q1384.59 32.4315 1378.63 32.4315 M1378.63 26.1121 Q1388.36 26.1121 1393.91 32.4315 Q1399.46 38.7509 1399.46 49.9314 Q1399.46 61.0714 1393.91 67.4314 Q1388.36 73.7508 1378.63 73.7508 Q1368.87 73.7508 1363.32 67.4314 Q1357.81 61.0714 1357.81 49.9314 Q1357.81 38.7509 1363.32 32.4315 Q1368.87 26.1121 1378.63 26.1121 Z\" fill=\"#000000\" fill-rule=\"evenodd\" fill-opacity=\"1\" /><path clip-path=\"url(#clip540)\" d=\"M1441.67 34.0924 L1441.67 9.54393 L1449.12 9.54393 L1449.12 72.576 L1441.67 72.576 L1441.67 65.7705 Q1439.32 69.8214 1435.71 71.8063 Q1432.15 73.7508 1427.12 73.7508 Q1418.9 73.7508 1413.72 67.1883 Q1408.57 60.6258 1408.57 49.9314 Q1408.57 39.2371 1413.72 32.6746 Q1418.9 26.1121 1427.12 26.1121 Q1432.15 26.1121 1435.71 28.0971 Q1439.32 30.0415 1441.67 34.0924 M1416.27 49.9314 Q1416.27 58.1548 1419.63 62.8538 Q1423.03 67.5124 1428.95 67.5124 Q1434.86 67.5124 1438.26 62.8538 Q1441.67 58.1548 1441.67 49.9314 Q1441.67 41.7081 1438.26 37.0496 Q1434.86 32.3505 1428.95 32.3505 Q1423.03 32.3505 1419.63 37.0496 Q1416.27 41.7081 1416.27 49.9314 Z\" fill=\"#000000\" fill-rule=\"evenodd\" fill-opacity=\"1\" /><path clip-path=\"url(#clip540)\" d=\"M1493.4 28.5427 L1493.4 35.5912 Q1490.24 33.9709 1486.83 33.1607 Q1483.43 32.3505 1479.79 32.3505 Q1474.24 32.3505 1471.44 34.0519 Q1468.69 35.7533 1468.69 39.156 Q1468.69 41.7486 1470.67 43.2475 Q1472.66 44.7058 1478.65 46.0426 L1481.2 46.6097 Q1489.14 48.3111 1492.47 51.4303 Q1495.83 54.509 1495.83 60.0587 Q1495.83 66.3781 1490.8 70.0644 Q1485.82 73.7508 1477.07 73.7508 Q1473.43 73.7508 1469.46 73.0216 Q1465.53 72.3329 1461.15 70.9151 L1461.15 63.2184 Q1465.28 65.3654 1469.29 66.4591 Q1473.3 67.5124 1477.23 67.5124 Q1482.5 67.5124 1485.34 65.73 Q1488.17 63.9071 1488.17 60.6258 Q1488.17 57.5877 1486.11 55.9673 Q1484.08 54.3469 1477.15 52.8481 L1474.56 52.2405 Q1467.63 50.7821 1464.55 47.7845 Q1461.48 44.7463 1461.48 39.4801 Q1461.48 33.0797 1466.01 29.5959 Q1470.55 26.1121 1478.89 26.1121 Q1483.03 26.1121 1486.67 26.7198 Q1490.32 27.3274 1493.4 28.5427 Z\" fill=\"#000000\" fill-rule=\"evenodd\" fill-opacity=\"1\" /><path clip-path=\"url(#clip540)\" d=\"M1566.72 28.9478 L1566.72 35.9153 Q1563.56 34.1734 1560.36 33.3227 Q1557.2 32.4315 1553.96 32.4315 Q1546.71 32.4315 1542.7 37.0496 Q1538.69 41.6271 1538.69 49.9314 Q1538.69 58.2358 1542.7 62.8538 Q1546.71 67.4314 1553.96 67.4314 Q1557.2 67.4314 1560.36 66.5807 Q1563.56 65.6895 1566.72 63.9476 L1566.72 70.8341 Q1563.6 72.2924 1560.24 73.0216 Q1556.92 73.7508 1553.15 73.7508 Q1542.9 73.7508 1536.86 67.3098 Q1530.83 60.8689 1530.83 49.9314 Q1530.83 38.832 1536.9 32.472 Q1543.02 26.1121 1553.63 26.1121 Q1557.08 26.1121 1560.36 26.8413 Q1563.64 27.5299 1566.72 28.9478 Z\" fill=\"#000000\" fill-rule=\"evenodd\" fill-opacity=\"1\" /><path clip-path=\"url(#clip540)\" d=\"M1597.26 32.4315 Q1591.27 32.4315 1587.78 37.1306 Q1584.3 41.7891 1584.3 49.9314 Q1584.3 58.0738 1587.74 62.7728 Q1591.23 67.4314 1597.26 67.4314 Q1603.22 67.4314 1606.7 62.7323 Q1610.18 58.0333 1610.18 49.9314 Q1610.18 41.8701 1606.7 37.1711 Q1603.22 32.4315 1597.26 32.4315 M1597.26 26.1121 Q1606.98 26.1121 1612.53 32.4315 Q1618.08 38.7509 1618.08 49.9314 Q1618.08 61.0714 1612.53 67.4314 Q1606.98 73.7508 1597.26 73.7508 Q1587.5 73.7508 1581.95 67.4314 Q1576.44 61.0714 1576.44 49.9314 Q1576.44 38.7509 1581.95 32.4315 Q1587.5 26.1121 1597.26 26.1121 Z\" fill=\"#000000\" fill-rule=\"evenodd\" fill-opacity=\"1\" /><path clip-path=\"url(#clip540)\" d=\"M1665.76 35.9153 Q1668.56 30.8922 1672.45 28.5022 Q1676.34 26.1121 1681.6 26.1121 Q1688.69 26.1121 1692.54 31.0947 Q1696.39 36.0368 1696.39 45.1919 L1696.39 72.576 L1688.89 72.576 L1688.89 45.4349 Q1688.89 38.913 1686.58 35.7533 Q1684.28 32.5936 1679.54 32.5936 Q1673.74 32.5936 1670.38 36.4419 Q1667.02 40.2903 1667.02 46.9338 L1667.02 72.576 L1659.52 72.576 L1659.52 45.4349 Q1659.52 38.8725 1657.22 35.7533 Q1654.91 32.5936 1650.09 32.5936 Q1644.37 32.5936 1641.01 36.4824 Q1637.65 40.3308 1637.65 46.9338 L1637.65 72.576 L1630.16 72.576 L1630.16 27.2059 L1637.65 27.2059 L1637.65 34.2544 Q1640.2 30.082 1643.77 28.0971 Q1647.33 26.1121 1652.23 26.1121 Q1657.17 26.1121 1660.62 28.6237 Q1664.1 31.1352 1665.76 35.9153 Z\" fill=\"#000000\" fill-rule=\"evenodd\" fill-opacity=\"1\" /><path clip-path=\"url(#clip540)\" d=\"M1718.47 65.7705 L1718.47 89.8329 L1710.97 89.8329 L1710.97 27.2059 L1718.47 27.2059 L1718.47 34.0924 Q1720.81 30.0415 1724.38 28.0971 Q1727.98 26.1121 1732.97 26.1121 Q1741.23 26.1121 1746.38 32.6746 Q1751.56 39.2371 1751.56 49.9314 Q1751.56 60.6258 1746.38 67.1883 Q1741.23 73.7508 1732.97 73.7508 Q1727.98 73.7508 1724.38 71.8063 Q1720.81 69.8214 1718.47 65.7705 M1743.82 49.9314 Q1743.82 41.7081 1740.42 37.0496 Q1737.06 32.3505 1731.14 32.3505 Q1725.23 32.3505 1721.83 37.0496 Q1718.47 41.7081 1718.47 49.9314 Q1718.47 58.1548 1721.83 62.8538 Q1725.23 67.5124 1731.14 67.5124 Q1737.06 67.5124 1740.42 62.8538 Q1743.82 58.1548 1743.82 49.9314 Z\" fill=\"#000000\" fill-rule=\"evenodd\" fill-opacity=\"1\" /><path clip-path=\"url(#clip540)\" d=\"M1784.54 49.7694 Q1775.5 49.7694 1772.02 51.8354 Q1768.53 53.9013 1768.53 58.8839 Q1768.53 62.8538 1771.13 65.2034 Q1773.76 67.5124 1778.26 67.5124 Q1784.45 67.5124 1788.18 63.1374 Q1791.95 58.7219 1791.95 51.4303 L1791.95 49.7694 L1784.54 49.7694 M1799.4 46.6907 L1799.4 72.576 L1791.95 72.576 L1791.95 65.6895 Q1789.4 69.8214 1785.59 71.8063 Q1781.78 73.7508 1776.27 73.7508 Q1769.3 73.7508 1765.17 69.8619 Q1761.08 65.9325 1761.08 59.3701 Q1761.08 51.7138 1766.18 47.825 Q1771.33 43.9361 1781.5 43.9361 L1791.95 43.9361 L1791.95 43.2069 Q1791.95 38.0623 1788.55 35.2672 Q1785.18 32.4315 1779.07 32.4315 Q1775.18 32.4315 1771.49 33.3632 Q1767.81 34.295 1764.4 36.1584 L1764.4 29.2718 Q1768.49 27.692 1772.34 26.9223 Q1776.19 26.1121 1779.84 26.1121 Q1789.68 26.1121 1794.54 31.2163 Q1799.4 36.3204 1799.4 46.6907 Z\" fill=\"#000000\" fill-rule=\"evenodd\" fill-opacity=\"1\" /><path clip-path=\"url(#clip540)\" d=\"M1841.05 34.1734 Q1839.79 33.4443 1838.29 33.1202 Q1836.83 32.7556 1835.05 32.7556 Q1828.73 32.7556 1825.33 36.8875 Q1821.97 40.9789 1821.97 48.6757 L1821.97 72.576 L1814.47 72.576 L1814.47 27.2059 L1821.97 27.2059 L1821.97 34.2544 Q1824.32 30.1225 1828.08 28.1376 Q1831.85 26.1121 1837.24 26.1121 Q1838.01 26.1121 1838.94 26.2337 Q1839.87 26.3147 1841 26.5172 L1841.05 34.1734 Z\" fill=\"#000000\" fill-rule=\"evenodd\" fill-opacity=\"1\" /><path clip-path=\"url(#clip540)\" d=\"M1848.86 27.2059 L1856.32 27.2059 L1856.32 72.576 L1848.86 72.576 L1848.86 27.2059 M1848.86 9.54393 L1856.32 9.54393 L1856.32 18.9825 L1848.86 18.9825 L1848.86 9.54393 Z\" fill=\"#000000\" fill-rule=\"evenodd\" fill-opacity=\"1\" /><path clip-path=\"url(#clip540)\" d=\"M1900.84 28.5427 L1900.84 35.5912 Q1897.68 33.9709 1894.27 33.1607 Q1890.87 32.3505 1887.23 32.3505 Q1881.68 32.3505 1878.88 34.0519 Q1876.13 35.7533 1876.13 39.156 Q1876.13 41.7486 1878.11 43.2475 Q1880.1 44.7058 1886.09 46.0426 L1888.64 46.6097 Q1896.58 48.3111 1899.91 51.4303 Q1903.27 54.509 1903.27 60.0587 Q1903.27 66.3781 1898.24 70.0644 Q1893.26 73.7508 1884.51 73.7508 Q1880.87 73.7508 1876.9 73.0216 Q1872.97 72.3329 1868.59 70.9151 L1868.59 63.2184 Q1872.72 65.3654 1876.73 66.4591 Q1880.74 67.5124 1884.67 67.5124 Q1889.94 67.5124 1892.78 65.73 Q1895.61 63.9071 1895.61 60.6258 Q1895.61 57.5877 1893.55 55.9673 Q1891.52 54.3469 1884.59 52.8481 L1882 52.2405 Q1875.07 50.7821 1871.99 47.7845 Q1868.92 44.7463 1868.92 39.4801 Q1868.92 33.0797 1873.45 29.5959 Q1877.99 26.1121 1886.33 26.1121 Q1890.47 26.1121 1894.11 26.7198 Q1897.76 27.3274 1900.84 28.5427 Z\" fill=\"#000000\" fill-rule=\"evenodd\" fill-opacity=\"1\" /><path clip-path=\"url(#clip540)\" d=\"M1932.72 32.4315 Q1926.72 32.4315 1923.24 37.1306 Q1919.75 41.7891 1919.75 49.9314 Q1919.75 58.0738 1923.2 62.7728 Q1926.68 67.4314 1932.72 67.4314 Q1938.67 67.4314 1942.16 62.7323 Q1945.64 58.0333 1945.64 49.9314 Q1945.64 41.8701 1942.16 37.1711 Q1938.67 32.4315 1932.72 32.4315 M1932.72 26.1121 Q1942.44 26.1121 1947.99 32.4315 Q1953.54 38.7509 1953.54 49.9314 Q1953.54 61.0714 1947.99 67.4314 Q1942.44 73.7508 1932.72 73.7508 Q1922.95 73.7508 1917.41 67.4314 Q1911.9 61.0714 1911.9 49.9314 Q1911.9 38.7509 1917.41 32.4315 Q1922.95 26.1121 1932.72 26.1121 Z\" fill=\"#000000\" fill-rule=\"evenodd\" fill-opacity=\"1\" /><path clip-path=\"url(#clip540)\" d=\"M2003.61 45.1919 L2003.61 72.576 L1996.15 72.576 L1996.15 45.4349 Q1996.15 38.994 1993.64 35.7938 Q1991.13 32.5936 1986.11 32.5936 Q1980.07 32.5936 1976.59 36.4419 Q1973.1 40.2903 1973.1 46.9338 L1973.1 72.576 L1965.61 72.576 L1965.61 27.2059 L1973.1 27.2059 L1973.1 34.2544 Q1975.78 30.163 1979.38 28.1376 Q1983.03 26.1121 1987.77 26.1121 Q1995.59 26.1121 1999.6 30.9732 Q2003.61 35.7938 2003.61 45.1919 Z\" fill=\"#000000\" fill-rule=\"evenodd\" fill-opacity=\"1\" /><circle clip-path=\"url(#clip542)\" cx=\"218.281\" cy=\"1436.74\" r=\"14\" fill=\"#009af9\" fill-rule=\"evenodd\" fill-opacity=\"1\" stroke=\"#000000\" stroke-opacity=\"1\" stroke-width=\"3.2\"/>\n",
       "<circle clip-path=\"url(#clip542)\" cx=\"448.537\" cy=\"1429.83\" r=\"14\" fill=\"#009af9\" fill-rule=\"evenodd\" fill-opacity=\"1\" stroke=\"#000000\" stroke-opacity=\"1\" stroke-width=\"3.2\"/>\n",
       "<circle clip-path=\"url(#clip542)\" cx=\"678.794\" cy=\"1407.19\" r=\"14\" fill=\"#009af9\" fill-rule=\"evenodd\" fill-opacity=\"1\" stroke=\"#000000\" stroke-opacity=\"1\" stroke-width=\"3.2\"/>\n",
       "<circle clip-path=\"url(#clip542)\" cx=\"909.05\" cy=\"1364.54\" r=\"14\" fill=\"#009af9\" fill-rule=\"evenodd\" fill-opacity=\"1\" stroke=\"#000000\" stroke-opacity=\"1\" stroke-width=\"3.2\"/>\n",
       "<circle clip-path=\"url(#clip542)\" cx=\"1139.31\" cy=\"1280.1\" r=\"14\" fill=\"#009af9\" fill-rule=\"evenodd\" fill-opacity=\"1\" stroke=\"#000000\" stroke-opacity=\"1\" stroke-width=\"3.2\"/>\n",
       "<circle clip-path=\"url(#clip542)\" cx=\"1369.56\" cy=\"1174.47\" r=\"14\" fill=\"#009af9\" fill-rule=\"evenodd\" fill-opacity=\"1\" stroke=\"#000000\" stroke-opacity=\"1\" stroke-width=\"3.2\"/>\n",
       "<circle clip-path=\"url(#clip542)\" cx=\"1599.82\" cy=\"1059.84\" r=\"14\" fill=\"#009af9\" fill-rule=\"evenodd\" fill-opacity=\"1\" stroke=\"#000000\" stroke-opacity=\"1\" stroke-width=\"3.2\"/>\n",
       "<circle clip-path=\"url(#clip542)\" cx=\"1830.07\" cy=\"785.674\" r=\"14\" fill=\"#009af9\" fill-rule=\"evenodd\" fill-opacity=\"1\" stroke=\"#000000\" stroke-opacity=\"1\" stroke-width=\"3.2\"/>\n",
       "<circle clip-path=\"url(#clip542)\" cx=\"2060.33\" cy=\"653.806\" r=\"14\" fill=\"#009af9\" fill-rule=\"evenodd\" fill-opacity=\"1\" stroke=\"#000000\" stroke-opacity=\"1\" stroke-width=\"3.2\"/>\n",
       "<circle clip-path=\"url(#clip542)\" cx=\"2290.59\" cy=\"162.047\" r=\"14\" fill=\"#009af9\" fill-rule=\"evenodd\" fill-opacity=\"1\" stroke=\"#000000\" stroke-opacity=\"1\" stroke-width=\"3.2\"/>\n",
       "<polyline clip-path=\"url(#clip542)\" style=\"stroke:#008000; stroke-linecap:butt; stroke-linejoin:round; stroke-width:20; stroke-opacity:1; fill:none\" points=\"\n",
       "  218.281,1447.87 239.004,1445.17 259.727,1442.55 280.45,1440.02 301.174,1437.54 321.897,1435.13 342.62,1432.77 363.343,1430.46 384.066,1428.17 404.789,1425.92 \n",
       "  425.512,1423.68 446.235,1421.44 466.958,1419.21 487.681,1416.97 508.404,1414.7 529.127,1412.42 549.85,1410.09 570.573,1407.72 591.296,1405.3 612.019,1402.82 \n",
       "  632.742,1400.27 653.465,1397.64 674.188,1394.92 694.912,1392.1 715.635,1389.18 736.358,1386.15 757.081,1382.99 777.804,1379.71 798.527,1376.28 819.25,1372.71 \n",
       "  839.973,1368.98 860.696,1365.08 881.419,1361.01 902.142,1356.76 922.865,1352.31 943.588,1347.67 964.311,1342.81 985.034,1337.74 1005.76,1332.44 1026.48,1326.91 \n",
       "  1047.2,1321.13 1067.93,1315.1 1088.65,1308.81 1109.37,1302.25 1130.1,1295.41 1150.82,1288.29 1171.54,1280.87 1192.26,1273.14 1212.99,1265.11 1233.71,1256.75 \n",
       "  1254.43,1248.06 1275.16,1239.03 1295.88,1229.65 1316.6,1219.92 1337.33,1209.82 1358.05,1199.35 1378.77,1188.5 1399.5,1177.25 1420.22,1165.61 1440.94,1153.55 \n",
       "  1461.66,1141.08 1482.39,1128.19 1503.11,1114.86 1523.83,1101.09 1544.56,1086.86 1565.28,1072.18 1586,1057.02 1606.73,1041.39 1627.45,1025.27 1648.17,1008.66 \n",
       "  1668.9,991.541 1689.62,973.912 1710.34,955.761 1731.06,937.08 1751.79,917.861 1772.51,898.095 1793.23,877.774 1813.96,856.887 1834.68,835.428 1855.4,813.387 \n",
       "  1876.13,790.755 1896.85,767.524 1917.57,743.685 1938.29,719.23 1959.02,694.15 1979.74,668.436 2000.46,642.079 2021.19,615.071 2041.91,587.403 2062.63,559.067 \n",
       "  2083.36,530.054 2104.08,500.354 2124.8,469.96 2145.53,438.863 2166.25,407.054 2186.97,374.525 2207.69,341.266 2228.42,307.27 2249.14,272.526 2269.86,237.028 \n",
       "  2290.59,200.766 \n",
       "  \"/>\n",
       "<polyline clip-path=\"url(#clip542)\" style=\"stroke:#ff0000; stroke-linecap:butt; stroke-linejoin:round; stroke-width:4; stroke-opacity:1; fill:none\" points=\"\n",
       "  218.281,1447.87 239.004,1445.17 259.727,1442.55 280.45,1440.02 301.174,1437.54 321.897,1435.13 342.62,1432.77 363.343,1430.46 384.066,1428.17 404.789,1425.92 \n",
       "  425.512,1423.68 446.235,1421.44 466.958,1419.21 487.681,1416.97 508.404,1414.7 529.127,1412.42 549.85,1410.09 570.573,1407.72 591.296,1405.3 612.019,1402.82 \n",
       "  632.742,1400.27 653.465,1397.64 674.188,1394.92 694.912,1392.1 715.635,1389.18 736.358,1386.15 757.081,1382.99 777.804,1379.71 798.527,1376.28 819.25,1372.71 \n",
       "  839.973,1368.98 860.696,1365.08 881.419,1361.01 902.142,1356.76 922.865,1352.31 943.588,1347.67 964.311,1342.81 985.034,1337.74 1005.76,1332.44 1026.48,1326.91 \n",
       "  1047.2,1321.13 1067.93,1315.1 1088.65,1308.81 1109.37,1302.25 1130.1,1295.41 1150.82,1288.29 1171.54,1280.87 1192.26,1273.14 1212.99,1265.11 1233.71,1256.75 \n",
       "  1254.43,1248.06 1275.16,1239.03 1295.88,1229.65 1316.6,1219.92 1337.33,1209.82 1358.05,1199.35 1378.77,1188.5 1399.5,1177.25 1420.22,1165.61 1440.94,1153.55 \n",
       "  1461.66,1141.08 1482.39,1128.19 1503.11,1114.86 1523.83,1101.09 1544.56,1086.86 1565.28,1072.18 1586,1057.02 1606.73,1041.39 1627.45,1025.27 1648.17,1008.66 \n",
       "  1668.9,991.541 1689.62,973.912 1710.34,955.761 1731.06,937.08 1751.79,917.861 1772.51,898.095 1793.23,877.774 1813.96,856.887 1834.68,835.428 1855.4,813.387 \n",
       "  1876.13,790.755 1896.85,767.524 1917.57,743.685 1938.29,719.23 1959.02,694.15 1979.74,668.436 2000.46,642.079 2021.19,615.071 2041.91,587.403 2062.63,559.067 \n",
       "  2083.36,530.054 2104.08,500.354 2124.8,469.96 2145.53,438.863 2166.25,407.054 2186.97,374.525 2207.69,341.266 2228.42,307.27 2249.14,272.526 2269.86,237.028 \n",
       "  2290.59,200.766 \n",
       "  \"/>\n",
       "<path clip-path=\"url(#clip540)\" d=\"\n",
       "M1704.35 324.425 L2279.53 324.425 L2279.53 168.905 L1704.35 168.905  Z\n",
       "  \" fill=\"#ffffff\" fill-rule=\"evenodd\" fill-opacity=\"1\"/>\n",
       "<polyline clip-path=\"url(#clip540)\" style=\"stroke:#000000; stroke-linecap:butt; stroke-linejoin:round; stroke-width:4; stroke-opacity:1; fill:none\" points=\"\n",
       "  1704.35,324.425 2279.53,324.425 2279.53,168.905 1704.35,168.905 1704.35,324.425 \n",
       "  \"/>\n",
       "<polyline clip-path=\"url(#clip540)\" style=\"stroke:#008000; stroke-linecap:butt; stroke-linejoin:round; stroke-width:4; stroke-opacity:1; fill:none\" points=\"\n",
       "  1728.76,220.745 1875.2,220.745 \n",
       "  \"/>\n",
       "<path clip-path=\"url(#clip540)\" d=\"M1915.63 206.636 Q1910.54 206.636 1907.53 210.432 Q1904.54 214.228 1904.54 220.779 Q1904.54 227.307 1907.53 231.103 Q1910.54 234.9 1915.63 234.9 Q1920.72 234.9 1923.68 231.103 Q1926.67 227.307 1926.67 220.779 Q1926.67 214.228 1923.68 210.432 Q1920.72 206.636 1915.63 206.636 M1922.18 237.4 L1928.34 244.136 L1922.69 244.136 L1917.57 238.603 Q1916.81 238.65 1916.39 238.673 Q1916 238.696 1915.63 238.696 Q1908.34 238.696 1903.96 233.835 Q1899.61 228.951 1899.61 220.779 Q1899.61 212.585 1903.96 207.724 Q1908.34 202.84 1915.63 202.84 Q1922.9 202.84 1927.25 207.724 Q1931.6 212.585 1931.6 220.779 Q1931.6 226.798 1929.17 231.08 Q1926.76 235.363 1922.18 237.4 Z\" fill=\"#000000\" fill-rule=\"evenodd\" fill-opacity=\"1\" /><path clip-path=\"url(#clip540)\" d=\"M1955.3 221.821 Q1956.81 222.33 1958.22 223.997 Q1959.66 225.664 1961.09 228.58 L1965.84 238.025 L1960.81 238.025 L1956.39 229.159 Q1954.68 225.687 1953.06 224.553 Q1951.46 223.418 1948.68 223.418 L1943.59 223.418 L1943.59 238.025 L1938.92 238.025 L1938.92 203.465 L1949.47 203.465 Q1955.4 203.465 1958.31 205.941 Q1961.23 208.418 1961.23 213.418 Q1961.23 216.682 1959.7 218.835 Q1958.2 220.988 1955.3 221.821 M1943.59 207.307 L1943.59 219.576 L1949.47 219.576 Q1952.85 219.576 1954.56 218.025 Q1956.3 216.451 1956.3 213.418 Q1956.3 210.386 1954.56 208.858 Q1952.85 207.307 1949.47 207.307 L1943.59 207.307 Z\" fill=\"#000000\" fill-rule=\"evenodd\" fill-opacity=\"1\" /><path clip-path=\"url(#clip540)\" d=\"M2001.76 216.08 Q2001.05 215.664 2000.19 215.478 Q1999.36 215.27 1998.34 215.27 Q1994.73 215.27 1992.78 217.631 Q1990.86 219.969 1990.86 224.367 L1990.86 238.025 L1986.58 238.025 L1986.58 212.099 L1990.86 212.099 L1990.86 216.127 Q1992.2 213.766 1994.36 212.631 Q1996.51 211.474 1999.59 211.474 Q2000.03 211.474 2000.56 211.543 Q2001.09 211.59 2001.74 211.705 L2001.76 216.08 Z\" fill=\"#000000\" fill-rule=\"evenodd\" fill-opacity=\"1\" /><path clip-path=\"url(#clip540)\" d=\"M2027.36 223.997 L2027.36 226.08 L2007.78 226.08 Q2008.06 230.478 2010.42 232.793 Q2012.8 235.085 2017.04 235.085 Q2019.49 235.085 2021.79 234.483 Q2024.1 233.881 2026.37 232.677 L2026.37 236.705 Q2024.08 237.677 2021.67 238.187 Q2019.26 238.696 2016.79 238.696 Q2010.58 238.696 2006.95 235.085 Q2003.34 231.474 2003.34 225.316 Q2003.34 218.951 2006.76 215.224 Q2010.21 211.474 2016.05 211.474 Q2021.28 211.474 2024.31 214.853 Q2027.36 218.21 2027.36 223.997 M2023.11 222.747 Q2023.06 219.252 2021.14 217.168 Q2019.24 215.085 2016.09 215.085 Q2012.53 215.085 2010.37 217.099 Q2008.24 219.113 2007.92 222.77 L2023.11 222.747 Z\" fill=\"#000000\" fill-rule=\"evenodd\" fill-opacity=\"1\" /><path clip-path=\"url(#clip540)\" d=\"M2050.88 212.863 L2050.88 216.891 Q2049.08 215.965 2047.13 215.502 Q2045.19 215.039 2043.11 215.039 Q2039.93 215.039 2038.34 216.011 Q2036.76 216.983 2036.76 218.928 Q2036.76 220.409 2037.9 221.265 Q2039.03 222.099 2042.46 222.863 L2043.92 223.187 Q2048.45 224.159 2050.35 225.941 Q2052.27 227.701 2052.27 230.872 Q2052.27 234.483 2049.4 236.589 Q2046.55 238.696 2041.55 238.696 Q2039.47 238.696 2037.2 238.279 Q2034.96 237.886 2032.46 237.076 L2032.46 232.677 Q2034.82 233.904 2037.11 234.529 Q2039.4 235.131 2041.65 235.131 Q2044.66 235.131 2046.28 234.113 Q2047.9 233.071 2047.9 231.196 Q2047.9 229.46 2046.72 228.534 Q2045.56 227.608 2041.6 226.752 L2040.12 226.404 Q2036.16 225.571 2034.4 223.858 Q2032.64 222.122 2032.64 219.113 Q2032.64 215.455 2035.24 213.465 Q2037.83 211.474 2042.6 211.474 Q2044.96 211.474 2047.04 211.821 Q2049.12 212.168 2050.88 212.863 Z\" fill=\"#000000\" fill-rule=\"evenodd\" fill-opacity=\"1\" /><path clip-path=\"url(#clip540)\" d=\"M2058.61 227.793 L2058.61 212.099 L2062.87 212.099 L2062.87 227.631 Q2062.87 231.312 2064.31 233.164 Q2065.74 234.992 2068.61 234.992 Q2072.06 234.992 2074.05 232.793 Q2076.07 230.594 2076.07 226.798 L2076.07 212.099 L2080.33 212.099 L2080.33 238.025 L2076.07 238.025 L2076.07 234.043 Q2074.52 236.404 2072.46 237.562 Q2070.42 238.696 2067.71 238.696 Q2063.24 238.696 2060.93 235.918 Q2058.61 233.14 2058.61 227.793 M2069.33 211.474 L2069.33 211.474 Z\" fill=\"#000000\" fill-rule=\"evenodd\" fill-opacity=\"1\" /><path clip-path=\"url(#clip540)\" d=\"M2089.1 202.006 L2093.36 202.006 L2093.36 238.025 L2089.1 238.025 L2089.1 202.006 Z\" fill=\"#000000\" fill-rule=\"evenodd\" fill-opacity=\"1\" /><path clip-path=\"url(#clip540)\" d=\"M2106.48 204.738 L2106.48 212.099 L2115.26 212.099 L2115.26 215.409 L2106.48 215.409 L2106.48 229.483 Q2106.48 232.654 2107.34 233.557 Q2108.22 234.46 2110.88 234.46 L2115.26 234.46 L2115.26 238.025 L2110.88 238.025 Q2105.95 238.025 2104.08 236.196 Q2102.2 234.344 2102.2 229.483 L2102.2 215.409 L2099.08 215.409 L2099.08 212.099 L2102.2 212.099 L2102.2 204.738 L2106.48 204.738 Z\" fill=\"#000000\" fill-rule=\"evenodd\" fill-opacity=\"1\" /><path clip-path=\"url(#clip540)\" d=\"M2137.39 212.863 L2137.39 216.891 Q2135.58 215.965 2133.64 215.502 Q2131.69 215.039 2129.61 215.039 Q2126.44 215.039 2124.84 216.011 Q2123.27 216.983 2123.27 218.928 Q2123.27 220.409 2124.4 221.265 Q2125.54 222.099 2128.96 222.863 L2130.42 223.187 Q2134.96 224.159 2136.85 225.941 Q2138.78 227.701 2138.78 230.872 Q2138.78 234.483 2135.91 236.589 Q2133.06 238.696 2128.06 238.696 Q2125.98 238.696 2123.71 238.279 Q2121.46 237.886 2118.96 237.076 L2118.96 232.677 Q2121.32 233.904 2123.61 234.529 Q2125.91 235.131 2128.15 235.131 Q2131.16 235.131 2132.78 234.113 Q2134.4 233.071 2134.4 231.196 Q2134.4 229.46 2133.22 228.534 Q2132.06 227.608 2128.1 226.752 L2126.62 226.404 Q2122.67 225.571 2120.91 223.858 Q2119.15 222.122 2119.15 219.113 Q2119.15 215.455 2121.74 213.465 Q2124.33 211.474 2129.1 211.474 Q2131.46 211.474 2133.54 211.821 Q2135.63 212.168 2137.39 212.863 Z\" fill=\"#000000\" fill-rule=\"evenodd\" fill-opacity=\"1\" /><polyline clip-path=\"url(#clip540)\" style=\"stroke:#ff0000; stroke-linecap:butt; stroke-linejoin:round; stroke-width:4; stroke-opacity:1; fill:none\" points=\"\n",
       "  1728.76,272.585 1875.2,272.585 \n",
       "  \"/>\n",
       "<path clip-path=\"url(#clip540)\" d=\"M1903.89 285.976 L1903.89 299.726 L1899.61 299.726 L1899.61 263.939 L1903.89 263.939 L1903.89 267.874 Q1905.24 265.559 1907.27 264.448 Q1909.33 263.314 1912.18 263.314 Q1916.9 263.314 1919.84 267.064 Q1922.81 270.814 1922.81 276.925 Q1922.81 283.036 1919.84 286.786 Q1916.9 290.536 1912.18 290.536 Q1909.33 290.536 1907.27 289.425 Q1905.24 288.291 1903.89 285.976 M1918.38 276.925 Q1918.38 272.226 1916.44 269.564 Q1914.52 266.879 1911.14 266.879 Q1907.76 266.879 1905.81 269.564 Q1903.89 272.226 1903.89 276.925 Q1903.89 281.624 1905.81 284.309 Q1907.76 286.971 1911.14 286.971 Q1914.52 286.971 1916.44 284.309 Q1918.38 281.624 1918.38 276.925 Z\" fill=\"#000000\" fill-rule=\"evenodd\" fill-opacity=\"1\" /><path clip-path=\"url(#clip540)\" d=\"M1939.91 266.925 Q1936.49 266.925 1934.49 269.61 Q1932.5 272.272 1932.5 276.925 Q1932.5 281.578 1934.47 284.263 Q1936.46 286.925 1939.91 286.925 Q1943.31 286.925 1945.31 284.24 Q1947.3 281.555 1947.3 276.925 Q1947.3 272.318 1945.31 269.633 Q1943.31 266.925 1939.91 266.925 M1939.91 263.314 Q1945.47 263.314 1948.64 266.925 Q1951.81 270.536 1951.81 276.925 Q1951.81 283.291 1948.64 286.925 Q1945.47 290.536 1939.91 290.536 Q1934.33 290.536 1931.16 286.925 Q1928.01 283.291 1928.01 276.925 Q1928.01 270.536 1931.16 266.925 Q1934.33 263.314 1939.91 263.314 Z\" fill=\"#000000\" fill-rule=\"evenodd\" fill-opacity=\"1\" /><path clip-path=\"url(#clip540)\" d=\"M1958.87 253.846 L1963.13 253.846 L1963.13 289.865 L1958.87 289.865 L1958.87 253.846 Z\" fill=\"#000000\" fill-rule=\"evenodd\" fill-opacity=\"1\" /><path clip-path=\"url(#clip540)\" d=\"M1982.83 292.272 Q1981.02 296.902 1979.31 298.314 Q1977.6 299.726 1974.73 299.726 L1971.32 299.726 L1971.32 296.161 L1973.82 296.161 Q1975.58 296.161 1976.55 295.328 Q1977.53 294.494 1978.71 291.392 L1979.47 289.448 L1968.99 263.939 L1973.5 263.939 L1981.6 284.217 L1989.7 263.939 L1994.22 263.939 L1982.83 292.272 Z\" fill=\"#000000\" fill-rule=\"evenodd\" fill-opacity=\"1\" /><path clip-path=\"url(#clip540)\" d=\"M2028.29 253.846 L2028.29 257.388 L2024.22 257.388 Q2021.92 257.388 2021.02 258.314 Q2020.14 259.24 2020.14 261.647 L2020.14 263.939 L2027.16 263.939 L2027.16 267.249 L2020.14 267.249 L2020.14 289.865 L2015.86 289.865 L2015.86 267.249 L2011.79 267.249 L2011.79 263.939 L2015.86 263.939 L2015.86 262.133 Q2015.86 257.805 2017.87 255.837 Q2019.89 253.846 2024.26 253.846 L2028.29 253.846 Z\" fill=\"#000000\" fill-rule=\"evenodd\" fill-opacity=\"1\" /><path clip-path=\"url(#clip540)\" d=\"M2031.86 263.939 L2036.11 263.939 L2036.11 289.865 L2031.86 289.865 L2031.86 263.939 M2031.86 253.846 L2036.11 253.846 L2036.11 259.24 L2031.86 259.24 L2031.86 253.846 Z\" fill=\"#000000\" fill-rule=\"evenodd\" fill-opacity=\"1\" /><path clip-path=\"url(#clip540)\" d=\"M2049.24 256.578 L2049.24 263.939 L2058.01 263.939 L2058.01 267.249 L2049.24 267.249 L2049.24 281.323 Q2049.24 284.494 2050.1 285.397 Q2050.98 286.3 2053.64 286.3 L2058.01 286.3 L2058.01 289.865 L2053.64 289.865 Q2048.71 289.865 2046.83 288.036 Q2044.96 286.184 2044.96 281.323 L2044.96 267.249 L2041.83 267.249 L2041.83 263.939 L2044.96 263.939 L2044.96 256.578 L2049.24 256.578 Z\" fill=\"#000000\" fill-rule=\"evenodd\" fill-opacity=\"1\" /><path clip-path=\"url(#clip540)\" d=\"M2093.71 267.92 Q2092.99 267.504 2092.13 267.318 Q2091.3 267.11 2090.28 267.11 Q2086.67 267.11 2084.73 269.471 Q2082.8 271.809 2082.8 276.207 L2082.8 289.865 L2078.52 289.865 L2078.52 263.939 L2082.8 263.939 L2082.8 267.967 Q2084.15 265.606 2086.3 264.471 Q2088.45 263.314 2091.53 263.314 Q2091.97 263.314 2092.5 263.383 Q2093.04 263.43 2093.68 263.545 L2093.71 267.92 Z\" fill=\"#000000\" fill-rule=\"evenodd\" fill-opacity=\"1\" /><path clip-path=\"url(#clip540)\" d=\"M2119.31 275.837 L2119.31 277.92 L2099.73 277.92 Q2100 282.318 2102.36 284.633 Q2104.75 286.925 2108.98 286.925 Q2111.44 286.925 2113.73 286.323 Q2116.04 285.721 2118.31 284.517 L2118.31 288.545 Q2116.02 289.517 2113.61 290.027 Q2111.21 290.536 2108.73 290.536 Q2102.53 290.536 2098.89 286.925 Q2095.28 283.314 2095.28 277.156 Q2095.28 270.791 2098.71 267.064 Q2102.16 263.314 2107.99 263.314 Q2113.22 263.314 2116.25 266.693 Q2119.31 270.05 2119.31 275.837 M2115.05 274.587 Q2115 271.092 2113.08 269.008 Q2111.18 266.925 2108.04 266.925 Q2104.47 266.925 2102.32 268.939 Q2100.19 270.953 2099.86 274.61 L2115.05 274.587 Z\" fill=\"#000000\" fill-rule=\"evenodd\" fill-opacity=\"1\" /><path clip-path=\"url(#clip540)\" d=\"M2142.83 264.703 L2142.83 268.731 Q2141.02 267.805 2139.08 267.342 Q2137.13 266.879 2135.05 266.879 Q2131.88 266.879 2130.28 267.851 Q2128.71 268.823 2128.71 270.768 Q2128.71 272.249 2129.84 273.105 Q2130.98 273.939 2134.4 274.703 L2135.86 275.027 Q2140.4 275.999 2142.29 277.781 Q2144.22 279.541 2144.22 282.712 Q2144.22 286.323 2141.35 288.429 Q2138.5 290.536 2133.5 290.536 Q2131.42 290.536 2129.15 290.119 Q2126.9 289.726 2124.4 288.916 L2124.4 284.517 Q2126.76 285.744 2129.05 286.369 Q2131.35 286.971 2133.59 286.971 Q2136.6 286.971 2138.22 285.953 Q2139.84 284.911 2139.84 283.036 Q2139.84 281.3 2138.66 280.374 Q2137.5 279.448 2133.54 278.592 L2132.06 278.244 Q2128.1 277.411 2126.35 275.698 Q2124.59 273.962 2124.59 270.953 Q2124.59 267.295 2127.18 265.305 Q2129.77 263.314 2134.54 263.314 Q2136.9 263.314 2138.98 263.661 Q2141.07 264.008 2142.83 264.703 Z\" fill=\"#000000\" fill-rule=\"evenodd\" fill-opacity=\"1\" /><path clip-path=\"url(#clip540)\" d=\"M2150.56 279.633 L2150.56 263.939 L2154.82 263.939 L2154.82 279.471 Q2154.82 283.152 2156.25 285.004 Q2157.69 286.832 2160.56 286.832 Q2164.01 286.832 2166 284.633 Q2168.01 282.434 2168.01 278.638 L2168.01 263.939 L2172.27 263.939 L2172.27 289.865 L2168.01 289.865 L2168.01 285.883 Q2166.46 288.244 2164.4 289.402 Q2162.36 290.536 2159.66 290.536 Q2155.19 290.536 2152.87 287.758 Q2150.56 284.98 2150.56 279.633 M2161.28 263.314 L2161.28 263.314 Z\" fill=\"#000000\" fill-rule=\"evenodd\" fill-opacity=\"1\" /><path clip-path=\"url(#clip540)\" d=\"M2181.04 253.846 L2185.3 253.846 L2185.3 289.865 L2181.04 289.865 L2181.04 253.846 Z\" fill=\"#000000\" fill-rule=\"evenodd\" fill-opacity=\"1\" /><path clip-path=\"url(#clip540)\" d=\"M2198.43 256.578 L2198.43 263.939 L2207.2 263.939 L2207.2 267.249 L2198.43 267.249 L2198.43 281.323 Q2198.43 284.494 2199.29 285.397 Q2200.16 286.3 2202.83 286.3 L2207.2 286.3 L2207.2 289.865 L2202.83 289.865 Q2197.9 289.865 2196.02 288.036 Q2194.15 286.184 2194.15 281.323 L2194.15 267.249 L2191.02 267.249 L2191.02 263.939 L2194.15 263.939 L2194.15 256.578 L2198.43 256.578 Z\" fill=\"#000000\" fill-rule=\"evenodd\" fill-opacity=\"1\" /><path clip-path=\"url(#clip540)\" d=\"M2229.33 264.703 L2229.33 268.731 Q2227.53 267.805 2225.58 267.342 Q2223.64 266.879 2221.55 266.879 Q2218.38 266.879 2216.79 267.851 Q2215.21 268.823 2215.21 270.768 Q2215.21 272.249 2216.35 273.105 Q2217.48 273.939 2220.91 274.703 L2222.36 275.027 Q2226.9 275.999 2228.8 277.781 Q2230.72 279.541 2230.72 282.712 Q2230.72 286.323 2227.85 288.429 Q2225 290.536 2220 290.536 Q2217.92 290.536 2215.65 290.119 Q2213.41 289.726 2210.91 288.916 L2210.91 284.517 Q2213.27 285.744 2215.56 286.369 Q2217.85 286.971 2220.1 286.971 Q2223.1 286.971 2224.72 285.953 Q2226.35 284.911 2226.35 283.036 Q2226.35 281.3 2225.16 280.374 Q2224.01 279.448 2220.05 278.592 L2218.57 278.244 Q2214.61 277.411 2212.85 275.698 Q2211.09 273.962 2211.09 270.953 Q2211.09 267.295 2213.68 265.305 Q2216.28 263.314 2221.04 263.314 Q2223.41 263.314 2225.49 263.661 Q2227.57 264.008 2229.33 264.703 Z\" fill=\"#000000\" fill-rule=\"evenodd\" fill-opacity=\"1\" /></svg>\n"
      ]
     },
     "execution_count": 50,
     "metadata": {},
     "output_type": "execute_result"
    }
   ],
   "source": [
    "scatter(x_julia, y_julia_i, label =\"\")\n",
    "plot!(poly_aprox,  \n",
    "    extrema(x_julia)..., \n",
    "    label = \"QR results\",\n",
    "    color = :green,\n",
    "    linewidth = 5,\n",
    "    title = \"Approximation methods comparison\"\n",
    ")\n",
    "plot!(fit_aprox,  \n",
    "    extrema(x_julia)..., \n",
    "    label = \"poly fit results\",\n",
    "    color = :red\n",
    ")"
   ]
  },
  {
   "cell_type": "markdown",
   "metadata": {},
   "source": [
    "# ZAD3(2pkt)"
   ]
  },
  {
   "cell_type": "markdown",
   "metadata": {},
   "source": [
    "Znajdź i zaprezentuj działanie innego zastosowania wybranej faktoryzacji. Przykładowe (ale nie jedyne!) tematy:\n",
    "\n",
    "tworzenie pseudoinversji macierzy (http://buzzard.ups.edu/courses/2014spring/420projects/math420-UPS-spring-2014-macausland-pseudo-inverse-present.pdf).\n",
    "\n",
    "uzycie faktoryzacji QR do znajdowania wartości własnych (https://en.wikipedia.org/wiki/QR_algorithm)\n",
    "\n",
    "zastosowanie faktoryzacji SVD - np. zastosowania w uczeniu maszynowym"
   ]
  }
 ],
 "metadata": {
  "kernelspec": {
   "display_name": "Julia 1.7.2",
   "language": "julia",
   "name": "julia-1.7"
  },
  "language_info": {
   "file_extension": ".jl",
   "mimetype": "application/julia",
   "name": "julia",
   "version": "1.7.2"
  }
 },
 "nbformat": 4,
 "nbformat_minor": 2
}
