{
 "cells": [
  {
   "cell_type": "markdown",
   "metadata": {},
   "source": [
    "# MOwNiT \n",
    "## Laboratorium\n",
    "### Znajdowanie pierwiastków"
   ]
  },
  {
   "cell_type": "markdown",
   "metadata": {},
   "source": [
    "Do poszukiwania pierwiastków funkcji w Julii używamy pakietu Roots"
   ]
  },
  {
   "cell_type": "markdown",
   "metadata": {},
   "source": [
    "```julia\n",
    "Pkg.add(\"Roots\")\n",
    "Pkg.add(\"ForwardDiff\")\n",
    "```"
   ]
  },
  {
   "cell_type": "code",
   "execution_count": 1,
   "metadata": {},
   "outputs": [
    {
     "name": "stderr",
     "output_type": "stream",
     "text": [
      "\u001b[32m\u001b[1m   Updating\u001b[22m\u001b[39m registry at `~/.julia/registries/General`\n"
     ]
    },
    {
     "name": "stdout",
     "output_type": "stream",
     "text": [
      "\u001b[?25l    "
     ]
    },
    {
     "name": "stderr",
     "output_type": "stream",
     "text": [
      "\u001b[32m\u001b[1m   Updating\u001b[22m\u001b[39m git-repo `https://github.com/JuliaRegistries/General.git`\n"
     ]
    },
    {
     "name": "stdout",
     "output_type": "stream",
     "text": [
      "\u001b[2K\u001b[?25h[1mFetching:\u001b[22m\u001b[39m [========================================>]  100.0 %[36m\u001b[1mFetching:\u001b[22m\u001b[39m [========>                                ]  18.8 %>                     ]  45.3 %\u001b[36m\u001b[1mFetching:\u001b[22m\u001b[39m [=======================>                 ]  55.0 %\u001b[36m\u001b[1mFetching:\u001b[22m\u001b[39m [==============================>          ]  73.1 %   ]  90.3 %\u001b[36m\u001b[1mFetching:\u001b[22m\u001b[39m [======================================>  ]  93.4 %"
     ]
    },
    {
     "name": "stderr",
     "output_type": "stream",
     "text": [
      "\u001b[32m\u001b[1m  Resolving\u001b[22m\u001b[39m package versions...\n",
      "\u001b[32m\u001b[1m  Installed\u001b[22m\u001b[39m CommonSolve ────── v0.2.0\n",
      "\u001b[32m\u001b[1m  Installed\u001b[22m\u001b[39m ConstructionBase ─ v1.3.0\n",
      "\u001b[32m\u001b[1m  Installed\u001b[22m\u001b[39m Setfield ───────── v0.8.2\n",
      "\u001b[32m\u001b[1m  Installed\u001b[22m\u001b[39m Roots ──────────── v2.0.1\n",
      "\u001b[32m\u001b[1m   Updating\u001b[22m\u001b[39m `~/.julia/environments/v1.4/Project.toml`\n",
      " \u001b[90m [f2b01f46]\u001b[39m\u001b[92m + Roots v2.0.1\u001b[39m\n",
      "\u001b[32m\u001b[1m   Updating\u001b[22m\u001b[39m `~/.julia/environments/v1.4/Manifest.toml`\n",
      " \u001b[90m [38540f10]\u001b[39m\u001b[92m + CommonSolve v0.2.0\u001b[39m\n",
      " \u001b[90m [187b0558]\u001b[39m\u001b[92m + ConstructionBase v1.3.0\u001b[39m\n",
      " \u001b[90m [f2b01f46]\u001b[39m\u001b[92m + Roots v2.0.1\u001b[39m\n",
      " \u001b[90m [efcf1570]\u001b[39m\u001b[92m + Setfield v0.8.2\u001b[39m\n",
      "\u001b[32m\u001b[1m  Resolving\u001b[22m\u001b[39m package versions...\n",
      "\u001b[32m\u001b[1m  Installed\u001b[22m\u001b[39m DiffResults ────────── v1.0.3\n",
      "\u001b[32m\u001b[1m  Installed\u001b[22m\u001b[39m DiffRules ──────────── v1.11.0\n",
      "\u001b[32m\u001b[1m  Installed\u001b[22m\u001b[39m CommonSubexpressions ─ v0.3.0\n",
      "\u001b[32m\u001b[1m  Installed\u001b[22m\u001b[39m ForwardDiff ────────── v0.10.29\n",
      "\u001b[32m\u001b[1m   Updating\u001b[22m\u001b[39m `~/.julia/environments/v1.4/Project.toml`\n",
      " \u001b[90m [f6369f11]\u001b[39m\u001b[92m + ForwardDiff v0.10.29\u001b[39m\n",
      "\u001b[32m\u001b[1m   Updating\u001b[22m\u001b[39m `~/.julia/environments/v1.4/Manifest.toml`\n",
      " \u001b[90m [bbf7d656]\u001b[39m\u001b[92m + CommonSubexpressions v0.3.0\u001b[39m\n",
      " \u001b[90m [163ba53b]\u001b[39m\u001b[92m + DiffResults v1.0.3\u001b[39m\n",
      " \u001b[90m [b552c78f]\u001b[39m\u001b[92m + DiffRules v1.11.0\u001b[39m\n",
      " \u001b[90m [f6369f11]\u001b[39m\u001b[92m + ForwardDiff v0.10.29\u001b[39m\n",
      "┌ Info: Precompiling Roots [f2b01f46-fcfa-551c-844a-d8ac1e96c665]\n",
      "└ @ Base loading.jl:1260\n",
      "┌ Info: Precompiling ForwardDiff [f6369f11-7733-5829-9624-2563aa707210]\n",
      "└ @ Base loading.jl:1260\n"
     ]
    }
   ],
   "source": [
    "using Pkg\n",
    "# Pkg.add(\"Roots\")\n",
    "# Pkg.add(\"ForwardDiff\")\n",
    "using Roots  \n",
    "using Plots\n",
    "using ForwardDiff"
   ]
  },
  {
   "cell_type": "code",
   "execution_count": 2,
   "metadata": {},
   "outputs": [
    {
     "data": {
      "image/svg+xml": [
       "<?xml version=\"1.0\" encoding=\"utf-8\"?>\n",
       "<svg xmlns=\"http://www.w3.org/2000/svg\" xmlns:xlink=\"http://www.w3.org/1999/xlink\" width=\"600\" height=\"400\" viewBox=\"0 0 2400 1600\">\n",
       "<defs>\n",
       "  <clipPath id=\"clip050\">\n",
       "    <rect x=\"0\" y=\"0\" width=\"2400\" height=\"1600\"/>\n",
       "  </clipPath>\n",
       "</defs>\n",
       "<path clip-path=\"url(#clip050)\" d=\"\n",
       "M0 1600 L2400 1600 L2400 0 L0 0  Z\n",
       "  \" fill=\"#ffffff\" fill-rule=\"evenodd\" fill-opacity=\"1\"/>\n",
       "<defs>\n",
       "  <clipPath id=\"clip051\">\n",
       "    <rect x=\"480\" y=\"0\" width=\"1681\" height=\"1600\"/>\n",
       "  </clipPath>\n",
       "</defs>\n",
       "<path clip-path=\"url(#clip050)\" d=\"\n",
       "M142.455 1486.45 L2352.76 1486.45 L2352.76 47.2441 L142.455 47.2441  Z\n",
       "  \" fill=\"#ffffff\" fill-rule=\"evenodd\" fill-opacity=\"1\"/>\n",
       "<defs>\n",
       "  <clipPath id=\"clip052\">\n",
       "    <rect x=\"142\" y=\"47\" width=\"2211\" height=\"1440\"/>\n",
       "  </clipPath>\n",
       "</defs>\n",
       "<polyline clip-path=\"url(#clip052)\" style=\"stroke:#000000; stroke-width:2; stroke-opacity:0.1; fill:none\" points=\"\n",
       "  205.01,1486.45 205.01,47.2441 \n",
       "  \"/>\n",
       "<polyline clip-path=\"url(#clip052)\" style=\"stroke:#000000; stroke-width:2; stroke-opacity:0.1; fill:none\" points=\"\n",
       "  726.308,1486.45 726.308,47.2441 \n",
       "  \"/>\n",
       "<polyline clip-path=\"url(#clip052)\" style=\"stroke:#000000; stroke-width:2; stroke-opacity:0.1; fill:none\" points=\"\n",
       "  1247.61,1486.45 1247.61,47.2441 \n",
       "  \"/>\n",
       "<polyline clip-path=\"url(#clip052)\" style=\"stroke:#000000; stroke-width:2; stroke-opacity:0.1; fill:none\" points=\"\n",
       "  1768.9,1486.45 1768.9,47.2441 \n",
       "  \"/>\n",
       "<polyline clip-path=\"url(#clip052)\" style=\"stroke:#000000; stroke-width:2; stroke-opacity:0.1; fill:none\" points=\"\n",
       "  2290.2,1486.45 2290.2,47.2441 \n",
       "  \"/>\n",
       "<polyline clip-path=\"url(#clip050)\" style=\"stroke:#000000; stroke-width:4; stroke-opacity:1; fill:none\" points=\"\n",
       "  142.455,1486.45 2352.76,1486.45 \n",
       "  \"/>\n",
       "<polyline clip-path=\"url(#clip050)\" style=\"stroke:#000000; stroke-width:4; stroke-opacity:1; fill:none\" points=\"\n",
       "  205.01,1486.45 205.01,1469.18 \n",
       "  \"/>\n",
       "<polyline clip-path=\"url(#clip050)\" style=\"stroke:#000000; stroke-width:4; stroke-opacity:1; fill:none\" points=\"\n",
       "  726.308,1486.45 726.308,1469.18 \n",
       "  \"/>\n",
       "<polyline clip-path=\"url(#clip050)\" style=\"stroke:#000000; stroke-width:4; stroke-opacity:1; fill:none\" points=\"\n",
       "  1247.61,1486.45 1247.61,1469.18 \n",
       "  \"/>\n",
       "<polyline clip-path=\"url(#clip050)\" style=\"stroke:#000000; stroke-width:4; stroke-opacity:1; fill:none\" points=\"\n",
       "  1768.9,1486.45 1768.9,1469.18 \n",
       "  \"/>\n",
       "<polyline clip-path=\"url(#clip050)\" style=\"stroke:#000000; stroke-width:4; stroke-opacity:1; fill:none\" points=\"\n",
       "  2290.2,1486.45 2290.2,1469.18 \n",
       "  \"/>\n",
       "<path clip-path=\"url(#clip050)\" d=\"M 0 0 M177.464 1530.29 L207.14 1530.29 L207.14 1534.23 L177.464 1534.23 L177.464 1530.29 Z\" fill=\"#000000\" fill-rule=\"evenodd\" fill-opacity=\"1\" /><path clip-path=\"url(#clip050)\" d=\"M 0 0 M216.237 1543.18 L232.557 1543.18 L232.557 1547.12 L210.612 1547.12 L210.612 1543.18 Q213.274 1540.43 217.858 1535.8 Q222.464 1531.15 223.645 1529.81 Q225.89 1527.28 226.77 1525.55 Q227.672 1523.79 227.672 1522.1 Q227.672 1519.34 225.728 1517.61 Q223.807 1515.87 220.705 1515.87 Q218.506 1515.87 216.052 1516.63 Q213.622 1517.4 210.844 1518.95 L210.844 1514.23 Q213.668 1513.09 216.122 1512.51 Q218.575 1511.93 220.612 1511.93 Q225.983 1511.93 229.177 1514.62 Q232.371 1517.31 232.371 1521.8 Q232.371 1523.93 231.561 1525.85 Q230.774 1527.74 228.668 1530.34 Q228.089 1531.01 224.987 1534.23 Q221.885 1537.42 216.237 1543.18 Z\" fill=\"#000000\" fill-rule=\"evenodd\" fill-opacity=\"1\" /><path clip-path=\"url(#clip050)\" d=\"M 0 0 M698.577 1530.29 L728.252 1530.29 L728.252 1534.23 L698.577 1534.23 L698.577 1530.29 Z\" fill=\"#000000\" fill-rule=\"evenodd\" fill-opacity=\"1\" /><path clip-path=\"url(#clip050)\" d=\"M 0 0 M734.132 1543.18 L741.771 1543.18 L741.771 1516.82 L733.461 1518.49 L733.461 1514.23 L741.725 1512.56 L746.4 1512.56 L746.4 1543.18 L754.039 1543.18 L754.039 1547.12 L734.132 1547.12 L734.132 1543.18 Z\" fill=\"#000000\" fill-rule=\"evenodd\" fill-opacity=\"1\" /><path clip-path=\"url(#clip050)\" d=\"M 0 0 M1247.61 1515.64 Q1243.99 1515.64 1242.17 1519.2 Q1240.36 1522.75 1240.36 1529.87 Q1240.36 1536.98 1242.17 1540.55 Q1243.99 1544.09 1247.61 1544.09 Q1251.24 1544.09 1253.05 1540.55 Q1254.87 1536.98 1254.87 1529.87 Q1254.87 1522.75 1253.05 1519.2 Q1251.24 1515.64 1247.61 1515.64 M1247.61 1511.93 Q1253.42 1511.93 1256.47 1516.54 Q1259.55 1521.12 1259.55 1529.87 Q1259.55 1538.6 1256.47 1543.21 Q1253.42 1547.79 1247.61 1547.79 Q1241.8 1547.79 1238.72 1543.21 Q1235.66 1538.6 1235.66 1529.87 Q1235.66 1521.12 1238.72 1516.54 Q1241.8 1511.93 1247.61 1511.93 Z\" fill=\"#000000\" fill-rule=\"evenodd\" fill-opacity=\"1\" /><path clip-path=\"url(#clip050)\" d=\"M 0 0 M1759.28 1543.18 L1766.92 1543.18 L1766.92 1516.82 L1758.61 1518.49 L1758.61 1514.23 L1766.88 1512.56 L1771.55 1512.56 L1771.55 1543.18 L1779.19 1543.18 L1779.19 1547.12 L1759.28 1547.12 L1759.28 1543.18 Z\" fill=\"#000000\" fill-rule=\"evenodd\" fill-opacity=\"1\" /><path clip-path=\"url(#clip050)\" d=\"M 0 0 M2284.85 1543.18 L2301.17 1543.18 L2301.17 1547.12 L2279.23 1547.12 L2279.23 1543.18 Q2281.89 1540.43 2286.47 1535.8 Q2291.08 1531.15 2292.26 1529.81 Q2294.51 1527.28 2295.39 1525.55 Q2296.29 1523.79 2296.29 1522.1 Q2296.29 1519.34 2294.34 1517.61 Q2292.42 1515.87 2289.32 1515.87 Q2287.12 1515.87 2284.67 1516.63 Q2282.24 1517.4 2279.46 1518.95 L2279.46 1514.23 Q2282.28 1513.09 2284.74 1512.51 Q2287.19 1511.93 2289.23 1511.93 Q2294.6 1511.93 2297.79 1514.62 Q2300.99 1517.31 2300.99 1521.8 Q2300.99 1523.93 2300.18 1525.85 Q2299.39 1527.74 2297.28 1530.34 Q2296.7 1531.01 2293.6 1534.23 Q2290.5 1537.42 2284.85 1543.18 Z\" fill=\"#000000\" fill-rule=\"evenodd\" fill-opacity=\"1\" /><polyline clip-path=\"url(#clip052)\" style=\"stroke:#000000; stroke-width:2; stroke-opacity:0.1; fill:none\" points=\"\n",
       "  142.455,1304.46 2352.76,1304.46 \n",
       "  \"/>\n",
       "<polyline clip-path=\"url(#clip052)\" style=\"stroke:#000000; stroke-width:2; stroke-opacity:0.1; fill:none\" points=\"\n",
       "  142.455,965.026 2352.76,965.026 \n",
       "  \"/>\n",
       "<polyline clip-path=\"url(#clip052)\" style=\"stroke:#000000; stroke-width:2; stroke-opacity:0.1; fill:none\" points=\"\n",
       "  142.455,625.591 2352.76,625.591 \n",
       "  \"/>\n",
       "<polyline clip-path=\"url(#clip052)\" style=\"stroke:#000000; stroke-width:2; stroke-opacity:0.1; fill:none\" points=\"\n",
       "  142.455,286.156 2352.76,286.156 \n",
       "  \"/>\n",
       "<polyline clip-path=\"url(#clip050)\" style=\"stroke:#000000; stroke-width:4; stroke-opacity:1; fill:none\" points=\"\n",
       "  142.455,1486.45 142.455,47.2441 \n",
       "  \"/>\n",
       "<polyline clip-path=\"url(#clip050)\" style=\"stroke:#000000; stroke-width:4; stroke-opacity:1; fill:none\" points=\"\n",
       "  142.455,1304.46 168.978,1304.46 \n",
       "  \"/>\n",
       "<polyline clip-path=\"url(#clip050)\" style=\"stroke:#000000; stroke-width:4; stroke-opacity:1; fill:none\" points=\"\n",
       "  142.455,965.026 168.978,965.026 \n",
       "  \"/>\n",
       "<polyline clip-path=\"url(#clip050)\" style=\"stroke:#000000; stroke-width:4; stroke-opacity:1; fill:none\" points=\"\n",
       "  142.455,625.591 168.978,625.591 \n",
       "  \"/>\n",
       "<polyline clip-path=\"url(#clip050)\" style=\"stroke:#000000; stroke-width:4; stroke-opacity:1; fill:none\" points=\"\n",
       "  142.455,286.156 168.978,286.156 \n",
       "  \"/>\n",
       "<path clip-path=\"url(#clip050)\" d=\"M 0 0 M51.3625 1304.91 L81.0383 1304.91 L81.0383 1308.85 L51.3625 1308.85 L51.3625 1304.91 Z\" fill=\"#000000\" fill-rule=\"evenodd\" fill-opacity=\"1\" /><path clip-path=\"url(#clip050)\" d=\"M 0 0 M90.1354 1317.81 L106.455 1317.81 L106.455 1321.74 L84.5105 1321.74 L84.5105 1317.81 Q87.1725 1315.05 91.7558 1310.42 Q96.3623 1305.77 97.5428 1304.43 Q99.7882 1301.9 100.668 1300.17 Q101.571 1298.41 101.571 1296.72 Q101.571 1293.96 99.6261 1292.23 Q97.7048 1290.49 94.603 1290.49 Q92.4039 1290.49 89.9503 1291.26 Q87.5197 1292.02 84.7419 1293.57 L84.7419 1288.85 Q87.566 1287.71 90.0197 1287.13 Q92.4734 1286.56 94.5104 1286.56 Q99.8808 1286.56 103.075 1289.24 Q106.27 1291.93 106.27 1296.42 Q106.27 1298.55 105.459 1300.47 Q104.672 1302.37 102.566 1304.96 Q101.987 1305.63 98.8854 1308.85 Q95.7836 1312.04 90.1354 1317.81 Z\" fill=\"#000000\" fill-rule=\"evenodd\" fill-opacity=\"1\" /><path clip-path=\"url(#clip050)\" d=\"M 0 0 M50.9921 965.477 L80.6679 965.477 L80.6679 969.413 L50.9921 969.413 L50.9921 965.477 Z\" fill=\"#000000\" fill-rule=\"evenodd\" fill-opacity=\"1\" /><path clip-path=\"url(#clip050)\" d=\"M 0 0 M86.5475 978.371 L94.1863 978.371 L94.1863 952.005 L85.8762 953.672 L85.8762 949.413 L94.14 947.746 L98.8159 947.746 L98.8159 978.371 L106.455 978.371 L106.455 982.306 L86.5475 982.306 L86.5475 978.371 Z\" fill=\"#000000\" fill-rule=\"evenodd\" fill-opacity=\"1\" /><path clip-path=\"url(#clip050)\" d=\"M 0 0 M94.5104 611.39 Q90.8993 611.39 89.0706 614.955 Q87.2651 618.496 87.2651 625.626 Q87.2651 632.732 89.0706 636.297 Q90.8993 639.839 94.5104 639.839 Q98.1447 639.839 99.9502 636.297 Q101.779 632.732 101.779 625.626 Q101.779 618.496 99.9502 614.955 Q98.1447 611.39 94.5104 611.39 M94.5104 607.686 Q100.321 607.686 103.376 612.293 Q106.455 616.876 106.455 625.626 Q106.455 634.353 103.376 638.959 Q100.321 643.543 94.5104 643.543 Q88.7003 643.543 85.6216 638.959 Q82.566 634.353 82.566 625.626 Q82.566 616.876 85.6216 612.293 Q88.7003 607.686 94.5104 607.686 Z\" fill=\"#000000\" fill-rule=\"evenodd\" fill-opacity=\"1\" /><path clip-path=\"url(#clip050)\" d=\"M 0 0 M86.5475 299.501 L94.1863 299.501 L94.1863 273.136 L85.8762 274.802 L85.8762 270.543 L94.14 268.876 L98.8159 268.876 L98.8159 299.501 L106.455 299.501 L106.455 303.436 L86.5475 303.436 L86.5475 299.501 Z\" fill=\"#000000\" fill-rule=\"evenodd\" fill-opacity=\"1\" /><polyline clip-path=\"url(#clip052)\" style=\"stroke:#009af9; stroke-width:4; stroke-opacity:1; fill:none\" points=\"\n",
       "  205.01,87.9763 225.374,89.0742 413.665,92.4069 526.82,92.7842 622.491,95.2922 726.416,102.77 822.226,116.052 924.945,139.032 1043.95,179.126 1149.72,228.384 \n",
       "  1242.46,282.822 1343.58,354.381 1445.29,438.992 1557.75,546.426 1664.75,660.777 1776.01,790.171 1869.67,905.524 1984.01,1051.63 2091.5,1191.38 2263.7,1412.59 \n",
       "  2290.2,1445.72 \n",
       "  \"/>\n",
       "<path clip-path=\"url(#clip050)\" d=\"\n",
       "M1982.47 216.178 L2279.08 216.178 L2279.08 95.2176 L1982.47 95.2176  Z\n",
       "  \" fill=\"#ffffff\" fill-rule=\"evenodd\" fill-opacity=\"1\"/>\n",
       "<polyline clip-path=\"url(#clip050)\" style=\"stroke:#000000; stroke-width:4; stroke-opacity:1; fill:none\" points=\"\n",
       "  1982.47,216.178 2279.08,216.178 2279.08,95.2176 1982.47,95.2176 1982.47,216.178 \n",
       "  \"/>\n",
       "<polyline clip-path=\"url(#clip050)\" style=\"stroke:#009af9; stroke-width:4; stroke-opacity:1; fill:none\" points=\"\n",
       "  2007.03,155.698 2154.38,155.698 \n",
       "  \"/>\n",
       "<path clip-path=\"url(#clip050)\" d=\"M 0 0 M2192.79 175.385 Q2190.98 180.015 2189.27 181.427 Q2187.55 182.839 2184.68 182.839 L2181.28 182.839 L2181.28 179.274 L2183.78 179.274 Q2185.54 179.274 2186.51 178.44 Q2187.48 177.607 2188.67 174.505 L2189.43 172.561 L2178.94 147.052 L2183.46 147.052 L2191.56 167.329 L2199.66 147.052 L2204.17 147.052 L2192.79 175.385 Z\" fill=\"#000000\" fill-rule=\"evenodd\" fill-opacity=\"1\" /><path clip-path=\"url(#clip050)\" d=\"M 0 0 M2210.05 169.042 L2217.69 169.042 L2217.69 142.677 L2209.38 144.343 L2209.38 140.084 L2217.65 138.418 L2222.32 138.418 L2222.32 169.042 L2229.96 169.042 L2229.96 172.978 L2210.05 172.978 L2210.05 169.042 Z\" fill=\"#000000\" fill-rule=\"evenodd\" fill-opacity=\"1\" /></svg>\n"
      ]
     },
     "execution_count": 2,
     "metadata": {},
     "output_type": "execute_result"
    }
   ],
   "source": [
    "# przykładowa funkcja do testów\n",
    "f(x) = cos(x) - x\n",
    "plot(f, -2, 2)"
   ]
  },
  {
   "cell_type": "markdown",
   "metadata": {},
   "source": [
    "Funkcja <i> find_zero</i>  dobiera odpowiedni algorytm w zależności od sposobu wywołania.\n"
   ]
  },
  {
   "cell_type": "markdown",
   "metadata": {},
   "source": [
    "### 1. Metody wykorzytujące  przedział i zmianę znaku"
   ]
  },
  {
   "cell_type": "markdown",
   "metadata": {},
   "source": [
    "#### 1.1 Metoda bisekcji - jesli wywołamy fzero z podaniem  przedziału (tutaj (0,1))"
   ]
  },
  {
   "cell_type": "code",
   "execution_count": 3,
   "metadata": {},
   "outputs": [
    {
     "data": {
      "text/plain": [
       "Results of univariate zero finding:\n",
       "\n",
       "* Converged to: 0.7390851332151607\n",
       "* Algorithm: Bisection()\n",
       "* iterations: 60\n",
       "* function evaluations ≈ 63\n",
       "* stopped as f(x_n) = 0\n",
       "\n",
       "Trace:\n",
       "(a₀, b₀) = ( 1.118751109680031e-154, 1 )\n",
       "(a₁, b₁) = ( 1.0795210693868056e-77, 1 )\n",
       "(a₂, b₂) = ( 3.3060778616876836e-39, 1 )\n",
       "(a₃, b₃) = ( 5.7598240413292423e-20, 1 )\n",
       "(a₄, b₄) = ( 2.4010660126805305e-10, 1 )\n",
       "(a₅, b₅) = ( 1.5497207641601563e-05, 1 )\n",
       "(a₆, b₆) = ( 0.003936767578125, 1 )\n",
       "(a₇, b₇) = ( 0.062744140625, 1 )\n",
       "(a₈, b₈) = ( 0.25048828125, 1 )\n",
       "(a₉, b₉) = ( 0.50048828125, 1 )\n",
       "(a₁₀, b₁₀) = ( 0.50048828125, 0.750244140625 )\n",
       "(a₁₁, b₁₁) = ( 0.6253662109375, 0.750244140625 )\n",
       "(a₁₂, b₁₂) = ( 0.68780517578125, 0.750244140625 )\n",
       "(a₁₃, b₁₃) = ( 0.719024658203125, 0.750244140625 )\n",
       "(a₁₄, b₁₄) = ( 0.7346343994140625, 0.750244140625 )\n",
       "(a₁₅, b₁₅) = ( 0.7346343994140625, 0.74243927001953125 )\n",
       "(a₁₆, b₁₆) = ( 0.73853683471679688, 0.74243927001953125 )\n",
       "(a₁₇, b₁₇) = ( 0.73853683471679688, 0.74048805236816406 )\n",
       "(a₁₈, b₁₈) = ( 0.73853683471679688, 0.73951244354248047 )\n",
       "(a₁₉, b₁₉) = ( 0.73902463912963867, 0.73951244354248047 )\n",
       "(a₂₀, b₂₀) = ( 0.73902463912963867, 0.73926854133605957 )\n",
       "(a₂₁, b₂₁) = ( 0.73902463912963867, 0.73914659023284912 )\n",
       "(a₂₂, b₂₂) = ( 0.73902463912963867, 0.7390856146812439 )\n",
       "(a₂₃, b₂₃) = ( 0.73905512690544128, 0.7390856146812439 )\n",
       "(a₂₄, b₂₄) = ( 0.73907037079334259, 0.7390856146812439 )\n",
       "(a₂₅, b₂₅) = ( 0.73907799273729324, 0.7390856146812439 )\n",
       "(a₂₆, b₂₆) = ( 0.73908180370926857, 0.7390856146812439 )\n",
       "(a₂₇, b₂₇) = ( 0.73908370919525623, 0.7390856146812439 )\n",
       "(a₂₈, b₂₈) = ( 0.73908466193825006, 0.7390856146812439 )\n",
       "(a₂₉, b₂₉) = ( 0.73908466193825006, 0.73908513830974698 )\n",
       "(a₃₀, b₃₀) = ( 0.73908490012399852, 0.73908513830974698 )\n",
       "(a₃₁, b₃₁) = ( 0.73908501921687275, 0.73908513830974698 )\n",
       "(a₃₂, b₃₂) = ( 0.73908507876330987, 0.73908513830974698 )\n",
       "(a₃₃, b₃₃) = ( 0.73908510853652842, 0.73908513830974698 )\n",
       "(a₃₄, b₃₄) = ( 0.7390851234231377, 0.73908513830974698 )\n",
       "(a₃₅, b₃₅) = ( 0.73908513086644234, 0.73908513830974698 )\n",
       "(a₃₆, b₃₆) = ( 0.73908513086644234, 0.73908513458809466 )\n",
       "(a₃₇, b₃₇) = ( 0.7390851327272685, 0.73908513458809466 )\n",
       "(a₃₈, b₃₈) = ( 0.7390851327272685, 0.73908513365768158 )\n",
       "(a₃₉, b₃₉) = ( 0.73908513319247504, 0.73908513365768158 )\n",
       "(a₄₀, b₄₀) = ( 0.73908513319247504, 0.73908513342507831 )\n",
       "(a₄₁, b₄₁) = ( 0.73908513319247504, 0.73908513330877668 )\n",
       "(a₄₂, b₄₂) = ( 0.73908513319247504, 0.73908513325062586 )\n",
       "(a₄₃, b₄₃) = ( 0.73908513319247504, 0.73908513322155045 )\n",
       "(a₄₄, b₄₄) = ( 0.73908513320701275, 0.73908513322155045 )\n",
       "(a₄₅, b₄₅) = ( 0.7390851332142816, 0.73908513322155045 )\n",
       "(a₄₆, b₄₆) = ( 0.7390851332142816, 0.73908513321791602 )\n",
       "(a₄₇, b₄₇) = ( 0.7390851332142816, 0.73908513321609881 )\n",
       "(a₄₈, b₄₈) = ( 0.7390851332142816, 0.7390851332151902 )\n",
       "(a₄₉, b₄₉) = ( 0.7390851332147359, 0.7390851332151902 )\n",
       "(a₅₀, b₅₀) = ( 0.73908513321496305, 0.7390851332151902 )\n",
       "(a₅₁, b₅₁) = ( 0.73908513321507663, 0.7390851332151902 )\n",
       "(a₅₂, b₅₂) = ( 0.73908513321513336, 0.7390851332151902 )\n",
       "(a₅₃, b₅₃) = ( 0.73908513321513336, 0.73908513321516178 )\n",
       "(a₅₄, b₅₄) = ( 0.73908513321514757, 0.73908513321516178 )\n",
       "(a₅₅, b₅₅) = ( 0.73908513321515468, 0.73908513321516178 )\n",
       "(a₅₆, b₅₆) = ( 0.73908513321515823, 0.73908513321516178 )\n",
       "(a₅₇, b₅₇) = ( 0.73908513321516001, 0.73908513321516178 )\n",
       "(a₅₈, b₅₈) = ( 0.73908513321516001, 0.73908513321516089 )\n",
       "(a₅₉, b₅₉) = ( 0.73908513321516045, 0.73908513321516089 )\n",
       "(a₆₀, b₆₀) = ( 0.73908513321516067, 0.73908513321516089 )\n",
       "\n"
      ]
     },
     "metadata": {},
     "output_type": "display_data"
    },
    {
     "data": {
      "text/plain": [
       "0.7390851332151607"
      ]
     },
     "execution_count": 3,
     "metadata": {},
     "output_type": "execute_result"
    }
   ],
   "source": [
    "x = find_zero(f, (0, 1),verbose=true)  "
   ]
  },
  {
   "cell_type": "code",
   "execution_count": 4,
   "metadata": {},
   "outputs": [
    {
     "data": {
      "text/plain": [
       "Results of univariate zero finding:\n",
       "\n",
       "* Converged to: 0.7390851332151607\n",
       "* Algorithm: Bisection()\n",
       "* iterations: 60\n",
       "* function evaluations ≈ 63\n",
       "* stopped as f(x_n) = 0\n",
       "\n",
       "Trace:\n",
       "(a₀, b₀) = ( 1.118751109680031e-154, 1 )\n",
       "(a₁, b₁) = ( 1.0795210693868056e-77, 1 )\n",
       "(a₂, b₂) = ( 3.3060778616876836e-39, 1 )\n",
       "(a₃, b₃) = ( 5.7598240413292423e-20, 1 )\n",
       "(a₄, b₄) = ( 2.4010660126805305e-10, 1 )\n",
       "(a₅, b₅) = ( 1.5497207641601563e-05, 1 )\n",
       "(a₆, b₆) = ( 0.003936767578125, 1 )\n",
       "(a₇, b₇) = ( 0.062744140625, 1 )\n",
       "(a₈, b₈) = ( 0.25048828125, 1 )\n",
       "(a₉, b₉) = ( 0.50048828125, 1 )\n",
       "(a₁₀, b₁₀) = ( 0.50048828125, 0.750244140625 )\n",
       "(a₁₁, b₁₁) = ( 0.6253662109375, 0.750244140625 )\n",
       "(a₁₂, b₁₂) = ( 0.68780517578125, 0.750244140625 )\n",
       "(a₁₃, b₁₃) = ( 0.719024658203125, 0.750244140625 )\n",
       "(a₁₄, b₁₄) = ( 0.7346343994140625, 0.750244140625 )\n",
       "(a₁₅, b₁₅) = ( 0.7346343994140625, 0.74243927001953125 )\n",
       "(a₁₆, b₁₆) = ( 0.73853683471679688, 0.74243927001953125 )\n",
       "(a₁₇, b₁₇) = ( 0.73853683471679688, 0.74048805236816406 )\n",
       "(a₁₈, b₁₈) = ( 0.73853683471679688, 0.73951244354248047 )\n",
       "(a₁₉, b₁₉) = ( 0.73902463912963867, 0.73951244354248047 )\n",
       "(a₂₀, b₂₀) = ( 0.73902463912963867, 0.73926854133605957 )\n",
       "(a₂₁, b₂₁) = ( 0.73902463912963867, 0.73914659023284912 )\n",
       "(a₂₂, b₂₂) = ( 0.73902463912963867, 0.7390856146812439 )\n",
       "(a₂₃, b₂₃) = ( 0.73905512690544128, 0.7390856146812439 )\n",
       "(a₂₄, b₂₄) = ( 0.73907037079334259, 0.7390856146812439 )\n",
       "(a₂₅, b₂₅) = ( 0.73907799273729324, 0.7390856146812439 )\n",
       "(a₂₆, b₂₆) = ( 0.73908180370926857, 0.7390856146812439 )\n",
       "(a₂₇, b₂₇) = ( 0.73908370919525623, 0.7390856146812439 )\n",
       "(a₂₈, b₂₈) = ( 0.73908466193825006, 0.7390856146812439 )\n",
       "(a₂₉, b₂₉) = ( 0.73908466193825006, 0.73908513830974698 )\n",
       "(a₃₀, b₃₀) = ( 0.73908490012399852, 0.73908513830974698 )\n",
       "(a₃₁, b₃₁) = ( 0.73908501921687275, 0.73908513830974698 )\n",
       "(a₃₂, b₃₂) = ( 0.73908507876330987, 0.73908513830974698 )\n",
       "(a₃₃, b₃₃) = ( 0.73908510853652842, 0.73908513830974698 )\n",
       "(a₃₄, b₃₄) = ( 0.7390851234231377, 0.73908513830974698 )\n",
       "(a₃₅, b₃₅) = ( 0.73908513086644234, 0.73908513830974698 )\n",
       "(a₃₆, b₃₆) = ( 0.73908513086644234, 0.73908513458809466 )\n",
       "(a₃₇, b₃₇) = ( 0.7390851327272685, 0.73908513458809466 )\n",
       "(a₃₈, b₃₈) = ( 0.7390851327272685, 0.73908513365768158 )\n",
       "(a₃₉, b₃₉) = ( 0.73908513319247504, 0.73908513365768158 )\n",
       "(a₄₀, b₄₀) = ( 0.73908513319247504, 0.73908513342507831 )\n",
       "(a₄₁, b₄₁) = ( 0.73908513319247504, 0.73908513330877668 )\n",
       "(a₄₂, b₄₂) = ( 0.73908513319247504, 0.73908513325062586 )\n",
       "(a₄₃, b₄₃) = ( 0.73908513319247504, 0.73908513322155045 )\n",
       "(a₄₄, b₄₄) = ( 0.73908513320701275, 0.73908513322155045 )\n",
       "(a₄₅, b₄₅) = ( 0.7390851332142816, 0.73908513322155045 )\n",
       "(a₄₆, b₄₆) = ( 0.7390851332142816, 0.73908513321791602 )\n",
       "(a₄₇, b₄₇) = ( 0.7390851332142816, 0.73908513321609881 )\n",
       "(a₄₈, b₄₈) = ( 0.7390851332142816, 0.7390851332151902 )\n",
       "(a₄₉, b₄₉) = ( 0.7390851332147359, 0.7390851332151902 )\n",
       "(a₅₀, b₅₀) = ( 0.73908513321496305, 0.7390851332151902 )\n",
       "(a₅₁, b₅₁) = ( 0.73908513321507663, 0.7390851332151902 )\n",
       "(a₅₂, b₅₂) = ( 0.73908513321513336, 0.7390851332151902 )\n",
       "(a₅₃, b₅₃) = ( 0.73908513321513336, 0.73908513321516178 )\n",
       "(a₅₄, b₅₄) = ( 0.73908513321514757, 0.73908513321516178 )\n",
       "(a₅₅, b₅₅) = ( 0.73908513321515468, 0.73908513321516178 )\n",
       "(a₅₆, b₅₆) = ( 0.73908513321515823, 0.73908513321516178 )\n",
       "(a₅₇, b₅₇) = ( 0.73908513321516001, 0.73908513321516178 )\n",
       "(a₅₈, b₅₈) = ( 0.73908513321516001, 0.73908513321516089 )\n",
       "(a₅₉, b₅₉) = ( 0.73908513321516045, 0.73908513321516089 )\n",
       "(a₆₀, b₆₀) = ( 0.73908513321516067, 0.73908513321516089 )\n",
       "\n"
      ]
     },
     "metadata": {},
     "output_type": "display_data"
    },
    {
     "data": {
      "text/plain": [
       "0.7390851332151607"
      ]
     },
     "execution_count": 4,
     "metadata": {},
     "output_type": "execute_result"
    }
   ],
   "source": [
    "# mozna wyspecyfikowac wprost\n",
    "x = find_zero(f, (0, 1), Bisection(),verbose=true)  "
   ]
  },
  {
   "cell_type": "markdown",
   "metadata": {},
   "source": [
    "#### Sprawdzanie, czy znaleźliśmy 0"
   ]
  },
  {
   "cell_type": "code",
   "execution_count": 5,
   "metadata": {},
   "outputs": [
    {
     "data": {
      "text/plain": [
       "true"
      ]
     },
     "execution_count": 5,
     "metadata": {},
     "output_type": "execute_result"
    }
   ],
   "source": [
    "#Sprawdzamy czy znaleźliśmy 0\n",
    "iszero(f(x))"
   ]
  },
  {
   "cell_type": "code",
   "execution_count": 6,
   "metadata": {},
   "outputs": [
    {
     "data": {
      "text/plain": [
       "-1.0"
      ]
     },
     "execution_count": 6,
     "metadata": {},
     "output_type": "execute_result"
    }
   ],
   "source": [
    "# można też sprawdzić, czy funkcja zmienia znak dla lewego i prawego sąsiada miejsca zerowego.\n",
    "sign(f(prevfloat(x))) *sign(f(nextfloat(x))) "
   ]
  },
  {
   "cell_type": "code",
   "execution_count": 7,
   "metadata": {},
   "outputs": [
    {
     "data": {
      "text/plain": [
       "(3.141592653589793, 1.2246467991473532e-16)"
      ]
     },
     "execution_count": 7,
     "metadata": {},
     "output_type": "execute_result"
    }
   ],
   "source": [
    "# czasem algorytm znajduje najlepsze przybliżenie 0\n",
    "g(x) = sin(x)\n",
    "x = find_zero(g, (pi/2, 3pi/2))\n",
    "x, g(x)"
   ]
  },
  {
   "cell_type": "code",
   "execution_count": 8,
   "metadata": {},
   "outputs": [
    {
     "data": {
      "text/plain": [
       "false"
      ]
     },
     "execution_count": 8,
     "metadata": {},
     "output_type": "execute_result"
    }
   ],
   "source": [
    "# nie jest to dokładnie 0, ale ...\n",
    "iszero(g(x))"
   ]
  },
  {
   "cell_type": "code",
   "execution_count": 9,
   "metadata": {},
   "outputs": [
    {
     "data": {
      "text/plain": [
       "true"
      ]
     },
     "execution_count": 9,
     "metadata": {},
     "output_type": "execute_result"
    }
   ],
   "source": [
    "#... najbliższy lewy albo prawy sąsiad leży po przeciwnej stronie osi x  niż nasze 0.\n",
    "g(prevfloat(x)) * g(x) < 0.0 || g(x) * g(nextfloat(x)) < 0.0"
   ]
  },
  {
   "cell_type": "markdown",
   "metadata": {},
   "source": [
    "#### 1.2 Metoda regula falsi"
   ]
  },
  {
   "cell_type": "code",
   "execution_count": 10,
   "metadata": {},
   "outputs": [
    {
     "data": {
      "text/plain": [
       "Results of univariate zero finding:\n",
       "\n",
       "* Converged to: 0.7390851332151607\n",
       "* Algorithm: FalsePosition{:anderson_bjork}()\n",
       "* iterations: 6\n",
       "* function evaluations ≈ 8\n",
       "* stopped as f(x_n) = 0\n",
       "\n",
       "Trace:\n",
       "x₁ = 1.118751109680031e-154,\t fx₁ = 1\n",
       "x₂ = 1,\t fx₂ = -0.45969769413186023\n",
       "x₃ = 0.68507335732604513,\t fx₃ = 0.089299276481859979\n",
       "x₄ = 0.73629899761365403,\t fx₄ = 0.0046600390381426049\n",
       "x₅ = 0.7390895164441823,\t fx₅ = -7.3358319172545094e-06\n",
       "x₆ = 0.73908513051468816,\t fx₆ = 4.5195431841449363e-09\n",
       "x₇ = 0.73908513321515801,\t fx₇ = 4.4408920985006262e-15\n",
       "x₈ = 0.73908513321516067,\t fx₈ = 0\n",
       "\n"
      ]
     },
     "metadata": {},
     "output_type": "display_data"
    },
    {
     "data": {
      "text/plain": [
       "0.7390851332151607"
      ]
     },
     "execution_count": 10,
     "metadata": {},
     "output_type": "execute_result"
    }
   ],
   "source": [
    "find_zero(f, (0, 1), FalsePosition(), verbose=true) "
   ]
  },
  {
   "cell_type": "code",
   "execution_count": 11,
   "metadata": {},
   "outputs": [
    {
     "data": {
      "text/plain": [
       "Results of univariate zero finding:\n",
       "\n",
       "* Converged to: 0.7390851332151607\n",
       "* Algorithm: FalsePosition{12}()\n",
       "* iterations: 6\n",
       "* function evaluations ≈ 8\n",
       "* stopped as f(x_n) = 0\n",
       "\n",
       "Trace:\n",
       "x₁ = 1.118751109680031e-154,\t fx₁ = 1\n",
       "x₂ = 1,\t fx₂ = -0.45969769413186023\n",
       "x₃ = 0.68507335732604513,\t fx₃ = 0.089299276481859979\n",
       "x₄ = 0.73629899761365403,\t fx₄ = 0.0046600390381426049\n",
       "x₅ = 0.7390895164441823,\t fx₅ = -7.3358319172545094e-06\n",
       "x₆ = 0.73908513051468816,\t fx₆ = 4.5195431841449363e-09\n",
       "x₇ = 0.73908513321515801,\t fx₇ = 4.4408920985006262e-15\n",
       "x₈ = 0.73908513321516067,\t fx₈ = 0\n",
       "\n"
      ]
     },
     "metadata": {},
     "output_type": "display_data"
    },
    {
     "data": {
      "text/plain": [
       "0.7390851332151607"
      ]
     },
     "execution_count": 11,
     "metadata": {},
     "output_type": "execute_result"
    }
   ],
   "source": [
    "# do dyspozycji mamy  12 wersji algorytmu regula falsi\n",
    "find_zero(f, (0, 1), FalsePosition(12), verbose=true)"
   ]
  },
  {
   "cell_type": "markdown",
   "metadata": {},
   "source": [
    "### 2. Metody korzystające z pochodnych\n",
    "\n",
    "#### 2.1 Metoda Newtona, potrzebuje punktu startowego i wykorzystuje pochodną funkcji."
   ]
  },
  {
   "cell_type": "markdown",
   "metadata": {},
   "source": [
    "Aby użyć Metody Newtona, można skorzystać z pakietu ForwardDiff, aby obliczyć pochodną funkcji. "
   ]
  },
  {
   "cell_type": "code",
   "execution_count": 12,
   "metadata": {},
   "outputs": [
    {
     "data": {
      "text/plain": [
       "D (generic function with 1 method)"
      ]
     },
     "execution_count": 12,
     "metadata": {},
     "output_type": "execute_result"
    }
   ],
   "source": [
    "# definujemy D(f) obliczającą  funkcje pochodną \n",
    "D(f) = x->ForwardDiff.derivative(f, float(x))"
   ]
  },
  {
   "cell_type": "code",
   "execution_count": 13,
   "metadata": {},
   "outputs": [
    {
     "data": {
      "image/svg+xml": [
       "<?xml version=\"1.0\" encoding=\"utf-8\"?>\n",
       "<svg xmlns=\"http://www.w3.org/2000/svg\" xmlns:xlink=\"http://www.w3.org/1999/xlink\" width=\"600\" height=\"400\" viewBox=\"0 0 2400 1600\">\n",
       "<defs>\n",
       "  <clipPath id=\"clip890\">\n",
       "    <rect x=\"0\" y=\"0\" width=\"2400\" height=\"1600\"/>\n",
       "  </clipPath>\n",
       "</defs>\n",
       "<path clip-path=\"url(#clip890)\" d=\"\n",
       "M0 1600 L2400 1600 L2400 0 L0 0  Z\n",
       "  \" fill=\"#ffffff\" fill-rule=\"evenodd\" fill-opacity=\"1\"/>\n",
       "<defs>\n",
       "  <clipPath id=\"clip891\">\n",
       "    <rect x=\"480\" y=\"0\" width=\"1681\" height=\"1600\"/>\n",
       "  </clipPath>\n",
       "</defs>\n",
       "<path clip-path=\"url(#clip890)\" d=\"\n",
       "M193.936 1486.45 L2352.76 1486.45 L2352.76 47.2441 L193.936 47.2441  Z\n",
       "  \" fill=\"#ffffff\" fill-rule=\"evenodd\" fill-opacity=\"1\"/>\n",
       "<defs>\n",
       "  <clipPath id=\"clip892\">\n",
       "    <rect x=\"193\" y=\"47\" width=\"2160\" height=\"1440\"/>\n",
       "  </clipPath>\n",
       "</defs>\n",
       "<polyline clip-path=\"url(#clip892)\" style=\"stroke:#000000; stroke-linecap:butt; stroke-linejoin:round; stroke-width:2; stroke-opacity:0.1; fill:none\" points=\"\n",
       "  255.035,1486.45 255.035,47.2441 \n",
       "  \"/>\n",
       "<polyline clip-path=\"url(#clip892)\" style=\"stroke:#000000; stroke-linecap:butt; stroke-linejoin:round; stroke-width:2; stroke-opacity:0.1; fill:none\" points=\"\n",
       "  764.19,1486.45 764.19,47.2441 \n",
       "  \"/>\n",
       "<polyline clip-path=\"url(#clip892)\" style=\"stroke:#000000; stroke-linecap:butt; stroke-linejoin:round; stroke-width:2; stroke-opacity:0.1; fill:none\" points=\"\n",
       "  1273.35,1486.45 1273.35,47.2441 \n",
       "  \"/>\n",
       "<polyline clip-path=\"url(#clip892)\" style=\"stroke:#000000; stroke-linecap:butt; stroke-linejoin:round; stroke-width:2; stroke-opacity:0.1; fill:none\" points=\"\n",
       "  1782.5,1486.45 1782.5,47.2441 \n",
       "  \"/>\n",
       "<polyline clip-path=\"url(#clip892)\" style=\"stroke:#000000; stroke-linecap:butt; stroke-linejoin:round; stroke-width:2; stroke-opacity:0.1; fill:none\" points=\"\n",
       "  2291.66,1486.45 2291.66,47.2441 \n",
       "  \"/>\n",
       "<polyline clip-path=\"url(#clip890)\" style=\"stroke:#000000; stroke-linecap:butt; stroke-linejoin:round; stroke-width:4; stroke-opacity:1; fill:none\" points=\"\n",
       "  193.936,1486.45 2352.76,1486.45 \n",
       "  \"/>\n",
       "<polyline clip-path=\"url(#clip890)\" style=\"stroke:#000000; stroke-linecap:butt; stroke-linejoin:round; stroke-width:4; stroke-opacity:1; fill:none\" points=\"\n",
       "  255.035,1486.45 255.035,1467.55 \n",
       "  \"/>\n",
       "<polyline clip-path=\"url(#clip890)\" style=\"stroke:#000000; stroke-linecap:butt; stroke-linejoin:round; stroke-width:4; stroke-opacity:1; fill:none\" points=\"\n",
       "  764.19,1486.45 764.19,1467.55 \n",
       "  \"/>\n",
       "<polyline clip-path=\"url(#clip890)\" style=\"stroke:#000000; stroke-linecap:butt; stroke-linejoin:round; stroke-width:4; stroke-opacity:1; fill:none\" points=\"\n",
       "  1273.35,1486.45 1273.35,1467.55 \n",
       "  \"/>\n",
       "<polyline clip-path=\"url(#clip890)\" style=\"stroke:#000000; stroke-linecap:butt; stroke-linejoin:round; stroke-width:4; stroke-opacity:1; fill:none\" points=\"\n",
       "  1782.5,1486.45 1782.5,1467.55 \n",
       "  \"/>\n",
       "<polyline clip-path=\"url(#clip890)\" style=\"stroke:#000000; stroke-linecap:butt; stroke-linejoin:round; stroke-width:4; stroke-opacity:1; fill:none\" points=\"\n",
       "  2291.66,1486.45 2291.66,1467.55 \n",
       "  \"/>\n",
       "<path clip-path=\"url(#clip890)\" d=\"M224.977 1532.02 L254.653 1532.02 L254.653 1535.95 L224.977 1535.95 L224.977 1532.02 Z\" fill=\"#000000\" fill-rule=\"evenodd\" fill-opacity=\"1\" /><path clip-path=\"url(#clip890)\" d=\"M268.773 1544.91 L285.092 1544.91 L285.092 1548.85 L263.148 1548.85 L263.148 1544.91 Q265.81 1542.16 270.393 1537.53 Q275 1532.88 276.18 1531.53 Q278.426 1529.01 279.305 1527.27 Q280.208 1525.51 280.208 1523.82 Q280.208 1521.07 278.264 1519.33 Q276.342 1517.6 273.241 1517.6 Q271.042 1517.6 268.588 1518.36 Q266.157 1519.13 263.38 1520.68 L263.38 1515.95 Q266.204 1514.82 268.657 1514.24 Q271.111 1513.66 273.148 1513.66 Q278.518 1513.66 281.713 1516.35 Q284.907 1519.03 284.907 1523.52 Q284.907 1525.65 284.097 1527.57 Q283.31 1529.47 281.204 1532.07 Q280.625 1532.74 277.523 1535.95 Q274.421 1539.15 268.773 1544.91 Z\" fill=\"#000000\" fill-rule=\"evenodd\" fill-opacity=\"1\" /><path clip-path=\"url(#clip890)\" d=\"M733.947 1532.02 L763.623 1532.02 L763.623 1535.95 L733.947 1535.95 L733.947 1532.02 Z\" fill=\"#000000\" fill-rule=\"evenodd\" fill-opacity=\"1\" /><path clip-path=\"url(#clip890)\" d=\"M774.526 1544.91 L782.165 1544.91 L782.165 1518.55 L773.855 1520.21 L773.855 1515.95 L782.118 1514.29 L786.794 1514.29 L786.794 1544.91 L794.433 1544.91 L794.433 1548.85 L774.526 1548.85 L774.526 1544.91 Z\" fill=\"#000000\" fill-rule=\"evenodd\" fill-opacity=\"1\" /><path clip-path=\"url(#clip890)\" d=\"M1273.35 1517.37 Q1269.73 1517.37 1267.91 1520.93 Q1266.1 1524.47 1266.1 1531.6 Q1266.1 1538.71 1267.91 1542.27 Q1269.73 1545.82 1273.35 1545.82 Q1276.98 1545.82 1278.79 1542.27 Q1280.61 1538.71 1280.61 1531.6 Q1280.61 1524.47 1278.79 1520.93 Q1276.98 1517.37 1273.35 1517.37 M1273.35 1513.66 Q1279.16 1513.66 1282.21 1518.27 Q1285.29 1522.85 1285.29 1531.6 Q1285.29 1540.33 1282.21 1544.94 Q1279.16 1549.52 1273.35 1549.52 Q1267.54 1549.52 1264.46 1544.94 Q1261.4 1540.33 1261.4 1531.6 Q1261.4 1522.85 1264.46 1518.27 Q1267.54 1513.66 1273.35 1513.66 Z\" fill=\"#000000\" fill-rule=\"evenodd\" fill-opacity=\"1\" /><path clip-path=\"url(#clip890)\" d=\"M1772.88 1544.91 L1780.52 1544.91 L1780.52 1518.55 L1772.21 1520.21 L1772.21 1515.95 L1780.48 1514.29 L1785.15 1514.29 L1785.15 1544.91 L1792.79 1544.91 L1792.79 1548.85 L1772.88 1548.85 L1772.88 1544.91 Z\" fill=\"#000000\" fill-rule=\"evenodd\" fill-opacity=\"1\" /><path clip-path=\"url(#clip890)\" d=\"M2286.31 1544.91 L2302.63 1544.91 L2302.63 1548.85 L2280.69 1548.85 L2280.69 1544.91 Q2283.35 1542.16 2287.93 1537.53 Q2292.54 1532.88 2293.72 1531.53 Q2295.96 1529.01 2296.84 1527.27 Q2297.75 1525.51 2297.75 1523.82 Q2297.75 1521.07 2295.8 1519.33 Q2293.88 1517.6 2290.78 1517.6 Q2288.58 1517.6 2286.12 1518.36 Q2283.69 1519.13 2280.92 1520.68 L2280.92 1515.95 Q2283.74 1514.82 2286.19 1514.24 Q2288.65 1513.66 2290.69 1513.66 Q2296.06 1513.66 2299.25 1516.35 Q2302.44 1519.03 2302.44 1523.52 Q2302.44 1525.65 2301.63 1527.57 Q2300.85 1529.47 2298.74 1532.07 Q2298.16 1532.74 2295.06 1535.95 Q2291.96 1539.15 2286.31 1544.91 Z\" fill=\"#000000\" fill-rule=\"evenodd\" fill-opacity=\"1\" /><polyline clip-path=\"url(#clip892)\" style=\"stroke:#000000; stroke-linecap:butt; stroke-linejoin:round; stroke-width:2; stroke-opacity:0.1; fill:none\" points=\"\n",
       "  193.936,1446.5 2352.76,1446.5 \n",
       "  \"/>\n",
       "<polyline clip-path=\"url(#clip892)\" style=\"stroke:#000000; stroke-linecap:butt; stroke-linejoin:round; stroke-width:2; stroke-opacity:0.1; fill:none\" points=\"\n",
       "  193.936,1106.8 2352.76,1106.8 \n",
       "  \"/>\n",
       "<polyline clip-path=\"url(#clip892)\" style=\"stroke:#000000; stroke-linecap:butt; stroke-linejoin:round; stroke-width:2; stroke-opacity:0.1; fill:none\" points=\"\n",
       "  193.936,767.096 2352.76,767.096 \n",
       "  \"/>\n",
       "<polyline clip-path=\"url(#clip892)\" style=\"stroke:#000000; stroke-linecap:butt; stroke-linejoin:round; stroke-width:2; stroke-opacity:0.1; fill:none\" points=\"\n",
       "  193.936,427.394 2352.76,427.394 \n",
       "  \"/>\n",
       "<polyline clip-path=\"url(#clip892)\" style=\"stroke:#000000; stroke-linecap:butt; stroke-linejoin:round; stroke-width:2; stroke-opacity:0.1; fill:none\" points=\"\n",
       "  193.936,87.6917 2352.76,87.6917 \n",
       "  \"/>\n",
       "<polyline clip-path=\"url(#clip890)\" style=\"stroke:#000000; stroke-linecap:butt; stroke-linejoin:round; stroke-width:4; stroke-opacity:1; fill:none\" points=\"\n",
       "  193.936,1486.45 193.936,47.2441 \n",
       "  \"/>\n",
       "<polyline clip-path=\"url(#clip890)\" style=\"stroke:#000000; stroke-linecap:butt; stroke-linejoin:round; stroke-width:4; stroke-opacity:1; fill:none\" points=\"\n",
       "  193.936,1446.5 212.834,1446.5 \n",
       "  \"/>\n",
       "<polyline clip-path=\"url(#clip890)\" style=\"stroke:#000000; stroke-linecap:butt; stroke-linejoin:round; stroke-width:4; stroke-opacity:1; fill:none\" points=\"\n",
       "  193.936,1106.8 212.834,1106.8 \n",
       "  \"/>\n",
       "<polyline clip-path=\"url(#clip890)\" style=\"stroke:#000000; stroke-linecap:butt; stroke-linejoin:round; stroke-width:4; stroke-opacity:1; fill:none\" points=\"\n",
       "  193.936,767.096 212.834,767.096 \n",
       "  \"/>\n",
       "<polyline clip-path=\"url(#clip890)\" style=\"stroke:#000000; stroke-linecap:butt; stroke-linejoin:round; stroke-width:4; stroke-opacity:1; fill:none\" points=\"\n",
       "  193.936,427.394 212.834,427.394 \n",
       "  \"/>\n",
       "<polyline clip-path=\"url(#clip890)\" style=\"stroke:#000000; stroke-linecap:butt; stroke-linejoin:round; stroke-width:4; stroke-opacity:1; fill:none\" points=\"\n",
       "  193.936,87.6917 212.834,87.6917 \n",
       "  \"/>\n",
       "<path clip-path=\"url(#clip890)\" d=\"M50.9921 1446.95 L80.6679 1446.95 L80.6679 1450.89 L50.9921 1450.89 L50.9921 1446.95 Z\" fill=\"#000000\" fill-rule=\"evenodd\" fill-opacity=\"1\" /><path clip-path=\"url(#clip890)\" d=\"M94.7882 1459.84 L111.108 1459.84 L111.108 1463.78 L89.1632 1463.78 L89.1632 1459.84 Q91.8252 1457.09 96.4085 1452.46 Q101.015 1447.81 102.196 1446.46 Q104.441 1443.94 105.321 1442.21 Q106.223 1440.45 106.223 1438.76 Q106.223 1436 104.279 1434.27 Q102.358 1432.53 99.2558 1432.53 Q97.0567 1432.53 94.603 1433.29 Q92.1725 1434.06 89.3947 1435.61 L89.3947 1430.89 Q92.2188 1429.75 94.6724 1429.17 Q97.1261 1428.59 99.1632 1428.59 Q104.534 1428.59 107.728 1431.28 Q110.922 1433.96 110.922 1438.46 Q110.922 1440.59 110.112 1442.51 Q109.325 1444.4 107.219 1447 Q106.64 1447.67 103.538 1450.89 Q100.436 1454.08 94.7882 1459.84 Z\" fill=\"#000000\" fill-rule=\"evenodd\" fill-opacity=\"1\" /><path clip-path=\"url(#clip890)\" d=\"M120.922 1457.9 L125.807 1457.9 L125.807 1463.78 L120.922 1463.78 L120.922 1457.9 Z\" fill=\"#000000\" fill-rule=\"evenodd\" fill-opacity=\"1\" /><path clip-path=\"url(#clip890)\" d=\"M145.992 1432.3 Q142.381 1432.3 140.552 1435.86 Q138.746 1439.4 138.746 1446.53 Q138.746 1453.64 140.552 1457.21 Q142.381 1460.75 145.992 1460.75 Q149.626 1460.75 151.431 1457.21 Q153.26 1453.64 153.26 1446.53 Q153.26 1439.4 151.431 1435.86 Q149.626 1432.3 145.992 1432.3 M145.992 1428.59 Q151.802 1428.59 154.857 1433.2 Q157.936 1437.78 157.936 1446.53 Q157.936 1455.26 154.857 1459.87 Q151.802 1464.45 145.992 1464.45 Q140.181 1464.45 137.103 1459.87 Q134.047 1455.26 134.047 1446.53 Q134.047 1437.78 137.103 1433.2 Q140.181 1428.59 145.992 1428.59 Z\" fill=\"#000000\" fill-rule=\"evenodd\" fill-opacity=\"1\" /><path clip-path=\"url(#clip890)\" d=\"M51.9875 1107.25 L81.6633 1107.25 L81.6633 1111.18 L51.9875 1111.18 L51.9875 1107.25 Z\" fill=\"#000000\" fill-rule=\"evenodd\" fill-opacity=\"1\" /><path clip-path=\"url(#clip890)\" d=\"M92.566 1120.14 L100.205 1120.14 L100.205 1093.78 L91.8947 1095.44 L91.8947 1091.18 L100.159 1089.52 L104.834 1089.52 L104.834 1120.14 L112.473 1120.14 L112.473 1124.08 L92.566 1124.08 L92.566 1120.14 Z\" fill=\"#000000\" fill-rule=\"evenodd\" fill-opacity=\"1\" /><path clip-path=\"url(#clip890)\" d=\"M121.918 1118.2 L126.802 1118.2 L126.802 1124.08 L121.918 1124.08 L121.918 1118.2 Z\" fill=\"#000000\" fill-rule=\"evenodd\" fill-opacity=\"1\" /><path clip-path=\"url(#clip890)\" d=\"M137.033 1089.52 L155.39 1089.52 L155.39 1093.45 L141.316 1093.45 L141.316 1101.92 Q142.334 1101.58 143.353 1101.42 Q144.371 1101.23 145.39 1101.23 Q151.177 1101.23 154.556 1104.4 Q157.936 1107.57 157.936 1112.99 Q157.936 1118.57 154.464 1121.67 Q150.992 1124.75 144.672 1124.75 Q142.496 1124.75 140.228 1124.38 Q137.982 1124.01 135.575 1123.27 L135.575 1118.57 Q137.658 1119.7 139.881 1120.26 Q142.103 1120.81 144.58 1120.81 Q148.584 1120.81 150.922 1118.71 Q153.26 1116.6 153.26 1112.99 Q153.26 1109.38 150.922 1107.27 Q148.584 1105.17 144.58 1105.17 Q142.705 1105.17 140.83 1105.58 Q138.978 1106 137.033 1106.88 L137.033 1089.52 Z\" fill=\"#000000\" fill-rule=\"evenodd\" fill-opacity=\"1\" /><path clip-path=\"url(#clip890)\" d=\"M50.9921 767.547 L80.6679 767.547 L80.6679 771.482 L50.9921 771.482 L50.9921 767.547 Z\" fill=\"#000000\" fill-rule=\"evenodd\" fill-opacity=\"1\" /><path clip-path=\"url(#clip890)\" d=\"M91.5706 780.44 L99.2095 780.44 L99.2095 754.075 L90.8993 755.741 L90.8993 751.482 L99.1632 749.816 L103.839 749.816 L103.839 780.44 L111.478 780.44 L111.478 784.376 L91.5706 784.376 L91.5706 780.44 Z\" fill=\"#000000\" fill-rule=\"evenodd\" fill-opacity=\"1\" /><path clip-path=\"url(#clip890)\" d=\"M120.922 778.496 L125.807 778.496 L125.807 784.376 L120.922 784.376 L120.922 778.496 Z\" fill=\"#000000\" fill-rule=\"evenodd\" fill-opacity=\"1\" /><path clip-path=\"url(#clip890)\" d=\"M145.992 752.894 Q142.381 752.894 140.552 756.459 Q138.746 760.001 138.746 767.13 Q138.746 774.237 140.552 777.802 Q142.381 781.343 145.992 781.343 Q149.626 781.343 151.431 777.802 Q153.26 774.237 153.26 767.13 Q153.26 760.001 151.431 756.459 Q149.626 752.894 145.992 752.894 M145.992 749.191 Q151.802 749.191 154.857 753.797 Q157.936 758.38 157.936 767.13 Q157.936 775.857 154.857 780.464 Q151.802 785.047 145.992 785.047 Q140.181 785.047 137.103 780.464 Q134.047 775.857 134.047 767.13 Q134.047 758.38 137.103 753.797 Q140.181 749.191 145.992 749.191 Z\" fill=\"#000000\" fill-rule=\"evenodd\" fill-opacity=\"1\" /><path clip-path=\"url(#clip890)\" d=\"M51.9875 427.845 L81.6633 427.845 L81.6633 431.78 L51.9875 431.78 L51.9875 427.845 Z\" fill=\"#000000\" fill-rule=\"evenodd\" fill-opacity=\"1\" /><path clip-path=\"url(#clip890)\" d=\"M101.756 413.192 Q98.1447 413.192 96.316 416.757 Q94.5104 420.299 94.5104 427.428 Q94.5104 434.535 96.316 438.1 Q98.1447 441.641 101.756 441.641 Q105.39 441.641 107.196 438.1 Q109.024 434.535 109.024 427.428 Q109.024 420.299 107.196 416.757 Q105.39 413.192 101.756 413.192 M101.756 409.489 Q107.566 409.489 110.621 414.095 Q113.7 418.678 113.7 427.428 Q113.7 436.155 110.621 440.762 Q107.566 445.345 101.756 445.345 Q95.9456 445.345 92.8669 440.762 Q89.8114 436.155 89.8114 427.428 Q89.8114 418.678 92.8669 414.095 Q95.9456 409.489 101.756 409.489 Z\" fill=\"#000000\" fill-rule=\"evenodd\" fill-opacity=\"1\" /><path clip-path=\"url(#clip890)\" d=\"M121.918 438.794 L126.802 438.794 L126.802 444.674 L121.918 444.674 L121.918 438.794 Z\" fill=\"#000000\" fill-rule=\"evenodd\" fill-opacity=\"1\" /><path clip-path=\"url(#clip890)\" d=\"M137.033 410.114 L155.39 410.114 L155.39 414.049 L141.316 414.049 L141.316 422.521 Q142.334 422.174 143.353 422.012 Q144.371 421.827 145.39 421.827 Q151.177 421.827 154.556 424.998 Q157.936 428.169 157.936 433.586 Q157.936 439.164 154.464 442.266 Q150.992 445.345 144.672 445.345 Q142.496 445.345 140.228 444.975 Q137.982 444.604 135.575 443.863 L135.575 439.164 Q137.658 440.299 139.881 440.854 Q142.103 441.41 144.58 441.41 Q148.584 441.41 150.922 439.303 Q153.26 437.197 153.26 433.586 Q153.26 429.975 150.922 427.868 Q148.584 425.762 144.58 425.762 Q142.705 425.762 140.83 426.178 Q138.978 426.595 137.033 427.475 L137.033 410.114 Z\" fill=\"#000000\" fill-rule=\"evenodd\" fill-opacity=\"1\" /><path clip-path=\"url(#clip890)\" d=\"M100.76 73.4904 Q97.1493 73.4904 95.3206 77.0552 Q93.515 80.5968 93.515 87.7264 Q93.515 94.8329 95.3206 98.3977 Q97.1493 101.939 100.76 101.939 Q104.395 101.939 106.2 98.3977 Q108.029 94.8329 108.029 87.7264 Q108.029 80.5968 106.2 77.0552 Q104.395 73.4904 100.76 73.4904 M100.76 69.7867 Q106.571 69.7867 109.626 74.3932 Q112.705 78.9765 112.705 87.7264 Q112.705 96.4532 109.626 101.06 Q106.571 105.643 100.76 105.643 Q94.9502 105.643 91.8715 101.06 Q88.816 96.4532 88.816 87.7264 Q88.816 78.9765 91.8715 74.3932 Q94.9502 69.7867 100.76 69.7867 Z\" fill=\"#000000\" fill-rule=\"evenodd\" fill-opacity=\"1\" /><path clip-path=\"url(#clip890)\" d=\"M120.922 99.0921 L125.807 99.0921 L125.807 104.972 L120.922 104.972 L120.922 99.0921 Z\" fill=\"#000000\" fill-rule=\"evenodd\" fill-opacity=\"1\" /><path clip-path=\"url(#clip890)\" d=\"M145.992 73.4904 Q142.381 73.4904 140.552 77.0552 Q138.746 80.5968 138.746 87.7264 Q138.746 94.8329 140.552 98.3977 Q142.381 101.939 145.992 101.939 Q149.626 101.939 151.431 98.3977 Q153.26 94.8329 153.26 87.7264 Q153.26 80.5968 151.431 77.0552 Q149.626 73.4904 145.992 73.4904 M145.992 69.7867 Q151.802 69.7867 154.857 74.3932 Q157.936 78.9765 157.936 87.7264 Q157.936 96.4532 154.857 101.06 Q151.802 105.643 145.992 105.643 Q140.181 105.643 137.103 101.06 Q134.047 96.4532 134.047 87.7264 Q134.047 78.9765 137.103 74.3932 Q140.181 69.7867 145.992 69.7867 Z\" fill=\"#000000\" fill-rule=\"evenodd\" fill-opacity=\"1\" /><polyline clip-path=\"url(#clip892)\" style=\"stroke:#009af9; stroke-linecap:butt; stroke-linejoin:round; stroke-width:4; stroke-opacity:1; fill:none\" points=\"\n",
       "  255.035,149.315 264.979,143.911 274.924,138.745 366.877,102.553 458.829,87.9763 514.089,89.8423 569.348,99.6781 616.07,114.129 662.791,134.074 713.544,161.769 \n",
       "  764.296,195.473 811.085,231.582 857.875,272.21 958.201,372.915 1074.44,508.379 1177.74,640.266 1268.32,760.389 1367.08,891.467 1466.43,1018.61 1576.27,1147.88 \n",
       "  1680.78,1254.57 1735.11,1302.2 1789.45,1343.75 1835.18,1373.65 1880.92,1398.66 1936.76,1422.28 1992.6,1438.02 2045.09,1445.47 2097.58,1445.72 2181.68,1431.12 \n",
       "  2265.77,1398.44 2278.72,1391.86 2291.66,1384.88 \n",
       "  \"/>\n",
       "<path clip-path=\"url(#clip890)\" d=\"\n",
       "M1988.36 198.898 L2280.8 198.898 L2280.8 95.2176 L1988.36 95.2176  Z\n",
       "  \" fill=\"#ffffff\" fill-rule=\"evenodd\" fill-opacity=\"1\"/>\n",
       "<polyline clip-path=\"url(#clip890)\" style=\"stroke:#000000; stroke-linecap:butt; stroke-linejoin:round; stroke-width:4; stroke-opacity:1; fill:none\" points=\"\n",
       "  1988.36,198.898 2280.8,198.898 2280.8,95.2176 1988.36,95.2176 1988.36,198.898 \n",
       "  \"/>\n",
       "<polyline clip-path=\"url(#clip890)\" style=\"stroke:#009af9; stroke-linecap:butt; stroke-linejoin:round; stroke-width:4; stroke-opacity:1; fill:none\" points=\"\n",
       "  2012.36,147.058 2156.36,147.058 \n",
       "  \"/>\n",
       "<path clip-path=\"url(#clip890)\" d=\"M2194.21 166.745 Q2192.4 171.375 2190.69 172.787 Q2188.98 174.199 2186.11 174.199 L2182.7 174.199 L2182.7 170.634 L2185.2 170.634 Q2186.96 170.634 2187.93 169.8 Q2188.91 168.967 2190.09 165.865 L2190.85 163.921 L2180.36 138.412 L2184.88 138.412 L2192.98 158.689 L2201.08 138.412 L2205.6 138.412 L2194.21 166.745 Z\" fill=\"#000000\" fill-rule=\"evenodd\" fill-opacity=\"1\" /><path clip-path=\"url(#clip890)\" d=\"M2212.89 160.402 L2220.53 160.402 L2220.53 134.037 L2212.22 135.703 L2212.22 131.444 L2220.48 129.778 L2225.16 129.778 L2225.16 160.402 L2232.8 160.402 L2232.8 164.338 L2212.89 164.338 L2212.89 160.402 Z\" fill=\"#000000\" fill-rule=\"evenodd\" fill-opacity=\"1\" /></svg>\n"
      ]
     },
     "execution_count": 13,
     "metadata": {},
     "output_type": "execute_result"
    }
   ],
   "source": [
    "plot(D(f), -2,2)"
   ]
  },
  {
   "cell_type": "code",
   "execution_count": 14,
   "metadata": {},
   "outputs": [
    {
     "data": {
      "text/plain": [
       "Results of univariate zero finding:\n",
       "\n",
       "* Converged to: 0.7390851332151607\n",
       "* Algorithm: Roots.Newton()\n",
       "* iterations: 5\n",
       "* function evaluations ≈ 10\n",
       "* stopped as f(x_n) = 0\n",
       "\n",
       "Trace:\n",
       "x₁ = 0,\t fx₁ = 1\n",
       "x₂ = 1,\t fx₂ = -0.45969769413186023\n",
       "x₃ = 0.75036386784024389,\t fx₃ = -0.018923073822117442\n",
       "x₄ = 0.73911289091136168,\t fx₄ = -4.6455898990771516e-05\n",
       "x₅ = 0.73908513338528403,\t fx₅ = -2.8472058044570758e-10\n",
       "x₆ = 0.73908513321516067,\t fx₆ = 0\n",
       "\n"
      ]
     },
     "metadata": {},
     "output_type": "display_data"
    },
    {
     "data": {
      "text/plain": [
       "0.7390851332151607"
      ]
     },
     "execution_count": 14,
     "metadata": {},
     "output_type": "execute_result"
    }
   ],
   "source": [
    "#wywolanie metody Newtona\n",
    "find_zero((f, D(f)),0, Roots.Newton(),verbose=true)"
   ]
  },
  {
   "cell_type": "markdown",
   "metadata": {},
   "source": [
    "#### 2.2 Metoda Halleya (potrzebuje pierwszej i drugiej pochodnej)"
   ]
  },
  {
   "cell_type": "code",
   "execution_count": 13,
   "metadata": {},
   "outputs": [
    {
     "data": {
      "text/plain": [
       "Results of univariate zero finding:\n",
       "\n",
       "* Converged to: 0.7390851332151606\n",
       "* Algorithm: Roots.Halley()\n",
       "* iterations: 4\n",
       "* function evaluations ≈ 15\n",
       "* stopped as |f(x_n)| ≤ max(δ, |x|⋅ϵ) using δ = atol, ϵ = rtol\n",
       "\n",
       "Trace:\n",
       "x₁ = 0,\t fx₁ = 1\n",
       "x₂ = 0.66666666666666663,\t fx₂ = 0.11922059411028141\n",
       "x₃ = 0.73903926244631024,\t fx₃ = 7.6769092960393692e-05\n",
       "x₄ = 0.73908513321514946,\t fx₄ = 1.865174681370263e-14\n",
       "x₅ = 0.73908513321516056,\t fx₅ = 1.1102230246251565e-16\n",
       "\n"
      ]
     },
     "metadata": {},
     "output_type": "display_data"
    },
    {
     "data": {
      "text/plain": [
       "0.7390851332151606"
      ]
     },
     "execution_count": 13,
     "metadata": {},
     "output_type": "execute_result"
    }
   ],
   "source": [
    "DD(f) = x->ForwardDiff.derivative(D(f), float(x))\n",
    "find_zero((f, D(f), DD(f)), 0.0, Roots.Halley(), verbose=true) "
   ]
  },
  {
   "cell_type": "markdown",
   "metadata": {},
   "source": [
    "### 3. Metody korzystające z przybliżenia pochodnej"
   ]
  },
  {
   "cell_type": "markdown",
   "metadata": {},
   "source": [
    "#### 3.1 Domyślna metoda bazuje na metodzie z <a href=\"http://www.hpl.hp.com/hpjournal/pdfs/IssuePDFs/1979-12.pdf\"> kalkulatorów HP-34</a> , używa metody siecznych\n",
    "oraz metody bazującej na przedziale wg artykułu:\n",
    "\n",
    "<a href=\"http://na.math.kit.edu/alefeld/download/1995_Algorithm_748_Enclosing_Zeros_of_Continuous_Functions.pdf\">G. E. Alefeld, F. A. Potra, and\n",
    "Y. Shi, \"Algorithm 748: enclosing zeros of continuous functions,\" ACM\n",
    "Trans. Math. Softw. 21, 327–344 (1995), DOI: 10.1145/210089.210111. </a>"
   ]
  },
  {
   "cell_type": "code",
   "execution_count": 14,
   "metadata": {},
   "outputs": [
    {
     "data": {
      "text/plain": [
       "Results of univariate zero finding:\n",
       "\n",
       "* Converged to: 0.7390851332151607\n",
       "* Algorithm: Secant(); finished with bracketing method AlefeldPotraShi()\n",
       "* iterations: 4\n",
       "* function evaluations ≈ 10\n",
       "* stopped as f(x_n) = 0\n",
       "* Note: Used bracketing method AlefeldPotraShi() on  [0.0,0.9999969722835389]\n",
       "\n",
       "Trace:\n",
       "x₁ = 6.0554544523933395e-06,\t fx₁ = 0.99999394452721335\n",
       "x₂ = 0,\t fx₂ = 1\n",
       "x₃ = 0.9999969722835389,\t fx₃ = -0.4596921186823234\n",
       "(a₃, b₃) = ( 0, 0.9999969722835389 )\n",
       "(a₄, b₄) = ( 1.1187488515059306e-154, 0.9999969722835389 )\n",
       "(a₅, b₅) = ( 0.73848198557107825, 0.73967384145392068 )\n",
       "(a₆, b₆) = ( 0.73848198557107825, 0.73908513321516067 )\n",
       "\n"
      ]
     },
     "metadata": {},
     "output_type": "display_data"
    },
    {
     "data": {
      "text/plain": [
       "0.7390851332151607"
      ]
     },
     "execution_count": 14,
     "metadata": {},
     "output_type": "execute_result"
    }
   ],
   "source": [
    "x = find_zero(f, 0,   verbose=true)"
   ]
  },
  {
   "cell_type": "markdown",
   "metadata": {},
   "source": [
    "Metody find_zero dla wyzszych rzędów to wariacje metody Newtona, które nie korzystaja z pochodnej, ale ja przyblizają.\n"
   ]
  },
  {
   "cell_type": "markdown",
   "metadata": {},
   "source": [
    "#### 3.2 Metoda siecznych"
   ]
  },
  {
   "cell_type": "code",
   "execution_count": 15,
   "metadata": {},
   "outputs": [
    {
     "data": {
      "text/plain": [
       "Results of univariate zero finding:\n",
       "\n",
       "* Converged to: 0.7390851332151607\n",
       "* Algorithm: Secant()\n",
       "* iterations: 7\n",
       "* function evaluations ≈ 9\n",
       "* stopped as f(x_n) = 0\n",
       "\n",
       "Trace:\n",
       "x₁ = 6.0554544523933395e-06,\t fx₁ = 0.99999394452721335\n",
       "x₂ = 0,\t fx₂ = 1\n",
       "x₃ = 0.9999969722835389,\t fx₃ = -0.4596921186823234\n",
       "x₄ = 0.68507389982090516,\t fx₄ = 0.089298390734211308\n",
       "x₅ = 0.73629905416077657,\t fx₅ = 0.0046599445167858633\n",
       "x₆ = 0.7391193608624661,\t fx₆ = -5.7284235187471388e-05\n",
       "x₇ = 0.73908511212853889,\t fx₇ = 3.5290823707789798e-08\n",
       "x₈ = 0.73908513321500136,\t fx₈ = 2.6656454821250009e-13\n",
       "x₉ = 0.73908513321516067,\t fx₉ = 0\n",
       "\n"
      ]
     },
     "metadata": {},
     "output_type": "display_data"
    },
    {
     "data": {
      "text/plain": [
       "0.7390851332151607"
      ]
     },
     "execution_count": 15,
     "metadata": {},
     "output_type": "execute_result"
    }
   ],
   "source": [
    "# wywołanie find_zero używając punktu startowego (a nie przedziału) \n",
    "# oraz opcji order=1   wykorzystuje metodę siecznych  \n",
    "x = find_zero(f, 0, Order1(),  verbose=true) "
   ]
  },
  {
   "cell_type": "code",
   "execution_count": 16,
   "metadata": {},
   "outputs": [
    {
     "data": {
      "text/plain": [
       "0.7390851332151607"
      ]
     },
     "execution_count": 16,
     "metadata": {},
     "output_type": "execute_result"
    }
   ],
   "source": [
    "# metoda siecznych może być wywołana bezpośrednio \n",
    "# implementacja taka sama jak find_zero(f, 0, Order1()), ale bez\n",
    "# narzutów frameworku oraz mniejsza ilość sprawdzanych warunków zbieżności - szybsza\n",
    "Roots.secant_method(f, 0)"
   ]
  },
  {
   "cell_type": "code",
   "execution_count": 19,
   "metadata": {},
   "outputs": [
    {
     "data": {
      "text/plain": [
       "0.7390851332151607"
      ]
     },
     "execution_count": 19,
     "metadata": {},
     "output_type": "execute_result"
    }
   ],
   "source": [
    "# mozemy podać przedział\n",
    "Roots.secant_method(f, (0,1))"
   ]
  },
  {
   "cell_type": "markdown",
   "metadata": {},
   "source": [
    "#### 3.3 Metoda Steffensena \n",
    "przybliża pochodną poprzez  (f(x + f(x)) - f(x))/f(x)  \n",
    "aby ja wywołać podajemy punkt startowy oraz order 2"
   ]
  },
  {
   "cell_type": "code",
   "execution_count": 20,
   "metadata": {},
   "outputs": [
    {
     "data": {
      "text/plain": [
       "Results of univariate zero finding:\n",
       "\n",
       "* Converged to: 0.7390851332151607\n",
       "* Algorithm: Order2()\n",
       "* iterations: 6\n",
       "* function evaluations ≈ 10\n",
       "* stopped as f(x_n) = 0\n",
       "\n",
       "Trace:\n",
       "x₁ = 6.0554544523933395e-06,\t fx₁ = 0.99999394452721335\n",
       "x₂ = 0,\t fx₂ = 1\n",
       "x₃ = 0.9999969722835389,\t fx₃ = -0.4596921186823234\n",
       "x₄ = 0.68507389982090516,\t fx₄ = 0.089298390734211308\n",
       "x₅ = 0.73629905416077657,\t fx₅ = 0.0046599445167858633\n",
       "x₆ = 0.7391193608624661,\t fx₆ = -5.7284235187471388e-05\n",
       "x₇ = 0.73908513304090806,\t fx₇ = 2.9163127468478933e-10\n",
       "x₈ = 0.73908513321516067,\t fx₈ = 0\n",
       "\n"
      ]
     },
     "metadata": {},
     "output_type": "display_data"
    },
    {
     "data": {
      "text/plain": [
       "0.7390851332151607"
      ]
     },
     "execution_count": 20,
     "metadata": {},
     "output_type": "execute_result"
    }
   ],
   "source": [
    "x = find_zero(f, 0, Order2(), verbose=true) "
   ]
  },
  {
   "cell_type": "code",
   "execution_count": 21,
   "metadata": {},
   "outputs": [
    {
     "data": {
      "text/plain": [
       "Results of univariate zero finding:\n",
       "\n",
       "* Converged to: 0.7390851332151607\n",
       "* Algorithm: Order8()\n",
       "* iterations: 5\n",
       "* function evaluations ≈ 10\n",
       "* stopped as f(x_n) = 0\n",
       "\n",
       "Trace:\n",
       "x₁ = 6.0554544523933395e-06,\t fx₁ = 0.99999394452721335\n",
       "x₂ = 0,\t fx₂ = 1\n",
       "x₃ = 0.9999969722835389,\t fx₃ = -0.4596921186823234\n",
       "x₄ = 0.68507389982090516,\t fx₄ = 0.089298390734211308\n",
       "x₅ = 0.73629905416077657,\t fx₅ = 0.0046599445167858633\n",
       "x₆ = 0.7391193608624661,\t fx₆ = -5.7284235187471388e-05\n",
       "x₇ = 0.73908513321516067,\t fx₇ = 0\n",
       "\n"
      ]
     },
     "metadata": {},
     "output_type": "display_data"
    },
    {
     "data": {
      "text/plain": [
       "0.7390851332151607"
      ]
     },
     "execution_count": 21,
     "metadata": {},
     "output_type": "execute_result"
    }
   ],
   "source": [
    "# mozliwe sa jeszcze rzędy 5, 8 i 16\n",
    "x = find_zero(f, 0, Order8(), verbose=true) "
   ]
  },
  {
   "cell_type": "markdown",
   "metadata": {},
   "source": [
    "Można użyć funkcji fzero do znajdowania nieciagłości"
   ]
  },
  {
   "cell_type": "code",
   "execution_count": 22,
   "metadata": {},
   "outputs": [
    {
     "data": {
      "image/svg+xml": [
       "<?xml version=\"1.0\" encoding=\"utf-8\"?>\n",
       "<svg xmlns=\"http://www.w3.org/2000/svg\" xmlns:xlink=\"http://www.w3.org/1999/xlink\" width=\"600\" height=\"400\" viewBox=\"0 0 2400 1600\">\n",
       "<defs>\n",
       "  <clipPath id=\"clip930\">\n",
       "    <rect x=\"0\" y=\"0\" width=\"2400\" height=\"1600\"/>\n",
       "  </clipPath>\n",
       "</defs>\n",
       "<path clip-path=\"url(#clip930)\" d=\"\n",
       "M0 1600 L2400 1600 L2400 0 L0 0  Z\n",
       "  \" fill=\"#ffffff\" fill-rule=\"evenodd\" fill-opacity=\"1\"/>\n",
       "<defs>\n",
       "  <clipPath id=\"clip931\">\n",
       "    <rect x=\"480\" y=\"0\" width=\"1681\" height=\"1600\"/>\n",
       "  </clipPath>\n",
       "</defs>\n",
       "<path clip-path=\"url(#clip930)\" d=\"\n",
       "M209.029 1486.45 L2352.76 1486.45 L2352.76 47.2441 L209.029 47.2441  Z\n",
       "  \" fill=\"#ffffff\" fill-rule=\"evenodd\" fill-opacity=\"1\"/>\n",
       "<defs>\n",
       "  <clipPath id=\"clip932\">\n",
       "    <rect x=\"209\" y=\"47\" width=\"2145\" height=\"1440\"/>\n",
       "  </clipPath>\n",
       "</defs>\n",
       "<polyline clip-path=\"url(#clip932)\" style=\"stroke:#000000; stroke-linecap:butt; stroke-linejoin:round; stroke-width:2; stroke-opacity:0.1; fill:none\" points=\"\n",
       "  471.938,1486.45 471.938,47.2441 \n",
       "  \"/>\n",
       "<polyline clip-path=\"url(#clip932)\" style=\"stroke:#000000; stroke-linecap:butt; stroke-linejoin:round; stroke-width:2; stroke-opacity:0.1; fill:none\" points=\"\n",
       "  876.415,1486.45 876.415,47.2441 \n",
       "  \"/>\n",
       "<polyline clip-path=\"url(#clip932)\" style=\"stroke:#000000; stroke-linecap:butt; stroke-linejoin:round; stroke-width:2; stroke-opacity:0.1; fill:none\" points=\"\n",
       "  1280.89,1486.45 1280.89,47.2441 \n",
       "  \"/>\n",
       "<polyline clip-path=\"url(#clip932)\" style=\"stroke:#000000; stroke-linecap:butt; stroke-linejoin:round; stroke-width:2; stroke-opacity:0.1; fill:none\" points=\"\n",
       "  1685.37,1486.45 1685.37,47.2441 \n",
       "  \"/>\n",
       "<polyline clip-path=\"url(#clip932)\" style=\"stroke:#000000; stroke-linecap:butt; stroke-linejoin:round; stroke-width:2; stroke-opacity:0.1; fill:none\" points=\"\n",
       "  2089.85,1486.45 2089.85,47.2441 \n",
       "  \"/>\n",
       "<polyline clip-path=\"url(#clip930)\" style=\"stroke:#000000; stroke-linecap:butt; stroke-linejoin:round; stroke-width:4; stroke-opacity:1; fill:none\" points=\"\n",
       "  209.029,1486.45 2352.76,1486.45 \n",
       "  \"/>\n",
       "<polyline clip-path=\"url(#clip930)\" style=\"stroke:#000000; stroke-linecap:butt; stroke-linejoin:round; stroke-width:4; stroke-opacity:1; fill:none\" points=\"\n",
       "  471.938,1486.45 471.938,1467.55 \n",
       "  \"/>\n",
       "<polyline clip-path=\"url(#clip930)\" style=\"stroke:#000000; stroke-linecap:butt; stroke-linejoin:round; stroke-width:4; stroke-opacity:1; fill:none\" points=\"\n",
       "  876.415,1486.45 876.415,1467.55 \n",
       "  \"/>\n",
       "<polyline clip-path=\"url(#clip930)\" style=\"stroke:#000000; stroke-linecap:butt; stroke-linejoin:round; stroke-width:4; stroke-opacity:1; fill:none\" points=\"\n",
       "  1280.89,1486.45 1280.89,1467.55 \n",
       "  \"/>\n",
       "<polyline clip-path=\"url(#clip930)\" style=\"stroke:#000000; stroke-linecap:butt; stroke-linejoin:round; stroke-width:4; stroke-opacity:1; fill:none\" points=\"\n",
       "  1685.37,1486.45 1685.37,1467.55 \n",
       "  \"/>\n",
       "<polyline clip-path=\"url(#clip930)\" style=\"stroke:#000000; stroke-linecap:butt; stroke-linejoin:round; stroke-width:4; stroke-opacity:1; fill:none\" points=\"\n",
       "  2089.85,1486.45 2089.85,1467.55 \n",
       "  \"/>\n",
       "<path clip-path=\"url(#clip930)\" d=\"M440.839 1532.02 L470.515 1532.02 L470.515 1535.95 L440.839 1535.95 L440.839 1532.02 Z\" fill=\"#000000\" fill-rule=\"evenodd\" fill-opacity=\"1\" /><path clip-path=\"url(#clip930)\" d=\"M493.455 1518.36 L481.649 1536.81 L493.455 1536.81 L493.455 1518.36 M492.228 1514.29 L498.107 1514.29 L498.107 1536.81 L503.038 1536.81 L503.038 1540.7 L498.107 1540.7 L498.107 1548.85 L493.455 1548.85 L493.455 1540.7 L477.853 1540.7 L477.853 1536.19 L492.228 1514.29 Z\" fill=\"#000000\" fill-rule=\"evenodd\" fill-opacity=\"1\" /><path clip-path=\"url(#clip930)\" d=\"M846.358 1532.02 L876.033 1532.02 L876.033 1535.95 L846.358 1535.95 L846.358 1532.02 Z\" fill=\"#000000\" fill-rule=\"evenodd\" fill-opacity=\"1\" /><path clip-path=\"url(#clip930)\" d=\"M890.154 1544.91 L906.473 1544.91 L906.473 1548.85 L884.529 1548.85 L884.529 1544.91 Q887.191 1542.16 891.774 1537.53 Q896.381 1532.88 897.561 1531.53 Q899.806 1529.01 900.686 1527.27 Q901.589 1525.51 901.589 1523.82 Q901.589 1521.07 899.644 1519.33 Q897.723 1517.6 894.621 1517.6 Q892.422 1517.6 889.969 1518.36 Q887.538 1519.13 884.76 1520.68 L884.76 1515.95 Q887.584 1514.82 890.038 1514.24 Q892.492 1513.66 894.529 1513.66 Q899.899 1513.66 903.093 1516.35 Q906.288 1519.03 906.288 1523.52 Q906.288 1525.65 905.478 1527.57 Q904.691 1529.47 902.584 1532.07 Q902.005 1532.74 898.904 1535.95 Q895.802 1539.15 890.154 1544.91 Z\" fill=\"#000000\" fill-rule=\"evenodd\" fill-opacity=\"1\" /><path clip-path=\"url(#clip930)\" d=\"M1280.89 1517.37 Q1277.28 1517.37 1275.45 1520.93 Q1273.65 1524.47 1273.65 1531.6 Q1273.65 1538.71 1275.45 1542.27 Q1277.28 1545.82 1280.89 1545.82 Q1284.53 1545.82 1286.33 1542.27 Q1288.16 1538.71 1288.16 1531.6 Q1288.16 1524.47 1286.33 1520.93 Q1284.53 1517.37 1280.89 1517.37 M1280.89 1513.66 Q1286.7 1513.66 1289.76 1518.27 Q1292.84 1522.85 1292.84 1531.6 Q1292.84 1540.33 1289.76 1544.94 Q1286.7 1549.52 1280.89 1549.52 Q1275.08 1549.52 1272 1544.94 Q1268.95 1540.33 1268.95 1531.6 Q1268.95 1522.85 1272 1518.27 Q1275.08 1513.66 1280.89 1513.66 Z\" fill=\"#000000\" fill-rule=\"evenodd\" fill-opacity=\"1\" /><path clip-path=\"url(#clip930)\" d=\"M1680.02 1544.91 L1696.34 1544.91 L1696.34 1548.85 L1674.4 1548.85 L1674.4 1544.91 Q1677.06 1542.16 1681.64 1537.53 Q1686.25 1532.88 1687.43 1531.53 Q1689.67 1529.01 1690.55 1527.27 Q1691.46 1525.51 1691.46 1523.82 Q1691.46 1521.07 1689.51 1519.33 Q1687.59 1517.6 1684.49 1517.6 Q1682.29 1517.6 1679.84 1518.36 Q1677.41 1519.13 1674.63 1520.68 L1674.63 1515.95 Q1677.45 1514.82 1679.91 1514.24 Q1682.36 1513.66 1684.4 1513.66 Q1689.77 1513.66 1692.96 1516.35 Q1696.16 1519.03 1696.16 1523.52 Q1696.16 1525.65 1695.35 1527.57 Q1694.56 1529.47 1692.45 1532.07 Q1691.87 1532.74 1688.77 1535.95 Q1685.67 1539.15 1680.02 1544.91 Z\" fill=\"#000000\" fill-rule=\"evenodd\" fill-opacity=\"1\" /><path clip-path=\"url(#clip930)\" d=\"M2092.86 1518.36 L2081.05 1536.81 L2092.86 1536.81 L2092.86 1518.36 M2091.63 1514.29 L2097.51 1514.29 L2097.51 1536.81 L2102.44 1536.81 L2102.44 1540.7 L2097.51 1540.7 L2097.51 1548.85 L2092.86 1548.85 L2092.86 1540.7 L2077.25 1540.7 L2077.25 1536.19 L2091.63 1514.29 Z\" fill=\"#000000\" fill-rule=\"evenodd\" fill-opacity=\"1\" /><polyline clip-path=\"url(#clip932)\" style=\"stroke:#000000; stroke-linecap:butt; stroke-linejoin:round; stroke-width:2; stroke-opacity:0.1; fill:none\" points=\"\n",
       "  209.029,1299.37 2352.76,1299.37 \n",
       "  \"/>\n",
       "<polyline clip-path=\"url(#clip932)\" style=\"stroke:#000000; stroke-linecap:butt; stroke-linejoin:round; stroke-width:2; stroke-opacity:0.1; fill:none\" points=\"\n",
       "  209.029,1042.38 2352.76,1042.38 \n",
       "  \"/>\n",
       "<polyline clip-path=\"url(#clip932)\" style=\"stroke:#000000; stroke-linecap:butt; stroke-linejoin:round; stroke-width:2; stroke-opacity:0.1; fill:none\" points=\"\n",
       "  209.029,785.385 2352.76,785.385 \n",
       "  \"/>\n",
       "<polyline clip-path=\"url(#clip932)\" style=\"stroke:#000000; stroke-linecap:butt; stroke-linejoin:round; stroke-width:2; stroke-opacity:0.1; fill:none\" points=\"\n",
       "  209.029,528.391 2352.76,528.391 \n",
       "  \"/>\n",
       "<polyline clip-path=\"url(#clip932)\" style=\"stroke:#000000; stroke-linecap:butt; stroke-linejoin:round; stroke-width:2; stroke-opacity:0.1; fill:none\" points=\"\n",
       "  209.029,271.397 2352.76,271.397 \n",
       "  \"/>\n",
       "<polyline clip-path=\"url(#clip930)\" style=\"stroke:#000000; stroke-linecap:butt; stroke-linejoin:round; stroke-width:4; stroke-opacity:1; fill:none\" points=\"\n",
       "  209.029,1486.45 209.029,47.2441 \n",
       "  \"/>\n",
       "<polyline clip-path=\"url(#clip930)\" style=\"stroke:#000000; stroke-linecap:butt; stroke-linejoin:round; stroke-width:4; stroke-opacity:1; fill:none\" points=\"\n",
       "  209.029,1299.37 227.926,1299.37 \n",
       "  \"/>\n",
       "<polyline clip-path=\"url(#clip930)\" style=\"stroke:#000000; stroke-linecap:butt; stroke-linejoin:round; stroke-width:4; stroke-opacity:1; fill:none\" points=\"\n",
       "  209.029,1042.38 227.926,1042.38 \n",
       "  \"/>\n",
       "<polyline clip-path=\"url(#clip930)\" style=\"stroke:#000000; stroke-linecap:butt; stroke-linejoin:round; stroke-width:4; stroke-opacity:1; fill:none\" points=\"\n",
       "  209.029,785.385 227.926,785.385 \n",
       "  \"/>\n",
       "<polyline clip-path=\"url(#clip930)\" style=\"stroke:#000000; stroke-linecap:butt; stroke-linejoin:round; stroke-width:4; stroke-opacity:1; fill:none\" points=\"\n",
       "  209.029,528.391 227.926,528.391 \n",
       "  \"/>\n",
       "<polyline clip-path=\"url(#clip930)\" style=\"stroke:#000000; stroke-linecap:butt; stroke-linejoin:round; stroke-width:4; stroke-opacity:1; fill:none\" points=\"\n",
       "  209.029,271.397 227.926,271.397 \n",
       "  \"/>\n",
       "<path clip-path=\"url(#clip930)\" d=\"M50.9921 1299.83 L80.6679 1299.83 L80.6679 1303.76 L50.9921 1303.76 L50.9921 1299.83 Z\" fill=\"#000000\" fill-rule=\"evenodd\" fill-opacity=\"1\" /><path clip-path=\"url(#clip930)\" d=\"M103.608 1286.17 L91.8021 1304.62 L103.608 1304.62 L103.608 1286.17 M102.381 1282.09 L108.26 1282.09 L108.26 1304.62 L113.191 1304.62 L113.191 1308.51 L108.26 1308.51 L108.26 1316.65 L103.608 1316.65 L103.608 1308.51 L88.0058 1308.51 L88.0058 1303.99 L102.381 1282.09 Z\" fill=\"#000000\" fill-rule=\"evenodd\" fill-opacity=\"1\" /><path clip-path=\"url(#clip930)\" d=\"M130.922 1285.17 Q127.311 1285.17 125.482 1288.74 Q123.677 1292.28 123.677 1299.41 Q123.677 1306.52 125.482 1310.08 Q127.311 1313.62 130.922 1313.62 Q134.556 1313.62 136.362 1310.08 Q138.191 1306.52 138.191 1299.41 Q138.191 1292.28 136.362 1288.74 Q134.556 1285.17 130.922 1285.17 M130.922 1281.47 Q136.732 1281.47 139.788 1286.08 Q142.867 1290.66 142.867 1299.41 Q142.867 1308.14 139.788 1312.74 Q136.732 1317.33 130.922 1317.33 Q125.112 1317.33 122.033 1312.74 Q118.978 1308.14 118.978 1299.41 Q118.978 1290.66 122.033 1286.08 Q125.112 1281.47 130.922 1281.47 Z\" fill=\"#000000\" fill-rule=\"evenodd\" fill-opacity=\"1\" /><path clip-path=\"url(#clip930)\" d=\"M161.084 1285.17 Q157.473 1285.17 155.644 1288.74 Q153.839 1292.28 153.839 1299.41 Q153.839 1306.52 155.644 1310.08 Q157.473 1313.62 161.084 1313.62 Q164.718 1313.62 166.524 1310.08 Q168.353 1306.52 168.353 1299.41 Q168.353 1292.28 166.524 1288.74 Q164.718 1285.17 161.084 1285.17 M161.084 1281.47 Q166.894 1281.47 169.95 1286.08 Q173.029 1290.66 173.029 1299.41 Q173.029 1308.14 169.95 1312.74 Q166.894 1317.33 161.084 1317.33 Q155.274 1317.33 152.195 1312.74 Q149.14 1308.14 149.14 1299.41 Q149.14 1290.66 152.195 1286.08 Q155.274 1281.47 161.084 1281.47 Z\" fill=\"#000000\" fill-rule=\"evenodd\" fill-opacity=\"1\" /><path clip-path=\"url(#clip930)\" d=\"M50.9921 1042.83 L80.6679 1042.83 L80.6679 1046.77 L50.9921 1046.77 L50.9921 1042.83 Z\" fill=\"#000000\" fill-rule=\"evenodd\" fill-opacity=\"1\" /><path clip-path=\"url(#clip930)\" d=\"M94.7882 1055.72 L111.108 1055.72 L111.108 1059.66 L89.1632 1059.66 L89.1632 1055.72 Q91.8252 1052.97 96.4085 1048.34 Q101.015 1043.69 102.196 1042.35 Q104.441 1039.82 105.321 1038.09 Q106.223 1036.33 106.223 1034.64 Q106.223 1031.88 104.279 1030.15 Q102.358 1028.41 99.2558 1028.41 Q97.0567 1028.41 94.603 1029.17 Q92.1725 1029.94 89.3947 1031.49 L89.3947 1026.77 Q92.2188 1025.63 94.6724 1025.05 Q97.1261 1024.47 99.1632 1024.47 Q104.534 1024.47 107.728 1027.16 Q110.922 1029.85 110.922 1034.34 Q110.922 1036.47 110.112 1038.39 Q109.325 1040.28 107.219 1042.88 Q106.64 1043.55 103.538 1046.77 Q100.436 1049.96 94.7882 1055.72 Z\" fill=\"#000000\" fill-rule=\"evenodd\" fill-opacity=\"1\" /><path clip-path=\"url(#clip930)\" d=\"M130.922 1028.18 Q127.311 1028.18 125.482 1031.74 Q123.677 1035.28 123.677 1042.41 Q123.677 1049.52 125.482 1053.09 Q127.311 1056.63 130.922 1056.63 Q134.556 1056.63 136.362 1053.09 Q138.191 1049.52 138.191 1042.41 Q138.191 1035.28 136.362 1031.74 Q134.556 1028.18 130.922 1028.18 M130.922 1024.47 Q136.732 1024.47 139.788 1029.08 Q142.867 1033.66 142.867 1042.41 Q142.867 1051.14 139.788 1055.75 Q136.732 1060.33 130.922 1060.33 Q125.112 1060.33 122.033 1055.75 Q118.978 1051.14 118.978 1042.41 Q118.978 1033.66 122.033 1029.08 Q125.112 1024.47 130.922 1024.47 Z\" fill=\"#000000\" fill-rule=\"evenodd\" fill-opacity=\"1\" /><path clip-path=\"url(#clip930)\" d=\"M161.084 1028.18 Q157.473 1028.18 155.644 1031.74 Q153.839 1035.28 153.839 1042.41 Q153.839 1049.52 155.644 1053.09 Q157.473 1056.63 161.084 1056.63 Q164.718 1056.63 166.524 1053.09 Q168.353 1049.52 168.353 1042.41 Q168.353 1035.28 166.524 1031.74 Q164.718 1028.18 161.084 1028.18 M161.084 1024.47 Q166.894 1024.47 169.95 1029.08 Q173.029 1033.66 173.029 1042.41 Q173.029 1051.14 169.95 1055.75 Q166.894 1060.33 161.084 1060.33 Q155.274 1060.33 152.195 1055.75 Q149.14 1051.14 149.14 1042.41 Q149.14 1033.66 152.195 1029.08 Q155.274 1024.47 161.084 1024.47 Z\" fill=\"#000000\" fill-rule=\"evenodd\" fill-opacity=\"1\" /><path clip-path=\"url(#clip930)\" d=\"M161.084 771.184 Q157.473 771.184 155.644 774.749 Q153.839 778.291 153.839 785.42 Q153.839 792.527 155.644 796.091 Q157.473 799.633 161.084 799.633 Q164.718 799.633 166.524 796.091 Q168.353 792.527 168.353 785.42 Q168.353 778.291 166.524 774.749 Q164.718 771.184 161.084 771.184 M161.084 767.48 Q166.894 767.48 169.95 772.087 Q173.029 776.67 173.029 785.42 Q173.029 794.147 169.95 798.753 Q166.894 803.337 161.084 803.337 Q155.274 803.337 152.195 798.753 Q149.14 794.147 149.14 785.42 Q149.14 776.67 152.195 772.087 Q155.274 767.48 161.084 767.48 Z\" fill=\"#000000\" fill-rule=\"evenodd\" fill-opacity=\"1\" /><path clip-path=\"url(#clip930)\" d=\"M94.7882 541.736 L111.108 541.736 L111.108 545.671 L89.1632 545.671 L89.1632 541.736 Q91.8252 538.981 96.4085 534.352 Q101.015 529.699 102.196 528.356 Q104.441 525.833 105.321 524.097 Q106.223 522.338 106.223 520.648 Q106.223 517.893 104.279 516.157 Q102.358 514.421 99.2558 514.421 Q97.0567 514.421 94.603 515.185 Q92.1725 515.949 89.3947 517.5 L89.3947 512.778 Q92.2188 511.643 94.6724 511.065 Q97.1261 510.486 99.1632 510.486 Q104.534 510.486 107.728 513.171 Q110.922 515.856 110.922 520.347 Q110.922 522.477 110.112 524.398 Q109.325 526.296 107.219 528.889 Q106.64 529.56 103.538 532.778 Q100.436 535.972 94.7882 541.736 Z\" fill=\"#000000\" fill-rule=\"evenodd\" fill-opacity=\"1\" /><path clip-path=\"url(#clip930)\" d=\"M130.922 514.19 Q127.311 514.19 125.482 517.755 Q123.677 521.296 123.677 528.426 Q123.677 535.532 125.482 539.097 Q127.311 542.639 130.922 542.639 Q134.556 542.639 136.362 539.097 Q138.191 535.532 138.191 528.426 Q138.191 521.296 136.362 517.755 Q134.556 514.19 130.922 514.19 M130.922 510.486 Q136.732 510.486 139.788 515.093 Q142.867 519.676 142.867 528.426 Q142.867 537.153 139.788 541.759 Q136.732 546.342 130.922 546.342 Q125.112 546.342 122.033 541.759 Q118.978 537.153 118.978 528.426 Q118.978 519.676 122.033 515.093 Q125.112 510.486 130.922 510.486 Z\" fill=\"#000000\" fill-rule=\"evenodd\" fill-opacity=\"1\" /><path clip-path=\"url(#clip930)\" d=\"M161.084 514.19 Q157.473 514.19 155.644 517.755 Q153.839 521.296 153.839 528.426 Q153.839 535.532 155.644 539.097 Q157.473 542.639 161.084 542.639 Q164.718 542.639 166.524 539.097 Q168.353 535.532 168.353 528.426 Q168.353 521.296 166.524 517.755 Q164.718 514.19 161.084 514.19 M161.084 510.486 Q166.894 510.486 169.95 515.093 Q173.029 519.676 173.029 528.426 Q173.029 537.153 169.95 541.759 Q166.894 546.342 161.084 546.342 Q155.274 546.342 152.195 541.759 Q149.14 537.153 149.14 528.426 Q149.14 519.676 152.195 515.093 Q155.274 510.486 161.084 510.486 Z\" fill=\"#000000\" fill-rule=\"evenodd\" fill-opacity=\"1\" /><path clip-path=\"url(#clip930)\" d=\"M103.608 258.191 L91.8021 276.64 L103.608 276.64 L103.608 258.191 M102.381 254.117 L108.26 254.117 L108.26 276.64 L113.191 276.64 L113.191 280.529 L108.26 280.529 L108.26 288.677 L103.608 288.677 L103.608 280.529 L88.0058 280.529 L88.0058 276.015 L102.381 254.117 Z\" fill=\"#000000\" fill-rule=\"evenodd\" fill-opacity=\"1\" /><path clip-path=\"url(#clip930)\" d=\"M130.922 257.195 Q127.311 257.195 125.482 260.76 Q123.677 264.302 123.677 271.431 Q123.677 278.538 125.482 282.103 Q127.311 285.644 130.922 285.644 Q134.556 285.644 136.362 282.103 Q138.191 278.538 138.191 271.431 Q138.191 264.302 136.362 260.76 Q134.556 257.195 130.922 257.195 M130.922 253.492 Q136.732 253.492 139.788 258.098 Q142.867 262.681 142.867 271.431 Q142.867 280.158 139.788 284.765 Q136.732 289.348 130.922 289.348 Q125.112 289.348 122.033 284.765 Q118.978 280.158 118.978 271.431 Q118.978 262.681 122.033 258.098 Q125.112 253.492 130.922 253.492 Z\" fill=\"#000000\" fill-rule=\"evenodd\" fill-opacity=\"1\" /><path clip-path=\"url(#clip930)\" d=\"M161.084 257.195 Q157.473 257.195 155.644 260.76 Q153.839 264.302 153.839 271.431 Q153.839 278.538 155.644 282.103 Q157.473 285.644 161.084 285.644 Q164.718 285.644 166.524 282.103 Q168.353 278.538 168.353 271.431 Q168.353 264.302 166.524 260.76 Q164.718 257.195 161.084 257.195 M161.084 253.492 Q166.894 253.492 169.95 258.098 Q173.029 262.681 173.029 271.431 Q173.029 280.158 169.95 284.765 Q166.894 289.348 161.084 289.348 Q155.274 289.348 152.195 284.765 Q149.14 280.158 149.14 271.431 Q149.14 262.681 152.195 258.098 Q155.274 253.492 161.084 253.492 Z\" fill=\"#000000\" fill-rule=\"evenodd\" fill-opacity=\"1\" /><polyline clip-path=\"url(#clip932)\" style=\"stroke:#009af9; stroke-linecap:butt; stroke-linejoin:round; stroke-width:4; stroke-opacity:1; fill:none\" points=\"\n",
       "  269.7,785.642 289.45,785.648 472.07,785.707 581.816,785.757 674.606,785.814 775.401,785.9 868.326,786.015 967.95,786.216 1083.38,786.701 1109.02,786.897 \n",
       "  1134.66,787.163 1160.31,787.541 1185.95,788.123 1197.2,788.49 1208.44,788.972 1219.68,789.631 1230.93,790.586 1236.55,791.246 1242.17,792.097 1247.79,793.237 \n",
       "  1253.41,794.843 1259.04,797.275 1264.66,801.393 1267.47,804.745 1270.28,809.873 1271.69,813.611 1273.09,818.696 1274.5,826.015 1275.9,837.458 1276.67,846.902 \n",
       "  1277.43,860.531 1278.2,881.918 1278.97,920.321 1279.73,1009.47 1280.5,1445.72 1281.26,87.9763 1282.03,557.187 1282.8,648.968 1283.56,688.097 1284.33,709.782 \n",
       "  1285.1,723.563 1286.63,740.079 1288.16,749.631 1289.69,755.856 1291.23,760.235 1292.76,763.483 1294.29,765.988 1297.35,769.599 1300.42,772.077 1306.55,775.256 \n",
       "  1312.68,777.21 1318.81,778.531 1324.94,779.485 1337.2,780.77 1349.45,781.595 1361.71,782.17 1373.97,782.593 1398.63,783.178 1423.3,783.561 1447.96,783.83 \n",
       "  1472.62,784.03 1581.7,784.521 1685.48,784.743 1793.38,784.878 1884.22,784.955 1995.12,785.022 2099.37,785.068 2266.38,785.122 2292.08,785.128 \n",
       "  \"/>\n",
       "<path clip-path=\"url(#clip930)\" d=\"\n",
       "M1988.87 198.898 L2281.3 198.898 L2281.3 95.2176 L1988.87 95.2176  Z\n",
       "  \" fill=\"#ffffff\" fill-rule=\"evenodd\" fill-opacity=\"1\"/>\n",
       "<polyline clip-path=\"url(#clip930)\" style=\"stroke:#000000; stroke-linecap:butt; stroke-linejoin:round; stroke-width:4; stroke-opacity:1; fill:none\" points=\"\n",
       "  1988.87,198.898 2281.3,198.898 2281.3,95.2176 1988.87,95.2176 1988.87,198.898 \n",
       "  \"/>\n",
       "<polyline clip-path=\"url(#clip930)\" style=\"stroke:#009af9; stroke-linecap:butt; stroke-linejoin:round; stroke-width:4; stroke-opacity:1; fill:none\" points=\"\n",
       "  2012.87,147.058 2156.87,147.058 \n",
       "  \"/>\n",
       "<path clip-path=\"url(#clip930)\" d=\"M2194.71 166.745 Q2192.91 171.375 2191.19 172.787 Q2189.48 174.199 2186.61 174.199 L2183.21 174.199 L2183.21 170.634 L2185.71 170.634 Q2187.47 170.634 2188.44 169.8 Q2189.41 168.967 2190.59 165.865 L2191.35 163.921 L2180.87 138.412 L2185.38 138.412 L2193.48 158.689 L2201.59 138.412 L2206.1 138.412 L2194.71 166.745 Z\" fill=\"#000000\" fill-rule=\"evenodd\" fill-opacity=\"1\" /><path clip-path=\"url(#clip930)\" d=\"M2213.39 160.402 L2221.03 160.402 L2221.03 134.037 L2212.72 135.703 L2212.72 131.444 L2220.98 129.778 L2225.66 129.778 L2225.66 160.402 L2233.3 160.402 L2233.3 164.338 L2213.39 164.338 L2213.39 160.402 Z\" fill=\"#000000\" fill-rule=\"evenodd\" fill-opacity=\"1\" /></svg>\n"
      ]
     },
     "execution_count": 22,
     "metadata": {},
     "output_type": "execute_result"
    }
   ],
   "source": [
    "plot(x -> 1/x)"
   ]
  },
  {
   "cell_type": "code",
   "execution_count": 23,
   "metadata": {},
   "outputs": [
    {
     "data": {
      "text/plain": [
       "Results of univariate zero finding:\n",
       "\n",
       "* Converged to: 0.0\n",
       "* Algorithm: Bisection()\n",
       "* iterations: 61\n",
       "* function evaluations ≈ 64\n",
       "* stopped as x_n ≈ x_{n-1} using atol=xatol, rtol=xrtol\n",
       "\n",
       "Trace:\n",
       "(a₀, b₀) = ( -1, 0 )\n",
       "(a₁, b₁) = ( -1.118751109680031e-154, 0 )\n",
       "(a₂, b₂) = ( -1.1272010346794983e-231, 0 )\n",
       "(a₃, b₃) = ( -3.5491565585003241e-270, 0 )\n",
       "(a₄, b₄) = ( -1.988135013128901e-289, 0 )\n",
       "(a₅, b₅) = ( -4.7036486372562232e-299, 0 )\n",
       "(a₆, b₆) = ( -7.2341601287786131e-304, 0 )\n",
       "(a₇, b₇) = ( -2.8369691695966818e-306, 0 )\n",
       "(a₈, b₈) = ( -1.7765824089018436e-307, 0 )\n",
       "(a₉, b₉) = ( -4.4458018696345059e-308, 0 )\n",
       "(a₁₀, b₁₀) = ( -2.2229009348172529e-308, 0 )\n",
       "(a₁₁, b₁₁) = ( -1.1114504674086265e-308, 0 )\n",
       "(a₁₂, b₁₂) = ( -5.5572523370431324e-309, 0 )\n",
       "(a₁₃, b₁₃) = ( -2.7786261685215662e-309, 0 )\n",
       "(a₁₄, b₁₄) = ( -1.3893130842607831e-309, 0 )\n",
       "(a₁₅, b₁₅) = ( -6.9465654213039155e-310, 0 )\n",
       "(a₁₆, b₁₆) = ( -3.4732827106519577e-310, 0 )\n",
       "(a₁₇, b₁₇) = ( -1.7366413553259789e-310, 0 )\n",
       "(a₁₈, b₁₈) = ( -8.6832067766298943e-311, 0 )\n",
       "(a₁₉, b₁₉) = ( -4.3416033883149472e-311, 0 )\n",
       "(a₂₀, b₂₀) = ( -2.1708016941574736e-311, 0 )\n",
       "(a₂₁, b₂₁) = ( -1.0854008470787368e-311, 0 )\n",
       "(a₂₂, b₂₂) = ( -5.4270042353936839e-312, 0 )\n",
       "(a₂₃, b₂₃) = ( -2.713502117696842e-312, 0 )\n",
       "(a₂₄, b₂₄) = ( -1.356751058848421e-312, 0 )\n",
       "(a₂₅, b₂₅) = ( -6.7837552942421049e-313, 0 )\n",
       "(a₂₆, b₂₆) = ( -3.3918776471210525e-313, 0 )\n",
       "(a₂₇, b₂₇) = ( -1.6959388235605262e-313, 0 )\n",
       "(a₂₈, b₂₈) = ( -8.4796941178026312e-314, 0 )\n",
       "(a₂₉, b₂₉) = ( -4.2398470589013156e-314, 0 )\n",
       "(a₃₀, b₃₀) = ( -2.1199235294506578e-314, 0 )\n",
       "(a₃₁, b₃₁) = ( -1.0599617647253289e-314, 0 )\n",
       "(a₃₂, b₃₂) = ( -5.2998088236266445e-315, 0 )\n",
       "(a₃₃, b₃₃) = ( -2.6499044118133222e-315, 0 )\n",
       "(a₃₄, b₃₄) = ( -1.3249522059066611e-315, 0 )\n",
       "(a₃₅, b₃₅) = ( -6.6247610295333056e-316, 0 )\n",
       "(a₃₆, b₃₆) = ( -3.3123805147666528e-316, 0 )\n",
       "(a₃₇, b₃₇) = ( -1.6561902573833264e-316, 0 )\n",
       "(a₃₈, b₃₈) = ( -8.280951286916632e-317, 0 )\n",
       "(a₃₉, b₃₉) = ( -4.140475643458316e-317, 0 )\n",
       "(a₄₀, b₄₀) = ( -2.070237821729158e-317, 0 )\n",
       "(a₄₁, b₄₁) = ( -1.035118910864579e-317, 0 )\n",
       "(a₄₂, b₄₂) = ( -5.175594554322895e-318, 0 )\n",
       "(a₄₃, b₄₃) = ( -2.5877972771614475e-318, 0 )\n",
       "(a₄₄, b₄₄) = ( -1.2938986385807237e-318, 0 )\n",
       "(a₄₅, b₄₅) = ( -6.4694931929036187e-319, 0 )\n",
       "(a₄₆, b₄₆) = ( -3.2347465964518094e-319, 0 )\n",
       "(a₄₇, b₄₇) = ( -1.6173732982259047e-319, 0 )\n",
       "(a₄₈, b₄₈) = ( -8.0868664911295234e-320, 0 )\n",
       "(a₄₉, b₄₉) = ( -4.0434332455647617e-320, 0 )\n",
       "(a₅₀, b₅₀) = ( -2.0217166227823809e-320, 0 )\n",
       "(a₅₁, b₅₁) = ( -1.0108583113911904e-320, 0 )\n",
       "(a₅₂, b₅₂) = ( -5.0542915569559521e-321, 0 )\n",
       "(a₅₃, b₅₃) = ( -2.5246754502487698e-321, 0 )\n",
       "(a₅₄, b₅₄) = ( -1.2598673968951787e-321, 0 )\n",
       "(a₅₅, b₅₅) = ( -6.2746337021838311e-322, 0 )\n",
       "(a₅₆, b₅₆) = ( -3.1126135687998532e-322, 0 )\n",
       "(a₅₇, b₅₇) = ( -1.5316035021078643e-322, 0 )\n",
       "(a₅₈, b₅₈) = ( -7.4109846876186982e-323, 0 )\n",
       "(a₅₉, b₅₉) = ( -3.4584595208887258e-323, 0 )\n",
       "(a₆₀, b₆₀) = ( -1.4821969375237396e-323, 0 )\n",
       "(a₆₁, b₆₁) = ( -4.9406564584124654e-324, 0 )\n",
       "\n"
      ]
     },
     "metadata": {},
     "output_type": "display_data"
    },
    {
     "data": {
      "text/plain": [
       "0.0"
      ]
     },
     "execution_count": 23,
     "metadata": {},
     "output_type": "execute_result"
    }
   ],
   "source": [
    "find_zero(x -> 1/x, (-1, 1), verbose=true)"
   ]
  },
  {
   "cell_type": "markdown",
   "metadata": {},
   "source": [
    "find_zeros - szukanie więcej niż jednego pierwiastka. Wykorzystuje podział przedziału na mniejsze podprzedziały"
   ]
  },
  {
   "cell_type": "code",
   "execution_count": 24,
   "metadata": {},
   "outputs": [
    {
     "data": {
      "text/plain": [
       "2-element Vector{Float64}:\n",
       " 0.0\n",
       " 3.0"
      ]
     },
     "execution_count": 24,
     "metadata": {},
     "output_type": "execute_result"
    }
   ],
   "source": [
    "find_zeros(x ->(x-3)*x, -10, 10)"
   ]
  },
  {
   "cell_type": "code",
   "execution_count": 25,
   "metadata": {
    "scrolled": true
   },
   "outputs": [
    {
     "data": {
      "image/svg+xml": [
       "<?xml version=\"1.0\" encoding=\"utf-8\"?>\n",
       "<svg xmlns=\"http://www.w3.org/2000/svg\" xmlns:xlink=\"http://www.w3.org/1999/xlink\" width=\"600\" height=\"400\" viewBox=\"0 0 2400 1600\">\n",
       "<defs>\n",
       "  <clipPath id=\"clip970\">\n",
       "    <rect x=\"0\" y=\"0\" width=\"2400\" height=\"1600\"/>\n",
       "  </clipPath>\n",
       "</defs>\n",
       "<path clip-path=\"url(#clip970)\" d=\"\n",
       "M0 1600 L2400 1600 L2400 0 L0 0  Z\n",
       "  \" fill=\"#ffffff\" fill-rule=\"evenodd\" fill-opacity=\"1\"/>\n",
       "<defs>\n",
       "  <clipPath id=\"clip971\">\n",
       "    <rect x=\"480\" y=\"0\" width=\"1681\" height=\"1600\"/>\n",
       "  </clipPath>\n",
       "</defs>\n",
       "<path clip-path=\"url(#clip970)\" d=\"\n",
       "M147.478 1486.45 L2352.76 1486.45 L2352.76 47.2441 L147.478 47.2441  Z\n",
       "  \" fill=\"#ffffff\" fill-rule=\"evenodd\" fill-opacity=\"1\"/>\n",
       "<defs>\n",
       "  <clipPath id=\"clip972\">\n",
       "    <rect x=\"147\" y=\"47\" width=\"2206\" height=\"1440\"/>\n",
       "  </clipPath>\n",
       "</defs>\n",
       "<polyline clip-path=\"url(#clip972)\" style=\"stroke:#000000; stroke-linecap:butt; stroke-linejoin:round; stroke-width:2; stroke-opacity:0.1; fill:none\" points=\"\n",
       "  209.891,1486.45 209.891,47.2441 \n",
       "  \"/>\n",
       "<polyline clip-path=\"url(#clip972)\" style=\"stroke:#000000; stroke-linecap:butt; stroke-linejoin:round; stroke-width:2; stroke-opacity:0.1; fill:none\" points=\"\n",
       "  625.982,1486.45 625.982,47.2441 \n",
       "  \"/>\n",
       "<polyline clip-path=\"url(#clip972)\" style=\"stroke:#000000; stroke-linecap:butt; stroke-linejoin:round; stroke-width:2; stroke-opacity:0.1; fill:none\" points=\"\n",
       "  1042.07,1486.45 1042.07,47.2441 \n",
       "  \"/>\n",
       "<polyline clip-path=\"url(#clip972)\" style=\"stroke:#000000; stroke-linecap:butt; stroke-linejoin:round; stroke-width:2; stroke-opacity:0.1; fill:none\" points=\"\n",
       "  1458.16,1486.45 1458.16,47.2441 \n",
       "  \"/>\n",
       "<polyline clip-path=\"url(#clip972)\" style=\"stroke:#000000; stroke-linecap:butt; stroke-linejoin:round; stroke-width:2; stroke-opacity:0.1; fill:none\" points=\"\n",
       "  1874.25,1486.45 1874.25,47.2441 \n",
       "  \"/>\n",
       "<polyline clip-path=\"url(#clip972)\" style=\"stroke:#000000; stroke-linecap:butt; stroke-linejoin:round; stroke-width:2; stroke-opacity:0.1; fill:none\" points=\"\n",
       "  2290.34,1486.45 2290.34,47.2441 \n",
       "  \"/>\n",
       "<polyline clip-path=\"url(#clip970)\" style=\"stroke:#000000; stroke-linecap:butt; stroke-linejoin:round; stroke-width:4; stroke-opacity:1; fill:none\" points=\"\n",
       "  147.478,1486.45 2352.76,1486.45 \n",
       "  \"/>\n",
       "<polyline clip-path=\"url(#clip970)\" style=\"stroke:#000000; stroke-linecap:butt; stroke-linejoin:round; stroke-width:4; stroke-opacity:1; fill:none\" points=\"\n",
       "  209.891,1486.45 209.891,1467.55 \n",
       "  \"/>\n",
       "<polyline clip-path=\"url(#clip970)\" style=\"stroke:#000000; stroke-linecap:butt; stroke-linejoin:round; stroke-width:4; stroke-opacity:1; fill:none\" points=\"\n",
       "  625.982,1486.45 625.982,1467.55 \n",
       "  \"/>\n",
       "<polyline clip-path=\"url(#clip970)\" style=\"stroke:#000000; stroke-linecap:butt; stroke-linejoin:round; stroke-width:4; stroke-opacity:1; fill:none\" points=\"\n",
       "  1042.07,1486.45 1042.07,1467.55 \n",
       "  \"/>\n",
       "<polyline clip-path=\"url(#clip970)\" style=\"stroke:#000000; stroke-linecap:butt; stroke-linejoin:round; stroke-width:4; stroke-opacity:1; fill:none\" points=\"\n",
       "  1458.16,1486.45 1458.16,1467.55 \n",
       "  \"/>\n",
       "<polyline clip-path=\"url(#clip970)\" style=\"stroke:#000000; stroke-linecap:butt; stroke-linejoin:round; stroke-width:4; stroke-opacity:1; fill:none\" points=\"\n",
       "  1874.25,1486.45 1874.25,1467.55 \n",
       "  \"/>\n",
       "<polyline clip-path=\"url(#clip970)\" style=\"stroke:#000000; stroke-linecap:butt; stroke-linejoin:round; stroke-width:4; stroke-opacity:1; fill:none\" points=\"\n",
       "  2290.34,1486.45 2290.34,1467.55 \n",
       "  \"/>\n",
       "<path clip-path=\"url(#clip970)\" d=\"M179.649 1532.02 L209.324 1532.02 L209.324 1535.95 L179.649 1535.95 L179.649 1532.02 Z\" fill=\"#000000\" fill-rule=\"evenodd\" fill-opacity=\"1\" /><path clip-path=\"url(#clip970)\" d=\"M220.227 1544.91 L227.866 1544.91 L227.866 1518.55 L219.556 1520.21 L219.556 1515.95 L227.82 1514.29 L232.495 1514.29 L232.495 1544.91 L240.134 1544.91 L240.134 1548.85 L220.227 1548.85 L220.227 1544.91 Z\" fill=\"#000000\" fill-rule=\"evenodd\" fill-opacity=\"1\" /><path clip-path=\"url(#clip970)\" d=\"M625.982 1517.37 Q622.371 1517.37 620.542 1520.93 Q618.736 1524.47 618.736 1531.6 Q618.736 1538.71 620.542 1542.27 Q622.371 1545.82 625.982 1545.82 Q629.616 1545.82 631.421 1542.27 Q633.25 1538.71 633.25 1531.6 Q633.25 1524.47 631.421 1520.93 Q629.616 1517.37 625.982 1517.37 M625.982 1513.66 Q631.792 1513.66 634.847 1518.27 Q637.926 1522.85 637.926 1531.6 Q637.926 1540.33 634.847 1544.94 Q631.792 1549.52 625.982 1549.52 Q620.171 1549.52 617.093 1544.94 Q614.037 1540.33 614.037 1531.6 Q614.037 1522.85 617.093 1518.27 Q620.171 1513.66 625.982 1513.66 Z\" fill=\"#000000\" fill-rule=\"evenodd\" fill-opacity=\"1\" /><path clip-path=\"url(#clip970)\" d=\"M1032.45 1544.91 L1040.09 1544.91 L1040.09 1518.55 L1031.78 1520.21 L1031.78 1515.95 L1040.05 1514.29 L1044.72 1514.29 L1044.72 1544.91 L1052.36 1544.91 L1052.36 1548.85 L1032.45 1548.85 L1032.45 1544.91 Z\" fill=\"#000000\" fill-rule=\"evenodd\" fill-opacity=\"1\" /><path clip-path=\"url(#clip970)\" d=\"M1452.81 1544.91 L1469.13 1544.91 L1469.13 1548.85 L1447.19 1548.85 L1447.19 1544.91 Q1449.85 1542.16 1454.44 1537.53 Q1459.04 1532.88 1460.22 1531.53 Q1462.47 1529.01 1463.35 1527.27 Q1464.25 1525.51 1464.25 1523.82 Q1464.25 1521.07 1462.31 1519.33 Q1460.38 1517.6 1457.28 1517.6 Q1455.08 1517.6 1452.63 1518.36 Q1450.2 1519.13 1447.42 1520.68 L1447.42 1515.95 Q1450.25 1514.82 1452.7 1514.24 Q1455.15 1513.66 1457.19 1513.66 Q1462.56 1513.66 1465.75 1516.35 Q1468.95 1519.03 1468.95 1523.52 Q1468.95 1525.65 1468.14 1527.57 Q1467.35 1529.47 1465.25 1532.07 Q1464.67 1532.74 1461.56 1535.95 Q1458.46 1539.15 1452.81 1544.91 Z\" fill=\"#000000\" fill-rule=\"evenodd\" fill-opacity=\"1\" /><path clip-path=\"url(#clip970)\" d=\"M1878.5 1530.21 Q1881.86 1530.93 1883.73 1533.2 Q1885.63 1535.47 1885.63 1538.8 Q1885.63 1543.92 1882.11 1546.72 Q1878.59 1549.52 1872.11 1549.52 Q1869.94 1549.52 1867.62 1549.08 Q1865.33 1548.66 1862.87 1547.81 L1862.87 1543.29 Q1864.82 1544.43 1867.13 1545.01 Q1869.45 1545.58 1871.97 1545.58 Q1876.37 1545.58 1878.66 1543.85 Q1880.98 1542.11 1880.98 1538.8 Q1880.98 1535.75 1878.82 1534.03 Q1876.69 1532.3 1872.87 1532.3 L1868.85 1532.3 L1868.85 1528.45 L1873.06 1528.45 Q1876.51 1528.45 1878.34 1527.09 Q1880.17 1525.7 1880.17 1523.11 Q1880.17 1520.45 1878.27 1519.03 Q1876.39 1517.6 1872.87 1517.6 Q1870.95 1517.6 1868.75 1518.01 Q1866.56 1518.43 1863.92 1519.31 L1863.92 1515.14 Q1866.58 1514.4 1868.89 1514.03 Q1871.23 1513.66 1873.29 1513.66 Q1878.62 1513.66 1881.72 1516.09 Q1884.82 1518.5 1884.82 1522.62 Q1884.82 1525.49 1883.18 1527.48 Q1881.53 1529.45 1878.5 1530.21 Z\" fill=\"#000000\" fill-rule=\"evenodd\" fill-opacity=\"1\" /><path clip-path=\"url(#clip970)\" d=\"M2293.35 1518.36 L2281.55 1536.81 L2293.35 1536.81 L2293.35 1518.36 M2292.12 1514.29 L2298 1514.29 L2298 1536.81 L2302.93 1536.81 L2302.93 1540.7 L2298 1540.7 L2298 1548.85 L2293.35 1548.85 L2293.35 1540.7 L2277.75 1540.7 L2277.75 1536.19 L2292.12 1514.29 Z\" fill=\"#000000\" fill-rule=\"evenodd\" fill-opacity=\"1\" /><polyline clip-path=\"url(#clip972)\" style=\"stroke:#000000; stroke-linecap:butt; stroke-linejoin:round; stroke-width:2; stroke-opacity:0.1; fill:none\" points=\"\n",
       "  147.478,1391.44 2352.76,1391.44 \n",
       "  \"/>\n",
       "<polyline clip-path=\"url(#clip972)\" style=\"stroke:#000000; stroke-linecap:butt; stroke-linejoin:round; stroke-width:2; stroke-opacity:0.1; fill:none\" points=\"\n",
       "  147.478,1174.19 2352.76,1174.19 \n",
       "  \"/>\n",
       "<polyline clip-path=\"url(#clip972)\" style=\"stroke:#000000; stroke-linecap:butt; stroke-linejoin:round; stroke-width:2; stroke-opacity:0.1; fill:none\" points=\"\n",
       "  147.478,956.951 2352.76,956.951 \n",
       "  \"/>\n",
       "<polyline clip-path=\"url(#clip972)\" style=\"stroke:#000000; stroke-linecap:butt; stroke-linejoin:round; stroke-width:2; stroke-opacity:0.1; fill:none\" points=\"\n",
       "  147.478,739.707 2352.76,739.707 \n",
       "  \"/>\n",
       "<polyline clip-path=\"url(#clip972)\" style=\"stroke:#000000; stroke-linecap:butt; stroke-linejoin:round; stroke-width:2; stroke-opacity:0.1; fill:none\" points=\"\n",
       "  147.478,522.463 2352.76,522.463 \n",
       "  \"/>\n",
       "<polyline clip-path=\"url(#clip972)\" style=\"stroke:#000000; stroke-linecap:butt; stroke-linejoin:round; stroke-width:2; stroke-opacity:0.1; fill:none\" points=\"\n",
       "  147.478,305.22 2352.76,305.22 \n",
       "  \"/>\n",
       "<polyline clip-path=\"url(#clip972)\" style=\"stroke:#000000; stroke-linecap:butt; stroke-linejoin:round; stroke-width:2; stroke-opacity:0.1; fill:none\" points=\"\n",
       "  147.478,87.9763 2352.76,87.9763 \n",
       "  \"/>\n",
       "<polyline clip-path=\"url(#clip970)\" style=\"stroke:#000000; stroke-linecap:butt; stroke-linejoin:round; stroke-width:4; stroke-opacity:1; fill:none\" points=\"\n",
       "  147.478,1486.45 147.478,47.2441 \n",
       "  \"/>\n",
       "<polyline clip-path=\"url(#clip970)\" style=\"stroke:#000000; stroke-linecap:butt; stroke-linejoin:round; stroke-width:4; stroke-opacity:1; fill:none\" points=\"\n",
       "  147.478,1391.44 166.376,1391.44 \n",
       "  \"/>\n",
       "<polyline clip-path=\"url(#clip970)\" style=\"stroke:#000000; stroke-linecap:butt; stroke-linejoin:round; stroke-width:4; stroke-opacity:1; fill:none\" points=\"\n",
       "  147.478,1174.19 166.376,1174.19 \n",
       "  \"/>\n",
       "<polyline clip-path=\"url(#clip970)\" style=\"stroke:#000000; stroke-linecap:butt; stroke-linejoin:round; stroke-width:4; stroke-opacity:1; fill:none\" points=\"\n",
       "  147.478,956.951 166.376,956.951 \n",
       "  \"/>\n",
       "<polyline clip-path=\"url(#clip970)\" style=\"stroke:#000000; stroke-linecap:butt; stroke-linejoin:round; stroke-width:4; stroke-opacity:1; fill:none\" points=\"\n",
       "  147.478,739.707 166.376,739.707 \n",
       "  \"/>\n",
       "<polyline clip-path=\"url(#clip970)\" style=\"stroke:#000000; stroke-linecap:butt; stroke-linejoin:round; stroke-width:4; stroke-opacity:1; fill:none\" points=\"\n",
       "  147.478,522.463 166.376,522.463 \n",
       "  \"/>\n",
       "<polyline clip-path=\"url(#clip970)\" style=\"stroke:#000000; stroke-linecap:butt; stroke-linejoin:round; stroke-width:4; stroke-opacity:1; fill:none\" points=\"\n",
       "  147.478,305.22 166.376,305.22 \n",
       "  \"/>\n",
       "<polyline clip-path=\"url(#clip970)\" style=\"stroke:#000000; stroke-linecap:butt; stroke-linejoin:round; stroke-width:4; stroke-opacity:1; fill:none\" points=\"\n",
       "  147.478,87.9763 166.376,87.9763 \n",
       "  \"/>\n",
       "<path clip-path=\"url(#clip970)\" d=\"M51.3625 1391.89 L81.0383 1391.89 L81.0383 1395.82 L51.3625 1395.82 L51.3625 1391.89 Z\" fill=\"#000000\" fill-rule=\"evenodd\" fill-opacity=\"1\" /><path clip-path=\"url(#clip970)\" d=\"M95.1586 1404.78 L111.478 1404.78 L111.478 1408.72 L89.5336 1408.72 L89.5336 1404.78 Q92.1956 1402.03 96.7789 1397.4 Q101.385 1392.75 102.566 1391.4 Q104.811 1388.88 105.691 1387.14 Q106.594 1385.38 106.594 1383.69 Q106.594 1380.94 104.649 1379.2 Q102.728 1377.47 99.6261 1377.47 Q97.4271 1377.47 94.9734 1378.23 Q92.5428 1379 89.7651 1380.55 L89.7651 1375.82 Q92.5891 1374.69 95.0428 1374.11 Q97.4965 1373.53 99.5335 1373.53 Q104.904 1373.53 108.098 1376.22 Q111.293 1378.9 111.293 1383.39 Q111.293 1385.52 110.483 1387.44 Q109.696 1389.34 107.589 1391.94 Q107.01 1392.61 103.909 1395.82 Q100.807 1399.02 95.1586 1404.78 Z\" fill=\"#000000\" fill-rule=\"evenodd\" fill-opacity=\"1\" /><path clip-path=\"url(#clip970)\" d=\"M50.9921 1174.65 L80.6679 1174.65 L80.6679 1178.58 L50.9921 1178.58 L50.9921 1174.65 Z\" fill=\"#000000\" fill-rule=\"evenodd\" fill-opacity=\"1\" /><path clip-path=\"url(#clip970)\" d=\"M91.5706 1187.54 L99.2095 1187.54 L99.2095 1161.17 L90.8993 1162.84 L90.8993 1158.58 L99.1632 1156.91 L103.839 1156.91 L103.839 1187.54 L111.478 1187.54 L111.478 1191.47 L91.5706 1191.47 L91.5706 1187.54 Z\" fill=\"#000000\" fill-rule=\"evenodd\" fill-opacity=\"1\" /><path clip-path=\"url(#clip970)\" d=\"M99.5335 942.749 Q95.9224 942.749 94.0937 946.314 Q92.2882 949.856 92.2882 956.985 Q92.2882 964.092 94.0937 967.657 Q95.9224 971.198 99.5335 971.198 Q103.168 971.198 104.973 967.657 Q106.802 964.092 106.802 956.985 Q106.802 949.856 104.973 946.314 Q103.168 942.749 99.5335 942.749 M99.5335 939.046 Q105.344 939.046 108.399 943.652 Q111.478 948.235 111.478 956.985 Q111.478 965.712 108.399 970.319 Q105.344 974.902 99.5335 974.902 Q93.7234 974.902 90.6447 970.319 Q87.5892 965.712 87.5892 956.985 Q87.5892 948.235 90.6447 943.652 Q93.7234 939.046 99.5335 939.046 Z\" fill=\"#000000\" fill-rule=\"evenodd\" fill-opacity=\"1\" /><path clip-path=\"url(#clip970)\" d=\"M91.5706 753.052 L99.2095 753.052 L99.2095 726.686 L90.8993 728.353 L90.8993 724.094 L99.1632 722.427 L103.839 722.427 L103.839 753.052 L111.478 753.052 L111.478 756.987 L91.5706 756.987 L91.5706 753.052 Z\" fill=\"#000000\" fill-rule=\"evenodd\" fill-opacity=\"1\" /><path clip-path=\"url(#clip970)\" d=\"M95.1586 535.808 L111.478 535.808 L111.478 539.743 L89.5336 539.743 L89.5336 535.808 Q92.1956 533.054 96.7789 528.424 Q101.385 523.771 102.566 522.429 Q104.811 519.906 105.691 518.17 Q106.594 516.41 106.594 514.72 Q106.594 511.966 104.649 510.23 Q102.728 508.494 99.6261 508.494 Q97.4271 508.494 94.9734 509.258 Q92.5428 510.021 89.7651 511.572 L89.7651 506.85 Q92.5891 505.716 95.0428 505.137 Q97.4965 504.558 99.5335 504.558 Q104.904 504.558 108.098 507.244 Q111.293 509.929 111.293 514.42 Q111.293 516.549 110.483 518.47 Q109.696 520.369 107.589 522.961 Q107.01 523.632 103.909 526.85 Q100.807 530.044 95.1586 535.808 Z\" fill=\"#000000\" fill-rule=\"evenodd\" fill-opacity=\"1\" /><path clip-path=\"url(#clip970)\" d=\"M104.348 303.866 Q107.705 304.583 109.58 306.852 Q111.478 309.12 111.478 312.454 Q111.478 317.569 107.959 320.37 Q104.441 323.171 97.9595 323.171 Q95.7836 323.171 93.4688 322.731 Q91.1771 322.315 88.7234 321.458 L88.7234 316.944 Q90.6678 318.079 92.9826 318.657 Q95.2974 319.236 97.8206 319.236 Q102.219 319.236 104.51 317.5 Q106.825 315.764 106.825 312.454 Q106.825 309.398 104.672 307.685 Q102.543 305.949 98.7234 305.949 L94.6956 305.949 L94.6956 302.106 L98.9085 302.106 Q102.358 302.106 104.186 300.741 Q106.015 299.352 106.015 296.759 Q106.015 294.097 104.117 292.685 Q102.242 291.25 98.7234 291.25 Q96.8021 291.25 94.603 291.667 Q92.4039 292.083 89.7651 292.963 L89.7651 288.796 Q92.4271 288.056 94.7419 287.685 Q97.0798 287.315 99.14 287.315 Q104.464 287.315 107.566 289.745 Q110.668 292.153 110.668 296.273 Q110.668 299.144 109.024 301.134 Q107.381 303.102 104.348 303.866 Z\" fill=\"#000000\" fill-rule=\"evenodd\" fill-opacity=\"1\" /><path clip-path=\"url(#clip970)\" d=\"M101.895 74.7703 L90.0891 93.2193 L101.895 93.2193 L101.895 74.7703 M100.668 70.6963 L106.547 70.6963 L106.547 93.2193 L111.478 93.2193 L111.478 97.1082 L106.547 97.1082 L106.547 105.256 L101.895 105.256 L101.895 97.1082 L86.2929 97.1082 L86.2929 92.5943 L100.668 70.6963 Z\" fill=\"#000000\" fill-rule=\"evenodd\" fill-opacity=\"1\" /><polyline clip-path=\"url(#clip972)\" style=\"stroke:#009af9; stroke-linecap:butt; stroke-linejoin:round; stroke-width:4; stroke-opacity:1; fill:none\" points=\"\n",
       "  209.891,87.9763 220.05,114.366 230.209,140.497 324.14,369.848 418.072,577.056 474.52,690.928 530.969,796.803 578.696,880.081 626.423,957.642 678.268,1035.42 \n",
       "  730.112,1106.45 777.909,1165.95 825.705,1219.73 876.947,1271.01 928.19,1315.71 987.559,1359.25 1046.93,1393.94 1099.69,1417.35 1152.45,1433.78 1198.72,1442.43 \n",
       "  1244.98,1445.72 1295.43,1443.17 1345.87,1434.24 1396.61,1418.82 1447.35,1396.93 1503.46,1365.22 1559.56,1325.6 1612.94,1280.57 1666.32,1228.39 1721.82,1166.55 \n",
       "  1777.32,1096.98 1824.05,1032.43 1870.77,962.394 1927.81,869.465 1984.85,768.37 2038.47,665.892 2092.09,556.198 2178,365.421 2263.9,156.123 2277.12,122.269 \n",
       "  2290.34,87.9763 \n",
       "  \"/>\n",
       "<path clip-path=\"url(#clip970)\" d=\"\n",
       "M1986.82 198.898 L2279.25 198.898 L2279.25 95.2176 L1986.82 95.2176  Z\n",
       "  \" fill=\"#ffffff\" fill-rule=\"evenodd\" fill-opacity=\"1\"/>\n",
       "<polyline clip-path=\"url(#clip970)\" style=\"stroke:#000000; stroke-linecap:butt; stroke-linejoin:round; stroke-width:4; stroke-opacity:1; fill:none\" points=\"\n",
       "  1986.82,198.898 2279.25,198.898 2279.25,95.2176 1986.82,95.2176 1986.82,198.898 \n",
       "  \"/>\n",
       "<polyline clip-path=\"url(#clip970)\" style=\"stroke:#009af9; stroke-linecap:butt; stroke-linejoin:round; stroke-width:4; stroke-opacity:1; fill:none\" points=\"\n",
       "  2010.82,147.058 2154.82,147.058 \n",
       "  \"/>\n",
       "<path clip-path=\"url(#clip970)\" d=\"M2192.66 166.745 Q2190.85 171.375 2189.14 172.787 Q2187.43 174.199 2184.56 174.199 L2181.15 174.199 L2181.15 170.634 L2183.65 170.634 Q2185.41 170.634 2186.39 169.8 Q2187.36 168.967 2188.54 165.865 L2189.3 163.921 L2178.82 138.412 L2183.33 138.412 L2191.43 158.689 L2199.53 138.412 L2204.05 138.412 L2192.66 166.745 Z\" fill=\"#000000\" fill-rule=\"evenodd\" fill-opacity=\"1\" /><path clip-path=\"url(#clip970)\" d=\"M2211.34 160.402 L2218.98 160.402 L2218.98 134.037 L2210.67 135.703 L2210.67 131.444 L2218.93 129.778 L2223.61 129.778 L2223.61 160.402 L2231.25 160.402 L2231.25 164.338 L2211.34 164.338 L2211.34 160.402 Z\" fill=\"#000000\" fill-rule=\"evenodd\" fill-opacity=\"1\" /></svg>\n"
      ]
     },
     "execution_count": 25,
     "metadata": {},
     "output_type": "execute_result"
    }
   ],
   "source": [
    "plot(x ->(x-3)*x,-1,4)"
   ]
  },
  {
   "cell_type": "markdown",
   "metadata": {},
   "source": [
    "Więcej na https://docs.juliahub.com/Roots/o0Xsi/2.0.0/roots/"
   ]
  },
  {
   "cell_type": "markdown",
   "metadata": {},
   "source": [
    "Wyciąganie informacji z przebiegu działania funkcji: https://docs.juliahub.com/Roots/o0Xsi/2.0.0/reference/#Tracking-iterations"
   ]
  },
  {
   "cell_type": "markdown",
   "metadata": {},
   "source": [
    "### Zadanie:\n",
    "\n",
    "A. Wybrać trzy metody poszukiwania pierwiastków: \n",
    "\n",
    "* wykorzystującą przedział i zmianę znaku, \n",
    "* wykorzystującą pochodną, \n",
    "* wykorzystującą przybliżenie pochodnej\n",
    "\n",
    "    1. Każdą z trzech wybranych metod przetestować (ilość iteracji, ilość wywołań funkcji) na sześciu wybranych  funkcjach ze zbioru http://people.sc.fsu.edu/~jburkardt/py_src/test_zero/test_zero.html Wyniki przedstawić w formie tabelki. <b>Pamiętać o sprawdzeniu czy wynik jest poprawny poprzez obliczenie wartości funkcji dla znalezionego pierwiastka !</b> (3 pkt)\n",
    "\n",
    "    2. Zademonstrować wybrany, ciekawy przykład trudnej funkcji z p.1 i działania metod na niej. (1 pkt)\n",
    "\n",
    "    3. Dla każdej z wybranych metod zademonstrować i wyjaśnić po jednym  przykładzie, dla którego nie działają (można na podstawie p.1 lub wymyślić własny)(1 pkt)\n",
    "\n",
    "B. Narysować <a href=\"https://pl.wikipedia.org/wiki/Wst%C4%99ga_Newtona\"> wstegę Newtona </a> i objaśnić, w jaki sposób powstała i jaki jest jej związek z metodą Newtona do znajdowania pierwiastków. Sposób i język - dowolny. (1 pkt)"
   ]
  },
  {
   "cell_type": "markdown",
   "metadata": {},
   "source": [
    " # ZADANIE A \n",
    " Wybrać trzy metody poszukiwania pierwiastków:\n",
    "\n",
    "    wykorzystującą przedział i zmianę znaku,\n",
    "\n",
    "    wykorzystującą pochodną,\n",
    "\n",
    "    wykorzystującą przybliżenie pochodnej"
   ]
  },
  {
   "cell_type": "markdown",
   "metadata": {},
   "source": [
    "# 1\n",
    "Każdą z trzech wybranych metod przetestować (ilość iteracji, ilość wywołań funkcji) na sześciu wybranych funkcjach ze zbioru http://people.sc.fsu.edu/~jburkardt/py_src/test_zero/test_zero.html Wyniki przedstawić w formie tabelki. Pamiętać o sprawdzeniu czy wynik jest poprawny poprzez obliczenie wartości funkcji dla znalezionego pierwiastka ! (3 pkt)"
   ]
  },
  {
   "cell_type": "code",
   "execution_count": 17,
   "metadata": {},
   "outputs": [],
   "source": [
    "using DataFrames"
   ]
  },
  {
   "cell_type": "code",
   "execution_count": 55,
   "metadata": {},
   "outputs": [],
   "source": [
    "df_test = DataFrame(\n",
    "    fun = String[],\n",
    "    method = String[], \n",
    "    iterations = Int64[],\n",
    "    counting_function = Int64[],\n",
    "    root_x = Float64[],\n",
    "    root_y = Float64[],\n",
    "    correct_iszero = Bool[],\n",
    "    signdiff = Float64[]\n",
    ")\n",
    "\n",
    "D(f) = x->ForwardDiff.derivative(f, float(x))\n",
    "\n",
    "\n",
    "algorithms = [ \"Roots.BisectionExact()\"\n",
    "    \"Roots.Newton()\"\n",
    "    \"Roots.Secant()\"\n",
    "];\n"
   ]
  },
  {
   "cell_type": "code",
   "execution_count": 21,
   "metadata": {},
   "outputs": [
    {
     "data": {
      "text/plain": [
       "f6 (generic function with 1 method)"
      ]
     },
     "execution_count": 21,
     "metadata": {},
     "output_type": "execute_result"
    }
   ],
   "source": [
    "f1(x) = sin(x) - x / 2 #1\n",
    "\n",
    "f2(x) = 2 * x - exp( - x ) #2\n",
    "\n",
    "f3(x) =  x * exp(-x) #3\n",
    "\n",
    "f4(x) = (x + 3) * (x -1)^2 #5\n",
    "\n",
    "f5(x) = x^3 #7\n",
    "\n",
    "f6(x) = 20.0 * x / ( 100.0 * x * x + 1.0 ) # 10. The repeller\n"
   ]
  },
  {
   "cell_type": "code",
   "execution_count": 22,
   "metadata": {},
   "outputs": [],
   "source": [
    "test_functions = [\n",
    "    [f1, -4,   4],\n",
    "    [f2, -0.5, 3],\n",
    "    [f3, -0.1, 4],\n",
    "    [f4, -4,   2],\n",
    "    [f5, -1,   1],\n",
    "    [f6,  -2,  2],\n",
    "];"
   ]
  },
  {
   "cell_type": "code",
   "execution_count": 36,
   "metadata": {},
   "outputs": [
    {
     "name": "stdout",
     "output_type": "stream",
     "text": [
      "Tested function - f1:  sin(x) - x / 2\n",
      "\n",
      "\n",
      "\n"
     ]
    },
    {
     "data": {
      "text/plain": [
       "Results of univariate zero finding:\n",
       "\n",
       "* Converged to: 0.0\n",
       "* Algorithm: Bisection()\n",
       "* iterations: 0\n",
       "* function evaluations ≈ 3\n",
       "* stopped as f(x_n) = 0\n",
       "\n",
       "Trace:\n",
       "(a₀, b₀) = ( 0, 4 )\n",
       "\n"
      ]
     },
     "metadata": {},
     "output_type": "display_data"
    },
    {
     "data": {
      "text/plain": [
       "Results of univariate zero finding:\n",
       "\n",
       "* Converged to: -1.895494267033981\n",
       "* Algorithm: Roots.Newton()\n",
       "* iterations: 6\n",
       "* function evaluations ≈ 12\n",
       "* stopped as f(x_n) = 0\n",
       "\n",
       "Trace:\n",
       "x₁ = -4,\t fx₁ = 2.7568024953079284\n",
       "x₂ = -1.6103517191520549,\t fx₂ = -0.19404192788905972\n",
       "x₃ = -1.9699916004393636,\t fx₃ = 0.06362172927963472\n",
       "x₄ = -1.8984000905205811,\t fx₄ = 0.0023839348777178193\n",
       "x₅ = -1.8954991329401036,\t fx₅ = 3.9852979347720918e-06\n",
       "x₆ = -1.89549426704768,\t fx₆ = 1.1219802864559369e-11\n",
       "x₇ = -1.8954942670339809,\t fx₇ = 0\n",
       "\n"
      ]
     },
     "metadata": {},
     "output_type": "display_data"
    },
    {
     "data": {
      "text/plain": [
       "Results of univariate zero finding:\n",
       "\n",
       "* Converged to: -1.8954942670339807\n",
       "* Algorithm: Secant(); finished with bracketing method AlefeldPotraShi()\n",
       "* iterations: 4\n",
       "* function evaluations ≈ 10\n",
       "* stopped as x_n ≈ x_{n-1} using atol=xatol, rtol=xrtol\n",
       "* Note: Used bracketing method AlefeldPotraShi() on  [-4.0,-1.6103564656441494]\n",
       "\n",
       "Trace:\n",
       "x₁ = -3.9999939443988737,\t fx₁ = 2.7567955092884424\n",
       "x₂ = -4,\t fx₂ = 2.7568024953079284\n",
       "x₃ = -1.6103564656441494,\t fx₃ = -0.19403936693135537\n",
       "(a₃, b₃) = ( -4, -1.6103564656441494 )\n",
       "(a₄, b₄) = ( -2.6103564656441494, -1.6103564656441494 )\n",
       "(a₅, b₅) = ( -1.8965351364679381, -1.8943814645521972 )\n",
       "(a₆, b₆) = ( -1.8954942670339812, -1.8954942670339807 )\n",
       "\n"
      ]
     },
     "metadata": {},
     "output_type": "display_data"
    },
    {
     "name": "stdout",
     "output_type": "stream",
     "text": [
      "\n",
      "\n",
      "\n",
      "Checking correctness\n",
      "\n",
      "Roots.BisectionExact()\n",
      "detected root: 0.0\n",
      "f(x): 0.0\n",
      "iszero: true\n",
      "sign(f1(prevfloat(root))) * sign(f1(nextfloat(root))): -1.0\n",
      "-------------------\n",
      "Roots.Newton()\n",
      "detected root: -1.895494267033981\n",
      "f(x): 0.0\n",
      "iszero: true\n",
      "sign(f1(prevfloat(root))) * sign(f1(nextfloat(root))): -1.0\n",
      "-------------------\n",
      "Roots.Secant()\n",
      "detected root: -1.8954942670339807\n",
      "f(x): -2.220446049250313e-16\n",
      "iszero: false\n",
      "sign(f1(prevfloat(root))) * sign(f1(nextfloat(root))): -0.0\n",
      "-------------------\n"
     ]
    }
   ],
   "source": [
    "println(\"Tested function - f1\\n\\n\\n\")\n",
    "\n",
    "index = 1\n",
    "detected_roots = [\n",
    "    find_zero(\n",
    "        test_functions[index][1],\n",
    "        (test_functions[index][2], test_functions[index][3]), \n",
    "        Bisection(),\n",
    "        verbose=true),\n",
    "\n",
    "    find_zero(\n",
    "        (test_functions[index][1], D(test_functions[index][1])), \n",
    "        test_functions[index][2], \n",
    "        Roots.Newton(),\n",
    "        verbose=true),\n",
    "    \n",
    "    find_zero(\n",
    "        test_functions[index][1], \n",
    "        test_functions[index][2],   \n",
    "        verbose=true) \n",
    "    ];\n",
    "\n",
    "println(\"\\n\\n\\nChecking correctness\\n\")\n",
    "\n",
    "for i in 1:length(detected_roots)\n",
    "    if detected_roots[i] != NaN\n",
    "        root = detected_roots[i]\n",
    "        println(algorithms[i])\n",
    "        println(\"detected root: \",root)\n",
    "        println(\"f(x): \",test_functions[index][1](root))\n",
    "        println(\"iszero: \",iszero(test_functions[index][1](root)))\n",
    "        println(\"sign(f1(prevfloat(root))) * sign(f1(nextfloat(root))): \",\n",
    "            sign(test_functions[index][1](prevfloat(root))) * \n",
    "            sign(test_functions[index][1](nextfloat(root))) )\n",
    "\n",
    "        println(\"-------------------\")\n",
    "    end\n",
    "end"
   ]
  },
  {
   "cell_type": "code",
   "execution_count": 62,
   "metadata": {},
   "outputs": [],
   "source": [
    "push!(df_test,\n",
    "    [\"f1\", \"bisection\", \n",
    "        0, 3,\n",
    "        0.0,\n",
    "        0.0,\n",
    "        true,\n",
    "        -1.0\n",
    "    ]\n",
    ");\n",
    "push!(df_test,\n",
    "    [\"f1\", \"newton\", \n",
    "        6, 12,\n",
    "        -1.895494267033981,\n",
    "        0.0,\n",
    "        true,\n",
    "        -1.0\n",
    "    ]\n",
    ");\n",
    "push!(df_test,\n",
    "    [\"f1\", \"secant\", \n",
    "        4, 10,\n",
    "        -1.8954942670339807,\n",
    "        -2.220446049250313e-16,\n",
    "        false,\n",
    "        -0.0\n",
    "    ]\n",
    ");"
   ]
  },
  {
   "cell_type": "code",
   "execution_count": 38,
   "metadata": {},
   "outputs": [
    {
     "name": "stdout",
     "output_type": "stream",
     "text": [
      "Tested function - f2:  2 * x - exp( - x )\n",
      "\n",
      "\n",
      "\n"
     ]
    },
    {
     "data": {
      "text/plain": [
       "Results of univariate zero finding:\n",
       "\n",
       "* Converged to: 0.35173371124919584\n",
       "* Algorithm: Bisection()\n",
       "* iterations: 61\n",
       "* function evaluations ≈ 64\n",
       "* stopped as f(x_n) = 0\n",
       "\n",
       "Trace:\n",
       "(a₀, b₀) = ( 0, 3 )\n",
       "(a₁, b₁) = ( 1.8645851828000517e-154, 3 )\n",
       "(a₂, b₂) = ( 2.3749463526509723e-77, 3 )\n",
       "(a₃, b₃) = ( 8.4488656465351915e-39, 3 )\n",
       "(a₄, b₄) = ( 1.5924219408380846e-19, 3 )\n",
       "(a₅, b₅) = ( 6.9121597334742546e-10, 3 )\n",
       "(a₆, b₆) = ( 4.5537948608398438e-05, 3 )\n",
       "(a₇, b₇) = ( 0.011688232421875, 3 )\n",
       "(a₈, b₈) = ( 0.187255859375, 3 )\n",
       "(a₉, b₉) = ( 0.187255859375, 0.74951171875 )\n",
       "(a₁₀, b₁₀) = ( 0.187255859375, 0.3746337890625 )\n",
       "(a₁₁, b₁₁) = ( 0.249786376953125, 0.3746337890625 )\n",
       "(a₁₂, b₁₂) = ( 0.312103271484375, 0.3746337890625 )\n",
       "(a₁₃, b₁₃) = ( 0.3433685302734375, 0.3746337890625 )\n",
       "(a₁₄, b₁₄) = ( 0.3433685302734375, 0.35900115966796875 )\n",
       "(a₁₅, b₁₅) = ( 0.35118484497070313, 0.35900115966796875 )\n",
       "(a₁₆, b₁₆) = ( 0.35118484497070313, 0.35509300231933594 )\n",
       "(a₁₇, b₁₇) = ( 0.35118484497070313, 0.35313892364501953 )\n",
       "(a₁₈, b₁₈) = ( 0.35118484497070313, 0.35216188430786133 )\n",
       "(a₁₉, b₁₉) = ( 0.35167336463928223, 0.35216188430786133 )\n",
       "(a₂₀, b₂₀) = ( 0.35167336463928223, 0.35191762447357178 )\n",
       "(a₂₁, b₂₁) = ( 0.35167336463928223, 0.351795494556427 )\n",
       "(a₂₂, b₂₂) = ( 0.35167336463928223, 0.35173442959785461 )\n",
       "(a₂₃, b₂₃) = ( 0.35170389711856842, 0.35173442959785461 )\n",
       "(a₂₄, b₂₄) = ( 0.35171916335821152, 0.35173442959785461 )\n",
       "(a₂₅, b₂₅) = ( 0.35172679647803307, 0.35173442959785461 )\n",
       "(a₂₆, b₂₆) = ( 0.35173061303794384, 0.35173442959785461 )\n",
       "(a₂₇, b₂₇) = ( 0.35173252131789923, 0.35173442959785461 )\n",
       "(a₂₈, b₂₈) = ( 0.35173347545787692, 0.35173442959785461 )\n",
       "(a₂₉, b₂₉) = ( 0.35173347545787692, 0.35173395252786577 )\n",
       "(a₃₀, b₃₀) = ( 0.35173347545787692, 0.35173371399287134 )\n",
       "(a₃₁, b₃₁) = ( 0.35173359472537413, 0.35173371399287134 )\n",
       "(a₃₂, b₃₂) = ( 0.35173365435912274, 0.35173371399287134 )\n",
       "(a₃₃, b₃₃) = ( 0.35173368417599704, 0.35173371399287134 )\n",
       "(a₃₄, b₃₄) = ( 0.35173369908443419, 0.35173371399287134 )\n",
       "(a₃₅, b₃₅) = ( 0.35173370653865277, 0.35173371399287134 )\n",
       "(a₃₆, b₃₆) = ( 0.35173371026576206, 0.35173371399287134 )\n",
       "(a₃₇, b₃₇) = ( 0.35173371026576206, 0.3517337121293167 )\n",
       "(a₃₈, b₃₈) = ( 0.35173371119753938, 0.3517337121293167 )\n",
       "(a₃₉, b₃₉) = ( 0.35173371119753938, 0.35173371166342804 )\n",
       "(a₄₀, b₄₀) = ( 0.35173371119753938, 0.35173371143048371 )\n",
       "(a₄₁, b₄₁) = ( 0.35173371119753938, 0.35173371131401154 )\n",
       "(a₄₂, b₄₂) = ( 0.35173371119753938, 0.35173371125577546 )\n",
       "(a₄₃, b₄₃) = ( 0.35173371122665742, 0.35173371125577546 )\n",
       "(a₄₄, b₄₄) = ( 0.35173371124121644, 0.35173371125577546 )\n",
       "(a₄₅, b₄₅) = ( 0.35173371124849595, 0.35173371125577546 )\n",
       "(a₄₆, b₄₆) = ( 0.35173371124849595, 0.35173371125213571 )\n",
       "(a₄₇, b₄₇) = ( 0.35173371124849595, 0.35173371125031583 )\n",
       "(a₄₈, b₄₈) = ( 0.35173371124849595, 0.35173371124940589 )\n",
       "(a₄₉, b₄₉) = ( 0.35173371124895092, 0.35173371124940589 )\n",
       "(a₅₀, b₅₀) = ( 0.3517337112491784, 0.35173371124940589 )\n",
       "(a₅₁, b₅₁) = ( 0.3517337112491784, 0.35173371124929215 )\n",
       "(a₅₂, b₅₂) = ( 0.3517337112491784, 0.35173371124923525 )\n",
       "(a₅₃, b₅₃) = ( 0.3517337112491784, 0.35173371124920683 )\n",
       "(a₅₄, b₅₄) = ( 0.35173371124919262, 0.35173371124920683 )\n",
       "(a₅₅, b₅₅) = ( 0.35173371124919262, 0.35173371124919972 )\n",
       "(a₅₆, b₅₆) = ( 0.35173371124919262, 0.35173371124919617 )\n",
       "(a₅₇, b₅₇) = ( 0.35173371124919439, 0.35173371124919617 )\n",
       "(a₅₈, b₅₈) = ( 0.35173371124919528, 0.35173371124919617 )\n",
       "(a₅₉, b₅₉) = ( 0.35173371124919572, 0.35173371124919617 )\n",
       "(a₆₀, b₆₀) = ( 0.35173371124919572, 0.35173371124919595 )\n",
       "(a₆₁, b₆₁) = ( 0.35173371124919584, 0.35173371124919595 )\n",
       "\n"
      ]
     },
     "metadata": {},
     "output_type": "display_data"
    },
    {
     "data": {
      "text/plain": [
       "Results of univariate zero finding:\n",
       "\n",
       "* Converged to: 0.35173371124919584\n",
       "* Algorithm: Roots.Newton()\n",
       "* iterations: 5\n",
       "* function evaluations ≈ 10\n",
       "* stopped as f(x_n) = 0\n",
       "\n",
       "Trace:\n",
       "x₁ = -0.5,\t fx₁ = -2.6487212707001282\n",
       "x₂ = 0.22593138093880305,\t fx₂ = -0.3459100803334052\n",
       "x₃ = 0.34956903840496134,\t fx₃ = -0.0058537718614606327\n",
       "x₄ = 0.35173310106723366,\t fx₄ = -1.6496071875149454e-06\n",
       "x₅ = 0.35173371124914737,\t fx₅ = -1.3100631690576847e-13\n",
       "x₆ = 0.35173371124919584,\t fx₆ = 0\n",
       "\n"
      ]
     },
     "metadata": {},
     "output_type": "display_data"
    },
    {
     "data": {
      "text/plain": [
       "Results of univariate zero finding:\n",
       "\n",
       "* Converged to: 0.35173371124919584\n",
       "* Algorithm: Secant()\n",
       "* iterations: 7\n",
       "* function evaluations ≈ 11\n",
       "* stopped as f(x_n) = 0\n",
       "\n",
       "Trace:\n",
       "x₁ = -0.49999394452721335,\t fx₁ = -2.6486991759979954\n",
       "x₂ = -0.5,\t fx₂ = -2.6487212707001282\n",
       "x₃ = -0.4993944527213352,\t fx₃ = -2.6465120996857889\n",
       "x₄ = -0.43883972485485545,\t fx₄ = -2.4285861453806659\n",
       "x₅ = 0.23598752829519332,\t fx₅ = -0.31781546731526622\n",
       "x₆ = 0.33759522118465984,\t fx₆ = -0.038293590307646452\n",
       "x₇ = 0.3515151454684694,\t fx₇ = -0.0005909022717622836\n",
       "x₈ = 0.35173330802691177,\t fx₈ = -1.0900983661299435e-06\n",
       "x₉ = 0.35173371123772912,\t fx₉ = -3.0999869338188546e-11\n",
       "\n"
      ]
     },
     "metadata": {},
     "output_type": "display_data"
    },
    {
     "name": "stdout",
     "output_type": "stream",
     "text": [
      "\n",
      "\n",
      "\n",
      "Checking correctness\n",
      "\n",
      "Roots.BisectionExact()\n",
      "detected root: 0.35173371124919584\n",
      "f(x): 0.0\n",
      "iszero: true\n",
      "sign(f1(prevfloat(root))) * sign(f1(nextfloat(root))): -1.0\n",
      "-------------------\n",
      "Roots.Newton()\n",
      "detected root: 0.35173371124919584\n",
      "f(x): 0.0\n",
      "iszero: true\n",
      "sign(f1(prevfloat(root))) * sign(f1(nextfloat(root))): -1.0\n",
      "-------------------\n",
      "Roots.Secant()\n",
      "detected root: 0.35173371124919584\n",
      "f(x): 0.0\n",
      "iszero: true\n",
      "sign(f1(prevfloat(root))) * sign(f1(nextfloat(root))): -1.0\n",
      "-------------------\n"
     ]
    }
   ],
   "source": [
    "println(\"Tested function - f2\\n\\n\\n\")\n",
    "\n",
    "index = 2\n",
    "detected_roots = [\n",
    "    find_zero(\n",
    "        test_functions[index][1],\n",
    "        (test_functions[index][2], test_functions[index][3]), \n",
    "        Bisection(),\n",
    "        verbose=true),\n",
    "\n",
    "    find_zero(\n",
    "        (test_functions[index][1], D(test_functions[index][1])), \n",
    "        test_functions[index][2], \n",
    "        Roots.Newton(),\n",
    "        verbose=true),\n",
    "    \n",
    "    find_zero(\n",
    "        test_functions[index][1], \n",
    "        test_functions[index][2],   \n",
    "        verbose=true) \n",
    "    ];\n",
    "\n",
    "println(\"\\n\\n\\nChecking correctness\\n\")\n",
    "\n",
    "for i in 1:length(detected_roots)\n",
    "    if detected_roots[i] != NaN\n",
    "        root = detected_roots[i]\n",
    "        println(algorithms[i])\n",
    "        println(\"detected root: \",root)\n",
    "        println(\"f(x): \",test_functions[index][1](root))\n",
    "        println(\"iszero: \",iszero(test_functions[index][1](root)))\n",
    "        println(\"sign(f1(prevfloat(root))) * sign(f1(nextfloat(root))): \",\n",
    "            sign(test_functions[index][1](prevfloat(root))) * \n",
    "            sign(test_functions[index][1](nextfloat(root))) )\n",
    "\n",
    "        println(\"-------------------\")\n",
    "    end\n",
    "end"
   ]
  },
  {
   "cell_type": "code",
   "execution_count": 61,
   "metadata": {},
   "outputs": [],
   "source": [
    "push!(df_test,\n",
    "    [\"f2\", \"bisection\", \n",
    "        61, 64,\n",
    "        0.35173371124919584,\n",
    "        0.0,\n",
    "        true, -1.0\n",
    "    ]\n",
    ");\n",
    "push!(df_test,\n",
    "    [\"f2\", \"newton\", \n",
    "        5, 10,\n",
    "        0.35173371124919584,\n",
    "        0.0,\n",
    "        true, -1.0\n",
    "    ]\n",
    ");\n",
    "push!(df_test,\n",
    "    [\"f2\", \"secant\", \n",
    "        7, 11,\n",
    "        0.35173371124919584,\n",
    "        0.0,\n",
    "        true, -1.0\n",
    "    ]\n",
    ");"
   ]
  },
  {
   "cell_type": "code",
   "execution_count": 39,
   "metadata": {},
   "outputs": [
    {
     "name": "stdout",
     "output_type": "stream",
     "text": [
      "Tested function - f3\n",
      "\n",
      "\n",
      "\n"
     ]
    },
    {
     "data": {
      "text/plain": [
       "Results of univariate zero finding:\n",
       "\n",
       "* Converged to: 0.0\n",
       "* Algorithm: Bisection()\n",
       "* iterations: 0\n",
       "* function evaluations ≈ 3\n",
       "* stopped as f(x_n) = 0\n",
       "\n",
       "Trace:\n",
       "(a₀, b₀) = ( 0, 4 )\n",
       "\n"
      ]
     },
     "metadata": {},
     "output_type": "display_data"
    },
    {
     "data": {
      "text/plain": [
       "Results of univariate zero finding:\n",
       "\n",
       "* Converged to: -4.498484366669896e-17\n",
       "* Algorithm: Roots.Newton()\n",
       "* iterations: 4\n",
       "* function evaluations ≈ 8\n",
       "* stopped as |f(x_n)| ≤ max(δ, |x|⋅ϵ) using δ = atol, ϵ = rtol\n",
       "\n",
       "Trace:\n",
       "x₁ = -0.10000000000000001,\t fx₁ = -0.11051709180756478\n",
       "x₂ = -0.0090909090909090939,\t fx₂ = -0.0091739305173563594\n",
       "x₃ = -8.1900081900081537e-05,\t fx₃ = -8.1906789798181728e-05\n",
       "x₄ = -6.7070741053068539e-09,\t fx₄ = -6.7070741502916976e-09\n",
       "x₅ = -4.498484366669896e-17,\t fx₅ = -4.498484366669896e-17\n",
       "\n"
      ]
     },
     "metadata": {},
     "output_type": "display_data"
    },
    {
     "data": {
      "text/plain": [
       "Results of univariate zero finding:\n",
       "\n",
       "* Converged to: 0.0\n",
       "* Algorithm: Secant(); finished with bracketing method AlefeldPotraShi()\n",
       "* iterations: 8\n",
       "* function evaluations ≈ 11\n",
       "* stopped as f(x_n) = 0\n",
       "* Note: Used bracketing method AlefeldPotraShi() on  [-6.789741663922248e-11,4.266643751992485e-10]\n",
       "\n",
       "Trace:\n",
       "x₁ = -0.099993944541880764,\t fx₁ = -0.11050973030228603\n",
       "x₂ = -0.10000000000000001,\t fx₂ = -0.11051709180756478\n",
       "x₃ = -0.099394454188075826,\t fx₃ = -0.10978136241073563\n",
       "x₄ = -0.038839872995657859,\t fx₄ = -0.040378087389743106\n",
       "x₅ = -0.003609861580531129,\t fx₅ = -0.0036229162297236397\n",
       "x₆ = -0.00013727864591409674,\t fx₆ = -0.00013729749263431727\n",
       "x₇ = -4.9462968925511014e-07,\t fx₇ = -4.946299339137001e-07\n",
       "x₈ = -6.7897416639222482e-11,\t fx₈ = -6.7897416643832541e-11\n",
       "x₉ = -6.7897416639222482e-11,\t fx₉ = -6.7897416643832541e-11\n",
       "(a₉, b₉) = ( -6.7897416639222482e-11, 4.2666437519924848e-10 )\n",
       "(a₁₀, b₁₀) = ( 0, 4.2666437519924848e-10 )\n",
       "\n"
      ]
     },
     "metadata": {},
     "output_type": "display_data"
    },
    {
     "name": "stdout",
     "output_type": "stream",
     "text": [
      "\n",
      "\n",
      "\n",
      "Checking correctness\n",
      "\n",
      "Roots.BisectionExact()\n",
      "detected root: 0.0\n",
      "f(x): 0.0\n",
      "iszero: true\n",
      "sign(f1(prevfloat(root))) * sign(f1(nextfloat(root))): -1.0\n",
      "-------------------\n",
      "Roots.Newton()\n",
      "detected root: -4.498484366669896e-17\n",
      "f(x): -4.498484366669896e-17\n",
      "iszero: false\n",
      "sign(f1(prevfloat(root))) * sign(f1(nextfloat(root))): 1.0\n",
      "-------------------\n",
      "Roots.Secant()\n",
      "detected root: 0.0\n",
      "f(x): 0.0\n",
      "iszero: true\n",
      "sign(f1(prevfloat(root))) * sign(f1(nextfloat(root))): -1.0\n",
      "-------------------\n"
     ]
    }
   ],
   "source": [
    "println(\"Tested function - f3\\n\\n\\n\")\n",
    "\n",
    "index = 3\n",
    "detected_roots = [\n",
    "    find_zero(\n",
    "        test_functions[index][1],\n",
    "        (test_functions[index][2], test_functions[index][3]), \n",
    "        Bisection(),\n",
    "        verbose=true),\n",
    "\n",
    "    find_zero(\n",
    "        (test_functions[index][1], D(test_functions[index][1])), \n",
    "        test_functions[index][2], \n",
    "        Roots.Newton(),\n",
    "        verbose=true),\n",
    "    \n",
    "    find_zero(\n",
    "        test_functions[index][1], \n",
    "        test_functions[index][2],   \n",
    "        verbose=true) \n",
    "    ];\n",
    "\n",
    "println(\"\\n\\n\\nChecking correctness\\n\")\n",
    "\n",
    "for i in 1:length(detected_roots)\n",
    "    if detected_roots[i] != NaN\n",
    "        root = detected_roots[i]\n",
    "        println(algorithms[i])\n",
    "        println(\"detected root: \",root)\n",
    "        println(\"f(x): \",test_functions[index][1](root))\n",
    "        println(\"iszero: \",iszero(test_functions[index][1](root)))\n",
    "        println(\"sign(f1(prevfloat(root))) * sign(f1(nextfloat(root))): \",\n",
    "            sign(test_functions[index][1](prevfloat(root))) * \n",
    "            sign(test_functions[index][1](nextfloat(root))) )\n",
    "\n",
    "        println(\"-------------------\")\n",
    "    end\n",
    "end"
   ]
  },
  {
   "cell_type": "code",
   "execution_count": 60,
   "metadata": {},
   "outputs": [],
   "source": [
    "push!(df_test,\n",
    "    [\"f3\", \"bisection\", \n",
    "        0, 3,\n",
    "        0.0,\n",
    "        0.0,\n",
    "        true, -1.0\n",
    "    ]\n",
    ");\n",
    "push!(df_test,\n",
    "    [\"f3\", \"newton\", \n",
    "        4, 8,\n",
    "        -4.498484366669896e-17,\n",
    "        -4.498484366669896e-17,\n",
    "        false, 1.0\n",
    "    ]\n",
    ");\n",
    "push!(df_test,\n",
    "    [\"f3\", \"secant\", \n",
    "        8, 11,\n",
    "        0.0,\n",
    "        0.0,\n",
    "        true, -1.0\n",
    "    ]\n",
    ");"
   ]
  },
  {
   "cell_type": "code",
   "execution_count": 40,
   "metadata": {},
   "outputs": [
    {
     "name": "stdout",
     "output_type": "stream",
     "text": [
      "Tested function - f4\n",
      "\n",
      "\n",
      "\n"
     ]
    },
    {
     "data": {
      "text/plain": [
       "Results of univariate zero finding:\n",
       "\n",
       "* Converged to: -3.0\n",
       "* Algorithm: Bisection()\n",
       "* iterations: 61\n",
       "* function evaluations ≈ 64\n",
       "* stopped as f(x_n) = 0\n",
       "\n",
       "Trace:\n",
       "(a₀, b₀) = ( -4, 0 )\n",
       "(a₁, b₁) = ( -4, -2.237502219360062e-154 )\n",
       "(a₂, b₂) = ( -4, -3.0226589942830556e-77 )\n",
       "(a₃, b₃) = ( -4, -1.1020259538958945e-38 )\n",
       "(a₄, b₄) = ( -4, -2.1006417091906648e-19 )\n",
       "(a₅, b₅) = ( -4, -9.1677065938711166e-10 )\n",
       "(a₆, b₆) = ( -4, -6.0558319091796875e-05 )\n",
       "(a₇, b₇) = ( -4, -0.01556396484375 )\n",
       "(a₈, b₈) = ( -4, -0.24951171875 )\n",
       "(a₉, b₉) = ( -4, -0.9990234375 )\n",
       "(a₁₀, b₁₀) = ( -4, -1.9990234375 )\n",
       "(a₁₁, b₁₁) = ( -4, -2.9990234375 )\n",
       "(a₁₂, b₁₂) = ( -3.49951171875, -2.9990234375 )\n",
       "(a₁₃, b₁₃) = ( -3.249267578125, -2.9990234375 )\n",
       "(a₁₄, b₁₄) = ( -3.1241455078125, -2.9990234375 )\n",
       "(a₁₅, b₁₅) = ( -3.06158447265625, -2.9990234375 )\n",
       "(a₁₆, b₁₆) = ( -3.030303955078125, -2.9990234375 )\n",
       "(a₁₇, b₁₇) = ( -3.0146636962890625, -2.9990234375 )\n",
       "(a₁₈, b₁₈) = ( -3.0068435668945313, -2.9990234375 )\n",
       "(a₁₉, b₁₉) = ( -3.0029335021972656, -2.9990234375 )\n",
       "(a₂₀, b₂₀) = ( -3.0009784698486328, -2.9990234375 )\n",
       "(a₂₁, b₂₁) = ( -3.0000009536743164, -2.9990234375 )\n",
       "(a₂₂, b₂₂) = ( -3.0000009536743164, -2.9995121955871582 )\n",
       "(a₂₃, b₂₃) = ( -3.0000009536743164, -2.9997565746307373 )\n",
       "(a₂₄, b₂₄) = ( -3.0000009536743164, -2.9998787641525269 )\n",
       "(a₂₅, b₂₅) = ( -3.0000009536743164, -2.9999398589134216 )\n",
       "(a₂₆, b₂₆) = ( -3.0000009536743164, -2.999970406293869 )\n",
       "(a₂₇, b₂₇) = ( -3.0000009536743164, -2.9999856799840927 )\n",
       "(a₂₈, b₂₈) = ( -3.0000009536743164, -2.9999933168292046 )\n",
       "(a₂₉, b₂₉) = ( -3.0000009536743164, -2.9999971352517605 )\n",
       "(a₃₀, b₃₀) = ( -3.0000009536743164, -2.9999990444630384 )\n",
       "(a₃₁, b₃₁) = ( -3.0000009536743164, -2.9999999990686774 )\n",
       "(a₃₂, b₃₂) = ( -3.0000004763714969, -2.9999999990686774 )\n",
       "(a₃₃, b₃₃) = ( -3.0000002377200872, -2.9999999990686774 )\n",
       "(a₃₄, b₃₄) = ( -3.0000001183943823, -2.9999999990686774 )\n",
       "(a₃₅, b₃₅) = ( -3.0000000587315299, -2.9999999990686774 )\n",
       "(a₃₆, b₃₆) = ( -3.0000000289001036, -2.9999999990686774 )\n",
       "(a₃₇, b₃₇) = ( -3.0000000139843905, -2.9999999990686774 )\n",
       "(a₃₈, b₃₈) = ( -3.000000006526534, -2.9999999990686774 )\n",
       "(a₃₉, b₃₉) = ( -3.0000000027976057, -2.9999999990686774 )\n",
       "(a₄₀, b₄₀) = ( -3.0000000009331416, -2.9999999990686774 )\n",
       "(a₄₁, b₄₁) = ( -3.0000000000009095, -2.9999999990686774 )\n",
       "(a₄₂, b₄₂) = ( -3.0000000000009095, -2.9999999995347935 )\n",
       "(a₄₃, b₄₃) = ( -3.0000000000009095, -2.9999999997678515 )\n",
       "(a₄₄, b₄₄) = ( -3.0000000000009095, -2.9999999998843805 )\n",
       "(a₄₅, b₄₅) = ( -3.0000000000009095, -2.999999999942645 )\n",
       "(a₄₆, b₄₆) = ( -3.0000000000009095, -2.9999999999717772 )\n",
       "(a₄₇, b₄₇) = ( -3.0000000000009095, -2.9999999999863434 )\n",
       "(a₄₈, b₄₈) = ( -3.0000000000009095, -2.9999999999936264 )\n",
       "(a₄₉, b₄₉) = ( -3.0000000000009095, -2.999999999997268 )\n",
       "(a₅₀, b₅₀) = ( -3.0000000000009095, -2.9999999999990887 )\n",
       "(a₅₁, b₅₁) = ( -3.0000000000009095, -2.9999999999999991 )\n",
       "(a₅₂, b₅₂) = ( -3.0000000000004543, -2.9999999999999991 )\n",
       "(a₅₃, b₅₃) = ( -3.0000000000002265, -2.9999999999999991 )\n",
       "(a₅₄, b₅₄) = ( -3.0000000000001128, -2.9999999999999991 )\n",
       "(a₅₅, b₅₅) = ( -3.000000000000056, -2.9999999999999991 )\n",
       "(a₅₆, b₅₆) = ( -3.0000000000000275, -2.9999999999999991 )\n",
       "(a₅₇, b₅₇) = ( -3.0000000000000133, -2.9999999999999991 )\n",
       "(a₅₈, b₅₈) = ( -3.0000000000000062, -2.9999999999999991 )\n",
       "(a₅₉, b₅₉) = ( -3.0000000000000027, -2.9999999999999991 )\n",
       "(a₆₀, b₆₀) = ( -3.0000000000000009, -2.9999999999999991 )\n",
       "(a₆₁, b₆₁) = ( -3, -2.9999999999999991 )\n",
       "\n"
      ]
     },
     "metadata": {},
     "output_type": "display_data"
    },
    {
     "data": {
      "text/plain": [
       "Results of univariate zero finding:\n",
       "\n",
       "* Converged to: -3.0\n",
       "* Algorithm: Roots.Newton()\n",
       "* iterations: 6\n",
       "* function evaluations ≈ 12\n",
       "* stopped as f(x_n) = 0\n",
       "\n",
       "Trace:\n",
       "x₁ = -4,\t fx₁ = -25\n",
       "x₂ = -3.2857142857142856,\t fx₂ = -5.247813411078714\n",
       "x₃ = -3.0336134453781511,\t fx₃ = -0.54689201434404511\n",
       "x₄ = -3.0005510400881663,\t fx₄ = -0.008819070739411761\n",
       "x₅ = -3.00000015175987,\t fx₅ = -2.4281581043131463e-06\n",
       "x₆ = -3.0000000000000115,\t fx₆ = -1.8474111129762711e-13\n",
       "x₇ = -3,\t fx₇ = 0\n",
       "\n"
      ]
     },
     "metadata": {},
     "output_type": "display_data"
    },
    {
     "data": {
      "text/plain": [
       "Results of univariate zero finding:\n",
       "\n",
       "* Converged to: -3.0\n",
       "* Algorithm: Secant(); finished with bracketing method AlefeldPotraShi()\n",
       "* iterations: 11\n",
       "* function evaluations ≈ 14\n",
       "* stopped as f(x_n) = 0\n",
       "* Note: Used bracketing method AlefeldPotraShi() on  [-3.0000000005044147,-2.9999999982132772]\n",
       "\n",
       "Trace:\n",
       "x₁ = -3.9999939443988737,\t fx₁ = -24.999788054363954\n",
       "x₂ = -4,\t fx₂ = -25\n",
       "x₃ = -3.999394439887368,\t fx₃ = -24.978809429569367\n",
       "x₄ = -3.938838428624166,\t fx₄ = -22.900264328387824\n",
       "x₅ = -3.2716656721552964,\t fx₅ = -4.9571181883427844\n",
       "x₆ = -3.0873471485226105,\t fx₆ = -1.4592569883990116\n",
       "x₇ = -3.010452132303354,\t fx₇ = -0.16810923527598395\n",
       "x₈ = -3.0004402941214834,\t fx₈ = -0.00704625690039643\n",
       "x₉ = -3.0000022916420424,\t fx₉ = -3.6666314690619271e-05\n",
       "x₁₀ = -3.0000000005044147,\t fx₁₀ = -8.070635717320351e-09\n",
       "x₁₁ = -3.0000000005044147,\t fx₁₁ = -8.070635717320351e-09\n",
       "(a₁₁, b₁₁) = ( -3.0000000005044147, -2.9999999982132772 )\n",
       "(a₁₂, b₁₂) = ( -3.0000000005044147, -2.9999999993588458 )\n",
       "(a₁₃, b₁₃) = ( -3.0000000005044147, -3 )\n",
       "\n"
      ]
     },
     "metadata": {},
     "output_type": "display_data"
    },
    {
     "name": "stdout",
     "output_type": "stream",
     "text": [
      "\n",
      "\n",
      "\n",
      "Checking correctness\n",
      "\n",
      "Roots.BisectionExact()\n",
      "detected root: -3.0\n",
      "f(x): 0.0\n",
      "iszero: true\n",
      "sign(f1(prevfloat(root))) * sign(f1(nextfloat(root))): -1.0\n",
      "-------------------\n",
      "Roots.Newton()\n",
      "detected root: -3.0\n",
      "f(x): 0.0\n",
      "iszero: true\n",
      "sign(f1(prevfloat(root))) * sign(f1(nextfloat(root))): -1.0\n",
      "-------------------\n",
      "Roots.Secant()\n",
      "detected root: -3.0\n",
      "f(x): 0.0\n",
      "iszero: true\n",
      "sign(f1(prevfloat(root))) * sign(f1(nextfloat(root))): -1.0\n",
      "-------------------\n"
     ]
    }
   ],
   "source": [
    "println(\"Tested function - f4\\n\\n\\n\")\n",
    "\n",
    "index = 4\n",
    "detected_roots = [\n",
    "    find_zero(\n",
    "        test_functions[index][1],\n",
    "        (test_functions[index][2], test_functions[index][3]), \n",
    "        Bisection(),\n",
    "        verbose=true),\n",
    "\n",
    "    find_zero(\n",
    "        (test_functions[index][1], D(test_functions[index][1])), \n",
    "        test_functions[index][2], \n",
    "        Roots.Newton(),\n",
    "        verbose=true),\n",
    "    \n",
    "    find_zero(\n",
    "        test_functions[index][1], \n",
    "        test_functions[index][2],   \n",
    "        verbose=true) \n",
    "    ];\n",
    "\n",
    "println(\"\\n\\n\\nChecking correctness\\n\")\n",
    "\n",
    "for i in 1:length(detected_roots)\n",
    "    if detected_roots[i] != NaN\n",
    "        root = detected_roots[i]\n",
    "        println(algorithms[i])\n",
    "        println(\"detected root: \",root)\n",
    "        println(\"f(x): \",test_functions[index][1](root))\n",
    "        println(\"iszero: \",iszero(test_functions[index][1](root)))\n",
    "        println(\"sign(f1(prevfloat(root))) * sign(f1(nextfloat(root))): \",\n",
    "            sign(test_functions[index][1](prevfloat(root))) * \n",
    "            sign(test_functions[index][1](nextfloat(root))) )\n",
    "\n",
    "        println(\"-------------------\")\n",
    "    end\n",
    "end"
   ]
  },
  {
   "cell_type": "code",
   "execution_count": 59,
   "metadata": {},
   "outputs": [],
   "source": [
    "push!(df_test,\n",
    "    [\"f4\", \"bisection\", \n",
    "        61, 64,\n",
    "        -3.0,\n",
    "        0.0,\n",
    "        true, -1.0\n",
    "    ]\n",
    ");\n",
    "push!(df_test,\n",
    "    [\"f4\", \"newton\", \n",
    "        6, 12,\n",
    "        -3.0,\n",
    "        0.0,\n",
    "        false, -1.0\n",
    "    ]\n",
    ");\n",
    "push!(df_test,\n",
    "    [\"f4\", \"secant\", \n",
    "        11, 14,\n",
    "        -3.0,\n",
    "        0.0,\n",
    "        true, -1.0\n",
    "    ]\n",
    ");"
   ]
  },
  {
   "cell_type": "code",
   "execution_count": 41,
   "metadata": {},
   "outputs": [
    {
     "name": "stdout",
     "output_type": "stream",
     "text": [
      "Tested function - f5\n",
      "\n",
      "\n",
      "\n"
     ]
    },
    {
     "data": {
      "text/plain": [
       "Results of univariate zero finding:\n",
       "\n",
       "* Converged to: 0.0\n",
       "* Algorithm: Bisection()\n",
       "* iterations: 0\n",
       "* function evaluations ≈ 3\n",
       "* stopped as f(x_n) = 0\n",
       "\n",
       "Trace:\n",
       "(a₀, b₀) = ( 0, 1 )\n",
       "\n"
      ]
     },
     "metadata": {},
     "output_type": "display_data"
    },
    {
     "data": {
      "text/plain": [
       "Results of univariate zero finding:\n",
       "\n",
       "* Converged to: -7.822642576269843e-6\n",
       "* Algorithm: Roots.Newton()\n",
       "* iterations: 29\n",
       "* function evaluations ≈ 58\n",
       "* stopped as |f(x_n)| ≤ max(δ, |x|⋅ϵ) using δ = atol, ϵ = rtol\n",
       "\n",
       "Trace:\n",
       "x₁ = -1,\t fx₁ = -1\n",
       "x₂ = -0.66666666666666674,\t fx₂ = -0.29629629629629639\n",
       "x₃ = -0.44444444444444448,\t fx₃ = -0.087791495198902614\n",
       "x₄ = -0.29629629629629634,\t fx₄ = -0.026012294873748929\n",
       "x₅ = -0.19753086419753091,\t fx₅ = -0.0077073466292589439\n",
       "x₆ = -0.13168724279835392,\t fx₆ = -0.0022836582605211676\n",
       "x₇ = -0.087791495198902614,\t fx₇ = -0.00067663948459886455\n",
       "x₈ = -0.058527663465935076,\t fx₈ = -0.00020048577321447837\n",
       "x₉ = -0.039018442310623382,\t fx₉ = -5.940319206354914e-05\n",
       "x₁₀ = -0.026012294873748919,\t fx₁₀ = -1.7600945796607151e-05\n",
       "x₁₁ = -0.017341529915832612,\t fx₁₁ = -5.2150950508465619e-06\n",
       "x₁₂ = -0.011561019943888409,\t fx₁₂ = -1.5452133483989817e-06\n",
       "x₁₃ = -0.0077073466292589396,\t fx₁₃ = -4.5784099211821687e-07\n",
       "x₁₄ = -0.0051382310861726264,\t fx₁₄ = -1.3565659025724944e-07\n",
       "x₁₅ = -0.0034254873907817512,\t fx₁₅ = -4.0194545261407252e-08\n",
       "x₁₆ = -0.0022836582605211672,\t fx₁₆ = -1.1909494892268809e-08\n",
       "x₁₇ = -0.0015224388403474447,\t fx₁₇ = -3.5287392273389067e-09\n",
       "x₁₈ = -0.0010149592268982963,\t fx₁₈ = -1.0455523636559718e-09\n",
       "x₁₉ = -0.00067663948459886422,\t fx₁₉ = -3.0979329293510275e-10\n",
       "x₂₀ = -0.00045109298973257611,\t fx₂₀ = -9.17906053141045e-11\n",
       "x₂₁ = -0.00030072865982171739,\t fx₂₁ = -2.7197216389364292e-11\n",
       "x₂₂ = -0.00020048577321447826,\t fx₂₂ = -8.0584344857375663e-12\n",
       "x₂₃ = -0.00013365718214298551,\t fx₂₃ = -2.3876842920703904e-12\n",
       "x₂₄ = -8.910478809532368e-05,\t fx₂₄ = -7.0746201246530107e-13\n",
       "x₂₅ = -5.940319206354912e-05,\t fx₂₅ = -2.0961837406379289e-13\n",
       "x₂₆ = -3.9602128042366075e-05,\t fx₂₆ = -6.2109147870753435e-14\n",
       "x₂₇ = -2.6401418694910719e-05,\t fx₂₇ = -1.8402710480223242e-14\n",
       "x₂₈ = -1.7600945796607147e-05,\t fx₂₈ = -5.4526549571031843e-15\n",
       "x₂₉ = -1.1733963864404765e-05,\t fx₂₉ = -1.615601468771314e-15\n",
       "x₃₀ = -7.8226425762698432e-06,\t fx₃₀ = -4.7869673148779676e-16\n",
       "\n"
      ]
     },
     "metadata": {},
     "output_type": "display_data"
    },
    {
     "data": {
      "text/plain": [
       "Results of univariate zero finding:\n",
       "\n",
       "* Converged to: -2.6544374475551515e-5\n",
       "* Algorithm: Secant()\n",
       "* iterations: 39\n",
       "* function evaluations ≈ 43\n",
       "\n",
       "Trace:\n",
       "x₁ = -0.99999394450887913,\t fx₁ = -0.99998183363664406\n",
       "x₂ = -1,\t fx₂ = -1\n",
       "x₃ = -0.9993944508879129,\t fx₃ = -0.99818445251087151\n",
       "x₄ = -0.93883953967920286,\t fx₄ = -0.82751164782307629\n",
       "x₅ = -0.64523743681481449,\t fx₅ = -0.2686325730540618\n",
       "x₆ = -0.50411372704067148,\t fx₆ = -0.12811074902132627\n",
       "x₇ = -0.37545425162977741,\t fx₇ = -0.052926244637655738\n",
       "x₈ = -0.28488422092504095,\t fx₈ = -0.023120923993456399\n",
       "x₉ = -0.21462620152618683,\t fx₉ = -0.0098866285672327258\n",
       "x₁₀ = -0.16214022329348643,\t fx₁₀ = -0.0042625776191099344\n",
       "x₁₁ = -0.12236007937311964,\t fx₁₁ = -0.0018319737653741158\n",
       "x₁₂ = -0.092377332520765035,\t fx₁₂ = -0.00078830857792522497\n",
       "x₁₃ = -0.069730551907869365,\t fx₁₃ = -0.00033905433996074942\n",
       "x₁₄ = -0.05263891736318109,\t fx₁₄ = -0.00014585484006795804\n",
       "x₁₅ = -0.039735687156069621,\t fx₁₅ = -6.2739663237436715e-05\n",
       "x₁₆ = -0.029995657130987417,\t fx₁₆ = -2.6988275951030133e-05\n",
       "x₁₇ = -0.022643030057179159,\t fx₁₇ = -1.1609235713206978e-05\n",
       "x₁₈ = -0.017092723959324152,\t fx₁₈ = -4.9938309543141203e-06\n",
       "x₁₉ = -0.01290291375003539,\t fx₁₉ = -2.1481439600155549e-06\n",
       "x₂₀ = -0.0097401219487137369,\t fx₂₀ = -9.2404513137993259e-07\n",
       "x₂₁ = -0.0073526003718512528,\t fx₂₁ = -3.97486959883226e-07\n",
       "x₂₂ = -0.0055503138542093737,\t fx₂₂ = -1.7098287912298294e-07\n",
       "x₂₃ = -0.0041898079562289574,\t fx₂₃ = -7.3549944844638295e-08\n",
       "x₂₄ = -0.0031627924557884142,\t fx₂₄ = -3.1638222984569856e-08\n",
       "x₂₅ = -0.0023875213867535412,\t fx₂₅ = -1.3609488773661684e-08\n",
       "x₂₆ = -0.0018022865728645576,\t fx₂₆ = -5.8542537336421631e-09\n",
       "x₂₇ = -0.0013605058819393817,\t fx₂₇ = -2.518264081974174e-09\n",
       "x₂₈ = -0.0010270155051001293,\t fx₂₈ = -1.0832557447769642e-09\n",
       "x₂₉ = -0.0007752710676813602,\t fx₂₉ = -4.6597297593389271e-10\n",
       "x₃₀ = -0.00058523481428215094,\t fx₃₀ = -2.0044279973282061e-10\n",
       "x₃₁ = -0.00044178069081096915,\t fx₃₁ = -8.6222416404220572e-11\n",
       "x₃₂ = -0.00033349037687242713,\t fx₃₂ = -3.7089409549947915e-11\n",
       "x₃₃ = -0.00025174443740913239,\t fx₃₃ = -1.595436961904908e-11\n",
       "x₃₄ = -0.00019003625340200856,\t fx₃₄ = -6.8629269926413948e-12\n",
       "x₃₅ = -0.00014345412347036869,\t fx₃₅ = -2.9521546780559404e-12\n",
       "x₃₆ = -0.00010829031393877819,\t fx₃₆ = -1.2698979972413269e-12\n",
       "x₃₇ = -8.1745939463226191e-05,\t fx₃₇ = -5.4625895295547628e-13\n",
       "x₃₈ = -6.1708184007143723e-05,\t fx₃₈ = -2.3497859224303704e-13\n",
       "x₃₉ = -4.6582129931634112e-05,\t fx₃₉ = -1.0107832286095171e-13\n",
       "x₄₀ = -3.5163809531592181e-05,\t fx₄₀ = -4.3479821948271836e-14\n",
       "x₄₁ = -2.6544374475551515e-05,\t fx₄₁ = -1.870326755672507e-14\n",
       "\n"
      ]
     },
     "metadata": {},
     "output_type": "display_data"
    },
    {
     "name": "stdout",
     "output_type": "stream",
     "text": [
      "\n",
      "\n",
      "\n",
      "Checking correctness\n",
      "\n",
      "Roots.BisectionExact()\n",
      "detected root: 0.0\n",
      "f(x): 0.0\n",
      "iszero: true\n",
      "sign(f1(prevfloat(root))) * sign(f1(nextfloat(root))): -0.0\n",
      "-------------------\n",
      "Roots.Newton()\n",
      "detected root: -7.822642576269843e-6\n",
      "f(x): -4.786967314877968e-16\n",
      "iszero: false\n",
      "sign(f1(prevfloat(root))) * sign(f1(nextfloat(root))): 1.0\n",
      "-------------------\n",
      "Roots.Secant()\n",
      "detected root: -2.6544374475551515e-5\n",
      "f(x): -1.870326755672507e-14\n",
      "iszero: false\n",
      "sign(f1(prevfloat(root))) * sign(f1(nextfloat(root))): 1.0\n",
      "-------------------\n"
     ]
    }
   ],
   "source": [
    "println(\"Tested function - f5\\n\\n\\n\")\n",
    "\n",
    "index = 5\n",
    "detected_roots = [\n",
    "    find_zero(\n",
    "        test_functions[index][1],\n",
    "        (test_functions[index][2], test_functions[index][3]), \n",
    "        Bisection(),\n",
    "        verbose=true),\n",
    "\n",
    "    find_zero(\n",
    "        (test_functions[index][1], D(test_functions[index][1])), \n",
    "        test_functions[index][2], \n",
    "        Roots.Newton(),\n",
    "        verbose=true),\n",
    "    \n",
    "    find_zero(\n",
    "        test_functions[index][1], \n",
    "        test_functions[index][2],   \n",
    "        verbose=true) \n",
    "    ];\n",
    "\n",
    "println(\"\\n\\n\\nChecking correctness\\n\")\n",
    "\n",
    "for i in 1:length(detected_roots)\n",
    "    if detected_roots[i] != NaN\n",
    "        root = detected_roots[i]\n",
    "        println(algorithms[i])\n",
    "        println(\"detected root: \",root)\n",
    "        println(\"f(x): \",test_functions[index][1](root))\n",
    "        println(\"iszero: \",iszero(test_functions[index][1](root)))\n",
    "        println(\"sign(f1(prevfloat(root))) * sign(f1(nextfloat(root))): \",\n",
    "            sign(test_functions[index][1](prevfloat(root))) * \n",
    "            sign(test_functions[index][1](nextfloat(root))) )\n",
    "\n",
    "        println(\"-------------------\")\n",
    "    end\n",
    "end"
   ]
  },
  {
   "cell_type": "code",
   "execution_count": 58,
   "metadata": {},
   "outputs": [],
   "source": [
    "push!(df_test,\n",
    "    [\"f5\", \"bisection\", \n",
    "        0, 3,\n",
    "        0.0,\n",
    "        0.0,\n",
    "        true, -0.0\n",
    "    ]\n",
    ");\n",
    "push!(df_test,\n",
    "    [\"f5\", \"newton\", \n",
    "        29, 58,\n",
    "        -7.822642576269843e-6,\n",
    "        -4.786967314877968e-16,\n",
    "        false, 1.0\n",
    "    ]\n",
    ");\n",
    "push!(df_test,\n",
    "    [\"f5\", \"secant\", \n",
    "        39, 43,\n",
    "        -2.6544374475551515e-5,\n",
    "        -1.870326755672507e-14,\n",
    "        false, 1.0\n",
    "    ]\n",
    ");"
   ]
  },
  {
   "cell_type": "code",
   "execution_count": 42,
   "metadata": {},
   "outputs": [
    {
     "name": "stdout",
     "output_type": "stream",
     "text": [
      "Tested function - f6\n",
      "\n",
      "\n",
      "\n"
     ]
    },
    {
     "data": {
      "text/plain": [
       "Results of univariate zero finding:\n",
       "\n",
       "* Converged to: 0.0\n",
       "* Algorithm: Bisection()\n",
       "* iterations: 0\n",
       "* function evaluations ≈ 3\n",
       "* stopped as f(x_n) = 0\n",
       "\n",
       "Trace:\n",
       "(a₀, b₀) = ( 0, 2 )\n",
       "\n"
      ]
     },
     "metadata": {},
     "output_type": "display_data"
    },
    {
     "data": {
      "text/plain": [
       "Results of univariate zero finding:\n",
       "\n",
       "* Converged to: -1.6833214850237586e7\n",
       "* Algorithm: Roots.Newton()\n",
       "* iterations: 23\n",
       "* function evaluations ≈ 46\n",
       "* stopped as |f(x_n)| ≤ max(δ, |x|⋅ϵ) using δ = atol, ϵ = rtol\n",
       "\n",
       "Trace:\n",
       "x₁ = -2,\t fx₁ = -0.099750623441396513\n",
       "x₂ = -4.0100250626566414,\t fx₂ = -0.049844003065890263\n",
       "x₃ = -8.0250407288643615,\t fx₃ = -0.024918122697889723\n",
       "x₄ = -16.052574043958064,\t fx₄ = -0.012458577567897847\n",
       "x₅ = -32.106394042372798,\t fx₅ = -0.0062292283447633531\n",
       "x₆ = -64.213411019666154,\t fx₆ = -0.0031146066185278954\n",
       "x₇ = -128.42713350150484,\t fx₇ = -0.0015573023650648575\n",
       "x₈ = -256.854422733435,\t fx₈ = -0.00077865106450856222\n",
       "x₉ = -513.70892333200004,\t fx₉ = -0.00038932551750132965\n",
       "x₁₀ = -1027.4178855965547,\t fx₁₀ = -0.00019466275690654692\n",
       "x₁₁ = -2054.8357906593856,\t fx₁₁ = -9.7331378222758716e-05\n",
       "x₁₂ = -4109.6715910519088,\t fx₁₂ = -4.8665689082565025e-05\n",
       "x₁₃ = -8219.3431869703854,\t fx₁₃ = -2.4332844537680725e-05\n",
       "x₁₄ = -16438.686376374055,\t fx₁₄ = -1.2166422268390139e-05\n",
       "x₁₅ = -32877.372753964752,\t fx₁₅ = -6.083211134138791e-06\n",
       "x₁₆ = -65754.745508537817,\t fx₁₆ = -3.0416055670623617e-06\n",
       "x₁₇ = -131509.4910173798,\t fx₁₇ = -1.5208027835303014e-06\n",
       "x₁₈ = -263018.98203491175,\t fx₁₈ = -7.604013917650406e-07\n",
       "x₁₉ = -526037.96406989952,\t fx₁₉ = -3.8020069588250654e-07\n",
       "x₂₀ = -1052075.928139837,\t fx₂₀ = -1.901003479412516e-07\n",
       "x₂₁ = -2104151.8562796926,\t fx₂₁ = -9.5050173970625589e-08\n",
       "x₂₂ = -4208303.7125593945,\t fx₂₂ = -4.7525086985312761e-08\n",
       "x₂₃ = -8416607.4251187928,\t fx₂₃ = -2.3762543492656381e-08\n",
       "x₂₄ = -16833214.850237586,\t fx₂₄ = -1.1881271746328192e-08\n",
       "\n"
      ]
     },
     "metadata": {},
     "output_type": "display_data"
    },
    {
     "data": {
      "text/plain": [
       "Results of univariate zero finding:\n",
       "\n",
       "* Converged to: -1.8865593260698173e7\n",
       "* Algorithm: Secant()\n",
       "* iterations: 35\n",
       "* function evaluations ≈ 39\n",
       "* stopped as |f(x_n)| ≤ max(δ, |x|⋅ϵ) using δ = atol, ϵ = rtol\n",
       "\n",
       "Trace:\n",
       "x₁ = -1.9999939444722106,\t fx₁ = -0.099750923957294887\n",
       "x₂ = -2,\t fx₂ = -0.099750623441396513\n",
       "x₃ = -2.0006055527789428,\t fx₃ = -0.099720580969859529\n",
       "x₄ = -2.0611608306732236,\t fx₄ = -0.096804837010547165\n",
       "x₅ = -4.0716404504498254,\t fx₅ = -0.049090639315222291\n",
       "x₆ = -6.1401176465932448,\t fx₆ = -0.032564028353809164\n",
       "x₇ = -10.215844377360462,\t fx₇ = -0.019575556425547185\n",
       "x₈ = -16.358569944610529,\t fx₈ = -0.012225550717048327\n",
       "x₉ = -26.576004589115449,\t fx₉ = -0.0075254791459511017\n",
       "x₁₀ = -42.935562136106157,\t fx₁₀ = -0.004658118006163477\n",
       "x₁₁ = -69.512175917008989,\t fx₁₁ = -0.0028771878228561819\n",
       "x₁₂ = -112.44811482123015,\t fx₁₂ = -0.0017785966634258814\n",
       "x₁₃ = -181.9605235281293,\t fx₁₃ = -0.0010991391743479873\n",
       "x₁₄ = -294.40878223630864,\t fx₁₄ = -0.00067932748271474781\n",
       "x₁₅ = -476.36939468780787,\t fx₁₅ = -0.00041984223465425596\n",
       "x₁₆ = -770.77823188261107,\t fx₁₆ = -0.00025947800334872212\n",
       "x₁₇ = -1247.1476605364332,\t fx₁₇ = -0.00016036593343575113\n",
       "x₁₈ = -2017.9259134112417,\t fx₁₈ = -9.911166618141596e-05\n",
       "x₁₉ = -3265.0735869215541,\t fx₁₉ = -6.1254362111012447e-05\n",
       "x₂₀ = -5282.9995083510967,\t fx₂₀ = -3.785728157123457e-05\n",
       "x₂₁ = -8548.0731002282319,\t fx₂₁ = -2.3397085825961043e-05\n",
       "x₂₂ = -13831.072611642052,\t fx₂₂ = -1.4460194491437982e-05\n",
       "x₂₃ = -22379.145713763144,\t fx₂₃ = -8.9368916291119574e-06\n",
       "x₂₄ = -36210.21832657505,\t fx₂₄ = -5.5233027924521691e-06\n",
       "x₂₅ = -58589.364041061213,\t fx₂₅ = -3.4135888530766653e-06\n",
       "x₂₆ = -94799.582368083094,\t fx₂₆ = -2.1097139354815659e-06\n",
       "x₂₇ = -153388.94640942046,\t fx₂₇ = -1.3038749185099814e-06\n",
       "x₂₈ = -248188.52877767425,\t fx₂₈ = -8.0583901675458306e-07\n",
       "x₂₉ = -401577.47518720024,\t fx₂₉ = -4.9803590180638282e-07\n",
       "x₃₀ = -649766.00396493962,\t fx₃₀ = -3.0780311493610699e-07\n",
       "x₃₁ = -1051343.4791521803,\t fx₃₁ = -1.9023278687311714e-07\n",
       "x₃₂ = -1701109.4831171446,\t fx₃₂ = -1.1757032806231589e-07\n",
       "x₃₃ = -2752452.9622693402,\t fx₃₃ = -7.2662458810959613e-08\n",
       "x₃₄ = -4453562.4453864936,\t fx₃₄ = -4.4907869251318708e-08\n",
       "x₃₅ = -7206015.4076558389,\t fx₃₅ = -2.7754589559649747e-08\n",
       "x₃₆ = -11659577.853042338,\t fx₃₆ = -1.715327969166687e-08\n",
       "x₃₇ = -18865593.260698173,\t fx₃₇ = -1.0601309867983364e-08\n",
       "\n"
      ]
     },
     "metadata": {},
     "output_type": "display_data"
    },
    {
     "name": "stdout",
     "output_type": "stream",
     "text": [
      "\n",
      "\n",
      "\n",
      "Checking correctness\n",
      "\n",
      "Roots.BisectionExact()\n",
      "detected root: 0.0\n",
      "f(x): 0.0\n",
      "iszero: true\n",
      "sign(f1(prevfloat(root))) * sign(f1(nextfloat(root))): -1.0\n",
      "-------------------\n",
      "Roots.Newton()\n",
      "detected root: -1.6833214850237586e7\n",
      "f(x): -1.1881271746328192e-8\n",
      "iszero: false\n",
      "sign(f1(prevfloat(root))) * sign(f1(nextfloat(root))): 1.0\n",
      "-------------------\n",
      "Roots.Secant()\n",
      "detected root: -1.8865593260698173e7\n",
      "f(x): -1.0601309867983364e-8\n",
      "iszero: false\n",
      "sign(f1(prevfloat(root))) * sign(f1(nextfloat(root))): 1.0\n",
      "-------------------\n"
     ]
    }
   ],
   "source": [
    "println(\"Tested function - f6\\n\\n\\n\")\n",
    "\n",
    "index = 6\n",
    "detected_roots = [\n",
    "    find_zero(\n",
    "        test_functions[index][1],\n",
    "        (test_functions[index][2], test_functions[index][3]), \n",
    "        Bisection(),\n",
    "        verbose=true),\n",
    "\n",
    "    find_zero(\n",
    "        (test_functions[index][1], D(test_functions[index][1])), \n",
    "        test_functions[index][2], \n",
    "        Roots.Newton(),\n",
    "        verbose=true),\n",
    "    \n",
    "    find_zero(\n",
    "        test_functions[index][1], \n",
    "        test_functions[index][2],   \n",
    "        verbose=true) \n",
    "    ];\n",
    "\n",
    "println(\"\\n\\n\\nChecking correctness\\n\")\n",
    "\n",
    "for i in 1:length(detected_roots)\n",
    "    if detected_roots[i] != NaN\n",
    "        root = detected_roots[i]\n",
    "        println(algorithms[i])\n",
    "        println(\"detected root: \",root)\n",
    "        println(\"f(x): \",test_functions[index][1](root))\n",
    "        println(\"iszero: \",iszero(test_functions[index][1](root)))\n",
    "        println(\"sign(f1(prevfloat(root))) * sign(f1(nextfloat(root))): \",\n",
    "            sign(test_functions[index][1](prevfloat(root))) * \n",
    "            sign(test_functions[index][1](nextfloat(root))) )\n",
    "\n",
    "        println(\"-------------------\")\n",
    "    end\n",
    "end"
   ]
  },
  {
   "cell_type": "code",
   "execution_count": 57,
   "metadata": {},
   "outputs": [],
   "source": [
    "push!(df_test,\n",
    "    [\"f6\", \"bisection\", \n",
    "        0, 3,\n",
    "        0.0,\n",
    "        0.0,\n",
    "        true, -1.0\n",
    "    ]\n",
    ");\n",
    "push!(df_test,\n",
    "    [\"f6\", \"newton\", \n",
    "        23,46,\n",
    "        -1.6833214850237586e7,\n",
    "        -1.1881271746328192e-8,\n",
    "        false, 1.0\n",
    "    ]\n",
    ");\n",
    "push!(df_test,\n",
    "    [\"f6\", \"secant\", \n",
    "        35, 39,\n",
    "        -1.8865593260698173e7,\n",
    "        -1.0601309867983364e-8,\n",
    "        false, 1.0\n",
    "    ]\n",
    ");"
   ]
  },
  {
   "cell_type": "code",
   "execution_count": 63,
   "metadata": {},
   "outputs": [
    {
     "data": {
      "text/html": [
       "<div class=\"data-frame\"><p>18 rows × 8 columns (omitted printing of 1 columns)</p><table class=\"data-frame\"><thead><tr><th></th><th>fun</th><th>method</th><th>iterations</th><th>counting_function</th><th>root_x</th><th>root_y</th><th>correct_iszero</th></tr><tr><th></th><th title=\"String\">String</th><th title=\"String\">String</th><th title=\"Int64\">Int64</th><th title=\"Int64\">Int64</th><th title=\"Float64\">Float64</th><th title=\"Float64\">Float64</th><th title=\"Bool\">Bool</th></tr></thead><tbody><tr><th>1</th><td>f6</td><td>bisection</td><td>0</td><td>3</td><td>0.0</td><td>0.0</td><td>1</td></tr><tr><th>2</th><td>f6</td><td>newton</td><td>23</td><td>46</td><td>-1.68332e7</td><td>-1.18813e-8</td><td>0</td></tr><tr><th>3</th><td>f6</td><td>secant</td><td>35</td><td>39</td><td>-1.88656e7</td><td>-1.06013e-8</td><td>0</td></tr><tr><th>4</th><td>f5</td><td>bisection</td><td>0</td><td>3</td><td>0.0</td><td>0.0</td><td>1</td></tr><tr><th>5</th><td>f5</td><td>newton</td><td>29</td><td>58</td><td>-7.82264e-6</td><td>-4.78697e-16</td><td>0</td></tr><tr><th>6</th><td>f5</td><td>secant</td><td>39</td><td>43</td><td>-2.65444e-5</td><td>-1.87033e-14</td><td>0</td></tr><tr><th>7</th><td>f4</td><td>bisection</td><td>61</td><td>64</td><td>-3.0</td><td>0.0</td><td>1</td></tr><tr><th>8</th><td>f4</td><td>newton</td><td>6</td><td>12</td><td>-3.0</td><td>0.0</td><td>0</td></tr><tr><th>9</th><td>f4</td><td>secant</td><td>11</td><td>14</td><td>-3.0</td><td>0.0</td><td>1</td></tr><tr><th>10</th><td>f3</td><td>bisection</td><td>0</td><td>3</td><td>0.0</td><td>0.0</td><td>1</td></tr><tr><th>11</th><td>f3</td><td>newton</td><td>4</td><td>8</td><td>-4.49848e-17</td><td>-4.49848e-17</td><td>0</td></tr><tr><th>12</th><td>f3</td><td>secant</td><td>8</td><td>11</td><td>0.0</td><td>0.0</td><td>1</td></tr><tr><th>13</th><td>f2</td><td>bisection</td><td>61</td><td>64</td><td>0.351734</td><td>0.0</td><td>1</td></tr><tr><th>14</th><td>f2</td><td>newton</td><td>5</td><td>10</td><td>0.351734</td><td>0.0</td><td>1</td></tr><tr><th>15</th><td>f2</td><td>secant</td><td>7</td><td>11</td><td>0.351734</td><td>0.0</td><td>1</td></tr><tr><th>16</th><td>f1</td><td>bisection</td><td>0</td><td>3</td><td>0.0</td><td>0.0</td><td>1</td></tr><tr><th>17</th><td>f1</td><td>newton</td><td>6</td><td>12</td><td>-1.89549</td><td>0.0</td><td>1</td></tr><tr><th>18</th><td>f1</td><td>secant</td><td>4</td><td>10</td><td>-1.89549</td><td>-2.22045e-16</td><td>0</td></tr></tbody></table></div>"
      ],
      "text/latex": [
       "\\begin{tabular}{r|cccccccc}\n",
       "\t& fun & method & iterations & counting\\_function & root\\_x & root\\_y & correct\\_iszero & \\\\\n",
       "\t\\hline\n",
       "\t& String & String & Int64 & Int64 & Float64 & Float64 & Bool & \\\\\n",
       "\t\\hline\n",
       "\t1 & f6 & bisection & 0 & 3 & 0.0 & 0.0 & 1 & $\\dots$ \\\\\n",
       "\t2 & f6 & newton & 23 & 46 & -1.68332e7 & -1.18813e-8 & 0 & $\\dots$ \\\\\n",
       "\t3 & f6 & secant & 35 & 39 & -1.88656e7 & -1.06013e-8 & 0 & $\\dots$ \\\\\n",
       "\t4 & f5 & bisection & 0 & 3 & 0.0 & 0.0 & 1 & $\\dots$ \\\\\n",
       "\t5 & f5 & newton & 29 & 58 & -7.82264e-6 & -4.78697e-16 & 0 & $\\dots$ \\\\\n",
       "\t6 & f5 & secant & 39 & 43 & -2.65444e-5 & -1.87033e-14 & 0 & $\\dots$ \\\\\n",
       "\t7 & f4 & bisection & 61 & 64 & -3.0 & 0.0 & 1 & $\\dots$ \\\\\n",
       "\t8 & f4 & newton & 6 & 12 & -3.0 & 0.0 & 0 & $\\dots$ \\\\\n",
       "\t9 & f4 & secant & 11 & 14 & -3.0 & 0.0 & 1 & $\\dots$ \\\\\n",
       "\t10 & f3 & bisection & 0 & 3 & 0.0 & 0.0 & 1 & $\\dots$ \\\\\n",
       "\t11 & f3 & newton & 4 & 8 & -4.49848e-17 & -4.49848e-17 & 0 & $\\dots$ \\\\\n",
       "\t12 & f3 & secant & 8 & 11 & 0.0 & 0.0 & 1 & $\\dots$ \\\\\n",
       "\t13 & f2 & bisection & 61 & 64 & 0.351734 & 0.0 & 1 & $\\dots$ \\\\\n",
       "\t14 & f2 & newton & 5 & 10 & 0.351734 & 0.0 & 1 & $\\dots$ \\\\\n",
       "\t15 & f2 & secant & 7 & 11 & 0.351734 & 0.0 & 1 & $\\dots$ \\\\\n",
       "\t16 & f1 & bisection & 0 & 3 & 0.0 & 0.0 & 1 & $\\dots$ \\\\\n",
       "\t17 & f1 & newton & 6 & 12 & -1.89549 & 0.0 & 1 & $\\dots$ \\\\\n",
       "\t18 & f1 & secant & 4 & 10 & -1.89549 & -2.22045e-16 & 0 & $\\dots$ \\\\\n",
       "\\end{tabular}\n"
      ],
      "text/plain": [
       "\u001b[1m18×8 DataFrame\u001b[0m\n",
       "\u001b[1m Row \u001b[0m│\u001b[1m fun    \u001b[0m\u001b[1m method    \u001b[0m\u001b[1m iterations \u001b[0m\u001b[1m counting_function \u001b[0m\u001b[1m root_x       \u001b[0m\u001b[1m root_y \u001b[0m ⋯\n",
       "\u001b[1m     \u001b[0m│\u001b[90m String \u001b[0m\u001b[90m String    \u001b[0m\u001b[90m Int64      \u001b[0m\u001b[90m Int64             \u001b[0m\u001b[90m Float64      \u001b[0m\u001b[90m Float64\u001b[0m ⋯\n",
       "─────┼──────────────────────────────────────────────────────────────────────────\n",
       "   1 │ f6      bisection           0                  3   0.0           0.0    ⋯\n",
       "   2 │ f6      newton             23                 46  -1.68332e7    -1.1881\n",
       "   3 │ f6      secant             35                 39  -1.88656e7    -1.0601\n",
       "   4 │ f5      bisection           0                  3   0.0           0.0\n",
       "   5 │ f5      newton             29                 58  -7.82264e-6   -4.7869 ⋯\n",
       "   6 │ f5      secant             39                 43  -2.65444e-5   -1.8703\n",
       "   7 │ f4      bisection          61                 64  -3.0           0.0\n",
       "   8 │ f4      newton              6                 12  -3.0           0.0\n",
       "   9 │ f4      secant             11                 14  -3.0           0.0    ⋯\n",
       "  10 │ f3      bisection           0                  3   0.0           0.0\n",
       "  11 │ f3      newton              4                  8  -4.49848e-17  -4.4984\n",
       "  12 │ f3      secant              8                 11   0.0           0.0\n",
       "  13 │ f2      bisection          61                 64   0.351734      0.0    ⋯\n",
       "  14 │ f2      newton              5                 10   0.351734      0.0\n",
       "  15 │ f2      secant              7                 11   0.351734      0.0\n",
       "  16 │ f1      bisection           0                  3   0.0           0.0\n",
       "  17 │ f1      newton              6                 12  -1.89549       0.0    ⋯\n",
       "  18 │ f1      secant              4                 10  -1.89549      -2.2204\n",
       "\u001b[36m                                                               3 columns omitted\u001b[0m"
      ]
     },
     "execution_count": 63,
     "metadata": {},
     "output_type": "execute_result"
    }
   ],
   "source": [
    "df_test"
   ]
  },
  {
   "cell_type": "markdown",
   "metadata": {},
   "source": [
    "# 2\n",
    "Zademonstrować wybrany, ciekawy przykład trudnej funkcji z p.1 i działania metod na niej. (1 pkt)"
   ]
  },
  {
   "cell_type": "code",
   "execution_count": 64,
   "metadata": {},
   "outputs": [
    {
     "data": {
      "text/plain": [
       "f6 (generic function with 1 method)"
      ]
     },
     "execution_count": 64,
     "metadata": {},
     "output_type": "execute_result"
    }
   ],
   "source": [
    "f6(x) = 20.0 * x / ( 100.0 * x * x + 1.0 ) # 10. The repeller\n",
    "index = 6"
   ]
  },
  {
   "cell_type": "code",
   "execution_count": 74,
   "metadata": {},
   "outputs": [
    {
     "data": {
      "image/svg+xml": [
       "<?xml version=\"1.0\" encoding=\"utf-8\"?>\n",
       "<svg xmlns=\"http://www.w3.org/2000/svg\" xmlns:xlink=\"http://www.w3.org/1999/xlink\" width=\"600\" height=\"400\" viewBox=\"0 0 2400 1600\">\n",
       "<defs>\n",
       "  <clipPath id=\"clip170\">\n",
       "    <rect x=\"0\" y=\"0\" width=\"2400\" height=\"1600\"/>\n",
       "  </clipPath>\n",
       "</defs>\n",
       "<path clip-path=\"url(#clip170)\" d=\"\n",
       "M0 1600 L2400 1600 L2400 0 L0 0  Z\n",
       "  \" fill=\"#ffffff\" fill-rule=\"evenodd\" fill-opacity=\"1\"/>\n",
       "<defs>\n",
       "  <clipPath id=\"clip171\">\n",
       "    <rect x=\"480\" y=\"0\" width=\"1681\" height=\"1600\"/>\n",
       "  </clipPath>\n",
       "</defs>\n",
       "<path clip-path=\"url(#clip170)\" d=\"\n",
       "M179.654 1486.45 L2352.76 1486.45 L2352.76 123.472 L179.654 123.472  Z\n",
       "  \" fill=\"#ffffff\" fill-rule=\"evenodd\" fill-opacity=\"1\"/>\n",
       "<defs>\n",
       "  <clipPath id=\"clip172\">\n",
       "    <rect x=\"179\" y=\"123\" width=\"2174\" height=\"1364\"/>\n",
       "  </clipPath>\n",
       "</defs>\n",
       "<polyline clip-path=\"url(#clip172)\" style=\"stroke:#000000; stroke-width:2; stroke-opacity:0.1; fill:none\" points=\"\n",
       "  241.157,1486.45 241.157,123.472 \n",
       "  \"/>\n",
       "<polyline clip-path=\"url(#clip172)\" style=\"stroke:#000000; stroke-width:2; stroke-opacity:0.1; fill:none\" points=\"\n",
       "  753.681,1486.45 753.681,123.472 \n",
       "  \"/>\n",
       "<polyline clip-path=\"url(#clip172)\" style=\"stroke:#000000; stroke-width:2; stroke-opacity:0.1; fill:none\" points=\"\n",
       "  1266.2,1486.45 1266.2,123.472 \n",
       "  \"/>\n",
       "<polyline clip-path=\"url(#clip172)\" style=\"stroke:#000000; stroke-width:2; stroke-opacity:0.1; fill:none\" points=\"\n",
       "  1778.73,1486.45 1778.73,123.472 \n",
       "  \"/>\n",
       "<polyline clip-path=\"url(#clip172)\" style=\"stroke:#000000; stroke-width:2; stroke-opacity:0.1; fill:none\" points=\"\n",
       "  2291.25,1486.45 2291.25,123.472 \n",
       "  \"/>\n",
       "<polyline clip-path=\"url(#clip170)\" style=\"stroke:#000000; stroke-width:4; stroke-opacity:1; fill:none\" points=\"\n",
       "  179.654,1486.45 2352.76,1486.45 \n",
       "  \"/>\n",
       "<polyline clip-path=\"url(#clip170)\" style=\"stroke:#000000; stroke-width:4; stroke-opacity:1; fill:none\" points=\"\n",
       "  241.157,1486.45 241.157,1470.09 \n",
       "  \"/>\n",
       "<polyline clip-path=\"url(#clip170)\" style=\"stroke:#000000; stroke-width:4; stroke-opacity:1; fill:none\" points=\"\n",
       "  753.681,1486.45 753.681,1470.09 \n",
       "  \"/>\n",
       "<polyline clip-path=\"url(#clip170)\" style=\"stroke:#000000; stroke-width:4; stroke-opacity:1; fill:none\" points=\"\n",
       "  1266.2,1486.45 1266.2,1470.09 \n",
       "  \"/>\n",
       "<polyline clip-path=\"url(#clip170)\" style=\"stroke:#000000; stroke-width:4; stroke-opacity:1; fill:none\" points=\"\n",
       "  1778.73,1486.45 1778.73,1470.09 \n",
       "  \"/>\n",
       "<polyline clip-path=\"url(#clip170)\" style=\"stroke:#000000; stroke-width:4; stroke-opacity:1; fill:none\" points=\"\n",
       "  2291.25,1486.45 2291.25,1470.09 \n",
       "  \"/>\n",
       "<path clip-path=\"url(#clip170)\" d=\"M 0 0 M213.61 1530.29 L243.286 1530.29 L243.286 1534.23 L213.61 1534.23 L213.61 1530.29 Z\" fill=\"#000000\" fill-rule=\"evenodd\" fill-opacity=\"1\" /><path clip-path=\"url(#clip170)\" d=\"M 0 0 M252.383 1543.18 L268.703 1543.18 L268.703 1547.12 L246.758 1547.12 L246.758 1543.18 Q249.42 1540.43 254.004 1535.8 Q258.61 1531.15 259.791 1529.81 Q262.036 1527.28 262.916 1525.55 Q263.818 1523.79 263.818 1522.1 Q263.818 1519.34 261.874 1517.61 Q259.953 1515.87 256.851 1515.87 Q254.652 1515.87 252.198 1516.63 Q249.768 1517.4 246.99 1518.95 L246.99 1514.23 Q249.814 1513.09 252.268 1512.51 Q254.721 1511.93 256.758 1511.93 Q262.129 1511.93 265.323 1514.62 Q268.518 1517.31 268.518 1521.8 Q268.518 1523.93 267.707 1525.85 Q266.92 1527.74 264.814 1530.34 Q264.235 1531.01 261.133 1534.23 Q258.031 1537.42 252.383 1543.18 Z\" fill=\"#000000\" fill-rule=\"evenodd\" fill-opacity=\"1\" /><path clip-path=\"url(#clip170)\" d=\"M 0 0 M725.949 1530.29 L755.625 1530.29 L755.625 1534.23 L725.949 1534.23 L725.949 1530.29 Z\" fill=\"#000000\" fill-rule=\"evenodd\" fill-opacity=\"1\" /><path clip-path=\"url(#clip170)\" d=\"M 0 0 M761.505 1543.18 L769.144 1543.18 L769.144 1516.82 L760.833 1518.49 L760.833 1514.23 L769.097 1512.56 L773.773 1512.56 L773.773 1543.18 L781.412 1543.18 L781.412 1547.12 L761.505 1547.12 L761.505 1543.18 Z\" fill=\"#000000\" fill-rule=\"evenodd\" fill-opacity=\"1\" /><path clip-path=\"url(#clip170)\" d=\"M 0 0 M1266.2 1515.64 Q1262.59 1515.64 1260.77 1519.2 Q1258.96 1522.75 1258.96 1529.87 Q1258.96 1536.98 1260.77 1540.55 Q1262.59 1544.09 1266.2 1544.09 Q1269.84 1544.09 1271.64 1540.55 Q1273.47 1536.98 1273.47 1529.87 Q1273.47 1522.75 1271.64 1519.2 Q1269.84 1515.64 1266.2 1515.64 M1266.2 1511.93 Q1272.01 1511.93 1275.07 1516.54 Q1278.15 1521.12 1278.15 1529.87 Q1278.15 1538.6 1275.07 1543.21 Q1272.01 1547.79 1266.2 1547.79 Q1260.39 1547.79 1257.32 1543.21 Q1254.26 1538.6 1254.26 1529.87 Q1254.26 1521.12 1257.32 1516.54 Q1260.39 1511.93 1266.2 1511.93 Z\" fill=\"#000000\" fill-rule=\"evenodd\" fill-opacity=\"1\" /><path clip-path=\"url(#clip170)\" d=\"M 0 0 M1769.11 1543.18 L1776.75 1543.18 L1776.75 1516.82 L1768.44 1518.49 L1768.44 1514.23 L1776.7 1512.56 L1781.38 1512.56 L1781.38 1543.18 L1789.02 1543.18 L1789.02 1547.12 L1769.11 1547.12 L1769.11 1543.18 Z\" fill=\"#000000\" fill-rule=\"evenodd\" fill-opacity=\"1\" /><path clip-path=\"url(#clip170)\" d=\"M 0 0 M2285.91 1543.18 L2302.23 1543.18 L2302.23 1547.12 L2280.28 1547.12 L2280.28 1543.18 Q2282.94 1540.43 2287.53 1535.8 Q2292.13 1531.15 2293.31 1529.81 Q2295.56 1527.28 2296.44 1525.55 Q2297.34 1523.79 2297.34 1522.1 Q2297.34 1519.34 2295.4 1517.61 Q2293.48 1515.87 2290.37 1515.87 Q2288.17 1515.87 2285.72 1516.63 Q2283.29 1517.4 2280.51 1518.95 L2280.51 1514.23 Q2283.34 1513.09 2285.79 1512.51 Q2288.24 1511.93 2290.28 1511.93 Q2295.65 1511.93 2298.85 1514.62 Q2302.04 1517.31 2302.04 1521.8 Q2302.04 1523.93 2301.23 1525.85 Q2300.44 1527.74 2298.34 1530.34 Q2297.76 1531.01 2294.66 1534.23 Q2291.55 1537.42 2285.91 1543.18 Z\" fill=\"#000000\" fill-rule=\"evenodd\" fill-opacity=\"1\" /><polyline clip-path=\"url(#clip172)\" style=\"stroke:#000000; stroke-width:2; stroke-opacity:0.1; fill:none\" points=\"\n",
       "  179.654,1447.92 2352.76,1447.92 \n",
       "  \"/>\n",
       "<polyline clip-path=\"url(#clip172)\" style=\"stroke:#000000; stroke-width:2; stroke-opacity:0.1; fill:none\" points=\"\n",
       "  179.654,1126.45 2352.76,1126.45 \n",
       "  \"/>\n",
       "<polyline clip-path=\"url(#clip172)\" style=\"stroke:#000000; stroke-width:2; stroke-opacity:0.1; fill:none\" points=\"\n",
       "  179.654,804.973 2352.76,804.973 \n",
       "  \"/>\n",
       "<polyline clip-path=\"url(#clip172)\" style=\"stroke:#000000; stroke-width:2; stroke-opacity:0.1; fill:none\" points=\"\n",
       "  179.654,483.501 2352.76,483.501 \n",
       "  \"/>\n",
       "<polyline clip-path=\"url(#clip172)\" style=\"stroke:#000000; stroke-width:2; stroke-opacity:0.1; fill:none\" points=\"\n",
       "  179.654,162.028 2352.76,162.028 \n",
       "  \"/>\n",
       "<polyline clip-path=\"url(#clip170)\" style=\"stroke:#000000; stroke-width:4; stroke-opacity:1; fill:none\" points=\"\n",
       "  179.654,1486.45 179.654,123.472 \n",
       "  \"/>\n",
       "<polyline clip-path=\"url(#clip170)\" style=\"stroke:#000000; stroke-width:4; stroke-opacity:1; fill:none\" points=\"\n",
       "  179.654,1447.92 205.731,1447.92 \n",
       "  \"/>\n",
       "<polyline clip-path=\"url(#clip170)\" style=\"stroke:#000000; stroke-width:4; stroke-opacity:1; fill:none\" points=\"\n",
       "  179.654,1126.45 205.731,1126.45 \n",
       "  \"/>\n",
       "<polyline clip-path=\"url(#clip170)\" style=\"stroke:#000000; stroke-width:4; stroke-opacity:1; fill:none\" points=\"\n",
       "  179.654,804.973 205.731,804.973 \n",
       "  \"/>\n",
       "<polyline clip-path=\"url(#clip170)\" style=\"stroke:#000000; stroke-width:4; stroke-opacity:1; fill:none\" points=\"\n",
       "  179.654,483.501 205.731,483.501 \n",
       "  \"/>\n",
       "<polyline clip-path=\"url(#clip170)\" style=\"stroke:#000000; stroke-width:4; stroke-opacity:1; fill:none\" points=\"\n",
       "  179.654,162.028 205.731,162.028 \n",
       "  \"/>\n",
       "<path clip-path=\"url(#clip170)\" d=\"M 0 0 M51.2236 1448.37 L80.8994 1448.37 L80.8994 1452.3 L51.2236 1452.3 L51.2236 1448.37 Z\" fill=\"#000000\" fill-rule=\"evenodd\" fill-opacity=\"1\" /><path clip-path=\"url(#clip170)\" d=\"M 0 0 M86.779 1461.26 L94.4178 1461.26 L94.4178 1434.9 L86.1077 1436.56 L86.1077 1432.3 L94.3715 1430.64 L99.0474 1430.64 L99.0474 1461.26 L106.686 1461.26 L106.686 1465.2 L86.779 1465.2 L86.779 1461.26 Z\" fill=\"#000000\" fill-rule=\"evenodd\" fill-opacity=\"1\" /><path clip-path=\"url(#clip170)\" d=\"M 0 0 M111.756 1459.32 L116.64 1459.32 L116.64 1465.2 L111.756 1465.2 L111.756 1459.32 Z\" fill=\"#000000\" fill-rule=\"evenodd\" fill-opacity=\"1\" /><path clip-path=\"url(#clip170)\" d=\"M 0 0 M131.709 1433.72 Q128.098 1433.72 126.27 1437.28 Q124.464 1440.82 124.464 1447.95 Q124.464 1455.06 126.27 1458.62 Q128.098 1462.17 131.709 1462.17 Q135.344 1462.17 137.149 1458.62 Q138.978 1455.06 138.978 1447.95 Q138.978 1440.82 137.149 1437.28 Q135.344 1433.72 131.709 1433.72 M131.709 1430.01 Q137.519 1430.01 140.575 1434.62 Q143.654 1439.2 143.654 1447.95 Q143.654 1456.68 140.575 1461.29 Q137.519 1465.87 131.709 1465.87 Q125.899 1465.87 122.82 1461.29 Q119.765 1456.68 119.765 1447.95 Q119.765 1439.2 122.82 1434.62 Q125.899 1430.01 131.709 1430.01 Z\" fill=\"#000000\" fill-rule=\"evenodd\" fill-opacity=\"1\" /><path clip-path=\"url(#clip170)\" d=\"M 0 0 M50.9921 1126.9 L80.6679 1126.9 L80.6679 1130.83 L50.9921 1130.83 L50.9921 1126.9 Z\" fill=\"#000000\" fill-rule=\"evenodd\" fill-opacity=\"1\" /><path clip-path=\"url(#clip170)\" d=\"M 0 0 M95.7373 1112.24 Q92.1262 1112.24 90.2975 1115.81 Q88.4919 1119.35 88.4919 1126.48 Q88.4919 1133.59 90.2975 1137.15 Q92.1262 1140.69 95.7373 1140.69 Q99.3715 1140.69 101.177 1137.15 Q103.006 1133.59 103.006 1126.48 Q103.006 1119.35 101.177 1115.81 Q99.3715 1112.24 95.7373 1112.24 M95.7373 1108.54 Q101.547 1108.54 104.603 1113.15 Q107.682 1117.73 107.682 1126.48 Q107.682 1135.21 104.603 1139.81 Q101.547 1144.4 95.7373 1144.4 Q89.9271 1144.4 86.8484 1139.81 Q83.7929 1135.21 83.7929 1126.48 Q83.7929 1117.73 86.8484 1113.15 Q89.9271 1108.54 95.7373 1108.54 Z\" fill=\"#000000\" fill-rule=\"evenodd\" fill-opacity=\"1\" /><path clip-path=\"url(#clip170)\" d=\"M 0 0 M112.751 1137.85 L117.635 1137.85 L117.635 1143.73 L112.751 1143.73 L112.751 1137.85 Z\" fill=\"#000000\" fill-rule=\"evenodd\" fill-opacity=\"1\" /><path clip-path=\"url(#clip170)\" d=\"M 0 0 M122.751 1109.17 L141.107 1109.17 L141.107 1113.1 L127.033 1113.1 L127.033 1121.57 Q128.052 1121.23 129.07 1121.06 Q130.089 1120.88 131.107 1120.88 Q136.894 1120.88 140.274 1124.05 Q143.654 1127.22 143.654 1132.64 Q143.654 1138.22 140.181 1141.32 Q136.709 1144.4 130.39 1144.4 Q128.214 1144.4 125.945 1144.03 Q123.7 1143.66 121.293 1142.92 L121.293 1138.22 Q123.376 1139.35 125.598 1139.91 Q127.82 1140.46 130.297 1140.46 Q134.302 1140.46 136.64 1138.36 Q138.978 1136.25 138.978 1132.64 Q138.978 1129.03 136.64 1126.92 Q134.302 1124.81 130.297 1124.81 Q128.422 1124.81 126.547 1125.23 Q124.695 1125.65 122.751 1126.53 L122.751 1109.17 Z\" fill=\"#000000\" fill-rule=\"evenodd\" fill-opacity=\"1\" /><path clip-path=\"url(#clip170)\" d=\"M 0 0 M94.7419 790.772 Q91.1308 790.772 89.3021 794.336 Q87.4966 797.878 87.4966 805.008 Q87.4966 812.114 89.3021 815.679 Q91.1308 819.221 94.7419 819.221 Q98.3761 819.221 100.182 815.679 Q102.01 812.114 102.01 805.008 Q102.01 797.878 100.182 794.336 Q98.3761 790.772 94.7419 790.772 M94.7419 787.068 Q100.552 787.068 103.608 791.674 Q106.686 796.258 106.686 805.008 Q106.686 813.735 103.608 818.341 Q100.552 822.924 94.7419 822.924 Q88.9317 822.924 85.8531 818.341 Q82.7975 813.735 82.7975 805.008 Q82.7975 796.258 85.8531 791.674 Q88.9317 787.068 94.7419 787.068 Z\" fill=\"#000000\" fill-rule=\"evenodd\" fill-opacity=\"1\" /><path clip-path=\"url(#clip170)\" d=\"M 0 0 M111.756 816.373 L116.64 816.373 L116.64 822.253 L111.756 822.253 L111.756 816.373 Z\" fill=\"#000000\" fill-rule=\"evenodd\" fill-opacity=\"1\" /><path clip-path=\"url(#clip170)\" d=\"M 0 0 M131.709 790.772 Q128.098 790.772 126.27 794.336 Q124.464 797.878 124.464 805.008 Q124.464 812.114 126.27 815.679 Q128.098 819.221 131.709 819.221 Q135.344 819.221 137.149 815.679 Q138.978 812.114 138.978 805.008 Q138.978 797.878 137.149 794.336 Q135.344 790.772 131.709 790.772 M131.709 787.068 Q137.519 787.068 140.575 791.674 Q143.654 796.258 143.654 805.008 Q143.654 813.735 140.575 818.341 Q137.519 822.924 131.709 822.924 Q125.899 822.924 122.82 818.341 Q119.765 813.735 119.765 805.008 Q119.765 796.258 122.82 791.674 Q125.899 787.068 131.709 787.068 Z\" fill=\"#000000\" fill-rule=\"evenodd\" fill-opacity=\"1\" /><path clip-path=\"url(#clip170)\" d=\"M 0 0 M95.7373 469.299 Q92.1262 469.299 90.2975 472.864 Q88.4919 476.406 88.4919 483.535 Q88.4919 490.642 90.2975 494.206 Q92.1262 497.748 95.7373 497.748 Q99.3715 497.748 101.177 494.206 Q103.006 490.642 103.006 483.535 Q103.006 476.406 101.177 472.864 Q99.3715 469.299 95.7373 469.299 M95.7373 465.596 Q101.547 465.596 104.603 470.202 Q107.682 474.785 107.682 483.535 Q107.682 492.262 104.603 496.869 Q101.547 501.452 95.7373 501.452 Q89.9271 501.452 86.8484 496.869 Q83.7929 492.262 83.7929 483.535 Q83.7929 474.785 86.8484 470.202 Q89.9271 465.596 95.7373 465.596 Z\" fill=\"#000000\" fill-rule=\"evenodd\" fill-opacity=\"1\" /><path clip-path=\"url(#clip170)\" d=\"M 0 0 M112.751 494.901 L117.635 494.901 L117.635 500.781 L112.751 500.781 L112.751 494.901 Z\" fill=\"#000000\" fill-rule=\"evenodd\" fill-opacity=\"1\" /><path clip-path=\"url(#clip170)\" d=\"M 0 0 M122.751 466.221 L141.107 466.221 L141.107 470.156 L127.033 470.156 L127.033 478.628 Q128.052 478.281 129.07 478.119 Q130.089 477.933 131.107 477.933 Q136.894 477.933 140.274 481.105 Q143.654 484.276 143.654 489.693 Q143.654 495.271 140.181 498.373 Q136.709 501.452 130.39 501.452 Q128.214 501.452 125.945 501.081 Q123.7 500.711 121.293 499.97 L121.293 495.271 Q123.376 496.406 125.598 496.961 Q127.82 497.517 130.297 497.517 Q134.302 497.517 136.64 495.41 Q138.978 493.304 138.978 489.693 Q138.978 486.082 136.64 483.975 Q134.302 481.869 130.297 481.869 Q128.422 481.869 126.547 482.285 Q124.695 482.702 122.751 483.582 L122.751 466.221 Z\" fill=\"#000000\" fill-rule=\"evenodd\" fill-opacity=\"1\" /><path clip-path=\"url(#clip170)\" d=\"M 0 0 M86.779 175.373 L94.4178 175.373 L94.4178 149.007 L86.1077 150.674 L86.1077 146.415 L94.3715 144.748 L99.0474 144.748 L99.0474 175.373 L106.686 175.373 L106.686 179.308 L86.779 179.308 L86.779 175.373 Z\" fill=\"#000000\" fill-rule=\"evenodd\" fill-opacity=\"1\" /><path clip-path=\"url(#clip170)\" d=\"M 0 0 M111.756 173.428 L116.64 173.428 L116.64 179.308 L111.756 179.308 L111.756 173.428 Z\" fill=\"#000000\" fill-rule=\"evenodd\" fill-opacity=\"1\" /><path clip-path=\"url(#clip170)\" d=\"M 0 0 M131.709 147.827 Q128.098 147.827 126.27 151.392 Q124.464 154.933 124.464 162.063 Q124.464 169.169 126.27 172.734 Q128.098 176.276 131.709 176.276 Q135.344 176.276 137.149 172.734 Q138.978 169.169 138.978 162.063 Q138.978 154.933 137.149 151.392 Q135.344 147.827 131.709 147.827 M131.709 144.123 Q137.519 144.123 140.575 148.729 Q143.654 153.313 143.654 162.063 Q143.654 170.79 140.575 175.396 Q137.519 179.979 131.709 179.979 Q125.899 179.979 122.82 175.396 Q119.765 170.79 119.765 162.063 Q119.765 153.313 122.82 148.729 Q125.899 144.123 131.709 144.123 Z\" fill=\"#000000\" fill-rule=\"evenodd\" fill-opacity=\"1\" /><path clip-path=\"url(#clip170)\" d=\"M 0 0 M775.904 12.096 L810.66 12.096 L810.66 18.9825 L784.086 18.9825 L784.086 36.8065 L808.068 36.8065 L808.068 43.6931 L784.086 43.6931 L784.086 72.576 L775.904 72.576 L775.904 12.096 Z\" fill=\"#000000\" fill-rule=\"evenodd\" fill-opacity=\"1\" /><path clip-path=\"url(#clip170)\" d=\"M 0 0 M813.172 54.671 L813.172 27.2059 L820.626 27.2059 L820.626 54.3874 Q820.626 60.8284 823.137 64.0691 Q825.649 67.2693 830.672 67.2693 Q836.708 67.2693 840.191 63.421 Q843.716 59.5726 843.716 52.9291 L843.716 27.2059 L851.169 27.2059 L851.169 72.576 L843.716 72.576 L843.716 65.6084 Q841.002 69.7404 837.396 71.7658 Q833.832 73.7508 829.092 73.7508 Q821.274 73.7508 817.223 68.8897 Q813.172 64.0286 813.172 54.671 M831.928 26.1121 L831.928 26.1121 Z\" fill=\"#000000\" fill-rule=\"evenodd\" fill-opacity=\"1\" /><path clip-path=\"url(#clip170)\" d=\"M 0 0 M896.702 45.1919 L896.702 72.576 L889.248 72.576 L889.248 45.4349 Q889.248 38.994 886.736 35.7938 Q884.225 32.5936 879.202 32.5936 Q873.166 32.5936 869.682 36.4419 Q866.198 40.2903 866.198 46.9338 L866.198 72.576 L858.704 72.576 L858.704 27.2059 L866.198 27.2059 L866.198 34.2544 Q868.872 30.163 872.477 28.1376 Q876.123 26.1121 880.863 26.1121 Q888.681 26.1121 892.691 30.9732 Q896.702 35.7938 896.702 45.1919 Z\" fill=\"#000000\" fill-rule=\"evenodd\" fill-opacity=\"1\" /><path clip-path=\"url(#clip170)\" d=\"M 0 0 M904.236 9.54393 L911.73 9.54393 L911.73 46.7717 L933.97 27.2059 L943.49 27.2059 L919.427 48.4326 L944.502 72.576 L934.78 72.576 L911.73 50.4176 L911.73 72.576 L904.236 72.576 L904.236 9.54393 Z\" fill=\"#000000\" fill-rule=\"evenodd\" fill-opacity=\"1\" /><path clip-path=\"url(#clip170)\" d=\"M 0 0 M984.971 28.9478 L984.971 35.9153 Q981.811 34.1734 978.611 33.3227 Q975.451 32.4315 972.21 32.4315 Q964.959 32.4315 960.949 37.0496 Q956.939 41.6271 956.939 49.9314 Q956.939 58.2358 960.949 62.8538 Q964.959 67.4314 972.21 67.4314 Q975.451 67.4314 978.611 66.5807 Q981.811 65.6895 984.971 63.9476 L984.971 70.8341 Q981.852 72.2924 978.489 73.0216 Q975.168 73.7508 971.4 73.7508 Q961.151 73.7508 955.116 67.3098 Q949.08 60.8689 949.08 49.9314 Q949.08 38.832 955.156 32.472 Q961.273 26.1121 971.886 26.1121 Q975.33 26.1121 978.611 26.8413 Q981.892 27.5299 984.971 28.9478 Z\" fill=\"#000000\" fill-rule=\"evenodd\" fill-opacity=\"1\" /><path clip-path=\"url(#clip170)\" d=\"M 0 0 M992.789 27.2059 L1000.24 27.2059 L1000.24 73.3862 Q1000.24 82.0551 996.921 85.944 Q993.64 89.8329 986.308 89.8329 L983.472 89.8329 L983.472 83.5134 L985.457 83.5134 Q989.71 83.5134 991.25 81.5285 Q992.789 79.5841 992.789 73.3862 L992.789 27.2059 M992.789 9.54393 L1000.24 9.54393 L1000.24 18.9825 L992.789 18.9825 L992.789 9.54393 Z\" fill=\"#000000\" fill-rule=\"evenodd\" fill-opacity=\"1\" /><path clip-path=\"url(#clip170)\" d=\"M 0 0 M1028.68 49.7694 Q1019.65 49.7694 1016.16 51.8354 Q1012.68 53.9013 1012.68 58.8839 Q1012.68 62.8538 1015.27 65.2034 Q1017.9 67.5124 1022.4 67.5124 Q1028.6 67.5124 1032.33 63.1374 Q1036.09 58.7219 1036.09 51.4303 L1036.09 49.7694 L1028.68 49.7694 M1043.55 46.6907 L1043.55 72.576 L1036.09 72.576 L1036.09 65.6895 Q1033.54 69.8214 1029.73 71.8063 Q1025.93 73.7508 1020.42 73.7508 Q1013.45 73.7508 1009.32 69.8619 Q1005.23 65.9325 1005.23 59.3701 Q1005.23 51.7138 1010.33 47.825 Q1015.47 43.9361 1025.64 43.9361 L1036.09 43.9361 L1036.09 43.2069 Q1036.09 38.0623 1032.69 35.2672 Q1029.33 32.4315 1023.21 32.4315 Q1019.32 32.4315 1015.64 33.3632 Q1011.95 34.295 1008.55 36.1584 L1008.55 29.2718 Q1012.64 27.692 1016.49 26.9223 Q1020.34 26.1121 1023.98 26.1121 Q1033.82 26.1121 1038.69 31.2163 Q1043.55 36.3204 1043.55 46.6907 Z\" fill=\"#000000\" fill-rule=\"evenodd\" fill-opacity=\"1\" /><path clip-path=\"url(#clip170)\" d=\"M 0 0 M1115.45 45.1919 L1115.45 72.576 L1108 72.576 L1108 45.4349 Q1108 38.994 1105.49 35.7938 Q1102.97 32.5936 1097.95 32.5936 Q1091.91 32.5936 1088.43 36.4419 Q1084.95 40.2903 1084.95 46.9338 L1084.95 72.576 L1077.45 72.576 L1077.45 27.2059 L1084.95 27.2059 L1084.95 34.2544 Q1087.62 30.163 1091.23 28.1376 Q1094.87 26.1121 1099.61 26.1121 Q1107.43 26.1121 1111.44 30.9732 Q1115.45 35.7938 1115.45 45.1919 Z\" fill=\"#000000\" fill-rule=\"evenodd\" fill-opacity=\"1\" /><path clip-path=\"url(#clip170)\" d=\"M 0 0 M1149.56 34.1734 Q1148.3 33.4443 1146.8 33.1202 Q1145.35 32.7556 1143.56 32.7556 Q1137.24 32.7556 1133.84 36.8875 Q1130.48 40.9789 1130.48 48.6757 L1130.48 72.576 L1122.99 72.576 L1122.99 27.2059 L1130.48 27.2059 L1130.48 34.2544 Q1132.83 30.1225 1136.6 28.1376 Q1140.36 26.1121 1145.75 26.1121 Q1146.52 26.1121 1147.45 26.2337 Q1148.38 26.3147 1149.52 26.5172 L1149.56 34.1734 Z\" fill=\"#000000\" fill-rule=\"evenodd\" fill-opacity=\"1\" /><path clip-path=\"url(#clip170)\" d=\"M 0 0 M1203.31 39.075 Q1197.81 39.075 1194.56 42.8424 Q1191.36 46.6097 1191.36 53.1722 Q1191.36 59.6941 1194.56 63.502 Q1197.81 67.2693 1203.31 67.2693 Q1208.82 67.2693 1212.02 63.502 Q1215.26 59.6941 1215.26 53.1722 Q1215.26 46.6097 1212.02 42.8424 Q1208.82 39.075 1203.31 39.075 M1219.56 13.4328 L1219.56 20.8865 Q1216.48 19.4281 1213.32 18.6585 Q1210.2 17.8888 1207.12 17.8888 Q1199.02 17.8888 1194.73 23.3575 Q1190.47 28.8262 1189.87 39.8852 Q1192.26 36.3609 1195.86 34.4975 Q1199.47 32.5936 1203.8 32.5936 Q1212.92 32.5936 1218.18 38.1433 Q1223.49 43.6525 1223.49 53.1722 Q1223.49 62.4892 1217.98 68.12 Q1212.47 73.7508 1203.31 73.7508 Q1192.82 73.7508 1187.27 65.73 Q1181.72 57.6687 1181.72 42.3968 Q1181.72 28.0566 1188.53 19.5497 Q1195.33 11.0023 1206.8 11.0023 Q1209.88 11.0023 1213 11.6099 Q1216.16 12.2175 1219.56 13.4328 Z\" fill=\"#000000\" fill-rule=\"evenodd\" fill-opacity=\"1\" /><path clip-path=\"url(#clip170)\" d=\"M 0 0 M1253.91 46.5287 L1275.74 46.5287 L1275.74 53.1722 L1253.91 53.1722 L1253.91 46.5287 Z\" fill=\"#000000\" fill-rule=\"evenodd\" fill-opacity=\"1\" /><path clip-path=\"url(#clip170)\" d=\"M 0 0 M1301.87 12.096 L1353.04 12.096 L1353.04 18.9825 L1331.57 18.9825 L1331.57 72.576 L1323.34 72.576 L1323.34 18.9825 L1301.87 18.9825 L1301.87 12.096 Z\" fill=\"#000000\" fill-rule=\"evenodd\" fill-opacity=\"1\" /><path clip-path=\"url(#clip170)\" d=\"M 0 0 M1398.57 45.1919 L1398.57 72.576 L1391.11 72.576 L1391.11 45.4349 Q1391.11 38.994 1388.6 35.7938 Q1386.09 32.5936 1381.07 32.5936 Q1375.03 32.5936 1371.55 36.4419 Q1368.06 40.2903 1368.06 46.9338 L1368.06 72.576 L1360.57 72.576 L1360.57 9.54393 L1368.06 9.54393 L1368.06 34.2544 Q1370.74 30.163 1374.34 28.1376 Q1377.99 26.1121 1382.73 26.1121 Q1390.55 26.1121 1394.56 30.9732 Q1398.57 35.7938 1398.57 45.1919 Z\" fill=\"#000000\" fill-rule=\"evenodd\" fill-opacity=\"1\" /><path clip-path=\"url(#clip170)\" d=\"M 0 0 M1445.19 48.0275 L1445.19 51.6733 L1410.92 51.6733 Q1411.41 59.3701 1415.54 63.421 Q1419.71 67.4314 1427.13 67.4314 Q1431.42 67.4314 1435.43 66.3781 Q1439.48 65.3249 1443.45 63.2184 L1443.45 70.267 Q1439.44 71.9684 1435.23 72.8596 Q1431.02 73.7508 1426.68 73.7508 Q1415.82 73.7508 1409.47 67.4314 Q1403.15 61.1119 1403.15 50.3365 Q1403.15 39.1965 1409.14 32.6746 Q1415.18 26.1121 1425.39 26.1121 Q1434.54 26.1121 1439.85 32.0264 Q1445.19 37.9003 1445.19 48.0275 M1437.74 45.84 Q1437.66 39.7232 1434.3 36.0774 Q1430.98 32.4315 1425.47 32.4315 Q1419.23 32.4315 1415.46 35.9558 Q1411.73 39.4801 1411.17 45.8805 L1437.74 45.84 Z\" fill=\"#000000\" fill-rule=\"evenodd\" fill-opacity=\"1\" /><path clip-path=\"url(#clip170)\" d=\"M 0 0 M1505.67 34.1734 Q1504.42 33.4443 1502.92 33.1202 Q1501.46 32.7556 1499.68 32.7556 Q1493.36 32.7556 1489.96 36.8875 Q1486.59 40.9789 1486.59 48.6757 L1486.59 72.576 L1479.1 72.576 L1479.1 27.2059 L1486.59 27.2059 L1486.59 34.2544 Q1488.94 30.1225 1492.71 28.1376 Q1496.48 26.1121 1501.87 26.1121 Q1502.64 26.1121 1503.57 26.2337 Q1504.5 26.3147 1505.63 26.5172 L1505.67 34.1734 Z\" fill=\"#000000\" fill-rule=\"evenodd\" fill-opacity=\"1\" /><path clip-path=\"url(#clip170)\" d=\"M 0 0 M1550.48 48.0275 L1550.48 51.6733 L1516.21 51.6733 Q1516.69 59.3701 1520.82 63.421 Q1525 67.4314 1532.41 67.4314 Q1536.7 67.4314 1540.71 66.3781 Q1544.77 65.3249 1548.74 63.2184 L1548.74 70.267 Q1544.72 71.9684 1540.51 72.8596 Q1536.3 73.7508 1531.96 73.7508 Q1521.11 73.7508 1514.75 67.4314 Q1508.43 61.1119 1508.43 50.3365 Q1508.43 39.1965 1514.42 32.6746 Q1520.46 26.1121 1530.67 26.1121 Q1539.82 26.1121 1545.13 32.0264 Q1550.48 37.9003 1550.48 48.0275 M1543.02 45.84 Q1542.94 39.7232 1539.58 36.0774 Q1536.26 32.4315 1530.75 32.4315 Q1524.51 32.4315 1520.74 35.9558 Q1517.02 39.4801 1516.45 45.8805 L1543.02 45.84 Z\" fill=\"#000000\" fill-rule=\"evenodd\" fill-opacity=\"1\" /><path clip-path=\"url(#clip170)\" d=\"M 0 0 M1565.51 65.7705 L1565.51 89.8329 L1558.01 89.8329 L1558.01 27.2059 L1565.51 27.2059 L1565.51 34.0924 Q1567.86 30.0415 1571.42 28.0971 Q1575.03 26.1121 1580.01 26.1121 Q1588.27 26.1121 1593.42 32.6746 Q1598.6 39.2371 1598.6 49.9314 Q1598.6 60.6258 1593.42 67.1883 Q1588.27 73.7508 1580.01 73.7508 Q1575.03 73.7508 1571.42 71.8063 Q1567.86 69.8214 1565.51 65.7705 M1590.86 49.9314 Q1590.86 41.7081 1587.46 37.0496 Q1584.1 32.3505 1578.19 32.3505 Q1572.27 32.3505 1568.87 37.0496 Q1565.51 41.7081 1565.51 49.9314 Q1565.51 58.1548 1568.87 62.8538 Q1572.27 67.5124 1578.19 67.5124 Q1584.1 67.5124 1587.46 62.8538 Q1590.86 58.1548 1590.86 49.9314 Z\" fill=\"#000000\" fill-rule=\"evenodd\" fill-opacity=\"1\" /><path clip-path=\"url(#clip170)\" d=\"M 0 0 M1645.23 48.0275 L1645.23 51.6733 L1610.96 51.6733 Q1611.44 59.3701 1615.58 63.421 Q1619.75 67.4314 1627.16 67.4314 Q1631.45 67.4314 1635.46 66.3781 Q1639.52 65.3249 1643.49 63.2184 L1643.49 70.267 Q1639.48 71.9684 1635.26 72.8596 Q1631.05 73.7508 1626.72 73.7508 Q1615.86 73.7508 1609.5 67.4314 Q1603.18 61.1119 1603.18 50.3365 Q1603.18 39.1965 1609.17 32.6746 Q1615.21 26.1121 1625.42 26.1121 Q1634.57 26.1121 1639.88 32.0264 Q1645.23 37.9003 1645.23 48.0275 M1637.77 45.84 Q1637.69 39.7232 1634.33 36.0774 Q1631.01 32.4315 1625.5 32.4315 Q1619.26 32.4315 1615.49 35.9558 Q1611.77 39.4801 1611.2 45.8805 L1637.77 45.84 Z\" fill=\"#000000\" fill-rule=\"evenodd\" fill-opacity=\"1\" /><path clip-path=\"url(#clip170)\" d=\"M 0 0 M1653.05 9.54393 L1660.5 9.54393 L1660.5 72.576 L1653.05 72.576 L1653.05 9.54393 Z\" fill=\"#000000\" fill-rule=\"evenodd\" fill-opacity=\"1\" /><path clip-path=\"url(#clip170)\" d=\"M 0 0 M1668.32 9.54393 L1675.77 9.54393 L1675.77 72.576 L1668.32 72.576 L1668.32 9.54393 Z\" fill=\"#000000\" fill-rule=\"evenodd\" fill-opacity=\"1\" /><path clip-path=\"url(#clip170)\" d=\"M 0 0 M1722.4 48.0275 L1722.4 51.6733 L1688.13 51.6733 Q1688.61 59.3701 1692.74 63.421 Q1696.92 67.4314 1704.33 67.4314 Q1708.62 67.4314 1712.63 66.3781 Q1716.69 65.3249 1720.66 63.2184 L1720.66 70.267 Q1716.65 71.9684 1712.43 72.8596 Q1708.22 73.7508 1703.88 73.7508 Q1693.03 73.7508 1686.67 67.4314 Q1680.35 61.1119 1680.35 50.3365 Q1680.35 39.1965 1686.34 32.6746 Q1692.38 26.1121 1702.59 26.1121 Q1711.74 26.1121 1717.05 32.0264 Q1722.4 37.9003 1722.4 48.0275 M1714.94 45.84 Q1714.86 39.7232 1711.5 36.0774 Q1708.18 32.4315 1702.67 32.4315 Q1696.43 32.4315 1692.66 35.9558 Q1688.94 39.4801 1688.37 45.8805 L1714.94 45.84 Z\" fill=\"#000000\" fill-rule=\"evenodd\" fill-opacity=\"1\" /><path clip-path=\"url(#clip170)\" d=\"M 0 0 M1756.51 34.1734 Q1755.25 33.4443 1753.75 33.1202 Q1752.29 32.7556 1750.51 32.7556 Q1744.19 32.7556 1740.79 36.8875 Q1737.43 40.9789 1737.43 48.6757 L1737.43 72.576 L1729.93 72.576 L1729.93 27.2059 L1737.43 27.2059 L1737.43 34.2544 Q1739.78 30.1225 1743.54 28.1376 Q1747.31 26.1121 1752.7 26.1121 Q1753.47 26.1121 1754.4 26.2337 Q1755.33 26.3147 1756.47 26.5172 L1756.51 34.1734 Z\" fill=\"#000000\" fill-rule=\"evenodd\" fill-opacity=\"1\" /><polyline clip-path=\"url(#clip172)\" style=\"stroke:#ff0000; stroke-width:4; stroke-opacity:1; fill:none\" points=\"\n",
       "  241.157,869.107 261.177,870.378 446.299,885.041 557.55,897.489 651.611,911.466 753.787,932.315 847.985,960.226 898.48,980.781 948.975,1007.44 978.226,1026.8 \n",
       "  1007.48,1050.08 1036.73,1078.53 1065.98,1113.89 1091.98,1153.12 1117.97,1202.1 1143.97,1263.52 1169.96,1338.46 1181.36,1374.08 1192.76,1408.44 1198.46,1423.68 \n",
       "  1204.16,1436.35 1209.86,1445.04 1215.55,1447.87 1221.25,1442.43 1226.95,1425.7 1229.8,1412.04 1232.65,1394.25 1235.5,1371.87 1238.35,1344.47 1241.2,1311.72 \n",
       "  1244.05,1273.32 1246.9,1229.16 1249.75,1179.27 1252.6,1123.89 1255.45,1063.49 1258.3,998.775 1261.15,930.674 1267.36,776.025 1273.57,623.864 1276.68,552.713 \n",
       "  1279.79,486.588 1282.89,426.42 1286,372.806 1289.11,326.024 1292.21,286.072 1295.32,252.718 1298.43,225.566 1301.53,204.106 1304.64,187.768 1307.75,175.959 \n",
       "  1310.85,168.098 1317.07,162.047 1323.28,165.732 1329.49,176.07 1335.71,190.74 1348.13,226.81 1360.56,265.628 1385.56,338.765 1410.56,399.537 1435.56,448.476 \n",
       "  1460.56,487.93 1488.21,523.127 1515.85,551.653 1543.49,575.145 1571.13,594.777 1623.73,624.35 1676.33,646.751 1785.72,679.337 1877.8,697.965 1990.22,714.4 \n",
       "  2095.9,725.842 2265.2,739.175 2291.25,740.839 \n",
       "  \"/>\n",
       "</svg>\n"
      ]
     },
     "execution_count": 74,
     "metadata": {},
     "output_type": "execute_result"
    }
   ],
   "source": [
    "plot(test_functions[index][1],\n",
    "    test_functions[index][2],\n",
    "    test_functions[index][3],\n",
    "    title = \"Funkcja nr 6 - The repeller\",\n",
    "    label = \"\",\n",
    "    color = :red\n",
    ")\n"
   ]
  },
  {
   "cell_type": "code",
   "execution_count": 66,
   "metadata": {},
   "outputs": [
    {
     "data": {
      "image/svg+xml": [
       "<?xml version=\"1.0\" encoding=\"utf-8\"?>\n",
       "<svg xmlns=\"http://www.w3.org/2000/svg\" xmlns:xlink=\"http://www.w3.org/1999/xlink\" width=\"600\" height=\"400\" viewBox=\"0 0 2400 1600\">\n",
       "<defs>\n",
       "  <clipPath id=\"clip130\">\n",
       "    <rect x=\"0\" y=\"0\" width=\"2400\" height=\"1600\"/>\n",
       "  </clipPath>\n",
       "</defs>\n",
       "<path clip-path=\"url(#clip130)\" d=\"\n",
       "M0 1600 L2400 1600 L2400 0 L0 0  Z\n",
       "  \" fill=\"#ffffff\" fill-rule=\"evenodd\" fill-opacity=\"1\"/>\n",
       "<defs>\n",
       "  <clipPath id=\"clip131\">\n",
       "    <rect x=\"480\" y=\"0\" width=\"1681\" height=\"1600\"/>\n",
       "  </clipPath>\n",
       "</defs>\n",
       "<path clip-path=\"url(#clip130)\" d=\"\n",
       "M135.95 1486.45 L2352.76 1486.45 L2352.76 123.472 L135.95 123.472  Z\n",
       "  \" fill=\"#ffffff\" fill-rule=\"evenodd\" fill-opacity=\"1\"/>\n",
       "<defs>\n",
       "  <clipPath id=\"clip132\">\n",
       "    <rect x=\"135\" y=\"123\" width=\"2218\" height=\"1364\"/>\n",
       "  </clipPath>\n",
       "</defs>\n",
       "<polyline clip-path=\"url(#clip132)\" style=\"stroke:#000000; stroke-width:2; stroke-opacity:0.1; fill:none\" points=\"\n",
       "  198.69,1486.45 198.69,123.472 \n",
       "  \"/>\n",
       "<polyline clip-path=\"url(#clip132)\" style=\"stroke:#000000; stroke-width:2; stroke-opacity:0.1; fill:none\" points=\"\n",
       "  721.522,1486.45 721.522,123.472 \n",
       "  \"/>\n",
       "<polyline clip-path=\"url(#clip132)\" style=\"stroke:#000000; stroke-width:2; stroke-opacity:0.1; fill:none\" points=\"\n",
       "  1244.35,1486.45 1244.35,123.472 \n",
       "  \"/>\n",
       "<polyline clip-path=\"url(#clip132)\" style=\"stroke:#000000; stroke-width:2; stroke-opacity:0.1; fill:none\" points=\"\n",
       "  1767.18,1486.45 1767.18,123.472 \n",
       "  \"/>\n",
       "<polyline clip-path=\"url(#clip132)\" style=\"stroke:#000000; stroke-width:2; stroke-opacity:0.1; fill:none\" points=\"\n",
       "  2290.02,1486.45 2290.02,123.472 \n",
       "  \"/>\n",
       "<polyline clip-path=\"url(#clip130)\" style=\"stroke:#000000; stroke-width:4; stroke-opacity:1; fill:none\" points=\"\n",
       "  135.95,1486.45 2352.76,1486.45 \n",
       "  \"/>\n",
       "<polyline clip-path=\"url(#clip130)\" style=\"stroke:#000000; stroke-width:4; stroke-opacity:1; fill:none\" points=\"\n",
       "  198.69,1486.45 198.69,1470.09 \n",
       "  \"/>\n",
       "<polyline clip-path=\"url(#clip130)\" style=\"stroke:#000000; stroke-width:4; stroke-opacity:1; fill:none\" points=\"\n",
       "  721.522,1486.45 721.522,1470.09 \n",
       "  \"/>\n",
       "<polyline clip-path=\"url(#clip130)\" style=\"stroke:#000000; stroke-width:4; stroke-opacity:1; fill:none\" points=\"\n",
       "  1244.35,1486.45 1244.35,1470.09 \n",
       "  \"/>\n",
       "<polyline clip-path=\"url(#clip130)\" style=\"stroke:#000000; stroke-width:4; stroke-opacity:1; fill:none\" points=\"\n",
       "  1767.18,1486.45 1767.18,1470.09 \n",
       "  \"/>\n",
       "<polyline clip-path=\"url(#clip130)\" style=\"stroke:#000000; stroke-width:4; stroke-opacity:1; fill:none\" points=\"\n",
       "  2290.02,1486.45 2290.02,1470.09 \n",
       "  \"/>\n",
       "<path clip-path=\"url(#clip130)\" d=\"M 0 0 M171.144 1530.29 L200.82 1530.29 L200.82 1534.23 L171.144 1534.23 L171.144 1530.29 Z\" fill=\"#000000\" fill-rule=\"evenodd\" fill-opacity=\"1\" /><path clip-path=\"url(#clip130)\" d=\"M 0 0 M209.917 1543.18 L226.236 1543.18 L226.236 1547.12 L204.292 1547.12 L204.292 1543.18 Q206.954 1540.43 211.537 1535.8 Q216.144 1531.15 217.324 1529.81 Q219.569 1527.28 220.449 1525.55 Q221.352 1523.79 221.352 1522.1 Q221.352 1519.34 219.407 1517.61 Q217.486 1515.87 214.384 1515.87 Q212.185 1515.87 209.732 1516.63 Q207.301 1517.4 204.523 1518.95 L204.523 1514.23 Q207.347 1513.09 209.801 1512.51 Q212.255 1511.93 214.292 1511.93 Q219.662 1511.93 222.857 1514.62 Q226.051 1517.31 226.051 1521.8 Q226.051 1523.93 225.241 1525.85 Q224.454 1527.74 222.347 1530.34 Q221.769 1531.01 218.667 1534.23 Q215.565 1537.42 209.917 1543.18 Z\" fill=\"#000000\" fill-rule=\"evenodd\" fill-opacity=\"1\" /><path clip-path=\"url(#clip130)\" d=\"M 0 0 M693.79 1530.29 L723.466 1530.29 L723.466 1534.23 L693.79 1534.23 L693.79 1530.29 Z\" fill=\"#000000\" fill-rule=\"evenodd\" fill-opacity=\"1\" /><path clip-path=\"url(#clip130)\" d=\"M 0 0 M729.346 1543.18 L736.984 1543.18 L736.984 1516.82 L728.674 1518.49 L728.674 1514.23 L736.938 1512.56 L741.614 1512.56 L741.614 1543.18 L749.253 1543.18 L749.253 1547.12 L729.346 1547.12 L729.346 1543.18 Z\" fill=\"#000000\" fill-rule=\"evenodd\" fill-opacity=\"1\" /><path clip-path=\"url(#clip130)\" d=\"M 0 0 M1244.35 1515.64 Q1240.74 1515.64 1238.91 1519.2 Q1237.11 1522.75 1237.11 1529.87 Q1237.11 1536.98 1238.91 1540.55 Q1240.74 1544.09 1244.35 1544.09 Q1247.99 1544.09 1249.79 1540.55 Q1251.62 1536.98 1251.62 1529.87 Q1251.62 1522.75 1249.79 1519.2 Q1247.99 1515.64 1244.35 1515.64 M1244.35 1511.93 Q1250.16 1511.93 1253.22 1516.54 Q1256.3 1521.12 1256.3 1529.87 Q1256.3 1538.6 1253.22 1543.21 Q1250.16 1547.79 1244.35 1547.79 Q1238.54 1547.79 1235.46 1543.21 Q1232.41 1538.6 1232.41 1529.87 Q1232.41 1521.12 1235.46 1516.54 Q1238.54 1511.93 1244.35 1511.93 Z\" fill=\"#000000\" fill-rule=\"evenodd\" fill-opacity=\"1\" /><path clip-path=\"url(#clip130)\" d=\"M 0 0 M1757.57 1543.18 L1765.21 1543.18 L1765.21 1516.82 L1756.9 1518.49 L1756.9 1514.23 L1765.16 1512.56 L1769.84 1512.56 L1769.84 1543.18 L1777.47 1543.18 L1777.47 1547.12 L1757.57 1547.12 L1757.57 1543.18 Z\" fill=\"#000000\" fill-rule=\"evenodd\" fill-opacity=\"1\" /><path clip-path=\"url(#clip130)\" d=\"M 0 0 M2284.67 1543.18 L2300.99 1543.18 L2300.99 1547.12 L2279.04 1547.12 L2279.04 1543.18 Q2281.71 1540.43 2286.29 1535.8 Q2290.9 1531.15 2292.08 1529.81 Q2294.32 1527.28 2295.2 1525.55 Q2296.1 1523.79 2296.1 1522.1 Q2296.1 1519.34 2294.16 1517.61 Q2292.24 1515.87 2289.14 1515.87 Q2286.94 1515.87 2284.48 1516.63 Q2282.05 1517.4 2279.28 1518.95 L2279.28 1514.23 Q2282.1 1513.09 2284.55 1512.51 Q2287.01 1511.93 2289.04 1511.93 Q2294.41 1511.93 2297.61 1514.62 Q2300.8 1517.31 2300.8 1521.8 Q2300.8 1523.93 2299.99 1525.85 Q2299.21 1527.74 2297.1 1530.34 Q2296.52 1531.01 2293.42 1534.23 Q2290.32 1537.42 2284.67 1543.18 Z\" fill=\"#000000\" fill-rule=\"evenodd\" fill-opacity=\"1\" /><polyline clip-path=\"url(#clip132)\" style=\"stroke:#000000; stroke-width:2; stroke-opacity:0.1; fill:none\" points=\"\n",
       "  135.95,1305 2352.76,1305 \n",
       "  \"/>\n",
       "<polyline clip-path=\"url(#clip132)\" style=\"stroke:#000000; stroke-width:2; stroke-opacity:0.1; fill:none\" points=\"\n",
       "  135.95,1019.21 2352.76,1019.21 \n",
       "  \"/>\n",
       "<polyline clip-path=\"url(#clip132)\" style=\"stroke:#000000; stroke-width:2; stroke-opacity:0.1; fill:none\" points=\"\n",
       "  135.95,733.417 2352.76,733.417 \n",
       "  \"/>\n",
       "<polyline clip-path=\"url(#clip132)\" style=\"stroke:#000000; stroke-width:2; stroke-opacity:0.1; fill:none\" points=\"\n",
       "  135.95,447.628 2352.76,447.628 \n",
       "  \"/>\n",
       "<polyline clip-path=\"url(#clip132)\" style=\"stroke:#000000; stroke-width:2; stroke-opacity:0.1; fill:none\" points=\"\n",
       "  135.95,161.839 2352.76,161.839 \n",
       "  \"/>\n",
       "<polyline clip-path=\"url(#clip130)\" style=\"stroke:#000000; stroke-width:4; stroke-opacity:1; fill:none\" points=\"\n",
       "  135.95,1486.45 135.95,123.472 \n",
       "  \"/>\n",
       "<polyline clip-path=\"url(#clip130)\" style=\"stroke:#000000; stroke-width:4; stroke-opacity:1; fill:none\" points=\"\n",
       "  135.95,1305 162.552,1305 \n",
       "  \"/>\n",
       "<polyline clip-path=\"url(#clip130)\" style=\"stroke:#000000; stroke-width:4; stroke-opacity:1; fill:none\" points=\"\n",
       "  135.95,1019.21 162.552,1019.21 \n",
       "  \"/>\n",
       "<polyline clip-path=\"url(#clip130)\" style=\"stroke:#000000; stroke-width:4; stroke-opacity:1; fill:none\" points=\"\n",
       "  135.95,733.417 162.552,733.417 \n",
       "  \"/>\n",
       "<polyline clip-path=\"url(#clip130)\" style=\"stroke:#000000; stroke-width:4; stroke-opacity:1; fill:none\" points=\"\n",
       "  135.95,447.628 162.552,447.628 \n",
       "  \"/>\n",
       "<polyline clip-path=\"url(#clip130)\" style=\"stroke:#000000; stroke-width:4; stroke-opacity:1; fill:none\" points=\"\n",
       "  135.95,161.839 162.552,161.839 \n",
       "  \"/>\n",
       "<path clip-path=\"url(#clip130)\" d=\"M 0 0 M88.0058 1290.79 Q84.3947 1290.79 82.566 1294.36 Q80.7605 1297.9 80.7605 1305.03 Q80.7605 1312.14 82.566 1315.7 Q84.3947 1319.24 88.0058 1319.24 Q91.6401 1319.24 93.4456 1315.7 Q95.2743 1312.14 95.2743 1305.03 Q95.2743 1297.9 93.4456 1294.36 Q91.6401 1290.79 88.0058 1290.79 M88.0058 1287.09 Q93.816 1287.09 96.8715 1291.7 Q99.9502 1296.28 99.9502 1305.03 Q99.9502 1313.76 96.8715 1318.36 Q93.816 1322.95 88.0058 1322.95 Q82.1957 1322.95 79.117 1318.36 Q76.0614 1313.76 76.0614 1305.03 Q76.0614 1296.28 79.117 1291.7 Q82.1957 1287.09 88.0058 1287.09 Z\" fill=\"#000000\" fill-rule=\"evenodd\" fill-opacity=\"1\" /><path clip-path=\"url(#clip130)\" d=\"M 0 0 M79.0475 1001.93 L97.4039 1001.93 L97.4039 1005.86 L83.3299 1005.86 L83.3299 1014.33 Q84.3484 1013.99 85.3669 1013.82 Q86.3855 1013.64 87.404 1013.64 Q93.191 1013.64 96.5706 1016.81 Q99.9502 1019.98 99.9502 1025.4 Q99.9502 1030.98 96.478 1034.08 Q93.0058 1037.16 86.6864 1037.16 Q84.5105 1037.16 82.242 1036.79 Q79.9966 1036.42 77.5892 1035.68 L77.5892 1030.98 Q79.6725 1032.11 81.8947 1032.67 Q84.1169 1033.22 86.5938 1033.22 Q90.5984 1033.22 92.9363 1031.12 Q95.2743 1029.01 95.2743 1025.4 Q95.2743 1021.79 92.9363 1019.68 Q90.5984 1017.57 86.5938 1017.57 Q84.7188 1017.57 82.8438 1017.99 Q80.992 1018.41 79.0475 1019.29 L79.0475 1001.93 Z\" fill=\"#000000\" fill-rule=\"evenodd\" fill-opacity=\"1\" /><path clip-path=\"url(#clip130)\" d=\"M 0 0 M53.0292 746.762 L60.668 746.762 L60.668 720.396 L52.3579 722.063 L52.3579 717.804 L60.6217 716.137 L65.2976 716.137 L65.2976 746.762 L72.9365 746.762 L72.9365 750.697 L53.0292 750.697 L53.0292 746.762 Z\" fill=\"#000000\" fill-rule=\"evenodd\" fill-opacity=\"1\" /><path clip-path=\"url(#clip130)\" d=\"M 0 0 M88.0058 719.216 Q84.3947 719.216 82.566 722.781 Q80.7605 726.322 80.7605 733.452 Q80.7605 740.558 82.566 744.123 Q84.3947 747.665 88.0058 747.665 Q91.6401 747.665 93.4456 744.123 Q95.2743 740.558 95.2743 733.452 Q95.2743 726.322 93.4456 722.781 Q91.6401 719.216 88.0058 719.216 M88.0058 715.512 Q93.816 715.512 96.8715 720.119 Q99.9502 724.702 99.9502 733.452 Q99.9502 742.179 96.8715 746.785 Q93.816 751.368 88.0058 751.368 Q82.1957 751.368 79.117 746.785 Q76.0614 742.179 76.0614 733.452 Q76.0614 724.702 79.117 720.119 Q82.1957 715.512 88.0058 715.512 Z\" fill=\"#000000\" fill-rule=\"evenodd\" fill-opacity=\"1\" /><path clip-path=\"url(#clip130)\" d=\"M 0 0 M54.0245 460.973 L61.6634 460.973 L61.6634 434.607 L53.3532 436.274 L53.3532 432.015 L61.6171 430.348 L66.293 430.348 L66.293 460.973 L73.9318 460.973 L73.9318 464.908 L54.0245 464.908 L54.0245 460.973 Z\" fill=\"#000000\" fill-rule=\"evenodd\" fill-opacity=\"1\" /><path clip-path=\"url(#clip130)\" d=\"M 0 0 M79.0475 430.348 L97.4039 430.348 L97.4039 434.283 L83.3299 434.283 L83.3299 442.755 Q84.3484 442.408 85.3669 442.246 Q86.3855 442.061 87.404 442.061 Q93.191 442.061 96.5706 445.232 Q99.9502 448.404 99.9502 453.82 Q99.9502 459.399 96.478 462.501 Q93.0058 465.579 86.6864 465.579 Q84.5105 465.579 82.242 465.209 Q79.9966 464.839 77.5892 464.098 L77.5892 459.399 Q79.6725 460.533 81.8947 461.089 Q84.1169 461.644 86.5938 461.644 Q90.5984 461.644 92.9363 459.538 Q95.2743 457.431 95.2743 453.82 Q95.2743 450.209 92.9363 448.103 Q90.5984 445.996 86.5938 445.996 Q84.7188 445.996 82.8438 446.413 Q80.992 446.83 79.0475 447.709 L79.0475 430.348 Z\" fill=\"#000000\" fill-rule=\"evenodd\" fill-opacity=\"1\" /><path clip-path=\"url(#clip130)\" d=\"M 0 0 M56.6171 175.184 L72.9365 175.184 L72.9365 179.119 L50.9921 179.119 L50.9921 175.184 Q53.6541 172.429 58.2375 167.8 Q62.8439 163.147 64.0245 161.804 Q66.2698 159.281 67.1494 157.545 Q68.0522 155.786 68.0522 154.096 Q68.0522 151.342 66.1078 149.605 Q64.1865 147.869 61.0847 147.869 Q58.8856 147.869 56.4319 148.633 Q54.0014 149.397 51.2236 150.948 L51.2236 146.226 Q54.0477 145.092 56.5014 144.513 Q58.955 143.934 60.9921 143.934 Q66.3624 143.934 69.5568 146.619 Q72.7513 149.304 72.7513 153.795 Q72.7513 155.925 71.9411 157.846 Q71.1541 159.744 69.0476 162.337 Q68.4689 163.008 65.367 166.226 Q62.2652 169.42 56.6171 175.184 Z\" fill=\"#000000\" fill-rule=\"evenodd\" fill-opacity=\"1\" /><path clip-path=\"url(#clip130)\" d=\"M 0 0 M88.0058 147.638 Q84.3947 147.638 82.566 151.203 Q80.7605 154.744 80.7605 161.874 Q80.7605 168.98 82.566 172.545 Q84.3947 176.087 88.0058 176.087 Q91.6401 176.087 93.4456 172.545 Q95.2743 168.98 95.2743 161.874 Q95.2743 154.744 93.4456 151.203 Q91.6401 147.638 88.0058 147.638 M88.0058 143.934 Q93.816 143.934 96.8715 148.541 Q99.9502 153.124 99.9502 161.874 Q99.9502 170.601 96.8715 175.207 Q93.816 179.79 88.0058 179.79 Q82.1957 179.79 79.117 175.207 Q76.0614 170.601 76.0614 161.874 Q76.0614 153.124 79.117 148.541 Q82.1957 143.934 88.0058 143.934 Z\" fill=\"#000000\" fill-rule=\"evenodd\" fill-opacity=\"1\" /><path clip-path=\"url(#clip130)\" d=\"M 0 0 M855.041 18.8205 L855.041 41.5461 L865.33 41.5461 Q871.042 41.5461 874.161 38.5889 Q877.28 35.6318 877.28 30.163 Q877.28 24.7348 874.161 21.7777 Q871.042 18.8205 865.33 18.8205 L855.041 18.8205 M846.858 12.096 L865.33 12.096 Q875.498 12.096 880.683 16.714 Q885.909 21.2916 885.909 30.163 Q885.909 39.1155 880.683 43.6931 Q875.498 48.2706 865.33 48.2706 L855.041 48.2706 L855.041 72.576 L846.858 72.576 L846.858 12.096 Z\" fill=\"#000000\" fill-rule=\"evenodd\" fill-opacity=\"1\" /><path clip-path=\"url(#clip130)\" d=\"M 0 0 M908.351 32.4315 Q902.355 32.4315 898.872 37.1306 Q895.388 41.7891 895.388 49.9314 Q895.388 58.0738 898.831 62.7728 Q902.315 67.4314 908.351 67.4314 Q914.306 67.4314 917.789 62.7323 Q921.273 58.0333 921.273 49.9314 Q921.273 41.8701 917.789 37.1711 Q914.306 32.4315 908.351 32.4315 M908.351 26.1121 Q918.073 26.1121 923.623 32.4315 Q929.172 38.7509 929.172 49.9314 Q929.172 61.0714 923.623 67.4314 Q918.073 73.7508 908.351 73.7508 Q898.588 73.7508 893.038 67.4314 Q887.529 61.0714 887.529 49.9314 Q887.529 38.7509 893.038 32.4315 Q898.588 26.1121 908.351 26.1121 Z\" fill=\"#000000\" fill-rule=\"evenodd\" fill-opacity=\"1\" /><path clip-path=\"url(#clip130)\" d=\"M 0 0 M969.641 28.9478 L969.641 35.9153 Q966.481 34.1734 963.281 33.3227 Q960.121 32.4315 956.881 32.4315 Q949.63 32.4315 945.619 37.0496 Q941.609 41.6271 941.609 49.9314 Q941.609 58.2358 945.619 62.8538 Q949.63 67.4314 956.881 67.4314 Q960.121 67.4314 963.281 66.5807 Q966.481 65.6895 969.641 63.9476 L969.641 70.8341 Q966.522 72.2924 963.16 73.0216 Q959.838 73.7508 956.07 73.7508 Q945.822 73.7508 939.786 67.3098 Q933.75 60.8689 933.75 49.9314 Q933.75 38.832 939.826 32.472 Q945.943 26.1121 956.557 26.1121 Q960 26.1121 963.281 26.8413 Q966.562 27.5299 969.641 28.9478 Z\" fill=\"#000000\" fill-rule=\"evenodd\" fill-opacity=\"1\" /><path clip-path=\"url(#clip130)\" d=\"M 0 0 M1015.17 45.1919 L1015.17 72.576 L1007.72 72.576 L1007.72 45.4349 Q1007.72 38.994 1005.21 35.7938 Q1002.7 32.5936 997.673 32.5936 Q991.637 32.5936 988.154 36.4419 Q984.67 40.2903 984.67 46.9338 L984.67 72.576 L977.176 72.576 L977.176 9.54393 L984.67 9.54393 L984.67 34.2544 Q987.343 30.163 990.949 28.1376 Q994.595 26.1121 999.334 26.1121 Q1007.15 26.1121 1011.16 30.9732 Q1015.17 35.7938 1015.17 45.1919 Z\" fill=\"#000000\" fill-rule=\"evenodd\" fill-opacity=\"1\" /><path clip-path=\"url(#clip130)\" d=\"M 0 0 M1040.57 32.4315 Q1034.58 32.4315 1031.09 37.1306 Q1027.61 41.7891 1027.61 49.9314 Q1027.61 58.0738 1031.05 62.7728 Q1034.54 67.4314 1040.57 67.4314 Q1046.53 67.4314 1050.01 62.7323 Q1053.49 58.0333 1053.49 49.9314 Q1053.49 41.8701 1050.01 37.1711 Q1046.53 32.4315 1040.57 32.4315 M1040.57 26.1121 Q1050.29 26.1121 1055.84 32.4315 Q1061.39 38.7509 1061.39 49.9314 Q1061.39 61.0714 1055.84 67.4314 Q1050.29 73.7508 1040.57 73.7508 Q1030.81 73.7508 1025.26 67.4314 Q1019.75 61.0714 1019.75 49.9314 Q1019.75 38.7509 1025.26 32.4315 Q1030.81 26.1121 1040.57 26.1121 Z\" fill=\"#000000\" fill-rule=\"evenodd\" fill-opacity=\"1\" /><path clip-path=\"url(#clip130)\" d=\"M 0 0 M1099.07 34.0924 L1099.07 9.54393 L1106.52 9.54393 L1106.52 72.576 L1099.07 72.576 L1099.07 65.7705 Q1096.72 69.8214 1093.11 71.8063 Q1089.55 73.7508 1084.52 73.7508 Q1076.3 73.7508 1071.12 67.1883 Q1065.97 60.6258 1065.97 49.9314 Q1065.97 39.2371 1071.12 32.6746 Q1076.3 26.1121 1084.52 26.1121 Q1089.55 26.1121 1093.11 28.0971 Q1096.72 30.0415 1099.07 34.0924 M1073.67 49.9314 Q1073.67 58.1548 1077.03 62.8538 Q1080.43 67.5124 1086.35 67.5124 Q1092.26 67.5124 1095.66 62.8538 Q1099.07 58.1548 1099.07 49.9314 Q1099.07 41.7081 1095.66 37.0496 Q1092.26 32.3505 1086.35 32.3505 Q1080.43 32.3505 1077.03 37.0496 Q1073.67 41.7081 1073.67 49.9314 Z\" fill=\"#000000\" fill-rule=\"evenodd\" fill-opacity=\"1\" /><path clip-path=\"url(#clip130)\" d=\"M 0 0 M1152.05 45.1919 L1152.05 72.576 L1144.6 72.576 L1144.6 45.4349 Q1144.6 38.994 1142.09 35.7938 Q1139.58 32.5936 1134.55 32.5936 Q1128.52 32.5936 1125.03 36.4419 Q1121.55 40.2903 1121.55 46.9338 L1121.55 72.576 L1114.06 72.576 L1114.06 27.2059 L1121.55 27.2059 L1121.55 34.2544 Q1124.22 30.163 1127.83 28.1376 Q1131.47 26.1121 1136.21 26.1121 Q1144.03 26.1121 1148.04 30.9732 Q1152.05 35.7938 1152.05 45.1919 Z\" fill=\"#000000\" fill-rule=\"evenodd\" fill-opacity=\"1\" /><path clip-path=\"url(#clip130)\" d=\"M 0 0 M1180.49 49.7694 Q1171.46 49.7694 1167.97 51.8354 Q1164.49 53.9013 1164.49 58.8839 Q1164.49 62.8538 1167.08 65.2034 Q1169.72 67.5124 1174.21 67.5124 Q1180.41 67.5124 1184.14 63.1374 Q1187.9 58.7219 1187.9 51.4303 L1187.9 49.7694 L1180.49 49.7694 M1195.36 46.6907 L1195.36 72.576 L1187.9 72.576 L1187.9 65.6895 Q1185.35 69.8214 1181.54 71.8063 Q1177.74 73.7508 1172.23 73.7508 Q1165.26 73.7508 1161.13 69.8619 Q1157.04 65.9325 1157.04 59.3701 Q1157.04 51.7138 1162.14 47.825 Q1167.28 43.9361 1177.45 43.9361 L1187.9 43.9361 L1187.9 43.2069 Q1187.9 38.0623 1184.5 35.2672 Q1181.14 32.4315 1175.02 32.4315 Q1171.13 32.4315 1167.45 33.3632 Q1163.76 34.295 1160.36 36.1584 L1160.36 29.2718 Q1164.45 27.692 1168.3 26.9223 Q1172.15 26.1121 1175.79 26.1121 Q1185.64 26.1121 1190.5 31.2163 Q1195.36 36.3204 1195.36 46.6907 Z\" fill=\"#000000\" fill-rule=\"evenodd\" fill-opacity=\"1\" /><path clip-path=\"url(#clip130)\" d=\"M 0 0 M1252.52 9.54393 L1252.52 15.7418 L1245.39 15.7418 Q1241.38 15.7418 1239.8 17.3622 Q1238.26 18.9825 1238.26 23.1955 L1238.26 27.2059 L1250.53 27.2059 L1250.53 32.9987 L1238.26 32.9987 L1238.26 72.576 L1230.76 72.576 L1230.76 32.9987 L1223.63 32.9987 L1223.63 27.2059 L1230.76 27.2059 L1230.76 24.0462 Q1230.76 16.471 1234.29 13.0277 Q1237.81 9.54393 1245.47 9.54393 L1252.52 9.54393 Z\" fill=\"#000000\" fill-rule=\"evenodd\" fill-opacity=\"1\" /><path clip-path=\"url(#clip130)\" d=\"M 0 0 M1259.56 54.671 L1259.56 27.2059 L1267.02 27.2059 L1267.02 54.3874 Q1267.02 60.8284 1269.53 64.0691 Q1272.04 67.2693 1277.06 67.2693 Q1283.1 67.2693 1286.58 63.421 Q1290.11 59.5726 1290.11 52.9291 L1290.11 27.2059 L1297.56 27.2059 L1297.56 72.576 L1290.11 72.576 L1290.11 65.6084 Q1287.39 69.7404 1283.79 71.7658 Q1280.22 73.7508 1275.48 73.7508 Q1267.67 73.7508 1263.62 68.8897 Q1259.56 64.0286 1259.56 54.671 M1278.32 26.1121 L1278.32 26.1121 Z\" fill=\"#000000\" fill-rule=\"evenodd\" fill-opacity=\"1\" /><path clip-path=\"url(#clip130)\" d=\"M 0 0 M1343.09 45.1919 L1343.09 72.576 L1335.64 72.576 L1335.64 45.4349 Q1335.64 38.994 1333.13 35.7938 Q1330.62 32.5936 1325.59 32.5936 Q1319.56 32.5936 1316.07 36.4419 Q1312.59 40.2903 1312.59 46.9338 L1312.59 72.576 L1305.1 72.576 L1305.1 27.2059 L1312.59 27.2059 L1312.59 34.2544 Q1315.26 30.163 1318.87 28.1376 Q1322.52 26.1121 1327.25 26.1121 Q1335.07 26.1121 1339.08 30.9732 Q1343.09 35.7938 1343.09 45.1919 Z\" fill=\"#000000\" fill-rule=\"evenodd\" fill-opacity=\"1\" /><path clip-path=\"url(#clip130)\" d=\"M 0 0 M1350.63 9.54393 L1358.12 9.54393 L1358.12 46.7717 L1380.36 27.2059 L1389.88 27.2059 L1365.82 48.4326 L1390.89 72.576 L1381.17 72.576 L1358.12 50.4176 L1358.12 72.576 L1350.63 72.576 L1350.63 9.54393 Z\" fill=\"#000000\" fill-rule=\"evenodd\" fill-opacity=\"1\" /><path clip-path=\"url(#clip130)\" d=\"M 0 0 M1431.36 28.9478 L1431.36 35.9153 Q1428.2 34.1734 1425 33.3227 Q1421.84 32.4315 1418.6 32.4315 Q1411.35 32.4315 1407.34 37.0496 Q1403.33 41.6271 1403.33 49.9314 Q1403.33 58.2358 1407.34 62.8538 Q1411.35 67.4314 1418.6 67.4314 Q1421.84 67.4314 1425 66.5807 Q1428.2 65.6895 1431.36 63.9476 L1431.36 70.8341 Q1428.24 72.2924 1424.88 73.0216 Q1421.56 73.7508 1417.79 73.7508 Q1407.54 73.7508 1401.51 67.3098 Q1395.47 60.8689 1395.47 49.9314 Q1395.47 38.832 1401.55 32.472 Q1407.67 26.1121 1418.28 26.1121 Q1421.72 26.1121 1425 26.8413 Q1428.28 27.5299 1431.36 28.9478 Z\" fill=\"#000000\" fill-rule=\"evenodd\" fill-opacity=\"1\" /><path clip-path=\"url(#clip130)\" d=\"M 0 0 M1439.18 27.2059 L1446.63 27.2059 L1446.63 73.3862 Q1446.63 82.0551 1443.31 85.944 Q1440.03 89.8329 1432.7 89.8329 L1429.86 89.8329 L1429.86 83.5134 L1431.85 83.5134 Q1436.1 83.5134 1437.64 81.5285 Q1439.18 79.5841 1439.18 73.3862 L1439.18 27.2059 M1439.18 9.54393 L1446.63 9.54393 L1446.63 18.9825 L1439.18 18.9825 L1439.18 9.54393 Z\" fill=\"#000000\" fill-rule=\"evenodd\" fill-opacity=\"1\" /><path clip-path=\"url(#clip130)\" d=\"M 0 0 M1454.45 27.2059 L1461.91 27.2059 L1461.91 72.576 L1454.45 72.576 L1454.45 27.2059 M1454.45 9.54393 L1461.91 9.54393 L1461.91 18.9825 L1454.45 18.9825 L1454.45 9.54393 Z\" fill=\"#000000\" fill-rule=\"evenodd\" fill-opacity=\"1\" /><path clip-path=\"url(#clip130)\" d=\"M 0 0 M1533.81 45.1919 L1533.81 72.576 L1526.36 72.576 L1526.36 45.4349 Q1526.36 38.994 1523.85 35.7938 Q1521.33 32.5936 1516.31 32.5936 Q1510.27 32.5936 1506.79 36.4419 Q1503.31 40.2903 1503.31 46.9338 L1503.31 72.576 L1495.81 72.576 L1495.81 27.2059 L1503.31 27.2059 L1503.31 34.2544 Q1505.98 30.163 1509.59 28.1376 Q1513.23 26.1121 1517.97 26.1121 Q1525.79 26.1121 1529.8 30.9732 Q1533.81 35.7938 1533.81 45.1919 Z\" fill=\"#000000\" fill-rule=\"evenodd\" fill-opacity=\"1\" /><path clip-path=\"url(#clip130)\" d=\"M 0 0 M1567.92 34.1734 Q1566.66 33.4443 1565.16 33.1202 Q1563.71 32.7556 1561.92 32.7556 Q1555.6 32.7556 1552.2 36.8875 Q1548.84 40.9789 1548.84 48.6757 L1548.84 72.576 L1541.35 72.576 L1541.35 27.2059 L1548.84 27.2059 L1548.84 34.2544 Q1551.19 30.1225 1554.96 28.1376 Q1558.72 26.1121 1564.11 26.1121 Q1564.88 26.1121 1565.81 26.2337 Q1566.74 26.3147 1567.88 26.5172 L1567.92 34.1734 Z\" fill=\"#000000\" fill-rule=\"evenodd\" fill-opacity=\"1\" /><path clip-path=\"url(#clip130)\" d=\"M 0 0 M1621.67 39.075 Q1616.17 39.075 1612.92 42.8424 Q1609.72 46.6097 1609.72 53.1722 Q1609.72 59.6941 1612.92 63.502 Q1616.17 67.2693 1621.67 67.2693 Q1627.18 67.2693 1630.38 63.502 Q1633.62 59.6941 1633.62 53.1722 Q1633.62 46.6097 1630.38 42.8424 Q1627.18 39.075 1621.67 39.075 M1637.92 13.4328 L1637.92 20.8865 Q1634.84 19.4281 1631.68 18.6585 Q1628.56 17.8888 1625.48 17.8888 Q1617.38 17.8888 1613.09 23.3575 Q1608.83 28.8262 1608.23 39.8852 Q1610.62 36.3609 1614.22 34.4975 Q1617.83 32.5936 1622.16 32.5936 Q1631.28 32.5936 1636.54 38.1433 Q1641.85 43.6525 1641.85 53.1722 Q1641.85 62.4892 1636.34 68.12 Q1630.83 73.7508 1621.67 73.7508 Q1611.18 73.7508 1605.63 65.73 Q1600.08 57.6687 1600.08 42.3968 Q1600.08 28.0566 1606.89 19.5497 Q1613.69 11.0023 1625.16 11.0023 Q1628.24 11.0023 1631.36 11.6099 Q1634.52 12.2175 1637.92 13.4328 Z\" fill=\"#000000\" fill-rule=\"evenodd\" fill-opacity=\"1\" /><polyline clip-path=\"url(#clip132)\" style=\"stroke:#ff0000; stroke-width:4; stroke-opacity:1; fill:none\" points=\"\n",
       "  198.69,1307.83 219.113,1307.94 407.958,1309.41 521.446,1310.88 617.399,1312.78 721.63,1316.09 817.722,1321.41 869.233,1325.95 920.743,1332.6 980.423,1344.9 \n",
       "  1040.1,1366.65 1066.62,1381.54 1093.14,1400.99 1119.66,1424.8 1146.18,1445.96 1151.99,1447.77 1157.8,1447.2 1163.62,1443.17 1169.43,1434.16 1175.24,1418.18 \n",
       "  1181.06,1392.55 1183.96,1375.1 1186.87,1353.91 1189.78,1328.46 1192.68,1298.16 1195.59,1262.44 1198.5,1220.72 1201.4,1172.46 1204.31,1117.23 1207.22,1054.73 \n",
       "  1210.12,984.935 1213.03,908.107 1215.94,824.952 1221.75,645.126 1227.57,462.4 1230.47,377.746 1233.38,302.487 1234.83,269.558 1236.29,240.357 1237.74,215.291 \n",
       "  1239.19,194.717 1240.78,177.759 1242.36,166.803 1243.95,162.047 1245.53,163.578 1247.12,171.367 1248.7,185.273 1250.28,205.047 1251.87,230.338 1255.04,295.659 \n",
       "  1258.21,377.004 1261.38,469.558 1264.55,568.466 1267.71,669.273 1270.88,768.229 1274.05,862.433 1277.22,949.854 1280.39,1029.25 1283.56,1100.04 1286.73,1162.15 \n",
       "  1289.9,1215.9 1293.07,1261.81 1296.24,1300.58 1299.41,1332.96 1302.58,1359.69 1308.91,1399.11 1315.25,1423.99 1321.59,1438.46 1327.93,1445.65 1334.27,1447.87 \n",
       "  1340.61,1446.77 1366.11,1427.55 1391.61,1404.31 1417.12,1384.81 1442.62,1369.65 1499.02,1347.49 1555.41,1334.68 1609.07,1327.09 1662.73,1322.03 1774.32,1315.8 \n",
       "  1868.25,1312.86 1982.93,1310.64 2090.73,1309.31 2263.44,1307.98 2290.02,1307.83 \n",
       "  \"/>\n",
       "</svg>\n"
      ]
     },
     "execution_count": 66,
     "metadata": {},
     "output_type": "execute_result"
    }
   ],
   "source": [
    "plot(D(test_functions[index][1]),\n",
    "    test_functions[index][2],\n",
    "    test_functions[index][3],\n",
    "    title = \"Pochodna funkcji nr 6\",\n",
    "    label = \"\",\n",
    "    color = :red\n",
    ")"
   ]
  },
  {
   "cell_type": "markdown",
   "metadata": {},
   "source": [
    "### Metoda bisekcji:"
   ]
  },
  {
   "cell_type": "code",
   "execution_count": 67,
   "metadata": {},
   "outputs": [
    {
     "data": {
      "text/plain": [
       "Results of univariate zero finding:\n",
       "\n",
       "* Converged to: 0.0\n",
       "* Algorithm: Bisection()\n",
       "* iterations: 0\n",
       "* function evaluations ≈ 3\n",
       "* stopped as f(x_n) = 0\n",
       "\n",
       "Trace:\n",
       "(a₀, b₀) = ( 0, 2 )\n",
       "\n"
      ]
     },
     "metadata": {},
     "output_type": "display_data"
    },
    {
     "data": {
      "text/plain": [
       "0.0"
      ]
     },
     "execution_count": 67,
     "metadata": {},
     "output_type": "execute_result"
    }
   ],
   "source": [
    "p2_root1 = find_zero(\n",
    "            test_functions[index][1],\n",
    "            (test_functions[index][2], test_functions[index][3]), \n",
    "            Bisection(),\n",
    "            verbose=true\n",
    "        )"
   ]
  },
  {
   "cell_type": "code",
   "execution_count": 68,
   "metadata": {},
   "outputs": [
    {
     "name": "stdout",
     "output_type": "stream",
     "text": [
      "detected root: 0.0\n",
      "f(x): 0.0\n",
      "iszero: true\n",
      "sign(f(prevfloat(root))) * sign(f(nextfloat(root))) = -1.0\n"
     ]
    }
   ],
   "source": [
    "println(\"detected root: \", p2_root1)\n",
    "println(\"f(x): \", f6(p2_root1))\n",
    "println(\"iszero: \",iszero(f6(p2_root1)))\n",
    "println(\"sign(f(prevfloat(root))) * sign(f(nextfloat(root))) = \",\n",
    "    sign(f6(prevfloat(p2_root1))) * \n",
    "    sign(f6(nextfloat(p2_root1))) \n",
    ")"
   ]
  },
  {
   "cell_type": "markdown",
   "metadata": {},
   "source": [
    "### Metoda Newtona:"
   ]
  },
  {
   "cell_type": "code",
   "execution_count": 69,
   "metadata": {},
   "outputs": [
    {
     "data": {
      "text/plain": [
       "Results of univariate zero finding:\n",
       "\n",
       "* Converged to: -1.6833214850237586e7\n",
       "* Algorithm: Roots.Newton()\n",
       "* iterations: 23\n",
       "* function evaluations ≈ 46\n",
       "* stopped as |f(x_n)| ≤ max(δ, |x|⋅ϵ) using δ = atol, ϵ = rtol\n",
       "\n",
       "Trace:\n",
       "x₁ = -2,\t fx₁ = -0.099750623441396513\n",
       "x₂ = -4.0100250626566414,\t fx₂ = -0.049844003065890263\n",
       "x₃ = -8.0250407288643615,\t fx₃ = -0.024918122697889723\n",
       "x₄ = -16.052574043958064,\t fx₄ = -0.012458577567897847\n",
       "x₅ = -32.106394042372798,\t fx₅ = -0.0062292283447633531\n",
       "x₆ = -64.213411019666154,\t fx₆ = -0.0031146066185278954\n",
       "x₇ = -128.42713350150484,\t fx₇ = -0.0015573023650648575\n",
       "x₈ = -256.854422733435,\t fx₈ = -0.00077865106450856222\n",
       "x₉ = -513.70892333200004,\t fx₉ = -0.00038932551750132965\n",
       "x₁₀ = -1027.4178855965547,\t fx₁₀ = -0.00019466275690654692\n",
       "x₁₁ = -2054.8357906593856,\t fx₁₁ = -9.7331378222758716e-05\n",
       "x₁₂ = -4109.6715910519088,\t fx₁₂ = -4.8665689082565025e-05\n",
       "x₁₃ = -8219.3431869703854,\t fx₁₃ = -2.4332844537680725e-05\n",
       "x₁₄ = -16438.686376374055,\t fx₁₄ = -1.2166422268390139e-05\n",
       "x₁₅ = -32877.372753964752,\t fx₁₅ = -6.083211134138791e-06\n",
       "x₁₆ = -65754.745508537817,\t fx₁₆ = -3.0416055670623617e-06\n",
       "x₁₇ = -131509.4910173798,\t fx₁₇ = -1.5208027835303014e-06\n",
       "x₁₈ = -263018.98203491175,\t fx₁₈ = -7.604013917650406e-07\n",
       "x₁₉ = -526037.96406989952,\t fx₁₉ = -3.8020069588250654e-07\n",
       "x₂₀ = -1052075.928139837,\t fx₂₀ = -1.901003479412516e-07\n",
       "x₂₁ = -2104151.8562796926,\t fx₂₁ = -9.5050173970625589e-08\n",
       "x₂₂ = -4208303.7125593945,\t fx₂₂ = -4.7525086985312761e-08\n",
       "x₂₃ = -8416607.4251187928,\t fx₂₃ = -2.3762543492656381e-08\n",
       "x₂₄ = -16833214.850237586,\t fx₂₄ = -1.1881271746328192e-08\n",
       "\n"
      ]
     },
     "metadata": {},
     "output_type": "display_data"
    },
    {
     "data": {
      "text/plain": [
       "-1.6833214850237586e7"
      ]
     },
     "execution_count": 69,
     "metadata": {},
     "output_type": "execute_result"
    }
   ],
   "source": [
    "p2_root2 = \n",
    "    find_zero(\n",
    "        (test_functions[index][1], D(test_functions[index][1])), \n",
    "        test_functions[index][2], \n",
    "        Roots.Newton(),\n",
    "        verbose=true)"
   ]
  },
  {
   "cell_type": "code",
   "execution_count": 70,
   "metadata": {},
   "outputs": [
    {
     "name": "stdout",
     "output_type": "stream",
     "text": [
      "root is: -1.6833214850237586e7\n",
      "f(x): -1.1881271746328192e-8\n",
      "iszero: false\n",
      "sign(f(prevfloat(root))) * sign(f(nextfloat(root))) = 1.0\n"
     ]
    }
   ],
   "source": [
    "println(\"root is: \", p2_root2)\n",
    "println(\"f(x): \", f6(p2_root2))\n",
    "println(\"iszero: \",iszero(f6(p2_root2)))\n",
    "println(\"sign(f(prevfloat(root))) * sign(f(nextfloat(root))) = \",\n",
    "    sign(f6(prevfloat(p2_root2))) * \n",
    "    sign(f6(nextfloat(p2_root2))) \n",
    ")"
   ]
  },
  {
   "cell_type": "markdown",
   "metadata": {},
   "source": [
    "### Metoda siecznych:"
   ]
  },
  {
   "cell_type": "code",
   "execution_count": 72,
   "metadata": {},
   "outputs": [
    {
     "data": {
      "text/plain": [
       "Results of univariate zero finding:\n",
       "\n",
       "* Converged to: -1.8865593260698173e7\n",
       "* Algorithm: Secant()\n",
       "* iterations: 35\n",
       "* function evaluations ≈ 39\n",
       "* stopped as |f(x_n)| ≤ max(δ, |x|⋅ϵ) using δ = atol, ϵ = rtol\n",
       "\n",
       "Trace:\n",
       "x₁ = -1.9999939444722106,\t fx₁ = -0.099750923957294887\n",
       "x₂ = -2,\t fx₂ = -0.099750623441396513\n",
       "x₃ = -2.0006055527789428,\t fx₃ = -0.099720580969859529\n",
       "x₄ = -2.0611608306732236,\t fx₄ = -0.096804837010547165\n",
       "x₅ = -4.0716404504498254,\t fx₅ = -0.049090639315222291\n",
       "x₆ = -6.1401176465932448,\t fx₆ = -0.032564028353809164\n",
       "x₇ = -10.215844377360462,\t fx₇ = -0.019575556425547185\n",
       "x₈ = -16.358569944610529,\t fx₈ = -0.012225550717048327\n",
       "x₉ = -26.576004589115449,\t fx₉ = -0.0075254791459511017\n",
       "x₁₀ = -42.935562136106157,\t fx₁₀ = -0.004658118006163477\n",
       "x₁₁ = -69.512175917008989,\t fx₁₁ = -0.0028771878228561819\n",
       "x₁₂ = -112.44811482123015,\t fx₁₂ = -0.0017785966634258814\n",
       "x₁₃ = -181.9605235281293,\t fx₁₃ = -0.0010991391743479873\n",
       "x₁₄ = -294.40878223630864,\t fx₁₄ = -0.00067932748271474781\n",
       "x₁₅ = -476.36939468780787,\t fx₁₅ = -0.00041984223465425596\n",
       "x₁₆ = -770.77823188261107,\t fx₁₆ = -0.00025947800334872212\n",
       "x₁₇ = -1247.1476605364332,\t fx₁₇ = -0.00016036593343575113\n",
       "x₁₈ = -2017.9259134112417,\t fx₁₈ = -9.911166618141596e-05\n",
       "x₁₉ = -3265.0735869215541,\t fx₁₉ = -6.1254362111012447e-05\n",
       "x₂₀ = -5282.9995083510967,\t fx₂₀ = -3.785728157123457e-05\n",
       "x₂₁ = -8548.0731002282319,\t fx₂₁ = -2.3397085825961043e-05\n",
       "x₂₂ = -13831.072611642052,\t fx₂₂ = -1.4460194491437982e-05\n",
       "x₂₃ = -22379.145713763144,\t fx₂₃ = -8.9368916291119574e-06\n",
       "x₂₄ = -36210.21832657505,\t fx₂₄ = -5.5233027924521691e-06\n",
       "x₂₅ = -58589.364041061213,\t fx₂₅ = -3.4135888530766653e-06\n",
       "x₂₆ = -94799.582368083094,\t fx₂₆ = -2.1097139354815659e-06\n",
       "x₂₇ = -153388.94640942046,\t fx₂₇ = -1.3038749185099814e-06\n",
       "x₂₈ = -248188.52877767425,\t fx₂₈ = -8.0583901675458306e-07\n",
       "x₂₉ = -401577.47518720024,\t fx₂₉ = -4.9803590180638282e-07\n",
       "x₃₀ = -649766.00396493962,\t fx₃₀ = -3.0780311493610699e-07\n",
       "x₃₁ = -1051343.4791521803,\t fx₃₁ = -1.9023278687311714e-07\n",
       "x₃₂ = -1701109.4831171446,\t fx₃₂ = -1.1757032806231589e-07\n",
       "x₃₃ = -2752452.9622693402,\t fx₃₃ = -7.2662458810959613e-08\n",
       "x₃₄ = -4453562.4453864936,\t fx₃₄ = -4.4907869251318708e-08\n",
       "x₃₅ = -7206015.4076558389,\t fx₃₅ = -2.7754589559649747e-08\n",
       "x₃₆ = -11659577.853042338,\t fx₃₆ = -1.715327969166687e-08\n",
       "x₃₇ = -18865593.260698173,\t fx₃₇ = -1.0601309867983364e-08\n",
       "\n"
      ]
     },
     "metadata": {},
     "output_type": "display_data"
    },
    {
     "data": {
      "text/plain": [
       "-1.8865593260698173e7"
      ]
     },
     "execution_count": 72,
     "metadata": {},
     "output_type": "execute_result"
    }
   ],
   "source": [
    "p2_root3 = find_zero(\n",
    "            test_functions[index][1], \n",
    "            test_functions[index][2],   \n",
    "            verbose=true\n",
    "        )"
   ]
  },
  {
   "cell_type": "code",
   "execution_count": 73,
   "metadata": {},
   "outputs": [
    {
     "name": "stdout",
     "output_type": "stream",
     "text": [
      "root is: -1.8865593260698173e7\n",
      "f(x): -1.0601309867983364e-8\n",
      "iszero: false\n",
      "sign(f(prevfloat(root))) * sign(f(nextfloat(root))) = 1.0\n"
     ]
    }
   ],
   "source": [
    "println(\"root is: \", p2_root3)\n",
    "println(\"f(x): \", f6(p2_root3))\n",
    "println(\"iszero: \",iszero(f6(p2_root3)))\n",
    "println(\"sign(f(prevfloat(root))) * sign(f(nextfloat(root))) = \",\n",
    "    sign(f6(prevfloat(p2_root3))) * \n",
    "    sign(f6(nextfloat(p2_root3))) \n",
    ")"
   ]
  },
  {
   "cell_type": "markdown",
   "metadata": {},
   "source": [
    "# 3\n",
    "Dla każdej z wybranych metod zademonstrować i wyjaśnić po jednym przykładzie, dla którego nie działają (można na podstawie p.1 lub wymyślić własny)(1 pkt)"
   ]
  },
  {
   "cell_type": "markdown",
   "metadata": {},
   "source": [
    "### Metoda bisekcji "
   ]
  },
  {
   "cell_type": "code",
   "execution_count": 79,
   "metadata": {},
   "outputs": [
    {
     "data": {
      "image/svg+xml": [
       "<?xml version=\"1.0\" encoding=\"utf-8\"?>\n",
       "<svg xmlns=\"http://www.w3.org/2000/svg\" xmlns:xlink=\"http://www.w3.org/1999/xlink\" width=\"600\" height=\"400\" viewBox=\"0 0 2400 1600\">\n",
       "<defs>\n",
       "  <clipPath id=\"clip290\">\n",
       "    <rect x=\"0\" y=\"0\" width=\"2400\" height=\"1600\"/>\n",
       "  </clipPath>\n",
       "</defs>\n",
       "<path clip-path=\"url(#clip290)\" d=\"\n",
       "M0 1600 L2400 1600 L2400 0 L0 0  Z\n",
       "  \" fill=\"#ffffff\" fill-rule=\"evenodd\" fill-opacity=\"1\"/>\n",
       "<defs>\n",
       "  <clipPath id=\"clip291\">\n",
       "    <rect x=\"480\" y=\"0\" width=\"1681\" height=\"1600\"/>\n",
       "  </clipPath>\n",
       "</defs>\n",
       "<path clip-path=\"url(#clip290)\" d=\"\n",
       "M142.455 1486.45 L2352.76 1486.45 L2352.76 47.2441 L142.455 47.2441  Z\n",
       "  \" fill=\"#ffffff\" fill-rule=\"evenodd\" fill-opacity=\"1\"/>\n",
       "<defs>\n",
       "  <clipPath id=\"clip292\">\n",
       "    <rect x=\"142\" y=\"47\" width=\"2211\" height=\"1440\"/>\n",
       "  </clipPath>\n",
       "</defs>\n",
       "<polyline clip-path=\"url(#clip292)\" style=\"stroke:#000000; stroke-width:2; stroke-opacity:0.4; fill:none\" points=\"\n",
       "  368.154,1486.45 368.154,47.2441 \n",
       "  \"/>\n",
       "<polyline clip-path=\"url(#clip292)\" style=\"stroke:#000000; stroke-width:2; stroke-opacity:0.4; fill:none\" points=\"\n",
       "  661.305,1486.45 661.305,47.2441 \n",
       "  \"/>\n",
       "<polyline clip-path=\"url(#clip292)\" style=\"stroke:#000000; stroke-width:2; stroke-opacity:0.4; fill:none\" points=\"\n",
       "  954.455,1486.45 954.455,47.2441 \n",
       "  \"/>\n",
       "<polyline clip-path=\"url(#clip292)\" style=\"stroke:#000000; stroke-width:2; stroke-opacity:0.4; fill:none\" points=\"\n",
       "  1247.61,1486.45 1247.61,47.2441 \n",
       "  \"/>\n",
       "<polyline clip-path=\"url(#clip292)\" style=\"stroke:#000000; stroke-width:2; stroke-opacity:0.4; fill:none\" points=\"\n",
       "  1540.76,1486.45 1540.76,47.2441 \n",
       "  \"/>\n",
       "<polyline clip-path=\"url(#clip292)\" style=\"stroke:#000000; stroke-width:2; stroke-opacity:0.4; fill:none\" points=\"\n",
       "  1833.91,1486.45 1833.91,47.2441 \n",
       "  \"/>\n",
       "<polyline clip-path=\"url(#clip292)\" style=\"stroke:#000000; stroke-width:2; stroke-opacity:0.4; fill:none\" points=\"\n",
       "  2127.06,1486.45 2127.06,47.2441 \n",
       "  \"/>\n",
       "<polyline clip-path=\"url(#clip290)\" style=\"stroke:#000000; stroke-width:4; stroke-opacity:1; fill:none\" points=\"\n",
       "  142.455,1486.45 2352.76,1486.45 \n",
       "  \"/>\n",
       "<polyline clip-path=\"url(#clip290)\" style=\"stroke:#000000; stroke-width:4; stroke-opacity:1; fill:none\" points=\"\n",
       "  368.154,1486.45 368.154,1469.18 \n",
       "  \"/>\n",
       "<polyline clip-path=\"url(#clip290)\" style=\"stroke:#000000; stroke-width:4; stroke-opacity:1; fill:none\" points=\"\n",
       "  661.305,1486.45 661.305,1469.18 \n",
       "  \"/>\n",
       "<polyline clip-path=\"url(#clip290)\" style=\"stroke:#000000; stroke-width:4; stroke-opacity:1; fill:none\" points=\"\n",
       "  954.455,1486.45 954.455,1469.18 \n",
       "  \"/>\n",
       "<polyline clip-path=\"url(#clip290)\" style=\"stroke:#000000; stroke-width:4; stroke-opacity:1; fill:none\" points=\"\n",
       "  1247.61,1486.45 1247.61,1469.18 \n",
       "  \"/>\n",
       "<polyline clip-path=\"url(#clip290)\" style=\"stroke:#000000; stroke-width:4; stroke-opacity:1; fill:none\" points=\"\n",
       "  1540.76,1486.45 1540.76,1469.18 \n",
       "  \"/>\n",
       "<polyline clip-path=\"url(#clip290)\" style=\"stroke:#000000; stroke-width:4; stroke-opacity:1; fill:none\" points=\"\n",
       "  1833.91,1486.45 1833.91,1469.18 \n",
       "  \"/>\n",
       "<polyline clip-path=\"url(#clip290)\" style=\"stroke:#000000; stroke-width:4; stroke-opacity:1; fill:none\" points=\"\n",
       "  2127.06,1486.45 2127.06,1469.18 \n",
       "  \"/>\n",
       "<path clip-path=\"url(#clip290)\" d=\"M 0 0 M322.275 1530.29 L351.951 1530.29 L351.951 1534.23 L322.275 1534.23 L322.275 1530.29 Z\" fill=\"#000000\" fill-rule=\"evenodd\" fill-opacity=\"1\" /><path clip-path=\"url(#clip290)\" d=\"M 0 0 M355.84 1512.56 L378.062 1512.56 L378.062 1514.55 L365.516 1547.12 L360.631 1547.12 L372.437 1516.5 L355.84 1516.5 L355.84 1512.56 Z\" fill=\"#000000\" fill-rule=\"evenodd\" fill-opacity=\"1\" /><path clip-path=\"url(#clip290)\" d=\"M 0 0 M383.131 1541.24 L388.015 1541.24 L388.015 1547.12 L383.131 1547.12 L383.131 1541.24 Z\" fill=\"#000000\" fill-rule=\"evenodd\" fill-opacity=\"1\" /><path clip-path=\"url(#clip290)\" d=\"M 0 0 M393.131 1512.56 L411.488 1512.56 L411.488 1516.5 L397.414 1516.5 L397.414 1524.97 Q398.432 1524.62 399.451 1524.46 Q400.469 1524.27 401.488 1524.27 Q407.275 1524.27 410.654 1527.44 Q414.034 1530.62 414.034 1536.03 Q414.034 1541.61 410.562 1544.71 Q407.089 1547.79 400.77 1547.79 Q398.594 1547.79 396.326 1547.42 Q394.08 1547.05 391.673 1546.31 L391.673 1541.61 Q393.756 1542.74 395.978 1543.3 Q398.201 1543.86 400.677 1543.86 Q404.682 1543.86 407.02 1541.75 Q409.358 1539.64 409.358 1536.03 Q409.358 1532.42 407.02 1530.31 Q404.682 1528.21 400.677 1528.21 Q398.802 1528.21 396.927 1528.62 Q395.076 1529.04 393.131 1529.92 L393.131 1512.56 Z\" fill=\"#000000\" fill-rule=\"evenodd\" fill-opacity=\"1\" /><path clip-path=\"url(#clip290)\" d=\"M 0 0 M614.974 1530.29 L644.65 1530.29 L644.65 1534.23 L614.974 1534.23 L614.974 1530.29 Z\" fill=\"#000000\" fill-rule=\"evenodd\" fill-opacity=\"1\" /><path clip-path=\"url(#clip290)\" d=\"M 0 0 M649.765 1512.56 L668.122 1512.56 L668.122 1516.5 L654.048 1516.5 L654.048 1524.97 Q655.066 1524.62 656.085 1524.46 Q657.103 1524.27 658.122 1524.27 Q663.909 1524.27 667.289 1527.44 Q670.668 1530.62 670.668 1536.03 Q670.668 1541.61 667.196 1544.71 Q663.724 1547.79 657.404 1547.79 Q655.228 1547.79 652.96 1547.42 Q650.715 1547.05 648.307 1546.31 L648.307 1541.61 Q650.39 1542.74 652.613 1543.3 Q654.835 1543.86 657.312 1543.86 Q661.316 1543.86 663.654 1541.75 Q665.992 1539.64 665.992 1536.03 Q665.992 1532.42 663.654 1530.31 Q661.316 1528.21 657.312 1528.21 Q655.437 1528.21 653.562 1528.62 Q651.71 1529.04 649.765 1529.92 L649.765 1512.56 Z\" fill=\"#000000\" fill-rule=\"evenodd\" fill-opacity=\"1\" /><path clip-path=\"url(#clip290)\" d=\"M 0 0 M675.738 1541.24 L680.622 1541.24 L680.622 1547.12 L675.738 1547.12 L675.738 1541.24 Z\" fill=\"#000000\" fill-rule=\"evenodd\" fill-opacity=\"1\" /><path clip-path=\"url(#clip290)\" d=\"M 0 0 M695.691 1515.64 Q692.08 1515.64 690.251 1519.2 Q688.446 1522.75 688.446 1529.87 Q688.446 1536.98 690.251 1540.55 Q692.08 1544.09 695.691 1544.09 Q699.325 1544.09 701.131 1540.55 Q702.96 1536.98 702.96 1529.87 Q702.96 1522.75 701.131 1519.2 Q699.325 1515.64 695.691 1515.64 M695.691 1511.93 Q701.501 1511.93 704.557 1516.54 Q707.636 1521.12 707.636 1529.87 Q707.636 1538.6 704.557 1543.21 Q701.501 1547.79 695.691 1547.79 Q689.881 1547.79 686.802 1543.21 Q683.747 1538.6 683.747 1529.87 Q683.747 1521.12 686.802 1516.54 Q689.881 1511.93 695.691 1511.93 Z\" fill=\"#000000\" fill-rule=\"evenodd\" fill-opacity=\"1\" /><path clip-path=\"url(#clip290)\" d=\"M 0 0 M908.923 1530.29 L938.599 1530.29 L938.599 1534.23 L908.923 1534.23 L908.923 1530.29 Z\" fill=\"#000000\" fill-rule=\"evenodd\" fill-opacity=\"1\" /><path clip-path=\"url(#clip290)\" d=\"M 0 0 M947.696 1543.18 L964.015 1543.18 L964.015 1547.12 L942.071 1547.12 L942.071 1543.18 Q944.733 1540.43 949.316 1535.8 Q953.923 1531.15 955.103 1529.81 Q957.349 1527.28 958.228 1525.55 Q959.131 1523.79 959.131 1522.1 Q959.131 1519.34 957.187 1517.61 Q955.265 1515.87 952.163 1515.87 Q949.964 1515.87 947.511 1516.63 Q945.08 1517.4 942.302 1518.95 L942.302 1514.23 Q945.126 1513.09 947.58 1512.51 Q950.034 1511.93 952.071 1511.93 Q957.441 1511.93 960.636 1514.62 Q963.83 1517.31 963.83 1521.8 Q963.83 1523.93 963.02 1525.85 Q962.233 1527.74 960.126 1530.34 Q959.548 1531.01 956.446 1534.23 Q953.344 1537.42 947.696 1543.18 Z\" fill=\"#000000\" fill-rule=\"evenodd\" fill-opacity=\"1\" /><path clip-path=\"url(#clip290)\" d=\"M 0 0 M969.085 1541.24 L973.969 1541.24 L973.969 1547.12 L969.085 1547.12 L969.085 1541.24 Z\" fill=\"#000000\" fill-rule=\"evenodd\" fill-opacity=\"1\" /><path clip-path=\"url(#clip290)\" d=\"M 0 0 M979.085 1512.56 L997.441 1512.56 L997.441 1516.5 L983.367 1516.5 L983.367 1524.97 Q984.385 1524.62 985.404 1524.46 Q986.422 1524.27 987.441 1524.27 Q993.228 1524.27 996.608 1527.44 Q999.987 1530.62 999.987 1536.03 Q999.987 1541.61 996.515 1544.71 Q993.043 1547.79 986.723 1547.79 Q984.547 1547.79 982.279 1547.42 Q980.034 1547.05 977.626 1546.31 L977.626 1541.61 Q979.71 1542.74 981.932 1543.3 Q984.154 1543.86 986.631 1543.86 Q990.635 1543.86 992.973 1541.75 Q995.311 1539.64 995.311 1536.03 Q995.311 1532.42 992.973 1530.31 Q990.635 1528.21 986.631 1528.21 Q984.756 1528.21 982.881 1528.62 Q981.029 1529.04 979.085 1529.92 L979.085 1512.56 Z\" fill=\"#000000\" fill-rule=\"evenodd\" fill-opacity=\"1\" /><path clip-path=\"url(#clip290)\" d=\"M 0 0 M1229.12 1515.64 Q1225.51 1515.64 1223.68 1519.2 Q1221.88 1522.75 1221.88 1529.87 Q1221.88 1536.98 1223.68 1540.55 Q1225.51 1544.09 1229.12 1544.09 Q1232.76 1544.09 1234.56 1540.55 Q1236.39 1536.98 1236.39 1529.87 Q1236.39 1522.75 1234.56 1519.2 Q1232.76 1515.64 1229.12 1515.64 M1229.12 1511.93 Q1234.93 1511.93 1237.99 1516.54 Q1241.07 1521.12 1241.07 1529.87 Q1241.07 1538.6 1237.99 1543.21 Q1234.93 1547.79 1229.12 1547.79 Q1223.31 1547.79 1220.23 1543.21 Q1217.18 1538.6 1217.18 1529.87 Q1217.18 1521.12 1220.23 1516.54 Q1223.31 1511.93 1229.12 1511.93 Z\" fill=\"#000000\" fill-rule=\"evenodd\" fill-opacity=\"1\" /><path clip-path=\"url(#clip290)\" d=\"M 0 0 M1246.14 1541.24 L1251.02 1541.24 L1251.02 1547.12 L1246.14 1547.12 L1246.14 1541.24 Z\" fill=\"#000000\" fill-rule=\"evenodd\" fill-opacity=\"1\" /><path clip-path=\"url(#clip290)\" d=\"M 0 0 M1266.09 1515.64 Q1262.48 1515.64 1260.65 1519.2 Q1258.84 1522.75 1258.84 1529.87 Q1258.84 1536.98 1260.65 1540.55 Q1262.48 1544.09 1266.09 1544.09 Q1269.72 1544.09 1271.53 1540.55 Q1273.36 1536.98 1273.36 1529.87 Q1273.36 1522.75 1271.53 1519.2 Q1269.72 1515.64 1266.09 1515.64 M1266.09 1511.93 Q1271.9 1511.93 1274.95 1516.54 Q1278.03 1521.12 1278.03 1529.87 Q1278.03 1538.6 1274.95 1543.21 Q1271.9 1547.79 1266.09 1547.79 Q1260.28 1547.79 1257.2 1543.21 Q1254.14 1538.6 1254.14 1529.87 Q1254.14 1521.12 1257.2 1516.54 Q1260.28 1511.93 1266.09 1511.93 Z\" fill=\"#000000\" fill-rule=\"evenodd\" fill-opacity=\"1\" /><path clip-path=\"url(#clip290)\" d=\"M 0 0 M1517.42 1543.18 L1533.74 1543.18 L1533.74 1547.12 L1511.8 1547.12 L1511.8 1543.18 Q1514.46 1540.43 1519.04 1535.8 Q1523.65 1531.15 1524.83 1529.81 Q1527.08 1527.28 1527.95 1525.55 Q1528.86 1523.79 1528.86 1522.1 Q1528.86 1519.34 1526.91 1517.61 Q1524.99 1515.87 1521.89 1515.87 Q1519.69 1515.87 1517.24 1516.63 Q1514.81 1517.4 1512.03 1518.95 L1512.03 1514.23 Q1514.85 1513.09 1517.31 1512.51 Q1519.76 1511.93 1521.8 1511.93 Q1527.17 1511.93 1530.36 1514.62 Q1533.56 1517.31 1533.56 1521.8 Q1533.56 1523.93 1532.75 1525.85 Q1531.96 1527.74 1529.85 1530.34 Q1529.27 1531.01 1526.17 1534.23 Q1523.07 1537.42 1517.42 1543.18 Z\" fill=\"#000000\" fill-rule=\"evenodd\" fill-opacity=\"1\" /><path clip-path=\"url(#clip290)\" d=\"M 0 0 M1538.81 1541.24 L1543.7 1541.24 L1543.7 1547.12 L1538.81 1547.12 L1538.81 1541.24 Z\" fill=\"#000000\" fill-rule=\"evenodd\" fill-opacity=\"1\" /><path clip-path=\"url(#clip290)\" d=\"M 0 0 M1548.81 1512.56 L1567.17 1512.56 L1567.17 1516.5 L1553.09 1516.5 L1553.09 1524.97 Q1554.11 1524.62 1555.13 1524.46 Q1556.15 1524.27 1557.17 1524.27 Q1562.95 1524.27 1566.33 1527.44 Q1569.71 1530.62 1569.71 1536.03 Q1569.71 1541.61 1566.24 1544.71 Q1562.77 1547.79 1556.45 1547.79 Q1554.27 1547.79 1552.01 1547.42 Q1549.76 1547.05 1547.35 1546.31 L1547.35 1541.61 Q1549.44 1542.74 1551.66 1543.3 Q1553.88 1543.86 1556.36 1543.86 Q1560.36 1543.86 1562.7 1541.75 Q1565.04 1539.64 1565.04 1536.03 Q1565.04 1532.42 1562.7 1530.31 Q1560.36 1528.21 1556.36 1528.21 Q1554.48 1528.21 1552.61 1528.62 Q1550.76 1529.04 1548.81 1529.92 L1548.81 1512.56 Z\" fill=\"#000000\" fill-rule=\"evenodd\" fill-opacity=\"1\" /><path clip-path=\"url(#clip290)\" d=\"M 0 0 M1805.7 1512.56 L1824.06 1512.56 L1824.06 1516.5 L1809.98 1516.5 L1809.98 1524.97 Q1811 1524.62 1812.02 1524.46 Q1813.04 1524.27 1814.06 1524.27 Q1819.84 1524.27 1823.22 1527.44 Q1826.6 1530.62 1826.6 1536.03 Q1826.6 1541.61 1823.13 1544.71 Q1819.66 1547.79 1813.34 1547.79 Q1811.16 1547.79 1808.89 1547.42 Q1806.65 1547.05 1804.24 1546.31 L1804.24 1541.61 Q1806.33 1542.74 1808.55 1543.3 Q1810.77 1543.86 1813.25 1543.86 Q1817.25 1543.86 1819.59 1541.75 Q1821.93 1539.64 1821.93 1536.03 Q1821.93 1532.42 1819.59 1530.31 Q1817.25 1528.21 1813.25 1528.21 Q1811.37 1528.21 1809.5 1528.62 Q1807.64 1529.04 1805.7 1529.92 L1805.7 1512.56 Z\" fill=\"#000000\" fill-rule=\"evenodd\" fill-opacity=\"1\" /><path clip-path=\"url(#clip290)\" d=\"M 0 0 M1831.67 1541.24 L1836.56 1541.24 L1836.56 1547.12 L1831.67 1547.12 L1831.67 1541.24 Z\" fill=\"#000000\" fill-rule=\"evenodd\" fill-opacity=\"1\" /><path clip-path=\"url(#clip290)\" d=\"M 0 0 M1851.63 1515.64 Q1848.01 1515.64 1846.19 1519.2 Q1844.38 1522.75 1844.38 1529.87 Q1844.38 1536.98 1846.19 1540.55 Q1848.01 1544.09 1851.63 1544.09 Q1855.26 1544.09 1857.07 1540.55 Q1858.89 1536.98 1858.89 1529.87 Q1858.89 1522.75 1857.07 1519.2 Q1855.26 1515.64 1851.63 1515.64 M1851.63 1511.93 Q1857.44 1511.93 1860.49 1516.54 Q1863.57 1521.12 1863.57 1529.87 Q1863.57 1538.6 1860.49 1543.21 Q1857.44 1547.79 1851.63 1547.79 Q1845.82 1547.79 1842.74 1543.21 Q1839.68 1538.6 1839.68 1529.87 Q1839.68 1521.12 1842.74 1516.54 Q1845.82 1511.93 1851.63 1511.93 Z\" fill=\"#000000\" fill-rule=\"evenodd\" fill-opacity=\"1\" /><path clip-path=\"url(#clip290)\" d=\"M 0 0 M2097.96 1512.56 L2120.18 1512.56 L2120.18 1514.55 L2107.64 1547.12 L2102.75 1547.12 L2114.56 1516.5 L2097.96 1516.5 L2097.96 1512.56 Z\" fill=\"#000000\" fill-rule=\"evenodd\" fill-opacity=\"1\" /><path clip-path=\"url(#clip290)\" d=\"M 0 0 M2125.25 1541.24 L2130.13 1541.24 L2130.13 1547.12 L2125.25 1547.12 L2125.25 1541.24 Z\" fill=\"#000000\" fill-rule=\"evenodd\" fill-opacity=\"1\" /><path clip-path=\"url(#clip290)\" d=\"M 0 0 M2135.25 1512.56 L2153.61 1512.56 L2153.61 1516.5 L2139.53 1516.5 L2139.53 1524.97 Q2140.55 1524.62 2141.57 1524.46 Q2142.59 1524.27 2143.61 1524.27 Q2149.39 1524.27 2152.77 1527.44 Q2156.15 1530.62 2156.15 1536.03 Q2156.15 1541.61 2152.68 1544.71 Q2149.21 1547.79 2142.89 1547.79 Q2140.71 1547.79 2138.45 1547.42 Q2136.2 1547.05 2133.79 1546.31 L2133.79 1541.61 Q2135.88 1542.74 2138.1 1543.3 Q2140.32 1543.86 2142.8 1543.86 Q2146.8 1543.86 2149.14 1541.75 Q2151.48 1539.64 2151.48 1536.03 Q2151.48 1532.42 2149.14 1530.31 Q2146.8 1528.21 2142.8 1528.21 Q2140.92 1528.21 2139.05 1528.62 Q2137.2 1529.04 2135.25 1529.92 L2135.25 1512.56 Z\" fill=\"#000000\" fill-rule=\"evenodd\" fill-opacity=\"1\" /><polyline clip-path=\"url(#clip292)\" style=\"stroke:#000000; stroke-width:2; stroke-opacity:0.4; fill:none\" points=\"\n",
       "  142.455,1486.45 2352.76,1486.45 \n",
       "  \"/>\n",
       "<polyline clip-path=\"url(#clip292)\" style=\"stroke:#000000; stroke-width:2; stroke-opacity:0.4; fill:none\" points=\"\n",
       "  142.455,1126.65 2352.76,1126.65 \n",
       "  \"/>\n",
       "<polyline clip-path=\"url(#clip292)\" style=\"stroke:#000000; stroke-width:2; stroke-opacity:0.4; fill:none\" points=\"\n",
       "  142.455,766.846 2352.76,766.846 \n",
       "  \"/>\n",
       "<polyline clip-path=\"url(#clip292)\" style=\"stroke:#000000; stroke-width:2; stroke-opacity:0.4; fill:none\" points=\"\n",
       "  142.455,407.045 2352.76,407.045 \n",
       "  \"/>\n",
       "<polyline clip-path=\"url(#clip292)\" style=\"stroke:#000000; stroke-width:2; stroke-opacity:0.4; fill:none\" points=\"\n",
       "  142.455,47.2441 2352.76,47.2441 \n",
       "  \"/>\n",
       "<polyline clip-path=\"url(#clip290)\" style=\"stroke:#000000; stroke-width:4; stroke-opacity:1; fill:none\" points=\"\n",
       "  142.455,1486.45 142.455,47.2441 \n",
       "  \"/>\n",
       "<polyline clip-path=\"url(#clip290)\" style=\"stroke:#000000; stroke-width:4; stroke-opacity:1; fill:none\" points=\"\n",
       "  142.455,1486.45 168.978,1486.45 \n",
       "  \"/>\n",
       "<polyline clip-path=\"url(#clip290)\" style=\"stroke:#000000; stroke-width:4; stroke-opacity:1; fill:none\" points=\"\n",
       "  142.455,1126.65 168.978,1126.65 \n",
       "  \"/>\n",
       "<polyline clip-path=\"url(#clip290)\" style=\"stroke:#000000; stroke-width:4; stroke-opacity:1; fill:none\" points=\"\n",
       "  142.455,766.846 168.978,766.846 \n",
       "  \"/>\n",
       "<polyline clip-path=\"url(#clip290)\" style=\"stroke:#000000; stroke-width:4; stroke-opacity:1; fill:none\" points=\"\n",
       "  142.455,407.045 168.978,407.045 \n",
       "  \"/>\n",
       "<polyline clip-path=\"url(#clip290)\" style=\"stroke:#000000; stroke-width:4; stroke-opacity:1; fill:none\" points=\"\n",
       "  142.455,47.2441 168.978,47.2441 \n",
       "  \"/>\n",
       "<path clip-path=\"url(#clip290)\" d=\"M 0 0 M51.3625 1486.9 L81.0383 1486.9 L81.0383 1490.83 L51.3625 1490.83 L51.3625 1486.9 Z\" fill=\"#000000\" fill-rule=\"evenodd\" fill-opacity=\"1\" /><path clip-path=\"url(#clip290)\" d=\"M 0 0 M90.1354 1499.79 L106.455 1499.79 L106.455 1503.73 L84.5105 1503.73 L84.5105 1499.79 Q87.1725 1497.04 91.7558 1492.41 Q96.3623 1487.76 97.5428 1486.41 Q99.7882 1483.89 100.668 1482.15 Q101.571 1480.39 101.571 1478.7 Q101.571 1475.95 99.6261 1474.21 Q97.7048 1472.48 94.603 1472.48 Q92.4039 1472.48 89.9503 1473.24 Q87.5197 1474.01 84.7419 1475.56 L84.7419 1470.83 Q87.566 1469.7 90.0197 1469.12 Q92.4734 1468.54 94.5104 1468.54 Q99.8808 1468.54 103.075 1471.23 Q106.27 1473.91 106.27 1478.4 Q106.27 1480.53 105.459 1482.45 Q104.672 1484.35 102.566 1486.95 Q101.987 1487.62 98.8854 1490.83 Q95.7836 1494.03 90.1354 1499.79 Z\" fill=\"#000000\" fill-rule=\"evenodd\" fill-opacity=\"1\" /><path clip-path=\"url(#clip290)\" d=\"M 0 0 M50.9921 1127.1 L80.6679 1127.1 L80.6679 1131.03 L50.9921 1131.03 L50.9921 1127.1 Z\" fill=\"#000000\" fill-rule=\"evenodd\" fill-opacity=\"1\" /><path clip-path=\"url(#clip290)\" d=\"M 0 0 M86.5475 1139.99 L94.1863 1139.99 L94.1863 1113.63 L85.8762 1115.29 L85.8762 1111.03 L94.14 1109.37 L98.8159 1109.37 L98.8159 1139.99 L106.455 1139.99 L106.455 1143.93 L86.5475 1143.93 L86.5475 1139.99 Z\" fill=\"#000000\" fill-rule=\"evenodd\" fill-opacity=\"1\" /><path clip-path=\"url(#clip290)\" d=\"M 0 0 M94.5104 752.645 Q90.8993 752.645 89.0706 756.209 Q87.2651 759.751 87.2651 766.881 Q87.2651 773.987 89.0706 777.552 Q90.8993 781.094 94.5104 781.094 Q98.1447 781.094 99.9502 777.552 Q101.779 773.987 101.779 766.881 Q101.779 759.751 99.9502 756.209 Q98.1447 752.645 94.5104 752.645 M94.5104 748.941 Q100.321 748.941 103.376 753.547 Q106.455 758.131 106.455 766.881 Q106.455 775.608 103.376 780.214 Q100.321 784.797 94.5104 784.797 Q88.7003 784.797 85.6216 780.214 Q82.566 775.608 82.566 766.881 Q82.566 758.131 85.6216 753.547 Q88.7003 748.941 94.5104 748.941 Z\" fill=\"#000000\" fill-rule=\"evenodd\" fill-opacity=\"1\" /><path clip-path=\"url(#clip290)\" d=\"M 0 0 M86.5475 420.39 L94.1863 420.39 L94.1863 394.024 L85.8762 395.691 L85.8762 391.432 L94.14 389.765 L98.8159 389.765 L98.8159 420.39 L106.455 420.39 L106.455 424.325 L86.5475 424.325 L86.5475 420.39 Z\" fill=\"#000000\" fill-rule=\"evenodd\" fill-opacity=\"1\" /><path clip-path=\"url(#clip290)\" d=\"M 0 0 M90.1354 60.5889 L106.455 60.5889 L106.455 64.5241 L84.5105 64.5241 L84.5105 60.5889 Q87.1725 57.8343 91.7558 53.2047 Q96.3623 48.552 97.5428 47.2094 Q99.7882 44.6862 100.668 42.9501 Q101.571 41.1909 101.571 39.5011 Q101.571 36.7465 99.6261 35.0104 Q97.7048 33.2743 94.603 33.2743 Q92.4039 33.2743 89.9503 34.0381 Q87.5197 34.802 84.7419 36.3529 L84.7419 31.6308 Q87.566 30.4965 90.0197 29.9178 Q92.4734 29.3391 94.5104 29.3391 Q99.8808 29.3391 103.075 32.0243 Q106.27 34.7094 106.27 39.2002 Q106.27 41.3298 105.459 43.2511 Q104.672 45.1492 102.566 47.7418 Q101.987 48.4131 98.8854 51.6306 Q95.7836 54.8251 90.1354 60.5889 Z\" fill=\"#000000\" fill-rule=\"evenodd\" fill-opacity=\"1\" /><polyline clip-path=\"url(#clip292)\" style=\"stroke:#000000; stroke-width:4; stroke-opacity:1; fill:none\" points=\"\n",
       "  142.455,1126.65 143.627,1126.63 144.8,1126.57 145.973,1126.49 147.145,1126.36 148.318,1126.2 149.49,1126 150.663,1125.77 151.836,1125.5 153.008,1125.19 \n",
       "  154.181,1124.85 155.353,1124.47 156.526,1124.06 157.699,1123.61 158.871,1123.13 160.044,1122.61 161.216,1122.05 162.389,1121.46 163.562,1120.83 164.734,1120.17 \n",
       "  165.907,1119.47 167.079,1118.74 168.252,1117.97 169.425,1117.17 170.597,1116.33 171.77,1115.46 172.942,1114.55 174.115,1113.61 175.288,1112.63 176.46,1111.62 \n",
       "  177.633,1110.58 178.805,1109.5 179.978,1108.38 181.151,1107.23 182.323,1106.05 183.496,1104.83 184.668,1103.58 185.841,1102.3 187.014,1100.98 188.186,1099.63 \n",
       "  189.359,1098.24 190.531,1096.83 191.704,1095.38 192.877,1093.89 194.049,1092.38 195.222,1090.83 196.394,1089.25 197.567,1087.63 198.74,1085.99 199.912,1084.31 \n",
       "  201.085,1082.6 202.257,1080.86 203.43,1079.09 204.603,1077.28 205.775,1075.45 206.948,1073.59 208.12,1071.69 209.293,1069.76 210.466,1067.81 211.638,1065.82 \n",
       "  212.811,1063.8 213.983,1061.76 215.156,1059.68 216.329,1057.58 217.501,1055.44 218.674,1053.28 219.846,1051.09 221.019,1048.87 222.192,1046.62 223.364,1044.34 \n",
       "  224.537,1042.04 225.709,1039.71 226.882,1037.35 228.055,1034.96 229.227,1032.55 230.4,1030.11 231.572,1027.64 232.745,1025.15 233.918,1022.63 235.09,1020.09 \n",
       "  236.263,1017.52 237.435,1014.93 238.608,1012.31 239.781,1009.67 240.953,1007 242.126,1004.31 243.298,1001.59 244.471,998.855 245.644,996.094 246.816,993.309 \n",
       "  247.989,990.502 249.161,987.672 250.334,984.821 251.507,981.947 252.679,979.052 253.852,976.136 255.025,973.199 256.197,970.241 257.37,967.263 258.542,964.265 \n",
       "  259.715,961.247 260.888,958.21 262.06,955.154 263.233,952.078 264.405,948.985 265.578,945.873 266.751,942.743 267.923,939.595 269.096,936.43 270.268,933.249 \n",
       "  271.441,930.05 272.614,926.836 273.786,923.605 274.959,920.359 276.131,917.097 277.304,913.82 278.477,910.529 279.649,907.223 280.822,903.903 281.994,900.57 \n",
       "  283.167,897.223 284.34,893.863 285.512,890.49 286.685,887.105 287.857,883.708 289.03,880.299 290.203,876.879 291.375,873.448 292.548,870.006 293.72,866.554 \n",
       "  294.893,863.092 296.066,859.621 297.238,856.14 298.411,852.65 299.583,849.151 300.756,845.645 301.929,842.13 303.101,838.608 304.274,835.079 305.446,831.543 \n",
       "  306.619,828 307.792,824.452 308.964,820.897 310.137,817.337 311.309,813.773 312.482,810.203 313.655,806.629 314.827,803.051 316,799.47 317.172,795.885 \n",
       "  318.345,792.297 319.518,788.707 320.69,785.115 321.863,781.52 323.035,777.925 324.208,774.328 325.381,770.73 326.553,767.133 327.726,763.535 328.898,759.937 \n",
       "  330.071,756.34 331.244,752.744 332.416,749.15 333.589,745.557 334.761,741.966 335.934,738.378 337.107,734.793 338.279,731.211 339.452,727.632 340.624,724.058 \n",
       "  341.797,720.488 342.97,716.922 344.142,713.361 345.315,709.806 346.487,706.256 347.66,702.713 348.833,699.176 350.005,695.645 351.178,692.122 352.35,688.606 \n",
       "  353.523,685.098 354.696,681.599 355.868,678.107 357.041,674.625 358.213,671.152 359.386,667.688 360.559,664.235 361.731,660.791 362.904,657.358 364.076,653.937 \n",
       "  365.249,650.526 366.422,647.127 367.594,643.74 368.767,640.366 369.939,637.004 371.112,633.655 372.285,630.319 373.457,626.997 374.63,623.689 375.802,620.395 \n",
       "  376.975,617.116 378.148,613.852 379.32,610.603 380.493,607.37 381.665,604.153 382.838,600.952 384.011,597.767 385.183,594.6 386.356,591.449 387.528,588.317 \n",
       "  388.701,585.202 389.874,582.105 391.046,579.027 392.219,575.968 393.391,572.927 394.564,569.906 395.737,566.905 396.909,563.924 398.082,560.963 399.254,558.022 \n",
       "  400.427,555.103 401.6,552.204 402.772,549.328 403.945,546.472 405.117,543.639 406.29,540.829 407.463,538.04 408.635,535.275 409.808,532.533 410.98,529.814 \n",
       "  412.153,527.119 413.326,524.448 414.498,521.801 415.671,519.179 416.843,516.582 418.016,514.009 419.189,511.462 420.361,508.94 421.534,506.444 422.706,503.975 \n",
       "  423.879,501.531 425.052,499.114 426.224,496.724 427.397,494.361 428.569,492.025 429.742,489.716 430.915,487.435 432.087,485.182 433.26,482.958 434.432,480.761 \n",
       "  435.605,478.594 436.778,476.455 437.95,474.345 439.123,472.265 440.295,470.213 441.468,468.192 442.641,466.2 443.813,464.239 444.986,462.308 446.158,460.407 \n",
       "  447.331,458.537 448.504,456.697 449.676,454.889 450.849,453.112 452.021,451.366 453.194,449.652 454.367,447.969 455.539,446.319 456.712,444.7 457.885,443.114 \n",
       "  459.057,441.56 460.23,440.039 461.402,438.55 462.575,437.094 463.748,435.671 464.92,434.281 466.093,432.925 467.265,431.601 468.438,430.312 469.611,429.056 \n",
       "  470.783,427.833 471.956,426.645 473.128,425.491 474.301,424.371 475.474,423.285 476.646,422.233 477.819,421.216 478.991,420.234 480.164,419.286 481.337,418.373 \n",
       "  482.509,417.494 483.682,416.651 484.854,415.843 486.027,415.069 487.2,414.331 488.372,413.629 489.545,412.961 490.717,412.329 491.89,411.732 493.063,411.171 \n",
       "  494.235,410.646 495.408,410.156 496.58,409.702 497.753,409.283 498.926,408.9 500.098,408.553 501.271,408.242 502.443,407.967 503.616,407.727 504.789,407.524 \n",
       "  505.961,407.356 507.134,407.225 508.306,407.129 509.479,407.069 510.652,407.045 511.824,407.058 512.997,407.106 514.169,407.19 515.342,407.31 516.515,407.467 \n",
       "  517.687,407.659 518.86,407.887 520.032,408.15 521.205,408.45 522.378,408.786 523.55,409.157 524.723,409.564 525.895,410.007 527.068,410.486 528.241,411 \n",
       "  529.413,411.55 530.586,412.135 531.758,412.756 532.931,413.412 534.104,414.104 535.276,414.831 536.449,415.593 537.621,416.39 538.794,417.222 539.967,418.089 \n",
       "  541.139,418.991 542.312,419.928 543.484,420.899 544.657,421.906 545.83,422.946 547.002,424.021 548.175,425.13 549.347,426.274 550.52,427.451 551.693,428.663 \n",
       "  552.865,429.908 554.038,431.187 555.21,432.499 556.383,433.845 557.556,435.225 558.728,436.637 559.901,438.082 561.073,439.561 562.246,441.072 563.419,442.615 \n",
       "  564.591,444.191 565.764,445.8 566.936,447.44 568.109,449.113 569.282,450.817 570.454,452.552 571.627,454.319 572.799,456.118 573.972,457.947 575.145,459.808 \n",
       "  576.317,461.699 577.49,463.62 578.662,465.572 579.835,467.554 581.008,469.566 582.18,471.608 583.353,473.679 584.525,475.78 585.698,477.909 586.871,480.068 \n",
       "  588.043,482.255 589.216,484.471 590.388,486.715 591.561,488.987 592.734,491.286 593.906,493.613 595.079,495.968 596.251,498.35 597.424,500.758 598.597,503.193 \n",
       "  599.769,505.655 600.942,508.142 602.114,510.656 603.287,513.195 604.46,515.759 605.632,518.349 606.805,520.963 607.977,523.602 609.15,526.266 610.323,528.953 \n",
       "  611.495,531.664 612.668,534.399 613.84,537.157 615.013,539.938 616.186,542.742 617.358,545.568 618.531,548.416 619.703,551.286 620.876,554.177 622.049,557.09 \n",
       "  623.221,560.024 624.394,562.978 625.566,565.953 626.739,568.948 627.912,571.963 629.084,574.997 630.257,578.05 631.429,581.123 632.602,584.213 633.775,587.323 \n",
       "  634.947,590.45 636.12,593.594 637.292,596.756 638.465,599.935 639.638,603.131 640.81,606.343 641.983,609.571 643.155,612.815 644.328,616.075 645.501,619.349 \n",
       "  646.673,622.638 647.846,625.942 649.018,629.259 650.191,632.591 651.364,635.935 652.536,639.293 653.709,642.664 654.881,646.047 656.054,649.442 657.227,652.849 \n",
       "  658.399,656.267 659.572,659.697 660.745,663.137 661.917,666.587 663.09,670.048 664.262,673.518 665.435,676.997 666.608,680.486 667.78,683.983 668.953,687.488 \n",
       "  670.125,691.001 671.298,694.522 672.471,698.05 673.643,701.585 674.816,705.127 675.988,708.675 677.161,712.228 678.334,715.787 679.506,719.351 680.679,722.92 \n",
       "  681.851,726.493 683.024,730.071 684.197,733.652 685.369,737.236 686.542,740.823 687.714,744.413 688.887,748.005 690.06,751.599 691.232,755.194 692.405,758.791 \n",
       "  693.577,762.389 694.75,765.986 695.923,769.584 697.095,773.182 698.268,776.779 699.44,780.375 700.613,783.97 701.786,787.563 702.958,791.154 704.131,794.742 \n",
       "  705.303,798.328 706.476,801.911 707.649,805.49 708.821,809.065 709.994,812.636 711.166,816.202 712.339,819.764 713.512,823.32 714.684,826.871 715.857,830.415 \n",
       "  717.029,833.953 718.202,837.485 719.375,841.009 720.547,844.526 721.72,848.035 722.892,851.536 724.065,855.029 725.238,858.513 726.41,861.988 727.583,865.453 \n",
       "  728.755,868.908 729.928,872.353 731.101,875.787 732.273,879.211 733.446,882.623 734.618,886.024 735.791,889.413 736.964,892.79 738.136,896.154 739.309,899.505 \n",
       "  740.481,902.843 741.654,906.167 742.827,909.477 743.999,912.773 745.172,916.055 746.344,919.321 747.517,922.573 748.69,925.808 749.862,929.028 751.035,932.232 \n",
       "  752.207,935.419 753.38,938.589 754.553,941.742 755.725,944.877 756.898,947.995 758.07,951.095 759.243,954.176 760.416,957.238 761.588,960.282 762.761,963.306 \n",
       "  763.933,966.31 765.106,969.295 766.279,972.259 767.451,975.203 768.624,978.126 769.796,981.027 770.969,983.908 772.142,986.766 773.314,989.603 774.487,992.417 \n",
       "  775.659,995.209 776.832,997.978 778.005,1000.72 779.177,1003.45 780.35,1006.15 781.522,1008.82 782.695,1011.47 783.868,1014.1 785.04,1016.7 786.213,1019.27 \n",
       "  787.385,1021.83 788.558,1024.35 789.731,1026.85 790.903,1029.33 792.076,1031.77 793.248,1034.19 794.421,1036.59 795.594,1038.96 796.766,1041.3 797.939,1043.61 \n",
       "  799.111,1045.9 800.284,1048.15 801.457,1050.38 802.629,1052.58 803.802,1054.75 804.974,1056.9 806.147,1059.01 807.32,1061.1 808.492,1063.15 809.665,1065.18 \n",
       "  810.837,1067.18 812.01,1069.14 813.183,1071.08 814.355,1072.98 815.528,1074.86 816.7,1076.7 817.873,1078.52 819.046,1080.3 820.218,1082.05 821.391,1083.77 \n",
       "  822.563,1085.46 823.736,1087.11 824.909,1088.74 826.081,1090.33 827.254,1091.89 828.426,1093.41 829.599,1094.91 830.772,1096.37 831.944,1097.8 833.117,1099.19 \n",
       "  834.289,1100.55 835.462,1101.88 836.635,1103.18 837.807,1104.44 838.98,1105.67 840.152,1106.86 841.325,1108.02 842.498,1109.15 843.67,1110.24 844.843,1111.29 \n",
       "  846.015,1112.32 847.188,1113.3 848.361,1114.26 849.533,1115.18 850.706,1116.06 851.878,1116.91 853.051,1117.72 854.224,1118.5 855.396,1119.25 856.569,1119.95 \n",
       "  857.741,1120.63 858.914,1121.26 860.087,1121.87 861.259,1122.43 862.432,1122.96 863.605,1123.46 864.777,1123.92 865.95,1124.34 867.122,1124.73 868.295,1125.09 \n",
       "  869.468,1125.4 870.64,1125.68 871.813,1125.93 872.985,1126.14 874.158,1126.31 875.331,1126.45 876.503,1126.55 877.676,1126.62 878.848,1126.65 880.021,1126.64 \n",
       "  881.194,1126.6 882.366,1126.52 883.539,1126.4 884.711,1126.25 885.884,1126.07 887.057,1125.84 888.229,1125.59 889.402,1125.29 890.574,1124.96 891.747,1124.6 \n",
       "  892.92,1124.19 894.092,1123.76 895.265,1123.28 896.437,1122.78 897.61,1122.23 898.783,1121.65 899.955,1121.04 901.128,1120.39 902.3,1119.7 903.473,1118.98 \n",
       "  904.646,1118.22 905.818,1117.43 906.991,1116.6 908.163,1115.74 909.336,1114.85 910.509,1113.92 911.681,1112.95 912.854,1111.95 914.026,1110.91 915.199,1109.84 \n",
       "  916.372,1108.74 917.544,1107.6 918.717,1106.43 919.889,1105.22 921.062,1103.98 922.235,1102.71 923.407,1101.4 924.58,1100.06 925.752,1098.69 926.925,1097.28 \n",
       "  928.098,1095.84 929.27,1094.37 930.443,1092.86 931.615,1091.32 932.788,1089.75 933.961,1088.15 935.133,1086.52 936.306,1084.85 937.478,1083.15 938.651,1081.42 \n",
       "  939.824,1079.66 940.996,1077.86 942.169,1076.04 943.341,1074.18 944.514,1072.3 945.687,1070.38 946.859,1068.43 948.032,1066.46 949.204,1064.45 950.377,1062.41 \n",
       "  951.55,1060.34 952.722,1058.25 953.895,1056.12 955.067,1053.97 956.24,1051.79 957.413,1049.58 958.585,1047.34 959.758,1045.07 960.93,1042.77 962.103,1040.45 \n",
       "  963.276,1038.1 964.448,1035.72 965.621,1033.32 966.793,1030.89 967.966,1028.43 969.139,1025.95 970.311,1023.44 971.484,1020.9 972.656,1018.34 973.829,1015.76 \n",
       "  975.002,1013.15 976.174,1010.51 977.347,1007.85 978.519,1005.17 979.692,1002.46 980.865,999.73 982.037,996.976 983.21,994.198 984.382,991.398 985.555,988.576 \n",
       "  986.728,985.731 987.9,982.865 989.073,979.977 990.245,977.067 991.418,974.137 992.591,971.186 993.763,968.214 994.936,965.222 996.108,962.211 997.281,959.18 \n",
       "  998.454,956.129 999.626,953.06 1000.8,949.972 1001.97,946.866 1003.14,943.742 1004.32,940.6 1005.49,937.44 1006.66,934.264 1007.83,931.071 1009.01,927.861 \n",
       "  1010.18,924.636 1011.35,921.394 1012.52,918.137 1013.7,914.866 1014.87,911.579 1016.04,908.277 1017.22,904.962 1018.39,901.633 1019.56,898.29 1020.73,894.934 \n",
       "  1021.91,891.566 1023.08,888.185 1024.25,884.791 1025.42,881.386 1026.6,877.97 1027.77,874.542 1028.94,871.104 1030.11,867.655 1031.29,864.196 1032.46,860.728 \n",
       "  1033.63,857.25 1034.8,853.762 1035.98,850.267 1037.15,846.763 1038.32,843.251 1039.49,839.731 1040.67,836.204 1041.84,832.67 1043.01,829.129 1044.19,825.583 \n",
       "  1045.36,822.03 1046.53,818.472 1047.7,814.909 1048.88,811.34 1050.05,807.768 1051.22,804.191 1052.39,800.611 1053.57,797.027 1054.74,793.44 1055.91,789.851 \n",
       "  1057.08,786.259 1058.26,782.666 1059.43,779.07 1060.6,775.474 1061.77,771.876 1062.95,768.279 1064.12,764.681 1065.29,761.083 1066.46,757.486 1067.64,753.889 \n",
       "  1068.81,750.294 1069.98,746.701 1071.15,743.11 1072.33,739.521 1073.5,735.935 1074.67,732.352 1075.85,728.772 1077.02,725.196 1078.19,721.624 1079.36,718.057 \n",
       "  1080.54,714.495 1081.71,710.938 1082.88,707.386 1084.05,703.841 1085.23,700.302 1086.4,696.769 1087.57,693.244 1088.74,689.725 1089.92,686.215 1091.09,682.713 \n",
       "  1092.26,679.219 1093.43,675.733 1094.61,672.257 1095.78,668.791 1096.95,665.334 1098.12,661.887 1099.3,658.451 1100.47,655.025 1101.64,651.611 1102.82,648.209 \n",
       "  1103.99,644.818 1105.16,641.439 1106.33,638.073 1107.51,634.72 1108.68,631.38 1109.85,628.054 1111.02,624.741 1112.2,621.443 1113.37,618.159 1114.54,614.89 \n",
       "  1115.71,611.636 1116.89,608.398 1118.06,605.176 1119.23,601.969 1120.4,598.78 1121.58,595.607 1122.75,592.451 1123.92,589.313 1125.09,586.192 1126.27,583.09 \n",
       "  1127.44,580.005 1128.61,576.94 1129.78,573.894 1130.96,570.866 1132.13,567.859 1133.3,564.871 1134.48,561.904 1135.65,558.957 1136.82,556.03 1137.99,553.125 \n",
       "  1139.17,550.242 1140.34,547.379 1141.51,544.539 1142.68,541.721 1143.86,538.926 1145.03,536.153 1146.2,533.404 1147.37,530.678 1148.55,527.975 1149.72,525.296 \n",
       "  1150.89,522.642 1152.06,520.012 1153.24,517.406 1154.41,514.826 1155.58,512.271 1156.75,509.741 1157.93,507.237 1159.1,504.758 1160.27,502.307 1161.45,499.881 \n",
       "  1162.62,497.482 1163.79,495.11 1164.96,492.766 1166.14,490.448 1167.31,488.159 1168.48,485.897 1169.65,483.663 1170.83,481.458 1172,479.281 1173.17,477.133 \n",
       "  1174.34,475.014 1175.52,472.924 1176.69,470.864 1177.86,468.833 1179.03,466.831 1180.21,464.86 1181.38,462.919 1182.55,461.009 1183.72,459.129 1184.9,457.28 \n",
       "  1186.07,455.462 1187.24,453.674 1188.42,451.919 1189.59,450.194 1190.76,448.502 1191.93,446.841 1193.11,445.212 1194.28,443.616 1195.45,442.051 1196.62,440.52 \n",
       "  1197.8,439.02 1198.97,437.554 1200.14,436.121 1201.31,434.72 1202.49,433.353 1203.66,432.019 1204.83,430.719 1206,429.452 1207.18,428.219 1208.35,427.02 \n",
       "  1209.52,425.855 1210.69,424.724 1211.87,423.627 1213.04,422.564 1214.21,421.536 1215.38,420.543 1216.56,419.584 1217.73,418.66 1218.9,417.77 1220.08,416.916 \n",
       "  1221.25,416.096 1222.42,415.312 1223.59,414.563 1224.77,413.849 1225.94,413.17 1227.11,412.527 1228.28,411.919 1229.46,411.346 1230.63,410.809 1231.8,410.308 \n",
       "  1232.97,409.842 1234.15,409.412 1235.32,409.018 1236.49,408.66 1237.66,408.337 1238.84,408.051 1240.01,407.8 1241.18,407.585 1242.35,407.406 1243.53,407.263 \n",
       "  1244.7,407.155 1245.87,407.084 1247.05,407.049 1248.22,407.05 1249.39,407.087 1250.56,407.159 1251.74,407.268 1252.91,407.413 1254.08,407.594 1255.25,407.81 \n",
       "  1256.43,408.063 1257.6,408.351 1258.77,408.675 1259.94,409.035 1261.12,409.431 1262.29,409.862 1263.46,410.33 1264.63,410.832 1265.81,411.371 1266.98,411.945 \n",
       "  1268.15,412.554 1269.32,413.199 1270.5,413.88 1271.67,414.595 1272.84,415.346 1274.01,416.132 1275.19,416.953 1276.36,417.809 1277.53,418.7 1278.71,419.626 \n",
       "  1279.88,420.586 1281.05,421.581 1282.22,422.611 1283.4,423.675 1284.57,424.773 1285.74,425.906 1286.91,427.073 1288.09,428.273 1289.26,429.508 1290.43,430.776 \n",
       "  1291.6,432.078 1292.78,433.413 1293.95,434.782 1295.12,436.184 1296.29,437.618 1297.47,439.086 1298.64,440.587 1299.81,442.12 1300.98,443.686 1302.16,445.284 \n",
       "  1303.33,446.914 1304.5,448.576 1305.68,450.27 1306.85,451.996 1308.02,453.753 1309.19,455.542 1310.37,457.361 1311.54,459.212 1312.71,461.093 1313.88,463.005 \n",
       "  1315.06,464.947 1316.23,466.92 1317.4,468.922 1318.57,470.954 1319.75,473.016 1320.92,475.107 1322.09,477.228 1323.26,479.377 1324.44,481.555 1325.61,483.762 \n",
       "  1326.78,485.997 1327.95,488.26 1329.13,490.551 1330.3,492.869 1331.47,495.215 1332.64,497.588 1333.82,499.988 1334.99,502.415 1336.16,504.868 1337.34,507.347 \n",
       "  1338.51,509.853 1339.68,512.383 1340.85,514.94 1342.03,517.522 1343.2,520.128 1344.37,522.759 1345.54,525.415 1346.72,528.095 1347.89,530.798 1349.06,533.525 \n",
       "  1350.23,536.276 1351.41,539.05 1352.58,541.846 1353.75,544.665 1354.92,547.506 1356.1,550.369 1357.27,553.254 1358.44,556.16 1359.61,559.087 1360.79,562.035 \n",
       "  1361.96,565.003 1363.13,567.992 1364.31,571 1365.48,574.028 1366.65,577.076 1367.82,580.142 1369,583.227 1370.17,586.33 1371.34,589.452 1372.51,592.591 \n",
       "  1373.69,595.747 1374.86,598.921 1376.03,602.111 1377.2,605.318 1378.38,608.541 1379.55,611.78 1380.72,615.035 1381.89,618.304 1383.07,621.589 1384.24,624.888 \n",
       "  1385.41,628.201 1386.58,631.528 1387.76,634.869 1388.93,638.222 1390.1,641.589 1391.28,644.968 1392.45,648.359 1393.62,651.763 1394.79,655.177 1395.97,658.603 \n",
       "  1397.14,662.04 1398.31,665.487 1399.48,668.944 1400.66,672.411 1401.83,675.888 1403,679.374 1404.17,682.868 1405.35,686.371 1406.52,689.882 1407.69,693.4 \n",
       "  1408.86,696.926 1410.04,700.459 1411.21,703.998 1412.38,707.544 1413.55,711.096 1414.73,714.653 1415.9,718.216 1417.07,721.783 1418.24,725.355 1419.42,728.931 \n",
       "  1420.59,732.511 1421.76,736.094 1422.94,739.68 1424.11,743.269 1425.28,746.861 1426.45,750.454 1427.63,754.049 1428.8,757.645 1429.97,761.243 1431.14,764.84 \n",
       "  1432.32,768.438 1433.49,772.036 1434.66,775.634 1435.83,779.23 1437.01,782.825 1438.18,786.419 1439.35,790.01 1440.52,793.6 1441.7,797.186 1442.87,800.77 \n",
       "  1444.04,804.35 1445.21,807.927 1446.39,811.499 1447.56,815.067 1448.73,818.63 1449.91,822.188 1451.08,825.74 1452.25,829.287 1453.42,832.827 1454.6,836.361 \n",
       "  1455.77,839.887 1456.94,843.407 1458.11,846.918 1459.29,850.422 1460.46,853.918 1461.63,857.404 1462.8,860.882 1463.98,864.35 1465.15,867.808 1466.32,871.257 \n",
       "  1467.49,874.695 1468.67,878.122 1469.84,881.538 1471.01,884.942 1472.18,888.335 1473.36,891.716 1474.53,895.084 1475.7,898.439 1476.87,901.781 1478.05,905.11 \n",
       "  1479.22,908.424 1480.39,911.725 1481.57,915.011 1482.74,918.282 1483.91,921.539 1485.08,924.779 1486.26,928.004 1487.43,931.213 1488.6,934.405 1489.77,937.581 \n",
       "  1490.95,940.739 1492.12,943.881 1493.29,947.004 1494.46,950.109 1495.64,953.197 1496.81,956.265 1497.98,959.315 1499.15,962.345 1500.33,965.356 1501.5,968.346 \n",
       "  1502.67,971.317 1503.84,974.267 1505.02,977.197 1506.19,980.105 1507.36,982.993 1508.54,985.858 1509.71,988.702 1510.88,991.523 1512.05,994.322 1513.23,997.099 \n",
       "  1514.4,999.852 1515.57,1002.58 1516.74,1005.29 1517.92,1007.97 1519.09,1010.63 1520.26,1013.26 1521.43,1015.87 1522.61,1018.46 1523.78,1021.02 1524.95,1023.55 \n",
       "  1526.12,1026.06 1527.3,1028.54 1528.47,1031 1529.64,1033.43 1530.81,1035.83 1531.99,1038.21 1533.16,1040.55 1534.33,1042.88 1535.5,1045.17 1536.68,1047.44 \n",
       "  1537.85,1049.67 1539.02,1051.88 1540.2,1054.07 1541.37,1056.22 1542.54,1058.34 1543.71,1060.44 1544.89,1062.5 1546.06,1064.54 1547.23,1066.54 1548.4,1068.52 \n",
       "  1549.58,1070.47 1550.75,1072.38 1551.92,1074.27 1553.09,1076.12 1554.27,1077.94 1555.44,1079.73 1556.61,1081.5 1557.78,1083.22 1558.96,1084.92 1560.13,1086.59 \n",
       "  1561.3,1088.22 1562.47,1089.82 1563.65,1091.39 1564.82,1092.93 1565.99,1094.43 1567.17,1095.91 1568.34,1097.35 1569.51,1098.75 1570.68,1100.12 1571.86,1101.46 \n",
       "  1573.03,1102.77 1574.2,1104.04 1575.37,1105.28 1576.55,1106.48 1577.72,1107.65 1578.89,1108.79 1580.06,1109.89 1581.24,1110.96 1582.41,1111.99 1583.58,1112.99 \n",
       "  1584.75,1113.96 1585.93,1114.89 1587.1,1115.78 1588.27,1116.64 1589.44,1117.47 1590.62,1118.26 1591.79,1119.01 1592.96,1119.73 1594.14,1120.42 1595.31,1121.07 \n",
       "  1596.48,1121.68 1597.65,1122.26 1598.83,1122.8 1600,1123.31 1601.17,1123.78 1602.34,1124.21 1603.52,1124.61 1604.69,1124.98 1605.86,1125.31 1607.03,1125.6 \n",
       "  1608.21,1125.85 1609.38,1126.08 1610.55,1126.26 1611.72,1126.41 1612.9,1126.52 1614.07,1126.6 1615.24,1126.64 1616.41,1126.64 1617.59,1126.61 1618.76,1126.55 \n",
       "  1619.93,1126.44 1621.1,1126.3 1622.28,1126.13 1623.45,1125.92 1624.62,1125.67 1625.8,1125.39 1626.97,1125.07 1628.14,1124.72 1629.31,1124.33 1630.49,1123.9 \n",
       "  1631.66,1123.44 1632.83,1122.94 1634,1122.41 1635.18,1121.84 1636.35,1121.24 1637.52,1120.6 1638.69,1119.92 1639.87,1119.21 1641.04,1118.47 1642.21,1117.69 \n",
       "  1643.38,1116.87 1644.56,1116.02 1645.73,1115.14 1646.9,1114.22 1648.07,1113.26 1649.25,1112.27 1650.42,1111.25 1651.59,1110.19 1652.77,1109.1 1653.94,1107.97 \n",
       "  1655.11,1106.81 1656.28,1105.61 1657.46,1104.38 1658.63,1103.12 1659.8,1101.82 1660.97,1100.49 1662.15,1099.13 1663.32,1097.73 1664.49,1096.3 1665.66,1094.84 \n",
       "  1666.84,1093.35 1668.01,1091.82 1669.18,1090.26 1670.35,1088.66 1671.53,1087.04 1672.7,1085.38 1673.87,1083.69 1675.04,1081.97 1676.22,1080.22 1677.39,1078.44 \n",
       "  1678.56,1076.62 1679.73,1074.78 1680.91,1072.9 1682.08,1070.99 1683.25,1069.06 1684.43,1067.09 1685.6,1065.09 1686.77,1063.06 1687.94,1061.01 1689.12,1058.92 \n",
       "  1690.29,1056.8 1691.46,1054.66 1692.63,1052.49 1693.81,1050.28 1694.98,1048.05 1696.15,1045.79 1697.32,1043.51 1698.5,1041.19 1699.67,1038.85 1700.84,1036.48 \n",
       "  1702.01,1034.09 1703.19,1031.67 1704.36,1029.22 1705.53,1026.74 1706.7,1024.24 1707.88,1021.71 1709.05,1019.16 1710.22,1016.58 1711.4,1013.98 1712.57,1011.35 \n",
       "  1713.74,1008.7 1714.91,1006.03 1716.09,1003.33 1717.26,1000.6 1718.43,997.856 1719.6,995.086 1720.78,992.293 1721.95,989.477 1723.12,986.64 1724.29,983.78 \n",
       "  1725.47,980.899 1726.64,977.996 1727.81,975.073 1728.98,972.128 1730.16,969.163 1731.33,966.177 1732.5,963.172 1733.67,960.147 1734.85,957.103 1736.02,954.04 \n",
       "  1737.19,950.958 1738.36,947.857 1739.54,944.739 1740.71,941.602 1741.88,938.449 1743.06,935.278 1744.23,932.09 1745.4,928.885 1746.57,925.665 1747.75,922.429 \n",
       "  1748.92,919.177 1750.09,915.909 1751.26,912.627 1752.44,909.331 1753.61,906.02 1754.78,902.695 1755.95,899.356 1757.13,896.005 1758.3,892.64 1759.47,889.263 \n",
       "  1760.64,885.873 1761.82,882.472 1762.99,879.059 1764.16,875.635 1765.33,872.2 1766.51,868.755 1767.68,865.299 1768.85,861.833 1770.03,858.358 1771.2,854.874 \n",
       "  1772.37,851.381 1773.54,847.88 1774.72,844.37 1775.89,840.853 1777.06,837.328 1778.23,833.796 1779.41,830.258 1780.58,826.713 1781.75,823.162 1782.92,819.606 \n",
       "  1784.1,816.044 1785.27,812.478 1786.44,808.906 1787.61,805.331 1788.79,801.752 1789.96,798.169 1791.13,794.583 1792.3,790.995 1793.48,787.404 1794.65,783.81 \n",
       "  1795.82,780.216 1797,776.619 1798.17,773.022 1799.34,769.425 1800.51,765.827 1801.69,762.229 1802.86,758.631 1804.03,755.035 1805.2,751.439 1806.38,747.845 \n",
       "  1807.55,744.253 1808.72,740.664 1809.89,737.077 1811.07,733.493 1812.24,729.912 1813.41,726.335 1814.58,722.762 1815.76,719.193 1816.93,715.629 1818.1,712.07 \n",
       "  1819.27,708.517 1820.45,704.97 1821.62,701.428 1822.79,697.894 1823.96,694.366 1825.14,690.845 1826.31,687.332 1827.48,683.827 1828.66,680.331 1829.83,676.843 \n",
       "  1831,673.363 1832.17,669.894 1833.35,666.434 1834.52,662.984 1835.69,659.544 1836.86,656.115 1838.04,652.698 1839.21,649.291 1840.38,645.897 1841.55,642.514 \n",
       "  1842.73,639.144 1843.9,635.787 1845.07,632.442 1846.24,629.112 1847.42,625.795 1848.59,622.492 1849.76,619.203 1850.93,615.93 1852.11,612.671 1853.28,609.428 \n",
       "  1854.45,606.2 1855.63,602.989 1856.8,599.794 1857.97,596.616 1859.14,593.454 1860.32,590.31 1861.49,587.184 1862.66,584.076 1863.83,580.986 1865.01,577.914 \n",
       "  1866.18,574.862 1867.35,571.828 1868.52,568.815 1869.7,565.821 1870.87,562.847 1872.04,559.893 1873.21,556.96 1874.39,554.048 1875.56,551.158 1876.73,548.289 \n",
       "  1877.9,545.442 1879.08,542.617 1880.25,539.814 1881.42,537.034 1882.59,534.277 1883.77,531.543 1884.94,528.833 1886.11,526.147 1887.29,523.485 1888.46,520.847 \n",
       "  1889.63,518.234 1890.8,515.645 1891.98,513.082 1893.15,510.544 1894.32,508.031 1895.49,505.545 1896.67,503.085 1897.84,500.651 1899.01,498.243 1900.18,495.863 \n",
       "  1901.36,493.51 1902.53,491.184 1903.7,488.885 1904.87,486.614 1906.05,484.372 1907.22,482.157 1908.39,479.971 1909.56,477.814 1910.74,475.686 1911.91,473.587 \n",
       "  1913.08,471.517 1914.26,469.476 1915.43,467.466 1916.6,465.485 1917.77,463.534 1918.95,461.614 1920.12,459.724 1921.29,457.865 1922.46,456.037 1923.64,454.24 \n",
       "  1924.81,452.475 1925.98,450.74 1927.15,449.038 1928.33,447.367 1929.5,445.728 1930.67,444.121 1931.84,442.546 1933.02,441.004 1934.19,439.494 1935.36,438.018 \n",
       "  1936.53,436.574 1937.71,435.163 1938.88,433.785 1940.05,432.44 1941.22,431.129 1942.4,429.852 1943.57,428.608 1944.74,427.398 1945.92,426.222 1947.09,425.08 \n",
       "  1948.26,423.973 1949.43,422.899 1950.61,421.86 1951.78,420.856 1952.95,419.886 1954.12,418.95 1955.3,418.05 1956.47,417.184 1957.64,416.354 1958.81,415.558 \n",
       "  1959.99,414.798 1961.16,414.072 1962.33,413.382 1963.5,412.728 1964.68,412.108 1965.85,411.525 1967.02,410.976 1968.19,410.464 1969.37,409.987 1970.54,409.546 \n",
       "  1971.71,409.14 1972.89,408.77 1974.06,408.436 1975.23,408.138 1976.4,407.876 1977.58,407.649 1978.75,407.459 1979.92,407.304 1981.09,407.186 1982.27,407.103 \n",
       "  1983.44,407.056 1984.61,407.046 1985.78,407.071 1986.96,407.132 1988.13,407.23 1989.3,407.363 1990.47,407.532 1991.65,407.737 1992.82,407.978 1993.99,408.255 \n",
       "  1995.16,408.568 1996.34,408.916 1997.51,409.301 1998.68,409.721 1999.86,410.177 2001.03,410.668 2002.2,411.195 2003.37,411.758 2004.55,412.356 2005.72,412.99 \n",
       "  2006.89,413.659 2008.06,414.363 2009.24,415.103 2010.41,415.878 2011.58,416.688 2012.75,417.533 2013.93,418.412 2015.1,419.327 2016.27,420.276 2017.44,421.261 \n",
       "  2018.62,422.279 2019.79,423.332 2020.96,424.42 2022.13,425.541 2023.31,426.697 2024.48,427.887 2025.65,429.111 2026.82,430.368 2028,431.659 2029.17,432.984 \n",
       "  2030.34,434.342 2031.52,435.733 2032.69,437.158 2033.86,438.615 2035.03,440.105 2036.21,441.628 2037.38,443.184 2038.55,444.771 2039.72,446.391 2040.9,448.043 \n",
       "  2042.07,449.727 2043.24,451.443 2044.41,453.19 2045.59,454.969 2046.76,456.778 2047.93,458.619 2049.1,460.491 2050.28,462.393 2051.45,464.325 2052.62,466.288 \n",
       "  2053.79,468.281 2054.97,470.304 2056.14,472.356 2057.31,474.438 2058.49,476.549 2059.66,478.689 2060.83,480.858 2062,483.056 2063.18,485.282 2064.35,487.536 \n",
       "  2065.52,489.818 2066.69,492.128 2067.87,494.465 2069.04,496.829 2070.21,499.221 2071.38,501.639 2072.56,504.084 2073.73,506.555 2074.9,509.052 2076.07,511.575 \n",
       "  2077.25,514.123 2078.42,516.696 2079.59,519.295 2080.76,521.918 2081.94,524.566 2083.11,527.238 2084.28,529.934 2085.45,532.654 2086.63,535.397 2087.8,538.164 \n",
       "  2088.97,540.953 2090.15,543.765 2091.32,546.599 2092.49,549.455 2093.66,552.333 2094.84,555.232 2096.01,558.152 2097.18,561.094 2098.35,564.056 2099.53,567.038 \n",
       "  2100.7,570.04 2101.87,573.062 2103.04,576.103 2104.22,579.163 2105.39,582.242 2106.56,585.34 2107.73,588.455 2108.91,591.589 2110.08,594.74 2111.25,597.908 \n",
       "  2112.42,601.093 2113.6,604.295 2114.77,607.513 2115.94,610.747 2117.12,613.996 2118.29,617.261 2119.46,620.541 2120.63,623.835 2121.81,627.144 2122.98,630.467 \n",
       "  2124.15,633.803 2125.32,637.153 2126.5,640.515 2127.67,643.89 2128.84,647.278 2130.01,650.677 2131.19,654.088 2132.36,657.511 2133.53,660.944 2134.7,664.388 \n",
       "  2135.88,667.842 2137.05,671.306 2138.22,674.78 2139.39,678.262 2140.57,681.754 2141.74,685.254 2142.91,688.762 2144.08,692.278 2145.26,695.802 2146.43,699.333 \n",
       "  2147.6,702.87 2148.78,706.414 2149.95,709.964 2151.12,713.519 2152.29,717.08 2153.47,720.646 2154.64,724.217 2155.81,727.791 2156.98,731.37 2158.16,734.952 \n",
       "  2159.33,738.537 2160.5,742.126 2161.67,745.716 2162.85,749.309 2164.02,752.904 2165.19,756.5 2166.36,760.097 2167.54,763.694 2168.71,767.292 2169.88,770.89 \n",
       "  2171.05,774.488 2172.23,778.084 2173.4,781.68 2174.57,785.274 2175.75,788.867 2176.92,792.457 2178.09,796.044 2179.26,799.629 2180.44,803.21 2181.61,806.788 \n",
       "  2182.78,810.362 2183.95,813.931 2185.13,817.496 2186.3,821.055 2187.47,824.609 2188.64,828.158 2189.82,831.7 2190.99,835.236 2192.16,838.765 2193.33,842.286 \n",
       "  2194.51,845.801 2195.68,849.307 2196.85,852.805 2198.02,856.295 2199.2,859.775 2200.37,863.246 2201.54,866.708 2202.72,870.159 2203.89,873.601 2205.06,877.031 \n",
       "  2206.23,880.451 2207.41,883.859 2208.58,887.256 2209.75,890.64 2210.92,894.012 2212.1,897.372 2213.27,900.718 2214.44,904.051 2215.61,907.37 2216.79,910.675 \n",
       "  2217.96,913.966 2219.13,917.242 2220.3,920.503 2221.48,923.749 2222.65,926.979 2223.82,930.193 2224.99,933.39 2226.17,936.571 2227.34,939.735 2228.51,942.882 \n",
       "  2229.68,946.011 2230.86,949.122 2232.03,952.215 2233.2,955.29 2234.38,958.345 2235.55,961.382 2236.72,964.399 2237.89,967.396 2239.07,970.373 2240.24,973.33 \n",
       "  2241.41,976.266 2242.58,979.181 2243.76,982.075 2244.93,984.948 2246.1,987.798 2247.27,990.627 2248.45,993.433 2249.62,996.217 2250.79,998.977 2251.96,1001.71 \n",
       "  2253.14,1004.43 2254.31,1007.12 2255.48,1009.78 2256.65,1012.43 2257.83,1015.04 2259,1017.64 2260.17,1020.2 2261.35,1022.75 2262.52,1025.26 2263.69,1027.75 \n",
       "  2264.86,1030.22 2266.04,1032.66 2267.21,1035.07 2268.38,1037.45 2269.55,1039.81 2270.73,1042.14 2271.9,1044.44 2273.07,1046.72 2274.24,1048.96 2275.42,1051.18 \n",
       "  2276.59,1053.37 2277.76,1055.54 2278.93,1057.67 2280.11,1059.77 2281.28,1061.85 2282.45,1063.89 2283.62,1065.91 2284.8,1067.89 2285.97,1069.85 2287.14,1071.77 \n",
       "  2288.31,1073.67 2289.49,1075.53 2290.66,1077.37 2291.83,1079.17 2293.01,1080.94 2294.18,1082.68 2295.35,1084.39 2296.52,1086.06 2297.7,1087.71 2298.87,1089.32 \n",
       "  2300.04,1090.9 2301.21,1092.44 2302.39,1093.96 2303.56,1095.44 2304.73,1096.89 2305.9,1098.31 2307.08,1099.69 2308.25,1101.04 2309.42,1102.36 2310.59,1103.64 \n",
       "  2311.77,1104.89 2312.94,1106.1 2314.11,1107.28 2315.28,1108.43 2316.46,1109.55 2317.63,1110.62 2318.8,1111.67 2319.98,1112.68 2321.15,1113.65 2322.32,1114.6 \n",
       "  2323.49,1115.5 2324.67,1116.37 2325.84,1117.21 2327.01,1118.01 2328.18,1118.78 2329.36,1119.51 2330.53,1120.2 2331.7,1120.86 2332.87,1121.49 2334.05,1122.08 \n",
       "  2335.22,1122.63 2336.39,1123.15 2337.56,1123.63 2338.74,1124.08 2339.91,1124.49 2341.08,1124.87 2342.25,1125.21 2343.43,1125.51 2344.6,1125.78 2345.77,1126.01 \n",
       "  2346.94,1126.21 2348.12,1126.37 2349.29,1126.49 2350.46,1126.58 2351.64,1126.63 \n",
       "  \"/>\n",
       "</svg>\n"
      ]
     },
     "execution_count": 79,
     "metadata": {},
     "output_type": "execute_result"
    }
   ],
   "source": [
    "f_bis_range = -3*pi:0.01:3*pi\n",
    "f_bis_error(x) = cos(x);\n",
    "\n",
    "\n",
    "\n",
    "plot(f_bis_range,f_bis_error, \n",
    "    xlims=(-3*pi, 3*pi), ylims=(-2, 2), \n",
    "    color = \"black\", label = \"\",\n",
    "    grid = true, gridalpha = 0.4\n",
    ")"
   ]
  },
  {
   "cell_type": "code",
   "execution_count": 80,
   "metadata": {},
   "outputs": [
    {
     "ename": "ArgumentError",
     "evalue": "\u001b[91mArgumentError: The interval [a,b] is not a bracketing interval.\u001b[39m\n\u001b[91mYou need f(a) and f(b) to have different signs (f(a) * f(b) < 0).\u001b[39m\n\u001b[91mConsider a different bracket or try fzero(f, c) with an initial guess c.\u001b[39m\n\n",
     "output_type": "error",
     "traceback": [
      "\u001b[91mArgumentError: The interval [a,b] is not a bracketing interval.\u001b[39m\n\u001b[91mYou need f(a) and f(b) to have different signs (f(a) * f(b) < 0).\u001b[39m\n\u001b[91mConsider a different bracket or try fzero(f, c) with an initial guess c.\u001b[39m\n\n",
      "",
      "Stacktrace:",
      " [1] assert_bracket at /home/daniel/.julia/packages/Roots/fFrCB/src/Bracketing/bracketing.jl:55 [inlined]",
      " [2] init_state(::Bisection, ::Roots.Callable_Function{Val{1},Val{false},typeof(f_bis_error),Nothing}, ::Float64, ::Float64, ::Float64, ::Float64; m::Float64, fm::Float64) at /home/daniel/.julia/packages/Roots/fFrCB/src/Bracketing/bisection.jl:41",
      " [3] init_state at /home/daniel/.julia/packages/Roots/fFrCB/src/Bracketing/bisection.jl:35 [inlined]",
      " [4] init_state(::Bisection, ::Roots.Callable_Function{Val{1},Val{false},typeof(f_bis_error),Nothing}, ::Tuple{Float64,Irrational{:π}}) at /home/daniel/.julia/packages/Roots/fFrCB/src/Bracketing/bracketing.jl:6",
      " [5] init(::ZeroProblem{typeof(f_bis_error),Tuple{Float64,Irrational{:π}}}, ::Bisection, ::Nothing; p::Nothing, verbose::Bool, tracks::Roots.NullTracks, kwargs::Base.Iterators.Pairs{Union{},Union{},Tuple{},NamedTuple{(),Tuple{}}}) at /home/daniel/.julia/packages/Roots/fFrCB/src/find_zero.jl:282",
      " [6] solve(::ZeroProblem{typeof(f_bis_error),Tuple{Float64,Irrational{:π}}}, ::Bisection; verbose::Bool, kwargs::Base.Iterators.Pairs{Symbol,Union{Nothing, Roots.NullTracks},Tuple{Symbol,Symbol},NamedTuple{(:p, :tracks),Tuple{Nothing,Roots.NullTracks}}}) at /home/daniel/.julia/packages/Roots/fFrCB/src/find_zero.jl:461",
      " [7] find_zero(::Function, ::Tuple{Float64,Irrational{:π}}, ::Bisection; p::Nothing, verbose::Bool, tracks::Roots.NullTracks, kwargs::Base.Iterators.Pairs{Union{},Union{},Tuple{},NamedTuple{(),Tuple{}}}) at /home/daniel/.julia/packages/Roots/fFrCB/src/find_zero.jl:215",
      " [8] top-level scope at In[80]:1"
     ]
    }
   ],
   "source": [
    "find_zero(\n",
    "    f_bis_error,\n",
    "    (-pi, pi), \n",
    "    Bisection(),\n",
    "    verbose=true\n",
    ")"
   ]
  },
  {
   "cell_type": "markdown",
   "metadata": {},
   "source": [
    "Metoda bisekcji w tym przypadku nie działa, ponieważ wartości na obu krańcach przedziału oraz w jego środku są tego samego znaku"
   ]
  },
  {
   "cell_type": "code",
   "execution_count": 81,
   "metadata": {},
   "outputs": [
    {
     "data": {
      "text/plain": [
       "Results of univariate zero finding:\n",
       "\n",
       "* Converged to: -1.5707963267948966\n",
       "* Algorithm: Bisection()\n",
       "* iterations: 61\n",
       "* function evaluations ≈ 64\n",
       "* stopped as x_n ≈ x_{n-1} using atol=xatol, rtol=xrtol\n",
       "\n",
       "Trace:\n",
       "(a₀, b₀) = ( -3.1415926535897931, -1.9173874955754254e-154 )\n",
       "(a₁, b₁) = ( -3.1415926535897931, -2.4666577043433137e-77 )\n",
       "(a₂, b₂) = ( -3.1415926535897931, -8.8129561311880578e-39 )\n",
       "(a₃, b₃) = ( -3.1415926535897931, -1.6643821264459163e-19 )\n",
       "(a₄, b₄) = ( -3.1415926535897931, -7.2315285987339727e-10 )\n",
       "(a₅, b₅) = ( -3.1415926535897931, -4.7664722723044622e-05 )\n",
       "(a₆, b₆) = ( -3.1415926535897931, -0.012237007660092275 )\n",
       "(a₇, b₇) = ( -3.1415926535897931, -0.19607083170541922 )\n",
       "(a₈, b₈) = ( -3.1415926535897931, -0.78484074510956259 )\n",
       "(a₉, b₉) = ( -3.1415926535897931, -1.5702389085070108 )\n",
       "(a₁₀, b₁₀) = ( -2.1410352353019073, -1.5702389085070108 )\n",
       "(a₁₁, b₁₁) = ( -1.8203782630789822, -1.5702389085070108 )\n",
       "(a₁₂, b₁₂) = ( -1.6953085857929964, -1.5702389085070108 )\n",
       "(a₁₃, b₁₃) = ( -1.6327737471500035, -1.5702389085070108 )\n",
       "(a₁₄, b₁₄) = ( -1.6015063278285071, -1.5702389085070108 )\n",
       "(a₁₅, b₁₅) = ( -1.5858726181677589, -1.5702389085070108 )\n",
       "(a₁₆, b₁₆) = ( -1.5780557633373848, -1.5702389085070108 )\n",
       "(a₁₇, b₁₇) = ( -1.5741473359221978, -1.5702389085070108 )\n",
       "(a₁₈, b₁₈) = ( -1.5721931222146042, -1.5702389085070108 )\n",
       "(a₁₉, b₁₉) = ( -1.5712160153608075, -1.5702389085070108 )\n",
       "(a₂₀, b₂₀) = ( -1.5712160153608075, -1.5707274619339091 )\n",
       "(a₂₁, b₂₁) = ( -1.5709717386473583, -1.5707274619339091 )\n",
       "(a₂₂, b₂₂) = ( -1.5708496002906336, -1.5707274619339091 )\n",
       "(a₂₃, b₂₃) = ( -1.5708496002906336, -1.5707885311122713 )\n",
       "(a₂₄, b₂₄) = ( -1.5708190657014525, -1.5707885311122713 )\n",
       "(a₂₅, b₂₅) = ( -1.5708037984068619, -1.5707885311122713 )\n",
       "(a₂₆, b₂₆) = ( -1.5708037984068619, -1.5707961647595665 )\n",
       "(a₂₇, b₂₇) = ( -1.5707999815832141, -1.5707961647595665 )\n",
       "(a₂₈, b₂₈) = ( -1.5707980731713902, -1.5707961647595665 )\n",
       "(a₂₉, b₂₉) = ( -1.5707971189654784, -1.5707961647595665 )\n",
       "(a₃₀, b₃₀) = ( -1.5707966418625223, -1.5707961647595665 )\n",
       "(a₃₁, b₃₁) = ( -1.5707964033110444, -1.5707961647595665 )\n",
       "(a₃₂, b₃₂) = ( -1.5707964033110444, -1.5707962840353054 )\n",
       "(a₃₃, b₃₃) = ( -1.5707963436731749, -1.5707962840353054 )\n",
       "(a₃₄, b₃₄) = ( -1.5707963436731749, -1.57079631385424 )\n",
       "(a₃₅, b₃₅) = ( -1.5707963287637075, -1.57079631385424 )\n",
       "(a₃₆, b₃₆) = ( -1.5707963287637075, -1.5707963213089737 )\n",
       "(a₃₇, b₃₇) = ( -1.5707963287637075, -1.5707963250363406 )\n",
       "(a₃₈, b₃₈) = ( -1.570796326900024, -1.5707963250363406 )\n",
       "(a₃₉, b₃₉) = ( -1.570796326900024, -1.5707963259681823 )\n",
       "(a₄₀, b₄₀) = ( -1.570796326900024, -1.5707963264341032 )\n",
       "(a₄₁, b₄₁) = ( -1.570796326900024, -1.5707963266670635 )\n",
       "(a₄₂, b₄₂) = ( -1.570796326900024, -1.5707963267835436 )\n",
       "(a₄₃, b₄₃) = ( -1.5707963268417837, -1.5707963267835436 )\n",
       "(a₄₄, b₄₄) = ( -1.5707963268126637, -1.5707963267835436 )\n",
       "(a₄₅, b₄₅) = ( -1.5707963267981035, -1.5707963267835436 )\n",
       "(a₄₆, b₄₆) = ( -1.5707963267981035, -1.5707963267908236 )\n",
       "(a₄₇, b₄₇) = ( -1.5707963267981035, -1.5707963267944636 )\n",
       "(a₄₈, b₄₈) = ( -1.5707963267962834, -1.5707963267944636 )\n",
       "(a₄₉, b₄₉) = ( -1.5707963267953735, -1.5707963267944636 )\n",
       "(a₅₀, b₅₀) = ( -1.5707963267949185, -1.5707963267944636 )\n",
       "(a₅₁, b₅₁) = ( -1.5707963267949185, -1.5707963267946909 )\n",
       "(a₅₂, b₅₂) = ( -1.5707963267949185, -1.5707963267948046 )\n",
       "(a₅₃, b₅₃) = ( -1.5707963267949185, -1.5707963267948615 )\n",
       "(a₅₄, b₅₄) = ( -1.5707963267949185, -1.5707963267948899 )\n",
       "(a₅₅, b₅₅) = ( -1.5707963267949041, -1.5707963267948899 )\n",
       "(a₅₆, b₅₆) = ( -1.570796326794897, -1.5707963267948899 )\n",
       "(a₅₇, b₅₇) = ( -1.570796326794897, -1.5707963267948934 )\n",
       "(a₅₈, b₅₈) = ( -1.570796326794897, -1.5707963267948952 )\n",
       "(a₅₉, b₅₉) = ( -1.570796326794897, -1.5707963267948961 )\n",
       "(a₆₀, b₆₀) = ( -1.570796326794897, -1.5707963267948966 )\n",
       "(a₆₁, b₆₁) = ( -1.5707963267948968, -1.5707963267948966 )\n",
       "\n"
      ]
     },
     "metadata": {},
     "output_type": "display_data"
    },
    {
     "data": {
      "text/plain": [
       "-1.5707963267948966"
      ]
     },
     "execution_count": 81,
     "metadata": {},
     "output_type": "execute_result"
    }
   ],
   "source": [
    "find_zero(\n",
    "    f_bis_error,\n",
    "    (-pi, 0), \n",
    "    Bisection(),\n",
    "    verbose=true\n",
    ")"
   ]
  },
  {
   "cell_type": "markdown",
   "metadata": {},
   "source": [
    "### Metoda Newtona"
   ]
  },
  {
   "cell_type": "code",
   "execution_count": 91,
   "metadata": {},
   "outputs": [
    {
     "data": {
      "text/plain": [
       "isCorrectZero (generic function with 1 method)"
      ]
     },
     "execution_count": 91,
     "metadata": {},
     "output_type": "execute_result"
    }
   ],
   "source": [
    "function isCorrectZero(f, x)\n",
    "    sign(f(prevfloat(x))) * sign(f(nextfloat(x))) == -1 || iszero(f(x))\n",
    "end"
   ]
  },
  {
   "cell_type": "code",
   "execution_count": 84,
   "metadata": {},
   "outputs": [
    {
     "data": {
      "image/svg+xml": [
       "<?xml version=\"1.0\" encoding=\"utf-8\"?>\n",
       "<svg xmlns=\"http://www.w3.org/2000/svg\" xmlns:xlink=\"http://www.w3.org/1999/xlink\" width=\"600\" height=\"400\" viewBox=\"0 0 2400 1600\">\n",
       "<defs>\n",
       "  <clipPath id=\"clip410\">\n",
       "    <rect x=\"0\" y=\"0\" width=\"2400\" height=\"1600\"/>\n",
       "  </clipPath>\n",
       "</defs>\n",
       "<path clip-path=\"url(#clip410)\" d=\"\n",
       "M0 1600 L2400 1600 L2400 0 L0 0  Z\n",
       "  \" fill=\"#ffffff\" fill-rule=\"evenodd\" fill-opacity=\"1\"/>\n",
       "<defs>\n",
       "  <clipPath id=\"clip411\">\n",
       "    <rect x=\"480\" y=\"0\" width=\"1681\" height=\"1600\"/>\n",
       "  </clipPath>\n",
       "</defs>\n",
       "<path clip-path=\"url(#clip410)\" d=\"\n",
       "M143.033 1486.45 L2352.76 1486.45 L2352.76 47.2441 L143.033 47.2441  Z\n",
       "  \" fill=\"#ffffff\" fill-rule=\"evenodd\" fill-opacity=\"1\"/>\n",
       "<defs>\n",
       "  <clipPath id=\"clip412\">\n",
       "    <rect x=\"143\" y=\"47\" width=\"2211\" height=\"1440\"/>\n",
       "  </clipPath>\n",
       "</defs>\n",
       "<polyline clip-path=\"url(#clip412)\" style=\"stroke:#000000; stroke-width:2; stroke-opacity:0.4; fill:none\" points=\"\n",
       "  143.033,1486.45 143.033,47.2441 \n",
       "  \"/>\n",
       "<polyline clip-path=\"url(#clip412)\" style=\"stroke:#000000; stroke-width:2; stroke-opacity:0.4; fill:none\" points=\"\n",
       "  511.321,1486.45 511.321,47.2441 \n",
       "  \"/>\n",
       "<polyline clip-path=\"url(#clip412)\" style=\"stroke:#000000; stroke-width:2; stroke-opacity:0.4; fill:none\" points=\"\n",
       "  879.608,1486.45 879.608,47.2441 \n",
       "  \"/>\n",
       "<polyline clip-path=\"url(#clip412)\" style=\"stroke:#000000; stroke-width:2; stroke-opacity:0.4; fill:none\" points=\"\n",
       "  1247.89,1486.45 1247.89,47.2441 \n",
       "  \"/>\n",
       "<polyline clip-path=\"url(#clip412)\" style=\"stroke:#000000; stroke-width:2; stroke-opacity:0.4; fill:none\" points=\"\n",
       "  1616.18,1486.45 1616.18,47.2441 \n",
       "  \"/>\n",
       "<polyline clip-path=\"url(#clip412)\" style=\"stroke:#000000; stroke-width:2; stroke-opacity:0.4; fill:none\" points=\"\n",
       "  1984.47,1486.45 1984.47,47.2441 \n",
       "  \"/>\n",
       "<polyline clip-path=\"url(#clip412)\" style=\"stroke:#000000; stroke-width:2; stroke-opacity:0.4; fill:none\" points=\"\n",
       "  2352.76,1486.45 2352.76,47.2441 \n",
       "  \"/>\n",
       "<polyline clip-path=\"url(#clip410)\" style=\"stroke:#000000; stroke-width:4; stroke-opacity:1; fill:none\" points=\"\n",
       "  143.033,1486.45 2352.76,1486.45 \n",
       "  \"/>\n",
       "<polyline clip-path=\"url(#clip410)\" style=\"stroke:#000000; stroke-width:4; stroke-opacity:1; fill:none\" points=\"\n",
       "  143.033,1486.45 143.033,1469.18 \n",
       "  \"/>\n",
       "<polyline clip-path=\"url(#clip410)\" style=\"stroke:#000000; stroke-width:4; stroke-opacity:1; fill:none\" points=\"\n",
       "  511.321,1486.45 511.321,1469.18 \n",
       "  \"/>\n",
       "<polyline clip-path=\"url(#clip410)\" style=\"stroke:#000000; stroke-width:4; stroke-opacity:1; fill:none\" points=\"\n",
       "  879.608,1486.45 879.608,1469.18 \n",
       "  \"/>\n",
       "<polyline clip-path=\"url(#clip410)\" style=\"stroke:#000000; stroke-width:4; stroke-opacity:1; fill:none\" points=\"\n",
       "  1247.89,1486.45 1247.89,1469.18 \n",
       "  \"/>\n",
       "<polyline clip-path=\"url(#clip410)\" style=\"stroke:#000000; stroke-width:4; stroke-opacity:1; fill:none\" points=\"\n",
       "  1616.18,1486.45 1616.18,1469.18 \n",
       "  \"/>\n",
       "<polyline clip-path=\"url(#clip410)\" style=\"stroke:#000000; stroke-width:4; stroke-opacity:1; fill:none\" points=\"\n",
       "  1984.47,1486.45 1984.47,1469.18 \n",
       "  \"/>\n",
       "<polyline clip-path=\"url(#clip410)\" style=\"stroke:#000000; stroke-width:4; stroke-opacity:1; fill:none\" points=\"\n",
       "  2352.76,1486.45 2352.76,1469.18 \n",
       "  \"/>\n",
       "<path clip-path=\"url(#clip410)\" d=\"M 0 0 M115.013 1530.29 L144.689 1530.29 L144.689 1534.23 L115.013 1534.23 L115.013 1530.29 Z\" fill=\"#000000\" fill-rule=\"evenodd\" fill-opacity=\"1\" /><path clip-path=\"url(#clip410)\" d=\"M 0 0 M163.925 1528.49 Q167.281 1529.2 169.156 1531.47 Q171.054 1533.74 171.054 1537.07 Q171.054 1542.19 167.536 1544.99 Q164.017 1547.79 157.536 1547.79 Q155.36 1547.79 153.045 1547.35 Q150.753 1546.93 148.3 1546.08 L148.3 1541.56 Q150.244 1542.7 152.559 1543.28 Q154.874 1543.86 157.397 1543.86 Q161.795 1543.86 164.087 1542.12 Q166.401 1540.38 166.401 1537.07 Q166.401 1534.02 164.249 1532.31 Q162.119 1530.57 158.3 1530.57 L154.272 1530.57 L154.272 1526.73 L158.485 1526.73 Q161.934 1526.73 163.763 1525.36 Q165.591 1523.97 165.591 1521.38 Q165.591 1518.72 163.693 1517.31 Q161.818 1515.87 158.3 1515.87 Q156.378 1515.87 154.179 1516.29 Q151.98 1516.7 149.341 1517.58 L149.341 1513.42 Q152.003 1512.68 154.318 1512.31 Q156.656 1511.93 158.716 1511.93 Q164.04 1511.93 167.142 1514.37 Q170.244 1516.77 170.244 1520.89 Q170.244 1523.76 168.6 1525.75 Q166.957 1527.72 163.925 1528.49 Z\" fill=\"#000000\" fill-rule=\"evenodd\" fill-opacity=\"1\" /><path clip-path=\"url(#clip410)\" d=\"M 0 0 M483.774 1530.29 L513.45 1530.29 L513.45 1534.23 L483.774 1534.23 L483.774 1530.29 Z\" fill=\"#000000\" fill-rule=\"evenodd\" fill-opacity=\"1\" /><path clip-path=\"url(#clip410)\" d=\"M 0 0 M522.547 1543.18 L538.867 1543.18 L538.867 1547.12 L516.922 1547.12 L516.922 1543.18 Q519.584 1540.43 524.168 1535.8 Q528.774 1531.15 529.955 1529.81 Q532.2 1527.28 533.08 1525.55 Q533.982 1523.79 533.982 1522.1 Q533.982 1519.34 532.038 1517.61 Q530.117 1515.87 527.015 1515.87 Q524.816 1515.87 522.362 1516.63 Q519.932 1517.4 517.154 1518.95 L517.154 1514.23 Q519.978 1513.09 522.432 1512.51 Q524.885 1511.93 526.922 1511.93 Q532.293 1511.93 535.487 1514.62 Q538.682 1517.31 538.682 1521.8 Q538.682 1523.93 537.871 1525.85 Q537.084 1527.74 534.978 1530.34 Q534.399 1531.01 531.297 1534.23 Q528.195 1537.42 522.547 1543.18 Z\" fill=\"#000000\" fill-rule=\"evenodd\" fill-opacity=\"1\" /><path clip-path=\"url(#clip410)\" d=\"M 0 0 M851.876 1530.29 L881.552 1530.29 L881.552 1534.23 L851.876 1534.23 L851.876 1530.29 Z\" fill=\"#000000\" fill-rule=\"evenodd\" fill-opacity=\"1\" /><path clip-path=\"url(#clip410)\" d=\"M 0 0 M887.432 1543.18 L895.071 1543.18 L895.071 1516.82 L886.76 1518.49 L886.76 1514.23 L895.024 1512.56 L899.7 1512.56 L899.7 1543.18 L907.339 1543.18 L907.339 1547.12 L887.432 1547.12 L887.432 1543.18 Z\" fill=\"#000000\" fill-rule=\"evenodd\" fill-opacity=\"1\" /><path clip-path=\"url(#clip410)\" d=\"M 0 0 M1247.89 1515.64 Q1244.28 1515.64 1242.45 1519.2 Q1240.65 1522.75 1240.65 1529.87 Q1240.65 1536.98 1242.45 1540.55 Q1244.28 1544.09 1247.89 1544.09 Q1251.53 1544.09 1253.33 1540.55 Q1255.16 1536.98 1255.16 1529.87 Q1255.16 1522.75 1253.33 1519.2 Q1251.53 1515.64 1247.89 1515.64 M1247.89 1511.93 Q1253.7 1511.93 1256.76 1516.54 Q1259.84 1521.12 1259.84 1529.87 Q1259.84 1538.6 1256.76 1543.21 Q1253.7 1547.79 1247.89 1547.79 Q1242.08 1547.79 1239.01 1543.21 Q1235.95 1538.6 1235.95 1529.87 Q1235.95 1521.12 1239.01 1516.54 Q1242.08 1511.93 1247.89 1511.93 Z\" fill=\"#000000\" fill-rule=\"evenodd\" fill-opacity=\"1\" /><path clip-path=\"url(#clip410)\" d=\"M 0 0 M1606.56 1543.18 L1614.2 1543.18 L1614.2 1516.82 L1605.89 1518.49 L1605.89 1514.23 L1614.16 1512.56 L1618.83 1512.56 L1618.83 1543.18 L1626.47 1543.18 L1626.47 1547.12 L1606.56 1547.12 L1606.56 1543.18 Z\" fill=\"#000000\" fill-rule=\"evenodd\" fill-opacity=\"1\" /><path clip-path=\"url(#clip410)\" d=\"M 0 0 M1979.12 1543.18 L1995.44 1543.18 L1995.44 1547.12 L1973.5 1547.12 L1973.5 1543.18 Q1976.16 1540.43 1980.74 1535.8 Q1985.35 1531.15 1986.53 1529.81 Q1988.77 1527.28 1989.65 1525.55 Q1990.56 1523.79 1990.56 1522.1 Q1990.56 1519.34 1988.61 1517.61 Q1986.69 1515.87 1983.59 1515.87 Q1981.39 1515.87 1978.94 1516.63 Q1976.51 1517.4 1973.73 1518.95 L1973.73 1514.23 Q1976.55 1513.09 1979.01 1512.51 Q1981.46 1511.93 1983.5 1511.93 Q1988.87 1511.93 1992.06 1514.62 Q1995.26 1517.31 1995.26 1521.8 Q1995.26 1523.93 1994.45 1525.85 Q1993.66 1527.74 1991.55 1530.34 Q1990.97 1531.01 1987.87 1534.23 Q1984.77 1537.42 1979.12 1543.18 Z\" fill=\"#000000\" fill-rule=\"evenodd\" fill-opacity=\"1\" /><path clip-path=\"url(#clip410)\" d=\"M 0 0 M2357 1528.49 Q2360.36 1529.2 2362.24 1531.47 Q2364.13 1533.74 2364.13 1537.07 Q2364.13 1542.19 2360.61 1544.99 Q2357.1 1547.79 2350.61 1547.79 Q2348.44 1547.79 2346.12 1547.35 Q2343.83 1546.93 2341.38 1546.08 L2341.38 1541.56 Q2343.32 1542.7 2345.64 1543.28 Q2347.95 1543.86 2350.48 1543.86 Q2354.87 1543.86 2357.17 1542.12 Q2359.48 1540.38 2359.48 1537.07 Q2359.48 1534.02 2357.33 1532.31 Q2355.2 1530.57 2351.38 1530.57 L2347.35 1530.57 L2347.35 1526.73 L2351.56 1526.73 Q2355.01 1526.73 2356.84 1525.36 Q2358.67 1523.97 2358.67 1521.38 Q2358.67 1518.72 2356.77 1517.31 Q2354.9 1515.87 2351.38 1515.87 Q2349.46 1515.87 2347.26 1516.29 Q2345.06 1516.7 2342.42 1517.58 L2342.42 1513.42 Q2345.08 1512.68 2347.4 1512.31 Q2349.74 1511.93 2351.8 1511.93 Q2357.12 1511.93 2360.22 1514.37 Q2363.32 1516.77 2363.32 1520.89 Q2363.32 1523.76 2361.68 1525.75 Q2360.04 1527.72 2357 1528.49 Z\" fill=\"#000000\" fill-rule=\"evenodd\" fill-opacity=\"1\" /><polyline clip-path=\"url(#clip412)\" style=\"stroke:#000000; stroke-width:2; stroke-opacity:0.4; fill:none\" points=\"\n",
       "  143.033,1486.45 2352.76,1486.45 \n",
       "  \"/>\n",
       "<polyline clip-path=\"url(#clip412)\" style=\"stroke:#000000; stroke-width:2; stroke-opacity:0.4; fill:none\" points=\"\n",
       "  143.033,1006.71 2352.76,1006.71 \n",
       "  \"/>\n",
       "<polyline clip-path=\"url(#clip412)\" style=\"stroke:#000000; stroke-width:2; stroke-opacity:0.4; fill:none\" points=\"\n",
       "  143.033,526.979 2352.76,526.979 \n",
       "  \"/>\n",
       "<polyline clip-path=\"url(#clip412)\" style=\"stroke:#000000; stroke-width:2; stroke-opacity:0.4; fill:none\" points=\"\n",
       "  143.033,47.2441 2352.76,47.2441 \n",
       "  \"/>\n",
       "<polyline clip-path=\"url(#clip410)\" style=\"stroke:#000000; stroke-width:4; stroke-opacity:1; fill:none\" points=\"\n",
       "  143.033,1486.45 143.033,47.2441 \n",
       "  \"/>\n",
       "<polyline clip-path=\"url(#clip410)\" style=\"stroke:#000000; stroke-width:4; stroke-opacity:1; fill:none\" points=\"\n",
       "  143.033,1486.45 169.55,1486.45 \n",
       "  \"/>\n",
       "<polyline clip-path=\"url(#clip410)\" style=\"stroke:#000000; stroke-width:4; stroke-opacity:1; fill:none\" points=\"\n",
       "  143.033,1006.71 169.55,1006.71 \n",
       "  \"/>\n",
       "<polyline clip-path=\"url(#clip410)\" style=\"stroke:#000000; stroke-width:4; stroke-opacity:1; fill:none\" points=\"\n",
       "  143.033,526.979 169.55,526.979 \n",
       "  \"/>\n",
       "<polyline clip-path=\"url(#clip410)\" style=\"stroke:#000000; stroke-width:4; stroke-opacity:1; fill:none\" points=\"\n",
       "  143.033,47.2441 169.55,47.2441 \n",
       "  \"/>\n",
       "<path clip-path=\"url(#clip410)\" d=\"M 0 0 M50.9921 1486.9 L80.6679 1486.9 L80.6679 1490.83 L50.9921 1490.83 L50.9921 1486.9 Z\" fill=\"#000000\" fill-rule=\"evenodd\" fill-opacity=\"1\" /><path clip-path=\"url(#clip410)\" d=\"M 0 0 M99.9039 1485.09 Q103.26 1485.81 105.135 1488.08 Q107.033 1490.35 107.033 1493.68 Q107.033 1498.8 103.515 1501.6 Q99.9965 1504.4 93.515 1504.4 Q91.3391 1504.4 89.0243 1503.96 Q86.7327 1503.54 84.279 1502.69 L84.279 1498.17 Q86.2234 1499.31 88.5382 1499.89 Q90.853 1500.46 93.3762 1500.46 Q97.7743 1500.46 100.066 1498.73 Q102.381 1496.99 102.381 1493.68 Q102.381 1490.63 100.228 1488.91 Q98.0984 1487.18 94.2789 1487.18 L90.2512 1487.18 L90.2512 1483.33 L94.4641 1483.33 Q97.9132 1483.33 99.7419 1481.97 Q101.571 1480.58 101.571 1477.99 Q101.571 1475.33 99.6724 1473.91 Q97.7974 1472.48 94.2789 1472.48 Q92.3576 1472.48 90.1586 1472.89 Q87.9595 1473.31 85.3206 1474.19 L85.3206 1470.02 Q87.9827 1469.28 90.2975 1468.91 Q92.6354 1468.54 94.6956 1468.54 Q100.02 1468.54 103.121 1470.97 Q106.223 1473.38 106.223 1477.5 Q106.223 1480.37 104.58 1482.36 Q102.936 1484.33 99.9039 1485.09 Z\" fill=\"#000000\" fill-rule=\"evenodd\" fill-opacity=\"1\" /><path clip-path=\"url(#clip410)\" d=\"M 0 0 M95.0891 992.512 Q91.478 992.512 89.6493 996.077 Q87.8438 999.618 87.8438 1006.75 Q87.8438 1013.85 89.6493 1017.42 Q91.478 1020.96 95.0891 1020.96 Q98.7234 1020.96 100.529 1017.42 Q102.358 1013.85 102.358 1006.75 Q102.358 999.618 100.529 996.077 Q98.7234 992.512 95.0891 992.512 M95.0891 988.808 Q100.899 988.808 103.955 993.415 Q107.033 997.998 107.033 1006.75 Q107.033 1015.47 103.955 1020.08 Q100.899 1024.66 95.0891 1024.66 Q89.279 1024.66 86.2003 1020.08 Q83.1447 1015.47 83.1447 1006.75 Q83.1447 997.998 86.2003 993.415 Q89.279 988.808 95.0891 988.808 Z\" fill=\"#000000\" fill-rule=\"evenodd\" fill-opacity=\"1\" /><path clip-path=\"url(#clip410)\" d=\"M 0 0 M99.9039 525.625 Q103.26 526.342 105.135 528.611 Q107.033 530.879 107.033 534.212 Q107.033 539.328 103.515 542.129 Q99.9965 544.93 93.515 544.93 Q91.3391 544.93 89.0243 544.49 Q86.7327 544.074 84.279 543.217 L84.279 538.703 Q86.2234 539.837 88.5382 540.416 Q90.853 540.995 93.3762 540.995 Q97.7743 540.995 100.066 539.259 Q102.381 537.523 102.381 534.212 Q102.381 531.157 100.228 529.444 Q98.0984 527.708 94.2789 527.708 L90.2512 527.708 L90.2512 523.865 L94.4641 523.865 Q97.9132 523.865 99.7419 522.5 Q101.571 521.111 101.571 518.518 Q101.571 515.856 99.6724 514.444 Q97.7974 513.009 94.2789 513.009 Q92.3576 513.009 90.1586 513.426 Q87.9595 513.842 85.3206 514.722 L85.3206 510.555 Q87.9827 509.814 90.2975 509.444 Q92.6354 509.074 94.6956 509.074 Q100.02 509.074 103.121 511.504 Q106.223 513.912 106.223 518.032 Q106.223 520.902 104.58 522.893 Q102.936 524.861 99.9039 525.625 Z\" fill=\"#000000\" fill-rule=\"evenodd\" fill-opacity=\"1\" /><path clip-path=\"url(#clip410)\" d=\"M 0 0 M95.5058 45.3807 Q92.3576 45.3807 90.5058 47.5334 Q88.6771 49.6862 88.6771 53.4362 Q88.6771 57.163 90.5058 59.3389 Q92.3576 61.4917 95.5058 61.4917 Q98.6539 61.4917 100.483 59.3389 Q102.334 57.163 102.334 53.4362 Q102.334 49.6862 100.483 47.5334 Q98.6539 45.3807 95.5058 45.3807 M104.788 30.728 L104.788 34.9872 Q103.029 34.1539 101.223 33.7141 Q99.4409 33.2743 97.6817 33.2743 Q93.0521 33.2743 90.5984 36.3992 Q88.1679 39.5242 87.8206 45.8436 Q89.1864 43.8298 91.2465 42.765 Q93.3067 41.677 95.7836 41.677 Q100.992 41.677 104.001 44.8483 Q107.033 47.9964 107.033 53.4362 Q107.033 58.7602 103.885 61.9778 Q100.737 65.1954 95.5058 65.1954 Q89.5104 65.1954 86.3392 60.6121 Q83.1679 56.0056 83.1679 47.2788 Q83.1679 39.0844 87.0567 34.2233 Q90.9456 29.3391 97.4965 29.3391 Q99.2558 29.3391 101.038 29.6863 Q102.844 30.0335 104.788 30.728 Z\" fill=\"#000000\" fill-rule=\"evenodd\" fill-opacity=\"1\" /><polyline clip-path=\"url(#clip412)\" style=\"stroke:#000000; stroke-width:4; stroke-opacity:1; fill:none\" points=\"\n",
       "  143.033,3405.39 146.716,3367.15 150.399,3329.2 154.082,3291.54 157.765,3254.16 161.448,3217.07 165.131,3180.26 168.814,3143.73 172.496,3107.49 176.179,3071.52 \n",
       "  179.862,3035.83 183.545,3000.42 187.228,2965.29 190.911,2930.43 194.594,2895.85 198.277,2861.55 201.959,2827.51 205.642,2793.75 209.325,2760.27 213.008,2727.05 \n",
       "  216.691,2694.1 220.374,2661.42 224.057,2629.01 227.74,2596.86 231.422,2564.98 235.105,2533.37 238.788,2502.02 242.471,2470.93 246.154,2440.1 249.837,2409.54 \n",
       "  253.52,2379.23 257.202,2349.19 260.885,2319.4 264.568,2289.87 268.251,2260.59 271.934,2231.58 275.617,2202.81 279.3,2174.3 282.983,2146.04 286.665,2118.03 \n",
       "  290.348,2090.27 294.031,2062.77 297.714,2035.51 301.397,2008.49 305.08,1981.73 308.763,1955.21 312.446,1928.93 316.128,1902.9 319.811,1877.11 323.494,1851.57 \n",
       "  327.177,1826.26 330.86,1801.19 334.543,1776.37 338.226,1751.78 341.909,1727.42 345.591,1703.31 349.274,1679.43 352.957,1655.78 356.64,1632.37 360.323,1609.18 \n",
       "  364.006,1586.23 367.689,1563.51 371.371,1541.02 375.054,1518.76 378.737,1496.72 382.42,1474.91 386.103,1453.33 389.786,1431.97 393.469,1410.84 397.152,1389.92 \n",
       "  400.834,1369.23 404.517,1348.76 408.2,1328.51 411.883,1308.48 415.566,1288.67 419.249,1269.07 422.932,1249.69 426.615,1230.52 430.297,1211.57 433.98,1192.83 \n",
       "  437.663,1174.3 441.346,1155.98 445.029,1137.88 448.712,1119.98 452.395,1102.29 456.078,1084.81 459.76,1067.53 463.443,1050.46 467.126,1033.6 470.809,1016.94 \n",
       "  474.492,1000.48 478.175,984.218 481.858,968.161 485.54,952.302 489.223,936.643 492.906,921.181 496.589,905.915 500.272,890.846 503.955,875.971 507.638,861.29 \n",
       "  511.321,846.802 515.003,832.505 518.686,818.4 522.369,804.485 526.052,790.759 529.735,777.22 533.418,763.869 537.101,750.704 540.784,737.724 544.466,724.929 \n",
       "  548.149,712.316 551.832,699.886 555.515,687.637 559.198,675.569 562.881,663.68 566.564,651.97 570.246,640.437 573.929,629.08 577.612,617.899 581.295,606.893 \n",
       "  584.978,596.06 588.661,585.401 592.344,574.912 596.027,564.595 599.709,554.448 603.392,544.469 607.075,534.658 610.758,525.014 614.441,515.537 618.124,506.224 \n",
       "  621.807,497.075 625.49,488.09 629.172,479.266 632.855,470.604 636.538,462.102 640.221,453.759 643.904,445.575 647.587,437.548 651.27,429.677 654.953,421.962 \n",
       "  658.635,414.401 662.318,406.994 666.001,399.739 669.684,392.636 673.367,385.683 677.05,378.881 680.733,372.227 684.415,365.72 688.098,359.361 691.781,353.147 \n",
       "  695.464,347.078 699.147,341.153 702.83,335.371 706.513,329.731 710.196,324.233 713.878,318.874 717.561,313.654 721.244,308.573 724.927,303.628 728.61,298.82 \n",
       "  732.293,294.147 735.976,289.609 739.659,285.204 743.341,280.931 747.024,276.79 750.707,272.779 754.39,268.898 758.073,265.145 761.756,261.52 765.439,258.022 \n",
       "  769.122,254.649 772.804,251.401 776.487,248.277 780.17,245.276 783.853,242.396 787.536,239.638 791.219,236.999 794.902,234.479 798.584,232.078 802.267,229.793 \n",
       "  805.95,227.624 809.633,225.571 813.316,223.632 816.999,221.806 820.682,220.092 824.365,218.489 828.047,216.997 831.73,215.614 835.413,214.34 839.096,213.173 \n",
       "  842.779,212.113 846.462,211.158 850.145,210.308 853.828,209.561 857.51,208.917 861.193,208.375 864.876,207.933 868.559,207.592 872.242,207.349 875.925,207.204 \n",
       "  879.608,207.156 883.291,207.203 886.973,207.346 890.656,207.583 894.339,207.913 898.022,208.335 901.705,208.848 905.388,209.451 909.071,210.144 912.753,210.925 \n",
       "  916.436,211.793 920.119,212.748 923.802,213.787 927.485,214.912 931.168,216.12 934.851,217.41 938.534,218.782 942.216,220.234 945.899,221.766 949.582,223.377 \n",
       "  953.265,225.066 956.948,226.831 960.631,228.672 964.314,230.588 967.997,232.578 971.679,234.64 975.362,236.775 979.045,238.981 982.728,241.256 986.411,243.601 \n",
       "  990.094,246.014 993.777,248.494 997.459,251.04 1001.14,253.652 1004.83,256.328 1008.51,259.067 1012.19,261.868 1015.87,264.731 1019.56,267.655 1023.24,270.637 \n",
       "  1026.92,273.679 1030.61,276.778 1034.29,279.933 1037.97,283.144 1041.65,286.41 1045.34,289.73 1049.02,293.102 1052.7,296.527 1056.39,300.002 1060.07,303.526 \n",
       "  1063.75,307.1 1067.43,310.722 1071.12,314.391 1074.8,318.106 1078.48,321.866 1082.17,325.67 1085.85,329.517 1089.53,333.407 1093.21,337.338 1096.9,341.309 \n",
       "  1100.58,345.319 1104.26,349.368 1107.95,353.454 1111.63,357.577 1115.31,361.735 1118.99,365.928 1122.68,370.154 1126.36,374.413 1130.04,378.704 1133.73,383.025 \n",
       "  1137.41,387.376 1141.09,391.756 1144.77,396.163 1148.46,400.598 1152.14,405.058 1155.82,409.544 1159.51,414.053 1163.19,418.585 1166.87,423.14 1170.55,427.715 \n",
       "  1174.24,432.311 1177.92,436.926 1181.6,441.559 1185.29,446.209 1188.97,450.876 1192.65,455.558 1196.33,460.255 1200.02,464.965 1203.7,469.687 1207.38,474.421 \n",
       "  1211.07,479.165 1214.75,483.919 1218.43,488.682 1222.11,493.452 1225.8,498.229 1229.48,503.012 1233.16,507.8 1236.85,512.591 1240.53,517.385 1244.21,522.182 \n",
       "  1247.89,526.979 1251.58,531.776 1255.26,536.572 1258.94,541.366 1262.63,546.158 1266.31,550.945 1269.99,555.728 1273.67,560.505 1277.36,565.276 1281.04,570.038 \n",
       "  1284.72,574.792 1288.41,579.537 1292.09,584.271 1295.77,588.993 1299.45,593.703 1303.14,598.399 1306.82,603.081 1310.5,607.748 1314.19,612.398 1317.87,617.031 \n",
       "  1321.55,621.646 1325.23,626.242 1328.92,630.818 1332.6,635.372 1336.28,639.904 1339.97,644.414 1343.65,648.899 1347.33,653.359 1351.02,657.794 1354.7,662.202 \n",
       "  1358.38,666.581 1362.06,670.932 1365.75,675.254 1369.43,679.544 1373.11,683.803 1376.8,688.03 1380.48,692.222 1384.16,696.38 1387.84,700.503 1391.53,704.589 \n",
       "  1395.21,708.638 1398.89,712.649 1402.58,716.62 1406.26,720.55 1409.94,724.44 1413.62,728.287 1417.31,732.091 1420.99,735.851 1424.67,739.566 1428.36,743.235 \n",
       "  1432.04,746.857 1435.72,750.431 1439.4,753.956 1443.09,757.431 1446.77,760.855 1450.45,764.227 1454.14,767.547 1457.82,770.813 1461.5,774.024 1465.18,777.18 \n",
       "  1468.87,780.279 1472.55,783.32 1476.23,786.303 1479.92,789.226 1483.6,792.089 1487.28,794.89 1490.96,797.63 1494.65,800.305 1498.33,802.917 1502.01,805.463 \n",
       "  1505.7,807.943 1509.38,810.356 1513.06,812.701 1516.74,814.977 1520.43,817.182 1524.11,819.317 1527.79,821.38 1531.48,823.369 1535.16,825.285 1538.84,827.126 \n",
       "  1542.52,828.892 1546.21,830.58 1549.89,832.191 1553.57,833.723 1557.26,835.176 1560.94,836.547 1564.62,837.838 1568.3,839.046 1571.99,840.17 1575.67,841.21 \n",
       "  1579.35,842.164 1583.04,843.032 1586.72,843.813 1590.4,844.506 1594.08,845.109 1597.77,845.622 1601.45,846.044 1605.13,846.374 1608.82,846.611 1612.5,846.754 \n",
       "  1616.18,846.802 1619.86,846.754 1623.55,846.609 1627.23,846.366 1630.91,846.024 1634.6,845.582 1638.28,845.04 1641.96,844.396 1645.64,843.65 1649.33,842.799 \n",
       "  1653.01,841.844 1656.69,840.784 1660.38,839.617 1664.06,838.343 1667.74,836.96 1671.42,835.468 1675.11,833.866 1678.79,832.152 1682.47,830.326 1686.16,828.386 \n",
       "  1689.84,826.333 1693.52,824.165 1697.2,821.88 1700.89,819.478 1704.57,816.958 1708.25,814.32 1711.94,811.561 1715.62,808.682 1719.3,805.68 1722.99,802.556 \n",
       "  1726.67,799.308 1730.35,795.935 1734.03,792.437 1737.72,788.812 1741.4,785.059 1745.08,781.178 1748.77,777.167 1752.45,773.026 1756.13,768.753 1759.81,764.348 \n",
       "  1763.5,759.81 1767.18,755.137 1770.86,750.329 1774.55,745.385 1778.23,740.303 1781.91,735.084 1785.59,729.725 1789.28,724.226 1792.96,718.586 1796.64,712.804 \n",
       "  1800.33,706.879 1804.01,700.81 1807.69,694.597 1811.37,688.237 1815.06,681.731 1818.74,675.077 1822.42,668.274 1826.11,661.321 1829.79,654.218 1833.47,646.964 \n",
       "  1837.15,639.556 1840.84,631.996 1844.52,624.28 1848.2,616.41 1851.89,608.383 1855.57,600.198 1859.25,591.855 1862.93,583.353 1866.62,574.691 1870.3,565.868 \n",
       "  1873.98,556.882 1877.67,547.733 1881.35,538.421 1885.03,528.943 1888.71,519.299 1892.4,509.488 1896.08,499.51 1899.76,489.362 1903.45,479.045 1907.13,468.557 \n",
       "  1910.81,457.897 1914.49,447.064 1918.18,436.058 1921.86,424.877 1925.54,413.521 1929.23,401.988 1932.91,390.277 1936.59,378.388 1940.27,366.32 1943.96,354.071 \n",
       "  1947.64,341.641 1951.32,329.029 1955.01,316.233 1958.69,303.253 1962.37,290.088 1966.05,276.737 1969.74,263.199 1973.42,249.473 1977.1,235.557 1980.79,221.452 \n",
       "  1984.47,207.156 1988.15,192.667 1991.83,177.986 1995.52,163.112 1999.2,148.042 2002.88,132.777 2006.57,117.315 2010.25,101.655 2013.93,85.7968 2017.61,69.739 \n",
       "  2021.3,53.4806 2024.98,37.0208 2028.66,20.3585 2032.35,3.49278 2036.03,-13.5773 2039.71,-30.8527 2043.39,-48.3344 2047.08,-66.0233 2050.76,-83.9205 2054.44,-102.027 \n",
       "  2058.13,-120.343 2061.81,-138.871 2065.49,-157.61 2069.17,-176.563 2072.86,-195.729 2076.54,-215.111 2080.22,-234.708 2083.91,-254.522 2087.59,-274.554 2091.27,-294.805 \n",
       "  2094.95,-315.275 2098.64,-335.966 2102.32,-356.879 2106,-378.015 2109.69,-399.373 2113.37,-420.957 2117.05,-442.766 2120.74,-464.801 2124.42,-487.064 2128.1,-509.555 \n",
       "  2131.78,-532.275 2135.47,-555.226 2139.15,-578.408 2142.83,-601.822 2146.52,-625.469 2150.2,-649.351 2153.88,-673.467 2157.56,-697.819 2161.25,-722.409 2164.93,-747.236 \n",
       "  2168.61,-772.303 2172.3,-797.609 2175.98,-823.156 2179.66,-848.944 2183.34,-874.976 2187.03,-901.251 2190.71,-927.771 2194.39,-954.537 2198.08,-981.549 2201.76,-1008.81 \n",
       "  2205.44,-1036.32 2209.12,-1064.07 2212.81,-1092.08 2216.49,-1120.34 2220.17,-1148.85 2223.86,-1177.62 2227.54,-1206.64 2231.22,-1235.91 2234.9,-1265.44 2238.59,-1295.23 \n",
       "  2242.27,-1325.28 2245.95,-1355.58 2249.64,-1386.15 2253.32,-1416.97 2257,-1448.06 2260.68,-1479.41 2264.37,-1511.03 2268.05,-1542.91 2271.73,-1575.05 2275.42,-1607.46 \n",
       "  2279.1,-1640.14 2282.78,-1673.09 2286.46,-1706.31 2290.15,-1739.8 2293.83,-1773.56 2297.51,-1807.59 2301.2,-1841.9 2304.88,-1876.48 2308.56,-1911.33 2312.24,-1946.46 \n",
       "  2315.93,-1981.87 2319.61,-2017.56 2323.29,-2053.53 2326.98,-2089.77 2330.66,-2126.3 2334.34,-2163.11 2338.02,-2200.21 2341.71,-2237.58 2345.39,-2275.25 2349.07,-2313.19 \n",
       "  2352.76,-2351.43 2356.44,-2389.95 2360.12,-2428.76 2363.8,-2467.86 2367.49,-2507.26 2371.17,-2546.94 2374.85,-2586.92 2378.54,-2627.19 2382.22,-2667.75 2385.9,-2708.61 \n",
       "  2389.58,-2749.77 2393.27,-2791.22 2396.95,-2832.97 2400.63,-2875.03 2404.32,-2917.38 2408,-2960.03 2411.68,-3002.99 2415.36,-3046.25 2419.05,-3089.81 2422.73,-3133.68 \n",
       "  2426.41,-3177.85 2430.1,-3222.33 2433.78,-3267.12 2437.46,-3312.22 2441.14,-3357.63 2444.83,-3403.35 2448.51,-3449.38 2452.19,-3495.72 2455.88,-3542.38 2459.56,-3589.35 \n",
       "  2463.24,-3636.64 2466.92,-3684.24 2470.61,-3732.16 2474.29,-3780.4 2477.97,-3828.96 2481.66,-3877.84 2485.34,-3927.05 2489.02,-3976.57 2492.7,-4026.42 2496.39,-4076.59 \n",
       "  2500.07,-4127.09 2503.75,-4177.91 2507.44,-4229.06 2511.12,-4280.54 2514.8,-4332.35 2518.49,-4384.48 2522.17,-4436.95 2525.85,-4489.75 2529.53,-4542.89 2533.22,-4596.35 \n",
       "  2536.9,-4650.16 2540.58,-4704.3 2544.27,-4758.77 2547.95,-4813.58 2551.63,-4868.73 2555.31,-4924.23 2559,-4980.06 2562.68,-5036.23 2566.36,-5092.75 2570.05,-5149.61 \n",
       "  2573.73,-5206.81 2577.41,-5264.36 2581.09,-5322.25 2584.78,-5380.5 2588.46,-5439.09 2592.14,-5498.03 2595.83,-5557.32 2599.51,-5616.96 2603.19,-5676.95 2606.87,-5737.3 \n",
       "  2610.56,-5798 2614.24,-5859.06 2617.92,-5920.47 2621.61,-5982.24 2625.29,-6044.37 2628.97,-6106.85 2632.65,-6169.7 2636.34,-6232.9 2640.02,-6296.47 2643.7,-6360.4 \n",
       "  2647.39,-6424.7 2651.07,-6489.35 2654.75,-6554.38 2658.43,-6619.77 2662.12,-6685.53 2665.8,-6751.65 2669.48,-6818.15 2673.17,-6885.02 2676.85,-6952.26 2680.53,-7019.87 \n",
       "  2684.21,-7087.85 2687.9,-7156.21 2691.58,-7224.94 2695.26,-7294.05 2698.95,-7363.53 2702.63,-7433.4 2706.31,-7503.64 2709.99,-7574.26 2713.68,-7645.27 2717.36,-7716.65 \n",
       "  2721.04,-7788.42 \n",
       "  \"/>\n",
       "</svg>\n"
      ]
     },
     "execution_count": 84,
     "metadata": {},
     "output_type": "execute_result"
    }
   ],
   "source": [
    "f_newton_range = -3:0.01:4\n",
    "f_newton_error(x) = x^3 - 3*x + 3;\n",
    "\n",
    "\n",
    "\n",
    "plot(f_newton_range,f_newton_error, \n",
    "    xlims=(-3, 3), ylims=(-3, 6), \n",
    "    color = \"black\", label = \"\",\n",
    "    grid = true, gridalpha = 0.4\n",
    ")"
   ]
  },
  {
   "cell_type": "code",
   "execution_count": 94,
   "metadata": {},
   "outputs": [
    {
     "name": "stdout",
     "output_type": "stream",
     "text": [
      "-2.1038034027355366\n"
     ]
    },
    {
     "data": {
      "text/plain": [
       "true"
      ]
     },
     "execution_count": 94,
     "metadata": {},
     "output_type": "execute_result"
    }
   ],
   "source": [
    "x = find_zero(f_newton_error, (-2.4, 2), Bisection())\n",
    "println(x)\n",
    "isCorrectZero(f_newton_error, x)"
   ]
  },
  {
   "cell_type": "code",
   "execution_count": 99,
   "metadata": {},
   "outputs": [
    {
     "ename": "Roots.ConvergenceFailed",
     "evalue": "\u001b[91mRoots.ConvergenceFailed(\"Algorithm failed to converge\")\u001b[39m",
     "output_type": "error",
     "traceback": [
      "\u001b[91mRoots.ConvergenceFailed(\"Algorithm failed to converge\")\u001b[39m",
      "",
      "Stacktrace:",
      " [1] #find_zero#31 at /home/daniel/.julia/packages/Roots/fFrCB/src/find_zero.jl:217 [inlined]",
      " [2] find_zero(::Tuple{typeof(f_newton_error),var\"#21#22\"}, ::Int64, ::Roots.Newton) at /home/daniel/.julia/packages/Roots/fFrCB/src/find_zero.jl:215",
      " [3] top-level scope at In[99]:1"
     ]
    }
   ],
   "source": [
    "find_zero((f_newton_error, x -> ForwardDiff.derivative(f_newton_error, float(x))), 0, Roots.Newton())"
   ]
  },
  {
   "cell_type": "code",
   "execution_count": 101,
   "metadata": {},
   "outputs": [
    {
     "data": {
      "text/plain": [
       "-2.1038034027355366"
      ]
     },
     "execution_count": 101,
     "metadata": {},
     "output_type": "execute_result"
    }
   ],
   "source": [
    "find_zero((f_newton_error, x -> ForwardDiff.derivative(f_newton_error, float(x))), -1.5, Roots.Newton())"
   ]
  },
  {
   "cell_type": "markdown",
   "metadata": {},
   "source": [
    "\n",
    "\n",
    "Metoda Newtona działa na podstawie wyznaczenia każdego kolejnego punktu jako punkt przecięcia linii stycznej do funkcji f w punkcie x. W ten sposób przybliżamy się do pierwiastka. Jednak wybór punktu startowego może spowodować, że wpadniemy np. w lokalne ekstremum, w którym nie ma pierwiastka. W takim przypadku algorytm nie znajdzie pierwiastka.\n"
   ]
  },
  {
   "cell_type": "markdown",
   "metadata": {},
   "source": [
    "### Metoda siecznych:"
   ]
  },
  {
   "cell_type": "code",
   "execution_count": 107,
   "metadata": {},
   "outputs": [
    {
     "data": {
      "text/plain": [
       "-2"
      ]
     },
     "execution_count": 107,
     "metadata": {},
     "output_type": "execute_result"
    }
   ],
   "source": [
    "f_secant_range = -10:0.1:10\n",
    "f_secant_error(x) = (x^2 + 2x + 2)/(x^2 - 2x + 2);\n",
    "f_secant_x0 = -2"
   ]
  },
  {
   "cell_type": "code",
   "execution_count": 109,
   "metadata": {},
   "outputs": [
    {
     "data": {
      "image/svg+xml": [
       "<?xml version=\"1.0\" encoding=\"utf-8\"?>\n",
       "<svg xmlns=\"http://www.w3.org/2000/svg\" xmlns:xlink=\"http://www.w3.org/1999/xlink\" width=\"600\" height=\"400\" viewBox=\"0 0 2400 1600\">\n",
       "<defs>\n",
       "  <clipPath id=\"clip610\">\n",
       "    <rect x=\"0\" y=\"0\" width=\"2400\" height=\"1600\"/>\n",
       "  </clipPath>\n",
       "</defs>\n",
       "<path clip-path=\"url(#clip610)\" d=\"\n",
       "M0 1600 L2400 1600 L2400 0 L0 0  Z\n",
       "  \" fill=\"#ffffff\" fill-rule=\"evenodd\" fill-opacity=\"1\"/>\n",
       "<defs>\n",
       "  <clipPath id=\"clip611\">\n",
       "    <rect x=\"480\" y=\"0\" width=\"1681\" height=\"1600\"/>\n",
       "  </clipPath>\n",
       "</defs>\n",
       "<path clip-path=\"url(#clip610)\" d=\"\n",
       "M142.084 1486.45 L2352.76 1486.45 L2352.76 47.2441 L142.084 47.2441  Z\n",
       "  \" fill=\"#ffffff\" fill-rule=\"evenodd\" fill-opacity=\"1\"/>\n",
       "<defs>\n",
       "  <clipPath id=\"clip612\">\n",
       "    <rect x=\"142\" y=\"47\" width=\"2212\" height=\"1440\"/>\n",
       "  </clipPath>\n",
       "</defs>\n",
       "<polyline clip-path=\"url(#clip612)\" style=\"stroke:#000000; stroke-width:2; stroke-opacity:0.4; fill:none\" points=\"\n",
       "  142.084,1486.45 142.084,47.2441 \n",
       "  \"/>\n",
       "<polyline clip-path=\"url(#clip612)\" style=\"stroke:#000000; stroke-width:2; stroke-opacity:0.4; fill:none\" points=\"\n",
       "  694.752,1486.45 694.752,47.2441 \n",
       "  \"/>\n",
       "<polyline clip-path=\"url(#clip612)\" style=\"stroke:#000000; stroke-width:2; stroke-opacity:0.4; fill:none\" points=\"\n",
       "  1247.42,1486.45 1247.42,47.2441 \n",
       "  \"/>\n",
       "<polyline clip-path=\"url(#clip612)\" style=\"stroke:#000000; stroke-width:2; stroke-opacity:0.4; fill:none\" points=\"\n",
       "  1800.09,1486.45 1800.09,47.2441 \n",
       "  \"/>\n",
       "<polyline clip-path=\"url(#clip612)\" style=\"stroke:#000000; stroke-width:2; stroke-opacity:0.4; fill:none\" points=\"\n",
       "  2352.76,1486.45 2352.76,47.2441 \n",
       "  \"/>\n",
       "<polyline clip-path=\"url(#clip610)\" style=\"stroke:#000000; stroke-width:4; stroke-opacity:1; fill:none\" points=\"\n",
       "  142.084,1486.45 2352.76,1486.45 \n",
       "  \"/>\n",
       "<polyline clip-path=\"url(#clip610)\" style=\"stroke:#000000; stroke-width:4; stroke-opacity:1; fill:none\" points=\"\n",
       "  142.084,1486.45 142.084,1469.18 \n",
       "  \"/>\n",
       "<polyline clip-path=\"url(#clip610)\" style=\"stroke:#000000; stroke-width:4; stroke-opacity:1; fill:none\" points=\"\n",
       "  694.752,1486.45 694.752,1469.18 \n",
       "  \"/>\n",
       "<polyline clip-path=\"url(#clip610)\" style=\"stroke:#000000; stroke-width:4; stroke-opacity:1; fill:none\" points=\"\n",
       "  1247.42,1486.45 1247.42,1469.18 \n",
       "  \"/>\n",
       "<polyline clip-path=\"url(#clip610)\" style=\"stroke:#000000; stroke-width:4; stroke-opacity:1; fill:none\" points=\"\n",
       "  1800.09,1486.45 1800.09,1469.18 \n",
       "  \"/>\n",
       "<polyline clip-path=\"url(#clip610)\" style=\"stroke:#000000; stroke-width:4; stroke-opacity:1; fill:none\" points=\"\n",
       "  2352.76,1486.45 2352.76,1469.18 \n",
       "  \"/>\n",
       "<path clip-path=\"url(#clip610)\" d=\"M 0 0 M100.846 1530.29 L130.522 1530.29 L130.522 1534.23 L100.846 1534.23 L100.846 1530.29 Z\" fill=\"#000000\" fill-rule=\"evenodd\" fill-opacity=\"1\" /><path clip-path=\"url(#clip610)\" d=\"M 0 0 M136.402 1543.18 L144.04 1543.18 L144.04 1516.82 L135.73 1518.49 L135.73 1514.23 L143.994 1512.56 L148.67 1512.56 L148.67 1543.18 L156.309 1543.18 L156.309 1547.12 L136.402 1547.12 L136.402 1543.18 Z\" fill=\"#000000\" fill-rule=\"evenodd\" fill-opacity=\"1\" /><path clip-path=\"url(#clip610)\" d=\"M 0 0 M171.378 1515.64 Q167.767 1515.64 165.938 1519.2 Q164.133 1522.75 164.133 1529.87 Q164.133 1536.98 165.938 1540.55 Q167.767 1544.09 171.378 1544.09 Q175.012 1544.09 176.818 1540.55 Q178.647 1536.98 178.647 1529.87 Q178.647 1522.75 176.818 1519.2 Q175.012 1515.64 171.378 1515.64 M171.378 1511.93 Q177.188 1511.93 180.244 1516.54 Q183.323 1521.12 183.323 1529.87 Q183.323 1538.6 180.244 1543.21 Q177.188 1547.79 171.378 1547.79 Q165.568 1547.79 162.489 1543.21 Q159.434 1538.6 159.434 1529.87 Q159.434 1521.12 162.489 1516.54 Q165.568 1511.93 171.378 1511.93 Z\" fill=\"#000000\" fill-rule=\"evenodd\" fill-opacity=\"1\" /><path clip-path=\"url(#clip610)\" d=\"M 0 0 M666.905 1530.29 L696.581 1530.29 L696.581 1534.23 L666.905 1534.23 L666.905 1530.29 Z\" fill=\"#000000\" fill-rule=\"evenodd\" fill-opacity=\"1\" /><path clip-path=\"url(#clip610)\" d=\"M 0 0 M701.697 1512.56 L720.053 1512.56 L720.053 1516.5 L705.979 1516.5 L705.979 1524.97 Q706.998 1524.62 708.016 1524.46 Q709.035 1524.27 710.053 1524.27 Q715.84 1524.27 719.22 1527.44 Q722.599 1530.62 722.599 1536.03 Q722.599 1541.61 719.127 1544.71 Q715.655 1547.79 709.336 1547.79 Q707.16 1547.79 704.891 1547.42 Q702.646 1547.05 700.238 1546.31 L700.238 1541.61 Q702.322 1542.74 704.544 1543.3 Q706.766 1543.86 709.243 1543.86 Q713.248 1543.86 715.586 1541.75 Q717.923 1539.64 717.923 1536.03 Q717.923 1532.42 715.586 1530.31 Q713.248 1528.21 709.243 1528.21 Q707.368 1528.21 705.493 1528.62 Q703.641 1529.04 701.697 1529.92 L701.697 1512.56 Z\" fill=\"#000000\" fill-rule=\"evenodd\" fill-opacity=\"1\" /><path clip-path=\"url(#clip610)\" d=\"M 0 0 M1247.42 1515.64 Q1243.81 1515.64 1241.98 1519.2 Q1240.17 1522.75 1240.17 1529.87 Q1240.17 1536.98 1241.98 1540.55 Q1243.81 1544.09 1247.42 1544.09 Q1251.05 1544.09 1252.86 1540.55 Q1254.69 1536.98 1254.69 1529.87 Q1254.69 1522.75 1252.86 1519.2 Q1251.05 1515.64 1247.42 1515.64 M1247.42 1511.93 Q1253.23 1511.93 1256.29 1516.54 Q1259.36 1521.12 1259.36 1529.87 Q1259.36 1538.6 1256.29 1543.21 Q1253.23 1547.79 1247.42 1547.79 Q1241.61 1547.79 1238.53 1543.21 Q1235.48 1538.6 1235.48 1529.87 Q1235.48 1521.12 1238.53 1516.54 Q1241.61 1511.93 1247.42 1511.93 Z\" fill=\"#000000\" fill-rule=\"evenodd\" fill-opacity=\"1\" /><path clip-path=\"url(#clip610)\" d=\"M 0 0 M1790.37 1512.56 L1808.72 1512.56 L1808.72 1516.5 L1794.65 1516.5 L1794.65 1524.97 Q1795.67 1524.62 1796.69 1524.46 Q1797.7 1524.27 1798.72 1524.27 Q1804.51 1524.27 1807.89 1527.44 Q1811.27 1530.62 1811.27 1536.03 Q1811.27 1541.61 1807.8 1544.71 Q1804.32 1547.79 1798 1547.79 Q1795.83 1547.79 1793.56 1547.42 Q1791.31 1547.05 1788.91 1546.31 L1788.91 1541.61 Q1790.99 1542.74 1793.21 1543.3 Q1795.44 1543.86 1797.91 1543.86 Q1801.92 1543.86 1804.25 1541.75 Q1806.59 1539.64 1806.59 1536.03 Q1806.59 1532.42 1804.25 1530.31 Q1801.92 1528.21 1797.91 1528.21 Q1796.04 1528.21 1794.16 1528.62 Q1792.31 1529.04 1790.37 1529.92 L1790.37 1512.56 Z\" fill=\"#000000\" fill-rule=\"evenodd\" fill-opacity=\"1\" /><path clip-path=\"url(#clip610)\" d=\"M 0 0 M2329.63 1543.18 L2337.27 1543.18 L2337.27 1516.82 L2328.96 1518.49 L2328.96 1514.23 L2337.22 1512.56 L2341.9 1512.56 L2341.9 1543.18 L2349.54 1543.18 L2349.54 1547.12 L2329.63 1547.12 L2329.63 1543.18 Z\" fill=\"#000000\" fill-rule=\"evenodd\" fill-opacity=\"1\" /><path clip-path=\"url(#clip610)\" d=\"M 0 0 M2364.61 1515.64 Q2361 1515.64 2359.17 1519.2 Q2357.36 1522.75 2357.36 1529.87 Q2357.36 1536.98 2359.17 1540.55 Q2361 1544.09 2364.61 1544.09 Q2368.24 1544.09 2370.05 1540.55 Q2371.88 1536.98 2371.88 1529.87 Q2371.88 1522.75 2370.05 1519.2 Q2368.24 1515.64 2364.61 1515.64 M2364.61 1511.93 Q2370.42 1511.93 2373.47 1516.54 Q2376.55 1521.12 2376.55 1529.87 Q2376.55 1538.6 2373.47 1543.21 Q2370.42 1547.79 2364.61 1547.79 Q2358.8 1547.79 2355.72 1543.21 Q2352.66 1538.6 2352.66 1529.87 Q2352.66 1521.12 2355.72 1516.54 Q2358.8 1511.93 2364.61 1511.93 Z\" fill=\"#000000\" fill-rule=\"evenodd\" fill-opacity=\"1\" /><polyline clip-path=\"url(#clip612)\" style=\"stroke:#000000; stroke-width:2; stroke-opacity:0.4; fill:none\" points=\"\n",
       "  142.084,1486.45 2352.76,1486.45 \n",
       "  \"/>\n",
       "<polyline clip-path=\"url(#clip612)\" style=\"stroke:#000000; stroke-width:2; stroke-opacity:0.4; fill:none\" points=\"\n",
       "  142.084,1126.65 2352.76,1126.65 \n",
       "  \"/>\n",
       "<polyline clip-path=\"url(#clip612)\" style=\"stroke:#000000; stroke-width:2; stroke-opacity:0.4; fill:none\" points=\"\n",
       "  142.084,766.846 2352.76,766.846 \n",
       "  \"/>\n",
       "<polyline clip-path=\"url(#clip612)\" style=\"stroke:#000000; stroke-width:2; stroke-opacity:0.4; fill:none\" points=\"\n",
       "  142.084,407.045 2352.76,407.045 \n",
       "  \"/>\n",
       "<polyline clip-path=\"url(#clip612)\" style=\"stroke:#000000; stroke-width:2; stroke-opacity:0.4; fill:none\" points=\"\n",
       "  142.084,47.2441 2352.76,47.2441 \n",
       "  \"/>\n",
       "<polyline clip-path=\"url(#clip610)\" style=\"stroke:#000000; stroke-width:4; stroke-opacity:1; fill:none\" points=\"\n",
       "  142.084,1486.45 142.084,47.2441 \n",
       "  \"/>\n",
       "<polyline clip-path=\"url(#clip610)\" style=\"stroke:#000000; stroke-width:4; stroke-opacity:1; fill:none\" points=\"\n",
       "  142.084,1486.45 168.612,1486.45 \n",
       "  \"/>\n",
       "<polyline clip-path=\"url(#clip610)\" style=\"stroke:#000000; stroke-width:4; stroke-opacity:1; fill:none\" points=\"\n",
       "  142.084,1126.65 168.612,1126.65 \n",
       "  \"/>\n",
       "<polyline clip-path=\"url(#clip610)\" style=\"stroke:#000000; stroke-width:4; stroke-opacity:1; fill:none\" points=\"\n",
       "  142.084,766.846 168.612,766.846 \n",
       "  \"/>\n",
       "<polyline clip-path=\"url(#clip610)\" style=\"stroke:#000000; stroke-width:4; stroke-opacity:1; fill:none\" points=\"\n",
       "  142.084,407.045 168.612,407.045 \n",
       "  \"/>\n",
       "<polyline clip-path=\"url(#clip610)\" style=\"stroke:#000000; stroke-width:4; stroke-opacity:1; fill:none\" points=\"\n",
       "  142.084,47.2441 168.612,47.2441 \n",
       "  \"/>\n",
       "<path clip-path=\"url(#clip610)\" d=\"M 0 0 M50.9921 1486.9 L80.6679 1486.9 L80.6679 1490.83 L50.9921 1490.83 L50.9921 1486.9 Z\" fill=\"#000000\" fill-rule=\"evenodd\" fill-opacity=\"1\" /><path clip-path=\"url(#clip610)\" d=\"M 0 0 M89.7651 1499.79 L106.084 1499.79 L106.084 1503.73 L84.1401 1503.73 L84.1401 1499.79 Q86.8021 1497.04 91.3854 1492.41 Q95.9919 1487.76 97.1724 1486.41 Q99.4178 1483.89 100.297 1482.15 Q101.2 1480.39 101.2 1478.7 Q101.2 1475.95 99.2558 1474.21 Q97.3345 1472.48 94.2326 1472.48 Q92.0336 1472.48 89.5799 1473.24 Q87.1493 1474.01 84.3716 1475.56 L84.3716 1470.83 Q87.1956 1469.7 89.6493 1469.12 Q92.103 1468.54 94.14 1468.54 Q99.5104 1468.54 102.705 1471.23 Q105.899 1473.91 105.899 1478.4 Q105.899 1480.53 105.089 1482.45 Q104.302 1484.35 102.196 1486.95 Q101.617 1487.62 98.515 1490.83 Q95.4132 1494.03 89.7651 1499.79 Z\" fill=\"#000000\" fill-rule=\"evenodd\" fill-opacity=\"1\" /><path clip-path=\"url(#clip610)\" d=\"M 0 0 M94.14 1112.45 Q90.529 1112.45 88.7003 1116.01 Q86.8947 1119.55 86.8947 1126.68 Q86.8947 1133.79 88.7003 1137.35 Q90.529 1140.89 94.14 1140.89 Q97.7743 1140.89 99.5798 1137.35 Q101.409 1133.79 101.409 1126.68 Q101.409 1119.55 99.5798 1116.01 Q97.7743 1112.45 94.14 1112.45 M94.14 1108.74 Q99.9502 1108.74 103.006 1113.35 Q106.084 1117.93 106.084 1126.68 Q106.084 1135.41 103.006 1140.01 Q99.9502 1144.6 94.14 1144.6 Q88.3299 1144.6 85.2512 1140.01 Q82.1957 1135.41 82.1957 1126.68 Q82.1957 1117.93 85.2512 1113.35 Q88.3299 1108.74 94.14 1108.74 Z\" fill=\"#000000\" fill-rule=\"evenodd\" fill-opacity=\"1\" /><path clip-path=\"url(#clip610)\" d=\"M 0 0 M89.7651 780.191 L106.084 780.191 L106.084 784.126 L84.1401 784.126 L84.1401 780.191 Q86.8021 777.436 91.3854 772.807 Q95.9919 768.154 97.1724 766.811 Q99.4178 764.288 100.297 762.552 Q101.2 760.793 101.2 759.103 Q101.2 756.348 99.2558 754.612 Q97.3345 752.876 94.2326 752.876 Q92.0336 752.876 89.5799 753.64 Q87.1493 754.404 84.3716 755.955 L84.3716 751.233 Q87.1956 750.098 89.6493 749.52 Q92.103 748.941 94.14 748.941 Q99.5104 748.941 102.705 751.626 Q105.899 754.311 105.899 758.802 Q105.899 760.932 105.089 762.853 Q104.302 764.751 102.196 767.344 Q101.617 768.015 98.515 771.233 Q95.4132 774.427 89.7651 780.191 Z\" fill=\"#000000\" fill-rule=\"evenodd\" fill-opacity=\"1\" /><path clip-path=\"url(#clip610)\" d=\"M 0 0 M96.5011 393.839 L84.6956 412.288 L96.5011 412.288 L96.5011 393.839 M95.2743 389.765 L101.154 389.765 L101.154 412.288 L106.084 412.288 L106.084 416.177 L101.154 416.177 L101.154 424.325 L96.5011 424.325 L96.5011 416.177 L80.8994 416.177 L80.8994 411.663 L95.2743 389.765 Z\" fill=\"#000000\" fill-rule=\"evenodd\" fill-opacity=\"1\" /><path clip-path=\"url(#clip610)\" d=\"M 0 0 M94.5567 45.3807 Q91.4086 45.3807 89.5567 47.5334 Q87.728 49.6862 87.728 53.4362 Q87.728 57.163 89.5567 59.3389 Q91.4086 61.4917 94.5567 61.4917 Q97.7048 61.4917 99.5335 59.3389 Q101.385 57.163 101.385 53.4362 Q101.385 49.6862 99.5335 47.5334 Q97.7048 45.3807 94.5567 45.3807 M103.839 30.728 L103.839 34.9872 Q102.08 34.1539 100.274 33.7141 Q98.4919 33.2743 96.7326 33.2743 Q92.103 33.2743 89.6493 36.3992 Q87.2188 39.5242 86.8716 45.8436 Q88.2373 43.8298 90.2975 42.765 Q92.3576 41.677 94.8345 41.677 Q100.043 41.677 103.052 44.8483 Q106.084 47.9964 106.084 53.4362 Q106.084 58.7602 102.936 61.9778 Q99.7882 65.1954 94.5567 65.1954 Q88.5614 65.1954 85.3901 60.6121 Q82.2188 56.0056 82.2188 47.2788 Q82.2188 39.0844 86.1077 34.2233 Q89.9965 29.3391 96.5474 29.3391 Q98.3067 29.3391 100.089 29.6863 Q101.895 30.0335 103.839 30.728 Z\" fill=\"#000000\" fill-rule=\"evenodd\" fill-opacity=\"1\" /><polyline clip-path=\"url(#clip612)\" style=\"stroke:#000000; stroke-width:4; stroke-opacity:1; fill:none\" points=\"\n",
       "  142.084,1005.73 153.138,1006.21 164.191,1006.69 175.244,1007.19 186.298,1007.69 197.351,1008.2 208.405,1008.71 219.458,1009.24 230.511,1009.77 241.565,1010.32 \n",
       "  252.618,1010.87 263.671,1011.43 274.725,1012 285.778,1012.58 296.831,1013.18 307.885,1013.78 318.938,1014.39 329.991,1015.01 341.045,1015.65 352.098,1016.29 \n",
       "  363.152,1016.95 374.205,1017.62 385.258,1018.3 396.312,1019 407.365,1019.71 418.418,1020.43 429.472,1021.16 440.525,1021.91 451.578,1022.67 462.632,1023.45 \n",
       "  473.685,1024.24 484.739,1025.05 495.792,1025.87 506.845,1026.72 517.899,1027.57 528.952,1028.45 540.005,1029.34 551.059,1030.25 562.112,1031.18 573.165,1032.13 \n",
       "  584.219,1033.1 595.272,1034.09 606.325,1035.1 617.379,1036.13 628.432,1037.18 639.486,1038.26 650.539,1039.35 661.592,1040.48 672.646,1041.62 683.699,1042.79 \n",
       "  694.752,1043.99 705.806,1045.21 716.859,1046.46 727.912,1047.74 738.966,1049.04 750.019,1050.37 761.072,1051.73 772.126,1053.12 783.179,1054.53 794.233,1055.98 \n",
       "  805.286,1057.45 816.339,1058.96 827.393,1060.49 838.446,1062.06 849.499,1063.65 860.553,1065.27 871.606,1066.92 882.659,1068.59 893.713,1070.28 904.766,1072 \n",
       "  915.819,1073.74 926.873,1075.48 937.926,1077.24 948.98,1079.01 960.033,1080.77 971.086,1082.52 982.14,1084.25 993.193,1085.95 1004.25,1087.59 1015.3,1089.17 \n",
       "  1026.35,1090.67 1037.41,1092.04 1048.46,1093.27 1059.51,1094.31 1070.57,1095.12 1081.62,1095.63 1092.67,1095.78 1103.73,1095.47 1114.78,1094.61 1125.83,1093.06 \n",
       "  1136.89,1090.67 1147.94,1087.23 1158.99,1082.52 1170.05,1076.24 1181.1,1068.03 1192.15,1057.45 1203.21,1043.99 1214.26,1027 1225.31,1005.73 1236.37,979.308 \n",
       "  1247.42,946.746 1258.47,906.989 1269.53,858.99 1280.58,801.86 1291.63,735.099 1302.69,658.906 1313.74,574.539 1324.79,484.617 1335.85,393.207 1346.9,305.517 \n",
       "  1357.95,227.145 1369.01,163.022 1380.06,116.437 1391.11,88.5057 1402.17,78.2614 1413.22,83.2242 1424.27,100.156 1435.33,125.724 1446.38,156.94 1457.43,191.363 \n",
       "  1468.49,227.145 1479.54,262.962 1490.59,297.925 1501.65,331.473 1512.7,363.285 1523.75,393.207 1534.81,421.195 1545.86,447.28 1556.91,471.538 1567.97,494.068 \n",
       "  1579.02,514.985 1590.07,534.405 1601.13,552.444 1612.18,569.213 1623.23,584.817 1634.29,599.352 1645.34,612.911 1656.39,625.573 1667.45,637.415 1678.5,648.506 \n",
       "  1689.55,658.906 1700.61,668.672 1711.66,677.856 1722.71,686.504 1733.77,694.657 1744.82,702.353 1755.87,709.628 1766.93,716.513 1777.98,723.036 1789.03,729.223 \n",
       "  1800.09,735.099 1811.14,740.684 1822.19,745.999 1833.25,751.062 1844.3,755.889 1855.35,760.497 1866.41,764.898 1877.46,769.105 1888.51,773.132 1899.57,776.988 \n",
       "  1910.62,780.684 1921.67,784.23 1932.73,787.633 1943.78,790.903 1954.84,794.046 1965.89,797.069 1976.94,799.98 1988,802.783 1999.05,805.485 2010.1,808.091 \n",
       "  2021.16,810.606 2032.21,813.033 2043.26,815.379 2054.32,817.646 2065.37,819.839 2076.42,821.96 2087.48,824.014 2098.53,826.003 2109.58,827.93 2120.64,829.798 \n",
       "  2131.69,831.61 2142.74,833.368 2153.8,835.075 2164.85,836.732 2175.9,838.342 2186.96,839.906 2198.01,841.427 2209.06,842.906 2220.12,844.345 2231.17,845.746 \n",
       "  2242.22,847.109 2253.28,848.437 2264.33,849.731 2275.38,850.992 2286.44,852.221 2297.49,853.419 2308.54,854.588 2319.6,855.729 2330.65,856.842 2341.7,857.929 \n",
       "  2352.76,858.99 \n",
       "  \"/>\n",
       "<path clip-path=\"url(#clip610)\" d=\"\n",
       "M1961.31 216.178 L2279.07 216.178 L2279.07 95.2176 L1961.31 95.2176  Z\n",
       "  \" fill=\"#ffffff\" fill-rule=\"evenodd\" fill-opacity=\"1\"/>\n",
       "<polyline clip-path=\"url(#clip610)\" style=\"stroke:#000000; stroke-width:4; stroke-opacity:1; fill:none\" points=\"\n",
       "  1961.31,216.178 2279.07,216.178 2279.07,95.2176 1961.31,95.2176 1961.31,216.178 \n",
       "  \"/>\n",
       "<polyline clip-path=\"url(#clip610)\" style=\"stroke:#000000; stroke-width:4; stroke-opacity:1; fill:none\" points=\"\n",
       "  1985.87,155.698 2133.25,155.698 \n",
       "  \"/>\n",
       "<path clip-path=\"url(#clip610)\" d=\"M 0 0 M2174.32 136.959 L2174.32 140.501 L2170.24 140.501 Q2167.95 140.501 2167.05 141.427 Q2166.17 142.353 2166.17 144.76 L2166.17 147.052 L2173.18 147.052 L2173.18 150.362 L2166.17 150.362 L2166.17 172.978 L2161.89 172.978 L2161.89 150.362 L2157.81 150.362 L2157.81 147.052 L2161.89 147.052 L2161.89 145.246 Q2161.89 140.918 2163.9 138.95 Q2165.91 136.959 2170.29 136.959 L2174.32 136.959 Z\" fill=\"#000000\" fill-rule=\"evenodd\" fill-opacity=\"1\" /><path clip-path=\"url(#clip610)\" d=\"M 0 0 M2189.02 137.006 Q2185.91 142.33 2184.41 147.538 Q2182.9 152.746 2182.9 158.093 Q2182.9 163.441 2184.41 168.695 Q2185.94 173.927 2189.02 179.228 L2185.31 179.228 Q2181.84 173.788 2180.1 168.533 Q2178.39 163.279 2178.39 158.093 Q2178.39 152.931 2180.1 147.7 Q2181.82 142.468 2185.31 137.006 L2189.02 137.006 Z\" fill=\"#000000\" fill-rule=\"evenodd\" fill-opacity=\"1\" /><path clip-path=\"url(#clip610)\" d=\"M 0 0 M2215.03 147.052 L2205.66 159.667 L2215.52 172.978 L2210.5 172.978 L2202.95 162.792 L2195.4 172.978 L2190.38 172.978 L2200.45 159.413 L2191.24 147.052 L2196.26 147.052 L2203.14 156.288 L2210.01 147.052 L2215.03 147.052 Z\" fill=\"#000000\" fill-rule=\"evenodd\" fill-opacity=\"1\" /><path clip-path=\"url(#clip610)\" d=\"M 0 0 M2219.32 137.006 L2223.02 137.006 Q2226.49 142.468 2228.2 147.7 Q2229.94 152.931 2229.94 158.093 Q2229.94 163.279 2228.2 168.533 Q2226.49 173.788 2223.02 179.228 L2219.32 179.228 Q2222.39 173.927 2223.9 168.695 Q2225.43 163.441 2225.43 158.093 Q2225.43 152.746 2223.9 147.538 Q2222.39 142.33 2219.32 137.006 Z\" fill=\"#000000\" fill-rule=\"evenodd\" fill-opacity=\"1\" /></svg>\n"
      ]
     },
     "execution_count": 109,
     "metadata": {},
     "output_type": "execute_result"
    }
   ],
   "source": [
    "plot(f_secant_range,f_secant_error, \n",
    "    xlims=(-10, 10), ylims=(-2, 6), \n",
    "    color = \"black\", label = \"f(x)\",\n",
    "    grid = true, gridalpha = 0.4\n",
    ")"
   ]
  },
  {
   "cell_type": "code",
   "execution_count": 105,
   "metadata": {},
   "outputs": [
    {
     "data": {
      "text/plain": [
       "Results of univariate zero finding:\n",
       "\n",
       "* Convergence failed: \n",
       "* Algorithm Secant()\n",
       "\n",
       "Trace:\n",
       "x₁ = -1.9999939444722106,\t fx₁ = 0.19999951555895026\n",
       "x₂ = -2,\t fx₂ = 0.20000000000000001\n",
       "x₃ = -1.9993944472210572,\t fx₃ = 0.19995156751793952\n",
       "x₄ = -1.9388391693267764,\t fx₄ = 0.19523324518726415\n",
       "x₅ = -1.8830022297196667,\t fx₅ = 0.19112434709606699\n",
       "x₆ = -1.8412928307256533,\t fx₆ = 0.18822704606435364\n",
       "x₇ = -1.8034900476901377,\t fx₇ = 0.18574251052962051\n",
       "x₈ = -1.770120539853941,\t fx₈ = 0.18367131976851178\n",
       "x₉ = -1.7376604672358098,\t fx₉ = 0.18177540633714287\n",
       "\n"
      ]
     },
     "metadata": {},
     "output_type": "display_data"
    },
    {
     "ename": "Roots.ConvergenceFailed",
     "evalue": "\u001b[91mRoots.ConvergenceFailed(\"Algorithm failed to converge\")\u001b[39m",
     "output_type": "error",
     "traceback": [
      "\u001b[91mRoots.ConvergenceFailed(\"Algorithm failed to converge\")\u001b[39m",
      "",
      "Stacktrace:",
      " [1] find_zero(::Function, ::Int64, ::Order0; p::Nothing, verbose::Bool, tracks::Roots.NullTracks, kwargs::Base.Iterators.Pairs{Union{},Union{},Tuple{},NamedTuple{(),Tuple{}}}) at /home/daniel/.julia/packages/Roots/fFrCB/src/find_zero.jl:217",
      " [2] #find_zero#32 at /home/daniel/.julia/packages/Roots/fFrCB/src/find_zero.jl:230 [inlined]",
      " [3] top-level scope at In[105]:1"
     ]
    }
   ],
   "source": [
    "find_zero(\n",
    "    f_secant_error, \n",
    "    f_secant_x0,   \n",
    "    verbose=true\n",
    "    )"
   ]
  },
  {
   "cell_type": "markdown",
   "metadata": {},
   "source": [
    "# ZADANIE B\n",
    "\n",
    "Narysować wstegę Newtona i objaśnić, w jaki sposób powstała i jaki jest jej związek z metodą Newtona do znajdowania pierwiastków. Sposób i język - dowolny. (1 pkt)"
   ]
  },
  {
   "cell_type": "code",
   "execution_count": null,
   "metadata": {},
   "outputs": [],
   "source": []
  }
 ],
 "metadata": {
  "kernelspec": {
   "display_name": "Julia 1.4.1",
   "language": "julia",
   "name": "julia-1.4"
  },
  "language_info": {
   "file_extension": ".jl",
   "mimetype": "application/julia",
   "name": "julia",
   "version": "1.4.1"
  }
 },
 "nbformat": 4,
 "nbformat_minor": 2
}
